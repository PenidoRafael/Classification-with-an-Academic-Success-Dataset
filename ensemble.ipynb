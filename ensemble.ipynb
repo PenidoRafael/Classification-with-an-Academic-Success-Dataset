{
 "cells": [
  {
   "cell_type": "code",
   "execution_count": 90,
   "metadata": {},
   "outputs": [
    {
     "name": "stdout",
     "output_type": "stream",
     "text": [
      "['lgbm_1', 'xgb_2', 'xgb_1', 'autoGluon_1', 'cat_2', 'lgbm_2', 'faml_1', 'cat_1']\n"
     ]
    }
   ],
   "source": [
    "import pandas as pd\n",
    "import warnings\n",
    "import numpy as np\n",
    "import seaborn as sns\n",
    "import optuna\n",
    "import os\n",
    "from sklearn.linear_model import LogisticRegression\n",
    "from xgboost import XGBClassifier\n",
    "\n",
    "from sklearn.metrics import accuracy_score\n",
    "import matplotlib.pyplot as plt\n",
    "\n",
    "from datetime import datetime\n",
    "\n",
    "now = datetime.now()\n",
    "NOW_STR = f'{now.year}_{now.month}_{now.day}'\n",
    "\n",
    "# Definir estilo do seaborn\n",
    "sns.set_theme(style=\"whitegrid\")\n",
    "\n",
    "\n",
    "SEED = 42 # Muito importante manter a SEED igual em todos os modelos para garantir a consistência dos dados no ensemble\n",
    "FOLDS = 5 # Muito importante manter o mesmo número de FOLDS em todos os modelos para garantir a consistência dos dados no ensemble\n",
    "\n",
    "PATH = 'models/' # Caminho para os modelos\n",
    "CLASSES = [\"Enrolled\",\"Graduate\", \"Dropout\"]\n",
    "\n",
    "scores = {} # Dicionário para armazenar os scores de estratégia de ensemble\n",
    "\n",
    "# Listar todos os diretórios na pasta especificada\n",
    "directories = [d for d in os.listdir(PATH) if os.path.isdir(os.path.join(PATH, d))]\n",
    "individual_models = directories.copy()\n",
    "print(directories)"
   ]
  },
  {
   "cell_type": "code",
   "execution_count": 91,
   "metadata": {},
   "outputs": [],
   "source": [
    "sub = pd.read_csv('src/test/sample_submission.csv', index_col='id')"
   ]
  },
  {
   "cell_type": "code",
   "execution_count": 92,
   "metadata": {},
   "outputs": [],
   "source": [
    "import numpy as np\n",
    "import pandas as pd\n",
    "\n",
    "class SoftVotingClassifier:\n",
    "    def __init__(self, classifiers, classes):\n",
    "\n",
    "        self.classifiers = classifiers\n",
    "        self.classes = classes\n",
    "        self.nclasses = len(classes)\n",
    "\n",
    "    def fit(self, X, y):\n",
    "        pass\n",
    "    \n",
    "    def predict(self, df):\n",
    "\n",
    "        prob_sum = np.zeros((len(df), self.nclasses))\n",
    "\n",
    "        self.classes_cols = []\n",
    "        for i, classe in enumerate(self.classes):\n",
    "            self.classes_cols.append([col for col in df.columns if col.endswith(classe)])\n",
    "            prob_sum[:,i] = df[self.classes_cols[i]].sum(axis=1)\n",
    "\n",
    "        # Normaliza as probabilidades somadas\n",
    "        prob_sum /= len(self.classifiers)\n",
    "        \n",
    "        # Predição final é a classe com a maior probabilidade\n",
    "        # predictions = self.classes[np.argmax(prob_sum, axis=1)]\n",
    "        predictions = np.argmax(prob_sum, axis=1)\n",
    "        \n",
    "        return predictions\n"
   ]
  },
  {
   "cell_type": "code",
   "execution_count": 93,
   "metadata": {},
   "outputs": [],
   "source": [
    "def build_dfs(directories):\n",
    "\n",
    "    folds = []\n",
    "\n",
    "    for i in range(FOLDS):\n",
    "\n",
    "        models_predictions = []\n",
    "\n",
    "        for model in directories:\n",
    "            # Carregar o modelo\n",
    "            df = pd.read_csv(f'{PATH}{model}/oof/fold_{i+1}.csv')\n",
    "            columns = df.columns\n",
    "            df.columns = [f'{model}_{col}' for col in columns]\n",
    "            df.rename(columns={f'{model}_true': 'true_label'}, inplace=True)\n",
    "            models_predictions.append(df)\n",
    "\n",
    "        # Concatenar as previsões de todos os modelos\n",
    "        df = pd.concat(models_predictions, axis=1)\n",
    "        df = df.loc[:, ~df.columns.duplicated(keep='last')] # Remover colunas duplicadas(true label)\n",
    "        folds.append(df)\n",
    "\n",
    "\n",
    "    return folds"
   ]
  },
  {
   "cell_type": "code",
   "execution_count": 94,
   "metadata": {},
   "outputs": [],
   "source": [
    "def build_test_set(directories):\n",
    "\n",
    "    models_predictions = []\n",
    "\n",
    "    for model in directories:\n",
    "        # Carregar o modelo\n",
    "        df = pd.read_csv(f'{PATH}{model}/test/test_pred.csv')\n",
    "        columns = df.columns\n",
    "        df.columns = [f'{model}_{col}' for col in columns]\n",
    "        models_predictions.append(df)\n",
    "\n",
    "    # Concatenar as previsões de todos os modelos\n",
    "    df = pd.concat(models_predictions, axis=1)\n",
    "\n",
    "    return df"
   ]
  },
  {
   "cell_type": "code",
   "execution_count": 95,
   "metadata": {},
   "outputs": [],
   "source": [
    "def cross_validation(model, folds, target_column='true_label', scoring=accuracy_score, verbose=1):\n",
    "    scores = []\n",
    "    \n",
    "    for i, fold in enumerate(folds):\n",
    "\n",
    "        if verbose == 1:\n",
    "            print(f\"Fold {i + 1}\")\n",
    "        \n",
    "        # Separando o conjunto de treino e validação\n",
    "        train_folds = folds[:i] + folds[i+1:]\n",
    "        val_fold = fold\n",
    "        \n",
    "        # Concatenando os DataFrames de treino\n",
    "        train_df = pd.concat(train_folds, ignore_index=True)\n",
    "        \n",
    "        # Separando as features e o target\n",
    "        X_train = train_df.drop(columns=[target_column])\n",
    "        y_train = train_df[target_column]\n",
    "        \n",
    "        X_val = val_fold.drop(columns=[target_column])\n",
    "        y_val = val_fold[target_column]\n",
    "        \n",
    "        # Treinando o modelo\n",
    "        model.fit(X_train, y_train)\n",
    "        \n",
    "        # Fazendo previsões no conjunto de validação\n",
    "        y_pred = model.predict(X_val)\n",
    "        \n",
    "        # Calculando a métrica de avaliação\n",
    "        score = scoring(y_val, y_pred)\n",
    "        scores.append(score)\n",
    "                \n",
    "    if verbose == 1:\n",
    "        print(f\"Score: {np.mean(scores)}\")\n",
    "    \n",
    "    return scores"
   ]
  },
  {
   "cell_type": "code",
   "execution_count": 96,
   "metadata": {},
   "outputs": [],
   "source": [
    "def summarize_models(scores, models, folds, encoder, scoring=accuracy_score):\n",
    "\n",
    "    models_scores = {}\n",
    "    \n",
    "    for model in models:\n",
    "        model_scores = []\n",
    "\n",
    "        for fold in folds:\n",
    "            model_cols = [col for col in fold.columns if col.startswith(model)]\n",
    "            y_true = fold['true_label'].map(encoder)\n",
    "            y_pred = fold[model_cols].idxmax(axis=1).apply(lambda x: x.split('_')[-1])\n",
    "\n",
    "            score = scoring(y_true, y_pred)\n",
    "            model_scores.append(score)\n",
    "        \n",
    "        models_scores[model] = model_scores\n",
    "\n",
    "    scores.update(models_scores)\n",
    "    \n",
    "    means = {key: np.mean(value) for key, value in scores.items()}\n",
    "\n",
    "    # Preparar dados para o gráfico\n",
    "    keys = list(means.keys())\n",
    "    values = list(means.values())\n",
    "\n",
    "    # Criar DataFrame e ordenar pelos valores de forma decrescente\n",
    "    data = pd.DataFrame({'Keys': keys, 'Mean Values': values})\n",
    "    data = data.sort_values(by='Mean Values', ascending=False)\n",
    "\n",
    "    # Plotar gráfico de barras horizontal\n",
    "    plt.figure(figsize=(10, 5))\n",
    "    ax = sns.barplot(x='Mean Values', y='Keys', data=data, palette='viridis')\n",
    "\n",
    "    # Adicionar valores ao lado de cada barra\n",
    "    for index, value in enumerate(data['Mean Values']):\n",
    "        ax.text(value, index, f'{value:.4f}', color='black', va=\"center\")\n",
    "\n",
    "    plt.xlim(min(values) * 0.995, max(values) * 1.001)  # Ajustar a escala do eixo x para ser 10% maior que o valor máximo\n",
    "\n",
    "    plt.xlabel('Score')\n",
    "    plt.ylabel('Model')\n",
    "    plt.title('Accuracy Score of Models')\n",
    "\n",
    "    plt.show()"
   ]
  },
  {
   "cell_type": "code",
   "execution_count": 97,
   "metadata": {},
   "outputs": [],
   "source": [
    "def predict_test(name, model, folds, X_test, encoder, sample_sub):\n",
    "\n",
    "    train = pd.concat(folds, ignore_index=True)\n",
    "\n",
    "    y_train = train.pop('true_label')\n",
    "    X_train = train\n",
    "\n",
    "    model.fit(X_train, y_train)\n",
    "\n",
    "    pred = model.predict(X_test)\n",
    "    map_func = np.vectorize(lambda x: encoder[x])\n",
    "    pred_mapped = map_func(pred)\n",
    "\n",
    "    sample_sub['Target'] = pred_mapped\n",
    "\n",
    "    os.makedirs('submission', exist_ok=True)\n",
    "\n",
    "    sample_sub.to_csv(f'submission/{name}-{NOW_STR}.csv')\n",
    "\n",
    "    return sample_sub"
   ]
  },
  {
   "cell_type": "code",
   "execution_count": 98,
   "metadata": {},
   "outputs": [],
   "source": [
    "folds = build_dfs(directories)\n",
    "test = build_test_set(directories)"
   ]
  },
  {
   "cell_type": "code",
   "execution_count": 99,
   "metadata": {},
   "outputs": [
    {
     "name": "stderr",
     "output_type": "stream",
     "text": [
      "/tmp/ipykernel_696688/1491444694.py:2: FutureWarning: Downcasting behavior in `replace` is deprecated and will be removed in a future version. To retain the old behavior, explicitly call `result.infer_objects(copy=False)`. To opt-in to the future behavior, set `pd.set_option('future.no_silent_downcasting', True)`\n",
      "  fold['true_label'] = fold['true_label'].replace({\"Enrolled\": 0, \"Graduate\": 1, \"Dropout\": 2})\n"
     ]
    }
   ],
   "source": [
    "for fold in folds:\n",
    "    fold['true_label'] = fold['true_label'].replace({\"Enrolled\": 0, \"Graduate\": 1, \"Dropout\": 2})\n",
    "\n",
    "encoder = {0: \"Enrolled\", 1: \"Graduate\", 2: \"Dropout\"}"
   ]
  },
  {
   "cell_type": "code",
   "execution_count": 100,
   "metadata": {},
   "outputs": [
    {
     "name": "stdout",
     "output_type": "stream",
     "text": [
      "Fold 1\n",
      "Fold 2\n",
      "Fold 3\n",
      "Fold 4\n",
      "Fold 5\n",
      "Score: 0.8326332244774222\n"
     ]
    }
   ],
   "source": [
    "logreg_best_params = {'C': 0.0008211450746102205, 'solver': 'sag', 'multi_class': 'multinomial'}\n",
    "\n",
    "logreg = LogisticRegression(**logreg_best_params)\n",
    "\n",
    "scores['logreg_ensemble'] = cross_validation(logreg, folds)"
   ]
  },
  {
   "cell_type": "code",
   "execution_count": 101,
   "metadata": {},
   "outputs": [
    {
     "name": "stdout",
     "output_type": "stream",
     "text": [
      "Fold 1\n",
      "Fold 2\n",
      "Fold 3\n",
      "Fold 4\n",
      "Fold 5\n",
      "Score: 0.8300758370937762\n"
     ]
    }
   ],
   "source": [
    "xgb = XGBClassifier(random_state=42)\n",
    "\n",
    "scores['xgb_ensemble']  = cross_validation(xgb, folds)"
   ]
  },
  {
   "cell_type": "code",
   "execution_count": 102,
   "metadata": {},
   "outputs": [
    {
     "name": "stdout",
     "output_type": "stream",
     "text": [
      "Fold 1\n",
      "Fold 2\n",
      "Fold 3\n",
      "Fold 4\n",
      "Fold 5\n",
      "Score: 0.8326949986311162\n"
     ]
    }
   ],
   "source": [
    "svc = SoftVotingClassifier(directories, CLASSES)\n",
    "\n",
    "scores['svc_ensemble']  = cross_validation(svc, folds, scoring=accuracy_score)"
   ]
  },
  {
   "cell_type": "code",
   "execution_count": 103,
   "metadata": {},
   "outputs": [
    {
     "data": {
      "image/png": "[encoded data removed]",
      "text/plain": [
       "<Figure size 1000x500 with 1 Axes>"
      ]
     },
     "metadata": {},
     "output_type": "display_data"
    }
   ],
   "source": [
    "summarize_models(scores, individual_models, folds, encoder)"
   ]
  },
  {
   "cell_type": "code",
   "execution_count": 104,
   "metadata": {},
   "outputs": [],
   "source": [
    "# # Definir a função objetivo\n",
    "# def objective(trial):\n",
    "#     # Hiperparâmetros do LogisticRegression a serem otimizados\n",
    "#     penalty = trial.suggest_categorical('penalty', ['l2', 'none'])\n",
    "#     C = trial.suggest_loguniform('C', 1e-5, 10)\n",
    "#     solver = trial.suggest_categorical('solver', ['sag', 'saga', 'lbfgs', 'newton-cg'])\n",
    "#     multi_class = trial.suggest_categorical('multi_class', ['auto', 'multinomial'])\n",
    "    \n",
    "#     # Definir o modelo\n",
    "#     model = LogisticRegression(penalty=penalty, C=C, solver=solver, multi_class=multi_class, max_iter=10000, random_state=42)\n",
    "    \n",
    "#     score = np.mean(cross_validation(model, folds, verbose=0))\n",
    "    \n",
    "#     return score\n",
    "\n",
    "# warnings.filterwarnings(\"ignore\")\n",
    "\n",
    "# # Criar um estudo com um callback para early stopping\n",
    "# study = optuna.create_study(direction='maximize')\n",
    "\n",
    "# # Realizar a otimização\n",
    "# study.optimize(objective, n_trials=50)"
   ]
  },
  {
   "cell_type": "code",
   "execution_count": 105,
   "metadata": {},
   "outputs": [],
   "source": [
    "# # Imprimir os melhores hiperparâmetros encontrados\n",
    "# print(\"Melhores hiperparâmetros: \", study.best_params)\n",
    "# print(\"Melhor acurácia: \", study.best_value)"
   ]
  },
  {
   "cell_type": "code",
   "execution_count": 106,
   "metadata": {},
   "outputs": [
    {
     "data": {
      "text/html": [
       "<div>\n",
       "<style scoped>\n",
       "    .dataframe tbody tr th:only-of-type {\n",
       "        vertical-align: middle;\n",
       "    }\n",
       "\n",
       "    .dataframe tbody tr th {\n",
       "        vertical-align: top;\n",
       "    }\n",
       "\n",
       "    .dataframe thead th {\n",
       "        text-align: right;\n",
       "    }\n",
       "</style>\n",
       "<table border=\"1\" class=\"dataframe\">\n",
       "  <thead>\n",
       "    <tr style=\"text-align: right;\">\n",
       "      <th></th>\n",
       "      <th>Target</th>\n",
       "    </tr>\n",
       "    <tr>\n",
       "      <th>id</th>\n",
       "      <th></th>\n",
       "    </tr>\n",
       "  </thead>\n",
       "  <tbody>\n",
       "    <tr>\n",
       "      <th>76518</th>\n",
       "      <td>Dropout</td>\n",
       "    </tr>\n",
       "    <tr>\n",
       "      <th>76519</th>\n",
       "      <td>Graduate</td>\n",
       "    </tr>\n",
       "    <tr>\n",
       "      <th>76520</th>\n",
       "      <td>Graduate</td>\n",
       "    </tr>\n",
       "    <tr>\n",
       "      <th>76521</th>\n",
       "      <td>Graduate</td>\n",
       "    </tr>\n",
       "    <tr>\n",
       "      <th>76522</th>\n",
       "      <td>Enrolled</td>\n",
       "    </tr>\n",
       "    <tr>\n",
       "      <th>...</th>\n",
       "      <td>...</td>\n",
       "    </tr>\n",
       "    <tr>\n",
       "      <th>127525</th>\n",
       "      <td>Dropout</td>\n",
       "    </tr>\n",
       "    <tr>\n",
       "      <th>127526</th>\n",
       "      <td>Dropout</td>\n",
       "    </tr>\n",
       "    <tr>\n",
       "      <th>127527</th>\n",
       "      <td>Dropout</td>\n",
       "    </tr>\n",
       "    <tr>\n",
       "      <th>127528</th>\n",
       "      <td>Dropout</td>\n",
       "    </tr>\n",
       "    <tr>\n",
       "      <th>127529</th>\n",
       "      <td>Dropout</td>\n",
       "    </tr>\n",
       "  </tbody>\n",
       "</table>\n",
       "<p>51012 rows × 1 columns</p>\n",
       "</div>"
      ],
      "text/plain": [
       "          Target\n",
       "id              \n",
       "76518    Dropout\n",
       "76519   Graduate\n",
       "76520   Graduate\n",
       "76521   Graduate\n",
       "76522   Enrolled\n",
       "...          ...\n",
       "127525   Dropout\n",
       "127526   Dropout\n",
       "127527   Dropout\n",
       "127528   Dropout\n",
       "127529   Dropout\n",
       "\n",
       "[51012 rows x 1 columns]"
      ]
     },
     "execution_count": 106,
     "metadata": {},
     "output_type": "execute_result"
    }
   ],
   "source": [
    "predict_test('svc', svc, folds, test, encoder, sub)"
   ]
  },
  {
   "cell_type": "code",
   "execution_count": null,
   "metadata": {},
   "outputs": [],
   "source": []
  }
 ],
 "metadata": {
  "kernelspec": {
   "display_name": "penidoEnv",
   "language": "python",
   "name": "python3"
  },
  "language_info": {
   "codemirror_mode": {
    "name": "ipython",
    "version": 3
   },
   "file_extension": ".py",
   "mimetype": "text/x-python",
   "name": "python",
   "nbconvert_exporter": "python",
   "pygments_lexer": "ipython3",
   "version": "3.9.19"
  }
 },
 "nbformat": 4,
 "nbformat_minor": 2
}
