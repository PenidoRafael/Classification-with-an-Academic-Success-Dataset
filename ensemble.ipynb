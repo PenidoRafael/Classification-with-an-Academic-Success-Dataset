{
 "cells": [
  {
   "cell_type": "code",
   "execution_count": 75,
   "metadata": {},
   "outputs": [
    {
     "name": "stdout",
     "output_type": "stream",
     "text": [
      "['lgbm_1', 'xgb_1', 'lgbm_2', 'faml_1', 'cat_1']\n"
     ]
    }
   ],
   "source": [
    "import pandas as pd\n",
    "import numpy as np\n",
    "import seaborn as sns\n",
    "import os\n",
    "from sklearn.linear_model import LogisticRegression\n",
    "from xgboost import XGBClassifier\n",
    "\n",
    "from sklearn.metrics import accuracy_score\n",
    "import matplotlib.pyplot as plt\n",
    "\n",
    "# Definir estilo do seaborn\n",
    "sns.set_theme(style=\"whitegrid\")\n",
    "\n",
    "\n",
    "SEED = 42 # Muito importante manter a SEED igual em todos os modelos para garantir a consistência dos dados no ensemble\n",
    "FOLDS = 5 # Muito importante manter o mesmo número de FOLDS em todos os modelos para garantir a consistência dos dados no ensemble\n",
    "\n",
    "PATH = 'models/' # Caminho para os modelos\n",
    "CLASSES = [\"Enrolled\",\"Graduate\", \"Dropout\"]\n",
    "\n",
    "scores = {} # Dicionário para armazenar os scores de estratégia de ensemble\n",
    "\n",
    "# Listar todos os diretórios na pasta especificada\n",
    "directories = [d for d in os.listdir(PATH) if os.path.isdir(os.path.join(PATH, d))]\n",
    "individual_models = directories.copy()\n",
    "print(directories)"
   ]
  },
  {
   "cell_type": "code",
   "execution_count": 76,
   "metadata": {},
   "outputs": [],
   "source": [
    "import numpy as np\n",
    "import pandas as pd\n",
    "\n",
    "class SoftVotingClassifier:\n",
    "    def __init__(self, classifiers, classes):\n",
    "\n",
    "        self.classifiers = classifiers\n",
    "        self.classes = classes\n",
    "        self.nclasses = len(classes)\n",
    "\n",
    "    def fit(self, X, y):\n",
    "        pass\n",
    "    \n",
    "    def predict(self, df):\n",
    "\n",
    "        prob_sum = np.zeros((len(df), self.nclasses))\n",
    "\n",
    "        self.classes_cols = []\n",
    "        for i, classe in enumerate(self.classes):\n",
    "            self.classes_cols.append([col for col in df.columns if col.endswith(classe)])\n",
    "            prob_sum[:,i] = df[self.classes_cols[i]].sum(axis=1)\n",
    "\n",
    "        # Normaliza as probabilidades somadas\n",
    "        prob_sum /= len(self.classifiers)\n",
    "        \n",
    "        # Predição final é a classe com a maior probabilidade\n",
    "        # predictions = self.classes[np.argmax(prob_sum, axis=1)]\n",
    "        predictions = np.argmax(prob_sum, axis=1)\n",
    "        \n",
    "        return predictions\n"
   ]
  },
  {
   "cell_type": "code",
   "execution_count": 77,
   "metadata": {},
   "outputs": [],
   "source": [
    "def build_dfs(directories):\n",
    "\n",
    "    folds = []\n",
    "\n",
    "    for i in range(FOLDS):\n",
    "\n",
    "        models_predictions = []\n",
    "\n",
    "        for model in directories:\n",
    "            # Carregar o modelo\n",
    "            df = pd.read_csv(f'{PATH}{model}/oof/fold_{i+1}.csv')\n",
    "            columns = df.columns\n",
    "            df.columns = [f'{model}_{col}' for col in columns]\n",
    "            df.rename(columns={f'{model}_true': 'true_label'}, inplace=True)\n",
    "            models_predictions.append(df)\n",
    "\n",
    "        # Concatenar as previsões de todos os modelos\n",
    "        df = pd.concat(models_predictions, axis=1)\n",
    "        df = df.loc[:, ~df.columns.duplicated(keep='last')] # Remover colunas duplicadas(true label)\n",
    "        folds.append(df)\n",
    "\n",
    "\n",
    "    return folds"
   ]
  },
  {
   "cell_type": "code",
   "execution_count": 78,
   "metadata": {},
   "outputs": [],
   "source": [
    "def cross_validation(model, folds, target_column='true_label', scoring=accuracy_score):\n",
    "    scores = []\n",
    "    \n",
    "    for i, fold in enumerate(folds):\n",
    "        print(f\"Fold {i + 1}\")\n",
    "        \n",
    "        # Separando o conjunto de treino e validação\n",
    "        train_folds = folds[:i] + folds[i+1:]\n",
    "        val_fold = fold\n",
    "        \n",
    "        # Concatenando os DataFrames de treino\n",
    "        train_df = pd.concat(train_folds, ignore_index=True)\n",
    "        \n",
    "        # Separando as features e o target\n",
    "        X_train = train_df.drop(columns=[target_column])\n",
    "        y_train = train_df[target_column]\n",
    "        \n",
    "        X_val = val_fold.drop(columns=[target_column])\n",
    "        y_val = val_fold[target_column]\n",
    "        \n",
    "        # Treinando o modelo\n",
    "        model.fit(X_train, y_train)\n",
    "        \n",
    "        # Fazendo previsões no conjunto de validação\n",
    "        y_pred = model.predict(X_val)\n",
    "        \n",
    "        # Calculando a métrica de avaliação\n",
    "        score = scoring(y_val, y_pred)\n",
    "        scores.append(score)\n",
    "                \n",
    "    print(f\"Score: {np.mean(scores)}\")\n",
    "    \n",
    "    return scores"
   ]
  },
  {
   "cell_type": "code",
   "execution_count": 79,
   "metadata": {},
   "outputs": [],
   "source": [
    "def summarize_models(scores, models, folds, encoder, scoring=accuracy_score):\n",
    "\n",
    "    models_scores = {}\n",
    "    \n",
    "    for model in models:\n",
    "        model_scores = []\n",
    "\n",
    "        for fold in folds:\n",
    "            model_cols = [col for col in fold.columns if col.startswith(model)]\n",
    "            y_true = fold['true_label'].map(encoder)\n",
    "            y_pred = fold[model_cols].idxmax(axis=1).apply(lambda x: x.split('_')[-1])\n",
    "\n",
    "            score = scoring(y_true, y_pred)\n",
    "            model_scores.append(score)\n",
    "        \n",
    "        models_scores[model] = model_scores\n",
    "\n",
    "    scores.update(models_scores)\n",
    "    \n",
    "    means = {key: np.mean(value) for key, value in scores.items()}\n",
    "\n",
    "    # Preparar dados para o gráfico\n",
    "    keys = list(means.keys())\n",
    "    values = list(means.values())\n",
    "\n",
    "    # Criar DataFrame e ordenar pelos valores de forma decrescente\n",
    "    data = pd.DataFrame({'Keys': keys, 'Mean Values': values})\n",
    "    data = data.sort_values(by='Mean Values', ascending=False)\n",
    "\n",
    "    # Plotar gráfico de barras horizontal\n",
    "    plt.figure(figsize=(10, 5))\n",
    "    ax = sns.barplot(x='Mean Values', y='Keys', data=data, palette='viridis')\n",
    "\n",
    "    # Adicionar valores ao lado de cada barra\n",
    "    for index, value in enumerate(data['Mean Values']):\n",
    "        ax.text(value, index, f'{value:.4f}', color='black', va=\"center\")\n",
    "\n",
    "    plt.xlim(min(values) * 0.995, max(values) * 1.001)  # Ajustar a escala do eixo x para ser 10% maior que o valor máximo\n",
    "\n",
    "    plt.xlabel('Score')\n",
    "    plt.ylabel('Model')\n",
    "    plt.title('Accuracy Score of Models')\n",
    "\n",
    "    plt.show()"
   ]
  },
  {
   "cell_type": "code",
   "execution_count": 80,
   "metadata": {},
   "outputs": [],
   "source": [
    "folds = build_dfs(directories)"
   ]
  },
  {
   "cell_type": "code",
   "execution_count": 81,
   "metadata": {},
   "outputs": [],
   "source": [
    "for fold in folds:\n",
    "    fold['true_label'] = fold['true_label'].replace({\"Enrolled\": 0, \"Graduate\": 1, \"Dropout\": 2})\n",
    "\n",
    "encoder = {0: \"Enrolled\", 1: \"Graduate\", 2: \"Dropout\"}"
   ]
  },
  {
   "cell_type": "code",
   "execution_count": 82,
   "metadata": {},
   "outputs": [
    {
     "name": "stdout",
     "output_type": "stream",
     "text": [
      "Fold 1\n",
      "Fold 2\n",
      "Fold 3\n",
      "Fold 4\n",
      "Fold 5\n",
      "Score: 0.8330779876997505\n"
     ]
    }
   ],
   "source": [
    "logreg = LogisticRegression()\n",
    "\n",
    "scores['logreg_ensemble'] = cross_validation(logreg, folds)"
   ]
  },
  {
   "cell_type": "code",
   "execution_count": 83,
   "metadata": {},
   "outputs": [
    {
     "name": "stdout",
     "output_type": "stream",
     "text": [
      "Fold 1\n",
      "Fold 2\n",
      "Fold 3\n",
      "Fold 4\n",
      "Fold 5\n",
      "Score: 0.8306441562551138\n"
     ]
    }
   ],
   "source": [
    "xgb = XGBClassifier(random_state=42)\n",
    "\n",
    "scores['xgb_ensemble']  = cross_validation(xgb, folds)"
   ]
  },
  {
   "cell_type": "code",
   "execution_count": 84,
   "metadata": {},
   "outputs": [
    {
     "name": "stdout",
     "output_type": "stream",
     "text": [
      "Fold 1\n",
      "Fold 2\n",
      "Fold 3\n",
      "Fold 4\n",
      "Fold 5\n",
      "Score: 0.8327320547285497\n"
     ]
    }
   ],
   "source": [
    "svc = SoftVotingClassifier(directories, CLASSES)\n",
    "\n",
    "scores['svc_ensemble']  = cross_validation(svc, folds, scoring=accuracy_score)"
   ]
  },
  {
   "cell_type": "code",
   "execution_count": 85,
   "metadata": {},
   "outputs": [
    {
     "data": {
      "image/png": "[encoded data removed]",
      "text/plain": [
       "<Figure size 1000x500 with 1 Axes>"
      ]
     },
     "metadata": {},
     "output_type": "display_data"
    }
   ],
   "source": [
    "summarize_models(scores, individual_models, folds, encoder)"
   ]
  },
  {
   "cell_type": "code",
   "execution_count": null,
   "metadata": {},
   "outputs": [],
   "source": []
  }
 ],
 "metadata": {
  "kernelspec": {
   "display_name": "penidoEnv",
   "language": "python",
   "name": "python3"
  },
  "language_info": {
   "codemirror_mode": {
    "name": "ipython",
    "version": 3
   },
   "file_extension": ".py",
   "mimetype": "text/x-python",
   "name": "python",
   "nbconvert_exporter": "python",
   "pygments_lexer": "ipython3",
   "version": "3.9.16"
  }
 },
 "nbformat": 4,
 "nbformat_minor": 2
}
