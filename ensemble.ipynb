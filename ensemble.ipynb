{
 "cells": [
  {
   "cell_type": "code",
   "execution_count": 33,
   "metadata": {},
   "outputs": [
    {
     "name": "stdout",
     "output_type": "stream",
     "text": [
      "['lgbm_1', 'xgb_1']\n"
     ]
    }
   ],
   "source": [
    "import pandas as pd\n",
    "import numpy as np\n",
    "import os\n",
    "from sklearn.linear_model import LogisticRegression\n",
    "from xgboost import XGBClassifier\n",
    "\n",
    "from sklearn.metrics import accuracy_score\n",
    "import matplotlib.pyplot as plt\n",
    "\n",
    "\n",
    "SEED = 42 # Muito importante manter a SEED igual em todos os modelos para garantir a consistência dos dados no ensemble\n",
    "FOLDS = 5 # Muito importante manter o mesmo número de FOLDS em todos os modelos para garantir a consistência dos dados no ensemble\n",
    "\n",
    "PATH = 'models/' # Caminho para os modelos\n",
    "CLASSES = [\"Enrolled\",\"Graduate\", \"Dropout\"]\n",
    "\n",
    "scores = {} # Dicionário para armazenar os scores de estratégia de ensemble\n",
    "\n",
    "# Listar todos os diretórios na pasta especificada\n",
    "directories = [d for d in os.listdir(PATH) if os.path.isdir(os.path.join(PATH, d))]\n",
    "individual_models = directories.copy()\n",
    "print(directories)"
   ]
  },
  {
   "cell_type": "code",
   "execution_count": 18,
   "metadata": {},
   "outputs": [],
   "source": [
    "import numpy as np\n",
    "import pandas as pd\n",
    "\n",
    "class SoftVotingClassifier:\n",
    "    def __init__(self, classifiers, classes):\n",
    "\n",
    "        self.classifiers = classifiers\n",
    "        self.classes = classes\n",
    "        self.nclasses = len(classes)\n",
    "\n",
    "    def fit(self, X, y):\n",
    "        pass\n",
    "    \n",
    "    def predict(self, df):\n",
    "\n",
    "        prob_sum = np.zeros((len(df), self.nclasses))\n",
    "\n",
    "        self.classes_cols = []\n",
    "        for i, classe in enumerate(self.classes):\n",
    "            self.classes_cols.append([col for col in df.columns if col.endswith(classe)])\n",
    "            prob_sum[:,i] = df[self.classes_cols[i]].sum(axis=1)\n",
    "\n",
    "        # Normaliza as probabilidades somadas\n",
    "        prob_sum /= len(self.classifiers)\n",
    "        \n",
    "        # Predição final é a classe com a maior probabilidade\n",
    "        # predictions = self.classes[np.argmax(prob_sum, axis=1)]\n",
    "        predictions = np.argmax(prob_sum, axis=1)\n",
    "        \n",
    "        return predictions\n"
   ]
  },
  {
   "cell_type": "code",
   "execution_count": 3,
   "metadata": {},
   "outputs": [],
   "source": [
    "def build_dfs(directories):\n",
    "\n",
    "    folds = []\n",
    "\n",
    "    for i in range(FOLDS):\n",
    "\n",
    "        models_predictions = []\n",
    "\n",
    "        for model in directories:\n",
    "            # Carregar o modelo\n",
    "            df = pd.read_csv(f'{PATH}{model}/oof/fold_{i+1}.csv')\n",
    "            columns = df.columns\n",
    "            df.columns = [f'{model}_{col}' for col in columns]\n",
    "            df.rename(columns={f'{model}_true': 'true_label'}, inplace=True)\n",
    "            models_predictions.append(df)\n",
    "\n",
    "        # Concatenar as previsões de todos os modelos\n",
    "        df = pd.concat(models_predictions, axis=1)\n",
    "        df = df.loc[:, ~df.columns.duplicated(keep='last')] # Remover colunas duplicadas(true label)\n",
    "        folds.append(df)\n",
    "\n",
    "\n",
    "    return folds"
   ]
  },
  {
   "cell_type": "code",
   "execution_count": 4,
   "metadata": {},
   "outputs": [],
   "source": [
    "def cross_validation(model, folds, target_column='true_label', scoring=accuracy_score):\n",
    "    scores = []\n",
    "    \n",
    "    for i, fold in enumerate(folds):\n",
    "        print(f\"Fold {i + 1}\")\n",
    "        \n",
    "        # Separando o conjunto de treino e validação\n",
    "        train_folds = folds[:i] + folds[i+1:]\n",
    "        val_fold = fold\n",
    "        \n",
    "        # Concatenando os DataFrames de treino\n",
    "        train_df = pd.concat(train_folds, ignore_index=True)\n",
    "        \n",
    "        # Separando as features e o target\n",
    "        X_train = train_df.drop(columns=[target_column])\n",
    "        y_train = train_df[target_column]\n",
    "        \n",
    "        X_val = val_fold.drop(columns=[target_column])\n",
    "        y_val = val_fold[target_column]\n",
    "        \n",
    "        # Treinando o modelo\n",
    "        model.fit(X_train, y_train)\n",
    "        \n",
    "        # Fazendo previsões no conjunto de validação\n",
    "        y_pred = model.predict(X_val)\n",
    "        \n",
    "        # Calculando a métrica de avaliação\n",
    "        score = scoring(y_val, y_pred)\n",
    "        scores.append(score)\n",
    "                \n",
    "    print(f\"Score: {np.mean(scores)}\")\n",
    "    \n",
    "    return scores"
   ]
  },
  {
   "cell_type": "code",
   "execution_count": 43,
   "metadata": {},
   "outputs": [],
   "source": [
    "def summarize_models(scores, models, folds, encoder, scoring=accuracy_score):\n",
    "\n",
    "    models_scores = {}\n",
    "    \n",
    "    for model in models:\n",
    "        model_scores = []\n",
    "\n",
    "        for fold in folds:\n",
    "            model_cols = [col for col in fold.columns if col.startswith(model)]\n",
    "            y_true = fold['true_label'].map(encoder)\n",
    "            y_pred = fold[model_cols].idxmax(axis=1).apply(lambda x: x.split('_')[-1])\n",
    "\n",
    "            score = scoring(y_true, y_pred)\n",
    "            model_scores.append(score)\n",
    "        \n",
    "        models_scores[model] = model_scores\n",
    "    \n",
    "    means = {key: np.mean(value) for key, value in scores.items()}\n",
    "\n",
    "    print(scores.items())\n",
    "\n",
    "    # Preparar dados para o gráfico\n",
    "    keys = list(means.keys())\n",
    "    values = list(means.values())\n",
    "\n",
    "    # Plotar gráfico de barras\n",
    "    plt.figure(figsize=(10, 5))\n",
    "    plt.bar(keys, values, color='blue')\n",
    "    plt.xlabel('Keys')\n",
    "    plt.ylabel('Mean Values')\n",
    "    plt.title('Mean of Arrays for Each Key')\n",
    "    plt.show()"
   ]
  },
  {
   "cell_type": "code",
   "execution_count": 5,
   "metadata": {},
   "outputs": [],
   "source": [
    "folds = build_dfs(directories)"
   ]
  },
  {
   "cell_type": "code",
   "execution_count": 37,
   "metadata": {},
   "outputs": [],
   "source": [
    "for fold in folds:\n",
    "    fold['true_label'] = fold['true_label'].replace({\"Enrolled\": 0, \"Graduate\": 1, \"Dropout\": 2})\n",
    "\n",
    "encoder = {0: \"Enrolled\", 1: \"Graduate\", 2: \"Dropout\"}"
   ]
  },
  {
   "cell_type": "code",
   "execution_count": 46,
   "metadata": {},
   "outputs": [
    {
     "name": "stdout",
     "output_type": "stream",
     "text": [
      "Fold 1\n",
      "Fold 2\n",
      "Fold 3\n",
      "Fold 4\n",
      "Fold 5\n",
      "Score: 0.8329050177799211\n"
     ]
    }
   ],
   "source": [
    "logreg = LogisticRegression()\n",
    "\n",
    "scores['logreg'] = cross_validation(logreg, folds)"
   ]
  },
  {
   "cell_type": "code",
   "execution_count": 47,
   "metadata": {},
   "outputs": [
    {
     "name": "stdout",
     "output_type": "stream",
     "text": [
      "Fold 1\n",
      "Fold 2\n",
      "Fold 3\n",
      "Fold 4\n",
      "Fold 5\n",
      "Score: 0.8308912398961349\n"
     ]
    }
   ],
   "source": [
    "xgb = XGBClassifier(random_state=42)\n",
    "\n",
    "scores['xgb']  = cross_validation(xgb, folds)"
   ]
  },
  {
   "cell_type": "code",
   "execution_count": 48,
   "metadata": {},
   "outputs": [
    {
     "name": "stdout",
     "output_type": "stream",
     "text": [
      "Fold 1\n",
      "Fold 2\n",
      "Fold 3\n",
      "Fold 4\n",
      "Fold 5\n",
      "Score: 0.8321143307443366\n"
     ]
    }
   ],
   "source": [
    "svc = SoftVotingClassifier(directories, CLASSES)\n",
    "\n",
    "scores['svc']  = cross_validation(svc, folds, scoring=accuracy_score)"
   ]
  },
  {
   "cell_type": "code",
   "execution_count": 49,
   "metadata": {},
   "outputs": [
    {
     "data": {
      "text/plain": [
       "{'logreg': [0.8340231021063685,\n",
       "  0.8338377910927173,\n",
       "  0.8322213985668396,\n",
       "  0.8308005930318755,\n",
       "  0.8336422041018038],\n",
       " 'xgb': [0.8318611402804373,\n",
       "  0.8311816665637161,\n",
       "  0.8296268841116877,\n",
       "  0.8299357548801581,\n",
       "  0.8318507536446751],\n",
       " 'svc': [0.8332818580517636,\n",
       "  0.8327876953486936,\n",
       "  0.83117123795404,\n",
       "  0.830491722263405,\n",
       "  0.8328391401037806]}"
      ]
     },
     "execution_count": 49,
     "metadata": {},
     "output_type": "execute_result"
    }
   ],
   "source": [
    "scores"
   ]
  },
  {
   "cell_type": "code",
   "execution_count": 50,
   "metadata": {},
   "outputs": [
    {
     "name": "stdout",
     "output_type": "stream",
     "text": [
      "dict_items([('logreg', [0.8340231021063685, 0.8338377910927173, 0.8322213985668396, 0.8308005930318755, 0.8336422041018038]), ('xgb', [0.8318611402804373, 0.8311816665637161, 0.8296268841116877, 0.8299357548801581, 0.8318507536446751]), ('svc', [0.8332818580517636, 0.8327876953486936, 0.83117123795404, 0.830491722263405, 0.8328391401037806])])\n"
     ]
    },
    {
     "data": {
      "image/png": "[encoded data removed]",
      "text/plain": [
       "<Figure size 1000x500 with 1 Axes>"
      ]
     },
     "metadata": {},
     "output_type": "display_data"
    }
   ],
   "source": [
    "summarize_models(scores, individual_models, folds, encoder)"
   ]
  },
  {
   "cell_type": "code",
   "execution_count": null,
   "metadata": {},
   "outputs": [],
   "source": []
  }
 ],
 "metadata": {
  "kernelspec": {
   "display_name": "penidoEnv",
   "language": "python",
   "name": "python3"
  },
  "language_info": {
   "codemirror_mode": {
    "name": "ipython",
    "version": 3
   },
   "file_extension": ".py",
   "mimetype": "text/x-python",
   "name": "python",
   "nbconvert_exporter": "python",
   "pygments_lexer": "ipython3",
   "version": "3.9.16"
  }
 },
 "nbformat": 4,
 "nbformat_minor": 2
}
