{
 "cells": [
  {
   "cell_type": "code",
   "execution_count": 61,
   "metadata": {},
   "outputs": [],
   "source": [
    "import os\n",
    "import pandas as pd\n",
    "import numpy as np\n",
    "from scipy.stats import mode\n",
    "from xgboost import XGBClassifier\n",
    "from sklearn.model_selection import StratifiedKFold, cross_val_score\n",
    "from sklearn.preprocessing import MinMaxScaler, LabelEncoder\n",
    "\n",
    "\n",
    "from sklearn.metrics import accuracy_score\n",
    "from sklearn.compose import ColumnTransformer\n",
    "from sklearn.preprocessing import OneHotEncoder, StandardScaler\n",
    "from sklearn.pipeline import Pipeline\n",
    "from sklearn.pipeline import make_pipeline\n",
    "\n",
    "from xgboost import XGBClassifier\n",
    "\n",
    "SEED = 42 # Muito importante manter a SEED igual em todos os modelos para garantir a consistência dos dados no ensemble\n",
    "FOLDS = 5 # Muito importante manter o mesmo número de FOLDS em todos os modelos para garantir a consistência dos dados no ensemble"
   ]
  },
  {
   "cell_type": "code",
   "execution_count": 62,
   "metadata": {},
   "outputs": [],
   "source": [
    "sintetico = pd.read_csv('../../src/train/train.csv', index_col='id')\n",
    "original = pd.read_csv('../../src/train/original.csv')\n",
    "test = pd.read_csv('../../src/test/test.csv', index_col='id')\n",
    "\n",
    "train = pd.concat([sintetico, original], ignore_index=True)\n",
    "\n",
    "initial_features = list(test.columns)"
   ]
  },
  {
   "cell_type": "code",
   "execution_count": 63,
   "metadata": {},
   "outputs": [],
   "source": [
    "def cross_validation(model, X, y, encoder, scoring=accuracy_score):\n",
    "\n",
    "    skf = StratifiedKFold(n_splits=FOLDS, shuffle=True, random_state=SEED)\n",
    "\n",
    "    scores = []\n",
    "    out_of_fold = []\n",
    "    \n",
    "    for i, (train_index, val_index) in enumerate(skf.split(X, y)):\n",
    "        print(f\"Fold {i + 1}\")\n",
    "        \n",
    "        X_train = X.iloc[train_index]\n",
    "        y_train = y.iloc[train_index]\n",
    "\n",
    "        X_val = X.iloc[val_index]\n",
    "        y_val = y.iloc[val_index]\n",
    "        \n",
    "        model.fit(X_train, y_train)\n",
    "\n",
    "        probabilidades = model.predict_proba(X_val)\n",
    "\n",
    "        # Recuperar a predição final a partir das probabilidades\n",
    "        indices_predicoes = np.argmax(probabilidades, axis=1)\n",
    "        classes_preditas = model.classes_[indices_predicoes]\n",
    "\n",
    "        score = scoring(y_val, classes_preditas)\n",
    "\n",
    "        scores.append(score)\n",
    "\n",
    "        true_label = pd.Series(y_val.values, name='true')\n",
    "\n",
    "        pred_label_df = pd.DataFrame(probabilidades)\n",
    "\n",
    "        oof_pred = pd.concat([pred_label_df, true_label], axis=1, ignore_index=True)\n",
    "        oof_pred.columns = [f'pred_{encoder.classes_[model.classes_[0]]}', f'pred_{encoder.classes_[model.classes_[1]]}', f'pred_{encoder.classes_[model.classes_[2]]}', 'true']\n",
    "\n",
    "        out_of_fold.append(oof_pred)\n",
    "\n",
    "    print(f\"Score: {np.mean(scores)}\")\n",
    "    \n",
    "    return scores, out_of_fold"
   ]
  },
  {
   "cell_type": "code",
   "execution_count": 64,
   "metadata": {},
   "outputs": [],
   "source": [
    "def save_oof(oof):\n",
    "\n",
    "    os.makedirs('oof', exist_ok=True)\n",
    "\n",
    "    for i, fold in enumerate(oof):\n",
    "        fold.to_csv(f'oof/fold_{i+1}.csv', index=False)"
   ]
  },
  {
   "cell_type": "code",
   "execution_count": 65,
   "metadata": {},
   "outputs": [],
   "source": [
    "def predict_test(model, X_train, y_train, X_test, encoder):\n",
    "\n",
    "    model.fit(X_train, y_train)\n",
    "\n",
    "    probabilidades = model.predict_proba(X_test)\n",
    "    pred_label_df = pd.DataFrame(probabilidades)\n",
    "\n",
    "    pred_label_df.columns = [f'pred_{encoder[model.classes_[0]]}', f'pred_{encoder[model.classes_[1]]}', f'pred_{encoder[model.classes_[2]]}']\n",
    "\n",
    "    os.makedirs('test', exist_ok=True)\n",
    "\n",
    "    pred_label_df.to_csv(f'test/test_pred.csv', index=False)\n",
    "\n",
    "    return pred_label_df"
   ]
  },
  {
   "cell_type": "code",
   "execution_count": 66,
   "metadata": {},
   "outputs": [],
   "source": [
    "def PreprocessDatapreprocess_data(df):\n",
    "    df = df.copy()\n",
    "    df['total'] = df.sum(axis = 1)\n",
    "    df['mean'] = df.mean(axis = 1)\n",
    "    df['median'] = df.median(axis = 1)\n",
    "    df['std'] = df.std(axis = 1)\n",
    "    df['min'] = df.min(axis = 1)\n",
    "    df['max'] = df.max(axis = 1)\n",
    "    df['ptp'] = df.values.ptp(axis = 1)\n",
    "    df['q25'] = df.quantile(0.25, axis = 1)\n",
    "    df['q75'] = df.quantile(0.75, axis = 1)\n",
    "    df['credited_avg'] = (df['Curricular units 1st sem (credited)'] + df['Curricular units 2nd sem (credited)']) / 2\n",
    "    df['enrolled_avg'] = (df['Curricular units 1st sem (enrolled)'] + df['Curricular units 2nd sem (enrolled)']) / 2\n",
    "    df['evaluations_avg'] = (df['Curricular units 1st sem (evaluations)'] + df['Curricular units 2nd sem (evaluations)']) / 2\n",
    "    df['approved_avg'] = (df['Curricular units 1st sem (approved)'] + df['Curricular units 2nd sem (approved)']) / 2\n",
    "    df['grade_avg'] = (df['Curricular units 1st sem (grade)'] + df['Curricular units 2nd sem (grade)']) / 2\n",
    "    df['wo_evaluations_avg'] = (df['Curricular units 1st sem (without evaluations)'] + \n",
    "                                df['Curricular units 2nd sem (without evaluations)']) / 2\n",
    "    df['Age_at_enrollment_cat'] = pd.cut(df['Age at enrollment'], \n",
    "                                            bins = [18, 24, 30, 35, 40], \n",
    "                                            labels = [1, 2, 3, 4])\n",
    "    df['Parents_qualification_avg'] = (df[\"Mother's qualification\"] + df[\"Father's qualification\"]) / 2\n",
    "    df['Parents_occupation_avg'] = (df[\"Mother's occupation\"] + df[\"Father's occupation\"]) / 2\n",
    "    df['Unemployment_Inflation_ratio'] = (df['Unemployment rate'] + 1) / (df['Inflation rate'] + 1)\n",
    "    \n",
    "    return df"
   ]
  },
  {
   "cell_type": "code",
   "execution_count": 67,
   "metadata": {},
   "outputs": [],
   "source": [
    "from sklearn.base import BaseEstimator, TransformerMixin\n",
    "\n",
    "class PreprocessData(BaseEstimator, TransformerMixin):\n",
    "    def __init__(self):\n",
    "        pass\n",
    "    \n",
    "    def fit(self, X, y=None):\n",
    "        return self\n",
    "    \n",
    "    def transform(self, X):\n",
    "        df = X.copy()\n",
    "        df['total'] = df.sum(axis=1)\n",
    "        df['mean'] = df.mean(axis=1)\n",
    "        df['median'] = df.median(axis=1)\n",
    "        df['std'] = df.std(axis=1)\n",
    "        df['min'] = df.min(axis=1)\n",
    "        df['max'] = df.max(axis=1)\n",
    "        df['ptp'] = df.values.ptp(axis=1)\n",
    "        df['q25'] = df.quantile(0.25, axis=1)\n",
    "        df['q75'] = df.quantile(0.75, axis=1)\n",
    "        df['credited_avg'] = (df['Curricular units 1st sem (credited)'] + df['Curricular units 2nd sem (credited)']) / 2\n",
    "        df['enrolled_avg'] = (df['Curricular units 1st sem (enrolled)'] + df['Curricular units 2nd sem (enrolled)']) / 2\n",
    "        df['evaluations_avg'] = (df['Curricular units 1st sem (evaluations)'] + df['Curricular units 2nd sem (evaluations)']) / 2\n",
    "        df['approved_avg'] = (df['Curricular units 1st sem (approved)'] + df['Curricular units 2nd sem (approved)']) / 2\n",
    "        df['grade_avg'] = (df['Curricular units 1st sem (grade)'] + df['Curricular units 2nd sem (grade)']) / 2\n",
    "        df['wo_evaluations_avg'] = (df['Curricular units 1st sem (without evaluations)'] + \n",
    "                                    df['Curricular units 2nd sem (without evaluations)']) / 2\n",
    "        df['Age_at_enrollment_cat'] = pd.cut(df['Age at enrollment'], \n",
    "                                                bins=[18, 24, 30, 35, 40], \n",
    "                                                labels=[1, 2, 3, 4])\n",
    "        df['Parents_qualification_avg'] = (df[\"Mother's qualification\"] + df[\"Father's qualification\"]) / 2\n",
    "        df['Parents_occupation_avg'] = (df[\"Mother's occupation\"] + df[\"Father's occupation\"]) / 2\n",
    "        df['Unemployment_Inflation_ratio'] = (df['Unemployment rate'] + 1) / (df['Inflation rate'] + 1)\n",
    "        \n",
    "        return df\n"
   ]
  },
  {
   "cell_type": "code",
   "execution_count": 68,
   "metadata": {},
   "outputs": [],
   "source": [
    "le = LabelEncoder()\n",
    "\n",
    "y = pd.DataFrame(le.fit_transform(train['Target']), columns=['Target'])\n",
    "y = y['Target']\n",
    "X = train[initial_features]"
   ]
  },
  {
   "cell_type": "code",
   "execution_count": 69,
   "metadata": {},
   "outputs": [],
   "source": [
    "xgb_best_params =  {'n_estimators': 1168, \n",
    "                   'learning_rate': 0.021899695434225392, \n",
    "                   'max_depth': 9, \n",
    "                   'min_child_weight': 7, \n",
    "                   'subsample': 0.8833415189829511, \n",
    "                   'colsample_bytree': 0.47870555779903173, \n",
    "                   'reg_alpha': 0.003962141750526502, \n",
    "                   'reg_lambda': 0.0005483724027167153, \n",
    "                   'gamma': 0.9706261279770567, \n",
    "                   'scale_pos_weight': 29.598024870063032}\n",
    "\n",
    "# best_catb_params = {'iterations': 1060, \n",
    "#                     'learning_rate': 0.12870938526369563, \n",
    "#                     'depth': 5, \n",
    "#                     'min_data_in_leaf': 2, \n",
    "#                     'colsample_bylevel': 0.5571138654353053, \n",
    "#                     'l2_leaf_reg': 3.917650301267089, \n",
    "#                     'random_strength': 4.0271592863936245, \n",
    "#                     'bagging_temperature': 0.20975982889738484}"
   ]
  },
  {
   "cell_type": "code",
   "execution_count": 70,
   "metadata": {},
   "outputs": [],
   "source": [
    "# Pipeline de pré-processamento + escalonamento\n",
    "preprocess_and_scale_pipeline = Pipeline([\n",
    "    ('fet_eng', PreprocessData()),\n",
    "    ('scaler', MinMaxScaler())\n",
    "])\n",
    "\n",
    "# ColumnTransformer\n",
    "preprocessor = ColumnTransformer(\n",
    "    transformers=[\n",
    "        ('fet_eng_and_scaling', preprocess_and_scale_pipeline, X.columns),\n",
    "    ]\n",
    ")"
   ]
  },
  {
   "cell_type": "code",
   "execution_count": 71,
   "metadata": {},
   "outputs": [],
   "source": [
    "xgb = Pipeline(steps=[\n",
    "    ('preprocessor', preprocessor),\n",
    "    ('classifier', XGBClassifier(**xgb_best_params)),\n",
    "])"
   ]
  },
  {
   "cell_type": "code",
   "execution_count": 72,
   "metadata": {},
   "outputs": [
    {
     "name": "stdout",
     "output_type": "stream",
     "text": [
      "Fold 1\n"
     ]
    },
    {
     "name": "stderr",
     "output_type": "stream",
     "text": [
      "/home/rafael/anaconda3/envs/penidoEnv/lib/python3.9/site-packages/xgboost/core.py:160: UserWarning: [21:52:05] WARNING: /workspace/src/learner.cc:742: \n",
      "Parameters: { \"scale_pos_weight\" } are not used.\n",
      "\n",
      "  warnings.warn(smsg, UserWarning)\n"
     ]
    },
    {
     "name": "stdout",
     "output_type": "stream",
     "text": [
      "Fold 2\n"
     ]
    },
    {
     "name": "stderr",
     "output_type": "stream",
     "text": [
      "/home/rafael/anaconda3/envs/penidoEnv/lib/python3.9/site-packages/xgboost/core.py:160: UserWarning: [21:52:51] WARNING: /workspace/src/learner.cc:742: \n",
      "Parameters: { \"scale_pos_weight\" } are not used.\n",
      "\n",
      "  warnings.warn(smsg, UserWarning)\n"
     ]
    },
    {
     "name": "stdout",
     "output_type": "stream",
     "text": [
      "Fold 3\n"
     ]
    },
    {
     "name": "stderr",
     "output_type": "stream",
     "text": [
      "/home/rafael/anaconda3/envs/penidoEnv/lib/python3.9/site-packages/xgboost/core.py:160: UserWarning: [21:53:31] WARNING: /workspace/src/learner.cc:742: \n",
      "Parameters: { \"scale_pos_weight\" } are not used.\n",
      "\n",
      "  warnings.warn(smsg, UserWarning)\n"
     ]
    },
    {
     "name": "stdout",
     "output_type": "stream",
     "text": [
      "Fold 4\n"
     ]
    },
    {
     "name": "stderr",
     "output_type": "stream",
     "text": [
      "/home/rafael/anaconda3/envs/penidoEnv/lib/python3.9/site-packages/xgboost/core.py:160: UserWarning: [21:54:11] WARNING: /workspace/src/learner.cc:742: \n",
      "Parameters: { \"scale_pos_weight\" } are not used.\n",
      "\n",
      "  warnings.warn(smsg, UserWarning)\n"
     ]
    },
    {
     "name": "stdout",
     "output_type": "stream",
     "text": [
      "Fold 5\n"
     ]
    },
    {
     "name": "stderr",
     "output_type": "stream",
     "text": [
      "/home/rafael/anaconda3/envs/penidoEnv/lib/python3.9/site-packages/xgboost/core.py:160: UserWarning: [21:54:53] WARNING: /workspace/src/learner.cc:742: \n",
      "Parameters: { \"scale_pos_weight\" } are not used.\n",
      "\n",
      "  warnings.warn(smsg, UserWarning)\n"
     ]
    },
    {
     "name": "stdout",
     "output_type": "stream",
     "text": [
      "Score: 0.8315584022823552\n"
     ]
    }
   ],
   "source": [
    "scores,oof = cross_validation(xgb, X, y, le)"
   ]
  },
  {
   "cell_type": "code",
   "execution_count": 74,
   "metadata": {},
   "outputs": [],
   "source": [
    "for fold in oof:\n",
    "    fold['true'] = fold['true'].replace(le.classes_)\n",
    "\n",
    "save_oof(oof)"
   ]
  },
  {
   "cell_type": "code",
   "execution_count": 76,
   "metadata": {},
   "outputs": [
    {
     "name": "stderr",
     "output_type": "stream",
     "text": [
      "/home/rafael/anaconda3/envs/penidoEnv/lib/python3.9/site-packages/xgboost/core.py:160: UserWarning: [00:15:51] WARNING: /workspace/src/learner.cc:742: \n",
      "Parameters: { \"scale_pos_weight\" } are not used.\n",
      "\n",
      "  warnings.warn(smsg, UserWarning)\n"
     ]
    },
    {
     "data": {
      "text/html": [
       "<div>\n",
       "<style scoped>\n",
       "    .dataframe tbody tr th:only-of-type {\n",
       "        vertical-align: middle;\n",
       "    }\n",
       "\n",
       "    .dataframe tbody tr th {\n",
       "        vertical-align: top;\n",
       "    }\n",
       "\n",
       "    .dataframe thead th {\n",
       "        text-align: right;\n",
       "    }\n",
       "</style>\n",
       "<table border=\"1\" class=\"dataframe\">\n",
       "  <thead>\n",
       "    <tr style=\"text-align: right;\">\n",
       "      <th></th>\n",
       "      <th>pred_Dropout</th>\n",
       "      <th>pred_Enrolled</th>\n",
       "      <th>pred_Graduate</th>\n",
       "    </tr>\n",
       "  </thead>\n",
       "  <tbody>\n",
       "    <tr>\n",
       "      <th>0</th>\n",
       "      <td>0.995347</td>\n",
       "      <td>0.002031</td>\n",
       "      <td>0.002622</td>\n",
       "    </tr>\n",
       "    <tr>\n",
       "      <th>1</th>\n",
       "      <td>0.004109</td>\n",
       "      <td>0.013508</td>\n",
       "      <td>0.982382</td>\n",
       "    </tr>\n",
       "    <tr>\n",
       "      <th>2</th>\n",
       "      <td>0.051927</td>\n",
       "      <td>0.221811</td>\n",
       "      <td>0.726261</td>\n",
       "    </tr>\n",
       "    <tr>\n",
       "      <th>3</th>\n",
       "      <td>0.274529</td>\n",
       "      <td>0.341359</td>\n",
       "      <td>0.384113</td>\n",
       "    </tr>\n",
       "    <tr>\n",
       "      <th>4</th>\n",
       "      <td>0.279766</td>\n",
       "      <td>0.677566</td>\n",
       "      <td>0.042669</td>\n",
       "    </tr>\n",
       "    <tr>\n",
       "      <th>...</th>\n",
       "      <td>...</td>\n",
       "      <td>...</td>\n",
       "      <td>...</td>\n",
       "    </tr>\n",
       "    <tr>\n",
       "      <th>51007</th>\n",
       "      <td>0.909216</td>\n",
       "      <td>0.037486</td>\n",
       "      <td>0.053298</td>\n",
       "    </tr>\n",
       "    <tr>\n",
       "      <th>51008</th>\n",
       "      <td>0.984859</td>\n",
       "      <td>0.014725</td>\n",
       "      <td>0.000416</td>\n",
       "    </tr>\n",
       "    <tr>\n",
       "      <th>51009</th>\n",
       "      <td>0.971530</td>\n",
       "      <td>0.012638</td>\n",
       "      <td>0.015832</td>\n",
       "    </tr>\n",
       "    <tr>\n",
       "      <th>51010</th>\n",
       "      <td>0.883119</td>\n",
       "      <td>0.100866</td>\n",
       "      <td>0.016015</td>\n",
       "    </tr>\n",
       "    <tr>\n",
       "      <th>51011</th>\n",
       "      <td>0.985707</td>\n",
       "      <td>0.006596</td>\n",
       "      <td>0.007697</td>\n",
       "    </tr>\n",
       "  </tbody>\n",
       "</table>\n",
       "<p>51012 rows × 3 columns</p>\n",
       "</div>"
      ],
      "text/plain": [
       "       pred_Dropout  pred_Enrolled  pred_Graduate\n",
       "0          0.995347       0.002031       0.002622\n",
       "1          0.004109       0.013508       0.982382\n",
       "2          0.051927       0.221811       0.726261\n",
       "3          0.274529       0.341359       0.384113\n",
       "4          0.279766       0.677566       0.042669\n",
       "...             ...            ...            ...\n",
       "51007      0.909216       0.037486       0.053298\n",
       "51008      0.984859       0.014725       0.000416\n",
       "51009      0.971530       0.012638       0.015832\n",
       "51010      0.883119       0.100866       0.016015\n",
       "51011      0.985707       0.006596       0.007697\n",
       "\n",
       "[51012 rows x 3 columns]"
      ]
     },
     "execution_count": 76,
     "metadata": {},
     "output_type": "execute_result"
    }
   ],
   "source": [
    "X_test = test[initial_features]\n",
    "\n",
    "predict_test(xgb, X, y, X_test, le.classes_)"
   ]
  },
  {
   "cell_type": "code",
   "execution_count": null,
   "metadata": {},
   "outputs": [],
   "source": []
  }
 ],
 "metadata": {
  "kernelspec": {
   "display_name": "penidoEnv",
   "language": "python",
   "name": "python3"
  },
  "language_info": {
   "codemirror_mode": {
    "name": "ipython",
    "version": 3
   },
   "file_extension": ".py",
   "mimetype": "text/x-python",
   "name": "python",
   "nbconvert_exporter": "python",
   "pygments_lexer": "ipython3",
   "version": "3.9.19"
  }
 },
 "nbformat": 4,
 "nbformat_minor": 2
}
