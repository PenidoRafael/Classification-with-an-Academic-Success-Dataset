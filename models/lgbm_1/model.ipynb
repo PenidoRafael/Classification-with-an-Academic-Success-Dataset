{
 "cells": [
  {
   "cell_type": "code",
   "execution_count": 73,
   "metadata": {},
   "outputs": [],
   "source": [
    "import os\n",
    "import warnings\n",
    "import pandas as pd\n",
    "import numpy as np\n",
    "from xgboost import XGBClassifier\n",
    "from sklearn.model_selection import StratifiedKFold, cross_val_score\n",
    "from sklearn.preprocessing import LabelEncoder\n",
    "\n",
    "from sklearn.metrics import accuracy_score\n",
    "from sklearn.compose import ColumnTransformer\n",
    "from sklearn.preprocessing import OneHotEncoder, StandardScaler, LabelEncoder\n",
    "from sklearn.pipeline import Pipeline\n",
    "from sklearn.pipeline import make_pipeline\n",
    "\n",
    "import optuna\n",
    "from optuna import Trial\n",
    "from optuna.samplers import TPESampler\n",
    "from optuna.pruners import MedianPruner\n",
    "\n",
    "from lightgbm import LGBMClassifier\n",
    "\n",
    "SEED = 42 # Muito importante manter a SEED igual em todos os modelos para garantir a consistência dos dados no ensemble\n",
    "FOLDS = 5 # Muito importante manter o mesmo número de FOLDS em todos os modelos para garantir a consistência dos dados no ensemble"
   ]
  },
  {
   "cell_type": "code",
   "execution_count": 74,
   "metadata": {},
   "outputs": [],
   "source": [
    "sintetico = pd.read_csv('../../src/train/train.csv', index_col='id')\n",
    "original = pd.read_csv('../../src/train/original.csv')\n",
    "test = pd.read_csv('../../src/test/test.csv', index_col='id')\n",
    "\n",
    "train = pd.concat([sintetico, original], ignore_index=True)\n",
    "\n",
    "initial_features = list(test.columns)"
   ]
  },
  {
   "cell_type": "code",
   "execution_count": 75,
   "metadata": {},
   "outputs": [],
   "source": [
    "def cross_validation(model, X, y, encoder, scoring=accuracy_score, k=FOLDS):\n",
    "\n",
    "    skf = StratifiedKFold(n_splits=k, shuffle=True, random_state=SEED)\n",
    "\n",
    "    scores = []\n",
    "    out_of_fold = []\n",
    "    \n",
    "    for i, (train_index, val_index) in enumerate(skf.split(X, y)):\n",
    "        print(f\"Fold {i + 1}\")\n",
    "        \n",
    "        X_train = X.iloc[train_index]\n",
    "        y_train = y.iloc[train_index]\n",
    "\n",
    "        X_val = X.iloc[val_index]\n",
    "        y_val = y.iloc[val_index]\n",
    "        \n",
    "        model.fit(X_train, y_train)\n",
    "        probabilidades = model.predict_proba(X_val)\n",
    "\n",
    "        # Recuperar a predição final a partir das probabilidades\n",
    "        indices_predicoes = np.argmax(probabilidades, axis=1)\n",
    "        classes_preditas = model.classes_[indices_predicoes]\n",
    "\n",
    "        score = scoring(y_val, classes_preditas)\n",
    "\n",
    "        scores.append(score)\n",
    "\n",
    "        true_label = pd.Series(y_val.values, name='true')\n",
    "\n",
    "        pred_label_df = pd.DataFrame(probabilidades)\n",
    "\n",
    "        oof_pred = pd.concat([pred_label_df, true_label], axis=1, ignore_index=True)\n",
    "        oof_pred.columns = [f'pred_{encoder[model.classes_[0]]}', f'pred_{encoder[model.classes_[1]]}', f'pred_{encoder[model.classes_[2]]}', 'true']\n",
    "\n",
    "        out_of_fold.append(oof_pred)\n",
    "\n",
    "    print(f\"Score: {np.mean(scores)}\")\n",
    "    \n",
    "    return scores, out_of_fold"
   ]
  },
  {
   "cell_type": "code",
   "execution_count": 76,
   "metadata": {},
   "outputs": [],
   "source": [
    "def save_oof(oof):\n",
    "\n",
    "    os.makedirs('oof', exist_ok=True)\n",
    "\n",
    "    for i, fold in enumerate(oof):\n",
    "        fold.to_csv(f'oof/fold_{i+1}.csv', index=False)"
   ]
  },
  {
   "cell_type": "code",
   "execution_count": 77,
   "metadata": {},
   "outputs": [],
   "source": [
    "def predict_test(model, X_train, y_train, X_test, encoder):\n",
    "\n",
    "    model.fit(X_train, y_train)\n",
    "\n",
    "    probabilidades = model.predict_proba(X_test)\n",
    "    pred_label_df = pd.DataFrame(probabilidades)\n",
    "\n",
    "    pred_label_df.columns = [f'pred_{encoder[model.classes_[0]]}', f'pred_{encoder[model.classes_[1]]}', f'pred_{encoder[model.classes_[2]]}']\n",
    "\n",
    "    os.makedirs('test', exist_ok=True)\n",
    "\n",
    "    pred_label_df.to_csv(f'test/test_pred.csv', index=False)\n",
    "\n",
    "    return pred_label_df"
   ]
  },
  {
   "cell_type": "code",
   "execution_count": 78,
   "metadata": {},
   "outputs": [],
   "source": [
    "y = train['Target'].replace({\"Enrolled\": 0, \"Graduate\": 1, \"Dropout\": 2})\n",
    "X = train[initial_features]"
   ]
  },
  {
   "cell_type": "code",
   "execution_count": 79,
   "metadata": {},
   "outputs": [],
   "source": [
    "# threshold = 15\n",
    "\n",
    "# cat_features = []\n",
    "\n",
    "# for col in initial_features:\n",
    "#     unique_values = train[col].nunique()\n",
    "    \n",
    "#     if unique_values <= threshold:\n",
    "#         cat_features.append(col)\n",
    "\n",
    "# for feature in cat_features:\n",
    "#     for df in [train, test]:\n",
    "#         df[feature] = df[feature].astype('category')\n",
    "\n",
    "\n",
    "num_features = X.select_dtypes(include=['int64', 'float64']).columns"
   ]
  },
  {
   "cell_type": "code",
   "execution_count": 80,
   "metadata": {},
   "outputs": [],
   "source": [
    "encoder = {0: \"Enrolled\", 1: \"Graduate\", 2: \"Dropout\"}"
   ]
  },
  {
   "cell_type": "code",
   "execution_count": 81,
   "metadata": {},
   "outputs": [],
   "source": [
    "preprocessor = ColumnTransformer(\n",
    "    transformers=[\n",
    "        ('num', StandardScaler(), num_features),\n",
    "        ('cat', OneHotEncoder(handle_unknown='ignore'), cat_features),\n",
    "    ])\n",
    "\n",
    "lgbm = Pipeline(steps=[\n",
    "    ('preprocessor', preprocessor),\n",
    "    ('classifier', LGBMClassifier(random_state = 42, verbose=-1,\n",
    "                                    max_depth= 8, \n",
    "                                    learning_rate= 0.00694099927384355, \n",
    "                                    n_estimators = 1689,\n",
    "                                    min_child_weight = 0.22269847051511316\n",
    "                                )\n",
    "    )\n",
    "])"
   ]
  },
  {
   "cell_type": "code",
   "execution_count": 82,
   "metadata": {},
   "outputs": [
    {
     "name": "stdout",
     "output_type": "stream",
     "text": [
      "Fold 1\n",
      "Fold 2\n",
      "Fold 3\n",
      "Fold 4\n",
      "Fold 5\n",
      "Score: 0.8300264185339831\n"
     ]
    }
   ],
   "source": [
    "scores,oof = cross_validation(lgbm, X, y, encoder)"
   ]
  },
  {
   "cell_type": "code",
   "execution_count": 83,
   "metadata": {},
   "outputs": [],
   "source": [
    "for fold in oof:\n",
    "    fold['true'] = fold['true'].replace(encoder)\n",
    "    \n",
    "save_oof(oof)"
   ]
  },
  {
   "cell_type": "code",
   "execution_count": 94,
   "metadata": {},
   "outputs": [],
   "source": [
    "# Função objetivo para a otimização\n",
    "def objective(trial: Trial, X_cp, y):\n",
    "\n",
    "    X = X_cp.copy()\n",
    "\n",
    "    param = {\n",
    "        'objective': 'multiclass',\n",
    "        'metric': 'multi_logloss',\n",
    "        'verbosity': -1,\n",
    "        'boosting_type': trial.suggest_categorical('boosting_type', ['gbdt', 'dart', 'goss']),\n",
    "        'num_class': 3,  # Número de classes\n",
    "        'num_leaves': trial.suggest_int('num_leaves', 2, 256),\n",
    "        'max_depth': trial.suggest_int('max_depth', -1, 64),\n",
    "        'learning_rate': trial.suggest_loguniform('learning_rate', 1e-8, 1.0),\n",
    "        'n_estimators': trial.suggest_int('n_estimators', 50, 1000),\n",
    "        'min_child_samples': trial.suggest_int('min_child_samples', 5, 100),\n",
    "        'subsample': trial.suggest_uniform('subsample', 0.5, 1.0),\n",
    "        'colsample_bytree': trial.suggest_uniform('colsample_bytree', 0.5, 1.0),\n",
    "        'reg_alpha': trial.suggest_loguniform('reg_alpha', 1e-8, 10.0),\n",
    "        'reg_lambda': trial.suggest_loguniform('reg_lambda', 1e-8, 10.0)\n",
    "    }\n",
    "\n",
    "    # Adicionar parâmetros específicos para 'dart'\n",
    "    if param['boosting_type'] == 'dart':\n",
    "        param['drop_rate'] = trial.suggest_uniform('drop_rate', 0.1, 0.5)\n",
    "        param['skip_drop'] = trial.suggest_uniform('skip_drop', 0.5, 1.0)\n",
    "    \n",
    "    # Adicionar parâmetros específicos para 'goss'\n",
    "    if param['boosting_type'] == 'goss':\n",
    "        param['top_rate'] = trial.suggest_uniform('top_rate', 0.0, 0.5)\n",
    "        param['other_rate'] = trial.suggest_uniform('other_rate', 0.0, 0.5)\n",
    "\n",
    "    threshold = trial.suggest_int('threshold', 1, 100)\n",
    "\n",
    "    cat_features = []\n",
    "\n",
    "    for col in initial_features:\n",
    "        unique_values = X[col].nunique()\n",
    "        \n",
    "        if unique_values <= threshold:\n",
    "            X[col] = X[col].astype('category')\n",
    "            cat_features.append(col)\n",
    "\n",
    "    preprocessor = ColumnTransformer(\n",
    "    transformers=[\n",
    "        ('num', StandardScaler(), num_features),\n",
    "        ('cat', OneHotEncoder(handle_unknown='ignore'), cat_features),\n",
    "    ])\n",
    "\n",
    "    lgbm = Pipeline(steps=[\n",
    "    ('preprocessor', preprocessor),\n",
    "    ('classifier', LGBMClassifier(**param))\n",
    "                    ])\n",
    "    \n",
    "    scores,_ = cross_validation(lgbm, X, y, encoder, k=3)\n",
    "    accuracy = np.mean(scores)\n",
    "\n",
    "\n",
    "    return accuracy"
   ]
  },
  {
   "cell_type": "code",
   "execution_count": 95,
   "metadata": {},
   "outputs": [
    {
     "name": "stderr",
     "output_type": "stream",
     "text": [
      "[I 2024-06-24 20:31:41,281] A new study created in memory with name: no-name-63a5a075-f1ce-474c-98ac-04846695cd28\n"
     ]
    },
    {
     "name": "stdout",
     "output_type": "stream",
     "text": [
      "Fold 1\n",
      "Fold 2\n",
      "Fold 3\n"
     ]
    },
    {
     "name": "stderr",
     "output_type": "stream",
     "text": [
      "[I 2024-06-24 20:34:35,719] Trial 0 finished with value: 0.475538039576432 and parameters: {'boosting_type': 'goss', 'num_leaves': 168, 'max_depth': 24, 'learning_rate': 5.6269388230625705e-06, 'n_estimators': 805, 'min_child_samples': 85, 'subsample': 0.8441427652522626, 'colsample_bytree': 0.9478659480174133, 'reg_alpha': 0.25979613937882073, 'reg_lambda': 1.5071219774536052e-05, 'top_rate': 0.4851252977690672, 'other_rate': 0.36043383414069824, 'threshold': 38}. Best is trial 0 with value: 0.475538039576432.\n"
     ]
    },
    {
     "name": "stdout",
     "output_type": "stream",
     "text": [
      "Score: 0.475538039576432\n",
      "Fold 1\n",
      "Fold 2\n",
      "Fold 3\n"
     ]
    },
    {
     "name": "stderr",
     "output_type": "stream",
     "text": [
      "[I 2024-06-24 20:46:52,392] Trial 1 finished with value: 0.475538039576432 and parameters: {'boosting_type': 'dart', 'num_leaves': 248, 'max_depth': 27, 'learning_rate': 1.5752580863232077e-05, 'n_estimators': 481, 'min_child_samples': 94, 'subsample': 0.9460968012186644, 'colsample_bytree': 0.8664482249338481, 'reg_alpha': 5.517378246196934e-06, 'reg_lambda': 0.0003478251326441819, 'drop_rate': 0.2337887951543568, 'skip_drop': 0.5180463685385117, 'threshold': 49}. Best is trial 0 with value: 0.475538039576432.\n"
     ]
    },
    {
     "name": "stdout",
     "output_type": "stream",
     "text": [
      "Score: 0.475538039576432\n",
      "Fold 1\n",
      "Fold 2\n",
      "Fold 3\n"
     ]
    },
    {
     "name": "stderr",
     "output_type": "stream",
     "text": [
      "[I 2024-06-24 20:55:19,098] Trial 2 finished with value: 0.475538039576432 and parameters: {'boosting_type': 'dart', 'num_leaves': 103, 'max_depth': 13, 'learning_rate': 2.0856300498831167e-08, 'n_estimators': 533, 'min_child_samples': 33, 'subsample': 0.8345247468231709, 'colsample_bytree': 0.9420917959389783, 'reg_alpha': 2.7409072829996893e-06, 'reg_lambda': 3.1993712026071117, 'drop_rate': 0.18626546732337446, 'skip_drop': 0.5811387339347385, 'threshold': 84}. Best is trial 0 with value: 0.475538039576432.\n"
     ]
    },
    {
     "name": "stdout",
     "output_type": "stream",
     "text": [
      "Score: 0.475538039576432\n",
      "Fold 1\n",
      "Fold 2\n",
      "Fold 3\n"
     ]
    },
    {
     "name": "stderr",
     "output_type": "stream",
     "text": [
      "[I 2024-06-24 20:57:22,161] Trial 3 finished with value: 0.475538039576432 and parameters: {'boosting_type': 'gbdt', 'num_leaves': 172, 'max_depth': 43, 'learning_rate': 2.0604449123336224e-08, 'n_estimators': 645, 'min_child_samples': 6, 'subsample': 0.5444239448807544, 'colsample_bytree': 0.9173336810857449, 'reg_alpha': 1.808195569901833e-05, 'reg_lambda': 2.2724655628028697e-08, 'threshold': 30}. Best is trial 0 with value: 0.475538039576432.\n"
     ]
    },
    {
     "name": "stdout",
     "output_type": "stream",
     "text": [
      "Score: 0.475538039576432\n",
      "Fold 1\n",
      "Fold 2\n",
      "Fold 3\n"
     ]
    },
    {
     "name": "stderr",
     "output_type": "stream",
     "text": [
      "[I 2024-06-24 20:58:04,357] Trial 4 finished with value: 0.475538039576432 and parameters: {'boosting_type': 'gbdt', 'num_leaves': 32, 'max_depth': 0, 'learning_rate': 8.744823940924801e-05, 'n_estimators': 527, 'min_child_samples': 82, 'subsample': 0.8673527509786609, 'colsample_bytree': 0.7406223855402814, 'reg_alpha': 0.023155244282778372, 'reg_lambda': 5.211452618017575e-06, 'threshold': 5}. Best is trial 0 with value: 0.475538039576432.\n"
     ]
    },
    {
     "name": "stdout",
     "output_type": "stream",
     "text": [
      "Score: 0.475538039576432\n",
      "Fold 1\n",
      "Fold 2\n",
      "Fold 3\n"
     ]
    },
    {
     "name": "stderr",
     "output_type": "stream",
     "text": [
      "[I 2024-06-24 20:58:18,672] Trial 5 finished with value: 0.475538039576432 and parameters: {'boosting_type': 'goss', 'num_leaves': 228, 'max_depth': 1, 'learning_rate': 0.0002730141195741741, 'n_estimators': 298, 'min_child_samples': 36, 'subsample': 0.5274877282096107, 'colsample_bytree': 0.7562774826533812, 'reg_alpha': 0.012850623144539714, 'reg_lambda': 0.0040423801134526205, 'top_rate': 0.14242779529466, 'other_rate': 0.007019965770053538, 'threshold': 77}. Best is trial 0 with value: 0.475538039576432.\n"
     ]
    },
    {
     "name": "stdout",
     "output_type": "stream",
     "text": [
      "Score: 0.475538039576432\n",
      "Fold 1\n",
      "Fold 2\n",
      "Fold 3\n"
     ]
    },
    {
     "name": "stderr",
     "output_type": "stream",
     "text": [
      "[I 2024-06-24 20:59:50,299] Trial 6 finished with value: 0.8267895677661024 and parameters: {'boosting_type': 'dart', 'num_leaves': 29, 'max_depth': 30, 'learning_rate': 0.00674319694823368, 'n_estimators': 578, 'min_child_samples': 32, 'subsample': 0.8804544702010778, 'colsample_bytree': 0.6392183157100473, 'reg_alpha': 0.12661921141062818, 'reg_lambda': 6.277579444106597, 'drop_rate': 0.49066779184376885, 'skip_drop': 0.9459976247967226, 'threshold': 47}. Best is trial 6 with value: 0.8267895677661024.\n"
     ]
    },
    {
     "name": "stdout",
     "output_type": "stream",
     "text": [
      "Score: 0.8267895677661024\n",
      "Fold 1\n",
      "Fold 2\n",
      "Fold 3\n"
     ]
    },
    {
     "name": "stderr",
     "output_type": "stream",
     "text": [
      "[I 2024-06-24 21:00:36,416] Trial 7 finished with value: 0.7250006184055043 and parameters: {'boosting_type': 'gbdt', 'num_leaves': 85, 'max_depth': 7, 'learning_rate': 0.0005712937494487666, 'n_estimators': 385, 'min_child_samples': 27, 'subsample': 0.8477699055804339, 'colsample_bytree': 0.6161961958222861, 'reg_alpha': 1.3156156224059485e-06, 'reg_lambda': 1.3079344875821475e-07, 'threshold': 21}. Best is trial 6 with value: 0.8267895677661024.\n"
     ]
    },
    {
     "name": "stdout",
     "output_type": "stream",
     "text": [
      "Score: 0.7250006184055043\n",
      "Fold 1\n",
      "Fold 2\n",
      "Fold 3\n"
     ]
    },
    {
     "name": "stderr",
     "output_type": "stream",
     "text": [
      "[I 2024-06-24 21:00:59,509] Trial 8 finished with value: 0.7924686415291903 and parameters: {'boosting_type': 'goss', 'num_leaves': 11, 'max_depth': 38, 'learning_rate': 0.002335110966448182, 'n_estimators': 243, 'min_child_samples': 89, 'subsample': 0.8865777844487424, 'colsample_bytree': 0.8141119905711697, 'reg_alpha': 2.820660250171086e-07, 'reg_lambda': 3.202360482901594e-05, 'top_rate': 0.049081375257595816, 'other_rate': 0.3985613626550676, 'threshold': 85}. Best is trial 6 with value: 0.8267895677661024.\n"
     ]
    },
    {
     "name": "stdout",
     "output_type": "stream",
     "text": [
      "Score: 0.7924686415291903\n",
      "Fold 1\n",
      "Fold 2\n",
      "Fold 3\n"
     ]
    },
    {
     "name": "stderr",
     "output_type": "stream",
     "text": [
      "[I 2024-06-24 21:02:15,601] Trial 9 finished with value: 0.8218353964907005 and parameters: {'boosting_type': 'goss', 'num_leaves': 151, 'max_depth': 37, 'learning_rate': 0.29007087561937006, 'n_estimators': 467, 'min_child_samples': 41, 'subsample': 0.971904882148088, 'colsample_bytree': 0.5863411822071835, 'reg_alpha': 2.4285020467624323e-06, 'reg_lambda': 0.0003281297038999388, 'top_rate': 0.23590435345879995, 'other_rate': 0.3747803694850656, 'threshold': 47}. Best is trial 6 with value: 0.8267895677661024.\n"
     ]
    },
    {
     "name": "stdout",
     "output_type": "stream",
     "text": [
      "Score: 0.8218353964907005\n",
      "Fold 1\n",
      "Fold 2\n",
      "Fold 3\n"
     ]
    },
    {
     "name": "stderr",
     "output_type": "stream",
     "text": [
      "[I 2024-06-24 21:03:53,670] Trial 10 finished with value: 0.8266536632542497 and parameters: {'boosting_type': 'dart', 'num_leaves': 58, 'max_depth': 60, 'learning_rate': 0.3179189425876629, 'n_estimators': 960, 'min_child_samples': 62, 'subsample': 0.7283145269252376, 'colsample_bytree': 0.5113935701246803, 'reg_alpha': 7.653990470932925, 'reg_lambda': 9.524266178768322, 'drop_rate': 0.4833953184071652, 'skip_drop': 0.9810238648381944, 'threshold': 66}. Best is trial 6 with value: 0.8267895677661024.\n"
     ]
    },
    {
     "name": "stdout",
     "output_type": "stream",
     "text": [
      "Score: 0.8266536632542497\n",
      "Fold 1\n",
      "Fold 2\n",
      "Fold 3\n"
     ]
    },
    {
     "name": "stderr",
     "output_type": "stream",
     "text": [
      "[I 2024-06-24 21:04:37,630] Trial 11 finished with value: 0.8211064852883551 and parameters: {'boosting_type': 'dart', 'num_leaves': 55, 'max_depth': 60, 'learning_rate': 0.7062475828214382, 'n_estimators': 971, 'min_child_samples': 62, 'subsample': 0.7227018607067915, 'colsample_bytree': 0.5033834382611035, 'reg_alpha': 7.575679934840098, 'reg_lambda': 7.39831367185221, 'drop_rate': 0.4959297877724635, 'skip_drop': 0.9995446299465598, 'threshold': 64}. Best is trial 6 with value: 0.8267895677661024.\n"
     ]
    },
    {
     "name": "stdout",
     "output_type": "stream",
     "text": [
      "Score: 0.8211064852883551\n",
      "Fold 1\n",
      "Fold 2\n",
      "Fold 3\n"
     ]
    },
    {
     "name": "stderr",
     "output_type": "stream",
     "text": [
      "[I 2024-06-24 21:07:17,883] Trial 12 finished with value: 0.8319290541760496 and parameters: {'boosting_type': 'dart', 'num_leaves': 61, 'max_depth': 64, 'learning_rate': 0.0275462028390742, 'n_estimators': 994, 'min_child_samples': 62, 'subsample': 0.7411732909864781, 'colsample_bytree': 0.6241673368979612, 'reg_alpha': 3.279035416834949, 'reg_lambda': 0.2109785075511987, 'drop_rate': 0.49737349830738997, 'skip_drop': 0.9750359586670615, 'threshold': 67}. Best is trial 12 with value: 0.8319290541760496.\n"
     ]
    },
    {
     "name": "stdout",
     "output_type": "stream",
     "text": [
      "Score: 0.8319290541760496\n",
      "Fold 1\n",
      "Fold 2\n",
      "Fold 3\n"
     ]
    },
    {
     "name": "stderr",
     "output_type": "stream",
     "text": [
      "[I 2024-06-24 21:07:30,272] Trial 13 finished with value: 0.8059968895004471 and parameters: {'boosting_type': 'dart', 'num_leaves': 8, 'max_depth': 49, 'learning_rate': 0.014983433595176242, 'n_estimators': 79, 'min_child_samples': 14, 'subsample': 0.7620119975683508, 'colsample_bytree': 0.6670078000148763, 'reg_alpha': 1.795347466683023e-08, 'reg_lambda': 0.0968095355856678, 'drop_rate': 0.3867246311671183, 'skip_drop': 0.8620214534035495, 'threshold': 97}. Best is trial 12 with value: 0.8319290541760496.\n"
     ]
    },
    {
     "name": "stdout",
     "output_type": "stream",
     "text": [
      "Score: 0.8059968895004471\n",
      "Fold 1\n",
      "Fold 2\n",
      "Fold 3\n"
     ]
    },
    {
     "name": "stderr",
     "output_type": "stream",
     "text": [
      "[I 2024-06-24 21:12:47,739] Trial 14 finished with value: 0.8308789100479578 and parameters: {'boosting_type': 'dart', 'num_leaves': 103, 'max_depth': 16, 'learning_rate': 0.010191499090018114, 'n_estimators': 743, 'min_child_samples': 53, 'subsample': 0.6469922311569938, 'colsample_bytree': 0.6686495086815127, 'reg_alpha': 0.0006805401141722475, 'reg_lambda': 0.16228837741946492, 'drop_rate': 0.39049394216194366, 'skip_drop': 0.8650817776721771, 'threshold': 62}. Best is trial 12 with value: 0.8319290541760496.\n"
     ]
    },
    {
     "name": "stdout",
     "output_type": "stream",
     "text": [
      "Score: 0.8308789100479578\n",
      "Fold 1\n",
      "Fold 2\n",
      "Fold 3\n"
     ]
    },
    {
     "name": "stderr",
     "output_type": "stream",
     "text": [
      "[I 2024-06-24 21:19:30,801] Trial 15 finished with value: 0.8299028990254763 and parameters: {'boosting_type': 'dart', 'num_leaves': 89, 'max_depth': 15, 'learning_rate': 0.05899306206216467, 'n_estimators': 782, 'min_child_samples': 53, 'subsample': 0.6366901360360675, 'colsample_bytree': 0.6992716650318918, 'reg_alpha': 0.000643898933557002, 'reg_lambda': 0.09723436471043834, 'drop_rate': 0.35611609546326933, 'skip_drop': 0.7989327839406926, 'threshold': 64}. Best is trial 12 with value: 0.8319290541760496.\n"
     ]
    },
    {
     "name": "stdout",
     "output_type": "stream",
     "text": [
      "Score: 0.8299028990254763\n",
      "Fold 1\n",
      "Fold 2\n",
      "Fold 3\n"
     ]
    },
    {
     "name": "stderr",
     "output_type": "stream",
     "text": [
      "[I 2024-06-24 21:24:28,853] Trial 16 finished with value: 0.830817150089429 and parameters: {'boosting_type': 'dart', 'num_leaves': 122, 'max_depth': 19, 'learning_rate': 0.03371912491607134, 'n_estimators': 816, 'min_child_samples': 71, 'subsample': 0.6348369147670558, 'colsample_bytree': 0.5846780441671041, 'reg_alpha': 0.0002799722898308958, 'reg_lambda': 0.17151357472513923, 'drop_rate': 0.10393901360367458, 'skip_drop': 0.8683951157983137, 'threshold': 71}. Best is trial 12 with value: 0.8319290541760496.\n"
     ]
    },
    {
     "name": "stdout",
     "output_type": "stream",
     "text": [
      "Score: 0.830817150089429\n",
      "Fold 1\n",
      "Fold 2\n",
      "Fold 3\n"
     ]
    },
    {
     "name": "stderr",
     "output_type": "stream",
     "text": [
      "[I 2024-06-24 21:32:07,836] Trial 17 finished with value: 0.8226631587024875 and parameters: {'boosting_type': 'dart', 'num_leaves': 127, 'max_depth': 50, 'learning_rate': 0.001610806728170427, 'n_estimators': 697, 'min_child_samples': 48, 'subsample': 0.6587792893762499, 'colsample_bytree': 0.6994732951180946, 'reg_alpha': 0.0005137414388168264, 'reg_lambda': 0.006806623240421344, 'drop_rate': 0.3890205671220285, 'skip_drop': 0.724974016704104, 'threshold': 99}. Best is trial 12 with value: 0.8319290541760496.\n"
     ]
    },
    {
     "name": "stdout",
     "output_type": "stream",
     "text": [
      "Score: 0.8226631587024875\n",
      "Fold 1\n",
      "Fold 2\n",
      "Fold 3\n"
     ]
    },
    {
     "name": "stderr",
     "output_type": "stream",
     "text": [
      "[I 2024-06-24 21:35:43,448] Trial 18 finished with value: 0.8287539286150052 and parameters: {'boosting_type': 'dart', 'num_leaves': 64, 'max_depth': 64, 'learning_rate': 0.07723527906652652, 'n_estimators': 886, 'min_child_samples': 70, 'subsample': 0.7758704500373532, 'colsample_bytree': 0.7600801538229713, 'reg_alpha': 0.5028264660282401, 'reg_lambda': 0.5547908921856939, 'drop_rate': 0.4177659693565031, 'skip_drop': 0.9053969416323573, 'threshold': 58}. Best is trial 12 with value: 0.8319290541760496.\n"
     ]
    },
    {
     "name": "stdout",
     "output_type": "stream",
     "text": [
      "Score: 0.8287539286150052\n",
      "Fold 1\n",
      "Fold 2\n",
      "Fold 3\n"
     ]
    },
    {
     "name": "stderr",
     "output_type": "stream",
     "text": [
      "[I 2024-06-24 21:37:51,729] Trial 19 finished with value: 0.831138356456479 and parameters: {'boosting_type': 'gbdt', 'num_leaves': 105, 'max_depth': 21, 'learning_rate': 0.00783165200045635, 'n_estimators': 717, 'min_child_samples': 54, 'subsample': 0.6857783592750365, 'colsample_bytree': 0.6779443595902248, 'reg_alpha': 0.007972149518321248, 'reg_lambda': 0.01337338341292634, 'threshold': 77}. Best is trial 12 with value: 0.8319290541760496.\n"
     ]
    },
    {
     "name": "stdout",
     "output_type": "stream",
     "text": [
      "Score: 0.831138356456479\n",
      "Fold 1\n",
      "Fold 2\n",
      "Fold 3\n"
     ]
    },
    {
     "name": "stderr",
     "output_type": "stream",
     "text": [
      "[I 2024-06-24 21:39:01,639] Trial 20 finished with value: 0.8102591957493778 and parameters: {'boosting_type': 'gbdt', 'num_leaves': 196, 'max_depth': 35, 'learning_rate': 0.9975947252659969, 'n_estimators': 891, 'min_child_samples': 75, 'subsample': 0.6873958284027281, 'colsample_bytree': 0.5555845651192282, 'reg_alpha': 1.211136679660736, 'reg_lambda': 0.008953867119096888, 'threshold': 84}. Best is trial 12 with value: 0.8319290541760496.\n"
     ]
    },
    {
     "name": "stdout",
     "output_type": "stream",
     "text": [
      "Score: 0.8102591957493778\n",
      "Fold 1\n",
      "Fold 2\n",
      "Fold 3\n"
     ]
    },
    {
     "name": "stderr",
     "output_type": "stream",
     "text": [
      "[I 2024-06-24 21:41:15,895] Trial 21 finished with value: 0.8312742573050632 and parameters: {'boosting_type': 'gbdt', 'num_leaves': 104, 'max_depth': 19, 'learning_rate': 0.00827685148292549, 'n_estimators': 676, 'min_child_samples': 61, 'subsample': 0.5942403110598394, 'colsample_bytree': 0.6417481453772235, 'reg_alpha': 0.00756191302784438, 'reg_lambda': 0.028374081912134256, 'threshold': 76}. Best is trial 12 with value: 0.8319290541760496.\n"
     ]
    },
    {
     "name": "stdout",
     "output_type": "stream",
     "text": [
      "Score: 0.8312742573050632\n",
      "Fold 1\n",
      "Fold 2\n",
      "Fold 3\n"
     ]
    },
    {
     "name": "stderr",
     "output_type": "stream",
     "text": [
      "[I 2024-06-24 21:43:21,565] Trial 22 finished with value: 0.8300387966687005 and parameters: {'boosting_type': 'gbdt', 'num_leaves': 78, 'max_depth': 22, 'learning_rate': 0.006494092086754446, 'n_estimators': 631, 'min_child_samples': 63, 'subsample': 0.5759781613107633, 'colsample_bytree': 0.6281250490552001, 'reg_alpha': 0.00845541547995707, 'reg_lambda': 0.020650344101986337, 'threshold': 74}. Best is trial 12 with value: 0.8319290541760496.\n"
     ]
    },
    {
     "name": "stdout",
     "output_type": "stream",
     "text": [
      "Score: 0.8300387966687005\n",
      "Fold 1\n",
      "Fold 2\n",
      "Fold 3\n"
     ]
    },
    {
     "name": "stderr",
     "output_type": "stream",
     "text": [
      "[I 2024-06-24 21:45:29,383] Trial 23 finished with value: 0.8282597509543432 and parameters: {'boosting_type': 'gbdt', 'num_leaves': 148, 'max_depth': 11, 'learning_rate': 0.061682798137786855, 'n_estimators': 654, 'min_child_samples': 46, 'subsample': 0.5891794099786218, 'colsample_bytree': 0.5809339804087793, 'reg_alpha': 0.05603506419260619, 'reg_lambda': 0.002173357736157009, 'threshold': 92}. Best is trial 12 with value: 0.8319290541760496.\n"
     ]
    },
    {
     "name": "stdout",
     "output_type": "stream",
     "text": [
      "Score: 0.8282597509543432\n",
      "Fold 1\n",
      "Fold 2\n",
      "Fold 3\n"
     ]
    },
    {
     "name": "stderr",
     "output_type": "stream",
     "text": [
      "[I 2024-06-24 21:48:58,053] Trial 24 finished with value: 0.8266783839055326 and parameters: {'boosting_type': 'gbdt', 'num_leaves': 112, 'max_depth': 30, 'learning_rate': 0.0022543425648189636, 'n_estimators': 904, 'min_child_samples': 58, 'subsample': 0.6845644119720115, 'colsample_bytree': 0.6591904857359343, 'reg_alpha': 0.006702440416254994, 'reg_lambda': 0.028963165127185313, 'threshold': 78}. Best is trial 12 with value: 0.8319290541760496.\n"
     ]
    },
    {
     "name": "stdout",
     "output_type": "stream",
     "text": [
      "Score: 0.8266783839055326\n",
      "Fold 1\n",
      "Fold 2\n",
      "Fold 3\n"
     ]
    },
    {
     "name": "stderr",
     "output_type": "stream",
     "text": [
      "[I 2024-06-24 21:50:24,178] Trial 25 finished with value: 0.8254182291765831 and parameters: {'boosting_type': 'gbdt', 'num_leaves': 44, 'max_depth': 8, 'learning_rate': 0.16289290538756315, 'n_estimators': 711, 'min_child_samples': 75, 'subsample': 0.6047548664179404, 'colsample_bytree': 0.7085813306509103, 'reg_alpha': 1.1840188992207525, 'reg_lambda': 1.2264560958891393, 'threshold': 54}. Best is trial 12 with value: 0.8319290541760496.\n"
     ]
    },
    {
     "name": "stdout",
     "output_type": "stream",
     "text": [
      "Score: 0.8254182291765831\n",
      "Fold 1\n",
      "Fold 2\n",
      "Fold 3\n"
     ]
    },
    {
     "name": "stderr",
     "output_type": "stream",
     "text": [
      "[I 2024-06-24 21:53:32,457] Trial 26 finished with value: 0.8310765813869677 and parameters: {'boosting_type': 'gbdt', 'num_leaves': 140, 'max_depth': 22, 'learning_rate': 0.023074020001430183, 'n_estimators': 858, 'min_child_samples': 22, 'subsample': 0.5087637942762084, 'colsample_bytree': 0.6163434428175735, 'reg_alpha': 0.07715449843188832, 'reg_lambda': 0.7295044440321042, 'threshold': 72}. Best is trial 12 with value: 0.8319290541760496.\n"
     ]
    },
    {
     "name": "stdout",
     "output_type": "stream",
     "text": [
      "Score: 0.8310765813869677\n",
      "Fold 1\n",
      "Fold 2\n",
      "Fold 3\n"
     ]
    },
    {
     "name": "stderr",
     "output_type": "stream",
     "text": [
      "[I 2024-06-24 21:55:52,699] Trial 27 finished with value: 0.8264189374970116 and parameters: {'boosting_type': 'gbdt', 'num_leaves': 74, 'max_depth': 44, 'learning_rate': 0.11208634847390206, 'n_estimators': 978, 'min_child_samples': 44, 'subsample': 0.797557970339096, 'colsample_bytree': 0.656100153493143, 'reg_alpha': 0.0027199089585017216, 'reg_lambda': 0.0013121347503753447, 'threshold': 90}. Best is trial 12 with value: 0.8319290541760496.\n"
     ]
    },
    {
     "name": "stdout",
     "output_type": "stream",
     "text": [
      "Score: 0.8264189374970116\n",
      "Fold 1\n",
      "Fold 2\n",
      "Fold 3\n"
     ]
    },
    {
     "name": "stderr",
     "output_type": "stream",
     "text": [
      "[I 2024-06-24 21:56:33,915] Trial 28 finished with value: 0.8290380842270954 and parameters: {'boosting_type': 'gbdt', 'num_leaves': 92, 'max_depth': 6, 'learning_rate': 0.015608812513896227, 'n_estimators': 390, 'min_child_samples': 65, 'subsample': 0.713830862873321, 'colsample_bytree': 0.5414510650460915, 'reg_alpha': 0.05003638622548687, 'reg_lambda': 0.03665500047979424, 'threshold': 79}. Best is trial 12 with value: 0.8319290541760496.\n"
     ]
    },
    {
     "name": "stdout",
     "output_type": "stream",
     "text": [
      "Score: 0.8290380842270954\n",
      "Fold 1\n",
      "Fold 2\n",
      "Fold 3\n"
     ]
    },
    {
     "name": "stderr",
     "output_type": "stream",
     "text": [
      "[I 2024-06-24 21:58:52,891] Trial 29 finished with value: 0.8074300077385631 and parameters: {'boosting_type': 'goss', 'num_leaves': 180, 'max_depth': 26, 'learning_rate': 0.0007704908489029376, 'n_estimators': 788, 'min_child_samples': 83, 'subsample': 0.6891529996064819, 'colsample_bytree': 0.9913794586856166, 'reg_alpha': 0.25661208982773576, 'reg_lambda': 0.4744095841872058, 'top_rate': 0.4103633990136163, 'other_rate': 0.1589689827773736, 'threshold': 38}. Best is trial 12 with value: 0.8319290541760496.\n"
     ]
    },
    {
     "name": "stdout",
     "output_type": "stream",
     "text": [
      "Score: 0.8074300077385631\n",
      "Fold 1\n",
      "Fold 2\n",
      "Fold 3\n"
     ]
    },
    {
     "name": "stderr",
     "output_type": "stream",
     "text": [
      "[I 2024-06-24 22:00:00,631] Trial 30 finished with value: 0.8272590398864635 and parameters: {'boosting_type': 'gbdt', 'num_leaves': 110, 'max_depth': 18, 'learning_rate': 0.0041626558416149265, 'n_estimators': 587, 'min_child_samples': 50, 'subsample': 0.7322452821638167, 'colsample_bytree': 0.6134108611018181, 'reg_alpha': 0.0027576090988040195, 'reg_lambda': 0.01981647446427804, 'threshold': 39}. Best is trial 12 with value: 0.8319290541760496.\n"
     ]
    },
    {
     "name": "stdout",
     "output_type": "stream",
     "text": [
      "Score: 0.8272590398864635\n",
      "Fold 1\n",
      "Fold 2\n",
      "Fold 3\n"
     ]
    },
    {
     "name": "stderr",
     "output_type": "stream",
     "text": [
      "[I 2024-06-24 22:01:34,472] Trial 31 finished with value: 0.8323985088958857 and parameters: {'boosting_type': 'gbdt', 'num_leaves': 131, 'max_depth': 22, 'learning_rate': 0.021277550212860343, 'n_estimators': 839, 'min_child_samples': 19, 'subsample': 0.5027583644198724, 'colsample_bytree': 0.6127616945382793, 'reg_alpha': 0.04870416684818775, 'reg_lambda': 1.424750693727723, 'threshold': 72}. Best is trial 31 with value: 0.8323985088958857.\n"
     ]
    },
    {
     "name": "stdout",
     "output_type": "stream",
     "text": [
      "Score: 0.8323985088958857\n",
      "Fold 1\n",
      "Fold 2\n",
      "Fold 3\n"
     ]
    },
    {
     "name": "stderr",
     "output_type": "stream",
     "text": [
      "[I 2024-06-24 22:03:07,086] Trial 32 finished with value: 0.8314225203109231 and parameters: {'boosting_type': 'gbdt', 'num_leaves': 135, 'max_depth': 25, 'learning_rate': 0.026591364508871493, 'n_estimators': 826, 'min_child_samples': 58, 'subsample': 0.557301803724642, 'colsample_bytree': 0.5981332455933476, 'reg_alpha': 0.2444409672134056, 'reg_lambda': 1.0895188652336705, 'threshold': 68}. Best is trial 31 with value: 0.8323985088958857.\n"
     ]
    },
    {
     "name": "stdout",
     "output_type": "stream",
     "text": [
      "Score: 0.8314225203109231\n",
      "Fold 1\n",
      "Fold 2\n",
      "Fold 3\n"
     ]
    },
    {
     "name": "stderr",
     "output_type": "stream",
     "text": [
      "[I 2024-06-24 22:04:41,659] Trial 33 finished with value: 0.830458866408723 and parameters: {'boosting_type': 'gbdt', 'num_leaves': 132, 'max_depth': 26, 'learning_rate': 0.034510906543575325, 'n_estimators': 828, 'min_child_samples': 97, 'subsample': 0.5580088041397615, 'colsample_bytree': 0.5681267864788218, 'reg_alpha': 0.43031735841943675, 'reg_lambda': 1.5570375081508492, 'threshold': 69}. Best is trial 31 with value: 0.8323985088958857.\n"
     ]
    },
    {
     "name": "stdout",
     "output_type": "stream",
     "text": [
      "Score: 0.830458866408723\n",
      "Fold 1\n",
      "Fold 2\n",
      "Fold 3\n"
     ]
    },
    {
     "name": "stderr",
     "output_type": "stream",
     "text": [
      "[I 2024-06-24 22:06:11,574] Trial 34 finished with value: 0.8247510774748581 and parameters: {'boosting_type': 'gbdt', 'num_leaves': 161, 'max_depth': 31, 'learning_rate': 0.12236657612560474, 'n_estimators': 922, 'min_child_samples': 69, 'subsample': 0.5005470583626329, 'colsample_bytree': 0.6041231493999264, 'reg_alpha': 1.9629255404252535, 'reg_lambda': 1.6190072231765615, 'threshold': 52}. Best is trial 31 with value: 0.8323985088958857.\n"
     ]
    },
    {
     "name": "stdout",
     "output_type": "stream",
     "text": [
      "Score: 0.8247510774748581\n",
      "Fold 1\n",
      "Fold 2\n",
      "Fold 3\n"
     ]
    },
    {
     "name": "stderr",
     "output_type": "stream",
     "text": [
      "[I 2024-06-24 22:08:46,886] Trial 35 finished with value: 0.475538039576432 and parameters: {'boosting_type': 'gbdt', 'num_leaves': 194, 'max_depth': 34, 'learning_rate': 6.375964337770136e-05, 'n_estimators': 995, 'min_child_samples': 8, 'subsample': 0.5344534817640882, 'colsample_bytree': 0.5378008135036559, 'reg_alpha': 0.17814582568659812, 'reg_lambda': 0.31565830714628557, 'threshold': 60}. Best is trial 31 with value: 0.8323985088958857.\n"
     ]
    },
    {
     "name": "stdout",
     "output_type": "stream",
     "text": [
      "Score: 0.475538039576432\n",
      "Fold 1\n",
      "Fold 2\n",
      "Fold 3\n"
     ]
    },
    {
     "name": "stderr",
     "output_type": "stream",
     "text": [
      "[I 2024-06-24 22:10:01,481] Trial 36 finished with value: 0.8312371822809501 and parameters: {'boosting_type': 'gbdt', 'num_leaves': 121, 'max_depth': 12, 'learning_rate': 0.022458170365305157, 'n_estimators': 765, 'min_child_samples': 39, 'subsample': 0.568743056130837, 'colsample_bytree': 0.6413648237624427, 'reg_alpha': 0.033728400609577956, 'reg_lambda': 1.951065439396975, 'threshold': 83}. Best is trial 31 with value: 0.8323985088958857.\n"
     ]
    },
    {
     "name": "stdout",
     "output_type": "stream",
     "text": [
      "Score: 0.8312371822809501\n",
      "Fold 1\n",
      "Fold 2\n",
      "Fold 3\n"
     ]
    },
    {
     "name": "stderr",
     "output_type": "stream",
     "text": [
      "[I 2024-06-24 22:12:24,319] Trial 37 finished with value: 0.8294952006009005 and parameters: {'boosting_type': 'goss', 'num_leaves': 252, 'max_depth': 27, 'learning_rate': 0.0037246431741984175, 'n_estimators': 850, 'min_child_samples': 59, 'subsample': 0.5422904952222343, 'colsample_bytree': 0.560595994514164, 'reg_alpha': 0.09997005990920044, 'reg_lambda': 3.3438274674652937, 'top_rate': 0.0011901161671735716, 'other_rate': 0.46537877307842995, 'threshold': 57}. Best is trial 31 with value: 0.8323985088958857.\n"
     ]
    },
    {
     "name": "stdout",
     "output_type": "stream",
     "text": [
      "Score: 0.8294952006009005\n",
      "Fold 1\n",
      "Fold 2\n",
      "Fold 3\n"
     ]
    },
    {
     "name": "stderr",
     "output_type": "stream",
     "text": [
      "[I 2024-06-24 22:15:41,903] Trial 38 finished with value: 0.7230485986500836 and parameters: {'boosting_type': 'gbdt', 'num_leaves': 228, 'max_depth': 42, 'learning_rate': 0.00024024878836315344, 'n_estimators': 922, 'min_child_samples': 77, 'subsample': 0.6036258804804099, 'colsample_bytree': 0.6017141429557827, 'reg_alpha': 2.7004374654775027, 'reg_lambda': 0.0797104793181065, 'threshold': 68}. Best is trial 31 with value: 0.8323985088958857.\n"
     ]
    },
    {
     "name": "stdout",
     "output_type": "stream",
     "text": [
      "Score: 0.7230485986500836\n",
      "Fold 1\n",
      "Fold 2\n",
      "Fold 3\n"
     ]
    },
    {
     "name": "stderr",
     "output_type": "stream",
     "text": [
      "[I 2024-06-24 22:18:02,785] Trial 39 finished with value: 0.8192162428919886 and parameters: {'boosting_type': 'gbdt', 'num_leaves': 163, 'max_depth': 24, 'learning_rate': 0.0012259977747969498, 'n_estimators': 665, 'min_child_samples': 18, 'subsample': 0.5250130940059995, 'colsample_bytree': 0.6311965018564057, 'reg_alpha': 0.47897244404043293, 'reg_lambda': 0.23431597006736168, 'threshold': 90}. Best is trial 31 with value: 0.8323985088958857.\n"
     ]
    },
    {
     "name": "stdout",
     "output_type": "stream",
     "text": [
      "Score: 0.8192162428919886\n",
      "Fold 1\n",
      "Fold 2\n",
      "Fold 3\n"
     ]
    },
    {
     "name": "stderr",
     "output_type": "stream",
     "text": [
      "[I 2024-06-24 22:18:42,145] Trial 40 finished with value: 0.475538039576432 and parameters: {'boosting_type': 'goss', 'num_leaves': 28, 'max_depth': 3, 'learning_rate': 2.3097423336556173e-06, 'n_estimators': 814, 'min_child_samples': 90, 'subsample': 0.5555702850698545, 'colsample_bytree': 0.5948853358682049, 'reg_alpha': 0.024012140461929992, 'reg_lambda': 3.2743944465236, 'top_rate': 0.3343975139465918, 'other_rate': 0.21479278561003434, 'threshold': 2}. Best is trial 31 with value: 0.8323985088958857.\n"
     ]
    },
    {
     "name": "stdout",
     "output_type": "stream",
     "text": [
      "Score: 0.475538039576432\n",
      "Fold 1\n",
      "Fold 2\n",
      "Fold 3\n"
     ]
    },
    {
     "name": "stderr",
     "output_type": "stream",
     "text": [
      "[I 2024-06-24 22:20:31,578] Trial 41 finished with value: 0.8310889435442436 and parameters: {'boosting_type': 'gbdt', 'num_leaves': 119, 'max_depth': 13, 'learning_rate': 0.027004823313406177, 'n_estimators': 764, 'min_child_samples': 36, 'subsample': 0.5789951461929672, 'colsample_bytree': 0.6431519098277763, 'reg_alpha': 0.0233781711132486, 'reg_lambda': 0.9896420085412606, 'threshold': 82}. Best is trial 31 with value: 0.8323985088958857.\n"
     ]
    },
    {
     "name": "stdout",
     "output_type": "stream",
     "text": [
      "Score: 0.8310889435442436\n",
      "Fold 1\n",
      "Fold 2\n",
      "Fold 3\n"
     ]
    },
    {
     "name": "stderr",
     "output_type": "stream",
     "text": [
      "[I 2024-06-24 22:22:18,418] Trial 42 finished with value: 0.8312371873179442 and parameters: {'boosting_type': 'gbdt', 'num_leaves': 136, 'max_depth': 12, 'learning_rate': 0.013120896207466247, 'n_estimators': 762, 'min_child_samples': 39, 'subsample': 0.500528369132015, 'colsample_bytree': 0.6337955949112632, 'reg_alpha': 0.27181712688134635, 'reg_lambda': 2.2162968117226574, 'threshold': 87}. Best is trial 31 with value: 0.8323985088958857.\n"
     ]
    },
    {
     "name": "stdout",
     "output_type": "stream",
     "text": [
      "Score: 0.8312371873179442\n",
      "Fold 1\n",
      "Fold 2\n",
      "Fold 3\n"
     ]
    },
    {
     "name": "stderr",
     "output_type": "stream",
     "text": [
      "[I 2024-06-24 22:24:03,318] Trial 43 finished with value: 0.8293222462499052 and parameters: {'boosting_type': 'gbdt', 'num_leaves': 145, 'max_depth': 18, 'learning_rate': 0.005065603118856099, 'n_estimators': 600, 'min_child_samples': 29, 'subsample': 0.5241918815785126, 'colsample_bytree': 0.6192840571177368, 'reg_alpha': 0.16467164107048163, 'reg_lambda': 0.5127781765310186, 'threshold': 73}. Best is trial 31 with value: 0.8323985088958857.\n"
     ]
    },
    {
     "name": "stdout",
     "output_type": "stream",
     "text": [
      "Score: 0.8293222462499052\n",
      "Fold 1\n",
      "Fold 2\n",
      "Fold 3\n"
     ]
    },
    {
     "name": "stderr",
     "output_type": "stream",
     "text": [
      "[I 2024-06-24 22:24:52,598] Trial 44 finished with value: 0.8230832133315277 and parameters: {'boosting_type': 'gbdt', 'num_leaves': 134, 'max_depth': 10, 'learning_rate': 0.30602517235631094, 'n_estimators': 499, 'min_child_samples': 57, 'subsample': 0.5014170236684629, 'colsample_bytree': 0.584689803799647, 'reg_alpha': 4.444227732731976, 'reg_lambda': 4.384846578526282, 'threshold': 88}. Best is trial 31 with value: 0.8323985088958857.\n"
     ]
    },
    {
     "name": "stdout",
     "output_type": "stream",
     "text": [
      "Score: 0.8230832133315277\n",
      "Fold 1\n",
      "Fold 2\n",
      "Fold 3\n"
     ]
    },
    {
     "name": "stderr",
     "output_type": "stream",
     "text": [
      "[I 2024-06-24 22:30:39,068] Trial 45 finished with value: 0.8300387957528835 and parameters: {'boosting_type': 'dart', 'num_leaves': 180, 'max_depth': 15, 'learning_rate': 0.012091749115181212, 'n_estimators': 932, 'min_child_samples': 22, 'subsample': 0.5441208380699598, 'colsample_bytree': 0.5277815678046893, 'reg_alpha': 1.4548261515994576, 'reg_lambda': 8.267240720363304, 'drop_rate': 0.3165153726905306, 'skip_drop': 0.721114456617655, 'threshold': 17}. Best is trial 31 with value: 0.8323985088958857.\n"
     ]
    },
    {
     "name": "stdout",
     "output_type": "stream",
     "text": [
      "Score: 0.8300387957528835\n",
      "Fold 1\n",
      "Fold 2\n",
      "Fold 3\n"
     ]
    },
    {
     "name": "stderr",
     "output_type": "stream",
     "text": [
      "[I 2024-06-24 22:31:47,305] Trial 46 finished with value: 0.8311012951696224 and parameters: {'boosting_type': 'gbdt', 'num_leaves': 153, 'max_depth': 51, 'learning_rate': 0.04208215650079167, 'n_estimators': 845, 'min_child_samples': 42, 'subsample': 0.5177223049362594, 'colsample_bytree': 0.5680278642856459, 'reg_alpha': 9.050109833257135, 'reg_lambda': 0.047192522857970674, 'threshold': 43}. Best is trial 31 with value: 0.8323985088958857.\n"
     ]
    },
    {
     "name": "stdout",
     "output_type": "stream",
     "text": [
      "Score: 0.8311012951696224\n",
      "Fold 1\n",
      "Fold 2\n",
      "Fold 3\n"
     ]
    },
    {
     "name": "stderr",
     "output_type": "stream",
     "text": [
      "[I 2024-06-24 22:34:33,238] Trial 47 finished with value: 0.8230584995488731 and parameters: {'boosting_type': 'dart', 'num_leaves': 92, 'max_depth': 29, 'learning_rate': 0.002750147577328109, 'n_estimators': 551, 'min_child_samples': 66, 'subsample': 0.5495033691269597, 'colsample_bytree': 0.6389094779526898, 'reg_alpha': 0.31967286460929106, 'reg_lambda': 0.2218449492744398, 'drop_rate': 0.29281596915668595, 'skip_drop': 0.7907068549333595, 'threshold': 95}. Best is trial 31 with value: 0.8323985088958857.\n"
     ]
    },
    {
     "name": "stdout",
     "output_type": "stream",
     "text": [
      "Score: 0.8230584995488731\n",
      "Fold 1\n",
      "Fold 2\n",
      "Fold 3\n"
     ]
    },
    {
     "name": "stderr",
     "output_type": "stream",
     "text": [
      "[I 2024-06-24 22:35:12,606] Trial 48 finished with value: 0.7313379322371717 and parameters: {'boosting_type': 'goss', 'num_leaves': 44, 'max_depth': 20, 'learning_rate': 0.15020673306908822, 'n_estimators': 742, 'min_child_samples': 10, 'subsample': 0.5956061030006663, 'colsample_bytree': 0.6852209236878172, 'reg_alpha': 0.7770926158643234, 'reg_lambda': 0.07555903723801263, 'top_rate': 0.24841065299031662, 'other_rate': 0.0003942132288886069, 'threshold': 64}. Best is trial 31 with value: 0.8323985088958857.\n"
     ]
    },
    {
     "name": "stdout",
     "output_type": "stream",
     "text": [
      "Score: 0.7313379322371717\n",
      "Fold 1\n",
      "Fold 2\n",
      "Fold 3\n"
     ]
    },
    {
     "name": "stderr",
     "output_type": "stream",
     "text": [
      "[I 2024-06-24 22:36:29,448] Trial 49 finished with value: 0.8318549045857316 and parameters: {'boosting_type': 'gbdt', 'num_leaves': 102, 'max_depth': 55, 'learning_rate': 0.011165523568749282, 'n_estimators': 952, 'min_child_samples': 32, 'subsample': 0.5277327188558001, 'colsample_bytree': 0.7168414855667422, 'reg_alpha': 3.282096085340846, 'reg_lambda': 0.8004159139159825, 'threshold': 80}. Best is trial 31 with value: 0.8323985088958857.\n"
     ]
    },
    {
     "name": "stdout",
     "output_type": "stream",
     "text": [
      "Score: 0.8318549045857316\n",
      "Fold 1\n",
      "Fold 2\n",
      "Fold 3\n"
     ]
    },
    {
     "name": "stderr",
     "output_type": "stream",
     "text": [
      "[I 2024-06-24 22:38:36,145] Trial 50 finished with value: 0.8271725592766517 and parameters: {'boosting_type': 'dart', 'num_leaves': 100, 'max_depth': 54, 'learning_rate': 0.06870505512596745, 'n_estimators': 953, 'min_child_samples': 25, 'subsample': 0.6257022873868383, 'colsample_bytree': 0.7254015934510247, 'reg_alpha': 3.967107749114879, 'reg_lambda': 0.4267994648788323, 'drop_rate': 0.450279779215054, 'skip_drop': 0.9330814172175745, 'threshold': 80}. Best is trial 31 with value: 0.8323985088958857.\n"
     ]
    },
    {
     "name": "stdout",
     "output_type": "stream",
     "text": [
      "Score: 0.8271725592766517\n",
      "Fold 1\n",
      "Fold 2\n",
      "Fold 3\n"
     ]
    },
    {
     "name": "stderr",
     "output_type": "stream",
     "text": [
      "[I 2024-06-24 22:39:40,367] Trial 51 finished with value: 0.8317437188935277 and parameters: {'boosting_type': 'gbdt', 'num_leaves': 70, 'max_depth': 63, 'learning_rate': 0.010709947364436048, 'n_estimators': 883, 'min_child_samples': 32, 'subsample': 0.5288053460701156, 'colsample_bytree': 0.653517758935111, 'reg_alpha': 0.7081230950101494, 'reg_lambda': 3.5407625448690143, 'threshold': 87}. Best is trial 31 with value: 0.8323985088958857.\n"
     ]
    },
    {
     "name": "stdout",
     "output_type": "stream",
     "text": [
      "Score: 0.8317437188935277\n",
      "Fold 1\n",
      "Fold 2\n",
      "Fold 3\n"
     ]
    },
    {
     "name": "stderr",
     "output_type": "stream",
     "text": [
      "[I 2024-06-24 22:40:37,917] Trial 52 finished with value: 0.8315707475999158 and parameters: {'boosting_type': 'gbdt', 'num_leaves': 67, 'max_depth': 64, 'learning_rate': 0.00845369588347067, 'n_estimators': 881, 'min_child_samples': 33, 'subsample': 0.5642097887044836, 'colsample_bytree': 0.6806649039007057, 'reg_alpha': 0.8847044867506125, 'reg_lambda': 9.329622065212078, 'threshold': 77}. Best is trial 31 with value: 0.8323985088958857.\n"
     ]
    },
    {
     "name": "stdout",
     "output_type": "stream",
     "text": [
      "Score: 0.8315707475999158\n",
      "Fold 1\n",
      "Fold 2\n",
      "Fold 3\n"
     ]
    },
    {
     "name": "stderr",
     "output_type": "stream",
     "text": [
      "[I 2024-06-24 22:41:34,078] Trial 53 finished with value: 0.8319166920187738 and parameters: {'boosting_type': 'gbdt', 'num_leaves': 67, 'max_depth': 64, 'learning_rate': 0.01954057770121115, 'n_estimators': 945, 'min_child_samples': 33, 'subsample': 0.5631812073252151, 'colsample_bytree': 0.6827593386562959, 'reg_alpha': 3.011058797267477, 'reg_lambda': 8.76855823943959, 'threshold': 94}. Best is trial 31 with value: 0.8323985088958857.\n"
     ]
    },
    {
     "name": "stdout",
     "output_type": "stream",
     "text": [
      "Score: 0.8319166920187738\n",
      "Fold 1\n",
      "Fold 2\n",
      "Fold 3\n"
     ]
    },
    {
     "name": "stderr",
     "output_type": "stream",
     "text": [
      "[I 2024-06-24 22:42:28,937] Trial 54 finished with value: 0.8305329811979908 and parameters: {'boosting_type': 'gbdt', 'num_leaves': 65, 'max_depth': 64, 'learning_rate': 0.006287754578533907, 'n_estimators': 874, 'min_child_samples': 33, 'subsample': 0.534296747608857, 'colsample_bytree': 0.6860657285820086, 'reg_alpha': 3.1298531317196314, 'reg_lambda': 9.536443387435238, 'threshold': 95}. Best is trial 31 with value: 0.8323985088958857.\n"
     ]
    },
    {
     "name": "stdout",
     "output_type": "stream",
     "text": [
      "Score: 0.8305329811979908\n",
      "Fold 1\n",
      "Fold 2\n",
      "Fold 3\n"
     ]
    },
    {
     "name": "stderr",
     "output_type": "stream",
     "text": [
      "[I 2024-06-24 22:43:06,623] Trial 55 finished with value: 0.8196733661344222 and parameters: {'boosting_type': 'gbdt', 'num_leaves': 73, 'max_depth': 59, 'learning_rate': 0.43868870562559403, 'n_estimators': 1000, 'min_child_samples': 31, 'subsample': 0.6175034304500358, 'colsample_bytree': 0.7389047993911806, 'reg_alpha': 1.0469037079586971, 'reg_lambda': 5.370780034777461, 'threshold': 85}. Best is trial 31 with value: 0.8323985088958857.\n"
     ]
    },
    {
     "name": "stdout",
     "output_type": "stream",
     "text": [
      "Score: 0.8196733661344222\n",
      "Fold 1\n",
      "Fold 2\n",
      "Fold 3\n"
     ]
    },
    {
     "name": "stderr",
     "output_type": "stream",
     "text": [
      "[I 2024-06-24 22:46:58,655] Trial 56 finished with value: 0.8218477600217019 and parameters: {'boosting_type': 'dart', 'num_leaves': 48, 'max_depth': 57, 'learning_rate': 0.0029435219169894424, 'n_estimators': 954, 'min_child_samples': 16, 'subsample': 0.5667158953168332, 'colsample_bytree': 0.6771013727879447, 'reg_alpha': 9.717417825299625, 'reg_lambda': 3.4941952193925427, 'drop_rate': 0.44737477154360733, 'skip_drop': 0.6689267164491857, 'threshold': 100}. Best is trial 31 with value: 0.8323985088958857.\n"
     ]
    },
    {
     "name": "stdout",
     "output_type": "stream",
     "text": [
      "Score: 0.8218477600217019\n",
      "Fold 1\n",
      "Fold 2\n",
      "Fold 3\n"
     ]
    },
    {
     "name": "stderr",
     "output_type": "stream",
     "text": [
      "[I 2024-06-24 22:47:39,517] Trial 57 finished with value: 0.8312989619295467 and parameters: {'boosting_type': 'gbdt', 'num_leaves': 25, 'max_depth': 62, 'learning_rate': 0.010793413692594057, 'n_estimators': 904, 'min_child_samples': 27, 'subsample': 0.5248862057048798, 'colsample_bytree': 0.7123555077231168, 'reg_alpha': 0.7771182648154402, 'reg_lambda': 5.059802611708421, 'threshold': 94}. Best is trial 31 with value: 0.8323985088958857.\n"
     ]
    },
    {
     "name": "stdout",
     "output_type": "stream",
     "text": [
      "Score: 0.8312989619295467\n",
      "Fold 1\n",
      "Fold 2\n",
      "Fold 3\n"
     ]
    },
    {
     "name": "stderr",
     "output_type": "stream",
     "text": [
      "[I 2024-06-24 22:47:54,463] Trial 58 finished with value: 0.8318302068298764 and parameters: {'boosting_type': 'gbdt', 'num_leaves': 57, 'max_depth': 56, 'learning_rate': 0.05180736112045555, 'n_estimators': 178, 'min_child_samples': 35, 'subsample': 0.5782576609556951, 'colsample_bytree': 0.659985550811399, 'reg_alpha': 2.295041506665135, 'reg_lambda': 9.790253153890339, 'threshold': 76}. Best is trial 31 with value: 0.8323985088958857.\n"
     ]
    },
    {
     "name": "stdout",
     "output_type": "stream",
     "text": [
      "Score: 0.8318302068298764\n",
      "Fold 1\n",
      "Fold 2\n",
      "Fold 3\n"
     ]
    },
    {
     "name": "stderr",
     "output_type": "stream",
     "text": [
      "[I 2024-06-24 22:48:05,973] Trial 59 finished with value: 0.8307430023307454 and parameters: {'boosting_type': 'dart', 'num_leaves': 55, 'max_depth': 55, 'learning_rate': 0.05557433084123365, 'n_estimators': 106, 'min_child_samples': 22, 'subsample': 0.5778877054188387, 'colsample_bytree': 0.6625625174810648, 'reg_alpha': 2.5811965662624394, 'reg_lambda': 2.0336755402981206, 'drop_rate': 0.3334605914408817, 'skip_drop': 0.9969122834019821, 'threshold': 74}. Best is trial 31 with value: 0.8323985088958857.\n"
     ]
    },
    {
     "name": "stdout",
     "output_type": "stream",
     "text": [
      "Score: 0.8307430023307454\n",
      "Fold 1\n",
      "Fold 2\n",
      "Fold 3\n"
     ]
    },
    {
     "name": "stderr",
     "output_type": "stream",
     "text": [
      "[I 2024-06-24 22:48:26,525] Trial 60 finished with value: 0.8267525174690511 and parameters: {'boosting_type': 'gbdt', 'num_leaves': 85, 'max_depth': 57, 'learning_rate': 0.2291256022008316, 'n_estimators': 236, 'min_child_samples': 12, 'subsample': 0.5385284113860362, 'colsample_bytree': 0.767130786200828, 'reg_alpha': 4.783857346060819, 'reg_lambda': 0.7113305231026292, 'threshold': 81}. Best is trial 31 with value: 0.8323985088958857.\n"
     ]
    },
    {
     "name": "stdout",
     "output_type": "stream",
     "text": [
      "Score: 0.8267525174690511\n",
      "Fold 1\n",
      "Fold 2\n",
      "Fold 3\n"
     ]
    },
    {
     "name": "stderr",
     "output_type": "stream",
     "text": [
      "[I 2024-06-24 22:49:27,382] Trial 61 finished with value: 0.8322873195404134 and parameters: {'boosting_type': 'gbdt', 'num_leaves': 63, 'max_depth': 62, 'learning_rate': 0.016309277015319288, 'n_estimators': 950, 'min_child_samples': 35, 'subsample': 0.5158158679233099, 'colsample_bytree': 0.6897895534607084, 'reg_alpha': 1.8254621728925433, 'reg_lambda': 9.255903186865352, 'threshold': 86}. Best is trial 31 with value: 0.8323985088958857.\n"
     ]
    },
    {
     "name": "stdout",
     "output_type": "stream",
     "text": [
      "Score: 0.8322873195404134\n",
      "Fold 1\n",
      "Fold 2\n",
      "Fold 3\n"
     ]
    },
    {
     "name": "stderr",
     "output_type": "stream",
     "text": [
      "[I 2024-06-24 22:49:43,657] Trial 62 finished with value: 0.8321514168601949 and parameters: {'boosting_type': 'gbdt', 'num_leaves': 17, 'max_depth': 60, 'learning_rate': 0.09096642902134053, 'n_estimators': 425, 'min_child_samples': 36, 'subsample': 0.5147853042676358, 'colsample_bytree': 0.6554190664317283, 'reg_alpha': 2.292198245684991, 'reg_lambda': 2.810137933178149, 'threshold': 88}. Best is trial 31 with value: 0.8323985088958857.\n"
     ]
    },
    {
     "name": "stdout",
     "output_type": "stream",
     "text": [
      "Score: 0.8321514168601949\n",
      "Fold 1\n",
      "Fold 2\n",
      "Fold 3\n"
     ]
    },
    {
     "name": "stderr",
     "output_type": "stream",
     "text": [
      "[I 2024-06-24 22:49:53,370] Trial 63 finished with value: 0.8312001301522646 and parameters: {'boosting_type': 'gbdt', 'num_leaves': 20, 'max_depth': 61, 'learning_rate': 0.11915311129370429, 'n_estimators': 149, 'min_child_samples': 36, 'subsample': 0.5179616833227092, 'colsample_bytree': 0.7003868076016065, 'reg_alpha': 2.1074345750534107, 'reg_lambda': 1.1427258324559328, 'threshold': 93}. Best is trial 31 with value: 0.8323985088958857.\n"
     ]
    },
    {
     "name": "stdout",
     "output_type": "stream",
     "text": [
      "Score: 0.8312001301522646\n",
      "Fold 1\n",
      "Fold 2\n",
      "Fold 3\n"
     ]
    },
    {
     "name": "stderr",
     "output_type": "stream",
     "text": [
      "[I 2024-06-24 22:50:10,279] Trial 64 finished with value: 0.8245780974809837 and parameters: {'boosting_type': 'gbdt', 'num_leaves': 38, 'max_depth': 52, 'learning_rate': 0.5069302869329316, 'n_estimators': 370, 'min_child_samples': 45, 'subsample': 0.5843788066355073, 'colsample_bytree': 0.6664752344909136, 'reg_alpha': 7.056145469036859, 'reg_lambda': 9.646285142099739, 'threshold': 98}. Best is trial 31 with value: 0.8323985088958857.\n"
     ]
    },
    {
     "name": "stdout",
     "output_type": "stream",
     "text": [
      "Score: 0.8245780974809837\n",
      "Fold 1\n",
      "Fold 2\n",
      "Fold 3\n"
     ]
    },
    {
     "name": "stderr",
     "output_type": "stream",
     "text": [
      "[I 2024-06-24 22:50:28,551] Trial 65 finished with value: 0.8306812277191428 and parameters: {'boosting_type': 'gbdt', 'num_leaves': 59, 'max_depth': 48, 'learning_rate': 0.0823140962679461, 'n_estimators': 258, 'min_child_samples': 19, 'subsample': 0.5128624865087968, 'colsample_bytree': 0.7182910191799087, 'reg_alpha': 1.8571658392672126, 'reg_lambda': 2.651097413625625, 'threshold': 90}. Best is trial 31 with value: 0.8323985088958857.\n"
     ]
    },
    {
     "name": "stdout",
     "output_type": "stream",
     "text": [
      "Score: 0.8306812277191428\n",
      "Fold 1\n",
      "Fold 2\n",
      "Fold 3\n"
     ]
    },
    {
     "name": "stderr",
     "output_type": "stream",
     "text": [
      "[I 2024-06-24 22:50:42,859] Trial 66 finished with value: 0.8297793562129908 and parameters: {'boosting_type': 'gbdt', 'num_leaves': 9, 'max_depth': 58, 'learning_rate': 0.24702655443854826, 'n_estimators': 422, 'min_child_samples': 50, 'subsample': 0.5516328831775945, 'colsample_bytree': 0.6960615462045676, 'reg_alpha': 4.305441198457172, 'reg_lambda': 0.15636269745122944, 'threshold': 85}. Best is trial 31 with value: 0.8323985088958857.\n"
     ]
    },
    {
     "name": "stdout",
     "output_type": "stream",
     "text": [
      "Score: 0.8297793562129908\n",
      "Fold 1\n",
      "Fold 2\n",
      "Fold 3\n"
     ]
    },
    {
     "name": "stderr",
     "output_type": "stream",
     "text": [
      "[I 2024-06-24 22:51:59,480] Trial 67 finished with value: 0.831496648379539 and parameters: {'boosting_type': 'dart', 'num_leaves': 82, 'max_depth': 55, 'learning_rate': 0.04581630377098825, 'n_estimators': 326, 'min_child_samples': 26, 'subsample': 0.6097702656849933, 'colsample_bytree': 0.6543863056342343, 'reg_alpha': 0.11184593633151277, 'reg_lambda': 0.8908251860787595, 'drop_rate': 0.4397943828464181, 'skip_drop': 0.8005909653045704, 'threshold': 76}. Best is trial 31 with value: 0.8323985088958857.\n"
     ]
    },
    {
     "name": "stdout",
     "output_type": "stream",
     "text": [
      "Score: 0.831496648379539\n",
      "Fold 1\n",
      "Fold 2\n",
      "Fold 3\n"
     ]
    },
    {
     "name": "stderr",
     "output_type": "stream",
     "text": [
      "[I 2024-06-24 22:52:43,972] Trial 68 finished with value: 0.8324479309662923 and parameters: {'boosting_type': 'gbdt', 'num_leaves': 38, 'max_depth': 60, 'learning_rate': 0.023353174806493418, 'n_estimators': 970, 'min_child_samples': 36, 'subsample': 0.5862204121594812, 'colsample_bytree': 0.6222904671172206, 'reg_alpha': 1.402607818022054, 'reg_lambda': 5.421184660107141, 'threshold': 70}. Best is trial 68 with value: 0.8324479309662923.\n"
     ]
    },
    {
     "name": "stdout",
     "output_type": "stream",
     "text": [
      "Score: 0.8324479309662923\n",
      "Fold 1\n",
      "Fold 2\n",
      "Fold 3\n"
     ]
    },
    {
     "name": "stderr",
     "output_type": "stream",
     "text": [
      "[I 2024-06-24 22:53:43,116] Trial 69 finished with value: 0.8325097009988093 and parameters: {'boosting_type': 'goss', 'num_leaves': 36, 'max_depth': 60, 'learning_rate': 0.0204407517971945, 'n_estimators': 980, 'min_child_samples': 40, 'subsample': 0.5383131801767738, 'colsample_bytree': 0.6226297777840173, 'reg_alpha': 0.4620584724396475, 'reg_lambda': 0.3613928556243992, 'top_rate': 0.14002099536524523, 'other_rate': 0.493630056582017, 'threshold': 71}. Best is trial 69 with value: 0.8325097009988093.\n"
     ]
    },
    {
     "name": "stdout",
     "output_type": "stream",
     "text": [
      "Score: 0.8325097009988093\n",
      "Fold 1\n",
      "Fold 2\n",
      "Fold 3\n"
     ]
    },
    {
     "name": "stderr",
     "output_type": "stream",
     "text": [
      "[I 2024-06-24 22:54:21,186] Trial 70 finished with value: 0.8328185722251883 and parameters: {'boosting_type': 'goss', 'num_leaves': 17, 'max_depth': 60, 'learning_rate': 0.024380775870962712, 'n_estimators': 983, 'min_child_samples': 40, 'subsample': 0.6501469019928646, 'colsample_bytree': 0.6192504297686215, 'reg_alpha': 0.42134378733703987, 'reg_lambda': 0.32409158478761046, 'top_rate': 0.14227997409498044, 'other_rate': 0.48478582552324967, 'threshold': 62}. Best is trial 70 with value: 0.8328185722251883.\n"
     ]
    },
    {
     "name": "stdout",
     "output_type": "stream",
     "text": [
      "Score: 0.8328185722251883\n",
      "Fold 1\n",
      "Fold 2\n",
      "Fold 3\n"
     ]
    },
    {
     "name": "stderr",
     "output_type": "stream",
     "text": [
      "[I 2024-06-24 22:54:54,842] Trial 71 finished with value: 0.832188494173851 and parameters: {'boosting_type': 'goss', 'num_leaves': 19, 'max_depth': 60, 'learning_rate': 0.021095380552455825, 'n_estimators': 1000, 'min_child_samples': 39, 'subsample': 0.6511466390045724, 'colsample_bytree': 0.6193283243093496, 'reg_alpha': 0.45523120694467584, 'reg_lambda': 0.3385938347712834, 'top_rate': 0.12663934814095792, 'other_rate': 0.49623995325347725, 'threshold': 61}. Best is trial 70 with value: 0.8328185722251883.\n"
     ]
    },
    {
     "name": "stdout",
     "output_type": "stream",
     "text": [
      "Score: 0.832188494173851\n",
      "Fold 1\n",
      "Fold 2\n",
      "Fold 3\n"
     ]
    },
    {
     "name": "stderr",
     "output_type": "stream",
     "text": [
      "[I 2024-06-24 22:55:49,974] Trial 72 finished with value: 0.8325961811507127 and parameters: {'boosting_type': 'goss', 'num_leaves': 35, 'max_depth': 60, 'learning_rate': 0.02273467462447374, 'n_estimators': 979, 'min_child_samples': 39, 'subsample': 0.6230475689402251, 'colsample_bytree': 0.6191213707577701, 'reg_alpha': 0.4476939887929298, 'reg_lambda': 0.3711618624106015, 'top_rate': 0.11994932101985037, 'other_rate': 0.47599068393933586, 'threshold': 61}. Best is trial 70 with value: 0.8328185722251883.\n"
     ]
    },
    {
     "name": "stdout",
     "output_type": "stream",
     "text": [
      "Score: 0.8325961811507127\n",
      "Fold 1\n",
      "Fold 2\n",
      "Fold 3\n"
     ]
    },
    {
     "name": "stderr",
     "output_type": "stream",
     "text": [
      "[I 2024-06-24 22:56:36,849] Trial 73 finished with value: 0.8324850055324969 and parameters: {'boosting_type': 'goss', 'num_leaves': 16, 'max_depth': 60, 'learning_rate': 0.03211086944882062, 'n_estimators': 975, 'min_child_samples': 40, 'subsample': 0.6498897070347965, 'colsample_bytree': 0.6166293206633404, 'reg_alpha': 0.46842689082382205, 'reg_lambda': 0.2956384661123559, 'top_rate': 0.13293489827374874, 'other_rate': 0.4888673217934295, 'threshold': 61}. Best is trial 70 with value: 0.8328185722251883.\n"
     ]
    },
    {
     "name": "stdout",
     "output_type": "stream",
     "text": [
      "Score: 0.8324850055324969\n",
      "Fold 1\n",
      "Fold 2\n",
      "Fold 3\n"
     ]
    },
    {
     "name": "stderr",
     "output_type": "stream",
     "text": [
      "[I 2024-06-24 22:57:45,640] Trial 74 finished with value: 0.8319043408513034 and parameters: {'boosting_type': 'goss', 'num_leaves': 36, 'max_depth': 53, 'learning_rate': 0.028510719873266824, 'n_estimators': 976, 'min_child_samples': 43, 'subsample': 0.6574479446331635, 'colsample_bytree': 0.6144665253417061, 'reg_alpha': 0.42588003662912244, 'reg_lambda': 0.23894971449653074, 'top_rate': 0.12503587589667253, 'other_rate': 0.4974861377544505, 'threshold': 55}. Best is trial 70 with value: 0.8328185722251883.\n"
     ]
    },
    {
     "name": "stdout",
     "output_type": "stream",
     "text": [
      "Score: 0.8319043408513034\n",
      "Fold 1\n",
      "Fold 2\n",
      "Fold 3\n"
     ]
    },
    {
     "name": "stderr",
     "output_type": "stream",
     "text": [
      "[I 2024-06-24 22:58:16,250] Trial 75 finished with value: 0.8259865051418048 and parameters: {'boosting_type': 'goss', 'num_leaves': 3, 'max_depth': 47, 'learning_rate': 0.026414820820983526, 'n_estimators': 916, 'min_child_samples': 40, 'subsample': 0.6356519693760424, 'colsample_bytree': 0.6107361675641604, 'reg_alpha': 0.17310075991728593, 'reg_lambda': 0.4300759131254254, 'top_rate': 0.13337914489938346, 'other_rate': 0.49970734284594137, 'threshold': 60}. Best is trial 70 with value: 0.8328185722251883.\n"
     ]
    },
    {
     "name": "stdout",
     "output_type": "stream",
     "text": [
      "Score: 0.8259865051418048\n",
      "Fold 1\n",
      "Fold 2\n",
      "Fold 3\n"
     ]
    },
    {
     "name": "stderr",
     "output_type": "stream",
     "text": [
      "[I 2024-06-24 22:59:08,129] Trial 76 finished with value: 0.8315707723269777 and parameters: {'boosting_type': 'goss', 'num_leaves': 14, 'max_depth': 61, 'learning_rate': 0.017959352281115247, 'n_estimators': 974, 'min_child_samples': 46, 'subsample': 0.6469682865416259, 'colsample_bytree': 0.6225133261763002, 'reg_alpha': 0.049418537648371716, 'reg_lambda': 0.3937281610010148, 'top_rate': 0.13028748389931963, 'other_rate': 0.4995419633065789, 'threshold': 49}. Best is trial 70 with value: 0.8328185722251883.\n"
     ]
    },
    {
     "name": "stdout",
     "output_type": "stream",
     "text": [
      "Score: 0.8315707723269777\n",
      "Fold 1\n",
      "Fold 2\n",
      "Fold 3\n"
     ]
    },
    {
     "name": "stderr",
     "output_type": "stream",
     "text": [
      "[I 2024-06-24 23:00:25,986] Trial 77 finished with value: 0.8289639575322051 and parameters: {'boosting_type': 'goss', 'num_leaves': 32, 'max_depth': 59, 'learning_rate': 0.0048101940195067455, 'n_estimators': 992, 'min_child_samples': 39, 'subsample': 0.6217595624864493, 'colsample_bytree': 0.5860214915546746, 'reg_alpha': 0.12876723958584763, 'reg_lambda': 0.11983408035215552, 'top_rate': 0.1754635578060688, 'other_rate': 0.4338258181946889, 'threshold': 63}. Best is trial 70 with value: 0.8328185722251883.\n"
     ]
    },
    {
     "name": "stdout",
     "output_type": "stream",
     "text": [
      "Score: 0.8289639575322051\n",
      "Fold 1\n",
      "Fold 2\n",
      "Fold 3\n"
     ]
    },
    {
     "name": "stderr",
     "output_type": "stream",
     "text": [
      "[I 2024-06-24 23:00:54,710] Trial 78 finished with value: 0.8271849003701339 and parameters: {'boosting_type': 'goss', 'num_leaves': 3, 'max_depth': 62, 'learning_rate': 0.0370136913478702, 'n_estimators': 921, 'min_child_samples': 49, 'subsample': 0.6676173762143524, 'colsample_bytree': 0.5976366321152855, 'reg_alpha': 0.5352025476401733, 'reg_lambda': 0.05161553678799021, 'top_rate': 0.08200092905590421, 'other_rate': 0.4434851740298784, 'threshold': 65}. Best is trial 70 with value: 0.8328185722251883.\n"
     ]
    },
    {
     "name": "stdout",
     "output_type": "stream",
     "text": [
      "Score: 0.8271849003701339\n",
      "Fold 1\n",
      "Fold 2\n",
      "Fold 3\n"
     ]
    },
    {
     "name": "stderr",
     "output_type": "stream",
     "text": [
      "[I 2024-06-24 23:02:07,323] Trial 79 finished with value: 0.8202293156592354 and parameters: {'boosting_type': 'goss', 'num_leaves': 22, 'max_depth': 57, 'learning_rate': 0.0018041710583283908, 'n_estimators': 974, 'min_child_samples': 29, 'subsample': 0.5972033084270811, 'colsample_bytree': 0.5746289529254017, 'reg_alpha': 0.3521565793260452, 'reg_lambda': 1.6563239575873714, 'top_rate': 0.18367045480158845, 'other_rate': 0.44452773456206357, 'threshold': 71}. Best is trial 70 with value: 0.8328185722251883.\n"
     ]
    },
    {
     "name": "stdout",
     "output_type": "stream",
     "text": [
      "Score: 0.8202293156592354\n",
      "Fold 1\n",
      "Fold 2\n",
      "Fold 3\n"
     ]
    },
    {
     "name": "stderr",
     "output_type": "stream",
     "text": [
      "[I 2024-06-24 23:03:32,473] Trial 80 finished with value: 0.8331521444127826 and parameters: {'boosting_type': 'goss', 'num_leaves': 48, 'max_depth': 59, 'learning_rate': 0.01577928663487074, 'n_estimators': 939, 'min_child_samples': 47, 'subsample': 0.615049393273275, 'colsample_bytree': 0.6265391638826765, 'reg_alpha': 0.07353036444203746, 'reg_lambda': 0.30043715640999624, 'top_rate': 0.0895780898780571, 'other_rate': 0.4969107150891755, 'threshold': 60}. Best is trial 80 with value: 0.8331521444127826.\n"
     ]
    },
    {
     "name": "stdout",
     "output_type": "stream",
     "text": [
      "Score: 0.8331521444127826\n",
      "Fold 1\n",
      "Fold 2\n",
      "Fold 3\n"
     ]
    },
    {
     "name": "stderr",
     "output_type": "stream",
     "text": [
      "[I 2024-06-24 23:05:09,318] Trial 81 finished with value: 0.8321514205234632 and parameters: {'boosting_type': 'goss', 'num_leaves': 49, 'max_depth': 59, 'learning_rate': 0.007486063834978918, 'n_estimators': 951, 'min_child_samples': 41, 'subsample': 0.6191087655019354, 'colsample_bytree': 0.6295639419050182, 'reg_alpha': 0.08846097393607129, 'reg_lambda': 0.10357382353906797, 'top_rate': 0.07900784698560841, 'other_rate': 0.49695536677087315, 'threshold': 60}. Best is trial 80 with value: 0.8331521444127826.\n"
     ]
    },
    {
     "name": "stdout",
     "output_type": "stream",
     "text": [
      "Score: 0.8321514205234632\n",
      "Fold 1\n",
      "Fold 2\n",
      "Fold 3\n"
     ]
    },
    {
     "name": "stderr",
     "output_type": "stream",
     "text": [
      "[I 2024-06-24 23:06:29,163] Trial 82 finished with value: 0.8325467654910258 and parameters: {'boosting_type': 'goss', 'num_leaves': 38, 'max_depth': 61, 'learning_rate': 0.015750396345990212, 'n_estimators': 902, 'min_child_samples': 45, 'subsample': 0.6307552487037585, 'colsample_bytree': 0.6045454446015393, 'reg_alpha': 1.3741829100153589, 'reg_lambda': 0.2636129072061149, 'top_rate': 0.1080007930454205, 'other_rate': 0.4457700372636327, 'threshold': 57}. Best is trial 80 with value: 0.8331521444127826.\n"
     ]
    },
    {
     "name": "stdout",
     "output_type": "stream",
     "text": [
      "Score: 0.8325467654910258\n",
      "Fold 1\n",
      "Fold 2\n",
      "Fold 3\n"
     ]
    },
    {
     "name": "stderr",
     "output_type": "stream",
     "text": [
      "[I 2024-06-24 23:07:37,715] Trial 83 finished with value: 0.8311013020382508 and parameters: {'boosting_type': 'goss', 'num_leaves': 39, 'max_depth': 62, 'learning_rate': 0.042924695205621574, 'n_estimators': 900, 'min_child_samples': 52, 'subsample': 0.6047127385465996, 'colsample_bytree': 0.6005415050421128, 'reg_alpha': 1.195700721052051, 'reg_lambda': 0.15488661539990337, 'top_rate': 0.08041275674027937, 'other_rate': 0.43317784552506927, 'threshold': 57}. Best is trial 80 with value: 0.8331521444127826.\n"
     ]
    },
    {
     "name": "stdout",
     "output_type": "stream",
     "text": [
      "Score: 0.8311013020382508\n",
      "Fold 1\n",
      "Fold 2\n",
      "Fold 3\n"
     ]
    },
    {
     "name": "stderr",
     "output_type": "stream",
     "text": [
      "[I 2024-06-24 23:08:28,546] Trial 84 finished with value: 0.8320402416998878 and parameters: {'boosting_type': 'goss', 'num_leaves': 31, 'max_depth': 58, 'learning_rate': 0.015371689863021884, 'n_estimators': 865, 'min_child_samples': 46, 'subsample': 0.5942132147259954, 'colsample_bytree': 0.6060220338598076, 'reg_alpha': 0.2356298937864845, 'reg_lambda': 0.6675907069830345, 'top_rate': 0.18852949712516076, 'other_rate': 0.4479514622245595, 'threshold': 54}. Best is trial 80 with value: 0.8331521444127826.\n"
     ]
    },
    {
     "name": "stdout",
     "output_type": "stream",
     "text": [
      "Score: 0.8320402416998878\n",
      "Fold 1\n",
      "Fold 2\n",
      "Fold 3\n"
     ]
    },
    {
     "name": "stderr",
     "output_type": "stream",
     "text": [
      "[I 2024-06-24 23:09:33,465] Trial 85 finished with value: 0.8296805198566229 and parameters: {'boosting_type': 'goss', 'num_leaves': 44, 'max_depth': 53, 'learning_rate': 0.004810235465678852, 'n_estimators': 929, 'min_child_samples': 54, 'subsample': 0.6322674250269653, 'colsample_bytree': 0.6455967052456998, 'reg_alpha': 0.05812872387011076, 'reg_lambda': 1.2318674815208728, 'top_rate': 0.09329126628055372, 'other_rate': 0.4585665330089822, 'threshold': 70}. Best is trial 80 with value: 0.8331521444127826.\n"
     ]
    },
    {
     "name": "stdout",
     "output_type": "stream",
     "text": [
      "Score: 0.8296805198566229\n",
      "Fold 1\n",
      "Fold 2\n",
      "Fold 3\n"
     ]
    },
    {
     "name": "stderr",
     "output_type": "stream",
     "text": [
      "[I 2024-06-24 23:10:23,559] Trial 86 finished with value: 0.8322873236615903 and parameters: {'boosting_type': 'goss', 'num_leaves': 27, 'max_depth': 61, 'learning_rate': 0.015810234423735896, 'n_estimators': 948, 'min_child_samples': 44, 'subsample': 0.6116099145496451, 'colsample_bytree': 0.5838254373667682, 'reg_alpha': 0.6903185875312993, 'reg_lambda': 0.5993787559193529, 'top_rate': 0.17176705992113803, 'other_rate': 0.4030781134800867, 'threshold': 66}. Best is trial 80 with value: 0.8331521444127826.\n"
     ]
    },
    {
     "name": "stdout",
     "output_type": "stream",
     "text": [
      "Score: 0.8322873236615903\n",
      "Fold 1\n",
      "Fold 2\n",
      "Fold 3\n"
     ]
    },
    {
     "name": "stderr",
     "output_type": "stream",
     "text": [
      "[I 2024-06-24 23:10:55,532] Trial 87 finished with value: 0.8310395196422027 and parameters: {'boosting_type': 'goss', 'num_leaves': 26, 'max_depth': 50, 'learning_rate': 0.07436314368631601, 'n_estimators': 850, 'min_child_samples': 47, 'subsample': 0.6671184383945231, 'colsample_bytree': 0.5867265813401811, 'reg_alpha': 0.19149070637698387, 'reg_lambda': 0.23380399724210874, 'top_rate': 0.15951045116927867, 'other_rate': 0.40946127668286975, 'threshold': 66}. Best is trial 80 with value: 0.8331521444127826.\n"
     ]
    },
    {
     "name": "stdout",
     "output_type": "stream",
     "text": [
      "Score: 0.8310395196422027\n",
      "Fold 1\n",
      "Fold 2\n",
      "Fold 3\n"
     ]
    },
    {
     "name": "stderr",
     "output_type": "stream",
     "text": [
      "[I 2024-06-24 23:11:14,623] Trial 88 finished with value: 0.8280497311953142 and parameters: {'boosting_type': 'goss', 'num_leaves': 12, 'max_depth': 56, 'learning_rate': 0.16838252757702962, 'n_estimators': 898, 'min_child_samples': 43, 'subsample': 0.613628387258722, 'colsample_bytree': 0.5614402509133746, 'reg_alpha': 1.2757681167874606, 'reg_lambda': 0.05500820691006705, 'top_rate': 0.1147897425401842, 'other_rate': 0.4649696316302784, 'threshold': 51}. Best is trial 80 with value: 0.8331521444127826.\n"
     ]
    },
    {
     "name": "stdout",
     "output_type": "stream",
     "text": [
      "Score: 0.8280497311953142\n",
      "Fold 1\n",
      "Fold 2\n",
      "Fold 3\n"
     ]
    },
    {
     "name": "stderr",
     "output_type": "stream",
     "text": [
      "[I 2024-06-24 23:11:44,916] Trial 89 finished with value: 0.832484989047789 and parameters: {'boosting_type': 'goss', 'num_leaves': 39, 'max_depth': 60, 'learning_rate': 0.034185900580123045, 'n_estimators': 794, 'min_child_samples': 44, 'subsample': 0.6408661445427838, 'colsample_bytree': 0.6263173971221342, 'reg_alpha': 0.5853069835126606, 'reg_lambda': 0.31588898969751783, 'top_rate': 0.16709803419716077, 'other_rate': 0.4645394701893119, 'threshold': 69}. Best is trial 80 with value: 0.8331521444127826.\n"
     ]
    },
    {
     "name": "stdout",
     "output_type": "stream",
     "text": [
      "Score: 0.832484989047789\n",
      "Fold 1\n",
      "Fold 2\n",
      "Fold 3\n"
     ]
    },
    {
     "name": "stderr",
     "output_type": "stream",
     "text": [
      "[I 2024-06-24 23:12:11,772] Trial 90 finished with value: 0.8264065849558156 and parameters: {'boosting_type': 'goss', 'num_leaves': 34, 'max_depth': 58, 'learning_rate': 0.10457958088039468, 'n_estimators': 791, 'min_child_samples': 52, 'subsample': 0.6416893612127319, 'colsample_bytree': 0.6281482558966331, 'reg_alpha': 0.27113143883777, 'reg_lambda': 0.12822882689154455, 'top_rate': 0.10519837610802299, 'other_rate': 0.4689541936399277, 'threshold': 68}. Best is trial 80 with value: 0.8331521444127826.\n"
     ]
    },
    {
     "name": "stdout",
     "output_type": "stream",
     "text": [
      "Score: 0.8264065849558156\n",
      "Fold 1\n",
      "Fold 2\n",
      "Fold 3\n"
     ]
    },
    {
     "name": "stderr",
     "output_type": "stream",
     "text": [
      "[I 2024-06-24 23:12:47,140] Trial 91 finished with value: 0.8313113126391086 and parameters: {'boosting_type': 'goss', 'num_leaves': 50, 'max_depth': 61, 'learning_rate': 0.03850085162478283, 'n_estimators': 834, 'min_child_samples': 48, 'subsample': 0.6327143095693143, 'colsample_bytree': 0.5760028177154201, 'reg_alpha': 0.6407128712777529, 'reg_lambda': 0.545770354287067, 'top_rate': 0.16432937039433268, 'other_rate': 0.4668992206743036, 'threshold': 46}. Best is trial 80 with value: 0.8331521444127826.\n"
     ]
    },
    {
     "name": "stdout",
     "output_type": "stream",
     "text": [
      "Score: 0.8313113126391086\n",
      "Fold 1\n",
      "Fold 2\n",
      "Fold 3\n"
     ]
    },
    {
     "name": "stderr",
     "output_type": "stream",
     "text": [
      "[I 2024-06-24 23:13:28,787] Trial 92 finished with value: 0.8304959199111343 and parameters: {'boosting_type': 'goss', 'num_leaves': 43, 'max_depth': 63, 'learning_rate': 0.0063043751216551825, 'n_estimators': 936, 'min_child_samples': 38, 'subsample': 0.5881098446414678, 'colsample_bytree': 0.5906007009209802, 'reg_alpha': 0.12133570381740737, 'reg_lambda': 0.20827843471741475, 'top_rate': 0.19349196573151056, 'other_rate': 0.4139150823187823, 'threshold': 58}. Best is trial 80 with value: 0.8331521444127826.\n"
     ]
    },
    {
     "name": "stdout",
     "output_type": "stream",
     "text": [
      "Score: 0.8304959199111343\n",
      "Fold 1\n",
      "Fold 2\n",
      "Fold 3\n"
     ]
    },
    {
     "name": "stderr",
     "output_type": "stream",
     "text": [
      "[I 2024-06-24 23:14:01,230] Trial 93 finished with value: 0.8313854489500784 and parameters: {'boosting_type': 'goss', 'num_leaves': 24, 'max_depth': 60, 'learning_rate': 0.009785870749724262, 'n_estimators': 974, 'min_child_samples': 42, 'subsample': 0.6054704788492358, 'colsample_bytree': 0.6088527188079492, 'reg_alpha': 0.7166518289163254, 'reg_lambda': 0.3225933847182132, 'top_rate': 0.14893433328036185, 'other_rate': 0.47022906535865605, 'threshold': 63}. Best is trial 80 with value: 0.8331521444127826.\n"
     ]
    },
    {
     "name": "stdout",
     "output_type": "stream",
     "text": [
      "Score: 0.8313854489500784\n",
      "Fold 1\n",
      "Fold 2\n",
      "Fold 3\n"
     ]
    },
    {
     "name": "stderr",
     "output_type": "stream",
     "text": [
      "[I 2024-06-24 23:14:32,039] Trial 94 finished with value: 0.8324849991217772 and parameters: {'boosting_type': 'goss', 'num_leaves': 30, 'max_depth': 40, 'learning_rate': 0.02829376262296644, 'n_estimators': 908, 'min_child_samples': 45, 'subsample': 0.6236017389659997, 'colsample_bytree': 0.6345592270872802, 'reg_alpha': 0.34504101106617846, 'reg_lambda': 0.07649018219707511, 'top_rate': 0.2038837366241214, 'other_rate': 0.47478299984954175, 'threshold': 66}. Best is trial 80 with value: 0.8331521444127826.\n"
     ]
    },
    {
     "name": "stdout",
     "output_type": "stream",
     "text": [
      "Score: 0.8324849991217772\n",
      "Fold 1\n",
      "Fold 2\n",
      "Fold 3\n"
     ]
    },
    {
     "name": "stderr",
     "output_type": "stream",
     "text": [
      "[I 2024-06-24 23:15:05,313] Trial 95 finished with value: 0.8322626222424666 and parameters: {'boosting_type': 'goss', 'num_leaves': 39, 'max_depth': 56, 'learning_rate': 0.031126888646924204, 'n_estimators': 867, 'min_child_samples': 55, 'subsample': 0.6333956210704417, 'colsample_bytree': 0.6378738527011527, 'reg_alpha': 0.341789322238213, 'reg_lambda': 0.06979033803773725, 'top_rate': 0.10978717242060583, 'other_rate': 0.4717467677946627, 'threshold': 72}. Best is trial 80 with value: 0.8331521444127826.\n"
     ]
    },
    {
     "name": "stdout",
     "output_type": "stream",
     "text": [
      "Score: 0.8322626222424666\n",
      "Fold 1\n",
      "Fold 2\n",
      "Fold 3\n"
     ]
    },
    {
     "name": "stderr",
     "output_type": "stream",
     "text": [
      "[I 2024-06-24 23:15:43,706] Trial 96 finished with value: 0.8299770353364461 and parameters: {'boosting_type': 'goss', 'num_leaves': 54, 'max_depth': 39, 'learning_rate': 0.056161562076280404, 'n_estimators': 911, 'min_child_samples': 49, 'subsample': 0.6680086357824941, 'colsample_bytree': 0.6233199299342765, 'reg_alpha': 0.033768041630331876, 'reg_lambda': 0.024327706334577114, 'top_rate': 0.14792662143793917, 'other_rate': 0.498162992923628, 'threshold': 62}. Best is trial 80 with value: 0.8331521444127826.\n"
     ]
    },
    {
     "name": "stdout",
     "output_type": "stream",
     "text": [
      "Score: 0.8299770353364461\n",
      "Fold 1\n",
      "Fold 2\n",
      "Fold 3\n"
     ]
    },
    {
     "name": "stderr",
     "output_type": "stream",
     "text": [
      "[I 2024-06-24 23:16:04,987] Trial 97 finished with value: 0.8192780088033286 and parameters: {'boosting_type': 'goss', 'num_leaves': 13, 'max_depth': 46, 'learning_rate': 0.002934185384380892, 'n_estimators': 806, 'min_child_samples': 37, 'subsample': 0.6254665013096726, 'colsample_bytree': 0.6427310109597267, 'reg_alpha': 1.1879035824203505, 'reg_lambda': 0.0964609361804176, 'top_rate': 0.2060254142873567, 'other_rate': 0.3382032802473042, 'threshold': 56}. Best is trial 80 with value: 0.8331521444127826.\n"
     ]
    },
    {
     "name": "stdout",
     "output_type": "stream",
     "text": [
      "Score: 0.8192780088033286\n",
      "Fold 1\n",
      "Fold 2\n",
      "Fold 3\n"
     ]
    },
    {
     "name": "stderr",
     "output_type": "stream",
     "text": [
      "[I 2024-06-24 23:16:36,368] Trial 98 finished with value: 0.8327073805801732 and parameters: {'boosting_type': 'goss', 'num_leaves': 31, 'max_depth': 54, 'learning_rate': 0.02254802220657321, 'n_estimators': 881, 'min_child_samples': 51, 'subsample': 0.6466859975372133, 'colsample_bytree': 0.6075714873782768, 'reg_alpha': 0.1716911113700126, 'reg_lambda': 1.4166902607239271, 'top_rate': 0.13946400756615113, 'other_rate': 0.4328897042076657, 'threshold': 69}. Best is trial 80 with value: 0.8331521444127826.\n"
     ]
    },
    {
     "name": "stdout",
     "output_type": "stream",
     "text": [
      "Score: 0.8327073805801732\n",
      "Fold 1\n",
      "Fold 2\n",
      "Fold 3\n"
     ]
    },
    {
     "name": "stderr",
     "output_type": "stream",
     "text": [
      "[I 2024-06-24 23:17:05,011] Trial 99 finished with value: 0.8300511679841475 and parameters: {'boosting_type': 'goss', 'num_leaves': 32, 'max_depth': 54, 'learning_rate': 0.07207994546702073, 'n_estimators': 887, 'min_child_samples': 51, 'subsample': 0.6438145946316624, 'colsample_bytree': 0.596304351639927, 'reg_alpha': 0.07965135429298714, 'reg_lambda': 0.7787180292758091, 'top_rate': 0.1442193644755594, 'other_rate': 0.4691389037322368, 'threshold': 53}. Best is trial 80 with value: 0.8331521444127826.\n"
     ]
    },
    {
     "name": "stdout",
     "output_type": "stream",
     "text": [
      "Score: 0.8300511679841475\n",
      "Fold 1\n",
      "Fold 2\n",
      "Fold 3\n"
     ]
    },
    {
     "name": "stderr",
     "output_type": "stream",
     "text": [
      "[I 2024-06-24 23:17:23,969] Trial 100 finished with value: 0.8283215159498662 and parameters: {'boosting_type': 'goss', 'num_leaves': 7, 'max_depth': 42, 'learning_rate': 0.01351964106197861, 'n_estimators': 987, 'min_child_samples': 41, 'subsample': 0.658095869210525, 'colsample_bytree': 0.6104270945416935, 'reg_alpha': 0.1845864647791953, 'reg_lambda': 0.335669115559345, 'top_rate': 0.11099379244243864, 'other_rate': 0.43140616672986704, 'threshold': 68}. Best is trial 80 with value: 0.8331521444127826.\n"
     ]
    },
    {
     "name": "stdout",
     "output_type": "stream",
     "text": [
      "Score: 0.8283215159498662\n",
      "Fold 1\n",
      "Fold 2\n",
      "Fold 3\n"
     ]
    },
    {
     "name": "stderr",
     "output_type": "stream",
     "text": [
      "[I 2024-06-24 23:18:06,450] Trial 101 finished with value: 0.8329915339027206 and parameters: {'boosting_type': 'goss', 'num_leaves': 50, 'max_depth': 34, 'learning_rate': 0.019661072920499775, 'n_estimators': 963, 'min_child_samples': 45, 'subsample': 0.6186430552272012, 'colsample_bytree': 0.630527287284815, 'reg_alpha': 0.3915083094830764, 'reg_lambda': 1.377465256285568, 'top_rate': 0.1499571880617422, 'other_rate': 0.4727995658458162, 'threshold': 59}. Best is trial 80 with value: 0.8331521444127826.\n"
     ]
    },
    {
     "name": "stdout",
     "output_type": "stream",
     "text": [
      "Score: 0.8329915339027206\n",
      "Fold 1\n",
      "Fold 2\n",
      "Fold 3\n"
     ]
    },
    {
     "name": "stderr",
     "output_type": "stream",
     "text": [
      "[I 2024-06-24 23:18:47,580] Trial 102 finished with value: 0.833115070762395 and parameters: {'boosting_type': 'goss', 'num_leaves': 47, 'max_depth': 34, 'learning_rate': 0.022125920811426628, 'n_estimators': 965, 'min_child_samples': 47, 'subsample': 0.6239960638325609, 'colsample_bytree': 0.6318991990022723, 'reg_alpha': 0.38282077130476416, 'reg_lambda': 1.5159018729758549, 'top_rate': 0.14984050861471937, 'other_rate': 0.4763821409186781, 'threshold': 59}. Best is trial 80 with value: 0.8331521444127826.\n"
     ]
    },
    {
     "name": "stdout",
     "output_type": "stream",
     "text": [
      "Score: 0.833115070762395\n",
      "Fold 1\n",
      "Fold 2\n",
      "Fold 3\n"
     ]
    },
    {
     "name": "stderr",
     "output_type": "stream",
     "text": [
      "[I 2024-06-24 23:19:29,935] Trial 103 finished with value: 0.8326456032211192 and parameters: {'boosting_type': 'goss', 'num_leaves': 46, 'max_depth': 37, 'learning_rate': 0.009209295875236213, 'n_estimators': 932, 'min_child_samples': 45, 'subsample': 0.6786099993147908, 'colsample_bytree': 0.6338743222537601, 'reg_alpha': 0.43335603161987835, 'reg_lambda': 1.1267416895063755, 'top_rate': 0.14990267901374166, 'other_rate': 0.4771459364278702, 'threshold': 58}. Best is trial 80 with value: 0.8331521444127826.\n"
     ]
    },
    {
     "name": "stdout",
     "output_type": "stream",
     "text": [
      "Score: 0.8326456032211192\n",
      "Fold 1\n",
      "Fold 2\n",
      "Fold 3\n"
     ]
    },
    {
     "name": "stderr",
     "output_type": "stream",
     "text": [
      "[I 2024-06-24 23:20:15,077] Trial 104 finished with value: 0.832250255964014 and parameters: {'boosting_type': 'goss', 'num_leaves': 52, 'max_depth': 35, 'learning_rate': 0.01045130054914892, 'n_estimators': 927, 'min_child_samples': 56, 'subsample': 0.6246125788768121, 'colsample_bytree': 0.633552533223443, 'reg_alpha': 0.36301412482366807, 'reg_lambda': 1.385733144793085, 'top_rate': 0.13998499077729, 'other_rate': 0.47866333783848997, 'threshold': 59}. Best is trial 80 with value: 0.8331521444127826.\n"
     ]
    },
    {
     "name": "stdout",
     "output_type": "stream",
     "text": [
      "Score: 0.832250255964014\n",
      "Fold 1\n",
      "Fold 2\n",
      "Fold 3\n"
     ]
    },
    {
     "name": "stderr",
     "output_type": "stream",
     "text": [
      "[I 2024-06-24 23:20:59,021] Trial 105 finished with value: 0.8316325400699521 and parameters: {'boosting_type': 'goss', 'num_leaves': 47, 'max_depth': 39, 'learning_rate': 0.0073175458643286555, 'n_estimators': 963, 'min_child_samples': 48, 'subsample': 0.6957085600179217, 'colsample_bytree': 0.6009164528387453, 'reg_alpha': 0.24525280793302148, 'reg_lambda': 2.1401350483426156, 'top_rate': 0.1446633304346781, 'other_rate': 0.4798201116115259, 'threshold': 48}. Best is trial 80 with value: 0.8331521444127826.\n"
     ]
    },
    {
     "name": "stdout",
     "output_type": "stream",
     "text": [
      "Score: 0.8316325400699521\n",
      "Fold 1\n",
      "Fold 2\n",
      "Fold 3\n"
     ]
    },
    {
     "name": "stderr",
     "output_type": "stream",
     "text": [
      "[I 2024-06-24 23:21:29,813] Trial 106 finished with value: 0.8323490895729305 and parameters: {'boosting_type': 'goss', 'num_leaves': 29, 'max_depth': 33, 'learning_rate': 0.02027439675027694, 'n_estimators': 900, 'min_child_samples': 45, 'subsample': 0.6753414509787707, 'colsample_bytree': 0.6503550229715391, 'reg_alpha': 0.16276726268942496, 'reg_lambda': 1.0070020326858427, 'top_rate': 0.2192850649999099, 'other_rate': 0.4509319390634681, 'threshold': 58}. Best is trial 80 with value: 0.8331521444127826.\n"
     ]
    },
    {
     "name": "stdout",
     "output_type": "stream",
     "text": [
      "Score: 0.8323490895729305\n",
      "Fold 1\n",
      "Fold 2\n",
      "Fold 3\n"
     ]
    },
    {
     "name": "stderr",
     "output_type": "stream",
     "text": [
      "[I 2024-06-24 23:21:53,144] Trial 107 finished with value: 0.8330285997686628 and parameters: {'boosting_type': 'goss', 'num_leaves': 17, 'max_depth': 36, 'learning_rate': 0.05026637165484123, 'n_estimators': 937, 'min_child_samples': 47, 'subsample': 0.6493769960004009, 'colsample_bytree': 0.6694655755316195, 'reg_alpha': 0.4311361624110397, 'reg_lambda': 0.49258449169208124, 'top_rate': 0.11807423277383788, 'other_rate': 0.4805826153967413, 'threshold': 64}. Best is trial 80 with value: 0.8331521444127826.\n"
     ]
    },
    {
     "name": "stdout",
     "output_type": "stream",
     "text": [
      "Score: 0.8330285997686628\n",
      "Fold 1\n",
      "Fold 2\n",
      "Fold 3\n"
     ]
    },
    {
     "name": "stderr",
     "output_type": "stream",
     "text": [
      "[I 2024-06-24 23:22:31,963] Trial 108 finished with value: 0.8305576940648284 and parameters: {'boosting_type': 'goss', 'num_leaves': 43, 'max_depth': 36, 'learning_rate': 0.04879504200967822, 'n_estimators': 999, 'min_child_samples': 50, 'subsample': 0.6529461755016193, 'colsample_bytree': 0.6699710001085237, 'reg_alpha': 0.9479956725839012, 'reg_lambda': 0.49028985335433906, 'top_rate': 0.1011621578200588, 'other_rate': 0.48079192836111173, 'threshold': 62}. Best is trial 80 with value: 0.8331521444127826.\n"
     ]
    },
    {
     "name": "stdout",
     "output_type": "stream",
     "text": [
      "Score: 0.8305576940648284\n",
      "Fold 1\n",
      "Fold 2\n",
      "Fold 3\n"
     ]
    },
    {
     "name": "stderr",
     "output_type": "stream",
     "text": [
      "[I 2024-06-24 23:22:54,826] Trial 109 finished with value: 0.831175420490787 and parameters: {'boosting_type': 'goss', 'num_leaves': 18, 'max_depth': 33, 'learning_rate': 0.06471681143868196, 'n_estimators': 936, 'min_child_samples': 41, 'subsample': 0.6485444615310765, 'colsample_bytree': 0.6158402305466522, 'reg_alpha': 0.08755544888026633, 'reg_lambda': 0.16632271899677326, 'top_rate': 0.1228899048348317, 'other_rate': 0.44675367992308557, 'threshold': 55}. Best is trial 80 with value: 0.8331521444127826.\n"
     ]
    },
    {
     "name": "stdout",
     "output_type": "stream",
     "text": [
      "Score: 0.831175420490787\n",
      "Fold 1\n",
      "Fold 2\n",
      "Fold 3\n"
     ]
    },
    {
     "name": "stderr",
     "output_type": "stream",
     "text": [
      "[I 2024-06-24 23:23:39,828] Trial 110 finished with value: 0.8225519679732894 and parameters: {'boosting_type': 'goss', 'num_leaves': 60, 'max_depth': 45, 'learning_rate': 0.1563179182546783, 'n_estimators': 963, 'min_child_samples': 59, 'subsample': 0.6785527500982715, 'colsample_bytree': 0.6510852350486313, 'reg_alpha': 0.47743578001995024, 'reg_lambda': 2.0103301064411543, 'top_rate': 0.12738481568131121, 'other_rate': 0.4987945258071685, 'threshold': 52}. Best is trial 80 with value: 0.8331521444127826.\n"
     ]
    },
    {
     "name": "stdout",
     "output_type": "stream",
     "text": [
      "Score: 0.8225519679732894\n",
      "Fold 1\n",
      "Fold 2\n",
      "Fold 3\n"
     ]
    },
    {
     "name": "stderr",
     "output_type": "stream",
     "text": [
      "[I 2024-06-24 23:24:07,346] Trial 111 finished with value: 0.8329421100006799 and parameters: {'boosting_type': 'goss', 'num_leaves': 22, 'max_depth': 38, 'learning_rate': 0.02835812438599973, 'n_estimators': 938, 'min_child_samples': 47, 'subsample': 0.617674615456292, 'colsample_bytree': 0.6427999034279022, 'reg_alpha': 0.28066034508656107, 'reg_lambda': 0.7081788600420214, 'top_rate': 0.15556591263668929, 'other_rate': 0.48077109125907685, 'threshold': 65}. Best is trial 80 with value: 0.8331521444127826.\n"
     ]
    },
    {
     "name": "stdout",
     "output_type": "stream",
     "text": [
      "Score: 0.8329421100006799\n",
      "Fold 1\n",
      "Fold 2\n",
      "Fold 3\n"
     ]
    },
    {
     "name": "stderr",
     "output_type": "stream",
     "text": [
      "[I 2024-06-24 23:24:33,764] Trial 112 finished with value: 0.8306565331686474 and parameters: {'boosting_type': 'goss', 'num_leaves': 16, 'max_depth': 29, 'learning_rate': 0.012817712132546129, 'n_estimators': 935, 'min_child_samples': 47, 'subsample': 0.6414861688630606, 'colsample_bytree': 0.6437946683071137, 'reg_alpha': 0.1260777290937819, 'reg_lambda': 0.9046153585239688, 'top_rate': 0.15509428502963557, 'other_rate': 0.48113711818711047, 'threshold': 65}. Best is trial 80 with value: 0.8331521444127826.\n"
     ]
    },
    {
     "name": "stdout",
     "output_type": "stream",
     "text": [
      "Score: 0.8306565331686474\n",
      "Fold 1\n",
      "Fold 2\n",
      "Fold 3\n"
     ]
    },
    {
     "name": "stderr",
     "output_type": "stream",
     "text": [
      "[I 2024-06-24 23:24:52,311] Trial 113 finished with value: 0.8186973413746839 and parameters: {'boosting_type': 'goss', 'num_leaves': 6, 'max_depth': 37, 'learning_rate': 0.004036065790419559, 'n_estimators': 963, 'min_child_samples': 43, 'subsample': 0.6602472520582807, 'colsample_bytree': 0.6310944830115395, 'reg_alpha': 0.8741583878913529, 'reg_lambda': 0.6115893254795602, 'top_rate': 0.06144277284453725, 'other_rate': 0.4881911067394102, 'threshold': 60}. Best is trial 80 with value: 0.8331521444127826.\n"
     ]
    },
    {
     "name": "stdout",
     "output_type": "stream",
     "text": [
      "Score: 0.8186973413746839\n",
      "Fold 1\n",
      "Fold 2\n",
      "Fold 3\n"
     ]
    },
    {
     "name": "stderr",
     "output_type": "stream",
     "text": [
      "[I 2024-06-24 23:25:17,209] Trial 114 finished with value: 0.8321514305974516 and parameters: {'boosting_type': 'goss', 'num_leaves': 22, 'max_depth': 32, 'learning_rate': 0.041116277371231705, 'n_estimators': 879, 'min_child_samples': 54, 'subsample': 0.602090607708838, 'colsample_bytree': 0.6726137122458201, 'reg_alpha': 0.30410452659784026, 'reg_lambda': 1.4243858055196723, 'top_rate': 0.12772253455774601, 'other_rate': 0.45585795008435426, 'threshold': 64}. Best is trial 80 with value: 0.8331521444127826.\n"
     ]
    },
    {
     "name": "stdout",
     "output_type": "stream",
     "text": [
      "Score: 0.8321514305974516\n",
      "Fold 1\n",
      "Fold 2\n",
      "Fold 3\n"
     ]
    },
    {
     "name": "stderr",
     "output_type": "stream",
     "text": [
      "[I 2024-06-24 23:25:55,422] Trial 115 finished with value: 0.833337460463145 and parameters: {'boosting_type': 'goss', 'num_leaves': 35, 'max_depth': 35, 'learning_rate': 0.01679589455263833, 'n_estimators': 982, 'min_child_samples': 52, 'subsample': 0.6128137643591334, 'colsample_bytree': 0.6172780397950771, 'reg_alpha': 0.4958493842814401, 'reg_lambda': 3.773639797753702, 'top_rate': 0.10189207136235834, 'other_rate': 0.48475940387454197, 'threshold': 62}. Best is trial 115 with value: 0.833337460463145.\n"
     ]
    },
    {
     "name": "stdout",
     "output_type": "stream",
     "text": [
      "Score: 0.833337460463145\n",
      "Fold 1\n",
      "Fold 2\n",
      "Fold 3\n"
     ]
    },
    {
     "name": "stderr",
     "output_type": "stream",
     "text": [
      "[I 2024-06-24 23:26:38,731] Trial 116 finished with value: 0.833238630517497 and parameters: {'boosting_type': 'goss', 'num_leaves': 47, 'max_depth': 33, 'learning_rate': 0.016942624392892094, 'n_estimators': 986, 'min_child_samples': 51, 'subsample': 0.6185504940923798, 'colsample_bytree': 0.6643267334278513, 'reg_alpha': 0.23658725284334844, 'reg_lambda': 4.084518000758636, 'top_rate': 0.09651141897133877, 'other_rate': 0.49943235564097693, 'threshold': 56}. Best is trial 115 with value: 0.833337460463145.\n"
     ]
    },
    {
     "name": "stdout",
     "output_type": "stream",
     "text": [
      "Score: 0.833238630517497\n",
      "Fold 1\n",
      "Fold 2\n",
      "Fold 3\n"
     ]
    },
    {
     "name": "stderr",
     "output_type": "stream",
     "text": [
      "[I 2024-06-24 23:27:32,592] Trial 117 finished with value: 0.832349103310187 and parameters: {'boosting_type': 'goss', 'num_leaves': 77, 'max_depth': 37, 'learning_rate': 0.007713590398125882, 'n_estimators': 941, 'min_child_samples': 51, 'subsample': 0.6183283067680945, 'colsample_bytree': 0.6622279829568634, 'reg_alpha': 0.1887567295943495, 'reg_lambda': 4.115287654635198, 'top_rate': 0.09970407747831372, 'other_rate': 0.450727064951931, 'threshold': 50}. Best is trial 115 with value: 0.833337460463145.\n"
     ]
    },
    {
     "name": "stdout",
     "output_type": "stream",
     "text": [
      "Score: 0.832349103310187\n",
      "Fold 1\n",
      "Fold 2\n",
      "Fold 3\n"
     ]
    },
    {
     "name": "stderr",
     "output_type": "stream",
     "text": [
      "[I 2024-06-24 23:28:09,050] Trial 118 finished with value: 0.8247881401354404 and parameters: {'boosting_type': 'goss', 'num_leaves': 53, 'max_depth': 31, 'learning_rate': 0.09472015369232373, 'n_estimators': 916, 'min_child_samples': 48, 'subsample': 0.5984045657222229, 'colsample_bytree': 0.6498301891339386, 'reg_alpha': 0.06446578364003408, 'reg_lambda': 3.1429565150285472, 'top_rate': 0.06276598301530908, 'other_rate': 0.4831165606793119, 'threshold': 44}. Best is trial 115 with value: 0.833337460463145.\n"
     ]
    },
    {
     "name": "stdout",
     "output_type": "stream",
     "text": [
      "Score: 0.8247881401354404\n",
      "Fold 1\n",
      "Fold 2\n",
      "Fold 3\n"
     ]
    },
    {
     "name": "stderr",
     "output_type": "stream",
     "text": [
      "[I 2024-06-24 23:28:47,000] Trial 119 finished with value: 0.8328185731410055 and parameters: {'boosting_type': 'goss', 'num_leaves': 48, 'max_depth': 34, 'learning_rate': 0.015284491297192723, 'n_estimators': 956, 'min_child_samples': 53, 'subsample': 0.6310875532287964, 'colsample_bytree': 0.6052529028315881, 'reg_alpha': 1.7710575349699944, 'reg_lambda': 4.948689158242938, 'top_rate': 0.08916506878430296, 'other_rate': 0.4275546423632995, 'threshold': 56}. Best is trial 115 with value: 0.833337460463145.\n"
     ]
    },
    {
     "name": "stdout",
     "output_type": "stream",
     "text": [
      "Score: 0.8328185731410055\n",
      "Fold 1\n",
      "Fold 2\n",
      "Fold 3\n"
     ]
    },
    {
     "name": "stderr",
     "output_type": "stream",
     "text": [
      "[I 2024-06-24 23:30:22,947] Trial 120 finished with value: 0.8316819612245417 and parameters: {'boosting_type': 'goss', 'num_leaves': 234, 'max_depth': 35, 'learning_rate': 0.005884853197169722, 'n_estimators': 995, 'min_child_samples': 57, 'subsample': 0.6120173755012029, 'colsample_bytree': 0.6649995909721906, 'reg_alpha': 0.11537349663054404, 'reg_lambda': 4.535174172931064, 'top_rate': 0.09288201225195719, 'other_rate': 0.421749593172457, 'threshold': 56}. Best is trial 115 with value: 0.833337460463145.\n"
     ]
    },
    {
     "name": "stdout",
     "output_type": "stream",
     "text": [
      "Score: 0.8316819612245417\n",
      "Fold 1\n",
      "Fold 2\n",
      "Fold 3\n"
     ]
    },
    {
     "name": "stderr",
     "output_type": "stream",
     "text": [
      "[I 2024-06-24 23:31:01,134] Trial 121 finished with value: 0.8326456165004674 and parameters: {'boosting_type': 'goss', 'num_leaves': 47, 'max_depth': 41, 'learning_rate': 0.014712428234871615, 'n_estimators': 956, 'min_child_samples': 52, 'subsample': 0.6354545876993364, 'colsample_bytree': 0.6088209001688417, 'reg_alpha': 1.6215383876030909, 'reg_lambda': 2.4504869488535874, 'top_rate': 0.1166112819786648, 'other_rate': 0.43072630715094434, 'threshold': 57}. Best is trial 115 with value: 0.833337460463145.\n"
     ]
    },
    {
     "name": "stdout",
     "output_type": "stream",
     "text": [
      "Score: 0.8326456165004674\n",
      "Fold 1\n",
      "Fold 2\n",
      "Fold 3\n"
     ]
    },
    {
     "name": "stderr",
     "output_type": "stream",
     "text": [
      "[I 2024-06-24 23:31:38,032] Trial 122 finished with value: 0.8326950284968858 and parameters: {'boosting_type': 'goss', 'num_leaves': 44, 'max_depth': 41, 'learning_rate': 0.01076498569820152, 'n_estimators': 951, 'min_child_samples': 53, 'subsample': 0.6371207260860899, 'colsample_bytree': 0.6345140735908891, 'reg_alpha': 1.7030565248358998, 'reg_lambda': 6.131254074543638, 'top_rate': 0.11940484411282488, 'other_rate': 0.4308738947381043, 'threshold': 54}. Best is trial 115 with value: 0.833337460463145.\n"
     ]
    },
    {
     "name": "stdout",
     "output_type": "stream",
     "text": [
      "Score: 0.8326950284968858\n",
      "Fold 1\n",
      "Fold 2\n",
      "Fold 3\n"
     ]
    },
    {
     "name": "stderr",
     "output_type": "stream",
     "text": [
      "[I 2024-06-24 23:32:21,290] Trial 123 finished with value: 0.8326826718345127 and parameters: {'boosting_type': 'goss', 'num_leaves': 46, 'max_depth': 41, 'learning_rate': 0.010055023357465716, 'n_estimators': 953, 'min_child_samples': 61, 'subsample': 0.6371112176537953, 'colsample_bytree': 0.6338875980352323, 'reg_alpha': 1.491838921723597, 'reg_lambda': 2.6746674467422396, 'top_rate': 0.07243309188368921, 'other_rate': 0.42746525694879894, 'threshold': 54}. Best is trial 115 with value: 0.833337460463145.\n"
     ]
    },
    {
     "name": "stdout",
     "output_type": "stream",
     "text": [
      "Score: 0.8326826718345127\n",
      "Fold 1\n",
      "Fold 2\n",
      "Fold 3\n"
     ]
    },
    {
     "name": "stderr",
     "output_type": "stream",
     "text": [
      "[I 2024-06-24 23:33:10,446] Trial 124 finished with value: 0.8325838418888646 and parameters: {'boosting_type': 'goss', 'num_leaves': 59, 'max_depth': 42, 'learning_rate': 0.013546513927568294, 'n_estimators': 959, 'min_child_samples': 61, 'subsample': 0.6362321138999848, 'colsample_bytree': 0.6444756420049904, 'reg_alpha': 1.879745633613625, 'reg_lambda': 6.270866154415776, 'top_rate': 0.07980852701686891, 'other_rate': 0.39162017778125313, 'threshold': 53}. Best is trial 115 with value: 0.833337460463145.\n"
     ]
    },
    {
     "name": "stdout",
     "output_type": "stream",
     "text": [
      "Score: 0.8325838418888646\n",
      "Fold 1\n",
      "Fold 2\n",
      "Fold 3\n"
     ]
    },
    {
     "name": "stderr",
     "output_type": "stream",
     "text": [
      "[I 2024-06-24 23:33:56,221] Trial 125 finished with value: 0.8272837417634958 and parameters: {'boosting_type': 'goss', 'num_leaves': 69, 'max_depth': 41, 'learning_rate': 0.0037201004724130397, 'n_estimators': 948, 'min_child_samples': 65, 'subsample': 0.6304036343183924, 'colsample_bytree': 0.589660964707098, 'reg_alpha': 4.852770592912234, 'reg_lambda': 2.3294429296032093, 'top_rate': 0.0588745189905728, 'other_rate': 0.4254901922431402, 'threshold': 29}. Best is trial 115 with value: 0.833337460463145.\n"
     ]
    },
    {
     "name": "stdout",
     "output_type": "stream",
     "text": [
      "Score: 0.8272837417634958\n",
      "Fold 1\n",
      "Fold 2\n",
      "Fold 3\n"
     ]
    },
    {
     "name": "stderr",
     "output_type": "stream",
     "text": [
      "[I 2024-06-24 23:34:42,764] Trial 126 finished with value: 0.8320773029867442 and parameters: {'boosting_type': 'goss', 'num_leaves': 51, 'max_depth': 34, 'learning_rate': 0.009837461334652473, 'n_estimators': 984, 'min_child_samples': 53, 'subsample': 0.6162919468787965, 'colsample_bytree': 0.6058226268913045, 'reg_alpha': 0.8357308846340594, 'reg_lambda': 4.93677508138385, 'top_rate': 0.04314387958307533, 'other_rate': 0.43035958000451263, 'threshold': 51}. Best is trial 115 with value: 0.833337460463145.\n"
     ]
    },
    {
     "name": "stdout",
     "output_type": "stream",
     "text": [
      "Score: 0.8320773029867442\n",
      "Fold 1\n",
      "Fold 2\n",
      "Fold 3\n"
     ]
    },
    {
     "name": "stderr",
     "output_type": "stream",
     "text": [
      "[I 2024-06-24 23:35:16,772] Trial 127 finished with value: 0.8325961948879694 and parameters: {'boosting_type': 'goss', 'num_leaves': 42, 'max_depth': 39, 'learning_rate': 0.02036367972551514, 'n_estimators': 923, 'min_child_samples': 60, 'subsample': 0.6071829113315342, 'colsample_bytree': 0.6749091862190485, 'reg_alpha': 1.4713039943769763, 'reg_lambda': 2.8817535822086064, 'top_rate': 0.11858374084572164, 'other_rate': 0.438450276617084, 'threshold': 55}. Best is trial 115 with value: 0.833337460463145.\n"
     ]
    },
    {
     "name": "stdout",
     "output_type": "stream",
     "text": [
      "Score: 0.8325961948879694\n",
      "Fold 1\n",
      "Fold 2\n",
      "Fold 3\n"
     ]
    },
    {
     "name": "stderr",
     "output_type": "stream",
     "text": [
      "[I 2024-06-24 23:35:59,066] Trial 128 finished with value: 0.8293345955857414 and parameters: {'boosting_type': 'goss', 'num_leaves': 56, 'max_depth': 44, 'learning_rate': 0.05164151040980263, 'n_estimators': 959, 'min_child_samples': 57, 'subsample': 0.5866610941234509, 'colsample_bytree': 0.6391411797031181, 'reg_alpha': 6.608822384819499, 'reg_lambda': 5.735478836136701, 'top_rate': 0.09025134123515001, 'other_rate': 0.45511165201123915, 'threshold': 47}. Best is trial 115 with value: 0.833337460463145.\n"
     ]
    },
    {
     "name": "stdout",
     "output_type": "stream",
     "text": [
      "Score: 0.8293345955857414\n",
      "Fold 1\n",
      "Fold 2\n",
      "Fold 3\n"
     ]
    },
    {
     "name": "stderr",
     "output_type": "stream",
     "text": [
      "[I 2024-06-24 23:36:41,514] Trial 129 finished with value: 0.8312248306555711 and parameters: {'boosting_type': 'goss', 'num_leaves': 62, 'max_depth': 28, 'learning_rate': 0.006273986356961152, 'n_estimators': 888, 'min_child_samples': 55, 'subsample': 0.6446700749019689, 'colsample_bytree': 0.657708740420291, 'reg_alpha': 2.6103119665891166, 'reg_lambda': 1.8061682436506508, 'top_rate': 0.12989567380752715, 'other_rate': 0.49767544651591883, 'threshold': 63}. Best is trial 115 with value: 0.833337460463145.\n"
     ]
    },
    {
     "name": "stdout",
     "output_type": "stream",
     "text": [
      "Score: 0.8312248306555711\n",
      "Fold 1\n",
      "Fold 2\n",
      "Fold 3\n"
     ]
    },
    {
     "name": "stderr",
     "output_type": "stream",
     "text": [
      "[I 2024-06-24 23:37:07,376] Trial 130 finished with value: 0.8326332607539114 and parameters: {'boosting_type': 'goss', 'num_leaves': 24, 'max_depth': 32, 'learning_rate': 0.02689697191080151, 'n_estimators': 947, 'min_child_samples': 52, 'subsample': 0.6557556283767628, 'colsample_bytree': 0.5957805556992812, 'reg_alpha': 0.9664394203296637, 'reg_lambda': 3.055112425602675, 'top_rate': 0.10846523394964472, 'other_rate': 0.39433458247775843, 'threshold': 53}. Best is trial 115 with value: 0.833337460463145.\n"
     ]
    },
    {
     "name": "stdout",
     "output_type": "stream",
     "text": [
      "Score: 0.8326332607539114\n",
      "Fold 1\n",
      "Fold 2\n",
      "Fold 3\n"
     ]
    },
    {
     "name": "stderr",
     "output_type": "stream",
     "text": [
      "[I 2024-06-24 23:37:49,604] Trial 131 finished with value: 0.832373807476762 and parameters: {'boosting_type': 'goss', 'num_leaves': 48, 'max_depth': 36, 'learning_rate': 0.01059250884420106, 'n_estimators': 1000, 'min_child_samples': 63, 'subsample': 0.6371324996337792, 'colsample_bytree': 0.631932697777346, 'reg_alpha': 0.6093126436665971, 'reg_lambda': 1.2591016739929568, 'top_rate': 0.16193613571504936, 'other_rate': 0.48182905173313684, 'threshold': 59}. Best is trial 115 with value: 0.833337460463145.\n"
     ]
    },
    {
     "name": "stdout",
     "output_type": "stream",
     "text": [
      "Score: 0.832373807476762\n",
      "Fold 1\n",
      "Fold 2\n",
      "Fold 3\n"
     ]
    },
    {
     "name": "stderr",
     "output_type": "stream",
     "text": [
      "[I 2024-06-24 23:38:26,247] Trial 132 finished with value: 0.8324602839653968 and parameters: {'boosting_type': 'goss', 'num_leaves': 47, 'max_depth': 34, 'learning_rate': 0.015117845350350864, 'n_estimators': 930, 'min_child_samples': 50, 'subsample': 0.6632096166605662, 'colsample_bytree': 0.6140032563442178, 'reg_alpha': 0.24570435607396118, 'reg_lambda': 1.9325828967741843, 'top_rate': 0.14482717072432078, 'other_rate': 0.4580409943359105, 'threshold': 58}. Best is trial 115 with value: 0.833337460463145.\n"
     ]
    },
    {
     "name": "stdout",
     "output_type": "stream",
     "text": [
      "Score: 0.8324602839653968\n",
      "Fold 1\n",
      "Fold 2\n",
      "Fold 3\n"
     ]
    },
    {
     "name": "stderr",
     "output_type": "stream",
     "text": [
      "[I 2024-06-24 23:39:04,663] Trial 133 finished with value: 0.832052588746181 and parameters: {'boosting_type': 'goss', 'num_leaves': 42, 'max_depth': 38, 'learning_rate': 0.008456418100564784, 'n_estimators': 980, 'min_child_samples': 54, 'subsample': 0.615101356606226, 'colsample_bytree': 0.6239525599024316, 'reg_alpha': 2.0311181580623536, 'reg_lambda': 5.784148332686222, 'top_rate': 0.11982590927194794, 'other_rate': 0.4172693990726545, 'threshold': 56}. Best is trial 115 with value: 0.833337460463145.\n"
     ]
    },
    {
     "name": "stdout",
     "output_type": "stream",
     "text": [
      "Score: 0.832052588746181\n",
      "Fold 1\n",
      "Fold 2\n",
      "Fold 3\n"
     ]
    },
    {
     "name": "stderr",
     "output_type": "stream",
     "text": [
      "[I 2024-06-24 23:39:34,080] Trial 134 finished with value: 0.8332139245192879 and parameters: {'boosting_type': 'goss', 'num_leaves': 30, 'max_depth': 38, 'learning_rate': 0.019018521789134993, 'n_estimators': 915, 'min_child_samples': 47, 'subsample': 0.6514157624782284, 'colsample_bytree': 0.6373622784886576, 'reg_alpha': 0.6094693164739383, 'reg_lambda': 3.631950408020963, 'top_rate': 0.07816063963921599, 'other_rate': 0.48445476505089924, 'threshold': 61}. Best is trial 115 with value: 0.833337460463145.\n"
     ]
    },
    {
     "name": "stdout",
     "output_type": "stream",
     "text": [
      "Score: 0.8332139245192879\n",
      "Fold 1\n",
      "Fold 2\n",
      "Fold 3\n"
     ]
    },
    {
     "name": "stderr",
     "output_type": "stream",
     "text": [
      "[I 2024-06-24 23:40:02,975] Trial 135 finished with value: 0.8317684418343535 and parameters: {'boosting_type': 'goss', 'num_leaves': 33, 'max_depth': 30, 'learning_rate': 0.03535419180278689, 'n_estimators': 866, 'min_child_samples': 47, 'subsample': 0.6262440403254083, 'colsample_bytree': 0.6560690646624558, 'reg_alpha': 1.525137380595653, 'reg_lambda': 3.957562347901217, 'top_rate': 0.08067360432847849, 'other_rate': 0.4994616704077022, 'threshold': 61}. Best is trial 115 with value: 0.833337460463145.\n"
     ]
    },
    {
     "name": "stdout",
     "output_type": "stream",
     "text": [
      "Score: 0.8317684418343535\n",
      "Fold 1\n",
      "Fold 2\n",
      "Fold 3\n"
     ]
    },
    {
     "name": "stderr",
     "output_type": "stream",
     "text": [
      "[I 2024-06-24 23:40:27,915] Trial 136 finished with value: 0.8326209082127155 and parameters: {'boosting_type': 'goss', 'num_leaves': 20, 'max_depth': 40, 'learning_rate': 0.0186145477850029, 'n_estimators': 911, 'min_child_samples': 51, 'subsample': 0.6480184624442273, 'colsample_bytree': 0.6448331607462403, 'reg_alpha': 0.620381990410324, 'reg_lambda': 6.380996207592141, 'top_rate': 0.09668647006126357, 'other_rate': 0.461122682102044, 'threshold': 67}. Best is trial 115 with value: 0.833337460463145.\n"
     ]
    },
    {
     "name": "stdout",
     "output_type": "stream",
     "text": [
      "Score: 0.8326209082127155\n",
      "Fold 1\n",
      "Fold 2\n",
      "Fold 3\n"
     ]
    },
    {
     "name": "stderr",
     "output_type": "stream",
     "text": [
      "[I 2024-06-24 23:40:58,938] Trial 137 finished with value: 0.8278767635649708 and parameters: {'boosting_type': 'goss', 'num_leaves': 28, 'max_depth': 43, 'learning_rate': 0.004711437717036312, 'n_estimators': 964, 'min_child_samples': 49, 'subsample': 0.5960021041925576, 'colsample_bytree': 0.574777097815766, 'reg_alpha': 3.327864364780076, 'reg_lambda': 3.486591713497436, 'top_rate': 0.07136084079481186, 'other_rate': 0.4428952433640492, 'threshold': 63}. Best is trial 115 with value: 0.833337460463145.\n"
     ]
    },
    {
     "name": "stdout",
     "output_type": "stream",
     "text": [
      "Score: 0.8278767635649708\n",
      "Fold 1\n",
      "Fold 2\n",
      "Fold 3\n"
     ]
    },
    {
     "name": "stderr",
     "output_type": "stream",
     "text": [
      "[I 2024-06-24 23:41:21,402] Trial 138 finished with value: 0.8324973608211442 and parameters: {'boosting_type': 'goss', 'num_leaves': 34, 'max_depth': 36, 'learning_rate': 0.02184638696893482, 'n_estimators': 631, 'min_child_samples': 53, 'subsample': 0.606250414446337, 'colsample_bytree': 0.6096568716630485, 'reg_alpha': 1.0590361982948053, 'reg_lambda': 1.6280116644269151, 'top_rate': 0.09018987348705397, 'other_rate': 0.48144950374351725, 'threshold': 65}. Best is trial 115 with value: 0.833337460463145.\n"
     ]
    },
    {
     "name": "stdout",
     "output_type": "stream",
     "text": [
      "Score: 0.8324973608211442\n",
      "Fold 1\n",
      "Fold 2\n",
      "Fold 3\n"
     ]
    },
    {
     "name": "stderr",
     "output_type": "stream",
     "text": [
      "[I 2024-06-24 23:41:38,120] Trial 139 finished with value: 0.8322626190371066 and parameters: {'boosting_type': 'goss', 'num_leaves': 10, 'max_depth': 38, 'learning_rate': 0.05723804454413778, 'n_estimators': 946, 'min_child_samples': 56, 'subsample': 0.5723739582401877, 'colsample_bytree': 0.6252329230865272, 'reg_alpha': 0.30190837390812153, 'reg_lambda': 0.8533741844713238, 'top_rate': 0.17546319779092795, 'other_rate': 0.4648352536490862, 'threshold': 54}. Best is trial 115 with value: 0.833337460463145.\n"
     ]
    },
    {
     "name": "stdout",
     "output_type": "stream",
     "text": [
      "Score: 0.8322626190371066\n",
      "Fold 1\n",
      "Fold 2\n",
      "Fold 3\n"
     ]
    },
    {
     "name": "stderr",
     "output_type": "stream",
     "text": [
      "[I 2024-06-24 23:42:02,935] Trial 140 finished with value: 0.832719735410912 and parameters: {'boosting_type': 'goss', 'num_leaves': 26, 'max_depth': 33, 'learning_rate': 0.0308991898911711, 'n_estimators': 894, 'min_child_samples': 59, 'subsample': 0.6388187384088475, 'colsample_bytree': 0.6671171776503579, 'reg_alpha': 0.14912196708238454, 'reg_lambda': 2.5074849430262574, 'top_rate': 0.10675485530434557, 'other_rate': 0.4893643770314658, 'threshold': 50}. Best is trial 115 with value: 0.833337460463145.\n"
     ]
    },
    {
     "name": "stdout",
     "output_type": "stream",
     "text": [
      "Score: 0.832719735410912\n",
      "Fold 1\n",
      "Fold 2\n",
      "Fold 3\n"
     ]
    },
    {
     "name": "stderr",
     "output_type": "stream",
     "text": [
      "[I 2024-06-24 23:42:28,979] Trial 141 finished with value: 0.8326209040915384 and parameters: {'boosting_type': 'goss', 'num_leaves': 27, 'max_depth': 33, 'learning_rate': 0.03146757177512114, 'n_estimators': 913, 'min_child_samples': 59, 'subsample': 0.6376397683076322, 'colsample_bytree': 0.6649662394265701, 'reg_alpha': 0.14271526366043777, 'reg_lambda': 2.374863501131534, 'top_rate': 0.11391552488168116, 'other_rate': 0.48765734378063863, 'threshold': 51}. Best is trial 115 with value: 0.833337460463145.\n"
     ]
    },
    {
     "name": "stdout",
     "output_type": "stream",
     "text": [
      "Score: 0.8326209040915384\n",
      "Fold 1\n",
      "Fold 2\n",
      "Fold 3\n"
     ]
    },
    {
     "name": "stderr",
     "output_type": "stream",
     "text": [
      "[I 2024-06-24 23:42:54,588] Trial 142 finished with value: 0.8321390844669754 and parameters: {'boosting_type': 'goss', 'num_leaves': 23, 'max_depth': 35, 'learning_rate': 0.013826436143521144, 'n_estimators': 889, 'min_child_samples': 52, 'subsample': 0.6268080906535015, 'colsample_bytree': 0.6803469221306001, 'reg_alpha': 0.20451852606050902, 'reg_lambda': 6.71835536070282, 'top_rate': 0.13560113952137448, 'other_rate': 0.4867808248445012, 'threshold': 49}. Best is trial 115 with value: 0.833337460463145.\n"
     ]
    },
    {
     "name": "stdout",
     "output_type": "stream",
     "text": [
      "Score: 0.8321390844669754\n",
      "Fold 1\n",
      "Fold 2\n",
      "Fold 3\n"
     ]
    },
    {
     "name": "stderr",
     "output_type": "stream",
     "text": [
      "[I 2024-06-24 23:43:27,554] Trial 143 finished with value: 0.8275926042896122 and parameters: {'boosting_type': 'goss', 'num_leaves': 40, 'max_depth': 31, 'learning_rate': 0.08145974863114736, 'n_estimators': 969, 'min_child_samples': 64, 'subsample': 0.6562006669461483, 'colsample_bytree': 0.6388685888188129, 'reg_alpha': 0.03709668512359228, 'reg_lambda': 2.8223899521398947, 'top_rate': 0.10691659674536257, 'other_rate': 0.4678876018532029, 'threshold': 59}. Best is trial 115 with value: 0.833337460463145.\n"
     ]
    },
    {
     "name": "stdout",
     "output_type": "stream",
     "text": [
      "Score: 0.8275926042896122\n",
      "Fold 1\n",
      "Fold 2\n",
      "Fold 3\n"
     ]
    },
    {
     "name": "stderr",
     "output_type": "stream",
     "text": [
      "[I 2024-06-24 23:44:05,815] Trial 144 finished with value: 0.8301252937632205 and parameters: {'boosting_type': 'goss', 'num_leaves': 54, 'max_depth': 40, 'learning_rate': 0.04108687157620907, 'n_estimators': 937, 'min_child_samples': 67, 'subsample': 0.6176616893448614, 'colsample_bytree': 0.6548995840758445, 'reg_alpha': 0.06876771783019243, 'reg_lambda': 4.466974894949001, 'top_rate': 0.09141939657223466, 'other_rate': 0.43671180356019024, 'threshold': 44}. Best is trial 115 with value: 0.833337460463145.\n"
     ]
    },
    {
     "name": "stdout",
     "output_type": "stream",
     "text": [
      "Score: 0.8301252937632205\n",
      "Fold 1\n",
      "Fold 2\n",
      "Fold 3\n"
     ]
    },
    {
     "name": "stderr",
     "output_type": "stream",
     "text": [
      "[I 2024-06-24 23:44:34,789] Trial 145 finished with value: 0.832509705577895 and parameters: {'boosting_type': 'goss', 'num_leaves': 34, 'max_depth': 34, 'learning_rate': 0.020918474210295277, 'n_estimators': 857, 'min_child_samples': 47, 'subsample': 0.6711482490557983, 'colsample_bytree': 0.6175986660297516, 'reg_alpha': 0.6777715324584221, 'reg_lambda': 1.4764061558022974, 'top_rate': 0.1364266481829056, 'other_rate': 0.49969764076531326, 'threshold': 61}. Best is trial 115 with value: 0.833337460463145.\n"
     ]
    },
    {
     "name": "stdout",
     "output_type": "stream",
     "text": [
      "Score: 0.832509705577895\n",
      "Fold 1\n",
      "Fold 2\n",
      "Fold 3\n"
     ]
    },
    {
     "name": "stderr",
     "output_type": "stream",
     "text": [
      "[I 2024-06-24 23:45:10,232] Trial 146 finished with value: 0.8320155215065134 and parameters: {'boosting_type': 'goss', 'num_leaves': 46, 'max_depth': 41, 'learning_rate': 0.028755922202924316, 'n_estimators': 981, 'min_child_samples': 50, 'subsample': 0.646757281123229, 'colsample_bytree': 0.6892711411987592, 'reg_alpha': 0.2715753452874283, 'reg_lambda': 0.8289212439176097, 'top_rate': 0.11671597920764144, 'other_rate': 0.4714196111951108, 'threshold': 40}. Best is trial 115 with value: 0.833337460463145.\n"
     ]
    },
    {
     "name": "stdout",
     "output_type": "stream",
     "text": [
      "Score: 0.8320155215065134\n",
      "Fold 1\n",
      "Fold 2\n",
      "Fold 3\n"
     ]
    },
    {
     "name": "stderr",
     "output_type": "stream",
     "text": [
      "[I 2024-06-24 23:45:34,803] Trial 147 finished with value: 0.8191791765681379 and parameters: {'boosting_type': 'goss', 'num_leaves': 18, 'max_depth': 37, 'learning_rate': 0.002080378232868841, 'n_estimators': 918, 'min_child_samples': 61, 'subsample': 0.6640256414031, 'colsample_bytree': 0.6008777199580767, 'reg_alpha': 0.013455797786760058, 'reg_lambda': 7.445930784698664, 'top_rate': 0.15818440517717655, 'other_rate': 0.4528265544788209, 'threshold': 56}. Best is trial 115 with value: 0.833337460463145.\n"
     ]
    },
    {
     "name": "stdout",
     "output_type": "stream",
     "text": [
      "Score: 0.8191791765681379\n",
      "Fold 1\n",
      "Fold 2\n",
      "Fold 3\n"
     ]
    },
    {
     "name": "stderr",
     "output_type": "stream",
     "text": [
      "[I 2024-06-24 23:46:06,301] Trial 148 finished with value: 0.8331644978697956 and parameters: {'boosting_type': 'goss', 'num_leaves': 29, 'max_depth': 30, 'learning_rate': 0.013250168180003245, 'n_estimators': 1000, 'min_child_samples': 58, 'subsample': 0.6321735341120811, 'colsample_bytree': 0.6357614087758936, 'reg_alpha': 0.09918772416903703, 'reg_lambda': 2.1853991230368752, 'top_rate': 0.07253687109267255, 'other_rate': 0.48629060925567125, 'threshold': 64}. Best is trial 115 with value: 0.833337460463145.\n"
     ]
    },
    {
     "name": "stdout",
     "output_type": "stream",
     "text": [
      "Score: 0.8331644978697956\n",
      "Fold 1\n",
      "Fold 2\n",
      "Fold 3\n"
     ]
    },
    {
     "name": "stderr",
     "output_type": "stream",
     "text": [
      "[I 2024-06-24 23:46:34,257] Trial 149 finished with value: 0.8241456962635588 and parameters: {'boosting_type': 'goss', 'num_leaves': 30, 'max_depth': 30, 'learning_rate': 0.11686975887092, 'n_estimators': 987, 'min_child_samples': 58, 'subsample': 0.6111499145007058, 'colsample_bytree': 0.6708438487032979, 'reg_alpha': 0.08206330928253343, 'reg_lambda': 0.6049177095284158, 'top_rate': 0.07109300849438822, 'other_rate': 0.490297038414593, 'threshold': 67}. Best is trial 115 with value: 0.833337460463145.\n"
     ]
    },
    {
     "name": "stdout",
     "output_type": "stream",
     "text": [
      "Score: 0.8241456962635588\n",
      "Fold 1\n",
      "Fold 2\n",
      "Fold 3\n"
     ]
    },
    {
     "name": "stderr",
     "output_type": "stream",
     "text": [
      "[I 2024-06-24 23:46:53,656] Trial 150 finished with value: 0.8268019161861213 and parameters: {'boosting_type': 'goss', 'num_leaves': 12, 'max_depth': 28, 'learning_rate': 0.007215246705653685, 'n_estimators': 996, 'min_child_samples': 55, 'subsample': 0.6895080290102057, 'colsample_bytree': 0.6336068569316415, 'reg_alpha': 0.1321455026459651, 'reg_lambda': 1.5338776831242864, 'top_rate': 0.0435897403136117, 'other_rate': 0.4756521828552051, 'threshold': 12}. Best is trial 115 with value: 0.833337460463145.\n"
     ]
    },
    {
     "name": "stdout",
     "output_type": "stream",
     "text": [
      "Score: 0.8268019161861213\n",
      "Fold 1\n",
      "Fold 2\n",
      "Fold 3\n"
     ]
    },
    {
     "name": "stderr",
     "output_type": "stream",
     "text": [
      "[I 2024-06-24 23:47:28,999] Trial 151 finished with value: 0.8327567976135857 and parameters: {'boosting_type': 'goss', 'num_leaves': 39, 'max_depth': 32, 'learning_rate': 0.010754386671530858, 'n_estimators': 957, 'min_child_samples': 49, 'subsample': 0.6314277492356534, 'colsample_bytree': 0.6478938486521617, 'reg_alpha': 0.3718344124492167, 'reg_lambda': 2.6916109563350066, 'top_rate': 0.0999796730970293, 'other_rate': 0.48655292471637507, 'threshold': 64}. Best is trial 115 with value: 0.833337460463145.\n"
     ]
    },
    {
     "name": "stdout",
     "output_type": "stream",
     "text": [
      "Score: 0.8327567976135857\n",
      "Fold 1\n",
      "Fold 2\n",
      "Fold 3\n"
     ]
    },
    {
     "name": "stderr",
     "output_type": "stream",
     "text": [
      "[I 2024-06-24 23:48:04,018] Trial 152 finished with value: 0.831916688813414 and parameters: {'boosting_type': 'goss', 'num_leaves': 38, 'max_depth': 32, 'learning_rate': 0.009747285580130981, 'n_estimators': 959, 'min_child_samples': 48, 'subsample': 0.6251020164304458, 'colsample_bytree': 0.6481209259629419, 'reg_alpha': 0.4106770749356171, 'reg_lambda': 4.103997756971392, 'top_rate': 0.0980061744638627, 'other_rate': 0.4883391186465603, 'threshold': 64}. Best is trial 115 with value: 0.833337460463145.\n"
     ]
    },
    {
     "name": "stdout",
     "output_type": "stream",
     "text": [
      "Score: 0.831916688813414\n",
      "Fold 1\n",
      "Fold 2\n",
      "Fold 3\n"
     ]
    },
    {
     "name": "stderr",
     "output_type": "stream",
     "text": [
      "[I 2024-06-24 23:48:30,272] Trial 153 finished with value: 0.8324479332558351 and parameters: {'boosting_type': 'goss', 'num_leaves': 23, 'max_depth': 33, 'learning_rate': 0.018996774476411363, 'n_estimators': 939, 'min_child_samples': 43, 'subsample': 0.6526915135427412, 'colsample_bytree': 0.6270671637650275, 'reg_alpha': 0.20130551553734596, 'reg_lambda': 2.7014183157983642, 'top_rate': 0.10224849520751399, 'other_rate': 0.46308964968461874, 'threshold': 62}. Best is trial 115 with value: 0.833337460463145.\n"
     ]
    },
    {
     "name": "stdout",
     "output_type": "stream",
     "text": [
      "Score: 0.8324479332558351\n",
      "Fold 1\n",
      "Fold 2\n",
      "Fold 3\n"
     ]
    },
    {
     "name": "stderr",
     "output_type": "stream",
     "text": [
      "[I 2024-06-24 23:48:58,725] Trial 154 finished with value: 0.832312039275879 and parameters: {'boosting_type': 'goss', 'num_leaves': 29, 'max_depth': 35, 'learning_rate': 0.012131526617374964, 'n_estimators': 894, 'min_child_samples': 56, 'subsample': 0.6426228519754651, 'colsample_bytree': 0.6586812621840387, 'reg_alpha': 0.10105511907376263, 'reg_lambda': 1.0916252374169415, 'top_rate': 0.08364340566066386, 'other_rate': 0.488324099733063, 'threshold': 59}. Best is trial 115 with value: 0.833337460463145.\n"
     ]
    },
    {
     "name": "stdout",
     "output_type": "stream",
     "text": [
      "Score: 0.832312039275879\n",
      "Fold 1\n",
      "Fold 2\n",
      "Fold 3\n"
     ]
    },
    {
     "name": "stderr",
     "output_type": "stream",
     "text": [
      "[I 2024-06-24 23:49:31,782] Trial 155 finished with value: 0.8310765910030474 and parameters: {'boosting_type': 'goss', 'num_leaves': 37, 'max_depth': 26, 'learning_rate': 0.04442100024454677, 'n_estimators': 1000, 'min_child_samples': 47, 'subsample': 0.5963402003696924, 'colsample_bytree': 0.6399375212328086, 'reg_alpha': 0.30482955560842595, 'reg_lambda': 1.9231875434337509, 'top_rate': 0.07293121496568443, 'other_rate': 0.4722313587906535, 'threshold': 65}. Best is trial 115 with value: 0.833337460463145.\n"
     ]
    },
    {
     "name": "stdout",
     "output_type": "stream",
     "text": [
      "Score: 0.8310765910030474\n",
      "Fold 1\n",
      "Fold 2\n",
      "Fold 3\n"
     ]
    },
    {
     "name": "stderr",
     "output_type": "stream",
     "text": [
      "[I 2024-06-24 23:50:08,132] Trial 156 finished with value: 0.8327938616478937 and parameters: {'boosting_type': 'goss', 'num_leaves': 42, 'max_depth': 31, 'learning_rate': 0.02546855701271445, 'n_estimators': 971, 'min_child_samples': 54, 'subsample': 0.6306474209274212, 'colsample_bytree': 0.6477726445278223, 'reg_alpha': 0.5543766863479763, 'reg_lambda': 8.904473530914387, 'top_rate': 0.12671450412097904, 'other_rate': 0.47601054847703084, 'threshold': 68}. Best is trial 115 with value: 0.833337460463145.\n"
     ]
    },
    {
     "name": "stdout",
     "output_type": "stream",
     "text": [
      "Score: 0.8327938616478937\n",
      "Fold 1\n",
      "Fold 2\n",
      "Fold 3\n"
     ]
    },
    {
     "name": "stderr",
     "output_type": "stream",
     "text": [
      "[I 2024-06-24 23:50:30,598] Trial 157 finished with value: 0.8325467719017455 and parameters: {'boosting_type': 'goss', 'num_leaves': 15, 'max_depth': 29, 'learning_rate': 0.02405754078778376, 'n_estimators': 975, 'min_child_samples': 54, 'subsample': 0.6198878440668165, 'colsample_bytree': 0.6530564965698056, 'reg_alpha': 0.15949832211828543, 'reg_lambda': 8.412758686543171, 'top_rate': 0.12759512711033744, 'other_rate': 0.4878724829583846, 'threshold': 73}. Best is trial 115 with value: 0.833337460463145.\n"
     ]
    },
    {
     "name": "stdout",
     "output_type": "stream",
     "text": [
      "Score: 0.8325467719017455\n",
      "Fold 1\n",
      "Fold 2\n",
      "Fold 3\n"
     ]
    },
    {
     "name": "stderr",
     "output_type": "stream",
     "text": [
      "[I 2024-06-24 23:53:25,564] Trial 158 finished with value: 0.831706671343928 and parameters: {'boosting_type': 'dart', 'num_leaves': 33, 'max_depth': 30, 'learning_rate': 0.07163172030804124, 'n_estimators': 933, 'min_child_samples': 50, 'subsample': 0.6275438091473013, 'colsample_bytree': 0.6724136837684201, 'reg_alpha': 0.5425768208248934, 'reg_lambda': 4.939805215533106, 'drop_rate': 0.28533784949179036, 'skip_drop': 0.6485065229745258, 'threshold': 69}. Best is trial 115 with value: 0.833337460463145.\n"
     ]
    },
    {
     "name": "stdout",
     "output_type": "stream",
     "text": [
      "Score: 0.831706671343928\n",
      "Fold 1\n",
      "Fold 2\n",
      "Fold 3\n"
     ]
    },
    {
     "name": "stderr",
     "output_type": "stream",
     "text": [
      "[I 2024-06-24 23:53:36,063] Trial 159 finished with value: 0.822539612684642 and parameters: {'boosting_type': 'goss', 'num_leaves': 2, 'max_depth': 32, 'learning_rate': 0.03157892489946188, 'n_estimators': 969, 'min_child_samples': 49, 'subsample': 0.6040155262832791, 'colsample_bytree': 0.6206809644424617, 'reg_alpha': 0.37272719563664863, 'reg_lambda': 3.661877895344442, 'top_rate': 0.1379384024988261, 'other_rate': 0.4738198298210763, 'threshold': 67}. Best is trial 115 with value: 0.833337460463145.\n"
     ]
    },
    {
     "name": "stdout",
     "output_type": "stream",
     "text": [
      "Score: 0.822539612684642\n",
      "Fold 1\n",
      "Fold 2\n",
      "Fold 3\n"
     ]
    },
    {
     "name": "stderr",
     "output_type": "stream",
     "text": [
      "[I 2024-06-24 23:54:08,385] Trial 160 finished with value: 0.830730655284452 and parameters: {'boosting_type': 'goss', 'num_leaves': 42, 'max_depth': 34, 'learning_rate': 0.05233691153104375, 'n_estimators': 919, 'min_child_samples': 46, 'subsample': 0.6599043483271801, 'colsample_bytree': 0.6461667422626632, 'reg_alpha': 0.04765179648066617, 'reg_lambda': 6.434803683589106, 'top_rate': 0.125790988867149, 'other_rate': 0.46249060906763245, 'threshold': 70}. Best is trial 115 with value: 0.833337460463145.\n"
     ]
    },
    {
     "name": "stdout",
     "output_type": "stream",
     "text": [
      "Score: 0.830730655284452\n",
      "Fold 1\n",
      "Fold 2\n",
      "Fold 3\n"
     ]
    },
    {
     "name": "stderr",
     "output_type": "stream",
     "text": [
      "[I 2024-06-24 23:54:48,717] Trial 161 finished with value: 0.8330038910230022 and parameters: {'boosting_type': 'goss', 'num_leaves': 51, 'max_depth': 36, 'learning_rate': 0.012875874046807019, 'n_estimators': 951, 'min_child_samples': 58, 'subsample': 0.6378145488843765, 'colsample_bytree': 0.6344412419427892, 'reg_alpha': 0.8141238805221576, 'reg_lambda': 9.678717044080217, 'top_rate': 0.10402531752276148, 'other_rate': 0.49045776662395424, 'threshold': 63}. Best is trial 115 with value: 0.833337460463145.\n"
     ]
    },
    {
     "name": "stdout",
     "output_type": "stream",
     "text": [
      "Score: 0.8330038910230022\n",
      "Fold 1\n",
      "Fold 2\n",
      "Fold 3\n"
     ]
    },
    {
     "name": "stderr",
     "output_type": "stream",
     "text": [
      "[I 2024-06-24 23:55:32,849] Trial 162 finished with value: 0.8324355811725476 and parameters: {'boosting_type': 'goss', 'num_leaves': 57, 'max_depth': 36, 'learning_rate': 0.0161804144455069, 'n_estimators': 980, 'min_child_samples': 58, 'subsample': 0.6306653490449511, 'colsample_bytree': 0.6635548978553859, 'reg_alpha': 0.8682936994733874, 'reg_lambda': 9.185025513909386, 'top_rate': 0.10375756212470622, 'other_rate': 0.4990357784368695, 'threshold': 63}. Best is trial 115 with value: 0.833337460463145.\n"
     ]
    },
    {
     "name": "stdout",
     "output_type": "stream",
     "text": [
      "Score: 0.8324355811725476\n",
      "Fold 1\n",
      "Fold 2\n",
      "Fold 3\n"
     ]
    },
    {
     "name": "stderr",
     "output_type": "stream",
     "text": [
      "[I 2024-06-24 23:56:11,437] Trial 163 finished with value: 0.8325714778999548 and parameters: {'boosting_type': 'goss', 'num_leaves': 50, 'max_depth': 33, 'learning_rate': 0.026341712186706133, 'n_estimators': 942, 'min_child_samples': 53, 'subsample': 0.614419719465572, 'colsample_bytree': 0.641248568456299, 'reg_alpha': 0.23904171842161712, 'reg_lambda': 4.424342553793858, 'top_rate': 0.15353615215519442, 'other_rate': 0.47950377083606843, 'threshold': 61}. Best is trial 115 with value: 0.833337460463145.\n"
     ]
    },
    {
     "name": "stdout",
     "output_type": "stream",
     "text": [
      "Score: 0.8325714778999548\n",
      "Fold 1\n",
      "Fold 2\n",
      "Fold 3\n"
     ]
    },
    {
     "name": "stderr",
     "output_type": "stream",
     "text": [
      "[I 2024-06-24 23:56:40,258] Trial 164 finished with value: 0.829173980496594 and parameters: {'boosting_type': 'goss', 'num_leaves': 25, 'max_depth': 38, 'learning_rate': 0.00557355458715172, 'n_estimators': 961, 'min_child_samples': 56, 'subsample': 0.6477588721157479, 'colsample_bytree': 0.6276464289927208, 'reg_alpha': 0.5224849077581045, 'reg_lambda': 1.0612305137678604, 'top_rate': 0.10824020927252039, 'other_rate': 0.4891004085893066, 'threshold': 66}. Best is trial 115 with value: 0.833337460463145.\n"
     ]
    },
    {
     "name": "stdout",
     "output_type": "stream",
     "text": [
      "Score: 0.829173980496594\n",
      "Fold 1\n",
      "Fold 2\n",
      "Fold 3\n"
     ]
    },
    {
     "name": "stderr",
     "output_type": "stream",
     "text": [
      "[I 2024-06-24 23:57:24,456] Trial 165 finished with value: 0.832633257090643 and parameters: {'boosting_type': 'goss', 'num_leaves': 64, 'max_depth': 31, 'learning_rate': 0.014998697021807051, 'n_estimators': 902, 'min_child_samples': 51, 'subsample': 0.6386830570235428, 'colsample_bytree': 0.6124940841217421, 'reg_alpha': 0.9055611251217051, 'reg_lambda': 9.021269735816482, 'top_rate': 0.12234870194862557, 'other_rate': 0.4771139381514834, 'threshold': 64}. Best is trial 115 with value: 0.833337460463145.\n"
     ]
    },
    {
     "name": "stdout",
     "output_type": "stream",
     "text": [
      "Score: 0.832633257090643\n",
      "Fold 1\n",
      "Fold 2\n",
      "Fold 3\n"
     ]
    },
    {
     "name": "stderr",
     "output_type": "stream",
     "text": [
      "[I 2024-06-24 23:57:57,817] Trial 166 finished with value: 0.831064226556229 and parameters: {'boosting_type': 'goss', 'num_leaves': 40, 'max_depth': 35, 'learning_rate': 0.03969047437500688, 'n_estimators': 980, 'min_child_samples': 44, 'subsample': 0.6226177484398899, 'colsample_bytree': 0.6524551524392466, 'reg_alpha': 0.17651012611825997, 'reg_lambda': 0.6191799067930545, 'top_rate': 0.08802289568657895, 'other_rate': 0.45189512582767877, 'threshold': 59}. Best is trial 115 with value: 0.833337460463145.\n"
     ]
    },
    {
     "name": "stdout",
     "output_type": "stream",
     "text": [
      "Score: 0.831064226556229\n",
      "Fold 1\n",
      "Fold 2\n",
      "Fold 3\n"
     ]
    },
    {
     "name": "stderr",
     "output_type": "stream",
     "text": [
      "[I 2024-06-24 23:58:29,580] Trial 167 finished with value: 0.8182402506437576 and parameters: {'boosting_type': 'goss', 'num_leaves': 30, 'max_depth': 34, 'learning_rate': 0.0012801382511715, 'n_estimators': 925, 'min_child_samples': 49, 'subsample': 0.6063447186534052, 'colsample_bytree': 0.682247276666389, 'reg_alpha': 0.3485834052768354, 'reg_lambda': 1.967277678033502, 'top_rate': 0.1428278488887043, 'other_rate': 0.49143653265711723, 'threshold': 61}. Best is trial 115 with value: 0.833337460463145.\n"
     ]
    },
    {
     "name": "stdout",
     "output_type": "stream",
     "text": [
      "Score: 0.8182402506437576\n",
      "Fold 1\n",
      "Fold 2\n",
      "Fold 3\n"
     ]
    },
    {
     "name": "stderr",
     "output_type": "stream",
     "text": [
      "[I 2024-06-24 23:59:10,504] Trial 168 finished with value: 0.8324355697248337 and parameters: {'boosting_type': 'goss', 'num_leaves': 51, 'max_depth': 27, 'learning_rate': 0.008248606635415816, 'n_estimators': 947, 'min_child_samples': 53, 'subsample': 0.585355770236146, 'colsample_bytree': 0.6972324504850679, 'reg_alpha': 0.6581068129037639, 'reg_lambda': 0.00484708821704446, 'top_rate': 0.16992553643985106, 'other_rate': 0.4610078204749659, 'threshold': 68}. Best is trial 115 with value: 0.833337460463145.\n"
     ]
    },
    {
     "name": "stdout",
     "output_type": "stream",
     "text": [
      "Score: 0.8324355697248337\n",
      "Fold 1\n",
      "Fold 2\n",
      "Fold 3\n"
     ]
    },
    {
     "name": "stderr",
     "output_type": "stream",
     "text": [
      "[I 2024-06-24 23:59:43,350] Trial 169 finished with value: 0.8271849214339274 and parameters: {'boosting_type': 'goss', 'num_leaves': 36, 'max_depth': 36, 'learning_rate': 0.0038159880374990687, 'n_estimators': 882, 'min_child_samples': 46, 'subsample': 0.6707776210554377, 'colsample_bytree': 0.6326449730545874, 'reg_alpha': 0.11269161834153392, 'reg_lambda': 5.844429094961016, 'top_rate': 0.09681338386604121, 'other_rate': 0.4744520155107194, 'threshold': 63}. Best is trial 115 with value: 0.833337460463145.\n"
     ]
    },
    {
     "name": "stdout",
     "output_type": "stream",
     "text": [
      "Score: 0.8271849214339274\n",
      "Fold 1\n",
      "Fold 2\n",
      "Fold 3\n"
     ]
    },
    {
     "name": "stderr",
     "output_type": "stream",
     "text": [
      "[I 2024-06-25 00:00:20,150] Trial 170 finished with value: 0.8320896491172206 and parameters: {'boosting_type': 'goss', 'num_leaves': 42, 'max_depth': 37, 'learning_rate': 0.010982165393399662, 'n_estimators': 961, 'min_child_samples': 55, 'subsample': 0.6551348082426324, 'colsample_bytree': 0.5942873248411638, 'reg_alpha': 0.23798072332189393, 'reg_lambda': 3.784407023938007, 'top_rate': 0.1325241408181054, 'other_rate': 0.44734856712969606, 'threshold': 75}. Best is trial 115 with value: 0.833337460463145.\n"
     ]
    },
    {
     "name": "stdout",
     "output_type": "stream",
     "text": [
      "Score: 0.8320896491172206\n",
      "Fold 1\n",
      "Fold 2\n",
      "Fold 3\n"
     ]
    },
    {
     "name": "stderr",
     "output_type": "stream",
     "text": [
      "[I 2024-06-25 00:01:00,122] Trial 171 finished with value: 0.8325467741912883 and parameters: {'boosting_type': 'goss', 'num_leaves': 46, 'max_depth': 38, 'learning_rate': 0.01849097913929578, 'n_estimators': 999, 'min_child_samples': 62, 'subsample': 0.6325939620779162, 'colsample_bytree': 0.6366297177371879, 'reg_alpha': 1.2191068495354842, 'reg_lambda': 2.8072276334215807, 'top_rate': 0.11382964505710218, 'other_rate': 0.4896106632835279, 'threshold': 54}. Best is trial 115 with value: 0.833337460463145.\n"
     ]
    },
    {
     "name": "stdout",
     "output_type": "stream",
     "text": [
      "Score: 0.8325467741912883\n",
      "Fold 1\n",
      "Fold 2\n",
      "Fold 3\n"
     ]
    },
    {
     "name": "stderr",
     "output_type": "stream",
     "text": [
      "[I 2024-06-25 00:01:42,416] Trial 172 finished with value: 0.8331274361250305 and parameters: {'boosting_type': 'goss', 'num_leaves': 54, 'max_depth': 31, 'learning_rate': 0.01178015013896938, 'n_estimators': 949, 'min_child_samples': 57, 'subsample': 0.640502759309467, 'colsample_bytree': 0.6209085419288892, 'reg_alpha': 0.4982565554893387, 'reg_lambda': 9.955484450290966, 'top_rate': 0.0563048281629722, 'other_rate': 0.49949410676928435, 'threshold': 56}. Best is trial 115 with value: 0.833337460463145.\n"
     ]
    },
    {
     "name": "stdout",
     "output_type": "stream",
     "text": [
      "Score: 0.8331274361250305\n",
      "Fold 1\n",
      "Fold 2\n",
      "Fold 3\n"
     ]
    },
    {
     "name": "stderr",
     "output_type": "stream",
     "text": [
      "[I 2024-06-25 00:02:23,078] Trial 173 finished with value: 0.832583836393962 and parameters: {'boosting_type': 'goss', 'num_leaves': 55, 'max_depth': 31, 'learning_rate': 0.02549201015821013, 'n_estimators': 923, 'min_child_samples': 58, 'subsample': 0.6462241351878452, 'colsample_bytree': 0.6159852176348932, 'reg_alpha': 0.525435489831614, 'reg_lambda': 6.575109630496043, 'top_rate': 0.08501456603478914, 'other_rate': 0.48068342574812495, 'threshold': 58}. Best is trial 115 with value: 0.833337460463145.\n"
     ]
    },
    {
     "name": "stdout",
     "output_type": "stream",
     "text": [
      "Score: 0.832583836393962\n",
      "Fold 1\n",
      "Fold 2\n",
      "Fold 3\n"
     ]
    },
    {
     "name": "stderr",
     "output_type": "stream",
     "text": [
      "[I 2024-06-25 00:02:49,119] Trial 174 finished with value: 0.8313978037808173 and parameters: {'boosting_type': 'goss', 'num_leaves': 19, 'max_depth': 32, 'learning_rate': 0.012701524915563589, 'n_estimators': 945, 'min_child_samples': 59, 'subsample': 0.6160865869706174, 'colsample_bytree': 0.6272623811221042, 'reg_alpha': 0.39414749043765457, 'reg_lambda': 9.788899313588782, 'top_rate': 0.05703028857816795, 'other_rate': 0.4990668875466238, 'threshold': 60}. Best is trial 115 with value: 0.833337460463145.\n"
     ]
    },
    {
     "name": "stdout",
     "output_type": "stream",
     "text": [
      "Score: 0.8313978037808173\n",
      "Fold 1\n",
      "Fold 2\n",
      "Fold 3\n"
     ]
    },
    {
     "name": "stderr",
     "output_type": "stream",
     "text": [
      "[I 2024-06-25 00:03:25,462] Trial 175 finished with value: 0.8306071074349722 and parameters: {'boosting_type': 'goss', 'num_leaves': 35, 'max_depth': 28, 'learning_rate': 0.00620756454899117, 'n_estimators': 976, 'min_child_samples': 51, 'subsample': 0.6283101922874181, 'colsample_bytree': 0.6042082665554955, 'reg_alpha': 0.8400862858484887, 'reg_lambda': 1.2743765023847302, 'top_rate': 0.15295633084962196, 'other_rate': 0.468023974256486, 'threshold': 57}. Best is trial 115 with value: 0.833337460463145.\n"
     ]
    },
    {
     "name": "stdout",
     "output_type": "stream",
     "text": [
      "Score: 0.8306071074349722\n",
      "Fold 1\n",
      "Fold 2\n",
      "Fold 3\n"
     ]
    },
    {
     "name": "stderr",
     "output_type": "stream",
     "text": [
      "[I 2024-06-25 00:04:05,322] Trial 176 finished with value: 0.8307059657709508 and parameters: {'boosting_type': 'goss', 'num_leaves': 59, 'max_depth': 33, 'learning_rate': 0.032498777269653244, 'n_estimators': 962, 'min_child_samples': 54, 'subsample': 0.6454700532100776, 'colsample_bytree': 0.6485926783612286, 'reg_alpha': 0.15457324933254146, 'reg_lambda': 0.0005382486850129507, 'top_rate': 0.10349343179830726, 'other_rate': 0.48390771760429274, 'threshold': 66}. Best is trial 115 with value: 0.833337460463145.\n"
     ]
    },
    {
     "name": "stdout",
     "output_type": "stream",
     "text": [
      "Score: 0.8307059657709508\n",
      "Fold 1\n",
      "Fold 2\n",
      "Fold 3\n"
     ]
    },
    {
     "name": "stderr",
     "output_type": "stream",
     "text": [
      "[I 2024-06-25 00:04:31,753] Trial 177 finished with value: 0.8323614498985719 and parameters: {'boosting_type': 'goss', 'num_leaves': 25, 'max_depth': 30, 'learning_rate': 0.01827049302081909, 'n_estimators': 911, 'min_child_samples': 57, 'subsample': 0.6381240140575211, 'colsample_bytree': 0.6199870053192297, 'reg_alpha': 0.2930511061112191, 'reg_lambda': 4.177530135719873, 'top_rate': 0.11674157906968731, 'other_rate': 0.4584339931110869, 'threshold': 64}. Best is trial 115 with value: 0.833337460463145.\n"
     ]
    },
    {
     "name": "stdout",
     "output_type": "stream",
     "text": [
      "Score: 0.8323614498985719\n",
      "Fold 1\n",
      "Fold 2\n",
      "Fold 3\n"
     ]
    },
    {
     "name": "stderr",
     "output_type": "stream",
     "text": [
      "[I 2024-06-25 00:05:09,661] Trial 178 finished with value: 0.8288774828752046 and parameters: {'boosting_type': 'goss', 'num_leaves': 51, 'max_depth': 24, 'learning_rate': 0.06029782807706206, 'n_estimators': 937, 'min_child_samples': 42, 'subsample': 0.6623663283395961, 'colsample_bytree': 0.665547332278268, 'reg_alpha': 0.001514161234297029, 'reg_lambda': 9.948660314904826, 'top_rate': 0.09354904628241811, 'other_rate': 0.4996771173396269, 'threshold': 52}. Best is trial 115 with value: 0.833337460463145.\n"
     ]
    },
    {
     "name": "stdout",
     "output_type": "stream",
     "text": [
      "Score: 0.8288774828752046\n",
      "Fold 1\n",
      "Fold 2\n",
      "Fold 3\n"
     ]
    },
    {
     "name": "stderr",
     "output_type": "stream",
     "text": [
      "[I 2024-06-25 00:05:31,487] Trial 179 finished with value: 0.8295816830423467 and parameters: {'boosting_type': 'goss', 'num_leaves': 42, 'max_depth': 35, 'learning_rate': 0.00806482072041962, 'n_estimators': 542, 'min_child_samples': 48, 'subsample': 0.6113356976517165, 'colsample_bytree': 0.6400332978062162, 'reg_alpha': 0.07705067238321704, 'reg_lambda': 1.9814062440702633, 'top_rate': 0.1381821080229334, 'other_rate': 0.4704112666005877, 'threshold': 62}. Best is trial 115 with value: 0.833337460463145.\n"
     ]
    },
    {
     "name": "stdout",
     "output_type": "stream",
     "text": [
      "Score: 0.8295816830423467\n",
      "Fold 1\n",
      "Fold 2\n",
      "Fold 3\n"
     ]
    },
    {
     "name": "stderr",
     "output_type": "stream",
     "text": [
      "[I 2024-06-25 00:06:03,979] Trial 180 finished with value: 0.8327073865329845 and parameters: {'boosting_type': 'goss', 'num_leaves': 30, 'max_depth': 34, 'learning_rate': 0.013647184471780961, 'n_estimators': 1000, 'min_child_samples': 52, 'subsample': 0.5935073106210323, 'colsample_bytree': 0.6071152894899088, 'reg_alpha': 0.6474719576272762, 'reg_lambda': 0.47188971910395006, 'top_rate': 0.07701411055072388, 'other_rate': 0.4909618921864521, 'threshold': 56}. Best is trial 115 with value: 0.833337460463145.\n"
     ]
    },
    {
     "name": "stdout",
     "output_type": "stream",
     "text": [
      "Score: 0.8327073865329845\n",
      "Fold 1\n",
      "Fold 2\n",
      "Fold 3\n"
     ]
    },
    {
     "name": "stderr",
     "output_type": "stream",
     "text": [
      "[I 2024-06-25 00:06:36,690] Trial 181 finished with value: 0.8327320948207365 and parameters: {'boosting_type': 'goss', 'num_leaves': 32, 'max_depth': 34, 'learning_rate': 0.01332756286135929, 'n_estimators': 984, 'min_child_samples': 52, 'subsample': 0.5935019935815801, 'colsample_bytree': 0.6051561266239319, 'reg_alpha': 0.567739531400317, 'reg_lambda': 0.469298488009544, 'top_rate': 0.0780711181906307, 'other_rate': 0.4898528267679723, 'threshold': 56}. Best is trial 115 with value: 0.833337460463145.\n"
     ]
    },
    {
     "name": "stdout",
     "output_type": "stream",
     "text": [
      "Score: 0.8327320948207365\n",
      "Fold 1\n",
      "Fold 2\n",
      "Fold 3\n"
     ]
    },
    {
     "name": "stderr",
     "output_type": "stream",
     "text": [
      "[I 2024-06-25 00:07:07,232] Trial 182 finished with value: 0.8328185690198285 and parameters: {'boosting_type': 'goss', 'num_leaves': 30, 'max_depth': 32, 'learning_rate': 0.022719456620765622, 'n_estimators': 985, 'min_child_samples': 51, 'subsample': 0.5944858250355682, 'colsample_bytree': 0.6024976350919873, 'reg_alpha': 0.5503798045362348, 'reg_lambda': 0.5344900719755035, 'top_rate': 0.07174153770043123, 'other_rate': 0.4902197542914548, 'threshold': 56}. Best is trial 115 with value: 0.833337460463145.\n"
     ]
    },
    {
     "name": "stdout",
     "output_type": "stream",
     "text": [
      "Score: 0.8328185690198285\n",
      "Fold 1\n",
      "Fold 2\n",
      "Fold 3\n"
     ]
    },
    {
     "name": "stderr",
     "output_type": "stream",
     "text": [
      "[I 2024-06-25 00:07:34,640] Trial 183 finished with value: 0.8319290514285983 and parameters: {'boosting_type': 'goss', 'num_leaves': 20, 'max_depth': -1, 'learning_rate': 0.013507723433389527, 'n_estimators': 999, 'min_child_samples': 49, 'subsample': 0.5994675104023807, 'colsample_bytree': 0.5843849656627621, 'reg_alpha': 0.54943707062004, 'reg_lambda': 0.448131032569109, 'top_rate': 0.07767690957545888, 'other_rate': 0.4872243973062303, 'threshold': 56}. Best is trial 115 with value: 0.833337460463145.\n"
     ]
    },
    {
     "name": "stdout",
     "output_type": "stream",
     "text": [
      "Score: 0.8319290514285983\n",
      "Fold 1\n",
      "Fold 2\n",
      "Fold 3\n"
     ]
    },
    {
     "name": "stderr",
     "output_type": "stream",
     "text": [
      "[I 2024-06-25 00:08:03,708] Trial 184 finished with value: 0.8324479369191035 and parameters: {'boosting_type': 'goss', 'num_leaves': 28, 'max_depth': 34, 'learning_rate': 0.032814328448846464, 'n_estimators': 980, 'min_child_samples': 45, 'subsample': 0.5785533961238357, 'colsample_bytree': 0.5938624444215593, 'reg_alpha': 0.8356029629557775, 'reg_lambda': 0.19506029807068595, 'top_rate': 0.04921041272853108, 'other_rate': 0.49176824385712703, 'threshold': 60}. Best is trial 115 with value: 0.833337460463145.\n"
     ]
    },
    {
     "name": "stdout",
     "output_type": "stream",
     "text": [
      "Score: 0.8324479369191035\n",
      "Fold 1\n",
      "Fold 2\n",
      "Fold 3\n"
     ]
    },
    {
     "name": "stderr",
     "output_type": "stream",
     "text": [
      "[I 2024-06-25 00:08:25,165] Trial 185 finished with value: 0.8315831266998082 and parameters: {'boosting_type': 'goss', 'num_leaves': 13, 'max_depth': 32, 'learning_rate': 0.01835555747277904, 'n_estimators': 1000, 'min_child_samples': 52, 'subsample': 0.5868916511069018, 'colsample_bytree': 0.6047730642755677, 'reg_alpha': 0.4188412129797983, 'reg_lambda': 0.5210513412457852, 'top_rate': 0.06457519053130711, 'other_rate': 0.47820456022297414, 'threshold': 57}. Best is trial 115 with value: 0.833337460463145.\n"
     ]
    },
    {
     "name": "stdout",
     "output_type": "stream",
     "text": [
      "Score: 0.8315831266998082\n",
      "Fold 1\n",
      "Fold 2\n",
      "Fold 3\n"
     ]
    },
    {
     "name": "stderr",
     "output_type": "stream",
     "text": [
      "[I 2024-06-25 00:12:02,475] Trial 186 finished with value: 0.8319166924766823 and parameters: {'boosting_type': 'dart', 'num_leaves': 35, 'max_depth': 31, 'learning_rate': 0.043045645037910966, 'n_estimators': 981, 'min_child_samples': 56, 'subsample': 0.5926441709508989, 'colsample_bytree': 0.61945240753958, 'reg_alpha': 7.248299178099151e-05, 'reg_lambda': 0.8148504287634817, 'drop_rate': 0.11316929375795046, 'skip_drop': 0.5217134965241613, 'threshold': 58}. Best is trial 115 with value: 0.833337460463145.\n"
     ]
    },
    {
     "name": "stdout",
     "output_type": "stream",
     "text": [
      "Score: 0.8319166924766823\n",
      "Fold 1\n",
      "Fold 2\n",
      "Fold 3\n"
     ]
    },
    {
     "name": "stderr",
     "output_type": "stream",
     "text": [
      "[I 2024-06-25 00:12:28,887] Trial 187 finished with value: 0.8327815113962403 and parameters: {'boosting_type': 'goss', 'num_leaves': 25, 'max_depth': 29, 'learning_rate': 0.027305610116978598, 'n_estimators': 966, 'min_child_samples': 60, 'subsample': 0.5727333766746113, 'colsample_bytree': 0.6126543763953224, 'reg_alpha': 0.6543988408870376, 'reg_lambda': 0.26912927697083255, 'top_rate': 0.08066467923828585, 'other_rate': 0.4917909234399456, 'threshold': 50}. Best is trial 115 with value: 0.833337460463145.\n"
     ]
    },
    {
     "name": "stdout",
     "output_type": "stream",
     "text": [
      "Score: 0.8327815113962403\n",
      "Fold 1\n",
      "Fold 2\n",
      "Fold 3\n"
     ]
    },
    {
     "name": "stderr",
     "output_type": "stream",
     "text": [
      "[I 2024-06-25 00:12:54,627] Trial 188 finished with value: 0.8331274329196706 and parameters: {'boosting_type': 'goss', 'num_leaves': 22, 'max_depth': 29, 'learning_rate': 0.02535279013422284, 'n_estimators': 964, 'min_child_samples': 58, 'subsample': 0.5750008124017159, 'colsample_bytree': 0.6231919354570965, 'reg_alpha': 1.1708920518674437, 'reg_lambda': 0.23986777156458017, 'top_rate': 0.08848652428730584, 'other_rate': 0.47895329057389946, 'threshold': 51}. Best is trial 115 with value: 0.833337460463145.\n"
     ]
    },
    {
     "name": "stdout",
     "output_type": "stream",
     "text": [
      "Score: 0.8331274329196706\n",
      "Fold 1\n",
      "Fold 2\n",
      "Fold 3\n"
     ]
    },
    {
     "name": "stderr",
     "output_type": "stream",
     "text": [
      "[I 2024-06-25 00:13:10,382] Trial 189 finished with value: 0.8296558129425966 and parameters: {'boosting_type': 'goss', 'num_leaves': 7, 'max_depth': 29, 'learning_rate': 0.0216761728510169, 'n_estimators': 965, 'min_child_samples': 61, 'subsample': 0.5607835949068228, 'colsample_bytree': 0.6238291402178625, 'reg_alpha': 1.1801369581208658, 'reg_lambda': 0.2567770606192601, 'top_rate': 0.0852728627522472, 'other_rate': 0.47689388224605117, 'threshold': 46}. Best is trial 115 with value: 0.833337460463145.\n"
     ]
    },
    {
     "name": "stdout",
     "output_type": "stream",
     "text": [
      "Score: 0.8296558129425966\n",
      "Fold 1\n",
      "Fold 2\n",
      "Fold 3\n"
     ]
    },
    {
     "name": "stderr",
     "output_type": "stream",
     "text": [
      "[I 2024-06-25 00:13:33,555] Trial 190 finished with value: 0.8218724651040942 and parameters: {'boosting_type': 'goss', 'num_leaves': 15, 'max_depth': 26, 'learning_rate': 0.0027784737089234035, 'n_estimators': 957, 'min_child_samples': 99, 'subsample': 0.574753179615211, 'colsample_bytree': 0.6139522522346902, 'reg_alpha': 1.145316378512269, 'reg_lambda': 0.16485447337532377, 'top_rate': 0.0645729746571805, 'other_rate': 0.4997455383784734, 'threshold': 52}. Best is trial 115 with value: 0.833337460463145.\n"
     ]
    },
    {
     "name": "stdout",
     "output_type": "stream",
     "text": [
      "Score: 0.8218724651040942\n",
      "Fold 1\n",
      "Fold 2\n",
      "Fold 3\n"
     ]
    },
    {
     "name": "stderr",
     "output_type": "stream",
     "text": [
      "[I 2024-06-25 00:13:59,841] Trial 191 finished with value: 0.8330656715874162 and parameters: {'boosting_type': 'goss', 'num_leaves': 23, 'max_depth': 29, 'learning_rate': 0.025892195667152784, 'n_estimators': 973, 'min_child_samples': 60, 'subsample': 0.5710238002733834, 'colsample_bytree': 0.6264710271300707, 'reg_alpha': 0.32618756752059785, 'reg_lambda': 0.24250557381413387, 'top_rate': 0.08765513071937941, 'other_rate': 0.4851233385210355, 'threshold': 49}. Best is trial 115 with value: 0.833337460463145.\n"
     ]
    },
    {
     "name": "stdout",
     "output_type": "stream",
     "text": [
      "Score: 0.8330656715874162\n",
      "Fold 1\n",
      "Fold 2\n",
      "Fold 3\n"
     ]
    },
    {
     "name": "stderr",
     "output_type": "stream",
     "text": [
      "[I 2024-06-25 00:14:25,472] Trial 192 finished with value: 0.8323614576830173 and parameters: {'boosting_type': 'goss', 'num_leaves': 23, 'max_depth': 27, 'learning_rate': 0.02530318481732876, 'n_estimators': 977, 'min_child_samples': 68, 'subsample': 0.5715853849908216, 'colsample_bytree': 0.627263166790747, 'reg_alpha': 0.3682724142091018, 'reg_lambda': 0.3411270291607075, 'top_rate': 0.08207672581995705, 'other_rate': 0.4675018053943118, 'threshold': 47}. Best is trial 115 with value: 0.833337460463145.\n"
     ]
    },
    {
     "name": "stdout",
     "output_type": "stream",
     "text": [
      "Score: 0.8323614576830173\n",
      "Fold 1\n",
      "Fold 2\n",
      "Fold 3\n"
     ]
    },
    {
     "name": "stderr",
     "output_type": "stream",
     "text": [
      "[I 2024-06-25 00:14:49,670] Trial 193 finished with value: 0.8321884873052224 and parameters: {'boosting_type': 'goss', 'num_leaves': 20, 'max_depth': 29, 'learning_rate': 0.04869494374114782, 'n_estimators': 968, 'min_child_samples': 63, 'subsample': 0.5750526531464365, 'colsample_bytree': 0.594828003637643, 'reg_alpha': 0.676795763981801, 'reg_lambda': 0.13119199852670385, 'top_rate': 0.06875356213288089, 'other_rate': 0.4830982286779735, 'threshold': 49}. Best is trial 115 with value: 0.833337460463145.\n"
     ]
    },
    {
     "name": "stdout",
     "output_type": "stream",
     "text": [
      "Score: 0.8321884873052224\n",
      "Fold 1\n",
      "Fold 2\n",
      "Fold 3\n"
     ]
    },
    {
     "name": "stderr",
     "output_type": "stream",
     "text": [
      "[I 2024-06-25 00:15:23,000] Trial 194 finished with value: 0.8327444409512127 and parameters: {'boosting_type': 'goss', 'num_leaves': 39, 'max_depth': 29, 'learning_rate': 0.018930931350778692, 'n_estimators': 944, 'min_child_samples': 60, 'subsample': 0.5505396232801092, 'colsample_bytree': 0.6140369785433877, 'reg_alpha': 0.25257708014660224, 'reg_lambda': 0.23208104160894094, 'top_rate': 0.09287636913271546, 'other_rate': 0.4798284137884871, 'threshold': 60}. Best is trial 115 with value: 0.833337460463145.\n"
     ]
    },
    {
     "name": "stdout",
     "output_type": "stream",
     "text": [
      "Score: 0.8327444409512127\n",
      "Fold 1\n",
      "Fold 2\n",
      "Fold 3\n"
     ]
    },
    {
     "name": "stderr",
     "output_type": "stream",
     "text": [
      "[I 2024-06-25 00:15:55,445] Trial 195 finished with value: 0.8327938657690707 and parameters: {'boosting_type': 'goss', 'num_leaves': 37, 'max_depth': 30, 'learning_rate': 0.024028219025134637, 'n_estimators': 943, 'min_child_samples': 59, 'subsample': 0.5468871145014134, 'colsample_bytree': 0.6420820773991535, 'reg_alpha': 0.23284931917798107, 'reg_lambda': 0.2434463181722236, 'top_rate': 0.09271454879734621, 'other_rate': 0.4718861511376748, 'threshold': 62}. Best is trial 115 with value: 0.833337460463145.\n"
     ]
    },
    {
     "name": "stdout",
     "output_type": "stream",
     "text": [
      "Score: 0.8327938657690707\n",
      "Fold 1\n",
      "Fold 2\n",
      "Fold 3\n"
     ]
    },
    {
     "name": "stderr",
     "output_type": "stream",
     "text": [
      "[I 2024-06-25 00:16:11,903] Trial 196 finished with value: 0.8316325377804094 and parameters: {'boosting_type': 'goss', 'num_leaves': 9, 'max_depth': 31, 'learning_rate': 0.03670695097015038, 'n_estimators': 933, 'min_child_samples': 65, 'subsample': 0.562326375170786, 'colsample_bytree': 0.6495646740976001, 'reg_alpha': 0.35890867913578306, 'reg_lambda': 0.11164786034431479, 'top_rate': 0.1005390372453536, 'other_rate': 0.4679218716603119, 'threshold': 62}. Best is trial 115 with value: 0.833337460463145.\n"
     ]
    },
    {
     "name": "stdout",
     "output_type": "stream",
     "text": [
      "Score: 0.8316325377804094\n",
      "Fold 1\n",
      "Fold 2\n",
      "Fold 3\n"
     ]
    },
    {
     "name": "stderr",
     "output_type": "stream",
     "text": [
      "[I 2024-06-25 00:16:49,255] Trial 197 finished with value: 0.8236144577739489 and parameters: {'boosting_type': 'goss', 'num_leaves': 48, 'max_depth': 25, 'learning_rate': 0.09071020209954365, 'n_estimators': 954, 'min_child_samples': 57, 'subsample': 0.5672899353843296, 'colsample_bytree': 0.6423465380801867, 'reg_alpha': 2.0457601036359727, 'reg_lambda': 0.03285248439770767, 'top_rate': 0.0515176704665636, 'other_rate': 0.45741569554535494, 'threshold': 62}. Best is trial 115 with value: 0.833337460463145.\n"
     ]
    },
    {
     "name": "stdout",
     "output_type": "stream",
     "text": [
      "Score: 0.8236144577739489\n",
      "Fold 1\n",
      "Fold 2\n",
      "Fold 3\n"
     ]
    },
    {
     "name": "stderr",
     "output_type": "stream",
     "text": [
      "[I 2024-06-25 00:17:16,756] Trial 198 finished with value: 0.8325591299378443 and parameters: {'boosting_type': 'goss', 'num_leaves': 26, 'max_depth': 28, 'learning_rate': 0.024773060235463096, 'n_estimators': 966, 'min_child_samples': 63, 'subsample': 0.5592371702597119, 'colsample_bytree': 0.6342373182143916, 'reg_alpha': 0.23441527207221843, 'reg_lambda': 0.24143464388918304, 'top_rate': 0.08849747886563025, 'other_rate': 0.47369494909210635, 'threshold': 65}. Best is trial 115 with value: 0.833337460463145.\n"
     ]
    },
    {
     "name": "stdout",
     "output_type": "stream",
     "text": [
      "Score: 0.8325591299378443\n",
      "Fold 1\n",
      "Fold 2\n",
      "Fold 3\n"
     ]
    },
    {
     "name": "stderr",
     "output_type": "stream",
     "text": [
      "[I 2024-06-25 00:17:48,157] Trial 199 finished with value: 0.8282844619895465 and parameters: {'boosting_type': 'goss', 'num_leaves': 38, 'max_depth': 30, 'learning_rate': 0.06398650556766568, 'n_estimators': 925, 'min_child_samples': 60, 'subsample': 0.547994562744065, 'colsample_bytree': 0.6255093276297111, 'reg_alpha': 0.4241692501219623, 'reg_lambda': 0.010844075166167118, 'top_rate': 0.03337362741893931, 'other_rate': 0.4996084771302735, 'threshold': 64}. Best is trial 115 with value: 0.833337460463145.\n"
     ]
    },
    {
     "name": "stdout",
     "output_type": "stream",
     "text": [
      "Score: 0.8282844619895465\n",
      "Fold 1\n",
      "Fold 2\n",
      "Fold 3\n"
     ]
    },
    {
     "name": "stderr",
     "output_type": "stream",
     "text": [
      "[I 2024-06-25 00:18:12,253] Trial 200 finished with value: 0.8298040677061026 and parameters: {'boosting_type': 'goss', 'num_leaves': 16, 'max_depth': 30, 'learning_rate': 0.00863992879090937, 'n_estimators': 946, 'min_child_samples': 58, 'subsample': 0.582532235610956, 'colsample_bytree': 0.6456472749474296, 'reg_alpha': 0.9556637802707526, 'reg_lambda': 0.15282751206104722, 'top_rate': 0.0709492652254555, 'other_rate': 0.48067694670912225, 'threshold': 60}. Best is trial 115 with value: 0.833337460463145.\n"
     ]
    },
    {
     "name": "stdout",
     "output_type": "stream",
     "text": [
      "Score: 0.8298040677061026\n",
      "Fold 1\n",
      "Fold 2\n",
      "Fold 3\n"
     ]
    },
    {
     "name": "stderr",
     "output_type": "stream",
     "text": [
      "[I 2024-06-25 00:18:46,186] Trial 201 finished with value: 0.8326579553044068 and parameters: {'boosting_type': 'goss', 'num_leaves': 40, 'max_depth': 29, 'learning_rate': 0.021978604875141968, 'n_estimators': 942, 'min_child_samples': 60, 'subsample': 0.5498716552548257, 'colsample_bytree': 0.6169428684521588, 'reg_alpha': 0.2752755873883116, 'reg_lambda': 0.255916828962802, 'top_rate': 0.09462949406883121, 'other_rate': 0.48093877303236, 'threshold': 59}. Best is trial 115 with value: 0.833337460463145.\n"
     ]
    },
    {
     "name": "stdout",
     "output_type": "stream",
     "text": [
      "Score: 0.8326579553044068\n",
      "Fold 1\n",
      "Fold 2\n",
      "Fold 3\n"
     ]
    },
    {
     "name": "stderr",
     "output_type": "stream",
     "text": [
      "[I 2024-06-25 00:19:22,594] Trial 202 finished with value: 0.8325838249462482 and parameters: {'boosting_type': 'goss', 'num_leaves': 44, 'max_depth': 27, 'learning_rate': 0.0178043460981756, 'n_estimators': 982, 'min_child_samples': 55, 'subsample': 0.5329403086328951, 'colsample_bytree': 0.6314568938422185, 'reg_alpha': 0.22065300520421274, 'reg_lambda': 7.25072595354861e-05, 'top_rate': 0.09307167328579359, 'other_rate': 0.46589683261855, 'threshold': 62}. Best is trial 115 with value: 0.833337460463145.\n"
     ]
    },
    {
     "name": "stdout",
     "output_type": "stream",
     "text": [
      "Score: 0.8325838249462482\n",
      "Fold 1\n",
      "Fold 2\n",
      "Fold 3\n"
     ]
    },
    {
     "name": "stderr",
     "output_type": "stream",
     "text": [
      "[I 2024-06-25 00:19:39,299] Trial 203 finished with value: 0.8048603027689537 and parameters: {'boosting_type': 'goss', 'num_leaves': 35, 'max_depth': 32, 'learning_rate': 0.7436859914515735, 'n_estimators': 506, 'min_child_samples': 62, 'subsample': 0.5399161342236014, 'colsample_bytree': 0.6192628334075952, 'reg_alpha': 0.2916250563576453, 'reg_lambda': 0.018604198309192153, 'top_rate': 0.08465174746839114, 'other_rate': 0.49074452987602435, 'threshold': 60}. Best is trial 115 with value: 0.833337460463145.\n"
     ]
    },
    {
     "name": "stdout",
     "output_type": "stream",
     "text": [
      "Score: 0.8048603027689537\n",
      "Fold 1\n",
      "Fold 2\n",
      "Fold 3\n"
     ]
    },
    {
     "name": "stderr",
     "output_type": "stream",
     "text": [
      "[I 2024-06-25 00:20:15,920] Trial 204 finished with value: 0.8302488452759685 and parameters: {'boosting_type': 'goss', 'num_leaves': 51, 'max_depth': 28, 'learning_rate': 0.03778403369895722, 'n_estimators': 957, 'min_child_samples': 59, 'subsample': 0.5566575591142425, 'colsample_bytree': 0.6585281656614513, 'reg_alpha': 0.4955492187155445, 'reg_lambda': 0.33098984485507155, 'top_rate': 0.10946210467022928, 'other_rate': 0.4752427233418389, 'threshold': 53}. Best is trial 115 with value: 0.833337460463145.\n"
     ]
    },
    {
     "name": "stdout",
     "output_type": "stream",
     "text": [
      "Score: 0.8302488452759685\n",
      "Fold 1\n",
      "Fold 2\n",
      "Fold 3\n"
     ]
    },
    {
     "name": "stderr",
     "output_type": "stream",
     "text": [
      "[I 2024-06-25 00:21:46,213] Trial 205 finished with value: 0.83121249872026 and parameters: {'boosting_type': 'goss', 'num_leaves': 214, 'max_depth': 31, 'learning_rate': 0.015179714217886407, 'n_estimators': 930, 'min_child_samples': 47, 'subsample': 0.6073748997693752, 'colsample_bytree': 0.638285150456636, 'reg_alpha': 0.1068352936195631, 'reg_lambda': 0.09492454093027942, 'top_rate': 0.09714684153772771, 'other_rate': 0.4840422226597401, 'threshold': 65}. Best is trial 115 with value: 0.833337460463145.\n"
     ]
    },
    {
     "name": "stdout",
     "output_type": "stream",
     "text": [
      "Score: 0.83121249872026\n",
      "Fold 1\n",
      "Fold 2\n",
      "Fold 3\n"
     ]
    },
    {
     "name": "stderr",
     "output_type": "stream",
     "text": [
      "[I 2024-06-25 00:22:11,222] Trial 206 finished with value: 0.8328309279717443 and parameters: {'boosting_type': 'goss', 'num_leaves': 21, 'max_depth': 29, 'learning_rate': 0.024277114516975153, 'n_estimators': 968, 'min_child_samples': 56, 'subsample': 0.6176392262752889, 'colsample_bytree': 0.6136705218571722, 'reg_alpha': 0.8188918918828575, 'reg_lambda': 0.7383319385028028, 'top_rate': 0.07557837860048496, 'other_rate': 0.4592546809757779, 'threshold': 63}. Best is trial 115 with value: 0.833337460463145.\n"
     ]
    },
    {
     "name": "stdout",
     "output_type": "stream",
     "text": [
      "Score: 0.8328309279717443\n",
      "Fold 1\n",
      "Fold 2\n",
      "Fold 3\n"
     ]
    },
    {
     "name": "stderr",
     "output_type": "stream",
     "text": [
      "[I 2024-06-25 00:22:30,677] Trial 207 finished with value: 0.8325714829369489 and parameters: {'boosting_type': 'goss', 'num_leaves': 23, 'max_depth': 32, 'learning_rate': 0.028169047544536353, 'n_estimators': 686, 'min_child_samples': 55, 'subsample': 0.6159131922003137, 'colsample_bytree': 0.6293228934622007, 'reg_alpha': 2.7651689297242537, 'reg_lambda': 0.8351375643921319, 'top_rate': 0.06227320753244686, 'other_rate': 0.4568003654691253, 'threshold': 66}. Best is trial 115 with value: 0.833337460463145.\n"
     ]
    },
    {
     "name": "stdout",
     "output_type": "stream",
     "text": [
      "Score: 0.8325714829369489\n",
      "Fold 1\n",
      "Fold 2\n",
      "Fold 3\n"
     ]
    },
    {
     "name": "stderr",
     "output_type": "stream",
     "text": [
      "[I 2024-06-25 00:22:54,722] Trial 208 finished with value: 0.832213208414414 and parameters: {'boosting_type': 'goss', 'num_leaves': 20, 'max_depth': 36, 'learning_rate': 0.047630150310421074, 'n_estimators': 981, 'min_child_samples': 57, 'subsample': 0.6208108092511954, 'colsample_bytree': 0.6006176304210208, 'reg_alpha': 0.730510090496313, 'reg_lambda': 0.8935895674249487, 'top_rate': 0.07613447517327268, 'other_rate': 0.44908204764738346, 'threshold': 63}. Best is trial 115 with value: 0.833337460463145.\n"
     ]
    },
    {
     "name": "stdout",
     "output_type": "stream",
     "text": [
      "Score: 0.832213208414414\n",
      "Fold 1\n",
      "Fold 2\n",
      "Fold 3\n"
     ]
    },
    {
     "name": "stderr",
     "output_type": "stream",
     "text": [
      "[I 2024-06-25 00:23:26,174] Trial 209 finished with value: 0.8317931478325628 and parameters: {'boosting_type': 'goss', 'num_leaves': 29, 'max_depth': 30, 'learning_rate': 0.010589337058449659, 'n_estimators': 965, 'min_child_samples': 49, 'subsample': 0.6058992397116874, 'colsample_bytree': 0.6511327389928634, 'reg_alpha': 1.497192671941691, 'reg_lambda': 0.6586316117167508, 'top_rate': 0.10819707464970879, 'other_rate': 0.46428600280133225, 'threshold': 67}. Best is trial 115 with value: 0.833337460463145.\n"
     ]
    },
    {
     "name": "stdout",
     "output_type": "stream",
     "text": [
      "Score: 0.8317931478325628\n",
      "Fold 1\n",
      "Fold 2\n",
      "Fold 3\n"
     ]
    },
    {
     "name": "stderr",
     "output_type": "stream",
     "text": [
      "[I 2024-06-25 00:23:48,051] Trial 210 finished with value: 0.8262212487574766 and parameters: {'boosting_type': 'goss', 'num_leaves': 12, 'max_depth': 33, 'learning_rate': 0.005778306314982372, 'n_estimators': 987, 'min_child_samples': 44, 'subsample': 0.6283363736838733, 'colsample_bytree': 0.581878276758551, 'reg_alpha': 0.9815746834091472, 'reg_lambda': 0.42416623948112275, 'top_rate': 0.07137420179211196, 'other_rate': 0.49220704510951124, 'threshold': 51}. Best is trial 115 with value: 0.833337460463145.\n"
     ]
    },
    {
     "name": "stdout",
     "output_type": "stream",
     "text": [
      "Score: 0.8262212487574766\n",
      "Fold 1\n",
      "Fold 2\n",
      "Fold 3\n"
     ]
    },
    {
     "name": "stderr",
     "output_type": "stream",
     "text": [
      "[I 2024-06-25 00:24:25,974] Trial 211 finished with value: 0.8112475780873062 and parameters: {'boosting_type': 'goss', 'num_leaves': 39, 'max_depth': 29, 'learning_rate': 0.0007860169412900975, 'n_estimators': 948, 'min_child_samples': 61, 'subsample': 0.7220994760840229, 'colsample_bytree': 0.6118456286788961, 'reg_alpha': 0.4728822178371614, 'reg_lambda': 0.16978558092746124, 'top_rate': 0.08463982650590758, 'other_rate': 0.4751884924808532, 'threshold': 58}. Best is trial 115 with value: 0.833337460463145.\n"
     ]
    },
    {
     "name": "stdout",
     "output_type": "stream",
     "text": [
      "Score: 0.8112475780873062\n",
      "Fold 1\n",
      "Fold 2\n",
      "Fold 3\n"
     ]
    },
    {
     "name": "stderr",
     "output_type": "stream",
     "text": [
      "[I 2024-06-25 00:24:55,996] Trial 212 finished with value: 0.8330409513940418 and parameters: {'boosting_type': 'goss', 'num_leaves': 31, 'max_depth': 28, 'learning_rate': 0.017880821121749813, 'n_estimators': 966, 'min_child_samples': 54, 'subsample': 0.621625943107913, 'colsample_bytree': 0.6199712883162242, 'reg_alpha': 0.23642745329126025, 'reg_lambda': 0.2386416899471689, 'top_rate': 0.09979465284892461, 'other_rate': 0.484414020030667, 'threshold': 61}. Best is trial 115 with value: 0.833337460463145.\n"
     ]
    },
    {
     "name": "stdout",
     "output_type": "stream",
     "text": [
      "Score: 0.8330409513940418\n",
      "Fold 1\n",
      "Fold 2\n",
      "Fold 3\n"
     ]
    },
    {
     "name": "stderr",
     "output_type": "stream",
     "text": [
      "[I 2024-06-25 00:25:25,283] Trial 213 finished with value: 0.8327567944082258 and parameters: {'boosting_type': 'goss', 'num_leaves': 31, 'max_depth': 26, 'learning_rate': 0.029493100071594374, 'n_estimators': 970, 'min_child_samples': 54, 'subsample': 0.621797925522022, 'colsample_bytree': 0.6221683501514982, 'reg_alpha': 0.00457422580596705, 'reg_lambda': 0.5732856145038124, 'top_rate': 0.12368527155386932, 'other_rate': 0.49186734800205784, 'threshold': 62}. Best is trial 115 with value: 0.833337460463145.\n"
     ]
    },
    {
     "name": "stdout",
     "output_type": "stream",
     "text": [
      "Score: 0.8327567944082258\n",
      "Fold 1\n",
      "Fold 2\n",
      "Fold 3\n"
     ]
    },
    {
     "name": "stderr",
     "output_type": "stream",
     "text": [
      "[I 2024-06-25 00:25:56,037] Trial 214 finished with value: 0.7269155732108 and parameters: {'boosting_type': 'goss', 'num_leaves': 24, 'max_depth': 22, 'learning_rate': 0.00022860120619590344, 'n_estimators': 1000, 'min_child_samples': 50, 'subsample': 0.6009404358730612, 'colsample_bytree': 0.6388419547380927, 'reg_alpha': 0.0217585443277879, 'reg_lambda': 0.0595024865866761, 'top_rate': 0.09886326993271748, 'other_rate': 0.4713662928820246, 'threshold': 64}. Best is trial 115 with value: 0.833337460463145.\n"
     ]
    },
    {
     "name": "stdout",
     "output_type": "stream",
     "text": [
      "Score: 0.7269155732108\n",
      "Fold 1\n",
      "Fold 2\n",
      "Fold 3\n"
     ]
    },
    {
     "name": "stderr",
     "output_type": "stream",
     "text": [
      "[I 2024-06-25 00:26:18,883] Trial 215 finished with value: 0.8320526075204319 and parameters: {'boosting_type': 'goss', 'num_leaves': 17, 'max_depth': 28, 'learning_rate': 0.017432870727274615, 'n_estimators': 919, 'min_child_samples': 56, 'subsample': 0.6296523877419649, 'colsample_bytree': 0.8473143868833176, 'reg_alpha': 0.6948950500466339, 'reg_lambda': 0.2611244037488896, 'top_rate': 0.11151162066292647, 'other_rate': 0.4997133348832238, 'threshold': 55}. Best is trial 115 with value: 0.833337460463145.\n"
     ]
    },
    {
     "name": "stdout",
     "output_type": "stream",
     "text": [
      "Score: 0.8320526075204319\n",
      "Fold 1\n",
      "Fold 2\n",
      "Fold 3\n"
     ]
    },
    {
     "name": "stderr",
     "output_type": "stream",
     "text": [
      "[I 2024-06-25 00:26:49,203] Trial 216 finished with value: 0.8316696073096198 and parameters: {'boosting_type': 'goss', 'num_leaves': 28, 'max_depth': 30, 'learning_rate': 0.010985685240666745, 'n_estimators': 964, 'min_child_samples': 46, 'subsample': 0.6112883193565837, 'colsample_bytree': 0.6278325281359001, 'reg_alpha': 0.18522230401800777, 'reg_lambda': 0.3717787515970611, 'top_rate': 0.06016779077401111, 'other_rate': 0.4842813964455857, 'threshold': 61}. Best is trial 115 with value: 0.833337460463145.\n"
     ]
    },
    {
     "name": "stdout",
     "output_type": "stream",
     "text": [
      "Score: 0.8316696073096198\n",
      "Fold 1\n",
      "Fold 2\n",
      "Fold 3\n"
     ]
    },
    {
     "name": "stderr",
     "output_type": "stream",
     "text": [
      "[I 2024-06-25 00:27:28,276] Trial 217 finished with value: 0.8325838322727851 and parameters: {'boosting_type': 'goss', 'num_leaves': 55, 'max_depth': 32, 'learning_rate': 0.021757482965331552, 'n_estimators': 949, 'min_child_samples': 54, 'subsample': 0.6205949316832311, 'colsample_bytree': 0.610091138614405, 'reg_alpha': 0.4678325560664856, 'reg_lambda': 0.0032715626318967138, 'top_rate': 0.1654775877977173, 'other_rate': 0.46157191494449074, 'threshold': 58}. Best is trial 115 with value: 0.833337460463145.\n"
     ]
    },
    {
     "name": "stdout",
     "output_type": "stream",
     "text": [
      "Score: 0.8325838322727851\n",
      "Fold 1\n",
      "Fold 2\n",
      "Fold 3\n"
     ]
    },
    {
     "name": "stderr",
     "output_type": "stream",
     "text": [
      "[I 2024-06-25 00:31:30,932] Trial 218 finished with value: 0.831607817587035 and parameters: {'boosting_type': 'dart', 'num_leaves': 45, 'max_depth': 25, 'learning_rate': 0.036776604421674866, 'n_estimators': 977, 'min_child_samples': 58, 'subsample': 0.6007130338953669, 'colsample_bytree': 0.6404192172215609, 'reg_alpha': 0.33363567998861254, 'reg_lambda': 1.2235429156799202, 'drop_rate': 0.2638115523835023, 'skip_drop': 0.5795529439918023, 'threshold': 64}. Best is trial 115 with value: 0.833337460463145.\n"
     ]
    },
    {
     "name": "stdout",
     "output_type": "stream",
     "text": [
      "Score: 0.831607817587035\n",
      "Fold 1\n",
      "Fold 2\n",
      "Fold 3\n"
     ]
    },
    {
     "name": "stderr",
     "output_type": "stream",
     "text": [
      "[I 2024-06-25 00:32:03,621] Trial 219 finished with value: 0.8328062164786325 and parameters: {'boosting_type': 'goss', 'num_leaves': 33, 'max_depth': 35, 'learning_rate': 0.014144302280823551, 'n_estimators': 932, 'min_child_samples': 48, 'subsample': 0.5848930791891612, 'colsample_bytree': 0.622141254223134, 'reg_alpha': 1.189756629514758, 'reg_lambda': 3.4372822948619133, 'top_rate': 0.08285966465653852, 'other_rate': 0.4832108154999483, 'threshold': 67}. Best is trial 115 with value: 0.833337460463145.\n"
     ]
    },
    {
     "name": "stdout",
     "output_type": "stream",
     "text": [
      "Score: 0.8328062164786325\n",
      "Fold 1\n",
      "Fold 2\n",
      "Fold 3\n"
     ]
    },
    {
     "name": "stderr",
     "output_type": "stream",
     "text": [
      "[I 2024-06-25 00:32:35,750] Trial 220 finished with value: 0.475538039576432 and parameters: {'boosting_type': 'goss', 'num_leaves': 33, 'max_depth': 35, 'learning_rate': 8.552400755873955e-06, 'n_estimators': 914, 'min_child_samples': 47, 'subsample': 0.5836434199786767, 'colsample_bytree': 0.5945187703810979, 'reg_alpha': 1.955215988076551, 'reg_lambda': 4.4690207572974385, 'top_rate': 0.07808701340514396, 'other_rate': 0.4745989651695063, 'threshold': 68}. Best is trial 115 with value: 0.833337460463145.\n"
     ]
    },
    {
     "name": "stdout",
     "output_type": "stream",
     "text": [
      "Score: 0.475538039576432\n",
      "Fold 1\n",
      "Fold 2\n",
      "Fold 3\n"
     ]
    },
    {
     "name": "stderr",
     "output_type": "stream",
     "text": [
      "[I 2024-06-25 00:33:06,767] Trial 221 finished with value: 0.8318549302286108 and parameters: {'boosting_type': 'goss', 'num_leaves': 22, 'max_depth': 36, 'learning_rate': 0.013475352477493182, 'n_estimators': 938, 'min_child_samples': 50, 'subsample': 0.6316396879385187, 'colsample_bytree': 0.6231877043457429, 'reg_alpha': 1.0440584852143864, 'reg_lambda': 6.27772703796418, 'top_rate': 0.08570689753396746, 'other_rate': 0.3551843354806774, 'threshold': 66}. Best is trial 115 with value: 0.833337460463145.\n"
     ]
    },
    {
     "name": "stdout",
     "output_type": "stream",
     "text": [
      "Score: 0.8318549302286108\n",
      "Fold 1\n",
      "Fold 2\n",
      "Fold 3\n"
     ]
    },
    {
     "name": "stderr",
     "output_type": "stream",
     "text": [
      "[I 2024-06-25 00:33:39,239] Trial 222 finished with value: 0.8330533043931463 and parameters: {'boosting_type': 'goss', 'num_leaves': 34, 'max_depth': 31, 'learning_rate': 0.02545006931928478, 'n_estimators': 956, 'min_child_samples': 48, 'subsample': 0.5929725710546248, 'colsample_bytree': 0.6324043036874052, 'reg_alpha': 0.6312396044099284, 'reg_lambda': 3.4861162554288954, 'top_rate': 0.10105161240026704, 'other_rate': 0.4871346894381371, 'threshold': 61}. Best is trial 115 with value: 0.833337460463145.\n"
     ]
    },
    {
     "name": "stdout",
     "output_type": "stream",
     "text": [
      "Score: 0.8330533043931463\n",
      "Fold 1\n",
      "Fold 2\n",
      "Fold 3\n"
     ]
    },
    {
     "name": "stderr",
     "output_type": "stream",
     "text": [
      "[I 2024-06-25 00:34:07,455] Trial 223 finished with value: 0.8330285979370284 and parameters: {'boosting_type': 'goss', 'num_leaves': 27, 'max_depth': 33, 'learning_rate': 0.023495701840508837, 'n_estimators': 979, 'min_child_samples': 44, 'subsample': 0.5911528791123903, 'colsample_bytree': 0.6313660721791243, 'reg_alpha': 0.7054645364870781, 'reg_lambda': 4.291872550859865e-06, 'top_rate': 0.08995049883284753, 'other_rate': 0.4911512601537755, 'threshold': 60}. Best is trial 115 with value: 0.833337460463145.\n"
     ]
    },
    {
     "name": "stdout",
     "output_type": "stream",
     "text": [
      "Score: 0.8330285979370284\n",
      "Fold 1\n",
      "Fold 2\n",
      "Fold 3\n"
     ]
    },
    {
     "name": "stderr",
     "output_type": "stream",
     "text": [
      "[I 2024-06-25 00:34:40,688] Trial 224 finished with value: 0.8329050587878114 and parameters: {'boosting_type': 'goss', 'num_leaves': 33, 'max_depth': 33, 'learning_rate': 0.01630139265221186, 'n_estimators': 984, 'min_child_samples': 42, 'subsample': 0.5904389660446069, 'colsample_bytree': 0.6332804765036495, 'reg_alpha': 0.6309978906995923, 'reg_lambda': 3.489923750685717, 'top_rate': 0.10342844250164623, 'other_rate': 0.4817479746495577, 'threshold': 60}. Best is trial 115 with value: 0.833337460463145.\n"
     ]
    },
    {
     "name": "stdout",
     "output_type": "stream",
     "text": [
      "Score: 0.8329050587878114\n",
      "Fold 1\n",
      "Fold 2\n",
      "Fold 3\n"
     ]
    },
    {
     "name": "stderr",
     "output_type": "stream",
     "text": [
      "[I 2024-06-25 00:34:44,152] Trial 225 finished with value: 0.8088260894168844 and parameters: {'boosting_type': 'goss', 'num_leaves': 32, 'max_depth': 34, 'learning_rate': 0.014593414946115196, 'n_estimators': 50, 'min_child_samples': 41, 'subsample': 0.5893424398117753, 'colsample_bytree': 0.6306878938694592, 'reg_alpha': 1.517255772271353, 'reg_lambda': 1.6628795079561371, 'top_rate': 0.18437468032828092, 'other_rate': 0.48355060786062587, 'threshold': 60}. Best is trial 115 with value: 0.833337460463145.\n"
     ]
    },
    {
     "name": "stdout",
     "output_type": "stream",
     "text": [
      "Score: 0.8088260894168844\n",
      "Fold 1\n",
      "Fold 2\n",
      "Fold 3\n"
     ]
    },
    {
     "name": "stderr",
     "output_type": "stream",
     "text": [
      "[I 2024-06-25 00:35:17,552] Trial 226 finished with value: 0.8325714820211317 and parameters: {'boosting_type': 'goss', 'num_leaves': 28, 'max_depth': 33, 'learning_rate': 0.01817325423335584, 'n_estimators': 985, 'min_child_samples': 44, 'subsample': 0.5825395222137862, 'colsample_bytree': 0.6205940823819213, 'reg_alpha': 0.9077653552868082, 'reg_lambda': 1.3528084662416182e-05, 'top_rate': 0.10248926236933625, 'other_rate': 0.278595958623072, 'threshold': 58}. Best is trial 115 with value: 0.833337460463145.\n"
     ]
    },
    {
     "name": "stdout",
     "output_type": "stream",
     "text": [
      "Score: 0.8325714820211317\n",
      "Fold 1\n",
      "Fold 2\n",
      "Fold 3\n"
     ]
    },
    {
     "name": "stderr",
     "output_type": "stream",
     "text": [
      "[I 2024-06-25 00:35:52,012] Trial 227 finished with value: 0.8313730867928028 and parameters: {'boosting_type': 'goss', 'num_leaves': 35, 'max_depth': 37, 'learning_rate': 0.007987727313121288, 'n_estimators': 932, 'min_child_samples': 43, 'subsample': 0.59731515337477, 'colsample_bytree': 0.6365683529824977, 'reg_alpha': 4.112448639578871, 'reg_lambda': 1.9616578994088358e-07, 'top_rate': 0.08980648447441879, 'other_rate': 0.4998060834030837, 'threshold': 61}. Best is trial 115 with value: 0.833337460463145.\n"
     ]
    },
    {
     "name": "stdout",
     "output_type": "stream",
     "text": [
      "Score: 0.8313730867928028\n",
      "Fold 1\n",
      "Fold 2\n",
      "Fold 3\n"
     ]
    },
    {
     "name": "stderr",
     "output_type": "stream",
     "text": [
      "[I 2024-06-25 00:36:13,879] Trial 228 finished with value: 0.8237380083708797 and parameters: {'boosting_type': 'goss', 'num_leaves': 17, 'max_depth': 35, 'learning_rate': 0.2068349773324567, 'n_estimators': 1000, 'min_child_samples': 45, 'subsample': 0.5890372877485781, 'colsample_bytree': 0.6300956029849477, 'reg_alpha': 1.196859666942239, 'reg_lambda': 2.8885493271156144, 'top_rate': 0.11520473618647223, 'other_rate': 0.46817980695156786, 'threshold': 59}. Best is trial 115 with value: 0.833337460463145.\n"
     ]
    },
    {
     "name": "stdout",
     "output_type": "stream",
     "text": [
      "Score: 0.8237380083708797\n",
      "Fold 1\n",
      "Fold 2\n",
      "Fold 3\n"
     ]
    },
    {
     "name": "stderr",
     "output_type": "stream",
     "text": [
      "[I 2024-06-25 00:36:40,222] Trial 229 finished with value: 0.8319537615479845 and parameters: {'boosting_type': 'goss', 'num_leaves': 21, 'max_depth': 33, 'learning_rate': 0.05189767626972561, 'n_estimators': 953, 'min_child_samples': 42, 'subsample': 0.6039698033740423, 'colsample_bytree': 0.6032227085741971, 'reg_alpha': 0.6992991570788988, 'reg_lambda': 3.5115107906625598, 'top_rate': 0.07013257174922084, 'other_rate': 0.48533383408226083, 'threshold': 62}. Best is trial 115 with value: 0.833337460463145.\n"
     ]
    },
    {
     "name": "stdout",
     "output_type": "stream",
     "text": [
      "Score: 0.8319537615479845\n",
      "Fold 1\n",
      "Fold 2\n",
      "Fold 3\n"
     ]
    },
    {
     "name": "stderr",
     "output_type": "stream",
     "text": [
      "[I 2024-06-25 00:37:04,930] Trial 230 finished with value: 0.475538039576432 and parameters: {'boosting_type': 'goss', 'num_leaves': 27, 'max_depth': 3, 'learning_rate': 3.816604411178312e-05, 'n_estimators': 723, 'min_child_samples': 46, 'subsample': 0.6119863180085061, 'colsample_bytree': 0.5006527107831884, 'reg_alpha': 1.0210612879169573e-06, 'reg_lambda': 1.175006547098587, 'top_rate': 0.10197211548602393, 'other_rate': 0.4563604458385374, 'threshold': 55}. Best is trial 115 with value: 0.833337460463145.\n"
     ]
    },
    {
     "name": "stdout",
     "output_type": "stream",
     "text": [
      "Score: 0.475538039576432\n",
      "Fold 1\n",
      "Fold 2\n",
      "Fold 3\n"
     ]
    },
    {
     "name": "stderr",
     "output_type": "stream",
     "text": [
      "[I 2024-06-25 00:37:52,857] Trial 231 finished with value: 0.8322255623293359 and parameters: {'boosting_type': 'goss', 'num_leaves': 44, 'max_depth': 31, 'learning_rate': 0.02400524001484909, 'n_estimators': 973, 'min_child_samples': 48, 'subsample': 0.5687622002085405, 'colsample_bytree': 0.6453467650042198, 'reg_alpha': 0.5374046870613889, 'reg_lambda': 5.731448848195999, 'top_rate': 0.12950045998354842, 'other_rate': 0.4781239513121844, 'threshold': 63}. Best is trial 115 with value: 0.833337460463145.\n"
     ]
    },
    {
     "name": "stdout",
     "output_type": "stream",
     "text": [
      "Score: 0.8322255623293359\n",
      "Fold 1\n",
      "Fold 2\n",
      "Fold 3\n"
     ]
    },
    {
     "name": "stderr",
     "output_type": "stream",
     "text": [
      "[I 2024-06-25 00:38:53,931] Trial 232 finished with value: 0.8322873296144015 and parameters: {'boosting_type': 'goss', 'num_leaves': 35, 'max_depth': 31, 'learning_rate': 0.033144076863663566, 'n_estimators': 983, 'min_child_samples': 38, 'subsample': 0.6174347236043619, 'colsample_bytree': 0.6235470356217292, 'reg_alpha': 0.3335989803574788, 'reg_lambda': 4.432869368403117, 'top_rate': 0.09157173569930531, 'other_rate': 0.4919456445631595, 'threshold': 57}. Best is trial 115 with value: 0.833337460463145.\n"
     ]
    },
    {
     "name": "stdout",
     "output_type": "stream",
     "text": [
      "Score: 0.8322873296144015\n",
      "Fold 1\n",
      "Fold 2\n",
      "Fold 3\n"
     ]
    },
    {
     "name": "stderr",
     "output_type": "stream",
     "text": [
      "[I 2024-06-25 00:40:02,687] Trial 233 finished with value: 0.8330038919388194 and parameters: {'boosting_type': 'goss', 'num_leaves': 48, 'max_depth': 35, 'learning_rate': 0.018402525430398237, 'n_estimators': 962, 'min_child_samples': 47, 'subsample': 0.594723979302032, 'colsample_bytree': 0.6565575314166102, 'reg_alpha': 0.20247248325575434, 'reg_lambda': 9.999656050310573, 'top_rate': 0.14567287491724085, 'other_rate': 0.4426828957184399, 'threshold': 60}. Best is trial 115 with value: 0.833337460463145.\n"
     ]
    },
    {
     "name": "stdout",
     "output_type": "stream",
     "text": [
      "Score: 0.8330038919388194\n",
      "Fold 1\n",
      "Fold 2\n",
      "Fold 3\n"
     ]
    },
    {
     "name": "stderr",
     "output_type": "stream",
     "text": [
      "[I 2024-06-25 00:41:09,638] Trial 234 finished with value: 0.8330533039352378 and parameters: {'boosting_type': 'goss', 'num_leaves': 50, 'max_depth': 35, 'learning_rate': 0.01593518922119029, 'n_estimators': 949, 'min_child_samples': 47, 'subsample': 0.593318921133947, 'colsample_bytree': 0.7510620194531017, 'reg_alpha': 0.15200290047311923, 'reg_lambda': 0.0020472006321007132, 'top_rate': 0.15436435793716163, 'other_rate': 0.44773163563246415, 'threshold': 60}. Best is trial 115 with value: 0.833337460463145.\n"
     ]
    },
    {
     "name": "stdout",
     "output_type": "stream",
     "text": [
      "Score: 0.8330533039352378\n",
      "Fold 1\n",
      "Fold 2\n",
      "Fold 3\n"
     ]
    },
    {
     "name": "stderr",
     "output_type": "stream",
     "text": [
      "[I 2024-06-25 00:42:21,271] Trial 235 finished with value: 0.832571478815772 and parameters: {'boosting_type': 'goss', 'num_leaves': 52, 'max_depth': 36, 'learning_rate': 0.01298474855858824, 'n_estimators': 960, 'min_child_samples': 47, 'subsample': 0.5926761968381136, 'colsample_bytree': 0.7435515372760921, 'reg_alpha': 0.15463446344773404, 'reg_lambda': 2.0280818510749943, 'top_rate': 0.14105345944013312, 'other_rate': 0.44876685436360814, 'threshold': 59}. Best is trial 115 with value: 0.833337460463145.\n"
     ]
    },
    {
     "name": "stdout",
     "output_type": "stream",
     "text": [
      "Score: 0.832571478815772\n",
      "Fold 1\n",
      "Fold 2\n",
      "Fold 3\n"
     ]
    },
    {
     "name": "stderr",
     "output_type": "stream",
     "text": [
      "[I 2024-06-25 00:43:34,913] Trial 236 finished with value: 0.832867994295595 and parameters: {'boosting_type': 'goss', 'num_leaves': 57, 'max_depth': 37, 'learning_rate': 0.015013354579649954, 'n_estimators': 987, 'min_child_samples': 44, 'subsample': 0.5823070445067533, 'colsample_bytree': 0.7601327612661369, 'reg_alpha': 0.09205563215478607, 'reg_lambda': 0.0005295162794235095, 'top_rate': 0.15233863857565458, 'other_rate': 0.4396352698291573, 'threshold': 60}. Best is trial 115 with value: 0.833337460463145.\n"
     ]
    },
    {
     "name": "stdout",
     "output_type": "stream",
     "text": [
      "Score: 0.832867994295595\n",
      "Fold 1\n",
      "Fold 2\n",
      "Fold 3\n"
     ]
    },
    {
     "name": "stderr",
     "output_type": "stream",
     "text": [
      "[I 2024-06-25 00:44:34,031] Trial 237 finished with value: 0.8325467792282826 and parameters: {'boosting_type': 'goss', 'num_leaves': 62, 'max_depth': 38, 'learning_rate': 0.018045162886223924, 'n_estimators': 985, 'min_child_samples': 43, 'subsample': 0.598325551614757, 'colsample_bytree': 0.7230028848676161, 'reg_alpha': 0.08364646307161934, 'reg_lambda': 0.0009689760164254244, 'top_rate': 0.14815074211918422, 'other_rate': 0.438764416867641, 'threshold': 60}. Best is trial 115 with value: 0.833337460463145.\n"
     ]
    },
    {
     "name": "stdout",
     "output_type": "stream",
     "text": [
      "Score: 0.8325467792282826\n",
      "Fold 1\n",
      "Fold 2\n",
      "Fold 3\n"
     ]
    },
    {
     "name": "stderr",
     "output_type": "stream",
     "text": [
      "[I 2024-06-25 00:45:22,046] Trial 238 finished with value: 0.8325097087832548 and parameters: {'boosting_type': 'goss', 'num_leaves': 50, 'max_depth': 39, 'learning_rate': 0.009267796453947935, 'n_estimators': 983, 'min_child_samples': 45, 'subsample': 0.6072385748272101, 'colsample_bytree': 0.7695225732030612, 'reg_alpha': 0.10503743195474873, 'reg_lambda': 0.00015285645173824405, 'top_rate': 0.1544940126355149, 'other_rate': 0.4388197887791834, 'threshold': 57}. Best is trial 115 with value: 0.833337460463145.\n"
     ]
    },
    {
     "name": "stdout",
     "output_type": "stream",
     "text": [
      "Score: 0.8325097087832548\n",
      "Fold 1\n",
      "Fold 2\n",
      "Fold 3\n"
     ]
    },
    {
     "name": "stderr",
     "output_type": "stream",
     "text": [
      "[I 2024-06-25 00:46:11,039] Trial 239 finished with value: 0.8326579694995719 and parameters: {'boosting_type': 'goss', 'num_leaves': 63, 'max_depth': 36, 'learning_rate': 0.018088147677782742, 'n_estimators': 961, 'min_child_samples': 41, 'subsample': 0.5749696152958444, 'colsample_bytree': 0.7633125892705982, 'reg_alpha': 0.14988127291947542, 'reg_lambda': 1.8792749393935603e-06, 'top_rate': 0.1648500111887037, 'other_rate': 0.4446933957739585, 'threshold': 55}. Best is trial 115 with value: 0.833337460463145.\n"
     ]
    },
    {
     "name": "stdout",
     "output_type": "stream",
     "text": [
      "Score: 0.8326579694995719\n",
      "Fold 1\n",
      "Fold 2\n",
      "Fold 3\n"
     ]
    },
    {
     "name": "stderr",
     "output_type": "stream",
     "text": [
      "[I 2024-06-25 00:47:03,123] Trial 240 finished with value: 0.475538039576432 and parameters: {'boosting_type': 'goss', 'num_leaves': 53, 'max_depth': 34, 'learning_rate': 2.4738469221529374e-06, 'n_estimators': 997, 'min_child_samples': 45, 'subsample': 0.5807023207310027, 'colsample_bytree': 0.7471813231518986, 'reg_alpha': 0.05142841929533068, 'reg_lambda': 3.90224901614579e-05, 'top_rate': 0.15523276617775333, 'other_rate': 0.41933578728752435, 'threshold': 60}. Best is trial 115 with value: 0.833337460463145.\n"
     ]
    },
    {
     "name": "stdout",
     "output_type": "stream",
     "text": [
      "Score: 0.475538039576432\n",
      "Fold 1\n",
      "Fold 2\n",
      "Fold 3\n"
     ]
    },
    {
     "name": "stderr",
     "output_type": "stream",
     "text": [
      "[I 2024-06-25 00:47:45,170] Trial 241 finished with value: 0.8327320879521082 and parameters: {'boosting_type': 'goss', 'num_leaves': 48, 'max_depth': 35, 'learning_rate': 0.013590876820150819, 'n_estimators': 935, 'min_child_samples': 48, 'subsample': 0.589937186094741, 'colsample_bytree': 0.7612074992596372, 'reg_alpha': 0.21818272204346767, 'reg_lambda': 0.0013743981231520224, 'top_rate': 0.14769078551248405, 'other_rate': 0.4857294971791208, 'threshold': 61}. Best is trial 115 with value: 0.833337460463145.\n"
     ]
    },
    {
     "name": "stdout",
     "output_type": "stream",
     "text": [
      "Score: 0.8327320879521082\n",
      "Fold 1\n",
      "Fold 2\n",
      "Fold 3\n"
     ]
    },
    {
     "name": "stderr",
     "output_type": "stream",
     "text": [
      "[I 2024-06-25 00:48:31,643] Trial 242 finished with value: 0.8323738047293107 and parameters: {'boosting_type': 'goss', 'num_leaves': 57, 'max_depth': 37, 'learning_rate': 0.01692134212023192, 'n_estimators': 969, 'min_child_samples': 47, 'subsample': 0.582170492370387, 'colsample_bytree': 0.7766525406984451, 'reg_alpha': 0.39161645556328617, 'reg_lambda': 0.0007919583837138178, 'top_rate': 0.17098000855429799, 'other_rate': 0.46237361868995946, 'threshold': 63}. Best is trial 115 with value: 0.833337460463145.\n"
     ]
    },
    {
     "name": "stdout",
     "output_type": "stream",
     "text": [
      "Score: 0.8323738047293107\n",
      "Fold 1\n",
      "Fold 2\n",
      "Fold 3\n"
     ]
    },
    {
     "name": "stderr",
     "output_type": "stream",
     "text": [
      "[I 2024-06-25 00:49:16,952] Trial 243 finished with value: 0.8319908173399383 and parameters: {'boosting_type': 'goss', 'num_leaves': 57, 'max_depth': 35, 'learning_rate': 0.03483860485408637, 'n_estimators': 952, 'min_child_samples': 43, 'subsample': 0.603680646494383, 'colsample_bytree': 0.7547824763263052, 'reg_alpha': 0.031210664990422774, 'reg_lambda': 6.09163113990837, 'top_rate': 0.2365900119048731, 'other_rate': 0.49097104687791837, 'threshold': 57}. Best is trial 115 with value: 0.833337460463145.\n"
     ]
    },
    {
     "name": "stdout",
     "output_type": "stream",
     "text": [
      "Score: 0.8319908173399383\n",
      "Fold 1\n",
      "Fold 2\n",
      "Fold 3\n"
     ]
    },
    {
     "name": "stderr",
     "output_type": "stream",
     "text": [
      "[I 2024-06-25 00:50:19,061] Trial 244 finished with value: 0.8320278767951607 and parameters: {'boosting_type': 'goss', 'num_leaves': 95, 'max_depth': 33, 'learning_rate': 0.010231493760856062, 'n_estimators': 924, 'min_child_samples': 50, 'subsample': 0.5924335700130976, 'colsample_bytree': 0.7383399928835266, 'reg_alpha': 0.06584667945009695, 'reg_lambda': 0.006187650799054081, 'top_rate': 0.13771737248177882, 'other_rate': 0.49994217584385897, 'threshold': 59}. Best is trial 115 with value: 0.833337460463145.\n"
     ]
    },
    {
     "name": "stdout",
     "output_type": "stream",
     "text": [
      "Score: 0.8320278767951607\n",
      "Fold 1\n",
      "Fold 2\n",
      "Fold 3\n"
     ]
    },
    {
     "name": "stderr",
     "output_type": "stream",
     "text": [
      "[I 2024-06-25 00:51:04,916] Trial 245 finished with value: 0.8316325332013239 and parameters: {'boosting_type': 'goss', 'num_leaves': 48, 'max_depth': 38, 'learning_rate': 0.006633382893376283, 'n_estimators': 979, 'min_child_samples': 46, 'subsample': 0.9293658666554017, 'colsample_bytree': 0.6174508928195399, 'reg_alpha': 0.849555862199149, 'reg_lambda': 0.002038181721074912, 'top_rate': 0.1599322523868943, 'other_rate': 0.4821717619381758, 'threshold': 61}. Best is trial 115 with value: 0.833337460463145.\n"
     ]
    },
    {
     "name": "stdout",
     "output_type": "stream",
     "text": [
      "Score: 0.8316325332013239\n",
      "Fold 1\n",
      "Fold 2\n",
      "Fold 3\n"
     ]
    },
    {
     "name": "stderr",
     "output_type": "stream",
     "text": [
      "[I 2024-06-25 00:51:38,560] Trial 246 finished with value: 0.8331397831713239 and parameters: {'boosting_type': 'goss', 'num_leaves': 30, 'max_depth': 35, 'learning_rate': 0.023346648561944208, 'n_estimators': 1000, 'min_child_samples': 51, 'subsample': 0.8001454509392123, 'colsample_bytree': 0.7814489288508313, 'reg_alpha': 1.4723412004889734e-08, 'reg_lambda': 0.0036719613023276057, 'top_rate': 0.11842673530685849, 'other_rate': 0.47076625694987045, 'threshold': 65}. Best is trial 115 with value: 0.833337460463145.\n"
     ]
    },
    {
     "name": "stdout",
     "output_type": "stream",
     "text": [
      "Score: 0.8331397831713239\n",
      "Fold 1\n",
      "Fold 2\n",
      "Fold 3\n"
     ]
    },
    {
     "name": "stderr",
     "output_type": "stream",
     "text": [
      "[I 2024-06-25 00:52:06,380] Trial 247 finished with value: 0.8322873309881271 and parameters: {'boosting_type': 'goss', 'num_leaves': 19, 'max_depth': 34, 'learning_rate': 0.024857769840634415, 'n_estimators': 988, 'min_child_samples': 51, 'subsample': 0.7744133204182664, 'colsample_bytree': 0.7924307345234683, 'reg_alpha': 4.86506696586063e-07, 'reg_lambda': 0.00010985725079916541, 'top_rate': 0.11911762157175015, 'other_rate': 0.4110558875772789, 'threshold': 63}. Best is trial 115 with value: 0.833337460463145.\n"
     ]
    },
    {
     "name": "stdout",
     "output_type": "stream",
     "text": [
      "Score: 0.8322873309881271\n",
      "Fold 1\n",
      "Fold 2\n",
      "Fold 3\n"
     ]
    },
    {
     "name": "stderr",
     "output_type": "stream",
     "text": [
      "[I 2024-06-25 00:53:11,744] Trial 248 finished with value: 0.8291122301541448 and parameters: {'boosting_type': 'goss', 'num_leaves': 114, 'max_depth': 36, 'learning_rate': 0.03730512195870929, 'n_estimators': 965, 'min_child_samples': 52, 'subsample': 0.8082650378414385, 'colsample_bytree': 0.775427786219184, 'reg_alpha': 5.191209934139043e-07, 'reg_lambda': 0.8082357763495082, 'top_rate': 0.18044945280460412, 'other_rate': 0.45540023934799145, 'threshold': 65}. Best is trial 115 with value: 0.833337460463145.\n"
     ]
    },
    {
     "name": "stdout",
     "output_type": "stream",
     "text": [
      "Score: 0.8291122301541448\n",
      "Fold 1\n",
      "Fold 2\n",
      "Fold 3\n"
     ]
    },
    {
     "name": "stderr",
     "output_type": "stream",
     "text": [
      "[I 2024-06-25 00:53:41,910] Trial 249 finished with value: 0.8323861604758666 and parameters: {'boosting_type': 'goss', 'num_leaves': 24, 'max_depth': 37, 'learning_rate': 0.02174721853482808, 'n_estimators': 1000, 'min_child_samples': 49, 'subsample': 0.7686627323987307, 'colsample_bytree': 0.6578084928891798, 'reg_alpha': 0.0009281928458585397, 'reg_lambda': 0.0003830423728115077, 'top_rate': 0.12916668101780515, 'other_rate': 0.4269005874653274, 'threshold': 58}. Best is trial 115 with value: 0.833337460463145.\n"
     ]
    },
    {
     "name": "stdout",
     "output_type": "stream",
     "text": [
      "Score: 0.8323861604758666\n",
      "Fold 1\n",
      "Fold 2\n",
      "Fold 3\n"
     ]
    },
    {
     "name": "stderr",
     "output_type": "stream",
     "text": [
      "[I 2024-06-25 00:54:11,796] Trial 250 finished with value: 0.8302735503583606 and parameters: {'boosting_type': 'goss', 'num_leaves': 28, 'max_depth': 33, 'learning_rate': 0.06587284745038939, 'n_estimators': 975, 'min_child_samples': 39, 'subsample': 0.8299870919265705, 'colsample_bytree': 0.7859422151006535, 'reg_alpha': 5.751716732525298e-06, 'reg_lambda': 0.002439093396121544, 'top_rate': 0.10980199682936899, 'other_rate': 0.4686184972855271, 'threshold': 61}. Best is trial 115 with value: 0.833337460463145.\n"
     ]
    },
    {
     "name": "stdout",
     "output_type": "stream",
     "text": [
      "Score: 0.8302735503583606\n",
      "Fold 1\n",
      "Fold 2\n",
      "Fold 3\n"
     ]
    },
    {
     "name": "stderr",
     "output_type": "stream",
     "text": [
      "[I 2024-06-25 00:54:56,178] Trial 251 finished with value: 0.475538039576432 and parameters: {'boosting_type': 'goss', 'num_leaves': 44, 'max_depth': 39, 'learning_rate': 1.4142434880467686e-08, 'n_estimators': 952, 'min_child_samples': 44, 'subsample': 0.6164252690591377, 'colsample_bytree': 0.7544129950444467, 'reg_alpha': 8.213916780922296e-08, 'reg_lambda': 0.00017683544169085145, 'top_rate': 0.1923379531327168, 'other_rate': 0.4420816338251177, 'threshold': 54}. Best is trial 115 with value: 0.833337460463145.\n"
     ]
    },
    {
     "name": "stdout",
     "output_type": "stream",
     "text": [
      "Score: 0.475538039576432\n",
      "Fold 1\n",
      "Fold 2\n",
      "Fold 3\n"
     ]
    },
    {
     "name": "stderr",
     "output_type": "stream",
     "text": [
      "[I 2024-06-25 00:55:17,202] Trial 252 finished with value: 0.8199945853229117 and parameters: {'boosting_type': 'goss', 'num_leaves': 14, 'max_depth': 33, 'learning_rate': 0.2771055224527607, 'n_estimators': 983, 'min_child_samples': 41, 'subsample': 0.7514220288437684, 'colsample_bytree': 0.7331895375592656, 'reg_alpha': 2.0818518685430896e-05, 'reg_lambda': 0.00033111799687003527, 'top_rate': 0.1456944391674317, 'other_rate': 0.471807610826042, 'threshold': 59}. Best is trial 115 with value: 0.833337460463145.\n"
     ]
    },
    {
     "name": "stdout",
     "output_type": "stream",
     "text": [
      "Score: 0.8199945853229117\n",
      "Fold 1\n",
      "Fold 2\n",
      "Fold 3\n"
     ]
    },
    {
     "name": "stderr",
     "output_type": "stream",
     "text": [
      "[I 2024-06-25 00:56:00,625] Trial 253 finished with value: 0.8315213557514739 and parameters: {'boosting_type': 'goss', 'num_leaves': 51, 'max_depth': 34, 'learning_rate': 0.027305660947732593, 'n_estimators': 1000, 'min_child_samples': 46, 'subsample': 0.6105960283369084, 'colsample_bytree': 0.7151477420909134, 'reg_alpha': 0.001457650508382203, 'reg_lambda': 0.011348360440789063, 'top_rate': 0.1049395271390205, 'other_rate': 0.4917439855112067, 'threshold': 56}. Best is trial 115 with value: 0.833337460463145.\n"
     ]
    },
    {
     "name": "stdout",
     "output_type": "stream",
     "text": [
      "Score: 0.8315213557514739\n",
      "Fold 1\n",
      "Fold 2\n",
      "Fold 3\n"
     ]
    },
    {
     "name": "stderr",
     "output_type": "stream",
     "text": [
      "[I 2024-06-25 00:56:44,910] Trial 254 finished with value: 0.8324602880865739 and parameters: {'boosting_type': 'goss', 'num_leaves': 59, 'max_depth': 35, 'learning_rate': 0.020194984180407966, 'n_estimators': 952, 'min_child_samples': 51, 'subsample': 0.6201623022941825, 'colsample_bytree': 0.6324829527693274, 'reg_alpha': 1.5516561024475289e-07, 'reg_lambda': 0.00614538635441536, 'top_rate': 0.16050548831488717, 'other_rate': 0.4542403560125348, 'threshold': 64}. Best is trial 115 with value: 0.833337460463145.\n"
     ]
    },
    {
     "name": "stdout",
     "output_type": "stream",
     "text": [
      "Score: 0.8324602880865739\n",
      "Fold 1\n",
      "Fold 2\n",
      "Fold 3\n"
     ]
    },
    {
     "name": "stderr",
     "output_type": "stream",
     "text": [
      "[I 2024-06-25 00:59:53,533] Trial 255 finished with value: 0.8317190193060383 and parameters: {'boosting_type': 'dart', 'num_leaves': 22, 'max_depth': 32, 'learning_rate': 0.038677356889176735, 'n_estimators': 969, 'min_child_samples': 49, 'subsample': 0.6969664144433094, 'colsample_bytree': 0.6123773587910063, 'reg_alpha': 0.00023842540510872777, 'reg_lambda': 0.001357585364591684, 'drop_rate': 0.18036644383305678, 'skip_drop': 0.679982236565015, 'threshold': 62}. Best is trial 115 with value: 0.833337460463145.\n"
     ]
    },
    {
     "name": "stdout",
     "output_type": "stream",
     "text": [
      "Score: 0.8317190193060383\n",
      "Fold 1\n",
      "Fold 2\n",
      "Fold 3\n"
     ]
    },
    {
     "name": "stderr",
     "output_type": "stream",
     "text": [
      "[I 2024-06-25 01:00:28,462] Trial 256 finished with value: 0.8316943055233836 and parameters: {'boosting_type': 'goss', 'num_leaves': 30, 'max_depth': 37, 'learning_rate': 0.01230038231522517, 'n_estimators': 947, 'min_child_samples': 53, 'subsample': 0.6421852517840726, 'colsample_bytree': 0.7490794258400361, 'reg_alpha': 3.171014992396815e-06, 'reg_lambda': 0.005591168366297671, 'top_rate': 0.26665498469385196, 'other_rate': 0.46393362932565263, 'threshold': 59}. Best is trial 115 with value: 0.833337460463145.\n"
     ]
    },
    {
     "name": "stdout",
     "output_type": "stream",
     "text": [
      "Score: 0.8316943055233836\n",
      "Fold 1\n",
      "Fold 2\n",
      "Fold 3\n"
     ]
    },
    {
     "name": "stderr",
     "output_type": "stream",
     "text": [
      "[I 2024-06-25 01:01:13,418] Trial 257 finished with value: 0.8233550104496105 and parameters: {'boosting_type': 'goss', 'num_leaves': 70, 'max_depth': 32, 'learning_rate': 0.13317336342614125, 'n_estimators': 969, 'min_child_samples': 44, 'subsample': 0.7612210683546563, 'colsample_bytree': 0.802000943915753, 'reg_alpha': 2.0013846438981224e-08, 'reg_lambda': 0.00030684089167465535, 'top_rate': 0.1160414259981393, 'other_rate': 0.4793302481271031, 'threshold': 65}. Best is trial 115 with value: 0.833337460463145.\n"
     ]
    },
    {
     "name": "stdout",
     "output_type": "stream",
     "text": [
      "Score: 0.8233550104496105\n",
      "Fold 1\n",
      "Fold 2\n",
      "Fold 3\n"
     ]
    },
    {
     "name": "stderr",
     "output_type": "stream",
     "text": [
      "[I 2024-06-25 01:01:53,572] Trial 258 finished with value: 0.8323861563546897 and parameters: {'boosting_type': 'goss', 'num_leaves': 42, 'max_depth': 34, 'learning_rate': 0.01739420015537924, 'n_estimators': 1000, 'min_child_samples': 47, 'subsample': 0.597632808673202, 'colsample_bytree': 0.7600960858734689, 'reg_alpha': 0.11999852303264104, 'reg_lambda': 0.004155157443610626, 'top_rate': 0.13361223306374537, 'other_rate': 0.4001853581001951, 'threshold': 57}. Best is trial 115 with value: 0.833337460463145.\n"
     ]
    },
    {
     "name": "stdout",
     "output_type": "stream",
     "text": [
      "Score: 0.8323861563546897\n",
      "Fold 1\n",
      "Fold 2\n",
      "Fold 3\n"
     ]
    },
    {
     "name": "stderr",
     "output_type": "stream",
     "text": [
      "[I 2024-06-25 01:02:32,041] Trial 259 finished with value: 0.8320649458664627 and parameters: {'boosting_type': 'goss', 'num_leaves': 39, 'max_depth': 37, 'learning_rate': 0.008918413990187692, 'n_estimators': 906, 'min_child_samples': 56, 'subsample': 0.7978210729522984, 'colsample_bytree': 0.7103216836109939, 'reg_alpha': 0.009733156585888183, 'reg_lambda': 0.0007616253465878236, 'top_rate': 0.06691041347511502, 'other_rate': 0.4995532416714927, 'threshold': 62}. Best is trial 115 with value: 0.833337460463145.\n"
     ]
    },
    {
     "name": "stdout",
     "output_type": "stream",
     "text": [
      "Score: 0.8320649458664627\n",
      "Fold 1\n",
      "Fold 2\n",
      "Fold 3\n"
     ]
    },
    {
     "name": "stderr",
     "output_type": "stream",
     "text": [
      "[I 2024-06-25 01:02:53,045] Trial 260 finished with value: 0.8322873305302186 and parameters: {'boosting_type': 'goss', 'num_leaves': 11, 'max_depth': 36, 'learning_rate': 0.04680737556780551, 'n_estimators': 982, 'min_child_samples': 50, 'subsample': 0.627171005199153, 'colsample_bytree': 0.6017989676856812, 'reg_alpha': 0.2984528860119138, 'reg_lambda': 0.039718444425965546, 'top_rate': 0.09228097351227084, 'other_rate': 0.4760290534566222, 'threshold': 60}. Best is trial 115 with value: 0.833337460463145.\n"
     ]
    },
    {
     "name": "stdout",
     "output_type": "stream",
     "text": [
      "Score: 0.8322873305302186\n",
      "Fold 1\n",
      "Fold 2\n",
      "Fold 3\n"
     ]
    },
    {
     "name": "stderr",
     "output_type": "stream",
     "text": [
      "[I 2024-06-25 01:03:33,137] Trial 261 finished with value: 0.8316201715019567 and parameters: {'boosting_type': 'goss', 'num_leaves': 47, 'max_depth': 28, 'learning_rate': 0.026487603476271517, 'n_estimators': 943, 'min_child_samples': 42, 'subsample': 0.7333122391044022, 'colsample_bytree': 0.636233126293021, 'reg_alpha': 0.021973189749265425, 'reg_lambda': 0.09223191702561517, 'top_rate': 0.05518472866319317, 'other_rate': 0.49005327518868025, 'threshold': 63}. Best is trial 115 with value: 0.833337460463145.\n"
     ]
    },
    {
     "name": "stdout",
     "output_type": "stream",
     "text": [
      "Score: 0.8316201715019567\n",
      "Fold 1\n",
      "Fold 2\n",
      "Fold 3\n"
     ]
    },
    {
     "name": "stderr",
     "output_type": "stream",
     "text": [
      "[I 2024-06-25 01:04:47,680] Trial 262 finished with value: 0.8312248398137423 and parameters: {'boosting_type': 'goss', 'num_leaves': 126, 'max_depth': 33, 'learning_rate': 0.014717803761532814, 'n_estimators': 961, 'min_child_samples': 53, 'subsample': 0.6510393033805303, 'colsample_bytree': 0.730745425842298, 'reg_alpha': 0.00014957750310203743, 'reg_lambda': 0.002402660830877248, 'top_rate': 0.07667982828985388, 'other_rate': 0.4639000134877072, 'threshold': 53}. Best is trial 115 with value: 0.833337460463145.\n"
     ]
    },
    {
     "name": "stdout",
     "output_type": "stream",
     "text": [
      "Score: 0.8312248398137423\n",
      "Fold 1\n",
      "Fold 2\n",
      "Fold 3\n"
     ]
    },
    {
     "name": "stderr",
     "output_type": "stream",
     "text": [
      "[I 2024-06-25 01:05:35,898] Trial 263 finished with value: 0.475538039576432 and parameters: {'boosting_type': 'goss', 'num_leaves': 55, 'max_depth': 30, 'learning_rate': 9.470945835100737e-08, 'n_estimators': 924, 'min_child_samples': 45, 'subsample': 0.6078127119347375, 'colsample_bytree': 0.5657922331864644, 'reg_alpha': 0.1939843734457496, 'reg_lambda': 0.012166856394943987, 'top_rate': 0.10058936083724847, 'other_rate': 0.4825048474237659, 'threshold': 56}. Best is trial 115 with value: 0.833337460463145.\n"
     ]
    },
    {
     "name": "stdout",
     "output_type": "stream",
     "text": [
      "Score: 0.475538039576432\n",
      "Fold 1\n",
      "Fold 2\n",
      "Fold 3\n"
     ]
    },
    {
     "name": "stderr",
     "output_type": "stream",
     "text": [
      "[I 2024-06-25 01:07:09,254] Trial 264 finished with value: 0.831397798743823 and parameters: {'boosting_type': 'goss', 'num_leaves': 169, 'max_depth': 35, 'learning_rate': 0.005627490973510321, 'n_estimators': 982, 'min_child_samples': 5, 'subsample': 0.5674369387509385, 'colsample_bytree': 0.6545968225929378, 'reg_alpha': 0.002515330081452081, 'reg_lambda': 0.016255115863202715, 'top_rate': 0.113069275892194, 'other_rate': 0.44900506548691466, 'threshold': 61}. Best is trial 115 with value: 0.833337460463145.\n"
     ]
    },
    {
     "name": "stdout",
     "output_type": "stream",
     "text": [
      "Score: 0.831397798743823\n",
      "Fold 1\n",
      "Fold 2\n",
      "Fold 3\n"
     ]
    },
    {
     "name": "stderr",
     "output_type": "stream",
     "text": [
      "[I 2024-06-25 01:07:44,783] Trial 265 finished with value: 0.8235403278736988 and parameters: {'boosting_type': 'goss', 'num_leaves': 32, 'max_depth': 31, 'learning_rate': 0.07776864960888591, 'n_estimators': 960, 'min_child_samples': 48, 'subsample': 0.6224280032513493, 'colsample_bytree': 0.6762900573659418, 'reg_alpha': 0.0451829992031012, 'reg_lambda': 0.6379106910482706, 'top_rate': 0.1210277039498269, 'other_rate': 0.1413125739674266, 'threshold': 58}. Best is trial 115 with value: 0.833337460463145.\n"
     ]
    },
    {
     "name": "stdout",
     "output_type": "stream",
     "text": [
      "Score: 0.8235403278736988\n",
      "Fold 1\n",
      "Fold 2\n",
      "Fold 3\n"
     ]
    },
    {
     "name": "stderr",
     "output_type": "stream",
     "text": [
      "[I 2024-06-25 01:08:18,257] Trial 266 finished with value: 0.738368229308003 and parameters: {'boosting_type': 'goss', 'num_leaves': 25, 'max_depth': 34, 'learning_rate': 0.00034383637347210126, 'n_estimators': 940, 'min_child_samples': 52, 'subsample': 0.5783819809963059, 'colsample_bytree': 0.6316299039855938, 'reg_alpha': 0.4739991427851705, 'reg_lambda': 0.000549253178687093, 'top_rate': 0.14830989145104598, 'other_rate': 0.38150141799456627, 'threshold': 65}. Best is trial 115 with value: 0.833337460463145.\n"
     ]
    },
    {
     "name": "stdout",
     "output_type": "stream",
     "text": [
      "Score: 0.738368229308003\n",
      "Fold 1\n",
      "Fold 2\n",
      "Fold 3\n"
     ]
    },
    {
     "name": "stderr",
     "output_type": "stream",
     "text": [
      "[I 2024-06-25 01:08:45,193] Trial 267 finished with value: 0.8330285951895772 and parameters: {'boosting_type': 'goss', 'num_leaves': 19, 'max_depth': 27, 'learning_rate': 0.02866985157376995, 'n_estimators': 978, 'min_child_samples': 40, 'subsample': 0.7441910550648659, 'colsample_bytree': 0.6137217449460747, 'reg_alpha': 0.27088516594256423, 'reg_lambda': 0.05334952008640584, 'top_rate': 0.08517496344001689, 'other_rate': 0.4758799621105245, 'threshold': 60}. Best is trial 115 with value: 0.833337460463145.\n"
     ]
    },
    {
     "name": "stdout",
     "output_type": "stream",
     "text": [
      "Score: 0.8330285951895772\n",
      "Fold 1\n",
      "Fold 2\n",
      "Fold 3\n"
     ]
    },
    {
     "name": "stderr",
     "output_type": "stream",
     "text": [
      "[I 2024-06-25 01:09:09,662] Trial 268 finished with value: 0.832991540771349 and parameters: {'boosting_type': 'goss', 'num_leaves': 16, 'max_depth': 26, 'learning_rate': 0.03241044714679278, 'n_estimators': 965, 'min_child_samples': 39, 'subsample': 0.7221712635245926, 'colsample_bytree': 0.615052063315338, 'reg_alpha': 0.13270255049174, 'reg_lambda': 0.025292339391935672, 'top_rate': 0.08709285937127648, 'other_rate': 0.47261536661142445, 'threshold': 63}. Best is trial 115 with value: 0.833337460463145.\n"
     ]
    },
    {
     "name": "stdout",
     "output_type": "stream",
     "text": [
      "Score: 0.832991540771349\n",
      "Fold 1\n",
      "Fold 2\n",
      "Fold 3\n"
     ]
    },
    {
     "name": "stderr",
     "output_type": "stream",
     "text": [
      "[I 2024-06-25 01:09:26,703] Trial 269 finished with value: 0.8320402348312593 and parameters: {'boosting_type': 'goss', 'num_leaves': 8, 'max_depth': 27, 'learning_rate': 0.05371675813250165, 'n_estimators': 915, 'min_child_samples': 42, 'subsample': 0.7259460892125211, 'colsample_bytree': 0.6131580057545891, 'reg_alpha': 0.00040442484816648617, 'reg_lambda': 0.02331175745323943, 'top_rate': 0.08482077024780188, 'other_rate': 0.43474200038772187, 'threshold': 63}. Best is trial 115 with value: 0.833337460463145.\n"
     ]
    },
    {
     "name": "stdout",
     "output_type": "stream",
     "text": [
      "Score: 0.8320402348312593\n",
      "Fold 1\n",
      "Fold 2\n",
      "Fold 3\n"
     ]
    },
    {
     "name": "stderr",
     "output_type": "stream",
     "text": [
      "[I 2024-06-25 01:09:49,843] Trial 270 finished with value: 0.8326703224986766 and parameters: {'boosting_type': 'goss', 'num_leaves': 15, 'max_depth': 29, 'learning_rate': 0.03371541694210556, 'n_estimators': 940, 'min_child_samples': 37, 'subsample': 0.7390708349180624, 'colsample_bytree': 0.6293643596344561, 'reg_alpha': 0.12068588427119332, 'reg_lambda': 0.14090247123107066, 'top_rate': 0.09703854820751238, 'other_rate': 0.4690969905817266, 'threshold': 60}. Best is trial 115 with value: 0.833337460463145.\n"
     ]
    },
    {
     "name": "stdout",
     "output_type": "stream",
     "text": [
      "Score: 0.8326703224986766\n",
      "Fold 1\n",
      "Fold 2\n",
      "Fold 3\n"
     ]
    },
    {
     "name": "stderr",
     "output_type": "stream",
     "text": [
      "[I 2024-06-25 01:10:19,202] Trial 271 finished with value: 0.8252946620949443 and parameters: {'boosting_type': 'goss', 'num_leaves': 18, 'max_depth': 26, 'learning_rate': 0.00395579029103649, 'n_estimators': 963, 'min_child_samples': 38, 'subsample': 0.7365181217054577, 'colsample_bytree': 0.9103317666158968, 'reg_alpha': 0.07248048344990347, 'reg_lambda': 0.041251703550264515, 'top_rate': 0.08751797936263345, 'other_rate': 0.45767701892723545, 'threshold': 66}. Best is trial 115 with value: 0.833337460463145.\n"
     ]
    },
    {
     "name": "stdout",
     "output_type": "stream",
     "text": [
      "Score: 0.8252946620949443\n",
      "Fold 1\n",
      "Fold 2\n",
      "Fold 3\n"
     ]
    },
    {
     "name": "stderr",
     "output_type": "stream",
     "text": [
      "[I 2024-06-25 01:10:49,435] Trial 272 finished with value: 0.8309901035246073 and parameters: {'boosting_type': 'goss', 'num_leaves': 22, 'max_depth': 25, 'learning_rate': 0.010824526466664541, 'n_estimators': 954, 'min_child_samples': 40, 'subsample': 0.7033538428368188, 'colsample_bytree': 0.6444207147879749, 'reg_alpha': 0.1613549126135244, 'reg_lambda': 0.01029052080667019, 'top_rate': 0.10366163800174957, 'other_rate': 0.4760764841306511, 'threshold': 64}. Best is trial 115 with value: 0.833337460463145.\n"
     ]
    },
    {
     "name": "stdout",
     "output_type": "stream",
     "text": [
      "Score: 0.8309901035246073\n",
      "Fold 1\n",
      "Fold 2\n",
      "Fold 3\n"
     ]
    },
    {
     "name": "stderr",
     "output_type": "stream",
     "text": [
      "[I 2024-06-25 01:11:32,206] Trial 273 finished with value: 0.8318054902997704 and parameters: {'boosting_type': 'goss', 'num_leaves': 54, 'max_depth': 24, 'learning_rate': 0.03222633228814909, 'n_estimators': 971, 'min_child_samples': 44, 'subsample': 0.7514595156379672, 'colsample_bytree': 0.6620128324669685, 'reg_alpha': 0.013826212355313644, 'reg_lambda': 0.0037815029071073688, 'top_rate': 0.0798915253289814, 'other_rate': 0.4690849998645008, 'threshold': 61}. Best is trial 115 with value: 0.833337460463145.\n"
     ]
    },
    {
     "name": "stdout",
     "output_type": "stream",
     "text": [
      "Score: 0.8318054902997704\n",
      "Fold 1\n",
      "Fold 2\n",
      "Fold 3\n"
     ]
    },
    {
     "name": "stderr",
     "output_type": "stream",
     "text": [
      "[I 2024-06-25 01:13:07,878] Trial 274 finished with value: 0.8297546634941296 and parameters: {'boosting_type': 'goss', 'num_leaves': 177, 'max_depth': 28, 'learning_rate': 0.018390074927219464, 'n_estimators': 1000, 'min_child_samples': 57, 'subsample': 0.7133669127619816, 'colsample_bytree': 0.6215874999846027, 'reg_alpha': 0.2682542900495323, 'reg_lambda': 0.06950395162488189, 'top_rate': 0.10725744214682807, 'other_rate': 0.44685687348277164, 'threshold': 59}. Best is trial 115 with value: 0.833337460463145.\n"
     ]
    },
    {
     "name": "stdout",
     "output_type": "stream",
     "text": [
      "Score: 0.8297546634941296\n",
      "Fold 1\n",
      "Fold 2\n",
      "Fold 3\n"
     ]
    },
    {
     "name": "stderr",
     "output_type": "stream",
     "text": [
      "[I 2024-06-25 01:15:54,862] Trial 275 finished with value: 0.8293716564146895 and parameters: {'boosting_type': 'dart', 'num_leaves': 44, 'max_depth': 27, 'learning_rate': 0.09860199131320896, 'n_estimators': 934, 'min_child_samples': 46, 'subsample': 0.7882843026395108, 'colsample_bytree': 0.6397217935944041, 'reg_alpha': 0.08810025938409724, 'reg_lambda': 0.007791453885806678, 'drop_rate': 0.3410052803394733, 'skip_drop': 0.7610393600408363, 'threshold': 63}. Best is trial 115 with value: 0.833337460463145.\n"
     ]
    },
    {
     "name": "stdout",
     "output_type": "stream",
     "text": [
      "Score: 0.8293716564146895\n",
      "Fold 1\n",
      "Fold 2\n",
      "Fold 3\n"
     ]
    },
    {
     "name": "stderr",
     "output_type": "stream",
     "text": [
      "[I 2024-06-25 01:16:25,458] Trial 276 finished with value: 0.8317190206797639 and parameters: {'boosting_type': 'goss', 'num_leaves': 26, 'max_depth': 17, 'learning_rate': 0.012707534549925818, 'n_estimators': 908, 'min_child_samples': 40, 'subsample': 0.7407919172713834, 'colsample_bytree': 0.7460409706989491, 'reg_alpha': 2.79107996711483e-08, 'reg_lambda': 0.025126536766696104, 'top_rate': 0.09417717585311253, 'other_rate': 0.48262183915349294, 'threshold': 58}. Best is trial 115 with value: 0.833337460463145.\n"
     ]
    },
    {
     "name": "stdout",
     "output_type": "stream",
     "text": [
      "Score: 0.8317190206797639\n",
      "Fold 1\n",
      "Fold 2\n",
      "Fold 3\n"
     ]
    },
    {
     "name": "stderr",
     "output_type": "stream",
     "text": [
      "[I 2024-06-25 01:16:37,464] Trial 277 finished with value: 0.831620190734116 and parameters: {'boosting_type': 'goss', 'num_leaves': 37, 'max_depth': 38, 'learning_rate': 0.04224757008093932, 'n_estimators': 288, 'min_child_samples': 88, 'subsample': 0.7479574587913376, 'colsample_bytree': 0.6116867054990542, 'reg_alpha': 0.18979271663399935, 'reg_lambda': 2.366233568917998, 'top_rate': 0.1709163093653279, 'other_rate': 0.45868728350109367, 'threshold': 61}. Best is trial 115 with value: 0.833337460463145.\n"
     ]
    },
    {
     "name": "stdout",
     "output_type": "stream",
     "text": [
      "Score: 0.831620190734116\n",
      "Fold 1\n",
      "Fold 2\n",
      "Fold 3\n"
     ]
    },
    {
     "name": "stderr",
     "output_type": "stream",
     "text": [
      "[I 2024-06-25 01:17:08,235] Trial 278 finished with value: 0.8284697757503663 and parameters: {'boosting_type': 'goss', 'num_leaves': 13, 'max_depth': 27, 'learning_rate': 0.007754808606099892, 'n_estimators': 971, 'min_child_samples': 55, 'subsample': 0.6791974506901406, 'colsample_bytree': 0.6253550854441277, 'reg_alpha': 5.39450829422843e-05, 'reg_lambda': 0.007573646290448876, 'top_rate': 0.06552498366814474, 'other_rate': 0.4223052813556226, 'threshold': 65}. Best is trial 115 with value: 0.833337460463145.\n"
     ]
    },
    {
     "name": "stdout",
     "output_type": "stream",
     "text": [
      "Score: 0.8284697757503663\n",
      "Fold 1\n",
      "Fold 2\n",
      "Fold 3\n"
     ]
    },
    {
     "name": "stderr",
     "output_type": "stream",
     "text": [
      "[I 2024-06-25 01:17:49,901] Trial 279 finished with value: 0.8313113176761027 and parameters: {'boosting_type': 'goss', 'num_leaves': 49, 'max_depth': 36, 'learning_rate': 0.025421059950278664, 'n_estimators': 949, 'min_child_samples': 43, 'subsample': 0.7575748188284237, 'colsample_bytree': 0.99621063651696, 'reg_alpha': 0.059864744088230455, 'reg_lambda': 9.582234409564471, 'top_rate': 0.04256009454600927, 'other_rate': 0.4945197561997426, 'threshold': 29}. Best is trial 115 with value: 0.833337460463145.\n"
     ]
    },
    {
     "name": "stdout",
     "output_type": "stream",
     "text": [
      "Score: 0.8313113176761027\n",
      "Fold 1\n",
      "Fold 2\n",
      "Fold 3\n"
     ]
    },
    {
     "name": "stderr",
     "output_type": "stream",
     "text": [
      "[I 2024-06-25 01:18:15,997] Trial 280 finished with value: 0.8322008480887725 and parameters: {'boosting_type': 'goss', 'num_leaves': 18, 'max_depth': 30, 'learning_rate': 0.017192420988926736, 'n_estimators': 929, 'min_child_samples': 34, 'subsample': 0.7252865272451018, 'colsample_bytree': 0.6915854561638474, 'reg_alpha': 2.4711666523640043, 'reg_lambda': 0.001113698629489754, 'top_rate': 0.07436043652512876, 'other_rate': 0.4756797813011725, 'threshold': 67}. Best is trial 115 with value: 0.833337460463145.\n"
     ]
    },
    {
     "name": "stdout",
     "output_type": "stream",
     "text": [
      "Score: 0.8322008480887725\n",
      "Fold 1\n",
      "Fold 2\n",
      "Fold 3\n"
     ]
    },
    {
     "name": "stderr",
     "output_type": "stream",
     "text": [
      "[I 2024-06-25 01:19:01,333] Trial 281 finished with value: 0.8267277936124083 and parameters: {'boosting_type': 'goss', 'num_leaves': 61, 'max_depth': 39, 'learning_rate': 0.0695279352510611, 'n_estimators': 983, 'min_child_samples': 77, 'subsample': 0.6394488129062713, 'colsample_bytree': 0.6363432033528928, 'reg_alpha': 0.28065987967462713, 'reg_lambda': 0.02021716562285479, 'top_rate': 0.12508687726306986, 'other_rate': 0.4880190375782234, 'threshold': 62}. Best is trial 115 with value: 0.833337460463145.\n"
     ]
    },
    {
     "name": "stdout",
     "output_type": "stream",
     "text": [
      "Score: 0.8267277936124083\n",
      "Fold 1\n",
      "Fold 2\n",
      "Fold 3\n"
     ]
    },
    {
     "name": "stderr",
     "output_type": "stream",
     "text": [
      "[I 2024-06-25 01:19:35,153] Trial 282 finished with value: 0.8311507094555837 and parameters: {'boosting_type': 'goss', 'num_leaves': 35, 'max_depth': 25, 'learning_rate': 0.043868877227022464, 'n_estimators': 957, 'min_child_samples': 47, 'subsample': 0.7180857797130065, 'colsample_bytree': 0.6524075964729626, 'reg_alpha': 0.12110880224665468, 'reg_lambda': 0.0017159212242488452, 'top_rate': 0.08446751672894487, 'other_rate': 0.4999100110352764, 'threshold': 59}. Best is trial 115 with value: 0.833337460463145.\n"
     ]
    },
    {
     "name": "stdout",
     "output_type": "stream",
     "text": [
      "Score: 0.8311507094555837\n",
      "Fold 1\n",
      "Fold 2\n",
      "Fold 3\n"
     ]
    },
    {
     "name": "stderr",
     "output_type": "stream",
     "text": [
      "[I 2024-06-25 01:20:10,289] Trial 283 finished with value: 0.8198710388471578 and parameters: {'boosting_type': 'goss', 'num_leaves': 28, 'max_depth': 36, 'learning_rate': 0.0016140084365618749, 'n_estimators': 984, 'min_child_samples': 49, 'subsample': 0.8636767229449914, 'colsample_bytree': 0.5104083831269963, 'reg_alpha': 6.337008190233433, 'reg_lambda': 0.0032859511696023856, 'top_rate': 0.09906217718365493, 'other_rate': 0.4666588647530841, 'threshold': 57}. Best is trial 115 with value: 0.833337460463145.\n"
     ]
    },
    {
     "name": "stdout",
     "output_type": "stream",
     "text": [
      "Score: 0.8198710388471578\n",
      "Fold 1\n",
      "Fold 2\n",
      "Fold 3\n"
     ]
    },
    {
     "name": "stderr",
     "output_type": "stream",
     "text": [
      "[I 2024-06-25 01:20:33,151] Trial 284 finished with value: 0.8099997562094851 and parameters: {'boosting_type': 'goss', 'num_leaves': 40, 'max_depth': 24, 'learning_rate': 0.6498381768110147, 'n_estimators': 575, 'min_child_samples': 57, 'subsample': 0.6861331391114852, 'colsample_bytree': 0.7690676308329208, 'reg_alpha': 0.3645725431737935, 'reg_lambda': 6.436712542782816, 'top_rate': 0.10788451438101529, 'other_rate': 0.4818049909302137, 'threshold': 55}. Best is trial 115 with value: 0.833337460463145.\n"
     ]
    },
    {
     "name": "stdout",
     "output_type": "stream",
     "text": [
      "Score: 0.8099997562094851\n",
      "Fold 1\n",
      "Fold 2\n",
      "Fold 3\n"
     ]
    },
    {
     "name": "stderr",
     "output_type": "stream",
     "text": [
      "[I 2024-06-25 01:20:50,889] Trial 285 finished with value: 0.8302117606357756 and parameters: {'boosting_type': 'goss', 'num_leaves': 6, 'max_depth': 29, 'learning_rate': 0.0279816400372891, 'n_estimators': 1000, 'min_child_samples': 45, 'subsample': 0.613657122356004, 'colsample_bytree': 0.5890686265842735, 'reg_alpha': 0.6925665455475871, 'reg_lambda': 3.383139526490591, 'top_rate': 0.13607605791472577, 'other_rate': 0.44217678328535215, 'threshold': 70}. Best is trial 115 with value: 0.833337460463145.\n"
     ]
    },
    {
     "name": "stdout",
     "output_type": "stream",
     "text": [
      "Score: 0.8302117606357756\n",
      "Fold 1\n",
      "Fold 2\n",
      "Fold 3\n"
     ]
    },
    {
     "name": "stderr",
     "output_type": "stream",
     "text": [
      "[I 2024-06-25 01:21:21,928] Trial 286 finished with value: 0.8314966373897336 and parameters: {'boosting_type': 'goss', 'num_leaves': 21, 'max_depth': 32, 'learning_rate': 0.01000480383331579, 'n_estimators': 968, 'min_child_samples': 48, 'subsample': 0.7784784583787931, 'colsample_bytree': 0.6169828153862426, 'reg_alpha': 1.739676736180713e-05, 'reg_lambda': 0.04765355597022179, 'top_rate': 0.08881141903197022, 'other_rate': 0.45435412189953095, 'threshold': 60}. Best is trial 115 with value: 0.833337460463145.\n"
     ]
    },
    {
     "name": "stdout",
     "output_type": "stream",
     "text": [
      "Score: 0.8314966373897336\n",
      "Fold 1\n",
      "Fold 2\n",
      "Fold 3\n"
     ]
    },
    {
     "name": "stderr",
     "output_type": "stream",
     "text": [
      "[I 2024-06-25 01:21:45,965] Trial 287 finished with value: 0.8319908246664752 and parameters: {'boosting_type': 'goss', 'num_leaves': 67, 'max_depth': 9, 'learning_rate': 0.019044006668183233, 'n_estimators': 474, 'min_child_samples': 54, 'subsample': 0.6285775997566654, 'colsample_bytree': 0.6034566108804728, 'reg_alpha': 2.1581386277601496e-06, 'reg_lambda': 1.8828870533592972e-08, 'top_rate': 0.4484995489466039, 'other_rate': 0.4732079874078846, 'threshold': 48}. Best is trial 115 with value: 0.833337460463145.\n"
     ]
    },
    {
     "name": "stdout",
     "output_type": "stream",
     "text": [
      "Score: 0.8319908246664752\n",
      "Fold 1\n",
      "Fold 2\n",
      "Fold 3\n"
     ]
    },
    {
     "name": "stderr",
     "output_type": "stream",
     "text": [
      "[I 2024-06-25 01:22:29,607] Trial 288 finished with value: 0.8325838226567055 and parameters: {'boosting_type': 'goss', 'num_leaves': 52, 'max_depth': 34, 'learning_rate': 0.01581669863400765, 'n_estimators': 941, 'min_child_samples': 43, 'subsample': 0.6021792805012329, 'colsample_bytree': 0.7810983462206079, 'reg_alpha': 0.18517697870127364, 'reg_lambda': 0.08129468769514807, 'top_rate': 0.0537543049777527, 'other_rate': 0.490127813179314, 'threshold': 64}. Best is trial 115 with value: 0.833337460463145.\n"
     ]
    },
    {
     "name": "stdout",
     "output_type": "stream",
     "text": [
      "Score: 0.8325838226567055\n",
      "Fold 1\n",
      "Fold 2\n",
      "Fold 3\n"
     ]
    },
    {
     "name": "stderr",
     "output_type": "stream",
     "text": [
      "[I 2024-06-25 01:23:10,565] Trial 289 finished with value: 0.8262459707824852 and parameters: {'boosting_type': 'goss', 'num_leaves': 45, 'max_depth': 31, 'learning_rate': 0.002750135300160839, 'n_estimators': 922, 'min_child_samples': 51, 'subsample': 0.7663006298958883, 'colsample_bytree': 0.6287261804739148, 'reg_alpha': 1.5952173517867179, 'reg_lambda': 0.03485097119302339, 'top_rate': 0.11601785790020692, 'other_rate': 0.43482338505135426, 'threshold': 62}. Best is trial 115 with value: 0.833337460463145.\n"
     ]
    },
    {
     "name": "stdout",
     "output_type": "stream",
     "text": [
      "Score: 0.8262459707824852\n",
      "Fold 1\n",
      "Fold 2\n",
      "Fold 3\n"
     ]
    },
    {
     "name": "stderr",
     "output_type": "stream",
     "text": [
      "[I 2024-06-25 01:23:28,244] Trial 290 finished with value: 0.8264930678551702 and parameters: {'boosting_type': 'goss', 'num_leaves': 32, 'max_depth': 22, 'learning_rate': 0.007321814599775303, 'n_estimators': 444, 'min_child_samples': 41, 'subsample': 0.6703796623658693, 'colsample_bytree': 0.668009641871662, 'reg_alpha': 1.2790347474980313e-08, 'reg_lambda': 1.5526767088383933, 'top_rate': 0.17588346791333853, 'other_rate': 0.46057489766132237, 'threshold': 45}. Best is trial 115 with value: 0.833337460463145.\n"
     ]
    },
    {
     "name": "stdout",
     "output_type": "stream",
     "text": [
      "Score: 0.8264930678551702\n",
      "Fold 1\n",
      "Fold 2\n",
      "Fold 3\n"
     ]
    },
    {
     "name": "stderr",
     "output_type": "stream",
     "text": [
      "[I 2024-06-25 01:24:03,701] Trial 291 finished with value: 0.8327073760010877 and parameters: {'boosting_type': 'goss', 'num_leaves': 26, 'max_depth': 33, 'learning_rate': 0.030930130866586143, 'n_estimators': 954, 'min_child_samples': 47, 'subsample': 0.6220486570843116, 'colsample_bytree': 0.6474071404133387, 'reg_alpha': 1.098600696565474e-07, 'reg_lambda': 0.002395410457454216, 'top_rate': 0.0747205853748061, 'other_rate': 0.4096095728477809, 'threshold': 66}. Best is trial 115 with value: 0.833337460463145.\n"
     ]
    },
    {
     "name": "stdout",
     "output_type": "stream",
     "text": [
      "Score: 0.8327073760010877\n",
      "Fold 1\n",
      "Fold 2\n",
      "Fold 3\n"
     ]
    },
    {
     "name": "stderr",
     "output_type": "stream",
     "text": [
      "[I 2024-06-25 01:24:35,627] Trial 292 finished with value: 0.6867880706798707 and parameters: {'boosting_type': 'goss', 'num_leaves': 21, 'max_depth': 27, 'learning_rate': 0.000156553946894951, 'n_estimators': 977, 'min_child_samples': 58, 'subsample': 0.7141851730453977, 'colsample_bytree': 0.7535196063337385, 'reg_alpha': 0.0319976292137373, 'reg_lambda': 0.014746806421938851, 'top_rate': 0.0940694256350017, 'other_rate': 0.48234259541483054, 'threshold': 52}. Best is trial 115 with value: 0.833337460463145.\n"
     ]
    },
    {
     "name": "stdout",
     "output_type": "stream",
     "text": [
      "Score: 0.6867880706798707\n",
      "Fold 1\n",
      "Fold 2\n",
      "Fold 3\n"
     ]
    },
    {
     "name": "stderr",
     "output_type": "stream",
     "text": [
      "[I 2024-06-25 01:25:19,893] Trial 293 finished with value: 0.8321267172727055 and parameters: {'boosting_type': 'goss', 'num_leaves': 57, 'max_depth': 35, 'learning_rate': 0.012137420926356968, 'n_estimators': 900, 'min_child_samples': 45, 'subsample': 0.7029394344980531, 'colsample_bytree': 0.6084089118710805, 'reg_alpha': 3.80287506161327e-08, 'reg_lambda': 5.082995571227716, 'top_rate': 0.10180644863451835, 'other_rate': 0.4999332068960174, 'threshold': 42}. Best is trial 115 with value: 0.833337460463145.\n"
     ]
    },
    {
     "name": "stdout",
     "output_type": "stream",
     "text": [
      "Score: 0.8321267172727055\n",
      "Fold 1\n",
      "Fold 2\n",
      "Fold 3\n"
     ]
    },
    {
     "name": "stderr",
     "output_type": "stream",
     "text": [
      "[I 2024-06-25 01:25:57,899] Trial 294 finished with value: 0.8327197473165344 and parameters: {'boosting_type': 'goss', 'num_leaves': 41, 'max_depth': 39, 'learning_rate': 0.021547198754878174, 'n_estimators': 964, 'min_child_samples': 50, 'subsample': 0.7481688652451703, 'colsample_bytree': 0.6378279126207977, 'reg_alpha': 0.4269880953399171, 'reg_lambda': 0.0006242432193528733, 'top_rate': 0.0616603791536458, 'other_rate': 0.4712012970740064, 'threshold': 58}. Best is trial 115 with value: 0.833337460463145.\n"
     ]
    },
    {
     "name": "stdout",
     "output_type": "stream",
     "text": [
      "Score: 0.8327197473165344\n",
      "Fold 1\n",
      "Fold 2\n",
      "Fold 3\n"
     ]
    },
    {
     "name": "stderr",
     "output_type": "stream",
     "text": [
      "[I 2024-06-25 01:26:33,830] Trial 295 finished with value: 0.8224531110110367 and parameters: {'boosting_type': 'goss', 'num_leaves': 48, 'max_depth': 28, 'learning_rate': 0.19799127134930908, 'n_estimators': 939, 'min_child_samples': 55, 'subsample': 0.6328103756691812, 'colsample_bytree': 0.7046650667259853, 'reg_alpha': 2.921190118104986e-07, 'reg_lambda': 0.0011890448795394439, 'top_rate': 0.12463479471004478, 'other_rate': 0.48915200066623193, 'threshold': 60}. Best is trial 115 with value: 0.833337460463145.\n"
     ]
    },
    {
     "name": "stdout",
     "output_type": "stream",
     "text": [
      "Score: 0.8224531110110367\n",
      "Fold 1\n",
      "Fold 2\n",
      "Fold 3\n"
     ]
    },
    {
     "name": "stderr",
     "output_type": "stream",
     "text": [
      "[I 2024-06-25 01:26:50,285] Trial 296 finished with value: 0.8310765841344191 and parameters: {'boosting_type': 'goss', 'num_leaves': 156, 'max_depth': 37, 'learning_rate': 0.05222994812005671, 'n_estimators': 177, 'min_child_samples': 49, 'subsample': 0.8258220418645574, 'colsample_bytree': 0.7330311813058641, 'reg_alpha': 0.2514363025107269, 'reg_lambda': 0.17638834990053054, 'top_rate': 0.1555090484646378, 'other_rate': 0.4788635301225825, 'threshold': 63}. Best is trial 115 with value: 0.833337460463145.\n"
     ]
    },
    {
     "name": "stdout",
     "output_type": "stream",
     "text": [
      "Score: 0.8310765841344191\n",
      "Fold 1\n",
      "Fold 2\n",
      "Fold 3\n"
     ]
    },
    {
     "name": "stderr",
     "output_type": "stream",
     "text": [
      "[I 2024-06-25 01:29:26,105] Trial 297 finished with value: 0.8305947667993988 and parameters: {'boosting_type': 'dart', 'num_leaves': 12, 'max_depth': 50, 'learning_rate': 0.03577371727485904, 'n_estimators': 983, 'min_child_samples': 36, 'subsample': 0.6607957930148046, 'colsample_bytree': 0.6241209368539855, 'reg_alpha': 3.0490381345609525, 'reg_lambda': 2.0468452824588477, 'drop_rate': 0.24794127254229414, 'skip_drop': 0.6324622340902308, 'threshold': 54}. Best is trial 115 with value: 0.833337460463145.\n"
     ]
    },
    {
     "name": "stdout",
     "output_type": "stream",
     "text": [
      "Score: 0.8305947667993988\n",
      "Fold 1\n",
      "Fold 2\n",
      "Fold 3\n"
     ]
    },
    {
     "name": "stderr",
     "output_type": "stream",
     "text": [
      "[I 2024-06-25 01:30:02,885] Trial 298 finished with value: 0.8325591258166672 and parameters: {'boosting_type': 'goss', 'num_leaves': 35, 'max_depth': 35, 'learning_rate': 0.013736378470009195, 'n_estimators': 950, 'min_child_samples': 53, 'subsample': 0.6134372153383919, 'colsample_bytree': 0.7723882396984726, 'reg_alpha': 0.00044209648242070864, 'reg_lambda': 1.061918574529743e-08, 'top_rate': 0.08144225043568815, 'other_rate': 0.46219632340877326, 'threshold': 61}. Best is trial 115 with value: 0.833337460463145.\n"
     ]
    },
    {
     "name": "stdout",
     "output_type": "stream",
     "text": [
      "Score: 0.8325591258166672\n",
      "Fold 1\n",
      "Fold 2\n",
      "Fold 3\n"
     ]
    },
    {
     "name": "stderr",
     "output_type": "stream",
     "text": [
      "[I 2024-06-25 01:30:28,284] Trial 299 finished with value: 0.8323738161770246 and parameters: {'boosting_type': 'goss', 'num_leaves': 17, 'max_depth': 30, 'learning_rate': 0.023852347339594477, 'n_estimators': 924, 'min_child_samples': 39, 'subsample': 0.5654743209133685, 'colsample_bytree': 0.6838814043697035, 'reg_alpha': 0.7917156177176288, 'reg_lambda': 9.843379269308954, 'top_rate': 0.11209557061256475, 'other_rate': 0.44924225946709084, 'threshold': 57}. Best is trial 115 with value: 0.833337460463145.\n"
     ]
    },
    {
     "name": "stdout",
     "output_type": "stream",
     "text": [
      "Score: 0.8323738161770246\n",
      "Fold 1\n",
      "Fold 2\n",
      "Fold 3\n"
     ]
    },
    {
     "name": "stderr",
     "output_type": "stream",
     "text": [
      "[I 2024-06-25 01:31:04,318] Trial 300 finished with value: 0.8280744381093407 and parameters: {'boosting_type': 'goss', 'num_leaves': 28, 'max_depth': 14, 'learning_rate': 0.004612211177554637, 'n_estimators': 969, 'min_child_samples': 47, 'subsample': 0.5903201170231963, 'colsample_bytree': 0.5936946750178993, 'reg_alpha': 0.08985020132560322, 'reg_lambda': 0.00171213262670685, 'top_rate': 0.14113292552351886, 'other_rate': 0.4881150701958117, 'threshold': 64}. Best is trial 115 with value: 0.833337460463145.\n"
     ]
    },
    {
     "name": "stdout",
     "output_type": "stream",
     "text": [
      "Score: 0.8280744381093407\n",
      "Fold 1\n",
      "Fold 2\n",
      "Fold 3\n"
     ]
    },
    {
     "name": "stderr",
     "output_type": "stream",
     "text": [
      "[I 2024-06-25 01:31:31,662] Trial 301 finished with value: 0.8167947720800003 and parameters: {'boosting_type': 'goss', 'num_leaves': 23, 'max_depth': 33, 'learning_rate': 0.3202023635685076, 'n_estimators': 988, 'min_child_samples': 43, 'subsample': 0.6019653407019452, 'colsample_bytree': 0.7902174105900143, 'reg_alpha': 0.14525438251332104, 'reg_lambda': 3.746169524760349, 'top_rate': 0.09522434191776852, 'other_rate': 0.4738859886822667, 'threshold': 68}. Best is trial 115 with value: 0.833337460463145.\n"
     ]
    },
    {
     "name": "stdout",
     "output_type": "stream",
     "text": [
      "Score: 0.8167947720800003\n",
      "Fold 1\n",
      "Fold 2\n",
      "Fold 3\n"
     ]
    },
    {
     "name": "stderr",
     "output_type": "stream",
     "text": [
      "[I 2024-06-25 01:32:49,261] Trial 302 finished with value: 0.8323738138874819 and parameters: {'boosting_type': 'goss', 'num_leaves': 140, 'max_depth': 32, 'learning_rate': 0.007603845499266129, 'n_estimators': 957, 'min_child_samples': 46, 'subsample': 0.6423456847154078, 'colsample_bytree': 0.5384369048283733, 'reg_alpha': 1.2731532641095085e-08, 'reg_lambda': 1.1820941589983536, 'top_rate': 0.1649226753936034, 'other_rate': 0.4289590043774653, 'threshold': 59}. Best is trial 115 with value: 0.833337460463145.\n"
     ]
    },
    {
     "name": "stdout",
     "output_type": "stream",
     "text": [
      "Score: 0.8323738138874819\n",
      "Fold 1\n",
      "Fold 2\n",
      "Fold 3\n"
     ]
    },
    {
     "name": "stderr",
     "output_type": "stream",
     "text": [
      "[I 2024-06-25 01:33:28,616] Trial 303 finished with value: 0.8324479286767494 and parameters: {'boosting_type': 'goss', 'num_leaves': 38, 'max_depth': 37, 'learning_rate': 0.017760560566916012, 'n_estimators': 985, 'min_child_samples': 56, 'subsample': 0.6215644698501536, 'colsample_bytree': 0.6558091138267891, 'reg_alpha': 0.5234647377844596, 'reg_lambda': 0.3744475247281763, 'top_rate': 0.07012419037600713, 'other_rate': 0.46661449782627745, 'threshold': 62}. Best is trial 115 with value: 0.833337460463145.\n"
     ]
    },
    {
     "name": "stdout",
     "output_type": "stream",
     "text": [
      "Score: 0.8324479286767494\n",
      "Fold 1\n",
      "Fold 2\n",
      "Fold 3\n"
     ]
    },
    {
     "name": "stderr",
     "output_type": "stream",
     "text": [
      "[I 2024-06-25 01:34:08,333] Trial 304 finished with value: 0.8287168677860571 and parameters: {'boosting_type': 'goss', 'num_leaves': 52, 'max_depth': 29, 'learning_rate': 0.05802085032827365, 'n_estimators': 935, 'min_child_samples': 52, 'subsample': 0.5784346049112336, 'colsample_bytree': 0.6159546306021874, 'reg_alpha': 0.0038882661480140516, 'reg_lambda': 0.004120276319624332, 'top_rate': 0.08492195120336324, 'other_rate': 0.4930831675930644, 'threshold': 56}. Best is trial 115 with value: 0.833337460463145.\n"
     ]
    },
    {
     "name": "stdout",
     "output_type": "stream",
     "text": [
      "Score: 0.8287168677860571\n",
      "Fold 1\n",
      "Fold 2\n",
      "Fold 3\n"
     ]
    },
    {
     "name": "stderr",
     "output_type": "stream",
     "text": [
      "[I 2024-06-25 01:34:46,799] Trial 305 finished with value: 0.8323614553934746 and parameters: {'boosting_type': 'goss', 'num_leaves': 33, 'max_depth': 26, 'learning_rate': 0.010558721801445287, 'n_estimators': 998, 'min_child_samples': 50, 'subsample': 0.842622699140159, 'colsample_bytree': 0.6305502378199576, 'reg_alpha': 0.2836917235677979, 'reg_lambda': 6.056931464386974, 'top_rate': 0.13134923583500255, 'other_rate': 0.3915127810597049, 'threshold': 65}. Best is trial 115 with value: 0.833337460463145.\n"
     ]
    },
    {
     "name": "stdout",
     "output_type": "stream",
     "text": [
      "Score: 0.8323614553934746\n",
      "Fold 1\n",
      "Fold 2\n",
      "Fold 3\n"
     ]
    },
    {
     "name": "stderr",
     "output_type": "stream",
     "text": [
      "[I 2024-06-25 01:35:23,340] Trial 306 finished with value: 0.818487344053174 and parameters: {'boosting_type': 'goss', 'num_leaves': 47, 'max_depth': 35, 'learning_rate': 0.39205044108089965, 'n_estimators': 967, 'min_child_samples': 59, 'subsample': 0.9957174459341842, 'colsample_bytree': 0.6432781961426086, 'reg_alpha': 4.506585816236357e-08, 'reg_lambda': 0.10159148999429757, 'top_rate': 0.20587246656536126, 'other_rate': 0.4807154852086337, 'threshold': 60}. Best is trial 115 with value: 0.833337460463145.\n"
     ]
    },
    {
     "name": "stdout",
     "output_type": "stream",
     "text": [
      "Score: 0.818487344053174\n",
      "Fold 1\n",
      "Fold 2\n",
      "Fold 3\n"
     ]
    },
    {
     "name": "stderr",
     "output_type": "stream",
     "text": [
      "[I 2024-06-25 01:35:40,448] Trial 307 finished with value: 0.7657211312901948 and parameters: {'boosting_type': 'goss', 'num_leaves': 43, 'max_depth': 31, 'learning_rate': 0.0010816419893721746, 'n_estimators': 370, 'min_child_samples': 44, 'subsample': 0.6504441275121452, 'colsample_bytree': 0.5773402829569978, 'reg_alpha': 1.1700188075402107, 'reg_lambda': 4.8711390840026865e-06, 'top_rate': 0.15460861618051894, 'other_rate': 0.4543936827295069, 'threshold': 54}. Best is trial 115 with value: 0.833337460463145.\n"
     ]
    },
    {
     "name": "stdout",
     "output_type": "stream",
     "text": [
      "Score: 0.7657211312901948\n",
      "Fold 1\n",
      "Fold 2\n",
      "Fold 3\n"
     ]
    },
    {
     "name": "stderr",
     "output_type": "stream",
     "text": [
      "[I 2024-06-25 01:36:14,322] Trial 308 finished with value: 0.8321143683947779 and parameters: {'boosting_type': 'goss', 'num_leaves': 29, 'max_depth': 33, 'learning_rate': 0.03015681734041755, 'n_estimators': 912, 'min_child_samples': 48, 'subsample': 0.6077356592573484, 'colsample_bytree': 0.6205890843190821, 'reg_alpha': 0.662229014450382, 'reg_lambda': 0.0008106038754659397, 'top_rate': 0.10482980572804783, 'other_rate': 0.3346890610929225, 'threshold': 25}. Best is trial 115 with value: 0.833337460463145.\n"
     ]
    },
    {
     "name": "stdout",
     "output_type": "stream",
     "text": [
      "Score: 0.8321143683947779\n",
      "Fold 1\n",
      "Fold 2\n",
      "Fold 3\n"
     ]
    },
    {
     "name": "stderr",
     "output_type": "stream",
     "text": [
      "[I 2024-06-25 01:36:47,321] Trial 309 finished with value: 0.8086778479327265 and parameters: {'boosting_type': 'goss', 'num_leaves': 59, 'max_depth': 38, 'learning_rate': 0.9289697972585695, 'n_estimators': 627, 'min_child_samples': 54, 'subsample': 0.6380339519994359, 'colsample_bytree': 0.8106889954744896, 'reg_alpha': 0.010818929805046064, 'reg_lambda': 2.262325208704264, 'top_rate': 0.12074019693562903, 'other_rate': 0.4832957267960531, 'threshold': 63}. Best is trial 115 with value: 0.833337460463145.\n"
     ]
    },
    {
     "name": "stdout",
     "output_type": "stream",
     "text": [
      "Score: 0.8086778479327265\n",
      "Fold 1\n",
      "Fold 2\n",
      "Fold 3\n"
     ]
    },
    {
     "name": "stderr",
     "output_type": "stream",
     "text": [
      "[I 2024-06-25 01:37:15,310] Trial 310 finished with value: 0.475538039576432 and parameters: {'boosting_type': 'goss', 'num_leaves': 17, 'max_depth': 34, 'learning_rate': 4.1092335461582645e-05, 'n_estimators': 951, 'min_child_samples': 62, 'subsample': 0.5947422469816074, 'colsample_bytree': 0.6087042905226095, 'reg_alpha': 0.05331084118706752, 'reg_lambda': 0.9577764701775792, 'top_rate': 0.03760498415712099, 'other_rate': 0.46964727633057923, 'threshold': 50}. Best is trial 115 with value: 0.833337460463145.\n"
     ]
    },
    {
     "name": "stdout",
     "output_type": "stream",
     "text": [
      "Score: 0.475538039576432\n",
      "Fold 1\n",
      "Fold 2\n",
      "Fold 3\n"
     ]
    },
    {
     "name": "stderr",
     "output_type": "stream",
     "text": [
      "[I 2024-06-25 01:37:47,137] Trial 311 finished with value: 0.7972004656893379 and parameters: {'boosting_type': 'goss', 'num_leaves': 24, 'max_depth': 36, 'learning_rate': 0.00057521141072453, 'n_estimators': 969, 'min_child_samples': 45, 'subsample': 0.7314756161912613, 'colsample_bytree': 0.7643173322793322, 'reg_alpha': 0.3694245617157619, 'reg_lambda': 4.32965671904782, 'top_rate': 0.08959191280030417, 'other_rate': 0.4997883203556987, 'threshold': 34}. Best is trial 115 with value: 0.833337460463145.\n"
     ]
    },
    {
     "name": "stdout",
     "output_type": "stream",
     "text": [
      "Score: 0.7972004656893379\n",
      "Fold 1\n",
      "Fold 2\n",
      "Fold 3\n"
     ]
    },
    {
     "name": "stderr",
     "output_type": "stream",
     "text": [
      "[I 2024-06-25 01:38:23,506] Trial 312 finished with value: 0.8230584981751474 and parameters: {'boosting_type': 'goss', 'num_leaves': 39, 'max_depth': 28, 'learning_rate': 0.10884930563797968, 'n_estimators': 1000, 'min_child_samples': 42, 'subsample': 0.6790264653154678, 'colsample_bytree': 0.6640187979437691, 'reg_alpha': 7.563000423258098e-06, 'reg_lambda': 0.1960520300679712, 'top_rate': 0.061110722338672284, 'other_rate': 0.4421207347969607, 'threshold': 58}. Best is trial 115 with value: 0.833337460463145.\n"
     ]
    },
    {
     "name": "stdout",
     "output_type": "stream",
     "text": [
      "Score: 0.8230584981751474\n",
      "Fold 1\n",
      "Fold 2\n",
      "Fold 3\n"
     ]
    },
    {
     "name": "stderr",
     "output_type": "stream",
     "text": [
      "[I 2024-06-25 01:39:11,452] Trial 313 finished with value: 0.8314719382601529 and parameters: {'boosting_type': 'goss', 'num_leaves': 65, 'max_depth': 30, 'learning_rate': 0.022510706062413188, 'n_estimators': 929, 'min_child_samples': 57, 'subsample': 0.61585909963843, 'colsample_bytree': 0.972282531509308, 'reg_alpha': 0.10348607613813357, 'reg_lambda': 0.009226146448386697, 'top_rate': 0.07538358360944533, 'other_rate': 0.4884067731971195, 'threshold': 61}. Best is trial 115 with value: 0.833337460463145.\n"
     ]
    },
    {
     "name": "stdout",
     "output_type": "stream",
     "text": [
      "Score: 0.8314719382601529\n",
      "Fold 1\n",
      "Fold 2\n",
      "Fold 3\n"
     ]
    },
    {
     "name": "stderr",
     "output_type": "stream",
     "text": [
      "[I 2024-06-25 01:39:54,550] Trial 314 finished with value: 0.8332262646969529 and parameters: {'boosting_type': 'goss', 'num_leaves': 54, 'max_depth': 40, 'learning_rate': 0.014810770129722019, 'n_estimators': 947, 'min_child_samples': 51, 'subsample': 0.7584830261135489, 'colsample_bytree': 0.5456965645911023, 'reg_alpha': 0.2082318162156193, 'reg_lambda': 0.0003976389328392738, 'top_rate': 0.1455523795669899, 'other_rate': 0.4757474400963583, 'threshold': 66}. Best is trial 115 with value: 0.833337460463145.\n"
     ]
    },
    {
     "name": "stdout",
     "output_type": "stream",
     "text": [
      "Score: 0.8332262646969529\n",
      "Fold 1\n",
      "Fold 2\n",
      "Fold 3\n"
     ]
    },
    {
     "name": "stderr",
     "output_type": "stream",
     "text": [
      "[I 2024-06-25 01:40:12,409] Trial 315 finished with value: 0.831508988557204 and parameters: {'boosting_type': 'goss', 'num_leaves': 8, 'max_depth': 40, 'learning_rate': 0.04420074566795275, 'n_estimators': 941, 'min_child_samples': 50, 'subsample': 0.7863706380824019, 'colsample_bytree': 0.6955384799991254, 'reg_alpha': 0.0009780982289100707, 'reg_lambda': 0.00016183010725607787, 'top_rate': 0.14888386718604674, 'other_rate': 0.4756536526312492, 'threshold': 67}. Best is trial 115 with value: 0.833337460463145.\n"
     ]
    },
    {
     "name": "stdout",
     "output_type": "stream",
     "text": [
      "Score: 0.831508988557204\n",
      "Fold 1\n",
      "Fold 2\n",
      "Fold 3\n"
     ]
    },
    {
     "name": "stderr",
     "output_type": "stream",
     "text": [
      "[I 2024-06-25 01:40:56,361] Trial 316 finished with value: 0.8325838327306935 and parameters: {'boosting_type': 'goss', 'num_leaves': 53, 'max_depth': 37, 'learning_rate': 0.014240658063461335, 'n_estimators': 903, 'min_child_samples': 48, 'subsample': 0.740651147041165, 'colsample_bytree': 0.5470087439742434, 'reg_alpha': 0.21315240248683726, 'reg_lambda': 0.0002318404331452113, 'top_rate': 0.1407558716231522, 'other_rate': 0.46405720872708023, 'threshold': 69}. Best is trial 115 with value: 0.833337460463145.\n"
     ]
    },
    {
     "name": "stdout",
     "output_type": "stream",
     "text": [
      "Score: 0.8325838327306935\n",
      "Fold 1\n",
      "Fold 2\n",
      "Fold 3\n"
     ]
    },
    {
     "name": "stderr",
     "output_type": "stream",
     "text": [
      "[I 2024-06-25 01:41:33,523] Trial 317 finished with value: 0.8295693282116078 and parameters: {'boosting_type': 'goss', 'num_leaves': 31, 'max_depth': 40, 'learning_rate': 0.005475065842718691, 'n_estimators': 978, 'min_child_samples': 46, 'subsample': 0.7604818874029562, 'colsample_bytree': 0.5510294381520864, 'reg_alpha': 0.1579314111520079, 'reg_lambda': 0.0005272651952100889, 'top_rate': 0.049207446978536545, 'other_rate': 0.480339886932812, 'threshold': 64}. Best is trial 115 with value: 0.833337460463145.\n"
     ]
    },
    {
     "name": "stdout",
     "output_type": "stream",
     "text": [
      "Score: 0.8295693282116078\n",
      "Fold 1\n",
      "Fold 2\n",
      "Fold 3\n"
     ]
    },
    {
     "name": "stderr",
     "output_type": "stream",
     "text": [
      "[I 2024-06-25 01:46:01,730] Trial 318 finished with value: 0.8312124849830034 and parameters: {'boosting_type': 'dart', 'num_leaves': 195, 'max_depth': 38, 'learning_rate': 0.00976507268270582, 'n_estimators': 955, 'min_child_samples': 40, 'subsample': 0.7818983210238591, 'colsample_bytree': 0.5143037550275129, 'reg_alpha': 0.32515716191590993, 'reg_lambda': 0.00044428038222535274, 'drop_rate': 0.36079640532662816, 'skip_drop': 0.8411982384902215, 'threshold': 66}. Best is trial 115 with value: 0.833337460463145.\n"
     ]
    },
    {
     "name": "stdout",
     "output_type": "stream",
     "text": [
      "Score: 0.8312124849830034\n",
      "Fold 1\n",
      "Fold 2\n",
      "Fold 3\n"
     ]
    },
    {
     "name": "stderr",
     "output_type": "stream",
     "text": [
      "[I 2024-06-25 01:46:29,018] Trial 319 finished with value: 0.8319537427737336 and parameters: {'boosting_type': 'gbdt', 'num_leaves': 21, 'max_depth': 36, 'learning_rate': 0.02841197109921383, 'n_estimators': 981, 'min_child_samples': 52, 'subsample': 0.7459787350843841, 'colsample_bytree': 0.651195003528187, 'reg_alpha': 1.1183191059244761e-08, 'reg_lambda': 0.0003414587989013608, 'threshold': 65}. Best is trial 115 with value: 0.833337460463145.\n"
     ]
    },
    {
     "name": "stdout",
     "output_type": "stream",
     "text": [
      "Score: 0.8319537427737336\n",
      "Fold 1\n",
      "Fold 2\n",
      "Fold 3\n"
     ]
    },
    {
     "name": "stderr",
     "output_type": "stream",
     "text": [
      "[I 2024-06-25 01:47:12,767] Trial 320 finished with value: 0.8252205569217562 and parameters: {'boosting_type': 'goss', 'num_leaves': 60, 'max_depth': 48, 'learning_rate': 0.07683508489473938, 'n_estimators': 917, 'min_child_samples': 49, 'subsample': 0.7293212450960428, 'colsample_bytree': 0.6807660931240853, 'reg_alpha': 0.21779548889683656, 'reg_lambda': 0.030760956429904583, 'top_rate': 0.02984131650536455, 'other_rate': 0.4920199956319988, 'threshold': 62}. Best is trial 115 with value: 0.833337460463145.\n"
     ]
    },
    {
     "name": "stdout",
     "output_type": "stream",
     "text": [
      "Score: 0.8252205569217562\n",
      "Fold 1\n",
      "Fold 2\n",
      "Fold 3\n"
     ]
    },
    {
     "name": "stderr",
     "output_type": "stream",
     "text": [
      "[I 2024-06-25 01:47:35,206] Trial 321 finished with value: 0.83078007689695 and parameters: {'boosting_type': 'goss', 'num_leaves': 15, 'max_depth': 27, 'learning_rate': 0.019828959348799594, 'n_estimators': 939, 'min_child_samples': 38, 'subsample': 0.5752641387890405, 'colsample_bytree': 0.5813682268325364, 'reg_alpha': 5.4057340047622834e-08, 'reg_lambda': 0.0006431100645471251, 'top_rate': 0.18735810644589057, 'other_rate': 0.47455293076607563, 'threshold': 12}. Best is trial 115 with value: 0.833337460463145.\n"
     ]
    },
    {
     "name": "stdout",
     "output_type": "stream",
     "text": [
      "Score: 0.83078007689695\n",
      "Fold 1\n",
      "Fold 2\n",
      "Fold 3\n"
     ]
    },
    {
     "name": "stderr",
     "output_type": "stream",
     "text": [
      "[I 2024-06-25 01:48:16,961] Trial 322 finished with value: 0.8312618928582447 and parameters: {'boosting_type': 'goss', 'num_leaves': 55, 'max_depth': 39, 'learning_rate': 0.03793982552645444, 'n_estimators': 970, 'min_child_samples': 60, 'subsample': 0.8170774738476803, 'colsample_bytree': 0.6691922384991046, 'reg_alpha': 0.000622035182101006, 'reg_lambda': 0.4685228944956692, 'top_rate': 0.16534929246745209, 'other_rate': 0.46329212292523797, 'threshold': 63}. Best is trial 115 with value: 0.833337460463145.\n"
     ]
    },
    {
     "name": "stdout",
     "output_type": "stream",
     "text": [
      "Score: 0.8312618928582447\n",
      "Fold 1\n",
      "Fold 2\n",
      "Fold 3\n"
     ]
    },
    {
     "name": "stderr",
     "output_type": "stream",
     "text": [
      "[I 2024-06-25 01:49:12,035] Trial 323 finished with value: 0.8324602821337627 and parameters: {'boosting_type': 'goss', 'num_leaves': 76, 'max_depth': 31, 'learning_rate': 0.016232781632096228, 'n_estimators': 1000, 'min_child_samples': 44, 'subsample': 0.7569065844692898, 'colsample_bytree': 0.6368160914305971, 'reg_alpha': 0.1255432091595494, 'reg_lambda': 0.0009028764033827455, 'top_rate': 0.13271818508442987, 'other_rate': 0.499677198948722, 'threshold': 60}. Best is trial 115 with value: 0.833337460463145.\n"
     ]
    },
    {
     "name": "stdout",
     "output_type": "stream",
     "text": [
      "Score: 0.8324602821337627\n",
      "Fold 1\n",
      "Fold 2\n",
      "Fold 3\n"
     ]
    },
    {
     "name": "stderr",
     "output_type": "stream",
     "text": [
      "[I 2024-06-25 01:49:48,173] Trial 324 finished with value: 0.8223419399719066 and parameters: {'boosting_type': 'goss', 'num_leaves': 25, 'max_depth': 29, 'learning_rate': 0.0021291118121658866, 'n_estimators': 957, 'min_child_samples': 42, 'subsample': 0.7741203812218356, 'colsample_bytree': 0.5450205357431939, 'reg_alpha': 0.47884025374797995, 'reg_lambda': 0.6492759280311067, 'top_rate': 0.17767159083028972, 'other_rate': 0.48609814886365715, 'threshold': 67}. Best is trial 115 with value: 0.833337460463145.\n"
     ]
    },
    {
     "name": "stdout",
     "output_type": "stream",
     "text": [
      "Score: 0.8223419399719066\n",
      "Fold 1\n",
      "Fold 2\n",
      "Fold 3\n"
     ]
    },
    {
     "name": "stderr",
     "output_type": "stream",
     "text": [
      "[I 2024-06-25 01:50:25,460] Trial 325 finished with value: 0.8321884937159423 and parameters: {'boosting_type': 'goss', 'num_leaves': 36, 'max_depth': 32, 'learning_rate': 0.010729867099414309, 'n_estimators': 929, 'min_child_samples': 46, 'subsample': 0.7914529343222032, 'colsample_bytree': 0.5526722378463421, 'reg_alpha': 1.7097538646670941e-07, 'reg_lambda': 0.0002825300148716621, 'top_rate': 0.11774421826327869, 'other_rate': 0.474295613366932, 'threshold': 61}. Best is trial 115 with value: 0.833337460463145.\n"
     ]
    },
    {
     "name": "stdout",
     "output_type": "stream",
     "text": [
      "Score: 0.8321884937159423\n",
      "Fold 1\n",
      "Fold 2\n",
      "Fold 3\n"
     ]
    },
    {
     "name": "stderr",
     "output_type": "stream",
     "text": [
      "[I 2024-06-25 01:50:40,064] Trial 326 finished with value: 0.825294655226316 and parameters: {'boosting_type': 'goss', 'num_leaves': 3, 'max_depth': 35, 'learning_rate': 0.02204503400557871, 'n_estimators': 981, 'min_child_samples': 51, 'subsample': 0.7629721586040406, 'colsample_bytree': 0.5855692994434166, 'reg_alpha': 0.04163839566519157, 'reg_lambda': 0.05382420791074715, 'top_rate': 0.15001278914072017, 'other_rate': 0.45231061352114504, 'threshold': 65}. Best is trial 115 with value: 0.833337460463145.\n"
     ]
    },
    {
     "name": "stdout",
     "output_type": "stream",
     "text": [
      "Score: 0.825294655226316\n",
      "Fold 1\n",
      "Fold 2\n",
      "Fold 3\n"
     ]
    },
    {
     "name": "stderr",
     "output_type": "stream",
     "text": [
      "[I 2024-06-25 01:51:17,869] Trial 327 finished with value: 0.8296928920878869 and parameters: {'boosting_type': 'goss', 'num_leaves': 45, 'max_depth': 38, 'learning_rate': 0.05217873521085255, 'n_estimators': 951, 'min_child_samples': 55, 'subsample': 0.8075712275522839, 'colsample_bytree': 0.5544247295325475, 'reg_alpha': 0.021481408056963473, 'reg_lambda': 0.1372793684776924, 'top_rate': 0.10912197555481408, 'other_rate': 0.49120676718006684, 'threshold': 59}. Best is trial 115 with value: 0.833337460463145.\n"
     ]
    },
    {
     "name": "stdout",
     "output_type": "stream",
     "text": [
      "Score: 0.8296928920878869\n",
      "Fold 1\n",
      "Fold 2\n",
      "Fold 3\n"
     ]
    },
    {
     "name": "stderr",
     "output_type": "stream",
     "text": [
      "[I 2024-06-25 01:51:57,402] Trial 328 finished with value: 0.7477947343758098 and parameters: {'boosting_type': 'goss', 'num_leaves': 32, 'max_depth': 20, 'learning_rate': 0.00036751767166763686, 'n_estimators': 968, 'min_child_samples': 48, 'subsample': 0.800187367155793, 'colsample_bytree': 0.5619854094705599, 'reg_alpha': 7.097261051255364e-08, 'reg_lambda': 4.0778025021572364e-07, 'top_rate': 0.09901835748804617, 'other_rate': 0.48079794632134204, 'threshold': 71}. Best is trial 115 with value: 0.833337460463145.\n"
     ]
    },
    {
     "name": "stdout",
     "output_type": "stream",
     "text": [
      "Score: 0.7477947343758098\n",
      "Fold 1\n",
      "Fold 2\n",
      "Fold 3\n"
     ]
    },
    {
     "name": "stderr",
     "output_type": "stream",
     "text": [
      "[I 2024-06-25 01:52:19,315] Trial 329 finished with value: 0.8269254589986069 and parameters: {'boosting_type': 'goss', 'num_leaves': 11, 'max_depth': 34, 'learning_rate': 0.00765618450613783, 'n_estimators': 889, 'min_child_samples': 58, 'subsample': 0.7716521507567987, 'colsample_bytree': 0.5652642909502531, 'reg_alpha': 1.1174124838165287e-06, 'reg_lambda': 0.0002311535772682626, 'top_rate': 0.15776242327672252, 'other_rate': 0.46533214527427563, 'threshold': 63}. Best is trial 115 with value: 0.833337460463145.\n"
     ]
    },
    {
     "name": "stdout",
     "output_type": "stream",
     "text": [
      "Score: 0.8269254589986069\n",
      "Fold 1\n",
      "Fold 2\n",
      "Fold 3\n"
     ]
    },
    {
     "name": "stderr",
     "output_type": "stream",
     "text": [
      "[I 2024-06-25 01:52:57,161] Trial 330 finished with value: 0.8258011936705278 and parameters: {'boosting_type': 'goss', 'num_leaves': 50, 'max_depth': 24, 'learning_rate': 0.1313536467920033, 'n_estimators': 981, 'min_child_samples': 45, 'subsample': 0.5873294144706332, 'colsample_bytree': 0.5733621874591192, 'reg_alpha': 0.00017771046763259004, 'reg_lambda': 1.5186625314840576, 'top_rate': 0.28259762480900025, 'other_rate': 0.49039972928574493, 'threshold': 68}. Best is trial 115 with value: 0.833337460463145.\n"
     ]
    },
    {
     "name": "stdout",
     "output_type": "stream",
     "text": [
      "Score: 0.8258011936705278\n",
      "Fold 1\n",
      "Fold 2\n",
      "Fold 3\n"
     ]
    },
    {
     "name": "stderr",
     "output_type": "stream",
     "text": [
      "[I 2024-06-25 01:53:24,743] Trial 331 finished with value: 0.8327691529022331 and parameters: {'boosting_type': 'goss', 'num_leaves': 20, 'max_depth': 30, 'learning_rate': 0.033464123198892005, 'n_estimators': 942, 'min_child_samples': 51, 'subsample': 0.7075394883658838, 'colsample_bytree': 0.5171429809476528, 'reg_alpha': 0.007299770310989694, 'reg_lambda': 0.015238199960826076, 'top_rate': 0.14261412059240203, 'other_rate': 0.4578162456829669, 'threshold': 61}. Best is trial 115 with value: 0.833337460463145.\n"
     ]
    },
    {
     "name": "stdout",
     "output_type": "stream",
     "text": [
      "Score: 0.8327691529022331\n",
      "Fold 1\n",
      "Fold 2\n",
      "Fold 3\n"
     ]
    },
    {
     "name": "stderr",
     "output_type": "stream",
     "text": [
      "[I 2024-06-25 01:53:58,280] Trial 332 finished with value: 0.8313236715910245 and parameters: {'boosting_type': 'goss', 'num_leaves': 27, 'max_depth': 36, 'learning_rate': 0.012965319152906508, 'n_estimators': 921, 'min_child_samples': 48, 'subsample': 0.6913261934437197, 'colsample_bytree': 0.5317308232047988, 'reg_alpha': 8.357362677261642e-07, 'reg_lambda': 0.3402354505145694, 'top_rate': 0.37157904478753956, 'other_rate': 0.23810864205933155, 'threshold': 58}. Best is trial 115 with value: 0.833337460463145.\n"
     ]
    },
    {
     "name": "stdout",
     "output_type": "stream",
     "text": [
      "Score: 0.8313236715910245\n",
      "Fold 1\n",
      "Fold 2\n",
      "Fold 3\n"
     ]
    },
    {
     "name": "stderr",
     "output_type": "stream",
     "text": [
      "[I 2024-06-25 01:54:35,833] Trial 333 finished with value: 0.8324232176415461 and parameters: {'boosting_type': 'goss', 'num_leaves': 42, 'max_depth': 26, 'learning_rate': 0.024363612516960637, 'n_estimators': 961, 'min_child_samples': 41, 'subsample': 0.6009337847365711, 'colsample_bytree': 0.7252167526251411, 'reg_alpha': 0.875659598209006, 'reg_lambda': 0.007206780146861802, 'top_rate': 0.2157309202368353, 'other_rate': 0.4723621365259524, 'threshold': 64}. Best is trial 115 with value: 0.833337460463145.\n"
     ]
    },
    {
     "name": "stdout",
     "output_type": "stream",
     "text": [
      "Score: 0.8324232176415461\n",
      "Fold 1\n",
      "Fold 2\n",
      "Fold 3\n"
     ]
    },
    {
     "name": "stderr",
     "output_type": "stream",
     "text": [
      "[I 2024-06-25 01:55:22,087] Trial 334 finished with value: 0.8326950216282575 and parameters: {'boosting_type': 'goss', 'num_leaves': 55, 'max_depth': 43, 'learning_rate': 0.01682386672778714, 'n_estimators': 983, 'min_child_samples': 64, 'subsample': 0.5602008630875447, 'colsample_bytree': 0.6443510508902827, 'reg_alpha': 0.35657317721880927, 'reg_lambda': 0.061584243945918014, 'top_rate': 0.1295433740257562, 'other_rate': 0.4809057209575399, 'threshold': 62}. Best is trial 115 with value: 0.833337460463145.\n"
     ]
    },
    {
     "name": "stdout",
     "output_type": "stream",
     "text": [
      "Score: 0.8326950216282575\n",
      "Fold 1\n",
      "Fold 2\n",
      "Fold 3\n"
     ]
    },
    {
     "name": "stderr",
     "output_type": "stream",
     "text": [
      "[I 2024-06-25 01:56:54,513] Trial 335 finished with value: 0.8267278105550249 and parameters: {'boosting_type': 'goss', 'num_leaves': 187, 'max_depth': 32, 'learning_rate': 0.04168706756567658, 'n_estimators': 944, 'min_child_samples': 53, 'subsample': 0.7100405379169921, 'colsample_bytree': 0.658741175373849, 'reg_alpha': 0.19632385142424466, 'reg_lambda': 0.0026511192141927056, 'top_rate': 0.07803852387564604, 'other_rate': 0.492423125174387, 'threshold': 66}. Best is trial 115 with value: 0.833337460463145.\n"
     ]
    },
    {
     "name": "stdout",
     "output_type": "stream",
     "text": [
      "Score: 0.8267278105550249\n",
      "Fold 1\n",
      "Fold 2\n",
      "Fold 3\n"
     ]
    },
    {
     "name": "stderr",
     "output_type": "stream",
     "text": [
      "[I 2024-06-25 01:57:30,755] Trial 336 finished with value: 0.8266413162079562 and parameters: {'boosting_type': 'goss', 'num_leaves': 29, 'max_depth': 28, 'learning_rate': 0.0034648618622906825, 'n_estimators': 966, 'min_child_samples': 56, 'subsample': 0.819149899451597, 'colsample_bytree': 0.6325880122597911, 'reg_alpha': 0.07565603912092092, 'reg_lambda': 9.220496871075518e-05, 'top_rate': 0.09589838444851287, 'other_rate': 0.4181401373728832, 'threshold': 57}. Best is trial 115 with value: 0.833337460463145.\n"
     ]
    },
    {
     "name": "stdout",
     "output_type": "stream",
     "text": [
      "Score: 0.8266413162079562\n",
      "Fold 1\n",
      "Fold 2\n",
      "Fold 3\n"
     ]
    },
    {
     "name": "stderr",
     "output_type": "stream",
     "text": [
      "[I 2024-06-25 01:58:13,345] Trial 337 finished with value: 0.475538039576432 and parameters: {'boosting_type': 'goss', 'num_leaves': 36, 'max_depth': 34, 'learning_rate': 1.766517818589615e-05, 'n_estimators': 989, 'min_child_samples': 93, 'subsample': 0.8445459728502345, 'colsample_bytree': 0.5292265779828842, 'reg_alpha': 0.00027092276162958497, 'reg_lambda': 3.0444322550041583, 'top_rate': 0.10649656549017811, 'other_rate': 0.46833850659904436, 'threshold': 59}. Best is trial 115 with value: 0.833337460463145.\n"
     ]
    },
    {
     "name": "stdout",
     "output_type": "stream",
     "text": [
      "Score: 0.475538039576432\n",
      "Fold 1\n",
      "Fold 2\n",
      "Fold 3\n"
     ]
    },
    {
     "name": "stderr",
     "output_type": "stream",
     "text": [
      "[I 2024-06-25 01:59:05,919] Trial 338 finished with value: 0.8158928813416889 and parameters: {'boosting_type': 'goss', 'num_leaves': 63, 'max_depth': 33, 'learning_rate': 0.0008479682937620533, 'n_estimators': 927, 'min_child_samples': 46, 'subsample': 0.7003250218606115, 'colsample_bytree': 0.7054343062099585, 'reg_alpha': 0.5218642119984749, 'reg_lambda': 0.0017172229284902823, 'top_rate': 0.08706982788015624, 'other_rate': 0.4991594446945743, 'threshold': 60}. Best is trial 115 with value: 0.833337460463145.\n"
     ]
    },
    {
     "name": "stdout",
     "output_type": "stream",
     "text": [
      "Score: 0.8158928813416889\n",
      "Fold 1\n",
      "Fold 2\n",
      "Fold 3\n"
     ]
    },
    {
     "name": "stderr",
     "output_type": "stream",
     "text": [
      "[I 2024-06-25 01:59:36,313] Trial 339 finished with value: 0.8329297634122951 and parameters: {'boosting_type': 'goss', 'num_leaves': 17, 'max_depth': 36, 'learning_rate': 0.027504712248459334, 'n_estimators': 999, 'min_child_samples': 43, 'subsample': 0.7173805852792868, 'colsample_bytree': 0.739785966684373, 'reg_alpha': 0.2620028408742856, 'reg_lambda': 0.8851922907568491, 'top_rate': 0.11696435379827254, 'other_rate': 0.2984398167172014, 'threshold': 55}. Best is trial 115 with value: 0.833337460463145.\n"
     ]
    },
    {
     "name": "stdout",
     "output_type": "stream",
     "text": [
      "Score: 0.8329297634122951\n",
      "Fold 1\n",
      "Fold 2\n",
      "Fold 3\n"
     ]
    },
    {
     "name": "stderr",
     "output_type": "stream",
     "text": [
      "[I 2024-06-25 01:59:58,012] Trial 340 finished with value: 0.8308789059267809 and parameters: {'boosting_type': 'gbdt', 'num_leaves': 15, 'max_depth': 38, 'learning_rate': 0.07341886672671713, 'n_estimators': 998, 'min_child_samples': 44, 'subsample': 0.736994871042545, 'colsample_bytree': 0.7851130498978979, 'reg_alpha': 0.0056003211552484574, 'reg_lambda': 0.0004623800655726949, 'threshold': 54}. Best is trial 115 with value: 0.833337460463145.\n"
     ]
    },
    {
     "name": "stdout",
     "output_type": "stream",
     "text": [
      "Score: 0.8308789059267809\n",
      "Fold 1\n",
      "Fold 2\n",
      "Fold 3\n"
     ]
    },
    {
     "name": "stderr",
     "output_type": "stream",
     "text": [
      "[I 2024-06-25 02:01:04,640] Trial 341 finished with value: 0.8331274498622873 and parameters: {'boosting_type': 'goss', 'num_leaves': 86, 'max_depth': 36, 'learning_rate': 0.012240322854424102, 'n_estimators': 987, 'min_child_samples': 42, 'subsample': 0.724469415131489, 'colsample_bytree': 0.6950144339782116, 'reg_alpha': 0.2562466361561252, 'reg_lambda': 1.4978363672762873, 'top_rate': 0.11415525935235155, 'other_rate': 0.3824840148543541, 'threshold': 51}. Best is trial 115 with value: 0.833337460463145.\n"
     ]
    },
    {
     "name": "stdout",
     "output_type": "stream",
     "text": [
      "Score: 0.8331274498622873\n",
      "Fold 1\n",
      "Fold 2\n",
      "Fold 3\n"
     ]
    },
    {
     "name": "stderr",
     "output_type": "stream",
     "text": [
      "[I 2024-06-25 02:03:27,338] Trial 342 finished with value: 0.7111511764307287 and parameters: {'boosting_type': 'dart', 'num_leaves': 88, 'max_depth': 35, 'learning_rate': 0.00011130360828981782, 'n_estimators': 997, 'min_child_samples': 39, 'subsample': 0.7303187667118708, 'colsample_bytree': 0.6996095763757516, 'reg_alpha': 0.2903334053685794, 'reg_lambda': 5.2694906030255e-08, 'drop_rate': 0.3188383605717965, 'skip_drop': 0.9073135645153583, 'threshold': 48}. Best is trial 115 with value: 0.833337460463145.\n"
     ]
    },
    {
     "name": "stdout",
     "output_type": "stream",
     "text": [
      "Score: 0.7111511764307287\n",
      "Fold 1\n",
      "Fold 2\n",
      "Fold 3\n"
     ]
    },
    {
     "name": "stderr",
     "output_type": "stream",
     "text": [
      "[I 2024-06-25 02:05:27,639] Trial 343 finished with value: 0.8319166984294938 and parameters: {'boosting_type': 'goss', 'num_leaves': 245, 'max_depth': 36, 'learning_rate': 0.00534324737284204, 'n_estimators': 1000, 'min_child_samples': 42, 'subsample': 0.7130489231092403, 'colsample_bytree': 0.7129079260215774, 'reg_alpha': 0.222561611567281, 'reg_lambda': 1.4539234339983396, 'top_rate': 0.12008819905723657, 'other_rate': 0.31627356683734703, 'threshold': 52}. Best is trial 115 with value: 0.833337460463145.\n"
     ]
    },
    {
     "name": "stdout",
     "output_type": "stream",
     "text": [
      "Score: 0.8319166984294938\n",
      "Fold 1\n",
      "Fold 2\n",
      "Fold 3\n"
     ]
    },
    {
     "name": "stderr",
     "output_type": "stream",
     "text": [
      "[I 2024-06-25 02:06:27,421] Trial 344 finished with value: 0.8325714866002173 and parameters: {'boosting_type': 'goss', 'num_leaves': 73, 'max_depth': 35, 'learning_rate': 0.008406887162472931, 'n_estimators': 971, 'min_child_samples': 35, 'subsample': 0.7236419060948216, 'colsample_bytree': 0.6881681009558523, 'reg_alpha': 8.273339037871419e-05, 'reg_lambda': 0.967645823200656, 'top_rate': 0.11627314211765273, 'other_rate': 0.33982731346224493, 'threshold': 50}. Best is trial 115 with value: 0.833337460463145.\n"
     ]
    },
    {
     "name": "stdout",
     "output_type": "stream",
     "text": [
      "Score: 0.8325714866002173\n",
      "Fold 1\n",
      "Fold 2\n",
      "Fold 3\n"
     ]
    },
    {
     "name": "stderr",
     "output_type": "stream",
     "text": [
      "[I 2024-06-25 02:07:00,849] Trial 345 finished with value: 0.8325344257712693 and parameters: {'boosting_type': 'goss', 'num_leaves': 25, 'max_depth': 37, 'learning_rate': 0.02974361096535404, 'n_estimators': 947, 'min_child_samples': 37, 'subsample': 0.7004314285151396, 'colsample_bytree': 0.6855796562264709, 'reg_alpha': 0.13120388719086515, 'reg_lambda': 5.918095023498951e-05, 'top_rate': 0.12675605143127622, 'other_rate': 0.31117552347160804, 'threshold': 51}. Best is trial 115 with value: 0.833337460463145.\n"
     ]
    },
    {
     "name": "stdout",
     "output_type": "stream",
     "text": [
      "Score: 0.8325344257712693\n",
      "Fold 1\n",
      "Fold 2\n",
      "Fold 3\n"
     ]
    },
    {
     "name": "stderr",
     "output_type": "stream",
     "text": [
      "[I 2024-06-25 02:07:28,550] Trial 346 finished with value: 0.8314472258512238 and parameters: {'boosting_type': 'goss', 'num_leaves': 19, 'max_depth': 33, 'learning_rate': 0.012265920465740642, 'n_estimators': 908, 'min_child_samples': 40, 'subsample': 0.7211697207394727, 'colsample_bytree': 0.7252007547137318, 'reg_alpha': 0.3261897714517161, 'reg_lambda': 1.7814390082933231, 'top_rate': 0.10793887017627965, 'other_rate': 0.48337596163045815, 'threshold': 52}. Best is trial 115 with value: 0.833337460463145.\n"
     ]
    },
    {
     "name": "stdout",
     "output_type": "stream",
     "text": [
      "Score: 0.8314472258512238\n",
      "Fold 1\n",
      "Fold 2\n",
      "Fold 3\n"
     ]
    },
    {
     "name": "stderr",
     "output_type": "stream",
     "text": [
      "[I 2024-06-25 02:07:56,274] Trial 347 finished with value: 0.8315213502565711 and parameters: {'boosting_type': 'goss', 'num_leaves': 11, 'max_depth': 35, 'learning_rate': 0.02016121752035041, 'n_estimators': 963, 'min_child_samples': 42, 'subsample': 0.7513099674122744, 'colsample_bytree': 0.7176220231339283, 'reg_alpha': 0.4620339617078648, 'reg_lambda': 2.8451968488851325, 'top_rate': 0.11452069642641141, 'other_rate': 0.3722784701038871, 'threshold': 55}. Best is trial 115 with value: 0.833337460463145.\n"
     ]
    },
    {
     "name": "stdout",
     "output_type": "stream",
     "text": [
      "Score: 0.8315213502565711\n",
      "Fold 1\n",
      "Fold 2\n",
      "Fold 3\n"
     ]
    },
    {
     "name": "stderr",
     "output_type": "stream",
     "text": [
      "[I 2024-06-25 02:08:40,719] Trial 348 finished with value: 0.8301252951369461 and parameters: {'boosting_type': 'goss', 'num_leaves': 40, 'max_depth': 34, 'learning_rate': 0.0466740670458814, 'n_estimators': 977, 'min_child_samples': 47, 'subsample': 0.6558774487370345, 'colsample_bytree': 0.7412424039575382, 'reg_alpha': 1.1532811205138494e-05, 'reg_lambda': 9.988257248375009, 'top_rate': 0.10190278237775974, 'other_rate': 0.35821596653671806, 'threshold': 47}. Best is trial 115 with value: 0.833337460463145.\n"
     ]
    },
    {
     "name": "stdout",
     "output_type": "stream",
     "text": [
      "Score: 0.8301252951369461\n",
      "Fold 1\n",
      "Fold 2\n",
      "Fold 3\n"
     ]
    },
    {
     "name": "stderr",
     "output_type": "stream",
     "text": [
      "[I 2024-06-25 02:09:20,271] Trial 349 finished with value: 0.8320278896166001 and parameters: {'boosting_type': 'goss', 'num_leaves': 33, 'max_depth': 31, 'learning_rate': 0.01013646219453211, 'n_estimators': 948, 'min_child_samples': 43, 'subsample': 0.7226654386076304, 'colsample_bytree': 0.6727780017717738, 'reg_alpha': 4.6163857271876105e-05, 'reg_lambda': 0.005465171459277901, 'top_rate': 0.20012326449372814, 'other_rate': 0.17573379568995345, 'threshold': 49}. Best is trial 115 with value: 0.833337460463145.\n"
     ]
    },
    {
     "name": "stdout",
     "output_type": "stream",
     "text": [
      "Score: 0.8320278896166001\n",
      "Fold 1\n",
      "Fold 2\n",
      "Fold 3\n"
     ]
    },
    {
     "name": "stderr",
     "output_type": "stream",
     "text": [
      "[I 2024-06-25 02:10:12,763] Trial 350 finished with value: 0.8300511533310737 and parameters: {'boosting_type': 'goss', 'num_leaves': 81, 'max_depth': 37, 'learning_rate': 0.02981842483319669, 'n_estimators': 930, 'min_child_samples': 49, 'subsample': 0.6696739149173274, 'colsample_bytree': 0.6578606177896098, 'reg_alpha': 0.00033853221283141965, 'reg_lambda': 1.0114287082163569, 'top_rate': 0.13285465512268393, 'other_rate': 0.388959388423859, 'threshold': 53}. Best is trial 115 with value: 0.833337460463145.\n"
     ]
    },
    {
     "name": "stdout",
     "output_type": "stream",
     "text": [
      "Score: 0.8300511533310737\n",
      "Fold 1\n",
      "Fold 2\n",
      "Fold 3\n"
     ]
    },
    {
     "name": "stderr",
     "output_type": "stream",
     "text": [
      "[I 2024-06-25 02:10:58,773] Trial 351 finished with value: 0.8312618969794219 and parameters: {'boosting_type': 'goss', 'num_leaves': 47, 'max_depth': 36, 'learning_rate': 0.006572083555500747, 'n_estimators': 1000, 'min_child_samples': 71, 'subsample': 0.6878941554454612, 'colsample_bytree': 0.6748437741453576, 'reg_alpha': 2.04705677529432e-08, 'reg_lambda': 0.00011879204076907931, 'top_rate': 0.12262955633379052, 'other_rate': 0.4829661719497481, 'threshold': 56}. Best is trial 115 with value: 0.833337460463145.\n"
     ]
    },
    {
     "name": "stdout",
     "output_type": "stream",
     "text": [
      "Score: 0.8312618969794219\n",
      "Fold 1\n",
      "Fold 2\n",
      "Fold 3\n"
     ]
    },
    {
     "name": "stderr",
     "output_type": "stream",
     "text": [
      "[I 2024-06-25 02:11:34,056] Trial 352 finished with value: 0.8323614723360911 and parameters: {'boosting_type': 'goss', 'num_leaves': 25, 'max_depth': 52, 'learning_rate': 0.016112803871966824, 'n_estimators': 973, 'min_child_samples': 40, 'subsample': 0.7148948109603137, 'colsample_bytree': 0.52128005364438, 'reg_alpha': 4.297272143747034e-06, 'reg_lambda': 6.743185591660334, 'top_rate': 0.09311091819590912, 'other_rate': 0.29063963469024, 'threshold': 55}. Best is trial 115 with value: 0.833337460463145.\n"
     ]
    },
    {
     "name": "stdout",
     "output_type": "stream",
     "text": [
      "Score: 0.8323614723360911\n",
      "Fold 1\n",
      "Fold 2\n",
      "Fold 3\n"
     ]
    },
    {
     "name": "stderr",
     "output_type": "stream",
     "text": [
      "[I 2024-06-25 02:12:47,382] Trial 353 finished with value: 0.8248375516739502 and parameters: {'boosting_type': 'goss', 'num_leaves': 96, 'max_depth': 40, 'learning_rate': 0.001587859807151713, 'n_estimators': 953, 'min_child_samples': 46, 'subsample': 0.7358243970869137, 'colsample_bytree': 0.7974779312830899, 'reg_alpha': 2.674044062103122e-06, 'reg_lambda': 1.3184979952441923e-05, 'top_rate': 0.10884796357727392, 'other_rate': 0.3852226848562287, 'threshold': 57}. Best is trial 115 with value: 0.833337460463145.\n"
     ]
    },
    {
     "name": "stdout",
     "output_type": "stream",
     "text": [
      "Score: 0.8248375516739502\n",
      "Fold 1\n",
      "Fold 2\n",
      "Fold 3\n"
     ]
    },
    {
     "name": "stderr",
     "output_type": "stream",
     "text": [
      "[I 2024-06-25 02:13:24,970] Trial 354 finished with value: 0.8294334287367492 and parameters: {'boosting_type': 'goss', 'num_leaves': 31, 'max_depth': 34, 'learning_rate': 0.06484364831640371, 'n_estimators': 984, 'min_child_samples': 50, 'subsample': 0.7792169817372235, 'colsample_bytree': 0.6454352167657312, 'reg_alpha': 0.16350816367398258, 'reg_lambda': 0.49187850907316083, 'top_rate': 0.13783852649871772, 'other_rate': 0.3512751288141212, 'threshold': 53}. Best is trial 115 with value: 0.833337460463145.\n"
     ]
    },
    {
     "name": "stdout",
     "output_type": "stream",
     "text": [
      "Score: 0.8294334287367492\n",
      "Fold 1\n",
      "Fold 2\n",
      "Fold 3\n"
     ]
    },
    {
     "name": "stderr",
     "output_type": "stream",
     "text": [
      "[I 2024-06-25 02:14:06,881] Trial 355 finished with value: 0.8325097115307062 and parameters: {'boosting_type': 'goss', 'num_leaves': 37, 'max_depth': 32, 'learning_rate': 0.022157828459218782, 'n_estimators': 938, 'min_child_samples': 44, 'subsample': 0.6312669696110295, 'colsample_bytree': 0.6644677221871572, 'reg_alpha': 0.5928245962507968, 'reg_lambda': 0.027844455805281984, 'top_rate': 0.02127616037347696, 'other_rate': 0.4208927143424243, 'threshold': 58}. Best is trial 115 with value: 0.833337460463145.\n"
     ]
    },
    {
     "name": "stdout",
     "output_type": "stream",
     "text": [
      "Score: 0.8325097115307062\n",
      "Fold 1\n",
      "Fold 2\n",
      "Fold 3\n"
     ]
    },
    {
     "name": "stderr",
     "output_type": "stream",
     "text": [
      "[I 2024-06-25 02:14:26,908] Trial 356 finished with value: 0.8329544822319438 and parameters: {'boosting_type': 'goss', 'num_leaves': 17, 'max_depth': 38, 'learning_rate': 0.03687490916491304, 'n_estimators': 757, 'min_child_samples': 48, 'subsample': 0.7448132174818425, 'colsample_bytree': 0.7351531642421616, 'reg_alpha': 0.24792845505837716, 'reg_lambda': 2.2575717433235765, 'top_rate': 0.06452556625615906, 'other_rate': 0.4997807300426403, 'threshold': 55}. Best is trial 115 with value: 0.833337460463145.\n"
     ]
    },
    {
     "name": "stdout",
     "output_type": "stream",
     "text": [
      "Score: 0.8329544822319438\n",
      "Fold 1\n",
      "Fold 2\n",
      "Fold 3\n"
     ]
    },
    {
     "name": "stderr",
     "output_type": "stream",
     "text": [
      "[I 2024-06-25 02:14:45,822] Trial 357 finished with value: 0.8314595751870599 and parameters: {'boosting_type': 'goss', 'num_leaves': 8, 'max_depth': 39, 'learning_rate': 0.038040885881656376, 'n_estimators': 767, 'min_child_samples': 48, 'subsample': 0.7695800377234203, 'colsample_bytree': 0.7332651649382212, 'reg_alpha': 2.4116470714392707e-05, 'reg_lambda': 2.1691490227331465, 'top_rate': 0.060182427698872894, 'other_rate': 0.41094047405047673, 'threshold': 50}. Best is trial 115 with value: 0.833337460463145.\n"
     ]
    },
    {
     "name": "stdout",
     "output_type": "stream",
     "text": [
      "Score: 0.8314595751870599\n",
      "Fold 1\n",
      "Fold 2\n",
      "Fold 3\n"
     ]
    },
    {
     "name": "stderr",
     "output_type": "stream",
     "text": [
      "[I 2024-06-25 02:15:33,152] Trial 358 finished with value: 0.8244298592021857 and parameters: {'boosting_type': 'goss', 'num_leaves': 107, 'max_depth': 41, 'learning_rate': 0.09992810808969199, 'n_estimators': 703, 'min_child_samples': 51, 'subsample': 0.7424953567157898, 'colsample_bytree': 0.742828065190448, 'reg_alpha': 0.23681419246209803, 'reg_lambda': 0.22678756066038477, 'top_rate': 0.06912098536423329, 'other_rate': 0.49535036150478184, 'threshold': 55}. Best is trial 115 with value: 0.833337460463145.\n"
     ]
    },
    {
     "name": "stdout",
     "output_type": "stream",
     "text": [
      "Score: 0.8244298592021857\n",
      "Fold 1\n",
      "Fold 2\n",
      "Fold 3\n"
     ]
    },
    {
     "name": "stderr",
     "output_type": "stream",
     "text": [
      "[I 2024-06-25 02:15:58,493] Trial 359 finished with value: 0.8321761475854661 and parameters: {'boosting_type': 'goss', 'num_leaves': 14, 'max_depth': 38, 'learning_rate': 0.04136958038162777, 'n_estimators': 900, 'min_child_samples': 50, 'subsample': 0.7320550677419398, 'colsample_bytree': 0.7017979742995589, 'reg_alpha': 0.17172989137784728, 'reg_lambda': 1.3248208121120222, 'top_rate': 0.05812546602903643, 'other_rate': 0.3779678233116901, 'threshold': 52}. Best is trial 115 with value: 0.833337460463145.\n"
     ]
    },
    {
     "name": "stdout",
     "output_type": "stream",
     "text": [
      "Score: 0.8321761475854661\n",
      "Fold 1\n",
      "Fold 2\n",
      "Fold 3\n"
     ]
    },
    {
     "name": "stderr",
     "output_type": "stream",
     "text": [
      "[I 2024-06-25 02:16:18,466] Trial 360 finished with value: 0.8315954687091075 and parameters: {'boosting_type': 'goss', 'num_leaves': 16, 'max_depth': 23, 'learning_rate': 0.05169954273210702, 'n_estimators': 667, 'min_child_samples': 47, 'subsample': 0.7611077076642891, 'colsample_bytree': 0.7253087740177083, 'reg_alpha': 0.0027828567325985406, 'reg_lambda': 0.11583936440407722, 'top_rate': 0.04744710077206741, 'other_rate': 0.36977663055485255, 'threshold': 54}. Best is trial 115 with value: 0.833337460463145.\n"
     ]
    },
    {
     "name": "stdout",
     "output_type": "stream",
     "text": [
      "Score: 0.8315954687091075\n",
      "Fold 1\n",
      "Fold 2\n",
      "Fold 3\n"
     ]
    },
    {
     "name": "stderr",
     "output_type": "stream",
     "text": [
      "[I 2024-06-25 02:16:48,398] Trial 361 finished with value: 0.8232561795881456 and parameters: {'boosting_type': 'goss', 'num_leaves': 20, 'max_depth': 46, 'learning_rate': 0.14207492243076206, 'n_estimators': 911, 'min_child_samples': 53, 'subsample': 0.7571093266185045, 'colsample_bytree': 0.755012011672377, 'reg_alpha': 3.9709690688308397e-07, 'reg_lambda': 0.003099210350846023, 'top_rate': 0.07991613125667106, 'other_rate': 0.398877746251549, 'threshold': 69}. Best is trial 115 with value: 0.833337460463145.\n"
     ]
    },
    {
     "name": "stdout",
     "output_type": "stream",
     "text": [
      "Score: 0.8232561795881456\n",
      "Fold 1\n",
      "Fold 2\n",
      "Fold 3\n"
     ]
    },
    {
     "name": "stderr",
     "output_type": "stream",
     "text": [
      "[I 2024-06-25 02:17:08,872] Trial 362 finished with value: 0.8322749807364739 and parameters: {'boosting_type': 'goss', 'num_leaves': 11, 'max_depth': 36, 'learning_rate': 0.030585806014819875, 'n_estimators': 880, 'min_child_samples': 61, 'subsample': 0.7476109054007837, 'colsample_bytree': 0.8212151959543351, 'reg_alpha': 0.29829615418310096, 'reg_lambda': 0.7622026119592377, 'top_rate': 0.0871065105341894, 'other_rate': 0.4989074468388375, 'threshold': 56}. Best is trial 115 with value: 0.833337460463145.\n"
     ]
    },
    {
     "name": "stdout",
     "output_type": "stream",
     "text": [
      "Score: 0.8322749807364739\n",
      "Fold 1\n",
      "Fold 2\n",
      "Fold 3\n"
     ]
    },
    {
     "name": "stderr",
     "output_type": "stream",
     "text": [
      "[I 2024-06-25 02:17:34,627] Trial 363 finished with value: 0.8318302017928824 and parameters: {'boosting_type': 'gbdt', 'num_leaves': 21, 'max_depth': 39, 'learning_rate': 0.022372975168897666, 'n_estimators': 863, 'min_child_samples': 46, 'subsample': 0.694029882374211, 'colsample_bytree': 0.7163264365091979, 'reg_alpha': 0.11119399840797756, 'reg_lambda': 6.805541234443755e-05, 'threshold': 57}. Best is trial 115 with value: 0.833337460463145.\n"
     ]
    },
    {
     "name": "stdout",
     "output_type": "stream",
     "text": [
      "Score: 0.8318302017928824\n",
      "Fold 1\n",
      "Fold 2\n",
      "Fold 3\n"
     ]
    },
    {
     "name": "stderr",
     "output_type": "stream",
     "text": [
      "[I 2024-06-25 02:18:23,034] Trial 364 finished with value: 0.7683032277232273 and parameters: {'boosting_type': 'goss', 'num_leaves': 51, 'max_depth': 37, 'learning_rate': 0.0004089379677757834, 'n_estimators': 958, 'min_child_samples': 49, 'subsample': 0.6457456812303352, 'colsample_bytree': 0.7343450502435478, 'reg_alpha': 0.41665016494518126, 'reg_lambda': 2.4138669858327632e-05, 'top_rate': 0.07168850519803024, 'other_rate': 0.4899377927827529, 'threshold': 65}. Best is trial 115 with value: 0.833337460463145.\n"
     ]
    },
    {
     "name": "stdout",
     "output_type": "stream",
     "text": [
      "Score: 0.7683032277232273\n",
      "Fold 1\n",
      "Fold 2\n",
      "Fold 3\n"
     ]
    },
    {
     "name": "stderr",
     "output_type": "stream",
     "text": [
      "[I 2024-06-25 02:18:54,809] Trial 365 finished with value: 0.8310889417126094 and parameters: {'boosting_type': 'goss', 'num_leaves': 17, 'max_depth': 42, 'learning_rate': 0.011940977174194975, 'n_estimators': 924, 'min_child_samples': 48, 'subsample': 0.7439172679507935, 'colsample_bytree': 0.6527099099196901, 'reg_alpha': 1.2224641176554026e-07, 'reg_lambda': 0.3539992279384491, 'top_rate': 0.09452454871350345, 'other_rate': 0.40337967853230056, 'threshold': 49}. Best is trial 115 with value: 0.833337460463145.\n"
     ]
    },
    {
     "name": "stdout",
     "output_type": "stream",
     "text": [
      "Score: 0.8310889417126094\n",
      "Fold 1\n",
      "Fold 2\n",
      "Fold 3\n"
     ]
    },
    {
     "name": "stderr",
     "output_type": "stream",
     "text": [
      "[I 2024-06-25 02:23:13,119] Trial 366 finished with value: 0.8301623440602718 and parameters: {'boosting_type': 'dart', 'num_leaves': 26, 'max_depth': 26, 'learning_rate': 0.02617032688253071, 'n_estimators': 966, 'min_child_samples': 59, 'subsample': 0.6254950894441595, 'colsample_bytree': 0.6255626376564251, 'reg_alpha': 0.0008880285865703873, 'reg_lambda': 6.425802960920419e-07, 'drop_rate': 0.22802407785290651, 'skip_drop': 0.5082430409894039, 'threshold': 62}. Best is trial 115 with value: 0.833337460463145.\n"
     ]
    },
    {
     "name": "stdout",
     "output_type": "stream",
     "text": [
      "Score: 0.8301623440602718\n",
      "Fold 1\n",
      "Fold 2\n",
      "Fold 3\n"
     ]
    },
    {
     "name": "stderr",
     "output_type": "stream",
     "text": [
      "[I 2024-06-25 02:23:31,368] Trial 367 finished with value: 0.475538039576432 and parameters: {'boosting_type': 'goss', 'num_leaves': 5, 'max_depth': 36, 'learning_rate': 7.513555064902691e-05, 'n_estimators': 941, 'min_child_samples': 52, 'subsample': 0.6590405299678054, 'colsample_bytree': 0.6731139737935475, 'reg_alpha': 0.22828874226772278, 'reg_lambda': 0.0012468757384642797, 'top_rate': 0.16205701883736723, 'other_rate': 0.4737359525899995, 'threshold': 58}. Best is trial 115 with value: 0.833337460463145.\n"
     ]
    },
    {
     "name": "stdout",
     "output_type": "stream",
     "text": [
      "Score: 0.475538039576432\n",
      "Fold 1\n",
      "Fold 2\n",
      "Fold 3\n"
     ]
    },
    {
     "name": "stderr",
     "output_type": "stream",
     "text": [
      "[I 2024-06-25 02:24:08,086] Trial 368 finished with value: 0.475538039576432 and parameters: {'boosting_type': 'goss', 'num_leaves': 44, 'max_depth': 38, 'learning_rate': 5.137820974591061e-08, 'n_estimators': 805, 'min_child_samples': 46, 'subsample': 0.7190647809459749, 'colsample_bytree': 0.6412247831681106, 'reg_alpha': 0.06467638986303088, 'reg_lambda': 4.6254867485176945, 'top_rate': 0.18510101741556184, 'other_rate': 0.4844735938859533, 'threshold': 53}. Best is trial 115 with value: 0.833337460463145.\n"
     ]
    },
    {
     "name": "stdout",
     "output_type": "stream",
     "text": [
      "Score: 0.475538039576432\n",
      "Fold 1\n",
      "Fold 2\n",
      "Fold 3\n"
     ]
    },
    {
     "name": "stderr",
     "output_type": "stream",
     "text": [
      "[I 2024-06-25 02:24:33,846] Trial 369 finished with value: 0.825294655226316 and parameters: {'boosting_type': 'goss', 'num_leaves': 23, 'max_depth': 35, 'learning_rate': 0.19781497328640774, 'n_estimators': 954, 'min_child_samples': 50, 'subsample': 0.6385878802893706, 'colsample_bytree': 0.7438329602026412, 'reg_alpha': 0.14535285427667427, 'reg_lambda': 1.894800554784676, 'top_rate': 0.4904141807088333, 'other_rate': 0.37150070940159574, 'threshold': 46}. Best is trial 115 with value: 0.833337460463145.\n"
     ]
    },
    {
     "name": "stdout",
     "output_type": "stream",
     "text": [
      "Score: 0.825294655226316\n",
      "Fold 1\n",
      "Fold 2\n",
      "Fold 3\n"
     ]
    },
    {
     "name": "stderr",
     "output_type": "stream",
     "text": [
      "[I 2024-06-25 02:25:45,547] Trial 370 finished with value: 0.8211559041534019 and parameters: {'boosting_type': 'goss', 'num_leaves': 115, 'max_depth': 40, 'learning_rate': 0.0010320817566205648, 'n_estimators': 980, 'min_child_samples': 54, 'subsample': 0.6109707026356069, 'colsample_bytree': 0.5932146289622479, 'reg_alpha': 0.3494898010574462, 'reg_lambda': 0.013444032301055705, 'top_rate': 0.14531179599848568, 'other_rate': 0.49059086987476463, 'threshold': 66}. Best is trial 115 with value: 0.833337460463145.\n"
     ]
    },
    {
     "name": "stdout",
     "output_type": "stream",
     "text": [
      "Score: 0.8211559041534019\n",
      "Fold 1\n",
      "Fold 2\n",
      "Fold 3\n"
     ]
    },
    {
     "name": "stderr",
     "output_type": "stream",
     "text": [
      "[I 2024-06-25 02:26:29,311] Trial 371 finished with value: 0.828556266892075 and parameters: {'boosting_type': 'goss', 'num_leaves': 49, 'max_depth': 28, 'learning_rate': 0.003979582276001948, 'n_estimators': 924, 'min_child_samples': 44, 'subsample': 0.7080593072790567, 'colsample_bytree': 0.6902635466215294, 'reg_alpha': 0.003007132234552199, 'reg_lambda': 0.004524104839093593, 'top_rate': 0.06317714133037207, 'other_rate': 0.4999216957407639, 'threshold': 63}. Best is trial 115 with value: 0.833337460463145.\n"
     ]
    },
    {
     "name": "stdout",
     "output_type": "stream",
     "text": [
      "Score: 0.828556266892075\n",
      "Fold 1\n",
      "Fold 2\n",
      "Fold 3\n"
     ]
    },
    {
     "name": "stderr",
     "output_type": "stream",
     "text": [
      "[I 2024-06-25 02:26:52,047] Trial 372 finished with value: 0.8130760431246188 and parameters: {'boosting_type': 'goss', 'num_leaves': 15, 'max_depth': 30, 'learning_rate': 0.414334736150279, 'n_estimators': 969, 'min_child_samples': 48, 'subsample': 0.7886282911021304, 'colsample_bytree': 0.7070898464625102, 'reg_alpha': 1.0969948041235988, 'reg_lambda': 0.5821051452098812, 'top_rate': 0.08446349947353675, 'other_rate': 0.4723869665202698, 'threshold': 59}. Best is trial 115 with value: 0.833337460463145.\n"
     ]
    },
    {
     "name": "stdout",
     "output_type": "stream",
     "text": [
      "Score: 0.8130760431246188\n",
      "Fold 1\n",
      "Fold 2\n",
      "Fold 3\n"
     ]
    },
    {
     "name": "stderr",
     "output_type": "stream",
     "text": [
      "[I 2024-06-25 02:27:21,896] Trial 373 finished with value: 0.831323667927756 and parameters: {'boosting_type': 'goss', 'num_leaves': 28, 'max_depth': 38, 'learning_rate': 0.058571657803763603, 'n_estimators': 941, 'min_child_samples': 52, 'subsample': 0.8962100759484399, 'colsample_bytree': 0.7750537959880139, 'reg_alpha': 0.22853462579329895, 'reg_lambda': 1.3463963618162547, 'top_rate': 0.12393050138836015, 'other_rate': 0.4518432983214958, 'threshold': 56}. Best is trial 115 with value: 0.833337460463145.\n"
     ]
    },
    {
     "name": "stdout",
     "output_type": "stream",
     "text": [
      "Score: 0.831323667927756\n",
      "Fold 1\n",
      "Fold 2\n",
      "Fold 3\n"
     ]
    },
    {
     "name": "stderr",
     "output_type": "stream",
     "text": [
      "[I 2024-06-25 02:28:05,307] Trial 374 finished with value: 0.8329421164113996 and parameters: {'boosting_type': 'goss', 'num_leaves': 42, 'max_depth': 33, 'learning_rate': 0.016981042131600666, 'n_estimators': 893, 'min_child_samples': 46, 'subsample': 0.6802418074372122, 'colsample_bytree': 0.570286104513873, 'reg_alpha': 0.44606910681725237, 'reg_lambda': 2.4823470491507913, 'top_rate': 0.0988897314115979, 'other_rate': 0.39815318415774725, 'threshold': 61}. Best is trial 115 with value: 0.833337460463145.\n"
     ]
    },
    {
     "name": "stdout",
     "output_type": "stream",
     "text": [
      "Score: 0.8329421164113996\n",
      "Fold 1\n",
      "Fold 2\n",
      "Fold 3\n"
     ]
    },
    {
     "name": "stderr",
     "output_type": "stream",
     "text": [
      "[I 2024-06-25 02:28:47,371] Trial 375 finished with value: 0.8316448953585995 and parameters: {'boosting_type': 'goss', 'num_leaves': 43, 'max_depth': 32, 'learning_rate': 0.007913162602035707, 'n_estimators': 936, 'min_child_samples': 46, 'subsample': 0.6716384038518345, 'colsample_bytree': 0.5434248857000559, 'reg_alpha': 3.7334352720213255e-06, 'reg_lambda': 2.8337783082422234, 'top_rate': 0.09271177921634896, 'other_rate': 0.46550345742812577, 'threshold': 61}. Best is trial 115 with value: 0.833337460463145.\n"
     ]
    },
    {
     "name": "stdout",
     "output_type": "stream",
     "text": [
      "Score: 0.8316448953585995\n",
      "Fold 1\n",
      "Fold 2\n",
      "Fold 3\n"
     ]
    },
    {
     "name": "stderr",
     "output_type": "stream",
     "text": [
      "[I 2024-06-25 02:29:26,108] Trial 376 finished with value: 0.8326085469712569 and parameters: {'boosting_type': 'goss', 'num_leaves': 40, 'max_depth': 33, 'learning_rate': 0.014338318597271074, 'n_estimators': 897, 'min_child_samples': 49, 'subsample': 0.6796464293547898, 'colsample_bytree': 0.6210440972692137, 'reg_alpha': 1.7363756141579599e-06, 'reg_lambda': 7.160692140814964, 'top_rate': 0.07680477831895638, 'other_rate': 0.43156237545185383, 'threshold': 64}. Best is trial 115 with value: 0.833337460463145.\n"
     ]
    },
    {
     "name": "stdout",
     "output_type": "stream",
     "text": [
      "Score: 0.8326085469712569\n",
      "Fold 1\n",
      "Fold 2\n",
      "Fold 3\n"
     ]
    },
    {
     "name": "stderr",
     "output_type": "stream",
     "text": [
      "[I 2024-06-25 02:30:00,963] Trial 377 finished with value: 0.8327938515739054 and parameters: {'boosting_type': 'goss', 'num_leaves': 49, 'max_depth': 30, 'learning_rate': 0.01807630800658604, 'n_estimators': 747, 'min_child_samples': 62, 'subsample': 0.6513052036857636, 'colsample_bytree': 0.535269622900896, 'reg_alpha': 2.1533644907377205e-07, 'reg_lambda': 3.80084560163672, 'top_rate': 0.17652507231726713, 'other_rate': 0.4781144963103785, 'threshold': 61}. Best is trial 115 with value: 0.833337460463145.\n"
     ]
    },
    {
     "name": "stdout",
     "output_type": "stream",
     "text": [
      "Score: 0.8327938515739054\n",
      "Fold 1\n",
      "Fold 2\n",
      "Fold 3\n"
     ]
    },
    {
     "name": "stderr",
     "output_type": "stream",
     "text": [
      "[I 2024-06-25 02:30:37,233] Trial 378 finished with value: 0.8321514305974516 and parameters: {'boosting_type': 'goss', 'num_leaves': 37, 'max_depth': 31, 'learning_rate': 0.00957288695833288, 'n_estimators': 903, 'min_child_samples': 51, 'subsample': 0.636135565339003, 'colsample_bytree': 0.6321864064247308, 'reg_alpha': 2.0999414365651094e-06, 'reg_lambda': 0.07747251203798505, 'top_rate': 0.0991904615760619, 'other_rate': 0.40115304441492783, 'threshold': 64}. Best is trial 115 with value: 0.833337460463145.\n"
     ]
    },
    {
     "name": "stdout",
     "output_type": "stream",
     "text": [
      "Score: 0.8321514305974516\n",
      "Fold 1\n",
      "Fold 2\n",
      "Fold 3\n"
     ]
    },
    {
     "name": "stderr",
     "output_type": "stream",
     "text": [
      "[I 2024-06-25 02:31:24,274] Trial 379 finished with value: 0.8256406074296194 and parameters: {'boosting_type': 'goss', 'num_leaves': 55, 'max_depth': 34, 'learning_rate': 0.002416239351884082, 'n_estimators': 917, 'min_child_samples': 58, 'subsample': 0.6652866143526821, 'colsample_bytree': 0.649092048370101, 'reg_alpha': 0.00015690922861993432, 'reg_lambda': 2.406767902732719, 'top_rate': 0.22908287203376743, 'other_rate': 0.4196908546178074, 'threshold': 68}. Best is trial 115 with value: 0.833337460463145.\n"
     ]
    },
    {
     "name": "stdout",
     "output_type": "stream",
     "text": [
      "Score: 0.8256406074296194\n",
      "Fold 1\n",
      "Fold 2\n",
      "Fold 3\n"
     ]
    },
    {
     "name": "stderr",
     "output_type": "stream",
     "text": [
      "[I 2024-06-25 02:32:04,629] Trial 380 finished with value: 0.8255664789030951 and parameters: {'boosting_type': 'goss', 'num_leaves': 44, 'max_depth': 33, 'learning_rate': 0.08708598765626326, 'n_estimators': 874, 'min_child_samples': 82, 'subsample': 0.6241820225359892, 'colsample_bytree': 0.6002687203319056, 'reg_alpha': 3.183625287881094e-08, 'reg_lambda': 3.4137533332804287e-06, 'top_rate': 0.05386397405716741, 'other_rate': 0.3831954508638506, 'threshold': 62}. Best is trial 115 with value: 0.833337460463145.\n"
     ]
    },
    {
     "name": "stdout",
     "output_type": "stream",
     "text": [
      "Score: 0.8255664789030951\n",
      "Fold 1\n",
      "Fold 2\n",
      "Fold 3\n"
     ]
    },
    {
     "name": "stderr",
     "output_type": "stream",
     "text": [
      "[I 2024-06-25 02:32:42,144] Trial 381 finished with value: 0.8322008526678583 and parameters: {'boosting_type': 'goss', 'num_leaves': 34, 'max_depth': 29, 'learning_rate': 0.012672695104026794, 'n_estimators': 825, 'min_child_samples': 47, 'subsample': 0.6488273713206084, 'colsample_bytree': 0.5598354745401428, 'reg_alpha': 0.01722637338066696, 'reg_lambda': 0.17754174635929315, 'top_rate': 0.06776940696402362, 'other_rate': 0.40866102386949965, 'threshold': 59}. Best is trial 115 with value: 0.833337460463145.\n"
     ]
    },
    {
     "name": "stdout",
     "output_type": "stream",
     "text": [
      "Score: 0.8322008526678583\n",
      "Fold 1\n",
      "Fold 2\n",
      "Fold 3\n"
     ]
    },
    {
     "name": "stderr",
     "output_type": "stream",
     "text": [
      "[I 2024-06-25 02:33:29,939] Trial 382 finished with value: 0.8302241209614171 and parameters: {'boosting_type': 'goss', 'num_leaves': 47, 'max_depth': 27, 'learning_rate': 0.0053362788190690165, 'n_estimators': 916, 'min_child_samples': 8, 'subsample': 0.6082555637043889, 'colsample_bytree': 0.6176281071065737, 'reg_alpha': 5.599602946129873e-07, 'reg_lambda': 0.04918583058664335, 'top_rate': 0.08394962063281228, 'other_rate': 0.3656275051515884, 'threshold': 66}. Best is trial 115 with value: 0.833337460463145.\n"
     ]
    },
    {
     "name": "stdout",
     "output_type": "stream",
     "text": [
      "Score: 0.8302241209614171\n",
      "Fold 1\n",
      "Fold 2\n",
      "Fold 3\n"
     ]
    },
    {
     "name": "stderr",
     "output_type": "stream",
     "text": [
      "[I 2024-06-25 02:34:14,383] Trial 383 finished with value: 0.475538039576432 and parameters: {'boosting_type': 'goss', 'num_leaves': 40, 'max_depth': 35, 'learning_rate': 1.459795162795234e-06, 'n_estimators': 951, 'min_child_samples': 55, 'subsample': 0.6202204348537942, 'colsample_bytree': 0.6403806205426631, 'reg_alpha': 9.786785377035814, 'reg_lambda': 5.182023149489539, 'top_rate': 0.008925155537893692, 'other_rate': 0.39341136253573944, 'threshold': 60}. Best is trial 115 with value: 0.833337460463145.\n"
     ]
    },
    {
     "name": "stdout",
     "output_type": "stream",
     "text": [
      "Score: 0.475538039576432\n",
      "Fold 1\n",
      "Fold 2\n",
      "Fold 3\n"
     ]
    },
    {
     "name": "stderr",
     "output_type": "stream",
     "text": [
      "[I 2024-06-25 02:34:48,397] Trial 384 finished with value: 0.8313360250480376 and parameters: {'boosting_type': 'gbdt', 'num_leaves': 59, 'max_depth': 31, 'learning_rate': 0.03541803940363465, 'n_estimators': 930, 'min_child_samples': 50, 'subsample': 0.6913534952231786, 'colsample_bytree': 0.5691345514939419, 'reg_alpha': 0.030200277017584737, 'reg_lambda': 0.018089704563402573, 'threshold': 3}. Best is trial 115 with value: 0.833337460463145.\n"
     ]
    },
    {
     "name": "stdout",
     "output_type": "stream",
     "text": [
      "Score: 0.8313360250480376\n",
      "Fold 1\n",
      "Fold 2\n",
      "Fold 3\n"
     ]
    },
    {
     "name": "stderr",
     "output_type": "stream",
     "text": [
      "[I 2024-06-25 02:35:40,397] Trial 385 finished with value: 0.832633244727112 and parameters: {'boosting_type': 'goss', 'num_leaves': 67, 'max_depth': 25, 'learning_rate': 0.019799295009086795, 'n_estimators': 962, 'min_child_samples': 45, 'subsample': 0.5006668385084425, 'colsample_bytree': 0.6598586674857561, 'reg_alpha': 0.752210452347486, 'reg_lambda': 7.0666133816219645, 'top_rate': 0.10430180956262479, 'other_rate': 0.4870945522825993, 'threshold': 71}. Best is trial 115 with value: 0.833337460463145.\n"
     ]
    },
    {
     "name": "stdout",
     "output_type": "stream",
     "text": [
      "Score: 0.832633244727112\n",
      "Fold 1\n",
      "Fold 2\n",
      "Fold 3\n"
     ]
    },
    {
     "name": "stderr",
     "output_type": "stream",
     "text": [
      "[I 2024-06-25 02:36:12,922] Trial 386 finished with value: 0.8321884813524113 and parameters: {'boosting_type': 'goss', 'num_leaves': 31, 'max_depth': 34, 'learning_rate': 0.01525026229114314, 'n_estimators': 895, 'min_child_samples': 48, 'subsample': 0.794665100022405, 'colsample_bytree': 0.6312457969787807, 'reg_alpha': 0.47466377351247946, 'reg_lambda': 0.00017768597153650247, 'top_rate': 0.13560646166168028, 'other_rate': 0.46297320309947704, 'threshold': 63}. Best is trial 115 with value: 0.833337460463145.\n"
     ]
    },
    {
     "name": "stdout",
     "output_type": "stream",
     "text": [
      "Score: 0.8321884813524113\n",
      "Fold 1\n",
      "Fold 2\n",
      "Fold 3\n"
     ]
    },
    {
     "name": "stderr",
     "output_type": "stream",
     "text": [
      "[I 2024-06-25 02:36:49,242] Trial 387 finished with value: 0.8194386371718242 and parameters: {'boosting_type': 'goss', 'num_leaves': 50, 'max_depth': 32, 'learning_rate': 0.27603605273514126, 'n_estimators': 948, 'min_child_samples': 53, 'subsample': 0.8053906063924848, 'colsample_bytree': 0.6252692192403795, 'reg_alpha': 2.516474935267211e-08, 'reg_lambda': 0.010301136581303572, 'top_rate': 0.16693937868574987, 'other_rate': 0.43704486784319935, 'threshold': 58}. Best is trial 115 with value: 0.833337460463145.\n"
     ]
    },
    {
     "name": "stdout",
     "output_type": "stream",
     "text": [
      "Score: 0.8194386371718242\n",
      "Fold 1\n",
      "Fold 2\n",
      "Fold 3\n"
     ]
    },
    {
     "name": "stderr",
     "output_type": "stream",
     "text": [
      "[I 2024-06-25 02:37:31,189] Trial 388 finished with value: 0.8311630619967797 and parameters: {'boosting_type': 'goss', 'num_leaves': 40, 'max_depth': 28, 'learning_rate': 0.007736595768794384, 'n_estimators': 848, 'min_child_samples': 47, 'subsample': 0.6305141941048846, 'colsample_bytree': 0.6074817955981231, 'reg_alpha': 1.7305911340599426e-06, 'reg_lambda': 4.1745364482650984e-05, 'top_rate': 0.047739612513310103, 'other_rate': 0.4461475026838111, 'threshold': 61}. Best is trial 115 with value: 0.833337460463145.\n"
     ]
    },
    {
     "name": "stdout",
     "output_type": "stream",
     "text": [
      "Score: 0.8311630619967797\n",
      "Fold 1\n",
      "Fold 2\n",
      "Fold 3\n"
     ]
    },
    {
     "name": "stderr",
     "output_type": "stream",
     "text": [
      "[I 2024-06-25 02:40:07,680] Trial 389 finished with value: 0.8322379153284403 and parameters: {'boosting_type': 'dart', 'num_leaves': 29, 'max_depth': 37, 'learning_rate': 0.04077303132672018, 'n_estimators': 972, 'min_child_samples': 57, 'subsample': 0.6021344410206342, 'colsample_bytree': 0.5723062345549397, 'reg_alpha': 8.652072604591687e-06, 'reg_lambda': 1.7388774537122091, 'drop_rate': 0.21364049214663994, 'skip_drop': 0.7545943180179138, 'threshold': 67}. Best is trial 115 with value: 0.833337460463145.\n"
     ]
    },
    {
     "name": "stdout",
     "output_type": "stream",
     "text": [
      "Score: 0.8322379153284403\n",
      "Fold 1\n",
      "Fold 2\n",
      "Fold 3\n"
     ]
    },
    {
     "name": "stderr",
     "output_type": "stream",
     "text": [
      "[I 2024-06-25 02:40:45,871] Trial 390 finished with value: 0.8327814967431667 and parameters: {'boosting_type': 'goss', 'num_leaves': 54, 'max_depth': 35, 'learning_rate': 0.02421868381343403, 'n_estimators': 929, 'min_child_samples': 60, 'subsample': 0.8554586235932431, 'colsample_bytree': 0.6806121553851326, 'reg_alpha': 1.4374274260160836e-08, 'reg_lambda': 0.0019498973638741345, 'top_rate': 0.09600793094059833, 'other_rate': 0.47588086870429536, 'threshold': 64}. Best is trial 115 with value: 0.833337460463145.\n"
     ]
    },
    {
     "name": "stdout",
     "output_type": "stream",
     "text": [
      "Score: 0.8327814967431667\n",
      "Fold 1\n",
      "Fold 2\n",
      "Fold 3\n"
     ]
    },
    {
     "name": "stderr",
     "output_type": "stream",
     "text": [
      "[I 2024-06-25 02:41:21,952] Trial 391 finished with value: 0.8291245611736388 and parameters: {'boosting_type': 'goss', 'num_leaves': 45, 'max_depth': 33, 'learning_rate': 0.06162217134235877, 'n_estimators': 955, 'min_child_samples': 45, 'subsample': 0.662308257065379, 'colsample_bytree': 0.6505092986049416, 'reg_alpha': 1.6357694814768062, 'reg_lambda': 3.060788363601789, 'top_rate': 0.11136371692859101, 'other_rate': 0.4999856248537568, 'threshold': 62}. Best is trial 115 with value: 0.833337460463145.\n"
     ]
    },
    {
     "name": "stdout",
     "output_type": "stream",
     "text": [
      "Score: 0.8291245611736388\n",
      "Fold 1\n",
      "Fold 2\n",
      "Fold 3\n"
     ]
    },
    {
     "name": "stderr",
     "output_type": "stream",
     "text": [
      "[I 2024-06-25 02:41:50,623] Trial 392 finished with value: 0.8316819571033646 and parameters: {'boosting_type': 'goss', 'num_leaves': 25, 'max_depth': 31, 'learning_rate': 0.010236401232992322, 'n_estimators': 976, 'min_child_samples': 51, 'subsample': 0.7542825905152095, 'colsample_bytree': 0.6388755656152136, 'reg_alpha': 0.0005146684893721092, 'reg_lambda': 0.27838746095431266, 'top_rate': 0.07927216788016633, 'other_rate': 0.48946648942604576, 'threshold': 59}. Best is trial 115 with value: 0.833337460463145.\n"
     ]
    },
    {
     "name": "stdout",
     "output_type": "stream",
     "text": [
      "Score: 0.8316819571033646\n",
      "Fold 1\n",
      "Fold 2\n",
      "Fold 3\n"
     ]
    },
    {
     "name": "stderr",
     "output_type": "stream",
     "text": [
      "[I 2024-06-25 02:42:22,594] Trial 393 finished with value: 0.475538039576432 and parameters: {'boosting_type': 'goss', 'num_leaves': 32, 'max_depth': 39, 'learning_rate': 0.0001200667702712154, 'n_estimators': 882, 'min_child_samples': 55, 'subsample': 0.6138377299189671, 'colsample_bytree': 0.7827135986552805, 'reg_alpha': 6.352363406470649e-08, 'reg_lambda': 2.2210371350151383e-06, 'top_rate': 0.08865029809114142, 'other_rate': 0.4573832511113515, 'threshold': 65}. Best is trial 115 with value: 0.833337460463145.\n"
     ]
    },
    {
     "name": "stdout",
     "output_type": "stream",
     "text": [
      "Score: 0.475538039576432\n",
      "Fold 1\n",
      "Fold 2\n",
      "Fold 3\n"
     ]
    },
    {
     "name": "stderr",
     "output_type": "stream",
     "text": [
      "[I 2024-06-25 02:42:58,612] Trial 394 finished with value: 0.8196980771696255 and parameters: {'boosting_type': 'goss', 'num_leaves': 35, 'max_depth': 29, 'learning_rate': 0.0013533791011647888, 'n_estimators': 941, 'min_child_samples': 48, 'subsample': 0.6419888784180084, 'colsample_bytree': 0.8887866454927517, 'reg_alpha': 0.001495906654830903, 'reg_lambda': 0.11444564400095604, 'top_rate': 0.15677654640417904, 'other_rate': 0.47851122372887367, 'threshold': 57}. Best is trial 115 with value: 0.833337460463145.\n"
     ]
    },
    {
     "name": "stdout",
     "output_type": "stream",
     "text": [
      "Score: 0.8196980771696255\n",
      "Fold 1\n",
      "Fold 2\n",
      "Fold 3\n"
     ]
    },
    {
     "name": "stderr",
     "output_type": "stream",
     "text": [
      "[I 2024-06-25 02:43:32,783] Trial 395 finished with value: 0.8324232203889975 and parameters: {'boosting_type': 'goss', 'num_leaves': 42, 'max_depth': 36, 'learning_rate': 0.018501332496079978, 'n_estimators': 911, 'min_child_samples': 44, 'subsample': 0.8173976704751449, 'colsample_bytree': 0.620659605124082, 'reg_alpha': 0.6058152202889544, 'reg_lambda': 4.44624385738715, 'top_rate': 0.19421889952116644, 'other_rate': 0.4677934555881346, 'threshold': 60}. Best is trial 115 with value: 0.833337460463145.\n"
     ]
    },
    {
     "name": "stdout",
     "output_type": "stream",
     "text": [
      "Score: 0.8324232203889975\n",
      "Fold 1\n",
      "Fold 2\n",
      "Fold 3\n"
     ]
    },
    {
     "name": "stderr",
     "output_type": "stream",
     "text": [
      "[I 2024-06-25 02:43:58,180] Trial 396 finished with value: 0.8314348614044054 and parameters: {'boosting_type': 'goss', 'num_leaves': 61, 'max_depth': 34, 'learning_rate': 0.030875231187064537, 'n_estimators': 566, 'min_child_samples': 50, 'subsample': 0.6847442178228886, 'colsample_bytree': 0.6672484132286651, 'reg_alpha': 0.005557220181689421, 'reg_lambda': 2.5659017394356754e-05, 'top_rate': 0.0704655477793668, 'other_rate': 0.4856578356883658, 'threshold': 62}. Best is trial 115 with value: 0.833337460463145.\n"
     ]
    },
    {
     "name": "stdout",
     "output_type": "stream",
     "text": [
      "Score: 0.8314348614044054\n",
      "Fold 1\n",
      "Fold 2\n",
      "Fold 3\n"
     ]
    },
    {
     "name": "stderr",
     "output_type": "stream",
     "text": [
      "[I 2024-06-25 02:45:32,607] Trial 397 finished with value: 0.831842572192512 and parameters: {'boosting_type': 'goss', 'num_leaves': 218, 'max_depth': 37, 'learning_rate': 0.012710142494157431, 'n_estimators': 984, 'min_child_samples': 53, 'subsample': 0.7290121122717399, 'colsample_bytree': 0.8293030674427853, 'reg_alpha': 0.4082259699878362, 'reg_lambda': 9.809305484457504, 'top_rate': 0.10408618804578337, 'other_rate': 0.4744107218838189, 'threshold': 51}. Best is trial 115 with value: 0.833337460463145.\n"
     ]
    },
    {
     "name": "stdout",
     "output_type": "stream",
     "text": [
      "Score: 0.831842572192512\n",
      "Fold 1\n",
      "Fold 2\n",
      "Fold 3\n"
     ]
    },
    {
     "name": "stderr",
     "output_type": "stream",
     "text": [
      "[I 2024-06-25 02:45:57,841] Trial 398 finished with value: 0.8320031749181286 and parameters: {'boosting_type': 'goss', 'num_leaves': 22, 'max_depth': 26, 'learning_rate': 0.022204699252263947, 'n_estimators': 959, 'min_child_samples': 38, 'subsample': 0.8296822342369059, 'colsample_bytree': 0.6119233144440605, 'reg_alpha': 4.088615957251955e-06, 'reg_lambda': 0.030007287753031894, 'top_rate': 0.474666970209223, 'other_rate': 0.4298333494613264, 'threshold': 43}. Best is trial 115 with value: 0.833337460463145.\n"
     ]
    },
    {
     "name": "stdout",
     "output_type": "stream",
     "text": [
      "Score: 0.8320031749181286\n",
      "Fold 1\n",
      "Fold 2\n",
      "Fold 3\n"
     ]
    },
    {
     "name": "stderr",
     "output_type": "stream",
     "text": [
      "[I 2024-06-25 02:46:35,792] Trial 399 finished with value: 0.8303229554861508 and parameters: {'boosting_type': 'goss', 'num_leaves': 52, 'max_depth': 32, 'learning_rate': 0.044116982105267634, 'n_estimators': 1000, 'min_child_samples': 42, 'subsample': 0.7707365317827727, 'colsample_bytree': 0.7929112353293971, 'reg_alpha': 0.10036126586687945, 'reg_lambda': 0.0009916588190489962, 'top_rate': 0.14756540090513964, 'other_rate': 0.49067789475061124, 'threshold': 69}. Best is trial 115 with value: 0.833337460463145.\n"
     ]
    },
    {
     "name": "stdout",
     "output_type": "stream",
     "text": [
      "Score: 0.8303229554861508\n",
      "Fold 1\n",
      "Fold 2\n",
      "Fold 3\n"
     ]
    },
    {
     "name": "stderr",
     "output_type": "stream",
     "text": [
      "[I 2024-06-25 02:46:50,591] Trial 400 finished with value: 0.8173877659490535 and parameters: {'boosting_type': 'goss', 'num_leaves': 37, 'max_depth': 2, 'learning_rate': 0.00614178118159074, 'n_estimators': 929, 'min_child_samples': 46, 'subsample': 0.5992721977370895, 'colsample_bytree': 0.5855716346318731, 'reg_alpha': 0.16906265783976449, 'reg_lambda': 0.006991715059847761, 'top_rate': 0.2464054101168078, 'other_rate': 0.08865739603740264, 'threshold': 66}. Best is trial 115 with value: 0.833337460463145.\n"
     ]
    },
    {
     "name": "stdout",
     "output_type": "stream",
     "text": [
      "Score: 0.8173877659490535\n",
      "Fold 1\n",
      "Fold 2\n",
      "Fold 3\n"
     ]
    },
    {
     "name": "stderr",
     "output_type": "stream",
     "text": [
      "[I 2024-06-25 02:47:29,461] Trial 401 finished with value: 0.8325591216954904 and parameters: {'boosting_type': 'goss', 'num_leaves': 48, 'max_depth': 30, 'learning_rate': 0.016077680071997526, 'n_estimators': 968, 'min_child_samples': 49, 'subsample': 0.7406766659213693, 'colsample_bytree': 0.5534776781836902, 'reg_alpha': 0.9839695719545855, 'reg_lambda': 2.1215622138237338, 'top_rate': 0.12854893810359594, 'other_rate': 0.4490265711227496, 'threshold': 58}. Best is trial 115 with value: 0.833337460463145.\n"
     ]
    },
    {
     "name": "stdout",
     "output_type": "stream",
     "text": [
      "Score: 0.8325591216954904\n",
      "Fold 1\n",
      "Fold 2\n",
      "Fold 3\n"
     ]
    },
    {
     "name": "stderr",
     "output_type": "stream",
     "text": [
      "[I 2024-06-25 02:47:51,336] Trial 402 finished with value: 0.8325097087832548 and parameters: {'boosting_type': 'goss', 'num_leaves': 29, 'max_depth': 27, 'learning_rate': 0.030330764789869076, 'n_estimators': 612, 'min_child_samples': 57, 'subsample': 0.5683853973597947, 'colsample_bytree': 0.8039552359912033, 'reg_alpha': 9.570646403978695e-08, 'reg_lambda': 1.2600976731781104, 'top_rate': 0.11053146365601224, 'other_rate': 0.3475882192546985, 'threshold': 48}. Best is trial 115 with value: 0.833337460463145.\n"
     ]
    },
    {
     "name": "stdout",
     "output_type": "stream",
     "text": [
      "Score: 0.8325097087832548\n",
      "Fold 1\n",
      "Fold 2\n",
      "Fold 3\n"
     ]
    },
    {
     "name": "stderr",
     "output_type": "stream",
     "text": [
      "[I 2024-06-25 02:48:17,636] Trial 403 finished with value: 0.831187782190154 and parameters: {'boosting_type': 'goss', 'num_leaves': 21, 'max_depth': 33, 'learning_rate': 0.010571426018162845, 'n_estimators': 948, 'min_child_samples': 45, 'subsample': 0.6320978652380411, 'colsample_bytree': 0.531635588805034, 'reg_alpha': 0.009176845010933675, 'reg_lambda': 0.0002510032116716272, 'top_rate': 0.09530008391918385, 'other_rate': 0.46071574253442926, 'threshold': 63}. Best is trial 115 with value: 0.833337460463145.\n"
     ]
    },
    {
     "name": "stdout",
     "output_type": "stream",
     "text": [
      "Score: 0.831187782190154\n",
      "Fold 1\n",
      "Fold 2\n",
      "Fold 3\n"
     ]
    },
    {
     "name": "stderr",
     "output_type": "stream",
     "text": [
      "[I 2024-06-25 02:48:39,527] Trial 404 finished with value: 0.831138355540662 and parameters: {'boosting_type': 'goss', 'num_leaves': 11, 'max_depth': 35, 'learning_rate': 0.020506119206662652, 'n_estimators': 982, 'min_child_samples': 64, 'subsample': 0.7839545210702504, 'colsample_bytree': 0.9536873023201962, 'reg_alpha': 5.526911660235056, 'reg_lambda': 1.1012703626750425e-06, 'top_rate': 0.29433963506956184, 'other_rate': 0.48097282744824743, 'threshold': 60}. Best is trial 115 with value: 0.833337460463145.\n"
     ]
    },
    {
     "name": "stdout",
     "output_type": "stream",
     "text": [
      "Score: 0.831138355540662\n",
      "Fold 1\n",
      "Fold 2\n",
      "Fold 3\n"
     ]
    },
    {
     "name": "stderr",
     "output_type": "stream",
     "text": [
      "[I 2024-06-25 02:49:21,645] Trial 405 finished with value: 0.475538039576432 and parameters: {'boosting_type': 'goss', 'num_leaves': 44, 'max_depth': 40, 'learning_rate': 5.135208699841632e-05, 'n_estimators': 914, 'min_child_samples': 47, 'subsample': 0.6215922376870694, 'colsample_bytree': 0.695580503326029, 'reg_alpha': 0.335148942548039, 'reg_lambda': 0.1629456472647293, 'top_rate': 0.08155837596480367, 'other_rate': 0.3624290285638233, 'threshold': 54}. Best is trial 115 with value: 0.833337460463145.\n"
     ]
    },
    {
     "name": "stdout",
     "output_type": "stream",
     "text": [
      "Score: 0.475538039576432\n",
      "Fold 1\n",
      "Fold 2\n",
      "Fold 3\n"
     ]
    },
    {
     "name": "stderr",
     "output_type": "stream",
     "text": [
      "[I 2024-06-25 02:50:06,566] Trial 406 finished with value: 0.829186341280144 and parameters: {'boosting_type': 'goss', 'num_leaves': 57, 'max_depth': 37, 'learning_rate': 0.004032265553498884, 'n_estimators': 963, 'min_child_samples': 52, 'subsample': 0.5845644484872455, 'colsample_bytree': 0.6298849526509088, 'reg_alpha': 0.0022861711352348386, 'reg_lambda': 0.4215140777910433, 'top_rate': 0.14188741477691325, 'other_rate': 0.4995689979150886, 'threshold': 65}. Best is trial 115 with value: 0.833337460463145.\n"
     ]
    },
    {
     "name": "stdout",
     "output_type": "stream",
     "text": [
      "Score: 0.829186341280144\n",
      "Fold 1\n",
      "Fold 2\n",
      "Fold 3\n"
     ]
    },
    {
     "name": "stderr",
     "output_type": "stream",
     "text": [
      "[I 2024-06-25 02:50:31,434] Trial 407 finished with value: 0.8281238313315082 and parameters: {'boosting_type': 'goss', 'num_leaves': 26, 'max_depth': 34, 'learning_rate': 0.07763816653316923, 'n_estimators': 938, 'min_child_samples': 41, 'subsample': 0.6533696293167891, 'colsample_bytree': 0.7643485904731944, 'reg_alpha': 3.5892437678257263e-08, 'reg_lambda': 0.00011096818362319605, 'top_rate': 0.059535000757084934, 'other_rate': 0.4696435342640018, 'threshold': 56}. Best is trial 115 with value: 0.833337460463145.\n"
     ]
    },
    {
     "name": "stdout",
     "output_type": "stream",
     "text": [
      "Score: 0.8281238313315082\n",
      "Fold 1\n",
      "Fold 2\n",
      "Fold 3\n"
     ]
    },
    {
     "name": "stderr",
     "output_type": "stream",
     "text": [
      "[I 2024-06-25 02:51:00,760] Trial 408 finished with value: 0.812903093352709 and parameters: {'boosting_type': 'goss', 'num_leaves': 37, 'max_depth': 23, 'learning_rate': 0.6555019936153725, 'n_estimators': 984, 'min_child_samples': 59, 'subsample': 0.6392872256057941, 'colsample_bytree': 0.655854500954804, 'reg_alpha': 3.6711980966777475e-05, 'reg_lambda': 1.943317999153961e-07, 'top_rate': 0.16884800786861356, 'other_rate': 0.4079158963633001, 'threshold': 61}. Best is trial 115 with value: 0.833337460463145.\n"
     ]
    },
    {
     "name": "stdout",
     "output_type": "stream",
     "text": [
      "Score: 0.812903093352709\n",
      "Fold 1\n",
      "Fold 2\n",
      "Fold 3\n"
     ]
    },
    {
     "name": "stderr",
     "output_type": "stream",
     "text": [
      "[I 2024-06-25 02:51:44,125] Trial 409 finished with value: 0.6771021018030177 and parameters: {'boosting_type': 'gbdt', 'num_leaves': 52, 'max_depth': 30, 'learning_rate': 0.00014513254924161578, 'n_estimators': 959, 'min_child_samples': 49, 'subsample': 0.8362926768016508, 'colsample_bytree': 0.5996595918102637, 'reg_alpha': 1.5195749233457804e-07, 'reg_lambda': 0.0028343403796308223, 'threshold': 58}. Best is trial 115 with value: 0.833337460463145.\n"
     ]
    },
    {
     "name": "stdout",
     "output_type": "stream",
     "text": [
      "Score: 0.6771021018030177\n",
      "Fold 1\n",
      "Fold 2\n",
      "Fold 3\n"
     ]
    },
    {
     "name": "stderr",
     "output_type": "stream",
     "text": [
      "[I 2024-06-25 02:55:05,072] Trial 410 finished with value: 0.770354074218936 and parameters: {'boosting_type': 'dart', 'num_leaves': 31, 'max_depth': 32, 'learning_rate': 0.0002465366909163159, 'n_estimators': 1000, 'min_child_samples': 44, 'subsample': 0.610513325886887, 'colsample_bytree': 0.6397433735986734, 'reg_alpha': 0.01445893143206937, 'reg_lambda': 1.9974796217558555e-05, 'drop_rate': 0.14140513008868713, 'skip_drop': 0.5561816134978909, 'threshold': 62}. Best is trial 115 with value: 0.833337460463145.\n"
     ]
    },
    {
     "name": "stdout",
     "output_type": "stream",
     "text": [
      "Score: 0.770354074218936\n",
      "Fold 1\n",
      "Fold 2\n",
      "Fold 3\n"
     ]
    },
    {
     "name": "stderr",
     "output_type": "stream",
     "text": [
      "[I 2024-06-25 02:55:26,317] Trial 411 finished with value: 0.8327567925765917 and parameters: {'boosting_type': 'goss', 'num_leaves': 18, 'max_depth': 36, 'learning_rate': 0.03831265435530501, 'n_estimators': 896, 'min_child_samples': 55, 'subsample': 0.5119848072319555, 'colsample_bytree': 0.6249698960027604, 'reg_alpha': 0.0007012773497956855, 'reg_lambda': 3.7432138713019114, 'top_rate': 0.11831358825372598, 'other_rate': 0.48880718735849304, 'threshold': 67}. Best is trial 115 with value: 0.833337460463145.\n"
     ]
    },
    {
     "name": "stdout",
     "output_type": "stream",
     "text": [
      "Score: 0.8327567925765917\n",
      "Fold 1\n",
      "Fold 2\n",
      "Fold 3\n"
     ]
    },
    {
     "name": "stderr",
     "output_type": "stream",
     "text": [
      "[I 2024-06-25 02:55:58,819] Trial 412 finished with value: 0.8228978807964573 and parameters: {'boosting_type': 'goss', 'num_leaves': 46, 'max_depth': 38, 'learning_rate': 0.15086610881814277, 'n_estimators': 937, 'min_child_samples': 61, 'subsample': 0.5932081687601287, 'colsample_bytree': 0.6456159454914827, 'reg_alpha': 7.208030136137728e-06, 'reg_lambda': 0.01893711969340134, 'top_rate': 0.09897080824753805, 'other_rate': 0.4800599222404607, 'threshold': 64}. Best is trial 115 with value: 0.833337460463145.\n"
     ]
    },
    {
     "name": "stdout",
     "output_type": "stream",
     "text": [
      "Score: 0.8228978807964573\n",
      "Fold 1\n",
      "Fold 2\n",
      "Fold 3\n"
     ]
    },
    {
     "name": "stderr",
     "output_type": "stream",
     "text": [
      "[I 2024-06-25 02:56:23,731] Trial 413 finished with value: 0.8317684432080791 and parameters: {'boosting_type': 'goss', 'num_leaves': 24, 'max_depth': 29, 'learning_rate': 0.013530671405916387, 'n_estimators': 727, 'min_child_samples': 54, 'subsample': 0.5545332076111636, 'colsample_bytree': 0.5199448447808545, 'reg_alpha': 4.153853320314014, 'reg_lambda': 0.07445703155096756, 'top_rate': 0.0684010094716864, 'other_rate': 0.38303423226249766, 'threshold': 59}. Best is trial 115 with value: 0.833337460463145.\n"
     ]
    },
    {
     "name": "stdout",
     "output_type": "stream",
     "text": [
      "Score: 0.8317684432080791\n",
      "Fold 1\n",
      "Fold 2\n",
      "Fold 3\n"
     ]
    },
    {
     "name": "stderr",
     "output_type": "stream",
     "text": [
      "[I 2024-06-25 02:57:02,430] Trial 414 finished with value: 0.8315584087959764 and parameters: {'boosting_type': 'goss', 'num_leaves': 40, 'max_depth': 35, 'learning_rate': 0.0077124658619790055, 'n_estimators': 976, 'min_child_samples': 51, 'subsample': 0.7365072216558997, 'colsample_bytree': 0.6762616410323572, 'reg_alpha': 0.041023052890034044, 'reg_lambda': 6.054803300390054, 'top_rate': 0.04112338320258836, 'other_rate': 0.27938772645224563, 'threshold': 73}. Best is trial 115 with value: 0.833337460463145.\n"
     ]
    },
    {
     "name": "stdout",
     "output_type": "stream",
     "text": [
      "Score: 0.8315584087959764\n",
      "Fold 1\n",
      "Fold 2\n",
      "Fold 3\n"
     ]
    },
    {
     "name": "stderr",
     "output_type": "stream",
     "text": [
      "[I 2024-06-25 02:57:37,765] Trial 415 finished with value: 0.8257270756759002 and parameters: {'boosting_type': 'goss', 'num_leaves': 33, 'max_depth': 33, 'learning_rate': 0.0029086046817697483, 'n_estimators': 951, 'min_child_samples': 47, 'subsample': 0.753613867749592, 'colsample_bytree': 0.6146230391592811, 'reg_alpha': 3.22773594173421e-07, 'reg_lambda': 0.7230989571079989, 'top_rate': 0.08682555477967967, 'other_rate': 0.2614781185166509, 'threshold': 52}. Best is trial 115 with value: 0.833337460463145.\n"
     ]
    },
    {
     "name": "stdout",
     "output_type": "stream",
     "text": [
      "Score: 0.8257270756759002\n",
      "Fold 1\n",
      "Fold 2\n",
      "Fold 3\n"
     ]
    },
    {
     "name": "stderr",
     "output_type": "stream",
     "text": [
      "[I 2024-06-25 02:57:54,617] Trial 416 finished with value: 0.8308541999285718 and parameters: {'boosting_type': 'goss', 'num_leaves': 9, 'max_depth': 31, 'learning_rate': 0.02667455266093134, 'n_estimators': 919, 'min_child_samples': 43, 'subsample': 0.7014806732569852, 'colsample_bytree': 0.6343876020262427, 'reg_alpha': 0.6727004390266674, 'reg_lambda': 0.045825479639025266, 'top_rate': 0.11027880757468879, 'other_rate': 0.44201891578075464, 'threshold': 56}. Best is trial 115 with value: 0.833337460463145.\n"
     ]
    },
    {
     "name": "stdout",
     "output_type": "stream",
     "text": [
      "Score: 0.8308541999285718\n",
      "Fold 1\n",
      "Fold 2\n",
      "Fold 3\n"
     ]
    },
    {
     "name": "stderr",
     "output_type": "stream",
     "text": [
      "[I 2024-06-25 02:58:21,066] Trial 417 finished with value: 0.8317560778454435 and parameters: {'boosting_type': 'goss', 'num_leaves': 27, 'max_depth': 44, 'learning_rate': 0.05250520680850796, 'n_estimators': 971, 'min_child_samples': 49, 'subsample': 0.6750990099373813, 'colsample_bytree': 0.6605038085383573, 'reg_alpha': 8.063231505842222e-05, 'reg_lambda': 2.512681090344235, 'top_rate': 0.1301985127138832, 'other_rate': 0.45607731435059373, 'threshold': 63}. Best is trial 115 with value: 0.833337460463145.\n"
     ]
    },
    {
     "name": "stdout",
     "output_type": "stream",
     "text": [
      "Score: 0.8317560778454435\n",
      "Fold 1\n",
      "Fold 2\n",
      "Fold 3\n"
     ]
    },
    {
     "name": "stderr",
     "output_type": "stream",
     "text": [
      "[I 2024-06-25 02:59:07,048] Trial 418 finished with value: 0.8324602807600371 and parameters: {'boosting_type': 'goss', 'num_leaves': 72, 'max_depth': 28, 'learning_rate': 0.017618026237363606, 'n_estimators': 983, 'min_child_samples': 14, 'subsample': 0.6255015539860359, 'colsample_bytree': 0.6071419616229341, 'reg_alpha': 1.030075871659563e-08, 'reg_lambda': 0.00452571267570346, 'top_rate': 0.0769032141733871, 'other_rate': 0.4912236299037393, 'threshold': 60}. Best is trial 115 with value: 0.833337460463145.\n"
     ]
    },
    {
     "name": "stdout",
     "output_type": "stream",
     "text": [
      "Score: 0.8324602807600371\n",
      "Fold 1\n",
      "Fold 2\n",
      "Fold 3\n"
     ]
    },
    {
     "name": "stderr",
     "output_type": "stream",
     "text": [
      "[I 2024-06-25 02:59:44,417] Trial 419 finished with value: 0.8320772938285731 and parameters: {'boosting_type': 'goss', 'num_leaves': 56, 'max_depth': 38, 'learning_rate': 0.02949672471857759, 'n_estimators': 781, 'min_child_samples': 46, 'subsample': 0.5299986283953518, 'colsample_bytree': 0.6485177232740885, 'reg_alpha': 0.00013422498706736847, 'reg_lambda': 3.3265382039968874e-08, 'top_rate': 0.15169479639206784, 'other_rate': 0.34235212237904605, 'threshold': 61}. Best is trial 115 with value: 0.833337460463145.\n"
     ]
    },
    {
     "name": "stdout",
     "output_type": "stream",
     "text": [
      "Score: 0.8320772938285731\n",
      "Fold 1\n",
      "Fold 2\n",
      "Fold 3\n"
     ]
    },
    {
     "name": "stderr",
     "output_type": "stream",
     "text": [
      "[I 2024-06-25 03:00:10,827] Trial 420 finished with value: 0.830347662400177 and parameters: {'boosting_type': 'goss', 'num_leaves': 20, 'max_depth': 25, 'learning_rate': 0.01009675429674062, 'n_estimators': 946, 'min_child_samples': 36, 'subsample': 0.6154449644943073, 'colsample_bytree': 0.7697751821731178, 'reg_alpha': 0.17722016958499628, 'reg_lambda': 0.27709618282502635, 'top_rate': 0.1818887988246608, 'other_rate': 0.4174894319047139, 'threshold': 65}. Best is trial 115 with value: 0.833337460463145.\n"
     ]
    },
    {
     "name": "stdout",
     "output_type": "stream",
     "text": [
      "Score: 0.830347662400177\n",
      "Fold 1\n",
      "Fold 2\n",
      "Fold 3\n"
     ]
    },
    {
     "name": "stderr",
     "output_type": "stream",
     "text": [
      "[I 2024-06-25 03:00:51,934] Trial 421 finished with value: 0.8119517810018997 and parameters: {'boosting_type': 'goss', 'num_leaves': 63, 'max_depth': 11, 'learning_rate': 0.5816993889436208, 'n_estimators': 962, 'min_child_samples': 40, 'subsample': 0.5715484153228783, 'colsample_bytree': 0.5041306770925001, 'reg_alpha': 0.08662129620753835, 'reg_lambda': 0.001485597892289207, 'top_rate': 0.09114319205009423, 'other_rate': 0.4718243423152133, 'threshold': 54}. Best is trial 115 with value: 0.833337460463145.\n"
     ]
    },
    {
     "name": "stdout",
     "output_type": "stream",
     "text": [
      "Score: 0.8119517810018997\n",
      "Fold 1\n",
      "Fold 2\n",
      "Fold 3\n"
     ]
    },
    {
     "name": "stderr",
     "output_type": "stream",
     "text": [
      "[I 2024-06-25 03:01:05,383] Trial 422 finished with value: 0.8200934083999313 and parameters: {'boosting_type': 'goss', 'num_leaves': 2, 'max_depth': 34, 'learning_rate': 0.020741510506974332, 'n_estimators': 928, 'min_child_samples': 57, 'subsample': 0.7625779246774819, 'colsample_bytree': 0.6239855213784865, 'reg_alpha': 0.29751518126462706, 'reg_lambda': 1.0293502965803263, 'top_rate': 0.05338482169766179, 'other_rate': 0.3354224954883922, 'threshold': 57}. Best is trial 115 with value: 0.833337460463145.\n"
     ]
    },
    {
     "name": "stdout",
     "output_type": "stream",
     "text": [
      "Score: 0.8200934083999313\n",
      "Fold 1\n",
      "Fold 2\n",
      "Fold 3\n"
     ]
    },
    {
     "name": "stderr",
     "output_type": "stream",
     "text": [
      "[I 2024-06-25 03:01:44,483] Trial 423 finished with value: 0.8326456142109246 and parameters: {'boosting_type': 'goss', 'num_leaves': 36, 'max_depth': 42, 'learning_rate': 0.014399335571989089, 'n_estimators': 984, 'min_child_samples': 51, 'subsample': 0.8793146904518682, 'colsample_bytree': 0.54436680337366, 'reg_alpha': 2.377395056278319, 'reg_lambda': 1.7701079588998259, 'top_rate': 0.12147669264779926, 'other_rate': 0.32278906062673396, 'threshold': 50}. Best is trial 115 with value: 0.833337460463145.\n"
     ]
    },
    {
     "name": "stdout",
     "output_type": "stream",
     "text": [
      "Score: 0.8326456142109246\n",
      "Fold 1\n",
      "Fold 2\n",
      "Fold 3\n"
     ]
    },
    {
     "name": "stderr",
     "output_type": "stream",
     "text": [
      "[I 2024-06-25 03:02:20,813] Trial 424 finished with value: 0.8288898477799315 and parameters: {'boosting_type': 'goss', 'num_leaves': 47, 'max_depth': 36, 'learning_rate': 0.09113780405346311, 'n_estimators': 962, 'min_child_samples': 48, 'subsample': 0.6591782761040134, 'colsample_bytree': 0.6389973121186079, 'reg_alpha': 0.4814750564530446, 'reg_lambda': 9.989027721785519, 'top_rate': 0.20214005150163608, 'other_rate': 0.48363470903549705, 'threshold': 69}. Best is trial 115 with value: 0.833337460463145.\n"
     ]
    },
    {
     "name": "stdout",
     "output_type": "stream",
     "text": [
      "Score: 0.8288898477799315\n",
      "Fold 1\n",
      "Fold 2\n",
      "Fold 3\n"
     ]
    },
    {
     "name": "stderr",
     "output_type": "stream",
     "text": [
      "[I 2024-06-25 03:02:47,573] Trial 425 finished with value: 0.475538039576432 and parameters: {'boosting_type': 'goss', 'num_leaves': 15, 'max_depth': 32, 'learning_rate': 2.403491362472606e-05, 'n_estimators': 1000, 'min_child_samples': 45, 'subsample': 0.6031622290134677, 'colsample_bytree': 0.706468816022912, 'reg_alpha': 1.1437489700057057, 'reg_lambda': 3.857481007907868, 'top_rate': 0.10165236797043967, 'other_rate': 0.3632623926967672, 'threshold': 63}. Best is trial 115 with value: 0.833337460463145.\n"
     ]
    },
    {
     "name": "stdout",
     "output_type": "stream",
     "text": [
      "Score: 0.475538039576432\n",
      "Fold 1\n",
      "Fold 2\n",
      "Fold 3\n"
     ]
    },
    {
     "name": "stderr",
     "output_type": "stream",
     "text": [
      "[I 2024-06-25 03:03:38,953] Trial 426 finished with value: 0.8295569852864914 and parameters: {'boosting_type': 'goss', 'num_leaves': 100, 'max_depth': 29, 'learning_rate': 0.05099547005887548, 'n_estimators': 947, 'min_child_samples': 52, 'subsample': 0.6418780942281782, 'colsample_bytree': 0.5974145855735452, 'reg_alpha': 0.1349511719151773, 'reg_lambda': 0.00040055632554863497, 'top_rate': 0.3201279579938476, 'other_rate': 0.4658485136461036, 'threshold': 45}. Best is trial 115 with value: 0.833337460463145.\n"
     ]
    },
    {
     "name": "stdout",
     "output_type": "stream",
     "text": [
      "Score: 0.8295569852864914\n",
      "Fold 1\n",
      "Fold 2\n",
      "Fold 3\n"
     ]
    },
    {
     "name": "stderr",
     "output_type": "stream",
     "text": [
      "[I 2024-06-25 03:04:11,616] Trial 427 finished with value: 0.8322626222424666 and parameters: {'boosting_type': 'goss', 'num_leaves': 41, 'max_depth': 35, 'learning_rate': 0.03242025360759477, 'n_estimators': 930, 'min_child_samples': 59, 'subsample': 0.8021225470720257, 'colsample_bytree': 0.7203509920724879, 'reg_alpha': 0.05636303051228387, 'reg_lambda': 9.330476759895931e-06, 'top_rate': 0.1600762633459204, 'other_rate': 0.3577377535347533, 'threshold': 58}. Best is trial 115 with value: 0.833337460463145.\n"
     ]
    },
    {
     "name": "stdout",
     "output_type": "stream",
     "text": [
      "Score: 0.8322626222424666\n",
      "Fold 1\n",
      "Fold 2\n",
      "Fold 3\n"
     ]
    },
    {
     "name": "stderr",
     "output_type": "stream",
     "text": [
      "[I 2024-06-25 03:04:33,322] Trial 428 finished with value: 0.8277532170892169 and parameters: {'boosting_type': 'goss', 'num_leaves': 29, 'max_depth': 39, 'learning_rate': 0.0063387527615428995, 'n_estimators': 652, 'min_child_samples': 54, 'subsample': 0.7267799759316864, 'colsample_bytree': 0.6179145987133342, 'reg_alpha': 0.22646687844851074, 'reg_lambda': 6.402874790858893e-05, 'top_rate': 0.08760151686209273, 'other_rate': 0.49958007919642955, 'threshold': 61}. Best is trial 115 with value: 0.833337460463145.\n"
     ]
    },
    {
     "name": "stdout",
     "output_type": "stream",
     "text": [
      "Score: 0.8277532170892169\n",
      "Fold 1\n",
      "Fold 2\n",
      "Fold 3\n"
     ]
    },
    {
     "name": "stderr",
     "output_type": "stream",
     "text": [
      "[I 2024-06-25 03:05:36,526] Trial 429 finished with value: 0.7298188966167674 and parameters: {'boosting_type': 'gbdt', 'num_leaves': 124, 'max_depth': 37, 'learning_rate': 0.0002501196415393407, 'n_estimators': 910, 'min_child_samples': 42, 'subsample': 0.7788659812241976, 'colsample_bytree': 0.859644965232905, 'reg_alpha': 0.7442913099260374, 'reg_lambda': 0.1935637364970428, 'threshold': 66}. Best is trial 115 with value: 0.833337460463145.\n"
     ]
    },
    {
     "name": "stdout",
     "output_type": "stream",
     "text": [
      "Score: 0.7298188966167674\n",
      "Fold 1\n",
      "Fold 2\n",
      "Fold 3\n"
     ]
    },
    {
     "name": "stderr",
     "output_type": "stream",
     "text": [
      "[I 2024-06-25 03:06:18,072] Trial 430 finished with value: 0.8324849863003377 and parameters: {'boosting_type': 'goss', 'num_leaves': 51, 'max_depth': 31, 'learning_rate': 0.011323515809766208, 'n_estimators': 972, 'min_child_samples': 49, 'subsample': 0.708210608239755, 'colsample_bytree': 0.8100692719344024, 'reg_alpha': 2.263603984199875e-07, 'reg_lambda': 7.583018760428455e-06, 'top_rate': 0.21467425926297506, 'other_rate': 0.4771340630596061, 'threshold': 59}. Best is trial 115 with value: 0.833337460463145.\n"
     ]
    },
    {
     "name": "stdout",
     "output_type": "stream",
     "text": [
      "Score: 0.8324849863003377\n",
      "Fold 1\n",
      "Fold 2\n",
      "Fold 3\n"
     ]
    },
    {
     "name": "stderr",
     "output_type": "stream",
     "text": [
      "[I 2024-06-25 03:08:40,145] Trial 431 finished with value: 0.475538039576432 and parameters: {'boosting_type': 'dart', 'num_leaves': 23, 'max_depth': 33, 'learning_rate': 4.432672411999228e-06, 'n_estimators': 890, 'min_child_samples': 47, 'subsample': 0.5910020282297634, 'colsample_bytree': 0.5756022000833287, 'reg_alpha': 1.788281523570352e-08, 'reg_lambda': 6.3166213174179715, 'drop_rate': 0.2674640108071223, 'skip_drop': 0.6253434196000345, 'threshold': 64}. Best is trial 115 with value: 0.833337460463145.\n"
     ]
    },
    {
     "name": "stdout",
     "output_type": "stream",
     "text": [
      "Score: 0.475538039576432\n",
      "Fold 1\n",
      "Fold 2\n",
      "Fold 3\n"
     ]
    },
    {
     "name": "stderr",
     "output_type": "stream",
     "text": [
      "[I 2024-06-25 03:09:15,221] Trial 432 finished with value: 0.8325344166130982 and parameters: {'boosting_type': 'goss', 'num_leaves': 46, 'max_depth': 34, 'learning_rate': 0.02194050710172135, 'n_estimators': 952, 'min_child_samples': 56, 'subsample': 0.7470426207696108, 'colsample_bytree': 0.6308249553218255, 'reg_alpha': 7.568984097371967e-08, 'reg_lambda': 3.4478744194409185e-05, 'top_rate': 0.13813558739069445, 'other_rate': 0.49012713792450463, 'threshold': 55}. Best is trial 115 with value: 0.833337460463145.\n"
     ]
    },
    {
     "name": "stdout",
     "output_type": "stream",
     "text": [
      "Score: 0.8325344166130982\n",
      "Fold 1\n",
      "Fold 2\n",
      "Fold 3\n"
     ]
    },
    {
     "name": "stderr",
     "output_type": "stream",
     "text": [
      "[I 2024-06-25 03:09:22,206] Trial 433 finished with value: 0.823762694679021 and parameters: {'boosting_type': 'goss', 'num_leaves': 13, 'max_depth': 26, 'learning_rate': 0.01555326972471974, 'n_estimators': 242, 'min_child_samples': 44, 'subsample': 0.6326617927093541, 'colsample_bytree': 0.667451279792566, 'reg_alpha': 0.3811381019661582, 'reg_lambda': 0.5288470122486889, 'top_rate': 0.06344840093121354, 'other_rate': 0.4564448124595001, 'threshold': 62}. Best is trial 115 with value: 0.833337460463145.\n"
     ]
    },
    {
     "name": "stdout",
     "output_type": "stream",
     "text": [
      "Score: 0.823762694679021\n",
      "Fold 1\n",
      "Fold 2\n",
      "Fold 3\n"
     ]
    },
    {
     "name": "stderr",
     "output_type": "stream",
     "text": [
      "[I 2024-06-25 03:09:57,621] Trial 434 finished with value: 0.475538039576432 and parameters: {'boosting_type': 'goss', 'num_leaves': 33, 'max_depth': 27, 'learning_rate': 8.925850054830936e-05, 'n_estimators': 976, 'min_child_samples': 50, 'subsample': 0.964450133904488, 'colsample_bytree': 0.6528145634357664, 'reg_alpha': 0.12612569400808749, 'reg_lambda': 0.0008111989482088691, 'top_rate': 0.11481795029756153, 'other_rate': 0.48360692798920163, 'threshold': 60}. Best is trial 115 with value: 0.833337460463145.\n"
     ]
    },
    {
     "name": "stdout",
     "output_type": "stream",
     "text": [
      "Score: 0.475538039576432\n",
      "Fold 1\n",
      "Fold 2\n",
      "Fold 3\n"
     ]
    },
    {
     "name": "stderr",
     "output_type": "stream",
     "text": [
      "[I 2024-06-25 03:10:14,489] Trial 435 finished with value: 0.8317190156427698 and parameters: {'boosting_type': 'goss', 'num_leaves': 37, 'max_depth': 36, 'learning_rate': 0.03820954844085962, 'n_estimators': 509, 'min_child_samples': 38, 'subsample': 0.6498540072802378, 'colsample_bytree': 0.7539429133312802, 'reg_alpha': 0.000426914766927056, 'reg_lambda': 0.1143843380026334, 'top_rate': 0.07588972793188838, 'other_rate': 0.42956815370194007, 'threshold': 52}. Best is trial 115 with value: 0.833337460463145.\n"
     ]
    },
    {
     "name": "stdout",
     "output_type": "stream",
     "text": [
      "Score: 0.8317190156427698\n",
      "Fold 1\n",
      "Fold 2\n",
      "Fold 3\n"
     ]
    },
    {
     "name": "stderr",
     "output_type": "stream",
     "text": [
      "[I 2024-06-25 03:10:37,971] Trial 436 finished with value: 0.8216006602015656 and parameters: {'boosting_type': 'goss', 'num_leaves': 20, 'max_depth': 6, 'learning_rate': 0.22123436866822518, 'n_estimators': 983, 'min_child_samples': 62, 'subsample': 0.5784574139745732, 'colsample_bytree': 0.6124462336540221, 'reg_alpha': 0.4807582110406283, 'reg_lambda': 0.02686478342201331, 'top_rate': 0.17443083181911317, 'other_rate': 0.39057223187928247, 'threshold': 67}. Best is trial 115 with value: 0.833337460463145.\n"
     ]
    },
    {
     "name": "stdout",
     "output_type": "stream",
     "text": [
      "Score: 0.8216006602015656\n",
      "Fold 1\n",
      "Fold 2\n",
      "Fold 3\n"
     ]
    },
    {
     "name": "stderr",
     "output_type": "stream",
     "text": [
      "[I 2024-06-25 03:10:44,159] Trial 437 finished with value: 0.8251093574922956 and parameters: {'boosting_type': 'goss', 'num_leaves': 59, 'max_depth': 40, 'learning_rate': 0.01937502991120972, 'n_estimators': 104, 'min_child_samples': 46, 'subsample': 0.6838666559635638, 'colsample_bytree': 0.5902234563167054, 'reg_alpha': 1.545554188255708, 'reg_lambda': 1.4827956691515416, 'top_rate': 0.09941280140132591, 'other_rate': 0.4687105214251612, 'threshold': 47}. Best is trial 115 with value: 0.833337460463145.\n"
     ]
    },
    {
     "name": "stdout",
     "output_type": "stream",
     "text": [
      "Score: 0.8251093574922956\n",
      "Fold 1\n",
      "Fold 2\n",
      "Fold 3\n"
     ]
    },
    {
     "name": "stderr",
     "output_type": "stream",
     "text": [
      "[I 2024-06-25 03:11:24,539] Trial 438 finished with value: 0.8321637822228305 and parameters: {'boosting_type': 'goss', 'num_leaves': 52, 'max_depth': 30, 'learning_rate': 0.00909707973654375, 'n_estimators': 934, 'min_child_samples': 43, 'subsample': 0.62237607552135, 'colsample_bytree': 0.7782882893137874, 'reg_alpha': 3.5636385509085316e-05, 'reg_lambda': 2.8670090823897696, 'top_rate': 0.12613023307749668, 'other_rate': 0.4008411753437976, 'threshold': 58}. Best is trial 115 with value: 0.833337460463145.\n"
     ]
    },
    {
     "name": "stdout",
     "output_type": "stream",
     "text": [
      "Score: 0.8321637822228305\n",
      "Fold 1\n",
      "Fold 2\n",
      "Fold 3\n"
     ]
    },
    {
     "name": "stderr",
     "output_type": "stream",
     "text": [
      "[I 2024-06-25 03:11:49,137] Trial 439 finished with value: 0.8104692530569082 and parameters: {'boosting_type': 'goss', 'num_leaves': 26, 'max_depth': 28, 'learning_rate': 0.47627524889350653, 'n_estimators': 961, 'min_child_samples': 52, 'subsample': 0.6092068752045782, 'colsample_bytree': 0.5608476415620871, 'reg_alpha': 3.021588774215124e-06, 'reg_lambda': 0.3624749263820868, 'top_rate': 0.14395253014632453, 'other_rate': 0.3727202846998827, 'threshold': 62}. Best is trial 115 with value: 0.833337460463145.\n"
     ]
    },
    {
     "name": "stdout",
     "output_type": "stream",
     "text": [
      "Score: 0.8104692530569082\n",
      "Fold 1\n",
      "Fold 2\n",
      "Fold 3\n"
     ]
    },
    {
     "name": "stderr",
     "output_type": "stream",
     "text": [
      "[I 2024-06-25 03:12:23,108] Trial 440 finished with value: 0.8288280644680664 and parameters: {'boosting_type': 'goss', 'num_leaves': 43, 'max_depth': 32, 'learning_rate': 0.059907938622036264, 'n_estimators': 1000, 'min_child_samples': 66, 'subsample': 0.6677107185758753, 'colsample_bytree': 0.6861644138235905, 'reg_alpha': 6.02489898238823e-07, 'reg_lambda': 1.4804813347926776e-05, 'top_rate': 0.10856231378068094, 'other_rate': 0.47752112501215155, 'threshold': 56}. Best is trial 115 with value: 0.833337460463145.\n"
     ]
    },
    {
     "name": "stdout",
     "output_type": "stream",
     "text": [
      "Score: 0.8288280644680664\n",
      "Fold 1\n",
      "Fold 2\n",
      "Fold 3\n"
     ]
    },
    {
     "name": "stderr",
     "output_type": "stream",
     "text": [
      "[I 2024-06-25 03:13:13,440] Trial 441 finished with value: 0.7845247097393221 and parameters: {'boosting_type': 'goss', 'num_leaves': 81, 'max_depth': 34, 'learning_rate': 0.0004931008344127392, 'n_estimators': 915, 'min_child_samples': 58, 'subsample': 0.7910079035126634, 'colsample_bytree': 0.6357084784898744, 'reg_alpha': 0.26387589263410455, 'reg_lambda': 5.149853406651196, 'top_rate': 0.08369999244236545, 'other_rate': 0.49983704245865557, 'threshold': 65}. Best is trial 115 with value: 0.833337460463145.\n"
     ]
    },
    {
     "name": "stdout",
     "output_type": "stream",
     "text": [
      "Score: 0.7845247097393221\n",
      "Fold 1\n",
      "Fold 2\n",
      "Fold 3\n"
     ]
    },
    {
     "name": "stderr",
     "output_type": "stream",
     "text": [
      "[I 2024-06-25 03:13:45,988] Trial 442 finished with value: 0.8330409596363957 and parameters: {'boosting_type': 'goss', 'num_leaves': 31, 'max_depth': 38, 'learning_rate': 0.02507104645420523, 'n_estimators': 864, 'min_child_samples': 48, 'subsample': 0.6949077019123703, 'colsample_bytree': 0.6223022027295527, 'reg_alpha': 0.7102178442548603, 'reg_lambda': 4.548370438549593e-05, 'top_rate': 0.03322669945085584, 'other_rate': 0.4615093836228664, 'threshold': 60}. Best is trial 115 with value: 0.833337460463145.\n"
     ]
    },
    {
     "name": "stdout",
     "output_type": "stream",
     "text": [
      "Score: 0.8330409596363957\n",
      "Fold 1\n",
      "Fold 2\n",
      "Fold 3\n"
     ]
    },
    {
     "name": "stderr",
     "output_type": "stream",
     "text": [
      "[I 2024-06-25 03:14:04,534] Trial 443 finished with value: 0.7224921248199744 and parameters: {'boosting_type': 'goss', 'num_leaves': 38, 'max_depth': 36, 'learning_rate': 0.7959183221617143, 'n_estimators': 857, 'min_child_samples': 50, 'subsample': 0.6946481401293794, 'colsample_bytree': 0.6023078018649147, 'reg_alpha': 0.007897159098027044, 'reg_lambda': 0.009028331458328896, 'top_rate': 0.0652699255905335, 'other_rate': 0.45425457726491336, 'threshold': 59}. Best is trial 115 with value: 0.833337460463145.\n"
     ]
    },
    {
     "name": "stdout",
     "output_type": "stream",
     "text": [
      "Score: 0.7224921248199744\n",
      "Fold 1\n",
      "Fold 2\n",
      "Fold 3\n"
     ]
    },
    {
     "name": "stderr",
     "output_type": "stream",
     "text": [
      "[I 2024-06-25 03:14:36,081] Trial 444 finished with value: 0.8325961871035239 and parameters: {'boosting_type': 'goss', 'num_leaves': 32, 'max_depth': 37, 'learning_rate': 0.02479758751264663, 'n_estimators': 845, 'min_child_samples': 53, 'subsample': 0.7080053678249505, 'colsample_bytree': 0.6211292811275103, 'reg_alpha': 1.8665062997444048e-05, 'reg_lambda': 3.0435688261906844e-05, 'top_rate': 0.012917301737703606, 'other_rate': 0.44245231844871813, 'threshold': 57}. Best is trial 115 with value: 0.833337460463145.\n"
     ]
    },
    {
     "name": "stdout",
     "output_type": "stream",
     "text": [
      "Score: 0.8325961871035239\n",
      "Fold 1\n",
      "Fold 2\n",
      "Fold 3\n"
     ]
    },
    {
     "name": "stderr",
     "output_type": "stream",
     "text": [
      "[I 2024-06-25 03:15:12,036] Trial 445 finished with value: 0.8218477687219646 and parameters: {'boosting_type': 'goss', 'num_leaves': 41, 'max_depth': 49, 'learning_rate': 0.0017388566885393035, 'n_estimators': 885, 'min_child_samples': 48, 'subsample': 0.7222137429290427, 'colsample_bytree': 0.9295147610788734, 'reg_alpha': 0.8847815382371162, 'reg_lambda': 1.0414550028563208e-06, 'top_rate': 0.0446120820994633, 'other_rate': 0.46293107602362127, 'threshold': 60}. Best is trial 115 with value: 0.833337460463145.\n"
     ]
    },
    {
     "name": "stdout",
     "output_type": "stream",
     "text": [
      "Score: 0.8218477687219646\n",
      "Fold 1\n",
      "Fold 2\n",
      "Fold 3\n"
     ]
    },
    {
     "name": "stderr",
     "output_type": "stream",
     "text": [
      "[I 2024-06-25 03:15:47,437] Trial 446 finished with value: 0.475538039576432 and parameters: {'boosting_type': 'goss', 'num_leaves': 30, 'max_depth': 31, 'learning_rate': 1.0378840622694986e-06, 'n_estimators': 909, 'min_child_samples': 55, 'subsample': 0.813981933286548, 'colsample_bytree': 0.5380352982490212, 'reg_alpha': 0.5989820540203976, 'reg_lambda': 5.582568242954366e-05, 'top_rate': 0.0005645043278208473, 'other_rate': 0.2232585536290742, 'threshold': 54}. Best is trial 115 with value: 0.833337460463145.\n"
     ]
    },
    {
     "name": "stdout",
     "output_type": "stream",
     "text": [
      "Score: 0.475538039576432\n",
      "Fold 1\n",
      "Fold 2\n",
      "Fold 3\n"
     ]
    },
    {
     "name": "stderr",
     "output_type": "stream",
     "text": [
      "[I 2024-06-25 03:17:01,375] Trial 447 finished with value: 0.7175384792235944 and parameters: {'boosting_type': 'goss', 'num_leaves': 131, 'max_depth': 35, 'learning_rate': 0.00019500916635614785, 'n_estimators': 987, 'min_child_samples': 45, 'subsample': 0.685270620482284, 'colsample_bytree': 0.6116370241261838, 'reg_alpha': 1.3629325241179997e-06, 'reg_lambda': 0.00013864996961408246, 'top_rate': 0.019057961632296144, 'other_rate': 0.4902683501677152, 'threshold': 61}. Best is trial 115 with value: 0.833337460463145.\n"
     ]
    },
    {
     "name": "stdout",
     "output_type": "stream",
     "text": [
      "Score: 0.7175384792235944\n",
      "Fold 1\n",
      "Fold 2\n",
      "Fold 3\n"
     ]
    },
    {
     "name": "stderr",
     "output_type": "stream",
     "text": [
      "[I 2024-06-25 03:17:24,039] Trial 448 finished with value: 0.475538039576432 and parameters: {'boosting_type': 'goss', 'num_leaves': 66, 'max_depth': 33, 'learning_rate': 1.3225743104978514e-05, 'n_estimators': 400, 'min_child_samples': 50, 'subsample': 0.6786291424166307, 'colsample_bytree': 0.6270891814882289, 'reg_alpha': 1.8931663223640987, 'reg_lambda': 4.324209348310274e-05, 'top_rate': 0.03409762765446804, 'other_rate': 0.3224444391704745, 'threshold': 57}. Best is trial 115 with value: 0.833337460463145.\n"
     ]
    },
    {
     "name": "stdout",
     "output_type": "stream",
     "text": [
      "Score: 0.475538039576432\n",
      "Fold 1\n",
      "Fold 2\n",
      "Fold 3\n"
     ]
    },
    {
     "name": "stderr",
     "output_type": "stream",
     "text": [
      "[I 2024-06-25 03:17:57,065] Trial 449 finished with value: 0.796483908401914 and parameters: {'boosting_type': 'goss', 'num_leaves': 37, 'max_depth': 38, 'learning_rate': 0.0005988021381046918, 'n_estimators': 875, 'min_child_samples': 41, 'subsample': 0.5417146010427821, 'colsample_bytree': 0.7945047098447625, 'reg_alpha': 0.9352294423366655, 'reg_lambda': 0.0001688192138864214, 'top_rate': 0.043960908066876574, 'other_rate': 0.4710898493767022, 'threshold': 50}. Best is trial 115 with value: 0.833337460463145.\n"
     ]
    },
    {
     "name": "stdout",
     "output_type": "stream",
     "text": [
      "Score: 0.796483908401914\n",
      "Fold 1\n",
      "Fold 2\n",
      "Fold 3\n"
     ]
    },
    {
     "name": "stderr",
     "output_type": "stream",
     "text": [
      "[I 2024-06-25 03:18:41,426] Trial 450 finished with value: 0.832855633512045 and parameters: {'boosting_type': 'goss', 'num_leaves': 47, 'max_depth': 64, 'learning_rate': 0.011148865400469395, 'n_estimators': 964, 'min_child_samples': 60, 'subsample': 0.5619145289001508, 'colsample_bytree': 0.6995856043758971, 'reg_alpha': 0.02372611830453702, 'reg_lambda': 2.680272207089805, 'top_rate': 0.0317449371068432, 'other_rate': 0.4619644792711945, 'threshold': 63}. Best is trial 115 with value: 0.833337460463145.\n"
     ]
    },
    {
     "name": "stdout",
     "output_type": "stream",
     "text": [
      "Score: 0.832855633512045\n",
      "Fold 1\n",
      "Fold 2\n",
      "Fold 3\n"
     ]
    },
    {
     "name": "stderr",
     "output_type": "stream",
     "text": [
      "[I 2024-06-25 03:19:17,717] Trial 451 finished with value: 0.8316078203344862 and parameters: {'boosting_type': 'gbdt', 'num_leaves': 53, 'max_depth': 35, 'learning_rate': 0.01489335506791245, 'n_estimators': 866, 'min_child_samples': 47, 'subsample': 0.6628217170048335, 'colsample_bytree': 0.8311452987783974, 'reg_alpha': 2.886814279672671e-05, 'reg_lambda': 1.0663591256853777e-05, 'threshold': 59}. Best is trial 115 with value: 0.833337460463145.\n"
     ]
    },
    {
     "name": "stdout",
     "output_type": "stream",
     "text": [
      "Score: 0.8316078203344862\n",
      "Fold 1\n",
      "Fold 2\n",
      "Fold 3\n"
     ]
    },
    {
     "name": "stderr",
     "output_type": "stream",
     "text": [
      "[I 2024-06-25 03:19:49,972] Trial 452 finished with value: 0.8295816876214323 and parameters: {'boosting_type': 'goss', 'num_leaves': 28, 'max_depth': 28, 'learning_rate': 0.006114702446369633, 'n_estimators': 934, 'min_child_samples': 56, 'subsample': 0.7346862815586623, 'colsample_bytree': 0.6211518986269002, 'reg_alpha': 4.689336314180263e-08, 'reg_lambda': 0.002004122081043184, 'top_rate': 0.3962089445092147, 'other_rate': 0.4518532443178933, 'threshold': 55}. Best is trial 115 with value: 0.833337460463145.\n"
     ]
    },
    {
     "name": "stdout",
     "output_type": "stream",
     "text": [
      "Score: 0.8295816876214323\n",
      "Fold 1\n",
      "Fold 2\n",
      "Fold 3\n"
     ]
    },
    {
     "name": "stderr",
     "output_type": "stream",
     "text": [
      "[I 2024-06-25 03:20:02,432] Trial 453 finished with value: 0.7188604172644091 and parameters: {'boosting_type': 'goss', 'num_leaves': 34, 'max_depth': 32, 'learning_rate': 0.0006005135300647119, 'n_estimators': 327, 'min_child_samples': 53, 'subsample': 0.5824319056663969, 'colsample_bytree': 0.7506630993578605, 'reg_alpha': 5.797259014034776e-06, 'reg_lambda': 7.561316422174859e-06, 'top_rate': 0.05544506592481971, 'other_rate': 0.4808412682211882, 'threshold': 61}. Best is trial 115 with value: 0.833337460463145.\n"
     ]
    },
    {
     "name": "stdout",
     "output_type": "stream",
     "text": [
      "Score: 0.7188604172644091\n",
      "Fold 1\n",
      "Fold 2\n",
      "Fold 3\n"
     ]
    },
    {
     "name": "stderr",
     "output_type": "stream",
     "text": [
      "[I 2024-06-25 03:23:05,201] Trial 454 finished with value: 0.8315954751198271 and parameters: {'boosting_type': 'dart', 'num_leaves': 42, 'max_depth': 30, 'learning_rate': 0.03747892163500414, 'n_estimators': 822, 'min_child_samples': 48, 'subsample': 0.9216833714492141, 'colsample_bytree': 0.5817438713782627, 'reg_alpha': 0.39149585171095036, 'reg_lambda': 2.1024602545843932e-05, 'drop_rate': 0.19657828826240434, 'skip_drop': 0.6098812457148868, 'threshold': 53}. Best is trial 115 with value: 0.833337460463145.\n"
     ]
    },
    {
     "name": "stdout",
     "output_type": "stream",
     "text": [
      "Score: 0.8315954751198271\n",
      "Fold 1\n",
      "Fold 2\n",
      "Fold 3\n"
     ]
    },
    {
     "name": "stderr",
     "output_type": "stream",
     "text": [
      "[I 2024-06-25 03:23:51,004] Trial 455 finished with value: 0.7403078974380447 and parameters: {'boosting_type': 'goss', 'num_leaves': 57, 'max_depth': 41, 'learning_rate': 0.0003212798480539687, 'n_estimators': 954, 'min_child_samples': 44, 'subsample': 0.6976160289500857, 'colsample_bytree': 0.7289747734656995, 'reg_alpha': 0.000276752866665231, 'reg_lambda': 7.512544579641757e-06, 'top_rate': 0.0908179710697477, 'other_rate': 0.48920834551347525, 'threshold': 58}. Best is trial 115 with value: 0.833337460463145.\n"
     ]
    },
    {
     "name": "stdout",
     "output_type": "stream",
     "text": [
      "Score: 0.7403078974380447\n",
      "Fold 1\n",
      "Fold 2\n",
      "Fold 3\n"
     ]
    },
    {
     "name": "stderr",
     "output_type": "stream",
     "text": [
      "[I 2024-06-25 03:24:32,020] Trial 456 finished with value: 0.8286674626582671 and parameters: {'boosting_type': 'goss', 'num_leaves': 49, 'max_depth': 55, 'learning_rate': 0.004142169408890186, 'n_estimators': 902, 'min_child_samples': 51, 'subsample': 0.8598773265238908, 'colsample_bytree': 0.9847974869159717, 'reg_alpha': 1.330782823212713, 'reg_lambda': 0.00035208472469036497, 'top_rate': 0.10097200467674652, 'other_rate': 0.24941882877178764, 'threshold': 62}. Best is trial 115 with value: 0.833337460463145.\n"
     ]
    },
    {
     "name": "stdout",
     "output_type": "stream",
     "text": [
      "Score: 0.8286674626582671\n",
      "Fold 1\n",
      "Fold 2\n",
      "Fold 3\n"
     ]
    },
    {
     "name": "stderr",
     "output_type": "stream",
     "text": [
      "[I 2024-06-25 03:24:57,203] Trial 457 finished with value: 0.7454473801847233 and parameters: {'boosting_type': 'goss', 'num_leaves': 25, 'max_depth': 34, 'learning_rate': 0.12112604572920552, 'n_estimators': 981, 'min_child_samples': 39, 'subsample': 0.7161155551876899, 'colsample_bytree': 0.6447798107030946, 'reg_alpha': 3.4868218938098194e-07, 'reg_lambda': 0.07141119798687312, 'top_rate': 0.07712887956598209, 'other_rate': 0.021505437824868245, 'threshold': 60}. Best is trial 115 with value: 0.833337460463145.\n"
     ]
    },
    {
     "name": "stdout",
     "output_type": "stream",
     "text": [
      "Score: 0.7454473801847233\n",
      "Fold 1\n",
      "Fold 2\n",
      "Fold 3\n"
     ]
    },
    {
     "name": "stderr",
     "output_type": "stream",
     "text": [
      "[I 2024-06-25 03:25:23,754] Trial 458 finished with value: 0.812816593510738 and parameters: {'boosting_type': 'goss', 'num_leaves': 18, 'max_depth': 38, 'learning_rate': 0.3336021394915717, 'n_estimators': 944, 'min_child_samples': 46, 'subsample': 0.8376173539304332, 'colsample_bytree': 0.6780567686111503, 'reg_alpha': 0.0020094988639315146, 'reg_lambda': 0.000219890531852478, 'top_rate': 0.07219868948395428, 'other_rate': 0.42562226957408344, 'threshold': 64}. Best is trial 115 with value: 0.833337460463145.\n"
     ]
    },
    {
     "name": "stdout",
     "output_type": "stream",
     "text": [
      "Score: 0.812816593510738\n",
      "Fold 1\n",
      "Fold 2\n",
      "Fold 3\n"
     ]
    },
    {
     "name": "stderr",
     "output_type": "stream",
     "text": [
      "[I 2024-06-25 03:26:02,322] Trial 459 finished with value: 0.8327567980714944 and parameters: {'boosting_type': 'goss', 'num_leaves': 34, 'max_depth': 29, 'learning_rate': 0.022874981142941245, 'n_estimators': 969, 'min_child_samples': 49, 'subsample': 0.5226450716107425, 'colsample_bytree': 0.6019948486662394, 'reg_alpha': 0.07428907660057227, 'reg_lambda': 4.393220781166143, 'top_rate': 0.03493320131180916, 'other_rate': 0.4449711052711771, 'threshold': 57}. Best is trial 115 with value: 0.833337460463145.\n"
     ]
    },
    {
     "name": "stdout",
     "output_type": "stream",
     "text": [
      "Score: 0.8327567980714944\n",
      "Fold 1\n",
      "Fold 2\n",
      "Fold 3\n"
     ]
    },
    {
     "name": "stderr",
     "output_type": "stream",
     "text": [
      "[I 2024-06-25 03:26:38,754] Trial 460 finished with value: 0.8328556316804109 and parameters: {'boosting_type': 'goss', 'num_leaves': 42, 'max_depth': 36, 'learning_rate': 0.015836616810179425, 'n_estimators': 1000, 'min_child_samples': 42, 'subsample': 0.5966829526369472, 'colsample_bytree': 0.6302032255441756, 'reg_alpha': 0.1822076154204047, 'reg_lambda': 2.0091059089827294e-05, 'top_rate': 0.11559460732253174, 'other_rate': 0.4727851177124551, 'threshold': 63}. Best is trial 115 with value: 0.833337460463145.\n"
     ]
    },
    {
     "name": "stdout",
     "output_type": "stream",
     "text": [
      "Score: 0.8328556316804109\n",
      "Fold 1\n",
      "Fold 2\n",
      "Fold 3\n"
     ]
    },
    {
     "name": "stderr",
     "output_type": "stream",
     "text": [
      "[I 2024-06-25 03:26:57,662] Trial 461 finished with value: 0.8262336058777583 and parameters: {'boosting_type': 'goss', 'num_leaves': 8, 'max_depth': 39, 'learning_rate': 0.00824902289939154, 'n_estimators': 928, 'min_child_samples': 58, 'subsample': 0.7436816586869545, 'colsample_bytree': 0.5225788775146134, 'reg_alpha': 6.270352302395706e-05, 'reg_lambda': 0.00010623395764349365, 'top_rate': 0.021709670612995925, 'other_rate': 0.4918790078435778, 'threshold': 59}. Best is trial 115 with value: 0.833337460463145.\n"
     ]
    },
    {
     "name": "stdout",
     "output_type": "stream",
     "text": [
      "Score: 0.8262336058777583\n",
      "Fold 1\n",
      "Fold 2\n",
      "Fold 3\n"
     ]
    },
    {
     "name": "stderr",
     "output_type": "stream",
     "text": [
      "[I 2024-06-25 03:27:30,854] Trial 462 finished with value: 0.475538039576432 and parameters: {'boosting_type': 'goss', 'num_leaves': 30, 'max_depth': 24, 'learning_rate': 3.928672609378019e-07, 'n_estimators': 985, 'min_child_samples': 45, 'subsample': 0.7657915070973369, 'colsample_bytree': 0.6617630151798486, 'reg_alpha': 0.0013442642550862167, 'reg_lambda': 6.671296816637037, 'top_rate': 0.09200496977482597, 'other_rate': 0.47865222053820755, 'threshold': 56}. Best is trial 115 with value: 0.833337460463145.\n"
     ]
    },
    {
     "name": "stdout",
     "output_type": "stream",
     "text": [
      "Score: 0.475538039576432\n",
      "Fold 1\n",
      "Fold 2\n",
      "Fold 3\n"
     ]
    },
    {
     "name": "stderr",
     "output_type": "stream",
     "text": [
      "[I 2024-06-25 03:27:59,523] Trial 463 finished with value: 0.8051320806548774 and parameters: {'boosting_type': 'goss', 'num_leaves': 23, 'max_depth': 33, 'learning_rate': 0.0007076915335386948, 'n_estimators': 955, 'min_child_samples': 32, 'subsample': 0.6461972394320664, 'colsample_bytree': 0.6156314876389126, 'reg_alpha': 0.006249641438702222, 'reg_lambda': 0.2150039443221774, 'top_rate': 0.051852253119596535, 'other_rate': 0.49973874301176924, 'threshold': 52}. Best is trial 115 with value: 0.833337460463145.\n"
     ]
    },
    {
     "name": "stdout",
     "output_type": "stream",
     "text": [
      "Score: 0.8051320806548774\n",
      "Fold 1\n",
      "Fold 2\n",
      "Fold 3\n"
     ]
    },
    {
     "name": "stderr",
     "output_type": "stream",
     "text": [
      "[I 2024-06-25 03:28:44,738] Trial 464 finished with value: 0.8302611863694507 and parameters: {'boosting_type': 'goss', 'num_leaves': 88, 'max_depth': 35, 'learning_rate': 0.027273632316825114, 'n_estimators': 918, 'min_child_samples': 54, 'subsample': 0.6345059753115234, 'colsample_bytree': 0.6356327111115779, 'reg_alpha': 2.857585141672213, 'reg_lambda': 8.37999691717023e-05, 'top_rate': 0.234087443204391, 'other_rate': 0.32804330619719385, 'threshold': 19}. Best is trial 115 with value: 0.833337460463145.\n"
     ]
    },
    {
     "name": "stdout",
     "output_type": "stream",
     "text": [
      "Score: 0.8302611863694507\n",
      "Fold 1\n",
      "Fold 2\n",
      "Fold 3\n"
     ]
    },
    {
     "name": "stderr",
     "output_type": "stream",
     "text": [
      "[I 2024-06-25 03:29:25,431] Trial 465 finished with value: 0.475538039576432 and parameters: {'boosting_type': 'goss', 'num_leaves': 48, 'max_depth': 27, 'learning_rate': 8.324834970934982e-05, 'n_estimators': 970, 'min_child_samples': 48, 'subsample': 0.8224076013052033, 'colsample_bytree': 0.5522762944350007, 'reg_alpha': 0.615036485680487, 'reg_lambda': 2.184799871837354, 'top_rate': 0.10530491779854304, 'other_rate': 0.4606335516389064, 'threshold': 61}. Best is trial 115 with value: 0.833337460463145.\n"
     ]
    },
    {
     "name": "stdout",
     "output_type": "stream",
     "text": [
      "Score: 0.475538039576432\n",
      "Fold 1\n",
      "Fold 2\n",
      "Fold 3\n"
     ]
    },
    {
     "name": "stderr",
     "output_type": "stream",
     "text": [
      "[I 2024-06-25 03:29:54,121] Trial 466 finished with value: 0.8322255572923417 and parameters: {'boosting_type': 'goss', 'num_leaves': 37, 'max_depth': 31, 'learning_rate': 0.040177887612892836, 'n_estimators': 888, 'min_child_samples': 63, 'subsample': 0.7060515542154319, 'colsample_bytree': 0.6917691476266539, 'reg_alpha': 0.3125727541342388, 'reg_lambda': 0.0005789843519926391, 'top_rate': 0.2540144503628211, 'other_rate': 0.30359019465078213, 'threshold': 48}. Best is trial 115 with value: 0.833337460463145.\n"
     ]
    },
    {
     "name": "stdout",
     "output_type": "stream",
     "text": [
      "Score: 0.8322255572923417\n",
      "Fold 1\n",
      "Fold 2\n",
      "Fold 3\n"
     ]
    },
    {
     "name": "stderr",
     "output_type": "stream",
     "text": [
      "[I 2024-06-25 03:30:38,217] Trial 467 finished with value: 0.8172518815851771 and parameters: {'boosting_type': 'goss', 'num_leaves': 53, 'max_depth': 37, 'learning_rate': 0.0009323494807026966, 'n_estimators': 946, 'min_child_samples': 52, 'subsample': 0.7256086895655899, 'colsample_bytree': 0.6492029115916763, 'reg_alpha': 0.2081836405932934, 'reg_lambda': 0.0039876312205691595, 'top_rate': 0.08134926445691973, 'other_rate': 0.4380246582902417, 'threshold': 64}. Best is trial 115 with value: 0.833337460463145.\n"
     ]
    },
    {
     "name": "stdout",
     "output_type": "stream",
     "text": [
      "Score: 0.8172518815851771\n",
      "Fold 1\n",
      "Fold 2\n",
      "Fold 3\n"
     ]
    },
    {
     "name": "stderr",
     "output_type": "stream",
     "text": [
      "[I 2024-06-25 03:31:02,907] Trial 468 finished with value: 0.8309900984876132 and parameters: {'boosting_type': 'goss', 'num_leaves': 16, 'max_depth': 33, 'learning_rate': 0.012160939406531724, 'n_estimators': 1000, 'min_child_samples': 50, 'subsample': 0.6570401686778977, 'colsample_bytree': 0.6244591413884915, 'reg_alpha': 0.11070013758105517, 'reg_lambda': 0.017356199432484398, 'top_rate': 0.09604068885051417, 'other_rate': 0.483731490073223, 'threshold': 59}. Best is trial 115 with value: 0.833337460463145.\n"
     ]
    },
    {
     "name": "stdout",
     "output_type": "stream",
     "text": [
      "Score: 0.8309900984876132\n",
      "Fold 1\n",
      "Fold 2\n",
      "Fold 3\n"
     ]
    },
    {
     "name": "stderr",
     "output_type": "stream",
     "text": [
      "[I 2024-06-25 03:31:49,841] Trial 469 finished with value: 0.8259618165441207 and parameters: {'boosting_type': 'goss', 'num_leaves': 62, 'max_depth': 30, 'learning_rate': 0.06737949574403256, 'n_estimators': 972, 'min_child_samples': 40, 'subsample': 0.5751553278926801, 'colsample_bytree': 0.592571392174185, 'reg_alpha': 0.48985125512066063, 'reg_lambda': 4.5707748567894785e-05, 'top_rate': 0.128389688609505, 'other_rate': 0.32948506126901483, 'threshold': 62}. Best is trial 115 with value: 0.833337460463145.\n"
     ]
    },
    {
     "name": "stdout",
     "output_type": "stream",
     "text": [
      "Score: 0.8259618165441207\n",
      "Fold 1\n",
      "Fold 2\n",
      "Fold 3\n"
     ]
    },
    {
     "name": "stderr",
     "output_type": "stream",
     "text": [
      "[I 2024-06-25 03:32:28,949] Trial 470 finished with value: 0.8327444565201035 and parameters: {'boosting_type': 'goss', 'num_leaves': 43, 'max_depth': 26, 'learning_rate': 0.018834199692630386, 'n_estimators': 943, 'min_child_samples': 60, 'subsample': 0.6096044988054576, 'colsample_bytree': 0.787637717709987, 'reg_alpha': 0.00018846816090971048, 'reg_lambda': 0.1318736928055918, 'top_rate': 0.025206778338726442, 'other_rate': 0.3817839331966393, 'threshold': 55}. Best is trial 115 with value: 0.833337460463145.\n"
     ]
    },
    {
     "name": "stdout",
     "output_type": "stream",
     "text": [
      "Score: 0.8327444565201035\n",
      "Fold 1\n",
      "Fold 2\n",
      "Fold 3\n"
     ]
    },
    {
     "name": "stderr",
     "output_type": "stream",
     "text": [
      "[I 2024-06-25 03:32:58,055] Trial 471 finished with value: 0.8324602944972938 and parameters: {'boosting_type': 'goss', 'num_leaves': 28, 'max_depth': 34, 'learning_rate': 0.029270491969103342, 'n_estimators': 983, 'min_child_samples': 47, 'subsample': 0.8025468596710023, 'colsample_bytree': 0.7606673851796218, 'reg_alpha': 2.6526346159537183e-08, 'reg_lambda': 1.0771178867484177, 'top_rate': 0.06584443303295197, 'other_rate': 0.47082675781530037, 'threshold': 66}. Best is trial 115 with value: 0.833337460463145.\n"
     ]
    },
    {
     "name": "stdout",
     "output_type": "stream",
     "text": [
      "Score: 0.8324602944972938\n",
      "Fold 1\n",
      "Fold 2\n",
      "Fold 3\n"
     ]
    },
    {
     "name": "stderr",
     "output_type": "stream",
     "text": [
      "[I 2024-06-25 03:33:29,283] Trial 472 finished with value: 0.8224901965670467 and parameters: {'boosting_type': 'goss', 'num_leaves': 21, 'max_depth': 36, 'learning_rate': 0.00250683265486564, 'n_estimators': 958, 'min_child_samples': 56, 'subsample': 0.7544853119322203, 'colsample_bytree': 0.6098558447844872, 'reg_alpha': 0.04175311776214977, 'reg_lambda': 7.588142937361287, 'top_rate': 0.10900472333153975, 'other_rate': 0.3507315733491816, 'threshold': 60}. Best is trial 115 with value: 0.833337460463145.\n"
     ]
    },
    {
     "name": "stdout",
     "output_type": "stream",
     "text": [
      "Score: 0.8224901965670467\n",
      "Fold 1\n",
      "Fold 2\n",
      "Fold 3\n"
     ]
    },
    {
     "name": "stderr",
     "output_type": "stream",
     "text": [
      "[I 2024-06-25 03:34:04,830] Trial 473 finished with value: 0.475538039576432 and parameters: {'boosting_type': 'gbdt', 'num_leaves': 36, 'max_depth': 32, 'learning_rate': 5.425272870919174e-05, 'n_estimators': 924, 'min_child_samples': 44, 'subsample': 0.589353966841628, 'colsample_bytree': 0.8020732675997729, 'reg_alpha': 7.501683208791731e-07, 'reg_lambda': 3.553126693630762e-06, 'threshold': 57}. Best is trial 115 with value: 0.833337460463145.\n"
     ]
    },
    {
     "name": "stdout",
     "output_type": "stream",
     "text": [
      "Score: 0.475538039576432\n",
      "Fold 1\n",
      "Fold 2\n",
      "Fold 3\n"
     ]
    },
    {
     "name": "stderr",
     "output_type": "stream",
     "text": [
      "[I 2024-06-25 03:34:42,734] Trial 474 finished with value: 0.8306565455321785 and parameters: {'boosting_type': 'goss', 'num_leaves': 55, 'max_depth': 29, 'learning_rate': 0.0446627929700455, 'n_estimators': 983, 'min_child_samples': 29, 'subsample': 0.6229055472620554, 'colsample_bytree': 0.7095519371410315, 'reg_alpha': 1.0751845328165743e-05, 'reg_lambda': 4.408236199700038e-06, 'top_rate': 0.12049553003799164, 'other_rate': 0.489862627646586, 'threshold': 63}. Best is trial 115 with value: 0.833337460463145.\n"
     ]
    },
    {
     "name": "stdout",
     "output_type": "stream",
     "text": [
      "Score: 0.8306565455321785\n",
      "Fold 1\n",
      "Fold 2\n",
      "Fold 3\n"
     ]
    },
    {
     "name": "stderr",
     "output_type": "stream",
     "text": [
      "[I 2024-06-25 03:35:05,492] Trial 475 finished with value: 0.8282968209414624 and parameters: {'boosting_type': 'goss', 'num_leaves': 13, 'max_depth': 39, 'learning_rate': 0.008863866472801598, 'n_estimators': 901, 'min_child_samples': 46, 'subsample': 0.6703372826299044, 'colsample_bytree': 0.6386404636472532, 'reg_alpha': 8.030836741034355, 'reg_lambda': 3.4407646627613273, 'top_rate': 0.35450311319311373, 'other_rate': 0.44950488352754886, 'threshold': 51}. Best is trial 115 with value: 0.833337460463145.\n"
     ]
    },
    {
     "name": "stdout",
     "output_type": "stream",
     "text": [
      "Score: 0.8282968209414624\n",
      "Fold 1\n",
      "Fold 2\n",
      "Fold 3\n"
     ]
    },
    {
     "name": "stderr",
     "output_type": "stream",
     "text": [
      "[I 2024-06-25 03:35:35,614] Trial 476 finished with value: 0.475538039576432 and parameters: {'boosting_type': 'goss', 'num_leaves': 48, 'max_depth': 35, 'learning_rate': 0.00015251900712049717, 'n_estimators': 690, 'min_child_samples': 52, 'subsample': 0.848754773105445, 'colsample_bytree': 0.718821936359905, 'reg_alpha': 0.9434471465672466, 'reg_lambda': 0.04375486704595184, 'top_rate': 0.18784692211706933, 'other_rate': 0.47081910904419644, 'threshold': 68}. Best is trial 115 with value: 0.833337460463145.\n"
     ]
    },
    {
     "name": "stdout",
     "output_type": "stream",
     "text": [
      "Score: 0.475538039576432\n",
      "Fold 1\n",
      "Fold 2\n",
      "Fold 3\n"
     ]
    },
    {
     "name": "stderr",
     "output_type": "stream",
     "text": [
      "[I 2024-06-25 03:37:04,940] Trial 477 finished with value: 0.8310889398809751 and parameters: {'boosting_type': 'goss', 'num_leaves': 202, 'max_depth': 37, 'learning_rate': 0.01686801339361287, 'n_estimators': 963, 'min_child_samples': 49, 'subsample': 0.5985736733690366, 'colsample_bytree': 0.6700292467311965, 'reg_alpha': 6.528999089924903e-07, 'reg_lambda': 0.001463921997728238, 'top_rate': 0.1373377651801597, 'other_rate': 0.4826880156175731, 'threshold': 54}. Best is trial 115 with value: 0.833337460463145.\n"
     ]
    },
    {
     "name": "stdout",
     "output_type": "stream",
     "text": [
      "Score: 0.8310889398809751\n",
      "Fold 1\n",
      "Fold 2\n",
      "Fold 3\n"
     ]
    },
    {
     "name": "stderr",
     "output_type": "stream",
     "text": [
      "[I 2024-06-25 03:39:09,040] Trial 478 finished with value: 0.8319661163787232 and parameters: {'boosting_type': 'dart', 'num_leaves': 25, 'max_depth': 31, 'learning_rate': 0.02471496886857298, 'n_estimators': 939, 'min_child_samples': 42, 'subsample': 0.639003341142013, 'colsample_bytree': 0.5682993432425019, 'reg_alpha': 1.6523290647721115e-05, 'reg_lambda': 0.006113222209519821, 'drop_rate': 0.16377522472021713, 'skip_drop': 0.6972078930277552, 'threshold': 61}. Best is trial 115 with value: 0.833337460463145.\n"
     ]
    },
    {
     "name": "stdout",
     "output_type": "stream",
     "text": [
      "Score: 0.8319661163787232\n",
      "Fold 1\n",
      "Fold 2\n",
      "Fold 3\n"
     ]
    },
    {
     "name": "stderr",
     "output_type": "stream",
     "text": [
      "[I 2024-06-25 03:39:42,499] Trial 479 finished with value: 0.475538039576432 and parameters: {'boosting_type': 'goss', 'num_leaves': 31, 'max_depth': 34, 'learning_rate': 2.93671346629078e-05, 'n_estimators': 969, 'min_child_samples': 85, 'subsample': 0.7318124412171967, 'colsample_bytree': 0.7746381828412578, 'reg_alpha': 0.004223785134718489, 'reg_lambda': 1.64973306844082, 'top_rate': 0.08633044258882167, 'other_rate': 0.45993914968420646, 'threshold': 59}. Best is trial 115 with value: 0.833337460463145.\n"
     ]
    },
    {
     "name": "stdout",
     "output_type": "stream",
     "text": [
      "Score: 0.475538039576432\n",
      "Fold 1\n",
      "Fold 2\n",
      "Fold 3\n"
     ]
    },
    {
     "name": "stderr",
     "output_type": "stream",
     "text": [
      "[I 2024-06-25 03:40:15,420] Trial 480 finished with value: 0.8327444450723896 and parameters: {'boosting_type': 'goss', 'num_leaves': 40, 'max_depth': 53, 'learning_rate': 0.013419387339928463, 'n_estimators': 921, 'min_child_samples': 34, 'subsample': 0.6949496093705056, 'colsample_bytree': 0.6287372362085171, 'reg_alpha': 9.832129532229761e-08, 'reg_lambda': 0.0010231568673734833, 'top_rate': 0.0987341595411969, 'other_rate': 0.4175256360939451, 'threshold': 65}. Best is trial 115 with value: 0.833337460463145.\n"
     ]
    },
    {
     "name": "stdout",
     "output_type": "stream",
     "text": [
      "Score: 0.8327444450723896\n",
      "Fold 1\n",
      "Fold 2\n",
      "Fold 3\n"
     ]
    },
    {
     "name": "stderr",
     "output_type": "stream",
     "text": [
      "[I 2024-06-25 03:40:47,886] Trial 481 finished with value: 0.8284203550536854 and parameters: {'boosting_type': 'goss', 'num_leaves': 46, 'max_depth': 28, 'learning_rate': 0.08482949557144426, 'n_estimators': 957, 'min_child_samples': 54, 'subsample': 0.6276410699331975, 'colsample_bytree': 0.656059117310105, 'reg_alpha': 0.2910420399684026, 'reg_lambda': 1.5029445564213547e-05, 'top_rate': 0.19520772182310944, 'other_rate': 0.4067133458789751, 'threshold': 63}. Best is trial 115 with value: 0.833337460463145.\n"
     ]
    },
    {
     "name": "stdout",
     "output_type": "stream",
     "text": [
      "Score: 0.8284203550536854\n",
      "Fold 1\n",
      "Fold 2\n",
      "Fold 3\n"
     ]
    },
    {
     "name": "stderr",
     "output_type": "stream",
     "text": [
      "[I 2024-06-25 03:41:19,766] Trial 482 finished with value: 0.8321390684401758 and parameters: {'boosting_type': 'goss', 'num_leaves': 34, 'max_depth': 25, 'learning_rate': 0.033549983618669454, 'n_estimators': 1000, 'min_child_samples': 37, 'subsample': 0.611838117787905, 'colsample_bytree': 0.604201282522624, 'reg_alpha': 8.907588999750121e-07, 'reg_lambda': 2.033950771167609e-06, 'top_rate': 0.0743365386061154, 'other_rate': 0.4939332989146844, 'threshold': 58}. Best is trial 115 with value: 0.833337460463145.\n"
     ]
    },
    {
     "name": "stdout",
     "output_type": "stream",
     "text": [
      "Score: 0.8321390684401758\n",
      "Fold 1\n",
      "Fold 2\n",
      "Fold 3\n"
     ]
    },
    {
     "name": "stderr",
     "output_type": "stream",
     "text": [
      "[I 2024-06-25 03:42:32,525] Trial 483 finished with value: 0.8317807916280983 and parameters: {'boosting_type': 'goss', 'num_leaves': 147, 'max_depth': 33, 'learning_rate': 0.0054582589633987615, 'n_estimators': 943, 'min_child_samples': 50, 'subsample': 0.8106107310514262, 'colsample_bytree': 0.5294823781513612, 'reg_alpha': 0.6249735123775729, 'reg_lambda': 4.3133691421235545, 'top_rate': 0.060598514010912645, 'other_rate': 0.3548143916298255, 'threshold': 61}. Best is trial 115 with value: 0.833337460463145.\n"
     ]
    },
    {
     "name": "stdout",
     "output_type": "stream",
     "text": [
      "Score: 0.8317807916280983\n",
      "Fold 1\n",
      "Fold 2\n",
      "Fold 3\n"
     ]
    },
    {
     "name": "stderr",
     "output_type": "stream",
     "text": [
      "[I 2024-06-25 03:43:02,571] Trial 484 finished with value: 0.8313483931581245 and parameters: {'boosting_type': 'goss', 'num_leaves': 19, 'max_depth': 36, 'learning_rate': 0.011377960414070968, 'n_estimators': 982, 'min_child_samples': 57, 'subsample': 0.6756462211503176, 'colsample_bytree': 0.6189460027782492, 'reg_alpha': 0.14361574497606625, 'reg_lambda': 0.01044807062368531, 'top_rate': 0.0077991829066433455, 'other_rate': 0.39556519850128175, 'threshold': 49}. Best is trial 115 with value: 0.833337460463145.\n"
     ]
    },
    {
     "name": "stdout",
     "output_type": "stream",
     "text": [
      "Score: 0.8313483931581245\n",
      "Fold 1\n",
      "Fold 2\n",
      "Fold 3\n"
     ]
    },
    {
     "name": "stderr",
     "output_type": "stream",
     "text": [
      "[I 2024-06-25 03:43:33,468] Trial 485 finished with value: 0.475538039576432 and parameters: {'boosting_type': 'goss', 'num_leaves': 27, 'max_depth': 32, 'learning_rate': 1.194209512934043e-08, 'n_estimators': 874, 'min_child_samples': 46, 'subsample': 0.5547118297231973, 'colsample_bytree': 0.6425752379947813, 'reg_alpha': 1.2777405040368175, 'reg_lambda': 0.2812179465494293, 'top_rate': 0.11445941114757248, 'other_rate': 0.2778751624585411, 'threshold': 56}. Best is trial 115 with value: 0.833337460463145.\n"
     ]
    },
    {
     "name": "stdout",
     "output_type": "stream",
     "text": [
      "Score: 0.475538039576432\n",
      "Fold 1\n",
      "Fold 2\n",
      "Fold 3\n"
     ]
    },
    {
     "name": "stderr",
     "output_type": "stream",
     "text": [
      "[I 2024-06-25 03:45:13,762] Trial 486 finished with value: 0.826060660684934 and parameters: {'boosting_type': 'goss', 'num_leaves': 256, 'max_depth': 37, 'learning_rate': 0.04909909800564103, 'n_estimators': 902, 'min_child_samples': 44, 'subsample': 0.5678999804912309, 'colsample_bytree': 0.6289427986965976, 'reg_alpha': 0.4015213504255666, 'reg_lambda': 0.5283073463972113, 'top_rate': 0.15117807964749347, 'other_rate': 0.4998046500999772, 'threshold': 53}. Best is trial 115 with value: 0.833337460463145.\n"
     ]
    },
    {
     "name": "stdout",
     "output_type": "stream",
     "text": [
      "Score: 0.826060660684934\n",
      "Fold 1\n",
      "Fold 2\n",
      "Fold 3\n"
     ]
    },
    {
     "name": "stderr",
     "output_type": "stream",
     "text": [
      "[I 2024-06-25 03:46:33,483] Trial 487 finished with value: 0.829853492066052 and parameters: {'boosting_type': 'goss', 'num_leaves': 164, 'max_depth': 40, 'learning_rate': 0.02016211892670685, 'n_estimators': 963, 'min_child_samples': 59, 'subsample': 0.8737745075607448, 'colsample_bytree': 0.6843812862179918, 'reg_alpha': 0.0007418886210082108, 'reg_lambda': 6.27490844894504e-06, 'top_rate': 0.08923742198401022, 'other_rate': 0.48037521793787197, 'threshold': 70}. Best is trial 115 with value: 0.833337460463145.\n"
     ]
    },
    {
     "name": "stdout",
     "output_type": "stream",
     "text": [
      "Score: 0.829853492066052\n",
      "Fold 1\n",
      "Fold 2\n",
      "Fold 3\n"
     ]
    },
    {
     "name": "stderr",
     "output_type": "stream",
     "text": [
      "[I 2024-06-25 03:47:09,057] Trial 488 finished with value: 0.8171036327744825 and parameters: {'boosting_type': 'goss', 'num_leaves': 43, 'max_depth': 23, 'learning_rate': 0.0011123413529591482, 'n_estimators': 835, 'min_child_samples': 48, 'subsample': 0.6490711663679894, 'colsample_bytree': 0.7449414536269177, 'reg_alpha': 2.381158737953405e-06, 'reg_lambda': 0.09373513822585482, 'top_rate': 0.10298652952065832, 'other_rate': 0.46739235993598327, 'threshold': 67}. Best is trial 115 with value: 0.833337460463145.\n"
     ]
    },
    {
     "name": "stdout",
     "output_type": "stream",
     "text": [
      "Score: 0.8171036327744825\n",
      "Fold 1\n",
      "Fold 2\n",
      "Fold 3\n"
     ]
    },
    {
     "name": "stderr",
     "output_type": "stream",
     "text": [
      "[I 2024-06-25 03:47:49,011] Trial 489 finished with value: 0.8323861595600496 and parameters: {'boosting_type': 'goss', 'num_leaves': 60, 'max_depth': 27, 'learning_rate': 0.02687756030616037, 'n_estimators': 931, 'min_child_samples': 43, 'subsample': 0.8945978788011524, 'colsample_bytree': 0.6143293791231392, 'reg_alpha': 2.0045126951240855e-07, 'reg_lambda': 8.174185622864541e-08, 'top_rate': 0.08125429883301272, 'other_rate': 0.43548444847668255, 'threshold': 60}. Best is trial 115 with value: 0.833337460463145.\n"
     ]
    },
    {
     "name": "stdout",
     "output_type": "stream",
     "text": [
      "Score: 0.8323861595600496\n",
      "Fold 1\n",
      "Fold 2\n",
      "Fold 3\n"
     ]
    },
    {
     "name": "stderr",
     "output_type": "stream",
     "text": [
      "[I 2024-06-25 03:48:36,060] Trial 490 finished with value: 0.475538039576432 and parameters: {'boosting_type': 'goss', 'num_leaves': 69, 'max_depth': 30, 'learning_rate': 9.783853608756386e-05, 'n_estimators': 984, 'min_child_samples': 51, 'subsample': 0.7122360604651626, 'colsample_bytree': 0.7321931428051847, 'reg_alpha': 0.2170485179734711, 'reg_lambda': 9.951753684676815, 'top_rate': 0.046891819106032344, 'other_rate': 0.47596158732307453, 'threshold': 64}. Best is trial 115 with value: 0.833337460463145.\n"
     ]
    },
    {
     "name": "stdout",
     "output_type": "stream",
     "text": [
      "Score: 0.475538039576432\n",
      "Fold 1\n",
      "Fold 2\n",
      "Fold 3\n"
     ]
    },
    {
     "name": "stderr",
     "output_type": "stream",
     "text": [
      "[I 2024-06-25 03:49:39,131] Trial 491 finished with value: 0.8323367480215396 and parameters: {'boosting_type': 'goss', 'num_leaves': 119, 'max_depth': 35, 'learning_rate': 0.006927950595196317, 'n_estimators': 947, 'min_child_samples': 54, 'subsample': 0.5876293247958627, 'colsample_bytree': 0.5419321031347621, 'reg_alpha': 0.0831390848651075, 'reg_lambda': 2.554251675082585, 'top_rate': 0.11898818907074403, 'other_rate': 0.48812160181870423, 'threshold': 58}. Best is trial 115 with value: 0.833337460463145.\n"
     ]
    },
    {
     "name": "stdout",
     "output_type": "stream",
     "text": [
      "Score: 0.8323367480215396\n",
      "Fold 1\n",
      "Fold 2\n",
      "Fold 3\n"
     ]
    },
    {
     "name": "stderr",
     "output_type": "stream",
     "text": [
      "[I 2024-06-25 03:50:20,660] Trial 492 finished with value: 0.8322626062156674 and parameters: {'boosting_type': 'goss', 'num_leaves': 50, 'max_depth': 33, 'learning_rate': 0.01570929404712422, 'n_estimators': 967, 'min_child_samples': 47, 'subsample': 0.7470155127923515, 'colsample_bytree': 0.5099866382520112, 'reg_alpha': 0.8229723075101458, 'reg_lambda': 0.0031677816016718635, 'top_rate': 0.44114868245872657, 'other_rate': 0.37188261701050285, 'threshold': 62}. Best is trial 115 with value: 0.833337460463145.\n"
     ]
    },
    {
     "name": "stdout",
     "output_type": "stream",
     "text": [
      "Score: 0.8322626062156674\n",
      "Fold 1\n",
      "Fold 2\n",
      "Fold 3\n"
     ]
    },
    {
     "name": "stderr",
     "output_type": "stream",
     "text": [
      "[I 2024-06-25 03:50:34,218] Trial 493 finished with value: 0.8309901163460469 and parameters: {'boosting_type': 'goss', 'num_leaves': 11, 'max_depth': 19, 'learning_rate': 0.035372313971107655, 'n_estimators': 595, 'min_child_samples': 61, 'subsample': 0.6174630893022002, 'colsample_bytree': 0.5895178342755173, 'reg_alpha': 0.3951376444046081, 'reg_lambda': 2.5961315722222176e-06, 'top_rate': 0.038959848287475424, 'other_rate': 0.30821335456065874, 'threshold': 55}. Best is trial 115 with value: 0.833337460463145.\n"
     ]
    },
    {
     "name": "stdout",
     "output_type": "stream",
     "text": [
      "Score: 0.8309901163460469\n",
      "Fold 1\n",
      "Fold 2\n",
      "Fold 3\n"
     ]
    },
    {
     "name": "stderr",
     "output_type": "stream",
     "text": [
      "[I 2024-06-25 03:51:03,269] Trial 494 finished with value: 0.738553549021634 and parameters: {'boosting_type': 'goss', 'num_leaves': 22, 'max_depth': 31, 'learning_rate': 0.00033301788259384915, 'n_estimators': 986, 'min_child_samples': 40, 'subsample': 0.774657559093772, 'colsample_bytree': 0.6499380792599615, 'reg_alpha': 0.030947912360888112, 'reg_lambda': 5.699264340202111e-06, 'top_rate': 0.13277980726094496, 'other_rate': 0.4542185795163486, 'threshold': 65}. Best is trial 115 with value: 0.833337460463145.\n"
     ]
    },
    {
     "name": "stdout",
     "output_type": "stream",
     "text": [
      "Score: 0.738553549021634\n",
      "Fold 1\n",
      "Fold 2\n",
      "Fold 3\n"
     ]
    },
    {
     "name": "stderr",
     "output_type": "stream",
     "text": [
      "[I 2024-06-25 03:51:12,111] Trial 495 finished with value: 0.475538039576432 and parameters: {'boosting_type': 'gbdt', 'num_leaves': 38, 'max_depth': 34, 'learning_rate': 2.395010915460936e-05, 'n_estimators': 216, 'min_child_samples': 49, 'subsample': 0.5999394769189068, 'colsample_bytree': 0.8170169881509304, 'reg_alpha': 1.1377370309998189e-05, 'reg_lambda': 0.7731750335896665, 'threshold': 46}. Best is trial 115 with value: 0.833337460463145.\n"
     ]
    },
    {
     "name": "stdout",
     "output_type": "stream",
     "text": [
      "Score: 0.475538039576432\n",
      "Fold 1\n",
      "Fold 2\n",
      "Fold 3\n"
     ]
    },
    {
     "name": "stderr",
     "output_type": "stream",
     "text": [
      "[I 2024-06-25 03:51:39,913] Trial 496 finished with value: 0.8203899257113886 and parameters: {'boosting_type': 'goss', 'num_leaves': 31, 'max_depth': 41, 'learning_rate': 0.18406041292084055, 'n_estimators': 1000, 'min_child_samples': 45, 'subsample': 0.9935869367431822, 'colsample_bytree': 0.634460317884151, 'reg_alpha': 0.0001035346496822868, 'reg_lambda': 8.123370192294956e-05, 'top_rate': 0.06886423122302926, 'other_rate': 0.4664756542129711, 'threshold': 60}. Best is trial 115 with value: 0.833337460463145.\n"
     ]
    },
    {
     "name": "stdout",
     "output_type": "stream",
     "text": [
      "Score: 0.8203899257113886\n",
      "Fold 1\n",
      "Fold 2\n",
      "Fold 3\n"
     ]
    },
    {
     "name": "stderr",
     "output_type": "stream",
     "text": [
      "[I 2024-06-25 03:52:15,382] Trial 497 finished with value: 0.653000329959747 and parameters: {'boosting_type': 'goss', 'num_leaves': 54, 'max_depth': 57, 'learning_rate': 0.891570533009289, 'n_estimators': 916, 'min_child_samples': 53, 'subsample': 0.8485615578320572, 'colsample_bytree': 0.6648720680948238, 'reg_alpha': 0.0001395217641970257, 'reg_lambda': 0.1571153342919156, 'top_rate': 0.2229461258010565, 'other_rate': 0.20731416233791408, 'threshold': 62}. Best is trial 115 with value: 0.833337460463145.\n"
     ]
    },
    {
     "name": "stdout",
     "output_type": "stream",
     "text": [
      "Score: 0.653000329959747\n",
      "Fold 1\n",
      "Fold 2\n",
      "Fold 3\n"
     ]
    },
    {
     "name": "stderr",
     "output_type": "stream",
     "text": [
      "[I 2024-06-25 03:54:47,681] Trial 498 finished with value: 0.8256158826571595 and parameters: {'boosting_type': 'dart', 'num_leaves': 18, 'max_depth': 29, 'learning_rate': 0.010333208552221569, 'n_estimators': 948, 'min_child_samples': 56, 'subsample': 0.6323686260207664, 'colsample_bytree': 0.5770250272908783, 'reg_alpha': 0.00040038501535727254, 'reg_lambda': 1.5398350467993769, 'drop_rate': 0.23173504209357323, 'skip_drop': 0.5933953988534819, 'threshold': 57}. Best is trial 115 with value: 0.833337460463145.\n"
     ]
    },
    {
     "name": "stdout",
     "output_type": "stream",
     "text": [
      "Score: 0.8256158826571595\n",
      "Fold 1\n",
      "Fold 2\n",
      "Fold 3\n"
     ]
    },
    {
     "name": "stderr",
     "output_type": "stream",
     "text": [
      "[I 2024-06-25 03:55:28,378] Trial 499 finished with value: 0.832176142548472 and parameters: {'boosting_type': 'goss', 'num_leaves': 45, 'max_depth': 38, 'learning_rate': 0.01974823223367723, 'n_estimators': 972, 'min_child_samples': 51, 'subsample': 0.605178716834204, 'colsample_bytree': 0.6043920675664373, 'reg_alpha': 3.643992228656732e-05, 'reg_lambda': 1.1904934018110683e-06, 'top_rate': 0.09128860311912089, 'other_rate': 0.34090998011695184, 'threshold': 59}. Best is trial 115 with value: 0.833337460463145.\n"
     ]
    },
    {
     "name": "stdout",
     "output_type": "stream",
     "text": [
      "Score: 0.832176142548472\n",
      "Fold 1\n",
      "Fold 2\n",
      "Fold 3\n"
     ]
    },
    {
     "name": "stderr",
     "output_type": "stream",
     "text": [
      "[I 2024-06-25 03:55:58,019] Trial 500 finished with value: 0.475538039576432 and parameters: {'boosting_type': 'goss', 'num_leaves': 26, 'max_depth': 36, 'learning_rate': 3.774971787271022e-05, 'n_estimators': 934, 'min_child_samples': 47, 'subsample': 0.6562550513224256, 'colsample_bytree': 0.8464768175162274, 'reg_alpha': 0.16970024234235173, 'reg_lambda': 0.023805858890116518, 'top_rate': 0.16721935589779452, 'other_rate': 0.485270421411824, 'threshold': 64}. Best is trial 115 with value: 0.833337460463145.\n"
     ]
    },
    {
     "name": "stdout",
     "output_type": "stream",
     "text": [
      "Score: 0.475538039576432\n",
      "Fold 1\n",
      "Fold 2\n",
      "Fold 3\n"
     ]
    },
    {
     "name": "stderr",
     "output_type": "stream",
     "text": [
      "[I 2024-06-25 03:56:27,032] Trial 501 finished with value: 0.8291492786195617 and parameters: {'boosting_type': 'goss', 'num_leaves': 34, 'max_depth': 32, 'learning_rate': 0.059294312222641705, 'n_estimators': 963, 'min_child_samples': 42, 'subsample': 0.6408933625372863, 'colsample_bytree': 0.6235531757281418, 'reg_alpha': 0.5982590706687431, 'reg_lambda': 7.014751348289547, 'top_rate': 0.10195285712445483, 'other_rate': 0.476181880200615, 'threshold': 12}. Best is trial 115 with value: 0.833337460463145.\n"
     ]
    },
    {
     "name": "stdout",
     "output_type": "stream",
     "text": [
      "Score: 0.8291492786195617\n",
      "Fold 1\n",
      "Fold 2\n",
      "Fold 3\n"
     ]
    },
    {
     "name": "stderr",
     "output_type": "stream",
     "text": [
      "[I 2024-06-25 03:57:01,827] Trial 502 finished with value: 0.475538039576432 and parameters: {'boosting_type': 'goss', 'num_leaves': 41, 'max_depth': 37, 'learning_rate': 1.2629115012814416e-07, 'n_estimators': 894, 'min_child_samples': 58, 'subsample': 0.7203693634437336, 'colsample_bytree': 0.5587356603739142, 'reg_alpha': 5.105599825234056e-06, 'reg_lambda': 4.838185607874967, 'top_rate': 0.07899084740754446, 'other_rate': 0.4924293963425456, 'threshold': 51}. Best is trial 115 with value: 0.833337460463145.\n"
     ]
    },
    {
     "name": "stdout",
     "output_type": "stream",
     "text": [
      "Score: 0.475538039576432\n",
      "Fold 1\n",
      "Fold 2\n",
      "Fold 3\n"
     ]
    },
    {
     "name": "stderr",
     "output_type": "stream",
     "text": [
      "[I 2024-06-25 03:58:15,902] Trial 503 finished with value: 0.8295940369572684 and parameters: {'boosting_type': 'goss', 'num_leaves': 138, 'max_depth': 35, 'learning_rate': 0.003354358994730107, 'n_estimators': 980, 'min_child_samples': 49, 'subsample': 0.6961046580013368, 'colsample_bytree': 0.6424481864319604, 'reg_alpha': 5.327342076734025e-05, 'reg_lambda': 0.0632741681503141, 'top_rate': 0.14400487120972694, 'other_rate': 0.44896739702347965, 'threshold': 67}. Best is trial 115 with value: 0.833337460463145.\n"
     ]
    },
    {
     "name": "stdout",
     "output_type": "stream",
     "text": [
      "Score: 0.8295940369572684\n",
      "Fold 1\n",
      "Fold 2\n",
      "Fold 3\n"
     ]
    },
    {
     "name": "stderr",
     "output_type": "stream",
     "text": [
      "[I 2024-06-25 03:59:05,788] Trial 504 finished with value: 0.475538039576432 and parameters: {'boosting_type': 'goss', 'num_leaves': 56, 'max_depth': 26, 'learning_rate': 5.2047684163609405e-06, 'n_estimators': 951, 'min_child_samples': 46, 'subsample': 0.6843981450459667, 'colsample_bytree': 0.7656987841382589, 'reg_alpha': 0.004413645616743163, 'reg_lambda': 3.5552258040713052e-06, 'top_rate': 0.029698938622111898, 'other_rate': 0.39325384720468703, 'threshold': 61}. Best is trial 115 with value: 0.833337460463145.\n"
     ]
    },
    {
     "name": "stdout",
     "output_type": "stream",
     "text": [
      "Score: 0.475538039576432\n",
      "Fold 1\n",
      "Fold 2\n",
      "Fold 3\n"
     ]
    },
    {
     "name": "stderr",
     "output_type": "stream",
     "text": [
      "[I 2024-06-25 03:59:23,670] Trial 505 finished with value: 0.475538039576432 and parameters: {'boosting_type': 'goss', 'num_leaves': 8, 'max_depth': 31, 'learning_rate': 1.7007738090179682e-08, 'n_estimators': 916, 'min_child_samples': 44, 'subsample': 0.5799459637279734, 'colsample_bytree': 0.6143267672564516, 'reg_alpha': 0.0169547344905036, 'reg_lambda': 0.00022166113384685588, 'top_rate': 0.2070740652832959, 'other_rate': 0.29549801915403584, 'threshold': 57}. Best is trial 115 with value: 0.833337460463145.\n"
     ]
    },
    {
     "name": "stdout",
     "output_type": "stream",
     "text": [
      "Score: 0.475538039576432\n",
      "Fold 1\n",
      "Fold 2\n",
      "Fold 3\n"
     ]
    },
    {
     "name": "stderr",
     "output_type": "stream",
     "text": [
      "[I 2024-06-25 03:59:48,831] Trial 506 finished with value: 0.8328062114416385 and parameters: {'boosting_type': 'goss', 'num_leaves': 24, 'max_depth': 34, 'learning_rate': 0.02507540743048107, 'n_estimators': 938, 'min_child_samples': 51, 'subsample': 0.626732219275198, 'colsample_bytree': 0.6773372708109279, 'reg_alpha': 3.021781446561208e-07, 'reg_lambda': 1.2269399979754718e-05, 'top_rate': 0.15736044066129956, 'other_rate': 0.412935221223789, 'threshold': 63}. Best is trial 115 with value: 0.833337460463145.\n"
     ]
    },
    {
     "name": "stdout",
     "output_type": "stream",
     "text": [
      "Score: 0.8328062114416385\n",
      "Fold 1\n",
      "Fold 2\n",
      "Fold 3\n"
     ]
    },
    {
     "name": "stderr",
     "output_type": "stream",
     "text": [
      "[I 2024-06-25 04:00:31,868] Trial 507 finished with value: 0.823997447452864 and parameters: {'boosting_type': 'goss', 'num_leaves': 51, 'max_depth': 33, 'learning_rate': 0.0017292541240244892, 'n_estimators': 985, 'min_child_samples': 48, 'subsample': 0.7942232024760592, 'colsample_bytree': 0.698847060444242, 'reg_alpha': 0.0002232312431916031, 'reg_lambda': 0.03796861096333472, 'top_rate': 0.11040899049903777, 'other_rate': 0.49974544052086084, 'threshold': 54}. Best is trial 115 with value: 0.833337460463145.\n"
     ]
    },
    {
     "name": "stdout",
     "output_type": "stream",
     "text": [
      "Score: 0.823997447452864\n",
      "Fold 1\n",
      "Fold 2\n",
      "Fold 3\n"
     ]
    },
    {
     "name": "stderr",
     "output_type": "stream",
     "text": [
      "[I 2024-06-25 04:00:54,299] Trial 508 finished with value: 0.8306565290474704 and parameters: {'boosting_type': 'goss', 'num_leaves': 14, 'max_depth': 29, 'learning_rate': 0.014182660161083263, 'n_estimators': 959, 'min_child_samples': 38, 'subsample': 0.7348090635983722, 'colsample_bytree': 0.7160160545111897, 'reg_alpha': 0.276456380879339, 'reg_lambda': 3.064106374230279e-07, 'top_rate': 0.3029885206152071, 'other_rate': 0.4619500681002501, 'threshold': 59}. Best is trial 115 with value: 0.833337460463145.\n"
     ]
    },
    {
     "name": "stdout",
     "output_type": "stream",
     "text": [
      "Score: 0.8306565290474704\n",
      "Fold 1\n",
      "Fold 2\n",
      "Fold 3\n"
     ]
    },
    {
     "name": "stderr",
     "output_type": "stream",
     "text": [
      "[I 2024-06-25 04:01:21,403] Trial 509 finished with value: 0.830878906842598 and parameters: {'boosting_type': 'goss', 'num_leaves': 30, 'max_depth': 38, 'learning_rate': 0.008355035250732086, 'n_estimators': 784, 'min_child_samples': 62, 'subsample': 0.780751424471764, 'colsample_bytree': 0.6549601741159614, 'reg_alpha': 0.1122599112598435, 'reg_lambda': 0.3951057223021253, 'top_rate': 0.12286583889048694, 'other_rate': 0.48206134371223736, 'threshold': 62}. Best is trial 115 with value: 0.833337460463145.\n"
     ]
    },
    {
     "name": "stdout",
     "output_type": "stream",
     "text": [
      "Score: 0.830878906842598\n",
      "Fold 1\n",
      "Fold 2\n",
      "Fold 3\n"
     ]
    },
    {
     "name": "stderr",
     "output_type": "stream",
     "text": [
      "[I 2024-06-25 04:01:48,394] Trial 510 finished with value: 0.825776498662124 and parameters: {'boosting_type': 'goss', 'num_leaves': 37, 'max_depth': 35, 'learning_rate': 0.10184963563567516, 'n_estimators': 750, 'min_child_samples': 78, 'subsample': 0.76894664262277, 'colsample_bytree': 0.6349136294338341, 'reg_alpha': 2.048725971644727, 'reg_lambda': 0.0004097779227182376, 'top_rate': 0.05464995203838128, 'other_rate': 0.4750837720392101, 'threshold': 65}. Best is trial 115 with value: 0.833337460463145.\n"
     ]
    },
    {
     "name": "stdout",
     "output_type": "stream",
     "text": [
      "Score: 0.825776498662124\n",
      "Fold 1\n",
      "Fold 2\n",
      "Fold 3\n"
     ]
    },
    {
     "name": "stderr",
     "output_type": "stream",
     "text": [
      "[I 2024-06-25 04:02:26,280] Trial 511 finished with value: 0.7610387873548407 and parameters: {'boosting_type': 'goss', 'num_leaves': 45, 'max_depth': 39, 'learning_rate': 0.0004114140365094804, 'n_estimators': 926, 'min_child_samples': 55, 'subsample': 0.75516662120081, 'colsample_bytree': 0.5958398127959045, 'reg_alpha': 0.05791236263308348, 'reg_lambda': 3.141800441302676, 'top_rate': 0.0944506612468358, 'other_rate': 0.4285470727499855, 'threshold': 56}. Best is trial 115 with value: 0.833337460463145.\n"
     ]
    },
    {
     "name": "stdout",
     "output_type": "stream",
     "text": [
      "Score: 0.7610387873548407\n",
      "Fold 1\n",
      "Fold 2\n",
      "Fold 3\n"
     ]
    },
    {
     "name": "stderr",
     "output_type": "stream",
     "text": [
      "[I 2024-06-25 04:02:52,727] Trial 512 finished with value: 0.475538039576432 and parameters: {'boosting_type': 'goss', 'num_leaves': 19, 'max_depth': 28, 'learning_rate': 3.903370087018961e-06, 'n_estimators': 967, 'min_child_samples': 45, 'subsample': 0.6165342920508475, 'colsample_bytree': 0.6241916459703943, 'reg_alpha': 3.990482860186929, 'reg_lambda': 1.0147817958346494, 'top_rate': 0.21397280315638445, 'other_rate': 0.4909299241268358, 'threshold': 60}. Best is trial 115 with value: 0.833337460463145.\n"
     ]
    },
    {
     "name": "stdout",
     "output_type": "stream",
     "text": [
      "Score: 0.475538039576432\n",
      "Fold 1\n",
      "Fold 2\n",
      "Fold 3\n"
     ]
    },
    {
     "name": "stderr",
     "output_type": "stream",
     "text": [
      "[I 2024-06-25 04:03:33,521] Trial 513 finished with value: 0.8311259975045632 and parameters: {'boosting_type': 'goss', 'num_leaves': 64, 'max_depth': 30, 'learning_rate': 0.03979705415122685, 'n_estimators': 988, 'min_child_samples': 41, 'subsample': 0.6690728467336676, 'colsample_bytree': 0.7409066392299007, 'reg_alpha': 0.42723200779310394, 'reg_lambda': 6.783039480076085e-07, 'top_rate': 0.33543599487095677, 'other_rate': 0.4669157540716821, 'threshold': 52}. Best is trial 115 with value: 0.833337460463145.\n"
     ]
    },
    {
     "name": "stdout",
     "output_type": "stream",
     "text": [
      "Score: 0.8311259975045632\n",
      "Fold 1\n",
      "Fold 2\n",
      "Fold 3\n"
     ]
    },
    {
     "name": "stderr",
     "output_type": "stream",
     "text": [
      "[I 2024-06-25 04:04:09,112] Trial 514 finished with value: 0.475538039576432 and parameters: {'boosting_type': 'goss', 'num_leaves': 30, 'max_depth': 37, 'learning_rate': 5.595266611660838e-05, 'n_estimators': 947, 'min_child_samples': 53, 'subsample': 0.5456611644362392, 'colsample_bytree': 0.6458854735300741, 'reg_alpha': 7.961250446885063e-05, 'reg_lambda': 0.0023198281066601715, 'top_rate': 0.06966723831221631, 'other_rate': 0.31443195981104355, 'threshold': 40}. Best is trial 115 with value: 0.833337460463145.\n"
     ]
    },
    {
     "name": "stdout",
     "output_type": "stream",
     "text": [
      "Score: 0.475538039576432\n",
      "Fold 1\n",
      "Fold 2\n",
      "Fold 3\n"
     ]
    },
    {
     "name": "stderr",
     "output_type": "stream",
     "text": [
      "[I 2024-06-25 04:04:45,455] Trial 515 finished with value: 0.475538039576432 and parameters: {'boosting_type': 'goss', 'num_leaves': 39, 'max_depth': 47, 'learning_rate': 1.0648307158697179e-08, 'n_estimators': 973, 'min_child_samples': 50, 'subsample': 0.7418239588336526, 'colsample_bytree': 0.6099282674828339, 'reg_alpha': 1.231493521532709, 'reg_lambda': 2.0411742058668794, 'top_rate': 0.0855899426758891, 'other_rate': 0.4827953700835303, 'threshold': 49}. Best is trial 115 with value: 0.833337460463145.\n"
     ]
    },
    {
     "name": "stdout",
     "output_type": "stream",
     "text": [
      "Score: 0.475538039576432\n",
      "Fold 1\n",
      "Fold 2\n",
      "Fold 3\n"
     ]
    },
    {
     "name": "stderr",
     "output_type": "stream",
     "text": [
      "[I 2024-06-25 04:05:25,774] Trial 516 finished with value: 0.475538039576432 and parameters: {'boosting_type': 'goss', 'num_leaves': 50, 'max_depth': 16, 'learning_rate': 9.102910479799934e-06, 'n_estimators': 901, 'min_child_samples': 47, 'subsample': 0.7051316381261956, 'colsample_bytree': 0.7546673601898569, 'reg_alpha': 0.23500161792077578, 'reg_lambda': 0.20968724705498623, 'top_rate': 0.24499951468232334, 'other_rate': 0.4589272796867658, 'threshold': 63}. Best is trial 115 with value: 0.833337460463145.\n"
     ]
    },
    {
     "name": "stdout",
     "output_type": "stream",
     "text": [
      "Score: 0.475538039576432\n",
      "Fold 1\n",
      "Fold 2\n",
      "Fold 3\n"
     ]
    },
    {
     "name": "stderr",
     "output_type": "stream",
     "text": [
      "[I 2024-06-25 04:05:54,599] Trial 517 finished with value: 0.8313730909139797 and parameters: {'boosting_type': 'gbdt', 'num_leaves': 23, 'max_depth': 32, 'learning_rate': 0.017531458016649702, 'n_estimators': 999, 'min_child_samples': 57, 'subsample': 0.5949488191288869, 'colsample_bytree': 0.7861003083973117, 'reg_alpha': 0.7618700551596705, 'reg_lambda': 0.0007161360476065167, 'threshold': 58}. Best is trial 115 with value: 0.833337460463145.\n"
     ]
    },
    {
     "name": "stdout",
     "output_type": "stream",
     "text": [
      "Score: 0.8313730909139797\n",
      "Fold 1\n",
      "Fold 2\n",
      "Fold 3\n"
     ]
    },
    {
     "name": "stderr",
     "output_type": "stream",
     "text": [
      "[I 2024-06-25 04:06:33,156] Trial 518 finished with value: 0.8322749743257541 and parameters: {'boosting_type': 'goss', 'num_leaves': 57, 'max_depth': 34, 'learning_rate': 0.027235794151067236, 'n_estimators': 932, 'min_child_samples': 43, 'subsample': 0.8197865078749538, 'colsample_bytree': 0.6316861464948463, 'reg_alpha': 0.31518182395825073, 'reg_lambda': 0.015084210509701526, 'top_rate': 0.13320033274985654, 'other_rate': 0.4916785434470837, 'threshold': 96}. Best is trial 115 with value: 0.833337460463145.\n"
     ]
    },
    {
     "name": "stdout",
     "output_type": "stream",
     "text": [
      "Score: 0.8322749743257541\n",
      "Fold 1\n",
      "Fold 2\n",
      "Fold 3\n"
     ]
    },
    {
     "name": "stderr",
     "output_type": "stream",
     "text": [
      "[I 2024-06-25 04:07:09,029] Trial 519 finished with value: 0.8274937990710262 and parameters: {'boosting_type': 'goss', 'num_leaves': 34, 'max_depth': 35, 'learning_rate': 0.06354004885502332, 'n_estimators': 955, 'min_child_samples': 59, 'subsample': 0.8358203702417865, 'colsample_bytree': 0.6590496156409783, 'reg_alpha': 0.49997638883379864, 'reg_lambda': 0.007689636562638765, 'top_rate': 0.014974382331524195, 'other_rate': 0.37760635699342876, 'threshold': 66}. Best is trial 115 with value: 0.833337460463145.\n"
     ]
    },
    {
     "name": "stdout",
     "output_type": "stream",
     "text": [
      "Score: 0.8274937990710262\n",
      "Fold 1\n",
      "Fold 2\n",
      "Fold 3\n"
     ]
    },
    {
     "name": "stderr",
     "output_type": "stream",
     "text": [
      "[I 2024-06-25 04:09:35,810] Trial 520 finished with value: 0.475538039576432 and parameters: {'boosting_type': 'dart', 'num_leaves': 16, 'max_depth': 21, 'learning_rate': 1.264681057046702e-05, 'n_estimators': 870, 'min_child_samples': 49, 'subsample': 0.8683732690452279, 'colsample_bytree': 0.6703702883714202, 'reg_alpha': 1.7048185666749916e-08, 'reg_lambda': 0.00012667955329122665, 'drop_rate': 0.47047262780486093, 'skip_drop': 0.546301129809284, 'threshold': 61}. Best is trial 115 with value: 0.833337460463145.\n"
     ]
    },
    {
     "name": "stdout",
     "output_type": "stream",
     "text": [
      "Score: 0.475538039576432\n",
      "Fold 1\n",
      "Fold 2\n",
      "Fold 3\n"
     ]
    },
    {
     "name": "stderr",
     "output_type": "stream",
     "text": [
      "[I 2024-06-25 04:09:54,544] Trial 521 finished with value: 0.8299276114344053 and parameters: {'boosting_type': 'goss', 'num_leaves': 45, 'max_depth': 31, 'learning_rate': 0.011658179924668244, 'n_estimators': 454, 'min_child_samples': 46, 'subsample': 0.6451549513902355, 'colsample_bytree': 0.6200190715627859, 'reg_alpha': 1.8116941388445296e-06, 'reg_lambda': 5.2775051729643065, 'top_rate': 0.27075582309436014, 'other_rate': 0.4437730806422412, 'threshold': 55}. Best is trial 115 with value: 0.833337460463145.\n"
     ]
    },
    {
     "name": "stdout",
     "output_type": "stream",
     "text": [
      "Score: 0.8299276114344053\n",
      "Fold 1\n",
      "Fold 2\n",
      "Fold 3\n"
     ]
    },
    {
     "name": "stderr",
     "output_type": "stream",
     "text": [
      "[I 2024-06-25 04:10:26,847] Trial 522 finished with value: 0.8291122063428998 and parameters: {'boosting_type': 'goss', 'num_leaves': 28, 'max_depth': 43, 'learning_rate': 0.0053249866541321845, 'n_estimators': 978, 'min_child_samples': 51, 'subsample': 0.6031058434050913, 'colsample_bytree': 0.6409497695092767, 'reg_alpha': 0.13850334257265226, 'reg_lambda': 1.3409828252821159, 'top_rate': 0.10659522471227599, 'other_rate': 0.47285859106727474, 'threshold': 58}. Best is trial 115 with value: 0.833337460463145.\n"
     ]
    },
    {
     "name": "stdout",
     "output_type": "stream",
     "text": [
      "Score: 0.8291122063428998\n",
      "Fold 1\n",
      "Fold 2\n",
      "Fold 3\n"
     ]
    },
    {
     "name": "stderr",
     "output_type": "stream",
     "text": [
      "[I 2024-06-25 04:10:42,202] Trial 523 finished with value: 0.8284450610518945 and parameters: {'boosting_type': 'goss', 'num_leaves': 5, 'max_depth': 51, 'learning_rate': 0.020870535560262606, 'n_estimators': 1000, 'min_child_samples': 53, 'subsample': 0.5651637635770155, 'colsample_bytree': 0.9213768528536894, 'reg_alpha': 0.0012193253689732255, 'reg_lambda': 3.3440943186551, 'top_rate': 0.09610914736134675, 'other_rate': 0.4835257936673288, 'threshold': 69}. Best is trial 115 with value: 0.833337460463145.\n"
     ]
    },
    {
     "name": "stdout",
     "output_type": "stream",
     "text": [
      "Score: 0.8284450610518945\n",
      "Fold 1\n",
      "Fold 2\n",
      "Fold 3\n"
     ]
    },
    {
     "name": "stderr",
     "output_type": "stream",
     "text": [
      "[I 2024-06-25 04:11:13,981] Trial 524 finished with value: 0.831336023674312 and parameters: {'boosting_type': 'goss', 'num_leaves': 38, 'max_depth': 27, 'learning_rate': 0.04519289420864853, 'n_estimators': 950, 'min_child_samples': 48, 'subsample': 0.6317334250826331, 'colsample_bytree': 0.5666017689500306, 'reg_alpha': 0.17055804770461747, 'reg_lambda': 0.6179452482760744, 'top_rate': 0.0754072517021484, 'other_rate': 0.4995692889198114, 'threshold': 63}. Best is trial 115 with value: 0.833337460463145.\n"
     ]
    },
    {
     "name": "stdout",
     "output_type": "stream",
     "text": [
      "Score: 0.831336023674312\n",
      "Fold 1\n",
      "Fold 2\n",
      "Fold 3\n"
     ]
    },
    {
     "name": "stderr",
     "output_type": "stream",
     "text": [
      "[I 2024-06-25 04:11:44,247] Trial 525 finished with value: 0.8328803417997969 and parameters: {'boosting_type': 'goss', 'num_leaves': 23, 'max_depth': 36, 'learning_rate': 0.03277811956549988, 'n_estimators': 918, 'min_child_samples': 39, 'subsample': 0.6611498914711068, 'colsample_bytree': 0.725112748555554, 'reg_alpha': 0.6367723916306135, 'reg_lambda': 0.11996842524322868, 'top_rate': 0.11363463980402133, 'other_rate': 0.363140892403143, 'threshold': 61}. Best is trial 115 with value: 0.833337460463145.\n"
     ]
    },
    {
     "name": "stdout",
     "output_type": "stream",
     "text": [
      "Score: 0.8328803417997969\n",
      "Fold 1\n",
      "Fold 2\n",
      "Fold 3\n"
     ]
    },
    {
     "name": "stderr",
     "output_type": "stream",
     "text": [
      "[I 2024-06-25 04:12:24,902] Trial 526 finished with value: 0.8325838386835048 and parameters: {'boosting_type': 'goss', 'num_leaves': 52, 'max_depth': 33, 'learning_rate': 0.013299339344540983, 'n_estimators': 974, 'min_child_samples': 44, 'subsample': 0.7261117070700508, 'colsample_bytree': 0.5967993910406248, 'reg_alpha': 0.013790063890090421, 'reg_lambda': 0.36108108723466575, 'top_rate': 0.14676431884027716, 'other_rate': 0.4730185039910473, 'threshold': 65}. Best is trial 115 with value: 0.833337460463145.\n"
     ]
    },
    {
     "name": "stdout",
     "output_type": "stream",
     "text": [
      "Score: 0.8325838386835048\n",
      "Fold 1\n",
      "Fold 2\n",
      "Fold 3\n"
     ]
    },
    {
     "name": "stderr",
     "output_type": "stream",
     "text": [
      "[I 2024-06-25 04:13:06,610] Trial 527 finished with value: 0.8319043431408463 and parameters: {'boosting_type': 'goss', 'num_leaves': 42, 'max_depth': 39, 'learning_rate': 0.008602587850249397, 'n_estimators': 940, 'min_child_samples': 55, 'subsample': 0.617564020404814, 'colsample_bytree': 0.8741090475745786, 'reg_alpha': 1.0350949796203321, 'reg_lambda': 5.871276028190843e-05, 'top_rate': 0.1254803430006695, 'other_rate': 0.34181579847023896, 'threshold': 59}. Best is trial 115 with value: 0.833337460463145.\n"
     ]
    },
    {
     "name": "stdout",
     "output_type": "stream",
     "text": [
      "Score: 0.8319043431408463\n",
      "Fold 1\n",
      "Fold 2\n",
      "Fold 3\n"
     ]
    },
    {
     "name": "stderr",
     "output_type": "stream",
     "text": [
      "[I 2024-06-25 04:13:44,620] Trial 528 finished with value: 0.8330780277918807 and parameters: {'boosting_type': 'goss', 'num_leaves': 32, 'max_depth': 29, 'learning_rate': 0.019769142324753703, 'n_estimators': 964, 'min_child_samples': 60, 'subsample': 0.9145438547922743, 'colsample_bytree': 0.8027809228961245, 'reg_alpha': 0.06973038241678257, 'reg_lambda': 9.883156030279196, 'top_rate': 0.06281271739299131, 'other_rate': 0.421486524259061, 'threshold': 53}. Best is trial 115 with value: 0.833337460463145.\n"
     ]
    },
    {
     "name": "stdout",
     "output_type": "stream",
     "text": [
      "Score: 0.8330780277918807\n",
      "Fold 1\n",
      "Fold 2\n",
      "Fold 3\n"
     ]
    },
    {
     "name": "stderr",
     "output_type": "stream",
     "text": [
      "[I 2024-06-25 04:14:47,578] Trial 529 finished with value: 0.8304465166149785 and parameters: {'boosting_type': 'goss', 'num_leaves': 108, 'max_depth': 28, 'learning_rate': 0.02303834384437341, 'n_estimators': 973, 'min_child_samples': 60, 'subsample': 0.9405334102622291, 'colsample_bytree': 0.6908416213719653, 'reg_alpha': 0.0381041155662132, 'reg_lambda': 9.566555469190895, 'top_rate': 0.05962391342803948, 'other_rate': 0.45675662684829504, 'threshold': 53}. Best is trial 115 with value: 0.833337460463145.\n"
     ]
    },
    {
     "name": "stdout",
     "output_type": "stream",
     "text": [
      "Score: 0.8304465166149785\n",
      "Fold 1\n",
      "Fold 2\n",
      "Fold 3\n"
     ]
    },
    {
     "name": "stderr",
     "output_type": "stream",
     "text": [
      "[I 2024-06-25 04:15:22,937] Trial 530 finished with value: 0.8318425758557805 and parameters: {'boosting_type': 'goss', 'num_leaves': 29, 'max_depth': 25, 'learning_rate': 0.03587389055789041, 'n_estimators': 959, 'min_child_samples': 65, 'subsample': 0.9750257624506649, 'colsample_bytree': 0.7867736270200342, 'reg_alpha': 0.07000244817526187, 'reg_lambda': 6.629324215257995, 'top_rate': 0.04318574020709118, 'other_rate': 0.43577748011706946, 'threshold': 54}. Best is trial 115 with value: 0.833337460463145.\n"
     ]
    },
    {
     "name": "stdout",
     "output_type": "stream",
     "text": [
      "Score: 0.8318425758557805\n",
      "Fold 1\n",
      "Fold 2\n",
      "Fold 3\n"
     ]
    },
    {
     "name": "stderr",
     "output_type": "stream",
     "text": [
      "[I 2024-06-25 04:16:14,440] Trial 531 finished with value: 0.8237503572488074 and parameters: {'boosting_type': 'goss', 'num_leaves': 76, 'max_depth': 29, 'learning_rate': 0.07536642480806499, 'n_estimators': 1000, 'min_child_samples': 62, 'subsample': 0.8906086578778067, 'colsample_bytree': 0.8290896393562381, 'reg_alpha': 0.053529192059414504, 'reg_lambda': 7.108841408574234, 'top_rate': 0.052578294653119036, 'other_rate': 0.45120120712109407, 'threshold': 52}. Best is trial 115 with value: 0.833337460463145.\n"
     ]
    },
    {
     "name": "stdout",
     "output_type": "stream",
     "text": [
      "Score: 0.8237503572488074\n",
      "Fold 1\n",
      "Fold 2\n",
      "Fold 3\n"
     ]
    },
    {
     "name": "stderr",
     "output_type": "stream",
     "text": [
      "[I 2024-06-25 04:16:38,209] Trial 532 finished with value: 0.8322008407622357 and parameters: {'boosting_type': 'goss', 'num_leaves': 19, 'max_depth': 27, 'learning_rate': 0.05245106081198935, 'n_estimators': 983, 'min_child_samples': 64, 'subsample': 0.7618992560284888, 'colsample_bytree': 0.5075069194437187, 'reg_alpha': 0.10060745150575534, 'reg_lambda': 0.0013103674608043057, 'top_rate': 0.17345004421644794, 'other_rate': 0.4888452737204882, 'threshold': 53}. Best is trial 115 with value: 0.833337460463145.\n"
     ]
    },
    {
     "name": "stdout",
     "output_type": "stream",
     "text": [
      "Score: 0.8322008407622357\n",
      "Fold 1\n",
      "Fold 2\n",
      "Fold 3\n"
     ]
    },
    {
     "name": "stderr",
     "output_type": "stream",
     "text": [
      "[I 2024-06-25 04:17:05,315] Trial 533 finished with value: 0.8334239392413227 and parameters: {'boosting_type': 'goss', 'num_leaves': 26, 'max_depth': 29, 'learning_rate': 0.019777145894017006, 'n_estimators': 961, 'min_child_samples': 60, 'subsample': 0.9206395466786965, 'colsample_bytree': 0.6516576146105851, 'reg_alpha': 3.564276489131016e-08, 'reg_lambda': 0.004800009488178458, 'top_rate': 0.025957543189225753, 'other_rate': 0.47922731376330013, 'threshold': 49}. Best is trial 533 with value: 0.8334239392413227.\n"
     ]
    },
    {
     "name": "stdout",
     "output_type": "stream",
     "text": [
      "Score: 0.8334239392413227\n",
      "Fold 1\n",
      "Fold 2\n",
      "Fold 3\n"
     ]
    },
    {
     "name": "stderr",
     "output_type": "stream",
     "text": [
      "[I 2024-06-25 04:17:36,024] Trial 534 finished with value: 0.475538039576432 and parameters: {'boosting_type': 'goss', 'num_leaves': 26, 'max_depth': 28, 'learning_rate': 2.8732909158125742e-06, 'n_estimators': 959, 'min_child_samples': 61, 'subsample': 0.9601918966315396, 'colsample_bytree': 0.7942955931787666, 'reg_alpha': 0.07661004365911127, 'reg_lambda': 0.0035047619407566812, 'top_rate': 0.03411242048244751, 'other_rate': 0.466819599788889, 'threshold': 44}. Best is trial 533 with value: 0.8334239392413227.\n"
     ]
    },
    {
     "name": "stdout",
     "output_type": "stream",
     "text": [
      "Score: 0.475538039576432\n",
      "Fold 1\n",
      "Fold 2\n",
      "Fold 3\n"
     ]
    },
    {
     "name": "stderr",
     "output_type": "stream",
     "text": [
      "[I 2024-06-25 04:18:07,707] Trial 535 finished with value: 0.8323367457319969 and parameters: {'boosting_type': 'goss', 'num_leaves': 32, 'max_depth': 29, 'learning_rate': 0.012822663357043662, 'n_estimators': 965, 'min_child_samples': 63, 'subsample': 0.8999736696981153, 'colsample_bytree': 0.6565860125539026, 'reg_alpha': 0.0035869166191525863, 'reg_lambda': 2.744695508733046e-05, 'top_rate': 0.16103063428473186, 'other_rate': 0.47751524371490234, 'threshold': 47}. Best is trial 533 with value: 0.8334239392413227.\n"
     ]
    },
    {
     "name": "stdout",
     "output_type": "stream",
     "text": [
      "Score: 0.8323367457319969\n",
      "Fold 1\n",
      "Fold 2\n",
      "Fold 3\n"
     ]
    },
    {
     "name": "stderr",
     "output_type": "stream",
     "text": [
      "[I 2024-06-25 04:18:39,542] Trial 536 finished with value: 0.8329297730283747 and parameters: {'boosting_type': 'goss', 'num_leaves': 33, 'max_depth': 29, 'learning_rate': 0.018227569468021558, 'n_estimators': 982, 'min_child_samples': 68, 'subsample': 0.8337835483795623, 'colsample_bytree': 0.5170281177261393, 'reg_alpha': 1.7414156174167814e-08, 'reg_lambda': 0.005091683487302268, 'top_rate': 0.13598275036787866, 'other_rate': 0.4641484773278854, 'threshold': 49}. Best is trial 533 with value: 0.8334239392413227.\n"
     ]
    },
    {
     "name": "stdout",
     "output_type": "stream",
     "text": [
      "Score: 0.8329297730283747\n",
      "Fold 1\n",
      "Fold 2\n",
      "Fold 3\n"
     ]
    },
    {
     "name": "stderr",
     "output_type": "stream",
     "text": [
      "[I 2024-06-25 04:19:12,415] Trial 537 finished with value: 0.475538039576432 and parameters: {'boosting_type': 'goss', 'num_leaves': 26, 'max_depth': 30, 'learning_rate': 4.0219965561441294e-08, 'n_estimators': 946, 'min_child_samples': 60, 'subsample': 0.8901404353075104, 'colsample_bytree': 0.8020253279340935, 'reg_alpha': 1.319334547097457e-07, 'reg_lambda': 1.6907418747659234e-06, 'top_rate': 0.019786588033567767, 'other_rate': 0.44467727083692166, 'threshold': 50}. Best is trial 533 with value: 0.8334239392413227.\n"
     ]
    },
    {
     "name": "stdout",
     "output_type": "stream",
     "text": [
      "Score: 0.475538039576432\n",
      "Fold 1\n",
      "Fold 2\n",
      "Fold 3\n"
     ]
    },
    {
     "name": "stderr",
     "output_type": "stream",
     "text": [
      "[I 2024-06-25 04:20:01,692] Trial 538 finished with value: 0.8321761420905633 and parameters: {'boosting_type': 'goss', 'num_leaves': 61, 'max_depth': 26, 'learning_rate': 0.007968589702506024, 'n_estimators': 967, 'min_child_samples': 58, 'subsample': 0.9209177827592804, 'colsample_bytree': 0.6460032271659972, 'reg_alpha': 0.0010033118134118231, 'reg_lambda': 0.002494085792833046, 'top_rate': 0.02251353140286564, 'other_rate': 0.4763290935449596, 'threshold': 52}. Best is trial 533 with value: 0.8334239392413227.\n"
     ]
    },
    {
     "name": "stdout",
     "output_type": "stream",
     "text": [
      "Score: 0.8321761420905633\n",
      "Fold 1\n",
      "Fold 2\n",
      "Fold 3\n"
     ]
    },
    {
     "name": "stderr",
     "output_type": "stream",
     "text": [
      "[I 2024-06-25 04:20:32,888] Trial 539 finished with value: 0.8279261796825662 and parameters: {'boosting_type': 'goss', 'num_leaves': 32, 'max_depth': 27, 'learning_rate': 0.0048134859903221664, 'n_estimators': 982, 'min_child_samples': 57, 'subsample': 0.7182450484165044, 'colsample_bytree': 0.6627543220223915, 'reg_alpha': 1.5211010214443212e-08, 'reg_lambda': 3.5278576228778326e-05, 'top_rate': 0.007452939748182175, 'other_rate': 0.12659653669032667, 'threshold': 45}. Best is trial 533 with value: 0.8334239392413227.\n"
     ]
    },
    {
     "name": "stdout",
     "output_type": "stream",
     "text": [
      "Score: 0.8279261796825662\n",
      "Fold 1\n",
      "Fold 2\n",
      "Fold 3\n"
     ]
    },
    {
     "name": "stderr",
     "output_type": "stream",
     "text": [
      "[I 2024-06-25 04:21:04,779] Trial 540 finished with value: 0.475538039576432 and parameters: {'boosting_type': 'goss', 'num_leaves': 25, 'max_depth': 30, 'learning_rate': 4.29283596913181e-07, 'n_estimators': 938, 'min_child_samples': 60, 'subsample': 0.9057614455221945, 'colsample_bytree': 0.6317441143671833, 'reg_alpha': 3.041132463657864e-08, 'reg_lambda': 0.03784293635277273, 'top_rate': 0.1827384930598538, 'other_rate': 0.2800505677774765, 'threshold': 48}. Best is trial 533 with value: 0.8334239392413227.\n"
     ]
    },
    {
     "name": "stdout",
     "output_type": "stream",
     "text": [
      "Score: 0.475538039576432\n",
      "Fold 1\n",
      "Fold 2\n",
      "Fold 3\n"
     ]
    },
    {
     "name": "stderr",
     "output_type": "stream",
     "text": [
      "[I 2024-06-25 04:21:31,372] Trial 541 finished with value: 0.8319784689199192 and parameters: {'boosting_type': 'gbdt', 'num_leaves': 22, 'max_depth': 30, 'learning_rate': 0.02389029874556651, 'n_estimators': 954, 'min_child_samples': 63, 'subsample': 0.9051426199705972, 'colsample_bytree': 0.6504406256577705, 'reg_alpha': 0.0019204833847166563, 'reg_lambda': 9.876510179210682, 'threshold': 51}. Best is trial 533 with value: 0.8334239392413227.\n"
     ]
    },
    {
     "name": "stdout",
     "output_type": "stream",
     "text": [
      "Score: 0.8319784689199192\n",
      "Fold 1\n",
      "Fold 2\n",
      "Fold 3\n"
     ]
    },
    {
     "name": "stderr",
     "output_type": "stream",
     "text": [
      "[I 2024-06-25 04:22:10,312] Trial 542 finished with value: 0.8325344234817266 and parameters: {'boosting_type': 'goss', 'num_leaves': 36, 'max_depth': 24, 'learning_rate': 0.011889088939115899, 'n_estimators': 986, 'min_child_samples': 58, 'subsample': 0.8198843684648218, 'colsample_bytree': 0.6192992235983685, 'reg_alpha': 2.454549682992237e-08, 'reg_lambda': 0.004767218200129619, 'top_rate': 0.02776391783546925, 'other_rate': 0.42335519761097345, 'threshold': 50}. Best is trial 533 with value: 0.8334239392413227.\n"
     ]
    },
    {
     "name": "stdout",
     "output_type": "stream",
     "text": [
      "Score: 0.8325344234817266\n",
      "Fold 1\n",
      "Fold 2\n",
      "Fold 3\n"
     ]
    },
    {
     "name": "stderr",
     "output_type": "stream",
     "text": [
      "[I 2024-06-25 04:23:31,450] Trial 543 finished with value: 0.8314966341843738 and parameters: {'boosting_type': 'dart', 'num_leaves': 94, 'max_depth': 29, 'learning_rate': 0.01543232050732868, 'n_estimators': 958, 'min_child_samples': 61, 'subsample': 0.8694825661536146, 'colsample_bytree': 0.8073688831136914, 'reg_alpha': 5.985505470976462e-06, 'reg_lambda': 0.013235709445012254, 'drop_rate': 0.14507076659515053, 'skip_drop': 0.9625837997173063, 'threshold': 49}. Best is trial 533 with value: 0.8334239392413227.\n"
     ]
    },
    {
     "name": "stdout",
     "output_type": "stream",
     "text": [
      "Score: 0.8314966341843738\n",
      "Fold 1\n",
      "Fold 2\n",
      "Fold 3\n"
     ]
    },
    {
     "name": "stderr",
     "output_type": "stream",
     "text": [
      "[I 2024-06-25 04:24:08,410] Trial 544 finished with value: 0.7271132486709867 and parameters: {'boosting_type': 'goss', 'num_leaves': 30, 'max_depth': 27, 'learning_rate': 0.00021743632883988829, 'n_estimators': 1000, 'min_child_samples': 59, 'subsample': 0.9325898661603881, 'colsample_bytree': 0.8116301818243782, 'reg_alpha': 3.696474698371252e-08, 'reg_lambda': 0.00841493078184847, 'top_rate': 0.042648631154068015, 'other_rate': 0.31957184908519665, 'threshold': 47}. Best is trial 533 with value: 0.8334239392413227.\n"
     ]
    },
    {
     "name": "stdout",
     "output_type": "stream",
     "text": [
      "Score: 0.7271132486709867\n",
      "Fold 1\n",
      "Fold 2\n",
      "Fold 3\n"
     ]
    },
    {
     "name": "stderr",
     "output_type": "stream",
     "text": [
      "[I 2024-06-25 04:24:52,791] Trial 545 finished with value: 0.8320772984076589 and parameters: {'boosting_type': 'goss', 'num_leaves': 68, 'max_depth': 32, 'learning_rate': 0.02636275462383971, 'n_estimators': 933, 'min_child_samples': 56, 'subsample': 0.5840695424112984, 'colsample_bytree': 0.6375318336293428, 'reg_alpha': 1.7196465813600381, 'reg_lambda': 0.00028281499528897005, 'top_rate': 0.2269106411033897, 'other_rate': 0.46027010146446284, 'threshold': 68}. Best is trial 533 with value: 0.8334239392413227.\n"
     ]
    },
    {
     "name": "stdout",
     "output_type": "stream",
     "text": [
      "Score: 0.8320772984076589\n",
      "Fold 1\n",
      "Fold 2\n",
      "Fold 3\n"
     ]
    },
    {
     "name": "stderr",
     "output_type": "stream",
     "text": [
      "[I 2024-06-25 04:25:30,227] Trial 546 finished with value: 0.8096538378914145 and parameters: {'boosting_type': 'goss', 'num_leaves': 35, 'max_depth': 28, 'learning_rate': 0.0007322435248119046, 'n_estimators': 967, 'min_child_samples': 58, 'subsample': 0.9478178647681191, 'colsample_bytree': 0.6747060821807876, 'reg_alpha': 4.52242697794275e-07, 'reg_lambda': 0.2513093687952354, 'top_rate': 0.0853024874308109, 'other_rate': 0.4828103158663799, 'threshold': 56}. Best is trial 533 with value: 0.8334239392413227.\n"
     ]
    },
    {
     "name": "stdout",
     "output_type": "stream",
     "text": [
      "Score: 0.8096538378914145\n",
      "Fold 1\n",
      "Fold 2\n",
      "Fold 3\n"
     ]
    },
    {
     "name": "stderr",
     "output_type": "stream",
     "text": [
      "[I 2024-06-25 04:26:04,317] Trial 547 finished with value: 0.8229226046531001 and parameters: {'boosting_type': 'goss', 'num_leaves': 28, 'max_depth': 30, 'learning_rate': 0.0021966576247578044, 'n_estimators': 942, 'min_child_samples': 56, 'subsample': 0.6078291086171921, 'colsample_bytree': 0.5289061191649652, 'reg_alpha': 0.010644379699263, 'reg_lambda': 4.549191875891999e-06, 'top_rate': 0.07891003980981139, 'other_rate': 0.3302664863727538, 'threshold': 47}. Best is trial 533 with value: 0.8334239392413227.\n"
     ]
    },
    {
     "name": "stdout",
     "output_type": "stream",
     "text": [
      "Score: 0.8229226046531001\n",
      "Fold 1\n",
      "Fold 2\n",
      "Fold 3\n"
     ]
    },
    {
     "name": "stderr",
     "output_type": "stream",
     "text": [
      "[I 2024-06-25 04:26:18,773] Trial 548 finished with value: 0.8308418455557415 and parameters: {'boosting_type': 'goss', 'num_leaves': 22, 'max_depth': 26, 'learning_rate': 0.01827902540201045, 'n_estimators': 532, 'min_child_samples': 63, 'subsample': 0.8607340817792349, 'colsample_bytree': 0.6030562879055995, 'reg_alpha': 2.1555071988012813e-05, 'reg_lambda': 0.001817242974368935, 'top_rate': 0.1520462937549527, 'other_rate': 0.47001868787113604, 'threshold': 35}. Best is trial 533 with value: 0.8334239392413227.\n"
     ]
    },
    {
     "name": "stdout",
     "output_type": "stream",
     "text": [
      "Score: 0.8308418455557415\n",
      "Fold 1\n",
      "Fold 2\n",
      "Fold 3\n"
     ]
    },
    {
     "name": "stderr",
     "output_type": "stream",
     "text": [
      "[I 2024-06-25 04:27:01,066] Trial 549 finished with value: 0.8319908329088292 and parameters: {'boosting_type': 'goss', 'num_leaves': 57, 'max_depth': 31, 'learning_rate': 0.00965509034223864, 'n_estimators': 977, 'min_child_samples': 65, 'subsample': 0.8433665255259892, 'colsample_bytree': 0.5834310470944775, 'reg_alpha': 0.1847035901739348, 'reg_lambda': 0.02423929438226453, 'top_rate': 0.032346935528178425, 'other_rate': 0.1795394969060209, 'threshold': 64}. Best is trial 533 with value: 0.8334239392413227.\n"
     ]
    },
    {
     "name": "stdout",
     "output_type": "stream",
     "text": [
      "Score: 0.8319908329088292\n",
      "Fold 1\n",
      "Fold 2\n",
      "Fold 3\n"
     ]
    },
    {
     "name": "stderr",
     "output_type": "stream",
     "text": [
      "[I 2024-06-25 04:27:40,591] Trial 550 finished with value: 0.475538039576432 and parameters: {'boosting_type': 'goss', 'num_leaves': 38, 'max_depth': 31, 'learning_rate': 0.00012035937601976879, 'n_estimators': 953, 'min_child_samples': 59, 'subsample': 0.9557141429961267, 'colsample_bytree': 0.7745110659292871, 'reg_alpha': 0.000715972315768185, 'reg_lambda': 4.922856745629649, 'top_rate': 0.07025237345341716, 'other_rate': 0.2271288912445404, 'threshold': 42}. Best is trial 533 with value: 0.8334239392413227.\n"
     ]
    },
    {
     "name": "stdout",
     "output_type": "stream",
     "text": [
      "Score: 0.475538039576432\n",
      "Fold 1\n",
      "Fold 2\n",
      "Fold 3\n"
     ]
    },
    {
     "name": "stderr",
     "output_type": "stream",
     "text": [
      "[I 2024-06-25 04:27:57,739] Trial 551 finished with value: 0.827852056193036 and parameters: {'boosting_type': 'goss', 'num_leaves': 12, 'max_depth': 28, 'learning_rate': 0.11747132373019575, 'n_estimators': 984, 'min_child_samples': 35, 'subsample': 0.9391876448161341, 'colsample_bytree': 0.6243647735707887, 'reg_alpha': 0.022947505160893184, 'reg_lambda': 0.05818937410155389, 'top_rate': 0.10831234900338602, 'other_rate': 0.45171637125969494, 'threshold': 8}. Best is trial 533 with value: 0.8334239392413227.\n"
     ]
    },
    {
     "name": "stdout",
     "output_type": "stream",
     "text": [
      "Score: 0.827852056193036\n",
      "Fold 1\n",
      "Fold 2\n",
      "Fold 3\n"
     ]
    },
    {
     "name": "stderr",
     "output_type": "stream",
     "text": [
      "[I 2024-06-25 04:28:33,493] Trial 552 finished with value: 0.8023893746276002 and parameters: {'boosting_type': 'goss', 'num_leaves': 47, 'max_depth': 32, 'learning_rate': 0.5435230896324245, 'n_estimators': 922, 'min_child_samples': 61, 'subsample': 0.919832816943692, 'colsample_bytree': 0.6093760641262858, 'reg_alpha': 5.985049522975075, 'reg_lambda': 0.09207565840586635, 'top_rate': 0.1243808544417135, 'other_rate': 0.2034068233820955, 'threshold': 51}. Best is trial 533 with value: 0.8334239392413227.\n"
     ]
    },
    {
     "name": "stdout",
     "output_type": "stream",
     "text": [
      "Score: 0.8023893746276002\n",
      "Fold 1\n",
      "Fold 2\n",
      "Fold 3\n"
     ]
    },
    {
     "name": "stderr",
     "output_type": "stream",
     "text": [
      "[I 2024-06-25 04:29:10,893] Trial 553 finished with value: 0.809110254645054 and parameters: {'boosting_type': 'goss', 'num_leaves': 28, 'max_depth': 29, 'learning_rate': 0.3414962345923392, 'n_estimators': 1000, 'min_child_samples': 54, 'subsample': 0.9597668657131062, 'colsample_bytree': 0.666076282997589, 'reg_alpha': 3.3137421977873642, 'reg_lambda': 0.0008808863024190701, 'top_rate': 0.005563017378148148, 'other_rate': 0.4874816139285879, 'threshold': 71}. Best is trial 533 with value: 0.8334239392413227.\n"
     ]
    },
    {
     "name": "stdout",
     "output_type": "stream",
     "text": [
      "Score: 0.809110254645054\n",
      "Fold 1\n",
      "Fold 2\n",
      "Fold 3\n"
     ]
    },
    {
     "name": "stderr",
     "output_type": "stream",
     "text": [
      "[I 2024-06-25 04:29:38,361] Trial 554 finished with value: 0.828877474174942 and parameters: {'boosting_type': 'goss', 'num_leaves': 19, 'max_depth': 25, 'learning_rate': 0.006607905686178804, 'n_estimators': 967, 'min_child_samples': 56, 'subsample': 0.7931247170033382, 'colsample_bytree': 0.5016481526359902, 'reg_alpha': 0.10434390128367657, 'reg_lambda': 0.0030170970258912256, 'top_rate': 0.19203244128133878, 'other_rate': 0.4354928578737497, 'threshold': 67}. Best is trial 533 with value: 0.8334239392413227.\n"
     ]
    },
    {
     "name": "stdout",
     "output_type": "stream",
     "text": [
      "Score: 0.828877474174942\n",
      "Fold 1\n",
      "Fold 2\n",
      "Fold 3\n"
     ]
    },
    {
     "name": "stderr",
     "output_type": "stream",
     "text": [
      "[I 2024-06-25 04:30:08,825] Trial 555 finished with value: 0.832707374627362 and parameters: {'boosting_type': 'goss', 'num_leaves': 34, 'max_depth': 27, 'learning_rate': 0.026925700805366593, 'n_estimators': 937, 'min_child_samples': 52, 'subsample': 0.9362935362789665, 'colsample_bytree': 0.6474862574957404, 'reg_alpha': 0.007455498314738617, 'reg_lambda': 8.174817887496724e-06, 'top_rate': 0.09240936315659834, 'other_rate': 0.47712377432858016, 'threshold': 58}. Best is trial 533 with value: 0.8334239392413227.\n"
     ]
    },
    {
     "name": "stdout",
     "output_type": "stream",
     "text": [
      "Score: 0.832707374627362\n",
      "Fold 1\n",
      "Fold 2\n",
      "Fold 3\n"
     ]
    },
    {
     "name": "stderr",
     "output_type": "stream",
     "text": [
      "[I 2024-06-25 04:30:49,343] Trial 556 finished with value: 0.832423228173443 and parameters: {'boosting_type': 'goss', 'num_leaves': 50, 'max_depth': 34, 'learning_rate': 0.014218632337121654, 'n_estimators': 953, 'min_child_samples': 60, 'subsample': 0.931402713928659, 'colsample_bytree': 0.6338299506637491, 'reg_alpha': 9.265445913009452e-06, 'reg_lambda': 6.120572258790773, 'top_rate': 0.14318690890160465, 'other_rate': 0.46361178546149884, 'threshold': 62}. Best is trial 533 with value: 0.8334239392413227.\n"
     ]
    },
    {
     "name": "stdout",
     "output_type": "stream",
     "text": [
      "Score: 0.832423228173443\n",
      "Fold 1\n",
      "Fold 2\n",
      "Fold 3\n"
     ]
    },
    {
     "name": "stderr",
     "output_type": "stream",
     "text": [
      "[I 2024-06-25 04:31:16,842] Trial 557 finished with value: 0.8323985194277824 and parameters: {'boosting_type': 'goss', 'num_leaves': 25, 'max_depth': 31, 'learning_rate': 0.019513138251202104, 'n_estimators': 972, 'min_child_samples': 55, 'subsample': 0.8554282237950016, 'colsample_bytree': 0.9659536301291765, 'reg_alpha': 9.118501597231596e-08, 'reg_lambda': 9.160217169041274e-08, 'top_rate': 0.05636317437865654, 'other_rate': 0.4916879870805548, 'threshold': 92}. Best is trial 533 with value: 0.8334239392413227.\n"
     ]
    },
    {
     "name": "stdout",
     "output_type": "stream",
     "text": [
      "Score: 0.8323985194277824\n",
      "Fold 1\n",
      "Fold 2\n",
      "Fold 3\n"
     ]
    },
    {
     "name": "stderr",
     "output_type": "stream",
     "text": [
      "[I 2024-06-25 04:31:50,472] Trial 558 finished with value: 0.8314595930454937 and parameters: {'boosting_type': 'goss', 'num_leaves': 40, 'max_depth': 36, 'learning_rate': 0.03838955872049661, 'n_estimators': 986, 'min_child_samples': 58, 'subsample': 0.9768327583733087, 'colsample_bytree': 0.6554805169157275, 'reg_alpha': 3.879993029905683e-05, 'reg_lambda': 2.7741986148021003e-06, 'top_rate': 0.1016269162312947, 'other_rate': 0.4811252751034263, 'threshold': 57}. Best is trial 533 with value: 0.8334239392413227.\n"
     ]
    },
    {
     "name": "stdout",
     "output_type": "stream",
     "text": [
      "Score: 0.8314595930454937\n",
      "Fold 1\n",
      "Fold 2\n",
      "Fold 3\n"
     ]
    },
    {
     "name": "stderr",
     "output_type": "stream",
     "text": [
      "[I 2024-06-25 04:32:31,379] Trial 559 finished with value: 0.8323120282860739 and parameters: {'boosting_type': 'goss', 'num_leaves': 56, 'max_depth': 34, 'learning_rate': 0.011344169735563542, 'n_estimators': 926, 'min_child_samples': 62, 'subsample': 0.9890230479981583, 'colsample_bytree': 0.6149761836400212, 'reg_alpha': 0.0002853626839681797, 'reg_lambda': 0.17105610790829273, 'top_rate': 0.40613279495301885, 'other_rate': 0.24549213649630636, 'threshold': 60}. Best is trial 533 with value: 0.8334239392413227.\n"
     ]
    },
    {
     "name": "stdout",
     "output_type": "stream",
     "text": [
      "Score: 0.8323120282860739\n",
      "Fold 1\n",
      "Fold 2\n",
      "Fold 3\n"
     ]
    },
    {
     "name": "stderr",
     "output_type": "stream",
     "text": [
      "[I 2024-06-25 04:32:58,643] Trial 560 finished with value: 0.8324850073641312 and parameters: {'boosting_type': 'goss', 'num_leaves': 30, 'max_depth': 29, 'learning_rate': 0.028102577853980307, 'n_estimators': 956, 'min_child_samples': 54, 'subsample': 0.7786890133865938, 'colsample_bytree': 0.6269207174224809, 'reg_alpha': 0.32520497861973213, 'reg_lambda': 0.005447510423227244, 'top_rate': 0.11610205778706145, 'other_rate': 0.4712755845894185, 'threshold': 25}. Best is trial 533 with value: 0.8334239392413227.\n"
     ]
    },
    {
     "name": "stdout",
     "output_type": "stream",
     "text": [
      "Score: 0.8324850073641312\n",
      "Fold 1\n",
      "Fold 2\n",
      "Fold 3\n"
     ]
    },
    {
     "name": "stderr",
     "output_type": "stream",
     "text": [
      "[I 2024-06-25 04:33:24,108] Trial 561 finished with value: 0.475538039576432 and parameters: {'boosting_type': 'goss', 'num_leaves': 17, 'max_depth': 32, 'learning_rate': 1.477208753022472e-05, 'n_estimators': 970, 'min_child_samples': 41, 'subsample': 0.899409193448019, 'colsample_bytree': 0.8180041957193743, 'reg_alpha': 0.04659653841769976, 'reg_lambda': 0.3187272354155853, 'top_rate': 0.20506742631792457, 'other_rate': 0.44790131980373105, 'threshold': 64}. Best is trial 533 with value: 0.8334239392413227.\n"
     ]
    },
    {
     "name": "stdout",
     "output_type": "stream",
     "text": [
      "Score: 0.475538039576432\n",
      "Fold 1\n",
      "Fold 2\n",
      "Fold 3\n"
     ]
    },
    {
     "name": "stderr",
     "output_type": "stream",
     "text": [
      "[I 2024-06-25 04:34:11,178] Trial 562 finished with value: 0.8297670050455204 and parameters: {'boosting_type': 'gbdt', 'num_leaves': 62, 'max_depth': 35, 'learning_rate': 0.00436346645933269, 'n_estimators': 941, 'min_child_samples': 37, 'subsample': 0.8307184285268879, 'colsample_bytree': 0.6831818444906285, 'reg_alpha': 0.7643940971904105, 'reg_lambda': 0.0001563247715949347, 'threshold': 66}. Best is trial 533 with value: 0.8334239392413227.\n"
     ]
    },
    {
     "name": "stdout",
     "output_type": "stream",
     "text": [
      "Score: 0.8297670050455204\n",
      "Fold 1\n",
      "Fold 2\n",
      "Fold 3\n"
     ]
    },
    {
     "name": "stderr",
     "output_type": "stream",
     "text": [
      "[I 2024-06-25 04:34:56,513] Trial 563 finished with value: 0.475538039576432 and parameters: {'boosting_type': 'goss', 'num_leaves': 45, 'max_depth': 30, 'learning_rate': 7.755957323518035e-05, 'n_estimators': 984, 'min_child_samples': 52, 'subsample': 0.5729621007204808, 'colsample_bytree': 0.6412679013386121, 'reg_alpha': 0.14731392386596912, 'reg_lambda': 5.148585481901269e-07, 'top_rate': 0.16357178211204954, 'other_rate': 0.26466147478151714, 'threshold': 55}. Best is trial 533 with value: 0.8334239392413227.\n"
     ]
    },
    {
     "name": "stdout",
     "output_type": "stream",
     "text": [
      "Score: 0.475538039576432\n",
      "Fold 1\n",
      "Fold 2\n",
      "Fold 3\n"
     ]
    },
    {
     "name": "stderr",
     "output_type": "stream",
     "text": [
      "[I 2024-06-25 04:35:27,867] Trial 564 finished with value: 0.8332386328070398 and parameters: {'boosting_type': 'goss', 'num_leaves': 24, 'max_depth': 33, 'learning_rate': 0.019127741957626728, 'n_estimators': 959, 'min_child_samples': 58, 'subsample': 0.944348557061422, 'colsample_bytree': 0.6276748509598798, 'reg_alpha': 7.060954238533857e-05, 'reg_lambda': 8.651169649486557e-07, 'top_rate': 0.015260837943891138, 'other_rate': 0.41239175272061857, 'threshold': 100}. Best is trial 533 with value: 0.8334239392413227.\n"
     ]
    },
    {
     "name": "stdout",
     "output_type": "stream",
     "text": [
      "Score: 0.8332386328070398\n",
      "Fold 1\n",
      "Fold 2\n",
      "Fold 3\n"
     ]
    },
    {
     "name": "stderr",
     "output_type": "stream",
     "text": [
      "[I 2024-06-25 04:35:59,329] Trial 565 finished with value: 0.8307059415017974 and parameters: {'boosting_type': 'goss', 'num_leaves': 24, 'max_depth': 31, 'learning_rate': 0.00822487061304986, 'n_estimators': 923, 'min_child_samples': 58, 'subsample': 0.9174095353554304, 'colsample_bytree': 0.61668501752418, 'reg_alpha': 6.386425166193808e-08, 'reg_lambda': 3.7093451773863e-07, 'top_rate': 0.010832145740517794, 'other_rate': 0.42107439731081125, 'threshold': 97}. Best is trial 533 with value: 0.8334239392413227.\n"
     ]
    },
    {
     "name": "stdout",
     "output_type": "stream",
     "text": [
      "Score: 0.8307059415017974\n",
      "Fold 1\n",
      "Fold 2\n",
      "Fold 3\n"
     ]
    },
    {
     "name": "stderr",
     "output_type": "stream",
     "text": [
      "[I 2024-06-25 04:39:36,436] Trial 566 finished with value: 0.8278396986148459 and parameters: {'boosting_type': 'dart', 'num_leaves': 21, 'max_depth': 33, 'learning_rate': 0.018928464014922312, 'n_estimators': 952, 'min_child_samples': 60, 'subsample': 0.9099137160698416, 'colsample_bytree': 0.6056795673659291, 'reg_alpha': 5.092067842484344e-08, 'reg_lambda': 2.1648069508196437e-06, 'drop_rate': 0.4751147804603863, 'skip_drop': 0.5014853145701534, 'threshold': 46}. Best is trial 533 with value: 0.8334239392413227.\n"
     ]
    },
    {
     "name": "stdout",
     "output_type": "stream",
     "text": [
      "Score: 0.8278396986148459\n",
      "Fold 1\n",
      "Fold 2\n",
      "Fold 3\n"
     ]
    },
    {
     "name": "stderr",
     "output_type": "stream",
     "text": [
      "[I 2024-06-25 04:40:01,724] Trial 567 finished with value: 0.8319908205452983 and parameters: {'boosting_type': 'goss', 'num_leaves': 14, 'max_depth': 28, 'learning_rate': 0.04458326972124956, 'n_estimators': 969, 'min_child_samples': 58, 'subsample': 0.8820562558914636, 'colsample_bytree': 0.5893391417622559, 'reg_alpha': 0.01731714302353515, 'reg_lambda': 1.5680502458516308e-05, 'top_rate': 0.02548022691057813, 'other_rate': 0.4206584730073867, 'threshold': 91}. Best is trial 533 with value: 0.8334239392413227.\n"
     ]
    },
    {
     "name": "stdout",
     "output_type": "stream",
     "text": [
      "Score: 0.8319908205452983\n",
      "Fold 1\n",
      "Fold 2\n",
      "Fold 3\n"
     ]
    },
    {
     "name": "stderr",
     "output_type": "stream",
     "text": [
      "[I 2024-06-25 04:40:36,193] Trial 568 finished with value: 0.832225560039793 and parameters: {'boosting_type': 'goss', 'num_leaves': 28, 'max_depth': 32, 'learning_rate': 0.013199566104427475, 'n_estimators': 940, 'min_child_samples': 56, 'subsample': 0.9437940523965085, 'colsample_bytree': 0.9990344917688594, 'reg_alpha': 1.0042587574857766e-08, 'reg_lambda': 9.839894277678681, 'top_rate': 0.0005563604032520139, 'other_rate': 0.4091781226340111, 'threshold': 50}. Best is trial 533 with value: 0.8334239392413227.\n"
     ]
    },
    {
     "name": "stdout",
     "output_type": "stream",
     "text": [
      "Score: 0.832225560039793\n",
      "Fold 1\n",
      "Fold 2\n",
      "Fold 3\n"
     ]
    },
    {
     "name": "stderr",
     "output_type": "stream",
     "text": [
      "[I 2024-06-25 04:41:04,681] Trial 569 finished with value: 0.8124583203619288 and parameters: {'boosting_type': 'goss', 'num_leaves': 21, 'max_depth': 26, 'learning_rate': 0.2328768913853781, 'n_estimators': 984, 'min_child_samples': 61, 'subsample': 0.9506754463311705, 'colsample_bytree': 0.5507025617029997, 'reg_alpha': 6.915347015578051e-07, 'reg_lambda': 4.701220104038846e-07, 'top_rate': 0.01153888266486031, 'other_rate': 0.43847946699271545, 'threshold': 37}. Best is trial 533 with value: 0.8334239392413227.\n"
     ]
    },
    {
     "name": "stdout",
     "output_type": "stream",
     "text": [
      "Score: 0.8124583203619288\n",
      "Fold 1\n",
      "Fold 2\n",
      "Fold 3\n"
     ]
    },
    {
     "name": "stderr",
     "output_type": "stream",
     "text": [
      "[I 2024-06-25 04:41:39,553] Trial 570 finished with value: 0.8321637849702818 and parameters: {'boosting_type': 'goss', 'num_leaves': 32, 'max_depth': 30, 'learning_rate': 0.029396865231474174, 'n_estimators': 915, 'min_child_samples': 57, 'subsample': 0.8783806899757847, 'colsample_bytree': 0.7989221689392932, 'reg_alpha': 1.8948058050755497e-06, 'reg_lambda': 4.543856987545465, 'top_rate': 0.014856987736987048, 'other_rate': 0.4089420485049843, 'threshold': 83}. Best is trial 533 with value: 0.8334239392413227.\n"
     ]
    },
    {
     "name": "stdout",
     "output_type": "stream",
     "text": [
      "Score: 0.8321637849702818\n",
      "Fold 1\n",
      "Fold 2\n",
      "Fold 3\n"
     ]
    },
    {
     "name": "stderr",
     "output_type": "stream",
     "text": [
      "[I 2024-06-25 04:42:02,185] Trial 571 finished with value: 0.475538039576432 and parameters: {'boosting_type': 'goss', 'num_leaves': 14, 'max_depth': 59, 'learning_rate': 1.622190828381783e-06, 'n_estimators': 958, 'min_child_samples': 55, 'subsample': 0.9279339540861262, 'colsample_bytree': 0.629267762961065, 'reg_alpha': 0.029225607266248975, 'reg_lambda': 2.1419535286396836e-07, 'top_rate': 0.25120254830857497, 'other_rate': 0.42914354079054046, 'threshold': 78}. Best is trial 533 with value: 0.8334239392413227.\n"
     ]
    },
    {
     "name": "stdout",
     "output_type": "stream",
     "text": [
      "Score: 0.475538039576432\n",
      "Fold 1\n",
      "Fold 2\n",
      "Fold 3\n"
     ]
    },
    {
     "name": "stderr",
     "output_type": "stream",
     "text": [
      "[I 2024-06-25 04:42:35,235] Trial 572 finished with value: 0.8325961962616949 and parameters: {'boosting_type': 'goss', 'num_leaves': 26, 'max_depth': 37, 'learning_rate': 0.021699615503240382, 'n_estimators': 1000, 'min_child_samples': 66, 'subsample': 0.8971976115502496, 'colsample_bytree': 0.638831461812266, 'reg_alpha': 1.2903846901926758e-06, 'reg_lambda': 0.001379648841742879, 'top_rate': 0.040964100545162196, 'other_rate': 0.389584723976307, 'threshold': 53}. Best is trial 533 with value: 0.8334239392413227.\n"
     ]
    },
    {
     "name": "stdout",
     "output_type": "stream",
     "text": [
      "Score: 0.8325961962616949\n",
      "Fold 1\n",
      "Fold 2\n",
      "Fold 3\n"
     ]
    },
    {
     "name": "stderr",
     "output_type": "stream",
     "text": [
      "[I 2024-06-25 04:43:11,483] Trial 573 finished with value: 0.475538039576432 and parameters: {'boosting_type': 'goss', 'num_leaves': 34, 'max_depth': 33, 'learning_rate': 3.655248356052439e-05, 'n_estimators': 971, 'min_child_samples': 59, 'subsample': 0.9232551806197536, 'colsample_bytree': 0.6638551232394784, 'reg_alpha': 0.002435025986979121, 'reg_lambda': 2.693976801739989e-07, 'top_rate': 0.025228101020544753, 'other_rate': 0.49313955197103737, 'threshold': 81}. Best is trial 533 with value: 0.8334239392413227.\n"
     ]
    },
    {
     "name": "stdout",
     "output_type": "stream",
     "text": [
      "Score: 0.475538039576432\n",
      "Fold 1\n",
      "Fold 2\n",
      "Fold 3\n"
     ]
    },
    {
     "name": "stderr",
     "output_type": "stream",
     "text": [
      "[I 2024-06-25 04:43:33,872] Trial 574 finished with value: 0.8314719208596277 and parameters: {'boosting_type': 'goss', 'num_leaves': 21, 'max_depth': 28, 'learning_rate': 0.054002724299987294, 'n_estimators': 938, 'min_child_samples': 62, 'subsample': 0.8740517256102728, 'colsample_bytree': 0.6497434887072754, 'reg_alpha': 1.2889835039278473e-05, 'reg_lambda': 4.263317968005069e-06, 'top_rate': 0.27718104077990635, 'other_rate': 0.34654491072694077, 'threshold': 49}. Best is trial 533 with value: 0.8334239392413227.\n"
     ]
    },
    {
     "name": "stdout",
     "output_type": "stream",
     "text": [
      "Score: 0.8314719208596277\n",
      "Fold 1\n",
      "Fold 2\n",
      "Fold 3\n"
     ]
    },
    {
     "name": "stderr",
     "output_type": "stream",
     "text": [
      "[I 2024-06-25 04:43:54,523] Trial 575 finished with value: 0.8256282237506416 and parameters: {'boosting_type': 'goss', 'num_leaves': 9, 'max_depth': 6, 'learning_rate': 0.1657440403275577, 'n_estimators': 983, 'min_child_samples': 54, 'subsample': 0.930539020127224, 'colsample_bytree': 0.7813395631277585, 'reg_alpha': 0.00017134632317329383, 'reg_lambda': 1.3850093973115192e-06, 'top_rate': 0.08491265437967924, 'other_rate': 0.3065098691441054, 'threshold': 51}. Best is trial 533 with value: 0.8334239392413227.\n"
     ]
    },
    {
     "name": "stdout",
     "output_type": "stream",
     "text": [
      "Score: 0.8256282237506416\n",
      "Fold 1\n",
      "Fold 2\n",
      "Fold 3\n"
     ]
    },
    {
     "name": "stderr",
     "output_type": "stream",
     "text": [
      "[I 2024-06-25 04:44:29,172] Trial 576 finished with value: 0.831793150580014 and parameters: {'boosting_type': 'goss', 'num_leaves': 28, 'max_depth': 35, 'learning_rate': 0.009973518576161312, 'n_estimators': 957, 'min_child_samples': 56, 'subsample': 0.9424277702786679, 'colsample_bytree': 0.5012317560684845, 'reg_alpha': 1.29488917413262e-06, 'reg_lambda': 6.720950694255769e-07, 'top_rate': 0.06431093990052772, 'other_rate': 0.39859248699892735, 'threshold': 54}. Best is trial 533 with value: 0.8334239392413227.\n"
     ]
    },
    {
     "name": "stdout",
     "output_type": "stream",
     "text": [
      "Score: 0.831793150580014\n",
      "Fold 1\n",
      "Fold 2\n",
      "Fold 3\n"
     ]
    },
    {
     "name": "stderr",
     "output_type": "stream",
     "text": [
      "[I 2024-06-25 04:44:52,182] Trial 577 finished with value: 0.8317560856298889 and parameters: {'boosting_type': 'goss', 'num_leaves': 18, 'max_depth': 30, 'learning_rate': 0.016107853785163072, 'n_estimators': 929, 'min_child_samples': 51, 'subsample': 0.9167940075680779, 'colsample_bytree': 0.6216410068218906, 'reg_alpha': 8.490263682802951e-07, 'reg_lambda': 0.0004927272763188981, 'top_rate': 0.09385096082639627, 'other_rate': 0.41575814875746864, 'threshold': 80}. Best is trial 533 with value: 0.8334239392413227.\n"
     ]
    },
    {
     "name": "stdout",
     "output_type": "stream",
     "text": [
      "Score: 0.8317560856298889\n",
      "Fold 1\n",
      "Fold 2\n",
      "Fold 3\n"
     ]
    },
    {
     "name": "stderr",
     "output_type": "stream",
     "text": [
      "[I 2024-06-25 04:45:28,331] Trial 578 finished with value: 0.8207482180923572 and parameters: {'boosting_type': 'goss', 'num_leaves': 36, 'max_depth': 25, 'learning_rate': 0.0014509151042110824, 'n_estimators': 949, 'min_child_samples': 53, 'subsample': 0.9478599133073046, 'colsample_bytree': 0.671834052746018, 'reg_alpha': 1.572419100588836e-08, 'reg_lambda': 1.5852645745465665e-07, 'top_rate': 0.2587144229262633, 'other_rate': 0.4846323607518125, 'threshold': 60}. Best is trial 533 with value: 0.8334239392413227.\n"
     ]
    },
    {
     "name": "stdout",
     "output_type": "stream",
     "text": [
      "Score: 0.8207482180923572\n",
      "Fold 1\n",
      "Fold 2\n",
      "Fold 3\n"
     ]
    },
    {
     "name": "stderr",
     "output_type": "stream",
     "text": [
      "[I 2024-06-25 04:45:59,207] Trial 579 finished with value: 0.475538039576432 and parameters: {'boosting_type': 'goss', 'num_leaves': 24, 'max_depth': 36, 'learning_rate': 2.7921669911829026e-08, 'n_estimators': 984, 'min_child_samples': 60, 'subsample': 0.9551969762012821, 'colsample_bytree': 0.5386930545547237, 'reg_alpha': 0.0019246944086610128, 'reg_lambda': 1.724706137149991e-06, 'top_rate': 0.29027843281282484, 'other_rate': 0.49181827927175253, 'threshold': 87}. Best is trial 533 with value: 0.8334239392413227.\n"
     ]
    },
    {
     "name": "stdout",
     "output_type": "stream",
     "text": [
      "Score: 0.475538039576432\n",
      "Fold 1\n",
      "Fold 2\n",
      "Fold 3\n"
     ]
    },
    {
     "name": "stderr",
     "output_type": "stream",
     "text": [
      "[I 2024-06-25 04:46:28,006] Trial 580 finished with value: 0.8315089917625639 and parameters: {'boosting_type': 'goss', 'num_leaves': 31, 'max_depth': 32, 'learning_rate': 0.03264894469897548, 'n_estimators': 1000, 'min_child_samples': 63, 'subsample': 0.9076632172424836, 'colsample_bytree': 0.7078356049492723, 'reg_alpha': 0.0004598862036588371, 'reg_lambda': 8.639678956273779e-07, 'top_rate': 0.0492260048979278, 'other_rate': 0.46003228303631905, 'threshold': 32}. Best is trial 533 with value: 0.8334239392413227.\n"
     ]
    },
    {
     "name": "stdout",
     "output_type": "stream",
     "text": [
      "Score: 0.8315089917625639\n",
      "Fold 1\n",
      "Fold 2\n",
      "Fold 3\n"
     ]
    },
    {
     "name": "stderr",
     "output_type": "stream",
     "text": [
      "[I 2024-06-25 04:47:02,241] Trial 581 finished with value: 0.8296558179795909 and parameters: {'boosting_type': 'goss', 'num_leaves': 39, 'max_depth': 34, 'learning_rate': 0.005811511521327768, 'n_estimators': 911, 'min_child_samples': 57, 'subsample': 0.9700998362421335, 'colsample_bytree': 0.5208022431509265, 'reg_alpha': 1.7906224868782476e-07, 'reg_lambda': 1.6705956005541896e-06, 'top_rate': 0.01853096191197266, 'other_rate': 0.2578597498384255, 'threshold': 44}. Best is trial 533 with value: 0.8334239392413227.\n"
     ]
    },
    {
     "name": "stdout",
     "output_type": "stream",
     "text": [
      "Score: 0.8296558179795909\n",
      "Fold 1\n",
      "Fold 2\n",
      "Fold 3\n"
     ]
    },
    {
     "name": "stderr",
     "output_type": "stream",
     "text": [
      "[I 2024-06-25 04:47:22,522] Trial 582 finished with value: 0.8314101348003112 and parameters: {'boosting_type': 'goss', 'num_leaves': 15, 'max_depth': 29, 'learning_rate': 0.0738002893658366, 'n_estimators': 969, 'min_child_samples': 50, 'subsample': 0.9353076938317948, 'colsample_bytree': 0.6092374531767468, 'reg_alpha': 1.9296164123820738e-05, 'reg_lambda': 2.8058704319338463e-06, 'top_rate': 0.4795839962600891, 'other_rate': 0.4725673598428494, 'threshold': 95}. Best is trial 533 with value: 0.8334239392413227.\n"
     ]
    },
    {
     "name": "stdout",
     "output_type": "stream",
     "text": [
      "Score: 0.8314101348003112\n",
      "Fold 1\n",
      "Fold 2\n",
      "Fold 3\n"
     ]
    },
    {
     "name": "stderr",
     "output_type": "stream",
     "text": [
      "[I 2024-06-25 04:47:48,744] Trial 583 finished with value: 0.8315460544231462 and parameters: {'boosting_type': 'goss', 'num_leaves': 25, 'max_depth': 27, 'learning_rate': 0.02140745987445286, 'n_estimators': 949, 'min_child_samples': 18, 'subsample': 0.8846495364200341, 'colsample_bytree': 0.5973374334492721, 'reg_alpha': 2.062585896831011e-08, 'reg_lambda': 0.011377244855493544, 'top_rate': 0.2383836058938698, 'other_rate': 0.44291734464534044, 'threshold': 89}. Best is trial 533 with value: 0.8334239392413227.\n"
     ]
    },
    {
     "name": "stdout",
     "output_type": "stream",
     "text": [
      "Score: 0.8315460544231462\n",
      "Fold 1\n",
      "Fold 2\n",
      "Fold 3\n"
     ]
    },
    {
     "name": "stderr",
     "output_type": "stream",
     "text": [
      "[I 2024-06-25 04:48:24,049] Trial 584 finished with value: 0.7880951756888436 and parameters: {'boosting_type': 'goss', 'num_leaves': 34, 'max_depth': 62, 'learning_rate': 0.0005260429486494578, 'n_estimators': 928, 'min_child_samples': 58, 'subsample': 0.911558044705223, 'colsample_bytree': 0.6334581306840582, 'reg_alpha': 1.1388314228066703e-05, 'reg_lambda': 7.594613470954946e-07, 'top_rate': 0.0734321678384233, 'other_rate': 0.48185620002289337, 'threshold': 86}. Best is trial 533 with value: 0.8334239392413227.\n"
     ]
    },
    {
     "name": "stdout",
     "output_type": "stream",
     "text": [
      "Score: 0.7880951756888436\n",
      "Fold 1\n",
      "Fold 2\n",
      "Fold 3\n"
     ]
    },
    {
     "name": "stderr",
     "output_type": "stream",
     "text": [
      "[I 2024-06-25 04:48:55,459] Trial 585 finished with value: 0.8312371877758528 and parameters: {'boosting_type': 'gbdt', 'num_leaves': 29, 'max_depth': 37, 'learning_rate': 0.011582380872696791, 'n_estimators': 969, 'min_child_samples': 53, 'subsample': 0.9688749757943194, 'colsample_bytree': 0.768874139593529, 'reg_alpha': 2.3490876138038107e-05, 'reg_lambda': 1.1596067581444494e-07, 'threshold': 100}. Best is trial 533 with value: 0.8334239392413227.\n"
     ]
    },
    {
     "name": "stdout",
     "output_type": "stream",
     "text": [
      "Score: 0.8312371877758528\n",
      "Fold 1\n",
      "Fold 2\n",
      "Fold 3\n"
     ]
    },
    {
     "name": "stderr",
     "output_type": "stream",
     "text": [
      "[I 2024-06-25 04:49:24,800] Trial 586 finished with value: 0.8322502674117279 and parameters: {'boosting_type': 'goss', 'num_leaves': 20, 'max_depth': 31, 'learning_rate': 0.016491835102465362, 'n_estimators': 983, 'min_child_samples': 50, 'subsample': 0.9530067837678743, 'colsample_bytree': 0.656193372646257, 'reg_alpha': 1.0587547109731055e-08, 'reg_lambda': 1.1095372272170013e-05, 'top_rate': 0.08250712244198713, 'other_rate': 0.29895277250704305, 'threshold': 48}. Best is trial 533 with value: 0.8334239392413227.\n"
     ]
    },
    {
     "name": "stdout",
     "output_type": "stream",
     "text": [
      "Score: 0.8322502674117279\n",
      "Fold 1\n",
      "Fold 2\n",
      "Fold 3\n"
     ]
    },
    {
     "name": "stderr",
     "output_type": "stream",
     "text": [
      "[I 2024-06-25 04:50:03,529] Trial 587 finished with value: 0.6801783978763227 and parameters: {'boosting_type': 'goss', 'num_leaves': 40, 'max_depth': 34, 'learning_rate': 0.00015132221636282486, 'n_estimators': 950, 'min_child_samples': 23, 'subsample': 0.9156176638670893, 'colsample_bytree': 0.5784626837211116, 'reg_alpha': 0.00011692248147936213, 'reg_lambda': 0.10067073967678039, 'top_rate': 0.10467135970508805, 'other_rate': 0.45543816742922927, 'threshold': 62}. Best is trial 533 with value: 0.8334239392413227.\n"
     ]
    },
    {
     "name": "stdout",
     "output_type": "stream",
     "text": [
      "Score: 0.6801783978763227\n",
      "Fold 1\n",
      "Fold 2\n",
      "Fold 3\n"
     ]
    },
    {
     "name": "stderr",
     "output_type": "stream",
     "text": [
      "[I 2024-06-25 04:52:05,068] Trial 588 finished with value: 0.8297422962998598 and parameters: {'boosting_type': 'dart', 'num_leaves': 12, 'max_depth': 33, 'learning_rate': 0.03274943365179106, 'n_estimators': 967, 'min_child_samples': 39, 'subsample': 0.8512292475388088, 'colsample_bytree': 0.6431273601098438, 'reg_alpha': 7.770449916095827e-05, 'reg_lambda': 5.258002870230287e-06, 'drop_rate': 0.2147957469587461, 'skip_drop': 0.577383617093103, 'threshold': 25}. Best is trial 533 with value: 0.8334239392413227.\n"
     ]
    },
    {
     "name": "stdout",
     "output_type": "stream",
     "text": [
      "Score: 0.8297422962998598\n",
      "Fold 1\n",
      "Fold 2\n",
      "Fold 3\n"
     ]
    },
    {
     "name": "stderr",
     "output_type": "stream",
     "text": [
      "[I 2024-06-25 04:52:15,770] Trial 589 finished with value: 0.8322749564673204 and parameters: {'boosting_type': 'goss', 'num_leaves': 32, 'max_depth': 23, 'learning_rate': 0.04600572931935923, 'n_estimators': 316, 'min_child_samples': 60, 'subsample': 0.8887723640394954, 'colsample_bytree': 0.8365673640928643, 'reg_alpha': 3.5078646749774374e-06, 'reg_lambda': 1.1617003200799697e-08, 'top_rate': 0.11365825162835075, 'other_rate': 0.49901035541591504, 'threshold': 57}. Best is trial 533 with value: 0.8334239392413227.\n"
     ]
    },
    {
     "name": "stdout",
     "output_type": "stream",
     "text": [
      "Score: 0.8322749564673204\n",
      "Fold 1\n",
      "Fold 2\n",
      "Fold 3\n"
     ]
    },
    {
     "name": "stderr",
     "output_type": "stream",
     "text": [
      "[I 2024-06-25 04:52:46,043] Trial 590 finished with value: 0.8331397895820437 and parameters: {'boosting_type': 'goss', 'num_leaves': 24, 'max_depth': 36, 'learning_rate': 0.022869393338268745, 'n_estimators': 934, 'min_child_samples': 55, 'subsample': 0.9571676298817087, 'colsample_bytree': 0.6226110346673028, 'reg_alpha': 0.0003312638779079824, 'reg_lambda': 9.444205745738512e-05, 'top_rate': 0.03318440383587454, 'other_rate': 0.43074203177284115, 'threshold': 59}. Best is trial 533 with value: 0.8334239392413227.\n"
     ]
    },
    {
     "name": "stdout",
     "output_type": "stream",
     "text": [
      "Score: 0.8331397895820437\n",
      "Fold 1\n",
      "Fold 2\n",
      "Fold 3\n"
     ]
    },
    {
     "name": "stderr",
     "output_type": "stream",
     "text": [
      "[I 2024-06-25 04:53:19,173] Trial 591 finished with value: 0.830211763383227 and parameters: {'boosting_type': 'goss', 'num_leaves': 27, 'max_depth': 38, 'learning_rate': 0.007158349194425525, 'n_estimators': 911, 'min_child_samples': 55, 'subsample': 0.9707992800370926, 'colsample_bytree': 0.809802699334115, 'reg_alpha': 0.001169520218021271, 'reg_lambda': 5.8488138533814465e-05, 'top_rate': 0.031096699393898117, 'other_rate': 0.4308183711576609, 'threshold': 55}. Best is trial 533 with value: 0.8334239392413227.\n"
     ]
    },
    {
     "name": "stdout",
     "output_type": "stream",
     "text": [
      "Score: 0.830211763383227\n",
      "Fold 1\n",
      "Fold 2\n",
      "Fold 3\n"
     ]
    },
    {
     "name": "stderr",
     "output_type": "stream",
     "text": [
      "[I 2024-06-25 04:53:55,938] Trial 592 finished with value: 0.8082948431428291 and parameters: {'boosting_type': 'goss', 'num_leaves': 36, 'max_depth': 36, 'learning_rate': 0.482622805904336, 'n_estimators': 902, 'min_child_samples': 56, 'subsample': 0.9396599498474045, 'colsample_bytree': 0.6266297082483727, 'reg_alpha': 4.48773713398283e-08, 'reg_lambda': 5.86542321039092, 'top_rate': 0.036162705688321375, 'other_rate': 0.43127798838023007, 'threshold': 58}. Best is trial 533 with value: 0.8334239392413227.\n"
     ]
    },
    {
     "name": "stdout",
     "output_type": "stream",
     "text": [
      "Score: 0.8082948431428291\n",
      "Fold 1\n",
      "Fold 2\n",
      "Fold 3\n"
     ]
    },
    {
     "name": "stderr",
     "output_type": "stream",
     "text": [
      "[I 2024-06-25 04:54:24,575] Trial 593 finished with value: 0.8310765758920651 and parameters: {'boosting_type': 'goss', 'num_leaves': 24, 'max_depth': 36, 'learning_rate': 0.010585176148623261, 'n_estimators': 931, 'min_child_samples': 53, 'subsample': 0.9279661284199396, 'colsample_bytree': 0.6377386507065712, 'reg_alpha': 4.910312777780073e-06, 'reg_lambda': 8.53483892509106e-07, 'top_rate': 0.4947878588921924, 'other_rate': 0.40186012607425836, 'threshold': 56}. Best is trial 533 with value: 0.8334239392413227.\n"
     ]
    },
    {
     "name": "stdout",
     "output_type": "stream",
     "text": [
      "Score: 0.8310765758920651\n",
      "Fold 1\n",
      "Fold 2\n",
      "Fold 3\n"
     ]
    },
    {
     "name": "stderr",
     "output_type": "stream",
     "text": [
      "[I 2024-06-25 04:55:09,178] Trial 594 finished with value: 0.8283338858915874 and parameters: {'boosting_type': 'goss', 'num_leaves': 43, 'max_depth': 40, 'learning_rate': 0.003737217816658591, 'n_estimators': 1000, 'min_child_samples': 58, 'subsample': 0.8667616094947093, 'colsample_bytree': 0.8214929822193594, 'reg_alpha': 0.004212961479269498, 'reg_lambda': 0.00011637489714437789, 'top_rate': 0.020982587920574378, 'other_rate': 0.41563649354578114, 'threshold': 59}. Best is trial 533 with value: 0.8334239392413227.\n"
     ]
    },
    {
     "name": "stdout",
     "output_type": "stream",
     "text": [
      "Score: 0.8283338858915874\n",
      "Fold 1\n",
      "Fold 2\n",
      "Fold 3\n"
     ]
    },
    {
     "name": "stderr",
     "output_type": "stream",
     "text": [
      "[I 2024-06-25 04:55:43,647] Trial 595 finished with value: 0.8161399839092766 and parameters: {'boosting_type': 'goss', 'num_leaves': 28, 'max_depth': 38, 'learning_rate': 0.0011050738056746997, 'n_estimators': 931, 'min_child_samples': 55, 'subsample': 0.9839139004419031, 'colsample_bytree': 0.6799490295501507, 'reg_alpha': 0.0012743980955539115, 'reg_lambda': 0.00021273924958800362, 'top_rate': 0.05456179216977661, 'other_rate': 0.4238880183553662, 'threshold': 53}. Best is trial 533 with value: 0.8334239392413227.\n"
     ]
    },
    {
     "name": "stdout",
     "output_type": "stream",
     "text": [
      "Score: 0.8161399839092766\n",
      "Fold 1\n",
      "Fold 2\n",
      "Fold 3\n"
     ]
    },
    {
     "name": "stderr",
     "output_type": "stream",
     "text": [
      "[I 2024-06-25 04:56:20,282] Trial 596 finished with value: 0.475538039576432 and parameters: {'boosting_type': 'goss', 'num_leaves': 33, 'max_depth': 35, 'learning_rate': 6.286826925753892e-06, 'n_estimators': 916, 'min_child_samples': 52, 'subsample': 0.9632445438220014, 'colsample_bytree': 0.6507881750714614, 'reg_alpha': 0.005355456825250873, 'reg_lambda': 3.8655121725543296e-05, 'top_rate': 0.035916947009875355, 'other_rate': 0.23741395609928678, 'threshold': 60}. Best is trial 533 with value: 0.8334239392413227.\n"
     ]
    },
    {
     "name": "stdout",
     "output_type": "stream",
     "text": [
      "Score: 0.475538039576432\n",
      "Fold 1\n",
      "Fold 2\n",
      "Fold 3\n"
     ]
    },
    {
     "name": "stderr",
     "output_type": "stream",
     "text": [
      "[I 2024-06-25 04:57:22,627] Trial 597 finished with value: 0.8283956669139098 and parameters: {'boosting_type': 'goss', 'num_leaves': 155, 'max_depth': 37, 'learning_rate': 0.022186559512254577, 'n_estimators': 946, 'min_child_samples': 57, 'subsample': 0.9788629243816125, 'colsample_bytree': 0.6264465431361746, 'reg_alpha': 2.780240439439104e-05, 'reg_lambda': 8.744345943870177e-05, 'top_rate': 0.04546981986042208, 'other_rate': 0.13845318431315612, 'threshold': 74}. Best is trial 533 with value: 0.8334239392413227.\n"
     ]
    },
    {
     "name": "stdout",
     "output_type": "stream",
     "text": [
      "Score: 0.8283956669139098\n",
      "Fold 1\n",
      "Fold 2\n",
      "Fold 3\n"
     ]
    },
    {
     "name": "stderr",
     "output_type": "stream",
     "text": [
      "[I 2024-06-25 04:58:04,332] Trial 598 finished with value: 0.7240369727456581 and parameters: {'boosting_type': 'goss', 'num_leaves': 40, 'max_depth': 35, 'learning_rate': 0.00023256094888421557, 'n_estimators': 942, 'min_child_samples': 54, 'subsample': 0.9604897821945506, 'colsample_bytree': 0.617232965424269, 'reg_alpha': 3.553874416838577e-05, 'reg_lambda': 2.2404517072443186e-05, 'top_rate': 0.019316729196734855, 'other_rate': 0.31862227030976153, 'threshold': 56}. Best is trial 533 with value: 0.8334239392413227.\n"
     ]
    },
    {
     "name": "stdout",
     "output_type": "stream",
     "text": [
      "Score: 0.7240369727456581\n",
      "Fold 1\n",
      "Fold 2\n",
      "Fold 3\n"
     ]
    },
    {
     "name": "stderr",
     "output_type": "stream",
     "text": [
      "[I 2024-06-25 04:58:19,896] Trial 599 finished with value: 0.5562626188722598 and parameters: {'boosting_type': 'goss', 'num_leaves': 83, 'max_depth': 33, 'learning_rate': 0.8908818617178891, 'n_estimators': 965, 'min_child_samples': 51, 'subsample': 0.9864431766655252, 'colsample_bytree': 0.6625931695483688, 'reg_alpha': 5.230068295849422e-06, 'reg_lambda': 8.932786025121374e-05, 'top_rate': 0.23935249616437598, 'other_rate': 0.44416598279616176, 'threshold': 51}. Best is trial 533 with value: 0.8334239392413227.\n"
     ]
    },
    {
     "name": "stdout",
     "output_type": "stream",
     "text": [
      "Score: 0.5562626188722598\n",
      "Fold 1\n",
      "Fold 2\n",
      "Fold 3\n"
     ]
    },
    {
     "name": "stderr",
     "output_type": "stream",
     "text": [
      "[I 2024-06-25 04:58:51,799] Trial 600 finished with value: 0.475538039576432 and parameters: {'boosting_type': 'goss', 'num_leaves': 22, 'max_depth': 36, 'learning_rate': 6.6948124677128115e-06, 'n_estimators': 984, 'min_child_samples': 60, 'subsample': 0.9969890620047215, 'colsample_bytree': 0.6921583059476373, 'reg_alpha': 2.4446974207187494e-06, 'reg_lambda': 0.00017433577643480901, 'top_rate': 0.22036403727808412, 'other_rate': 0.042528331030557365, 'threshold': 77}. Best is trial 533 with value: 0.8334239392413227.\n"
     ]
    },
    {
     "name": "stdout",
     "output_type": "stream",
     "text": [
      "Score: 0.475538039576432\n",
      "Fold 1\n",
      "Fold 2\n",
      "Fold 3\n"
     ]
    },
    {
     "name": "stderr",
     "output_type": "stream",
     "text": [
      "[I 2024-06-25 04:59:37,160] Trial 601 finished with value: 0.8328432855499345 and parameters: {'boosting_type': 'goss', 'num_leaves': 50, 'max_depth': 39, 'learning_rate': 0.013854843514498685, 'n_estimators': 955, 'min_child_samples': 49, 'subsample': 0.9398012665015698, 'colsample_bytree': 0.9852109983435521, 'reg_alpha': 6.38203156757475e-05, 'reg_lambda': 0.0003544419165704574, 'top_rate': 0.001523996669862221, 'other_rate': 0.4894897877553719, 'threshold': 58}. Best is trial 533 with value: 0.8334239392413227.\n"
     ]
    },
    {
     "name": "stdout",
     "output_type": "stream",
     "text": [
      "Score: 0.8328432855499345\n",
      "Fold 1\n",
      "Fold 2\n",
      "Fold 3\n"
     ]
    },
    {
     "name": "stderr",
     "output_type": "stream",
     "text": [
      "[I 2024-06-25 05:00:07,064] Trial 602 finished with value: 0.8314472125718758 and parameters: {'boosting_type': 'goss', 'num_leaves': 30, 'max_depth': 32, 'learning_rate': 0.016168541124104895, 'n_estimators': 926, 'min_child_samples': 57, 'subsample': 0.9559863726928514, 'colsample_bytree': 0.7940310053168914, 'reg_alpha': 2.257127717978569e-07, 'reg_lambda': 5.632191139989587e-08, 'top_rate': 0.3763636787211907, 'other_rate': 0.4998871957924839, 'threshold': 61}. Best is trial 533 with value: 0.8334239392413227.\n"
     ]
    },
    {
     "name": "stdout",
     "output_type": "stream",
     "text": [
      "Score: 0.8314472125718758\n",
      "Fold 1\n",
      "Fold 2\n",
      "Fold 3\n"
     ]
    },
    {
     "name": "stderr",
     "output_type": "stream",
     "text": [
      "[I 2024-06-25 05:00:44,614] Trial 603 finished with value: 0.8328432809708488 and parameters: {'boosting_type': 'goss', 'num_leaves': 36, 'max_depth': 34, 'learning_rate': 0.02560591238108616, 'n_estimators': 1000, 'min_child_samples': 62, 'subsample': 0.9837812852442761, 'colsample_bytree': 0.6434953502045203, 'reg_alpha': 1.0232127191888065e-06, 'reg_lambda': 0.0005546776793337862, 'top_rate': 0.12724241484470106, 'other_rate': 0.2844921209298916, 'threshold': 59}. Best is trial 533 with value: 0.8334239392413227.\n"
     ]
    },
    {
     "name": "stdout",
     "output_type": "stream",
     "text": [
      "Score: 0.8328432809708488\n",
      "Fold 1\n",
      "Fold 2\n",
      "Fold 3\n"
     ]
    },
    {
     "name": "stderr",
     "output_type": "stream",
     "text": [
      "[I 2024-06-25 05:01:22,256] Trial 604 finished with value: 0.8321884978371193 and parameters: {'boosting_type': 'goss', 'num_leaves': 44, 'max_depth': 35, 'learning_rate': 0.009336925404256624, 'n_estimators': 973, 'min_child_samples': 52, 'subsample': 0.906700741150899, 'colsample_bytree': 0.6293310276401035, 'reg_alpha': 0.0002227225007966225, 'reg_lambda': 2.6826642215673016e-07, 'top_rate': 0.2316129150888585, 'other_rate': 0.38166833012203893, 'threshold': 53}. Best is trial 533 with value: 0.8334239392413227.\n"
     ]
    },
    {
     "name": "stdout",
     "output_type": "stream",
     "text": [
      "Score: 0.8321884978371193\n",
      "Fold 1\n",
      "Fold 2\n",
      "Fold 3\n"
     ]
    },
    {
     "name": "stderr",
     "output_type": "stream",
     "text": [
      "[I 2024-06-25 05:01:39,535] Trial 605 finished with value: 0.8310024551499863 and parameters: {'boosting_type': 'goss', 'num_leaves': 24, 'max_depth': 31, 'learning_rate': 0.0205060462145282, 'n_estimators': 487, 'min_child_samples': 64, 'subsample': 0.949378864975884, 'colsample_bytree': 0.7474046289714892, 'reg_alpha': 0.0103829240539926, 'reg_lambda': 4.7190559007227815e-07, 'top_rate': 0.30162385017778637, 'other_rate': 0.19737474121933024, 'threshold': 62}. Best is trial 533 with value: 0.8334239392413227.\n"
     ]
    },
    {
     "name": "stdout",
     "output_type": "stream",
     "text": [
      "Score: 0.8310024551499863\n",
      "Fold 1\n",
      "Fold 2\n",
      "Fold 3\n"
     ]
    },
    {
     "name": "stderr",
     "output_type": "stream",
     "text": [
      "[I 2024-06-25 05:02:13,460] Trial 606 finished with value: 0.8329791772403476 and parameters: {'boosting_type': 'goss', 'num_leaves': 30, 'max_depth': 37, 'learning_rate': 0.014513265356436674, 'n_estimators': 900, 'min_child_samples': 55, 'subsample': 0.8534338724941605, 'colsample_bytree': 0.761518586090775, 'reg_alpha': 3.8792749204102156e-07, 'reg_lambda': 0.00025942800609749065, 'top_rate': 0.028197752104589108, 'other_rate': 0.43404507221028765, 'threshold': 57}. Best is trial 533 with value: 0.8334239392413227.\n"
     ]
    },
    {
     "name": "stdout",
     "output_type": "stream",
     "text": [
      "Score: 0.8329791772403476\n",
      "Fold 1\n",
      "Fold 2\n",
      "Fold 3\n"
     ]
    },
    {
     "name": "stderr",
     "output_type": "stream",
     "text": [
      "[I 2024-06-25 05:02:34,528] Trial 607 finished with value: 0.8290751276555183 and parameters: {'boosting_type': 'gbdt', 'num_leaves': 19, 'max_depth': 33, 'learning_rate': 0.1026276935063129, 'n_estimators': 942, 'min_child_samples': 59, 'subsample': 0.9964743171856495, 'colsample_bytree': 0.6093088169910155, 'reg_alpha': 1.2063943736022334e-07, 'reg_lambda': 0.5017887750854183, 'threshold': 55}. Best is trial 533 with value: 0.8334239392413227.\n"
     ]
    },
    {
     "name": "stdout",
     "output_type": "stream",
     "text": [
      "Score: 0.8290751276555183\n",
      "Fold 1\n",
      "Fold 2\n",
      "Fold 3\n"
     ]
    },
    {
     "name": "stderr",
     "output_type": "stream",
     "text": [
      "[I 2024-06-25 05:03:12,865] Trial 608 finished with value: 0.8314101700592699 and parameters: {'boosting_type': 'goss', 'num_leaves': 48, 'max_depth': 37, 'learning_rate': 0.006944381020561775, 'n_estimators': 959, 'min_child_samples': 50, 'subsample': 0.826189067224142, 'colsample_bytree': 0.8434841200899443, 'reg_alpha': 8.502995486707497e-06, 'reg_lambda': 0.19474539685601142, 'top_rate': 0.060885622835643784, 'other_rate': 0.11334658360895278, 'threshold': 60}. Best is trial 533 with value: 0.8334239392413227.\n"
     ]
    },
    {
     "name": "stdout",
     "output_type": "stream",
     "text": [
      "Score: 0.8314101700592699\n",
      "Fold 1\n",
      "Fold 2\n",
      "Fold 3\n"
     ]
    },
    {
     "name": "stderr",
     "output_type": "stream",
     "text": [
      "[I 2024-06-25 05:05:07,214] Trial 609 finished with value: 0.475538039576432 and parameters: {'boosting_type': 'goss', 'num_leaves': 234, 'max_depth': 41, 'learning_rate': 6.661431875609256e-05, 'n_estimators': 985, 'min_child_samples': 48, 'subsample': 0.9641906854131578, 'colsample_bytree': 0.6360456709799154, 'reg_alpha': 5.2005915203269615e-05, 'reg_lambda': 0.0007900607779481233, 'top_rate': 0.13530011785062723, 'other_rate': 0.22811341001314497, 'threshold': 63}. Best is trial 533 with value: 0.8334239392413227.\n"
     ]
    },
    {
     "name": "stdout",
     "output_type": "stream",
     "text": [
      "Score: 0.475538039576432\n",
      "Fold 1\n",
      "Fold 2\n",
      "Fold 3\n"
     ]
    },
    {
     "name": "stderr",
     "output_type": "stream",
     "text": [
      "[I 2024-06-25 05:06:02,129] Trial 610 finished with value: 0.8258012174817727 and parameters: {'boosting_type': 'dart', 'num_leaves': 38, 'max_depth': 30, 'learning_rate': 0.0028861497317054082, 'n_estimators': 918, 'min_child_samples': 53, 'subsample': 0.6520345452119322, 'colsample_bytree': 0.6717972346964778, 'reg_alpha': 2.5808866536388093e-06, 'reg_lambda': 1.2883772388746236e-06, 'drop_rate': 0.4957399386058641, 'skip_drop': 0.9586404002441039, 'threshold': 48}. Best is trial 533 with value: 0.8334239392413227.\n"
     ]
    },
    {
     "name": "stdout",
     "output_type": "stream",
     "text": [
      "Score: 0.8258012174817727\n",
      "Fold 1\n",
      "Fold 2\n",
      "Fold 3\n"
     ]
    },
    {
     "name": "stderr",
     "output_type": "stream",
     "text": [
      "[I 2024-06-25 05:06:26,096] Trial 611 finished with value: 0.8193027235018003 and parameters: {'boosting_type': 'goss', 'num_leaves': 26, 'max_depth': 35, 'learning_rate': 0.289736126936883, 'n_estimators': 972, 'min_child_samples': 57, 'subsample': 0.5902914866176584, 'colsample_bytree': 0.8800326740799231, 'reg_alpha': 0.013443585502590538, 'reg_lambda': 5.357683458847266e-05, 'top_rate': 0.18026141388804923, 'other_rate': 0.4781736162836037, 'threshold': 46}. Best is trial 533 with value: 0.8334239392413227.\n"
     ]
    },
    {
     "name": "stdout",
     "output_type": "stream",
     "text": [
      "Score: 0.8193027235018003\n",
      "Fold 1\n",
      "Fold 2\n",
      "Fold 3\n"
     ]
    },
    {
     "name": "stderr",
     "output_type": "stream",
     "text": [
      "[I 2024-06-25 05:07:09,097] Trial 612 finished with value: 0.8304465120358927 and parameters: {'boosting_type': 'goss', 'num_leaves': 53, 'max_depth': 33, 'learning_rate': 0.02895878598173214, 'n_estimators': 945, 'min_child_samples': 47, 'subsample': 0.8068211819097779, 'colsample_bytree': 0.8648538256108921, 'reg_alpha': 0.00012915675952559366, 'reg_lambda': 3.619084802031911, 'top_rate': 0.09803939145749836, 'other_rate': 0.2577186262069372, 'threshold': 57}. Best is trial 533 with value: 0.8334239392413227.\n"
     ]
    },
    {
     "name": "stdout",
     "output_type": "stream",
     "text": [
      "Score: 0.8304465120358927\n",
      "Fold 1\n",
      "Fold 2\n",
      "Fold 3\n"
     ]
    },
    {
     "name": "stderr",
     "output_type": "stream",
     "text": [
      "[I 2024-06-25 05:07:42,777] Trial 613 finished with value: 0.475538039576432 and parameters: {'boosting_type': 'goss', 'num_leaves': 34, 'max_depth': 31, 'learning_rate': 7.751955767897556e-06, 'n_estimators': 887, 'min_child_samples': 74, 'subsample': 0.9245660585481894, 'colsample_bytree': 0.5977459602831066, 'reg_alpha': 0.0020107539404306263, 'reg_lambda': 1.8993847463170727e-05, 'top_rate': 0.11924669707608536, 'other_rate': 0.4663792434384701, 'threshold': 61}. Best is trial 533 with value: 0.8334239392413227.\n"
     ]
    },
    {
     "name": "stdout",
     "output_type": "stream",
     "text": [
      "Score: 0.475538039576432\n",
      "Fold 1\n",
      "Fold 2\n",
      "Fold 3\n"
     ]
    },
    {
     "name": "stderr",
     "output_type": "stream",
     "text": [
      "[I 2024-06-25 05:08:05,415] Trial 614 finished with value: 0.8316943142236463 and parameters: {'boosting_type': 'goss', 'num_leaves': 19, 'max_depth': 39, 'learning_rate': 0.0524887288825166, 'n_estimators': 957, 'min_child_samples': 61, 'subsample': 0.8018468813716961, 'colsample_bytree': 0.6989052436838114, 'reg_alpha': 0.0005872777456065438, 'reg_lambda': 3.093929384122845e-05, 'top_rate': 0.07569101691360566, 'other_rate': 0.48934632745537854, 'threshold': 50}. Best is trial 533 with value: 0.8334239392413227.\n"
     ]
    },
    {
     "name": "stdout",
     "output_type": "stream",
     "text": [
      "Score: 0.8316943142236463\n",
      "Fold 1\n",
      "Fold 2\n",
      "Fold 3\n"
     ]
    },
    {
     "name": "stderr",
     "output_type": "stream",
     "text": [
      "[I 2024-06-25 05:08:18,458] Trial 615 finished with value: 0.8274937825863183 and parameters: {'boosting_type': 'goss', 'num_leaves': 59, 'max_depth': 34, 'learning_rate': 0.010991395392584558, 'n_estimators': 274, 'min_child_samples': 95, 'subsample': 0.861397924264355, 'colsample_bytree': 0.6185645731362014, 'reg_alpha': 4.937217989927727e-07, 'reg_lambda': 0.666113550003839, 'top_rate': 0.10677412847173512, 'other_rate': 0.41107679476802556, 'threshold': 59}. Best is trial 533 with value: 0.8334239392413227.\n"
     ]
    },
    {
     "name": "stdout",
     "output_type": "stream",
     "text": [
      "Score: 0.8274937825863183\n",
      "Fold 1\n",
      "Fold 2\n",
      "Fold 3\n"
     ]
    },
    {
     "name": "stderr",
     "output_type": "stream",
     "text": [
      "[I 2024-06-25 05:09:17,964] Trial 616 finished with value: 0.8310024569816205 and parameters: {'boosting_type': 'goss', 'num_leaves': 101, 'max_depth': 46, 'learning_rate': 0.020174673787281515, 'n_estimators': 932, 'min_child_samples': 54, 'subsample': 0.6411515449962566, 'colsample_bytree': 0.5625519065821118, 'reg_alpha': 0.0003376871835516774, 'reg_lambda': 0.00013251695837160376, 'top_rate': 0.03866994482409452, 'other_rate': 0.363032543383987, 'threshold': 64}. Best is trial 533 with value: 0.8334239392413227.\n"
     ]
    },
    {
     "name": "stdout",
     "output_type": "stream",
     "text": [
      "Score: 0.8310024569816205\n",
      "Fold 1\n",
      "Fold 2\n",
      "Fold 3\n"
     ]
    },
    {
     "name": "stderr",
     "output_type": "stream",
     "text": [
      "[I 2024-06-25 05:09:52,834] Trial 617 finished with value: 0.8289639735590045 and parameters: {'boosting_type': 'goss', 'num_leaves': 41, 'max_depth': 36, 'learning_rate': 0.03402111223672793, 'n_estimators': 986, 'min_child_samples': 49, 'subsample': 0.7824592268505788, 'colsample_bytree': 0.6496258446836108, 'reg_alpha': 0.00043860419513526894, 'reg_lambda': 9.179751875347523e-06, 'top_rate': 0.047243443286861815, 'other_rate': 0.14811607295755103, 'threshold': 53}. Best is trial 533 with value: 0.8334239392413227.\n"
     ]
    },
    {
     "name": "stdout",
     "output_type": "stream",
     "text": [
      "Score: 0.8289639735590045\n",
      "Fold 1\n",
      "Fold 2\n",
      "Fold 3\n"
     ]
    },
    {
     "name": "stderr",
     "output_type": "stream",
     "text": [
      "[I 2024-06-25 05:10:25,486] Trial 618 finished with value: 0.8099132810945758 and parameters: {'boosting_type': 'goss', 'num_leaves': 27, 'max_depth': 29, 'learning_rate': 0.0007755276709359401, 'n_estimators': 968, 'min_child_samples': 59, 'subsample': 0.7703263255697527, 'colsample_bytree': 0.6560208411120942, 'reg_alpha': 0.00023783127948237933, 'reg_lambda': 1.444340692338038e-07, 'top_rate': 0.09234788780546857, 'other_rate': 0.4524779392346822, 'threshold': 62}. Best is trial 533 with value: 0.8334239392413227.\n"
     ]
    },
    {
     "name": "stdout",
     "output_type": "stream",
     "text": [
      "Score: 0.8099132810945758\n",
      "Fold 1\n",
      "Fold 2\n",
      "Fold 3\n"
     ]
    },
    {
     "name": "stderr",
     "output_type": "stream",
     "text": [
      "[I 2024-06-25 05:11:12,557] Trial 619 finished with value: 0.7127078544239466 and parameters: {'boosting_type': 'goss', 'num_leaves': 65, 'max_depth': 32, 'learning_rate': 0.0001929614499341329, 'n_estimators': 913, 'min_child_samples': 52, 'subsample': 0.5582774861385561, 'colsample_bytree': 0.779526848517509, 'reg_alpha': 0.039392351715814226, 'reg_lambda': 0.002139561836902006, 'top_rate': 0.28104616800958565, 'other_rate': 0.4831346297847076, 'threshold': 59}. Best is trial 533 with value: 0.8334239392413227.\n"
     ]
    },
    {
     "name": "stdout",
     "output_type": "stream",
     "text": [
      "Score: 0.7127078544239466\n",
      "Fold 1\n",
      "Fold 2\n",
      "Fold 3\n"
     ]
    },
    {
     "name": "stderr",
     "output_type": "stream",
     "text": [
      "[I 2024-06-25 05:11:48,449] Trial 620 finished with value: 0.8320525951569008 and parameters: {'boosting_type': 'goss', 'num_leaves': 32, 'max_depth': 38, 'learning_rate': 0.014599887170417289, 'n_estimators': 985, 'min_child_samples': 45, 'subsample': 0.8979025702802597, 'colsample_bytree': 0.5276379953014101, 'reg_alpha': 2.4045881276520547, 'reg_lambda': 6.671055702612523, 'top_rate': 0.49948643313446783, 'other_rate': 0.4406682524692241, 'threshold': 55}. Best is trial 533 with value: 0.8334239392413227.\n"
     ]
    },
    {
     "name": "stdout",
     "output_type": "stream",
     "text": [
      "Score: 0.8320525951569008\n",
      "Fold 1\n",
      "Fold 2\n",
      "Fold 3\n"
     ]
    },
    {
     "name": "stderr",
     "output_type": "stream",
     "text": [
      "[I 2024-06-25 05:12:32,646] Trial 621 finished with value: 0.475538039576432 and parameters: {'boosting_type': 'goss', 'num_leaves': 44, 'max_depth': 35, 'learning_rate': 2.5868829096461354e-05, 'n_estimators': 942, 'min_child_samples': 55, 'subsample': 0.91488143594452, 'colsample_bytree': 0.8861759864840637, 'reg_alpha': 0.005423003679962531, 'reg_lambda': 0.0011233634787387405, 'top_rate': 0.06688461451419317, 'other_rate': 0.42723841725496325, 'threshold': 57}. Best is trial 533 with value: 0.8334239392413227.\n"
     ]
    },
    {
     "name": "stdout",
     "output_type": "stream",
     "text": [
      "Score: 0.475538039576432\n",
      "Fold 1\n",
      "Fold 2\n",
      "Fold 3\n"
     ]
    },
    {
     "name": "stderr",
     "output_type": "stream",
     "text": [
      "[I 2024-06-25 05:12:56,309] Trial 622 finished with value: 0.8250722833839995 and parameters: {'boosting_type': 'goss', 'num_leaves': 24, 'max_depth': 29, 'learning_rate': 0.1553227197320335, 'n_estimators': 958, 'min_child_samples': 50, 'subsample': 0.8400710684335225, 'colsample_bytree': 0.9137479582468745, 'reg_alpha': 3.32132957361093e-06, 'reg_lambda': 0.0003232840886674956, 'top_rate': 0.19745972003046924, 'other_rate': 0.46799059696110756, 'threshold': 93}. Best is trial 533 with value: 0.8334239392413227.\n"
     ]
    },
    {
     "name": "stdout",
     "output_type": "stream",
     "text": [
      "Score: 0.8250722833839995\n",
      "Fold 1\n",
      "Fold 2\n",
      "Fold 3\n"
     ]
    },
    {
     "name": "stderr",
     "output_type": "stream",
     "text": [
      "[I 2024-06-25 05:13:46,753] Trial 623 finished with value: 0.475538039576432 and parameters: {'boosting_type': 'goss', 'num_leaves': 71, 'max_depth': 34, 'learning_rate': 4.275236188391303e-05, 'n_estimators': 932, 'min_child_samples': 48, 'subsample': 0.9451042571665966, 'colsample_bytree': 0.9336809780368964, 'reg_alpha': 0.000617027876419268, 'reg_lambda': 0.32326791113676423, 'top_rate': 0.17372488481577836, 'other_rate': 0.4997750613544026, 'threshold': 98}. Best is trial 533 with value: 0.8334239392413227.\n"
     ]
    },
    {
     "name": "stdout",
     "output_type": "stream",
     "text": [
      "Score: 0.475538039576432\n",
      "Fold 1\n",
      "Fold 2\n",
      "Fold 3\n"
     ]
    },
    {
     "name": "stderr",
     "output_type": "stream",
     "text": [
      "[I 2024-06-25 05:13:54,622] Trial 624 finished with value: 0.8207976264255071 and parameters: {'boosting_type': 'goss', 'num_leaves': 54, 'max_depth': 31, 'learning_rate': 0.008580248368547932, 'n_estimators': 137, 'min_child_samples': 56, 'subsample': 0.8880267298012453, 'colsample_bytree': 0.6228288949051932, 'reg_alpha': 0.0009601694332666766, 'reg_lambda': 3.834578703054006, 'top_rate': 0.32306263243823186, 'other_rate': 0.1005542044171735, 'threshold': 51}. Best is trial 533 with value: 0.8334239392413227.\n"
     ]
    },
    {
     "name": "stdout",
     "output_type": "stream",
     "text": [
      "Score: 0.8207976264255071\n",
      "Fold 1\n",
      "Fold 2\n",
      "Fold 3\n"
     ]
    },
    {
     "name": "stderr",
     "output_type": "stream",
     "text": [
      "[I 2024-06-25 05:14:35,019] Trial 625 finished with value: 0.475538039576432 and parameters: {'boosting_type': 'goss', 'num_leaves': 38, 'max_depth': 36, 'learning_rate': 9.560180596860808e-07, 'n_estimators': 971, 'min_child_samples': 46, 'subsample': 0.9997369808024423, 'colsample_bytree': 0.6399930982762498, 'reg_alpha': 0.0076182879686830535, 'reg_lambda': 7.151778134911182, 'top_rate': 0.11282869333700409, 'other_rate': 0.3014444393269357, 'threshold': 61}. Best is trial 533 with value: 0.8334239392413227.\n"
     ]
    },
    {
     "name": "stdout",
     "output_type": "stream",
     "text": [
      "Score: 0.475538039576432\n",
      "Fold 1\n",
      "Fold 2\n",
      "Fold 3\n"
     ]
    },
    {
     "name": "stderr",
     "output_type": "stream",
     "text": [
      "[I 2024-06-25 05:14:57,483] Trial 626 finished with value: 0.8312989637611811 and parameters: {'boosting_type': 'goss', 'num_leaves': 17, 'max_depth': 55, 'learning_rate': 0.023864735478125152, 'n_estimators': 953, 'min_child_samples': 51, 'subsample': 0.9785313261517837, 'colsample_bytree': 0.6801452274976261, 'reg_alpha': 1.3161835521710916, 'reg_lambda': 0.007429168007921213, 'top_rate': 0.0875850426951652, 'other_rate': 0.06439151501674023, 'threshold': 65}. Best is trial 533 with value: 0.8334239392413227.\n"
     ]
    },
    {
     "name": "stdout",
     "output_type": "stream",
     "text": [
      "Score: 0.8312989637611811\n",
      "Fold 1\n",
      "Fold 2\n",
      "Fold 3\n"
     ]
    },
    {
     "name": "stderr",
     "output_type": "stream",
     "text": [
      "[I 2024-06-25 05:15:28,651] Trial 627 finished with value: 0.8285191827097905 and parameters: {'boosting_type': 'goss', 'num_leaves': 48, 'max_depth': 37, 'learning_rate': 0.0432924643692275, 'n_estimators': 983, 'min_child_samples': 57, 'subsample': 0.5781780683983342, 'colsample_bytree': 0.9544533930412724, 'reg_alpha': 8.608384993837499e-05, 'reg_lambda': 0.003857223269147395, 'top_rate': 0.4542480989823764, 'other_rate': 0.48272936885196466, 'threshold': 14}. Best is trial 533 with value: 0.8334239392413227.\n"
     ]
    },
    {
     "name": "stdout",
     "output_type": "stream",
     "text": [
      "Score: 0.8285191827097905\n",
      "Fold 1\n",
      "Fold 2\n",
      "Fold 3\n"
     ]
    },
    {
     "name": "stderr",
     "output_type": "stream",
     "text": [
      "[I 2024-06-25 05:16:04,841] Trial 628 finished with value: 0.7393071785857196 and parameters: {'boosting_type': 'goss', 'num_leaves': 31, 'max_depth': 32, 'learning_rate': 0.0003143572261309909, 'n_estimators': 1000, 'min_child_samples': 59, 'subsample': 0.6271100455460411, 'colsample_bytree': 0.818140242564568, 'reg_alpha': 0.02121511072122054, 'reg_lambda': 0.9420947609723348, 'top_rate': 0.2657362163641752, 'other_rate': 0.2722882920662936, 'threshold': 63}. Best is trial 533 with value: 0.8334239392413227.\n"
     ]
    },
    {
     "name": "stdout",
     "output_type": "stream",
     "text": [
      "Score: 0.7393071785857196\n",
      "Fold 1\n",
      "Fold 2\n",
      "Fold 3\n"
     ]
    },
    {
     "name": "stderr",
     "output_type": "stream",
     "text": [
      "[I 2024-06-25 05:16:27,681] Trial 629 finished with value: 0.8317190119795015 and parameters: {'boosting_type': 'gbdt', 'num_leaves': 22, 'max_depth': 28, 'learning_rate': 0.07088545598823318, 'n_estimators': 903, 'min_child_samples': 43, 'subsample': 0.7610440716870464, 'colsample_bytree': 0.6068680669893021, 'reg_alpha': 6.9465056511519354e-06, 'reg_lambda': 9.587484219548314, 'threshold': 59}. Best is trial 533 with value: 0.8334239392413227.\n"
     ]
    },
    {
     "name": "stdout",
     "output_type": "stream",
     "text": [
      "Score: 0.8317190119795015\n",
      "Fold 1\n",
      "Fold 2\n",
      "Fold 3\n"
     ]
    },
    {
     "name": "stderr",
     "output_type": "stream",
     "text": [
      "[I 2024-06-25 05:17:03,187] Trial 630 finished with value: 0.8225025532294198 and parameters: {'boosting_type': 'goss', 'num_leaves': 36, 'max_depth': 30, 'learning_rate': 0.0018536935163888345, 'n_estimators': 925, 'min_child_samples': 62, 'subsample': 0.9683667386555341, 'colsample_bytree': 0.7254154534787978, 'reg_alpha': 1.3722854541470714e-05, 'reg_lambda': 3.5885294955787487e-07, 'top_rate': 0.4320551549987758, 'other_rate': 0.25161405524970415, 'threshold': 54}. Best is trial 533 with value: 0.8334239392413227.\n"
     ]
    },
    {
     "name": "stdout",
     "output_type": "stream",
     "text": [
      "Score: 0.8225025532294198\n",
      "Fold 1\n",
      "Fold 2\n",
      "Fold 3\n"
     ]
    },
    {
     "name": "stderr",
     "output_type": "stream",
     "text": [
      "[I 2024-06-25 05:17:31,805] Trial 631 finished with value: 0.8314348755995705 and parameters: {'boosting_type': 'goss', 'num_leaves': 26, 'max_depth': 33, 'learning_rate': 0.01812099786023898, 'n_estimators': 1000, 'min_child_samples': 47, 'subsample': 0.8155246875063397, 'colsample_bytree': 0.6304555456975343, 'reg_alpha': 2.740806491488016e-07, 'reg_lambda': 1.0960542733627957e-06, 'top_rate': 0.014983458854500161, 'other_rate': 0.16338468547982193, 'threshold': 61}. Best is trial 533 with value: 0.8334239392413227.\n"
     ]
    },
    {
     "name": "stdout",
     "output_type": "stream",
     "text": [
      "Score: 0.8314348755995705\n",
      "Fold 1\n",
      "Fold 2\n",
      "Fold 3\n"
     ]
    },
    {
     "name": "stderr",
     "output_type": "stream",
     "text": [
      "[I 2024-06-25 05:18:18,796] Trial 632 finished with value: 0.475538039576432 and parameters: {'boosting_type': 'dart', 'num_leaves': 45, 'max_depth': 34, 'learning_rate': 1.7006292051315816e-05, 'n_estimators': 966, 'min_child_samples': 53, 'subsample': 0.8829687227951326, 'colsample_bytree': 0.7150948547063078, 'reg_alpha': 0.062020568267641074, 'reg_lambda': 7.259590937334875e-05, 'drop_rate': 0.36707085973858056, 'skip_drop': 0.9846416162503104, 'threshold': 56}. Best is trial 533 with value: 0.8334239392413227.\n"
     ]
    },
    {
     "name": "stdout",
     "output_type": "stream",
     "text": [
      "Score: 0.475538039576432\n",
      "Fold 1\n",
      "Fold 2\n",
      "Fold 3\n"
     ]
    },
    {
     "name": "stderr",
     "output_type": "stream",
     "text": [
      "[I 2024-06-25 05:18:43,816] Trial 633 finished with value: 0.475538039576432 and parameters: {'boosting_type': 'goss', 'num_leaves': 14, 'max_depth': 36, 'learning_rate': 4.760620390989875e-07, 'n_estimators': 948, 'min_child_samples': 49, 'subsample': 0.6087578392627014, 'colsample_bytree': 0.6161197717510171, 'reg_alpha': 6.963646821826422e-08, 'reg_lambda': 0.0005653090691508561, 'top_rate': 0.1279740497296201, 'other_rate': 0.20323294449193682, 'threshold': 65}. Best is trial 533 with value: 0.8334239392413227.\n"
     ]
    },
    {
     "name": "stdout",
     "output_type": "stream",
     "text": [
      "Score: 0.475538039576432\n",
      "Fold 1\n",
      "Fold 2\n",
      "Fold 3\n"
     ]
    },
    {
     "name": "stderr",
     "output_type": "stream",
     "text": [
      "[I 2024-06-25 05:19:03,675] Trial 634 finished with value: 0.8247757775202561 and parameters: {'boosting_type': 'goss', 'num_leaves': 30, 'max_depth': 13, 'learning_rate': 0.004302123873474433, 'n_estimators': 555, 'min_child_samples': 45, 'subsample': 0.5161292542437278, 'colsample_bytree': 0.6599387444303935, 'reg_alpha': 2.6988276299505565e-08, 'reg_lambda': 0.24614576833356494, 'top_rate': 0.09962392891823114, 'other_rate': 0.18408128744863328, 'threshold': 58}. Best is trial 533 with value: 0.8334239392413227.\n"
     ]
    },
    {
     "name": "stdout",
     "output_type": "stream",
     "text": [
      "Score: 0.8247757775202561\n",
      "Fold 1\n",
      "Fold 2\n",
      "Fold 3\n"
     ]
    },
    {
     "name": "stderr",
     "output_type": "stream",
     "text": [
      "[I 2024-06-25 05:19:40,918] Trial 635 finished with value: 0.8322626231582838 and parameters: {'boosting_type': 'goss', 'num_leaves': 39, 'max_depth': 38, 'learning_rate': 0.02756668931358442, 'n_estimators': 976, 'min_child_samples': 51, 'subsample': 0.5966062810188363, 'colsample_bytree': 0.5823297847611257, 'reg_alpha': 0.00012906943965595286, 'reg_lambda': 0.4564866120075975, 'top_rate': 0.1504039346655083, 'other_rate': 0.21313529240252257, 'threshold': 49}. Best is trial 533 with value: 0.8334239392413227.\n"
     ]
    },
    {
     "name": "stdout",
     "output_type": "stream",
     "text": [
      "Score: 0.8322626231582838\n",
      "Fold 1\n",
      "Fold 2\n",
      "Fold 3\n"
     ]
    },
    {
     "name": "stderr",
     "output_type": "stream",
     "text": [
      "[I 2024-06-25 05:20:25,616] Trial 636 finished with value: 0.8326085538398852 and parameters: {'boosting_type': 'goss', 'num_leaves': 59, 'max_depth': 31, 'learning_rate': 0.012246850588985145, 'n_estimators': 938, 'min_child_samples': 58, 'subsample': 0.7983839806832408, 'colsample_bytree': 0.5418047941990474, 'reg_alpha': 5.388815094509035e-05, 'reg_lambda': 0.14237966465470614, 'top_rate': 0.4696638549567551, 'other_rate': 0.011431753437277814, 'threshold': 52}. Best is trial 533 with value: 0.8334239392413227.\n"
     ]
    },
    {
     "name": "stdout",
     "output_type": "stream",
     "text": [
      "Score: 0.8326085538398852\n",
      "Fold 1\n",
      "Fold 2\n",
      "Fold 3\n"
     ]
    },
    {
     "name": "stderr",
     "output_type": "stream",
     "text": [
      "[I 2024-06-25 05:20:51,247] Trial 637 finished with value: 0.8281238464424906 and parameters: {'boosting_type': 'goss', 'num_leaves': 22, 'max_depth': 40, 'learning_rate': 0.00562932065428106, 'n_estimators': 959, 'min_child_samples': 54, 'subsample': 0.6359188558324199, 'colsample_bytree': 0.5145475178449691, 'reg_alpha': 1.8224774115875992e-05, 'reg_lambda': 5.861844588806341e-06, 'top_rate': 0.07965555927197418, 'other_rate': 0.07509480365338717, 'threshold': 42}. Best is trial 533 with value: 0.8334239392413227.\n"
     ]
    },
    {
     "name": "stdout",
     "output_type": "stream",
     "text": [
      "Score: 0.8281238464424906\n",
      "Fold 1\n",
      "Fold 2\n",
      "Fold 3\n"
     ]
    },
    {
     "name": "stderr",
     "output_type": "stream",
     "text": [
      "[I 2024-06-25 05:21:30,875] Trial 638 finished with value: 0.8307430087414652 and parameters: {'boosting_type': 'goss', 'num_leaves': 50, 'max_depth': 35, 'learning_rate': 0.034727322280828976, 'n_estimators': 984, 'min_child_samples': 65, 'subsample': 0.6731348375224847, 'colsample_bytree': 0.8979251310418084, 'reg_alpha': 4.886732778248786e-08, 'reg_lambda': 3.8029462774889236e-08, 'top_rate': 0.061096548132183306, 'other_rate': 0.47675119280293726, 'threshold': 62}. Best is trial 533 with value: 0.8334239392413227.\n"
     ]
    },
    {
     "name": "stdout",
     "output_type": "stream",
     "text": [
      "Score: 0.8307430087414652\n",
      "Fold 1\n",
      "Fold 2\n",
      "Fold 3\n"
     ]
    },
    {
     "name": "stderr",
     "output_type": "stream",
     "text": [
      "[I 2024-06-25 05:22:01,851] Trial 639 finished with value: 0.8326456073422962 and parameters: {'boosting_type': 'goss', 'num_leaves': 33, 'max_depth': 33, 'learning_rate': 0.016430903468113156, 'n_estimators': 919, 'min_child_samples': 61, 'subsample': 0.687649362113117, 'colsample_bytree': 0.6432399162808919, 'reg_alpha': 0.0027661435790037026, 'reg_lambda': 2.002985614157685, 'top_rate': 0.12068200563939648, 'other_rate': 0.45689707513231487, 'threshold': 60}. Best is trial 533 with value: 0.8334239392413227.\n"
     ]
    },
    {
     "name": "stdout",
     "output_type": "stream",
     "text": [
      "Score: 0.8326456073422962\n",
      "Fold 1\n",
      "Fold 2\n",
      "Fold 3\n"
     ]
    },
    {
     "name": "stderr",
     "output_type": "stream",
     "text": [
      "[I 2024-06-25 05:22:30,333] Trial 640 finished with value: 0.8300758620767342 and parameters: {'boosting_type': 'goss', 'num_leaves': 18, 'max_depth': 30, 'learning_rate': 0.008569665936009984, 'n_estimators': 969, 'min_child_samples': 47, 'subsample': 0.9306684412285159, 'colsample_bytree': 0.5931890677713116, 'reg_alpha': 1.5862332136868737e-06, 'reg_lambda': 3.8579862041140745e-05, 'top_rate': 0.1382787096314244, 'other_rate': 0.24210929413727297, 'threshold': 67}. Best is trial 533 with value: 0.8334239392413227.\n"
     ]
    },
    {
     "name": "stdout",
     "output_type": "stream",
     "text": [
      "Score: 0.8300758620767342\n",
      "Fold 1\n",
      "Fold 2\n",
      "Fold 3\n"
     ]
    },
    {
     "name": "stderr",
     "output_type": "stream",
     "text": [
      "[I 2024-06-25 05:23:01,470] Trial 641 finished with value: 0.475538039576432 and parameters: {'boosting_type': 'goss', 'num_leaves': 28, 'max_depth': 49, 'learning_rate': 5.197567658655661e-08, 'n_estimators': 942, 'min_child_samples': 43, 'subsample': 0.6200127176034451, 'colsample_bytree': 0.5525263754718625, 'reg_alpha': 4.1477318057952394e-05, 'reg_lambda': 3.0761772039915236, 'top_rate': 0.05062860270593059, 'other_rate': 0.4919406412724477, 'threshold': 63}. Best is trial 533 with value: 0.8334239392413227.\n"
     ]
    },
    {
     "name": "stdout",
     "output_type": "stream",
     "text": [
      "Score: 0.475538039576432\n",
      "Fold 1\n",
      "Fold 2\n",
      "Fold 3\n"
     ]
    },
    {
     "name": "stderr",
     "output_type": "stream",
     "text": [
      "[I 2024-06-25 05:23:40,981] Trial 642 finished with value: 0.8325097257258713 and parameters: {'boosting_type': 'goss', 'num_leaves': 42, 'max_depth': 28, 'learning_rate': 0.02273594540160458, 'n_estimators': 981, 'min_child_samples': 55, 'subsample': 0.6534027766292173, 'colsample_bytree': 0.6272591067291743, 'reg_alpha': 1.0447257715501894, 'reg_lambda': 0.002465097332326173, 'top_rate': 0.03065461348934762, 'other_rate': 0.3307823195913381, 'threshold': 57}. Best is trial 533 with value: 0.8334239392413227.\n"
     ]
    },
    {
     "name": "stdout",
     "output_type": "stream",
     "text": [
      "Score: 0.8325097257258713\n",
      "Fold 1\n",
      "Fold 2\n",
      "Fold 3\n"
     ]
    },
    {
     "name": "stderr",
     "output_type": "stream",
     "text": [
      "[I 2024-06-25 05:24:20,833] Trial 643 finished with value: 0.828667450294736 and parameters: {'boosting_type': 'goss', 'num_leaves': 55, 'max_depth': 38, 'learning_rate': 0.054305460888853, 'n_estimators': 955, 'min_child_samples': 52, 'subsample': 0.7527629683905802, 'colsample_bytree': 0.7532332935799081, 'reg_alpha': 0.0003183628712140487, 'reg_lambda': 5.05905006325625, 'top_rate': 0.10452136206345991, 'other_rate': 0.4670795567303925, 'threshold': 72}. Best is trial 533 with value: 0.8334239392413227.\n"
     ]
    },
    {
     "name": "stdout",
     "output_type": "stream",
     "text": [
      "Score: 0.828667450294736\n",
      "Fold 1\n",
      "Fold 2\n",
      "Fold 3\n"
     ]
    },
    {
     "name": "stderr",
     "output_type": "stream",
     "text": [
      "[I 2024-06-25 05:25:12,560] Trial 644 finished with value: 0.8327073810380817 and parameters: {'boosting_type': 'goss', 'num_leaves': 90, 'max_depth': 0, 'learning_rate': 0.012969889033243847, 'n_estimators': 893, 'min_child_samples': 57, 'subsample': 0.9503947170979816, 'colsample_bytree': 0.6680317818092996, 'reg_alpha': 0.49866553202845265, 'reg_lambda': 2.416183303735798e-06, 'top_rate': 0.1594623921375607, 'other_rate': 0.3525645772807581, 'threshold': 60}. Best is trial 533 with value: 0.8334239392413227.\n"
     ]
    },
    {
     "name": "stdout",
     "output_type": "stream",
     "text": [
      "Score: 0.8327073810380817\n",
      "Fold 1\n",
      "Fold 2\n",
      "Fold 3\n"
     ]
    },
    {
     "name": "stderr",
     "output_type": "stream",
     "text": [
      "[I 2024-06-25 05:25:30,967] Trial 645 finished with value: 0.8320649545667252 and parameters: {'boosting_type': 'goss', 'num_leaves': 9, 'max_depth': 51, 'learning_rate': 0.037249801742558125, 'n_estimators': 999, 'min_child_samples': 49, 'subsample': 0.5827564380464401, 'colsample_bytree': 0.7384932927198692, 'reg_alpha': 5.81268918263989, 'reg_lambda': 1.2109983401154054, 'top_rate': 0.25042777009980655, 'other_rate': 0.4872937932642854, 'threshold': 47}. Best is trial 533 with value: 0.8334239392413227.\n"
     ]
    },
    {
     "name": "stdout",
     "output_type": "stream",
     "text": [
      "Score: 0.8320649545667252\n",
      "Fold 1\n",
      "Fold 2\n",
      "Fold 3\n"
     ]
    },
    {
     "name": "stderr",
     "output_type": "stream",
     "text": [
      "[I 2024-06-25 05:25:43,594] Trial 646 finished with value: 0.475538039576432 and parameters: {'boosting_type': 'goss', 'num_leaves': 35, 'max_depth': 32, 'learning_rate': 9.93931638921839e-06, 'n_estimators': 352, 'min_child_samples': 45, 'subsample': 0.6990783623038658, 'colsample_bytree': 0.7993341615354579, 'reg_alpha': 1.7434412862284072, 'reg_lambda': 1.3563178624141933e-05, 'top_rate': 0.07021675247636057, 'other_rate': 0.4762445981156813, 'threshold': 65}. Best is trial 533 with value: 0.8334239392413227.\n"
     ]
    },
    {
     "name": "stdout",
     "output_type": "stream",
     "text": [
      "Score: 0.475538039576432\n",
      "Fold 1\n",
      "Fold 2\n",
      "Fold 3\n"
     ]
    },
    {
     "name": "stderr",
     "output_type": "stream",
     "text": [
      "[I 2024-06-25 05:25:56,061] Trial 647 finished with value: 0.830767720234577 and parameters: {'boosting_type': 'goss', 'num_leaves': 24, 'max_depth': 44, 'learning_rate': 0.019840436081201684, 'n_estimators': 415, 'min_child_samples': 60, 'subsample': 0.5720187068299728, 'colsample_bytree': 0.6359944011002581, 'reg_alpha': 1.1466779611180467e-06, 'reg_lambda': 0.0001586840809932455, 'top_rate': 0.08915812514632843, 'other_rate': 0.4469590896383246, 'threshold': 55}. Best is trial 533 with value: 0.8334239392413227.\n"
     ]
    },
    {
     "name": "stdout",
     "output_type": "stream",
     "text": [
      "Score: 0.830767720234577\n",
      "Fold 1\n",
      "Fold 2\n",
      "Fold 3\n"
     ]
    },
    {
     "name": "stderr",
     "output_type": "stream",
     "text": [
      "[I 2024-06-25 05:26:40,349] Trial 648 finished with value: 0.475538039576432 and parameters: {'boosting_type': 'goss', 'num_leaves': 46, 'max_depth': 34, 'learning_rate': 1.0332085106398061e-05, 'n_estimators': 929, 'min_child_samples': 50, 'subsample': 0.6628230347949374, 'colsample_bytree': 0.8608193170449581, 'reg_alpha': 1.3914938947682212e-07, 'reg_lambda': 0.06980793610091036, 'top_rate': 0.1107529896304283, 'other_rate': 0.3749594877342147, 'threshold': 58}. Best is trial 533 with value: 0.8334239392413227.\n"
     ]
    },
    {
     "name": "stdout",
     "output_type": "stream",
     "text": [
      "Score: 0.475538039576432\n",
      "Fold 1\n",
      "Fold 2\n",
      "Fold 3\n"
     ]
    },
    {
     "name": "stderr",
     "output_type": "stream",
     "text": [
      "[I 2024-06-25 05:27:13,453] Trial 649 finished with value: 0.8294828430227104 and parameters: {'boosting_type': 'goss', 'num_leaves': 30, 'max_depth': 35, 'learning_rate': 0.007031070839202357, 'n_estimators': 969, 'min_child_samples': 47, 'subsample': 0.790987918207236, 'colsample_bytree': 0.6494083547818608, 'reg_alpha': 9.501222875708967, 'reg_lambda': 0.6917010307344837, 'top_rate': 0.0787244326191485, 'other_rate': 0.19565559619558065, 'threshold': 63}. Best is trial 533 with value: 0.8334239392413227.\n"
     ]
    },
    {
     "name": "stdout",
     "output_type": "stream",
     "text": [
      "Score: 0.8294828430227104\n",
      "Fold 1\n",
      "Fold 2\n",
      "Fold 3\n"
     ]
    },
    {
     "name": "stderr",
     "output_type": "stream",
     "text": [
      "[I 2024-06-25 05:27:40,566] Trial 650 finished with value: 0.8220701410221894 and parameters: {'boosting_type': 'goss', 'num_leaves': 19, 'max_depth': 37, 'learning_rate': 0.002576184602077611, 'n_estimators': 955, 'min_child_samples': 56, 'subsample': 0.5920328803083071, 'colsample_bytree': 0.605596173892044, 'reg_alpha': 0.00010663488600415223, 'reg_lambda': 4.26908289472793, 'top_rate': 0.4263540598839176, 'other_rate': 0.23253860822543054, 'threshold': 53}. Best is trial 533 with value: 0.8334239392413227.\n"
     ]
    },
    {
     "name": "stdout",
     "output_type": "stream",
     "text": [
      "Score: 0.8220701410221894\n",
      "Fold 1\n",
      "Fold 2\n",
      "Fold 3\n"
     ]
    },
    {
     "name": "stderr",
     "output_type": "stream",
     "text": [
      "[I 2024-06-25 05:28:15,495] Trial 651 finished with value: 0.8166959366394497 and parameters: {'boosting_type': 'gbdt', 'num_leaves': 38, 'max_depth': 29, 'learning_rate': 0.0010789832285924596, 'n_estimators': 1000, 'min_child_samples': 59, 'subsample': 0.8302967922740603, 'colsample_bytree': 0.5717803550837819, 'reg_alpha': 2.40689993755373e-05, 'reg_lambda': 9.930610941463211, 'threshold': 21}. Best is trial 533 with value: 0.8334239392413227.\n"
     ]
    },
    {
     "name": "stdout",
     "output_type": "stream",
     "text": [
      "Score: 0.8166959366394497\n",
      "Fold 1\n",
      "Fold 2\n",
      "Fold 3\n"
     ]
    },
    {
     "name": "stderr",
     "output_type": "stream",
     "text": [
      "[I 2024-06-25 05:28:42,882] Trial 652 finished with value: 0.8232561695141573 and parameters: {'boosting_type': 'goss', 'num_leaves': 25, 'max_depth': 36, 'learning_rate': 0.08464583095216141, 'n_estimators': 937, 'min_child_samples': 54, 'subsample': 0.6033568015726042, 'colsample_bytree': 0.6212333559746642, 'reg_alpha': 0.24112426768368225, 'reg_lambda': 5.410575104050753e-07, 'top_rate': 0.09502490318623213, 'other_rate': 0.1567243569917464, 'threshold': 61}. Best is trial 533 with value: 0.8334239392413227.\n"
     ]
    },
    {
     "name": "stdout",
     "output_type": "stream",
     "text": [
      "Score: 0.8232561695141573\n",
      "Fold 1\n",
      "Fold 2\n",
      "Fold 3\n"
     ]
    },
    {
     "name": "stderr",
     "output_type": "stream",
     "text": [
      "[I 2024-06-25 05:29:19,848] Trial 653 finished with value: 0.8318672740695442 and parameters: {'boosting_type': 'goss', 'num_leaves': 50, 'max_depth': 33, 'learning_rate': 0.025943932299216516, 'n_estimators': 975, 'min_child_samples': 63, 'subsample': 0.7340008789224998, 'colsample_bytree': 0.8482104382503102, 'reg_alpha': 0.07874445214723656, 'reg_lambda': 0.0018393069220329584, 'top_rate': 0.36153527161490184, 'other_rate': 0.3114870725447111, 'threshold': 45}. Best is trial 533 with value: 0.8334239392413227.\n"
     ]
    },
    {
     "name": "stdout",
     "output_type": "stream",
     "text": [
      "Score: 0.8318672740695442\n",
      "Fold 1\n",
      "Fold 2\n",
      "Fold 3\n"
     ]
    },
    {
     "name": "stderr",
     "output_type": "stream",
     "text": [
      "[I 2024-06-25 05:31:05,503] Trial 654 finished with value: 0.8306071152194178 and parameters: {'boosting_type': 'dart', 'num_leaves': 33, 'max_depth': 39, 'learning_rate': 0.011898347628302428, 'n_estimators': 914, 'min_child_samples': 52, 'subsample': 0.6437924580280643, 'colsample_bytree': 0.693283755882807, 'reg_alpha': 0.0008146807443884074, 'reg_lambda': 0.0009596511957933676, 'drop_rate': 0.40968833727720844, 'skip_drop': 0.8307540212827029, 'threshold': 51}. Best is trial 533 with value: 0.8334239392413227.\n"
     ]
    },
    {
     "name": "stdout",
     "output_type": "stream",
     "text": [
      "Score: 0.8306071152194178\n",
      "Fold 1\n",
      "Fold 2\n",
      "Fold 3\n"
     ]
    },
    {
     "name": "stderr",
     "output_type": "stream",
     "text": [
      "[I 2024-06-25 05:31:26,901] Trial 655 finished with value: 0.8311012919642625 and parameters: {'boosting_type': 'goss', 'num_leaves': 14, 'max_depth': 30, 'learning_rate': 0.016822719071545523, 'n_estimators': 953, 'min_child_samples': 42, 'subsample': 0.7072915370044687, 'colsample_bytree': 0.7668169117134698, 'reg_alpha': 0.03174079087401309, 'reg_lambda': 0.16240841856832205, 'top_rate': 0.13071984706380751, 'other_rate': 0.41719689687783656, 'threshold': 59}. Best is trial 533 with value: 0.8334239392413227.\n"
     ]
    },
    {
     "name": "stdout",
     "output_type": "stream",
     "text": [
      "Score: 0.8311012919642625\n",
      "Fold 1\n",
      "Fold 2\n",
      "Fold 3\n"
     ]
    },
    {
     "name": "stderr",
     "output_type": "stream",
     "text": [
      "[I 2024-06-25 05:32:16,475] Trial 656 finished with value: 0.8279138321783645 and parameters: {'boosting_type': 'goss', 'num_leaves': 65, 'max_depth': 27, 'learning_rate': 0.04060944903204116, 'n_estimators': 980, 'min_child_samples': 48, 'subsample': 0.6271020180242163, 'colsample_bytree': 0.707271489090728, 'reg_alpha': 0.0036512328234806486, 'reg_lambda': 0.0002726798450847551, 'top_rate': 0.03875885462334658, 'other_rate': 0.4038327128242068, 'threshold': 75}. Best is trial 533 with value: 0.8334239392413227.\n"
     ]
    },
    {
     "name": "stdout",
     "output_type": "stream",
     "text": [
      "Score: 0.8279138321783645\n",
      "Fold 1\n",
      "Fold 2\n",
      "Fold 3\n"
     ]
    },
    {
     "name": "stderr",
     "output_type": "stream",
     "text": [
      "[I 2024-06-25 05:32:47,896] Trial 657 finished with value: 0.831274262799966 and parameters: {'boosting_type': 'goss', 'num_leaves': 43, 'max_depth': 32, 'learning_rate': 0.009971522454532684, 'n_estimators': 942, 'min_child_samples': 44, 'subsample': 0.9118897332747092, 'colsample_bytree': 0.636023265355849, 'reg_alpha': 0.7139378412068201, 'reg_lambda': 3.7706934125286366e-06, 'top_rate': 0.14577288077407607, 'other_rate': 0.4908572235903312, 'threshold': 7}. Best is trial 533 with value: 0.8334239392413227.\n"
     ]
    },
    {
     "name": "stdout",
     "output_type": "stream",
     "text": [
      "Score: 0.831274262799966\n",
      "Fold 1\n",
      "Fold 2\n",
      "Fold 3\n"
     ]
    },
    {
     "name": "stderr",
     "output_type": "stream",
     "text": [
      "[I 2024-06-25 05:33:12,464] Trial 658 finished with value: 0.8323367631325219 and parameters: {'boosting_type': 'goss', 'num_leaves': 21, 'max_depth': 34, 'learning_rate': 0.02474623968083221, 'n_estimators': 908, 'min_child_samples': 50, 'subsample': 0.6140934068471238, 'colsample_bytree': 0.6090802764053371, 'reg_alpha': 0.00016682702217834814, 'reg_lambda': 2.7046724677786598e-05, 'top_rate': 0.015554809457597872, 'other_rate': 0.18755835668828744, 'threshold': 83}. Best is trial 533 with value: 0.8334239392413227.\n"
     ]
    },
    {
     "name": "stdout",
     "output_type": "stream",
     "text": [
      "Score: 0.8323367631325219\n",
      "Fold 1\n",
      "Fold 2\n",
      "Fold 3\n"
     ]
    },
    {
     "name": "stderr",
     "output_type": "stream",
     "text": [
      "[I 2024-06-25 05:33:48,346] Trial 659 finished with value: 0.832719734495095 and parameters: {'boosting_type': 'goss', 'num_leaves': 29, 'max_depth': 36, 'learning_rate': 0.01603598379205848, 'n_estimators': 965, 'min_child_samples': 58, 'subsample': 0.6333687723868423, 'colsample_bytree': 0.8236286897679443, 'reg_alpha': 0.0018382695106597161, 'reg_lambda': 0.005596159903619441, 'top_rate': 0.10003164816129019, 'other_rate': 0.39225549294579787, 'threshold': 56}. Best is trial 533 with value: 0.8334239392413227.\n"
     ]
    },
    {
     "name": "stdout",
     "output_type": "stream",
     "text": [
      "Score: 0.832719734495095\n",
      "Fold 1\n",
      "Fold 2\n",
      "Fold 3\n"
     ]
    },
    {
     "name": "stderr",
     "output_type": "stream",
     "text": [
      "[I 2024-06-25 05:34:19,623] Trial 660 finished with value: 0.8301994053471283 and parameters: {'boosting_type': 'goss', 'num_leaves': 36, 'max_depth': 29, 'learning_rate': 0.05825648259235038, 'n_estimators': 986, 'min_child_samples': 46, 'subsample': 0.7659016522355424, 'colsample_bytree': 0.654158618029392, 'reg_alpha': 8.918221612444148e-06, 'reg_lambda': 2.536777219158851, 'top_rate': 0.11743998025300247, 'other_rate': 0.45966578295744015, 'threshold': 64}. Best is trial 533 with value: 0.8334239392413227.\n"
     ]
    },
    {
     "name": "stdout",
     "output_type": "stream",
     "text": [
      "Score: 0.8301994053471283\n",
      "Fold 1\n",
      "Fold 2\n",
      "Fold 3\n"
     ]
    },
    {
     "name": "stderr",
     "output_type": "stream",
     "text": [
      "[I 2024-06-25 05:35:04,096] Trial 661 finished with value: 0.475538039576432 and parameters: {'boosting_type': 'goss', 'num_leaves': 57, 'max_depth': 31, 'learning_rate': 1.6524247729692565e-08, 'n_estimators': 928, 'min_child_samples': 56, 'subsample': 0.977370476270865, 'colsample_bytree': 0.7855730009440143, 'reg_alpha': 1.4169621764209757e-05, 'reg_lambda': 8.718816117398202e-05, 'top_rate': 0.21289848173287662, 'other_rate': 0.4740447102402981, 'threshold': 68}. Best is trial 533 with value: 0.8334239392413227.\n"
     ]
    },
    {
     "name": "stdout",
     "output_type": "stream",
     "text": [
      "Score: 0.475538039576432\n",
      "Fold 1\n",
      "Fold 2\n",
      "Fold 3\n"
     ]
    },
    {
     "name": "stderr",
     "output_type": "stream",
     "text": [
      "[I 2024-06-25 05:35:27,046] Trial 662 finished with value: 0.8239603820448304 and parameters: {'boosting_type': 'goss', 'num_leaves': 25, 'max_depth': 58, 'learning_rate': 0.21770631065898657, 'n_estimators': 960, 'min_child_samples': 53, 'subsample': 0.5394502696883182, 'colsample_bytree': 0.618802630333809, 'reg_alpha': 0.31743080435168797, 'reg_lambda': 0.36305460708000176, 'top_rate': 0.3400087324022649, 'other_rate': 0.26631895490095125, 'threshold': 61}. Best is trial 533 with value: 0.8334239392413227.\n"
     ]
    },
    {
     "name": "stdout",
     "output_type": "stream",
     "text": [
      "Score: 0.8239603820448304\n",
      "Fold 1\n",
      "Fold 2\n",
      "Fold 3\n"
     ]
    },
    {
     "name": "stderr",
     "output_type": "stream",
     "text": [
      "[I 2024-06-25 05:36:07,878] Trial 663 finished with value: 0.8277655797044012 and parameters: {'boosting_type': 'goss', 'num_leaves': 53, 'max_depth': 28, 'learning_rate': 0.03148595070315692, 'n_estimators': 983, 'min_child_samples': 51, 'subsample': 0.8791376018502263, 'colsample_bytree': 0.627420904915358, 'reg_alpha': 0.01161288551799698, 'reg_lambda': 1.643867478316201, 'top_rate': 0.05590596725260045, 'other_rate': 0.11880953142893219, 'threshold': 58}. Best is trial 533 with value: 0.8334239392413227.\n"
     ]
    },
    {
     "name": "stdout",
     "output_type": "stream",
     "text": [
      "Score: 0.8277655797044012\n",
      "Fold 1\n",
      "Fold 2\n",
      "Fold 3\n"
     ]
    },
    {
     "name": "stderr",
     "output_type": "stream",
     "text": [
      "[I 2024-06-25 05:36:46,145] Trial 664 finished with value: 0.475538039576432 and parameters: {'boosting_type': 'goss', 'num_leaves': 40, 'max_depth': 37, 'learning_rate': 2.6962393850285884e-06, 'n_estimators': 939, 'min_child_samples': 61, 'subsample': 0.7127976627626016, 'colsample_bytree': 0.8092137446245798, 'reg_alpha': 0.09956378567180338, 'reg_lambda': 0.018634786031352237, 'top_rate': 0.08307944524395254, 'other_rate': 0.4396241272956058, 'threshold': 62}. Best is trial 533 with value: 0.8334239392413227.\n"
     ]
    },
    {
     "name": "stdout",
     "output_type": "stream",
     "text": [
      "Score: 0.475538039576432\n",
      "Fold 1\n",
      "Fold 2\n",
      "Fold 3\n"
     ]
    },
    {
     "name": "stderr",
     "output_type": "stream",
     "text": [
      "[I 2024-06-25 05:38:10,208] Trial 665 finished with value: 0.475538039576432 and parameters: {'boosting_type': 'goss', 'num_leaves': 206, 'max_depth': 53, 'learning_rate': 8.543644038980457e-05, 'n_estimators': 875, 'min_child_samples': 49, 'subsample': 0.6902566245750137, 'colsample_bytree': 0.8366462523515135, 'reg_alpha': 3.8725259394685256e-07, 'reg_lambda': 0.0032694812641157764, 'top_rate': 0.46447395916979917, 'other_rate': 0.27013384990741135, 'threshold': 54}. Best is trial 533 with value: 0.8334239392413227.\n"
     ]
    },
    {
     "name": "stdout",
     "output_type": "stream",
     "text": [
      "Score: 0.475538039576432\n",
      "Fold 1\n",
      "Fold 2\n",
      "Fold 3\n"
     ]
    },
    {
     "name": "stderr",
     "output_type": "stream",
     "text": [
      "[I 2024-06-25 05:38:49,440] Trial 666 finished with value: 0.8297917078383698 and parameters: {'boosting_type': 'goss', 'num_leaves': 46, 'max_depth': 35, 'learning_rate': 0.005199087755285527, 'n_estimators': 956, 'min_child_samples': 54, 'subsample': 0.5573295904001924, 'colsample_bytree': 0.6433083274069163, 'reg_alpha': 0.4614287345354196, 'reg_lambda': 6.242368983854599, 'top_rate': 0.07119799006635286, 'other_rate': 0.4833721723694495, 'threshold': 66}. Best is trial 533 with value: 0.8334239392413227.\n"
     ]
    },
    {
     "name": "stdout",
     "output_type": "stream",
     "text": [
      "Score: 0.8297917078383698\n",
      "Fold 1\n",
      "Fold 2\n",
      "Fold 3\n"
     ]
    },
    {
     "name": "stderr",
     "output_type": "stream",
     "text": [
      "[I 2024-06-25 05:39:47,132] Trial 667 finished with value: 0.475538039576432 and parameters: {'boosting_type': 'goss', 'num_leaves': 76, 'max_depth': 63, 'learning_rate': 2.025522151142118e-07, 'n_estimators': 972, 'min_child_samples': 46, 'subsample': 0.6487569978059315, 'colsample_bytree': 0.6629004758670146, 'reg_alpha': 0.22081452969492574, 'reg_lambda': 9.188218008366602e-06, 'top_rate': 0.001241587436950976, 'other_rate': 0.2925379707607366, 'threshold': 49}. Best is trial 533 with value: 0.8334239392413227.\n"
     ]
    },
    {
     "name": "stdout",
     "output_type": "stream",
     "text": [
      "Score: 0.475538039576432\n",
      "Fold 1\n",
      "Fold 2\n",
      "Fold 3\n"
     ]
    },
    {
     "name": "stderr",
     "output_type": "stream",
     "text": [
      "[I 2024-06-25 05:41:05,955] Trial 668 finished with value: 0.832608552924068 and parameters: {'boosting_type': 'goss', 'num_leaves': 176, 'max_depth': 32, 'learning_rate': 0.00926862649196243, 'n_estimators': 915, 'min_child_samples': 59, 'subsample': 0.5281456381567708, 'colsample_bytree': 0.5992587442255441, 'reg_alpha': 1.0922157333087856, 'reg_lambda': 3.8592395366748877, 'top_rate': 0.1881111489759791, 'other_rate': 0.4658304070583293, 'threshold': 60}. Best is trial 533 with value: 0.8334239392413227.\n"
     ]
    },
    {
     "name": "stdout",
     "output_type": "stream",
     "text": [
      "Score: 0.832608552924068\n",
      "Fold 1\n",
      "Fold 2\n",
      "Fold 3\n"
     ]
    },
    {
     "name": "stderr",
     "output_type": "stream",
     "text": [
      "[I 2024-06-25 05:41:32,491] Trial 669 finished with value: 0.7897630260949172 and parameters: {'boosting_type': 'goss', 'num_leaves': 17, 'max_depth': 33, 'learning_rate': 0.0005333624428633841, 'n_estimators': 987, 'min_child_samples': 48, 'subsample': 0.8683836048790498, 'colsample_bytree': 0.6820225490661889, 'reg_alpha': 0.14645564163922545, 'reg_lambda': 0.0005025967142226501, 'top_rate': 0.027572507729592542, 'other_rate': 0.4908328088718507, 'threshold': 57}. Best is trial 533 with value: 0.8334239392413227.\n"
     ]
    },
    {
     "name": "stdout",
     "output_type": "stream",
     "text": [
      "Score: 0.7897630260949172\n",
      "Fold 1\n",
      "Fold 2\n",
      "Fold 3\n"
     ]
    },
    {
     "name": "stderr",
     "output_type": "stream",
     "text": [
      "[I 2024-06-25 05:41:36,525] Trial 670 finished with value: 0.8050332516250465 and parameters: {'boosting_type': 'goss', 'num_leaves': 2, 'max_depth': 30, 'learning_rate': 0.01903840759394302, 'n_estimators': 205, 'min_child_samples': 43, 'subsample': 0.7406108348174116, 'colsample_bytree': 0.6334535988329347, 'reg_alpha': 4.252986532872081, 'reg_lambda': 0.23896692118963905, 'top_rate': 0.2748890419277924, 'other_rate': 0.42886511256373294, 'threshold': 64}. Best is trial 533 with value: 0.8334239392413227.\n"
     ]
    },
    {
     "name": "stdout",
     "output_type": "stream",
     "text": [
      "Score: 0.8050332516250465\n",
      "Fold 1\n",
      "Fold 2\n",
      "Fold 3\n"
     ]
    },
    {
     "name": "stderr",
     "output_type": "stream",
     "text": [
      "[I 2024-06-25 05:42:10,928] Trial 671 finished with value: 0.475538039576432 and parameters: {'boosting_type': 'goss', 'num_leaves': 32, 'max_depth': 40, 'learning_rate': 1.587569711123707e-07, 'n_estimators': 1000, 'min_child_samples': 67, 'subsample': 0.9044282234621321, 'colsample_bytree': 0.9347073641233486, 'reg_alpha': 0.0030572327528729476, 'reg_lambda': 0.994483320161645, 'top_rate': 0.16544465044625553, 'other_rate': 0.4509989202353334, 'threshold': 52}. Best is trial 533 with value: 0.8334239392413227.\n"
     ]
    },
    {
     "name": "stdout",
     "output_type": "stream",
     "text": [
      "Score: 0.475538039576432\n",
      "Fold 1\n",
      "Fold 2\n",
      "Fold 3\n"
     ]
    },
    {
     "name": "stderr",
     "output_type": "stream",
     "text": [
      "[I 2024-06-25 05:42:47,686] Trial 672 finished with value: 0.475538039576432 and parameters: {'boosting_type': 'goss', 'num_leaves': 29, 'max_depth': 37, 'learning_rate': 2.4045318421728596e-06, 'n_estimators': 949, 'min_child_samples': 57, 'subsample': 0.8071389923452239, 'colsample_bytree': 0.5883706411559065, 'reg_alpha': 0.0013728944097034605, 'reg_lambda': 7.267971287344079e-08, 'top_rate': 0.09140591067394901, 'other_rate': 0.24108496901293439, 'threshold': 59}. Best is trial 533 with value: 0.8334239392413227.\n"
     ]
    },
    {
     "name": "stdout",
     "output_type": "stream",
     "text": [
      "Score: 0.475538039576432\n",
      "Fold 1\n",
      "Fold 2\n",
      "Fold 3\n"
     ]
    },
    {
     "name": "stderr",
     "output_type": "stream",
     "text": [
      "[I 2024-06-25 05:43:14,206] Trial 673 finished with value: 0.8316448935269652 and parameters: {'boosting_type': 'goss', 'num_leaves': 23, 'max_depth': 35, 'learning_rate': 0.01275629156464874, 'n_estimators': 928, 'min_child_samples': 41, 'subsample': 0.5997227534565005, 'colsample_bytree': 0.6152952904840684, 'reg_alpha': 1.3211872084006642e-08, 'reg_lambda': 3.020290017891251e-07, 'top_rate': 0.10540647613105911, 'other_rate': 0.4987002183102471, 'threshold': 62}. Best is trial 533 with value: 0.8334239392413227.\n"
     ]
    },
    {
     "name": "stdout",
     "output_type": "stream",
     "text": [
      "Score: 0.8316448935269652\n",
      "Fold 1\n",
      "Fold 2\n",
      "Fold 3\n"
     ]
    },
    {
     "name": "stderr",
     "output_type": "stream",
     "text": [
      "[I 2024-06-25 05:43:51,891] Trial 674 finished with value: 0.475538039576432 and parameters: {'boosting_type': 'gbdt', 'num_leaves': 36, 'max_depth': 31, 'learning_rate': 2.8295719027849738e-05, 'n_estimators': 968, 'min_child_samples': 45, 'subsample': 0.7851377314832898, 'colsample_bytree': 0.9724945250132044, 'reg_alpha': 1.9471954120602434e-07, 'reg_lambda': 5.975058446870426e-05, 'threshold': 70}. Best is trial 533 with value: 0.8334239392413227.\n"
     ]
    },
    {
     "name": "stdout",
     "output_type": "stream",
     "text": [
      "Score: 0.475538039576432\n",
      "Fold 1\n",
      "Fold 2\n",
      "Fold 3\n"
     ]
    },
    {
     "name": "stderr",
     "output_type": "stream",
     "text": [
      "[I 2024-06-25 05:44:09,252] Trial 675 finished with value: 0.830804792511239 and parameters: {'boosting_type': 'goss', 'num_leaves': 9, 'max_depth': 9, 'learning_rate': 0.029505912070325643, 'n_estimators': 946, 'min_child_samples': 51, 'subsample': 0.9245475874401562, 'colsample_bytree': 0.5613462714564691, 'reg_alpha': 3.158357999732482e-08, 'reg_lambda': 0.04261902010820237, 'top_rate': 0.13743398660578132, 'other_rate': 0.4777766319847556, 'threshold': 55}. Best is trial 533 with value: 0.8334239392413227.\n"
     ]
    },
    {
     "name": "stdout",
     "output_type": "stream",
     "text": [
      "Score: 0.830804792511239\n",
      "Fold 1\n",
      "Fold 2\n",
      "Fold 3\n"
     ]
    },
    {
     "name": "stderr",
     "output_type": "stream",
     "text": [
      "[I 2024-06-25 05:46:51,536] Trial 676 finished with value: 0.831669608225437 and parameters: {'boosting_type': 'dart', 'num_leaves': 42, 'max_depth': 27, 'learning_rate': 0.04774610693828951, 'n_estimators': 890, 'min_child_samples': 55, 'subsample': 0.9374889287343914, 'colsample_bytree': 0.6710611495615513, 'reg_alpha': 6.216083165284611e-07, 'reg_lambda': 0.009260409437932068, 'drop_rate': 0.29408245456445464, 'skip_drop': 0.7084831758936531, 'threshold': 66}. Best is trial 533 with value: 0.8334239392413227.\n"
     ]
    },
    {
     "name": "stdout",
     "output_type": "stream",
     "text": [
      "Score: 0.831669608225437\n",
      "Fold 1\n",
      "Fold 2\n",
      "Fold 3\n"
     ]
    },
    {
     "name": "stderr",
     "output_type": "stream",
     "text": [
      "[I 2024-06-25 05:47:33,481] Trial 677 finished with value: 0.8329050597036286 and parameters: {'boosting_type': 'goss', 'num_leaves': 60, 'max_depth': 42, 'learning_rate': 0.02178519890529495, 'n_estimators': 966, 'min_child_samples': 61, 'subsample': 0.958055213103791, 'colsample_bytree': 0.6475418333303288, 'reg_alpha': 1.0062343082522773e-08, 'reg_lambda': 0.5576886402846313, 'top_rate': 0.12153290556824999, 'other_rate': 0.467810813525022, 'threshold': 60}. Best is trial 533 with value: 0.8334239392413227.\n"
     ]
    },
    {
     "name": "stdout",
     "output_type": "stream",
     "text": [
      "Score: 0.8329050597036286\n",
      "Fold 1\n",
      "Fold 2\n",
      "Fold 3\n"
     ]
    },
    {
     "name": "stderr",
     "output_type": "stream",
     "text": [
      "[I 2024-06-25 05:48:20,610] Trial 678 finished with value: 0.7864643792430894 and parameters: {'boosting_type': 'goss', 'num_leaves': 48, 'max_depth': 34, 'learning_rate': 0.00047490954658948616, 'n_estimators': 981, 'min_child_samples': 48, 'subsample': 0.6271052469599571, 'colsample_bytree': 0.6247885164395676, 'reg_alpha': 9.660452307532803e-08, 'reg_lambda': 0.0013422384035946522, 'top_rate': 0.06219716188038743, 'other_rate': 0.2960539096986824, 'threshold': 85}. Best is trial 533 with value: 0.8334239392413227.\n"
     ]
    },
    {
     "name": "stdout",
     "output_type": "stream",
     "text": [
      "Score: 0.7864643792430894\n",
      "Fold 1\n",
      "Fold 2\n",
      "Fold 3\n"
     ]
    },
    {
     "name": "stderr",
     "output_type": "stream",
     "text": [
      "[I 2024-06-25 05:48:42,320] Trial 679 finished with value: 0.8294457794463111 and parameters: {'boosting_type': 'goss', 'num_leaves': 19, 'max_depth': 29, 'learning_rate': 0.09355980877228176, 'n_estimators': 931, 'min_child_samples': 52, 'subsample': 0.5875436488808561, 'colsample_bytree': 0.7719487292219023, 'reg_alpha': 0.0005682673172816281, 'reg_lambda': 1.9136706200336823e-05, 'top_rate': 0.04337046953910522, 'other_rate': 0.48411559819907934, 'threshold': 63}. Best is trial 533 with value: 0.8334239392413227.\n"
     ]
    },
    {
     "name": "stdout",
     "output_type": "stream",
     "text": [
      "Score: 0.8294457794463111\n",
      "Fold 1\n",
      "Fold 2\n",
      "Fold 3\n"
     ]
    },
    {
     "name": "stderr",
     "output_type": "stream",
     "text": [
      "[I 2024-06-25 05:49:15,862] Trial 680 finished with value: 0.475538039576432 and parameters: {'boosting_type': 'goss', 'num_leaves': 29, 'max_depth': 38, 'learning_rate': 8.678572305892736e-08, 'n_estimators': 1000, 'min_child_samples': 59, 'subsample': 0.7532684422682883, 'colsample_bytree': 0.9026343997380485, 'reg_alpha': 0.7507411505877883, 'reg_lambda': 0.11833109350271707, 'top_rate': 0.15422516291927665, 'other_rate': 0.4222204517912317, 'threshold': 57}. Best is trial 533 with value: 0.8334239392413227.\n"
     ]
    },
    {
     "name": "stdout",
     "output_type": "stream",
     "text": [
      "Score: 0.475538039576432\n",
      "Fold 1\n",
      "Fold 2\n",
      "Fold 3\n"
     ]
    },
    {
     "name": "stderr",
     "output_type": "stream",
     "text": [
      "[I 2024-06-25 05:49:35,723] Trial 681 finished with value: 0.5629707919272957 and parameters: {'boosting_type': 'goss', 'num_leaves': 53, 'max_depth': 36, 'learning_rate': 0.7501140995224495, 'n_estimators': 954, 'min_child_samples': 47, 'subsample': 0.6762424089590612, 'colsample_bytree': 0.7945290545464672, 'reg_alpha': 9.583138651862232e-05, 'reg_lambda': 1.1556053926212816e-07, 'top_rate': 0.08186178593648001, 'other_rate': 0.21383213237551785, 'threshold': 48}. Best is trial 533 with value: 0.8334239392413227.\n"
     ]
    },
    {
     "name": "stdout",
     "output_type": "stream",
     "text": [
      "Score: 0.5629707919272957\n",
      "Fold 1\n",
      "Fold 2\n",
      "Fold 3\n"
     ]
    },
    {
     "name": "stderr",
     "output_type": "stream",
     "text": [
      "[I 2024-06-25 05:50:03,993] Trial 682 finished with value: 0.825937105966826 and parameters: {'boosting_type': 'goss', 'num_leaves': 25, 'max_depth': 33, 'learning_rate': 0.0035803225828256106, 'n_estimators': 907, 'min_child_samples': 50, 'subsample': 0.5664882288752927, 'colsample_bytree': 0.7296916623139716, 'reg_alpha': 0.04781061282175229, 'reg_lambda': 1.2033880681107005e-06, 'top_rate': 0.303733517294619, 'other_rate': 0.3369475235725806, 'threshold': 50}. Best is trial 533 with value: 0.8334239392413227.\n"
     ]
    },
    {
     "name": "stdout",
     "output_type": "stream",
     "text": [
      "Score: 0.825937105966826\n",
      "Fold 1\n",
      "Fold 2\n",
      "Fold 3\n"
     ]
    },
    {
     "name": "stderr",
     "output_type": "stream",
     "text": [
      "[I 2024-06-25 05:50:39,090] Trial 683 finished with value: 0.475538039576432 and parameters: {'boosting_type': 'goss', 'num_leaves': 36, 'max_depth': 32, 'learning_rate': 4.9619935069235616e-06, 'n_estimators': 972, 'min_child_samples': 56, 'subsample': 0.841364078392134, 'colsample_bytree': 0.6877267483006286, 'reg_alpha': 0.3699770721037065, 'reg_lambda': 2.634619433369855, 'top_rate': 0.10782272204205469, 'other_rate': 0.45658807010902336, 'threshold': 54}. Best is trial 533 with value: 0.8334239392413227.\n"
     ]
    },
    {
     "name": "stdout",
     "output_type": "stream",
     "text": [
      "Score: 0.475538039576432\n",
      "Fold 1\n",
      "Fold 2\n",
      "Fold 3\n"
     ]
    },
    {
     "name": "stderr",
     "output_type": "stream",
     "text": [
      "[I 2024-06-25 05:50:57,847] Trial 684 finished with value: 0.8309653906577698 and parameters: {'boosting_type': 'goss', 'num_leaves': 13, 'max_depth': 34, 'learning_rate': 0.13037704025232208, 'n_estimators': 945, 'min_child_samples': 45, 'subsample': 0.6152637733156099, 'colsample_bytree': 0.509282856041429, 'reg_alpha': 3.474842263656046e-05, 'reg_lambda': 6.837280765795384, 'top_rate': 0.0961358186624085, 'other_rate': 0.49058705158423027, 'threshold': 61}. Best is trial 533 with value: 0.8334239392413227.\n"
     ]
    },
    {
     "name": "stdout",
     "output_type": "stream",
     "text": [
      "Score: 0.8309653906577698\n",
      "Fold 1\n",
      "Fold 2\n",
      "Fold 3\n"
     ]
    },
    {
     "name": "stderr",
     "output_type": "stream",
     "text": [
      "[I 2024-06-25 05:51:27,791] Trial 685 finished with value: 0.475538039576432 and parameters: {'boosting_type': 'goss', 'num_leaves': 21, 'max_depth': 39, 'learning_rate': 5.885778740436353e-05, 'n_estimators': 927, 'min_child_samples': 64, 'subsample': 0.6385784598996181, 'colsample_bytree': 0.6371203874779929, 'reg_alpha': 3.022493293159712e-06, 'reg_lambda': 2.1822776509205618e-07, 'top_rate': 0.07258243355655672, 'other_rate': 0.2287209019392886, 'threshold': 64}. Best is trial 533 with value: 0.8334239392413227.\n"
     ]
    },
    {
     "name": "stdout",
     "output_type": "stream",
     "text": [
      "Score: 0.475538039576432\n",
      "Fold 1\n",
      "Fold 2\n",
      "Fold 3\n"
     ]
    },
    {
     "name": "stderr",
     "output_type": "stream",
     "text": [
      "[I 2024-06-25 05:52:06,987] Trial 686 finished with value: 0.832695034449697 and parameters: {'boosting_type': 'goss', 'num_leaves': 40, 'max_depth': 28, 'learning_rate': 0.014200723670769766, 'n_estimators': 984, 'min_child_samples': 53, 'subsample': 0.6667303867767518, 'colsample_bytree': 0.6140649408594544, 'reg_alpha': 1.7757495995730295, 'reg_lambda': 7.499218476974441e-07, 'top_rate': 0.2217790101324022, 'other_rate': 0.13033592591735932, 'threshold': 58}. Best is trial 533 with value: 0.8334239392413227.\n"
     ]
    },
    {
     "name": "stdout",
     "output_type": "stream",
     "text": [
      "Score: 0.832695034449697\n",
      "Fold 1\n",
      "Fold 2\n",
      "Fold 3\n"
     ]
    },
    {
     "name": "stderr",
     "output_type": "stream",
     "text": [
      "[I 2024-06-25 05:52:40,955] Trial 687 finished with value: 0.8314101522008362 and parameters: {'boosting_type': 'goss', 'num_leaves': 33, 'max_depth': 35, 'learning_rate': 0.008093871270857178, 'n_estimators': 963, 'min_child_samples': 57, 'subsample': 0.6067564784777297, 'colsample_bytree': 0.6537093132833992, 'reg_alpha': 4.724702978299241e-06, 'reg_lambda': 0.0007013154217679983, 'top_rate': 0.2085326591778826, 'other_rate': 0.4998109426722367, 'threshold': 56}. Best is trial 533 with value: 0.8334239392413227.\n"
     ]
    },
    {
     "name": "stdout",
     "output_type": "stream",
     "text": [
      "Score: 0.8314101522008362\n",
      "Fold 1\n",
      "Fold 2\n",
      "Fold 3\n"
     ]
    },
    {
     "name": "stderr",
     "output_type": "stream",
     "text": [
      "[I 2024-06-25 05:53:12,045] Trial 688 finished with value: 0.475538039576432 and parameters: {'boosting_type': 'goss', 'num_leaves': 27, 'max_depth': 30, 'learning_rate': 0.00010411627412831466, 'n_estimators': 943, 'min_child_samples': 43, 'subsample': 0.7771667733131299, 'colsample_bytree': 0.6042259132891161, 'reg_alpha': 6.113491770482764e-05, 'reg_lambda': 0.00011664556545094162, 'top_rate': 0.20070422698428012, 'other_rate': 0.47323088007692204, 'threshold': 60}. Best is trial 533 with value: 0.8334239392413227.\n"
     ]
    },
    {
     "name": "stdout",
     "output_type": "stream",
     "text": [
      "Score: 0.475538039576432\n",
      "Fold 1\n",
      "Fold 2\n",
      "Fold 3\n"
     ]
    },
    {
     "name": "stderr",
     "output_type": "stream",
     "text": [
      "[I 2024-06-25 05:53:54,898] Trial 689 finished with value: 0.475538039576432 and parameters: {'boosting_type': 'goss', 'num_leaves': 46, 'max_depth': 36, 'learning_rate': 2.084343850772106e-05, 'n_estimators': 984, 'min_child_samples': 49, 'subsample': 0.7282520766417365, 'colsample_bytree': 0.6286060282736474, 'reg_alpha': 3.0522613342359364, 'reg_lambda': 1.5930468417263766, 'top_rate': 0.12709145527717974, 'other_rate': 0.2833867751961348, 'threshold': 52}. Best is trial 533 with value: 0.8334239392413227.\n"
     ]
    },
    {
     "name": "stdout",
     "output_type": "stream",
     "text": [
      "Score: 0.475538039576432\n",
      "Fold 1\n",
      "Fold 2\n",
      "Fold 3\n"
     ]
    },
    {
     "name": "stderr",
     "output_type": "stream",
     "text": [
      "[I 2024-06-25 05:54:19,520] Trial 690 finished with value: 0.475538039576432 and parameters: {'boosting_type': 'goss', 'num_leaves': 16, 'max_depth': 31, 'learning_rate': 6.940756910373284e-07, 'n_estimators': 967, 'min_child_samples': 60, 'subsample': 0.6555523906937732, 'colsample_bytree': 0.7467341175920676, 'reg_alpha': 0.5728998887748499, 'reg_lambda': 2.9701972665063897e-06, 'top_rate': 0.2849956863409394, 'other_rate': 0.4365501555471186, 'threshold': 62}. Best is trial 533 with value: 0.8334239392413227.\n"
     ]
    },
    {
     "name": "stdout",
     "output_type": "stream",
     "text": [
      "Score: 0.475538039576432\n",
      "Fold 1\n",
      "Fold 2\n",
      "Fold 3\n"
     ]
    },
    {
     "name": "stderr",
     "output_type": "stream",
     "text": [
      "[I 2024-06-25 05:54:52,178] Trial 691 finished with value: 0.8321761347640265 and parameters: {'boosting_type': 'goss', 'num_leaves': 29, 'max_depth': 26, 'learning_rate': 0.029726476800748806, 'n_estimators': 922, 'min_child_samples': 55, 'subsample': 0.5083431216105848, 'colsample_bytree': 0.9492649179903492, 'reg_alpha': 0.19876716574278475, 'reg_lambda': 0.00022459162172318095, 'top_rate': 0.020173765459420564, 'other_rate': 0.3845483393748719, 'threshold': 66}. Best is trial 533 with value: 0.8334239392413227.\n"
     ]
    },
    {
     "name": "stdout",
     "output_type": "stream",
     "text": [
      "Score: 0.8321761347640265\n",
      "Fold 1\n",
      "Fold 2\n",
      "Fold 3\n"
     ]
    },
    {
     "name": "stderr",
     "output_type": "stream",
     "text": [
      "[I 2024-06-25 05:55:19,460] Trial 692 finished with value: 0.8323243895275324 and parameters: {'boosting_type': 'goss', 'num_leaves': 52, 'max_depth': 38, 'learning_rate': 0.01829339215813272, 'n_estimators': 634, 'min_child_samples': 62, 'subsample': 0.9498003912839614, 'colsample_bytree': 0.6433028225107011, 'reg_alpha': 3.0604130290986216e-07, 'reg_lambda': 1.635915792626991e-08, 'top_rate': 0.17191672173585149, 'other_rate': 0.3682940258810481, 'threshold': 59}. Best is trial 533 with value: 0.8334239392413227.\n"
     ]
    },
    {
     "name": "stdout",
     "output_type": "stream",
     "text": [
      "Score: 0.8323243895275324\n",
      "Fold 1\n",
      "Fold 2\n",
      "Fold 3\n"
     ]
    },
    {
     "name": "stderr",
     "output_type": "stream",
     "text": [
      "[I 2024-06-25 05:55:47,708] Trial 693 finished with value: 0.475538039576432 and parameters: {'boosting_type': 'goss', 'num_leaves': 22, 'max_depth': 32, 'learning_rate': 3.4198310586343145e-08, 'n_estimators': 956, 'min_child_samples': 47, 'subsample': 0.7476922246300276, 'colsample_bytree': 0.5769483365491375, 'reg_alpha': 0.022918602110010178, 'reg_lambda': 0.0037739189285482494, 'top_rate': 0.42489856593865927, 'other_rate': 0.17381279026566218, 'threshold': 46}. Best is trial 533 with value: 0.8334239392413227.\n"
     ]
    },
    {
     "name": "stdout",
     "output_type": "stream",
     "text": [
      "Score: 0.475538039576432\n",
      "Fold 1\n",
      "Fold 2\n",
      "Fold 3\n"
     ]
    },
    {
     "name": "stderr",
     "output_type": "stream",
     "text": [
      "[I 2024-06-25 05:56:21,050] Trial 694 finished with value: 0.8314842660742868 and parameters: {'boosting_type': 'goss', 'num_leaves': 40, 'max_depth': 34, 'learning_rate': 0.04116313445388955, 'n_estimators': 985, 'min_child_samples': 52, 'subsample': 0.6204770942572113, 'colsample_bytree': 0.9436562989649258, 'reg_alpha': 0.10884629066256664, 'reg_lambda': 0.3720245985294283, 'top_rate': 0.2551244778596752, 'other_rate': 0.2912310432769456, 'threshold': 64}. Best is trial 533 with value: 0.8334239392413227.\n"
     ]
    },
    {
     "name": "stdout",
     "output_type": "stream",
     "text": [
      "Score: 0.8314842660742868\n",
      "Fold 1\n",
      "Fold 2\n",
      "Fold 3\n"
     ]
    },
    {
     "name": "stderr",
     "output_type": "stream",
     "text": [
      "[I 2024-06-25 05:56:57,240] Trial 695 finished with value: 0.475538039576432 and parameters: {'boosting_type': 'goss', 'num_leaves': 34, 'max_depth': 37, 'learning_rate': 1.4190792672264119e-05, 'n_estimators': 1000, 'min_child_samples': 58, 'subsample': 0.5941507945373417, 'colsample_bytree': 0.6634749384718808, 'reg_alpha': 0.00035364826024115016, 'reg_lambda': 5.05795938410381, 'top_rate': 0.05310671729508192, 'other_rate': 0.4821445643739236, 'threshold': 68}. Best is trial 533 with value: 0.8334239392413227.\n"
     ]
    },
    {
     "name": "stdout",
     "output_type": "stream",
     "text": [
      "Score: 0.475538039576432\n",
      "Fold 1\n",
      "Fold 2\n",
      "Fold 3\n"
     ]
    },
    {
     "name": "stderr",
     "output_type": "stream",
     "text": [
      "[I 2024-06-25 05:57:43,259] Trial 696 finished with value: 0.475538039576432 and parameters: {'boosting_type': 'gbdt', 'num_leaves': 58, 'max_depth': 29, 'learning_rate': 7.815892542146532e-08, 'n_estimators': 942, 'min_child_samples': 41, 'subsample': 0.9703296066647055, 'colsample_bytree': 0.8070342032766459, 'reg_alpha': 0.27563670280997743, 'reg_lambda': 0.09254529205089329, 'threshold': 56}. Best is trial 533 with value: 0.8334239392413227.\n"
     ]
    },
    {
     "name": "stdout",
     "output_type": "stream",
     "text": [
      "Score: 0.475538039576432\n",
      "Fold 1\n",
      "Fold 2\n",
      "Fold 3\n"
     ]
    },
    {
     "name": "stderr",
     "output_type": "stream",
     "text": [
      "[I 2024-06-25 05:58:20,788] Trial 697 finished with value: 0.8272590362231952 and parameters: {'boosting_type': 'goss', 'num_leaves': 45, 'max_depth': 33, 'learning_rate': 0.06558207299276289, 'n_estimators': 911, 'min_child_samples': 44, 'subsample': 0.8632130717730644, 'colsample_bytree': 0.6212363198204139, 'reg_alpha': 2.2124472060282635e-08, 'reg_lambda': 0.015171237712770685, 'top_rate': 0.08894495149825837, 'other_rate': 0.40794017042203157, 'threshold': 62}. Best is trial 533 with value: 0.8334239392413227.\n"
     ]
    },
    {
     "name": "stdout",
     "output_type": "stream",
     "text": [
      "Score: 0.8272590362231952\n",
      "Fold 1\n",
      "Fold 2\n",
      "Fold 3\n"
     ]
    },
    {
     "name": "stderr",
     "output_type": "stream",
     "text": [
      "[I 2024-06-25 05:59:34,005] Trial 698 finished with value: 0.8320278809163376 and parameters: {'boosting_type': 'goss', 'num_leaves': 142, 'max_depth': 31, 'learning_rate': 0.011300669628706841, 'n_estimators': 968, 'min_child_samples': 49, 'subsample': 0.5512417668376466, 'colsample_bytree': 0.777953074225454, 'reg_alpha': 0.00021404488102194757, 'reg_lambda': 0.928427442134653, 'top_rate': 0.26416620449348466, 'other_rate': 0.4646392819742663, 'threshold': 58}. Best is trial 533 with value: 0.8334239392413227.\n"
     ]
    },
    {
     "name": "stdout",
     "output_type": "stream",
     "text": [
      "Score: 0.8320278809163376\n",
      "Fold 1\n",
      "Fold 2\n",
      "Fold 3\n"
     ]
    },
    {
     "name": "stderr",
     "output_type": "stream",
     "text": [
      "[I 2024-06-25 06:01:44,524] Trial 699 finished with value: 0.8274567153466504 and parameters: {'boosting_type': 'dart', 'num_leaves': 27, 'max_depth': 27, 'learning_rate': 0.006231036342189483, 'n_estimators': 1000, 'min_child_samples': 54, 'subsample': 0.8088061554654166, 'colsample_bytree': 0.5475370692108806, 'reg_alpha': 5.644484036582783e-08, 'reg_lambda': 0.00041431572506305463, 'drop_rate': 0.31121424962983724, 'skip_drop': 0.7372152801358294, 'threshold': 54}. Best is trial 533 with value: 0.8334239392413227.\n"
     ]
    },
    {
     "name": "stdout",
     "output_type": "stream",
     "text": [
      "Score: 0.8274567153466504\n",
      "Fold 1\n",
      "Fold 2\n",
      "Fold 3\n"
     ]
    },
    {
     "name": "stderr",
     "output_type": "stream",
     "text": [
      "[I 2024-06-25 06:01:48,896] Trial 700 finished with value: 0.475538039576432 and parameters: {'boosting_type': 'goss', 'num_leaves': 63, 'max_depth': 36, 'learning_rate': 1.6377426799836874e-06, 'n_estimators': 58, 'min_child_samples': 46, 'subsample': 0.8927325911110725, 'colsample_bytree': 0.6327360940939479, 'reg_alpha': 0.4333685104488267, 'reg_lambda': 0.0017042091568914195, 'top_rate': 0.11019244162176264, 'other_rate': 0.49993114352704104, 'threshold': 51}. Best is trial 533 with value: 0.8334239392413227.\n"
     ]
    },
    {
     "name": "stdout",
     "output_type": "stream",
     "text": [
      "Score: 0.475538039576432\n",
      "Fold 1\n",
      "Fold 2\n",
      "Fold 3\n"
     ]
    },
    {
     "name": "stderr",
     "output_type": "stream",
     "text": [
      "[I 2024-06-25 06:02:18,061] Trial 701 finished with value: 0.8325344216500924 and parameters: {'boosting_type': 'goss', 'num_leaves': 32, 'max_depth': 35, 'learning_rate': 0.0229536386154444, 'n_estimators': 893, 'min_child_samples': 51, 'subsample': 0.5738883846152842, 'colsample_bytree': 0.6744355815990594, 'reg_alpha': 0.9369000017330422, 'reg_lambda': 3.093066536995719, 'top_rate': 0.0372812400532248, 'other_rate': 0.47546625080235827, 'threshold': 39}. Best is trial 533 with value: 0.8334239392413227.\n"
     ]
    },
    {
     "name": "stdout",
     "output_type": "stream",
     "text": [
      "Score: 0.8325344216500924\n",
      "Fold 1\n",
      "Fold 2\n",
      "Fold 3\n"
     ]
    },
    {
     "name": "stderr",
     "output_type": "stream",
     "text": [
      "[I 2024-06-25 06:02:46,260] Trial 702 finished with value: 0.7552692036613965 and parameters: {'boosting_type': 'goss', 'num_leaves': 21, 'max_depth': 41, 'learning_rate': 0.00040494003361979787, 'n_estimators': 951, 'min_child_samples': 59, 'subsample': 0.7020350033300261, 'colsample_bytree': 0.534846731761185, 'reg_alpha': 0.01743259631037542, 'reg_lambda': 4.9742486835252754e-05, 'top_rate': 0.2336485177937528, 'other_rate': 0.45293161694100514, 'threshold': 61}. Best is trial 533 with value: 0.8334239392413227.\n"
     ]
    },
    {
     "name": "stdout",
     "output_type": "stream",
     "text": [
      "Score: 0.7552692036613965\n",
      "Fold 1\n",
      "Fold 2\n",
      "Fold 3\n"
     ]
    },
    {
     "name": "stderr",
     "output_type": "stream",
     "text": [
      "[I 2024-06-25 06:03:20,532] Trial 703 finished with value: 0.8324602963289278 and parameters: {'boosting_type': 'goss', 'num_leaves': 37, 'max_depth': 30, 'learning_rate': 0.015054200249704715, 'n_estimators': 933, 'min_child_samples': 63, 'subsample': 0.5825947744925337, 'colsample_bytree': 0.5919504823045703, 'reg_alpha': 1.4523968374879028e-06, 'reg_lambda': 9.695381017839606, 'top_rate': 0.13864956579701615, 'other_rate': 0.48717562051517216, 'threshold': 59}. Best is trial 533 with value: 0.8334239392413227.\n"
     ]
    },
    {
     "name": "stdout",
     "output_type": "stream",
     "text": [
      "Score: 0.8324602963289278\n",
      "Fold 1\n",
      "Fold 2\n",
      "Fold 3\n"
     ]
    },
    {
     "name": "stderr",
     "output_type": "stream",
     "text": [
      "[I 2024-06-25 06:04:49,024] Trial 704 finished with value: 0.8263695250426846 and parameters: {'boosting_type': 'goss', 'num_leaves': 189, 'max_depth': 28, 'learning_rate': 0.03495512226929393, 'n_estimators': 975, 'min_child_samples': 48, 'subsample': 0.6457641815106921, 'colsample_bytree': 0.7108720386610903, 'reg_alpha': 0.06910684261798967, 'reg_lambda': 0.21106248999981905, 'top_rate': 0.11650287109720575, 'other_rate': 0.21366924783857347, 'threshold': 64}. Best is trial 533 with value: 0.8334239392413227.\n"
     ]
    },
    {
     "name": "stdout",
     "output_type": "stream",
     "text": [
      "Score: 0.8263695250426846\n",
      "Fold 1\n",
      "Fold 2\n",
      "Fold 3\n"
     ]
    },
    {
     "name": "stderr",
     "output_type": "stream",
     "text": [
      "[I 2024-06-25 06:06:01,091] Trial 705 finished with value: 0.475538039576432 and parameters: {'boosting_type': 'goss', 'num_leaves': 115, 'max_depth': 33, 'learning_rate': 1.7996540688042897e-07, 'n_estimators': 958, 'min_child_samples': 54, 'subsample': 0.8712272854038287, 'colsample_bytree': 0.6969845932367142, 'reg_alpha': 0.1770686423786077, 'reg_lambda': 0.006125959594048991, 'top_rate': 0.06588623054458852, 'other_rate': 0.25271025862777285, 'threshold': 49}. Best is trial 533 with value: 0.8334239392413227.\n"
     ]
    },
    {
     "name": "stdout",
     "output_type": "stream",
     "text": [
      "Score: 0.475538039576432\n",
      "Fold 1\n",
      "Fold 2\n",
      "Fold 3\n"
     ]
    },
    {
     "name": "stderr",
     "output_type": "stream",
     "text": [
      "[I 2024-06-25 06:06:43,941] Trial 706 finished with value: 0.8323614585988345 and parameters: {'boosting_type': 'goss', 'num_leaves': 49, 'max_depth': 34, 'learning_rate': 0.02315117156939725, 'n_estimators': 982, 'min_child_samples': 57, 'subsample': 0.8285066137755897, 'colsample_bytree': 0.6129564889414205, 'reg_alpha': 0.3599946329541758, 'reg_lambda': 7.220354001275751e-06, 'top_rate': 0.08239623069425363, 'other_rate': 0.346335959864308, 'threshold': 57}. Best is trial 533 with value: 0.8334239392413227.\n"
     ]
    },
    {
     "name": "stdout",
     "output_type": "stream",
     "text": [
      "Score: 0.8323614585988345\n",
      "Fold 1\n",
      "Fold 2\n",
      "Fold 3\n"
     ]
    },
    {
     "name": "stderr",
     "output_type": "stream",
     "text": [
      "[I 2024-06-25 06:07:05,924] Trial 707 finished with value: 0.8290257385545275 and parameters: {'boosting_type': 'goss', 'num_leaves': 11, 'max_depth': 37, 'learning_rate': 0.010368080291505296, 'n_estimators': 931, 'min_child_samples': 45, 'subsample': 0.7180878487018065, 'colsample_bytree': 0.6537839455912263, 'reg_alpha': 1.4337409876836895, 'reg_lambda': 0.05434625972054837, 'top_rate': 0.4891292138905154, 'other_rate': 0.4453618154443464, 'threshold': 60}. Best is trial 533 with value: 0.8334239392413227.\n"
     ]
    },
    {
     "name": "stdout",
     "output_type": "stream",
     "text": [
      "Score: 0.8290257385545275\n",
      "Fold 1\n",
      "Fold 2\n",
      "Fold 3\n"
     ]
    },
    {
     "name": "stderr",
     "output_type": "stream",
     "text": [
      "[I 2024-06-25 06:07:55,782] Trial 708 finished with value: 0.8327073947753386 and parameters: {'boosting_type': 'goss', 'num_leaves': 70, 'max_depth': 31, 'learning_rate': 0.015804725408541588, 'n_estimators': 967, 'min_child_samples': 50, 'subsample': 0.7706962115374001, 'colsample_bytree': 0.6427058635059671, 'reg_alpha': 0.004112854883862761, 'reg_lambda': 4.349728394011886e-08, 'top_rate': 0.10058271609103742, 'other_rate': 0.27221198378165, 'threshold': 63}. Best is trial 533 with value: 0.8334239392413227.\n"
     ]
    },
    {
     "name": "stdout",
     "output_type": "stream",
     "text": [
      "Score: 0.8327073947753386\n",
      "Fold 1\n",
      "Fold 2\n",
      "Fold 3\n"
     ]
    },
    {
     "name": "stderr",
     "output_type": "stream",
     "text": [
      "[I 2024-06-25 06:08:17,537] Trial 709 finished with value: 0.831978466172468 and parameters: {'boosting_type': 'goss', 'num_leaves': 17, 'max_depth': 39, 'learning_rate': 0.040606781598148664, 'n_estimators': 911, 'min_child_samples': 56, 'subsample': 0.9368469360711418, 'colsample_bytree': 0.5294082349122701, 'reg_alpha': 0.6205093341972951, 'reg_lambda': 2.137247401341134, 'top_rate': 0.34046840717772253, 'other_rate': 0.4627798275768256, 'threshold': 54}. Best is trial 533 with value: 0.8334239392413227.\n"
     ]
    },
    {
     "name": "stdout",
     "output_type": "stream",
     "text": [
      "Score: 0.831978466172468\n",
      "Fold 1\n",
      "Fold 2\n",
      "Fold 3\n"
     ]
    },
    {
     "name": "stderr",
     "output_type": "stream",
     "text": [
      "[I 2024-06-25 06:08:55,288] Trial 710 finished with value: 0.8309036174198928 and parameters: {'boosting_type': 'goss', 'num_leaves': 40, 'max_depth': 35, 'learning_rate': 0.007624301044673056, 'n_estimators': 860, 'min_child_samples': 42, 'subsample': 0.8542916020834268, 'colsample_bytree': 0.7539491656813345, 'reg_alpha': 0.12131822492574536, 'reg_lambda': 2.904341815494675e-05, 'top_rate': 0.48089524476307705, 'other_rate': 0.4813074934578103, 'threshold': 66}. Best is trial 533 with value: 0.8334239392413227.\n"
     ]
    },
    {
     "name": "stdout",
     "output_type": "stream",
     "text": [
      "Score: 0.8309036174198928\n",
      "Fold 1\n",
      "Fold 2\n",
      "Fold 3\n"
     ]
    },
    {
     "name": "stderr",
     "output_type": "stream",
     "text": [
      "[I 2024-06-25 06:09:25,544] Trial 711 finished with value: 0.475538039576432 and parameters: {'boosting_type': 'goss', 'num_leaves': 25, 'max_depth': 25, 'learning_rate': 1.7920690554811463e-08, 'n_estimators': 948, 'min_child_samples': 52, 'subsample': 0.6352267504346888, 'colsample_bytree': 0.7610583530141507, 'reg_alpha': 0.036563050424353094, 'reg_lambda': 5.013052610003029, 'top_rate': 0.184077575415663, 'other_rate': 0.04256619489270308, 'threshold': 28}. Best is trial 533 with value: 0.8334239392413227.\n"
     ]
    },
    {
     "name": "stdout",
     "output_type": "stream",
     "text": [
      "Score: 0.475538039576432\n",
      "Fold 1\n",
      "Fold 2\n",
      "Fold 3\n"
     ]
    },
    {
     "name": "stderr",
     "output_type": "stream",
     "text": [
      "[I 2024-06-25 06:10:04,600] Trial 712 finished with value: 0.8179807698920949 and parameters: {'boosting_type': 'goss', 'num_leaves': 54, 'max_depth': 32, 'learning_rate': 0.5472238783846297, 'n_estimators': 1000, 'min_child_samples': 61, 'subsample': 0.9180279732450011, 'colsample_bytree': 0.5174875909081696, 'reg_alpha': 0.0009413411248005491, 'reg_lambda': 0.49172750974028595, 'top_rate': 0.37660803181763464, 'other_rate': 0.49068904939908287, 'threshold': 62}. Best is trial 533 with value: 0.8334239392413227.\n"
     ]
    },
    {
     "name": "stdout",
     "output_type": "stream",
     "text": [
      "Score: 0.8179807698920949\n",
      "Fold 1\n",
      "Fold 2\n",
      "Fold 3\n"
     ]
    },
    {
     "name": "stderr",
     "output_type": "stream",
     "text": [
      "[I 2024-06-25 06:10:44,549] Trial 713 finished with value: 0.475538039576432 and parameters: {'boosting_type': 'goss', 'num_leaves': 33, 'max_depth': 29, 'learning_rate': 5.140190467388842e-08, 'n_estimators': 976, 'min_child_samples': 47, 'subsample': 0.6103599998173539, 'colsample_bytree': 0.736512971601913, 'reg_alpha': 0.26296565070637207, 'reg_lambda': 1.781670964451536e-07, 'top_rate': 0.029155797858647522, 'other_rate': 0.3569664350710368, 'threshold': 56}. Best is trial 533 with value: 0.8334239392413227.\n"
     ]
    },
    {
     "name": "stdout",
     "output_type": "stream",
     "text": [
      "Score: 0.475538039576432\n",
      "Fold 1\n",
      "Fold 2\n",
      "Fold 3\n"
     ]
    },
    {
     "name": "stderr",
     "output_type": "stream",
     "text": [
      "[I 2024-06-25 06:11:04,714] Trial 714 finished with value: 0.475538039576432 and parameters: {'boosting_type': 'goss', 'num_leaves': 43, 'max_depth': 4, 'learning_rate': 4.092987474822016e-05, 'n_estimators': 940, 'min_child_samples': 59, 'subsample': 0.8452544114007704, 'colsample_bytree': 0.8269126579106164, 'reg_alpha': 0.0015893981598562425, 'reg_lambda': 1.608008651608438e-06, 'top_rate': 0.41073688977115863, 'other_rate': 0.42301004692710886, 'threshold': 59}. Best is trial 533 with value: 0.8334239392413227.\n"
     ]
    },
    {
     "name": "stdout",
     "output_type": "stream",
     "text": [
      "Score: 0.475538039576432\n",
      "Fold 1\n",
      "Fold 2\n",
      "Fold 3\n"
     ]
    },
    {
     "name": "stderr",
     "output_type": "stream",
     "text": [
      "[I 2024-06-25 06:11:29,062] Trial 715 finished with value: 0.8195868768243478 and parameters: {'boosting_type': 'goss', 'num_leaves': 29, 'max_depth': 38, 'learning_rate': 0.3499980756956559, 'n_estimators': 961, 'min_child_samples': 49, 'subsample': 0.6818503188258668, 'colsample_bytree': 0.6246772326333839, 'reg_alpha': 8.209434007989351e-06, 'reg_lambda': 0.15219432825739812, 'top_rate': 0.3122764109515028, 'other_rate': 0.47433137433583433, 'threshold': 53}. Best is trial 533 with value: 0.8334239392413227.\n"
     ]
    },
    {
     "name": "stdout",
     "output_type": "stream",
     "text": [
      "Score: 0.8195868768243478\n",
      "Fold 1\n",
      "Fold 2\n",
      "Fold 3\n"
     ]
    },
    {
     "name": "stderr",
     "output_type": "stream",
     "text": [
      "[I 2024-06-25 06:12:01,050] Trial 716 finished with value: 0.804588465354918 and parameters: {'boosting_type': 'goss', 'num_leaves': 23, 'max_depth': 35, 'learning_rate': 0.0007115002854459546, 'n_estimators': 923, 'min_child_samples': 44, 'subsample': 0.6267532652389571, 'colsample_bytree': 0.8995051283896567, 'reg_alpha': 0.005786292221759243, 'reg_lambda': 0.02302850624074092, 'top_rate': 0.012733859317974836, 'other_rate': 0.3986126742339277, 'threshold': 61}. Best is trial 533 with value: 0.8334239392413227.\n"
     ]
    },
    {
     "name": "stdout",
     "output_type": "stream",
     "text": [
      "Score: 0.804588465354918\n",
      "Fold 1\n",
      "Fold 2\n",
      "Fold 3\n"
     ]
    },
    {
     "name": "stderr",
     "output_type": "stream",
     "text": [
      "[I 2024-06-25 06:12:38,227] Trial 717 finished with value: 0.8323491001048272 and parameters: {'boosting_type': 'goss', 'num_leaves': 49, 'max_depth': 28, 'learning_rate': 0.027470845891507077, 'n_estimators': 972, 'min_child_samples': 90, 'subsample': 0.6633146649018621, 'colsample_bytree': 0.6000438968766094, 'reg_alpha': 0.007902374789059714, 'reg_lambda': 1.2322538803439448e-05, 'top_rate': 0.15002695362172286, 'other_rate': 0.49981287915007105, 'threshold': 65}. Best is trial 533 with value: 0.8334239392413227.\n"
     ]
    },
    {
     "name": "stdout",
     "output_type": "stream",
     "text": [
      "Score: 0.8323491001048272\n",
      "Fold 1\n",
      "Fold 2\n",
      "Fold 3\n"
     ]
    },
    {
     "name": "stderr",
     "output_type": "stream",
     "text": [
      "[I 2024-06-25 06:12:59,922] Trial 718 finished with value: 0.8315584005536225 and parameters: {'boosting_type': 'gbdt', 'num_leaves': 17, 'max_depth': 30, 'learning_rate': 0.058552330880589906, 'n_estimators': 951, 'min_child_samples': 53, 'subsample': 0.5972580186324378, 'colsample_bytree': 0.7206344391543422, 'reg_alpha': 2.279016826808497, 'reg_lambda': 0.26412434541817986, 'threshold': 69}. Best is trial 533 with value: 0.8334239392413227.\n"
     ]
    },
    {
     "name": "stdout",
     "output_type": "stream",
     "text": [
      "Score: 0.8315584005536225\n",
      "Fold 1\n",
      "Fold 2\n",
      "Fold 3\n"
     ]
    },
    {
     "name": "stderr",
     "output_type": "stream",
     "text": [
      "[I 2024-06-25 06:13:16,916] Trial 719 finished with value: 0.475538039576432 and parameters: {'boosting_type': 'goss', 'num_leaves': 6, 'max_depth': 18, 'learning_rate': 2.9709613540767593e-08, 'n_estimators': 984, 'min_child_samples': 46, 'subsample': 0.8220461169888265, 'colsample_bytree': 0.6362901643743023, 'reg_alpha': 5.126064490396384e-07, 'reg_lambda': 7.11648041742115, 'top_rate': 0.07615521152164852, 'other_rate': 0.4347246284201909, 'threshold': 90}. Best is trial 533 with value: 0.8334239392413227.\n"
     ]
    },
    {
     "name": "stdout",
     "output_type": "stream",
     "text": [
      "Score: 0.475538039576432\n",
      "Fold 1\n",
      "Fold 2\n",
      "Fold 3\n"
     ]
    },
    {
     "name": "stderr",
     "output_type": "stream",
     "text": [
      "[I 2024-06-25 06:13:54,515] Trial 720 finished with value: 0.8238368465588817 and parameters: {'boosting_type': 'goss', 'num_leaves': 37, 'max_depth': 33, 'learning_rate': 0.002200402854340162, 'n_estimators': 889, 'min_child_samples': 55, 'subsample': 0.966344288438706, 'colsample_bytree': 0.8538681398394995, 'reg_alpha': 2.004654892079765e-05, 'reg_lambda': 0.0001995048229057332, 'top_rate': 0.2703395072814359, 'other_rate': 0.1904364539264511, 'threshold': 47}. Best is trial 533 with value: 0.8334239392413227.\n"
     ]
    },
    {
     "name": "stdout",
     "output_type": "stream",
     "text": [
      "Score: 0.8238368465588817\n",
      "Fold 1\n",
      "Fold 2\n",
      "Fold 3\n"
     ]
    },
    {
     "name": "stderr",
     "output_type": "stream",
     "text": [
      "[I 2024-06-25 06:14:27,105] Trial 721 finished with value: 0.8197474900818609 and parameters: {'boosting_type': 'goss', 'num_leaves': 27, 'max_depth': 36, 'learning_rate': 0.0014555492330866643, 'n_estimators': 1000, 'min_child_samples': 50, 'subsample': 0.6202343601586165, 'colsample_bytree': 0.658054676601311, 'reg_alpha': 1.1368920763111287e-06, 'reg_lambda': 9.533421389768338e-05, 'top_rate': 0.09334591788893029, 'other_rate': 0.46863167461274724, 'threshold': 50}. Best is trial 533 with value: 0.8334239392413227.\n"
     ]
    },
    {
     "name": "stdout",
     "output_type": "stream",
     "text": [
      "Score: 0.8197474900818609\n",
      "Fold 1\n",
      "Fold 2\n",
      "Fold 3\n"
     ]
    },
    {
     "name": "stderr",
     "output_type": "stream",
     "text": [
      "[I 2024-06-25 06:15:25,598] Trial 722 finished with value: 0.8321390684401758 and parameters: {'boosting_type': 'dart', 'num_leaves': 32, 'max_depth': 40, 'learning_rate': 0.01921817236072886, 'n_estimators': 934, 'min_child_samples': 40, 'subsample': 0.7613373604706649, 'colsample_bytree': 0.6138372778036587, 'reg_alpha': 4.4295824673437115e-06, 'reg_lambda': 0.7560305186440304, 'drop_rate': 0.38449160963299306, 'skip_drop': 0.9359685241841234, 'threshold': 58}. Best is trial 533 with value: 0.8334239392413227.\n"
     ]
    },
    {
     "name": "stdout",
     "output_type": "stream",
     "text": [
      "Score: 0.8321390684401758\n",
      "Fold 1\n",
      "Fold 2\n",
      "Fold 3\n"
     ]
    },
    {
     "name": "stderr",
     "output_type": "stream",
     "text": [
      "[I 2024-06-25 06:16:08,870] Trial 723 finished with value: 0.7081861086351232 and parameters: {'boosting_type': 'goss', 'num_leaves': 56, 'max_depth': 34, 'learning_rate': 0.0001806369832785356, 'n_estimators': 958, 'min_child_samples': 58, 'subsample': 0.9900667928858804, 'colsample_bytree': 0.6480423183542184, 'reg_alpha': 0.9542099741101419, 'reg_lambda': 0.03561677274333088, 'top_rate': 0.04565136960889163, 'other_rate': 0.4830069343486338, 'threshold': 43}. Best is trial 533 with value: 0.8334239392413227.\n"
     ]
    },
    {
     "name": "stdout",
     "output_type": "stream",
     "text": [
      "Score: 0.7081861086351232\n",
      "Fold 1\n",
      "Fold 2\n",
      "Fold 3\n"
     ]
    },
    {
     "name": "stderr",
     "output_type": "stream",
     "text": [
      "[I 2024-06-25 06:16:45,974] Trial 724 finished with value: 0.8326085419342627 and parameters: {'boosting_type': 'goss', 'num_leaves': 44, 'max_depth': 26, 'learning_rate': 0.01220442115028803, 'n_estimators': 983, 'min_child_samples': 48, 'subsample': 0.7296894715382306, 'colsample_bytree': 0.5572259116216267, 'reg_alpha': 2.4368226273678267e-06, 'reg_lambda': 0.002652984482305629, 'top_rate': 0.12553122917535872, 'other_rate': 0.4130111593948974, 'threshold': 63}. Best is trial 533 with value: 0.8334239392413227.\n"
     ]
    },
    {
     "name": "stdout",
     "output_type": "stream",
     "text": [
      "Score: 0.8326085419342627\n",
      "Fold 1\n",
      "Fold 2\n",
      "Fold 3\n"
     ]
    },
    {
     "name": "stderr",
     "output_type": "stream",
     "text": [
      "[I 2024-06-25 06:17:13,728] Trial 725 finished with value: 0.475538039576432 and parameters: {'boosting_type': 'goss', 'num_leaves': 19, 'max_depth': 32, 'learning_rate': 3.0200652976457134e-06, 'n_estimators': 907, 'min_child_samples': 51, 'subsample': 0.6032577872198752, 'colsample_bytree': 0.9146598503822871, 'reg_alpha': 0.0030073580714308243, 'reg_lambda': 1.4441761930872703, 'top_rate': 0.10285088939086809, 'other_rate': 0.21864837350037372, 'threshold': 61}. Best is trial 533 with value: 0.8334239392413227.\n"
     ]
    },
    {
     "name": "stdout",
     "output_type": "stream",
     "text": [
      "Score: 0.475538039576432\n",
      "Fold 1\n",
      "Fold 2\n",
      "Fold 3\n"
     ]
    },
    {
     "name": "stderr",
     "output_type": "stream",
     "text": [
      "[I 2024-06-25 06:18:20,487] Trial 726 finished with value: 0.475538039576432 and parameters: {'boosting_type': 'goss', 'num_leaves': 98, 'max_depth': 37, 'learning_rate': 4.172482366032065e-06, 'n_estimators': 949, 'min_child_samples': 60, 'subsample': 0.7416697445386263, 'colsample_bytree': 0.6275228989303121, 'reg_alpha': 0.05670632041322048, 'reg_lambda': 0.001105034246292767, 'top_rate': 0.16055627277715864, 'other_rate': 0.14231554937735905, 'threshold': 56}. Best is trial 533 with value: 0.8334239392413227.\n"
     ]
    },
    {
     "name": "stdout",
     "output_type": "stream",
     "text": [
      "Score: 0.475538039576432\n",
      "Fold 1\n",
      "Fold 2\n",
      "Fold 3\n"
     ]
    },
    {
     "name": "stderr",
     "output_type": "stream",
     "text": [
      "[I 2024-06-25 06:18:43,285] Trial 727 finished with value: 0.8256158730410798 and parameters: {'boosting_type': 'goss', 'num_leaves': 13, 'max_depth': 30, 'learning_rate': 0.004875965103631669, 'n_estimators': 970, 'min_child_samples': 64, 'subsample': 0.9279693525251866, 'colsample_bytree': 0.8172703916567943, 'reg_alpha': 0.5568916851169472, 'reg_lambda': 0.011004145277441733, 'top_rate': 0.08771972493212257, 'other_rate': 0.4573368117990907, 'threshold': 59}. Best is trial 533 with value: 0.8334239392413227.\n"
     ]
    },
    {
     "name": "stdout",
     "output_type": "stream",
     "text": [
      "Score: 0.8256158730410798\n",
      "Fold 1\n",
      "Fold 2\n",
      "Fold 3\n"
     ]
    },
    {
     "name": "stderr",
     "output_type": "stream",
     "text": [
      "[I 2024-06-25 06:19:10,938] Trial 728 finished with value: 0.475538039576432 and parameters: {'boosting_type': 'goss', 'num_leaves': 24, 'max_depth': 48, 'learning_rate': 3.0022156491883295e-07, 'n_estimators': 928, 'min_child_samples': 43, 'subsample': 0.5859252047258469, 'colsample_bytree': 0.6750932034736015, 'reg_alpha': 7.615544921535865e-07, 'reg_lambda': 4.058504960729571, 'top_rate': 0.11406107202960664, 'other_rate': 0.49090265960982316, 'threshold': 52}. Best is trial 533 with value: 0.8334239392413227.\n"
     ]
    },
    {
     "name": "stdout",
     "output_type": "stream",
     "text": [
      "Score: 0.475538039576432\n",
      "Fold 1\n",
      "Fold 2\n",
      "Fold 3\n"
     ]
    },
    {
     "name": "stderr",
     "output_type": "stream",
     "text": [
      "[I 2024-06-25 06:19:43,420] Trial 729 finished with value: 0.8319784583880225 and parameters: {'boosting_type': 'goss', 'num_leaves': 36, 'max_depth': 36, 'learning_rate': 0.024708493503393478, 'n_estimators': 963, 'min_child_samples': 56, 'subsample': 0.7957470830489816, 'colsample_bytree': 0.6373135650017365, 'reg_alpha': 0.09107599736476468, 'reg_lambda': 0.0003779052009374476, 'top_rate': 0.058082365627935895, 'other_rate': 0.47582088157596863, 'threshold': 67}. Best is trial 533 with value: 0.8334239392413227.\n"
     ]
    },
    {
     "name": "stdout",
     "output_type": "stream",
     "text": [
      "Score: 0.8319784583880225\n",
      "Fold 1\n",
      "Fold 2\n",
      "Fold 3\n"
     ]
    },
    {
     "name": "stderr",
     "output_type": "stream",
     "text": [
      "[I 2024-06-25 06:20:25,249] Trial 730 finished with value: 0.8242445440676404 and parameters: {'boosting_type': 'goss', 'num_leaves': 50, 'max_depth': 56, 'learning_rate': 0.015844283984033723, 'n_estimators': 987, 'min_child_samples': 53, 'subsample': 0.8810753211265892, 'colsample_bytree': 0.6045977483788227, 'reg_alpha': 0.000511638136228287, 'reg_lambda': 0.0007868987728856568, 'top_rate': 0.2431153490769685, 'other_rate': 0.008103377173113546, 'threshold': 64}. Best is trial 533 with value: 0.8334239392413227.\n"
     ]
    },
    {
     "name": "stdout",
     "output_type": "stream",
     "text": [
      "Score: 0.8242445440676404\n",
      "Fold 1\n",
      "Fold 2\n",
      "Fold 3\n"
     ]
    },
    {
     "name": "stderr",
     "output_type": "stream",
     "text": [
      "[I 2024-06-25 06:20:54,803] Trial 731 finished with value: 0.8290628117470066 and parameters: {'boosting_type': 'goss', 'num_leaves': 30, 'max_depth': 27, 'learning_rate': 0.03940312356771666, 'n_estimators': 940, 'min_child_samples': 46, 'subsample': 0.6415032219283393, 'colsample_bytree': 0.6182937270869779, 'reg_alpha': 0.19235315658361252, 'reg_lambda': 5.539872591384881e-07, 'top_rate': 0.010008044491180694, 'other_rate': 0.1692850722910683, 'threshold': 60}. Best is trial 533 with value: 0.8334239392413227.\n"
     ]
    },
    {
     "name": "stdout",
     "output_type": "stream",
     "text": [
      "Score: 0.8290628117470066\n",
      "Fold 1\n",
      "Fold 2\n",
      "Fold 3\n"
     ]
    },
    {
     "name": "stderr",
     "output_type": "stream",
     "text": [
      "[I 2024-06-25 06:21:47,233] Trial 732 finished with value: 0.475538039576432 and parameters: {'boosting_type': 'goss', 'num_leaves': 85, 'max_depth': 34, 'learning_rate': 0.00012077067299731377, 'n_estimators': 918, 'min_child_samples': 62, 'subsample': 0.6878488883153521, 'colsample_bytree': 0.8011772634266939, 'reg_alpha': 8.22576851354495e-08, 'reg_lambda': 2.677609051699855, 'top_rate': 0.142404782433321, 'other_rate': 0.44583807945354814, 'threshold': 57}. Best is trial 533 with value: 0.8334239392413227.\n"
     ]
    },
    {
     "name": "stdout",
     "output_type": "stream",
     "text": [
      "Score: 0.475538039576432\n",
      "Fold 1\n",
      "Fold 2\n",
      "Fold 3\n"
     ]
    },
    {
     "name": "stderr",
     "output_type": "stream",
     "text": [
      "[I 2024-06-25 06:22:27,428] Trial 733 finished with value: 0.8319661136312719 and parameters: {'boosting_type': 'goss', 'num_leaves': 39, 'max_depth': 43, 'learning_rate': 0.008638122161820234, 'n_estimators': 982, 'min_child_samples': 58, 'subsample': 0.6523999221361508, 'colsample_bytree': 0.5877537658150463, 'reg_alpha': 2.0090952055099e-08, 'reg_lambda': 7.163904674430364, 'top_rate': 0.06919485003432872, 'other_rate': 0.3287916023896237, 'threshold': 55}. Best is trial 533 with value: 0.8334239392413227.\n"
     ]
    },
    {
     "name": "stdout",
     "output_type": "stream",
     "text": [
      "Score: 0.8319661136312719\n",
      "Fold 1\n",
      "Fold 2\n",
      "Fold 3\n"
     ]
    },
    {
     "name": "stderr",
     "output_type": "stream",
     "text": [
      "[I 2024-06-25 06:22:56,323] Trial 734 finished with value: 0.8283585845632597 and parameters: {'boosting_type': 'goss', 'num_leaves': 60, 'max_depth': 31, 'learning_rate': 0.09358679745159201, 'n_estimators': 727, 'min_child_samples': 48, 'subsample': 0.9092452990149166, 'colsample_bytree': 0.8368121760239206, 'reg_alpha': 0.35703026049518755, 'reg_lambda': 6.545224352261789e-08, 'top_rate': 0.3821075250382034, 'other_rate': 0.4883192055128255, 'threshold': 62}. Best is trial 533 with value: 0.8334239392413227.\n"
     ]
    },
    {
     "name": "stdout",
     "output_type": "stream",
     "text": [
      "Score: 0.8283585845632597\n",
      "Fold 1\n",
      "Fold 2\n",
      "Fold 3\n"
     ]
    },
    {
     "name": "stderr",
     "output_type": "stream",
     "text": [
      "[I 2024-06-25 06:24:02,881] Trial 735 finished with value: 0.8288898418271202 and parameters: {'boosting_type': 'goss', 'num_leaves': 130, 'max_depth': 38, 'learning_rate': 0.029749476914003956, 'n_estimators': 955, 'min_child_samples': 51, 'subsample': 0.7100647581492973, 'colsample_bytree': 0.6841845325101702, 'reg_alpha': 2.1601361710524305e-07, 'reg_lambda': 0.004749702424491909, 'top_rate': 0.09501543787829289, 'other_rate': 0.4639730726171082, 'threshold': 58}. Best is trial 533 with value: 0.8334239392413227.\n"
     ]
    },
    {
     "name": "stdout",
     "output_type": "stream",
     "text": [
      "Score: 0.8288898418271202\n",
      "Fold 1\n",
      "Fold 2\n",
      "Fold 3\n"
     ]
    },
    {
     "name": "stderr",
     "output_type": "stream",
     "text": [
      "[I 2024-06-25 06:24:30,925] Trial 736 finished with value: 0.8315584188699647 and parameters: {'boosting_type': 'goss', 'num_leaves': 22, 'max_depth': 35, 'learning_rate': 0.012506391005532616, 'n_estimators': 972, 'min_child_samples': 55, 'subsample': 0.9557867963364647, 'colsample_bytree': 0.6596916721937601, 'reg_alpha': 0.799348622381056, 'reg_lambda': 4.116261183473807e-06, 'top_rate': 0.1312925977717563, 'other_rate': 0.4790346693952717, 'threshold': 65}. Best is trial 533 with value: 0.8334239392413227.\n"
     ]
    },
    {
     "name": "stdout",
     "output_type": "stream",
     "text": [
      "Score: 0.8315584188699647\n",
      "Fold 1\n",
      "Fold 2\n",
      "Fold 3\n"
     ]
    },
    {
     "name": "stderr",
     "output_type": "stream",
     "text": [
      "[I 2024-06-25 06:25:08,075] Trial 737 finished with value: 0.8053544740188959 and parameters: {'boosting_type': 'goss', 'num_leaves': 45, 'max_depth': 33, 'learning_rate': 0.13540860243379443, 'n_estimators': 1000, 'min_child_samples': 49, 'subsample': 0.9846998067949151, 'colsample_bytree': 0.7875481770148589, 'reg_alpha': 3.112757134582041e-08, 'reg_lambda': 2.8262068872193605e-08, 'top_rate': 0.07884219979310489, 'other_rate': 0.08267443550645331, 'threshold': 51}. Best is trial 533 with value: 0.8334239392413227.\n"
     ]
    },
    {
     "name": "stdout",
     "output_type": "stream",
     "text": [
      "Score: 0.8053544740188959\n",
      "Fold 1\n",
      "Fold 2\n",
      "Fold 3\n"
     ]
    },
    {
     "name": "stderr",
     "output_type": "stream",
     "text": [
      "[I 2024-06-25 06:25:35,168] Trial 738 finished with value: 0.8325344170710068 and parameters: {'boosting_type': 'goss', 'num_leaves': 27, 'max_depth': 29, 'learning_rate': 0.019896040583178013, 'n_estimators': 933, 'min_child_samples': 45, 'subsample': 0.5673022822666943, 'colsample_bytree': 0.7056407591177061, 'reg_alpha': 6.913339354705161e-05, 'reg_lambda': 0.40308435545624904, 'top_rate': 0.11153388852841974, 'other_rate': 0.39152848803240636, 'threshold': 48}. Best is trial 533 with value: 0.8334239392413227.\n"
     ]
    },
    {
     "name": "stdout",
     "output_type": "stream",
     "text": [
      "Score: 0.8325344170710068\n",
      "Fold 1\n",
      "Fold 2\n",
      "Fold 3\n"
     ]
    },
    {
     "name": "stderr",
     "output_type": "stream",
     "text": [
      "[I 2024-06-25 06:26:05,774] Trial 739 finished with value: 0.8314348659834909 and parameters: {'boosting_type': 'gbdt', 'num_leaves': 35, 'max_depth': 37, 'learning_rate': 0.04441154632967533, 'n_estimators': 954, 'min_child_samples': 57, 'subsample': 0.6165050915072426, 'colsample_bytree': 0.5012466232978924, 'reg_alpha': 0.00019059096678924765, 'reg_lambda': 9.19384013876788e-07, 'threshold': 60}. Best is trial 533 with value: 0.8334239392413227.\n"
     ]
    },
    {
     "name": "stdout",
     "output_type": "stream",
     "text": [
      "Score: 0.8314348659834909\n",
      "Fold 1\n",
      "Fold 2\n",
      "Fold 3\n"
     ]
    },
    {
     "name": "stderr",
     "output_type": "stream",
     "text": [
      "[I 2024-06-25 06:26:31,073] Trial 740 finished with value: 0.8202169745657532 and parameters: {'boosting_type': 'goss', 'num_leaves': 31, 'max_depth': 32, 'learning_rate': 0.35442343988049513, 'n_estimators': 984, 'min_child_samples': 41, 'subsample': 0.81753713999785, 'colsample_bytree': 0.6283107107174359, 'reg_alpha': 6.898271845301339e-06, 'reg_lambda': 1.2188029658165836e-07, 'top_rate': 0.2891897029307951, 'other_rate': 0.37758479444618637, 'threshold': 62}. Best is trial 533 with value: 0.8334239392413227.\n"
     ]
    },
    {
     "name": "stdout",
     "output_type": "stream",
     "text": [
      "Score: 0.8202169745657532\n",
      "Fold 1\n",
      "Fold 2\n",
      "Fold 3\n"
     ]
    },
    {
     "name": "stderr",
     "output_type": "stream",
     "text": [
      "[I 2024-06-25 06:27:11,577] Trial 741 finished with value: 0.8324108705952528 and parameters: {'boosting_type': 'goss', 'num_leaves': 53, 'max_depth': 28, 'learning_rate': 0.010778285839023464, 'n_estimators': 899, 'min_child_samples': 53, 'subsample': 0.7511952890120955, 'colsample_bytree': 0.8877045956621576, 'reg_alpha': 1.540166268890239e-05, 'reg_lambda': 9.997474225867022, 'top_rate': 0.10178113899950057, 'other_rate': 0.49066381445721763, 'threshold': 54}. Best is trial 533 with value: 0.8334239392413227.\n"
     ]
    },
    {
     "name": "stdout",
     "output_type": "stream",
     "text": [
      "Score: 0.8324108705952528\n",
      "Fold 1\n",
      "Fold 2\n",
      "Fold 3\n"
     ]
    },
    {
     "name": "stderr",
     "output_type": "stream",
     "text": [
      "[I 2024-06-25 06:28:04,617] Trial 742 finished with value: 0.8312248315713883 and parameters: {'boosting_type': 'dart', 'num_leaves': 16, 'max_depth': 35, 'learning_rate': 0.018945147618491816, 'n_estimators': 965, 'min_child_samples': 60, 'subsample': 0.5367857849936875, 'colsample_bytree': 0.6102501954434135, 'reg_alpha': 0.154014775801471, 'reg_lambda': 0.0001410956319360566, 'drop_rate': 0.34085203927095215, 'skip_drop': 0.893087415030178, 'threshold': 45}. Best is trial 533 with value: 0.8334239392413227.\n"
     ]
    },
    {
     "name": "stdout",
     "output_type": "stream",
     "text": [
      "Score: 0.8312248315713883\n",
      "Fold 1\n",
      "Fold 2\n",
      "Fold 3\n"
     ]
    },
    {
     "name": "stderr",
     "output_type": "stream",
     "text": [
      "[I 2024-06-25 06:28:44,621] Trial 743 finished with value: 0.7356749453511324 and parameters: {'boosting_type': 'goss', 'num_leaves': 40, 'max_depth': 34, 'learning_rate': 0.0003053294780889467, 'n_estimators': 941, 'min_child_samples': 47, 'subsample': 0.6305451037971133, 'colsample_bytree': 0.6444757900163955, 'reg_alpha': 0.2763143215679196, 'reg_lambda': 3.68028567115788, 'top_rate': 0.02376825815702536, 'other_rate': 0.4690944531419544, 'threshold': 63}. Best is trial 533 with value: 0.8334239392413227.\n"
     ]
    },
    {
     "name": "stdout",
     "output_type": "stream",
     "text": [
      "Score: 0.7356749453511324\n",
      "Fold 1\n",
      "Fold 2\n",
      "Fold 3\n"
     ]
    },
    {
     "name": "stderr",
     "output_type": "stream",
     "text": [
      "[I 2024-06-25 06:29:20,934] Trial 744 finished with value: 0.8309530376586652 and parameters: {'boosting_type': 'goss', 'num_leaves': 47, 'max_depth': 30, 'learning_rate': 0.006592159729860026, 'n_estimators': 879, 'min_child_samples': 44, 'subsample': 0.7370246678365018, 'colsample_bytree': 0.6658392634045478, 'reg_alpha': 0.027599060621030413, 'reg_lambda': 6.325891960425825e-06, 'top_rate': 0.29754271004445654, 'other_rate': 0.24011486369611723, 'threshold': 58}. Best is trial 533 with value: 0.8334239392413227.\n"
     ]
    },
    {
     "name": "stdout",
     "output_type": "stream",
     "text": [
      "Score: 0.8309530376586652\n",
      "Fold 1\n",
      "Fold 2\n",
      "Fold 3\n"
     ]
    },
    {
     "name": "stderr",
     "output_type": "stream",
     "text": [
      "[I 2024-06-25 06:29:42,381] Trial 745 finished with value: 0.475538039576432 and parameters: {'boosting_type': 'goss', 'num_leaves': 22, 'max_depth': 32, 'learning_rate': 1.0914670159916792e-08, 'n_estimators': 676, 'min_child_samples': 50, 'subsample': 0.9462917418375881, 'colsample_bytree': 0.5774963021400102, 'reg_alpha': 0.5135105421655923, 'reg_lambda': 1.1639985170731597, 'top_rate': 0.05053133194800663, 'other_rate': 0.4266358826482797, 'threshold': 67}. Best is trial 533 with value: 0.8334239392413227.\n"
     ]
    },
    {
     "name": "stdout",
     "output_type": "stream",
     "text": [
      "Score: 0.475538039576432\n",
      "Fold 1\n",
      "Fold 2\n",
      "Fold 3\n"
     ]
    },
    {
     "name": "stderr",
     "output_type": "stream",
     "text": [
      "[I 2024-06-25 06:30:26,628] Trial 746 finished with value: 0.475538039576432 and parameters: {'boosting_type': 'goss', 'num_leaves': 65, 'max_depth': 36, 'learning_rate': 5.238014892339961e-07, 'n_estimators': 914, 'min_child_samples': 56, 'subsample': 0.7880733471359442, 'colsample_bytree': 0.621970870505047, 'reg_alpha': 1.4752953079354438, 'reg_lambda': 1.9195700466507837, 'top_rate': 0.36325326208826625, 'other_rate': 0.2560805211977232, 'threshold': 60}. Best is trial 533 with value: 0.8334239392413227.\n"
     ]
    },
    {
     "name": "stdout",
     "output_type": "stream",
     "text": [
      "Score: 0.475538039576432\n",
      "Fold 1\n",
      "Fold 2\n",
      "Fold 3\n"
     ]
    },
    {
     "name": "stderr",
     "output_type": "stream",
     "text": [
      "[I 2024-06-25 06:30:59,102] Trial 747 finished with value: 0.8291245657527243 and parameters: {'boosting_type': 'goss', 'num_leaves': 28, 'max_depth': 38, 'learning_rate': 0.06706241940605295, 'n_estimators': 969, 'min_child_samples': 54, 'subsample': 0.9014539352872499, 'colsample_bytree': 0.8568511848841507, 'reg_alpha': 4.077318572079936e-08, 'reg_lambda': 6.588765665044985e-05, 'top_rate': 0.17389095478758854, 'other_rate': 0.32162315452467505, 'threshold': 56}. Best is trial 533 with value: 0.8334239392413227.\n"
     ]
    },
    {
     "name": "stdout",
     "output_type": "stream",
     "text": [
      "Score: 0.8291245657527243\n",
      "Fold 1\n",
      "Fold 2\n",
      "Fold 3\n"
     ]
    },
    {
     "name": "stderr",
     "output_type": "stream",
     "text": [
      "[I 2024-06-25 06:32:48,409] Trial 748 finished with value: 0.8294210757376447 and parameters: {'boosting_type': 'goss', 'num_leaves': 244, 'max_depth': 33, 'learning_rate': 0.029338961631542475, 'n_estimators': 1000, 'min_child_samples': 9, 'subsample': 0.5911200579307856, 'colsample_bytree': 0.6377410233037738, 'reg_alpha': 0.008709814086336925, 'reg_lambda': 3.706103590074401e-05, 'top_rate': 0.12119666298712829, 'other_rate': 0.31423058076515764, 'threshold': 100}. Best is trial 533 with value: 0.8334239392413227.\n"
     ]
    },
    {
     "name": "stdout",
     "output_type": "stream",
     "text": [
      "Score: 0.8294210757376447\n",
      "Fold 1\n",
      "Fold 2\n",
      "Fold 3\n"
     ]
    },
    {
     "name": "stderr",
     "output_type": "stream",
     "text": [
      "[I 2024-06-25 06:33:24,105] Trial 749 finished with value: 0.475538039576432 and parameters: {'boosting_type': 'goss', 'num_leaves': 34, 'max_depth': 27, 'learning_rate': 5.9758580648794855e-06, 'n_estimators': 947, 'min_child_samples': 52, 'subsample': 0.7002268898140034, 'colsample_bytree': 0.5449452354941686, 'reg_alpha': 0.011699878184429455, 'reg_lambda': 0.10604819118015026, 'top_rate': 0.08562244993499073, 'other_rate': 0.4537489855090379, 'threshold': 65}. Best is trial 533 with value: 0.8334239392413227.\n"
     ]
    },
    {
     "name": "stdout",
     "output_type": "stream",
     "text": [
      "Score: 0.475538039576432\n",
      "Fold 1\n",
      "Fold 2\n",
      "Fold 3\n"
     ]
    },
    {
     "name": "stderr",
     "output_type": "stream",
     "text": [
      "[I 2024-06-25 06:33:54,675] Trial 750 finished with value: 0.475538039576432 and parameters: {'boosting_type': 'goss', 'num_leaves': 25, 'max_depth': 39, 'learning_rate': 1.6573202632687975e-05, 'n_estimators': 981, 'min_child_samples': 46, 'subsample': 0.6690188430225685, 'colsample_bytree': 0.5695930883399369, 'reg_alpha': 1.1514444873396156e-05, 'reg_lambda': 0.25452621398876185, 'top_rate': 0.0641920649589949, 'other_rate': 0.44021313426290876, 'threshold': 61}. Best is trial 533 with value: 0.8334239392413227.\n"
     ]
    },
    {
     "name": "stdout",
     "output_type": "stream",
     "text": [
      "Score: 0.475538039576432\n",
      "Fold 1\n",
      "Fold 2\n",
      "Fold 3\n"
     ]
    },
    {
     "name": "stderr",
     "output_type": "stream",
     "text": [
      "[I 2024-06-25 06:34:15,660] Trial 751 finished with value: 0.8315831312788937 and parameters: {'boosting_type': 'goss', 'num_leaves': 19, 'max_depth': 29, 'learning_rate': 0.016651748648003742, 'n_estimators': 801, 'min_child_samples': 61, 'subsample': 0.6090890965809954, 'colsample_bytree': 0.6513325112992314, 'reg_alpha': 0.0006365113616286882, 'reg_lambda': 1.618708412770735e-05, 'top_rate': 0.14504321749880508, 'other_rate': 0.47826124879289844, 'threshold': 53}. Best is trial 533 with value: 0.8334239392413227.\n"
     ]
    },
    {
     "name": "stdout",
     "output_type": "stream",
     "text": [
      "Score: 0.8315831312788937\n",
      "Fold 1\n",
      "Fold 2\n",
      "Fold 3\n"
     ]
    },
    {
     "name": "stderr",
     "output_type": "stream",
     "text": [
      "[I 2024-06-25 06:34:57,443] Trial 752 finished with value: 0.475538039576432 and parameters: {'boosting_type': 'goss', 'num_leaves': 41, 'max_depth': 31, 'learning_rate': 2.110811969728346e-06, 'n_estimators': 926, 'min_child_samples': 66, 'subsample': 0.5757323242022023, 'colsample_bytree': 0.6327378617454253, 'reg_alpha': 0.08617369590486244, 'reg_lambda': 0.6048494649099667, 'top_rate': 0.0007601013470715304, 'other_rate': 0.288005273344534, 'threshold': 72}. Best is trial 533 with value: 0.8334239392413227.\n"
     ]
    },
    {
     "name": "stdout",
     "output_type": "stream",
     "text": [
      "Score: 0.475538039576432\n",
      "Fold 1\n",
      "Fold 2\n",
      "Fold 3\n"
     ]
    },
    {
     "name": "stderr",
     "output_type": "stream",
     "text": [
      "[I 2024-06-25 06:35:36,315] Trial 753 finished with value: 0.831644895816508 and parameters: {'boosting_type': 'goss', 'num_leaves': 55, 'max_depth': 36, 'learning_rate': 0.0317061660370145, 'n_estimators': 961, 'min_child_samples': 48, 'subsample': 0.6357700661100569, 'colsample_bytree': 0.6180625168719116, 'reg_alpha': 1.326271072956371e-07, 'reg_lambda': 5.663033789786463, 'top_rate': 0.2232566052849413, 'other_rate': 0.49969577779133034, 'threshold': 50}. Best is trial 533 with value: 0.8334239392413227.\n"
     ]
    },
    {
     "name": "stdout",
     "output_type": "stream",
     "text": [
      "Score: 0.831644895816508\n",
      "Fold 1\n",
      "Fold 2\n",
      "Fold 3\n"
     ]
    },
    {
     "name": "stderr",
     "output_type": "stream",
     "text": [
      "[I 2024-06-25 06:35:58,167] Trial 754 finished with value: 0.475538039576432 and parameters: {'boosting_type': 'goss', 'num_leaves': 12, 'max_depth': 15, 'learning_rate': 7.68931745603824e-06, 'n_estimators': 945, 'min_child_samples': 58, 'subsample': 0.8495719640170869, 'colsample_bytree': 0.7692723042292005, 'reg_alpha': 0.00200782431408033, 'reg_lambda': 0.00030257763469580714, 'top_rate': 0.07352220541985108, 'other_rate': 0.48564627915625325, 'threshold': 63}. Best is trial 533 with value: 0.8334239392413227.\n"
     ]
    },
    {
     "name": "stdout",
     "output_type": "stream",
     "text": [
      "Score: 0.475538039576432\n",
      "Fold 1\n",
      "Fold 2\n",
      "Fold 3\n"
     ]
    },
    {
     "name": "stderr",
     "output_type": "stream",
     "text": [
      "[I 2024-06-25 06:36:34,519] Trial 755 finished with value: 0.475538039576432 and parameters: {'boosting_type': 'goss', 'num_leaves': 33, 'max_depth': 34, 'learning_rate': 3.151739881931087e-05, 'n_estimators': 980, 'min_child_samples': 43, 'subsample': 0.6560712549777217, 'colsample_bytree': 0.6038692549911987, 'reg_alpha': 4.30412201343841e-05, 'reg_lambda': 0.0014618685116798208, 'top_rate': 0.03227432858218482, 'other_rate': 0.4712433349431695, 'threshold': 58}. Best is trial 533 with value: 0.8334239392413227.\n"
     ]
    },
    {
     "name": "stdout",
     "output_type": "stream",
     "text": [
      "Score: 0.475538039576432\n",
      "Fold 1\n",
      "Fold 2\n",
      "Fold 3\n"
     ]
    },
    {
     "name": "stderr",
     "output_type": "stream",
     "text": [
      "[I 2024-06-25 06:37:11,373] Trial 756 finished with value: 0.8326703229565852 and parameters: {'boosting_type': 'goss', 'num_leaves': 48, 'max_depth': 31, 'learning_rate': 0.012929792857707567, 'n_estimators': 962, 'min_child_samples': 50, 'subsample': 0.7235632397316001, 'colsample_bytree': 0.6968127607425678, 'reg_alpha': 3.5955157236733426e-06, 'reg_lambda': 0.00779644816958115, 'top_rate': 0.09659968107227179, 'other_rate': 0.415904107887606, 'threshold': 55}. Best is trial 533 with value: 0.8334239392413227.\n"
     ]
    },
    {
     "name": "stdout",
     "output_type": "stream",
     "text": [
      "Score: 0.8326703229565852\n",
      "Fold 1\n",
      "Fold 2\n",
      "Fold 3\n"
     ]
    },
    {
     "name": "stderr",
     "output_type": "stream",
     "text": [
      "[I 2024-06-25 06:37:36,484] Trial 757 finished with value: 0.8311136339735619 and parameters: {'boosting_type': 'goss', 'num_leaves': 28, 'max_depth': 41, 'learning_rate': 0.05284173293673414, 'n_estimators': 922, 'min_child_samples': 27, 'subsample': 0.9228245272638864, 'colsample_bytree': 0.595883642008692, 'reg_alpha': 3.066502282732518e-05, 'reg_lambda': 0.0025045963112357824, 'top_rate': 0.3537507157569647, 'other_rate': 0.45438206039142787, 'threshold': 60}. Best is trial 533 with value: 0.8334239392413227.\n"
     ]
    },
    {
     "name": "stdout",
     "output_type": "stream",
     "text": [
      "Score: 0.8311136339735619\n",
      "Fold 1\n",
      "Fold 2\n",
      "Fold 3\n"
     ]
    },
    {
     "name": "stderr",
     "output_type": "stream",
     "text": [
      "[I 2024-06-25 06:38:15,975] Trial 758 finished with value: 0.8275679079074827 and parameters: {'boosting_type': 'goss', 'num_leaves': 43, 'max_depth': 35, 'learning_rate': 0.0033168693147823166, 'n_estimators': 981, 'min_child_samples': 55, 'subsample': 0.8358494626432057, 'colsample_bytree': 0.52708212959972, 'reg_alpha': 0.40649621747564035, 'reg_lambda': 0.0736337704027506, 'top_rate': 0.3232481426991058, 'other_rate': 0.2707521482232833, 'threshold': 64}. Best is trial 533 with value: 0.8334239392413227.\n"
     ]
    },
    {
     "name": "stdout",
     "output_type": "stream",
     "text": [
      "Score: 0.8275679079074827\n",
      "Fold 1\n",
      "Fold 2\n",
      "Fold 3\n"
     ]
    },
    {
     "name": "stderr",
     "output_type": "stream",
     "text": [
      "[I 2024-06-25 06:38:42,894] Trial 759 finished with value: 0.7298559533245385 and parameters: {'boosting_type': 'goss', 'num_leaves': 20, 'max_depth': 26, 'learning_rate': 0.00026609497769203576, 'n_estimators': 940, 'min_child_samples': 38, 'subsample': 0.5604265206263657, 'colsample_bytree': 0.7464472992203041, 'reg_alpha': 0.22976153534856442, 'reg_lambda': 3.503542336577407, 'top_rate': 0.10619263526113454, 'other_rate': 0.49063325439665867, 'threshold': 69}. Best is trial 533 with value: 0.8334239392413227.\n"
     ]
    },
    {
     "name": "stdout",
     "output_type": "stream",
     "text": [
      "Score: 0.7298559533245385\n",
      "Fold 1\n",
      "Fold 2\n",
      "Fold 3\n"
     ]
    },
    {
     "name": "stderr",
     "output_type": "stream",
     "text": [
      "[I 2024-06-25 06:38:58,775] Trial 760 finished with value: 0.8300758739823566 and parameters: {'boosting_type': 'goss', 'num_leaves': 7, 'max_depth': 29, 'learning_rate': 0.022229233851011308, 'n_estimators': 958, 'min_child_samples': 59, 'subsample': 0.6236532472950457, 'colsample_bytree': 0.6423595236216378, 'reg_alpha': 0.7985796731236161, 'reg_lambda': 0.7914530752283359, 'top_rate': 0.03728357253056514, 'other_rate': 0.46310998745307397, 'threshold': 52}. Best is trial 533 with value: 0.8334239392413227.\n"
     ]
    },
    {
     "name": "stdout",
     "output_type": "stream",
     "text": [
      "Score: 0.8300758739823566\n",
      "Fold 1\n",
      "Fold 2\n",
      "Fold 3\n"
     ]
    },
    {
     "name": "stderr",
     "output_type": "stream",
     "text": [
      "[I 2024-06-25 06:39:36,807] Trial 761 finished with value: 0.8311877702845316 and parameters: {'boosting_type': 'gbdt', 'num_leaves': 37, 'max_depth': 37, 'learning_rate': 0.008211813565108186, 'n_estimators': 1000, 'min_child_samples': 12, 'subsample': 0.5997928716983765, 'colsample_bytree': 0.7231808022842646, 'reg_alpha': 1.499974488298935e-08, 'reg_lambda': 0.17733597130634612, 'threshold': 57}. Best is trial 533 with value: 0.8334239392413227.\n"
     ]
    },
    {
     "name": "stdout",
     "output_type": "stream",
     "text": [
      "Score: 0.8311877702845316\n",
      "Fold 1\n",
      "Fold 2\n",
      "Fold 3\n"
     ]
    },
    {
     "name": "stderr",
     "output_type": "stream",
     "text": [
      "[I 2024-06-25 06:40:01,954] Trial 762 finished with value: 0.8294581374824097 and parameters: {'boosting_type': 'goss', 'num_leaves': 24, 'max_depth': 45, 'learning_rate': 0.023428580078319817, 'n_estimators': 900, 'min_child_samples': 63, 'subsample': 0.5485681238962912, 'colsample_bytree': 0.9810802356937338, 'reg_alpha': 0.0003244179278141658, 'reg_lambda': 2.053873109258746, 'top_rate': 0.08612310009259047, 'other_rate': 0.05689750365711005, 'threshold': 62}. Best is trial 533 with value: 0.8334239392413227.\n"
     ]
    },
    {
     "name": "stdout",
     "output_type": "stream",
     "text": [
      "Score: 0.8294581374824097\n",
      "Fold 1\n",
      "Fold 2\n",
      "Fold 3\n"
     ]
    },
    {
     "name": "stderr",
     "output_type": "stream",
     "text": [
      "[I 2024-06-25 06:40:39,316] Trial 763 finished with value: 0.8317684468713477 and parameters: {'boosting_type': 'goss', 'num_leaves': 59, 'max_depth': 33, 'learning_rate': 0.01118950897223212, 'n_estimators': 971, 'min_child_samples': 47, 'subsample': 0.7730718572626143, 'colsample_bytree': 0.6257715225661873, 'reg_alpha': 0.13991577519868065, 'reg_lambda': 0.013317626302965574, 'top_rate': 0.13123355365165162, 'other_rate': 0.48028897754274025, 'threshold': 15}. Best is trial 533 with value: 0.8334239392413227.\n"
     ]
    },
    {
     "name": "stdout",
     "output_type": "stream",
     "text": [
      "Score: 0.8317684468713477\n",
      "Fold 1\n",
      "Fold 2\n",
      "Fold 3\n"
     ]
    },
    {
     "name": "stderr",
     "output_type": "stream",
     "text": [
      "[I 2024-06-25 06:45:17,791] Trial 764 finished with value: 0.475538039576432 and parameters: {'boosting_type': 'dart', 'num_leaves': 120, 'max_depth': 30, 'learning_rate': 3.625695856377108e-06, 'n_estimators': 936, 'min_child_samples': 51, 'subsample': 0.8936670901876536, 'colsample_bytree': 0.7927398445462294, 'reg_alpha': 4.0155730181763276e-07, 'reg_lambda': 0.004384758101480932, 'drop_rate': 0.4229008748654713, 'skip_drop': 0.6678842945856016, 'threshold': 59}. Best is trial 533 with value: 0.8334239392413227.\n"
     ]
    },
    {
     "name": "stdout",
     "output_type": "stream",
     "text": [
      "Score: 0.475538039576432\n",
      "Fold 1\n",
      "Fold 2\n",
      "Fold 3\n"
     ]
    },
    {
     "name": "stderr",
     "output_type": "stream",
     "text": [
      "[I 2024-06-25 06:45:46,450] Trial 765 finished with value: 0.8320155205906962 and parameters: {'boosting_type': 'goss', 'num_leaves': 32, 'max_depth': 28, 'learning_rate': 0.03588490599934399, 'n_estimators': 953, 'min_child_samples': 45, 'subsample': 0.6764394424115956, 'colsample_bytree': 0.6866186622090995, 'reg_alpha': 0.3306451442910309, 'reg_lambda': 0.034723035541281186, 'top_rate': 0.20497111693371178, 'other_rate': 0.3679013563828639, 'threshold': 49}. Best is trial 533 with value: 0.8334239392413227.\n"
     ]
    },
    {
     "name": "stdout",
     "output_type": "stream",
     "text": [
      "Score: 0.8320155205906962\n",
      "Fold 1\n",
      "Fold 2\n",
      "Fold 3\n"
     ]
    },
    {
     "name": "stderr",
     "output_type": "stream",
     "text": [
      "[I 2024-06-25 06:46:31,695] Trial 766 finished with value: 0.8150774844925376 and parameters: {'boosting_type': 'goss', 'num_leaves': 51, 'max_depth': 32, 'learning_rate': 0.0008045659348232141, 'n_estimators': 980, 'min_child_samples': 42, 'subsample': 0.9631546968663942, 'colsample_bytree': 0.781309272042828, 'reg_alpha': 0.00014051168148431135, 'reg_lambda': 2.6240100291107043e-06, 'top_rate': 0.16034488415100484, 'other_rate': 0.43385672767898936, 'threshold': 79}. Best is trial 533 with value: 0.8334239392413227.\n"
     ]
    },
    {
     "name": "stdout",
     "output_type": "stream",
     "text": [
      "Score: 0.8150774844925376\n",
      "Fold 1\n",
      "Fold 2\n",
      "Fold 3\n"
     ]
    },
    {
     "name": "stderr",
     "output_type": "stream",
     "text": [
      "[I 2024-06-25 06:46:53,232] Trial 767 finished with value: 0.831113651374087 and parameters: {'boosting_type': 'goss', 'num_leaves': 15, 'max_depth': 39, 'learning_rate': 0.016786716888283464, 'n_estimators': 915, 'min_child_samples': 53, 'subsample': 0.6930630407785512, 'colsample_bytree': 0.6531441279202499, 'reg_alpha': 1.2085435537862044, 'reg_lambda': 3.074644079318532e-08, 'top_rate': 0.11747583524495057, 'other_rate': 0.4918724647253756, 'threshold': 61}. Best is trial 533 with value: 0.8334239392413227.\n"
     ]
    },
    {
     "name": "stdout",
     "output_type": "stream",
     "text": [
      "Score: 0.831113651374087\n",
      "Fold 1\n",
      "Fold 2\n",
      "Fold 3\n"
     ]
    },
    {
     "name": "stderr",
     "output_type": "stream",
     "text": [
      "[I 2024-06-25 06:47:20,456] Trial 768 finished with value: 0.475538039576432 and parameters: {'boosting_type': 'goss', 'num_leaves': 28, 'max_depth': 36, 'learning_rate': 2.0133285978902748e-07, 'n_estimators': 846, 'min_child_samples': 57, 'subsample': 0.7556870248473888, 'colsample_bytree': 0.9563762585163142, 'reg_alpha': 3.2577970656594673, 'reg_lambda': 2.035865626715602e-06, 'top_rate': 0.3888499297478177, 'other_rate': 0.40238148697083786, 'threshold': 65}. Best is trial 533 with value: 0.8334239392413227.\n"
     ]
    },
    {
     "name": "stdout",
     "output_type": "stream",
     "text": [
      "Score: 0.475538039576432\n",
      "Fold 1\n",
      "Fold 2\n",
      "Fold 3\n"
     ]
    },
    {
     "name": "stderr",
     "output_type": "stream",
     "text": [
      "[I 2024-06-25 06:47:50,683] Trial 769 finished with value: 0.8224531403171843 and parameters: {'boosting_type': 'goss', 'num_leaves': 43, 'max_depth': 24, 'learning_rate': 0.22721486912410743, 'n_estimators': 959, 'min_child_samples': 50, 'subsample': 0.645343035597778, 'colsample_bytree': 0.6681988888626719, 'reg_alpha': 0.04895679240946633, 'reg_lambda': 0.3347269822451173, 'top_rate': 0.1901420568848678, 'other_rate': 0.47170905525753815, 'threshold': 55}. Best is trial 533 with value: 0.8334239392413227.\n"
     ]
    },
    {
     "name": "stdout",
     "output_type": "stream",
     "text": [
      "Score: 0.8224531403171843\n",
      "Fold 1\n",
      "Fold 2\n",
      "Fold 3\n"
     ]
    },
    {
     "name": "stderr",
     "output_type": "stream",
     "text": [
      "[I 2024-06-25 06:48:26,775] Trial 770 finished with value: 0.8287909986021242 and parameters: {'boosting_type': 'goss', 'num_leaves': 37, 'max_depth': 34, 'learning_rate': 0.004842821719947475, 'n_estimators': 986, 'min_child_samples': 48, 'subsample': 0.9376033286136796, 'colsample_bytree': 0.9650907137961264, 'reg_alpha': 6.839713046696146, 'reg_lambda': 4.076502664416255e-07, 'top_rate': 0.05695832282341093, 'other_rate': 0.44460251732559014, 'threshold': 47}. Best is trial 533 with value: 0.8334239392413227.\n"
     ]
    },
    {
     "name": "stdout",
     "output_type": "stream",
     "text": [
      "Score: 0.8287909986021242\n",
      "Fold 1\n",
      "Fold 2\n",
      "Fold 3\n"
     ]
    },
    {
     "name": "stderr",
     "output_type": "stream",
     "text": [
      "[I 2024-06-25 06:48:50,748] Trial 771 finished with value: 0.831336024590129 and parameters: {'boosting_type': 'goss', 'num_leaves': 21, 'max_depth': 37, 'learning_rate': 0.04822861814485698, 'n_estimators': 943, 'min_child_samples': 61, 'subsample': 0.8770713315554948, 'colsample_bytree': 0.6298490155860356, 'reg_alpha': 0.00010625286816060712, 'reg_lambda': 0.0006294380997407134, 'top_rate': 0.35027756814165, 'other_rate': 0.49997008262778014, 'threshold': 59}. Best is trial 533 with value: 0.8334239392413227.\n"
     ]
    },
    {
     "name": "stdout",
     "output_type": "stream",
     "text": [
      "Score: 0.831336024590129\n",
      "Fold 1\n",
      "Fold 2\n",
      "Fold 3\n"
     ]
    },
    {
     "name": "stderr",
     "output_type": "stream",
     "text": [
      "[I 2024-06-25 06:49:57,238] Trial 772 finished with value: 0.8236638752652699 and parameters: {'boosting_type': 'goss', 'num_leaves': 109, 'max_depth': 31, 'learning_rate': 0.0013724726311982293, 'n_estimators': 970, 'min_child_samples': 54, 'subsample': 0.8137523290860288, 'colsample_bytree': 0.758323293798038, 'reg_alpha': 0.015639901112433095, 'reg_lambda': 1.939115902227543e-08, 'top_rate': 0.45792267464369074, 'other_rate': 0.22910222337482358, 'threshold': 63}. Best is trial 533 with value: 0.8334239392413227.\n"
     ]
    },
    {
     "name": "stdout",
     "output_type": "stream",
     "text": [
      "Score: 0.8236638752652699\n",
      "Fold 1\n",
      "Fold 2\n",
      "Fold 3\n"
     ]
    },
    {
     "name": "stderr",
     "output_type": "stream",
     "text": [
      "[I 2024-06-25 06:51:35,296] Trial 773 finished with value: 0.8319908182557554 and parameters: {'boosting_type': 'goss', 'num_leaves': 223, 'max_depth': 34, 'learning_rate': 0.014980796027418882, 'n_estimators': 926, 'min_child_samples': 40, 'subsample': 0.8600823456243281, 'colsample_bytree': 0.5843766986545073, 'reg_alpha': 0.5966235437261009, 'reg_lambda': 5.5660263996968515, 'top_rate': 0.2767511269751506, 'other_rate': 0.4837076676433671, 'threshold': 57}. Best is trial 533 with value: 0.8334239392413227.\n"
     ]
    },
    {
     "name": "stdout",
     "output_type": "stream",
     "text": [
      "Score: 0.8319908182557554\n",
      "Fold 1\n",
      "Fold 2\n",
      "Fold 3\n"
     ]
    },
    {
     "name": "stderr",
     "output_type": "stream",
     "text": [
      "[I 2024-06-25 06:52:05,508] Trial 774 finished with value: 0.8322749697466687 and parameters: {'boosting_type': 'goss', 'num_leaves': 31, 'max_depth': 27, 'learning_rate': 0.025873016422081344, 'n_estimators': 985, 'min_child_samples': 45, 'subsample': 0.5840282451582971, 'colsample_bytree': 0.7347831189122638, 'reg_alpha': 0.20124993422380083, 'reg_lambda': 1.2136564783789658, 'top_rate': 0.48196735379103073, 'other_rate': 0.4597630733623971, 'threshold': 53}. Best is trial 533 with value: 0.8334239392413227.\n"
     ]
    },
    {
     "name": "stdout",
     "output_type": "stream",
     "text": [
      "Score: 0.8322749697466687\n",
      "Fold 1\n",
      "Fold 2\n",
      "Fold 3\n"
     ]
    },
    {
     "name": "stderr",
     "output_type": "stream",
     "text": [
      "[I 2024-06-25 06:52:37,861] Trial 775 finished with value: 0.8307306488737322 and parameters: {'boosting_type': 'goss', 'num_leaves': 25, 'max_depth': 35, 'learning_rate': 0.0097765674930619, 'n_estimators': 1000, 'min_child_samples': 59, 'subsample': 0.6171130822174478, 'colsample_bytree': 0.617249666574981, 'reg_alpha': 6.698615302235491e-08, 'reg_lambda': 0.00015651250373612495, 'top_rate': 0.46773765085984176, 'other_rate': 0.47424789778950427, 'threshold': 67}. Best is trial 533 with value: 0.8334239392413227.\n"
     ]
    },
    {
     "name": "stdout",
     "output_type": "stream",
     "text": [
      "Score: 0.8307306488737322\n",
      "Fold 1\n",
      "Fold 2\n",
      "Fold 3\n"
     ]
    },
    {
     "name": "stderr",
     "output_type": "stream",
     "text": [
      "[I 2024-06-25 06:53:12,426] Trial 776 finished with value: 0.7446443656408243 and parameters: {'boosting_type': 'goss', 'num_leaves': 80, 'max_depth': 33, 'learning_rate': 0.614278299886608, 'n_estimators': 949, 'min_child_samples': 52, 'subsample': 0.7850792085523651, 'colsample_bytree': 0.6088808911638424, 'reg_alpha': 1.4385406821747718e-06, 'reg_lambda': 0.13310671309552508, 'top_rate': 0.0784545178852376, 'other_rate': 0.13096483349085863, 'threshold': 61}. Best is trial 533 with value: 0.8334239392413227.\n"
     ]
    },
    {
     "name": "stdout",
     "output_type": "stream",
     "text": [
      "Score: 0.7446443656408243\n",
      "Fold 1\n",
      "Fold 2\n",
      "Fold 3\n"
     ]
    },
    {
     "name": "stderr",
     "output_type": "stream",
     "text": [
      "[I 2024-06-25 06:54:03,559] Trial 777 finished with value: 0.8265671835602549 and parameters: {'boosting_type': 'goss', 'num_leaves': 49, 'max_depth': 29, 'learning_rate': 0.0777051493106348, 'n_estimators': 968, 'min_child_samples': 56, 'subsample': 0.6068672271491595, 'colsample_bytree': 0.646835082014652, 'reg_alpha': 0.0008212324457174179, 'reg_lambda': 9.869894159172624, 'top_rate': 0.09237747312484175, 'other_rate': 0.48582649532546573, 'threshold': 59}. Best is trial 533 with value: 0.8334239392413227.\n"
     ]
    },
    {
     "name": "stdout",
     "output_type": "stream",
     "text": [
      "Score: 0.8265671835602549\n",
      "Fold 1\n",
      "Fold 2\n",
      "Fold 3\n"
     ]
    },
    {
     "name": "stderr",
     "output_type": "stream",
     "text": [
      "[I 2024-06-25 06:54:38,002] Trial 778 finished with value: 0.8325838492154016 and parameters: {'boosting_type': 'goss', 'num_leaves': 39, 'max_depth': 32, 'learning_rate': 0.020473318947352118, 'n_estimators': 932, 'min_child_samples': 49, 'subsample': 0.9462244259164603, 'colsample_bytree': 0.6359910445883123, 'reg_alpha': 0.4522155372130088, 'reg_lambda': 3.1957803030459777, 'top_rate': 0.10689607097626676, 'other_rate': 0.46483396564185414, 'threshold': 51}. Best is trial 533 with value: 0.8334239392413227.\n"
     ]
    },
    {
     "name": "stdout",
     "output_type": "stream",
     "text": [
      "Score: 0.8325838492154016\n",
      "Fold 1\n",
      "Fold 2\n",
      "Fold 3\n"
     ]
    },
    {
     "name": "stderr",
     "output_type": "stream",
     "text": [
      "[I 2024-06-25 06:55:19,752] Trial 779 finished with value: 0.8309530376586652 and parameters: {'boosting_type': 'goss', 'num_leaves': 54, 'max_depth': 38, 'learning_rate': 0.005731413247013328, 'n_estimators': 908, 'min_child_samples': 47, 'subsample': 0.735804237723389, 'colsample_bytree': 0.8094070496805739, 'reg_alpha': 1.903214604547793e-06, 'reg_lambda': 2.401771915870173e-05, 'top_rate': 0.15118337834861756, 'other_rate': 0.38601662112000956, 'threshold': 63}. Best is trial 533 with value: 0.8334239392413227.\n"
     ]
    },
    {
     "name": "stdout",
     "output_type": "stream",
     "text": [
      "Score: 0.8309530376586652\n",
      "Fold 1\n",
      "Fold 2\n",
      "Fold 3\n"
     ]
    },
    {
     "name": "stderr",
     "output_type": "stream",
     "text": [
      "[I 2024-06-25 06:55:43,571] Trial 780 finished with value: 0.475538039576432 and parameters: {'boosting_type': 'goss', 'num_leaves': 11, 'max_depth': 36, 'learning_rate': 1.2850769056978896e-05, 'n_estimators': 957, 'min_child_samples': 43, 'subsample': 0.7148252341013074, 'colsample_bytree': 0.713065104873682, 'reg_alpha': 2.1678567624160348, 'reg_lambda': 4.761111920684173e-05, 'top_rate': 0.02152786307716164, 'other_rate': 0.21826087559761395, 'threshold': 56}. Best is trial 533 with value: 0.8334239392413227.\n"
     ]
    },
    {
     "name": "stdout",
     "output_type": "stream",
     "text": [
      "Score: 0.475538039576432\n",
      "Fold 1\n",
      "Fold 2\n",
      "Fold 3\n"
     ]
    },
    {
     "name": "stderr",
     "output_type": "stream",
     "text": [
      "[I 2024-06-25 06:56:11,230] Trial 781 finished with value: 0.8322379130388976 and parameters: {'boosting_type': 'goss', 'num_leaves': 17, 'max_depth': 30, 'learning_rate': 0.032653658516312176, 'n_estimators': 979, 'min_child_samples': 57, 'subsample': 0.9800534834344089, 'colsample_bytree': 0.6596113544766485, 'reg_alpha': 0.1154752461073627, 'reg_lambda': 8.569093787340177e-05, 'top_rate': 0.1356499578472156, 'other_rate': 0.29851430547306174, 'threshold': 61}. Best is trial 533 with value: 0.8334239392413227.\n"
     ]
    },
    {
     "name": "stdout",
     "output_type": "stream",
     "text": [
      "Score: 0.8322379130388976\n",
      "Fold 1\n",
      "Fold 2\n",
      "Fold 3\n"
     ]
    },
    {
     "name": "stderr",
     "output_type": "stream",
     "text": [
      "[I 2024-06-25 06:56:56,180] Trial 782 finished with value: 0.8266413271977617 and parameters: {'boosting_type': 'goss', 'num_leaves': 64, 'max_depth': 28, 'learning_rate': 0.00269581512330906, 'n_estimators': 941, 'min_child_samples': 52, 'subsample': 0.6336315891784645, 'colsample_bytree': 0.6226300791657307, 'reg_alpha': 1.0262199198845853e-08, 'reg_lambda': 0.05407394047076619, 'top_rate': 0.06804703754033994, 'other_rate': 0.17926775364263448, 'threshold': 22}. Best is trial 533 with value: 0.8334239392413227.\n"
     ]
    },
    {
     "name": "stdout",
     "output_type": "stream",
     "text": [
      "Score: 0.8266413271977617\n",
      "Fold 1\n",
      "Fold 2\n",
      "Fold 3\n"
     ]
    },
    {
     "name": "stderr",
     "output_type": "stream",
     "text": [
      "[I 2024-06-25 06:57:12,992] Trial 783 finished with value: 0.47709532613012035 and parameters: {'boosting_type': 'goss', 'num_leaves': 31, 'max_depth': 35, 'learning_rate': 0.9780339615881813, 'n_estimators': 876, 'min_child_samples': 62, 'subsample': 0.9137235936480846, 'colsample_bytree': 0.6778857416688449, 'reg_alpha': 0.0012032223492251372, 'reg_lambda': 0.0021820733244846736, 'top_rate': 0.04350475771667287, 'other_rate': 0.032619665408468446, 'threshold': 41}. Best is trial 533 with value: 0.8334239392413227.\n"
     ]
    },
    {
     "name": "stdout",
     "output_type": "stream",
     "text": [
      "Score: 0.47709532613012035\n",
      "Fold 1\n",
      "Fold 2\n",
      "Fold 3\n"
     ]
    },
    {
     "name": "stderr",
     "output_type": "stream",
     "text": [
      "[I 2024-06-25 06:57:50,517] Trial 784 finished with value: 0.8329050546666344 and parameters: {'boosting_type': 'goss', 'num_leaves': 43, 'max_depth': 40, 'learning_rate': 0.013995444097179968, 'n_estimators': 968, 'min_child_samples': 46, 'subsample': 0.9994329554452935, 'colsample_bytree': 0.5531176694307793, 'reg_alpha': 0.2685611907362022, 'reg_lambda': 1.3278586310797763e-06, 'top_rate': 0.1234435513540379, 'other_rate': 0.4283895484984499, 'threshold': 66}. Best is trial 533 with value: 0.8334239392413227.\n"
     ]
    },
    {
     "name": "stdout",
     "output_type": "stream",
     "text": [
      "Score: 0.8329050546666344\n",
      "Fold 1\n",
      "Fold 2\n",
      "Fold 3\n"
     ]
    },
    {
     "name": "stderr",
     "output_type": "stream",
     "text": [
      "[I 2024-06-25 06:58:25,992] Trial 785 finished with value: 0.8298411225822394 and parameters: {'boosting_type': 'gbdt', 'num_leaves': 26, 'max_depth': 25, 'learning_rate': 0.00719405828233285, 'n_estimators': 986, 'min_child_samples': 55, 'subsample': 0.5941270288464824, 'colsample_bytree': 0.5613809074755588, 'reg_alpha': 7.410126936639458e-07, 'reg_lambda': 0.4422708663075787, 'threshold': 58}. Best is trial 533 with value: 0.8334239392413227.\n"
     ]
    },
    {
     "name": "stdout",
     "output_type": "stream",
     "text": [
      "Score: 0.8298411225822394\n",
      "Fold 1\n",
      "Fold 2\n",
      "Fold 3\n"
     ]
    },
    {
     "name": "stderr",
     "output_type": "stream",
     "text": [
      "[I 2024-06-25 07:00:53,176] Trial 786 finished with value: 0.8294210890169929 and parameters: {'boosting_type': 'dart', 'num_leaves': 35, 'max_depth': 33, 'learning_rate': 0.11989548707347913, 'n_estimators': 1000, 'min_child_samples': 49, 'subsample': 0.5752780170332197, 'colsample_bytree': 0.6403106397589626, 'reg_alpha': 2.8421791336141423e-07, 'reg_lambda': 4.672663715073817, 'drop_rate': 0.4607387772745617, 'skip_drop': 0.7717614279553193, 'threshold': 54}. Best is trial 533 with value: 0.8334239392413227.\n"
     ]
    },
    {
     "name": "stdout",
     "output_type": "stream",
     "text": [
      "Score: 0.8294210890169929\n",
      "Fold 1\n",
      "Fold 2\n",
      "Fold 3\n"
     ]
    },
    {
     "name": "stderr",
     "output_type": "stream",
     "text": [
      "[I 2024-06-25 07:01:22,771] Trial 787 finished with value: 0.8322008457992297 and parameters: {'boosting_type': 'goss', 'num_leaves': 20, 'max_depth': 31, 'learning_rate': 0.04457769358611213, 'n_estimators': 927, 'min_child_samples': 59, 'subsample': 0.5233014636985236, 'colsample_bytree': 0.8709626311547939, 'reg_alpha': 0.7783248777624554, 'reg_lambda': 1.0406432128539213e-05, 'top_rate': 0.09731113358477937, 'other_rate': 0.3369534653697075, 'threshold': 64}. Best is trial 533 with value: 0.8334239392413227.\n"
     ]
    },
    {
     "name": "stdout",
     "output_type": "stream",
     "text": [
      "Score: 0.8322008457992297\n",
      "Fold 1\n",
      "Fold 2\n",
      "Fold 3\n"
     ]
    },
    {
     "name": "stderr",
     "output_type": "stream",
     "text": [
      "[I 2024-06-25 07:02:04,080] Trial 788 finished with value: 0.475538039576432 and parameters: {'boosting_type': 'goss', 'num_leaves': 47, 'max_depth': 34, 'learning_rate': 9.153191587791228e-07, 'n_estimators': 950, 'min_child_samples': 51, 'subsample': 0.6566006908905437, 'colsample_bytree': 0.6003099300910805, 'reg_alpha': 0.06785097131411058, 'reg_lambda': 0.23407656296390544, 'top_rate': 0.16637271364086512, 'other_rate': 0.4130381290090265, 'threshold': 45}. Best is trial 533 with value: 0.8334239392413227.\n"
     ]
    },
    {
     "name": "stdout",
     "output_type": "stream",
     "text": [
      "Score: 0.475538039576432\n",
      "Fold 1\n",
      "Fold 2\n",
      "Fold 3\n"
     ]
    },
    {
     "name": "stderr",
     "output_type": "stream",
     "text": [
      "[I 2024-06-25 07:02:51,094] Trial 789 finished with value: 0.8255911885645727 and parameters: {'boosting_type': 'goss', 'num_leaves': 58, 'max_depth': 38, 'learning_rate': 0.0020624280095675085, 'n_estimators': 968, 'min_child_samples': 44, 'subsample': 0.7616888457133508, 'colsample_bytree': 0.5202322002931081, 'reg_alpha': 0.0002826905842671605, 'reg_lambda': 0.001034008514068895, 'top_rate': 0.4508450295717408, 'other_rate': 0.2501792551142639, 'threshold': 60}. Best is trial 533 with value: 0.8334239392413227.\n"
     ]
    },
    {
     "name": "stdout",
     "output_type": "stream",
     "text": [
      "Score: 0.8255911885645727\n",
      "Fold 1\n",
      "Fold 2\n",
      "Fold 3\n"
     ]
    },
    {
     "name": "stderr",
     "output_type": "stream",
     "text": [
      "[I 2024-06-25 07:03:15,850] Trial 790 finished with value: 0.8234044242776631 and parameters: {'boosting_type': 'goss', 'num_leaves': 28, 'max_depth': 36, 'learning_rate': 0.1698657369140899, 'n_estimators': 895, 'min_child_samples': 47, 'subsample': 0.6463156093615915, 'colsample_bytree': 0.6125918677557738, 'reg_alpha': 0.15652052168200886, 'reg_lambda': 1.5641149984334468, 'top_rate': 0.08059622191761796, 'other_rate': 0.49158867227780856, 'threshold': 49}. Best is trial 533 with value: 0.8334239392413227.\n"
     ]
    },
    {
     "name": "stdout",
     "output_type": "stream",
     "text": [
      "Score: 0.8234044242776631\n",
      "Fold 1\n",
      "Fold 2\n",
      "Fold 3\n"
     ]
    },
    {
     "name": "stderr",
     "output_type": "stream",
     "text": [
      "[I 2024-06-25 07:03:46,979] Trial 791 finished with value: 0.8321390684401758 and parameters: {'boosting_type': 'goss', 'num_leaves': 35, 'max_depth': 21, 'learning_rate': 0.020713332896993862, 'n_estimators': 920, 'min_child_samples': 54, 'subsample': 0.6275456320953055, 'colsample_bytree': 0.6311263655996854, 'reg_alpha': 0.007293669630991291, 'reg_lambda': 0.00041964641973295166, 'top_rate': 0.37061915224278963, 'other_rate': 0.44834389483308007, 'threshold': 88}. Best is trial 533 with value: 0.8334239392413227.\n"
     ]
    },
    {
     "name": "stdout",
     "output_type": "stream",
     "text": [
      "Score: 0.8321390684401758\n",
      "Fold 1\n",
      "Fold 2\n",
      "Fold 3\n"
     ]
    },
    {
     "name": "stderr",
     "output_type": "stream",
     "text": [
      "[I 2024-06-25 07:04:12,231] Trial 792 finished with value: 0.8310889504128719 and parameters: {'boosting_type': 'goss', 'num_leaves': 22, 'max_depth': 30, 'learning_rate': 0.012181573505566442, 'n_estimators': 951, 'min_child_samples': 57, 'subsample': 0.7474009656178474, 'colsample_bytree': 0.6475773677162033, 'reg_alpha': 1.729925109839798e-05, 'reg_lambda': 5.842906291390451e-06, 'top_rate': 0.01086506095238355, 'other_rate': 0.10280080423927684, 'threshold': 62}. Best is trial 533 with value: 0.8334239392413227.\n"
     ]
    },
    {
     "name": "stdout",
     "output_type": "stream",
     "text": [
      "Score: 0.8310889504128719\n",
      "Fold 1\n",
      "Fold 2\n",
      "Fold 3\n"
     ]
    },
    {
     "name": "stderr",
     "output_type": "stream",
     "text": [
      "[I 2024-06-25 07:04:58,802] Trial 793 finished with value: 0.8309406851174691 and parameters: {'boosting_type': 'goss', 'num_leaves': 69, 'max_depth': 37, 'learning_rate': 0.030211434874221756, 'n_estimators': 1000, 'min_child_samples': 64, 'subsample': 0.9731726743472565, 'colsample_bytree': 0.5113048938043643, 'reg_alpha': 0.36857990337388546, 'reg_lambda': 0.019166984847581493, 'top_rate': 0.10936569646720443, 'other_rate': 0.49995297446578524, 'threshold': 57}. Best is trial 533 with value: 0.8334239392413227.\n"
     ]
    },
    {
     "name": "stdout",
     "output_type": "stream",
     "text": [
      "Score: 0.8309406851174691\n",
      "Fold 1\n",
      "Fold 2\n",
      "Fold 3\n"
     ]
    },
    {
     "name": "stderr",
     "output_type": "stream",
     "text": [
      "[I 2024-06-25 07:05:22,356] Trial 794 finished with value: 0.8310148260075246 and parameters: {'boosting_type': 'goss', 'num_leaves': 14, 'max_depth': 32, 'learning_rate': 0.01620463105229105, 'n_estimators': 971, 'min_child_samples': 50, 'subsample': 0.6079624037346891, 'colsample_bytree': 0.6705156256215579, 'reg_alpha': 6.280297047103791e-05, 'reg_lambda': 6.940477253277701, 'top_rate': 0.08926689706414194, 'other_rate': 0.1836184796654443, 'threshold': 65}. Best is trial 533 with value: 0.8334239392413227.\n"
     ]
    },
    {
     "name": "stdout",
     "output_type": "stream",
     "text": [
      "Score: 0.8310148260075246\n",
      "Fold 1\n",
      "Fold 2\n",
      "Fold 3\n"
     ]
    },
    {
     "name": "stderr",
     "output_type": "stream",
     "text": [
      "[I 2024-06-25 07:06:03,437] Trial 795 finished with value: 0.8314842816431778 and parameters: {'boosting_type': 'goss', 'num_leaves': 41, 'max_depth': 28, 'learning_rate': 0.009763393601383596, 'n_estimators': 937, 'min_child_samples': 60, 'subsample': 0.6184703279797026, 'colsample_bytree': 0.8320047655866077, 'reg_alpha': 9.591471307805152, 'reg_lambda': 0.0071154485023923, 'top_rate': 0.05372130627792433, 'other_rate': 0.35776568467216213, 'threshold': 59}. Best is trial 533 with value: 0.8334239392413227.\n"
     ]
    },
    {
     "name": "stdout",
     "output_type": "stream",
     "text": [
      "Score: 0.8314842816431778\n",
      "Fold 1\n",
      "Fold 2\n",
      "Fold 3\n"
     ]
    },
    {
     "name": "stderr",
     "output_type": "stream",
     "text": [
      "[I 2024-06-25 07:06:42,595] Trial 796 finished with value: 0.832398519885691 and parameters: {'boosting_type': 'goss', 'num_leaves': 52, 'max_depth': 26, 'learning_rate': 0.02629042267340649, 'n_estimators': 979, 'min_child_samples': 42, 'subsample': 0.902385938791886, 'colsample_bytree': 0.6250583032388934, 'reg_alpha': 0.02955389340403589, 'reg_lambda': 2.4590950620612553, 'top_rate': 0.2614081043261959, 'other_rate': 0.4739765353259221, 'threshold': 52}. Best is trial 533 with value: 0.8334239392413227.\n"
     ]
    },
    {
     "name": "stdout",
     "output_type": "stream",
     "text": [
      "Score: 0.832398519885691\n",
      "Fold 1\n",
      "Fold 2\n",
      "Fold 3\n"
     ]
    },
    {
     "name": "stderr",
     "output_type": "stream",
     "text": [
      "[I 2024-06-25 07:07:15,163] Trial 797 finished with value: 0.475538039576432 and parameters: {'boosting_type': 'goss', 'num_leaves': 30, 'max_depth': 50, 'learning_rate': 1.103811134950912e-07, 'n_estimators': 957, 'min_child_samples': 48, 'subsample': 0.7048292581800122, 'colsample_bytree': 0.7744160938449466, 'reg_alpha': 0.004575118773898548, 'reg_lambda': 0.00021989104786940606, 'top_rate': 0.1162745104657603, 'other_rate': 0.4818136279161812, 'threshold': 55}. Best is trial 533 with value: 0.8334239392413227.\n"
     ]
    },
    {
     "name": "stdout",
     "output_type": "stream",
     "text": [
      "Score: 0.475538039576432\n",
      "Fold 1\n",
      "Fold 2\n",
      "Fold 3\n"
     ]
    },
    {
     "name": "stderr",
     "output_type": "stream",
     "text": [
      "[I 2024-06-25 07:08:12,823] Trial 798 finished with value: 0.475538039576432 and parameters: {'boosting_type': 'goss', 'num_leaves': 104, 'max_depth': 34, 'learning_rate': 9.530402659912317e-06, 'n_estimators': 912, 'min_child_samples': 40, 'subsample': 0.9326242342084743, 'colsample_bytree': 0.6616453572383557, 'reg_alpha': 1.247290789835393, 'reg_lambda': 0.0037678661348137365, 'top_rate': 0.25006934802833236, 'other_rate': 0.46109032744598655, 'threshold': 68}. Best is trial 533 with value: 0.8334239392413227.\n"
     ]
    },
    {
     "name": "stdout",
     "output_type": "stream",
     "text": [
      "Score: 0.475538039576432\n",
      "Fold 1\n",
      "Fold 2\n",
      "Fold 3\n"
     ]
    },
    {
     "name": "stderr",
     "output_type": "stream",
     "text": [
      "[I 2024-06-25 07:08:43,258] Trial 799 finished with value: 0.8301129311480362 and parameters: {'boosting_type': 'goss', 'num_leaves': 24, 'max_depth': 39, 'learning_rate': 0.0700700110699903, 'n_estimators': 983, 'min_child_samples': 69, 'subsample': 0.6859495912945408, 'colsample_bytree': 0.8203850441682004, 'reg_alpha': 3.647246056508341e-08, 'reg_lambda': 0.5838917815349044, 'top_rate': 0.3155666384825763, 'other_rate': 0.16922288898593582, 'threshold': 62}. Best is trial 533 with value: 0.8334239392413227.\n"
     ]
    },
    {
     "name": "stdout",
     "output_type": "stream",
     "text": [
      "Score: 0.8301129311480362\n",
      "Fold 1\n",
      "Fold 2\n",
      "Fold 3\n"
     ]
    },
    {
     "name": "stderr",
     "output_type": "stream",
     "text": [
      "[I 2024-06-25 07:09:11,763] Trial 800 finished with value: 0.8307553562456671 and parameters: {'boosting_type': 'goss', 'num_leaves': 39, 'max_depth': 35, 'learning_rate': 0.03892492241569001, 'n_estimators': 938, 'min_child_samples': 45, 'subsample': 0.6676055731303421, 'colsample_bytree': 0.5907261479395565, 'reg_alpha': 2.2269680252669926e-08, 'reg_lambda': 4.053621366728444e-06, 'top_rate': 0.06925837286582776, 'other_rate': 0.48123083002069106, 'threshold': 2}. Best is trial 533 with value: 0.8334239392413227.\n"
     ]
    },
    {
     "name": "stdout",
     "output_type": "stream",
     "text": [
      "Score: 0.8307553562456671\n",
      "Fold 1\n",
      "Fold 2\n",
      "Fold 3\n"
     ]
    },
    {
     "name": "stderr",
     "output_type": "stream",
     "text": [
      "[I 2024-06-25 07:09:45,766] Trial 801 finished with value: 0.475538039576432 and parameters: {'boosting_type': 'goss', 'num_leaves': 33, 'max_depth': 30, 'learning_rate': 5.852021129641729e-08, 'n_estimators': 962, 'min_child_samples': 53, 'subsample': 0.8858020269380794, 'colsample_bytree': 0.6362993690638769, 'reg_alpha': 0.0028172669211967484, 'reg_lambda': 4.495849753651436, 'top_rate': 0.4427451778175323, 'other_rate': 0.2853121790021825, 'threshold': 60}. Best is trial 533 with value: 0.8334239392413227.\n"
     ]
    },
    {
     "name": "stdout",
     "output_type": "stream",
     "text": [
      "Score: 0.475538039576432\n",
      "Fold 1\n",
      "Fold 2\n",
      "Fold 3\n"
     ]
    },
    {
     "name": "stderr",
     "output_type": "stream",
     "text": [
      "[I 2024-06-25 07:11:07,192] Trial 802 finished with value: 0.475538039576432 and parameters: {'boosting_type': 'goss', 'num_leaves': 160, 'max_depth': 37, 'learning_rate': 2.8990369345861114e-07, 'n_estimators': 983, 'min_child_samples': 58, 'subsample': 0.7169999494717537, 'colsample_bytree': 0.8481870676627041, 'reg_alpha': 2.9141891399056105e-05, 'reg_lambda': 0.8770798562001042, 'top_rate': 0.19938029460722473, 'other_rate': 0.4380862206912644, 'threshold': 57}. Best is trial 533 with value: 0.8334239392413227.\n"
     ]
    },
    {
     "name": "stdout",
     "output_type": "stream",
     "text": [
      "Score: 0.475538039576432\n",
      "Fold 1\n",
      "Fold 2\n",
      "Fold 3\n"
     ]
    },
    {
     "name": "stderr",
     "output_type": "stream",
     "text": [
      "[I 2024-06-25 07:11:47,293] Trial 803 finished with value: 0.8330409523098589 and parameters: {'boosting_type': 'goss', 'num_leaves': 48, 'max_depth': 32, 'learning_rate': 0.018766605870163478, 'n_estimators': 948, 'min_child_samples': 55, 'subsample': 0.7949322675330835, 'colsample_bytree': 0.6120940909937697, 'reg_alpha': 0.6654937658431853, 'reg_lambda': 0.10463628365188593, 'top_rate': 0.14142996659645118, 'other_rate': 0.16697683630617668, 'threshold': 63}. Best is trial 533 with value: 0.8334239392413227.\n"
     ]
    },
    {
     "name": "stdout",
     "output_type": "stream",
     "text": [
      "Score: 0.8330409523098589\n",
      "Fold 1\n",
      "Fold 2\n",
      "Fold 3\n"
     ]
    },
    {
     "name": "stderr",
     "output_type": "stream",
     "text": [
      "[I 2024-06-25 07:12:29,472] Trial 804 finished with value: 0.475538039576432 and parameters: {'boosting_type': 'goss', 'num_leaves': 42, 'max_depth': 32, 'learning_rate': 2.6036058690506458e-08, 'n_estimators': 927, 'min_child_samples': 52, 'subsample': 0.8095998283376817, 'colsample_bytree': 0.6109163881683136, 'reg_alpha': 0.5436944155055244, 'reg_lambda': 0.21375851907647284, 'top_rate': 0.14481322583011658, 'other_rate': 0.09138187132322288, 'threshold': 63}. Best is trial 533 with value: 0.8334239392413227.\n"
     ]
    },
    {
     "name": "stdout",
     "output_type": "stream",
     "text": [
      "Score: 0.475538039576432\n",
      "Fold 1\n",
      "Fold 2\n",
      "Fold 3\n"
     ]
    },
    {
     "name": "stderr",
     "output_type": "stream",
     "text": [
      "[I 2024-06-25 07:13:09,010] Trial 805 finished with value: 0.8323861586442324 and parameters: {'boosting_type': 'goss', 'num_leaves': 46, 'max_depth': 31, 'learning_rate': 0.021260300374951715, 'n_estimators': 953, 'min_child_samples': 55, 'subsample': 0.7987464329545935, 'colsample_bytree': 0.5966559046098545, 'reg_alpha': 0.2228718976882342, 'reg_lambda': 0.08569147580542735, 'top_rate': 0.1503212682487107, 'other_rate': 0.23537755887441353, 'threshold': 37}. Best is trial 533 with value: 0.8334239392413227.\n"
     ]
    },
    {
     "name": "stdout",
     "output_type": "stream",
     "text": [
      "Score: 0.8323861586442324\n",
      "Fold 1\n",
      "Fold 2\n",
      "Fold 3\n"
     ]
    },
    {
     "name": "stderr",
     "output_type": "stream",
     "text": [
      "[I 2024-06-25 07:14:20,512] Trial 806 finished with value: 0.475538039576432 and parameters: {'boosting_type': 'gbdt', 'num_leaves': 151, 'max_depth': 29, 'learning_rate': 5.732332535748355e-05, 'n_estimators': 897, 'min_child_samples': 54, 'subsample': 0.7880590950329796, 'colsample_bytree': 0.5347584127244007, 'reg_alpha': 0.10467991123721902, 'reg_lambda': 3.711720438466943e-07, 'threshold': 60}. Best is trial 533 with value: 0.8334239392413227.\n"
     ]
    },
    {
     "name": "stdout",
     "output_type": "stream",
     "text": [
      "Score: 0.475538039576432\n",
      "Fold 1\n",
      "Fold 2\n",
      "Fold 3\n"
     ]
    },
    {
     "name": "stderr",
     "output_type": "stream",
     "text": [
      "[I 2024-06-25 07:14:48,826] Trial 807 finished with value: 0.7145239774519601 and parameters: {'boosting_type': 'goss', 'num_leaves': 17, 'max_depth': 32, 'learning_rate': 0.00020043911429330657, 'n_estimators': 969, 'min_child_samples': 49, 'subsample': 0.8251887576497134, 'colsample_bytree': 0.61662790933074, 'reg_alpha': 0.044939060208230915, 'reg_lambda': 0.14672590562782395, 'top_rate': 0.22739474041183655, 'other_rate': 0.23451743502289027, 'threshold': 48}. Best is trial 533 with value: 0.8334239392413227.\n"
     ]
    },
    {
     "name": "stdout",
     "output_type": "stream",
     "text": [
      "Score: 0.7145239774519601\n",
      "Fold 1\n",
      "Fold 2\n",
      "Fold 3\n"
     ]
    },
    {
     "name": "stderr",
     "output_type": "stream",
     "text": [
      "[I 2024-06-25 07:15:19,324] Trial 808 finished with value: 0.8298658487284252 and parameters: {'boosting_type': 'goss', 'num_leaves': 27, 'max_depth': 33, 'learning_rate': 0.05604085788311112, 'n_estimators': 941, 'min_child_samples': 52, 'subsample': 0.8001048286196216, 'colsample_bytree': 0.7447959055752889, 'reg_alpha': 0.33913535391840893, 'reg_lambda': 0.11455334938226297, 'top_rate': 0.15764735935712698, 'other_rate': 0.2079277339871189, 'threshold': 51}. Best is trial 533 with value: 0.8334239392413227.\n"
     ]
    },
    {
     "name": "stdout",
     "output_type": "stream",
     "text": [
      "Score: 0.8298658487284252\n",
      "Fold 1\n",
      "Fold 2\n",
      "Fold 3\n"
     ]
    },
    {
     "name": "stderr",
     "output_type": "stream",
     "text": [
      "[I 2024-06-25 07:17:57,909] Trial 809 finished with value: 0.8133478581011354 and parameters: {'boosting_type': 'dart', 'num_leaves': 37, 'max_depth': 31, 'learning_rate': 0.0003805015833256571, 'n_estimators': 982, 'min_child_samples': 51, 'subsample': 0.7767153040996448, 'colsample_bytree': 0.6046365379716185, 'reg_alpha': 1.2998113864592234e-07, 'reg_lambda': 0.0825172046490369, 'drop_rate': 0.47629882307349736, 'skip_drop': 0.732105044835439, 'threshold': 66}. Best is trial 533 with value: 0.8334239392413227.\n"
     ]
    },
    {
     "name": "stdout",
     "output_type": "stream",
     "text": [
      "Score: 0.8133478581011354\n",
      "Fold 1\n",
      "Fold 2\n",
      "Fold 3\n"
     ]
    },
    {
     "name": "stderr",
     "output_type": "stream",
     "text": [
      "[I 2024-06-25 07:18:22,851] Trial 810 finished with value: 0.475538039576432 and parameters: {'boosting_type': 'goss', 'num_leaves': 33, 'max_depth': 29, 'learning_rate': 7.836134833446412e-07, 'n_estimators': 612, 'min_child_samples': 36, 'subsample': 0.765627249033586, 'colsample_bytree': 0.7307905337597493, 'reg_alpha': 1.0038385998614448e-05, 'reg_lambda': 1.94015171430437e-05, 'top_rate': 0.1376780748521843, 'other_rate': 0.0012779526011798548, 'threshold': 70}. Best is trial 533 with value: 0.8334239392413227.\n"
     ]
    },
    {
     "name": "stdout",
     "output_type": "stream",
     "text": [
      "Score: 0.475538039576432\n",
      "Fold 1\n",
      "Fold 2\n",
      "Fold 3\n"
     ]
    },
    {
     "name": "stderr",
     "output_type": "stream",
     "text": [
      "[I 2024-06-25 07:18:42,640] Trial 811 finished with value: 0.8091225874961824 and parameters: {'boosting_type': 'goss', 'num_leaves': 9, 'max_depth': 33, 'learning_rate': 0.46880062114300536, 'n_estimators': 912, 'min_child_samples': 46, 'subsample': 0.8105403248043029, 'colsample_bytree': 0.580712378285463, 'reg_alpha': 0.5557110573231849, 'reg_lambda': 0.0016957381925871067, 'top_rate': 0.13235109513481758, 'other_rate': 0.30064218212188903, 'threshold': 55}. Best is trial 533 with value: 0.8334239392413227.\n"
     ]
    },
    {
     "name": "stdout",
     "output_type": "stream",
     "text": [
      "Score: 0.8091225874961824\n",
      "Fold 1\n",
      "Fold 2\n",
      "Fold 3\n"
     ]
    },
    {
     "name": "stderr",
     "output_type": "stream",
     "text": [
      "[I 2024-06-25 07:19:14,195] Trial 812 finished with value: 0.475538039576432 and parameters: {'boosting_type': 'goss', 'num_leaves': 22, 'max_depth': 30, 'learning_rate': 3.1379657480094364e-07, 'n_estimators': 961, 'min_child_samples': 55, 'subsample': 0.7840863730222947, 'colsample_bytree': 0.7917745769364429, 'reg_alpha': 9.708670806378462e-07, 'reg_lambda': 0.032141902117495506, 'top_rate': 0.17269771730047112, 'other_rate': 0.07517552487647823, 'threshold': 58}. Best is trial 533 with value: 0.8334239392413227.\n"
     ]
    },
    {
     "name": "stdout",
     "output_type": "stream",
     "text": [
      "Score: 0.475538039576432\n",
      "Fold 1\n",
      "Fold 2\n",
      "Fold 3\n"
     ]
    },
    {
     "name": "stderr",
     "output_type": "stream",
     "text": [
      "[I 2024-06-25 07:19:53,502] Trial 813 finished with value: 0.8294705037608625 and parameters: {'boosting_type': 'goss', 'num_leaves': 44, 'max_depth': 31, 'learning_rate': 0.030780400737662538, 'n_estimators': 986, 'min_child_samples': 48, 'subsample': 0.8379450359508638, 'colsample_bytree': 0.8615231896440709, 'reg_alpha': 4.420855659970376, 'reg_lambda': 0.30930523031560503, 'top_rate': 0.03409790339804719, 'other_rate': 0.22949160171464955, 'threshold': 64}. Best is trial 533 with value: 0.8334239392413227.\n"
     ]
    },
    {
     "name": "stdout",
     "output_type": "stream",
     "text": [
      "Score: 0.8294705037608625\n",
      "Fold 1\n",
      "Fold 2\n",
      "Fold 3\n"
     ]
    },
    {
     "name": "stderr",
     "output_type": "stream",
     "text": [
      "[I 2024-06-25 07:20:23,385] Trial 814 finished with value: 0.8314966561639845 and parameters: {'boosting_type': 'goss', 'num_leaves': 26, 'max_depth': 27, 'learning_rate': 0.016940096293078452, 'n_estimators': 1000, 'min_child_samples': 50, 'subsample': 0.8253078372889189, 'colsample_bytree': 0.8795275344001227, 'reg_alpha': 0.00016445382088974757, 'reg_lambda': 0.1554063352164641, 'top_rate': 0.14291866350343765, 'other_rate': 0.04721854036512235, 'threshold': 53}. Best is trial 533 with value: 0.8334239392413227.\n"
     ]
    },
    {
     "name": "stdout",
     "output_type": "stream",
     "text": [
      "Score: 0.8314966561639845\n",
      "Fold 1\n",
      "Fold 2\n",
      "Fold 3\n"
     ]
    },
    {
     "name": "stderr",
     "output_type": "stream",
     "text": [
      "[I 2024-06-25 07:21:01,903] Trial 815 finished with value: 0.827716152139092 and parameters: {'boosting_type': 'goss', 'num_leaves': 49, 'max_depth': 54, 'learning_rate': 0.042656112767169754, 'n_estimators': 939, 'min_child_samples': 43, 'subsample': 0.7581710894558096, 'colsample_bytree': 0.6200271105426495, 'reg_alpha': 6.372611811433095e-06, 'reg_lambda': 5.584055512926474e-05, 'top_rate': 0.12734717181739225, 'other_rate': 0.14555435539724276, 'threshold': 61}. Best is trial 533 with value: 0.8334239392413227.\n"
     ]
    },
    {
     "name": "stdout",
     "output_type": "stream",
     "text": [
      "Score: 0.827716152139092\n",
      "Fold 1\n",
      "Fold 2\n",
      "Fold 3\n"
     ]
    },
    {
     "name": "stderr",
     "output_type": "stream",
     "text": [
      "[I 2024-06-25 07:21:33,405] Trial 816 finished with value: 0.8315089784832158 and parameters: {'boosting_type': 'goss', 'num_leaves': 30, 'max_depth': 32, 'learning_rate': 0.022987731573979483, 'n_estimators': 954, 'min_child_samples': 53, 'subsample': 0.7937898856662905, 'colsample_bytree': 0.7597202994522829, 'reg_alpha': 0.0005002289528448806, 'reg_lambda': 7.809755226489084e-07, 'top_rate': 0.025343364719551183, 'other_rate': 0.1942420320410288, 'threshold': 57}. Best is trial 533 with value: 0.8334239392413227.\n"
     ]
    },
    {
     "name": "stdout",
     "output_type": "stream",
     "text": [
      "Score: 0.8315089784832158\n",
      "Fold 1\n",
      "Fold 2\n",
      "Fold 3\n"
     ]
    },
    {
     "name": "stderr",
     "output_type": "stream",
     "text": [
      "[I 2024-06-25 07:22:08,746] Trial 817 finished with value: 0.832312045686599 and parameters: {'boosting_type': 'goss', 'num_leaves': 38, 'max_depth': 30, 'learning_rate': 0.015064693123669376, 'n_estimators': 921, 'min_child_samples': 47, 'subsample': 0.7701759311478602, 'colsample_bytree': 0.5694139792760172, 'reg_alpha': 0.00010676026971782352, 'reg_lambda': 0.00010476579212569535, 'top_rate': 0.23943264821694582, 'other_rate': 0.07273564177846144, 'threshold': 76}. Best is trial 533 with value: 0.8334239392413227.\n"
     ]
    },
    {
     "name": "stdout",
     "output_type": "stream",
     "text": [
      "Score: 0.832312045686599\n",
      "Fold 1\n",
      "Fold 2\n",
      "Fold 3\n"
     ]
    },
    {
     "name": "stderr",
     "output_type": "stream",
     "text": [
      "[I 2024-06-25 07:22:39,906] Trial 818 finished with value: 0.8304712143708336 and parameters: {'boosting_type': 'goss', 'num_leaves': 18, 'max_depth': 28, 'learning_rate': 0.00891125810450172, 'n_estimators': 971, 'min_child_samples': 56, 'subsample': 0.730305909057964, 'colsample_bytree': 0.8670572577130485, 'reg_alpha': 0.15463974727140362, 'reg_lambda': 0.0002735760520864318, 'top_rate': 0.06188480034749756, 'other_rate': 0.42312020684937685, 'threshold': 62}. Best is trial 533 with value: 0.8334239392413227.\n"
     ]
    },
    {
     "name": "stdout",
     "output_type": "stream",
     "text": [
      "Score: 0.8304712143708336\n",
      "Fold 1\n",
      "Fold 2\n",
      "Fold 3\n"
     ]
    },
    {
     "name": "stderr",
     "output_type": "stream",
     "text": [
      "[I 2024-06-25 07:23:14,533] Trial 819 finished with value: 0.8325097060358034 and parameters: {'boosting_type': 'goss', 'num_leaves': 34, 'max_depth': 33, 'learning_rate': 0.02977353134264142, 'n_estimators': 948, 'min_child_samples': 45, 'subsample': 0.5664430354333634, 'colsample_bytree': 0.6876031018795418, 'reg_alpha': 5.1030383345600886e-05, 'reg_lambda': 0.04737628170578906, 'top_rate': 0.3296062926455293, 'other_rate': 0.14266813698271139, 'threshold': 50}. Best is trial 533 with value: 0.8334239392413227.\n"
     ]
    },
    {
     "name": "stdout",
     "output_type": "stream",
     "text": [
      "Score: 0.8325097060358034\n",
      "Fold 1\n",
      "Fold 2\n",
      "Fold 3\n"
     ]
    },
    {
     "name": "stderr",
     "output_type": "stream",
     "text": [
      "[I 2024-06-25 07:24:02,163] Trial 820 finished with value: 0.8322255513395304 and parameters: {'boosting_type': 'goss', 'num_leaves': 54, 'max_depth': 31, 'learning_rate': 0.02008765257794808, 'n_estimators': 986, 'min_child_samples': 50, 'subsample': 0.5888558394378895, 'colsample_bytree': 0.7049539683838306, 'reg_alpha': 0.9602170319044382, 'reg_lambda': 0.0028228884772200707, 'top_rate': 0.04451242845777476, 'other_rate': 0.4056118579977988, 'threshold': 65}. Best is trial 533 with value: 0.8334239392413227.\n"
     ]
    },
    {
     "name": "stdout",
     "output_type": "stream",
     "text": [
      "Score: 0.8322255513395304\n",
      "Fold 1\n",
      "Fold 2\n",
      "Fold 3\n"
     ]
    },
    {
     "name": "stderr",
     "output_type": "stream",
     "text": [
      "[I 2024-06-25 07:24:25,974] Trial 821 finished with value: 0.8310518795099356 and parameters: {'boosting_type': 'goss', 'num_leaves': 24, 'max_depth': 33, 'learning_rate': 0.012515181287003902, 'n_estimators': 881, 'min_child_samples': 54, 'subsample': 0.8557645202971825, 'colsample_bytree': 0.6057440251952146, 'reg_alpha': 0.07845583757443356, 'reg_lambda': 0.3608311916725919, 'top_rate': 0.011667145464138632, 'other_rate': 0.10295578164596166, 'threshold': 59}. Best is trial 533 with value: 0.8334239392413227.\n"
     ]
    },
    {
     "name": "stdout",
     "output_type": "stream",
     "text": [
      "Score: 0.8310518795099356\n",
      "Fold 1\n",
      "Fold 2\n",
      "Fold 3\n"
     ]
    },
    {
     "name": "stderr",
     "output_type": "stream",
     "text": [
      "[I 2024-06-25 07:24:48,581] Trial 822 finished with value: 0.475538039576432 and parameters: {'boosting_type': 'goss', 'num_leaves': 13, 'max_depth': 64, 'learning_rate': 6.613693940560637e-08, 'n_estimators': 928, 'min_child_samples': 41, 'subsample': 0.9558787660697172, 'colsample_bytree': 0.5418435633716487, 'reg_alpha': 3.345984467636606e-06, 'reg_lambda': 3.340059003361522e-05, 'top_rate': 0.42102133229271066, 'other_rate': 0.4496419337659871, 'threshold': 56}. Best is trial 533 with value: 0.8334239392413227.\n"
     ]
    },
    {
     "name": "stdout",
     "output_type": "stream",
     "text": [
      "Score: 0.475538039576432\n",
      "Fold 1\n",
      "Fold 2\n",
      "Fold 3\n"
     ]
    },
    {
     "name": "stderr",
     "output_type": "stream",
     "text": [
      "[I 2024-06-25 07:25:33,258] Trial 823 finished with value: 0.475538039576432 and parameters: {'boosting_type': 'goss', 'num_leaves': 45, 'max_depth': 29, 'learning_rate': 7.424044170363625e-05, 'n_estimators': 968, 'min_child_samples': 52, 'subsample': 0.6005726715442964, 'colsample_bytree': 0.6241905901044126, 'reg_alpha': 0.2494726197486333, 'reg_lambda': 0.0005201399144512427, 'top_rate': 0.16468710769873293, 'other_rate': 0.2597212402229915, 'threshold': 94}. Best is trial 533 with value: 0.8334239392413227.\n"
     ]
    },
    {
     "name": "stdout",
     "output_type": "stream",
     "text": [
      "Score: 0.475538039576432\n",
      "Fold 1\n",
      "Fold 2\n",
      "Fold 3\n"
     ]
    },
    {
     "name": "stderr",
     "output_type": "stream",
     "text": [
      "[I 2024-06-25 07:26:08,334] Trial 824 finished with value: 0.8281362063102234 and parameters: {'boosting_type': 'goss', 'num_leaves': 29, 'max_depth': 27, 'learning_rate': 0.004462724395939507, 'n_estimators': 1000, 'min_child_samples': 49, 'subsample': 0.875400536873103, 'colsample_bytree': 0.8035989983019306, 'reg_alpha': 1.609207560569618e-08, 'reg_lambda': 9.495299265073355e-08, 'top_rate': 0.15264015648608406, 'other_rate': 0.16992554084226685, 'threshold': 61}. Best is trial 533 with value: 0.8334239392413227.\n"
     ]
    },
    {
     "name": "stdout",
     "output_type": "stream",
     "text": [
      "Score: 0.8281362063102234\n",
      "Fold 1\n",
      "Fold 2\n",
      "Fold 3\n"
     ]
    },
    {
     "name": "stderr",
     "output_type": "stream",
     "text": [
      "[I 2024-06-25 07:26:50,803] Trial 825 finished with value: 0.8131872494227078 and parameters: {'boosting_type': 'goss', 'num_leaves': 40, 'max_depth': 34, 'learning_rate': 0.0008249086869788106, 'n_estimators': 945, 'min_child_samples': 57, 'subsample': 0.7442660408363273, 'colsample_bytree': 0.6504989858866468, 'reg_alpha': 2.27301636713475e-06, 'reg_lambda': 0.19743313365121526, 'top_rate': 0.17894009674400282, 'other_rate': 0.09144330311885268, 'threshold': 47}. Best is trial 533 with value: 0.8334239392413227.\n"
     ]
    },
    {
     "name": "stdout",
     "output_type": "stream",
     "text": [
      "Score: 0.8131872494227078\n",
      "Fold 1\n",
      "Fold 2\n",
      "Fold 3\n"
     ]
    },
    {
     "name": "stderr",
     "output_type": "stream",
     "text": [
      "[I 2024-06-25 07:27:33,689] Trial 826 finished with value: 0.8038966314662286 and parameters: {'boosting_type': 'goss', 'num_leaves': 60, 'max_depth': 32, 'learning_rate': 0.27344927863653457, 'n_estimators': 970, 'min_child_samples': 44, 'subsample': 0.923543236702539, 'colsample_bytree': 0.6134879509903689, 'reg_alpha': 0.0013261520778504157, 'reg_lambda': 0.07118473638039463, 'top_rate': 0.07853976340651067, 'other_rate': 0.1347854077206582, 'threshold': 53}. Best is trial 533 with value: 0.8334239392413227.\n"
     ]
    },
    {
     "name": "stdout",
     "output_type": "stream",
     "text": [
      "Score: 0.8038966314662286\n",
      "Fold 1\n",
      "Fold 2\n",
      "Fold 3\n"
     ]
    },
    {
     "name": "stderr",
     "output_type": "stream",
     "text": [
      "[I 2024-06-25 07:27:52,663] Trial 827 finished with value: 0.8303847213974908 and parameters: {'boosting_type': 'gbdt', 'num_leaves': 17, 'max_depth': 29, 'learning_rate': 0.10475366747976785, 'n_estimators': 910, 'min_child_samples': 39, 'subsample': 0.7763790943131202, 'colsample_bytree': 0.6782660891887132, 'reg_alpha': 0.015291611357968714, 'reg_lambda': 1.2635787735712164e-05, 'threshold': 59}. Best is trial 533 with value: 0.8334239392413227.\n"
     ]
    },
    {
     "name": "stdout",
     "output_type": "stream",
     "text": [
      "Score: 0.8303847213974908\n",
      "Fold 1\n",
      "Fold 2\n",
      "Fold 3\n"
     ]
    },
    {
     "name": "stderr",
     "output_type": "stream",
     "text": [
      "[I 2024-06-25 07:28:28,113] Trial 828 finished with value: 0.8265671954658774 and parameters: {'boosting_type': 'goss', 'num_leaves': 35, 'max_depth': 35, 'learning_rate': 0.058247907234103696, 'n_estimators': 959, 'min_child_samples': 47, 'subsample': 0.5797538158299507, 'colsample_bytree': 0.6327779043446805, 'reg_alpha': 1.6939425947551674, 'reg_lambda': 0.0008645242375905538, 'top_rate': 0.12255872631921284, 'other_rate': 0.18184276078270342, 'threshold': 63}. Best is trial 533 with value: 0.8334239392413227.\n"
     ]
    },
    {
     "name": "stdout",
     "output_type": "stream",
     "text": [
      "Score: 0.8265671954658774\n",
      "Fold 1\n",
      "Fold 2\n",
      "Fold 3\n"
     ]
    },
    {
     "name": "stderr",
     "output_type": "stream",
     "text": [
      "[I 2024-06-25 07:28:59,142] Trial 829 finished with value: 0.475538039576432 and parameters: {'boosting_type': 'goss', 'num_leaves': 22, 'max_depth': 59, 'learning_rate': 3.993417028196728e-06, 'n_estimators': 933, 'min_child_samples': 51, 'subsample': 0.8456731133196876, 'colsample_bytree': 0.5990417659770362, 'reg_alpha': 0.43360674315911024, 'reg_lambda': 0.025460240814672484, 'top_rate': 0.09898113943615326, 'other_rate': 0.1635950716299404, 'threshold': 44}. Best is trial 533 with value: 0.8334239392413227.\n"
     ]
    },
    {
     "name": "stdout",
     "output_type": "stream",
     "text": [
      "Score: 0.475538039576432\n",
      "Fold 1\n",
      "Fold 2\n",
      "Fold 3\n"
     ]
    },
    {
     "name": "stderr",
     "output_type": "stream",
     "text": [
      "[I 2024-06-25 07:29:33,957] Trial 830 finished with value: 0.8317313791737712 and parameters: {'boosting_type': 'goss', 'num_leaves': 29, 'max_depth': 25, 'learning_rate': 0.03540739335614713, 'n_estimators': 1000, 'min_child_samples': 56, 'subsample': 0.7571997134294437, 'colsample_bytree': 0.6973204701145439, 'reg_alpha': 0.6449796018988069, 'reg_lambda': 0.012118353156617044, 'top_rate': 0.2820788333811418, 'other_rate': 0.12382437714187972, 'threshold': 67}. Best is trial 533 with value: 0.8334239392413227.\n"
     ]
    },
    {
     "name": "stdout",
     "output_type": "stream",
     "text": [
      "Score: 0.8317313791737712\n",
      "Fold 1\n",
      "Fold 2\n",
      "Fold 3\n"
     ]
    },
    {
     "name": "stderr",
     "output_type": "stream",
     "text": [
      "[I 2024-06-25 07:29:50,024] Trial 831 finished with value: 0.8013762794228341 and parameters: {'boosting_type': 'goss', 'num_leaves': 4, 'max_depth': 30, 'learning_rate': 0.0012449523378493012, 'n_estimators': 979, 'min_child_samples': 54, 'subsample': 0.944303398603765, 'colsample_bytree': 0.6432743376446574, 'reg_alpha': 0.15199888915426757, 'reg_lambda': 1.7696526621394186, 'top_rate': 0.1384691575142146, 'other_rate': 0.06049786924440752, 'threshold': 55}. Best is trial 533 with value: 0.8334239392413227.\n"
     ]
    },
    {
     "name": "stdout",
     "output_type": "stream",
     "text": [
      "Score: 0.8013762794228341\n",
      "Fold 1\n",
      "Fold 2\n",
      "Fold 3\n"
     ]
    },
    {
     "name": "stderr",
     "output_type": "stream",
     "text": [
      "[I 2024-06-25 07:31:44,180] Trial 832 finished with value: 0.8288898399954862 and parameters: {'boosting_type': 'dart', 'num_leaves': 49, 'max_depth': 34, 'learning_rate': 0.006817657796092507, 'n_estimators': 862, 'min_child_samples': 48, 'subsample': 0.7223521035639933, 'colsample_bytree': 0.783463150995184, 'reg_alpha': 0.31893288837824657, 'reg_lambda': 0.004549602667496317, 'drop_rate': 0.48899099264981694, 'skip_drop': 0.817015051468715, 'threshold': 58}. Best is trial 533 with value: 0.8334239392413227.\n"
     ]
    },
    {
     "name": "stdout",
     "output_type": "stream",
     "text": [
      "Score: 0.8288898399954862\n",
      "Fold 1\n",
      "Fold 2\n",
      "Fold 3\n"
     ]
    },
    {
     "name": "stderr",
     "output_type": "stream",
     "text": [
      "[I 2024-06-25 07:32:26,560] Trial 833 finished with value: 0.475538039576432 and parameters: {'boosting_type': 'goss', 'num_leaves': 40, 'max_depth': 61, 'learning_rate': 1.8112342437395317e-08, 'n_estimators': 947, 'min_child_samples': 85, 'subsample': 0.6995141209321329, 'colsample_bytree': 0.8965692235573578, 'reg_alpha': 0.021157768879395265, 'reg_lambda': 0.0001560171725814703, 'top_rate': 0.08624232813242387, 'other_rate': 0.2763984105553408, 'threshold': 61}. Best is trial 533 with value: 0.8334239392413227.\n"
     ]
    },
    {
     "name": "stdout",
     "output_type": "stream",
     "text": [
      "Score: 0.475538039576432\n",
      "Fold 1\n",
      "Fold 2\n",
      "Fold 3\n"
     ]
    },
    {
     "name": "stderr",
     "output_type": "stream",
     "text": [
      "[I 2024-06-25 07:33:00,814] Trial 834 finished with value: 0.475538039576432 and parameters: {'boosting_type': 'goss', 'num_leaves': 25, 'max_depth': 31, 'learning_rate': 3.632273734742271e-08, 'n_estimators': 962, 'min_child_samples': 81, 'subsample': 0.6127400085628114, 'colsample_bytree': 0.9114963351017468, 'reg_alpha': 0.0027848307642285345, 'reg_lambda': 3.0121448467963144e-07, 'top_rate': 0.34161846778356864, 'other_rate': 0.12455623022637671, 'threshold': 64}. Best is trial 533 with value: 0.8334239392413227.\n"
     ]
    },
    {
     "name": "stdout",
     "output_type": "stream",
     "text": [
      "Score: 0.475538039576432\n",
      "Fold 1\n",
      "Fold 2\n",
      "Fold 3\n"
     ]
    },
    {
     "name": "stderr",
     "output_type": "stream",
     "text": [
      "[I 2024-06-25 07:33:38,317] Trial 835 finished with value: 0.475538039576432 and parameters: {'boosting_type': 'goss', 'num_leaves': 32, 'max_depth': 32, 'learning_rate': 2.2917193322661175e-08, 'n_estimators': 924, 'min_child_samples': 61, 'subsample': 0.744676720042568, 'colsample_bytree': 0.6563348926768879, 'reg_alpha': 6.128557024676648e-08, 'reg_lambda': 6.025324128296048e-07, 'top_rate': 0.0250137114913397, 'other_rate': 0.10934478638960607, 'threshold': 62}. Best is trial 533 with value: 0.8334239392413227.\n"
     ]
    },
    {
     "name": "stdout",
     "output_type": "stream",
     "text": [
      "Score: 0.475538039576432\n",
      "Fold 1\n",
      "Fold 2\n",
      "Fold 3\n"
     ]
    },
    {
     "name": "stderr",
     "output_type": "stream",
     "text": [
      "[I 2024-06-25 07:34:19,544] Trial 836 finished with value: 0.8324850055324969 and parameters: {'boosting_type': 'goss', 'num_leaves': 55, 'max_depth': 42, 'learning_rate': 0.022540612775215754, 'n_estimators': 896, 'min_child_samples': 45, 'subsample': 0.5961342780189147, 'colsample_bytree': 0.6228316975994312, 'reg_alpha': 2.2793450012460264e-07, 'reg_lambda': 1.411246427310449e-07, 'top_rate': 0.05404512918635099, 'other_rate': 0.31225366597377757, 'threshold': 57}. Best is trial 533 with value: 0.8334239392413227.\n"
     ]
    },
    {
     "name": "stdout",
     "output_type": "stream",
     "text": [
      "Score: 0.8324850055324969\n",
      "Fold 1\n",
      "Fold 2\n",
      "Fold 3\n"
     ]
    },
    {
     "name": "stderr",
     "output_type": "stream",
     "text": [
      "[I 2024-06-25 07:35:01,934] Trial 837 finished with value: 0.8325344175289153 and parameters: {'boosting_type': 'goss', 'num_leaves': 46, 'max_depth': 28, 'learning_rate': 0.01427528819611419, 'n_estimators': 986, 'min_child_samples': 58, 'subsample': 0.80002909543653, 'colsample_bytree': 0.7697852323376101, 'reg_alpha': 0.00029449182635826987, 'reg_lambda': 8.472267944705631e-06, 'top_rate': 0.28824587454409734, 'other_rate': 0.09691395417983376, 'threshold': 51}. Best is trial 533 with value: 0.8334239392413227.\n"
     ]
    },
    {
     "name": "stdout",
     "output_type": "stream",
     "text": [
      "Score: 0.8325344175289153\n",
      "Fold 1\n",
      "Fold 2\n",
      "Fold 3\n"
     ]
    },
    {
     "name": "stderr",
     "output_type": "stream",
     "text": [
      "[I 2024-06-25 07:35:25,552] Trial 838 finished with value: 0.8278767626491538 and parameters: {'boosting_type': 'goss', 'num_leaves': 20, 'max_depth': 36, 'learning_rate': 0.009923733141072448, 'n_estimators': 964, 'min_child_samples': 72, 'subsample': 0.5472403072750665, 'colsample_bytree': 0.7200522597872416, 'reg_alpha': 5.720909805057611e-07, 'reg_lambda': 2.6676345228479614, 'top_rate': 0.07085972505964586, 'other_rate': 0.02002890529111223, 'threshold': 60}. Best is trial 533 with value: 0.8334239392413227.\n"
     ]
    },
    {
     "name": "stdout",
     "output_type": "stream",
     "text": [
      "Score: 0.8278767626491538\n",
      "Fold 1\n",
      "Fold 2\n",
      "Fold 3\n"
     ]
    },
    {
     "name": "stderr",
     "output_type": "stream",
     "text": [
      "[I 2024-06-25 07:35:43,410] Trial 839 finished with value: 0.475538039576432 and parameters: {'boosting_type': 'goss', 'num_leaves': 37, 'max_depth': 34, 'learning_rate': 1.364582808176609e-06, 'n_estimators': 435, 'min_child_samples': 49, 'subsample': 0.8890796116905618, 'colsample_bytree': 0.9229096474969392, 'reg_alpha': 0.0056292304640060365, 'reg_lambda': 1.30104671774018e-06, 'top_rate': 0.039533473586989276, 'other_rate': 0.27099619572919065, 'threshold': 54}. Best is trial 533 with value: 0.8334239392413227.\n"
     ]
    },
    {
     "name": "stdout",
     "output_type": "stream",
     "text": [
      "Score: 0.475538039576432\n",
      "Fold 1\n",
      "Fold 2\n",
      "Fold 3\n"
     ]
    },
    {
     "name": "stderr",
     "output_type": "stream",
     "text": [
      "[I 2024-06-25 07:36:37,823] Trial 840 finished with value: 0.475538039576432 and parameters: {'boosting_type': 'goss', 'num_leaves': 74, 'max_depth': 26, 'learning_rate': 6.206806677577153e-06, 'n_estimators': 937, 'min_child_samples': 51, 'subsample': 0.8668535354997507, 'colsample_bytree': 0.5897511845783983, 'reg_alpha': 0.937905454279573, 'reg_lambda': 1.7632141861109585e-06, 'top_rate': 0.15597205429275224, 'other_rate': 0.11558385208910074, 'threshold': 65}. Best is trial 533 with value: 0.8334239392413227.\n"
     ]
    },
    {
     "name": "stdout",
     "output_type": "stream",
     "text": [
      "Score: 0.475538039576432\n",
      "Fold 1\n",
      "Fold 2\n",
      "Fold 3\n"
     ]
    },
    {
     "name": "stderr",
     "output_type": "stream",
     "text": [
      "[I 2024-06-25 07:36:53,552] Trial 841 finished with value: 0.8313113364503536 and parameters: {'boosting_type': 'goss', 'num_leaves': 27, 'max_depth': 33, 'learning_rate': 0.04222748793732475, 'n_estimators': 513, 'min_child_samples': 42, 'subsample': 0.8191595902012644, 'colsample_bytree': 0.6706569216315715, 'reg_alpha': 4.955657202369602e-06, 'reg_lambda': 0.0015305159156801848, 'top_rate': 0.11703050305617507, 'other_rate': 0.18858849113890488, 'threshold': 49}. Best is trial 533 with value: 0.8334239392413227.\n"
     ]
    },
    {
     "name": "stdout",
     "output_type": "stream",
     "text": [
      "Score: 0.8313113364503536\n",
      "Fold 1\n",
      "Fold 2\n",
      "Fold 3\n"
     ]
    },
    {
     "name": "stderr",
     "output_type": "stream",
     "text": [
      "[I 2024-06-25 07:37:17,850] Trial 842 finished with value: 0.475538039576432 and parameters: {'boosting_type': 'goss', 'num_leaves': 11, 'max_depth': 31, 'learning_rate': 1.975022540538536e-05, 'n_estimators': 980, 'min_child_samples': 53, 'subsample': 0.8357865407287955, 'colsample_bytree': 0.6088383804916645, 'reg_alpha': 0.05331929558479393, 'reg_lambda': 2.39727681387569e-07, 'top_rate': 0.1051189066574943, 'other_rate': 0.11402961647361476, 'threshold': 59}. Best is trial 533 with value: 0.8334239392413227.\n"
     ]
    },
    {
     "name": "stdout",
     "output_type": "stream",
     "text": [
      "Score: 0.475538039576432\n",
      "Fold 1\n",
      "Fold 2\n",
      "Fold 3\n"
     ]
    },
    {
     "name": "stderr",
     "output_type": "stream",
     "text": [
      "[I 2024-06-25 07:37:55,685] Trial 843 finished with value: 0.475538039576432 and parameters: {'boosting_type': 'goss', 'num_leaves': 32, 'max_depth': 29, 'learning_rate': 1.4440653713020153e-07, 'n_estimators': 949, 'min_child_samples': 46, 'subsample': 0.9168799378939028, 'colsample_bytree': 0.6342718769252511, 'reg_alpha': 0.2204116993393686, 'reg_lambda': 7.691477572654023e-05, 'top_rate': 0.2585306932254229, 'other_rate': 0.21078145254274114, 'threshold': 63}. Best is trial 533 with value: 0.8334239392413227.\n"
     ]
    },
    {
     "name": "stdout",
     "output_type": "stream",
     "text": [
      "Score: 0.475538039576432\n",
      "Fold 1\n",
      "Fold 2\n",
      "Fold 3\n"
     ]
    },
    {
     "name": "stderr",
     "output_type": "stream",
     "text": [
      "[I 2024-06-25 07:38:46,052] Trial 844 finished with value: 0.683032290511621 and parameters: {'boosting_type': 'goss', 'num_leaves': 51, 'max_depth': 36, 'learning_rate': 0.00014308968671220275, 'n_estimators': 984, 'min_child_samples': 60, 'subsample': 0.7345911119107099, 'colsample_bytree': 0.627783562477406, 'reg_alpha': 1.3999794333721757e-07, 'reg_lambda': 2.508476394216308e-06, 'top_rate': 0.08773712935887049, 'other_rate': 0.19684746615216478, 'threshold': 68}. Best is trial 533 with value: 0.8334239392413227.\n"
     ]
    },
    {
     "name": "stdout",
     "output_type": "stream",
     "text": [
      "Score: 0.683032290511621\n",
      "Fold 1\n",
      "Fold 2\n",
      "Fold 3\n"
     ]
    },
    {
     "name": "stderr",
     "output_type": "stream",
     "text": [
      "[I 2024-06-25 07:39:10,187] Trial 845 finished with value: 0.829939985955212 and parameters: {'boosting_type': 'goss', 'num_leaves': 21, 'max_depth': 34, 'learning_rate': 0.028216173484440155, 'n_estimators': 906, 'min_child_samples': 57, 'subsample': 0.9564753116287737, 'colsample_bytree': 0.815104466366109, 'reg_alpha': 0.10249062462478836, 'reg_lambda': 0.006539940768674551, 'top_rate': 0.06131396387717397, 'other_rate': 0.08053511848563616, 'threshold': 61}. Best is trial 533 with value: 0.8334239392413227.\n"
     ]
    },
    {
     "name": "stdout",
     "output_type": "stream",
     "text": [
      "Score: 0.829939985955212\n",
      "Fold 1\n",
      "Fold 2\n",
      "Fold 3\n"
     ]
    },
    {
     "name": "stderr",
     "output_type": "stream",
     "text": [
      "[I 2024-06-25 07:39:47,799] Trial 846 finished with value: 0.8314842912592574 and parameters: {'boosting_type': 'goss', 'num_leaves': 46, 'max_depth': 27, 'learning_rate': 0.017773148260368403, 'n_estimators': 965, 'min_child_samples': 49, 'subsample': 0.9665510711595567, 'colsample_bytree': 0.6161569420824664, 'reg_alpha': 0.44634284059146684, 'reg_lambda': 0.5351584818493196, 'top_rate': 0.13193895126236038, 'other_rate': 0.08753576276009511, 'threshold': 56}. Best is trial 533 with value: 0.8334239392413227.\n"
     ]
    },
    {
     "name": "stdout",
     "output_type": "stream",
     "text": [
      "Score: 0.8314842912592574\n",
      "Fold 1\n",
      "Fold 2\n",
      "Fold 3\n"
     ]
    },
    {
     "name": "stderr",
     "output_type": "stream",
     "text": [
      "[I 2024-06-25 07:40:24,844] Trial 847 finished with value: 0.8273702264944847 and parameters: {'boosting_type': 'goss', 'num_leaves': 38, 'max_depth': 35, 'learning_rate': 0.003570627513566886, 'n_estimators': 923, 'min_child_samples': 55, 'subsample': 0.559144059247538, 'colsample_bytree': 0.5206941257358871, 'reg_alpha': 0.000685213978932004, 'reg_lambda': 0.2871819543717858, 'top_rate': 0.09767788775291955, 'other_rate': 0.21039348074522168, 'threshold': 59}. Best is trial 533 with value: 0.8334239392413227.\n"
     ]
    },
    {
     "name": "stdout",
     "output_type": "stream",
     "text": [
      "Score: 0.8273702264944847\n",
      "Fold 1\n",
      "Fold 2\n",
      "Fold 3\n"
     ]
    },
    {
     "name": "stderr",
     "output_type": "stream",
     "text": [
      "[I 2024-06-25 07:41:23,470] Trial 848 finished with value: 0.7918386074370742 and parameters: {'boosting_type': 'goss', 'num_leaves': 93, 'max_depth': 46, 'learning_rate': 0.0005202295148152476, 'n_estimators': 949, 'min_child_samples': 44, 'subsample': 0.584629849039807, 'colsample_bytree': 0.500830820819288, 'reg_alpha': 2.547756493077803, 'reg_lambda': 0.0007059854521114751, 'top_rate': 0.017931201303801686, 'other_rate': 0.22060396946135485, 'threshold': 53}. Best is trial 533 with value: 0.8334239392413227.\n"
     ]
    },
    {
     "name": "stdout",
     "output_type": "stream",
     "text": [
      "Score: 0.7918386074370742\n",
      "Fold 1\n",
      "Fold 2\n",
      "Fold 3\n"
     ]
    },
    {
     "name": "stderr",
     "output_type": "stream",
     "text": [
      "[I 2024-06-25 07:41:48,528] Trial 849 finished with value: 0.8301747016384619 and parameters: {'boosting_type': 'gbdt', 'num_leaves': 27, 'max_depth': 32, 'learning_rate': 0.06882019044149833, 'n_estimators': 971, 'min_child_samples': 47, 'subsample': 0.932723443621177, 'colsample_bytree': 0.7506953133498503, 'reg_alpha': 0.6868442971308482, 'reg_lambda': 2.1885206179355292e-08, 'threshold': 64}. Best is trial 533 with value: 0.8334239392413227.\n"
     ]
    },
    {
     "name": "stdout",
     "output_type": "stream",
     "text": [
      "Score: 0.8301747016384619\n",
      "Fold 1\n",
      "Fold 2\n",
      "Fold 3\n"
     ]
    },
    {
     "name": "stderr",
     "output_type": "stream",
     "text": [
      "[I 2024-06-25 07:42:16,675] Trial 850 finished with value: 0.8313607498204977 and parameters: {'boosting_type': 'goss', 'num_leaves': 18, 'max_depth': 30, 'learning_rate': 0.012066753657707978, 'n_estimators': 1000, 'min_child_samples': 52, 'subsample': 0.8996497126045975, 'colsample_bytree': 0.6432182256488782, 'reg_alpha': 2.8325850839394552e-05, 'reg_lambda': 0.15207458120789122, 'top_rate': 0.076121112237046, 'other_rate': 0.24487967106686226, 'threshold': 57}. Best is trial 533 with value: 0.8334239392413227.\n"
     ]
    },
    {
     "name": "stdout",
     "output_type": "stream",
     "text": [
      "Score: 0.8313607498204977\n",
      "Fold 1\n",
      "Fold 2\n",
      "Fold 3\n"
     ]
    },
    {
     "name": "stderr",
     "output_type": "stream",
     "text": [
      "[I 2024-06-25 07:42:48,991] Trial 851 finished with value: 0.832163774438385 and parameters: {'boosting_type': 'goss', 'num_leaves': 34, 'max_depth': 28, 'learning_rate': 0.02455236246892088, 'n_estimators': 935, 'min_child_samples': 59, 'subsample': 0.627155859303361, 'colsample_bytree': 0.6598033989242438, 'reg_alpha': 0.0016860677947585455, 'reg_lambda': 5.1087703559496544e-08, 'top_rate': 0.11188692311037067, 'other_rate': 0.13281145111448597, 'threshold': 46}. Best is trial 533 with value: 0.8334239392413227.\n"
     ]
    },
    {
     "name": "stdout",
     "output_type": "stream",
     "text": [
      "Score: 0.832163774438385\n",
      "Fold 1\n",
      "Fold 2\n",
      "Fold 3\n"
     ]
    },
    {
     "name": "stderr",
     "output_type": "stream",
     "text": [
      "[I 2024-06-25 07:42:57,540] Trial 852 finished with value: 0.7363915053860074 and parameters: {'boosting_type': 'goss', 'num_leaves': 59, 'max_depth': 23, 'learning_rate': 0.001922154129128932, 'n_estimators': 149, 'min_child_samples': 63, 'subsample': 0.5716313262967508, 'colsample_bytree': 0.5982484150355443, 'reg_alpha': 0.29445333365197046, 'reg_lambda': 0.0003682334286843316, 'top_rate': 0.04316893089927752, 'other_rate': 0.16418355558791234, 'threshold': 33}. Best is trial 533 with value: 0.8334239392413227.\n"
     ]
    },
    {
     "name": "stdout",
     "output_type": "stream",
     "text": [
      "Score: 0.7363915053860074\n",
      "Fold 1\n",
      "Fold 2\n",
      "Fold 3\n"
     ]
    },
    {
     "name": "stderr",
     "output_type": "stream",
     "text": [
      "[I 2024-06-25 07:45:25,604] Trial 853 finished with value: 0.8319661081363692 and parameters: {'boosting_type': 'dart', 'num_leaves': 43, 'max_depth': 38, 'learning_rate': 0.018964319339245007, 'n_estimators': 958, 'min_child_samples': 50, 'subsample': 0.6791428749208819, 'colsample_bytree': 0.5844048046329708, 'reg_alpha': 1.12011627835242, 'reg_lambda': 0.11657056136390703, 'drop_rate': 0.4317866976826964, 'skip_drop': 0.7735216132676305, 'threshold': 61}. Best is trial 533 with value: 0.8334239392413227.\n"
     ]
    },
    {
     "name": "stdout",
     "output_type": "stream",
     "text": [
      "Score: 0.8319661081363692\n",
      "Fold 1\n",
      "Fold 2\n",
      "Fold 3\n"
     ]
    },
    {
     "name": "stderr",
     "output_type": "stream",
     "text": [
      "[I 2024-06-25 07:45:50,623] Trial 854 finished with value: 0.475538039576432 and parameters: {'boosting_type': 'goss', 'num_leaves': 15, 'max_depth': 33, 'learning_rate': 4.952185524346912e-07, 'n_estimators': 984, 'min_child_samples': 54, 'subsample': 0.710336705247002, 'colsample_bytree': 0.8019322263340536, 'reg_alpha': 2.385029833775382e-08, 'reg_lambda': 1.260895779904296, 'top_rate': 0.4431619004383201, 'other_rate': 0.15460952901982378, 'threshold': 66}. Best is trial 533 with value: 0.8334239392413227.\n"
     ]
    },
    {
     "name": "stdout",
     "output_type": "stream",
     "text": [
      "Score: 0.475538039576432\n",
      "Fold 1\n",
      "Fold 2\n",
      "Fold 3\n"
     ]
    },
    {
     "name": "stderr",
     "output_type": "stream",
     "text": [
      "[I 2024-06-25 07:46:17,464] Trial 855 finished with value: 0.8285439143508789 and parameters: {'boosting_type': 'goss', 'num_leaves': 24, 'max_depth': 35, 'learning_rate': 0.042865428395343304, 'n_estimators': 947, 'min_child_samples': 42, 'subsample': 0.6063530950162034, 'colsample_bytree': 0.6297750650653691, 'reg_alpha': 0.033688975385734496, 'reg_lambda': 2.868304250218512e-05, 'top_rate': 0.14618456428218776, 'other_rate': 0.07012174490173305, 'threshold': 63}. Best is trial 533 with value: 0.8334239392413227.\n"
     ]
    },
    {
     "name": "stdout",
     "output_type": "stream",
     "text": [
      "Score: 0.8285439143508789\n",
      "Fold 1\n",
      "Fold 2\n",
      "Fold 3\n"
     ]
    },
    {
     "name": "stderr",
     "output_type": "stream",
     "text": [
      "[I 2024-06-25 07:46:52,651] Trial 856 finished with value: 0.475538039576432 and parameters: {'boosting_type': 'goss', 'num_leaves': 30, 'max_depth': 30, 'learning_rate': 9.74226832914411e-05, 'n_estimators': 919, 'min_child_samples': 47, 'subsample': 0.7659252515395463, 'colsample_bytree': 0.7383119240918129, 'reg_alpha': 0.008431087450956184, 'reg_lambda': 0.7825892785947395, 'top_rate': 0.006453890634181114, 'other_rate': 0.19864370615755925, 'threshold': 58}. Best is trial 533 with value: 0.8334239392413227.\n"
     ]
    },
    {
     "name": "stdout",
     "output_type": "stream",
     "text": [
      "Score: 0.475538039576432\n",
      "Fold 1\n",
      "Fold 2\n",
      "Fold 3\n"
     ]
    },
    {
     "name": "stderr",
     "output_type": "stream",
     "text": [
      "[I 2024-06-25 07:47:41,412] Trial 857 finished with value: 0.8311259961308375 and parameters: {'boosting_type': 'goss', 'num_leaves': 64, 'max_depth': 41, 'learning_rate': 0.007008918724802899, 'n_estimators': 970, 'min_child_samples': 44, 'subsample': 0.7879154793345254, 'colsample_bytree': 0.9050017175429128, 'reg_alpha': 0.18915458360313298, 'reg_lambda': 3.1906190672213905, 'top_rate': 0.29986515568850525, 'other_rate': 0.39518599165061985, 'threshold': 55}. Best is trial 533 with value: 0.8334239392413227.\n"
     ]
    },
    {
     "name": "stdout",
     "output_type": "stream",
     "text": [
      "Score: 0.8311259961308375\n",
      "Fold 1\n",
      "Fold 2\n",
      "Fold 3\n"
     ]
    },
    {
     "name": "stderr",
     "output_type": "stream",
     "text": [
      "[I 2024-06-25 07:48:21,777] Trial 858 finished with value: 0.8317931427955686 and parameters: {'boosting_type': 'goss', 'num_leaves': 52, 'max_depth': 37, 'learning_rate': 0.01487866893831022, 'n_estimators': 986, 'min_child_samples': 56, 'subsample': 0.8032381433188646, 'colsample_bytree': 0.648213231607336, 'reg_alpha': 2.1631247832601734e-05, 'reg_lambda': 0.003163628226353588, 'top_rate': 0.30466843754684214, 'other_rate': 0.46967445307715894, 'threshold': 51}. Best is trial 533 with value: 0.8334239392413227.\n"
     ]
    },
    {
     "name": "stdout",
     "output_type": "stream",
     "text": [
      "Score: 0.8317931427955686\n",
      "Fold 1\n",
      "Fold 2\n",
      "Fold 3\n"
     ]
    },
    {
     "name": "stderr",
     "output_type": "stream",
     "text": [
      "[I 2024-06-25 07:48:57,914] Trial 859 finished with value: 0.8293345955857414 and parameters: {'boosting_type': 'goss', 'num_leaves': 42, 'max_depth': 32, 'learning_rate': 0.028369511750808773, 'n_estimators': 938, 'min_child_samples': 39, 'subsample': 0.9818439443978425, 'colsample_bytree': 0.6879207168432359, 'reg_alpha': 1.5546107351006787e-05, 'reg_lambda': 3.27597869608527e-06, 'top_rate': 0.19579156657155747, 'other_rate': 0.05627768308975466, 'threshold': 82}. Best is trial 533 with value: 0.8334239392413227.\n"
     ]
    },
    {
     "name": "stdout",
     "output_type": "stream",
     "text": [
      "Score: 0.8293345955857414\n",
      "Fold 1\n",
      "Fold 2\n",
      "Fold 3\n"
     ]
    },
    {
     "name": "stderr",
     "output_type": "stream",
     "text": [
      "[I 2024-06-25 07:49:34,736] Trial 860 finished with value: 0.8318796284423744 and parameters: {'boosting_type': 'goss', 'num_leaves': 34, 'max_depth': 33, 'learning_rate': 0.00935774952754203, 'n_estimators': 886, 'min_child_samples': 61, 'subsample': 0.6194817753491603, 'colsample_bytree': 0.6183539334009323, 'reg_alpha': 0.0003945363147074899, 'reg_lambda': 0.06148679137968425, 'top_rate': 0.09376727682976203, 'other_rate': 0.3703019071666158, 'threshold': 60}. Best is trial 533 with value: 0.8334239392413227.\n"
     ]
    },
    {
     "name": "stdout",
     "output_type": "stream",
     "text": [
      "Score: 0.8318796284423744\n",
      "Fold 1\n",
      "Fold 2\n",
      "Fold 3\n"
     ]
    },
    {
     "name": "stderr",
     "output_type": "stream",
     "text": [
      "[I 2024-06-25 07:50:04,656] Trial 861 finished with value: 0.475538039576432 and parameters: {'boosting_type': 'goss', 'num_leaves': 23, 'max_depth': 28, 'learning_rate': 2.668452948414329e-05, 'n_estimators': 963, 'min_child_samples': 65, 'subsample': 0.7279289058410287, 'colsample_bytree': 0.9641743877895483, 'reg_alpha': 1.7625991378181938e-06, 'reg_lambda': 0.016787584548669153, 'top_rate': 0.22470615593738125, 'other_rate': 0.45560650464199065, 'threshold': 71}. Best is trial 533 with value: 0.8334239392413227.\n"
     ]
    },
    {
     "name": "stdout",
     "output_type": "stream",
     "text": [
      "Score: 0.475538039576432\n",
      "Fold 1\n",
      "Fold 2\n",
      "Fold 3\n"
     ]
    },
    {
     "name": "stderr",
     "output_type": "stream",
     "text": [
      "[I 2024-06-25 07:50:29,697] Trial 862 finished with value: 0.8289516013277406 and parameters: {'boosting_type': 'goss', 'num_leaves': 28, 'max_depth': 31, 'learning_rate': 0.09223835116767344, 'n_estimators': 951, 'min_child_samples': 37, 'subsample': 0.6411004568901845, 'colsample_bytree': 0.6366822102017888, 'reg_alpha': 8.356545834561876e-05, 'reg_lambda': 0.0011638707627961453, 'top_rate': 0.3914251538494273, 'other_rate': 0.4338410143027073, 'threshold': 48}. Best is trial 533 with value: 0.8334239392413227.\n"
     ]
    },
    {
     "name": "stdout",
     "output_type": "stream",
     "text": [
      "Score: 0.8289516013277406\n",
      "Fold 1\n",
      "Fold 2\n",
      "Fold 3\n"
     ]
    },
    {
     "name": "stderr",
     "output_type": "stream",
     "text": [
      "[I 2024-06-25 07:51:04,466] Trial 863 finished with value: 0.8309777592257653 and parameters: {'boosting_type': 'goss', 'num_leaves': 38, 'max_depth': 39, 'learning_rate': 0.021640755198866032, 'n_estimators': 984, 'min_child_samples': 51, 'subsample': 0.6600895835703994, 'colsample_bytree': 0.5755879351293519, 'reg_alpha': 3.708375283089314e-07, 'reg_lambda': 0.00012504634096349102, 'top_rate': 0.07420541409933382, 'other_rate': 0.1017742739011227, 'threshold': 62}. Best is trial 533 with value: 0.8334239392413227.\n"
     ]
    },
    {
     "name": "stdout",
     "output_type": "stream",
     "text": [
      "Score: 0.8309777592257653\n",
      "Fold 1\n",
      "Fold 2\n",
      "Fold 3\n"
     ]
    },
    {
     "name": "stderr",
     "output_type": "stream",
     "text": [
      "[I 2024-06-25 07:51:28,556] Trial 864 finished with value: 0.831583129905168 and parameters: {'boosting_type': 'goss', 'num_leaves': 9, 'max_depth': 35, 'learning_rate': 0.03581605808883395, 'n_estimators': 1000, 'min_child_samples': 53, 'subsample': 0.6919339509978609, 'colsample_bytree': 0.99090433059075, 'reg_alpha': 4.081473477373851e-08, 'reg_lambda': 0.009517499031637826, 'top_rate': 0.030415390461623948, 'other_rate': 0.4683082258310226, 'threshold': 66}. Best is trial 533 with value: 0.8334239392413227.\n"
     ]
    },
    {
     "name": "stdout",
     "output_type": "stream",
     "text": [
      "Score: 0.831583129905168\n",
      "Fold 1\n",
      "Fold 2\n",
      "Fold 3\n"
     ]
    },
    {
     "name": "stderr",
     "output_type": "stream",
     "text": [
      "[I 2024-06-25 07:52:11,986] Trial 865 finished with value: 0.475538039576432 and parameters: {'boosting_type': 'goss', 'num_leaves': 46, 'max_depth': 37, 'learning_rate': 5.516263562917682e-07, 'n_estimators': 920, 'min_child_samples': 98, 'subsample': 0.9081669012450696, 'colsample_bytree': 0.6121239123687683, 'reg_alpha': 1.014513567332259e-07, 'reg_lambda': 0.00019755192515721494, 'top_rate': 0.12623324192900814, 'other_rate': 0.28576727258061085, 'threshold': 53}. Best is trial 533 with value: 0.8334239392413227.\n"
     ]
    },
    {
     "name": "stdout",
     "output_type": "stream",
     "text": [
      "Score: 0.475538039576432\n",
      "Fold 1\n",
      "Fold 2\n",
      "Fold 3\n"
     ]
    },
    {
     "name": "stderr",
     "output_type": "stream",
     "text": [
      "[I 2024-06-25 07:52:42,653] Trial 866 finished with value: 0.475538039576432 and parameters: {'boosting_type': 'goss', 'num_leaves': 19, 'max_depth': 11, 'learning_rate': 1.328619307044561e-06, 'n_estimators': 969, 'min_child_samples': 46, 'subsample': 0.5973280525343098, 'colsample_bytree': 0.5586841411578353, 'reg_alpha': 0.07338485578565057, 'reg_lambda': 0.42124938355937397, 'top_rate': 0.18735154741046325, 'other_rate': 0.021217787004371574, 'threshold': 57}. Best is trial 533 with value: 0.8334239392413227.\n"
     ]
    },
    {
     "name": "stdout",
     "output_type": "stream",
     "text": [
      "Score: 0.475538039576432\n",
      "Fold 1\n",
      "Fold 2\n",
      "Fold 3\n"
     ]
    },
    {
     "name": "stderr",
     "output_type": "stream",
     "text": [
      "[I 2024-06-25 07:53:30,872] Trial 867 finished with value: 0.475538039576432 and parameters: {'boosting_type': 'goss', 'num_leaves': 54, 'max_depth': 57, 'learning_rate': 7.250573715019299e-07, 'n_estimators': 935, 'min_child_samples': 59, 'subsample': 0.7411855193539143, 'colsample_bytree': 0.7644591846460062, 'reg_alpha': 0.12146325197057546, 'reg_lambda': 2.015247997198345, 'top_rate': 0.2713957768920738, 'other_rate': 0.15034120826179898, 'threshold': 59}. Best is trial 533 with value: 0.8334239392413227.\n"
     ]
    },
    {
     "name": "stdout",
     "output_type": "stream",
     "text": [
      "Score: 0.475538039576432\n",
      "Fold 1\n",
      "Fold 2\n",
      "Fold 3\n"
     ]
    },
    {
     "name": "stderr",
     "output_type": "stream",
     "text": [
      "[I 2024-06-25 07:54:01,821] Trial 868 finished with value: 0.8316448999376851 and parameters: {'boosting_type': 'goss', 'num_leaves': 31, 'max_depth': 29, 'learning_rate': 0.013033558515989214, 'n_estimators': 959, 'min_child_samples': 49, 'subsample': 0.849690850306542, 'colsample_bytree': 0.7127128175848593, 'reg_alpha': 0.40528542107667376, 'reg_lambda': 4.268125736487118e-05, 'top_rate': 0.053719153888034755, 'other_rate': 0.11135746169317706, 'threshold': 63}. Best is trial 533 with value: 0.8334239392413227.\n"
     ]
    },
    {
     "name": "stdout",
     "output_type": "stream",
     "text": [
      "Score: 0.8316448999376851\n",
      "Fold 1\n",
      "Fold 2\n",
      "Fold 3\n"
     ]
    },
    {
     "name": "stderr",
     "output_type": "stream",
     "text": [
      "[I 2024-06-25 07:54:24,257] Trial 869 finished with value: 0.8317560915827004 and parameters: {'boosting_type': 'goss', 'num_leaves': 14, 'max_depth': 34, 'learning_rate': 0.02078248075968647, 'n_estimators': 903, 'min_child_samples': 56, 'subsample': 0.8291826100310555, 'colsample_bytree': 0.6630627408419413, 'reg_alpha': 5.139303309932894, 'reg_lambda': 0.2746525926149162, 'top_rate': 0.3596191483344508, 'other_rate': 0.490759114221153, 'threshold': 50}. Best is trial 533 with value: 0.8334239392413227.\n"
     ]
    },
    {
     "name": "stdout",
     "output_type": "stream",
     "text": [
      "Score: 0.8317560915827004\n",
      "Fold 1\n",
      "Fold 2\n",
      "Fold 3\n"
     ]
    },
    {
     "name": "stderr",
     "output_type": "stream",
     "text": [
      "[I 2024-06-25 07:54:57,977] Trial 870 finished with value: 0.475538039576432 and parameters: {'boosting_type': 'goss', 'num_leaves': 25, 'max_depth': 26, 'learning_rate': 1.7073913489863405e-06, 'n_estimators': 968, 'min_child_samples': 48, 'subsample': 0.8145462961588087, 'colsample_bytree': 0.6246272449506987, 'reg_alpha': 9.416652015262788e-07, 'reg_lambda': 1.210054933589297e-08, 'top_rate': 0.08341542711596961, 'other_rate': 0.258700985786979, 'threshold': 61}. Best is trial 533 with value: 0.8334239392413227.\n"
     ]
    },
    {
     "name": "stdout",
     "output_type": "stream",
     "text": [
      "Score: 0.475538039576432\n",
      "Fold 1\n",
      "Fold 2\n",
      "Fold 3\n"
     ]
    },
    {
     "name": "stderr",
     "output_type": "stream",
     "text": [
      "[I 2024-06-25 07:55:31,281] Trial 871 finished with value: 0.8298411317404105 and parameters: {'boosting_type': 'gbdt', 'num_leaves': 41, 'max_depth': 32, 'learning_rate': 0.04861228470822887, 'n_estimators': 1000, 'min_child_samples': 58, 'subsample': 0.7496350506434752, 'colsample_bytree': 0.7786002603667853, 'reg_alpha': 0.5887409054342415, 'reg_lambda': 1.6626485224535576e-05, 'threshold': 56}. Best is trial 533 with value: 0.8334239392413227.\n"
     ]
    },
    {
     "name": "stdout",
     "output_type": "stream",
     "text": [
      "Score: 0.8298411317404105\n",
      "Fold 1\n",
      "Fold 2\n",
      "Fold 3\n"
     ]
    },
    {
     "name": "stderr",
     "output_type": "stream",
     "text": [
      "[I 2024-06-25 07:55:57,475] Trial 872 finished with value: 0.8277902806656163 and parameters: {'boosting_type': 'goss', 'num_leaves': 32, 'max_depth': 36, 'learning_rate': 0.00562673068487052, 'n_estimators': 710, 'min_child_samples': 51, 'subsample': 0.7793198410431735, 'colsample_bytree': 0.5673844661689603, 'reg_alpha': 0.0009139250454144893, 'reg_lambda': 4.48751677555139, 'top_rate': 0.16497732928306397, 'other_rate': 0.14236074479028826, 'threshold': 64}. Best is trial 533 with value: 0.8334239392413227.\n"
     ]
    },
    {
     "name": "stdout",
     "output_type": "stream",
     "text": [
      "Score: 0.8277902806656163\n",
      "Fold 1\n",
      "Fold 2\n",
      "Fold 3\n"
     ]
    },
    {
     "name": "stderr",
     "output_type": "stream",
     "text": [
      "[I 2024-06-25 07:56:43,662] Trial 873 finished with value: 0.8324479327979265 and parameters: {'boosting_type': 'goss', 'num_leaves': 49, 'max_depth': 30, 'learning_rate': 0.01055706819540137, 'n_estimators': 937, 'min_child_samples': 45, 'subsample': 0.9447609797842014, 'colsample_bytree': 0.8429456559796062, 'reg_alpha': 1.4119587382566263, 'reg_lambda': 0.0005066993803438669, 'top_rate': 0.10409164461076055, 'other_rate': 0.3838478295304805, 'threshold': 59}. Best is trial 533 with value: 0.8334239392413227.\n"
     ]
    },
    {
     "name": "stdout",
     "output_type": "stream",
     "text": [
      "Score: 0.8324479327979265\n",
      "Fold 1\n",
      "Fold 2\n",
      "Fold 3\n"
     ]
    },
    {
     "name": "stderr",
     "output_type": "stream",
     "text": [
      "[I 2024-06-25 07:57:17,588] Trial 874 finished with value: 0.8319537583426246 and parameters: {'boosting_type': 'goss', 'num_leaves': 38, 'max_depth': 35, 'learning_rate': 0.031212131506872815, 'n_estimators': 982, 'min_child_samples': 54, 'subsample': 0.5882034135465559, 'colsample_bytree': 0.5435416373732932, 'reg_alpha': 0.0023398385723757543, 'reg_lambda': 1.1530174298980895, 'top_rate': 0.06766035183585563, 'other_rate': 0.47769326606341267, 'threshold': 52}. Best is trial 533 with value: 0.8334239392413227.\n"
     ]
    },
    {
     "name": "stdout",
     "output_type": "stream",
     "text": [
      "Score: 0.8319537583426246\n",
      "Fold 1\n",
      "Fold 2\n",
      "Fold 3\n"
     ]
    },
    {
     "name": "stderr",
     "output_type": "stream",
     "text": [
      "[I 2024-06-25 07:57:39,192] Trial 875 finished with value: 0.7858095704664807 and parameters: {'boosting_type': 'goss', 'num_leaves': 126, 'max_depth': 33, 'learning_rate': 0.1886033947173898, 'n_estimators': 377, 'min_child_samples': 62, 'subsample': 0.6344039181620743, 'colsample_bytree': 0.5114549681459379, 'reg_alpha': 0.010168078810536049, 'reg_lambda': 6.0106311024454665e-06, 'top_rate': 0.11792881811234615, 'other_rate': 0.03587160050780497, 'threshold': 68}. Best is trial 533 with value: 0.8334239392413227.\n"
     ]
    },
    {
     "name": "stdout",
     "output_type": "stream",
     "text": [
      "Score: 0.7858095704664807\n",
      "Fold 1\n",
      "Fold 2\n",
      "Fold 3\n"
     ]
    },
    {
     "name": "stderr",
     "output_type": "stream",
     "text": [
      "[I 2024-06-25 07:58:36,014] Trial 876 finished with value: 0.8242321828261817 and parameters: {'boosting_type': 'dart', 'num_leaves': 22, 'max_depth': 40, 'learning_rate': 0.3429960571505596, 'n_estimators': 955, 'min_child_samples': 43, 'subsample': 0.6145064644167626, 'colsample_bytree': 0.6775851231530399, 'reg_alpha': 0.2074753425388782, 'reg_lambda': 6.5822876143692595, 'drop_rate': 0.27881725553462433, 'skip_drop': 0.8510650961090183, 'threshold': 55}. Best is trial 533 with value: 0.8334239392413227.\n"
     ]
    },
    {
     "name": "stdout",
     "output_type": "stream",
     "text": [
      "Score: 0.8242321828261817\n",
      "Fold 1\n",
      "Fold 2\n",
      "Fold 3\n"
     ]
    },
    {
     "name": "stderr",
     "output_type": "stream",
     "text": [
      "[I 2024-06-25 07:59:26,572] Trial 877 finished with value: 0.475538039576432 and parameters: {'boosting_type': 'goss', 'num_leaves': 58, 'max_depth': 27, 'learning_rate': 4.541217074570531e-05, 'n_estimators': 921, 'min_child_samples': 48, 'subsample': 0.6768867644260632, 'colsample_bytree': 0.8792360450697386, 'reg_alpha': 1.6664206674082462e-07, 'reg_lambda': 0.20015076442980098, 'top_rate': 0.1408452782207712, 'other_rate': 0.05392225847811494, 'threshold': 61}. Best is trial 533 with value: 0.8334239392413227.\n"
     ]
    },
    {
     "name": "stdout",
     "output_type": "stream",
     "text": [
      "Score: 0.475538039576432\n",
      "Fold 1\n",
      "Fold 2\n",
      "Fold 3\n"
     ]
    },
    {
     "name": "stderr",
     "output_type": "stream",
     "text": [
      "[I 2024-06-25 07:59:40,432] Trial 878 finished with value: 0.8295940397047197 and parameters: {'boosting_type': 'goss', 'num_leaves': 29, 'max_depth': 31, 'learning_rate': 0.016628786918005366, 'n_estimators': 344, 'min_child_samples': 6, 'subsample': 0.9711076916920898, 'colsample_bytree': 0.6033360871823029, 'reg_alpha': 3.679561984133324e-06, 'reg_lambda': 9.269594665313909e-07, 'top_rate': 0.4853899388019833, 'other_rate': 0.4203415279687489, 'threshold': 65}. Best is trial 533 with value: 0.8334239392413227.\n"
     ]
    },
    {
     "name": "stdout",
     "output_type": "stream",
     "text": [
      "Score: 0.8295940397047197\n",
      "Fold 1\n",
      "Fold 2\n",
      "Fold 3\n"
     ]
    },
    {
     "name": "stderr",
     "output_type": "stream",
     "text": [
      "[I 2024-06-25 08:00:02,816] Trial 879 finished with value: 0.8310765832186021 and parameters: {'boosting_type': 'goss', 'num_leaves': 17, 'max_depth': 38, 'learning_rate': 0.06798370367524084, 'n_estimators': 976, 'min_child_samples': 100, 'subsample': 0.9913044792298238, 'colsample_bytree': 0.6432612445597997, 'reg_alpha': 0.2984400898647641, 'reg_lambda': 0.00028367673951634824, 'top_rate': 0.21787579367513593, 'other_rate': 0.45976686183128085, 'threshold': 59}. Best is trial 533 with value: 0.8334239392413227.\n"
     ]
    },
    {
     "name": "stdout",
     "output_type": "stream",
     "text": [
      "Score: 0.8310765832186021\n",
      "Fold 1\n",
      "Fold 2\n",
      "Fold 3\n"
     ]
    },
    {
     "name": "stderr",
     "output_type": "stream",
     "text": [
      "[I 2024-06-25 08:00:36,490] Trial 880 finished with value: 0.8324232144361862 and parameters: {'boosting_type': 'goss', 'num_leaves': 35, 'max_depth': 29, 'learning_rate': 0.024239190057106015, 'n_estimators': 948, 'min_child_samples': 52, 'subsample': 0.5785914224235366, 'colsample_bytree': 0.9299279337942735, 'reg_alpha': 0.025192733425236778, 'reg_lambda': 0.0020137587901798504, 'top_rate': 0.09017281729633583, 'other_rate': 0.44348771343370924, 'threshold': 62}. Best is trial 533 with value: 0.8334239392413227.\n"
     ]
    },
    {
     "name": "stdout",
     "output_type": "stream",
     "text": [
      "Score: 0.8324232144361862\n",
      "Fold 1\n",
      "Fold 2\n",
      "Fold 3\n"
     ]
    },
    {
     "name": "stderr",
     "output_type": "stream",
     "text": [
      "[I 2024-06-25 08:00:59,329] Trial 881 finished with value: 0.475538039576432 and parameters: {'boosting_type': 'goss', 'num_leaves': 45, 'max_depth': 36, 'learning_rate': 0.00017610954599167757, 'n_estimators': 586, 'min_child_samples': 57, 'subsample': 0.6038483341798945, 'colsample_bytree': 0.9387159464897906, 'reg_alpha': 4.822555533877353e-07, 'reg_lambda': 0.09516560014387736, 'top_rate': 0.3333148433545754, 'other_rate': 0.3513005907681065, 'threshold': 30}. Best is trial 533 with value: 0.8334239392413227.\n"
     ]
    },
    {
     "name": "stdout",
     "output_type": "stream",
     "text": [
      "Score: 0.475538039576432\n",
      "Fold 1\n",
      "Fold 2\n",
      "Fold 3\n"
     ]
    },
    {
     "name": "stderr",
     "output_type": "stream",
     "text": [
      "[I 2024-06-25 08:01:31,641] Trial 882 finished with value: 0.8309777473201428 and parameters: {'boosting_type': 'goss', 'num_leaves': 25, 'max_depth': 34, 'learning_rate': 0.008033963446447861, 'n_estimators': 983, 'min_child_samples': 49, 'subsample': 0.6494578359319927, 'colsample_bytree': 0.7271496619351072, 'reg_alpha': 7.653196843855998e-08, 'reg_lambda': 0.005839872973570284, 'top_rate': 0.15275729233832944, 'other_rate': 0.16726524450461108, 'threshold': 73}. Best is trial 533 with value: 0.8334239392413227.\n"
     ]
    },
    {
     "name": "stdout",
     "output_type": "stream",
     "text": [
      "Score: 0.8309777473201428\n",
      "Fold 1\n",
      "Fold 2\n",
      "Fold 3\n"
     ]
    },
    {
     "name": "stderr",
     "output_type": "stream",
     "text": [
      "[I 2024-06-25 08:01:52,990] Trial 883 finished with value: 0.8313483876632218 and parameters: {'boosting_type': 'goss', 'num_leaves': 52, 'max_depth': 52, 'learning_rate': 0.014922441905241477, 'n_estimators': 464, 'min_child_samples': 60, 'subsample': 0.893353273077027, 'colsample_bytree': 0.6532212111264627, 'reg_alpha': 1.0160627209458851e-08, 'reg_lambda': 3.0767947150043025, 'top_rate': 0.2101358162318382, 'other_rate': 0.34844559337834063, 'threshold': 57}. Best is trial 533 with value: 0.8334239392413227.\n"
     ]
    },
    {
     "name": "stdout",
     "output_type": "stream",
     "text": [
      "Score: 0.8313483876632218\n",
      "Fold 1\n",
      "Fold 2\n",
      "Fold 3\n"
     ]
    },
    {
     "name": "stderr",
     "output_type": "stream",
     "text": [
      "[I 2024-06-25 08:02:19,015] Trial 884 finished with value: 0.8314348778891133 and parameters: {'boosting_type': 'goss', 'num_leaves': 21, 'max_depth': 32, 'learning_rate': 0.03759268467471334, 'n_estimators': 933, 'min_child_samples': 55, 'subsample': 0.8625921539301074, 'colsample_bytree': 0.5337865179242296, 'reg_alpha': 3.7792564701677516e-05, 'reg_lambda': 0.7627375215760256, 'top_rate': 0.04707114108965749, 'other_rate': 0.18912992845668575, 'threshold': 60}. Best is trial 533 with value: 0.8334239392413227.\n"
     ]
    },
    {
     "name": "stdout",
     "output_type": "stream",
     "text": [
      "Score: 0.8314348778891133\n",
      "Fold 1\n",
      "Fold 2\n",
      "Fold 3\n"
     ]
    },
    {
     "name": "stderr",
     "output_type": "stream",
     "text": [
      "[I 2024-06-25 08:02:56,142] Trial 885 finished with value: 0.8186355960692286 and parameters: {'boosting_type': 'goss', 'num_leaves': 36, 'max_depth': 30, 'learning_rate': 0.0012021862544613759, 'n_estimators': 960, 'min_child_samples': 46, 'subsample': 0.6240250221012705, 'colsample_bytree': 0.9775925948271849, 'reg_alpha': 0.7727865376530907, 'reg_lambda': 2.1715092375150324, 'top_rate': 0.1062150037112951, 'other_rate': 0.49030137612365127, 'threshold': 54}. Best is trial 533 with value: 0.8334239392413227.\n"
     ]
    },
    {
     "name": "stdout",
     "output_type": "stream",
     "text": [
      "Score: 0.8186355960692286\n",
      "Fold 1\n",
      "Fold 2\n",
      "Fold 3\n"
     ]
    },
    {
     "name": "stderr",
     "output_type": "stream",
     "text": [
      "[I 2024-06-25 08:03:30,500] Trial 886 finished with value: 0.8321267099461686 and parameters: {'boosting_type': 'goss', 'num_leaves': 29, 'max_depth': 34, 'learning_rate': 0.02557671324997843, 'n_estimators': 1000, 'min_child_samples': 41, 'subsample': 0.7105269574328487, 'colsample_bytree': 0.700759462324167, 'reg_alpha': 7.291595607962989e-06, 'reg_lambda': 0.037423559081893376, 'top_rate': 0.17800009854681323, 'other_rate': 0.18060591413792673, 'threshold': 63}. Best is trial 533 with value: 0.8334239392413227.\n"
     ]
    },
    {
     "name": "stdout",
     "output_type": "stream",
     "text": [
      "Score: 0.8321267099461686\n",
      "Fold 1\n",
      "Fold 2\n",
      "Fold 3\n"
     ]
    },
    {
     "name": "stderr",
     "output_type": "stream",
     "text": [
      "[I 2024-06-25 08:04:00,319] Trial 887 finished with value: 0.8304588586242776 and parameters: {'boosting_type': 'goss', 'num_leaves': 43, 'max_depth': 28, 'learning_rate': 0.05178085871089923, 'n_estimators': 836, 'min_child_samples': 52, 'subsample': 0.7702216776777734, 'colsample_bytree': 0.6219782105387149, 'reg_alpha': 0.004307647110154367, 'reg_lambda': 5.423745542682673e-08, 'top_rate': 0.1267123122961076, 'other_rate': 0.48116986253306987, 'threshold': 49}. Best is trial 533 with value: 0.8334239392413227.\n"
     ]
    },
    {
     "name": "stdout",
     "output_type": "stream",
     "text": [
      "Score: 0.8304588586242776\n",
      "Fold 1\n",
      "Fold 2\n",
      "Fold 3\n"
     ]
    },
    {
     "name": "stderr",
     "output_type": "stream",
     "text": [
      "[I 2024-06-25 08:04:23,021] Trial 888 finished with value: 0.8208593859261274 and parameters: {'boosting_type': 'goss', 'num_leaves': 12, 'max_depth': 37, 'learning_rate': 0.002829306041222532, 'n_estimators': 970, 'min_child_samples': 50, 'subsample': 0.6662958437528506, 'colsample_bytree': 0.7929329606874981, 'reg_alpha': 1.352171591362091e-05, 'reg_lambda': 1.6055180774350282e-07, 'top_rate': 0.06297357331012188, 'other_rate': 0.12357600416648772, 'threshold': 65}. Best is trial 533 with value: 0.8334239392413227.\n"
     ]
    },
    {
     "name": "stdout",
     "output_type": "stream",
     "text": [
      "Score: 0.8208593859261274\n",
      "Fold 1\n",
      "Fold 2\n",
      "Fold 3\n"
     ]
    },
    {
     "name": "stderr",
     "output_type": "stream",
     "text": [
      "[I 2024-06-25 08:05:04,072] Trial 889 finished with value: 0.8322502564219225 and parameters: {'boosting_type': 'goss', 'num_leaves': 48, 'max_depth': 35, 'learning_rate': 0.010827477373669653, 'n_estimators': 912, 'min_child_samples': 58, 'subsample': 0.7199463682417196, 'colsample_bytree': 0.6370460522824108, 'reg_alpha': 0.13141683219816871, 'reg_lambda': 9.992715723804169, 'top_rate': 0.40666488169688564, 'other_rate': 0.3418447405575672, 'threshold': 57}. Best is trial 533 with value: 0.8334239392413227.\n"
     ]
    },
    {
     "name": "stdout",
     "output_type": "stream",
     "text": [
      "Score: 0.8322502564219225\n",
      "Fold 1\n",
      "Fold 2\n",
      "Fold 3\n"
     ]
    },
    {
     "name": "stderr",
     "output_type": "stream",
     "text": [
      "[I 2024-06-25 08:05:51,656] Trial 890 finished with value: 0.8325961916826095 and parameters: {'boosting_type': 'goss', 'num_leaves': 68, 'max_depth': 31, 'learning_rate': 0.017241006025372457, 'n_estimators': 949, 'min_child_samples': 47, 'subsample': 0.9228538525075693, 'colsample_bytree': 0.6098536930241284, 'reg_alpha': 2.123914785650739, 'reg_lambda': 7.695318351205609e-05, 'top_rate': 0.240711652201045, 'other_rate': 0.3293614434010069, 'threshold': 61}. Best is trial 533 with value: 0.8334239392413227.\n"
     ]
    },
    {
     "name": "stdout",
     "output_type": "stream",
     "text": [
      "Score: 0.8325961916826095\n",
      "Fold 1\n",
      "Fold 2\n",
      "Fold 3\n"
     ]
    },
    {
     "name": "stderr",
     "output_type": "stream",
     "text": [
      "[I 2024-06-25 08:06:34,405] Trial 891 finished with value: 0.7076548449605428 and parameters: {'boosting_type': 'goss', 'num_leaves': 85, 'max_depth': 48, 'learning_rate': 0.00026517279480121837, 'n_estimators': 652, 'min_child_samples': 44, 'subsample': 0.7550366451855537, 'colsample_bytree': 0.6308050597405381, 'reg_alpha': 8.36428110205578e-05, 'reg_lambda': 0.414179133335736, 'top_rate': 0.0815534686734462, 'other_rate': 0.15348290621587854, 'threshold': 47}. Best is trial 533 with value: 0.8334239392413227.\n"
     ]
    },
    {
     "name": "stdout",
     "output_type": "stream",
     "text": [
      "Score: 0.7076548449605428\n",
      "Fold 1\n",
      "Fold 2\n",
      "Fold 3\n"
     ]
    },
    {
     "name": "stderr",
     "output_type": "stream",
     "text": [
      "[I 2024-06-25 08:06:53,101] Trial 892 finished with value: 0.5749536044761917 and parameters: {'boosting_type': 'goss', 'num_leaves': 25, 'max_depth': 33, 'learning_rate': 0.568235605477016, 'n_estimators': 934, 'min_child_samples': 55, 'subsample': 0.8078166082980508, 'colsample_bytree': 0.6682693270659896, 'reg_alpha': 0.0001325505802075294, 'reg_lambda': 0.0006891175890557412, 'top_rate': 0.01957258167279785, 'other_rate': 0.13416423747366632, 'threshold': 58}. Best is trial 533 with value: 0.8334239392413227.\n"
     ]
    },
    {
     "name": "stdout",
     "output_type": "stream",
     "text": [
      "Score: 0.5749536044761917\n",
      "Fold 1\n",
      "Fold 2\n",
      "Fold 3\n"
     ]
    },
    {
     "name": "stderr",
     "output_type": "stream",
     "text": [
      "[I 2024-06-25 08:07:33,224] Trial 893 finished with value: 0.8170171448381338 and parameters: {'boosting_type': 'gbdt', 'num_leaves': 39, 'max_depth': 27, 'learning_rate': 0.000970011577776432, 'n_estimators': 983, 'min_child_samples': 62, 'subsample': 0.5915089366541335, 'colsample_bytree': 0.8374137037394338, 'reg_alpha': 0.00023464221356329267, 'reg_lambda': 1.6572801942148143, 'threshold': 52}. Best is trial 533 with value: 0.8334239392413227.\n"
     ]
    },
    {
     "name": "stdout",
     "output_type": "stream",
     "text": [
      "Score: 0.8170171448381338\n",
      "Fold 1\n",
      "Fold 2\n",
      "Fold 3\n"
     ]
    },
    {
     "name": "stderr",
     "output_type": "stream",
     "text": [
      "[I 2024-06-25 08:08:10,638] Trial 894 finished with value: 0.8245410448943896 and parameters: {'boosting_type': 'goss', 'num_leaves': 61, 'max_depth': 38, 'learning_rate': 0.16402488110440314, 'n_estimators': 958, 'min_child_samples': 53, 'subsample': 0.6970066440725069, 'colsample_bytree': 0.5948464024675738, 'reg_alpha': 0.05992743187579267, 'reg_lambda': 4.17540306664014e-06, 'top_rate': 0.47735065578641656, 'other_rate': 0.24417790150739285, 'threshold': 55}. Best is trial 533 with value: 0.8334239392413227.\n"
     ]
    },
    {
     "name": "stdout",
     "output_type": "stream",
     "text": [
      "Score: 0.8245410448943896\n",
      "Fold 1\n",
      "Fold 2\n",
      "Fold 3\n"
     ]
    },
    {
     "name": "stderr",
     "output_type": "stream",
     "text": [
      "[I 2024-06-25 08:08:45,172] Trial 895 finished with value: 0.475538039576432 and parameters: {'boosting_type': 'goss', 'num_leaves': 33, 'max_depth': 30, 'learning_rate': 8.402940047607053e-08, 'n_estimators': 898, 'min_child_samples': 50, 'subsample': 0.9507086340998705, 'colsample_bytree': 0.6486595592070992, 'reg_alpha': 0.00021013202629024236, 'reg_lambda': 9.805443979656303e-06, 'top_rate': 0.0330947375143094, 'other_rate': 0.4682895580164522, 'threshold': 84}. Best is trial 533 with value: 0.8334239392413227.\n"
     ]
    },
    {
     "name": "stdout",
     "output_type": "stream",
     "text": [
      "Score: 0.475538039576432\n",
      "Fold 1\n",
      "Fold 2\n",
      "Fold 3\n"
     ]
    },
    {
     "name": "stderr",
     "output_type": "stream",
     "text": [
      "[I 2024-06-25 08:09:02,447] Trial 896 finished with value: 0.8310518767624844 and parameters: {'boosting_type': 'goss', 'num_leaves': 7, 'max_depth': 24, 'learning_rate': 0.03155574913265765, 'n_estimators': 1000, 'min_child_samples': 57, 'subsample': 0.9356038673524785, 'colsample_bytree': 0.7550650931207822, 'reg_alpha': 2.777550646662265e-07, 'reg_lambda': 4.986885273418487, 'top_rate': 0.09933829138379727, 'other_rate': 0.4999982904758641, 'threshold': 67}. Best is trial 533 with value: 0.8334239392413227.\n"
     ]
    },
    {
     "name": "stdout",
     "output_type": "stream",
     "text": [
      "Score: 0.8310518767624844\n",
      "Fold 1\n",
      "Fold 2\n",
      "Fold 3\n"
     ]
    },
    {
     "name": "stderr",
     "output_type": "stream",
     "text": [
      "[I 2024-06-25 08:09:29,247] Trial 897 finished with value: 0.8308789086742324 and parameters: {'boosting_type': 'dart', 'num_leaves': 18, 'max_depth': 35, 'learning_rate': 0.014088915877651893, 'n_estimators': 976, 'min_child_samples': 46, 'subsample': 0.540660627362816, 'colsample_bytree': 0.8132221184608085, 'reg_alpha': 0.4027106187867548, 'reg_lambda': 2.4933161865766013e-05, 'drop_rate': 0.45055733585688273, 'skip_drop': 0.9981860702304669, 'threshold': 63}. Best is trial 533 with value: 0.8334239392413227.\n"
     ]
    },
    {
     "name": "stdout",
     "output_type": "stream",
     "text": [
      "Score: 0.8308789086742324\n",
      "Fold 1\n",
      "Fold 2\n",
      "Fold 3\n"
     ]
    },
    {
     "name": "stderr",
     "output_type": "stream",
     "text": [
      "[I 2024-06-25 08:10:19,332] Trial 898 finished with value: 0.475538039576432 and parameters: {'boosting_type': 'goss', 'num_leaves': 56, 'max_depth': 32, 'learning_rate': 9.910520371585847e-06, 'n_estimators': 949, 'min_child_samples': 59, 'subsample': 0.5586005695707222, 'colsample_bytree': 0.6195468470842929, 'reg_alpha': 0.16910644744281284, 'reg_lambda': 0.02668742667958295, 'top_rate': 0.1132989111835427, 'other_rate': 0.21806653085283978, 'threshold': 60}. Best is trial 533 with value: 0.8334239392413227.\n"
     ]
    },
    {
     "name": "stdout",
     "output_type": "stream",
     "text": [
      "Score: 0.475538039576432\n",
      "Fold 1\n",
      "Fold 2\n",
      "Fold 3\n"
     ]
    },
    {
     "name": "stderr",
     "output_type": "stream",
     "text": [
      "[I 2024-06-25 08:10:34,278] Trial 899 finished with value: 0.6119955268378511 and parameters: {'boosting_type': 'goss', 'num_leaves': 29, 'max_depth': 36, 'learning_rate': 0.7363567685752297, 'n_estimators': 815, 'min_child_samples': 40, 'subsample': 0.5139166287222549, 'colsample_bytree': 0.8302411514635148, 'reg_alpha': 1.8391071693123423e-08, 'reg_lambda': 0.21337733091584168, 'top_rate': 0.0012144061315084373, 'other_rate': 0.09388536610042676, 'threshold': 58}. Best is trial 533 with value: 0.8334239392413227.\n"
     ]
    },
    {
     "name": "stdout",
     "output_type": "stream",
     "text": [
      "Score: 0.6119955268378511\n",
      "Fold 1\n",
      "Fold 2\n",
      "Fold 3\n"
     ]
    },
    {
     "name": "stderr",
     "output_type": "stream",
     "text": [
      "[I 2024-06-25 08:11:02,963] Trial 900 finished with value: 0.8297917147069981 and parameters: {'boosting_type': 'goss', 'num_leaves': 24, 'max_depth': 28, 'learning_rate': 0.007678012949465939, 'n_estimators': 927, 'min_child_samples': 48, 'subsample': 0.841180084516672, 'colsample_bytree': 0.9431366785896721, 'reg_alpha': 0.013306712213864398, 'reg_lambda': 0.05563861994652591, 'top_rate': 0.38652400515497043, 'other_rate': 0.15214534313521852, 'threshold': 62}. Best is trial 533 with value: 0.8334239392413227.\n"
     ]
    },
    {
     "name": "stdout",
     "output_type": "stream",
     "text": [
      "Score: 0.8297917147069981\n",
      "Fold 1\n",
      "Fold 2\n",
      "Fold 3\n"
     ]
    },
    {
     "name": "stderr",
     "output_type": "stream",
     "text": [
      "[I 2024-06-25 08:11:40,611] Trial 901 finished with value: 0.475538039576432 and parameters: {'boosting_type': 'goss', 'num_leaves': 42, 'max_depth': 33, 'learning_rate': 4.6876057251211214e-05, 'n_estimators': 878, 'min_child_samples': 43, 'subsample': 0.6131886213124287, 'colsample_bytree': 0.9544830913710486, 'reg_alpha': 0.08909435510960113, 'reg_lambda': 4.818552830224608e-05, 'top_rate': 0.1379814457472417, 'other_rate': 0.47568392249508273, 'threshold': 69}. Best is trial 533 with value: 0.8334239392413227.\n"
     ]
    },
    {
     "name": "stdout",
     "output_type": "stream",
     "text": [
      "Score: 0.475538039576432\n",
      "Fold 1\n",
      "Fold 2\n",
      "Fold 3\n"
     ]
    },
    {
     "name": "stderr",
     "output_type": "stream",
     "text": [
      "[I 2024-06-25 08:12:28,528] Trial 902 finished with value: 0.475538039576432 and parameters: {'boosting_type': 'goss', 'num_leaves': 50, 'max_depth': 31, 'learning_rate': 5.2302887944928795e-06, 'n_estimators': 967, 'min_child_samples': 55, 'subsample': 0.8792309442857593, 'colsample_bytree': 0.6909521991345552, 'reg_alpha': 0.5255366417320783, 'reg_lambda': 4.389642171228024e-07, 'top_rate': 0.2613243631372931, 'other_rate': 0.17338260996224905, 'threshold': 50}. Best is trial 533 with value: 0.8334239392413227.\n"
     ]
    },
    {
     "name": "stdout",
     "output_type": "stream",
     "text": [
      "Score: 0.475538039576432\n",
      "Fold 1\n",
      "Fold 2\n",
      "Fold 3\n"
     ]
    },
    {
     "name": "stderr",
     "output_type": "stream",
     "text": [
      "[I 2024-06-25 08:13:06,849] Trial 903 finished with value: 0.475538039576432 and parameters: {'boosting_type': 'goss', 'num_leaves': 33, 'max_depth': 25, 'learning_rate': 3.1367797582002705e-07, 'n_estimators': 943, 'min_child_samples': 53, 'subsample': 0.9617112953609939, 'colsample_bytree': 0.5500707169588026, 'reg_alpha': 8.864334804114029e-06, 'reg_lambda': 0.001306400147734759, 'top_rate': 0.09216101672478441, 'other_rate': 0.15584752615630013, 'threshold': 64}. Best is trial 533 with value: 0.8334239392413227.\n"
     ]
    },
    {
     "name": "stdout",
     "output_type": "stream",
     "text": [
      "Score: 0.475538039576432\n",
      "Fold 1\n",
      "Fold 2\n",
      "Fold 3\n"
     ]
    },
    {
     "name": "stderr",
     "output_type": "stream",
     "text": [
      "[I 2024-06-25 08:13:30,416] Trial 904 finished with value: 0.830903630699241 and parameters: {'boosting_type': 'goss', 'num_leaves': 17, 'max_depth': 29, 'learning_rate': 0.022265708871210606, 'n_estimators': 985, 'min_child_samples': 51, 'subsample': 0.5689187632119908, 'colsample_bytree': 0.6300157267234674, 'reg_alpha': 5.3625841570603145e-05, 'reg_lambda': 2.853218963631554e-08, 'top_rate': 0.07381587748587165, 'other_rate': 0.08048413960124369, 'threshold': 54}. Best is trial 533 with value: 0.8334239392413227.\n"
     ]
    },
    {
     "name": "stdout",
     "output_type": "stream",
     "text": [
      "Score: 0.830903630699241\n",
      "Fold 1\n",
      "Fold 2\n",
      "Fold 3\n"
     ]
    },
    {
     "name": "stderr",
     "output_type": "stream",
     "text": [
      "[I 2024-06-25 08:13:35,976] Trial 905 finished with value: 0.475538039576432 and parameters: {'boosting_type': 'goss', 'num_leaves': 37, 'max_depth': 40, 'learning_rate': 2.4870824200314565e-08, 'n_estimators': 105, 'min_child_samples': 46, 'subsample': 0.8705860747042903, 'colsample_bytree': 0.6556281455951092, 'reg_alpha': 0.9250904342406975, 'reg_lambda': 0.00012085369026695934, 'top_rate': 0.17074949477252882, 'other_rate': 0.4082064622373066, 'threshold': 60}. Best is trial 533 with value: 0.8334239392413227.\n"
     ]
    },
    {
     "name": "stdout",
     "output_type": "stream",
     "text": [
      "Score: 0.475538039576432\n",
      "Fold 1\n",
      "Fold 2\n",
      "Fold 3\n"
     ]
    },
    {
     "name": "stderr",
     "output_type": "stream",
     "text": [
      "[I 2024-06-25 08:14:06,131] Trial 906 finished with value: 0.475538039576432 and parameters: {'boosting_type': 'goss', 'num_leaves': 27, 'max_depth': 37, 'learning_rate': 7.594829070599772e-05, 'n_estimators': 918, 'min_child_samples': 60, 'subsample': 0.6412758435104504, 'colsample_bytree': 0.6401244648409298, 'reg_alpha': 0.0005631922961742862, 'reg_lambda': 0.12789241021079822, 'top_rate': 0.058507891202606244, 'other_rate': 0.44955194996074654, 'threshold': 44}. Best is trial 533 with value: 0.8334239392413227.\n"
     ]
    },
    {
     "name": "stdout",
     "output_type": "stream",
     "text": [
      "Score: 0.475538039576432\n",
      "Fold 1\n",
      "Fold 2\n",
      "Fold 3\n"
     ]
    },
    {
     "name": "stderr",
     "output_type": "stream",
     "text": [
      "[I 2024-06-25 08:14:37,608] Trial 907 finished with value: 0.475538039576432 and parameters: {'boosting_type': 'goss', 'num_leaves': 21, 'max_depth': 34, 'learning_rate': 7.337599867751501e-07, 'n_estimators': 966, 'min_child_samples': 49, 'subsample': 0.7296056187179258, 'colsample_bytree': 0.6060317118977816, 'reg_alpha': 0.2612168697291217, 'reg_lambda': 0.003885822933660898, 'top_rate': 0.23034582199363127, 'other_rate': 0.000919914167071989, 'threshold': 56}. Best is trial 533 with value: 0.8334239392413227.\n"
     ]
    },
    {
     "name": "stdout",
     "output_type": "stream",
     "text": [
      "Score: 0.475538039576432\n",
      "Fold 1\n",
      "Fold 2\n",
      "Fold 3\n"
     ]
    },
    {
     "name": "stderr",
     "output_type": "stream",
     "text": [
      "[I 2024-06-25 08:15:17,949] Trial 908 finished with value: 0.8298658349911684 and parameters: {'boosting_type': 'goss', 'num_leaves': 46, 'max_depth': 26, 'learning_rate': 0.00496673966790863, 'n_estimators': 944, 'min_child_samples': 56, 'subsample': 0.62739493267736, 'colsample_bytree': 0.8235551668764706, 'reg_alpha': 4.2405274365787065e-08, 'reg_lambda': 0.5681835437362235, 'top_rate': 0.08482608013566723, 'other_rate': 0.4841513653424036, 'threshold': 66}. Best is trial 533 with value: 0.8334239392413227.\n"
     ]
    },
    {
     "name": "stdout",
     "output_type": "stream",
     "text": [
      "Score: 0.8298658349911684\n",
      "Fold 1\n",
      "Fold 2\n",
      "Fold 3\n"
     ]
    },
    {
     "name": "stderr",
     "output_type": "stream",
     "text": [
      "[I 2024-06-25 08:15:29,635] Trial 909 finished with value: 0.475538039576432 and parameters: {'boosting_type': 'goss', 'num_leaves': 2, 'max_depth': 62, 'learning_rate': 1.3827596600718387e-06, 'n_estimators': 986, 'min_child_samples': 42, 'subsample': 0.6022475704673466, 'colsample_bytree': 0.6174538905332506, 'reg_alpha': 3.58092660580519, 'reg_lambda': 6.704642696480858, 'top_rate': 0.04856627255203136, 'other_rate': 0.42819729203694995, 'threshold': 58}. Best is trial 533 with value: 0.8334239392413227.\n"
     ]
    },
    {
     "name": "stdout",
     "output_type": "stream",
     "text": [
      "Score: 0.475538039576432\n",
      "Fold 1\n",
      "Fold 2\n",
      "Fold 3\n"
     ]
    },
    {
     "name": "stderr",
     "output_type": "stream",
     "text": [
      "[I 2024-06-25 08:15:57,734] Trial 910 finished with value: 0.8315213392667659 and parameters: {'boosting_type': 'goss', 'num_leaves': 30, 'max_depth': 36, 'learning_rate': 0.05310731934154559, 'n_estimators': 907, 'min_child_samples': 34, 'subsample': 0.7873858110809191, 'colsample_bytree': 0.5872166425335117, 'reg_alpha': 1.5111405240811868, 'reg_lambda': 1.262136431813594, 'top_rate': 0.3989210363563038, 'other_rate': 0.46043565182048324, 'threshold': 62}. Best is trial 533 with value: 0.8334239392413227.\n"
     ]
    },
    {
     "name": "stdout",
     "output_type": "stream",
     "text": [
      "Score: 0.8315213392667659\n",
      "Fold 1\n",
      "Fold 2\n",
      "Fold 3\n"
     ]
    },
    {
     "name": "stderr",
     "output_type": "stream",
     "text": [
      "[I 2024-06-25 08:16:37,920] Trial 911 finished with value: 0.8323614503564803 and parameters: {'boosting_type': 'goss', 'num_leaves': 41, 'max_depth': 33, 'learning_rate': 0.017109985246871955, 'n_estimators': 968, 'min_child_samples': 45, 'subsample': 0.9088980597537863, 'colsample_bytree': 0.8937173855557594, 'reg_alpha': 0.0011742961162279552, 'reg_lambda': 2.003851292168538e-06, 'top_rate': 0.13133910432712464, 'other_rate': 0.26439801953515285, 'threshold': 51}. Best is trial 533 with value: 0.8334239392413227.\n"
     ]
    },
    {
     "name": "stdout",
     "output_type": "stream",
     "text": [
      "Score: 0.8323614503564803\n",
      "Fold 1\n",
      "Fold 2\n",
      "Fold 3\n"
     ]
    },
    {
     "name": "stderr",
     "output_type": "stream",
     "text": [
      "[I 2024-06-25 08:17:00,909] Trial 912 finished with value: 0.8299029196313613 and parameters: {'boosting_type': 'goss', 'num_leaves': 13, 'max_depth': 29, 'learning_rate': 0.08378212402506056, 'n_estimators': 952, 'min_child_samples': 24, 'subsample': 0.6543855773245395, 'colsample_bytree': 0.6670236427807603, 'reg_alpha': 0.3763473302265403, 'reg_lambda': 0.002204489091452429, 'top_rate': 0.15962694481898193, 'other_rate': 0.19941370440130957, 'threshold': 59}. Best is trial 533 with value: 0.8334239392413227.\n"
     ]
    },
    {
     "name": "stdout",
     "output_type": "stream",
     "text": [
      "Score: 0.8299029196313613\n",
      "Fold 1\n",
      "Fold 2\n",
      "Fold 3\n"
     ]
    },
    {
     "name": "stderr",
     "output_type": "stream",
     "text": [
      "[I 2024-06-25 08:17:43,765] Trial 913 finished with value: 0.8328309215610247 and parameters: {'boosting_type': 'goss', 'num_leaves': 55, 'max_depth': 39, 'learning_rate': 0.01071125326826871, 'n_estimators': 931, 'min_child_samples': 64, 'subsample': 0.5243721259280953, 'colsample_bytree': 0.6277482774449143, 'reg_alpha': 0.03875847923563807, 'reg_lambda': 3.5388107723502693, 'top_rate': 0.1125511024769922, 'other_rate': 0.49127136156874174, 'threshold': 64}. Best is trial 533 with value: 0.8334239392413227.\n"
     ]
    },
    {
     "name": "stdout",
     "output_type": "stream",
     "text": [
      "Score: 0.8328309215610247\n",
      "Fold 1\n",
      "Fold 2\n",
      "Fold 3\n"
     ]
    },
    {
     "name": "stderr",
     "output_type": "stream",
     "text": [
      "[I 2024-06-25 08:18:16,594] Trial 914 finished with value: 0.8319413925220803 and parameters: {'boosting_type': 'goss', 'num_leaves': 36, 'max_depth': 31, 'learning_rate': 0.03424195804709112, 'n_estimators': 985, 'min_child_samples': 53, 'subsample': 0.6854726588861978, 'colsample_bytree': 0.7433478345266149, 'reg_alpha': 1.2918199426563351e-06, 'reg_lambda': 0.015766193465974666, 'top_rate': 0.09824671796038117, 'other_rate': 0.47372342743898044, 'threshold': 61}. Best is trial 533 with value: 0.8334239392413227.\n"
     ]
    },
    {
     "name": "stdout",
     "output_type": "stream",
     "text": [
      "Score: 0.8319413925220803\n",
      "Fold 1\n",
      "Fold 2\n",
      "Fold 3\n"
     ]
    },
    {
     "name": "stderr",
     "output_type": "stream",
     "text": [
      "[I 2024-06-25 08:18:43,087] Trial 915 finished with value: 0.8325838327306935 and parameters: {'boosting_type': 'goss', 'num_leaves': 23, 'max_depth': 35, 'learning_rate': 0.022258921416399104, 'n_estimators': 969, 'min_child_samples': 19, 'subsample': 0.7987431470337611, 'colsample_bytree': 0.6399380460629926, 'reg_alpha': 0.019535114231039374, 'reg_lambda': 0.30442113071311067, 'top_rate': 0.12175695730734892, 'other_rate': 0.4412543109064262, 'threshold': 92}. Best is trial 533 with value: 0.8334239392413227.\n"
     ]
    },
    {
     "name": "stdout",
     "output_type": "stream",
     "text": [
      "Score: 0.8325838327306935\n",
      "Fold 1\n",
      "Fold 2\n",
      "Fold 3\n"
     ]
    },
    {
     "name": "stderr",
     "output_type": "stream",
     "text": [
      "[I 2024-06-25 08:18:56,358] Trial 916 finished with value: 0.8283338831441359 and parameters: {'boosting_type': 'gbdt', 'num_leaves': 50, 'max_depth': 32, 'learning_rate': 0.012452505220254753, 'n_estimators': 264, 'min_child_samples': 58, 'subsample': 0.5781751996790017, 'colsample_bytree': 0.7189135277500446, 'reg_alpha': 0.001975138432404146, 'reg_lambda': 0.0002241611391797101, 'threshold': 56}. Best is trial 533 with value: 0.8334239392413227.\n"
     ]
    },
    {
     "name": "stdout",
     "output_type": "stream",
     "text": [
      "Score: 0.8283338831441359\n",
      "Fold 1\n",
      "Fold 2\n",
      "Fold 3\n"
     ]
    },
    {
     "name": "stderr",
     "output_type": "stream",
     "text": [
      "[I 2024-06-25 08:19:32,427] Trial 917 finished with value: 0.8033283097101515 and parameters: {'boosting_type': 'goss', 'num_leaves': 31, 'max_depth': 34, 'learning_rate': 0.0006218276998098668, 'n_estimators': 1000, 'min_child_samples': 50, 'subsample': 0.767228804878131, 'colsample_bytree': 0.610375215555083, 'reg_alpha': 0.6743215235103429, 'reg_lambda': 1.0054327439546239e-07, 'top_rate': 0.14456165099810261, 'other_rate': 0.4856910721085351, 'threshold': 98}. Best is trial 533 with value: 0.8334239392413227.\n"
     ]
    },
    {
     "name": "stdout",
     "output_type": "stream",
     "text": [
      "Score: 0.8033283097101515\n",
      "Fold 1\n",
      "Fold 2\n",
      "Fold 3\n"
     ]
    },
    {
     "name": "stderr",
     "output_type": "stream",
     "text": [
      "[I 2024-06-25 08:20:19,293] Trial 918 finished with value: 0.475538039576432 and parameters: {'boosting_type': 'goss', 'num_leaves': 62, 'max_depth': 38, 'learning_rate': 1.5127389855028155e-07, 'n_estimators': 950, 'min_child_samples': 48, 'subsample': 0.8256346155879563, 'colsample_bytree': 0.9110407127526252, 'reg_alpha': 0.1888070490410369, 'reg_lambda': 0.007426081211784947, 'top_rate': 0.32553735227254954, 'other_rate': 0.37895530139852396, 'threshold': 48}. Best is trial 533 with value: 0.8334239392413227.\n"
     ]
    },
    {
     "name": "stdout",
     "output_type": "stream",
     "text": [
      "Score: 0.475538039576432\n",
      "Fold 1\n",
      "Fold 2\n",
      "Fold 3\n"
     ]
    },
    {
     "name": "stderr",
     "output_type": "stream",
     "text": [
      "[I 2024-06-25 08:21:30,835] Trial 919 finished with value: 0.831644903143045 and parameters: {'boosting_type': 'dart', 'num_leaves': 20, 'max_depth': 30, 'learning_rate': 0.039167921195879155, 'n_estimators': 923, 'min_child_samples': 44, 'subsample': 0.7386787195805505, 'colsample_bytree': 0.7848239302475468, 'reg_alpha': 2.8443978582889047e-08, 'reg_lambda': 2.325926345137952, 'drop_rate': 0.3069027479931742, 'skip_drop': 0.8851178702341427, 'threshold': 53}. Best is trial 533 with value: 0.8334239392413227.\n"
     ]
    },
    {
     "name": "stdout",
     "output_type": "stream",
     "text": [
      "Score: 0.831644903143045\n",
      "Fold 1\n",
      "Fold 2\n",
      "Fold 3\n"
     ]
    },
    {
     "name": "stderr",
     "output_type": "stream",
     "text": [
      "[I 2024-06-25 08:21:55,326] Trial 920 finished with value: 0.8314966328106482 and parameters: {'boosting_type': 'goss', 'num_leaves': 27, 'max_depth': 28, 'learning_rate': 0.01798918193515848, 'n_estimators': 768, 'min_child_samples': 61, 'subsample': 0.6372789882015776, 'colsample_bytree': 0.648220111774007, 'reg_alpha': 4.296957243061202e-06, 'reg_lambda': 6.026715655812713e-07, 'top_rate': 0.2517438445264032, 'other_rate': 0.41429431963433555, 'threshold': 60}. Best is trial 533 with value: 0.8334239392413227.\n"
     ]
    },
    {
     "name": "stdout",
     "output_type": "stream",
     "text": [
      "Score: 0.8314966328106482\n",
      "Fold 1\n",
      "Fold 2\n",
      "Fold 3\n"
     ]
    },
    {
     "name": "stderr",
     "output_type": "stream",
     "text": [
      "[I 2024-06-25 08:22:27,708] Trial 921 finished with value: 0.826258313249693 and parameters: {'boosting_type': 'goss', 'num_leaves': 41, 'max_depth': 33, 'learning_rate': 0.1252311232212125, 'n_estimators': 970, 'min_child_samples': 55, 'subsample': 0.9271813335195805, 'colsample_bytree': 0.9206552233451638, 'reg_alpha': 0.12295652440204163, 'reg_lambda': 0.08390218242837602, 'top_rate': 0.3075170418707178, 'other_rate': 0.39785986041360766, 'threshold': 66}. Best is trial 533 with value: 0.8334239392413227.\n"
     ]
    },
    {
     "name": "stdout",
     "output_type": "stream",
     "text": [
      "Score: 0.826258313249693\n",
      "Fold 1\n",
      "Fold 2\n",
      "Fold 3\n"
     ]
    },
    {
     "name": "stderr",
     "output_type": "stream",
     "text": [
      "[I 2024-06-25 08:23:05,863] Trial 922 finished with value: 0.475538039576432 and parameters: {'boosting_type': 'goss', 'num_leaves': 33, 'max_depth': 36, 'learning_rate': 1.4085027925208694e-08, 'n_estimators': 936, 'min_child_samples': 67, 'subsample': 0.6129040383663299, 'colsample_bytree': 0.5237041918370333, 'reg_alpha': 2.1370320400118417e-06, 'reg_lambda': 0.9400595907984511, 'top_rate': 0.027303319936500328, 'other_rate': 0.046719412617163836, 'threshold': 62}. Best is trial 533 with value: 0.8334239392413227.\n"
     ]
    },
    {
     "name": "stdout",
     "output_type": "stream",
     "text": [
      "Score: 0.475538039576432\n",
      "Fold 1\n",
      "Fold 2\n",
      "Fold 3\n"
     ]
    },
    {
     "name": "stderr",
     "output_type": "stream",
     "text": [
      "[I 2024-06-25 08:23:15,659] Trial 923 finished with value: 0.8192656548884069 and parameters: {'boosting_type': 'goss', 'num_leaves': 15, 'max_depth': 31, 'learning_rate': 0.0070413912343342665, 'n_estimators': 297, 'min_child_samples': 51, 'subsample': 0.8563035612796023, 'colsample_bytree': 0.7323099043876361, 'reg_alpha': 0.2768897626005358, 'reg_lambda': 0.0009298646958694098, 'top_rate': 0.45177224212248906, 'other_rate': 0.013041851492348766, 'threshold': 58}. Best is trial 533 with value: 0.8334239392413227.\n"
     ]
    },
    {
     "name": "stdout",
     "output_type": "stream",
     "text": [
      "Score: 0.8192656548884069\n",
      "Fold 1\n",
      "Fold 2\n",
      "Fold 3\n"
     ]
    },
    {
     "name": "stderr",
     "output_type": "stream",
     "text": [
      "[I 2024-06-25 08:23:56,838] Trial 924 finished with value: 0.475538039576432 and parameters: {'boosting_type': 'goss', 'num_leaves': 46, 'max_depth': 37, 'learning_rate': 2.4265830308821266e-05, 'n_estimators': 957, 'min_child_samples': 47, 'subsample': 0.7208548628508957, 'colsample_bytree': 0.678617765129201, 'reg_alpha': 6.096951677203019e-06, 'reg_lambda': 1.9950989671547117e-07, 'top_rate': 0.07400330402761787, 'other_rate': 0.46070767361114445, 'threshold': 46}. Best is trial 533 with value: 0.8334239392413227.\n"
     ]
    },
    {
     "name": "stdout",
     "output_type": "stream",
     "text": [
      "Score: 0.475538039576432\n",
      "Fold 1\n",
      "Fold 2\n",
      "Fold 3\n"
     ]
    },
    {
     "name": "stderr",
     "output_type": "stream",
     "text": [
      "[I 2024-06-25 08:24:22,304] Trial 925 finished with value: 0.8261471303049405 and parameters: {'boosting_type': 'goss', 'num_leaves': 25, 'max_depth': 27, 'learning_rate': 0.026019443243167482, 'n_estimators': 984, 'min_child_samples': 57, 'subsample': 0.5913025826464829, 'colsample_bytree': 0.5963352185289603, 'reg_alpha': 1.081593864948858, 'reg_lambda': 0.15794239039880226, 'top_rate': 0.03705330614244243, 'other_rate': 0.032053353519337524, 'threshold': 64}. Best is trial 533 with value: 0.8334239392413227.\n"
     ]
    },
    {
     "name": "stdout",
     "output_type": "stream",
     "text": [
      "Score: 0.8261471303049405\n",
      "Fold 1\n",
      "Fold 2\n",
      "Fold 3\n"
     ]
    },
    {
     "name": "stderr",
     "output_type": "stream",
     "text": [
      "[I 2024-06-25 08:24:55,125] Trial 926 finished with value: 0.8319167025506706 and parameters: {'boosting_type': 'goss', 'num_leaves': 37, 'max_depth': 34, 'learning_rate': 0.009957445241642557, 'n_estimators': 894, 'min_child_samples': 37, 'subsample': 0.974465637744335, 'colsample_bytree': 0.7640035670657158, 'reg_alpha': 0.08032719264121169, 'reg_lambda': 0.0003424279197507581, 'top_rate': 0.013196545168870692, 'other_rate': 0.49226729936618396, 'threshold': 55}. Best is trial 533 with value: 0.8334239392413227.\n"
     ]
    },
    {
     "name": "stdout",
     "output_type": "stream",
     "text": [
      "Score: 0.8319167025506706\n",
      "Fold 1\n",
      "Fold 2\n",
      "Fold 3\n"
     ]
    },
    {
     "name": "stderr",
     "output_type": "stream",
     "text": [
      "[I 2024-06-25 08:25:41,066] Trial 927 finished with value: 0.8277532193787597 and parameters: {'boosting_type': 'goss', 'num_leaves': 57, 'max_depth': 35, 'learning_rate': 0.05045950136585667, 'n_estimators': 954, 'min_child_samples': 52, 'subsample': 0.7580421591790691, 'colsample_bytree': 0.6302693127566296, 'reg_alpha': 0.005612438286796699, 'reg_lambda': 6.918278722099838, 'top_rate': 0.10378184299324633, 'other_rate': 0.31463460816194266, 'threshold': 52}. Best is trial 533 with value: 0.8334239392413227.\n"
     ]
    },
    {
     "name": "stdout",
     "output_type": "stream",
     "text": [
      "Score: 0.8277532193787597\n",
      "Fold 1\n",
      "Fold 2\n",
      "Fold 3\n"
     ]
    },
    {
     "name": "stderr",
     "output_type": "stream",
     "text": [
      "[I 2024-06-25 08:26:09,138] Trial 928 finished with value: 0.475538039576432 and parameters: {'boosting_type': 'goss', 'num_leaves': 19, 'max_depth': 30, 'learning_rate': 2.5695921813723275e-07, 'n_estimators': 983, 'min_child_samples': 54, 'subsample': 0.6201268537031711, 'colsample_bytree': 0.7011350090172987, 'reg_alpha': 0.5189235742607923, 'reg_lambda': 0.010138697809641519, 'top_rate': 0.08956422822781177, 'other_rate': 0.4999886438346901, 'threshold': 60}. Best is trial 533 with value: 0.8334239392413227.\n"
     ]
    },
    {
     "name": "stdout",
     "output_type": "stream",
     "text": [
      "Score: 0.475538039576432\n",
      "Fold 1\n",
      "Fold 2\n",
      "Fold 3\n"
     ]
    },
    {
     "name": "stderr",
     "output_type": "stream",
     "text": [
      "[I 2024-06-25 08:26:34,234] Trial 929 finished with value: 0.8146079821502118 and parameters: {'boosting_type': 'goss', 'num_leaves': 28, 'max_depth': 32, 'learning_rate': 0.4646882632241977, 'n_estimators': 910, 'min_child_samples': 59, 'subsample': 0.9399738420270328, 'colsample_bytree': 0.9682296398742938, 'reg_alpha': 9.32038870636558e-08, 'reg_lambda': 1.9324239970951483e-05, 'top_rate': 0.15245785861557548, 'other_rate': 0.4708347754949566, 'threshold': 57}. Best is trial 533 with value: 0.8334239392413227.\n"
     ]
    },
    {
     "name": "stdout",
     "output_type": "stream",
     "text": [
      "Score: 0.8146079821502118\n",
      "Fold 1\n",
      "Fold 2\n",
      "Fold 3\n"
     ]
    },
    {
     "name": "stderr",
     "output_type": "stream",
     "text": [
      "[I 2024-06-25 08:27:04,800] Trial 930 finished with value: 0.8323120365284279 and parameters: {'boosting_type': 'goss', 'num_leaves': 34, 'max_depth': 29, 'learning_rate': 0.029374059586706643, 'n_estimators': 937, 'min_child_samples': 49, 'subsample': 0.6692219390845561, 'colsample_bytree': 0.6196034937391699, 'reg_alpha': 9.602568871233531e-07, 'reg_lambda': 4.04250282193251, 'top_rate': 0.48934548878328354, 'other_rate': 0.16064934535152045, 'threshold': 62}. Best is trial 533 with value: 0.8334239392413227.\n"
     ]
    },
    {
     "name": "stdout",
     "output_type": "stream",
     "text": [
      "Score: 0.8323120365284279\n",
      "Fold 1\n",
      "Fold 2\n",
      "Fold 3\n"
     ]
    },
    {
     "name": "stderr",
     "output_type": "stream",
     "text": [
      "[I 2024-06-25 08:27:47,132] Trial 931 finished with value: 0.8330285983949371 and parameters: {'boosting_type': 'goss', 'num_leaves': 51, 'max_depth': 39, 'learning_rate': 0.015675895718214896, 'n_estimators': 1000, 'min_child_samples': 47, 'subsample': 0.5354587074589994, 'colsample_bytree': 0.7743479775671485, 'reg_alpha': 2.6221159187850742e-05, 'reg_lambda': 1.291512580188217e-05, 'top_rate': 0.06508252088183272, 'other_rate': 0.4810094013467724, 'threshold': 69}. Best is trial 533 with value: 0.8334239392413227.\n"
     ]
    },
    {
     "name": "stdout",
     "output_type": "stream",
     "text": [
      "Score: 0.8330285983949371\n",
      "Fold 1\n",
      "Fold 2\n",
      "Fold 3\n"
     ]
    },
    {
     "name": "stderr",
     "output_type": "stream",
     "text": [
      "[I 2024-06-25 08:28:39,176] Trial 932 finished with value: 0.475538039576432 and parameters: {'boosting_type': 'goss', 'num_leaves': 64, 'max_depth': 41, 'learning_rate': 1.2048325913598677e-07, 'n_estimators': 989, 'min_child_samples': 45, 'subsample': 0.5315258640447069, 'colsample_bytree': 0.7921982150176143, 'reg_alpha': 4.9618738427349396e-05, 'reg_lambda': 8.814386153076018e-06, 'top_rate': 0.2930617488048939, 'other_rate': 0.4798267124512617, 'threshold': 71}. Best is trial 533 with value: 0.8334239392413227.\n"
     ]
    },
    {
     "name": "stdout",
     "output_type": "stream",
     "text": [
      "Score: 0.475538039576432\n",
      "Fold 1\n",
      "Fold 2\n",
      "Fold 3\n"
     ]
    },
    {
     "name": "stderr",
     "output_type": "stream",
     "text": [
      "[I 2024-06-25 08:29:37,335] Trial 933 finished with value: 0.475538039576432 and parameters: {'boosting_type': 'goss', 'num_leaves': 76, 'max_depth': 41, 'learning_rate': 3.9205959397949675e-06, 'n_estimators': 998, 'min_child_samples': 40, 'subsample': 0.5550334604024735, 'colsample_bytree': 0.7976999099427855, 'reg_alpha': 0.00012179701482390488, 'reg_lambda': 1.4414961115364868e-05, 'top_rate': 0.05414294694521651, 'other_rate': 0.48268235837422924, 'threshold': 68}. Best is trial 533 with value: 0.8334239392413227.\n"
     ]
    },
    {
     "name": "stdout",
     "output_type": "stream",
     "text": [
      "Score: 0.475538039576432\n",
      "Fold 1\n",
      "Fold 2\n",
      "Fold 3\n"
     ]
    },
    {
     "name": "stderr",
     "output_type": "stream",
     "text": [
      "[I 2024-06-25 08:30:22,009] Trial 934 finished with value: 0.8279879671156084 and parameters: {'boosting_type': 'goss', 'num_leaves': 53, 'max_depth': 43, 'learning_rate': 0.00329013828616583, 'n_estimators': 987, 'min_child_samples': 63, 'subsample': 0.5662294528549494, 'colsample_bytree': 0.7651583283865607, 'reg_alpha': 2.194748686486818e-07, 'reg_lambda': 3.016876480900824e-05, 'top_rate': 0.06716094764846595, 'other_rate': 0.47167368236092383, 'threshold': 67}. Best is trial 533 with value: 0.8334239392413227.\n"
     ]
    },
    {
     "name": "stdout",
     "output_type": "stream",
     "text": [
      "Score: 0.8279879671156084\n",
      "Fold 1\n",
      "Fold 2\n",
      "Fold 3\n"
     ]
    },
    {
     "name": "stderr",
     "output_type": "stream",
     "text": [
      "[I 2024-06-25 08:30:56,817] Trial 935 finished with value: 0.475538039576432 and parameters: {'boosting_type': 'goss', 'num_leaves': 25, 'max_depth': 39, 'learning_rate': 3.482570980889443e-08, 'n_estimators': 983, 'min_child_samples': 56, 'subsample': 0.5347294737698493, 'colsample_bytree': 0.7702238595887148, 'reg_alpha': 1.8504611300998795e-05, 'reg_lambda': 1.2416184392679427e-05, 'top_rate': 0.06369153564888341, 'other_rate': 0.32597547123431486, 'threshold': 65}. Best is trial 533 with value: 0.8334239392413227.\n"
     ]
    },
    {
     "name": "stdout",
     "output_type": "stream",
     "text": [
      "Score: 0.475538039576432\n",
      "Fold 1\n",
      "Fold 2\n",
      "Fold 3\n"
     ]
    },
    {
     "name": "stderr",
     "output_type": "stream",
     "text": [
      "[I 2024-06-25 08:31:17,373] Trial 936 finished with value: 0.830335303448261 and parameters: {'boosting_type': 'goss', 'num_leaves': 10, 'max_depth': 44, 'learning_rate': 0.013895915527429172, 'n_estimators': 999, 'min_child_samples': 47, 'subsample': 0.5190559128238939, 'colsample_bytree': 0.7749836238235892, 'reg_alpha': 4.304934059621891e-05, 'reg_lambda': 6.739353895979988e-06, 'top_rate': 0.07762727547439678, 'other_rate': 0.4927702524672932, 'threshold': 68}. Best is trial 533 with value: 0.8334239392413227.\n"
     ]
    },
    {
     "name": "stdout",
     "output_type": "stream",
     "text": [
      "Score: 0.830335303448261\n",
      "Fold 1\n",
      "Fold 2\n",
      "Fold 3\n"
     ]
    },
    {
     "name": "stderr",
     "output_type": "stream",
     "text": [
      "[I 2024-06-25 08:31:57,815] Trial 937 finished with value: 0.8317066576066711 and parameters: {'boosting_type': 'gbdt', 'num_leaves': 57, 'max_depth': 40, 'learning_rate': 0.018974312028214108, 'n_estimators': 972, 'min_child_samples': 42, 'subsample': 0.5073222786920148, 'colsample_bytree': 0.7831453741185893, 'reg_alpha': 0.00031858813603049554, 'reg_lambda': 5.16078924737609e-06, 'threshold': 71}. Best is trial 533 with value: 0.8334239392413227.\n"
     ]
    },
    {
     "name": "stdout",
     "output_type": "stream",
     "text": [
      "Score: 0.8317066576066711\n",
      "Fold 1\n",
      "Fold 2\n",
      "Fold 3\n"
     ]
    },
    {
     "name": "stderr",
     "output_type": "stream",
     "text": [
      "[I 2024-06-25 08:32:04,577] Trial 938 finished with value: 0.820291090270838 and parameters: {'boosting_type': 'goss', 'num_leaves': 21, 'max_depth': 42, 'learning_rate': 0.010000145675317478, 'n_estimators': 182, 'min_child_samples': 51, 'subsample': 0.5508073003303966, 'colsample_bytree': 0.5718733356874471, 'reg_alpha': 1.2748871167429836e-05, 'reg_lambda': 6.548009310225825e-05, 'top_rate': 0.045728787389921505, 'other_rate': 0.48347037371565776, 'threshold': 69}. Best is trial 533 with value: 0.8334239392413227.\n"
     ]
    },
    {
     "name": "stdout",
     "output_type": "stream",
     "text": [
      "Score: 0.820291090270838\n",
      "Fold 1\n",
      "Fold 2\n",
      "Fold 3\n"
     ]
    },
    {
     "name": "stderr",
     "output_type": "stream",
     "text": [
      "[I 2024-06-25 08:32:45,587] Trial 939 finished with value: 0.8321514251025489 and parameters: {'boosting_type': 'goss', 'num_leaves': 51, 'max_depth': 39, 'learning_rate': 0.02601656551799713, 'n_estimators': 999, 'min_child_samples': 60, 'subsample': 0.7049145925910427, 'colsample_bytree': 0.7512670920721939, 'reg_alpha': 2.308786158672416e-05, 'reg_lambda': 1.990899861891779e-05, 'top_rate': 0.06243207301147957, 'other_rate': 0.46852758455811794, 'threshold': 66}. Best is trial 533 with value: 0.8334239392413227.\n"
     ]
    },
    {
     "name": "stdout",
     "output_type": "stream",
     "text": [
      "Score: 0.8321514251025489\n",
      "Fold 1\n",
      "Fold 2\n",
      "Fold 3\n"
     ]
    },
    {
     "name": "stderr",
     "output_type": "stream",
     "text": [
      "[I 2024-06-25 08:33:22,655] Trial 940 finished with value: 0.475538039576432 and parameters: {'boosting_type': 'goss', 'num_leaves': 30, 'max_depth': 40, 'learning_rate': 0.0001231214898847037, 'n_estimators': 971, 'min_child_samples': 53, 'subsample': 0.531711252785857, 'colsample_bytree': 0.6026430681776682, 'reg_alpha': 0.75319618153558, 'reg_lambda': 0.27013304491202356, 'top_rate': 0.08115419993634866, 'other_rate': 0.22543371750849478, 'threshold': 75}. Best is trial 533 with value: 0.8334239392413227.\n"
     ]
    },
    {
     "name": "stdout",
     "output_type": "stream",
     "text": [
      "Score: 0.475538039576432\n",
      "Fold 1\n",
      "Fold 2\n",
      "Fold 3\n"
     ]
    },
    {
     "name": "stderr",
     "output_type": "stream",
     "text": [
      "[I 2024-06-25 08:35:00,222] Trial 941 finished with value: 0.8320649417452857 and parameters: {'boosting_type': 'dart', 'num_leaves': 70, 'max_depth': 39, 'learning_rate': 0.014428488347419182, 'n_estimators': 972, 'min_child_samples': 30, 'subsample': 0.7782540715611617, 'colsample_bytree': 0.7748996882706741, 'reg_alpha': 0.0032149767679617272, 'reg_lambda': 0.47218849474609936, 'drop_rate': 0.2533253197415753, 'skip_drop': 0.9152071034443814, 'threshold': 69}. Best is trial 533 with value: 0.8334239392413227.\n"
     ]
    },
    {
     "name": "stdout",
     "output_type": "stream",
     "text": [
      "Score: 0.8320649417452857\n",
      "Fold 1\n",
      "Fold 2\n",
      "Fold 3\n"
     ]
    },
    {
     "name": "stderr",
     "output_type": "stream",
     "text": [
      "[I 2024-06-25 08:35:40,473] Trial 942 finished with value: 0.475538039576432 and parameters: {'boosting_type': 'goss', 'num_leaves': 43, 'max_depth': 38, 'learning_rate': 1.3140949038286212e-08, 'n_estimators': 959, 'min_child_samples': 48, 'subsample': 0.537582975259738, 'colsample_bytree': 0.5619831008777768, 'reg_alpha': 0.00018822927494549813, 'reg_lambda': 2.894670796327933e-05, 'top_rate': 0.4110873994704673, 'other_rate': 0.4903326390124472, 'threshold': 66}. Best is trial 533 with value: 0.8334239392413227.\n"
     ]
    },
    {
     "name": "stdout",
     "output_type": "stream",
     "text": [
      "Score: 0.475538039576432\n",
      "Fold 1\n",
      "Fold 2\n",
      "Fold 3\n"
     ]
    },
    {
     "name": "stderr",
     "output_type": "stream",
     "text": [
      "[I 2024-06-25 08:37:09,230] Trial 943 finished with value: 0.8315213433879429 and parameters: {'boosting_type': 'goss', 'num_leaves': 169, 'max_depth': 39, 'learning_rate': 0.0061461588864194245, 'n_estimators': 983, 'min_child_samples': 58, 'subsample': 0.535395682345254, 'colsample_bytree': 0.6130510547097516, 'reg_alpha': 0.0008571443833669881, 'reg_lambda': 4.2005366137736234e-05, 'top_rate': 0.44054516386038134, 'other_rate': 0.4790468021892624, 'threshold': 95}. Best is trial 533 with value: 0.8334239392413227.\n"
     ]
    },
    {
     "name": "stdout",
     "output_type": "stream",
     "text": [
      "Score: 0.8315213433879429\n",
      "Fold 1\n",
      "Fold 2\n",
      "Fold 3\n"
     ]
    },
    {
     "name": "stderr",
     "output_type": "stream",
     "text": [
      "[I 2024-06-25 08:37:53,550] Trial 944 finished with value: 0.475538039576432 and parameters: {'boosting_type': 'goss', 'num_leaves': 39, 'max_depth': 28, 'learning_rate': 5.098619719732762e-08, 'n_estimators': 999, 'min_child_samples': 44, 'subsample': 0.544408016371504, 'colsample_bytree': 0.536934356535195, 'reg_alpha': 3.8332974844838864e-05, 'reg_lambda': 1.5850762745481115, 'top_rate': 0.09223659219236886, 'other_rate': 0.25050380351699003, 'threshold': 64}. Best is trial 533 with value: 0.8334239392413227.\n"
     ]
    },
    {
     "name": "stdout",
     "output_type": "stream",
     "text": [
      "Score: 0.475538039576432\n",
      "Fold 1\n",
      "Fold 2\n",
      "Fold 3\n"
     ]
    },
    {
     "name": "stderr",
     "output_type": "stream",
     "text": [
      "[I 2024-06-25 08:38:21,198] Trial 945 finished with value: 0.475538039576432 and parameters: {'boosting_type': 'goss', 'num_leaves': 16, 'max_depth': 26, 'learning_rate': 2.926230427947065e-06, 'n_estimators': 955, 'min_child_samples': 50, 'subsample': 0.6332772674361288, 'colsample_bytree': 0.5813566097181682, 'reg_alpha': 0.0002317763078815097, 'reg_lambda': 9.685477893313414e-05, 'top_rate': 0.07462294257112463, 'other_rate': 0.29668426923520014, 'threshold': 67}. Best is trial 533 with value: 0.8334239392413227.\n"
     ]
    },
    {
     "name": "stdout",
     "output_type": "stream",
     "text": [
      "Score: 0.475538039576432\n",
      "Fold 1\n",
      "Fold 2\n",
      "Fold 3\n"
     ]
    },
    {
     "name": "stderr",
     "output_type": "stream",
     "text": [
      "[I 2024-06-25 08:38:43,733] Trial 946 finished with value: 0.8320525910357238 and parameters: {'boosting_type': 'goss', 'num_leaves': 23, 'max_depth': 41, 'learning_rate': 0.037838081971756164, 'n_estimators': 857, 'min_child_samples': 46, 'subsample': 0.5261179869032938, 'colsample_bytree': 0.6238750855465813, 'reg_alpha': 2.8010241081698683e-05, 'reg_lambda': 0.11241225130838782, 'top_rate': 0.45948162311957014, 'other_rate': 0.2012457508070833, 'threshold': 64}. Best is trial 533 with value: 0.8334239392413227.\n"
     ]
    },
    {
     "name": "stdout",
     "output_type": "stream",
     "text": [
      "Score: 0.8320525910357238\n",
      "Fold 1\n",
      "Fold 2\n",
      "Fold 3\n"
     ]
    },
    {
     "name": "stderr",
     "output_type": "stream",
     "text": [
      "[I 2024-06-25 08:39:19,806] Trial 947 finished with value: 0.8284203642118565 and parameters: {'boosting_type': 'goss', 'num_leaves': 33, 'max_depth': 37, 'learning_rate': 0.004475950610124647, 'n_estimators': 972, 'min_child_samples': 55, 'subsample': 0.5626450990861928, 'colsample_bytree': 0.5070431337028102, 'reg_alpha': 1.0522598620319247e-05, 'reg_lambda': 0.05099862712762918, 'top_rate': 0.05007237514229583, 'other_rate': 0.46541060393107375, 'threshold': 49}. Best is trial 533 with value: 0.8334239392413227.\n"
     ]
    },
    {
     "name": "stdout",
     "output_type": "stream",
     "text": [
      "Score: 0.8284203642118565\n",
      "Fold 1\n",
      "Fold 2\n",
      "Fold 3\n"
     ]
    },
    {
     "name": "stderr",
     "output_type": "stream",
     "text": [
      "[I 2024-06-25 08:40:03,729] Trial 948 finished with value: 0.475538039576432 and parameters: {'boosting_type': 'goss', 'num_leaves': 47, 'max_depth': 38, 'learning_rate': 4.5406301567303195e-07, 'n_estimators': 934, 'min_child_samples': 62, 'subsample': 0.6498126215509905, 'colsample_bytree': 0.8512880287504941, 'reg_alpha': 2.4206951611454968, 'reg_lambda': 0.7166295736813235, 'top_rate': 0.06722338042730225, 'other_rate': 0.11080240134717351, 'threshold': 70}. Best is trial 533 with value: 0.8334239392413227.\n"
     ]
    },
    {
     "name": "stdout",
     "output_type": "stream",
     "text": [
      "Score: 0.475538039576432\n",
      "Fold 1\n",
      "Fold 2\n",
      "Fold 3\n"
     ]
    },
    {
     "name": "stderr",
     "output_type": "stream",
     "text": [
      "[I 2024-06-25 08:40:28,450] Trial 949 finished with value: 0.8312248430191022 and parameters: {'boosting_type': 'goss', 'num_leaves': 111, 'max_depth': 4, 'learning_rate': 0.018355349640608608, 'n_estimators': 1000, 'min_child_samples': 57, 'subsample': 0.8979467746735297, 'colsample_bytree': 0.9475221592732876, 'reg_alpha': 1.2691766845307477, 'reg_lambda': 0.004889686817358745, 'top_rate': 0.1079048808732246, 'other_rate': 0.30912227521538593, 'threshold': 65}. Best is trial 533 with value: 0.8334239392413227.\n"
     ]
    },
    {
     "name": "stdout",
     "output_type": "stream",
     "text": [
      "Score: 0.8312248430191022\n",
      "Fold 1\n",
      "Fold 2\n",
      "Fold 3\n"
     ]
    },
    {
     "name": "stderr",
     "output_type": "stream",
     "text": [
      "[I 2024-06-25 08:40:59,321] Trial 950 finished with value: 0.8271478541942597 and parameters: {'boosting_type': 'goss', 'num_leaves': 27, 'max_depth': 31, 'learning_rate': 0.0833287543732333, 'n_estimators': 954, 'min_child_samples': 52, 'subsample': 0.5448366822393058, 'colsample_bytree': 0.7601299772057922, 'reg_alpha': 1.57519392991114e-08, 'reg_lambda': 0.02443160405159558, 'top_rate': 0.309983625018607, 'other_rate': 0.06975242151332735, 'threshold': 63}. Best is trial 533 with value: 0.8334239392413227.\n"
     ]
    },
    {
     "name": "stdout",
     "output_type": "stream",
     "text": [
      "Score: 0.8271478541942597\n",
      "Fold 1\n",
      "Fold 2\n",
      "Fold 3\n"
     ]
    },
    {
     "name": "stderr",
     "output_type": "stream",
     "text": [
      "[I 2024-06-25 08:41:39,871] Trial 951 finished with value: 0.8321020121903132 and parameters: {'boosting_type': 'goss', 'num_leaves': 60, 'max_depth': 8, 'learning_rate': 0.009038283904913173, 'n_estimators': 1000, 'min_child_samples': 49, 'subsample': 0.9579303303010014, 'colsample_bytree': 0.6330185368073928, 'reg_alpha': 0.4191778741081766, 'reg_lambda': 3.672963116829795e-06, 'top_rate': 0.035866911759102296, 'other_rate': 0.4994160205119287, 'threshold': 62}. Best is trial 533 with value: 0.8334239392413227.\n"
     ]
    },
    {
     "name": "stdout",
     "output_type": "stream",
     "text": [
      "Score: 0.8321020121903132\n",
      "Fold 1\n",
      "Fold 2\n",
      "Fold 3\n"
     ]
    },
    {
     "name": "stderr",
     "output_type": "stream",
     "text": [
      "[I 2024-06-25 08:42:18,508] Trial 952 finished with value: 0.8219713037500046 and parameters: {'boosting_type': 'goss', 'num_leaves': 37, 'max_depth': 29, 'learning_rate': 0.0016363272926953765, 'n_estimators': 977, 'min_child_samples': 54, 'subsample': 0.6594586832546316, 'colsample_bytree': 0.8733630227474904, 'reg_alpha': 5.946636716928294e-06, 'reg_lambda': 0.20551245883692099, 'top_rate': 0.08572922225780528, 'other_rate': 0.47738145368476465, 'threshold': 50}. Best is trial 533 with value: 0.8334239392413227.\n"
     ]
    },
    {
     "name": "stdout",
     "output_type": "stream",
     "text": [
      "Score: 0.8219713037500046\n",
      "Fold 1\n",
      "Fold 2\n",
      "Fold 3\n"
     ]
    },
    {
     "name": "stderr",
     "output_type": "stream",
     "text": [
      "[I 2024-06-25 08:42:43,000] Trial 953 finished with value: 0.8320155260855988 and parameters: {'boosting_type': 'goss', 'num_leaves': 14, 'max_depth': 40, 'learning_rate': 0.05425426832472567, 'n_estimators': 921, 'min_child_samples': 43, 'subsample': 0.5547000136924509, 'colsample_bytree': 0.7862031160843883, 'reg_alpha': 5.440336758428494e-07, 'reg_lambda': 0.002422228859646447, 'top_rate': 0.022071574096871466, 'other_rate': 0.4548900755914979, 'threshold': 54}. Best is trial 533 with value: 0.8334239392413227.\n"
     ]
    },
    {
     "name": "stdout",
     "output_type": "stream",
     "text": [
      "Score: 0.8320155260855988\n",
      "Fold 1\n",
      "Fold 2\n",
      "Fold 3\n"
     ]
    },
    {
     "name": "stderr",
     "output_type": "stream",
     "text": [
      "[I 2024-06-25 08:43:13,589] Trial 954 finished with value: 0.475538039576432 and parameters: {'boosting_type': 'goss', 'num_leaves': 20, 'max_depth': 30, 'learning_rate': 2.5011549357648665e-06, 'n_estimators': 944, 'min_child_samples': 46, 'subsample': 0.7494367153076316, 'colsample_bytree': 0.6082900785578157, 'reg_alpha': 0.044771508439460095, 'reg_lambda': 1.0931502730285121e-05, 'top_rate': 0.19355379661948918, 'other_rate': 0.2740767140265282, 'threshold': 86}. Best is trial 533 with value: 0.8334239392413227.\n"
     ]
    },
    {
     "name": "stdout",
     "output_type": "stream",
     "text": [
      "Score: 0.475538039576432\n",
      "Fold 1\n",
      "Fold 2\n",
      "Fold 3\n"
     ]
    },
    {
     "name": "stderr",
     "output_type": "stream",
     "text": [
      "[I 2024-06-25 08:43:52,830] Trial 955 finished with value: 0.8319413948116231 and parameters: {'boosting_type': 'goss', 'num_leaves': 52, 'max_depth': 27, 'learning_rate': 0.024750353232752636, 'n_estimators': 965, 'min_child_samples': 48, 'subsample': 0.5024213185935773, 'colsample_bytree': 0.8068107959387536, 'reg_alpha': 2.2009925474482604e-06, 'reg_lambda': 0.39638664823601705, 'top_rate': 0.3724896763222944, 'other_rate': 0.4887782905573659, 'threshold': 67}. Best is trial 533 with value: 0.8334239392413227.\n"
     ]
    },
    {
     "name": "stdout",
     "output_type": "stream",
     "text": [
      "Score: 0.8319413948116231\n",
      "Fold 1\n",
      "Fold 2\n",
      "Fold 3\n"
     ]
    },
    {
     "name": "stderr",
     "output_type": "stream",
     "text": [
      "[I 2024-06-25 08:44:21,924] Trial 956 finished with value: 0.8320649513613653 and parameters: {'boosting_type': 'goss', 'num_leaves': 30, 'max_depth': 38, 'learning_rate': 0.011976694463271596, 'n_estimators': 882, 'min_child_samples': 60, 'subsample': 0.5061430933067788, 'colsample_bytree': 0.5913660669311802, 'reg_alpha': 0.00010706578158481856, 'reg_lambda': 2.34863314746427, 'top_rate': 0.0553262748925845, 'other_rate': 0.12440631217021789, 'threshold': 78}. Best is trial 533 with value: 0.8334239392413227.\n"
     ]
    },
    {
     "name": "stdout",
     "output_type": "stream",
     "text": [
      "Score: 0.8320649513613653\n",
      "Fold 1\n",
      "Fold 2\n",
      "Fold 3\n"
     ]
    },
    {
     "name": "stderr",
     "output_type": "stream",
     "text": [
      "[I 2024-06-25 08:45:06,092] Trial 957 finished with value: 0.787613349195652 and parameters: {'boosting_type': 'goss', 'num_leaves': 44, 'max_depth': 37, 'learning_rate': 0.00048564460988219306, 'n_estimators': 981, 'min_child_samples': 50, 'subsample': 0.6242899114708365, 'colsample_bytree': 0.6207139736698243, 'reg_alpha': 0.6007177453898661, 'reg_lambda': 1.1988775671613363, 'top_rate': 0.10131539131063462, 'other_rate': 0.3067617819004046, 'threshold': 51}. Best is trial 533 with value: 0.8334239392413227.\n"
     ]
    },
    {
     "name": "stdout",
     "output_type": "stream",
     "text": [
      "Score: 0.787613349195652\n",
      "Fold 1\n",
      "Fold 2\n",
      "Fold 3\n"
     ]
    },
    {
     "name": "stderr",
     "output_type": "stream",
     "text": [
      "[I 2024-06-25 08:45:38,212] Trial 958 finished with value: 0.8216871467641886 and parameters: {'boosting_type': 'goss', 'num_leaves': 25, 'max_depth': 42, 'learning_rate': 0.001979441553481019, 'n_estimators': 943, 'min_child_samples': 39, 'subsample': 0.6061533383927799, 'colsample_bytree': 0.977828762261324, 'reg_alpha': 0.00017120531746933948, 'reg_lambda': 1.4329496704990503e-06, 'top_rate': 0.08106666697798473, 'other_rate': 0.14209040449976246, 'threshold': 64}. Best is trial 533 with value: 0.8334239392413227.\n"
     ]
    },
    {
     "name": "stdout",
     "output_type": "stream",
     "text": [
      "Score: 0.8216871467641886\n",
      "Fold 1\n",
      "Fold 2\n",
      "Fold 3\n"
     ]
    },
    {
     "name": "stderr",
     "output_type": "stream",
     "text": [
      "[I 2024-06-25 08:46:08,448] Trial 959 finished with value: 0.8314225102369349 and parameters: {'boosting_type': 'gbdt', 'num_leaves': 35, 'max_depth': 32, 'learning_rate': 0.03585550208112276, 'n_estimators': 966, 'min_child_samples': 56, 'subsample': 0.5166006796067056, 'colsample_bytree': 0.5501376150807163, 'reg_alpha': 6.50843043835427e-08, 'reg_lambda': 0.0030138082012704636, 'threshold': 53}. Best is trial 533 with value: 0.8334239392413227.\n"
     ]
    },
    {
     "name": "stdout",
     "output_type": "stream",
     "text": [
      "Score: 0.8314225102369349\n",
      "Fold 1\n",
      "Fold 2\n",
      "Fold 3\n"
     ]
    },
    {
     "name": "stderr",
     "output_type": "stream",
     "text": [
      "[I 2024-06-25 08:46:40,473] Trial 960 finished with value: 0.8322873442674753 and parameters: {'boosting_type': 'goss', 'num_leaves': 30, 'max_depth': 29, 'learning_rate': 0.016626133926377375, 'n_estimators': 1000, 'min_child_samples': 53, 'subsample': 0.8480431636036153, 'colsample_bytree': 0.6427983589662556, 'reg_alpha': 7.07179082246047e-05, 'reg_lambda': 5.449386221498368e-05, 'top_rate': 0.09726816274021909, 'other_rate': 0.08284057320682887, 'threshold': 47}. Best is trial 533 with value: 0.8334239392413227.\n"
     ]
    },
    {
     "name": "stdout",
     "output_type": "stream",
     "text": [
      "Score: 0.8322873442674753\n",
      "Fold 1\n",
      "Fold 2\n",
      "Fold 3\n"
     ]
    },
    {
     "name": "stderr",
     "output_type": "stream",
     "text": [
      "[I 2024-06-25 08:47:03,890] Trial 961 finished with value: 0.8248375319838823 and parameters: {'boosting_type': 'goss', 'num_leaves': 9, 'max_depth': 31, 'learning_rate': 0.006418896449811, 'n_estimators': 911, 'min_child_samples': 58, 'subsample': 0.9206928729336984, 'colsample_bytree': 0.924877721623574, 'reg_alpha': 0.0003400138096613896, 'reg_lambda': 2.2172018645909547e-06, 'top_rate': 0.1160249093285915, 'other_rate': 0.3619817498061319, 'threshold': 61}. Best is trial 533 with value: 0.8334239392413227.\n"
     ]
    },
    {
     "name": "stdout",
     "output_type": "stream",
     "text": [
      "Score: 0.8248375319838823\n",
      "Fold 1\n",
      "Fold 2\n",
      "Fold 3\n"
     ]
    },
    {
     "name": "stderr",
     "output_type": "stream",
     "text": [
      "[I 2024-06-25 08:47:38,010] Trial 962 finished with value: 0.8315213378930402 and parameters: {'boosting_type': 'goss', 'num_leaves': 40, 'max_depth': 36, 'learning_rate': 0.024257820948448843, 'n_estimators': 954, 'min_child_samples': 41, 'subsample': 0.7338583829479817, 'colsample_bytree': 0.747116903851746, 'reg_alpha': 2.5722131054694028e-08, 'reg_lambda': 0.17359489974885242, 'top_rate': 0.37010893058359806, 'other_rate': 0.4754702975147547, 'threshold': 59}. Best is trial 533 with value: 0.8334239392413227.\n"
     ]
    },
    {
     "name": "stdout",
     "output_type": "stream",
     "text": [
      "Score: 0.8315213378930402\n",
      "Fold 1\n",
      "Fold 2\n",
      "Fold 3\n"
     ]
    },
    {
     "name": "stderr",
     "output_type": "stream",
     "text": [
      "[I 2024-06-25 08:48:06,954] Trial 963 finished with value: 0.828383303840817 and parameters: {'boosting_type': 'goss', 'num_leaves': 49, 'max_depth': 33, 'learning_rate': 0.01450683000705892, 'n_estimators': 982, 'min_child_samples': 45, 'subsample': 0.8355989231861498, 'colsample_bytree': 0.6331466304608532, 'reg_alpha': 0.0014238252357929024, 'reg_lambda': 8.967232011182228e-07, 'top_rate': 0.012237879232480818, 'other_rate': 0.02510524290763977, 'threshold': 73}. Best is trial 533 with value: 0.8334239392413227.\n"
     ]
    },
    {
     "name": "stdout",
     "output_type": "stream",
     "text": [
      "Score: 0.828383303840817\n",
      "Fold 1\n",
      "Fold 2\n",
      "Fold 3\n"
     ]
    },
    {
     "name": "stderr",
     "output_type": "stream",
     "text": [
      "[I 2024-06-25 08:49:05,727] Trial 964 finished with value: 0.8308047792318908 and parameters: {'boosting_type': 'dart', 'num_leaves': 19, 'max_depth': 30, 'learning_rate': 0.06552847569980995, 'n_estimators': 935, 'min_child_samples': 51, 'subsample': 0.679487486843212, 'colsample_bytree': 0.6157494550954689, 'reg_alpha': 0.0005513255375066251, 'reg_lambda': 1.612548193265462e-05, 'drop_rate': 0.4085741798350093, 'skip_drop': 0.8805796425121485, 'threshold': 63}. Best is trial 533 with value: 0.8334239392413227.\n"
     ]
    },
    {
     "name": "stdout",
     "output_type": "stream",
     "text": [
      "Score: 0.8308047792318908\n",
      "Fold 1\n",
      "Fold 2\n",
      "Fold 3\n"
     ]
    },
    {
     "name": "stderr",
     "output_type": "stream",
     "text": [
      "[I 2024-06-25 08:49:57,879] Trial 965 finished with value: 0.8296805271831599 and parameters: {'boosting_type': 'goss', 'num_leaves': 66, 'max_depth': 28, 'learning_rate': 0.03448986182341729, 'n_estimators': 970, 'min_child_samples': 60, 'subsample': 0.5805790494816537, 'colsample_bytree': 0.627444533751674, 'reg_alpha': 6.300690493073328e-05, 'reg_lambda': 0.0801045898635266, 'top_rate': 0.06183020957662667, 'other_rate': 0.39040414100718374, 'threshold': 56}. Best is trial 533 with value: 0.8334239392413227.\n"
     ]
    },
    {
     "name": "stdout",
     "output_type": "stream",
     "text": [
      "Score: 0.8296805271831599\n",
      "Fold 1\n",
      "Fold 2\n",
      "Fold 3\n"
     ]
    },
    {
     "name": "stderr",
     "output_type": "stream",
     "text": [
      "[I 2024-06-25 08:50:28,252] Trial 966 finished with value: 0.475538039576432 and parameters: {'boosting_type': 'goss', 'num_leaves': 25, 'max_depth': 26, 'learning_rate': 2.3445857299659797e-05, 'n_estimators': 926, 'min_child_samples': 55, 'subsample': 0.5187257445609512, 'colsample_bytree': 0.6048786546288429, 'reg_alpha': 9.983408212853297e-05, 'reg_lambda': 0.010633646093177313, 'top_rate': 0.04038219959338997, 'other_rate': 0.48609941653805283, 'threshold': 81}. Best is trial 533 with value: 0.8334239392413227.\n"
     ]
    },
    {
     "name": "stdout",
     "output_type": "stream",
     "text": [
      "Score: 0.475538039576432\n",
      "Fold 1\n",
      "Fold 2\n",
      "Fold 3\n"
     ]
    },
    {
     "name": "stderr",
     "output_type": "stream",
     "text": [
      "[I 2024-06-25 08:51:13,415] Trial 967 finished with value: 0.6903708832177768 and parameters: {'boosting_type': 'goss', 'num_leaves': 54, 'max_depth': 36, 'learning_rate': 0.00015903525106320652, 'n_estimators': 954, 'min_child_samples': 47, 'subsample': 0.6916687199285827, 'colsample_bytree': 0.6378667108375383, 'reg_alpha': 3.1834533577802407e-07, 'reg_lambda': 0.6720914333969186, 'top_rate': 0.3196644095513623, 'other_rate': 0.4594825437399739, 'threshold': 89}. Best is trial 533 with value: 0.8334239392413227.\n"
     ]
    },
    {
     "name": "stdout",
     "output_type": "stream",
     "text": [
      "Score: 0.6903708832177768\n",
      "Fold 1\n",
      "Fold 2\n",
      "Fold 3\n"
     ]
    },
    {
     "name": "stderr",
     "output_type": "stream",
     "text": [
      "[I 2024-06-25 08:51:40,826] Trial 968 finished with value: 0.8250475631906252 and parameters: {'boosting_type': 'goss', 'num_leaves': 32, 'max_depth': 35, 'learning_rate': 0.11901038223372311, 'n_estimators': 899, 'min_child_samples': 53, 'subsample': 0.647580367915114, 'colsample_bytree': 0.6529878567816205, 'reg_alpha': 6.744705587386958e-07, 'reg_lambda': 2.680758306577779, 'top_rate': 0.09093117303830493, 'other_rate': 0.49146993253013016, 'threshold': 65}. Best is trial 533 with value: 0.8334239392413227.\n"
     ]
    },
    {
     "name": "stdout",
     "output_type": "stream",
     "text": [
      "Score: 0.8250475631906252\n",
      "Fold 1\n",
      "Fold 2\n",
      "Fold 3\n"
     ]
    },
    {
     "name": "stderr",
     "output_type": "stream",
     "text": [
      "[I 2024-06-25 08:52:21,676] Trial 969 finished with value: 0.8318796243211976 and parameters: {'boosting_type': 'goss', 'num_leaves': 41, 'max_depth': 25, 'learning_rate': 0.009285017157134211, 'n_estimators': 1000, 'min_child_samples': 65, 'subsample': 0.632232478392366, 'colsample_bytree': 0.7762053410308721, 'reg_alpha': 2.2820386132692564e-05, 'reg_lambda': 5.653477953796741e-06, 'top_rate': 0.3807619413133704, 'other_rate': 0.4675787500562006, 'threshold': 58}. Best is trial 533 with value: 0.8334239392413227.\n"
     ]
    },
    {
     "name": "stdout",
     "output_type": "stream",
     "text": [
      "Score: 0.8318796243211976\n",
      "Fold 1\n",
      "Fold 2\n",
      "Fold 3\n"
     ]
    },
    {
     "name": "stderr",
     "output_type": "stream",
     "text": [
      "[I 2024-06-25 08:52:45,977] Trial 970 finished with value: 0.8318919823572962 and parameters: {'boosting_type': 'goss', 'num_leaves': 16, 'max_depth': 33, 'learning_rate': 0.019296348513042943, 'n_estimators': 978, 'min_child_samples': 49, 'subsample': 0.9510823821342551, 'colsample_bytree': 0.7572515651634374, 'reg_alpha': 2.601861758868362e-06, 'reg_lambda': 0.0015697212269293304, 'top_rate': 0.18385140083324414, 'other_rate': 0.47987700854098, 'threshold': 61}. Best is trial 533 with value: 0.8334239392413227.\n"
     ]
    },
    {
     "name": "stdout",
     "output_type": "stream",
     "text": [
      "Score: 0.8318919823572962\n",
      "Fold 1\n",
      "Fold 2\n",
      "Fold 3\n"
     ]
    },
    {
     "name": "stderr",
     "output_type": "stream",
     "text": [
      "[I 2024-06-25 08:53:22,961] Trial 971 finished with value: 0.8319413993907087 and parameters: {'boosting_type': 'goss', 'num_leaves': 36, 'max_depth': 23, 'learning_rate': 0.027481353481688633, 'n_estimators': 947, 'min_child_samples': 44, 'subsample': 0.8207817477694763, 'colsample_bytree': 0.682284175949952, 'reg_alpha': 0.26737543926036245, 'reg_lambda': 0.00013404515713070041, 'top_rate': 0.10982417996954798, 'other_rate': 0.320118854061984, 'threshold': 54}. Best is trial 533 with value: 0.8334239392413227.\n"
     ]
    },
    {
     "name": "stdout",
     "output_type": "stream",
     "text": [
      "Score: 0.8319413993907087\n",
      "Fold 1\n",
      "Fold 2\n",
      "Fold 3\n"
     ]
    },
    {
     "name": "stderr",
     "output_type": "stream",
     "text": [
      "[I 2024-06-25 08:54:06,292] Trial 972 finished with value: 0.816424129905287 and parameters: {'boosting_type': 'goss', 'num_leaves': 46, 'max_depth': 32, 'learning_rate': 0.000915096453194379, 'n_estimators': 967, 'min_child_samples': 62, 'subsample': 0.7635910942897723, 'colsample_bytree': 0.803418960012994, 'reg_alpha': 3.5608143129702992e-06, 'reg_lambda': 0.3535219833765581, 'top_rate': 0.40422316138916053, 'other_rate': 0.34493542354705076, 'threshold': 66}. Best is trial 533 with value: 0.8334239392413227.\n"
     ]
    },
    {
     "name": "stdout",
     "output_type": "stream",
     "text": [
      "Score: 0.816424129905287\n",
      "Fold 1\n",
      "Fold 2\n",
      "Fold 3\n"
     ]
    },
    {
     "name": "stderr",
     "output_type": "stream",
     "text": [
      "[I 2024-06-25 08:54:39,360] Trial 973 finished with value: 0.475538039576432 and parameters: {'boosting_type': 'goss', 'num_leaves': 24, 'max_depth': 30, 'learning_rate': 2.6746930515127973e-07, 'n_estimators': 923, 'min_child_samples': 57, 'subsample': 0.910771437349824, 'colsample_bytree': 0.512443960821711, 'reg_alpha': 0.8130072515694423, 'reg_lambda': 0.006113401937705712, 'top_rate': 0.07503472288433587, 'other_rate': 0.26533422624664715, 'threshold': 63}. Best is trial 533 with value: 0.8334239392413227.\n"
     ]
    },
    {
     "name": "stdout",
     "output_type": "stream",
     "text": [
      "Score: 0.475538039576432\n",
      "Fold 1\n",
      "Fold 2\n",
      "Fold 3\n"
     ]
    },
    {
     "name": "stderr",
     "output_type": "stream",
     "text": [
      "[I 2024-06-25 08:55:07,260] Trial 974 finished with value: 0.8305577023071824 and parameters: {'boosting_type': 'goss', 'num_leaves': 30, 'max_depth': 34, 'learning_rate': 0.04775408256167871, 'n_estimators': 981, 'min_child_samples': 51, 'subsample': 0.7140486486283687, 'colsample_bytree': 0.5989152625081098, 'reg_alpha': 1.488079053555906e-06, 'reg_lambda': 1.5324246287217604, 'top_rate': 0.12606595054365496, 'other_rate': 0.41913351294197193, 'threshold': 9}. Best is trial 533 with value: 0.8334239392413227.\n"
     ]
    },
    {
     "name": "stdout",
     "output_type": "stream",
     "text": [
      "Score: 0.8305577023071824\n",
      "Fold 1\n",
      "Fold 2\n",
      "Fold 3\n"
     ]
    },
    {
     "name": "stderr",
     "output_type": "stream",
     "text": [
      "[I 2024-06-25 08:55:54,594] Trial 975 finished with value: 0.8328432823445745 and parameters: {'boosting_type': 'goss', 'num_leaves': 57, 'max_depth': 37, 'learning_rate': 0.012916213690604405, 'n_estimators': 941, 'min_child_samples': 48, 'subsample': 0.9859846038301338, 'colsample_bytree': 0.8630781414696018, 'reg_alpha': 0.3713688102954498, 'reg_lambda': 0.9442909080121719, 'top_rate': 0.08395696730428838, 'other_rate': 0.3643034913052065, 'threshold': 59}. Best is trial 533 with value: 0.8334239392413227.\n"
     ]
    },
    {
     "name": "stdout",
     "output_type": "stream",
     "text": [
      "Score: 0.8328432823445745\n",
      "Fold 1\n",
      "Fold 2\n",
      "Fold 3\n"
     ]
    },
    {
     "name": "stderr",
     "output_type": "stream",
     "text": [
      "[I 2024-06-25 08:56:35,191] Trial 976 finished with value: 0.8267030908195588 and parameters: {'boosting_type': 'goss', 'num_leaves': 133, 'max_depth': 28, 'learning_rate': 0.0036689957007773584, 'n_estimators': 552, 'min_child_samples': 59, 'subsample': 0.5013417356633184, 'colsample_bytree': 0.6231506972369075, 'reg_alpha': 0.007212807734491935, 'reg_lambda': 3.479404978343417e-05, 'top_rate': 0.26396500188305927, 'other_rate': 0.28290786216044317, 'threshold': 52}. Best is trial 533 with value: 0.8334239392413227.\n"
     ]
    },
    {
     "name": "stdout",
     "output_type": "stream",
     "text": [
      "Score: 0.8267030908195588\n",
      "Fold 1\n",
      "Fold 2\n",
      "Fold 3\n"
     ]
    },
    {
     "name": "stderr",
     "output_type": "stream",
     "text": [
      "[I 2024-06-25 08:58:08,946] Trial 977 finished with value: 0.475538039576432 and parameters: {'boosting_type': 'goss', 'num_leaves': 185, 'max_depth': 40, 'learning_rate': 1.661327837189599e-05, 'n_estimators': 961, 'min_child_samples': 46, 'subsample': 0.7997859631133732, 'colsample_bytree': 0.5228346910215657, 'reg_alpha': 1.4826457480685816e-08, 'reg_lambda': 0.01686417800615488, 'top_rate': 0.2177489046549988, 'other_rate': 0.06224109761609353, 'threshold': 45}. Best is trial 533 with value: 0.8334239392413227.\n"
     ]
    },
    {
     "name": "stdout",
     "output_type": "stream",
     "text": [
      "Score: 0.475538039576432\n",
      "Fold 1\n",
      "Fold 2\n",
      "Fold 3\n"
     ]
    },
    {
     "name": "stderr",
     "output_type": "stream",
     "text": [
      "[I 2024-06-25 08:58:37,431] Trial 978 finished with value: 0.8326085442238055 and parameters: {'boosting_type': 'goss', 'num_leaves': 21, 'max_depth': 31, 'learning_rate': 0.01994981675342864, 'n_estimators': 984, 'min_child_samples': 42, 'subsample': 0.6137911686983741, 'colsample_bytree': 0.6110568093920831, 'reg_alpha': 5.963794978101753, 'reg_lambda': 3.897423904654669e-08, 'top_rate': 0.0954750666922315, 'other_rate': 0.4729703213451365, 'threshold': 68}. Best is trial 533 with value: 0.8334239392413227.\n"
     ]
    },
    {
     "name": "stdout",
     "output_type": "stream",
     "text": [
      "Score: 0.8326085442238055\n",
      "Fold 1\n",
      "Fold 2\n",
      "Fold 3\n"
     ]
    },
    {
     "name": "stderr",
     "output_type": "stream",
     "text": [
      "[I 2024-06-25 08:59:10,113] Trial 979 finished with value: 0.830582407847483 and parameters: {'boosting_type': 'goss', 'num_leaves': 27, 'max_depth': 38, 'learning_rate': 0.0076023749894431674, 'n_estimators': 960, 'min_child_samples': 54, 'subsample': 0.8677045356508674, 'colsample_bytree': 0.6388755966187427, 'reg_alpha': 0.1285785218436425, 'reg_lambda': 3.2779195307278553e-06, 'top_rate': 0.11858093883965273, 'other_rate': 0.18772071285959585, 'threshold': 49}. Best is trial 533 with value: 0.8334239392413227.\n"
     ]
    },
    {
     "name": "stdout",
     "output_type": "stream",
     "text": [
      "Score: 0.830582407847483\n",
      "Fold 1\n",
      "Fold 2\n",
      "Fold 3\n"
     ]
    },
    {
     "name": "stderr",
     "output_type": "stream",
     "text": [
      "[I 2024-06-25 08:59:44,628] Trial 980 finished with value: 0.475538039576432 and parameters: {'boosting_type': 'goss', 'num_leaves': 35, 'max_depth': 20, 'learning_rate': 7.4966937232578495e-06, 'n_estimators': 912, 'min_child_samples': 50, 'subsample': 0.5724491404097611, 'colsample_bytree': 0.6616329760644745, 'reg_alpha': 0.024632842711465097, 'reg_lambda': 3.504793432525606, 'top_rate': 0.4737872671408517, 'other_rate': 0.4995242036657201, 'threshold': 56}. Best is trial 533 with value: 0.8334239392413227.\n"
     ]
    },
    {
     "name": "stdout",
     "output_type": "stream",
     "text": [
      "Score: 0.475538039576432\n",
      "Fold 1\n",
      "Fold 2\n",
      "Fold 3\n"
     ]
    },
    {
     "name": "stderr",
     "output_type": "stream",
     "text": [
      "[I 2024-06-25 09:00:07,911] Trial 981 finished with value: 0.475538039576432 and parameters: {'boosting_type': 'gbdt', 'num_leaves': 13, 'max_depth': 33, 'learning_rate': 0.00010999047377798483, 'n_estimators': 938, 'min_child_samples': 38, 'subsample': 0.8909127198238488, 'colsample_bytree': 0.5531772834810358, 'reg_alpha': 1.3136414204662787, 'reg_lambda': 0.1287720835240467, 'threshold': 62}. Best is trial 533 with value: 0.8334239392413227.\n"
     ]
    },
    {
     "name": "stdout",
     "output_type": "stream",
     "text": [
      "Score: 0.475538039576432\n",
      "Fold 1\n",
      "Fold 2\n",
      "Fold 3\n"
     ]
    },
    {
     "name": "stderr",
     "output_type": "stream",
     "text": [
      "[I 2024-06-25 09:00:49,459] Trial 982 finished with value: 0.8307677280190225 and parameters: {'boosting_type': 'goss', 'num_leaves': 42, 'max_depth': 27, 'learning_rate': 0.030437269588085583, 'n_estimators': 981, 'min_child_samples': 56, 'subsample': 0.5975135071544904, 'colsample_bytree': 0.7891199971912923, 'reg_alpha': 0.0004517360878264634, 'reg_lambda': 0.03588869146822763, 'top_rate': 0.026992366901656184, 'other_rate': 0.37784413539404665, 'threshold': 60}. Best is trial 533 with value: 0.8334239392413227.\n"
     ]
    },
    {
     "name": "stdout",
     "output_type": "stream",
     "text": [
      "Score: 0.8307677280190225\n",
      "Fold 1\n",
      "Fold 2\n",
      "Fold 3\n"
     ]
    },
    {
     "name": "stderr",
     "output_type": "stream",
     "text": [
      "[I 2024-06-25 09:01:30,659] Trial 983 finished with value: 0.8322873163350534 and parameters: {'boosting_type': 'goss', 'num_leaves': 50, 'max_depth': 29, 'learning_rate': 0.01443977211847529, 'n_estimators': 962, 'min_child_samples': 52, 'subsample': 0.9340881793065869, 'colsample_bytree': 0.7414582420422758, 'reg_alpha': 8.139081892576775e-05, 'reg_lambda': 0.2456631708616063, 'top_rate': 0.21442377674901578, 'other_rate': 0.4853146339382005, 'threshold': 57}. Best is trial 533 with value: 0.8334239392413227.\n"
     ]
    },
    {
     "name": "stdout",
     "output_type": "stream",
     "text": [
      "Score: 0.8322873163350534\n",
      "Fold 1\n",
      "Fold 2\n",
      "Fold 3\n"
     ]
    },
    {
     "name": "stderr",
     "output_type": "stream",
     "text": [
      "[I 2024-06-25 09:02:39,995] Trial 984 finished with value: 0.7266437692240887 and parameters: {'boosting_type': 'goss', 'num_leaves': 91, 'max_depth': 36, 'learning_rate': 0.00022623071815167147, 'n_estimators': 1000, 'min_child_samples': 47, 'subsample': 0.641878689867239, 'colsample_bytree': 0.5760410179452835, 'reg_alpha': 0.013399845782335242, 'reg_lambda': 6.991625515050652e-08, 'top_rate': 0.00018769168564049254, 'other_rate': 0.04976754978841422, 'threshold': 65}. Best is trial 533 with value: 0.8334239392413227.\n"
     ]
    },
    {
     "name": "stdout",
     "output_type": "stream",
     "text": [
      "Score: 0.7266437692240887\n",
      "Fold 1\n",
      "Fold 2\n",
      "Fold 3\n"
     ]
    },
    {
     "name": "stderr",
     "output_type": "stream",
     "text": [
      "[I 2024-06-25 09:03:48,751] Trial 985 finished with value: 0.8312866144253448 and parameters: {'boosting_type': 'dart', 'num_leaves': 20, 'max_depth': 34, 'learning_rate': 0.041518167563282034, 'n_estimators': 931, 'min_child_samples': 44, 'subsample': 0.7794841628494412, 'colsample_bytree': 0.8855985560543986, 'reg_alpha': 0.19510080174727396, 'reg_lambda': 0.0001750097577951392, 'drop_rate': 0.33092261220102764, 'skip_drop': 0.8665019144067361, 'threshold': 62}. Best is trial 533 with value: 0.8334239392413227.\n"
     ]
    },
    {
     "name": "stdout",
     "output_type": "stream",
     "text": [
      "Score: 0.8312866144253448\n",
      "Fold 1\n",
      "Fold 2\n",
      "Fold 3\n"
     ]
    },
    {
     "name": "stderr",
     "output_type": "stream",
     "text": [
      "[I 2024-06-25 09:04:03,115] Trial 986 finished with value: 0.7999678909941723 and parameters: {'boosting_type': 'goss', 'num_leaves': 7, 'max_depth': 32, 'learning_rate': 0.17592065369157753, 'n_estimators': 949, 'min_child_samples': 58, 'subsample': 0.7483904835668588, 'colsample_bytree': 0.695581509583353, 'reg_alpha': 4.9491831307309224e-08, 'reg_lambda': 0.0006023369088501198, 'top_rate': 0.06793217574594124, 'other_rate': 0.039386856084641375, 'threshold': 70}. Best is trial 533 with value: 0.8334239392413227.\n"
     ]
    },
    {
     "name": "stdout",
     "output_type": "stream",
     "text": [
      "Score: 0.7999678909941723\n",
      "Fold 1\n",
      "Fold 2\n",
      "Fold 3\n"
     ]
    },
    {
     "name": "stderr",
     "output_type": "stream",
     "text": [
      "[I 2024-06-25 09:04:56,055] Trial 987 finished with value: 0.475538039576432 and parameters: {'boosting_type': 'goss', 'num_leaves': 60, 'max_depth': 38, 'learning_rate': 2.906676024200854e-05, 'n_estimators': 984, 'min_child_samples': 49, 'subsample': 0.6217825049488368, 'colsample_bytree': 0.6252318880204296, 'reg_alpha': 0.542165101597061, 'reg_lambda': 0.5886297231493451, 'top_rate': 0.05149653546681872, 'other_rate': 0.20309100654268328, 'threshold': 60}. Best is trial 533 with value: 0.8334239392413227.\n"
     ]
    },
    {
     "name": "stdout",
     "output_type": "stream",
     "text": [
      "Score: 0.475538039576432\n",
      "Fold 1\n",
      "Fold 2\n",
      "Fold 3\n"
     ]
    },
    {
     "name": "stderr",
     "output_type": "stream",
     "text": [
      "[I 2024-06-25 09:05:27,888] Trial 988 finished with value: 0.8327691501547818 and parameters: {'boosting_type': 'goss', 'num_leaves': 28, 'max_depth': 45, 'learning_rate': 0.020578487509708195, 'n_estimators': 873, 'min_child_samples': 62, 'subsample': 0.6623877460369001, 'colsample_bytree': 0.647403229914441, 'reg_alpha': 0.0718354686825449, 'reg_lambda': 6.907976811069799e-05, 'top_rate': 0.321420243699065, 'other_rate': 0.1745262053636647, 'threshold': 54}. Best is trial 533 with value: 0.8334239392413227.\n"
     ]
    },
    {
     "name": "stdout",
     "output_type": "stream",
     "text": [
      "Score: 0.8327691501547818\n",
      "Fold 1\n",
      "Fold 2\n",
      "Fold 3\n"
     ]
    },
    {
     "name": "stderr",
     "output_type": "stream",
     "text": [
      "[I 2024-06-25 09:06:02,945] Trial 989 finished with value: 0.475538039576432 and parameters: {'boosting_type': 'goss', 'num_leaves': 38, 'max_depth': 30, 'learning_rate': 4.442618702627172e-05, 'n_estimators': 903, 'min_child_samples': 55, 'subsample': 0.7363236898882061, 'colsample_bytree': 0.7102707395092832, 'reg_alpha': 1.4168374984570226e-07, 'reg_lambda': 1.7573178686019955, 'top_rate': 0.10446739768098853, 'other_rate': 0.44906501063337617, 'threshold': 51}. Best is trial 533 with value: 0.8334239392413227.\n"
     ]
    },
    {
     "name": "stdout",
     "output_type": "stream",
     "text": [
      "Score: 0.475538039576432\n",
      "Fold 1\n",
      "Fold 2\n",
      "Fold 3\n"
     ]
    },
    {
     "name": "stderr",
     "output_type": "stream",
     "text": [
      "[I 2024-06-25 09:06:36,595] Trial 990 finished with value: 0.8316572460681614 and parameters: {'boosting_type': 'goss', 'num_leaves': 32, 'max_depth': 17, 'learning_rate': 0.010503259441196598, 'n_estimators': 968, 'min_child_samples': 52, 'subsample': 0.7000632784020182, 'colsample_bytree': 0.6141031217186933, 'reg_alpha': 1.3442598775937293e-05, 'reg_lambda': 0.004043647234926148, 'top_rate': 0.19889884519013085, 'other_rate': 0.4064396940629158, 'threshold': 58}. Best is trial 533 with value: 0.8334239392413227.\n"
     ]
    },
    {
     "name": "stdout",
     "output_type": "stream",
     "text": [
      "Score: 0.8316572460681614\n",
      "Fold 1\n",
      "Fold 2\n",
      "Fold 3\n"
     ]
    },
    {
     "name": "stderr",
     "output_type": "stream",
     "text": [
      "[I 2024-06-25 09:07:20,708] Trial 991 finished with value: 0.778532769314544 and parameters: {'boosting_type': 'goss', 'num_leaves': 44, 'max_depth': 32, 'learning_rate': 0.0004628434336660131, 'n_estimators': 947, 'min_child_samples': 60, 'subsample': 0.8077857994912595, 'colsample_bytree': 0.732546874351382, 'reg_alpha': 1.711395386324881, 'reg_lambda': 0.00046948317224663295, 'top_rate': 0.03465810012361197, 'other_rate': 0.4630702915305453, 'threshold': 64}. Best is trial 533 with value: 0.8334239392413227.\n"
     ]
    },
    {
     "name": "stdout",
     "output_type": "stream",
     "text": [
      "Score: 0.778532769314544\n",
      "Fold 1\n",
      "Fold 2\n",
      "Fold 3\n"
     ]
    },
    {
     "name": "stderr",
     "output_type": "stream",
     "text": [
      "[I 2024-06-25 09:07:47,190] Trial 992 finished with value: 0.8285068484849368 and parameters: {'boosting_type': 'goss', 'num_leaves': 25, 'max_depth': 35, 'learning_rate': 0.08159020890780103, 'n_estimators': 1000, 'min_child_samples': 45, 'subsample': 0.7249217467436624, 'colsample_bytree': 0.6336994277923937, 'reg_alpha': 0.31766931851023333, 'reg_lambda': 0.07009431785329338, 'top_rate': 0.07592059324081472, 'other_rate': 0.4901419779094962, 'threshold': 43}. Best is trial 533 with value: 0.8334239392413227.\n"
     ]
    },
    {
     "name": "stdout",
     "output_type": "stream",
     "text": [
      "Score: 0.8285068484849368\n",
      "Fold 1\n",
      "Fold 2\n",
      "Fold 3\n"
     ]
    },
    {
     "name": "stderr",
     "output_type": "stream",
     "text": [
      "[I 2024-06-25 09:08:16,312] Trial 993 finished with value: 0.7339453093436507 and parameters: {'boosting_type': 'goss', 'num_leaves': 17, 'max_depth': 31, 'learning_rate': 0.0003205383828130057, 'n_estimators': 974, 'min_child_samples': 47, 'subsample': 0.5871414861287052, 'colsample_bytree': 0.589069568244371, 'reg_alpha': 1.0934901984737462e-07, 'reg_lambda': 2.0738326551227997e-05, 'top_rate': 0.019027509624515056, 'other_rate': 0.3340201776073693, 'threshold': 67}. Best is trial 533 with value: 0.8334239392413227.\n"
     ]
    },
    {
     "name": "stdout",
     "output_type": "stream",
     "text": [
      "Score: 0.7339453093436507\n",
      "Fold 1\n",
      "Fold 2\n",
      "Fold 3\n"
     ]
    },
    {
     "name": "stderr",
     "output_type": "stream",
     "text": [
      "[I 2024-06-25 09:08:49,819] Trial 994 finished with value: 0.8317684413764449 and parameters: {'boosting_type': 'goss', 'num_leaves': 34, 'max_depth': 50, 'learning_rate': 0.02533618940198732, 'n_estimators': 923, 'min_child_samples': 57, 'subsample': 0.7901688067695657, 'colsample_bytree': 0.6567712158162416, 'reg_alpha': 7.921834832315547e-06, 'reg_lambda': 0.0017653747917675032, 'top_rate': 0.13430618901355457, 'other_rate': 0.15912202655211347, 'threshold': 48}. Best is trial 533 with value: 0.8334239392413227.\n"
     ]
    },
    {
     "name": "stdout",
     "output_type": "stream",
     "text": [
      "Score: 0.8317684413764449\n",
      "Fold 1\n",
      "Fold 2\n",
      "Fold 3\n"
     ]
    },
    {
     "name": "stderr",
     "output_type": "stream",
     "text": [
      "[I 2024-06-25 09:09:32,872] Trial 995 finished with value: 0.8322626158317469 and parameters: {'boosting_type': 'goss', 'num_leaves': 53, 'max_depth': 37, 'learning_rate': 0.013270494683087348, 'n_estimators': 956, 'min_child_samples': 41, 'subsample': 0.5520133812019811, 'colsample_bytree': 0.5336429669098501, 'reg_alpha': 2.8351685173253353e-05, 'reg_lambda': 9.863907080440923e-06, 'top_rate': 0.43877847849472035, 'other_rate': 0.23450896531086685, 'threshold': 61}. Best is trial 533 with value: 0.8334239392413227.\n"
     ]
    },
    {
     "name": "stdout",
     "output_type": "stream",
     "text": [
      "Score: 0.8322626158317469\n",
      "Fold 1\n",
      "Fold 2\n",
      "Fold 3\n"
     ]
    },
    {
     "name": "stderr",
     "output_type": "stream",
     "text": [
      "[I 2024-06-25 09:11:22,275] Trial 996 finished with value: 0.8317684477871646 and parameters: {'boosting_type': 'goss', 'num_leaves': 239, 'max_depth': 60, 'learning_rate': 0.00619567193538639, 'n_estimators': 982, 'min_child_samples': 50, 'subsample': 0.9640667816192384, 'colsample_bytree': 0.7971487115226003, 'reg_alpha': 1.9083652313765275e-07, 'reg_lambda': 0.0010315946461463591, 'top_rate': 0.09601839760748011, 'other_rate': 0.47616431477765075, 'threshold': 56}. Best is trial 533 with value: 0.8334239392413227.\n"
     ]
    },
    {
     "name": "stdout",
     "output_type": "stream",
     "text": [
      "Score: 0.8317684477871646\n",
      "Fold 1\n",
      "Fold 2\n",
      "Fold 3\n"
     ]
    },
    {
     "name": "stderr",
     "output_type": "stream",
     "text": [
      "[I 2024-06-25 09:12:02,229] Trial 997 finished with value: 0.82688840732783 and parameters: {'boosting_type': 'goss', 'num_leaves': 47, 'max_depth': 56, 'learning_rate': 0.05251952128971031, 'n_estimators': 936, 'min_child_samples': 54, 'subsample': 0.6003758570410627, 'colsample_bytree': 0.7694666461961874, 'reg_alpha': 0.7710040133282148, 'reg_lambda': 4.603654413858422, 'top_rate': 0.20854530183480569, 'other_rate': 0.10437495320957152, 'threshold': 60}. Best is trial 533 with value: 0.8334239392413227.\n"
     ]
    },
    {
     "name": "stdout",
     "output_type": "stream",
     "text": [
      "Score: 0.82688840732783\n",
      "Fold 1\n",
      "Fold 2\n",
      "Fold 3\n"
     ]
    },
    {
     "name": "stderr",
     "output_type": "stream",
     "text": [
      "[I 2024-06-25 09:13:39,524] Trial 998 finished with value: 0.8308912726631422 and parameters: {'boosting_type': 'goss', 'num_leaves': 213, 'max_depth': 34, 'learning_rate': 0.018496301261093834, 'n_estimators': 1000, 'min_child_samples': 43, 'subsample': 0.8165499429276507, 'colsample_bytree': 0.6684294610197853, 'reg_alpha': 4.0954689945015406e-07, 'reg_lambda': 7.017430700144118e-06, 'top_rate': 0.27676433205038653, 'other_rate': 0.4334913313635946, 'threshold': 63}. Best is trial 533 with value: 0.8334239392413227.\n"
     ]
    },
    {
     "name": "stdout",
     "output_type": "stream",
     "text": [
      "Score: 0.8308912726631422\n",
      "Fold 1\n",
      "Fold 2\n",
      "Fold 3\n"
     ]
    },
    {
     "name": "stderr",
     "output_type": "stream",
     "text": [
      "[I 2024-06-25 09:14:06,233] Trial 999 finished with value: 0.8331150904524628 and parameters: {'boosting_type': 'goss', 'num_leaves': 23, 'max_depth': -1, 'learning_rate': 0.03386318617035505, 'n_estimators': 969, 'min_child_samples': 49, 'subsample': 0.915924662900106, 'colsample_bytree': 0.5672041585070235, 'reg_alpha': 8.626112538054128e-07, 'reg_lambda': 1.9141248094844187e-08, 'top_rate': 0.05929489277294197, 'other_rate': 0.4543767621844024, 'threshold': 58}. Best is trial 533 with value: 0.8334239392413227.\n"
     ]
    },
    {
     "name": "stdout",
     "output_type": "stream",
     "text": [
      "Score: 0.8331150904524628\n"
     ]
    }
   ],
   "source": [
    "warnings.filterwarnings(\"ignore\")\n",
    "\n",
    "# Configuração do estudo\n",
    "study = optuna.create_study(direction='maximize', sampler=TPESampler(), pruner=MedianPruner())\n",
    "study.optimize(lambda trial: objective(trial, X, y), n_trials=1000)"
   ]
  },
  {
   "cell_type": "code",
   "execution_count": 96,
   "metadata": {},
   "outputs": [
    {
     "name": "stdout",
     "output_type": "stream",
     "text": [
      "Best trial: 533\n",
      "Best value: 0.8334239392413227\n",
      "Best params: {'boosting_type': 'goss', 'num_leaves': 26, 'max_depth': 29, 'learning_rate': 0.019777145894017006, 'n_estimators': 961, 'min_child_samples': 60, 'subsample': 0.9206395466786965, 'colsample_bytree': 0.6516576146105851, 'reg_alpha': 3.564276489131016e-08, 'reg_lambda': 0.004800009488178458, 'top_rate': 0.025957543189225753, 'other_rate': 0.47922731376330013, 'threshold': 49}\n"
     ]
    }
   ],
   "source": [
    "# Melhor conjunto de hiperparâmetros\n",
    "print(f\"Best trial: {study.best_trial.number}\")\n",
    "print(f\"Best value: {study.best_value}\")\n",
    "print(f\"Best params: {study.best_trial.params}\")"
   ]
  },
  {
   "cell_type": "code",
   "execution_count": 97,
   "metadata": {},
   "outputs": [],
   "source": [
    "best_threshold = 49\n",
    "\n",
    "        \n",
    "lgbm_best_params = {'objective': 'multiclass', 'metric': 'multi_logloss','num_class': 3,'boosting_type': 'goss', 'num_leaves': 26, 'max_depth': 29, 'learning_rate': 0.019777145894017006, 'n_estimators': 961, 'min_child_samples': 60, 'subsample': 0.9206395466786965, 'colsample_bytree': 0.6516576146105851, 'reg_alpha': 3.564276489131016e-08, 'reg_lambda': 0.004800009488178458, 'top_rate': 0.025957543189225753, 'other_rate': 0.47922731376330013, 'verbosity': -1,}\n"
   ]
  },
  {
   "cell_type": "code",
   "execution_count": 98,
   "metadata": {},
   "outputs": [],
   "source": [
    "cat_features = []\n",
    "\n",
    "for col in initial_features:\n",
    "    unique_values = X[col].nunique()\n",
    "    \n",
    "    if unique_values <= best_threshold:\n",
    "        X[col] = X[col].astype('category')\n",
    "        cat_features.append(col)\n",
    "\n",
    "preprocessor = ColumnTransformer(\n",
    "transformers=[\n",
    "    ('num', StandardScaler(), num_features),\n",
    "    ('cat', OneHotEncoder(handle_unknown='ignore'), cat_features),\n",
    "])\n",
    "\n",
    "lgbm = Pipeline(steps=[\n",
    "('preprocessor', preprocessor),\n",
    "('classifier', LGBMClassifier(**lgbm_best_params))\n",
    "                ])"
   ]
  },
  {
   "cell_type": "code",
   "execution_count": 99,
   "metadata": {},
   "outputs": [
    {
     "name": "stdout",
     "output_type": "stream",
     "text": [
      "Fold 1\n",
      "Fold 2\n",
      "Fold 3\n",
      "Fold 4\n",
      "Fold 5\n",
      "Score: 0.8326826338792704\n"
     ]
    }
   ],
   "source": [
    "scores,oof = cross_validation(lgbm, X, y, encoder)"
   ]
  },
  {
   "cell_type": "code",
   "execution_count": 100,
   "metadata": {},
   "outputs": [
    {
     "data": {
      "text/plain": [
       "[0.8348261164988573,\n",
       " 0.8327876953486936,\n",
       " 0.8303063998023227,\n",
       " 0.83117123795404,\n",
       " 0.8343217197924389]"
      ]
     },
     "execution_count": 100,
     "metadata": {},
     "output_type": "execute_result"
    }
   ],
   "source": [
    "scores"
   ]
  },
  {
   "cell_type": "code",
   "execution_count": 101,
   "metadata": {},
   "outputs": [],
   "source": [
    "for fold in oof:\n",
    "    fold['true'] = fold['true'].replace(encoder)\n",
    "\n",
    "save_oof(oof)"
   ]
  },
  {
   "cell_type": "code",
   "execution_count": 102,
   "metadata": {},
   "outputs": [
    {
     "data": {
      "text/html": [
       "<div>\n",
       "<style scoped>\n",
       "    .dataframe tbody tr th:only-of-type {\n",
       "        vertical-align: middle;\n",
       "    }\n",
       "\n",
       "    .dataframe tbody tr th {\n",
       "        vertical-align: top;\n",
       "    }\n",
       "\n",
       "    .dataframe thead th {\n",
       "        text-align: right;\n",
       "    }\n",
       "</style>\n",
       "<table border=\"1\" class=\"dataframe\">\n",
       "  <thead>\n",
       "    <tr style=\"text-align: right;\">\n",
       "      <th></th>\n",
       "      <th>pred_Enrolled</th>\n",
       "      <th>pred_Graduate</th>\n",
       "      <th>pred_Dropout</th>\n",
       "    </tr>\n",
       "  </thead>\n",
       "  <tbody>\n",
       "    <tr>\n",
       "      <th>0</th>\n",
       "      <td>0.003152</td>\n",
       "      <td>0.002334</td>\n",
       "      <td>0.994514</td>\n",
       "    </tr>\n",
       "    <tr>\n",
       "      <th>1</th>\n",
       "      <td>0.011473</td>\n",
       "      <td>0.984897</td>\n",
       "      <td>0.003630</td>\n",
       "    </tr>\n",
       "    <tr>\n",
       "      <th>2</th>\n",
       "      <td>0.229215</td>\n",
       "      <td>0.735398</td>\n",
       "      <td>0.035387</td>\n",
       "    </tr>\n",
       "    <tr>\n",
       "      <th>3</th>\n",
       "      <td>0.430074</td>\n",
       "      <td>0.341587</td>\n",
       "      <td>0.228339</td>\n",
       "    </tr>\n",
       "    <tr>\n",
       "      <th>4</th>\n",
       "      <td>0.640338</td>\n",
       "      <td>0.049929</td>\n",
       "      <td>0.309733</td>\n",
       "    </tr>\n",
       "    <tr>\n",
       "      <th>...</th>\n",
       "      <td>...</td>\n",
       "      <td>...</td>\n",
       "      <td>...</td>\n",
       "    </tr>\n",
       "    <tr>\n",
       "      <th>51007</th>\n",
       "      <td>0.053626</td>\n",
       "      <td>0.088670</td>\n",
       "      <td>0.857704</td>\n",
       "    </tr>\n",
       "    <tr>\n",
       "      <th>51008</th>\n",
       "      <td>0.019440</td>\n",
       "      <td>0.000473</td>\n",
       "      <td>0.980087</td>\n",
       "    </tr>\n",
       "    <tr>\n",
       "      <th>51009</th>\n",
       "      <td>0.011323</td>\n",
       "      <td>0.007578</td>\n",
       "      <td>0.981100</td>\n",
       "    </tr>\n",
       "    <tr>\n",
       "      <th>51010</th>\n",
       "      <td>0.068406</td>\n",
       "      <td>0.014222</td>\n",
       "      <td>0.917372</td>\n",
       "    </tr>\n",
       "    <tr>\n",
       "      <th>51011</th>\n",
       "      <td>0.009931</td>\n",
       "      <td>0.011988</td>\n",
       "      <td>0.978081</td>\n",
       "    </tr>\n",
       "  </tbody>\n",
       "</table>\n",
       "<p>51012 rows × 3 columns</p>\n",
       "</div>"
      ],
      "text/plain": [
       "       pred_Enrolled  pred_Graduate  pred_Dropout\n",
       "0           0.003152       0.002334      0.994514\n",
       "1           0.011473       0.984897      0.003630\n",
       "2           0.229215       0.735398      0.035387\n",
       "3           0.430074       0.341587      0.228339\n",
       "4           0.640338       0.049929      0.309733\n",
       "...              ...            ...           ...\n",
       "51007       0.053626       0.088670      0.857704\n",
       "51008       0.019440       0.000473      0.980087\n",
       "51009       0.011323       0.007578      0.981100\n",
       "51010       0.068406       0.014222      0.917372\n",
       "51011       0.009931       0.011988      0.978081\n",
       "\n",
       "[51012 rows x 3 columns]"
      ]
     },
     "execution_count": 102,
     "metadata": {},
     "output_type": "execute_result"
    }
   ],
   "source": [
    "X_test = test[initial_features]\n",
    "\n",
    "predict_test(lgbm, X, y, X_test, encoder)"
   ]
  },
  {
   "cell_type": "code",
   "execution_count": null,
   "metadata": {},
   "outputs": [],
   "source": []
  }
 ],
 "metadata": {
  "kernelspec": {
   "display_name": "penidoEnv",
   "language": "python",
   "name": "python3"
  },
  "language_info": {
   "codemirror_mode": {
    "name": "ipython",
    "version": 3
   },
   "file_extension": ".py",
   "mimetype": "text/x-python",
   "name": "python",
   "nbconvert_exporter": "python",
   "pygments_lexer": "ipython3",
   "version": "3.9.19"
  }
 },
 "nbformat": 4,
 "nbformat_minor": 2
}
