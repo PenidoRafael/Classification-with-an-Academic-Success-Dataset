{
 "cells": [
  {
   "cell_type": "code",
   "execution_count": 2,
   "metadata": {},
   "outputs": [
    {
     "name": "stderr",
     "output_type": "stream",
     "text": [
      "/home/rafael/anaconda3/envs/penidoEnv/lib/python3.9/site-packages/tqdm/auto.py:21: TqdmWarning: IProgress not found. Please update jupyter and ipywidgets. See https://ipywidgets.readthedocs.io/en/stable/user_install.html\n",
      "  from .autonotebook import tqdm as notebook_tqdm\n"
     ]
    }
   ],
   "source": [
    "import os\n",
    "import pandas as pd\n",
    "import numpy as np\n",
    "import warnings\n",
    "from xgboost import XGBClassifier\n",
    "\n",
    "from sklearn.model_selection import StratifiedKFold, cross_val_score\n",
    "from sklearn.preprocessing import MinMaxScaler, LabelEncoder\n",
    "\n",
    "\n",
    "from sklearn.metrics import accuracy_score\n",
    "from sklearn.compose import ColumnTransformer\n",
    "from sklearn.preprocessing import OneHotEncoder, StandardScaler\n",
    "from sklearn.pipeline import Pipeline\n",
    "from sklearn.pipeline import make_pipeline\n",
    "\n",
    "from psod.outlier_detection.psod import PSOD\n",
    "from psod.preprocessing.full_preprocessing import auto_preprocess\n",
    "\n",
    "import optuna\n",
    "from optuna import Trial\n",
    "from optuna.samplers import TPESampler\n",
    "from optuna.pruners import MedianPruner\n",
    "\n",
    "SEED = 42 # Muito importante manter a SEED igual em todos os modelos para garantir a consistência dos dados no ensemble\n",
    "FOLDS = 5 # Muito importante manter o mesmo número de FOLDS em todos os modelos para garantir a consistência dos dados no ensemble"
   ]
  },
  {
   "cell_type": "code",
   "execution_count": 50,
   "metadata": {},
   "outputs": [],
   "source": [
    "sintetico = pd.read_csv('../../src/train/train.csv', index_col='id')\n",
    "original = pd.read_csv('../../src/train/original.csv')\n",
    "test = pd.read_csv('../../src/test/test.csv', index_col='id')\n",
    "\n",
    "train = pd.concat([sintetico, original], ignore_index=True)\n",
    "\n",
    "initial_features = list(test.columns)"
   ]
  },
  {
   "cell_type": "code",
   "execution_count": 14,
   "metadata": {},
   "outputs": [],
   "source": [
    "def cross_validation(model, X, y, encoder, stdevs_to_outlier, scoring=accuracy_score):\n",
    "\n",
    "    skf = StratifiedKFold(n_splits=FOLDS, shuffle=True, random_state=SEED)\n",
    "\n",
    "    scores = []\n",
    "    out_of_fold = []\n",
    "    \n",
    "    for i, (train_index, val_index) in enumerate(skf.split(X, y)):\n",
    "        \n",
    "        print(f\"Fold {i + 1}\")\n",
    "        \n",
    "        X_train = X.iloc[train_index]\n",
    "        y_train = y.iloc[train_index]\n",
    "\n",
    "        X_val = X.iloc[val_index]\n",
    "        y_val = y.iloc[val_index]\n",
    "\n",
    "        iso_class = PSOD(stdevs_to_outlier=stdevs_to_outlier, flag_outlier_on=\"both ends\")\n",
    "        psod_outlier_class = iso_class.fit_predict(auto_preprocess(X_train), return_class=True)\n",
    "\n",
    "        X_train[\"psod_outliers\"] = psod_outlier_class\n",
    "        X_train = X_train[X_train[\"psod_outliers\"] == 0]\n",
    "        X_train = X_train.drop(\"psod_outliers\", axis=1)\n",
    "        X_train = X_train.reset_index(drop=True)\n",
    "\n",
    "        # Filtrando os outliers em y_train\n",
    "        y_train = y_train.iloc[X_train.index]\n",
    "        \n",
    "        model.fit(X_train, y_train)\n",
    "\n",
    "        probabilidades = model.predict_proba(X_val)\n",
    "\n",
    "        # Recuperar a predição final a partir das probabilidades\n",
    "        indices_predicoes = np.argmax(probabilidades, axis=1)\n",
    "        classes_preditas = model.classes_[indices_predicoes]\n",
    "\n",
    "        score = scoring(y_val, classes_preditas)\n",
    "\n",
    "        scores.append(score)\n",
    "\n",
    "        true_label = pd.Series(y_val.values, name='true')\n",
    "\n",
    "        pred_label_df = pd.DataFrame(probabilidades)\n",
    "\n",
    "        oof_pred = pd.concat([pred_label_df, true_label], axis=1, ignore_index=True)\n",
    "        oof_pred.columns = [f'pred_{encoder.classes_[model.classes_[0]]}', f'pred_{encoder.classes_[model.classes_[1]]}', f'pred_{encoder.classes_[model.classes_[2]]}', 'true']\n",
    "\n",
    "        out_of_fold.append(oof_pred)\n",
    "\n",
    "    print(f\"Score: {np.mean(scores)}\")\n",
    "    \n",
    "    return scores, out_of_fold"
   ]
  },
  {
   "cell_type": "code",
   "execution_count": 5,
   "metadata": {},
   "outputs": [],
   "source": [
    "def save_oof(oof):\n",
    "\n",
    "    os.makedirs('oof', exist_ok=True)\n",
    "\n",
    "    for i, fold in enumerate(oof):\n",
    "        fold.to_csv(f'oof/fold_{i+1}.csv', index=False)"
   ]
  },
  {
   "cell_type": "code",
   "execution_count": 27,
   "metadata": {},
   "outputs": [],
   "source": [
    "def predict_test(model, X_train, y_train, X_test, std_threshold, encoder):\n",
    "\n",
    "    iso_class = PSOD(stdevs_to_outlier=std_threshold, flag_outlier_on=\"both ends\")\n",
    "    psod_outlier_class = iso_class.fit_predict(auto_preprocess(X_train), return_class=True)\n",
    "\n",
    "    X_train[\"psod_outliers\"] = psod_outlier_class\n",
    "    X_train = X_train[X_train[\"psod_outliers\"] == 0]\n",
    "    X_train = X_train.drop(\"psod_outliers\", axis=1)\n",
    "    X_train = X_train.reset_index(drop=True)\n",
    "\n",
    "    # Filtrando os outliers em y_train\n",
    "    y_train = y_train.iloc[X_train.index]\n",
    "\n",
    "    model.fit(X_train, y_train)\n",
    "\n",
    "    probabilidades = model.predict_proba(X_test)\n",
    "    pred_label_df = pd.DataFrame(probabilidades)\n",
    "\n",
    "    pred_label_df.columns = [f'pred_{encoder[model.classes_[0]]}', f'pred_{encoder[model.classes_[1]]}', f'pred_{encoder[model.classes_[2]]}']\n",
    "\n",
    "    os.makedirs('test', exist_ok=True)\n",
    "\n",
    "    pred_label_df.to_csv(f'test/test_pred.csv', index=False)\n",
    "\n",
    "    return pred_label_df"
   ]
  },
  {
   "cell_type": "code",
   "execution_count": 51,
   "metadata": {},
   "outputs": [],
   "source": [
    "le = LabelEncoder()\n",
    "\n",
    "y = pd.DataFrame(le.fit_transform(train['Target']), columns=['Target'])\n",
    "y = y['Target']\n",
    "X = train[initial_features]"
   ]
  },
  {
   "cell_type": "code",
   "execution_count": 83,
   "metadata": {},
   "outputs": [],
   "source": [
    "# Função objetivo para a otimização\n",
    "def objective(trial: Trial, X_cp, y):\n",
    "\n",
    "    X = X_cp.copy()\n",
    "\n",
    "    param = {\n",
    "        'verbosity': 0,\n",
    "        'objective': 'multi:softmax',\n",
    "        'num_class': 3,\n",
    "        'eval_metric': 'mlogloss',\n",
    "        'booster': 'gbtree',\n",
    "        'lambda': trial.suggest_loguniform('lambda', 1e-8, 1.0),\n",
    "        'alpha': trial.suggest_loguniform('alpha', 1e-8, 1.0),\n",
    "        'eta': trial.suggest_loguniform('eta', 1e-3, 0.3),\n",
    "        'gamma': trial.suggest_loguniform('gamma', 1e-8, 1.0),\n",
    "        'max_depth': trial.suggest_int('max_depth', 3, 9),\n",
    "        'min_child_weight': trial.suggest_loguniform('min_child_weight', 1e-8, 1.0),\n",
    "        'subsample': trial.suggest_uniform('subsample', 0.5, 1.0),\n",
    "        'colsample_bytree': trial.suggest_uniform('colsample_bytree', 0.5, 1.0),\n",
    "        'colsample_bylevel': trial.suggest_uniform('colsample_bylevel', 0.5, 1.0),\n",
    "        'colsample_bynode': trial.suggest_uniform('colsample_bynode', 0.5, 1.0),\n",
    "        'scale_pos_weight': trial.suggest_loguniform('scale_pos_weight', 1e-8, 1.0),\n",
    "        'enable_categorical': True,\n",
    "    }\n",
    "\n",
    "    threshold = 25\n",
    "    std_threshold = 10\n",
    "\n",
    "    num_features = []\n",
    "    for col in initial_features:\n",
    "        unique_values = X[col].nunique()\n",
    "        \n",
    "        if unique_values <= threshold:\n",
    "            X[col] = X[col].astype('category').cat.as_ordered()\n",
    "        else:\n",
    "            num_features.append(col)\n",
    "\n",
    "    preprocessor = ColumnTransformer(\n",
    "    transformers=[\n",
    "        ('num', StandardScaler(), num_features),\n",
    "    ])\n",
    "\n",
    "    xgb = Pipeline(steps=[\n",
    "        ('preprocessor', preprocessor),\n",
    "        ('classifier', XGBClassifier(**param)),\n",
    "    ])\n",
    "    \n",
    "    scores,_ = cross_validation(xgb, X, y, le, std_threshold)\n",
    "    accuracy = np.mean(scores)\n",
    "\n",
    "\n",
    "    return accuracy"
   ]
  },
  {
   "cell_type": "code",
   "execution_count": 84,
   "metadata": {},
   "outputs": [
    {
     "name": "stderr",
     "output_type": "stream",
     "text": [
      "[I 2024-06-30 15:25:20,352] A new study created in memory with name: no-name-bb4882dc-22eb-4f49-8c46-61c67e8501fb\n"
     ]
    },
    {
     "name": "stdout",
     "output_type": "stream",
     "text": [
      "Fold 1\n",
      "Memory usage of dataframe is 7.48 MB\n",
      "Memory usage after optimization is: 4.63 MB\n",
      "Decreased by 38.1%\n"
     ]
    },
    {
     "name": "stderr",
     "output_type": "stream",
     "text": [
      "100%|██████████| 36/36 [00:10<00:00,  3.55it/s]\n"
     ]
    },
    {
     "name": "stdout",
     "output_type": "stream",
     "text": [
      "Fold 2\n",
      "Memory usage of dataframe is 7.48 MB\n",
      "Memory usage after optimization is: 4.63 MB\n",
      "Decreased by 38.1%\n"
     ]
    },
    {
     "name": "stderr",
     "output_type": "stream",
     "text": [
      "100%|██████████| 36/36 [00:10<00:00,  3.59it/s]\n"
     ]
    },
    {
     "name": "stdout",
     "output_type": "stream",
     "text": [
      "Fold 3\n",
      "Memory usage of dataframe is 7.48 MB\n",
      "Memory usage after optimization is: 4.63 MB\n",
      "Decreased by 38.1%\n"
     ]
    },
    {
     "name": "stderr",
     "output_type": "stream",
     "text": [
      "100%|██████████| 36/36 [00:09<00:00,  3.77it/s]\n"
     ]
    },
    {
     "name": "stdout",
     "output_type": "stream",
     "text": [
      "Fold 4\n",
      "Memory usage of dataframe is 7.48 MB\n",
      "Memory usage after optimization is: 4.63 MB\n",
      "Decreased by 38.1%\n"
     ]
    },
    {
     "name": "stderr",
     "output_type": "stream",
     "text": [
      "100%|██████████| 36/36 [00:09<00:00,  3.80it/s]\n"
     ]
    },
    {
     "name": "stdout",
     "output_type": "stream",
     "text": [
      "Fold 5\n",
      "Memory usage of dataframe is 7.48 MB\n",
      "Memory usage after optimization is: 4.63 MB\n",
      "Decreased by 38.1%\n"
     ]
    },
    {
     "name": "stderr",
     "output_type": "stream",
     "text": [
      "100%|██████████| 36/36 [00:09<00:00,  3.86it/s]\n",
      "[I 2024-06-30 15:26:15,282] Trial 0 finished with value: 0.7576165482414662 and parameters: {'lambda': 0.007112757966517701, 'alpha': 9.049520107649574e-05, 'eta': 0.014217673287961086, 'gamma': 0.7188942806011019, 'max_depth': 4, 'min_child_weight': 0.030373672117534462, 'subsample': 0.6574891555895794, 'colsample_bytree': 0.7289728801879453, 'colsample_bylevel': 0.9964088118441116, 'colsample_bynode': 0.5769623039039038, 'scale_pos_weight': 9.093302782009317e-08}. Best is trial 0 with value: 0.7576165482414662.\n"
     ]
    },
    {
     "name": "stdout",
     "output_type": "stream",
     "text": [
      "Score: 0.7576165482414662\n",
      "Fold 1\n",
      "Memory usage of dataframe is 7.48 MB\n",
      "Memory usage after optimization is: 4.63 MB\n",
      "Decreased by 38.1%\n"
     ]
    },
    {
     "name": "stderr",
     "output_type": "stream",
     "text": [
      "100%|██████████| 36/36 [00:09<00:00,  3.76it/s]\n"
     ]
    },
    {
     "name": "stdout",
     "output_type": "stream",
     "text": [
      "Fold 2\n",
      "Memory usage of dataframe is 7.48 MB\n",
      "Memory usage after optimization is: 4.63 MB\n",
      "Decreased by 38.1%\n"
     ]
    },
    {
     "name": "stderr",
     "output_type": "stream",
     "text": [
      "100%|██████████| 36/36 [00:09<00:00,  3.86it/s]\n"
     ]
    },
    {
     "name": "stdout",
     "output_type": "stream",
     "text": [
      "Fold 3\n",
      "Memory usage of dataframe is 7.48 MB\n",
      "Memory usage after optimization is: 4.63 MB\n",
      "Decreased by 38.1%\n"
     ]
    },
    {
     "name": "stderr",
     "output_type": "stream",
     "text": [
      "100%|██████████| 36/36 [00:09<00:00,  3.82it/s]\n"
     ]
    },
    {
     "name": "stdout",
     "output_type": "stream",
     "text": [
      "Fold 4\n",
      "Memory usage of dataframe is 7.48 MB\n",
      "Memory usage after optimization is: 4.63 MB\n",
      "Decreased by 38.1%\n"
     ]
    },
    {
     "name": "stderr",
     "output_type": "stream",
     "text": [
      "100%|██████████| 36/36 [00:09<00:00,  3.83it/s]\n"
     ]
    },
    {
     "name": "stdout",
     "output_type": "stream",
     "text": [
      "Fold 5\n",
      "Memory usage of dataframe is 7.48 MB\n",
      "Memory usage after optimization is: 4.63 MB\n",
      "Decreased by 38.1%\n"
     ]
    },
    {
     "name": "stderr",
     "output_type": "stream",
     "text": [
      "100%|██████████| 36/36 [00:09<00:00,  3.73it/s]\n",
      "[I 2024-06-30 15:27:08,694] Trial 1 finished with value: 0.7681054988528682 and parameters: {'lambda': 1.7503721651127914e-07, 'alpha': 5.196973975991175e-07, 'eta': 0.13277195847394438, 'gamma': 0.189286174830139, 'max_depth': 5, 'min_child_weight': 1.752456013438404e-06, 'subsample': 0.6417173026163672, 'colsample_bytree': 0.8698999339058514, 'colsample_bylevel': 0.5788309334248987, 'colsample_bynode': 0.7401975732967161, 'scale_pos_weight': 3.2216519714135905e-08}. Best is trial 1 with value: 0.7681054988528682.\n"
     ]
    },
    {
     "name": "stdout",
     "output_type": "stream",
     "text": [
      "Score: 0.7681054988528682\n",
      "Fold 1\n",
      "Memory usage of dataframe is 7.48 MB\n",
      "Memory usage after optimization is: 4.63 MB\n",
      "Decreased by 38.1%\n"
     ]
    },
    {
     "name": "stderr",
     "output_type": "stream",
     "text": [
      "100%|██████████| 36/36 [00:09<00:00,  3.65it/s]\n"
     ]
    },
    {
     "name": "stdout",
     "output_type": "stream",
     "text": [
      "Fold 2\n",
      "Memory usage of dataframe is 7.48 MB\n",
      "Memory usage after optimization is: 4.63 MB\n",
      "Decreased by 38.1%\n"
     ]
    },
    {
     "name": "stderr",
     "output_type": "stream",
     "text": [
      "100%|██████████| 36/36 [00:09<00:00,  3.75it/s]\n"
     ]
    },
    {
     "name": "stdout",
     "output_type": "stream",
     "text": [
      "Fold 3\n",
      "Memory usage of dataframe is 7.48 MB\n",
      "Memory usage after optimization is: 4.63 MB\n",
      "Decreased by 38.1%\n"
     ]
    },
    {
     "name": "stderr",
     "output_type": "stream",
     "text": [
      "100%|██████████| 36/36 [00:09<00:00,  3.79it/s]\n"
     ]
    },
    {
     "name": "stdout",
     "output_type": "stream",
     "text": [
      "Fold 4\n",
      "Memory usage of dataframe is 7.48 MB\n",
      "Memory usage after optimization is: 4.63 MB\n",
      "Decreased by 38.1%\n"
     ]
    },
    {
     "name": "stderr",
     "output_type": "stream",
     "text": [
      "100%|██████████| 36/36 [00:09<00:00,  3.73it/s]\n"
     ]
    },
    {
     "name": "stdout",
     "output_type": "stream",
     "text": [
      "Fold 5\n",
      "Memory usage of dataframe is 7.48 MB\n",
      "Memory usage after optimization is: 4.63 MB\n",
      "Decreased by 38.1%\n"
     ]
    },
    {
     "name": "stderr",
     "output_type": "stream",
     "text": [
      "100%|██████████| 36/36 [00:09<00:00,  3.69it/s]\n",
      "[I 2024-06-30 15:28:01,631] Trial 2 finished with value: 0.7642632907307266 and parameters: {'lambda': 1.5972475659193193e-07, 'alpha': 0.291099379976246, 'eta': 0.07252087477386727, 'gamma': 0.0005071685858963327, 'max_depth': 3, 'min_child_weight': 8.082088354850552e-06, 'subsample': 0.9856047644364279, 'colsample_bytree': 0.7872675129896471, 'colsample_bylevel': 0.6890430155920177, 'colsample_bynode': 0.9314187554424604, 'scale_pos_weight': 0.0011284089084089555}. Best is trial 1 with value: 0.7681054988528682.\n"
     ]
    },
    {
     "name": "stdout",
     "output_type": "stream",
     "text": [
      "Score: 0.7642632907307266\n",
      "Fold 1\n",
      "Memory usage of dataframe is 7.48 MB\n",
      "Memory usage after optimization is: 4.63 MB\n",
      "Decreased by 38.1%\n"
     ]
    },
    {
     "name": "stderr",
     "output_type": "stream",
     "text": [
      "100%|██████████| 36/36 [00:09<00:00,  3.78it/s]\n"
     ]
    },
    {
     "name": "stdout",
     "output_type": "stream",
     "text": [
      "Fold 2\n",
      "Memory usage of dataframe is 7.48 MB\n",
      "Memory usage after optimization is: 4.63 MB\n",
      "Decreased by 38.1%\n"
     ]
    },
    {
     "name": "stderr",
     "output_type": "stream",
     "text": [
      "100%|██████████| 36/36 [00:09<00:00,  3.77it/s]\n"
     ]
    },
    {
     "name": "stdout",
     "output_type": "stream",
     "text": [
      "Fold 3\n",
      "Memory usage of dataframe is 7.48 MB\n",
      "Memory usage after optimization is: 4.63 MB\n",
      "Decreased by 38.1%\n"
     ]
    },
    {
     "name": "stderr",
     "output_type": "stream",
     "text": [
      "100%|██████████| 36/36 [00:09<00:00,  3.77it/s]\n"
     ]
    },
    {
     "name": "stdout",
     "output_type": "stream",
     "text": [
      "Fold 4\n",
      "Memory usage of dataframe is 7.48 MB\n",
      "Memory usage after optimization is: 4.63 MB\n",
      "Decreased by 38.1%\n"
     ]
    },
    {
     "name": "stderr",
     "output_type": "stream",
     "text": [
      "100%|██████████| 36/36 [00:09<00:00,  3.81it/s]\n"
     ]
    },
    {
     "name": "stdout",
     "output_type": "stream",
     "text": [
      "Fold 5\n",
      "Memory usage of dataframe is 7.48 MB\n",
      "Memory usage after optimization is: 4.63 MB\n",
      "Decreased by 38.1%\n"
     ]
    },
    {
     "name": "stderr",
     "output_type": "stream",
     "text": [
      "100%|██████████| 36/36 [00:09<00:00,  3.74it/s]\n",
      "[I 2024-06-30 15:28:54,688] Trial 3 finished with value: 0.7441253989448796 and parameters: {'lambda': 6.387980616184061e-07, 'alpha': 0.20033687594418342, 'eta': 0.003118874800113155, 'gamma': 1.6386774095224172e-08, 'max_depth': 4, 'min_child_weight': 1.726840426677307e-08, 'subsample': 0.7901881682015162, 'colsample_bytree': 0.6143950253523462, 'colsample_bylevel': 0.9613422837156909, 'colsample_bynode': 0.5356343911066326, 'scale_pos_weight': 2.0087058944137484e-08}. Best is trial 1 with value: 0.7681054988528682.\n"
     ]
    },
    {
     "name": "stdout",
     "output_type": "stream",
     "text": [
      "Score: 0.7441253989448796\n",
      "Fold 1\n",
      "Memory usage of dataframe is 7.48 MB\n",
      "Memory usage after optimization is: 4.63 MB\n",
      "Decreased by 38.1%\n"
     ]
    },
    {
     "name": "stderr",
     "output_type": "stream",
     "text": [
      "100%|██████████| 36/36 [00:09<00:00,  3.70it/s]\n"
     ]
    },
    {
     "name": "stdout",
     "output_type": "stream",
     "text": [
      "Fold 2\n",
      "Memory usage of dataframe is 7.48 MB\n",
      "Memory usage after optimization is: 4.63 MB\n",
      "Decreased by 38.1%\n"
     ]
    },
    {
     "name": "stderr",
     "output_type": "stream",
     "text": [
      "100%|██████████| 36/36 [00:09<00:00,  3.71it/s]\n"
     ]
    },
    {
     "name": "stdout",
     "output_type": "stream",
     "text": [
      "Fold 3\n",
      "Memory usage of dataframe is 7.48 MB\n",
      "Memory usage after optimization is: 4.63 MB\n",
      "Decreased by 38.1%\n"
     ]
    },
    {
     "name": "stderr",
     "output_type": "stream",
     "text": [
      "100%|██████████| 36/36 [00:09<00:00,  3.72it/s]\n"
     ]
    },
    {
     "name": "stdout",
     "output_type": "stream",
     "text": [
      "Fold 4\n",
      "Memory usage of dataframe is 7.48 MB\n",
      "Memory usage after optimization is: 4.63 MB\n",
      "Decreased by 38.1%\n"
     ]
    },
    {
     "name": "stderr",
     "output_type": "stream",
     "text": [
      "100%|██████████| 36/36 [00:09<00:00,  3.73it/s]\n"
     ]
    },
    {
     "name": "stdout",
     "output_type": "stream",
     "text": [
      "Fold 5\n",
      "Memory usage of dataframe is 7.48 MB\n",
      "Memory usage after optimization is: 4.63 MB\n",
      "Decreased by 38.1%\n"
     ]
    },
    {
     "name": "stderr",
     "output_type": "stream",
     "text": [
      "100%|██████████| 36/36 [00:09<00:00,  3.81it/s]\n",
      "[I 2024-06-30 15:29:49,118] Trial 4 finished with value: 0.7665612083529675 and parameters: {'lambda': 6.68628369255311e-05, 'alpha': 0.03555026100978409, 'eta': 0.2654328594827402, 'gamma': 0.7075580010148788, 'max_depth': 7, 'min_child_weight': 2.7611995418505884e-08, 'subsample': 0.8145821778655773, 'colsample_bytree': 0.5349219240690086, 'colsample_bylevel': 0.888897795394816, 'colsample_bynode': 0.878983125874433, 'scale_pos_weight': 2.9174369167907638e-05}. Best is trial 1 with value: 0.7681054988528682.\n"
     ]
    },
    {
     "name": "stdout",
     "output_type": "stream",
     "text": [
      "Score: 0.7665612083529675\n",
      "Fold 1\n",
      "Memory usage of dataframe is 7.48 MB\n",
      "Memory usage after optimization is: 4.63 MB\n",
      "Decreased by 38.1%\n"
     ]
    },
    {
     "name": "stderr",
     "output_type": "stream",
     "text": [
      "100%|██████████| 36/36 [00:09<00:00,  3.77it/s]\n"
     ]
    },
    {
     "name": "stdout",
     "output_type": "stream",
     "text": [
      "Fold 2\n",
      "Memory usage of dataframe is 7.48 MB\n",
      "Memory usage after optimization is: 4.63 MB\n",
      "Decreased by 38.1%\n"
     ]
    },
    {
     "name": "stderr",
     "output_type": "stream",
     "text": [
      "100%|██████████| 36/36 [00:09<00:00,  3.82it/s]\n"
     ]
    },
    {
     "name": "stdout",
     "output_type": "stream",
     "text": [
      "Fold 3\n",
      "Memory usage of dataframe is 7.48 MB\n",
      "Memory usage after optimization is: 4.63 MB\n",
      "Decreased by 38.1%\n"
     ]
    },
    {
     "name": "stderr",
     "output_type": "stream",
     "text": [
      "100%|██████████| 36/36 [00:09<00:00,  3.78it/s]\n"
     ]
    },
    {
     "name": "stdout",
     "output_type": "stream",
     "text": [
      "Fold 4\n",
      "Memory usage of dataframe is 7.48 MB\n",
      "Memory usage after optimization is: 4.63 MB\n",
      "Decreased by 38.1%\n"
     ]
    },
    {
     "name": "stderr",
     "output_type": "stream",
     "text": [
      "100%|██████████| 36/36 [00:09<00:00,  3.69it/s]\n"
     ]
    },
    {
     "name": "stdout",
     "output_type": "stream",
     "text": [
      "Fold 5\n",
      "Memory usage of dataframe is 7.48 MB\n",
      "Memory usage after optimization is: 4.63 MB\n",
      "Decreased by 38.1%\n"
     ]
    },
    {
     "name": "stderr",
     "output_type": "stream",
     "text": [
      "100%|██████████| 36/36 [00:09<00:00,  3.74it/s]\n",
      "[I 2024-06-30 15:30:42,313] Trial 5 finished with value: 0.7540708148463047 and parameters: {'lambda': 0.022543323435661827, 'alpha': 9.778507161505037e-05, 'eta': 0.017420845853923058, 'gamma': 5.890663985800003e-07, 'max_depth': 4, 'min_child_weight': 1.0750609541278148e-07, 'subsample': 0.9998590907763549, 'colsample_bytree': 0.7546118325519094, 'colsample_bylevel': 0.535884322531681, 'colsample_bynode': 0.6337263526050606, 'scale_pos_weight': 4.022121140298245e-06}. Best is trial 1 with value: 0.7681054988528682.\n"
     ]
    },
    {
     "name": "stdout",
     "output_type": "stream",
     "text": [
      "Score: 0.7540708148463047\n",
      "Fold 1\n",
      "Memory usage of dataframe is 7.48 MB\n",
      "Memory usage after optimization is: 4.63 MB\n",
      "Decreased by 38.1%\n"
     ]
    },
    {
     "name": "stderr",
     "output_type": "stream",
     "text": [
      "100%|██████████| 36/36 [00:09<00:00,  3.66it/s]\n"
     ]
    },
    {
     "name": "stdout",
     "output_type": "stream",
     "text": [
      "Fold 2\n",
      "Memory usage of dataframe is 7.48 MB\n",
      "Memory usage after optimization is: 4.63 MB\n",
      "Decreased by 38.1%\n"
     ]
    },
    {
     "name": "stderr",
     "output_type": "stream",
     "text": [
      "100%|██████████| 36/36 [00:07<00:00,  4.81it/s]\n"
     ]
    },
    {
     "name": "stdout",
     "output_type": "stream",
     "text": [
      "Fold 3\n",
      "Memory usage of dataframe is 7.48 MB\n",
      "Memory usage after optimization is: 4.63 MB\n",
      "Decreased by 38.1%\n"
     ]
    },
    {
     "name": "stderr",
     "output_type": "stream",
     "text": [
      "100%|██████████| 36/36 [00:06<00:00,  5.32it/s]\n"
     ]
    },
    {
     "name": "stdout",
     "output_type": "stream",
     "text": [
      "Fold 4\n",
      "Memory usage of dataframe is 7.48 MB\n",
      "Memory usage after optimization is: 4.63 MB\n",
      "Decreased by 38.1%\n"
     ]
    },
    {
     "name": "stderr",
     "output_type": "stream",
     "text": [
      "100%|██████████| 36/36 [00:06<00:00,  5.31it/s]\n"
     ]
    },
    {
     "name": "stdout",
     "output_type": "stream",
     "text": [
      "Fold 5\n",
      "Memory usage of dataframe is 7.48 MB\n",
      "Memory usage after optimization is: 4.63 MB\n",
      "Decreased by 38.1%\n"
     ]
    },
    {
     "name": "stderr",
     "output_type": "stream",
     "text": [
      "100%|██████████| 36/36 [00:06<00:00,  5.28it/s]\n",
      "[I 2024-06-30 15:31:28,446] Trial 6 finished with value: 0.7694768675121495 and parameters: {'lambda': 0.0010703401684958268, 'alpha': 1.5905089140916187e-05, 'eta': 0.061356675115798384, 'gamma': 9.520713188600301e-08, 'max_depth': 9, 'min_child_weight': 7.523292730798417e-06, 'subsample': 0.5033280093541063, 'colsample_bytree': 0.5669462051505991, 'colsample_bylevel': 0.8043740516365616, 'colsample_bynode': 0.5114946998367751, 'scale_pos_weight': 2.6856796408307573e-05}. Best is trial 6 with value: 0.7694768675121495.\n"
     ]
    },
    {
     "name": "stdout",
     "output_type": "stream",
     "text": [
      "Score: 0.7694768675121495\n",
      "Fold 1\n",
      "Memory usage of dataframe is 7.48 MB\n",
      "Memory usage after optimization is: 4.63 MB\n",
      "Decreased by 38.1%\n"
     ]
    },
    {
     "name": "stderr",
     "output_type": "stream",
     "text": [
      "100%|██████████| 36/36 [00:06<00:00,  5.31it/s]\n"
     ]
    },
    {
     "name": "stdout",
     "output_type": "stream",
     "text": [
      "Fold 2\n",
      "Memory usage of dataframe is 7.48 MB\n",
      "Memory usage after optimization is: 4.63 MB\n",
      "Decreased by 38.1%\n"
     ]
    },
    {
     "name": "stderr",
     "output_type": "stream",
     "text": [
      "100%|██████████| 36/36 [00:06<00:00,  5.33it/s]\n"
     ]
    },
    {
     "name": "stdout",
     "output_type": "stream",
     "text": [
      "Fold 3\n",
      "Memory usage of dataframe is 7.48 MB\n",
      "Memory usage after optimization is: 4.63 MB\n",
      "Decreased by 38.1%\n"
     ]
    },
    {
     "name": "stderr",
     "output_type": "stream",
     "text": [
      "100%|██████████| 36/36 [00:06<00:00,  5.34it/s]\n"
     ]
    },
    {
     "name": "stdout",
     "output_type": "stream",
     "text": [
      "Fold 4\n",
      "Memory usage of dataframe is 7.48 MB\n",
      "Memory usage after optimization is: 4.63 MB\n",
      "Decreased by 38.1%\n"
     ]
    },
    {
     "name": "stderr",
     "output_type": "stream",
     "text": [
      "100%|██████████| 36/36 [00:06<00:00,  5.33it/s]\n"
     ]
    },
    {
     "name": "stdout",
     "output_type": "stream",
     "text": [
      "Fold 5\n",
      "Memory usage of dataframe is 7.48 MB\n",
      "Memory usage after optimization is: 4.63 MB\n",
      "Decreased by 38.1%\n"
     ]
    },
    {
     "name": "stderr",
     "output_type": "stream",
     "text": [
      "100%|██████████| 36/36 [00:06<00:00,  5.30it/s]\n",
      "[I 2024-06-30 15:32:10,989] Trial 7 finished with value: 0.7664500324290457 and parameters: {'lambda': 1.8658246642696598e-07, 'alpha': 1.0998523229849291e-05, 'eta': 0.0012526936053564037, 'gamma': 3.5112863442156717e-06, 'max_depth': 9, 'min_child_weight': 5.966502913459944e-08, 'subsample': 0.9149437007360153, 'colsample_bytree': 0.8912540316698263, 'colsample_bylevel': 0.9542557027869649, 'colsample_bynode': 0.9825533230766227, 'scale_pos_weight': 8.316065044962744e-08}. Best is trial 6 with value: 0.7694768675121495.\n"
     ]
    },
    {
     "name": "stdout",
     "output_type": "stream",
     "text": [
      "Score: 0.7664500324290457\n",
      "Fold 1\n",
      "Memory usage of dataframe is 7.48 MB\n",
      "Memory usage after optimization is: 4.63 MB\n",
      "Decreased by 38.1%\n"
     ]
    },
    {
     "name": "stderr",
     "output_type": "stream",
     "text": [
      "100%|██████████| 36/36 [00:06<00:00,  5.29it/s]\n"
     ]
    },
    {
     "name": "stdout",
     "output_type": "stream",
     "text": [
      "Fold 2\n",
      "Memory usage of dataframe is 7.48 MB\n",
      "Memory usage after optimization is: 4.63 MB\n",
      "Decreased by 38.1%\n"
     ]
    },
    {
     "name": "stderr",
     "output_type": "stream",
     "text": [
      "100%|██████████| 36/36 [00:06<00:00,  5.29it/s]\n"
     ]
    },
    {
     "name": "stdout",
     "output_type": "stream",
     "text": [
      "Fold 3\n",
      "Memory usage of dataframe is 7.48 MB\n",
      "Memory usage after optimization is: 4.63 MB\n",
      "Decreased by 38.1%\n"
     ]
    },
    {
     "name": "stderr",
     "output_type": "stream",
     "text": [
      "100%|██████████| 36/36 [00:06<00:00,  5.36it/s]\n"
     ]
    },
    {
     "name": "stdout",
     "output_type": "stream",
     "text": [
      "Fold 4\n",
      "Memory usage of dataframe is 7.48 MB\n",
      "Memory usage after optimization is: 4.63 MB\n",
      "Decreased by 38.1%\n"
     ]
    },
    {
     "name": "stderr",
     "output_type": "stream",
     "text": [
      "100%|██████████| 36/36 [00:06<00:00,  5.40it/s]\n"
     ]
    },
    {
     "name": "stdout",
     "output_type": "stream",
     "text": [
      "Fold 5\n",
      "Memory usage of dataframe is 7.48 MB\n",
      "Memory usage after optimization is: 4.63 MB\n",
      "Decreased by 38.1%\n"
     ]
    },
    {
     "name": "stderr",
     "output_type": "stream",
     "text": [
      "100%|██████████| 36/36 [00:06<00:00,  5.38it/s]\n",
      "[I 2024-06-30 15:32:49,096] Trial 8 finished with value: 0.7682414370964504 and parameters: {'lambda': 0.0035089764644693888, 'alpha': 5.931990249543453e-05, 'eta': 0.043180245295874206, 'gamma': 1.789145626951695e-08, 'max_depth': 7, 'min_child_weight': 1.0898110126483324e-06, 'subsample': 0.6165580560147728, 'colsample_bytree': 0.7888503505284296, 'colsample_bylevel': 0.9372296800981949, 'colsample_bynode': 0.7816626616558318, 'scale_pos_weight': 0.00806676698234957}. Best is trial 6 with value: 0.7694768675121495.\n"
     ]
    },
    {
     "name": "stdout",
     "output_type": "stream",
     "text": [
      "Score: 0.7682414370964504\n",
      "Fold 1\n",
      "Memory usage of dataframe is 7.48 MB\n",
      "Memory usage after optimization is: 4.63 MB\n",
      "Decreased by 38.1%\n"
     ]
    },
    {
     "name": "stderr",
     "output_type": "stream",
     "text": [
      "100%|██████████| 36/36 [00:06<00:00,  5.39it/s]\n"
     ]
    },
    {
     "name": "stdout",
     "output_type": "stream",
     "text": [
      "Fold 2\n",
      "Memory usage of dataframe is 7.48 MB\n",
      "Memory usage after optimization is: 4.63 MB\n",
      "Decreased by 38.1%\n"
     ]
    },
    {
     "name": "stderr",
     "output_type": "stream",
     "text": [
      "100%|██████████| 36/36 [00:06<00:00,  5.37it/s]\n"
     ]
    },
    {
     "name": "stdout",
     "output_type": "stream",
     "text": [
      "Fold 3\n",
      "Memory usage of dataframe is 7.48 MB\n",
      "Memory usage after optimization is: 4.63 MB\n",
      "Decreased by 38.1%\n"
     ]
    },
    {
     "name": "stderr",
     "output_type": "stream",
     "text": [
      "100%|██████████| 36/36 [00:06<00:00,  5.36it/s]\n"
     ]
    },
    {
     "name": "stdout",
     "output_type": "stream",
     "text": [
      "Fold 4\n",
      "Memory usage of dataframe is 7.48 MB\n",
      "Memory usage after optimization is: 4.63 MB\n",
      "Decreased by 38.1%\n"
     ]
    },
    {
     "name": "stderr",
     "output_type": "stream",
     "text": [
      "100%|██████████| 36/36 [00:06<00:00,  5.32it/s]\n"
     ]
    },
    {
     "name": "stdout",
     "output_type": "stream",
     "text": [
      "Fold 5\n",
      "Memory usage of dataframe is 7.48 MB\n",
      "Memory usage after optimization is: 4.63 MB\n",
      "Decreased by 38.1%\n"
     ]
    },
    {
     "name": "stderr",
     "output_type": "stream",
     "text": [
      "100%|██████████| 36/36 [00:06<00:00,  5.30it/s]\n",
      "[I 2024-06-30 15:33:25,560] Trial 9 finished with value: 0.7430629125014998 and parameters: {'lambda': 1.7054110806826393e-06, 'alpha': 1.7759513316844134e-06, 'eta': 0.0028559940598347636, 'gamma': 0.0020766961722080584, 'max_depth': 4, 'min_child_weight': 0.13017566477947642, 'subsample': 0.824360098271914, 'colsample_bytree': 0.5048908619235704, 'colsample_bylevel': 0.8981650660440754, 'colsample_bynode': 0.665976363390962, 'scale_pos_weight': 0.004293635851807358}. Best is trial 6 with value: 0.7694768675121495.\n"
     ]
    },
    {
     "name": "stdout",
     "output_type": "stream",
     "text": [
      "Score: 0.7430629125014998\n",
      "Fold 1\n",
      "Memory usage of dataframe is 7.48 MB\n",
      "Memory usage after optimization is: 4.63 MB\n",
      "Decreased by 38.1%\n"
     ]
    },
    {
     "name": "stderr",
     "output_type": "stream",
     "text": [
      "100%|██████████| 36/36 [00:06<00:00,  5.43it/s]\n"
     ]
    },
    {
     "name": "stdout",
     "output_type": "stream",
     "text": [
      "Fold 2\n",
      "Memory usage of dataframe is 7.48 MB\n",
      "Memory usage after optimization is: 4.63 MB\n",
      "Decreased by 38.1%\n"
     ]
    },
    {
     "name": "stderr",
     "output_type": "stream",
     "text": [
      "100%|██████████| 36/36 [00:06<00:00,  5.33it/s]\n"
     ]
    },
    {
     "name": "stdout",
     "output_type": "stream",
     "text": [
      "Fold 3\n",
      "Memory usage of dataframe is 7.48 MB\n",
      "Memory usage after optimization is: 4.63 MB\n",
      "Decreased by 38.1%\n"
     ]
    },
    {
     "name": "stderr",
     "output_type": "stream",
     "text": [
      "100%|██████████| 36/36 [00:06<00:00,  5.33it/s]\n"
     ]
    },
    {
     "name": "stdout",
     "output_type": "stream",
     "text": [
      "Fold 4\n",
      "Memory usage of dataframe is 7.48 MB\n",
      "Memory usage after optimization is: 4.63 MB\n",
      "Decreased by 38.1%\n"
     ]
    },
    {
     "name": "stderr",
     "output_type": "stream",
     "text": [
      "100%|██████████| 36/36 [00:06<00:00,  5.33it/s]\n"
     ]
    },
    {
     "name": "stdout",
     "output_type": "stream",
     "text": [
      "Fold 5\n",
      "Memory usage of dataframe is 7.48 MB\n",
      "Memory usage after optimization is: 4.63 MB\n",
      "Decreased by 38.1%\n"
     ]
    },
    {
     "name": "stderr",
     "output_type": "stream",
     "text": [
      "100%|██████████| 36/36 [00:06<00:00,  5.27it/s]\n",
      "[I 2024-06-30 15:34:06,508] Trial 10 finished with value: 0.7608410888533876 and parameters: {'lambda': 0.9813941598370456, 'alpha': 2.01723334799336e-08, 'eta': 0.25842082513955134, 'gamma': 6.715685437065845e-06, 'max_depth': 9, 'min_child_weight': 0.0002931945224845706, 'subsample': 0.5001596364630233, 'colsample_bytree': 0.9831249265411952, 'colsample_bylevel': 0.8002885622411883, 'colsample_bynode': 0.5375993072685396, 'scale_pos_weight': 0.6322906503520384}. Best is trial 6 with value: 0.7694768675121495.\n"
     ]
    },
    {
     "name": "stdout",
     "output_type": "stream",
     "text": [
      "Score: 0.7608410888533876\n",
      "Fold 1\n",
      "Memory usage of dataframe is 7.48 MB\n",
      "Memory usage after optimization is: 4.63 MB\n",
      "Decreased by 38.1%\n"
     ]
    },
    {
     "name": "stderr",
     "output_type": "stream",
     "text": [
      "100%|██████████| 36/36 [00:06<00:00,  5.43it/s]\n"
     ]
    },
    {
     "name": "stdout",
     "output_type": "stream",
     "text": [
      "Fold 2\n",
      "Memory usage of dataframe is 7.48 MB\n",
      "Memory usage after optimization is: 4.63 MB\n",
      "Decreased by 38.1%\n"
     ]
    },
    {
     "name": "stderr",
     "output_type": "stream",
     "text": [
      "100%|██████████| 36/36 [00:06<00:00,  5.31it/s]\n"
     ]
    },
    {
     "name": "stdout",
     "output_type": "stream",
     "text": [
      "Fold 3\n",
      "Memory usage of dataframe is 7.48 MB\n",
      "Memory usage after optimization is: 4.63 MB\n",
      "Decreased by 38.1%\n"
     ]
    },
    {
     "name": "stderr",
     "output_type": "stream",
     "text": [
      "100%|██████████| 36/36 [00:06<00:00,  5.30it/s]\n"
     ]
    },
    {
     "name": "stdout",
     "output_type": "stream",
     "text": [
      "Fold 4\n",
      "Memory usage of dataframe is 7.48 MB\n",
      "Memory usage after optimization is: 4.63 MB\n",
      "Decreased by 38.1%\n"
     ]
    },
    {
     "name": "stderr",
     "output_type": "stream",
     "text": [
      "100%|██████████| 36/36 [00:06<00:00,  5.42it/s]\n"
     ]
    },
    {
     "name": "stdout",
     "output_type": "stream",
     "text": [
      "Fold 5\n",
      "Memory usage of dataframe is 7.48 MB\n",
      "Memory usage after optimization is: 4.63 MB\n",
      "Decreased by 38.1%\n"
     ]
    },
    {
     "name": "stderr",
     "output_type": "stream",
     "text": [
      "100%|██████████| 36/36 [00:06<00:00,  5.38it/s]\n",
      "[I 2024-06-30 15:34:44,658] Trial 11 finished with value: 0.769229790739587 and parameters: {'lambda': 0.00040018740360908716, 'alpha': 0.0009523889031291671, 'eta': 0.04535792686330091, 'gamma': 7.422980811200824e-08, 'max_depth': 7, 'min_child_weight': 3.959489303522803e-05, 'subsample': 0.5037493874223217, 'colsample_bytree': 0.6574916813392847, 'colsample_bylevel': 0.8050990049079707, 'colsample_bynode': 0.8127293107218908, 'scale_pos_weight': 0.0020844910441705235}. Best is trial 6 with value: 0.7694768675121495.\n"
     ]
    },
    {
     "name": "stdout",
     "output_type": "stream",
     "text": [
      "Score: 0.769229790739587\n",
      "Fold 1\n",
      "Memory usage of dataframe is 7.48 MB\n",
      "Memory usage after optimization is: 4.63 MB\n",
      "Decreased by 38.1%\n"
     ]
    },
    {
     "name": "stderr",
     "output_type": "stream",
     "text": [
      "100%|██████████| 36/36 [00:06<00:00,  5.42it/s]\n"
     ]
    },
    {
     "name": "stdout",
     "output_type": "stream",
     "text": [
      "Fold 2\n",
      "Memory usage of dataframe is 7.48 MB\n",
      "Memory usage after optimization is: 4.63 MB\n",
      "Decreased by 38.1%\n"
     ]
    },
    {
     "name": "stderr",
     "output_type": "stream",
     "text": [
      "100%|██████████| 36/36 [00:06<00:00,  5.35it/s]\n"
     ]
    },
    {
     "name": "stdout",
     "output_type": "stream",
     "text": [
      "Fold 3\n",
      "Memory usage of dataframe is 7.48 MB\n",
      "Memory usage after optimization is: 4.63 MB\n",
      "Decreased by 38.1%\n"
     ]
    },
    {
     "name": "stderr",
     "output_type": "stream",
     "text": [
      "100%|██████████| 36/36 [00:06<00:00,  5.37it/s]\n"
     ]
    },
    {
     "name": "stdout",
     "output_type": "stream",
     "text": [
      "Fold 4\n",
      "Memory usage of dataframe is 7.48 MB\n",
      "Memory usage after optimization is: 4.63 MB\n",
      "Decreased by 38.1%\n"
     ]
    },
    {
     "name": "stderr",
     "output_type": "stream",
     "text": [
      "100%|██████████| 36/36 [00:06<00:00,  5.27it/s]\n"
     ]
    },
    {
     "name": "stdout",
     "output_type": "stream",
     "text": [
      "Fold 5\n",
      "Memory usage of dataframe is 7.48 MB\n",
      "Memory usage after optimization is: 4.63 MB\n",
      "Decreased by 38.1%\n"
     ]
    },
    {
     "name": "stderr",
     "output_type": "stream",
     "text": [
      "100%|██████████| 36/36 [00:06<00:00,  5.32it/s]\n",
      "[I 2024-06-30 15:35:24,076] Trial 12 finished with value: 0.7683773532083326 and parameters: {'lambda': 8.198870693111199e-05, 'alpha': 0.003191749945000933, 'eta': 0.03534855812898858, 'gamma': 1.9922667702845822e-07, 'max_depth': 8, 'min_child_weight': 0.00013017641251293716, 'subsample': 0.5083224224218952, 'colsample_bytree': 0.6269952967494062, 'colsample_bylevel': 0.788902585638085, 'colsample_bynode': 0.8056504306194323, 'scale_pos_weight': 0.00011667723884590713}. Best is trial 6 with value: 0.7694768675121495.\n"
     ]
    },
    {
     "name": "stdout",
     "output_type": "stream",
     "text": [
      "Score: 0.7683773532083326\n",
      "Fold 1\n",
      "Memory usage of dataframe is 7.48 MB\n",
      "Memory usage after optimization is: 4.63 MB\n",
      "Decreased by 38.1%\n"
     ]
    },
    {
     "name": "stderr",
     "output_type": "stream",
     "text": [
      "100%|██████████| 36/36 [00:06<00:00,  5.35it/s]\n"
     ]
    },
    {
     "name": "stdout",
     "output_type": "stream",
     "text": [
      "Fold 2\n",
      "Memory usage of dataframe is 7.48 MB\n",
      "Memory usage after optimization is: 4.63 MB\n",
      "Decreased by 38.1%\n"
     ]
    },
    {
     "name": "stderr",
     "output_type": "stream",
     "text": [
      "100%|██████████| 36/36 [00:06<00:00,  5.35it/s]\n"
     ]
    },
    {
     "name": "stdout",
     "output_type": "stream",
     "text": [
      "Fold 3\n",
      "Memory usage of dataframe is 7.48 MB\n",
      "Memory usage after optimization is: 4.63 MB\n",
      "Decreased by 38.1%\n"
     ]
    },
    {
     "name": "stderr",
     "output_type": "stream",
     "text": [
      "100%|██████████| 36/36 [00:06<00:00,  5.42it/s]\n"
     ]
    },
    {
     "name": "stdout",
     "output_type": "stream",
     "text": [
      "Fold 4\n",
      "Memory usage of dataframe is 7.48 MB\n",
      "Memory usage after optimization is: 4.63 MB\n",
      "Decreased by 38.1%\n"
     ]
    },
    {
     "name": "stderr",
     "output_type": "stream",
     "text": [
      "100%|██████████| 36/36 [00:06<00:00,  5.38it/s]\n"
     ]
    },
    {
     "name": "stdout",
     "output_type": "stream",
     "text": [
      "Fold 5\n",
      "Memory usage of dataframe is 7.48 MB\n",
      "Memory usage after optimization is: 4.63 MB\n",
      "Decreased by 38.1%\n"
     ]
    },
    {
     "name": "stderr",
     "output_type": "stream",
     "text": [
      "100%|██████████| 36/36 [00:06<00:00,  5.31it/s]\n",
      "[I 2024-06-30 15:36:02,024] Trial 13 finished with value: 0.768797380821673 and parameters: {'lambda': 0.0003932841910040917, 'alpha': 0.0016542230043398937, 'eta': 0.09197226470967734, 'gamma': 1.0982505976758698e-07, 'max_depth': 7, 'min_child_weight': 0.0009701515852464067, 'subsample': 0.5619135286528688, 'colsample_bytree': 0.6338768142692826, 'colsample_bylevel': 0.7185016895793891, 'colsample_bynode': 0.500335465571234, 'scale_pos_weight': 1.8539524023487833e-06}. Best is trial 6 with value: 0.7694768675121495.\n"
     ]
    },
    {
     "name": "stdout",
     "output_type": "stream",
     "text": [
      "Score: 0.768797380821673\n",
      "Fold 1\n",
      "Memory usage of dataframe is 7.48 MB\n",
      "Memory usage after optimization is: 4.63 MB\n",
      "Decreased by 38.1%\n"
     ]
    },
    {
     "name": "stderr",
     "output_type": "stream",
     "text": [
      "100%|██████████| 36/36 [00:06<00:00,  5.37it/s]\n"
     ]
    },
    {
     "name": "stdout",
     "output_type": "stream",
     "text": [
      "Fold 2\n",
      "Memory usage of dataframe is 7.48 MB\n",
      "Memory usage after optimization is: 4.63 MB\n",
      "Decreased by 38.1%\n"
     ]
    },
    {
     "name": "stderr",
     "output_type": "stream",
     "text": [
      "100%|██████████| 36/36 [00:06<00:00,  5.36it/s]\n"
     ]
    },
    {
     "name": "stdout",
     "output_type": "stream",
     "text": [
      "Fold 3\n",
      "Memory usage of dataframe is 7.48 MB\n",
      "Memory usage after optimization is: 4.63 MB\n",
      "Decreased by 38.1%\n"
     ]
    },
    {
     "name": "stderr",
     "output_type": "stream",
     "text": [
      "100%|██████████| 36/36 [00:06<00:00,  5.33it/s]\n"
     ]
    },
    {
     "name": "stdout",
     "output_type": "stream",
     "text": [
      "Fold 4\n",
      "Memory usage of dataframe is 7.48 MB\n",
      "Memory usage after optimization is: 4.63 MB\n",
      "Decreased by 38.1%\n"
     ]
    },
    {
     "name": "stderr",
     "output_type": "stream",
     "text": [
      "100%|██████████| 36/36 [00:06<00:00,  5.31it/s]\n"
     ]
    },
    {
     "name": "stdout",
     "output_type": "stream",
     "text": [
      "Fold 5\n",
      "Memory usage of dataframe is 7.48 MB\n",
      "Memory usage after optimization is: 4.63 MB\n",
      "Decreased by 38.1%\n"
     ]
    },
    {
     "name": "stderr",
     "output_type": "stream",
     "text": [
      "100%|██████████| 36/36 [00:06<00:00,  5.40it/s]\n",
      "[I 2024-06-30 15:36:39,399] Trial 14 finished with value: 0.7641150426829677 and parameters: {'lambda': 2.6434148805163647e-05, 'alpha': 0.0013798497600158298, 'eta': 0.026615037163820954, 'gamma': 1.0563714545510067e-08, 'max_depth': 6, 'min_child_weight': 1.5549667496734928e-05, 'subsample': 0.7125932197936828, 'colsample_bytree': 0.5759624021985631, 'colsample_bylevel': 0.8356676602280023, 'colsample_bynode': 0.7013259570492009, 'scale_pos_weight': 0.0001887563664717482}. Best is trial 6 with value: 0.7694768675121495.\n"
     ]
    },
    {
     "name": "stdout",
     "output_type": "stream",
     "text": [
      "Score: 0.7641150426829677\n",
      "Fold 1\n",
      "Memory usage of dataframe is 7.48 MB\n",
      "Memory usage after optimization is: 4.63 MB\n",
      "Decreased by 38.1%\n"
     ]
    },
    {
     "name": "stderr",
     "output_type": "stream",
     "text": [
      "100%|██████████| 36/36 [00:06<00:00,  5.38it/s]\n"
     ]
    },
    {
     "name": "stdout",
     "output_type": "stream",
     "text": [
      "Fold 2\n",
      "Memory usage of dataframe is 7.48 MB\n",
      "Memory usage after optimization is: 4.63 MB\n",
      "Decreased by 38.1%\n"
     ]
    },
    {
     "name": "stderr",
     "output_type": "stream",
     "text": [
      "100%|██████████| 36/36 [00:06<00:00,  5.32it/s]\n"
     ]
    },
    {
     "name": "stdout",
     "output_type": "stream",
     "text": [
      "Fold 3\n",
      "Memory usage of dataframe is 7.48 MB\n",
      "Memory usage after optimization is: 4.63 MB\n",
      "Decreased by 38.1%\n"
     ]
    },
    {
     "name": "stderr",
     "output_type": "stream",
     "text": [
      "100%|██████████| 36/36 [00:06<00:00,  5.37it/s]\n"
     ]
    },
    {
     "name": "stdout",
     "output_type": "stream",
     "text": [
      "Fold 4\n",
      "Memory usage of dataframe is 7.48 MB\n",
      "Memory usage after optimization is: 4.63 MB\n",
      "Decreased by 38.1%\n"
     ]
    },
    {
     "name": "stderr",
     "output_type": "stream",
     "text": [
      "100%|██████████| 36/36 [00:06<00:00,  5.36it/s]\n"
     ]
    },
    {
     "name": "stdout",
     "output_type": "stream",
     "text": [
      "Fold 5\n",
      "Memory usage of dataframe is 7.48 MB\n",
      "Memory usage after optimization is: 4.63 MB\n",
      "Decreased by 38.1%\n"
     ]
    },
    {
     "name": "stderr",
     "output_type": "stream",
     "text": [
      "100%|██████████| 36/36 [00:06<00:00,  5.21it/s]\n",
      "[I 2024-06-30 15:37:18,719] Trial 15 finished with value: 0.7703046343031916 and parameters: {'lambda': 4.568897653133932e-06, 'alpha': 0.000524562349752446, 'eta': 0.0668355674693168, 'gamma': 1.2452875484001223e-05, 'max_depth': 8, 'min_child_weight': 0.002810164715949783, 'subsample': 0.5652085599211014, 'colsample_bytree': 0.6770715121001709, 'colsample_bylevel': 0.7279327307194039, 'colsample_bynode': 0.6151420379297138, 'scale_pos_weight': 3.106875863515985e-06}. Best is trial 15 with value: 0.7703046343031916.\n"
     ]
    },
    {
     "name": "stdout",
     "output_type": "stream",
     "text": [
      "Score: 0.7703046343031916\n",
      "Fold 1\n",
      "Memory usage of dataframe is 7.48 MB\n",
      "Memory usage after optimization is: 4.63 MB\n",
      "Decreased by 38.1%\n"
     ]
    },
    {
     "name": "stderr",
     "output_type": "stream",
     "text": [
      "100%|██████████| 36/36 [00:06<00:00,  5.27it/s]\n"
     ]
    },
    {
     "name": "stdout",
     "output_type": "stream",
     "text": [
      "Fold 2\n",
      "Memory usage of dataframe is 7.48 MB\n",
      "Memory usage after optimization is: 4.63 MB\n",
      "Decreased by 38.1%\n"
     ]
    },
    {
     "name": "stderr",
     "output_type": "stream",
     "text": [
      "100%|██████████| 36/36 [00:06<00:00,  5.32it/s]\n"
     ]
    },
    {
     "name": "stdout",
     "output_type": "stream",
     "text": [
      "Fold 3\n",
      "Memory usage of dataframe is 7.48 MB\n",
      "Memory usage after optimization is: 4.63 MB\n",
      "Decreased by 38.1%\n"
     ]
    },
    {
     "name": "stderr",
     "output_type": "stream",
     "text": [
      "100%|██████████| 36/36 [00:06<00:00,  5.36it/s]\n"
     ]
    },
    {
     "name": "stdout",
     "output_type": "stream",
     "text": [
      "Fold 4\n",
      "Memory usage of dataframe is 7.48 MB\n",
      "Memory usage after optimization is: 4.63 MB\n",
      "Decreased by 38.1%\n"
     ]
    },
    {
     "name": "stderr",
     "output_type": "stream",
     "text": [
      "100%|██████████| 36/36 [00:06<00:00,  5.35it/s]\n"
     ]
    },
    {
     "name": "stdout",
     "output_type": "stream",
     "text": [
      "Fold 5\n",
      "Memory usage of dataframe is 7.48 MB\n",
      "Memory usage after optimization is: 4.63 MB\n",
      "Decreased by 38.1%\n"
     ]
    },
    {
     "name": "stderr",
     "output_type": "stream",
     "text": [
      "100%|██████████| 36/36 [00:06<00:00,  5.36it/s]\n",
      "[I 2024-06-30 15:37:58,138] Trial 16 finished with value: 0.7685626375113115 and parameters: {'lambda': 4.164838874469617e-06, 'alpha': 1.0410493053405499e-05, 'eta': 0.11803107480726659, 'gamma': 2.3245787438311342e-05, 'max_depth': 8, 'min_child_weight': 0.0012929875996920308, 'subsample': 0.5716824075747935, 'colsample_bytree': 0.6897098881194655, 'colsample_bylevel': 0.6483402110409976, 'colsample_bynode': 0.6074261422769622, 'scale_pos_weight': 2.083931215981707e-06}. Best is trial 15 with value: 0.7703046343031916.\n"
     ]
    },
    {
     "name": "stdout",
     "output_type": "stream",
     "text": [
      "Score: 0.7685626375113115\n",
      "Fold 1\n",
      "Memory usage of dataframe is 7.48 MB\n",
      "Memory usage after optimization is: 4.63 MB\n",
      "Decreased by 38.1%\n"
     ]
    },
    {
     "name": "stderr",
     "output_type": "stream",
     "text": [
      "100%|██████████| 36/36 [00:06<00:00,  5.42it/s]\n"
     ]
    },
    {
     "name": "stdout",
     "output_type": "stream",
     "text": [
      "Fold 2\n",
      "Memory usage of dataframe is 7.48 MB\n",
      "Memory usage after optimization is: 4.63 MB\n",
      "Decreased by 38.1%\n"
     ]
    },
    {
     "name": "stderr",
     "output_type": "stream",
     "text": [
      "100%|██████████| 36/36 [00:06<00:00,  5.35it/s]\n"
     ]
    },
    {
     "name": "stdout",
     "output_type": "stream",
     "text": [
      "Fold 3\n",
      "Memory usage of dataframe is 7.48 MB\n",
      "Memory usage after optimization is: 4.63 MB\n",
      "Decreased by 38.1%\n"
     ]
    },
    {
     "name": "stderr",
     "output_type": "stream",
     "text": [
      "100%|██████████| 36/36 [00:06<00:00,  5.29it/s]\n"
     ]
    },
    {
     "name": "stdout",
     "output_type": "stream",
     "text": [
      "Fold 4\n",
      "Memory usage of dataframe is 7.48 MB\n",
      "Memory usage after optimization is: 4.63 MB\n",
      "Decreased by 38.1%\n"
     ]
    },
    {
     "name": "stderr",
     "output_type": "stream",
     "text": [
      "100%|██████████| 36/36 [00:06<00:00,  5.29it/s]\n"
     ]
    },
    {
     "name": "stdout",
     "output_type": "stream",
     "text": [
      "Fold 5\n",
      "Memory usage of dataframe is 7.48 MB\n",
      "Memory usage after optimization is: 4.63 MB\n",
      "Decreased by 38.1%\n"
     ]
    },
    {
     "name": "stderr",
     "output_type": "stream",
     "text": [
      "100%|██████████| 36/36 [00:06<00:00,  5.32it/s]\n",
      "[I 2024-06-30 15:38:39,214] Trial 17 finished with value: 0.7654863922631974 and parameters: {'lambda': 1.162590944321915e-08, 'alpha': 0.01827558823281469, 'eta': 0.01673824555876818, 'gamma': 8.569949699810703e-07, 'max_depth': 9, 'min_child_weight': 0.011130970165877517, 'subsample': 0.7025340267931066, 'colsample_bytree': 0.5686720055624152, 'colsample_bylevel': 0.7374990838739384, 'colsample_bynode': 0.5844028613645781, 'scale_pos_weight': 1.307085579870572e-05}. Best is trial 15 with value: 0.7703046343031916.\n"
     ]
    },
    {
     "name": "stdout",
     "output_type": "stream",
     "text": [
      "Score: 0.7654863922631974\n",
      "Fold 1\n",
      "Memory usage of dataframe is 7.48 MB\n",
      "Memory usage after optimization is: 4.63 MB\n",
      "Decreased by 38.1%\n"
     ]
    },
    {
     "name": "stderr",
     "output_type": "stream",
     "text": [
      "100%|██████████| 36/36 [00:06<00:00,  5.35it/s]\n"
     ]
    },
    {
     "name": "stdout",
     "output_type": "stream",
     "text": [
      "Fold 2\n",
      "Memory usage of dataframe is 7.48 MB\n",
      "Memory usage after optimization is: 4.63 MB\n",
      "Decreased by 38.1%\n"
     ]
    },
    {
     "name": "stderr",
     "output_type": "stream",
     "text": [
      "100%|██████████| 36/36 [00:06<00:00,  5.26it/s]\n"
     ]
    },
    {
     "name": "stdout",
     "output_type": "stream",
     "text": [
      "Fold 3\n",
      "Memory usage of dataframe is 7.48 MB\n",
      "Memory usage after optimization is: 4.63 MB\n",
      "Decreased by 38.1%\n"
     ]
    },
    {
     "name": "stderr",
     "output_type": "stream",
     "text": [
      "100%|██████████| 36/36 [00:06<00:00,  5.35it/s]\n"
     ]
    },
    {
     "name": "stdout",
     "output_type": "stream",
     "text": [
      "Fold 4\n",
      "Memory usage of dataframe is 7.48 MB\n",
      "Memory usage after optimization is: 4.63 MB\n",
      "Decreased by 38.1%\n"
     ]
    },
    {
     "name": "stderr",
     "output_type": "stream",
     "text": [
      "100%|██████████| 36/36 [00:06<00:00,  5.32it/s]\n"
     ]
    },
    {
     "name": "stdout",
     "output_type": "stream",
     "text": [
      "Fold 5\n",
      "Memory usage of dataframe is 7.48 MB\n",
      "Memory usage after optimization is: 4.63 MB\n",
      "Decreased by 38.1%\n"
     ]
    },
    {
     "name": "stderr",
     "output_type": "stream",
     "text": [
      "100%|██████████| 36/36 [00:06<00:00,  5.33it/s]\n",
      "[I 2024-06-30 15:39:18,026] Trial 18 finished with value: 0.7667835922536181 and parameters: {'lambda': 1.4534032036801302e-05, 'alpha': 0.0002145969864420976, 'eta': 0.06452597904266695, 'gamma': 6.442001732406546e-05, 'max_depth': 8, 'min_child_weight': 0.3951378564260829, 'subsample': 0.5977804969539603, 'colsample_bytree': 0.5773229002824469, 'colsample_bylevel': 0.6578921743300443, 'colsample_bynode': 0.6630447635407477, 'scale_pos_weight': 9.939828620934366e-07}. Best is trial 15 with value: 0.7703046343031916.\n"
     ]
    },
    {
     "name": "stdout",
     "output_type": "stream",
     "text": [
      "Score: 0.7667835922536181\n",
      "Fold 1\n",
      "Memory usage of dataframe is 7.48 MB\n",
      "Memory usage after optimization is: 4.63 MB\n",
      "Decreased by 38.1%\n"
     ]
    },
    {
     "name": "stderr",
     "output_type": "stream",
     "text": [
      "100%|██████████| 36/36 [00:06<00:00,  5.39it/s]\n"
     ]
    },
    {
     "name": "stdout",
     "output_type": "stream",
     "text": [
      "Fold 2\n",
      "Memory usage of dataframe is 7.48 MB\n",
      "Memory usage after optimization is: 4.63 MB\n",
      "Decreased by 38.1%\n"
     ]
    },
    {
     "name": "stderr",
     "output_type": "stream",
     "text": [
      "100%|██████████| 36/36 [00:06<00:00,  5.36it/s]\n"
     ]
    },
    {
     "name": "stdout",
     "output_type": "stream",
     "text": [
      "Fold 3\n",
      "Memory usage of dataframe is 7.48 MB\n",
      "Memory usage after optimization is: 4.63 MB\n",
      "Decreased by 38.1%\n"
     ]
    },
    {
     "name": "stderr",
     "output_type": "stream",
     "text": [
      "100%|██████████| 36/36 [00:06<00:00,  5.35it/s]\n"
     ]
    },
    {
     "name": "stdout",
     "output_type": "stream",
     "text": [
      "Fold 4\n",
      "Memory usage of dataframe is 7.48 MB\n",
      "Memory usage after optimization is: 4.63 MB\n",
      "Decreased by 38.1%\n"
     ]
    },
    {
     "name": "stderr",
     "output_type": "stream",
     "text": [
      "100%|██████████| 36/36 [00:06<00:00,  5.37it/s]\n"
     ]
    },
    {
     "name": "stdout",
     "output_type": "stream",
     "text": [
      "Fold 5\n",
      "Memory usage of dataframe is 7.48 MB\n",
      "Memory usage after optimization is: 4.63 MB\n",
      "Decreased by 38.1%\n"
     ]
    },
    {
     "name": "stderr",
     "output_type": "stream",
     "text": [
      "100%|██████████| 36/36 [00:06<00:00,  5.32it/s]\n",
      "[I 2024-06-30 15:39:56,833] Trial 19 finished with value: 0.7673765783393571 and parameters: {'lambda': 8.764823035193598e-06, 'alpha': 0.019864858760500908, 'eta': 0.16087134494173258, 'gamma': 1.7930894761791921e-06, 'max_depth': 8, 'min_child_weight': 0.0017246826074186527, 'subsample': 0.5574740591049906, 'colsample_bytree': 0.6896826246116308, 'colsample_bylevel': 0.7341178583105923, 'colsample_bynode': 0.5065172477507132, 'scale_pos_weight': 3.8964322931681203e-07}. Best is trial 15 with value: 0.7703046343031916.\n"
     ]
    },
    {
     "name": "stdout",
     "output_type": "stream",
     "text": [
      "Score: 0.7673765783393571\n",
      "Fold 1\n",
      "Memory usage of dataframe is 7.48 MB\n",
      "Memory usage after optimization is: 4.63 MB\n",
      "Decreased by 38.1%\n"
     ]
    },
    {
     "name": "stderr",
     "output_type": "stream",
     "text": [
      "100%|██████████| 36/36 [00:06<00:00,  5.35it/s]\n"
     ]
    },
    {
     "name": "stdout",
     "output_type": "stream",
     "text": [
      "Fold 2\n",
      "Memory usage of dataframe is 7.48 MB\n",
      "Memory usage after optimization is: 4.63 MB\n",
      "Decreased by 38.1%\n"
     ]
    },
    {
     "name": "stderr",
     "output_type": "stream",
     "text": [
      "100%|██████████| 36/36 [00:06<00:00,  5.36it/s]\n"
     ]
    },
    {
     "name": "stdout",
     "output_type": "stream",
     "text": [
      "Fold 3\n",
      "Memory usage of dataframe is 7.48 MB\n",
      "Memory usage after optimization is: 4.63 MB\n",
      "Decreased by 38.1%\n"
     ]
    },
    {
     "name": "stderr",
     "output_type": "stream",
     "text": [
      "100%|██████████| 36/36 [00:06<00:00,  5.33it/s]\n"
     ]
    },
    {
     "name": "stdout",
     "output_type": "stream",
     "text": [
      "Fold 4\n",
      "Memory usage of dataframe is 7.48 MB\n",
      "Memory usage after optimization is: 4.63 MB\n",
      "Decreased by 38.1%\n"
     ]
    },
    {
     "name": "stderr",
     "output_type": "stream",
     "text": [
      "100%|██████████| 36/36 [00:06<00:00,  5.39it/s]\n"
     ]
    },
    {
     "name": "stdout",
     "output_type": "stream",
     "text": [
      "Fold 5\n",
      "Memory usage of dataframe is 7.48 MB\n",
      "Memory usage after optimization is: 4.63 MB\n",
      "Decreased by 38.1%\n"
     ]
    },
    {
     "name": "stderr",
     "output_type": "stream",
     "text": [
      "100%|██████████| 36/36 [00:06<00:00,  5.32it/s]\n",
      "[I 2024-06-30 15:40:34,314] Trial 20 finished with value: 0.7671542440442413 and parameters: {'lambda': 0.0003913745605163413, 'alpha': 1.1919839643508227e-05, 'eta': 0.06565563853830954, 'gamma': 1.2311324799266363e-05, 'max_depth': 6, 'min_child_weight': 0.9691274198293797, 'subsample': 0.6677476357220997, 'colsample_bytree': 0.5012208968536157, 'colsample_bylevel': 0.8577270994224464, 'colsample_bynode': 0.5712546212907738, 'scale_pos_weight': 2.8144026938465642e-05}. Best is trial 15 with value: 0.7703046343031916.\n"
     ]
    },
    {
     "name": "stdout",
     "output_type": "stream",
     "text": [
      "Score: 0.7671542440442413\n",
      "Fold 1\n",
      "Memory usage of dataframe is 7.48 MB\n",
      "Memory usage after optimization is: 4.63 MB\n",
      "Decreased by 38.1%\n"
     ]
    },
    {
     "name": "stderr",
     "output_type": "stream",
     "text": [
      "100%|██████████| 36/36 [00:06<00:00,  5.32it/s]\n"
     ]
    },
    {
     "name": "stdout",
     "output_type": "stream",
     "text": [
      "Fold 2\n",
      "Memory usage of dataframe is 7.48 MB\n",
      "Memory usage after optimization is: 4.63 MB\n",
      "Decreased by 38.1%\n"
     ]
    },
    {
     "name": "stderr",
     "output_type": "stream",
     "text": [
      "100%|██████████| 36/36 [00:06<00:00,  5.30it/s]\n"
     ]
    },
    {
     "name": "stdout",
     "output_type": "stream",
     "text": [
      "Fold 3\n",
      "Memory usage of dataframe is 7.48 MB\n",
      "Memory usage after optimization is: 4.63 MB\n",
      "Decreased by 38.1%\n"
     ]
    },
    {
     "name": "stderr",
     "output_type": "stream",
     "text": [
      "100%|██████████| 36/36 [00:06<00:00,  5.34it/s]\n"
     ]
    },
    {
     "name": "stdout",
     "output_type": "stream",
     "text": [
      "Fold 4\n",
      "Memory usage of dataframe is 7.48 MB\n",
      "Memory usage after optimization is: 4.63 MB\n",
      "Decreased by 38.1%\n"
     ]
    },
    {
     "name": "stderr",
     "output_type": "stream",
     "text": [
      "100%|██████████| 36/36 [00:06<00:00,  5.30it/s]\n"
     ]
    },
    {
     "name": "stdout",
     "output_type": "stream",
     "text": [
      "Fold 5\n",
      "Memory usage of dataframe is 7.48 MB\n",
      "Memory usage after optimization is: 4.63 MB\n",
      "Decreased by 38.1%\n"
     ]
    },
    {
     "name": "stderr",
     "output_type": "stream",
     "text": [
      "100%|██████████| 36/36 [00:06<00:00,  5.34it/s]\n",
      "[I 2024-06-30 15:41:12,633] Trial 21 finished with value: 0.7685008816735068 and parameters: {'lambda': 0.00016424055197098637, 'alpha': 0.0004622205333557021, 'eta': 0.04098919108324985, 'gamma': 9.743564772907653e-08, 'max_depth': 7, 'min_child_weight': 3.349446643375538e-05, 'subsample': 0.5284207637955819, 'colsample_bytree': 0.6615102372009083, 'colsample_bylevel': 0.7862660396042825, 'colsample_bynode': 0.8354742008419087, 'scale_pos_weight': 0.0003653805521333183}. Best is trial 15 with value: 0.7703046343031916.\n"
     ]
    },
    {
     "name": "stdout",
     "output_type": "stream",
     "text": [
      "Score: 0.7685008816735068\n",
      "Fold 1\n",
      "Memory usage of dataframe is 7.48 MB\n",
      "Memory usage after optimization is: 4.63 MB\n",
      "Decreased by 38.1%\n"
     ]
    },
    {
     "name": "stderr",
     "output_type": "stream",
     "text": [
      "100%|██████████| 36/36 [00:06<00:00,  5.30it/s]\n"
     ]
    },
    {
     "name": "stdout",
     "output_type": "stream",
     "text": [
      "Fold 2\n",
      "Memory usage of dataframe is 7.48 MB\n",
      "Memory usage after optimization is: 4.63 MB\n",
      "Decreased by 38.1%\n"
     ]
    },
    {
     "name": "stderr",
     "output_type": "stream",
     "text": [
      "100%|██████████| 36/36 [00:06<00:00,  5.23it/s]\n"
     ]
    },
    {
     "name": "stdout",
     "output_type": "stream",
     "text": [
      "Fold 3\n",
      "Memory usage of dataframe is 7.48 MB\n",
      "Memory usage after optimization is: 4.63 MB\n",
      "Decreased by 38.1%\n"
     ]
    },
    {
     "name": "stderr",
     "output_type": "stream",
     "text": [
      "100%|██████████| 36/36 [00:06<00:00,  5.31it/s]\n"
     ]
    },
    {
     "name": "stdout",
     "output_type": "stream",
     "text": [
      "Fold 4\n",
      "Memory usage of dataframe is 7.48 MB\n",
      "Memory usage after optimization is: 4.63 MB\n",
      "Decreased by 38.1%\n"
     ]
    },
    {
     "name": "stderr",
     "output_type": "stream",
     "text": [
      "100%|██████████| 36/36 [00:06<00:00,  5.34it/s]\n"
     ]
    },
    {
     "name": "stdout",
     "output_type": "stream",
     "text": [
      "Fold 5\n",
      "Memory usage of dataframe is 7.48 MB\n",
      "Memory usage after optimization is: 4.63 MB\n",
      "Decreased by 38.1%\n"
     ]
    },
    {
     "name": "stderr",
     "output_type": "stream",
     "text": [
      "100%|██████████| 36/36 [00:06<00:00,  5.29it/s]\n",
      "[I 2024-06-30 15:41:53,733] Trial 22 finished with value: 0.7699710630311885 and parameters: {'lambda': 0.000965940281697739, 'alpha': 0.0007701565965830418, 'eta': 0.05790834924355035, 'gamma': 2.9990423314328847e-07, 'max_depth': 9, 'min_child_weight': 8.650695012872528e-05, 'subsample': 0.5427137204362145, 'colsample_bytree': 0.6124168641160258, 'colsample_bylevel': 0.784029465872459, 'colsample_bynode': 0.7148841768018807, 'scale_pos_weight': 1.4612046316298341e-05}. Best is trial 15 with value: 0.7703046343031916.\n"
     ]
    },
    {
     "name": "stdout",
     "output_type": "stream",
     "text": [
      "Score: 0.7699710630311885\n",
      "Fold 1\n",
      "Memory usage of dataframe is 7.48 MB\n",
      "Memory usage after optimization is: 4.63 MB\n",
      "Decreased by 38.1%\n"
     ]
    },
    {
     "name": "stderr",
     "output_type": "stream",
     "text": [
      "100%|██████████| 36/36 [00:06<00:00,  5.34it/s]\n"
     ]
    },
    {
     "name": "stdout",
     "output_type": "stream",
     "text": [
      "Fold 2\n",
      "Memory usage of dataframe is 7.48 MB\n",
      "Memory usage after optimization is: 4.63 MB\n",
      "Decreased by 38.1%\n"
     ]
    },
    {
     "name": "stderr",
     "output_type": "stream",
     "text": [
      "100%|██████████| 36/36 [00:06<00:00,  5.31it/s]\n"
     ]
    },
    {
     "name": "stdout",
     "output_type": "stream",
     "text": [
      "Fold 3\n",
      "Memory usage of dataframe is 7.48 MB\n",
      "Memory usage after optimization is: 4.63 MB\n",
      "Decreased by 38.1%\n"
     ]
    },
    {
     "name": "stderr",
     "output_type": "stream",
     "text": [
      "100%|██████████| 36/36 [00:06<00:00,  5.28it/s]\n"
     ]
    },
    {
     "name": "stdout",
     "output_type": "stream",
     "text": [
      "Fold 4\n",
      "Memory usage of dataframe is 7.48 MB\n",
      "Memory usage after optimization is: 4.63 MB\n",
      "Decreased by 38.1%\n"
     ]
    },
    {
     "name": "stderr",
     "output_type": "stream",
     "text": [
      "100%|██████████| 36/36 [00:06<00:00,  5.29it/s]\n"
     ]
    },
    {
     "name": "stdout",
     "output_type": "stream",
     "text": [
      "Fold 5\n",
      "Memory usage of dataframe is 7.48 MB\n",
      "Memory usage after optimization is: 4.63 MB\n",
      "Decreased by 38.1%\n"
     ]
    },
    {
     "name": "stderr",
     "output_type": "stream",
     "text": [
      "100%|██████████| 36/36 [00:06<00:00,  5.32it/s]\n",
      "[I 2024-06-30 15:42:35,513] Trial 23 finished with value: 0.7695139113989902 and parameters: {'lambda': 0.001662707989033377, 'alpha': 0.005272013898675659, 'eta': 0.08980110798479618, 'gamma': 6.491479319605769e-07, 'max_depth': 9, 'min_child_weight': 0.00016312725485011096, 'subsample': 0.5550049854378607, 'colsample_bytree': 0.6050230100488064, 'colsample_bylevel': 0.7720483621487331, 'colsample_bynode': 0.7282683807234634, 'scale_pos_weight': 1.187141509056241e-05}. Best is trial 15 with value: 0.7703046343031916.\n"
     ]
    },
    {
     "name": "stdout",
     "output_type": "stream",
     "text": [
      "Score: 0.7695139113989902\n",
      "Fold 1\n",
      "Memory usage of dataframe is 7.48 MB\n",
      "Memory usage after optimization is: 4.63 MB\n",
      "Decreased by 38.1%\n"
     ]
    },
    {
     "name": "stderr",
     "output_type": "stream",
     "text": [
      "100%|██████████| 36/36 [00:07<00:00,  4.93it/s]\n"
     ]
    },
    {
     "name": "stdout",
     "output_type": "stream",
     "text": [
      "Fold 2\n",
      "Memory usage of dataframe is 7.48 MB\n",
      "Memory usage after optimization is: 4.63 MB\n",
      "Decreased by 38.1%\n"
     ]
    },
    {
     "name": "stderr",
     "output_type": "stream",
     "text": [
      "100%|██████████| 36/36 [00:07<00:00,  4.88it/s]\n"
     ]
    },
    {
     "name": "stdout",
     "output_type": "stream",
     "text": [
      "Fold 3\n",
      "Memory usage of dataframe is 7.48 MB\n",
      "Memory usage after optimization is: 4.63 MB\n",
      "Decreased by 38.1%\n"
     ]
    },
    {
     "name": "stderr",
     "output_type": "stream",
     "text": [
      "100%|██████████| 36/36 [00:07<00:00,  4.99it/s]\n"
     ]
    },
    {
     "name": "stdout",
     "output_type": "stream",
     "text": [
      "Fold 4\n",
      "Memory usage of dataframe is 7.48 MB\n",
      "Memory usage after optimization is: 4.63 MB\n",
      "Decreased by 38.1%\n"
     ]
    },
    {
     "name": "stderr",
     "output_type": "stream",
     "text": [
      "100%|██████████| 36/36 [00:07<00:00,  5.07it/s]\n"
     ]
    },
    {
     "name": "stdout",
     "output_type": "stream",
     "text": [
      "Fold 5\n",
      "Memory usage of dataframe is 7.48 MB\n",
      "Memory usage after optimization is: 4.63 MB\n",
      "Decreased by 38.1%\n"
     ]
    },
    {
     "name": "stderr",
     "output_type": "stream",
     "text": [
      "100%|██████████| 36/36 [00:07<00:00,  5.09it/s]\n",
      "[I 2024-06-30 15:43:19,705] Trial 24 finished with value: 0.7666847765025696 and parameters: {'lambda': 4.94014193962915e-05, 'alpha': 0.005419039535003947, 'eta': 0.1687021156410091, 'gamma': 9.134579456186715e-07, 'max_depth': 9, 'min_child_weight': 0.00024428513237667755, 'subsample': 0.5983355193577806, 'colsample_bytree': 0.6184865266627267, 'colsample_bylevel': 0.7486194716253748, 'colsample_bynode': 0.7245399446631888, 'scale_pos_weight': 8.143408537874303e-06}. Best is trial 15 with value: 0.7703046343031916.\n"
     ]
    },
    {
     "name": "stdout",
     "output_type": "stream",
     "text": [
      "Score: 0.7666847765025696\n",
      "Fold 1\n",
      "Memory usage of dataframe is 7.48 MB\n",
      "Memory usage after optimization is: 4.63 MB\n",
      "Decreased by 38.1%\n"
     ]
    },
    {
     "name": "stderr",
     "output_type": "stream",
     "text": [
      "100%|██████████| 36/36 [00:07<00:00,  5.08it/s]\n"
     ]
    },
    {
     "name": "stdout",
     "output_type": "stream",
     "text": [
      "Fold 2\n",
      "Memory usage of dataframe is 7.48 MB\n",
      "Memory usage after optimization is: 4.63 MB\n",
      "Decreased by 38.1%\n"
     ]
    },
    {
     "name": "stderr",
     "output_type": "stream",
     "text": [
      "100%|██████████| 36/36 [00:07<00:00,  5.09it/s]\n"
     ]
    },
    {
     "name": "stdout",
     "output_type": "stream",
     "text": [
      "Fold 3\n",
      "Memory usage of dataframe is 7.48 MB\n",
      "Memory usage after optimization is: 4.63 MB\n",
      "Decreased by 38.1%\n"
     ]
    },
    {
     "name": "stderr",
     "output_type": "stream",
     "text": [
      "100%|██████████| 36/36 [00:07<00:00,  4.99it/s]\n"
     ]
    },
    {
     "name": "stdout",
     "output_type": "stream",
     "text": [
      "Fold 4\n",
      "Memory usage of dataframe is 7.48 MB\n",
      "Memory usage after optimization is: 4.63 MB\n",
      "Decreased by 38.1%\n"
     ]
    },
    {
     "name": "stderr",
     "output_type": "stream",
     "text": [
      "100%|██████████| 36/36 [00:07<00:00,  5.03it/s]\n"
     ]
    },
    {
     "name": "stdout",
     "output_type": "stream",
     "text": [
      "Fold 5\n",
      "Memory usage of dataframe is 7.48 MB\n",
      "Memory usage after optimization is: 4.63 MB\n",
      "Decreased by 38.1%\n"
     ]
    },
    {
     "name": "stderr",
     "output_type": "stream",
     "text": [
      "100%|██████████| 36/36 [00:07<00:00,  5.01it/s]\n",
      "[I 2024-06-30 15:44:01,751] Trial 25 finished with value: 0.7689085391928673 and parameters: {'lambda': 0.0012151693625206677, 'alpha': 0.00039423251240832584, 'eta': 0.10079308786184378, 'gamma': 2.378577005637426e-06, 'max_depth': 8, 'min_child_weight': 0.004716019120898757, 'subsample': 0.5548375628602242, 'colsample_bytree': 0.6944304877825545, 'colsample_bylevel': 0.696796554633372, 'colsample_bynode': 0.6883812158348473, 'scale_pos_weight': 6.267748864810029e-07}. Best is trial 15 with value: 0.7703046343031916.\n"
     ]
    },
    {
     "name": "stdout",
     "output_type": "stream",
     "text": [
      "Score: 0.7689085391928673\n",
      "Fold 1\n",
      "Memory usage of dataframe is 7.48 MB\n",
      "Memory usage after optimization is: 4.63 MB\n",
      "Decreased by 38.1%\n"
     ]
    },
    {
     "name": "stderr",
     "output_type": "stream",
     "text": [
      "100%|██████████| 36/36 [00:07<00:00,  5.01it/s]\n"
     ]
    },
    {
     "name": "stdout",
     "output_type": "stream",
     "text": [
      "Fold 2\n",
      "Memory usage of dataframe is 7.48 MB\n",
      "Memory usage after optimization is: 4.63 MB\n",
      "Decreased by 38.1%\n"
     ]
    },
    {
     "name": "stderr",
     "output_type": "stream",
     "text": [
      "100%|██████████| 36/36 [00:07<00:00,  4.99it/s]\n"
     ]
    },
    {
     "name": "stdout",
     "output_type": "stream",
     "text": [
      "Fold 3\n",
      "Memory usage of dataframe is 7.48 MB\n",
      "Memory usage after optimization is: 4.63 MB\n",
      "Decreased by 38.1%\n"
     ]
    },
    {
     "name": "stderr",
     "output_type": "stream",
     "text": [
      "100%|██████████| 36/36 [00:07<00:00,  5.09it/s]\n"
     ]
    },
    {
     "name": "stdout",
     "output_type": "stream",
     "text": [
      "Fold 4\n",
      "Memory usage of dataframe is 7.48 MB\n",
      "Memory usage after optimization is: 4.63 MB\n",
      "Decreased by 38.1%\n"
     ]
    },
    {
     "name": "stderr",
     "output_type": "stream",
     "text": [
      "100%|██████████| 36/36 [00:07<00:00,  5.01it/s]\n"
     ]
    },
    {
     "name": "stdout",
     "output_type": "stream",
     "text": [
      "Fold 5\n",
      "Memory usage of dataframe is 7.48 MB\n",
      "Memory usage after optimization is: 4.63 MB\n",
      "Decreased by 38.1%\n"
     ]
    },
    {
     "name": "stderr",
     "output_type": "stream",
     "text": [
      "100%|██████████| 36/36 [00:07<00:00,  4.98it/s]\n",
      "[I 2024-06-30 15:44:45,980] Trial 26 finished with value: 0.7657828608848807 and parameters: {'lambda': 0.02929325559948092, 'alpha': 0.002845167732542557, 'eta': 0.18050673693219846, 'gamma': 1.704269190175081e-05, 'max_depth': 9, 'min_child_weight': 0.00047218742855387316, 'subsample': 0.6153085165346593, 'colsample_bytree': 0.5925968509006155, 'colsample_bylevel': 0.7628160418443135, 'colsample_bynode': 0.755205776982114, 'scale_pos_weight': 6.118653530054724e-06}. Best is trial 15 with value: 0.7703046343031916.\n"
     ]
    },
    {
     "name": "stdout",
     "output_type": "stream",
     "text": [
      "Score: 0.7657828608848807\n",
      "Fold 1\n",
      "Memory usage of dataframe is 7.48 MB\n",
      "Memory usage after optimization is: 4.63 MB\n",
      "Decreased by 38.1%\n"
     ]
    },
    {
     "name": "stderr",
     "output_type": "stream",
     "text": [
      "100%|██████████| 36/36 [00:07<00:00,  5.06it/s]\n"
     ]
    },
    {
     "name": "stdout",
     "output_type": "stream",
     "text": [
      "Fold 2\n",
      "Memory usage of dataframe is 7.48 MB\n",
      "Memory usage after optimization is: 4.63 MB\n",
      "Decreased by 38.1%\n"
     ]
    },
    {
     "name": "stderr",
     "output_type": "stream",
     "text": [
      "100%|██████████| 36/36 [00:07<00:00,  5.00it/s]\n"
     ]
    },
    {
     "name": "stdout",
     "output_type": "stream",
     "text": [
      "Fold 3\n",
      "Memory usage of dataframe is 7.48 MB\n",
      "Memory usage after optimization is: 4.63 MB\n",
      "Decreased by 38.1%\n"
     ]
    },
    {
     "name": "stderr",
     "output_type": "stream",
     "text": [
      "100%|██████████| 36/36 [00:07<00:00,  5.03it/s]\n"
     ]
    },
    {
     "name": "stdout",
     "output_type": "stream",
     "text": [
      "Fold 4\n",
      "Memory usage of dataframe is 7.48 MB\n",
      "Memory usage after optimization is: 4.63 MB\n",
      "Decreased by 38.1%\n"
     ]
    },
    {
     "name": "stderr",
     "output_type": "stream",
     "text": [
      "100%|██████████| 36/36 [00:07<00:00,  5.04it/s]\n"
     ]
    },
    {
     "name": "stdout",
     "output_type": "stream",
     "text": [
      "Fold 5\n",
      "Memory usage of dataframe is 7.48 MB\n",
      "Memory usage after optimization is: 4.63 MB\n",
      "Decreased by 38.1%\n"
     ]
    },
    {
     "name": "stderr",
     "output_type": "stream",
     "text": [
      "100%|██████████| 36/36 [00:07<00:00,  4.77it/s]\n",
      "[I 2024-06-30 15:45:28,814] Trial 27 finished with value: 0.7699957696400178 and parameters: {'lambda': 1.1817767163163013e-05, 'alpha': 0.005791608176547239, 'eta': 0.09210913288465343, 'gamma': 2.880223514497647e-07, 'max_depth': 8, 'min_child_weight': 0.0001026774441004506, 'subsample': 0.5823452412569075, 'colsample_bytree': 0.6455648558037931, 'colsample_bylevel': 0.7622379279025361, 'colsample_bynode': 0.6399542471936704, 'scale_pos_weight': 2.842281954582921e-07}. Best is trial 15 with value: 0.7703046343031916.\n"
     ]
    },
    {
     "name": "stdout",
     "output_type": "stream",
     "text": [
      "Score: 0.7699957696400178\n",
      "Fold 1\n",
      "Memory usage of dataframe is 7.48 MB\n",
      "Memory usage after optimization is: 4.63 MB\n",
      "Decreased by 38.1%\n"
     ]
    },
    {
     "name": "stderr",
     "output_type": "stream",
     "text": [
      "100%|██████████| 36/36 [00:07<00:00,  4.98it/s]\n"
     ]
    },
    {
     "name": "stdout",
     "output_type": "stream",
     "text": [
      "Fold 2\n",
      "Memory usage of dataframe is 7.48 MB\n",
      "Memory usage after optimization is: 4.63 MB\n",
      "Decreased by 38.1%\n"
     ]
    },
    {
     "name": "stderr",
     "output_type": "stream",
     "text": [
      "100%|██████████| 36/36 [00:07<00:00,  4.92it/s]\n"
     ]
    },
    {
     "name": "stdout",
     "output_type": "stream",
     "text": [
      "Fold 3\n",
      "Memory usage of dataframe is 7.48 MB\n",
      "Memory usage after optimization is: 4.63 MB\n",
      "Decreased by 38.1%\n"
     ]
    },
    {
     "name": "stderr",
     "output_type": "stream",
     "text": [
      "100%|██████████| 36/36 [00:07<00:00,  4.99it/s]\n"
     ]
    },
    {
     "name": "stdout",
     "output_type": "stream",
     "text": [
      "Fold 4\n",
      "Memory usage of dataframe is 7.48 MB\n",
      "Memory usage after optimization is: 4.63 MB\n",
      "Decreased by 38.1%\n"
     ]
    },
    {
     "name": "stderr",
     "output_type": "stream",
     "text": [
      "100%|██████████| 36/36 [00:07<00:00,  5.07it/s]\n"
     ]
    },
    {
     "name": "stdout",
     "output_type": "stream",
     "text": [
      "Fold 5\n",
      "Memory usage of dataframe is 7.48 MB\n",
      "Memory usage after optimization is: 4.63 MB\n",
      "Decreased by 38.1%\n"
     ]
    },
    {
     "name": "stderr",
     "output_type": "stream",
     "text": [
      "100%|██████████| 36/36 [00:07<00:00,  5.06it/s]\n",
      "[I 2024-06-30 15:46:11,745] Trial 28 finished with value: 0.7673766309975399 and parameters: {'lambda': 7.802289562146947e-06, 'alpha': 0.07373766024791385, 'eta': 0.026799416331201555, 'gamma': 4.410987854288663e-06, 'max_depth': 8, 'min_child_weight': 0.0024466786824672232, 'subsample': 0.6025575939350857, 'colsample_bytree': 0.6687914190402848, 'colsample_bylevel': 0.8425186667537974, 'colsample_bynode': 0.633278182061199, 'scale_pos_weight': 3.4043429180030964e-07}. Best is trial 15 with value: 0.7703046343031916.\n"
     ]
    },
    {
     "name": "stdout",
     "output_type": "stream",
     "text": [
      "Score: 0.7673766309975399\n",
      "Fold 1\n",
      "Memory usage of dataframe is 7.48 MB\n",
      "Memory usage after optimization is: 4.63 MB\n",
      "Decreased by 38.1%\n"
     ]
    },
    {
     "name": "stderr",
     "output_type": "stream",
     "text": [
      "100%|██████████| 36/36 [00:07<00:00,  5.05it/s]\n"
     ]
    },
    {
     "name": "stdout",
     "output_type": "stream",
     "text": [
      "Fold 2\n",
      "Memory usage of dataframe is 7.48 MB\n",
      "Memory usage after optimization is: 4.63 MB\n",
      "Decreased by 38.1%\n"
     ]
    },
    {
     "name": "stderr",
     "output_type": "stream",
     "text": [
      "100%|██████████| 36/36 [00:07<00:00,  5.00it/s]\n"
     ]
    },
    {
     "name": "stdout",
     "output_type": "stream",
     "text": [
      "Fold 3\n",
      "Memory usage of dataframe is 7.48 MB\n",
      "Memory usage after optimization is: 4.63 MB\n",
      "Decreased by 38.1%\n"
     ]
    },
    {
     "name": "stderr",
     "output_type": "stream",
     "text": [
      "100%|██████████| 36/36 [00:07<00:00,  4.99it/s]\n"
     ]
    },
    {
     "name": "stdout",
     "output_type": "stream",
     "text": [
      "Fold 4\n",
      "Memory usage of dataframe is 7.48 MB\n",
      "Memory usage after optimization is: 4.63 MB\n",
      "Decreased by 38.1%\n"
     ]
    },
    {
     "name": "stderr",
     "output_type": "stream",
     "text": [
      "100%|██████████| 36/36 [00:07<00:00,  5.05it/s]\n"
     ]
    },
    {
     "name": "stdout",
     "output_type": "stream",
     "text": [
      "Fold 5\n",
      "Memory usage of dataframe is 7.48 MB\n",
      "Memory usage after optimization is: 4.63 MB\n",
      "Decreased by 38.1%\n"
     ]
    },
    {
     "name": "stderr",
     "output_type": "stream",
     "text": [
      "100%|██████████| 36/36 [00:07<00:00,  5.08it/s]\n",
      "[I 2024-06-30 15:46:51,553] Trial 29 finished with value: 0.7699587181215566 and parameters: {'lambda': 2.363911562700641e-05, 'alpha': 0.9424815310593352, 'eta': 0.11719481281263523, 'gamma': 3.191106059668504e-07, 'max_depth': 6, 'min_child_weight': 0.014082503664192654, 'subsample': 0.6614361130504185, 'colsample_bytree': 0.717879629026272, 'colsample_bylevel': 0.7062599688557935, 'colsample_bynode': 0.6330501999724973, 'scale_pos_weight': 1.8673240803985047e-07}. Best is trial 15 with value: 0.7703046343031916.\n"
     ]
    },
    {
     "name": "stdout",
     "output_type": "stream",
     "text": [
      "Score: 0.7699587181215566\n",
      "Fold 1\n",
      "Memory usage of dataframe is 7.48 MB\n",
      "Memory usage after optimization is: 4.63 MB\n",
      "Decreased by 38.1%\n"
     ]
    },
    {
     "name": "stderr",
     "output_type": "stream",
     "text": [
      "100%|██████████| 36/36 [00:07<00:00,  5.03it/s]\n"
     ]
    },
    {
     "name": "stdout",
     "output_type": "stream",
     "text": [
      "Fold 2\n",
      "Memory usage of dataframe is 7.48 MB\n",
      "Memory usage after optimization is: 4.63 MB\n",
      "Decreased by 38.1%\n"
     ]
    },
    {
     "name": "stderr",
     "output_type": "stream",
     "text": [
      "100%|██████████| 36/36 [00:07<00:00,  5.00it/s]\n"
     ]
    },
    {
     "name": "stdout",
     "output_type": "stream",
     "text": [
      "Fold 3\n",
      "Memory usage of dataframe is 7.48 MB\n",
      "Memory usage after optimization is: 4.63 MB\n",
      "Decreased by 38.1%\n"
     ]
    },
    {
     "name": "stderr",
     "output_type": "stream",
     "text": [
      "100%|██████████| 36/36 [00:07<00:00,  4.99it/s]\n"
     ]
    },
    {
     "name": "stdout",
     "output_type": "stream",
     "text": [
      "Fold 4\n",
      "Memory usage of dataframe is 7.48 MB\n",
      "Memory usage after optimization is: 4.63 MB\n",
      "Decreased by 38.1%\n"
     ]
    },
    {
     "name": "stderr",
     "output_type": "stream",
     "text": [
      "100%|██████████| 36/36 [00:07<00:00,  4.95it/s]\n"
     ]
    },
    {
     "name": "stdout",
     "output_type": "stream",
     "text": [
      "Fold 5\n",
      "Memory usage of dataframe is 7.48 MB\n",
      "Memory usage after optimization is: 4.63 MB\n",
      "Decreased by 38.1%\n"
     ]
    },
    {
     "name": "stderr",
     "output_type": "stream",
     "text": [
      "100%|██████████| 36/36 [00:07<00:00,  4.97it/s]\n",
      "[I 2024-06-30 15:47:31,231] Trial 30 finished with value: 0.7553433028857615 and parameters: {'lambda': 2.9385996963641745e-06, 'alpha': 0.013027021988525797, 'eta': 0.010963801557044196, 'gamma': 5.22006754880409e-05, 'max_depth': 5, 'min_child_weight': 0.0342058728426165, 'subsample': 0.5351671009953747, 'colsample_bytree': 0.6527865436699647, 'colsample_bylevel': 0.6620974131581412, 'colsample_bynode': 0.6879208281779173, 'scale_pos_weight': 1.1398631286071475e-08}. Best is trial 15 with value: 0.7703046343031916.\n"
     ]
    },
    {
     "name": "stdout",
     "output_type": "stream",
     "text": [
      "Score: 0.7553433028857615\n",
      "Fold 1\n",
      "Memory usage of dataframe is 7.48 MB\n",
      "Memory usage after optimization is: 4.63 MB\n",
      "Decreased by 38.1%\n"
     ]
    },
    {
     "name": "stderr",
     "output_type": "stream",
     "text": [
      "100%|██████████| 36/36 [00:07<00:00,  5.03it/s]\n"
     ]
    },
    {
     "name": "stdout",
     "output_type": "stream",
     "text": [
      "Fold 2\n",
      "Memory usage of dataframe is 7.48 MB\n",
      "Memory usage after optimization is: 4.63 MB\n",
      "Decreased by 38.1%\n"
     ]
    },
    {
     "name": "stderr",
     "output_type": "stream",
     "text": [
      "100%|██████████| 36/36 [00:07<00:00,  5.04it/s]\n"
     ]
    },
    {
     "name": "stdout",
     "output_type": "stream",
     "text": [
      "Fold 3\n",
      "Memory usage of dataframe is 7.48 MB\n",
      "Memory usage after optimization is: 4.63 MB\n",
      "Decreased by 38.1%\n"
     ]
    },
    {
     "name": "stderr",
     "output_type": "stream",
     "text": [
      "100%|██████████| 36/36 [00:07<00:00,  5.03it/s]\n"
     ]
    },
    {
     "name": "stdout",
     "output_type": "stream",
     "text": [
      "Fold 4\n",
      "Memory usage of dataframe is 7.48 MB\n",
      "Memory usage after optimization is: 4.63 MB\n",
      "Decreased by 38.1%\n"
     ]
    },
    {
     "name": "stderr",
     "output_type": "stream",
     "text": [
      "100%|██████████| 36/36 [00:07<00:00,  5.05it/s]\n"
     ]
    },
    {
     "name": "stdout",
     "output_type": "stream",
     "text": [
      "Fold 5\n",
      "Memory usage of dataframe is 7.48 MB\n",
      "Memory usage after optimization is: 4.63 MB\n",
      "Decreased by 38.1%\n"
     ]
    },
    {
     "name": "stderr",
     "output_type": "stream",
     "text": [
      "100%|██████████| 36/36 [00:07<00:00,  4.95it/s]\n",
      "[I 2024-06-30 15:48:10,589] Trial 31 finished with value: 0.7701810905747759 and parameters: {'lambda': 9.387655419562124e-06, 'alpha': 0.8425083129851405, 'eta': 0.12118510469737323, 'gamma': 3.081629033876566e-07, 'max_depth': 5, 'min_child_weight': 0.007685890628948596, 'subsample': 0.6397339046676943, 'colsample_bytree': 0.7072510693022372, 'colsample_bylevel': 0.7284319272719023, 'colsample_bynode': 0.613619628028007, 'scale_pos_weight': 1.4297789569421038e-07}. Best is trial 15 with value: 0.7703046343031916.\n"
     ]
    },
    {
     "name": "stdout",
     "output_type": "stream",
     "text": [
      "Score: 0.7701810905747759\n",
      "Fold 1\n",
      "Memory usage of dataframe is 7.48 MB\n",
      "Memory usage after optimization is: 4.63 MB\n",
      "Decreased by 38.1%\n"
     ]
    },
    {
     "name": "stderr",
     "output_type": "stream",
     "text": [
      "100%|██████████| 36/36 [00:07<00:00,  5.00it/s]\n"
     ]
    },
    {
     "name": "stdout",
     "output_type": "stream",
     "text": [
      "Fold 2\n",
      "Memory usage of dataframe is 7.48 MB\n",
      "Memory usage after optimization is: 4.63 MB\n",
      "Decreased by 38.1%\n"
     ]
    },
    {
     "name": "stderr",
     "output_type": "stream",
     "text": [
      "100%|██████████| 36/36 [00:07<00:00,  4.96it/s]\n"
     ]
    },
    {
     "name": "stdout",
     "output_type": "stream",
     "text": [
      "Fold 3\n",
      "Memory usage of dataframe is 7.48 MB\n",
      "Memory usage after optimization is: 4.63 MB\n",
      "Decreased by 38.1%\n"
     ]
    },
    {
     "name": "stderr",
     "output_type": "stream",
     "text": [
      "100%|██████████| 36/36 [00:07<00:00,  5.05it/s]\n"
     ]
    },
    {
     "name": "stdout",
     "output_type": "stream",
     "text": [
      "Fold 4\n",
      "Memory usage of dataframe is 7.48 MB\n",
      "Memory usage after optimization is: 4.63 MB\n",
      "Decreased by 38.1%\n"
     ]
    },
    {
     "name": "stderr",
     "output_type": "stream",
     "text": [
      "100%|██████████| 36/36 [00:07<00:00,  5.04it/s]\n"
     ]
    },
    {
     "name": "stdout",
     "output_type": "stream",
     "text": [
      "Fold 5\n",
      "Memory usage of dataframe is 7.48 MB\n",
      "Memory usage after optimization is: 4.63 MB\n",
      "Decreased by 38.1%\n"
     ]
    },
    {
     "name": "stderr",
     "output_type": "stream",
     "text": [
      "100%|██████████| 36/36 [00:07<00:00,  4.92it/s]\n",
      "[I 2024-06-30 15:48:50,069] Trial 32 finished with value: 0.7699833896249306 and parameters: {'lambda': 2.1438324498716936e-05, 'alpha': 0.06917789888573772, 'eta': 0.19778659507475638, 'gamma': 1.7032871217002238e-06, 'max_depth': 5, 'min_child_weight': 0.0005589264316231917, 'subsample': 0.6259376361759674, 'colsample_bytree': 0.7289389651309767, 'colsample_bylevel': 0.753201424161367, 'colsample_bynode': 0.593481941292477, 'scale_pos_weight': 1.304772799489254e-07}. Best is trial 15 with value: 0.7703046343031916.\n"
     ]
    },
    {
     "name": "stdout",
     "output_type": "stream",
     "text": [
      "Score: 0.7699833896249306\n",
      "Fold 1\n",
      "Memory usage of dataframe is 7.48 MB\n",
      "Memory usage after optimization is: 4.63 MB\n",
      "Decreased by 38.1%\n"
     ]
    },
    {
     "name": "stderr",
     "output_type": "stream",
     "text": [
      "100%|██████████| 36/36 [00:07<00:00,  5.09it/s]\n"
     ]
    },
    {
     "name": "stdout",
     "output_type": "stream",
     "text": [
      "Fold 2\n",
      "Memory usage of dataframe is 7.48 MB\n",
      "Memory usage after optimization is: 4.63 MB\n",
      "Decreased by 38.1%\n"
     ]
    },
    {
     "name": "stderr",
     "output_type": "stream",
     "text": [
      "100%|██████████| 36/36 [00:07<00:00,  5.01it/s]\n"
     ]
    },
    {
     "name": "stdout",
     "output_type": "stream",
     "text": [
      "Fold 3\n",
      "Memory usage of dataframe is 7.48 MB\n",
      "Memory usage after optimization is: 4.63 MB\n",
      "Decreased by 38.1%\n"
     ]
    },
    {
     "name": "stderr",
     "output_type": "stream",
     "text": [
      "100%|██████████| 36/36 [00:07<00:00,  5.00it/s]\n"
     ]
    },
    {
     "name": "stdout",
     "output_type": "stream",
     "text": [
      "Fold 4\n",
      "Memory usage of dataframe is 7.48 MB\n",
      "Memory usage after optimization is: 4.63 MB\n",
      "Decreased by 38.1%\n"
     ]
    },
    {
     "name": "stderr",
     "output_type": "stream",
     "text": [
      "100%|██████████| 36/36 [00:07<00:00,  4.94it/s]\n"
     ]
    },
    {
     "name": "stdout",
     "output_type": "stream",
     "text": [
      "Fold 5\n",
      "Memory usage of dataframe is 7.48 MB\n",
      "Memory usage after optimization is: 4.63 MB\n",
      "Decreased by 38.1%\n"
     ]
    },
    {
     "name": "stderr",
     "output_type": "stream",
     "text": [
      "100%|██████████| 36/36 [00:07<00:00,  5.00it/s]\n",
      "[I 2024-06-30 15:49:29,514] Trial 33 finished with value: 0.7682537385058443 and parameters: {'lambda': 1.639313479305925e-05, 'alpha': 0.10693825493962994, 'eta': 0.2007502805947659, 'gamma': 5.044346797906548e-06, 'max_depth': 5, 'min_child_weight': 0.0006054783267545222, 'subsample': 0.6269394966615744, 'colsample_bytree': 0.7286921895726808, 'colsample_bylevel': 0.7389258870754905, 'colsample_bynode': 0.5819505407766545, 'scale_pos_weight': 9.812114400754014e-08}. Best is trial 15 with value: 0.7703046343031916.\n"
     ]
    },
    {
     "name": "stdout",
     "output_type": "stream",
     "text": [
      "Score: 0.7682537385058443\n",
      "Fold 1\n",
      "Memory usage of dataframe is 7.48 MB\n",
      "Memory usage after optimization is: 4.63 MB\n",
      "Decreased by 38.1%\n"
     ]
    },
    {
     "name": "stderr",
     "output_type": "stream",
     "text": [
      "100%|██████████| 36/36 [00:07<00:00,  4.99it/s]\n"
     ]
    },
    {
     "name": "stdout",
     "output_type": "stream",
     "text": [
      "Fold 2\n",
      "Memory usage of dataframe is 7.48 MB\n",
      "Memory usage after optimization is: 4.63 MB\n",
      "Decreased by 38.1%\n"
     ]
    },
    {
     "name": "stderr",
     "output_type": "stream",
     "text": [
      "100%|██████████| 36/36 [00:07<00:00,  5.03it/s]\n"
     ]
    },
    {
     "name": "stdout",
     "output_type": "stream",
     "text": [
      "Fold 3\n",
      "Memory usage of dataframe is 7.48 MB\n",
      "Memory usage after optimization is: 4.63 MB\n",
      "Decreased by 38.1%\n"
     ]
    },
    {
     "name": "stderr",
     "output_type": "stream",
     "text": [
      "100%|██████████| 36/36 [00:07<00:00,  4.98it/s]\n"
     ]
    },
    {
     "name": "stdout",
     "output_type": "stream",
     "text": [
      "Fold 4\n",
      "Memory usage of dataframe is 7.48 MB\n",
      "Memory usage after optimization is: 4.63 MB\n",
      "Decreased by 38.1%\n"
     ]
    },
    {
     "name": "stderr",
     "output_type": "stream",
     "text": [
      "100%|██████████| 36/36 [00:07<00:00,  5.02it/s]\n"
     ]
    },
    {
     "name": "stdout",
     "output_type": "stream",
     "text": [
      "Fold 5\n",
      "Memory usage of dataframe is 7.48 MB\n",
      "Memory usage after optimization is: 4.63 MB\n",
      "Decreased by 38.1%\n"
     ]
    },
    {
     "name": "stderr",
     "output_type": "stream",
     "text": [
      "100%|██████████| 36/36 [00:07<00:00,  4.99it/s]\n",
      "[I 2024-06-30 15:50:09,397] Trial 34 finished with value: 0.7694521540348614 and parameters: {'lambda': 1.1314417878579948e-06, 'alpha': 0.3926949322135998, 'eta': 0.13344783062956972, 'gamma': 2.079010280718269e-06, 'max_depth': 5, 'min_child_weight': 0.0050536409728747485, 'subsample': 0.6546087989273324, 'colsample_bytree': 0.7559171949449592, 'colsample_bylevel': 0.679548415148846, 'colsample_bynode': 0.6048163938394868, 'scale_pos_weight': 3.2617012835412467e-08}. Best is trial 15 with value: 0.7703046343031916.\n"
     ]
    },
    {
     "name": "stdout",
     "output_type": "stream",
     "text": [
      "Score: 0.7694521540348614\n",
      "Fold 1\n",
      "Memory usage of dataframe is 7.48 MB\n",
      "Memory usage after optimization is: 4.63 MB\n",
      "Decreased by 38.1%\n"
     ]
    },
    {
     "name": "stderr",
     "output_type": "stream",
     "text": [
      "100%|██████████| 36/36 [00:07<00:00,  5.01it/s]\n"
     ]
    },
    {
     "name": "stdout",
     "output_type": "stream",
     "text": [
      "Fold 2\n",
      "Memory usage of dataframe is 7.48 MB\n",
      "Memory usage after optimization is: 4.63 MB\n",
      "Decreased by 38.1%\n"
     ]
    },
    {
     "name": "stderr",
     "output_type": "stream",
     "text": [
      "100%|██████████| 36/36 [00:07<00:00,  5.09it/s]\n"
     ]
    },
    {
     "name": "stdout",
     "output_type": "stream",
     "text": [
      "Fold 3\n",
      "Memory usage of dataframe is 7.48 MB\n",
      "Memory usage after optimization is: 4.63 MB\n",
      "Decreased by 38.1%\n"
     ]
    },
    {
     "name": "stderr",
     "output_type": "stream",
     "text": [
      "100%|██████████| 36/36 [00:07<00:00,  5.04it/s]\n"
     ]
    },
    {
     "name": "stdout",
     "output_type": "stream",
     "text": [
      "Fold 4\n",
      "Memory usage of dataframe is 7.48 MB\n",
      "Memory usage after optimization is: 4.63 MB\n",
      "Decreased by 38.1%\n"
     ]
    },
    {
     "name": "stderr",
     "output_type": "stream",
     "text": [
      "100%|██████████| 36/36 [00:07<00:00,  5.03it/s]\n"
     ]
    },
    {
     "name": "stdout",
     "output_type": "stream",
     "text": [
      "Fold 5\n",
      "Memory usage of dataframe is 7.48 MB\n",
      "Memory usage after optimization is: 4.63 MB\n",
      "Decreased by 38.1%\n"
     ]
    },
    {
     "name": "stderr",
     "output_type": "stream",
     "text": [
      "100%|██████████| 36/36 [00:07<00:00,  5.03it/s]\n",
      "[I 2024-06-30 15:50:48,335] Trial 35 finished with value: 0.7680190409852068 and parameters: {'lambda': 2.934552397278937e-06, 'alpha': 0.0611766467551383, 'eta': 0.2597529636682211, 'gamma': 0.000216346193755596, 'max_depth': 3, 'min_child_weight': 0.0005070052724884108, 'subsample': 0.5767793119248026, 'colsample_bytree': 0.7252439179079945, 'colsample_bylevel': 0.6358606363729561, 'colsample_bynode': 0.55883429480303, 'scale_pos_weight': 1.3330808758268092e-07}. Best is trial 15 with value: 0.7703046343031916.\n"
     ]
    },
    {
     "name": "stdout",
     "output_type": "stream",
     "text": [
      "Score: 0.7680190409852068\n",
      "Fold 1\n",
      "Memory usage of dataframe is 7.48 MB\n",
      "Memory usage after optimization is: 4.63 MB\n",
      "Decreased by 38.1%\n"
     ]
    },
    {
     "name": "stderr",
     "output_type": "stream",
     "text": [
      "100%|██████████| 36/36 [00:07<00:00,  5.05it/s]\n"
     ]
    },
    {
     "name": "stdout",
     "output_type": "stream",
     "text": [
      "Fold 2\n",
      "Memory usage of dataframe is 7.48 MB\n",
      "Memory usage after optimization is: 4.63 MB\n",
      "Decreased by 38.1%\n"
     ]
    },
    {
     "name": "stderr",
     "output_type": "stream",
     "text": [
      "100%|██████████| 36/36 [00:07<00:00,  5.02it/s]\n"
     ]
    },
    {
     "name": "stdout",
     "output_type": "stream",
     "text": [
      "Fold 3\n",
      "Memory usage of dataframe is 7.48 MB\n",
      "Memory usage after optimization is: 4.63 MB\n",
      "Decreased by 38.1%\n"
     ]
    },
    {
     "name": "stderr",
     "output_type": "stream",
     "text": [
      "100%|██████████| 36/36 [00:07<00:00,  5.03it/s]\n"
     ]
    },
    {
     "name": "stdout",
     "output_type": "stream",
     "text": [
      "Fold 4\n",
      "Memory usage of dataframe is 7.48 MB\n",
      "Memory usage after optimization is: 4.63 MB\n",
      "Decreased by 38.1%\n"
     ]
    },
    {
     "name": "stderr",
     "output_type": "stream",
     "text": [
      "100%|██████████| 36/36 [00:07<00:00,  4.99it/s]\n"
     ]
    },
    {
     "name": "stdout",
     "output_type": "stream",
     "text": [
      "Fold 5\n",
      "Memory usage of dataframe is 7.48 MB\n",
      "Memory usage after optimization is: 4.63 MB\n",
      "Decreased by 38.1%\n"
     ]
    },
    {
     "name": "stderr",
     "output_type": "stream",
     "text": [
      "100%|██████████| 36/36 [00:07<00:00,  5.00it/s]\n",
      "[I 2024-06-30 15:51:27,749] Trial 36 finished with value: 0.7681178933680346 and parameters: {'lambda': 6.993929631594833e-07, 'alpha': 0.19669641019666514, 'eta': 0.08753633335903636, 'gamma': 3.9193135919274666e-08, 'max_depth': 5, 'min_child_weight': 0.03505510438686641, 'subsample': 0.6357340664820044, 'colsample_bytree': 0.7832772741487414, 'colsample_bylevel': 0.7139522647847905, 'colsample_bynode': 0.6070660694502046, 'scale_pos_weight': 6.641304419623733e-08}. Best is trial 15 with value: 0.7703046343031916.\n"
     ]
    },
    {
     "name": "stdout",
     "output_type": "stream",
     "text": [
      "Score: 0.7681178933680346\n",
      "Fold 1\n",
      "Memory usage of dataframe is 7.48 MB\n",
      "Memory usage after optimization is: 4.63 MB\n",
      "Decreased by 38.1%\n"
     ]
    },
    {
     "name": "stderr",
     "output_type": "stream",
     "text": [
      "100%|██████████| 36/36 [00:07<00:00,  5.05it/s]\n"
     ]
    },
    {
     "name": "stdout",
     "output_type": "stream",
     "text": [
      "Fold 2\n",
      "Memory usage of dataframe is 7.48 MB\n",
      "Memory usage after optimization is: 4.63 MB\n",
      "Decreased by 38.1%\n"
     ]
    },
    {
     "name": "stderr",
     "output_type": "stream",
     "text": [
      "100%|██████████| 36/36 [00:07<00:00,  5.00it/s]\n"
     ]
    },
    {
     "name": "stdout",
     "output_type": "stream",
     "text": [
      "Fold 3\n",
      "Memory usage of dataframe is 7.48 MB\n",
      "Memory usage after optimization is: 4.63 MB\n",
      "Decreased by 38.1%\n"
     ]
    },
    {
     "name": "stderr",
     "output_type": "stream",
     "text": [
      "100%|██████████| 36/36 [00:07<00:00,  5.03it/s]\n"
     ]
    },
    {
     "name": "stdout",
     "output_type": "stream",
     "text": [
      "Fold 4\n",
      "Memory usage of dataframe is 7.48 MB\n",
      "Memory usage after optimization is: 4.63 MB\n",
      "Decreased by 38.1%\n"
     ]
    },
    {
     "name": "stderr",
     "output_type": "stream",
     "text": [
      "100%|██████████| 36/36 [00:07<00:00,  5.10it/s]\n"
     ]
    },
    {
     "name": "stdout",
     "output_type": "stream",
     "text": [
      "Fold 5\n",
      "Memory usage of dataframe is 7.48 MB\n",
      "Memory usage after optimization is: 4.63 MB\n",
      "Decreased by 38.1%\n"
     ]
    },
    {
     "name": "stderr",
     "output_type": "stream",
     "text": [
      "100%|██████████| 36/36 [00:07<00:00,  5.06it/s]\n",
      "[I 2024-06-30 15:52:06,463] Trial 37 finished with value: 0.7682908686299987 and parameters: {'lambda': 7.45760383636055e-06, 'alpha': 0.8567254188110185, 'eta': 0.1495506277284352, 'gamma': 3.254919670384715e-07, 'max_depth': 4, 'min_child_weight': 0.0017767357922250134, 'subsample': 0.592284455915209, 'colsample_bytree': 0.6977919600677751, 'colsample_bylevel': 0.6162067801147112, 'colsample_bynode': 0.5481289822561747, 'scale_pos_weight': 8.396231191698111e-07}. Best is trial 15 with value: 0.7703046343031916.\n"
     ]
    },
    {
     "name": "stdout",
     "output_type": "stream",
     "text": [
      "Score: 0.7682908686299987\n",
      "Fold 1\n",
      "Memory usage of dataframe is 7.48 MB\n",
      "Memory usage after optimization is: 4.63 MB\n",
      "Decreased by 38.1%\n"
     ]
    },
    {
     "name": "stderr",
     "output_type": "stream",
     "text": [
      "100%|██████████| 36/36 [00:07<00:00,  4.90it/s]\n"
     ]
    },
    {
     "name": "stdout",
     "output_type": "stream",
     "text": [
      "Fold 2\n",
      "Memory usage of dataframe is 7.48 MB\n",
      "Memory usage after optimization is: 4.63 MB\n",
      "Decreased by 38.1%\n"
     ]
    },
    {
     "name": "stderr",
     "output_type": "stream",
     "text": [
      "100%|██████████| 36/36 [00:07<00:00,  5.05it/s]\n"
     ]
    },
    {
     "name": "stdout",
     "output_type": "stream",
     "text": [
      "Fold 3\n",
      "Memory usage of dataframe is 7.48 MB\n",
      "Memory usage after optimization is: 4.63 MB\n",
      "Decreased by 38.1%\n"
     ]
    },
    {
     "name": "stderr",
     "output_type": "stream",
     "text": [
      "100%|██████████| 36/36 [00:07<00:00,  4.96it/s]\n"
     ]
    },
    {
     "name": "stdout",
     "output_type": "stream",
     "text": [
      "Fold 4\n",
      "Memory usage of dataframe is 7.48 MB\n",
      "Memory usage after optimization is: 4.63 MB\n",
      "Decreased by 38.1%\n"
     ]
    },
    {
     "name": "stderr",
     "output_type": "stream",
     "text": [
      "100%|██████████| 36/36 [00:07<00:00,  5.07it/s]\n"
     ]
    },
    {
     "name": "stdout",
     "output_type": "stream",
     "text": [
      "Fold 5\n",
      "Memory usage of dataframe is 7.48 MB\n",
      "Memory usage after optimization is: 4.63 MB\n",
      "Decreased by 38.1%\n"
     ]
    },
    {
     "name": "stderr",
     "output_type": "stream",
     "text": [
      "100%|██████████| 36/36 [00:07<00:00,  5.03it/s]\n",
      "[I 2024-06-30 15:52:46,417] Trial 38 finished with value: 0.7672530422425622 and parameters: {'lambda': 4.583161855829036e-05, 'alpha': 0.04217416673607137, 'eta': 0.22146026822829576, 'gamma': 3.0209045430708135e-08, 'max_depth': 6, 'min_child_weight': 0.004391768093581274, 'subsample': 0.6416609224995546, 'colsample_bytree': 0.6405744699697434, 'colsample_bylevel': 0.7567676650299585, 'colsample_bynode': 0.6470423744451521, 'scale_pos_weight': 3.6960662184767506e-08}. Best is trial 15 with value: 0.7703046343031916.\n"
     ]
    },
    {
     "name": "stdout",
     "output_type": "stream",
     "text": [
      "Score: 0.7672530422425622\n",
      "Fold 1\n",
      "Memory usage of dataframe is 7.48 MB\n",
      "Memory usage after optimization is: 4.63 MB\n",
      "Decreased by 38.1%\n"
     ]
    },
    {
     "name": "stderr",
     "output_type": "stream",
     "text": [
      "100%|██████████| 36/36 [00:07<00:00,  5.03it/s]\n"
     ]
    },
    {
     "name": "stdout",
     "output_type": "stream",
     "text": [
      "Fold 2\n",
      "Memory usage of dataframe is 7.48 MB\n",
      "Memory usage after optimization is: 4.63 MB\n",
      "Decreased by 38.1%\n"
     ]
    },
    {
     "name": "stderr",
     "output_type": "stream",
     "text": [
      "100%|██████████| 36/36 [00:07<00:00,  5.05it/s]\n"
     ]
    },
    {
     "name": "stdout",
     "output_type": "stream",
     "text": [
      "Fold 3\n",
      "Memory usage of dataframe is 7.48 MB\n",
      "Memory usage after optimization is: 4.63 MB\n",
      "Decreased by 38.1%\n"
     ]
    },
    {
     "name": "stderr",
     "output_type": "stream",
     "text": [
      "100%|██████████| 36/36 [00:07<00:00,  5.02it/s]\n"
     ]
    },
    {
     "name": "stdout",
     "output_type": "stream",
     "text": [
      "Fold 4\n",
      "Memory usage of dataframe is 7.48 MB\n",
      "Memory usage after optimization is: 4.63 MB\n",
      "Decreased by 38.1%\n"
     ]
    },
    {
     "name": "stderr",
     "output_type": "stream",
     "text": [
      "100%|██████████| 36/36 [00:07<00:00,  5.04it/s]\n"
     ]
    },
    {
     "name": "stdout",
     "output_type": "stream",
     "text": [
      "Fold 5\n",
      "Memory usage of dataframe is 7.48 MB\n",
      "Memory usage after optimization is: 4.63 MB\n",
      "Decreased by 38.1%\n"
     ]
    },
    {
     "name": "stderr",
     "output_type": "stream",
     "text": [
      "100%|██████████| 36/36 [00:07<00:00,  4.95it/s]\n",
      "[I 2024-06-30 15:53:25,016] Trial 39 finished with value: 0.7658693706475627 and parameters: {'lambda': 3.669726824251117e-07, 'alpha': 0.17574933743283802, 'eta': 0.1289335599385426, 'gamma': 1.511959602812127e-06, 'max_depth': 3, 'min_child_weight': 0.0006031691194574577, 'subsample': 0.5831947817026412, 'colsample_bytree': 0.7416351340907545, 'colsample_bylevel': 0.6857170386836735, 'colsample_bynode': 0.6004555201496397, 'scale_pos_weight': 2.110918618707294e-07}. Best is trial 15 with value: 0.7703046343031916.\n"
     ]
    },
    {
     "name": "stdout",
     "output_type": "stream",
     "text": [
      "Score: 0.7658693706475627\n",
      "Fold 1\n",
      "Memory usage of dataframe is 7.48 MB\n",
      "Memory usage after optimization is: 4.63 MB\n",
      "Decreased by 38.1%\n"
     ]
    },
    {
     "name": "stderr",
     "output_type": "stream",
     "text": [
      "100%|██████████| 36/36 [00:07<00:00,  4.97it/s]\n"
     ]
    },
    {
     "name": "stdout",
     "output_type": "stream",
     "text": [
      "Fold 2\n",
      "Memory usage of dataframe is 7.48 MB\n",
      "Memory usage after optimization is: 4.63 MB\n",
      "Decreased by 38.1%\n"
     ]
    },
    {
     "name": "stderr",
     "output_type": "stream",
     "text": [
      "100%|██████████| 36/36 [00:07<00:00,  4.98it/s]\n"
     ]
    },
    {
     "name": "stdout",
     "output_type": "stream",
     "text": [
      "Fold 3\n",
      "Memory usage of dataframe is 7.48 MB\n",
      "Memory usage after optimization is: 4.63 MB\n",
      "Decreased by 38.1%\n"
     ]
    },
    {
     "name": "stderr",
     "output_type": "stream",
     "text": [
      "100%|██████████| 36/36 [00:07<00:00,  4.98it/s]\n"
     ]
    },
    {
     "name": "stdout",
     "output_type": "stream",
     "text": [
      "Fold 4\n",
      "Memory usage of dataframe is 7.48 MB\n",
      "Memory usage after optimization is: 4.63 MB\n",
      "Decreased by 38.1%\n"
     ]
    },
    {
     "name": "stderr",
     "output_type": "stream",
     "text": [
      "100%|██████████| 36/36 [00:07<00:00,  5.03it/s]\n"
     ]
    },
    {
     "name": "stdout",
     "output_type": "stream",
     "text": [
      "Fold 5\n",
      "Memory usage of dataframe is 7.48 MB\n",
      "Memory usage after optimization is: 4.63 MB\n",
      "Decreased by 38.1%\n"
     ]
    },
    {
     "name": "stderr",
     "output_type": "stream",
     "text": [
      "100%|██████████| 36/36 [00:07<00:00,  5.01it/s]\n",
      "[I 2024-06-30 15:54:05,042] Trial 40 finished with value: 0.7687232014685434 and parameters: {'lambda': 1.6927715418286965e-06, 'alpha': 0.010476974765429322, 'eta': 0.2120629146777752, 'gamma': 4.26810752905421e-07, 'max_depth': 6, 'min_child_weight': 0.008191652487394006, 'subsample': 0.6905473003449436, 'colsample_bytree': 0.6702080104930357, 'colsample_bylevel': 0.7263562637779646, 'colsample_bynode': 0.528773057323597, 'scale_pos_weight': 1.1050246401909405e-08}. Best is trial 15 with value: 0.7703046343031916.\n"
     ]
    },
    {
     "name": "stdout",
     "output_type": "stream",
     "text": [
      "Score: 0.7687232014685434\n",
      "Fold 1\n",
      "Memory usage of dataframe is 7.48 MB\n",
      "Memory usage after optimization is: 4.63 MB\n",
      "Decreased by 38.1%\n"
     ]
    },
    {
     "name": "stderr",
     "output_type": "stream",
     "text": [
      "100%|██████████| 36/36 [00:07<00:00,  5.01it/s]\n"
     ]
    },
    {
     "name": "stdout",
     "output_type": "stream",
     "text": [
      "Fold 2\n",
      "Memory usage of dataframe is 7.48 MB\n",
      "Memory usage after optimization is: 4.63 MB\n",
      "Decreased by 38.1%\n"
     ]
    },
    {
     "name": "stderr",
     "output_type": "stream",
     "text": [
      "100%|██████████| 36/36 [00:07<00:00,  5.05it/s]\n"
     ]
    },
    {
     "name": "stdout",
     "output_type": "stream",
     "text": [
      "Fold 3\n",
      "Memory usage of dataframe is 7.48 MB\n",
      "Memory usage after optimization is: 4.63 MB\n",
      "Decreased by 38.1%\n"
     ]
    },
    {
     "name": "stderr",
     "output_type": "stream",
     "text": [
      "100%|██████████| 36/36 [00:07<00:00,  5.05it/s]\n"
     ]
    },
    {
     "name": "stdout",
     "output_type": "stream",
     "text": [
      "Fold 4\n",
      "Memory usage of dataframe is 7.48 MB\n",
      "Memory usage after optimization is: 4.63 MB\n",
      "Decreased by 38.1%\n"
     ]
    },
    {
     "name": "stderr",
     "output_type": "stream",
     "text": [
      "100%|██████████| 36/36 [00:07<00:00,  5.02it/s]\n"
     ]
    },
    {
     "name": "stdout",
     "output_type": "stream",
     "text": [
      "Fold 5\n",
      "Memory usage of dataframe is 7.48 MB\n",
      "Memory usage after optimization is: 4.63 MB\n",
      "Decreased by 38.1%\n"
     ]
    },
    {
     "name": "stderr",
     "output_type": "stream",
     "text": [
      "100%|██████████| 36/36 [00:07<00:00,  4.97it/s]\n",
      "[I 2024-06-30 15:54:44,680] Trial 41 finished with value: 0.7649922127705617 and parameters: {'lambda': 8.494809015908426e-05, 'alpha': 0.03599218406367589, 'eta': 0.05741622806279858, 'gamma': 2.4075391937489346e-07, 'max_depth': 5, 'min_child_weight': 6.807577707387977e-05, 'subsample': 0.539221034675635, 'colsample_bytree': 0.611316354636128, 'colsample_bylevel': 0.7593570435836167, 'colsample_bynode': 0.6616167506370401, 'scale_pos_weight': 2.0538015967689937e-06}. Best is trial 15 with value: 0.7703046343031916.\n"
     ]
    },
    {
     "name": "stdout",
     "output_type": "stream",
     "text": [
      "Score: 0.7649922127705617\n",
      "Fold 1\n",
      "Memory usage of dataframe is 7.48 MB\n",
      "Memory usage after optimization is: 4.63 MB\n",
      "Decreased by 38.1%\n"
     ]
    },
    {
     "name": "stderr",
     "output_type": "stream",
     "text": [
      "100%|██████████| 36/36 [00:07<00:00,  5.05it/s]\n"
     ]
    },
    {
     "name": "stdout",
     "output_type": "stream",
     "text": [
      "Fold 2\n",
      "Memory usage of dataframe is 7.48 MB\n",
      "Memory usage after optimization is: 4.63 MB\n",
      "Decreased by 38.1%\n"
     ]
    },
    {
     "name": "stderr",
     "output_type": "stream",
     "text": [
      "100%|██████████| 36/36 [00:07<00:00,  5.04it/s]\n"
     ]
    },
    {
     "name": "stdout",
     "output_type": "stream",
     "text": [
      "Fold 3\n",
      "Memory usage of dataframe is 7.48 MB\n",
      "Memory usage after optimization is: 4.63 MB\n",
      "Decreased by 38.1%\n"
     ]
    },
    {
     "name": "stderr",
     "output_type": "stream",
     "text": [
      "100%|██████████| 36/36 [00:07<00:00,  5.00it/s]\n"
     ]
    },
    {
     "name": "stdout",
     "output_type": "stream",
     "text": [
      "Fold 4\n",
      "Memory usage of dataframe is 7.48 MB\n",
      "Memory usage after optimization is: 4.63 MB\n",
      "Decreased by 38.1%\n"
     ]
    },
    {
     "name": "stderr",
     "output_type": "stream",
     "text": [
      "100%|██████████| 36/36 [00:07<00:00,  5.07it/s]\n"
     ]
    },
    {
     "name": "stdout",
     "output_type": "stream",
     "text": [
      "Fold 5\n",
      "Memory usage of dataframe is 7.48 MB\n",
      "Memory usage after optimization is: 4.63 MB\n",
      "Decreased by 38.1%\n"
     ]
    },
    {
     "name": "stderr",
     "output_type": "stream",
     "text": [
      "100%|██████████| 36/36 [00:07<00:00,  5.05it/s]\n",
      "[I 2024-06-30 15:55:23,987] Trial 42 finished with value: 0.7678955323622463 and parameters: {'lambda': 2.6322263152318326e-05, 'alpha': 0.37430677675829394, 'eta': 0.0849843097521123, 'gamma': 7.687737548681741e-07, 'max_depth': 5, 'min_child_weight': 0.00010482782503110759, 'subsample': 0.5811220958657897, 'colsample_bytree': 0.6355774904979775, 'colsample_bylevel': 0.7797018446997748, 'colsample_bynode': 0.6236527904954798, 'scale_pos_weight': 3.835876816365239e-07}. Best is trial 15 with value: 0.7703046343031916.\n"
     ]
    },
    {
     "name": "stdout",
     "output_type": "stream",
     "text": [
      "Score: 0.7678955323622463\n",
      "Fold 1\n",
      "Memory usage of dataframe is 7.48 MB\n",
      "Memory usage after optimization is: 4.63 MB\n",
      "Decreased by 38.1%\n"
     ]
    },
    {
     "name": "stderr",
     "output_type": "stream",
     "text": [
      "100%|██████████| 36/36 [00:07<00:00,  5.03it/s]\n"
     ]
    },
    {
     "name": "stdout",
     "output_type": "stream",
     "text": [
      "Fold 2\n",
      "Memory usage of dataframe is 7.48 MB\n",
      "Memory usage after optimization is: 4.63 MB\n",
      "Decreased by 38.1%\n"
     ]
    },
    {
     "name": "stderr",
     "output_type": "stream",
     "text": [
      "100%|██████████| 36/36 [00:07<00:00,  4.94it/s]\n"
     ]
    },
    {
     "name": "stdout",
     "output_type": "stream",
     "text": [
      "Fold 3\n",
      "Memory usage of dataframe is 7.48 MB\n",
      "Memory usage after optimization is: 4.63 MB\n",
      "Decreased by 38.1%\n"
     ]
    },
    {
     "name": "stderr",
     "output_type": "stream",
     "text": [
      "100%|██████████| 36/36 [00:07<00:00,  5.05it/s]\n"
     ]
    },
    {
     "name": "stdout",
     "output_type": "stream",
     "text": [
      "Fold 4\n",
      "Memory usage of dataframe is 7.48 MB\n",
      "Memory usage after optimization is: 4.63 MB\n",
      "Decreased by 38.1%\n"
     ]
    },
    {
     "name": "stderr",
     "output_type": "stream",
     "text": [
      "100%|██████████| 36/36 [00:07<00:00,  4.93it/s]\n"
     ]
    },
    {
     "name": "stdout",
     "output_type": "stream",
     "text": [
      "Fold 5\n",
      "Memory usage of dataframe is 7.48 MB\n",
      "Memory usage after optimization is: 4.63 MB\n",
      "Decreased by 38.1%\n"
     ]
    },
    {
     "name": "stderr",
     "output_type": "stream",
     "text": [
      "100%|██████████| 36/36 [00:07<00:00,  5.00it/s]\n",
      "[I 2024-06-30 15:56:03,263] Trial 43 finished with value: 0.7651281128560404 and parameters: {'lambda': 5.360373176692454e-06, 'alpha': 0.008587568147217338, 'eta': 0.0735887251025151, 'gamma': 1.7236248778891652e-07, 'max_depth': 4, 'min_child_weight': 0.0002494786300704834, 'subsample': 0.620475058379914, 'colsample_bytree': 0.710660677456091, 'colsample_bylevel': 0.8196101994328796, 'colsample_bynode': 0.5660014119333969, 'scale_pos_weight': 6.52907674523394e-08}. Best is trial 15 with value: 0.7703046343031916.\n"
     ]
    },
    {
     "name": "stdout",
     "output_type": "stream",
     "text": [
      "Score: 0.7651281128560404\n",
      "Fold 1\n",
      "Memory usage of dataframe is 7.48 MB\n",
      "Memory usage after optimization is: 4.63 MB\n",
      "Decreased by 38.1%\n"
     ]
    },
    {
     "name": "stderr",
     "output_type": "stream",
     "text": [
      "100%|██████████| 36/36 [00:07<00:00,  4.98it/s]\n"
     ]
    },
    {
     "name": "stdout",
     "output_type": "stream",
     "text": [
      "Fold 2\n",
      "Memory usage of dataframe is 7.48 MB\n",
      "Memory usage after optimization is: 4.63 MB\n",
      "Decreased by 38.1%\n"
     ]
    },
    {
     "name": "stderr",
     "output_type": "stream",
     "text": [
      "100%|██████████| 36/36 [00:07<00:00,  4.99it/s]\n"
     ]
    },
    {
     "name": "stdout",
     "output_type": "stream",
     "text": [
      "Fold 3\n",
      "Memory usage of dataframe is 7.48 MB\n",
      "Memory usage after optimization is: 4.63 MB\n",
      "Decreased by 38.1%\n"
     ]
    },
    {
     "name": "stderr",
     "output_type": "stream",
     "text": [
      "100%|██████████| 36/36 [00:07<00:00,  5.00it/s]\n"
     ]
    },
    {
     "name": "stdout",
     "output_type": "stream",
     "text": [
      "Fold 4\n",
      "Memory usage of dataframe is 7.48 MB\n",
      "Memory usage after optimization is: 4.63 MB\n",
      "Decreased by 38.1%\n"
     ]
    },
    {
     "name": "stderr",
     "output_type": "stream",
     "text": [
      "100%|██████████| 36/36 [00:07<00:00,  4.91it/s]\n"
     ]
    },
    {
     "name": "stdout",
     "output_type": "stream",
     "text": [
      "Fold 5\n",
      "Memory usage of dataframe is 7.48 MB\n",
      "Memory usage after optimization is: 4.63 MB\n",
      "Decreased by 38.1%\n"
     ]
    },
    {
     "name": "stderr",
     "output_type": "stream",
     "text": [
      "100%|██████████| 36/36 [00:07<00:00,  5.02it/s]\n",
      "[I 2024-06-30 15:56:45,093] Trial 44 finished with value: 0.7660299674207639 and parameters: {'lambda': 0.00013832648183988478, 'alpha': 0.026861703219448307, 'eta': 0.05312963876964251, 'gamma': 6.668123720010668e-06, 'max_depth': 8, 'min_child_weight': 4.378058864085305e-06, 'subsample': 0.5305562688895641, 'colsample_bytree': 0.5357158824746452, 'colsample_bylevel': 0.7685255920974671, 'colsample_bynode': 0.6586087896050684, 'scale_pos_weight': 1.8510519787305114e-07}. Best is trial 15 with value: 0.7703046343031916.\n"
     ]
    },
    {
     "name": "stdout",
     "output_type": "stream",
     "text": [
      "Score: 0.7660299674207639\n",
      "Fold 1\n",
      "Memory usage of dataframe is 7.48 MB\n",
      "Memory usage after optimization is: 4.63 MB\n",
      "Decreased by 38.1%\n"
     ]
    },
    {
     "name": "stderr",
     "output_type": "stream",
     "text": [
      "100%|██████████| 36/36 [00:07<00:00,  5.07it/s]\n"
     ]
    },
    {
     "name": "stdout",
     "output_type": "stream",
     "text": [
      "Fold 2\n",
      "Memory usage of dataframe is 7.48 MB\n",
      "Memory usage after optimization is: 4.63 MB\n",
      "Decreased by 38.1%\n"
     ]
    },
    {
     "name": "stderr",
     "output_type": "stream",
     "text": [
      "100%|██████████| 36/36 [00:07<00:00,  4.94it/s]\n"
     ]
    },
    {
     "name": "stdout",
     "output_type": "stream",
     "text": [
      "Fold 3\n",
      "Memory usage of dataframe is 7.48 MB\n",
      "Memory usage after optimization is: 4.63 MB\n",
      "Decreased by 38.1%\n"
     ]
    },
    {
     "name": "stderr",
     "output_type": "stream",
     "text": [
      "100%|██████████| 36/36 [00:07<00:00,  4.93it/s]\n"
     ]
    },
    {
     "name": "stdout",
     "output_type": "stream",
     "text": [
      "Fold 4\n",
      "Memory usage of dataframe is 7.48 MB\n",
      "Memory usage after optimization is: 4.63 MB\n",
      "Decreased by 38.1%\n"
     ]
    },
    {
     "name": "stderr",
     "output_type": "stream",
     "text": [
      "100%|██████████| 36/36 [00:07<00:00,  4.99it/s]\n"
     ]
    },
    {
     "name": "stdout",
     "output_type": "stream",
     "text": [
      "Fold 5\n",
      "Memory usage of dataframe is 7.48 MB\n",
      "Memory usage after optimization is: 4.63 MB\n",
      "Decreased by 38.1%\n"
     ]
    },
    {
     "name": "stderr",
     "output_type": "stream",
     "text": [
      "100%|██████████| 36/36 [00:07<00:00,  4.96it/s]\n",
      "[I 2024-06-30 15:57:26,463] Trial 45 finished with value: 0.7643497180719052 and parameters: {'lambda': 1.1084038690861778e-05, 'alpha': 0.10005995233402375, 'eta': 0.29467032675400745, 'gamma': 5.968015854646931e-08, 'max_depth': 7, 'min_child_weight': 4.947552698598806e-05, 'subsample': 0.6156037659715459, 'colsample_bytree': 0.6835167454485422, 'colsample_bylevel': 0.7112699560375103, 'colsample_bynode': 0.6250093155062026, 'scale_pos_weight': 3.975848841611079e-06}. Best is trial 15 with value: 0.7703046343031916.\n"
     ]
    },
    {
     "name": "stdout",
     "output_type": "stream",
     "text": [
      "Score: 0.7643497180719052\n",
      "Fold 1\n",
      "Memory usage of dataframe is 7.48 MB\n",
      "Memory usage after optimization is: 4.63 MB\n",
      "Decreased by 38.1%\n"
     ]
    },
    {
     "name": "stderr",
     "output_type": "stream",
     "text": [
      "100%|██████████| 36/36 [00:07<00:00,  5.01it/s]\n"
     ]
    },
    {
     "name": "stdout",
     "output_type": "stream",
     "text": [
      "Fold 2\n",
      "Memory usage of dataframe is 7.48 MB\n",
      "Memory usage after optimization is: 4.63 MB\n",
      "Decreased by 38.1%\n"
     ]
    },
    {
     "name": "stderr",
     "output_type": "stream",
     "text": [
      "100%|██████████| 36/36 [00:07<00:00,  5.06it/s]\n"
     ]
    },
    {
     "name": "stdout",
     "output_type": "stream",
     "text": [
      "Fold 3\n",
      "Memory usage of dataframe is 7.48 MB\n",
      "Memory usage after optimization is: 4.63 MB\n",
      "Decreased by 38.1%\n"
     ]
    },
    {
     "name": "stderr",
     "output_type": "stream",
     "text": [
      "100%|██████████| 36/36 [00:07<00:00,  5.05it/s]\n"
     ]
    },
    {
     "name": "stdout",
     "output_type": "stream",
     "text": [
      "Fold 4\n",
      "Memory usage of dataframe is 7.48 MB\n",
      "Memory usage after optimization is: 4.63 MB\n",
      "Decreased by 38.1%\n"
     ]
    },
    {
     "name": "stderr",
     "output_type": "stream",
     "text": [
      "100%|██████████| 36/36 [00:07<00:00,  4.97it/s]\n"
     ]
    },
    {
     "name": "stdout",
     "output_type": "stream",
     "text": [
      "Fold 5\n",
      "Memory usage of dataframe is 7.48 MB\n",
      "Memory usage after optimization is: 4.63 MB\n",
      "Decreased by 38.1%\n"
     ]
    },
    {
     "name": "stderr",
     "output_type": "stream",
     "text": [
      "100%|██████████| 36/36 [00:07<00:00,  5.02it/s]\n",
      "[I 2024-06-30 15:58:11,282] Trial 46 finished with value: 0.770045175989218 and parameters: {'lambda': 4.5533793941012623e-05, 'alpha': 0.0009933386101794233, 'eta': 0.10466848941073434, 'gamma': 3.070967579436591e-08, 'max_depth': 9, 'min_child_weight': 0.000107205662233196, 'subsample': 0.7336738891198562, 'colsample_bytree': 0.6550821608745122, 'colsample_bylevel': 0.8057457606928345, 'colsample_bynode': 0.6865804022263114, 'scale_pos_weight': 1.074383521581811e-06}. Best is trial 15 with value: 0.7703046343031916.\n"
     ]
    },
    {
     "name": "stdout",
     "output_type": "stream",
     "text": [
      "Score: 0.770045175989218\n",
      "Fold 1\n",
      "Memory usage of dataframe is 7.48 MB\n",
      "Memory usage after optimization is: 4.63 MB\n",
      "Decreased by 38.1%\n"
     ]
    },
    {
     "name": "stderr",
     "output_type": "stream",
     "text": [
      "100%|██████████| 36/36 [00:07<00:00,  4.97it/s]\n"
     ]
    },
    {
     "name": "stdout",
     "output_type": "stream",
     "text": [
      "Fold 2\n",
      "Memory usage of dataframe is 7.48 MB\n",
      "Memory usage after optimization is: 4.63 MB\n",
      "Decreased by 38.1%\n"
     ]
    },
    {
     "name": "stderr",
     "output_type": "stream",
     "text": [
      "100%|██████████| 36/36 [00:07<00:00,  5.04it/s]\n"
     ]
    },
    {
     "name": "stdout",
     "output_type": "stream",
     "text": [
      "Fold 3\n",
      "Memory usage of dataframe is 7.48 MB\n",
      "Memory usage after optimization is: 4.63 MB\n",
      "Decreased by 38.1%\n"
     ]
    },
    {
     "name": "stderr",
     "output_type": "stream",
     "text": [
      "100%|██████████| 36/36 [00:07<00:00,  4.98it/s]\n"
     ]
    },
    {
     "name": "stdout",
     "output_type": "stream",
     "text": [
      "Fold 4\n",
      "Memory usage of dataframe is 7.48 MB\n",
      "Memory usage after optimization is: 4.63 MB\n",
      "Decreased by 38.1%\n"
     ]
    },
    {
     "name": "stderr",
     "output_type": "stream",
     "text": [
      "100%|██████████| 36/36 [00:07<00:00,  4.98it/s]\n"
     ]
    },
    {
     "name": "stdout",
     "output_type": "stream",
     "text": [
      "Fold 5\n",
      "Memory usage of dataframe is 7.48 MB\n",
      "Memory usage after optimization is: 4.63 MB\n",
      "Decreased by 38.1%\n"
     ]
    },
    {
     "name": "stderr",
     "output_type": "stream",
     "text": [
      "100%|██████████| 36/36 [00:07<00:00,  5.01it/s]\n",
      "[I 2024-06-30 15:58:51,671] Trial 47 finished with value: 0.7701810730220483 and parameters: {'lambda': 3.6841524587792105e-05, 'alpha': 0.0022055727979280082, 'eta': 0.14414400766548535, 'gamma': 2.522364689460799e-08, 'max_depth': 6, 'min_child_weight': 1.7428168447485906e-05, 'subsample': 0.754801638009343, 'colsample_bytree': 0.646167016969534, 'colsample_bylevel': 0.8138784753058901, 'colsample_bynode': 0.6837440480008183, 'scale_pos_weight': 8.275998581536071e-07}. Best is trial 15 with value: 0.7703046343031916.\n"
     ]
    },
    {
     "name": "stdout",
     "output_type": "stream",
     "text": [
      "Score: 0.7701810730220483\n",
      "Fold 1\n",
      "Memory usage of dataframe is 7.48 MB\n",
      "Memory usage after optimization is: 4.63 MB\n",
      "Decreased by 38.1%\n"
     ]
    },
    {
     "name": "stderr",
     "output_type": "stream",
     "text": [
      "100%|██████████| 36/36 [00:07<00:00,  4.96it/s]\n"
     ]
    },
    {
     "name": "stdout",
     "output_type": "stream",
     "text": [
      "Fold 2\n",
      "Memory usage of dataframe is 7.48 MB\n",
      "Memory usage after optimization is: 4.63 MB\n",
      "Decreased by 38.1%\n"
     ]
    },
    {
     "name": "stderr",
     "output_type": "stream",
     "text": [
      "100%|██████████| 36/36 [00:07<00:00,  4.94it/s]\n"
     ]
    },
    {
     "name": "stdout",
     "output_type": "stream",
     "text": [
      "Fold 3\n",
      "Memory usage of dataframe is 7.48 MB\n",
      "Memory usage after optimization is: 4.63 MB\n",
      "Decreased by 38.1%\n"
     ]
    },
    {
     "name": "stderr",
     "output_type": "stream",
     "text": [
      "100%|██████████| 36/36 [00:07<00:00,  5.03it/s]\n"
     ]
    },
    {
     "name": "stdout",
     "output_type": "stream",
     "text": [
      "Fold 4\n",
      "Memory usage of dataframe is 7.48 MB\n",
      "Memory usage after optimization is: 4.63 MB\n",
      "Decreased by 38.1%\n"
     ]
    },
    {
     "name": "stderr",
     "output_type": "stream",
     "text": [
      "100%|██████████| 36/36 [00:07<00:00,  4.94it/s]\n"
     ]
    },
    {
     "name": "stdout",
     "output_type": "stream",
     "text": [
      "Fold 5\n",
      "Memory usage of dataframe is 7.48 MB\n",
      "Memory usage after optimization is: 4.63 MB\n",
      "Decreased by 38.1%\n"
     ]
    },
    {
     "name": "stderr",
     "output_type": "stream",
     "text": [
      "100%|██████████| 36/36 [00:07<00:00,  4.90it/s]\n",
      "[I 2024-06-30 15:59:33,239] Trial 48 finished with value: 0.7696992269916137 and parameters: {'lambda': 4.3852207885090545e-06, 'alpha': 0.0016294062417539664, 'eta': 0.11707788812122791, 'gamma': 1.831053864238965e-08, 'max_depth': 7, 'min_child_weight': 1.55808325742692e-05, 'subsample': 0.7587574680392992, 'colsample_bytree': 0.6528206161373808, 'colsample_bylevel': 0.8159478040174044, 'colsample_bynode': 0.6922444004157696, 'scale_pos_weight': 1.897868995943921e-06}. Best is trial 15 with value: 0.7703046343031916.\n"
     ]
    },
    {
     "name": "stdout",
     "output_type": "stream",
     "text": [
      "Score: 0.7696992269916137\n",
      "Fold 1\n",
      "Memory usage of dataframe is 7.48 MB\n",
      "Memory usage after optimization is: 4.63 MB\n",
      "Decreased by 38.1%\n"
     ]
    },
    {
     "name": "stderr",
     "output_type": "stream",
     "text": [
      "100%|██████████| 36/36 [00:07<00:00,  5.08it/s]\n"
     ]
    },
    {
     "name": "stdout",
     "output_type": "stream",
     "text": [
      "Fold 2\n",
      "Memory usage of dataframe is 7.48 MB\n",
      "Memory usage after optimization is: 4.63 MB\n",
      "Decreased by 38.1%\n"
     ]
    },
    {
     "name": "stderr",
     "output_type": "stream",
     "text": [
      "100%|██████████| 36/36 [00:07<00:00,  4.96it/s]\n"
     ]
    },
    {
     "name": "stdout",
     "output_type": "stream",
     "text": [
      "Fold 3\n",
      "Memory usage of dataframe is 7.48 MB\n",
      "Memory usage after optimization is: 4.63 MB\n",
      "Decreased by 38.1%\n"
     ]
    },
    {
     "name": "stderr",
     "output_type": "stream",
     "text": [
      "100%|██████████| 36/36 [00:07<00:00,  4.99it/s]\n"
     ]
    },
    {
     "name": "stdout",
     "output_type": "stream",
     "text": [
      "Fold 4\n",
      "Memory usage of dataframe is 7.48 MB\n",
      "Memory usage after optimization is: 4.63 MB\n",
      "Decreased by 38.1%\n"
     ]
    },
    {
     "name": "stderr",
     "output_type": "stream",
     "text": [
      "100%|██████████| 36/36 [00:07<00:00,  5.04it/s]\n"
     ]
    },
    {
     "name": "stdout",
     "output_type": "stream",
     "text": [
      "Fold 5\n",
      "Memory usage of dataframe is 7.48 MB\n",
      "Memory usage after optimization is: 4.63 MB\n",
      "Decreased by 38.1%\n"
     ]
    },
    {
     "name": "stderr",
     "output_type": "stream",
     "text": [
      "100%|██████████| 36/36 [00:07<00:00,  4.94it/s]\n",
      "[I 2024-06-30 16:00:13,498] Trial 49 finished with value: 0.769625122428367 and parameters: {'lambda': 4.191504177165247e-05, 'alpha': 0.0001628833165004099, 'eta': 0.10656349451320606, 'gamma': 1.0798240154470569e-08, 'max_depth': 6, 'min_child_weight': 1.6401661228372932e-06, 'subsample': 0.7398470442669196, 'colsample_bytree': 0.6405672693543023, 'colsample_bylevel': 0.8021237240327624, 'colsample_bynode': 0.6752046707767689, 'scale_pos_weight': 1.1596420077877441e-06}. Best is trial 15 with value: 0.7703046343031916.\n"
     ]
    },
    {
     "name": "stdout",
     "output_type": "stream",
     "text": [
      "Score: 0.769625122428367\n",
      "Fold 1\n",
      "Memory usage of dataframe is 7.48 MB\n",
      "Memory usage after optimization is: 4.63 MB\n",
      "Decreased by 38.1%\n"
     ]
    },
    {
     "name": "stderr",
     "output_type": "stream",
     "text": [
      "100%|██████████| 36/36 [00:07<00:00,  5.12it/s]\n"
     ]
    },
    {
     "name": "stdout",
     "output_type": "stream",
     "text": [
      "Fold 2\n",
      "Memory usage of dataframe is 7.48 MB\n",
      "Memory usage after optimization is: 4.63 MB\n",
      "Decreased by 38.1%\n"
     ]
    },
    {
     "name": "stderr",
     "output_type": "stream",
     "text": [
      "100%|██████████| 36/36 [00:07<00:00,  5.07it/s]\n"
     ]
    },
    {
     "name": "stdout",
     "output_type": "stream",
     "text": [
      "Fold 3\n",
      "Memory usage of dataframe is 7.48 MB\n",
      "Memory usage after optimization is: 4.63 MB\n",
      "Decreased by 38.1%\n"
     ]
    },
    {
     "name": "stderr",
     "output_type": "stream",
     "text": [
      "100%|██████████| 36/36 [00:07<00:00,  5.04it/s]\n"
     ]
    },
    {
     "name": "stdout",
     "output_type": "stream",
     "text": [
      "Fold 4\n",
      "Memory usage of dataframe is 7.48 MB\n",
      "Memory usage after optimization is: 4.63 MB\n",
      "Decreased by 38.1%\n"
     ]
    },
    {
     "name": "stderr",
     "output_type": "stream",
     "text": [
      "100%|██████████| 36/36 [00:07<00:00,  5.06it/s]\n"
     ]
    },
    {
     "name": "stdout",
     "output_type": "stream",
     "text": [
      "Fold 5\n",
      "Memory usage of dataframe is 7.48 MB\n",
      "Memory usage after optimization is: 4.63 MB\n",
      "Decreased by 38.1%\n"
     ]
    },
    {
     "name": "stderr",
     "output_type": "stream",
     "text": [
      "100%|██████████| 36/36 [00:07<00:00,  4.99it/s]\n",
      "[I 2024-06-30 16:00:54,233] Trial 50 finished with value: 0.7687479431828281 and parameters: {'lambda': 1.873741880219224e-06, 'alpha': 5.501612283346536e-05, 'eta': 0.15467131016544017, 'gamma': 4.9519170012087944e-08, 'max_depth': 7, 'min_child_weight': 3.9828591579631167e-07, 'subsample': 0.7953498482986324, 'colsample_bytree': 0.6751258918886718, 'colsample_bylevel': 0.8323242689180712, 'colsample_bynode': 0.6502810003705475, 'scale_pos_weight': 4.011142049310655e-06}. Best is trial 15 with value: 0.7703046343031916.\n"
     ]
    },
    {
     "name": "stdout",
     "output_type": "stream",
     "text": [
      "Score: 0.7687479431828281\n",
      "Fold 1\n",
      "Memory usage of dataframe is 7.48 MB\n",
      "Memory usage after optimization is: 4.63 MB\n",
      "Decreased by 38.1%\n"
     ]
    },
    {
     "name": "stderr",
     "output_type": "stream",
     "text": [
      "100%|██████████| 36/36 [00:07<00:00,  5.10it/s]\n"
     ]
    },
    {
     "name": "stdout",
     "output_type": "stream",
     "text": [
      "Fold 2\n",
      "Memory usage of dataframe is 7.48 MB\n",
      "Memory usage after optimization is: 4.63 MB\n",
      "Decreased by 38.1%\n"
     ]
    },
    {
     "name": "stderr",
     "output_type": "stream",
     "text": [
      "100%|██████████| 36/36 [00:07<00:00,  5.10it/s]\n"
     ]
    },
    {
     "name": "stdout",
     "output_type": "stream",
     "text": [
      "Fold 3\n",
      "Memory usage of dataframe is 7.48 MB\n",
      "Memory usage after optimization is: 4.63 MB\n",
      "Decreased by 38.1%\n"
     ]
    },
    {
     "name": "stderr",
     "output_type": "stream",
     "text": [
      "100%|██████████| 36/36 [00:07<00:00,  5.06it/s]\n"
     ]
    },
    {
     "name": "stdout",
     "output_type": "stream",
     "text": [
      "Fold 4\n",
      "Memory usage of dataframe is 7.48 MB\n",
      "Memory usage after optimization is: 4.63 MB\n",
      "Decreased by 38.1%\n"
     ]
    },
    {
     "name": "stderr",
     "output_type": "stream",
     "text": [
      "100%|██████████| 36/36 [00:07<00:00,  4.96it/s]\n"
     ]
    },
    {
     "name": "stdout",
     "output_type": "stream",
     "text": [
      "Fold 5\n",
      "Memory usage of dataframe is 7.48 MB\n",
      "Memory usage after optimization is: 4.63 MB\n",
      "Decreased by 38.1%\n"
     ]
    },
    {
     "name": "stderr",
     "output_type": "stream",
     "text": [
      "100%|██████████| 36/36 [00:07<00:00,  5.04it/s]\n",
      "[I 2024-06-30 16:01:33,691] Trial 51 finished with value: 0.7691679639277101 and parameters: {'lambda': 1.6405760235123965e-05, 'alpha': 0.002073150506815721, 'eta': 0.20428343071235422, 'gamma': 1.3557727540172884e-07, 'max_depth': 5, 'min_child_weight': 2.6208641979126e-05, 'subsample': 0.6707800634014978, 'colsample_bytree': 0.7089474388505627, 'colsample_bylevel': 0.743830342143395, 'colsample_bynode': 0.7104440133992744, 'scale_pos_weight': 4.845340786178891e-07}. Best is trial 15 with value: 0.7703046343031916.\n"
     ]
    },
    {
     "name": "stdout",
     "output_type": "stream",
     "text": [
      "Score: 0.7691679639277101\n",
      "Fold 1\n",
      "Memory usage of dataframe is 7.48 MB\n",
      "Memory usage after optimization is: 4.63 MB\n",
      "Decreased by 38.1%\n"
     ]
    },
    {
     "name": "stderr",
     "output_type": "stream",
     "text": [
      "100%|██████████| 36/36 [00:07<00:00,  5.08it/s]\n"
     ]
    },
    {
     "name": "stdout",
     "output_type": "stream",
     "text": [
      "Fold 2\n",
      "Memory usage of dataframe is 7.48 MB\n",
      "Memory usage after optimization is: 4.63 MB\n",
      "Decreased by 38.1%\n"
     ]
    },
    {
     "name": "stderr",
     "output_type": "stream",
     "text": [
      "100%|██████████| 36/36 [00:07<00:00,  5.07it/s]\n"
     ]
    },
    {
     "name": "stdout",
     "output_type": "stream",
     "text": [
      "Fold 3\n",
      "Memory usage of dataframe is 7.48 MB\n",
      "Memory usage after optimization is: 4.63 MB\n",
      "Decreased by 38.1%\n"
     ]
    },
    {
     "name": "stderr",
     "output_type": "stream",
     "text": [
      "100%|██████████| 36/36 [00:07<00:00,  5.07it/s]\n"
     ]
    },
    {
     "name": "stdout",
     "output_type": "stream",
     "text": [
      "Fold 4\n",
      "Memory usage of dataframe is 7.48 MB\n",
      "Memory usage after optimization is: 4.63 MB\n",
      "Decreased by 38.1%\n"
     ]
    },
    {
     "name": "stderr",
     "output_type": "stream",
     "text": [
      "100%|██████████| 36/36 [00:07<00:00,  5.08it/s]\n"
     ]
    },
    {
     "name": "stdout",
     "output_type": "stream",
     "text": [
      "Fold 5\n",
      "Memory usage of dataframe is 7.48 MB\n",
      "Memory usage after optimization is: 4.63 MB\n",
      "Decreased by 38.1%\n"
     ]
    },
    {
     "name": "stderr",
     "output_type": "stream",
     "text": [
      "100%|██████████| 36/36 [00:07<00:00,  4.98it/s]\n",
      "[I 2024-06-30 16:02:13,640] Trial 52 finished with value: 0.7699092705616046 and parameters: {'lambda': 3.834611617355963e-05, 'alpha': 0.005283507991679812, 'eta': 0.14776225364462742, 'gamma': 4.260995494527517e-08, 'max_depth': 6, 'min_child_weight': 0.00014002225367774914, 'subsample': 0.6450769758430559, 'colsample_bytree': 0.6803090169569985, 'colsample_bylevel': 0.8670433383905131, 'colsample_bynode': 0.5931140943162226, 'scale_pos_weight': 6.904848687941568e-07}. Best is trial 15 with value: 0.7703046343031916.\n"
     ]
    },
    {
     "name": "stdout",
     "output_type": "stream",
     "text": [
      "Score: 0.7699092705616046\n",
      "Fold 1\n",
      "Memory usage of dataframe is 7.48 MB\n",
      "Memory usage after optimization is: 4.63 MB\n",
      "Decreased by 38.1%\n"
     ]
    },
    {
     "name": "stderr",
     "output_type": "stream",
     "text": [
      "100%|██████████| 36/36 [00:07<00:00,  5.08it/s]\n"
     ]
    },
    {
     "name": "stdout",
     "output_type": "stream",
     "text": [
      "Fold 2\n",
      "Memory usage of dataframe is 7.48 MB\n",
      "Memory usage after optimization is: 4.63 MB\n",
      "Decreased by 38.1%\n"
     ]
    },
    {
     "name": "stderr",
     "output_type": "stream",
     "text": [
      "100%|██████████| 36/36 [00:07<00:00,  4.95it/s]\n"
     ]
    },
    {
     "name": "stdout",
     "output_type": "stream",
     "text": [
      "Fold 3\n",
      "Memory usage of dataframe is 7.48 MB\n",
      "Memory usage after optimization is: 4.63 MB\n",
      "Decreased by 38.1%\n"
     ]
    },
    {
     "name": "stderr",
     "output_type": "stream",
     "text": [
      "100%|██████████| 36/36 [00:07<00:00,  5.01it/s]\n"
     ]
    },
    {
     "name": "stdout",
     "output_type": "stream",
     "text": [
      "Fold 4\n",
      "Memory usage of dataframe is 7.48 MB\n",
      "Memory usage after optimization is: 4.63 MB\n",
      "Decreased by 38.1%\n"
     ]
    },
    {
     "name": "stderr",
     "output_type": "stream",
     "text": [
      "100%|██████████| 36/36 [00:07<00:00,  5.07it/s]\n"
     ]
    },
    {
     "name": "stdout",
     "output_type": "stream",
     "text": [
      "Fold 5\n",
      "Memory usage of dataframe is 7.48 MB\n",
      "Memory usage after optimization is: 4.63 MB\n",
      "Decreased by 38.1%\n"
     ]
    },
    {
     "name": "stderr",
     "output_type": "stream",
     "text": [
      "100%|██████████| 36/36 [00:07<00:00,  5.09it/s]\n",
      "[I 2024-06-30 16:02:52,482] Trial 53 finished with value: 0.7663388648999068 and parameters: {'lambda': 1.392798163133073e-05, 'alpha': 0.0008403150195404349, 'eta': 0.07500793021217013, 'gamma': 1.1539810346417363e-07, 'max_depth': 4, 'min_child_weight': 0.000881004138974063, 'subsample': 0.7176368522848386, 'colsample_bytree': 0.744091660482817, 'colsample_bylevel': 0.7257633579383238, 'colsample_bynode': 0.6198467004324679, 'scale_pos_weight': 2.6726467163814237e-07}. Best is trial 15 with value: 0.7703046343031916.\n"
     ]
    },
    {
     "name": "stdout",
     "output_type": "stream",
     "text": [
      "Score: 0.7663388648999068\n",
      "Fold 1\n",
      "Memory usage of dataframe is 7.48 MB\n",
      "Memory usage after optimization is: 4.63 MB\n",
      "Decreased by 38.1%\n"
     ]
    },
    {
     "name": "stderr",
     "output_type": "stream",
     "text": [
      "100%|██████████| 36/36 [00:07<00:00,  5.08it/s]\n"
     ]
    },
    {
     "name": "stdout",
     "output_type": "stream",
     "text": [
      "Fold 2\n",
      "Memory usage of dataframe is 7.48 MB\n",
      "Memory usage after optimization is: 4.63 MB\n",
      "Decreased by 38.1%\n"
     ]
    },
    {
     "name": "stderr",
     "output_type": "stream",
     "text": [
      "100%|██████████| 36/36 [00:07<00:00,  5.08it/s]\n"
     ]
    },
    {
     "name": "stdout",
     "output_type": "stream",
     "text": [
      "Fold 3\n",
      "Memory usage of dataframe is 7.48 MB\n",
      "Memory usage after optimization is: 4.63 MB\n",
      "Decreased by 38.1%\n"
     ]
    },
    {
     "name": "stderr",
     "output_type": "stream",
     "text": [
      "100%|██████████| 36/36 [00:07<00:00,  5.07it/s]\n"
     ]
    },
    {
     "name": "stdout",
     "output_type": "stream",
     "text": [
      "Fold 4\n",
      "Memory usage of dataframe is 7.48 MB\n",
      "Memory usage after optimization is: 4.63 MB\n",
      "Decreased by 38.1%\n"
     ]
    },
    {
     "name": "stderr",
     "output_type": "stream",
     "text": [
      "100%|██████████| 36/36 [00:07<00:00,  4.92it/s]\n"
     ]
    },
    {
     "name": "stdout",
     "output_type": "stream",
     "text": [
      "Fold 5\n",
      "Memory usage of dataframe is 7.48 MB\n",
      "Memory usage after optimization is: 4.63 MB\n",
      "Decreased by 38.1%\n"
     ]
    },
    {
     "name": "stderr",
     "output_type": "stream",
     "text": [
      "100%|██████████| 36/36 [00:07<00:00,  5.03it/s]\n",
      "[I 2024-06-30 16:03:34,332] Trial 54 finished with value: 0.7703664038779133 and parameters: {'lambda': 0.00011539977130303478, 'alpha': 0.02010017112039446, 'eta': 0.10089767508036125, 'gamma': 2.5258336328935076e-08, 'max_depth': 8, 'min_child_weight': 0.00028852907033111755, 'subsample': 0.6871608368085693, 'colsample_bytree': 0.66365018486344, 'colsample_bylevel': 0.7924797376741698, 'colsample_bynode': 0.6732867801328833, 'scale_pos_weight': 1.2037149884331433e-07}. Best is trial 54 with value: 0.7703664038779133.\n"
     ]
    },
    {
     "name": "stdout",
     "output_type": "stream",
     "text": [
      "Score: 0.7703664038779133\n",
      "Fold 1\n",
      "Memory usage of dataframe is 7.48 MB\n",
      "Memory usage after optimization is: 4.63 MB\n",
      "Decreased by 38.1%\n"
     ]
    },
    {
     "name": "stderr",
     "output_type": "stream",
     "text": [
      "100%|██████████| 36/36 [00:07<00:00,  5.05it/s]\n"
     ]
    },
    {
     "name": "stdout",
     "output_type": "stream",
     "text": [
      "Fold 2\n",
      "Memory usage of dataframe is 7.48 MB\n",
      "Memory usage after optimization is: 4.63 MB\n",
      "Decreased by 38.1%\n"
     ]
    },
    {
     "name": "stderr",
     "output_type": "stream",
     "text": [
      "100%|██████████| 36/36 [00:07<00:00,  5.08it/s]\n"
     ]
    },
    {
     "name": "stdout",
     "output_type": "stream",
     "text": [
      "Fold 3\n",
      "Memory usage of dataframe is 7.48 MB\n",
      "Memory usage after optimization is: 4.63 MB\n",
      "Decreased by 38.1%\n"
     ]
    },
    {
     "name": "stderr",
     "output_type": "stream",
     "text": [
      "100%|██████████| 36/36 [00:07<00:00,  5.05it/s]\n"
     ]
    },
    {
     "name": "stdout",
     "output_type": "stream",
     "text": [
      "Fold 4\n",
      "Memory usage of dataframe is 7.48 MB\n",
      "Memory usage after optimization is: 4.63 MB\n",
      "Decreased by 38.1%\n"
     ]
    },
    {
     "name": "stderr",
     "output_type": "stream",
     "text": [
      "100%|██████████| 36/36 [00:07<00:00,  5.07it/s]\n"
     ]
    },
    {
     "name": "stdout",
     "output_type": "stream",
     "text": [
      "Fold 5\n",
      "Memory usage of dataframe is 7.48 MB\n",
      "Memory usage after optimization is: 4.63 MB\n",
      "Decreased by 38.1%\n"
     ]
    },
    {
     "name": "stderr",
     "output_type": "stream",
     "text": [
      "100%|██████████| 36/36 [00:07<00:00,  5.06it/s]\n",
      "[I 2024-06-30 16:04:16,432] Trial 55 finished with value: 0.7695262952298876 and parameters: {'lambda': 8.314021866100259e-05, 'alpha': 0.002749676839342442, 'eta': 0.103906989814243, 'gamma': 2.2619515250775603e-08, 'max_depth': 8, 'min_child_weight': 5.952947480157379e-06, 'subsample': 0.6813394613474081, 'colsample_bytree': 0.6565656105855038, 'colsample_bylevel': 0.7992470985619053, 'colsample_bynode': 0.6763688116307826, 'scale_pos_weight': 4.9994328566727566e-08}. Best is trial 54 with value: 0.7703664038779133.\n"
     ]
    },
    {
     "name": "stdout",
     "output_type": "stream",
     "text": [
      "Score: 0.7695262952298876\n",
      "Fold 1\n",
      "Memory usage of dataframe is 7.48 MB\n",
      "Memory usage after optimization is: 4.63 MB\n",
      "Decreased by 38.1%\n"
     ]
    },
    {
     "name": "stderr",
     "output_type": "stream",
     "text": [
      "100%|██████████| 36/36 [00:07<00:00,  5.04it/s]\n"
     ]
    },
    {
     "name": "stdout",
     "output_type": "stream",
     "text": [
      "Fold 2\n",
      "Memory usage of dataframe is 7.48 MB\n",
      "Memory usage after optimization is: 4.63 MB\n",
      "Decreased by 38.1%\n"
     ]
    },
    {
     "name": "stderr",
     "output_type": "stream",
     "text": [
      "100%|██████████| 36/36 [00:07<00:00,  5.12it/s]\n"
     ]
    },
    {
     "name": "stdout",
     "output_type": "stream",
     "text": [
      "Fold 3\n",
      "Memory usage of dataframe is 7.48 MB\n",
      "Memory usage after optimization is: 4.63 MB\n",
      "Decreased by 38.1%\n"
     ]
    },
    {
     "name": "stderr",
     "output_type": "stream",
     "text": [
      "100%|██████████| 36/36 [00:07<00:00,  5.05it/s]\n"
     ]
    },
    {
     "name": "stdout",
     "output_type": "stream",
     "text": [
      "Fold 4\n",
      "Memory usage of dataframe is 7.48 MB\n",
      "Memory usage after optimization is: 4.63 MB\n",
      "Decreased by 38.1%\n"
     ]
    },
    {
     "name": "stderr",
     "output_type": "stream",
     "text": [
      "100%|██████████| 36/36 [00:07<00:00,  5.01it/s]\n"
     ]
    },
    {
     "name": "stdout",
     "output_type": "stream",
     "text": [
      "Fold 5\n",
      "Memory usage of dataframe is 7.48 MB\n",
      "Memory usage after optimization is: 4.63 MB\n",
      "Decreased by 38.1%\n"
     ]
    },
    {
     "name": "stderr",
     "output_type": "stream",
     "text": [
      "100%|██████████| 36/36 [00:07<00:00,  5.02it/s]\n",
      "[I 2024-06-30 16:04:58,469] Trial 56 finished with value: 0.7703046205662745 and parameters: {'lambda': 0.00019061966619908608, 'alpha': 0.01728671059614839, 'eta': 0.07899651796975007, 'gamma': 1.0726584522401431e-08, 'max_depth': 8, 'min_child_weight': 6.730907138587036e-05, 'subsample': 0.6954372095851232, 'colsample_bytree': 0.6396641536331512, 'colsample_bylevel': 0.7867719338448883, 'colsample_bynode': 0.6532065984339857, 'scale_pos_weight': 2.0797562557083075e-08}. Best is trial 54 with value: 0.7703664038779133.\n"
     ]
    },
    {
     "name": "stdout",
     "output_type": "stream",
     "text": [
      "Score: 0.7703046205662745\n",
      "Fold 1\n",
      "Memory usage of dataframe is 7.48 MB\n",
      "Memory usage after optimization is: 4.63 MB\n",
      "Decreased by 38.1%\n"
     ]
    },
    {
     "name": "stderr",
     "output_type": "stream",
     "text": [
      "100%|██████████| 36/36 [00:07<00:00,  5.06it/s]\n"
     ]
    },
    {
     "name": "stdout",
     "output_type": "stream",
     "text": [
      "Fold 2\n",
      "Memory usage of dataframe is 7.48 MB\n",
      "Memory usage after optimization is: 4.63 MB\n",
      "Decreased by 38.1%\n"
     ]
    },
    {
     "name": "stderr",
     "output_type": "stream",
     "text": [
      "100%|██████████| 36/36 [00:07<00:00,  5.06it/s]\n"
     ]
    },
    {
     "name": "stdout",
     "output_type": "stream",
     "text": [
      "Fold 3\n",
      "Memory usage of dataframe is 7.48 MB\n",
      "Memory usage after optimization is: 4.63 MB\n",
      "Decreased by 38.1%\n"
     ]
    },
    {
     "name": "stderr",
     "output_type": "stream",
     "text": [
      "100%|██████████| 36/36 [00:07<00:00,  5.04it/s]\n"
     ]
    },
    {
     "name": "stdout",
     "output_type": "stream",
     "text": [
      "Fold 4\n",
      "Memory usage of dataframe is 7.48 MB\n",
      "Memory usage after optimization is: 4.63 MB\n",
      "Decreased by 38.1%\n"
     ]
    },
    {
     "name": "stderr",
     "output_type": "stream",
     "text": [
      "100%|██████████| 36/36 [00:07<00:00,  5.04it/s]\n"
     ]
    },
    {
     "name": "stdout",
     "output_type": "stream",
     "text": [
      "Fold 5\n",
      "Memory usage of dataframe is 7.48 MB\n",
      "Memory usage after optimization is: 4.63 MB\n",
      "Decreased by 38.1%\n"
     ]
    },
    {
     "name": "stderr",
     "output_type": "stream",
     "text": [
      "100%|██████████| 36/36 [00:07<00:00,  4.87it/s]\n",
      "[I 2024-06-30 16:05:42,523] Trial 57 finished with value: 0.770131652935931 and parameters: {'lambda': 0.00035235225832084107, 'alpha': 0.017988575222429998, 'eta': 0.07580522777138948, 'gamma': 2.0180351430577806e-08, 'max_depth': 9, 'min_child_weight': 2.0734770395174204e-05, 'subsample': 0.7267290822717135, 'colsample_bytree': 0.625687627224525, 'colsample_bylevel': 0.7895969070453374, 'colsample_bynode': 0.7026145892354903, 'scale_pos_weight': 8.197293892880432e-08}. Best is trial 54 with value: 0.7703664038779133.\n"
     ]
    },
    {
     "name": "stdout",
     "output_type": "stream",
     "text": [
      "Score: 0.770131652935931\n",
      "Fold 1\n",
      "Memory usage of dataframe is 7.48 MB\n",
      "Memory usage after optimization is: 4.63 MB\n",
      "Decreased by 38.1%\n"
     ]
    },
    {
     "name": "stderr",
     "output_type": "stream",
     "text": [
      "100%|██████████| 36/36 [00:07<00:00,  5.08it/s]\n"
     ]
    },
    {
     "name": "stdout",
     "output_type": "stream",
     "text": [
      "Fold 2\n",
      "Memory usage of dataframe is 7.48 MB\n",
      "Memory usage after optimization is: 4.63 MB\n",
      "Decreased by 38.1%\n"
     ]
    },
    {
     "name": "stderr",
     "output_type": "stream",
     "text": [
      "100%|██████████| 36/36 [00:07<00:00,  5.09it/s]\n"
     ]
    },
    {
     "name": "stdout",
     "output_type": "stream",
     "text": [
      "Fold 3\n",
      "Memory usage of dataframe is 7.48 MB\n",
      "Memory usage after optimization is: 4.63 MB\n",
      "Decreased by 38.1%\n"
     ]
    },
    {
     "name": "stderr",
     "output_type": "stream",
     "text": [
      "100%|██████████| 36/36 [00:07<00:00,  5.06it/s]\n"
     ]
    },
    {
     "name": "stdout",
     "output_type": "stream",
     "text": [
      "Fold 4\n",
      "Memory usage of dataframe is 7.48 MB\n",
      "Memory usage after optimization is: 4.63 MB\n",
      "Decreased by 38.1%\n"
     ]
    },
    {
     "name": "stderr",
     "output_type": "stream",
     "text": [
      "100%|██████████| 36/36 [00:07<00:00,  5.08it/s]\n"
     ]
    },
    {
     "name": "stdout",
     "output_type": "stream",
     "text": [
      "Fold 5\n",
      "Memory usage of dataframe is 7.48 MB\n",
      "Memory usage after optimization is: 4.63 MB\n",
      "Decreased by 38.1%\n"
     ]
    },
    {
     "name": "stderr",
     "output_type": "stream",
     "text": [
      "100%|██████████| 36/36 [00:07<00:00,  5.08it/s]\n",
      "[I 2024-06-30 16:06:24,205] Trial 58 finished with value: 0.7694027583699303 and parameters: {'lambda': 0.00015625286721983556, 'alpha': 0.019742316435784068, 'eta': 0.07337266348494939, 'gamma': 1.1652107261140582e-08, 'max_depth': 8, 'min_child_weight': 1.4805811051739949e-05, 'subsample': 0.7051719792269286, 'colsample_bytree': 0.6263915806483816, 'colsample_bylevel': 0.775431206167703, 'colsample_bynode': 0.7324743923994801, 'scale_pos_weight': 1.6943652598649675e-08}. Best is trial 54 with value: 0.7703664038779133.\n"
     ]
    },
    {
     "name": "stdout",
     "output_type": "stream",
     "text": [
      "Score: 0.7694027583699303\n",
      "Fold 1\n",
      "Memory usage of dataframe is 7.48 MB\n",
      "Memory usage after optimization is: 4.63 MB\n",
      "Decreased by 38.1%\n"
     ]
    },
    {
     "name": "stderr",
     "output_type": "stream",
     "text": [
      "100%|██████████| 36/36 [00:07<00:00,  5.13it/s]\n"
     ]
    },
    {
     "name": "stdout",
     "output_type": "stream",
     "text": [
      "Fold 2\n",
      "Memory usage of dataframe is 7.48 MB\n",
      "Memory usage after optimization is: 4.63 MB\n",
      "Decreased by 38.1%\n"
     ]
    },
    {
     "name": "stderr",
     "output_type": "stream",
     "text": [
      "100%|██████████| 36/36 [00:07<00:00,  5.05it/s]\n"
     ]
    },
    {
     "name": "stdout",
     "output_type": "stream",
     "text": [
      "Fold 3\n",
      "Memory usage of dataframe is 7.48 MB\n",
      "Memory usage after optimization is: 4.63 MB\n",
      "Decreased by 38.1%\n"
     ]
    },
    {
     "name": "stderr",
     "output_type": "stream",
     "text": [
      "100%|██████████| 36/36 [00:07<00:00,  5.04it/s]\n"
     ]
    },
    {
     "name": "stdout",
     "output_type": "stream",
     "text": [
      "Fold 4\n",
      "Memory usage of dataframe is 7.48 MB\n",
      "Memory usage after optimization is: 4.63 MB\n",
      "Decreased by 38.1%\n"
     ]
    },
    {
     "name": "stderr",
     "output_type": "stream",
     "text": [
      "100%|██████████| 36/36 [00:07<00:00,  5.02it/s]\n"
     ]
    },
    {
     "name": "stdout",
     "output_type": "stream",
     "text": [
      "Fold 5\n",
      "Memory usage of dataframe is 7.48 MB\n",
      "Memory usage after optimization is: 4.63 MB\n",
      "Decreased by 38.1%\n"
     ]
    },
    {
     "name": "stderr",
     "output_type": "stream",
     "text": [
      "100%|██████████| 36/36 [00:07<00:00,  5.04it/s]\n",
      "[I 2024-06-30 16:07:07,976] Trial 59 finished with value: 0.7689209306553855 and parameters: {'lambda': 0.00020066705349262528, 'alpha': 0.012920579668333418, 'eta': 0.04677932830908375, 'gamma': 6.281070841228525e-08, 'max_depth': 9, 'min_child_weight': 0.00029846453135703137, 'subsample': 0.6931611974140509, 'colsample_bytree': 0.5866492634990388, 'colsample_bylevel': 0.7871779501704734, 'colsample_bynode': 0.7071177386217737, 'scale_pos_weight': 2.4558514015470563e-08}. Best is trial 54 with value: 0.7703664038779133.\n"
     ]
    },
    {
     "name": "stdout",
     "output_type": "stream",
     "text": [
      "Score: 0.7689209306553855\n",
      "Fold 1\n",
      "Memory usage of dataframe is 7.48 MB\n",
      "Memory usage after optimization is: 4.63 MB\n",
      "Decreased by 38.1%\n"
     ]
    },
    {
     "name": "stderr",
     "output_type": "stream",
     "text": [
      "100%|██████████| 36/36 [00:07<00:00,  5.03it/s]\n"
     ]
    },
    {
     "name": "stdout",
     "output_type": "stream",
     "text": [
      "Fold 2\n",
      "Memory usage of dataframe is 7.48 MB\n",
      "Memory usage after optimization is: 4.63 MB\n",
      "Decreased by 38.1%\n"
     ]
    },
    {
     "name": "stderr",
     "output_type": "stream",
     "text": [
      "100%|██████████| 36/36 [00:07<00:00,  4.99it/s]\n"
     ]
    },
    {
     "name": "stdout",
     "output_type": "stream",
     "text": [
      "Fold 3\n",
      "Memory usage of dataframe is 7.48 MB\n",
      "Memory usage after optimization is: 4.63 MB\n",
      "Decreased by 38.1%\n"
     ]
    },
    {
     "name": "stderr",
     "output_type": "stream",
     "text": [
      "100%|██████████| 36/36 [00:07<00:00,  5.03it/s]\n"
     ]
    },
    {
     "name": "stdout",
     "output_type": "stream",
     "text": [
      "Fold 4\n",
      "Memory usage of dataframe is 7.48 MB\n",
      "Memory usage after optimization is: 4.63 MB\n",
      "Decreased by 38.1%\n"
     ]
    },
    {
     "name": "stderr",
     "output_type": "stream",
     "text": [
      "100%|██████████| 36/36 [00:07<00:00,  5.00it/s]\n"
     ]
    },
    {
     "name": "stdout",
     "output_type": "stream",
     "text": [
      "Fold 5\n",
      "Memory usage of dataframe is 7.48 MB\n",
      "Memory usage after optimization is: 4.63 MB\n",
      "Decreased by 38.1%\n"
     ]
    },
    {
     "name": "stderr",
     "output_type": "stream",
     "text": [
      "100%|██████████| 36/36 [00:07<00:00,  5.04it/s]\n",
      "[I 2024-06-30 16:07:48,854] Trial 60 finished with value: 0.7683155615019108 and parameters: {'lambda': 0.00035452647224066836, 'alpha': 0.019434028863004823, 'eta': 0.07252856042068281, 'gamma': 1.9433444241988133e-08, 'max_depth': 7, 'min_child_weight': 5.3757680172219654e-05, 'subsample': 0.7599453965903509, 'colsample_bytree': 0.6097107199079079, 'colsample_bylevel': 0.8191292590478786, 'colsample_bynode': 0.6507134294403797, 'scale_pos_weight': 7.325341112015423e-08}. Best is trial 54 with value: 0.7703664038779133.\n"
     ]
    },
    {
     "name": "stdout",
     "output_type": "stream",
     "text": [
      "Score: 0.7683155615019108\n",
      "Fold 1\n",
      "Memory usage of dataframe is 7.48 MB\n",
      "Memory usage after optimization is: 4.63 MB\n",
      "Decreased by 38.1%\n"
     ]
    },
    {
     "name": "stderr",
     "output_type": "stream",
     "text": [
      "100%|██████████| 36/36 [00:07<00:00,  5.02it/s]\n"
     ]
    },
    {
     "name": "stdout",
     "output_type": "stream",
     "text": [
      "Fold 2\n",
      "Memory usage of dataframe is 7.48 MB\n",
      "Memory usage after optimization is: 4.63 MB\n",
      "Decreased by 38.1%\n"
     ]
    },
    {
     "name": "stderr",
     "output_type": "stream",
     "text": [
      "100%|██████████| 36/36 [00:07<00:00,  5.04it/s]\n"
     ]
    },
    {
     "name": "stdout",
     "output_type": "stream",
     "text": [
      "Fold 3\n",
      "Memory usage of dataframe is 7.48 MB\n",
      "Memory usage after optimization is: 4.63 MB\n",
      "Decreased by 38.1%\n"
     ]
    },
    {
     "name": "stderr",
     "output_type": "stream",
     "text": [
      "100%|██████████| 36/36 [00:07<00:00,  5.03it/s]\n"
     ]
    },
    {
     "name": "stdout",
     "output_type": "stream",
     "text": [
      "Fold 4\n",
      "Memory usage of dataframe is 7.48 MB\n",
      "Memory usage after optimization is: 4.63 MB\n",
      "Decreased by 38.1%\n"
     ]
    },
    {
     "name": "stderr",
     "output_type": "stream",
     "text": [
      "100%|██████████| 36/36 [00:07<00:00,  5.06it/s]\n"
     ]
    },
    {
     "name": "stdout",
     "output_type": "stream",
     "text": [
      "Fold 5\n",
      "Memory usage of dataframe is 7.48 MB\n",
      "Memory usage after optimization is: 4.63 MB\n",
      "Decreased by 38.1%\n"
     ]
    },
    {
     "name": "stderr",
     "output_type": "stream",
     "text": [
      "100%|██████████| 36/36 [00:07<00:00,  5.06it/s]\n",
      "[I 2024-06-30 16:08:33,202] Trial 61 finished with value: 0.7685626535377148 and parameters: {'lambda': 8.249495171844215e-05, 'alpha': 0.0010538879336679855, 'eta': 0.12651840537513945, 'gamma': 3.276411620934821e-08, 'max_depth': 9, 'min_child_weight': 3.914721167111367e-05, 'subsample': 0.7220759304307587, 'colsample_bytree': 0.6691858384770156, 'colsample_bylevel': 0.8020598703167997, 'colsample_bynode': 0.6801845836740594, 'scale_pos_weight': 1.1873787891522062e-07}. Best is trial 54 with value: 0.7703664038779133.\n"
     ]
    },
    {
     "name": "stdout",
     "output_type": "stream",
     "text": [
      "Score: 0.7685626535377148\n",
      "Fold 1\n",
      "Memory usage of dataframe is 7.48 MB\n",
      "Memory usage after optimization is: 4.63 MB\n",
      "Decreased by 38.1%\n"
     ]
    },
    {
     "name": "stderr",
     "output_type": "stream",
     "text": [
      "100%|██████████| 36/36 [00:07<00:00,  5.06it/s]\n"
     ]
    },
    {
     "name": "stdout",
     "output_type": "stream",
     "text": [
      "Fold 2\n",
      "Memory usage of dataframe is 7.48 MB\n",
      "Memory usage after optimization is: 4.63 MB\n",
      "Decreased by 38.1%\n"
     ]
    },
    {
     "name": "stderr",
     "output_type": "stream",
     "text": [
      "100%|██████████| 36/36 [00:07<00:00,  5.06it/s]\n"
     ]
    },
    {
     "name": "stdout",
     "output_type": "stream",
     "text": [
      "Fold 3\n",
      "Memory usage of dataframe is 7.48 MB\n",
      "Memory usage after optimization is: 4.63 MB\n",
      "Decreased by 38.1%\n"
     ]
    },
    {
     "name": "stderr",
     "output_type": "stream",
     "text": [
      "100%|██████████| 36/36 [00:07<00:00,  5.04it/s]\n"
     ]
    },
    {
     "name": "stdout",
     "output_type": "stream",
     "text": [
      "Fold 4\n",
      "Memory usage of dataframe is 7.48 MB\n",
      "Memory usage after optimization is: 4.63 MB\n",
      "Decreased by 38.1%\n"
     ]
    },
    {
     "name": "stderr",
     "output_type": "stream",
     "text": [
      "100%|██████████| 36/36 [00:07<00:00,  5.05it/s]\n"
     ]
    },
    {
     "name": "stdout",
     "output_type": "stream",
     "text": [
      "Fold 5\n",
      "Memory usage of dataframe is 7.48 MB\n",
      "Memory usage after optimization is: 4.63 MB\n",
      "Decreased by 38.1%\n"
     ]
    },
    {
     "name": "stderr",
     "output_type": "stream",
     "text": [
      "100%|██████████| 36/36 [00:07<00:00,  5.03it/s]\n",
      "[I 2024-06-30 16:09:17,481] Trial 62 finished with value: 0.7700575331094429 and parameters: {'lambda': 0.00025632501434845657, 'alpha': 0.0037518495879698874, 'eta': 0.10127471751934014, 'gamma': 1.0746681603318478e-08, 'max_depth': 9, 'min_child_weight': 9.537255689621523e-06, 'subsample': 0.7272460702716348, 'colsample_bytree': 0.6312186389788332, 'colsample_bylevel': 0.8458287426926155, 'colsample_bynode': 0.7538092186070326, 'scale_pos_weight': 3.738910864453734e-08}. Best is trial 54 with value: 0.7703664038779133.\n"
     ]
    },
    {
     "name": "stdout",
     "output_type": "stream",
     "text": [
      "Score: 0.7700575331094429\n",
      "Fold 1\n",
      "Memory usage of dataframe is 7.48 MB\n",
      "Memory usage after optimization is: 4.63 MB\n",
      "Decreased by 38.1%\n"
     ]
    },
    {
     "name": "stderr",
     "output_type": "stream",
     "text": [
      "100%|██████████| 36/36 [00:07<00:00,  4.93it/s]\n"
     ]
    },
    {
     "name": "stdout",
     "output_type": "stream",
     "text": [
      "Fold 2\n",
      "Memory usage of dataframe is 7.48 MB\n",
      "Memory usage after optimization is: 4.63 MB\n",
      "Decreased by 38.1%\n"
     ]
    },
    {
     "name": "stderr",
     "output_type": "stream",
     "text": [
      "100%|██████████| 36/36 [00:07<00:00,  5.00it/s]\n"
     ]
    },
    {
     "name": "stdout",
     "output_type": "stream",
     "text": [
      "Fold 3\n",
      "Memory usage of dataframe is 7.48 MB\n",
      "Memory usage after optimization is: 4.63 MB\n",
      "Decreased by 38.1%\n"
     ]
    },
    {
     "name": "stderr",
     "output_type": "stream",
     "text": [
      "100%|██████████| 36/36 [00:07<00:00,  5.04it/s]\n"
     ]
    },
    {
     "name": "stdout",
     "output_type": "stream",
     "text": [
      "Fold 4\n",
      "Memory usage of dataframe is 7.48 MB\n",
      "Memory usage after optimization is: 4.63 MB\n",
      "Decreased by 38.1%\n"
     ]
    },
    {
     "name": "stderr",
     "output_type": "stream",
     "text": [
      "100%|██████████| 36/36 [00:07<00:00,  4.96it/s]\n"
     ]
    },
    {
     "name": "stdout",
     "output_type": "stream",
     "text": [
      "Fold 5\n",
      "Memory usage of dataframe is 7.48 MB\n",
      "Memory usage after optimization is: 4.63 MB\n",
      "Decreased by 38.1%\n"
     ]
    },
    {
     "name": "stderr",
     "output_type": "stream",
     "text": [
      "100%|██████████| 36/36 [00:07<00:00,  4.96it/s]\n",
      "[I 2024-06-30 16:10:02,822] Trial 63 finished with value: 0.7695880632782851 and parameters: {'lambda': 0.0002752718208786665, 'alpha': 0.003841499291913195, 'eta': 0.059344155004010836, 'gamma': 1.0857709529260754e-08, 'max_depth': 9, 'min_child_weight': 3.483532452276461e-06, 'subsample': 0.684519302071534, 'colsample_bytree': 0.628767114521266, 'colsample_bylevel': 0.8499053514661652, 'colsample_bynode': 0.7497376560303016, 'scale_pos_weight': 2.0617519613375562e-08}. Best is trial 54 with value: 0.7703664038779133.\n"
     ]
    },
    {
     "name": "stdout",
     "output_type": "stream",
     "text": [
      "Score: 0.7695880632782851\n",
      "Fold 1\n",
      "Memory usage of dataframe is 7.48 MB\n",
      "Memory usage after optimization is: 4.63 MB\n",
      "Decreased by 38.1%\n"
     ]
    },
    {
     "name": "stderr",
     "output_type": "stream",
     "text": [
      "100%|██████████| 36/36 [00:07<00:00,  4.94it/s]\n"
     ]
    },
    {
     "name": "stdout",
     "output_type": "stream",
     "text": [
      "Fold 2\n",
      "Memory usage of dataframe is 7.48 MB\n",
      "Memory usage after optimization is: 4.63 MB\n",
      "Decreased by 38.1%\n"
     ]
    },
    {
     "name": "stderr",
     "output_type": "stream",
     "text": [
      "100%|██████████| 36/36 [00:07<00:00,  4.98it/s]\n"
     ]
    },
    {
     "name": "stdout",
     "output_type": "stream",
     "text": [
      "Fold 3\n",
      "Memory usage of dataframe is 7.48 MB\n",
      "Memory usage after optimization is: 4.63 MB\n",
      "Decreased by 38.1%\n"
     ]
    },
    {
     "name": "stderr",
     "output_type": "stream",
     "text": [
      "100%|██████████| 36/36 [00:07<00:00,  5.03it/s]\n"
     ]
    },
    {
     "name": "stdout",
     "output_type": "stream",
     "text": [
      "Fold 4\n",
      "Memory usage of dataframe is 7.48 MB\n",
      "Memory usage after optimization is: 4.63 MB\n",
      "Decreased by 38.1%\n"
     ]
    },
    {
     "name": "stderr",
     "output_type": "stream",
     "text": [
      "100%|██████████| 36/36 [00:07<00:00,  5.04it/s]\n"
     ]
    },
    {
     "name": "stdout",
     "output_type": "stream",
     "text": [
      "Fold 5\n",
      "Memory usage of dataframe is 7.48 MB\n",
      "Memory usage after optimization is: 4.63 MB\n",
      "Decreased by 38.1%\n"
     ]
    },
    {
     "name": "stderr",
     "output_type": "stream",
     "text": [
      "100%|██████████| 36/36 [00:07<00:00,  4.96it/s]\n",
      "[I 2024-06-30 16:10:45,255] Trial 64 finished with value: 0.7683402368210952 and parameters: {'lambda': 0.0005984266593572408, 'alpha': 0.03431600967108776, 'eta': 0.16756551547871554, 'gamma': 8.083363106964642e-08, 'max_depth': 8, 'min_child_weight': 1.000683810577917e-05, 'subsample': 0.7049985345352163, 'colsample_bytree': 0.5970605702747104, 'colsample_bylevel': 0.8314528915074799, 'colsample_bynode': 0.7721485662190487, 'scale_pos_weight': 4.047573685825385e-08}. Best is trial 54 with value: 0.7703664038779133.\n"
     ]
    },
    {
     "name": "stdout",
     "output_type": "stream",
     "text": [
      "Score: 0.7683402368210952\n",
      "Fold 1\n",
      "Memory usage of dataframe is 7.48 MB\n",
      "Memory usage after optimization is: 4.63 MB\n",
      "Decreased by 38.1%\n"
     ]
    },
    {
     "name": "stderr",
     "output_type": "stream",
     "text": [
      "100%|██████████| 36/36 [00:07<00:00,  5.12it/s]\n"
     ]
    },
    {
     "name": "stdout",
     "output_type": "stream",
     "text": [
      "Fold 2\n",
      "Memory usage of dataframe is 7.48 MB\n",
      "Memory usage after optimization is: 4.63 MB\n",
      "Decreased by 38.1%\n"
     ]
    },
    {
     "name": "stderr",
     "output_type": "stream",
     "text": [
      "100%|██████████| 36/36 [00:07<00:00,  5.04it/s]\n"
     ]
    },
    {
     "name": "stdout",
     "output_type": "stream",
     "text": [
      "Fold 3\n",
      "Memory usage of dataframe is 7.48 MB\n",
      "Memory usage after optimization is: 4.63 MB\n",
      "Decreased by 38.1%\n"
     ]
    },
    {
     "name": "stderr",
     "output_type": "stream",
     "text": [
      "100%|██████████| 36/36 [00:07<00:00,  5.03it/s]\n"
     ]
    },
    {
     "name": "stdout",
     "output_type": "stream",
     "text": [
      "Fold 4\n",
      "Memory usage of dataframe is 7.48 MB\n",
      "Memory usage after optimization is: 4.63 MB\n",
      "Decreased by 38.1%\n"
     ]
    },
    {
     "name": "stderr",
     "output_type": "stream",
     "text": [
      "100%|██████████| 36/36 [00:07<00:00,  4.99it/s]\n"
     ]
    },
    {
     "name": "stdout",
     "output_type": "stream",
     "text": [
      "Fold 5\n",
      "Memory usage of dataframe is 7.48 MB\n",
      "Memory usage after optimization is: 4.63 MB\n",
      "Decreased by 38.1%\n"
     ]
    },
    {
     "name": "stderr",
     "output_type": "stream",
     "text": [
      "100%|██████████| 36/36 [00:07<00:00,  4.88it/s]\n",
      "[I 2024-06-30 16:11:30,252] Trial 65 finished with value: 0.7706999598866753 and parameters: {'lambda': 0.00012227475756827256, 'alpha': 0.008591645071286404, 'eta': 0.08388777534582019, 'gamma': 1.7506421397305122e-08, 'max_depth': 9, 'min_child_weight': 2.5267031724980004e-05, 'subsample': 0.749098269218663, 'colsample_bytree': 0.6197002967205323, 'colsample_bylevel': 0.8874797637373313, 'colsample_bynode': 0.7036642072476259, 'scale_pos_weight': 4.812792885439323e-08}. Best is trial 65 with value: 0.7706999598866753.\n"
     ]
    },
    {
     "name": "stdout",
     "output_type": "stream",
     "text": [
      "Score: 0.7706999598866753\n",
      "Fold 1\n",
      "Memory usage of dataframe is 7.48 MB\n",
      "Memory usage after optimization is: 4.63 MB\n",
      "Decreased by 38.1%\n"
     ]
    },
    {
     "name": "stderr",
     "output_type": "stream",
     "text": [
      "100%|██████████| 36/36 [00:07<00:00,  4.99it/s]\n"
     ]
    },
    {
     "name": "stdout",
     "output_type": "stream",
     "text": [
      "Fold 2\n",
      "Memory usage of dataframe is 7.48 MB\n",
      "Memory usage after optimization is: 4.63 MB\n",
      "Decreased by 38.1%\n"
     ]
    },
    {
     "name": "stderr",
     "output_type": "stream",
     "text": [
      "100%|██████████| 36/36 [00:07<00:00,  5.06it/s]\n"
     ]
    },
    {
     "name": "stdout",
     "output_type": "stream",
     "text": [
      "Fold 3\n",
      "Memory usage of dataframe is 7.48 MB\n",
      "Memory usage after optimization is: 4.63 MB\n",
      "Decreased by 38.1%\n"
     ]
    },
    {
     "name": "stderr",
     "output_type": "stream",
     "text": [
      "100%|██████████| 36/36 [00:07<00:00,  4.91it/s]\n"
     ]
    },
    {
     "name": "stdout",
     "output_type": "stream",
     "text": [
      "Fold 4\n",
      "Memory usage of dataframe is 7.48 MB\n",
      "Memory usage after optimization is: 4.63 MB\n",
      "Decreased by 38.1%\n"
     ]
    },
    {
     "name": "stderr",
     "output_type": "stream",
     "text": [
      "100%|██████████| 36/36 [00:07<00:00,  5.03it/s]\n"
     ]
    },
    {
     "name": "stdout",
     "output_type": "stream",
     "text": [
      "Fold 5\n",
      "Memory usage of dataframe is 7.48 MB\n",
      "Memory usage after optimization is: 4.63 MB\n",
      "Decreased by 38.1%\n"
     ]
    },
    {
     "name": "stderr",
     "output_type": "stream",
     "text": [
      "100%|██████████| 36/36 [00:07<00:00,  5.05it/s]\n",
      "[I 2024-06-30 16:12:12,788] Trial 66 finished with value: 0.7700946021806317 and parameters: {'lambda': 0.00011837563596052387, 'alpha': 0.008400565994155338, 'eta': 0.08338626349012074, 'gamma': 2.2800751059357892e-08, 'max_depth': 8, 'min_child_weight': 2.105040375025954e-05, 'subsample': 0.7725089375197509, 'colsample_bytree': 0.6999162776618068, 'colsample_bylevel': 0.9131475039444875, 'colsample_bynode': 0.7008166101571993, 'scale_pos_weight': 9.313975452542563e-08}. Best is trial 65 with value: 0.7706999598866753.\n"
     ]
    },
    {
     "name": "stdout",
     "output_type": "stream",
     "text": [
      "Score: 0.7700946021806317\n",
      "Fold 1\n",
      "Memory usage of dataframe is 7.48 MB\n",
      "Memory usage after optimization is: 4.63 MB\n",
      "Decreased by 38.1%\n"
     ]
    },
    {
     "name": "stderr",
     "output_type": "stream",
     "text": [
      "100%|██████████| 36/36 [00:07<00:00,  4.97it/s]\n"
     ]
    },
    {
     "name": "stdout",
     "output_type": "stream",
     "text": [
      "Fold 2\n",
      "Memory usage of dataframe is 7.48 MB\n",
      "Memory usage after optimization is: 4.63 MB\n",
      "Decreased by 38.1%\n"
     ]
    },
    {
     "name": "stderr",
     "output_type": "stream",
     "text": [
      "100%|██████████| 36/36 [00:07<00:00,  5.01it/s]\n"
     ]
    },
    {
     "name": "stdout",
     "output_type": "stream",
     "text": [
      "Fold 3\n",
      "Memory usage of dataframe is 7.48 MB\n",
      "Memory usage after optimization is: 4.63 MB\n",
      "Decreased by 38.1%\n"
     ]
    },
    {
     "name": "stderr",
     "output_type": "stream",
     "text": [
      "100%|██████████| 36/36 [00:07<00:00,  5.09it/s]\n"
     ]
    },
    {
     "name": "stdout",
     "output_type": "stream",
     "text": [
      "Fold 4\n",
      "Memory usage of dataframe is 7.48 MB\n",
      "Memory usage after optimization is: 4.63 MB\n",
      "Decreased by 38.1%\n"
     ]
    },
    {
     "name": "stderr",
     "output_type": "stream",
     "text": [
      "100%|██████████| 36/36 [00:07<00:00,  5.03it/s]\n"
     ]
    },
    {
     "name": "stdout",
     "output_type": "stream",
     "text": [
      "Fold 5\n",
      "Memory usage of dataframe is 7.48 MB\n",
      "Memory usage after optimization is: 4.63 MB\n",
      "Decreased by 38.1%\n"
     ]
    },
    {
     "name": "stderr",
     "output_type": "stream",
     "text": [
      "100%|██████████| 36/36 [00:07<00:00,  5.04it/s]\n",
      "[I 2024-06-30 16:12:53,906] Trial 67 finished with value: 0.7689580165161398 and parameters: {'lambda': 8.240425378105477e-05, 'alpha': 0.0485847913337304, 'eta': 0.05108855592737778, 'gamma': 7.976890262714771e-08, 'max_depth': 7, 'min_child_weight': 5.750965766948553e-05, 'subsample': 0.7486743591382534, 'colsample_bytree': 0.6182080724805268, 'colsample_bylevel': 0.8794067240060695, 'colsample_bynode': 0.6668612861025062, 'scale_pos_weight': 1.9451174576797467e-07}. Best is trial 65 with value: 0.7706999598866753.\n"
     ]
    },
    {
     "name": "stdout",
     "output_type": "stream",
     "text": [
      "Score: 0.7689580165161398\n",
      "Fold 1\n",
      "Memory usage of dataframe is 7.48 MB\n",
      "Memory usage after optimization is: 4.63 MB\n",
      "Decreased by 38.1%\n"
     ]
    },
    {
     "name": "stderr",
     "output_type": "stream",
     "text": [
      "100%|██████████| 36/36 [00:07<00:00,  4.97it/s]\n"
     ]
    },
    {
     "name": "stdout",
     "output_type": "stream",
     "text": [
      "Fold 2\n",
      "Memory usage of dataframe is 7.48 MB\n",
      "Memory usage after optimization is: 4.63 MB\n",
      "Decreased by 38.1%\n"
     ]
    },
    {
     "name": "stderr",
     "output_type": "stream",
     "text": [
      "100%|██████████| 36/36 [00:07<00:00,  5.03it/s]\n"
     ]
    },
    {
     "name": "stdout",
     "output_type": "stream",
     "text": [
      "Fold 3\n",
      "Memory usage of dataframe is 7.48 MB\n",
      "Memory usage after optimization is: 4.63 MB\n",
      "Decreased by 38.1%\n"
     ]
    },
    {
     "name": "stderr",
     "output_type": "stream",
     "text": [
      "100%|██████████| 36/36 [00:07<00:00,  5.08it/s]\n"
     ]
    },
    {
     "name": "stdout",
     "output_type": "stream",
     "text": [
      "Fold 4\n",
      "Memory usage of dataframe is 7.48 MB\n",
      "Memory usage after optimization is: 4.63 MB\n",
      "Decreased by 38.1%\n"
     ]
    },
    {
     "name": "stderr",
     "output_type": "stream",
     "text": [
      "100%|██████████| 36/36 [00:07<00:00,  5.03it/s]\n"
     ]
    },
    {
     "name": "stdout",
     "output_type": "stream",
     "text": [
      "Fold 5\n",
      "Memory usage of dataframe is 7.48 MB\n",
      "Memory usage after optimization is: 4.63 MB\n",
      "Decreased by 38.1%\n"
     ]
    },
    {
     "name": "stderr",
     "output_type": "stream",
     "text": [
      "100%|██████████| 36/36 [00:07<00:00,  4.96it/s]\n",
      "[I 2024-06-30 16:13:38,707] Trial 68 finished with value: 0.7692915595511465 and parameters: {'lambda': 0.0006270876889082062, 'alpha': 0.0004359709968435555, 'eta': 0.03695294257912346, 'gamma': 1.6322439490377516e-07, 'max_depth': 9, 'min_child_weight': 2.4021937343918476e-05, 'subsample': 0.6749279719513329, 'colsample_bytree': 0.5973166090914186, 'colsample_bylevel': 0.865311472153188, 'colsample_bynode': 0.7244121588646355, 'scale_pos_weight': 1.9557001527403928e-08}. Best is trial 65 with value: 0.7706999598866753.\n"
     ]
    },
    {
     "name": "stdout",
     "output_type": "stream",
     "text": [
      "Score: 0.7692915595511465\n",
      "Fold 1\n",
      "Memory usage of dataframe is 7.48 MB\n",
      "Memory usage after optimization is: 4.63 MB\n",
      "Decreased by 38.1%\n"
     ]
    },
    {
     "name": "stderr",
     "output_type": "stream",
     "text": [
      "100%|██████████| 36/36 [00:07<00:00,  5.08it/s]\n"
     ]
    },
    {
     "name": "stdout",
     "output_type": "stream",
     "text": [
      "Fold 2\n",
      "Memory usage of dataframe is 7.48 MB\n",
      "Memory usage after optimization is: 4.63 MB\n",
      "Decreased by 38.1%\n"
     ]
    },
    {
     "name": "stderr",
     "output_type": "stream",
     "text": [
      "100%|██████████| 36/36 [00:07<00:00,  5.01it/s]\n"
     ]
    },
    {
     "name": "stdout",
     "output_type": "stream",
     "text": [
      "Fold 3\n",
      "Memory usage of dataframe is 7.48 MB\n",
      "Memory usage after optimization is: 4.63 MB\n",
      "Decreased by 38.1%\n"
     ]
    },
    {
     "name": "stderr",
     "output_type": "stream",
     "text": [
      "100%|██████████| 36/36 [00:07<00:00,  5.04it/s]\n"
     ]
    },
    {
     "name": "stdout",
     "output_type": "stream",
     "text": [
      "Fold 4\n",
      "Memory usage of dataframe is 7.48 MB\n",
      "Memory usage after optimization is: 4.63 MB\n",
      "Decreased by 38.1%\n"
     ]
    },
    {
     "name": "stderr",
     "output_type": "stream",
     "text": [
      "100%|██████████| 36/36 [00:07<00:00,  5.03it/s]\n"
     ]
    },
    {
     "name": "stdout",
     "output_type": "stream",
     "text": [
      "Fold 5\n",
      "Memory usage of dataframe is 7.48 MB\n",
      "Memory usage after optimization is: 4.63 MB\n",
      "Decreased by 38.1%\n"
     ]
    },
    {
     "name": "stderr",
     "output_type": "stream",
     "text": [
      "100%|██████████| 36/36 [00:07<00:00,  4.99it/s]\n",
      "[I 2024-06-30 16:14:21,475] Trial 69 finished with value: 0.7688220775093957 and parameters: {'lambda': 0.0020678115407461715, 'alpha': 0.0017204833434296346, 'eta': 0.13303968354918647, 'gamma': 1.731683898825506e-08, 'max_depth': 8, 'min_child_weight': 2.9917054672397816e-05, 'subsample': 0.6540892339317752, 'colsample_bytree': 0.6871356666291603, 'colsample_bylevel': 0.740929033317794, 'colsample_bynode': 0.643123675676633, 'scale_pos_weight': 6.757307838052198e-08}. Best is trial 65 with value: 0.7706999598866753.\n"
     ]
    },
    {
     "name": "stdout",
     "output_type": "stream",
     "text": [
      "Score: 0.7688220775093957\n",
      "Fold 1\n",
      "Memory usage of dataframe is 7.48 MB\n",
      "Memory usage after optimization is: 4.63 MB\n",
      "Decreased by 38.1%\n"
     ]
    },
    {
     "name": "stderr",
     "output_type": "stream",
     "text": [
      "100%|██████████| 36/36 [00:07<00:00,  5.08it/s]\n"
     ]
    },
    {
     "name": "stdout",
     "output_type": "stream",
     "text": [
      "Fold 2\n",
      "Memory usage of dataframe is 7.48 MB\n",
      "Memory usage after optimization is: 4.63 MB\n",
      "Decreased by 38.1%\n"
     ]
    },
    {
     "name": "stderr",
     "output_type": "stream",
     "text": [
      "100%|██████████| 36/36 [00:07<00:00,  5.05it/s]\n"
     ]
    },
    {
     "name": "stdout",
     "output_type": "stream",
     "text": [
      "Fold 3\n",
      "Memory usage of dataframe is 7.48 MB\n",
      "Memory usage after optimization is: 4.63 MB\n",
      "Decreased by 38.1%\n"
     ]
    },
    {
     "name": "stderr",
     "output_type": "stream",
     "text": [
      "100%|██████████| 36/36 [00:07<00:00,  5.04it/s]\n"
     ]
    },
    {
     "name": "stdout",
     "output_type": "stream",
     "text": [
      "Fold 4\n",
      "Memory usage of dataframe is 7.48 MB\n",
      "Memory usage after optimization is: 4.63 MB\n",
      "Decreased by 38.1%\n"
     ]
    },
    {
     "name": "stderr",
     "output_type": "stream",
     "text": [
      "100%|██████████| 36/36 [00:07<00:00,  5.06it/s]\n"
     ]
    },
    {
     "name": "stdout",
     "output_type": "stream",
     "text": [
      "Fold 5\n",
      "Memory usage of dataframe is 7.48 MB\n",
      "Memory usage after optimization is: 4.63 MB\n",
      "Decreased by 38.1%\n"
     ]
    },
    {
     "name": "stderr",
     "output_type": "stream",
     "text": [
      "100%|██████████| 36/36 [00:07<00:00,  5.05it/s]\n",
      "[I 2024-06-30 16:15:05,864] Trial 70 finished with value: 0.7709099828512904 and parameters: {'lambda': 3.4388374320201724e-05, 'alpha': 0.008009082478113877, 'eta': 0.0663485864302314, 'gamma': 5.0680478564882674e-08, 'max_depth': 9, 'min_child_weight': 0.0002259687128545322, 'subsample': 0.7125776371026128, 'colsample_bytree': 0.5598855598274995, 'colsample_bylevel': 0.9897045144212219, 'colsample_bynode': 0.6653235996791474, 'scale_pos_weight': 5.453025054197715e-07}. Best is trial 70 with value: 0.7709099828512904.\n"
     ]
    },
    {
     "name": "stdout",
     "output_type": "stream",
     "text": [
      "Score: 0.7709099828512904\n",
      "Fold 1\n",
      "Memory usage of dataframe is 7.48 MB\n",
      "Memory usage after optimization is: 4.63 MB\n",
      "Decreased by 38.1%\n"
     ]
    },
    {
     "name": "stderr",
     "output_type": "stream",
     "text": [
      "100%|██████████| 36/36 [00:07<00:00,  5.05it/s]\n"
     ]
    },
    {
     "name": "stdout",
     "output_type": "stream",
     "text": [
      "Fold 2\n",
      "Memory usage of dataframe is 7.48 MB\n",
      "Memory usage after optimization is: 4.63 MB\n",
      "Decreased by 38.1%\n"
     ]
    },
    {
     "name": "stderr",
     "output_type": "stream",
     "text": [
      "100%|██████████| 36/36 [00:07<00:00,  5.07it/s]\n"
     ]
    },
    {
     "name": "stdout",
     "output_type": "stream",
     "text": [
      "Fold 3\n",
      "Memory usage of dataframe is 7.48 MB\n",
      "Memory usage after optimization is: 4.63 MB\n",
      "Decreased by 38.1%\n"
     ]
    },
    {
     "name": "stderr",
     "output_type": "stream",
     "text": [
      "100%|██████████| 36/36 [00:07<00:00,  5.07it/s]\n"
     ]
    },
    {
     "name": "stdout",
     "output_type": "stream",
     "text": [
      "Fold 4\n",
      "Memory usage of dataframe is 7.48 MB\n",
      "Memory usage after optimization is: 4.63 MB\n",
      "Decreased by 38.1%\n"
     ]
    },
    {
     "name": "stderr",
     "output_type": "stream",
     "text": [
      "100%|██████████| 36/36 [00:07<00:00,  4.98it/s]\n"
     ]
    },
    {
     "name": "stdout",
     "output_type": "stream",
     "text": [
      "Fold 5\n",
      "Memory usage of dataframe is 7.48 MB\n",
      "Memory usage after optimization is: 4.63 MB\n",
      "Decreased by 38.1%\n"
     ]
    },
    {
     "name": "stderr",
     "output_type": "stream",
     "text": [
      "100%|██████████| 36/36 [00:07<00:00,  5.07it/s]\n",
      "[I 2024-06-30 16:15:50,462] Trial 71 finished with value: 0.7701192981051923 and parameters: {'lambda': 2.9814751982095174e-05, 'alpha': 0.0077693157647648605, 'eta': 0.06613996867293066, 'gamma': 4.655429416563718e-08, 'max_depth': 9, 'min_child_weight': 0.00015621656460785264, 'subsample': 0.7104373839135609, 'colsample_bytree': 0.5675233878408983, 'colsample_bylevel': 0.9694179996792576, 'colsample_bynode': 0.6718552357592497, 'scale_pos_weight': 3.4853702429747e-07}. Best is trial 70 with value: 0.7709099828512904.\n"
     ]
    },
    {
     "name": "stdout",
     "output_type": "stream",
     "text": [
      "Score: 0.7701192981051923\n",
      "Fold 1\n",
      "Memory usage of dataframe is 7.48 MB\n",
      "Memory usage after optimization is: 4.63 MB\n",
      "Decreased by 38.1%\n"
     ]
    },
    {
     "name": "stderr",
     "output_type": "stream",
     "text": [
      "100%|██████████| 36/36 [00:07<00:00,  5.11it/s]\n"
     ]
    },
    {
     "name": "stdout",
     "output_type": "stream",
     "text": [
      "Fold 2\n",
      "Memory usage of dataframe is 7.48 MB\n",
      "Memory usage after optimization is: 4.63 MB\n",
      "Decreased by 38.1%\n"
     ]
    },
    {
     "name": "stderr",
     "output_type": "stream",
     "text": [
      "100%|██████████| 36/36 [00:07<00:00,  4.96it/s]\n"
     ]
    },
    {
     "name": "stdout",
     "output_type": "stream",
     "text": [
      "Fold 3\n",
      "Memory usage of dataframe is 7.48 MB\n",
      "Memory usage after optimization is: 4.63 MB\n",
      "Decreased by 38.1%\n"
     ]
    },
    {
     "name": "stderr",
     "output_type": "stream",
     "text": [
      "100%|██████████| 36/36 [00:07<00:00,  5.03it/s]\n"
     ]
    },
    {
     "name": "stdout",
     "output_type": "stream",
     "text": [
      "Fold 4\n",
      "Memory usage of dataframe is 7.48 MB\n",
      "Memory usage after optimization is: 4.63 MB\n",
      "Decreased by 38.1%\n"
     ]
    },
    {
     "name": "stderr",
     "output_type": "stream",
     "text": [
      "100%|██████████| 36/36 [00:07<00:00,  5.08it/s]\n"
     ]
    },
    {
     "name": "stdout",
     "output_type": "stream",
     "text": [
      "Fold 5\n",
      "Memory usage of dataframe is 7.48 MB\n",
      "Memory usage after optimization is: 4.63 MB\n",
      "Decreased by 38.1%\n"
     ]
    },
    {
     "name": "stderr",
     "output_type": "stream",
     "text": [
      "100%|██████████| 36/36 [00:07<00:00,  5.05it/s]\n",
      "[I 2024-06-30 16:16:35,358] Trial 72 finished with value: 0.7704529113511093 and parameters: {'lambda': 5.964270904338841e-05, 'alpha': 0.010913145058371012, 'eta': 0.08547878318987089, 'gamma': 2.734636996497207e-08, 'max_depth': 9, 'min_child_weight': 7.226007457548568e-05, 'subsample': 0.7279327069459784, 'colsample_bytree': 0.5851267280217796, 'colsample_bylevel': 0.8985233565454904, 'colsample_bynode': 0.6155148471746089, 'scale_pos_weight': 5.173866892331007e-07}. Best is trial 70 with value: 0.7709099828512904.\n"
     ]
    },
    {
     "name": "stdout",
     "output_type": "stream",
     "text": [
      "Score: 0.7704529113511093\n",
      "Fold 1\n",
      "Memory usage of dataframe is 7.48 MB\n",
      "Memory usage after optimization is: 4.63 MB\n",
      "Decreased by 38.1%\n"
     ]
    },
    {
     "name": "stderr",
     "output_type": "stream",
     "text": [
      "100%|██████████| 36/36 [00:07<00:00,  5.05it/s]\n"
     ]
    },
    {
     "name": "stdout",
     "output_type": "stream",
     "text": [
      "Fold 2\n",
      "Memory usage of dataframe is 7.48 MB\n",
      "Memory usage after optimization is: 4.63 MB\n",
      "Decreased by 38.1%\n"
     ]
    },
    {
     "name": "stderr",
     "output_type": "stream",
     "text": [
      "100%|██████████| 36/36 [00:07<00:00,  5.03it/s]\n"
     ]
    },
    {
     "name": "stdout",
     "output_type": "stream",
     "text": [
      "Fold 3\n",
      "Memory usage of dataframe is 7.48 MB\n",
      "Memory usage after optimization is: 4.63 MB\n",
      "Decreased by 38.1%\n"
     ]
    },
    {
     "name": "stderr",
     "output_type": "stream",
     "text": [
      "100%|██████████| 36/36 [00:07<00:00,  5.05it/s]\n"
     ]
    },
    {
     "name": "stdout",
     "output_type": "stream",
     "text": [
      "Fold 4\n",
      "Memory usage of dataframe is 7.48 MB\n",
      "Memory usage after optimization is: 4.63 MB\n",
      "Decreased by 38.1%\n"
     ]
    },
    {
     "name": "stderr",
     "output_type": "stream",
     "text": [
      "100%|██████████| 36/36 [00:07<00:00,  5.03it/s]\n"
     ]
    },
    {
     "name": "stdout",
     "output_type": "stream",
     "text": [
      "Fold 5\n",
      "Memory usage of dataframe is 7.48 MB\n",
      "Memory usage after optimization is: 4.63 MB\n",
      "Decreased by 38.1%\n"
     ]
    },
    {
     "name": "stderr",
     "output_type": "stream",
     "text": [
      "100%|██████████| 36/36 [00:07<00:00,  5.01it/s]\n",
      "[I 2024-06-30 16:17:18,129] Trial 73 finished with value: 0.7701316475937965 and parameters: {'lambda': 5.360959063508922e-05, 'alpha': 0.0033891622134507174, 'eta': 0.08992460813139096, 'gamma': 1.0083901746522607e-07, 'max_depth': 8, 'min_child_weight': 0.0011585811909281985, 'subsample': 0.6943319160940409, 'colsample_bytree': 0.5466748414026288, 'colsample_bylevel': 0.8988922877310928, 'colsample_bynode': 0.6185388633814327, 'scale_pos_weight': 4.6806731501336685e-07}. Best is trial 70 with value: 0.7709099828512904.\n"
     ]
    },
    {
     "name": "stdout",
     "output_type": "stream",
     "text": [
      "Score: 0.7701316475937965\n",
      "Fold 1\n",
      "Memory usage of dataframe is 7.48 MB\n",
      "Memory usage after optimization is: 4.63 MB\n",
      "Decreased by 38.1%\n"
     ]
    },
    {
     "name": "stderr",
     "output_type": "stream",
     "text": [
      "100%|██████████| 36/36 [00:07<00:00,  5.04it/s]\n"
     ]
    },
    {
     "name": "stdout",
     "output_type": "stream",
     "text": [
      "Fold 2\n",
      "Memory usage of dataframe is 7.48 MB\n",
      "Memory usage after optimization is: 4.63 MB\n",
      "Decreased by 38.1%\n"
     ]
    },
    {
     "name": "stderr",
     "output_type": "stream",
     "text": [
      "100%|██████████| 36/36 [00:07<00:00,  5.04it/s]\n"
     ]
    },
    {
     "name": "stdout",
     "output_type": "stream",
     "text": [
      "Fold 3\n",
      "Memory usage of dataframe is 7.48 MB\n",
      "Memory usage after optimization is: 4.63 MB\n",
      "Decreased by 38.1%\n"
     ]
    },
    {
     "name": "stderr",
     "output_type": "stream",
     "text": [
      "100%|██████████| 36/36 [00:07<00:00,  5.06it/s]\n"
     ]
    },
    {
     "name": "stdout",
     "output_type": "stream",
     "text": [
      "Fold 4\n",
      "Memory usage of dataframe is 7.48 MB\n",
      "Memory usage after optimization is: 4.63 MB\n",
      "Decreased by 38.1%\n"
     ]
    },
    {
     "name": "stderr",
     "output_type": "stream",
     "text": [
      "100%|██████████| 36/36 [00:07<00:00,  5.06it/s]\n"
     ]
    },
    {
     "name": "stdout",
     "output_type": "stream",
     "text": [
      "Fold 5\n",
      "Memory usage of dataframe is 7.48 MB\n",
      "Memory usage after optimization is: 4.63 MB\n",
      "Decreased by 38.1%\n"
     ]
    },
    {
     "name": "stderr",
     "output_type": "stream",
     "text": [
      "100%|██████████| 36/36 [00:07<00:00,  5.03it/s]\n",
      "[I 2024-06-30 16:18:03,226] Trial 74 finished with value: 0.7697115993750802 and parameters: {'lambda': 2.370003964627257e-05, 'alpha': 0.012763561903640398, 'eta': 0.060343004806199425, 'gamma': 3.571578791342666e-08, 'max_depth': 9, 'min_child_weight': 0.00026786437222133734, 'subsample': 0.745217399105552, 'colsample_bytree': 0.5875315838515853, 'colsample_bylevel': 0.9838571375949909, 'colsample_bynode': 0.6373149786614151, 'scale_pos_weight': 7.792081855003188e-07}. Best is trial 70 with value: 0.7709099828512904.\n"
     ]
    },
    {
     "name": "stdout",
     "output_type": "stream",
     "text": [
      "Score: 0.7697115993750802\n",
      "Fold 1\n",
      "Memory usage of dataframe is 7.48 MB\n",
      "Memory usage after optimization is: 4.63 MB\n",
      "Decreased by 38.1%\n"
     ]
    },
    {
     "name": "stderr",
     "output_type": "stream",
     "text": [
      "100%|██████████| 36/36 [00:07<00:00,  4.99it/s]\n"
     ]
    },
    {
     "name": "stdout",
     "output_type": "stream",
     "text": [
      "Fold 2\n",
      "Memory usage of dataframe is 7.48 MB\n",
      "Memory usage after optimization is: 4.63 MB\n",
      "Decreased by 38.1%\n"
     ]
    },
    {
     "name": "stderr",
     "output_type": "stream",
     "text": [
      "100%|██████████| 36/36 [00:07<00:00,  5.03it/s]\n"
     ]
    },
    {
     "name": "stdout",
     "output_type": "stream",
     "text": [
      "Fold 3\n",
      "Memory usage of dataframe is 7.48 MB\n",
      "Memory usage after optimization is: 4.63 MB\n",
      "Decreased by 38.1%\n"
     ]
    },
    {
     "name": "stderr",
     "output_type": "stream",
     "text": [
      "100%|██████████| 36/36 [00:07<00:00,  5.00it/s]\n"
     ]
    },
    {
     "name": "stdout",
     "output_type": "stream",
     "text": [
      "Fold 4\n",
      "Memory usage of dataframe is 7.48 MB\n",
      "Memory usage after optimization is: 4.63 MB\n",
      "Decreased by 38.1%\n"
     ]
    },
    {
     "name": "stderr",
     "output_type": "stream",
     "text": [
      "100%|██████████| 36/36 [00:07<00:00,  5.01it/s]\n"
     ]
    },
    {
     "name": "stdout",
     "output_type": "stream",
     "text": [
      "Fold 5\n",
      "Memory usage of dataframe is 7.48 MB\n",
      "Memory usage after optimization is: 4.63 MB\n",
      "Decreased by 38.1%\n"
     ]
    },
    {
     "name": "stderr",
     "output_type": "stream",
     "text": [
      "100%|██████████| 36/36 [00:07<00:00,  5.02it/s]\n",
      "[I 2024-06-30 16:18:45,162] Trial 75 finished with value: 0.7702552065854537 and parameters: {'lambda': 7.521708329859758e-06, 'alpha': 0.029055129050852724, 'eta': 0.11046183210943253, 'gamma': 6.438045695185912e-08, 'max_depth': 8, 'min_child_weight': 7.586135869055303e-05, 'subsample': 0.6716006295996814, 'colsample_bytree': 0.5607063543931927, 'colsample_bylevel': 0.9350298959961649, 'colsample_bynode': 0.5807502376555226, 'scale_pos_weight': 1.7201476230000147e-07}. Best is trial 70 with value: 0.7709099828512904.\n"
     ]
    },
    {
     "name": "stdout",
     "output_type": "stream",
     "text": [
      "Score: 0.7702552065854537\n",
      "Fold 1\n",
      "Memory usage of dataframe is 7.48 MB\n",
      "Memory usage after optimization is: 4.63 MB\n",
      "Decreased by 38.1%\n"
     ]
    },
    {
     "name": "stderr",
     "output_type": "stream",
     "text": [
      "100%|██████████| 36/36 [00:07<00:00,  5.04it/s]\n"
     ]
    },
    {
     "name": "stdout",
     "output_type": "stream",
     "text": [
      "Fold 2\n",
      "Memory usage of dataframe is 7.48 MB\n",
      "Memory usage after optimization is: 4.63 MB\n",
      "Decreased by 38.1%\n"
     ]
    },
    {
     "name": "stderr",
     "output_type": "stream",
     "text": [
      "100%|██████████| 36/36 [00:07<00:00,  4.99it/s]\n"
     ]
    },
    {
     "name": "stdout",
     "output_type": "stream",
     "text": [
      "Fold 3\n",
      "Memory usage of dataframe is 7.48 MB\n",
      "Memory usage after optimization is: 4.63 MB\n",
      "Decreased by 38.1%\n"
     ]
    },
    {
     "name": "stderr",
     "output_type": "stream",
     "text": [
      "100%|██████████| 36/36 [00:07<00:00,  5.03it/s]\n"
     ]
    },
    {
     "name": "stdout",
     "output_type": "stream",
     "text": [
      "Fold 4\n",
      "Memory usage of dataframe is 7.48 MB\n",
      "Memory usage after optimization is: 4.63 MB\n",
      "Decreased by 38.1%\n"
     ]
    },
    {
     "name": "stderr",
     "output_type": "stream",
     "text": [
      "100%|██████████| 36/36 [00:07<00:00,  5.05it/s]\n"
     ]
    },
    {
     "name": "stdout",
     "output_type": "stream",
     "text": [
      "Fold 5\n",
      "Memory usage of dataframe is 7.48 MB\n",
      "Memory usage after optimization is: 4.63 MB\n",
      "Decreased by 38.1%\n"
     ]
    },
    {
     "name": "stderr",
     "output_type": "stream",
     "text": [
      "100%|██████████| 36/36 [00:07<00:00,  4.88it/s]\n",
      "[I 2024-06-30 16:19:27,516] Trial 76 finished with value: 0.768747964551366 and parameters: {'lambda': 7.312443231316198e-06, 'alpha': 0.11524845195170497, 'eta': 0.0462646968392157, 'gamma': 5.533779312969143e-08, 'max_depth': 8, 'min_child_weight': 7.968784398408345e-05, 'subsample': 0.6683482619414235, 'colsample_bytree': 0.5546827410776226, 'colsample_bylevel': 0.9387910336554787, 'colsample_bynode': 0.5823850414322913, 'scale_pos_weight': 1.4569549780583966e-07}. Best is trial 70 with value: 0.7709099828512904.\n"
     ]
    },
    {
     "name": "stdout",
     "output_type": "stream",
     "text": [
      "Score: 0.768747964551366\n",
      "Fold 1\n",
      "Memory usage of dataframe is 7.48 MB\n",
      "Memory usage after optimization is: 4.63 MB\n",
      "Decreased by 38.1%\n"
     ]
    },
    {
     "name": "stderr",
     "output_type": "stream",
     "text": [
      "100%|██████████| 36/36 [00:07<00:00,  4.96it/s]\n"
     ]
    },
    {
     "name": "stdout",
     "output_type": "stream",
     "text": [
      "Fold 2\n",
      "Memory usage of dataframe is 7.48 MB\n",
      "Memory usage after optimization is: 4.63 MB\n",
      "Decreased by 38.1%\n"
     ]
    },
    {
     "name": "stderr",
     "output_type": "stream",
     "text": [
      "100%|██████████| 36/36 [00:07<00:00,  5.03it/s]\n"
     ]
    },
    {
     "name": "stdout",
     "output_type": "stream",
     "text": [
      "Fold 3\n",
      "Memory usage of dataframe is 7.48 MB\n",
      "Memory usage after optimization is: 4.63 MB\n",
      "Decreased by 38.1%\n"
     ]
    },
    {
     "name": "stderr",
     "output_type": "stream",
     "text": [
      "100%|██████████| 36/36 [00:07<00:00,  5.09it/s]\n"
     ]
    },
    {
     "name": "stdout",
     "output_type": "stream",
     "text": [
      "Fold 4\n",
      "Memory usage of dataframe is 7.48 MB\n",
      "Memory usage after optimization is: 4.63 MB\n",
      "Decreased by 38.1%\n"
     ]
    },
    {
     "name": "stderr",
     "output_type": "stream",
     "text": [
      "100%|██████████| 36/36 [00:07<00:00,  4.95it/s]\n"
     ]
    },
    {
     "name": "stdout",
     "output_type": "stream",
     "text": [
      "Fold 5\n",
      "Memory usage of dataframe is 7.48 MB\n",
      "Memory usage after optimization is: 4.63 MB\n",
      "Decreased by 38.1%\n"
     ]
    },
    {
     "name": "stderr",
     "output_type": "stream",
     "text": [
      "100%|██████████| 36/36 [00:07<00:00,  5.07it/s]\n",
      "[I 2024-06-30 16:20:12,287] Trial 77 finished with value: 0.7699833949670652 and parameters: {'lambda': 0.00013967006805362512, 'alpha': 0.030793691761692686, 'eta': 0.06581833392101123, 'gamma': 1.1898280344934795e-07, 'max_depth': 9, 'min_child_weight': 0.00018667331631022808, 'subsample': 0.6518005414028483, 'colsample_bytree': 0.5747826243329832, 'colsample_bylevel': 0.9280313706602991, 'colsample_bynode': 0.6147998011119279, 'scale_pos_weight': 2.5432527421002704e-07}. Best is trial 70 with value: 0.7709099828512904.\n"
     ]
    },
    {
     "name": "stdout",
     "output_type": "stream",
     "text": [
      "Score: 0.7699833949670652\n",
      "Fold 1\n",
      "Memory usage of dataframe is 7.48 MB\n",
      "Memory usage after optimization is: 4.63 MB\n",
      "Decreased by 38.1%\n"
     ]
    },
    {
     "name": "stderr",
     "output_type": "stream",
     "text": [
      "100%|██████████| 36/36 [00:07<00:00,  5.05it/s]\n"
     ]
    },
    {
     "name": "stdout",
     "output_type": "stream",
     "text": [
      "Fold 2\n",
      "Memory usage of dataframe is 7.48 MB\n",
      "Memory usage after optimization is: 4.63 MB\n",
      "Decreased by 38.1%\n"
     ]
    },
    {
     "name": "stderr",
     "output_type": "stream",
     "text": [
      "100%|██████████| 36/36 [00:07<00:00,  5.06it/s]\n"
     ]
    },
    {
     "name": "stdout",
     "output_type": "stream",
     "text": [
      "Fold 3\n",
      "Memory usage of dataframe is 7.48 MB\n",
      "Memory usage after optimization is: 4.63 MB\n",
      "Decreased by 38.1%\n"
     ]
    },
    {
     "name": "stderr",
     "output_type": "stream",
     "text": [
      "100%|██████████| 36/36 [00:07<00:00,  5.03it/s]\n"
     ]
    },
    {
     "name": "stdout",
     "output_type": "stream",
     "text": [
      "Fold 4\n",
      "Memory usage of dataframe is 7.48 MB\n",
      "Memory usage after optimization is: 4.63 MB\n",
      "Decreased by 38.1%\n"
     ]
    },
    {
     "name": "stderr",
     "output_type": "stream",
     "text": [
      "100%|██████████| 36/36 [00:07<00:00,  5.03it/s]\n"
     ]
    },
    {
     "name": "stdout",
     "output_type": "stream",
     "text": [
      "Fold 5\n",
      "Memory usage of dataframe is 7.48 MB\n",
      "Memory usage after optimization is: 4.63 MB\n",
      "Decreased by 38.1%\n"
     ]
    },
    {
     "name": "stderr",
     "output_type": "stream",
     "text": [
      "100%|██████████| 36/36 [00:07<00:00,  5.06it/s]\n",
      "[I 2024-06-30 16:20:54,000] Trial 78 finished with value: 0.7694645508395141 and parameters: {'lambda': 8.849502846651868e-06, 'alpha': 0.04843530878240578, 'eta': 0.11364449495760028, 'gamma': 5.076979695424708e-07, 'max_depth': 8, 'min_child_weight': 0.00036107543942631975, 'subsample': 0.6831328691368646, 'colsample_bytree': 0.5173184296806173, 'colsample_bylevel': 0.997246348542363, 'colsample_bynode': 0.5908346062742365, 'scale_pos_weight': 4.773505079687507e-08}. Best is trial 70 with value: 0.7709099828512904.\n"
     ]
    },
    {
     "name": "stdout",
     "output_type": "stream",
     "text": [
      "Score: 0.7694645508395141\n",
      "Fold 1\n",
      "Memory usage of dataframe is 7.48 MB\n",
      "Memory usage after optimization is: 4.63 MB\n",
      "Decreased by 38.1%\n"
     ]
    },
    {
     "name": "stderr",
     "output_type": "stream",
     "text": [
      "100%|██████████| 36/36 [00:07<00:00,  5.11it/s]\n"
     ]
    },
    {
     "name": "stdout",
     "output_type": "stream",
     "text": [
      "Fold 2\n",
      "Memory usage of dataframe is 7.48 MB\n",
      "Memory usage after optimization is: 4.63 MB\n",
      "Decreased by 38.1%\n"
     ]
    },
    {
     "name": "stderr",
     "output_type": "stream",
     "text": [
      "100%|██████████| 36/36 [00:07<00:00,  5.05it/s]\n"
     ]
    },
    {
     "name": "stdout",
     "output_type": "stream",
     "text": [
      "Fold 3\n",
      "Memory usage of dataframe is 7.48 MB\n",
      "Memory usage after optimization is: 4.63 MB\n",
      "Decreased by 38.1%\n"
     ]
    },
    {
     "name": "stderr",
     "output_type": "stream",
     "text": [
      "100%|██████████| 36/36 [00:07<00:00,  5.07it/s]\n"
     ]
    },
    {
     "name": "stdout",
     "output_type": "stream",
     "text": [
      "Fold 4\n",
      "Memory usage of dataframe is 7.48 MB\n",
      "Memory usage after optimization is: 4.63 MB\n",
      "Decreased by 38.1%\n"
     ]
    },
    {
     "name": "stderr",
     "output_type": "stream",
     "text": [
      "100%|██████████| 36/36 [00:07<00:00,  5.05it/s]\n"
     ]
    },
    {
     "name": "stdout",
     "output_type": "stream",
     "text": [
      "Fold 5\n",
      "Memory usage of dataframe is 7.48 MB\n",
      "Memory usage after optimization is: 4.63 MB\n",
      "Decreased by 38.1%\n"
     ]
    },
    {
     "name": "stderr",
     "output_type": "stream",
     "text": [
      "100%|██████████| 36/36 [00:07<00:00,  5.04it/s]\n",
      "[I 2024-06-30 16:21:35,974] Trial 79 finished with value: 0.7707494089729513 and parameters: {'lambda': 1.6988008391848066e-05, 'alpha': 0.24227994325814092, 'eta': 0.09113945808978552, 'gamma': 1.5411181788635e-07, 'max_depth': 8, 'min_child_weight': 0.0028743110291890076, 'subsample': 0.7008581114985692, 'colsample_bytree': 0.5558729660727655, 'colsample_bylevel': 0.9541424579080449, 'colsample_bynode': 0.5717970748749306, 'scale_pos_weight': 1.344837633673636e-07}. Best is trial 70 with value: 0.7709099828512904.\n"
     ]
    },
    {
     "name": "stdout",
     "output_type": "stream",
     "text": [
      "Score: 0.7707494089729513\n",
      "Fold 1\n",
      "Memory usage of dataframe is 7.48 MB\n",
      "Memory usage after optimization is: 4.63 MB\n",
      "Decreased by 38.1%\n"
     ]
    },
    {
     "name": "stderr",
     "output_type": "stream",
     "text": [
      "100%|██████████| 36/36 [00:07<00:00,  5.05it/s]\n"
     ]
    },
    {
     "name": "stdout",
     "output_type": "stream",
     "text": [
      "Fold 2\n",
      "Memory usage of dataframe is 7.48 MB\n",
      "Memory usage after optimization is: 4.63 MB\n",
      "Decreased by 38.1%\n"
     ]
    },
    {
     "name": "stderr",
     "output_type": "stream",
     "text": [
      "100%|██████████| 36/36 [00:07<00:00,  5.04it/s]\n"
     ]
    },
    {
     "name": "stdout",
     "output_type": "stream",
     "text": [
      "Fold 3\n",
      "Memory usage of dataframe is 7.48 MB\n",
      "Memory usage after optimization is: 4.63 MB\n",
      "Decreased by 38.1%\n"
     ]
    },
    {
     "name": "stderr",
     "output_type": "stream",
     "text": [
      "100%|██████████| 36/36 [00:07<00:00,  5.05it/s]\n"
     ]
    },
    {
     "name": "stdout",
     "output_type": "stream",
     "text": [
      "Fold 4\n",
      "Memory usage of dataframe is 7.48 MB\n",
      "Memory usage after optimization is: 4.63 MB\n",
      "Decreased by 38.1%\n"
     ]
    },
    {
     "name": "stderr",
     "output_type": "stream",
     "text": [
      "100%|██████████| 36/36 [00:07<00:00,  5.00it/s]\n"
     ]
    },
    {
     "name": "stdout",
     "output_type": "stream",
     "text": [
      "Fold 5\n",
      "Memory usage of dataframe is 7.48 MB\n",
      "Memory usage after optimization is: 4.63 MB\n",
      "Decreased by 38.1%\n"
     ]
    },
    {
     "name": "stderr",
     "output_type": "stream",
     "text": [
      "100%|██████████| 36/36 [00:07<00:00,  4.98it/s]\n",
      "[I 2024-06-30 16:22:18,893] Trial 80 finished with value: 0.7698351629457096 and parameters: {'lambda': 1.8601747701953622e-05, 'alpha': 0.006611387689329013, 'eta': 0.09029249256293159, 'gamma': 1.8969568804036643e-07, 'max_depth': 8, 'min_child_weight': 0.0023892889503227097, 'subsample': 0.7163136798265213, 'colsample_bytree': 0.5512910488840108, 'colsample_bylevel': 0.954491441860078, 'colsample_bynode': 0.6061356489822699, 'scale_pos_weight': 2.988507364463305e-08}. Best is trial 70 with value: 0.7709099828512904.\n"
     ]
    },
    {
     "name": "stdout",
     "output_type": "stream",
     "text": [
      "Score: 0.7698351629457096\n",
      "Fold 1\n",
      "Memory usage of dataframe is 7.48 MB\n",
      "Memory usage after optimization is: 4.63 MB\n",
      "Decreased by 38.1%\n"
     ]
    },
    {
     "name": "stderr",
     "output_type": "stream",
     "text": [
      "100%|██████████| 36/36 [00:07<00:00,  5.08it/s]\n"
     ]
    },
    {
     "name": "stdout",
     "output_type": "stream",
     "text": [
      "Fold 2\n",
      "Memory usage of dataframe is 7.48 MB\n",
      "Memory usage after optimization is: 4.63 MB\n",
      "Decreased by 38.1%\n"
     ]
    },
    {
     "name": "stderr",
     "output_type": "stream",
     "text": [
      "100%|██████████| 36/36 [00:07<00:00,  5.06it/s]\n"
     ]
    },
    {
     "name": "stdout",
     "output_type": "stream",
     "text": [
      "Fold 3\n",
      "Memory usage of dataframe is 7.48 MB\n",
      "Memory usage after optimization is: 4.63 MB\n",
      "Decreased by 38.1%\n"
     ]
    },
    {
     "name": "stderr",
     "output_type": "stream",
     "text": [
      "100%|██████████| 36/36 [00:07<00:00,  5.03it/s]\n"
     ]
    },
    {
     "name": "stdout",
     "output_type": "stream",
     "text": [
      "Fold 4\n",
      "Memory usage of dataframe is 7.48 MB\n",
      "Memory usage after optimization is: 4.63 MB\n",
      "Decreased by 38.1%\n"
     ]
    },
    {
     "name": "stderr",
     "output_type": "stream",
     "text": [
      "100%|██████████| 36/36 [00:07<00:00,  5.07it/s]\n"
     ]
    },
    {
     "name": "stdout",
     "output_type": "stream",
     "text": [
      "Fold 5\n",
      "Memory usage of dataframe is 7.48 MB\n",
      "Memory usage after optimization is: 4.63 MB\n",
      "Decreased by 38.1%\n"
     ]
    },
    {
     "name": "stderr",
     "output_type": "stream",
     "text": [
      "100%|██████████| 36/36 [00:07<00:00,  5.08it/s]\n",
      "[I 2024-06-30 16:23:00,381] Trial 81 finished with value: 0.770316972344365 and parameters: {'lambda': 4.783816038472231e-06, 'alpha': 0.2350672374486175, 'eta': 0.11655912140276335, 'gamma': 8.108370324207081e-08, 'max_depth': 8, 'min_child_weight': 0.0011455858354042885, 'subsample': 0.6676525292843394, 'colsample_bytree': 0.5829704302255493, 'colsample_bylevel': 0.9702280535614003, 'colsample_bynode': 0.5639739511160217, 'scale_pos_weight': 1.4114914235826058e-07}. Best is trial 70 with value: 0.7709099828512904.\n"
     ]
    },
    {
     "name": "stdout",
     "output_type": "stream",
     "text": [
      "Score: 0.770316972344365\n",
      "Fold 1\n",
      "Memory usage of dataframe is 7.48 MB\n",
      "Memory usage after optimization is: 4.63 MB\n",
      "Decreased by 38.1%\n"
     ]
    },
    {
     "name": "stderr",
     "output_type": "stream",
     "text": [
      "100%|██████████| 36/36 [00:07<00:00,  5.04it/s]\n"
     ]
    },
    {
     "name": "stdout",
     "output_type": "stream",
     "text": [
      "Fold 2\n",
      "Memory usage of dataframe is 7.48 MB\n",
      "Memory usage after optimization is: 4.63 MB\n",
      "Decreased by 38.1%\n"
     ]
    },
    {
     "name": "stderr",
     "output_type": "stream",
     "text": [
      "100%|██████████| 36/36 [00:07<00:00,  5.09it/s]\n"
     ]
    },
    {
     "name": "stdout",
     "output_type": "stream",
     "text": [
      "Fold 3\n",
      "Memory usage of dataframe is 7.48 MB\n",
      "Memory usage after optimization is: 4.63 MB\n",
      "Decreased by 38.1%\n"
     ]
    },
    {
     "name": "stderr",
     "output_type": "stream",
     "text": [
      "100%|██████████| 36/36 [00:07<00:00,  5.04it/s]\n"
     ]
    },
    {
     "name": "stdout",
     "output_type": "stream",
     "text": [
      "Fold 4\n",
      "Memory usage of dataframe is 7.48 MB\n",
      "Memory usage after optimization is: 4.63 MB\n",
      "Decreased by 38.1%\n"
     ]
    },
    {
     "name": "stderr",
     "output_type": "stream",
     "text": [
      "100%|██████████| 36/36 [00:07<00:00,  4.96it/s]\n"
     ]
    },
    {
     "name": "stdout",
     "output_type": "stream",
     "text": [
      "Fold 5\n",
      "Memory usage of dataframe is 7.48 MB\n",
      "Memory usage after optimization is: 4.63 MB\n",
      "Decreased by 38.1%\n"
     ]
    },
    {
     "name": "stderr",
     "output_type": "stream",
     "text": [
      "100%|██████████| 36/36 [00:07<00:00,  5.05it/s]\n",
      "[I 2024-06-30 16:23:42,516] Trial 82 finished with value: 0.7696374909960231 and parameters: {'lambda': 6.57892845497179e-05, 'alpha': 0.2646107942407416, 'eta': 0.08036146138237042, 'gamma': 6.424455131455335e-08, 'max_depth': 8, 'min_child_weight': 0.000771711417323755, 'subsample': 0.7020818615606008, 'colsample_bytree': 0.5625583409373999, 'colsample_bylevel': 0.9716173381236622, 'colsample_bynode': 0.5821184181113024, 'scale_pos_weight': 4.5514267018583234e-07}. Best is trial 70 with value: 0.7709099828512904.\n"
     ]
    },
    {
     "name": "stdout",
     "output_type": "stream",
     "text": [
      "Score: 0.7696374909960231\n",
      "Fold 1\n",
      "Memory usage of dataframe is 7.48 MB\n",
      "Memory usage after optimization is: 4.63 MB\n",
      "Decreased by 38.1%\n"
     ]
    },
    {
     "name": "stderr",
     "output_type": "stream",
     "text": [
      "100%|██████████| 36/36 [00:07<00:00,  5.06it/s]\n"
     ]
    },
    {
     "name": "stdout",
     "output_type": "stream",
     "text": [
      "Fold 2\n",
      "Memory usage of dataframe is 7.48 MB\n",
      "Memory usage after optimization is: 4.63 MB\n",
      "Decreased by 38.1%\n"
     ]
    },
    {
     "name": "stderr",
     "output_type": "stream",
     "text": [
      "100%|██████████| 36/36 [00:07<00:00,  4.97it/s]\n"
     ]
    },
    {
     "name": "stdout",
     "output_type": "stream",
     "text": [
      "Fold 3\n",
      "Memory usage of dataframe is 7.48 MB\n",
      "Memory usage after optimization is: 4.63 MB\n",
      "Decreased by 38.1%\n"
     ]
    },
    {
     "name": "stderr",
     "output_type": "stream",
     "text": [
      "100%|██████████| 36/36 [00:07<00:00,  5.05it/s]\n"
     ]
    },
    {
     "name": "stdout",
     "output_type": "stream",
     "text": [
      "Fold 4\n",
      "Memory usage of dataframe is 7.48 MB\n",
      "Memory usage after optimization is: 4.63 MB\n",
      "Decreased by 38.1%\n"
     ]
    },
    {
     "name": "stderr",
     "output_type": "stream",
     "text": [
      "100%|██████████| 36/36 [00:07<00:00,  4.96it/s]\n"
     ]
    },
    {
     "name": "stdout",
     "output_type": "stream",
     "text": [
      "Fold 5\n",
      "Memory usage of dataframe is 7.48 MB\n",
      "Memory usage after optimization is: 4.63 MB\n",
      "Decreased by 38.1%\n"
     ]
    },
    {
     "name": "stderr",
     "output_type": "stream",
     "text": [
      "100%|██████████| 36/36 [00:07<00:00,  5.00it/s]\n",
      "[I 2024-06-30 16:24:24,361] Trial 83 finished with value: 0.769118603368234 and parameters: {'lambda': 3.923085137609312e-06, 'alpha': 0.07737015245665518, 'eta': 0.09476443544760994, 'gamma': 3.307574962723094e-08, 'max_depth': 8, 'min_child_weight': 0.0014120125411031033, 'subsample': 0.6587079846120499, 'colsample_bytree': 0.5765210641907599, 'colsample_bylevel': 0.945005388931589, 'colsample_bynode': 0.5628534517520991, 'scale_pos_weight': 2.2720072866806493e-07}. Best is trial 70 with value: 0.7709099828512904.\n"
     ]
    },
    {
     "name": "stdout",
     "output_type": "stream",
     "text": [
      "Score: 0.769118603368234\n",
      "Fold 1\n",
      "Memory usage of dataframe is 7.48 MB\n",
      "Memory usage after optimization is: 4.63 MB\n",
      "Decreased by 38.1%\n"
     ]
    },
    {
     "name": "stderr",
     "output_type": "stream",
     "text": [
      "100%|██████████| 36/36 [00:07<00:00,  5.04it/s]\n"
     ]
    },
    {
     "name": "stdout",
     "output_type": "stream",
     "text": [
      "Fold 2\n",
      "Memory usage of dataframe is 7.48 MB\n",
      "Memory usage after optimization is: 4.63 MB\n",
      "Decreased by 38.1%\n"
     ]
    },
    {
     "name": "stderr",
     "output_type": "stream",
     "text": [
      "100%|██████████| 36/36 [00:07<00:00,  5.05it/s]\n"
     ]
    },
    {
     "name": "stdout",
     "output_type": "stream",
     "text": [
      "Fold 3\n",
      "Memory usage of dataframe is 7.48 MB\n",
      "Memory usage after optimization is: 4.63 MB\n",
      "Decreased by 38.1%\n"
     ]
    },
    {
     "name": "stderr",
     "output_type": "stream",
     "text": [
      "100%|██████████| 36/36 [00:07<00:00,  5.06it/s]\n"
     ]
    },
    {
     "name": "stdout",
     "output_type": "stream",
     "text": [
      "Fold 4\n",
      "Memory usage of dataframe is 7.48 MB\n",
      "Memory usage after optimization is: 4.63 MB\n",
      "Decreased by 38.1%\n"
     ]
    },
    {
     "name": "stderr",
     "output_type": "stream",
     "text": [
      "100%|██████████| 36/36 [00:07<00:00,  5.02it/s]\n"
     ]
    },
    {
     "name": "stdout",
     "output_type": "stream",
     "text": [
      "Fold 5\n",
      "Memory usage of dataframe is 7.48 MB\n",
      "Memory usage after optimization is: 4.63 MB\n",
      "Decreased by 38.1%\n"
     ]
    },
    {
     "name": "stderr",
     "output_type": "stream",
     "text": [
      "100%|██████████| 36/36 [00:07<00:00,  5.08it/s]\n",
      "[I 2024-06-30 16:25:06,136] Trial 84 finished with value: 0.7689085742983224 and parameters: {'lambda': 1.2517313106404406e-05, 'alpha': 0.02546093781374754, 'eta': 0.05310342887483496, 'gamma': 1.5405697494617788e-08, 'max_depth': 8, 'min_child_weight': 0.00043903374220326133, 'subsample': 0.7344445125705416, 'colsample_bytree': 0.5997898010517521, 'colsample_bylevel': 0.924402579764359, 'colsample_bynode': 0.5520566159974748, 'scale_pos_weight': 1.0684712280304247e-07}. Best is trial 70 with value: 0.7709099828512904.\n"
     ]
    },
    {
     "name": "stdout",
     "output_type": "stream",
     "text": [
      "Score: 0.7689085742983224\n",
      "Fold 1\n",
      "Memory usage of dataframe is 7.48 MB\n",
      "Memory usage after optimization is: 4.63 MB\n",
      "Decreased by 38.1%\n"
     ]
    },
    {
     "name": "stderr",
     "output_type": "stream",
     "text": [
      "100%|██████████| 36/36 [00:07<00:00,  5.07it/s]\n"
     ]
    },
    {
     "name": "stdout",
     "output_type": "stream",
     "text": [
      "Fold 2\n",
      "Memory usage of dataframe is 7.48 MB\n",
      "Memory usage after optimization is: 4.63 MB\n",
      "Decreased by 38.1%\n"
     ]
    },
    {
     "name": "stderr",
     "output_type": "stream",
     "text": [
      "100%|██████████| 36/36 [00:07<00:00,  5.10it/s]\n"
     ]
    },
    {
     "name": "stdout",
     "output_type": "stream",
     "text": [
      "Fold 3\n",
      "Memory usage of dataframe is 7.48 MB\n",
      "Memory usage after optimization is: 4.63 MB\n",
      "Decreased by 38.1%\n"
     ]
    },
    {
     "name": "stderr",
     "output_type": "stream",
     "text": [
      "100%|██████████| 36/36 [00:07<00:00,  5.00it/s]\n"
     ]
    },
    {
     "name": "stdout",
     "output_type": "stream",
     "text": [
      "Fold 4\n",
      "Memory usage of dataframe is 7.48 MB\n",
      "Memory usage after optimization is: 4.63 MB\n",
      "Decreased by 38.1%\n"
     ]
    },
    {
     "name": "stderr",
     "output_type": "stream",
     "text": [
      "100%|██████████| 36/36 [00:07<00:00,  5.03it/s]\n"
     ]
    },
    {
     "name": "stdout",
     "output_type": "stream",
     "text": [
      "Fold 5\n",
      "Memory usage of dataframe is 7.48 MB\n",
      "Memory usage after optimization is: 4.63 MB\n",
      "Decreased by 38.1%\n"
     ]
    },
    {
     "name": "stderr",
     "output_type": "stream",
     "text": [
      "100%|██████████| 36/36 [00:07<00:00,  5.02it/s]\n",
      "[I 2024-06-30 16:25:49,761] Trial 85 finished with value: 0.7665612075898055 and parameters: {'lambda': 2.87267307425545e-05, 'alpha': 0.16173081475552506, 'eta': 0.1722547603786528, 'gamma': 1.829787784832227e-07, 'max_depth': 9, 'min_child_weight': 0.00019923331178894063, 'subsample': 0.674469321835733, 'colsample_bytree': 0.5867173463289614, 'colsample_bylevel': 0.9522662206083284, 'colsample_bynode': 0.576139507764139, 'scale_pos_weight': 1.2555443103155053e-06}. Best is trial 70 with value: 0.7709099828512904.\n"
     ]
    },
    {
     "name": "stdout",
     "output_type": "stream",
     "text": [
      "Score: 0.7665612075898055\n",
      "Fold 1\n",
      "Memory usage of dataframe is 7.48 MB\n",
      "Memory usage after optimization is: 4.63 MB\n",
      "Decreased by 38.1%\n"
     ]
    },
    {
     "name": "stderr",
     "output_type": "stream",
     "text": [
      "100%|██████████| 36/36 [00:07<00:00,  5.03it/s]\n"
     ]
    },
    {
     "name": "stdout",
     "output_type": "stream",
     "text": [
      "Fold 2\n",
      "Memory usage of dataframe is 7.48 MB\n",
      "Memory usage after optimization is: 4.63 MB\n",
      "Decreased by 38.1%\n"
     ]
    },
    {
     "name": "stderr",
     "output_type": "stream",
     "text": [
      "100%|██████████| 36/36 [00:07<00:00,  4.97it/s]\n"
     ]
    },
    {
     "name": "stdout",
     "output_type": "stream",
     "text": [
      "Fold 3\n",
      "Memory usage of dataframe is 7.48 MB\n",
      "Memory usage after optimization is: 4.63 MB\n",
      "Decreased by 38.1%\n"
     ]
    },
    {
     "name": "stderr",
     "output_type": "stream",
     "text": [
      "100%|██████████| 36/36 [00:07<00:00,  4.92it/s]\n"
     ]
    },
    {
     "name": "stdout",
     "output_type": "stream",
     "text": [
      "Fold 4\n",
      "Memory usage of dataframe is 7.48 MB\n",
      "Memory usage after optimization is: 4.63 MB\n",
      "Decreased by 38.1%\n"
     ]
    },
    {
     "name": "stderr",
     "output_type": "stream",
     "text": [
      "100%|██████████| 36/36 [00:07<00:00,  5.03it/s]\n"
     ]
    },
    {
     "name": "stdout",
     "output_type": "stream",
     "text": [
      "Fold 5\n",
      "Memory usage of dataframe is 7.48 MB\n",
      "Memory usage after optimization is: 4.63 MB\n",
      "Decreased by 38.1%\n"
     ]
    },
    {
     "name": "stderr",
     "output_type": "stream",
     "text": [
      "100%|██████████| 36/36 [00:07<00:00,  5.00it/s]\n",
      "[I 2024-06-30 16:26:31,903] Trial 86 finished with value: 0.769736311326044 and parameters: {'lambda': 6.483611577398283e-06, 'alpha': 0.06436375013324924, 'eta': 0.11439308966782047, 'gamma': 8.142050976072167e-08, 'max_depth': 8, 'min_child_weight': 7.619571463030578e-05, 'subsample': 0.6920677238536951, 'colsample_bytree': 0.5329818335601382, 'colsample_bylevel': 0.9828440463425671, 'colsample_bynode': 0.5336176671500816, 'scale_pos_weight': 5.678630372802146e-08}. Best is trial 70 with value: 0.7709099828512904.\n"
     ]
    },
    {
     "name": "stdout",
     "output_type": "stream",
     "text": [
      "Score: 0.769736311326044\n",
      "Fold 1\n",
      "Memory usage of dataframe is 7.48 MB\n",
      "Memory usage after optimization is: 4.63 MB\n",
      "Decreased by 38.1%\n"
     ]
    },
    {
     "name": "stderr",
     "output_type": "stream",
     "text": [
      "100%|██████████| 36/36 [00:07<00:00,  5.05it/s]\n"
     ]
    },
    {
     "name": "stdout",
     "output_type": "stream",
     "text": [
      "Fold 2\n",
      "Memory usage of dataframe is 7.48 MB\n",
      "Memory usage after optimization is: 4.63 MB\n",
      "Decreased by 38.1%\n"
     ]
    },
    {
     "name": "stderr",
     "output_type": "stream",
     "text": [
      "100%|██████████| 36/36 [00:07<00:00,  5.00it/s]\n"
     ]
    },
    {
     "name": "stdout",
     "output_type": "stream",
     "text": [
      "Fold 3\n",
      "Memory usage of dataframe is 7.48 MB\n",
      "Memory usage after optimization is: 4.63 MB\n",
      "Decreased by 38.1%\n"
     ]
    },
    {
     "name": "stderr",
     "output_type": "stream",
     "text": [
      "100%|██████████| 36/36 [00:07<00:00,  5.07it/s]\n"
     ]
    },
    {
     "name": "stdout",
     "output_type": "stream",
     "text": [
      "Fold 4\n",
      "Memory usage of dataframe is 7.48 MB\n",
      "Memory usage after optimization is: 4.63 MB\n",
      "Decreased by 38.1%\n"
     ]
    },
    {
     "name": "stderr",
     "output_type": "stream",
     "text": [
      "100%|██████████| 36/36 [00:07<00:00,  5.04it/s]\n"
     ]
    },
    {
     "name": "stdout",
     "output_type": "stream",
     "text": [
      "Fold 5\n",
      "Memory usage of dataframe is 7.48 MB\n",
      "Memory usage after optimization is: 4.63 MB\n",
      "Decreased by 38.1%\n"
     ]
    },
    {
     "name": "stderr",
     "output_type": "stream",
     "text": [
      "100%|██████████| 36/36 [00:07<00:00,  5.05it/s]\n",
      "[I 2024-06-30 16:27:12,808] Trial 87 finished with value: 0.768068470992431 and parameters: {'lambda': 6.0880271978031086e-05, 'alpha': 0.013868893642296718, 'eta': 0.0659610983046418, 'gamma': 4.440653123655734e-08, 'max_depth': 7, 'min_child_weight': 0.0008997190232689089, 'subsample': 0.7164736711351072, 'colsample_bytree': 0.6067679172210882, 'colsample_bylevel': 0.9650177589860874, 'colsample_bynode': 0.5717415911276525, 'scale_pos_weight': 1.5212197260787928e-07}. Best is trial 70 with value: 0.7709099828512904.\n"
     ]
    },
    {
     "name": "stdout",
     "output_type": "stream",
     "text": [
      "Score: 0.768068470992431\n",
      "Fold 1\n",
      "Memory usage of dataframe is 7.48 MB\n",
      "Memory usage after optimization is: 4.63 MB\n",
      "Decreased by 38.1%\n"
     ]
    },
    {
     "name": "stderr",
     "output_type": "stream",
     "text": [
      "100%|██████████| 36/36 [00:07<00:00,  5.04it/s]\n"
     ]
    },
    {
     "name": "stdout",
     "output_type": "stream",
     "text": [
      "Fold 2\n",
      "Memory usage of dataframe is 7.48 MB\n",
      "Memory usage after optimization is: 4.63 MB\n",
      "Decreased by 38.1%\n"
     ]
    },
    {
     "name": "stderr",
     "output_type": "stream",
     "text": [
      "100%|██████████| 36/36 [00:07<00:00,  5.01it/s]\n"
     ]
    },
    {
     "name": "stdout",
     "output_type": "stream",
     "text": [
      "Fold 3\n",
      "Memory usage of dataframe is 7.48 MB\n",
      "Memory usage after optimization is: 4.63 MB\n",
      "Decreased by 38.1%\n"
     ]
    },
    {
     "name": "stderr",
     "output_type": "stream",
     "text": [
      "100%|██████████| 36/36 [00:07<00:00,  5.04it/s]\n"
     ]
    },
    {
     "name": "stdout",
     "output_type": "stream",
     "text": [
      "Fold 4\n",
      "Memory usage of dataframe is 7.48 MB\n",
      "Memory usage after optimization is: 4.63 MB\n",
      "Decreased by 38.1%\n"
     ]
    },
    {
     "name": "stderr",
     "output_type": "stream",
     "text": [
      "100%|██████████| 36/36 [00:07<00:00,  5.07it/s]\n"
     ]
    },
    {
     "name": "stdout",
     "output_type": "stream",
     "text": [
      "Fold 5\n",
      "Memory usage of dataframe is 7.48 MB\n",
      "Memory usage after optimization is: 4.63 MB\n",
      "Decreased by 38.1%\n"
     ]
    },
    {
     "name": "stderr",
     "output_type": "stream",
     "text": [
      "100%|██████████| 36/36 [00:07<00:00,  4.96it/s]\n",
      "[I 2024-06-30 16:27:57,297] Trial 88 finished with value: 0.769303899881806 and parameters: {'lambda': 0.0001794515599539061, 'alpha': 0.0339816362807515, 'eta': 0.10184218122587972, 'gamma': 1.4980690902450836e-08, 'max_depth': 9, 'min_child_weight': 0.00011550960895151504, 'subsample': 0.6329874210516009, 'colsample_bytree': 0.5682376388771976, 'colsample_bylevel': 0.9041810813463416, 'colsample_bynode': 0.6577346454630939, 'scale_pos_weight': 1.469479754191551e-08}. Best is trial 70 with value: 0.7709099828512904.\n"
     ]
    },
    {
     "name": "stdout",
     "output_type": "stream",
     "text": [
      "Score: 0.769303899881806\n",
      "Fold 1\n",
      "Memory usage of dataframe is 7.48 MB\n",
      "Memory usage after optimization is: 4.63 MB\n",
      "Decreased by 38.1%\n"
     ]
    },
    {
     "name": "stderr",
     "output_type": "stream",
     "text": [
      "100%|██████████| 36/36 [00:07<00:00,  5.04it/s]\n"
     ]
    },
    {
     "name": "stdout",
     "output_type": "stream",
     "text": [
      "Fold 2\n",
      "Memory usage of dataframe is 7.48 MB\n",
      "Memory usage after optimization is: 4.63 MB\n",
      "Decreased by 38.1%\n"
     ]
    },
    {
     "name": "stderr",
     "output_type": "stream",
     "text": [
      "100%|██████████| 36/36 [00:07<00:00,  5.04it/s]\n"
     ]
    },
    {
     "name": "stdout",
     "output_type": "stream",
     "text": [
      "Fold 3\n",
      "Memory usage of dataframe is 7.48 MB\n",
      "Memory usage after optimization is: 4.63 MB\n",
      "Decreased by 38.1%\n"
     ]
    },
    {
     "name": "stderr",
     "output_type": "stream",
     "text": [
      "100%|██████████| 36/36 [00:07<00:00,  5.02it/s]\n"
     ]
    },
    {
     "name": "stdout",
     "output_type": "stream",
     "text": [
      "Fold 4\n",
      "Memory usage of dataframe is 7.48 MB\n",
      "Memory usage after optimization is: 4.63 MB\n",
      "Decreased by 38.1%\n"
     ]
    },
    {
     "name": "stderr",
     "output_type": "stream",
     "text": [
      "100%|██████████| 36/36 [00:07<00:00,  5.03it/s]\n"
     ]
    },
    {
     "name": "stdout",
     "output_type": "stream",
     "text": [
      "Fold 5\n",
      "Memory usage of dataframe is 7.48 MB\n",
      "Memory usage after optimization is: 4.63 MB\n",
      "Decreased by 38.1%\n"
     ]
    },
    {
     "name": "stderr",
     "output_type": "stream",
     "text": [
      "100%|██████████| 36/36 [00:07<00:00,  5.01it/s]\n",
      "[I 2024-06-30 16:28:38,055] Trial 89 finished with value: 0.7695880899889576 and parameters: {'lambda': 0.00010905165589268952, 'alpha': 0.492823244194579, 'eta': 0.07842918013638744, 'gamma': 2.3317374391715638e-07, 'max_depth': 7, 'min_child_weight': 0.00039059818246104793, 'subsample': 0.7009313236926892, 'colsample_bytree': 0.5868246021167821, 'colsample_bylevel': 0.8865559975151079, 'colsample_bynode': 0.6313748782471956, 'scale_pos_weight': 3.379763260224043e-07}. Best is trial 70 with value: 0.7709099828512904.\n"
     ]
    },
    {
     "name": "stdout",
     "output_type": "stream",
     "text": [
      "Score: 0.7695880899889576\n",
      "Fold 1\n",
      "Memory usage of dataframe is 7.48 MB\n",
      "Memory usage after optimization is: 4.63 MB\n",
      "Decreased by 38.1%\n"
     ]
    },
    {
     "name": "stderr",
     "output_type": "stream",
     "text": [
      "100%|██████████| 36/36 [00:07<00:00,  4.99it/s]\n"
     ]
    },
    {
     "name": "stdout",
     "output_type": "stream",
     "text": [
      "Fold 2\n",
      "Memory usage of dataframe is 7.48 MB\n",
      "Memory usage after optimization is: 4.63 MB\n",
      "Decreased by 38.1%\n"
     ]
    },
    {
     "name": "stderr",
     "output_type": "stream",
     "text": [
      "100%|██████████| 36/36 [00:07<00:00,  5.00it/s]\n"
     ]
    },
    {
     "name": "stdout",
     "output_type": "stream",
     "text": [
      "Fold 3\n",
      "Memory usage of dataframe is 7.48 MB\n",
      "Memory usage after optimization is: 4.63 MB\n",
      "Decreased by 38.1%\n"
     ]
    },
    {
     "name": "stderr",
     "output_type": "stream",
     "text": [
      "100%|██████████| 36/36 [00:07<00:00,  5.01it/s]\n"
     ]
    },
    {
     "name": "stdout",
     "output_type": "stream",
     "text": [
      "Fold 4\n",
      "Memory usage of dataframe is 7.48 MB\n",
      "Memory usage after optimization is: 4.63 MB\n",
      "Decreased by 38.1%\n"
     ]
    },
    {
     "name": "stderr",
     "output_type": "stream",
     "text": [
      "100%|██████████| 36/36 [00:07<00:00,  5.00it/s]\n"
     ]
    },
    {
     "name": "stdout",
     "output_type": "stream",
     "text": [
      "Fold 5\n",
      "Memory usage of dataframe is 7.48 MB\n",
      "Memory usage after optimization is: 4.63 MB\n",
      "Decreased by 38.1%\n"
     ]
    },
    {
     "name": "stderr",
     "output_type": "stream",
     "text": [
      "100%|██████████| 36/36 [00:07<00:00,  5.03it/s]\n",
      "[I 2024-06-30 16:29:20,351] Trial 90 finished with value: 0.7688591381858016 and parameters: {'lambda': 1.448863769908794e-05, 'alpha': 0.009234432290077638, 'eta': 0.12951025872360455, 'gamma': 5.079209858664173e-07, 'max_depth': 8, 'min_child_weight': 4.3054532005224404e-05, 'subsample': 0.6074909258438697, 'colsample_bytree': 0.6141668946107065, 'colsample_bylevel': 0.9224782642482902, 'colsample_bynode': 0.5941438623295595, 'scale_pos_weight': 5.785361666705814e-07}. Best is trial 70 with value: 0.7709099828512904.\n"
     ]
    },
    {
     "name": "stdout",
     "output_type": "stream",
     "text": [
      "Score: 0.7688591381858016\n",
      "Fold 1\n",
      "Memory usage of dataframe is 7.48 MB\n",
      "Memory usage after optimization is: 4.63 MB\n",
      "Decreased by 38.1%\n"
     ]
    },
    {
     "name": "stderr",
     "output_type": "stream",
     "text": [
      "100%|██████████| 36/36 [00:07<00:00,  4.95it/s]\n"
     ]
    },
    {
     "name": "stdout",
     "output_type": "stream",
     "text": [
      "Fold 2\n",
      "Memory usage of dataframe is 7.48 MB\n",
      "Memory usage after optimization is: 4.63 MB\n",
      "Decreased by 38.1%\n"
     ]
    },
    {
     "name": "stderr",
     "output_type": "stream",
     "text": [
      "100%|██████████| 36/36 [00:07<00:00,  5.09it/s]\n"
     ]
    },
    {
     "name": "stdout",
     "output_type": "stream",
     "text": [
      "Fold 3\n",
      "Memory usage of dataframe is 7.48 MB\n",
      "Memory usage after optimization is: 4.63 MB\n",
      "Decreased by 38.1%\n"
     ]
    },
    {
     "name": "stderr",
     "output_type": "stream",
     "text": [
      "100%|██████████| 36/36 [00:07<00:00,  4.95it/s]\n"
     ]
    },
    {
     "name": "stdout",
     "output_type": "stream",
     "text": [
      "Fold 4\n",
      "Memory usage of dataframe is 7.48 MB\n",
      "Memory usage after optimization is: 4.63 MB\n",
      "Decreased by 38.1%\n"
     ]
    },
    {
     "name": "stderr",
     "output_type": "stream",
     "text": [
      "100%|██████████| 36/36 [00:07<00:00,  5.09it/s]\n"
     ]
    },
    {
     "name": "stdout",
     "output_type": "stream",
     "text": [
      "Fold 5\n",
      "Memory usage of dataframe is 7.48 MB\n",
      "Memory usage after optimization is: 4.63 MB\n",
      "Decreased by 38.1%\n"
     ]
    },
    {
     "name": "stderr",
     "output_type": "stream",
     "text": [
      "100%|██████████| 36/36 [00:07<00:00,  5.02it/s]\n",
      "[I 2024-06-30 16:30:04,175] Trial 91 finished with value: 0.769662192262718 and parameters: {'lambda': 9.407174019928435e-06, 'alpha': 0.5100227427443439, 'eta': 0.14200715172753922, 'gamma': 1.0637988781300192e-07, 'max_depth': 9, 'min_child_weight': 0.0018848296249319022, 'subsample': 0.6637226693775757, 'colsample_bytree': 0.5419280798953443, 'colsample_bylevel': 0.9382484919832533, 'colsample_bynode': 0.6094637704126988, 'scale_pos_weight': 1.2165476558359231e-07}. Best is trial 70 with value: 0.7709099828512904.\n"
     ]
    },
    {
     "name": "stdout",
     "output_type": "stream",
     "text": [
      "Score: 0.769662192262718\n",
      "Fold 1\n",
      "Memory usage of dataframe is 7.48 MB\n",
      "Memory usage after optimization is: 4.63 MB\n",
      "Decreased by 38.1%\n"
     ]
    },
    {
     "name": "stderr",
     "output_type": "stream",
     "text": [
      "100%|██████████| 36/36 [00:07<00:00,  5.02it/s]\n"
     ]
    },
    {
     "name": "stdout",
     "output_type": "stream",
     "text": [
      "Fold 2\n",
      "Memory usage of dataframe is 7.48 MB\n",
      "Memory usage after optimization is: 4.63 MB\n",
      "Decreased by 38.1%\n"
     ]
    },
    {
     "name": "stderr",
     "output_type": "stream",
     "text": [
      "100%|██████████| 36/36 [00:07<00:00,  5.04it/s]\n"
     ]
    },
    {
     "name": "stdout",
     "output_type": "stream",
     "text": [
      "Fold 3\n",
      "Memory usage of dataframe is 7.48 MB\n",
      "Memory usage after optimization is: 4.63 MB\n",
      "Decreased by 38.1%\n"
     ]
    },
    {
     "name": "stderr",
     "output_type": "stream",
     "text": [
      "100%|██████████| 36/36 [00:07<00:00,  5.05it/s]\n"
     ]
    },
    {
     "name": "stdout",
     "output_type": "stream",
     "text": [
      "Fold 4\n",
      "Memory usage of dataframe is 7.48 MB\n",
      "Memory usage after optimization is: 4.63 MB\n",
      "Decreased by 38.1%\n"
     ]
    },
    {
     "name": "stderr",
     "output_type": "stream",
     "text": [
      "100%|██████████| 36/36 [00:07<00:00,  5.03it/s]\n"
     ]
    },
    {
     "name": "stdout",
     "output_type": "stream",
     "text": [
      "Fold 5\n",
      "Memory usage of dataframe is 7.48 MB\n",
      "Memory usage after optimization is: 4.63 MB\n",
      "Decreased by 38.1%\n"
     ]
    },
    {
     "name": "stderr",
     "output_type": "stream",
     "text": [
      "100%|██████████| 36/36 [00:07<00:00,  5.08it/s]\n",
      "[I 2024-06-30 16:30:45,840] Trial 92 finished with value: 0.7704158155692479 and parameters: {'lambda': 2.8888063418826666e-06, 'alpha': 0.1490592751729661, 'eta': 0.08627608975736048, 'gamma': 3.5836891242991144e-07, 'max_depth': 8, 'min_child_weight': 0.004034535796042772, 'subsample': 0.6436139202247378, 'colsample_bytree': 0.5595455515985384, 'colsample_bylevel': 0.9540436904761351, 'colsample_bynode': 0.6272246655862019, 'scale_pos_weight': 3.314587764790208e-08}. Best is trial 70 with value: 0.7709099828512904.\n"
     ]
    },
    {
     "name": "stdout",
     "output_type": "stream",
     "text": [
      "Score: 0.7704158155692479\n",
      "Fold 1\n",
      "Memory usage of dataframe is 7.48 MB\n",
      "Memory usage after optimization is: 4.63 MB\n",
      "Decreased by 38.1%\n"
     ]
    },
    {
     "name": "stderr",
     "output_type": "stream",
     "text": [
      "100%|██████████| 36/36 [00:07<00:00,  5.04it/s]\n"
     ]
    },
    {
     "name": "stdout",
     "output_type": "stream",
     "text": [
      "Fold 2\n",
      "Memory usage of dataframe is 7.48 MB\n",
      "Memory usage after optimization is: 4.63 MB\n",
      "Decreased by 38.1%\n"
     ]
    },
    {
     "name": "stderr",
     "output_type": "stream",
     "text": [
      "100%|██████████| 36/36 [00:07<00:00,  5.06it/s]\n"
     ]
    },
    {
     "name": "stdout",
     "output_type": "stream",
     "text": [
      "Fold 3\n",
      "Memory usage of dataframe is 7.48 MB\n",
      "Memory usage after optimization is: 4.63 MB\n",
      "Decreased by 38.1%\n"
     ]
    },
    {
     "name": "stderr",
     "output_type": "stream",
     "text": [
      "100%|██████████| 36/36 [00:07<00:00,  5.03it/s]\n"
     ]
    },
    {
     "name": "stdout",
     "output_type": "stream",
     "text": [
      "Fold 4\n",
      "Memory usage of dataframe is 7.48 MB\n",
      "Memory usage after optimization is: 4.63 MB\n",
      "Decreased by 38.1%\n"
     ]
    },
    {
     "name": "stderr",
     "output_type": "stream",
     "text": [
      "100%|██████████| 36/36 [00:07<00:00,  5.02it/s]\n"
     ]
    },
    {
     "name": "stdout",
     "output_type": "stream",
     "text": [
      "Fold 5\n",
      "Memory usage of dataframe is 7.48 MB\n",
      "Memory usage after optimization is: 4.63 MB\n",
      "Decreased by 38.1%\n"
     ]
    },
    {
     "name": "stderr",
     "output_type": "stream",
     "text": [
      "100%|██████████| 36/36 [00:07<00:00,  5.04it/s]\n",
      "[I 2024-06-30 16:31:28,210] Trial 93 finished with value: 0.7693039044607785 and parameters: {'lambda': 3.1316207119569648e-06, 'alpha': 0.11203513229436898, 'eta': 0.08512984270419573, 'gamma': 2.8161209502104452e-08, 'max_depth': 8, 'min_child_weight': 0.0006338543172856663, 'subsample': 0.676987842034453, 'colsample_bytree': 0.5575499446648046, 'colsample_bylevel': 0.9502068200541619, 'colsample_bynode': 0.6317241026973753, 'scale_pos_weight': 2.86589853423142e-08}. Best is trial 70 with value: 0.7709099828512904.\n"
     ]
    },
    {
     "name": "stdout",
     "output_type": "stream",
     "text": [
      "Score: 0.7693039044607785\n",
      "Fold 1\n",
      "Memory usage of dataframe is 7.48 MB\n",
      "Memory usage after optimization is: 4.63 MB\n",
      "Decreased by 38.1%\n"
     ]
    },
    {
     "name": "stderr",
     "output_type": "stream",
     "text": [
      "100%|██████████| 36/36 [00:07<00:00,  5.03it/s]\n"
     ]
    },
    {
     "name": "stdout",
     "output_type": "stream",
     "text": [
      "Fold 2\n",
      "Memory usage of dataframe is 7.48 MB\n",
      "Memory usage after optimization is: 4.63 MB\n",
      "Decreased by 38.1%\n"
     ]
    },
    {
     "name": "stderr",
     "output_type": "stream",
     "text": [
      "100%|██████████| 36/36 [00:07<00:00,  5.03it/s]\n"
     ]
    },
    {
     "name": "stdout",
     "output_type": "stream",
     "text": [
      "Fold 3\n",
      "Memory usage of dataframe is 7.48 MB\n",
      "Memory usage after optimization is: 4.63 MB\n",
      "Decreased by 38.1%\n"
     ]
    },
    {
     "name": "stderr",
     "output_type": "stream",
     "text": [
      "100%|██████████| 36/36 [00:07<00:00,  5.00it/s]\n"
     ]
    },
    {
     "name": "stdout",
     "output_type": "stream",
     "text": [
      "Fold 4\n",
      "Memory usage of dataframe is 7.48 MB\n",
      "Memory usage after optimization is: 4.63 MB\n",
      "Decreased by 38.1%\n"
     ]
    },
    {
     "name": "stderr",
     "output_type": "stream",
     "text": [
      "100%|██████████| 36/36 [00:07<00:00,  5.01it/s]\n"
     ]
    },
    {
     "name": "stdout",
     "output_type": "stream",
     "text": [
      "Fold 5\n",
      "Memory usage of dataframe is 7.48 MB\n",
      "Memory usage after optimization is: 4.63 MB\n",
      "Decreased by 38.1%\n"
     ]
    },
    {
     "name": "stderr",
     "output_type": "stream",
     "text": [
      "100%|██████████| 36/36 [00:07<00:00,  5.04it/s]\n",
      "[I 2024-06-30 16:32:10,219] Trial 94 finished with value: 0.7692298044765041 and parameters: {'lambda': 1.9834385949085476e-05, 'alpha': 0.2720454789395302, 'eta': 0.06762770933243333, 'gamma': 6.264667803957384e-08, 'max_depth': 8, 'min_child_weight': 0.002769356861661909, 'subsample': 0.6892775624518135, 'colsample_bytree': 0.5191415667883273, 'colsample_bylevel': 0.9601346136233916, 'colsample_bynode': 0.6520645201692398, 'scale_pos_weight': 1.2049168197734164e-08}. Best is trial 70 with value: 0.7709099828512904.\n"
     ]
    },
    {
     "name": "stdout",
     "output_type": "stream",
     "text": [
      "Score: 0.7692298044765041\n",
      "Fold 1\n",
      "Memory usage of dataframe is 7.48 MB\n",
      "Memory usage after optimization is: 4.63 MB\n",
      "Decreased by 38.1%\n"
     ]
    },
    {
     "name": "stderr",
     "output_type": "stream",
     "text": [
      "100%|██████████| 36/36 [00:07<00:00,  5.09it/s]\n"
     ]
    },
    {
     "name": "stdout",
     "output_type": "stream",
     "text": [
      "Fold 2\n",
      "Memory usage of dataframe is 7.48 MB\n",
      "Memory usage after optimization is: 4.63 MB\n",
      "Decreased by 38.1%\n"
     ]
    },
    {
     "name": "stderr",
     "output_type": "stream",
     "text": [
      "100%|██████████| 36/36 [00:07<00:00,  4.88it/s]\n"
     ]
    },
    {
     "name": "stdout",
     "output_type": "stream",
     "text": [
      "Fold 3\n",
      "Memory usage of dataframe is 7.48 MB\n",
      "Memory usage after optimization is: 4.63 MB\n",
      "Decreased by 38.1%\n"
     ]
    },
    {
     "name": "stderr",
     "output_type": "stream",
     "text": [
      "100%|██████████| 36/36 [00:07<00:00,  5.03it/s]\n"
     ]
    },
    {
     "name": "stdout",
     "output_type": "stream",
     "text": [
      "Fold 4\n",
      "Memory usage of dataframe is 7.48 MB\n",
      "Memory usage after optimization is: 4.63 MB\n",
      "Decreased by 38.1%\n"
     ]
    },
    {
     "name": "stderr",
     "output_type": "stream",
     "text": [
      "100%|██████████| 36/36 [00:07<00:00,  5.05it/s]\n"
     ]
    },
    {
     "name": "stdout",
     "output_type": "stream",
     "text": [
      "Fold 5\n",
      "Memory usage of dataframe is 7.48 MB\n",
      "Memory usage after optimization is: 4.63 MB\n",
      "Decreased by 38.1%\n"
     ]
    },
    {
     "name": "stderr",
     "output_type": "stream",
     "text": [
      "100%|██████████| 36/36 [00:07<00:00,  5.07it/s]\n",
      "[I 2024-06-30 16:32:52,445] Trial 95 finished with value: 0.7704034653174816 and parameters: {'lambda': 1.9642064336130055e-06, 'alpha': 0.020806128563440593, 'eta': 0.09629422429493038, 'gamma': 1.3867221963167094e-07, 'max_depth': 8, 'min_child_weight': 0.0031339752604830455, 'subsample': 0.7321275137108169, 'colsample_bytree': 0.5767514309935216, 'colsample_bylevel': 0.9830532525818754, 'colsample_bynode': 0.6018494900461232, 'scale_pos_weight': 7.993507414681541e-08}. Best is trial 70 with value: 0.7709099828512904.\n"
     ]
    },
    {
     "name": "stdout",
     "output_type": "stream",
     "text": [
      "Score: 0.7704034653174816\n",
      "Fold 1\n",
      "Memory usage of dataframe is 7.48 MB\n",
      "Memory usage after optimization is: 4.63 MB\n",
      "Decreased by 38.1%\n"
     ]
    },
    {
     "name": "stderr",
     "output_type": "stream",
     "text": [
      "100%|██████████| 36/36 [00:07<00:00,  4.97it/s]\n"
     ]
    },
    {
     "name": "stdout",
     "output_type": "stream",
     "text": [
      "Fold 2\n",
      "Memory usage of dataframe is 7.48 MB\n",
      "Memory usage after optimization is: 4.63 MB\n",
      "Decreased by 38.1%\n"
     ]
    },
    {
     "name": "stderr",
     "output_type": "stream",
     "text": [
      "100%|██████████| 36/36 [00:07<00:00,  4.86it/s]\n"
     ]
    },
    {
     "name": "stdout",
     "output_type": "stream",
     "text": [
      "Fold 3\n",
      "Memory usage of dataframe is 7.48 MB\n",
      "Memory usage after optimization is: 4.63 MB\n",
      "Decreased by 38.1%\n"
     ]
    },
    {
     "name": "stderr",
     "output_type": "stream",
     "text": [
      "100%|██████████| 36/36 [00:07<00:00,  4.99it/s]\n"
     ]
    },
    {
     "name": "stdout",
     "output_type": "stream",
     "text": [
      "Fold 4\n",
      "Memory usage of dataframe is 7.48 MB\n",
      "Memory usage after optimization is: 4.63 MB\n",
      "Decreased by 38.1%\n"
     ]
    },
    {
     "name": "stderr",
     "output_type": "stream",
     "text": [
      "100%|██████████| 36/36 [00:07<00:00,  5.06it/s]\n"
     ]
    },
    {
     "name": "stdout",
     "output_type": "stream",
     "text": [
      "Fold 5\n",
      "Memory usage of dataframe is 7.48 MB\n",
      "Memory usage after optimization is: 4.63 MB\n",
      "Decreased by 38.1%\n"
     ]
    },
    {
     "name": "stderr",
     "output_type": "stream",
     "text": [
      "100%|██████████| 36/36 [00:07<00:00,  5.01it/s]\n",
      "[I 2024-06-30 16:33:37,559] Trial 96 finished with value: 0.7696004051352687 and parameters: {'lambda': 1.765252031184564e-06, 'alpha': 0.15161330089566322, 'eta': 0.09588191029579923, 'gamma': 9.955252225503938e-07, 'max_depth': 9, 'min_child_weight': 0.004169932067967051, 'subsample': 0.7336879617488259, 'colsample_bytree': 0.5720932779461615, 'colsample_bylevel': 0.9872030495529218, 'colsample_bynode': 0.6414982240702816, 'scale_pos_weight': 5.5798584988136297e-08}. Best is trial 70 with value: 0.7709099828512904.\n"
     ]
    },
    {
     "name": "stdout",
     "output_type": "stream",
     "text": [
      "Score: 0.7696004051352687\n",
      "Fold 1\n",
      "Memory usage of dataframe is 7.48 MB\n",
      "Memory usage after optimization is: 4.63 MB\n",
      "Decreased by 38.1%\n"
     ]
    },
    {
     "name": "stderr",
     "output_type": "stream",
     "text": [
      "100%|██████████| 36/36 [00:07<00:00,  4.96it/s]\n"
     ]
    },
    {
     "name": "stdout",
     "output_type": "stream",
     "text": [
      "Fold 2\n",
      "Memory usage of dataframe is 7.48 MB\n",
      "Memory usage after optimization is: 4.63 MB\n",
      "Decreased by 38.1%\n"
     ]
    },
    {
     "name": "stderr",
     "output_type": "stream",
     "text": [
      "100%|██████████| 36/36 [00:07<00:00,  5.04it/s]\n"
     ]
    },
    {
     "name": "stdout",
     "output_type": "stream",
     "text": [
      "Fold 3\n",
      "Memory usage of dataframe is 7.48 MB\n",
      "Memory usage after optimization is: 4.63 MB\n",
      "Decreased by 38.1%\n"
     ]
    },
    {
     "name": "stderr",
     "output_type": "stream",
     "text": [
      "100%|██████████| 36/36 [00:07<00:00,  4.98it/s]\n"
     ]
    },
    {
     "name": "stdout",
     "output_type": "stream",
     "text": [
      "Fold 4\n",
      "Memory usage of dataframe is 7.48 MB\n",
      "Memory usage after optimization is: 4.63 MB\n",
      "Decreased by 38.1%\n"
     ]
    },
    {
     "name": "stderr",
     "output_type": "stream",
     "text": [
      "100%|██████████| 36/36 [00:07<00:00,  5.05it/s]\n"
     ]
    },
    {
     "name": "stdout",
     "output_type": "stream",
     "text": [
      "Fold 5\n",
      "Memory usage of dataframe is 7.48 MB\n",
      "Memory usage after optimization is: 4.63 MB\n",
      "Decreased by 38.1%\n"
     ]
    },
    {
     "name": "stderr",
     "output_type": "stream",
     "text": [
      "100%|██████████| 36/36 [00:07<00:00,  4.93it/s]\n",
      "[I 2024-06-30 16:34:18,747] Trial 97 finished with value: 0.769044472094315 and parameters: {'lambda': 5.059785085877472e-06, 'alpha': 0.059349979732669124, 'eta': 0.05902068279418436, 'gamma': 1.4138428423936253e-07, 'max_depth': 7, 'min_child_weight': 0.0013627845365178424, 'subsample': 0.7121425793708654, 'colsample_bytree': 0.6044901014704329, 'colsample_bylevel': 0.9746763759518954, 'colsample_bynode': 0.6256111846874951, 'scale_pos_weight': 2.2852416251567467e-08}. Best is trial 70 with value: 0.7709099828512904.\n"
     ]
    },
    {
     "name": "stdout",
     "output_type": "stream",
     "text": [
      "Score: 0.769044472094315\n",
      "Fold 1\n",
      "Memory usage of dataframe is 7.48 MB\n",
      "Memory usage after optimization is: 4.63 MB\n",
      "Decreased by 38.1%\n"
     ]
    },
    {
     "name": "stderr",
     "output_type": "stream",
     "text": [
      "100%|██████████| 36/36 [00:07<00:00,  4.99it/s]\n"
     ]
    },
    {
     "name": "stdout",
     "output_type": "stream",
     "text": [
      "Fold 2\n",
      "Memory usage of dataframe is 7.48 MB\n",
      "Memory usage after optimization is: 4.63 MB\n",
      "Decreased by 38.1%\n"
     ]
    },
    {
     "name": "stderr",
     "output_type": "stream",
     "text": [
      "100%|██████████| 36/36 [00:07<00:00,  5.09it/s]\n"
     ]
    },
    {
     "name": "stdout",
     "output_type": "stream",
     "text": [
      "Fold 3\n",
      "Memory usage of dataframe is 7.48 MB\n",
      "Memory usage after optimization is: 4.63 MB\n",
      "Decreased by 38.1%\n"
     ]
    },
    {
     "name": "stderr",
     "output_type": "stream",
     "text": [
      "100%|██████████| 36/36 [00:07<00:00,  5.07it/s]\n"
     ]
    },
    {
     "name": "stdout",
     "output_type": "stream",
     "text": [
      "Fold 4\n",
      "Memory usage of dataframe is 7.48 MB\n",
      "Memory usage after optimization is: 4.63 MB\n",
      "Decreased by 38.1%\n"
     ]
    },
    {
     "name": "stderr",
     "output_type": "stream",
     "text": [
      "100%|██████████| 36/36 [00:07<00:00,  5.02it/s]\n"
     ]
    },
    {
     "name": "stdout",
     "output_type": "stream",
     "text": [
      "Fold 5\n",
      "Memory usage of dataframe is 7.48 MB\n",
      "Memory usage after optimization is: 4.63 MB\n",
      "Decreased by 38.1%\n"
     ]
    },
    {
     "name": "stderr",
     "output_type": "stream",
     "text": [
      "100%|██████████| 36/36 [00:07<00:00,  5.04it/s]\n",
      "[I 2024-06-30 16:35:02,906] Trial 98 finished with value: 0.7710582446359664 and parameters: {'lambda': 2.14181770011248e-06, 'alpha': 0.08519875070012314, 'eta': 0.07980134621923347, 'gamma': 4.1434396705158704e-07, 'max_depth': 9, 'min_child_weight': 0.0038124076805368303, 'subsample': 0.7408338854453144, 'colsample_bytree': 0.6190134914136997, 'colsample_bylevel': 0.9988604269278193, 'colsample_bynode': 0.6013297160166026, 'scale_pos_weight': 8.289725125588889e-08}. Best is trial 98 with value: 0.7710582446359664.\n"
     ]
    },
    {
     "name": "stdout",
     "output_type": "stream",
     "text": [
      "Score: 0.7710582446359664\n",
      "Fold 1\n",
      "Memory usage of dataframe is 7.48 MB\n",
      "Memory usage after optimization is: 4.63 MB\n",
      "Decreased by 38.1%\n"
     ]
    },
    {
     "name": "stderr",
     "output_type": "stream",
     "text": [
      "100%|██████████| 36/36 [00:07<00:00,  5.04it/s]\n"
     ]
    },
    {
     "name": "stdout",
     "output_type": "stream",
     "text": [
      "Fold 2\n",
      "Memory usage of dataframe is 7.48 MB\n",
      "Memory usage after optimization is: 4.63 MB\n",
      "Decreased by 38.1%\n"
     ]
    },
    {
     "name": "stderr",
     "output_type": "stream",
     "text": [
      "100%|██████████| 36/36 [00:07<00:00,  5.01it/s]\n"
     ]
    },
    {
     "name": "stdout",
     "output_type": "stream",
     "text": [
      "Fold 3\n",
      "Memory usage of dataframe is 7.48 MB\n",
      "Memory usage after optimization is: 4.63 MB\n",
      "Decreased by 38.1%\n"
     ]
    },
    {
     "name": "stderr",
     "output_type": "stream",
     "text": [
      "100%|██████████| 36/36 [00:07<00:00,  5.05it/s]\n"
     ]
    },
    {
     "name": "stdout",
     "output_type": "stream",
     "text": [
      "Fold 4\n",
      "Memory usage of dataframe is 7.48 MB\n",
      "Memory usage after optimization is: 4.63 MB\n",
      "Decreased by 38.1%\n"
     ]
    },
    {
     "name": "stderr",
     "output_type": "stream",
     "text": [
      "100%|██████████| 36/36 [00:07<00:00,  5.02it/s]\n"
     ]
    },
    {
     "name": "stdout",
     "output_type": "stream",
     "text": [
      "Fold 5\n",
      "Memory usage of dataframe is 7.48 MB\n",
      "Memory usage after optimization is: 4.63 MB\n",
      "Decreased by 38.1%\n"
     ]
    },
    {
     "name": "stderr",
     "output_type": "stream",
     "text": [
      "100%|██████████| 36/36 [00:07<00:00,  4.98it/s]\n",
      "[I 2024-06-30 16:35:48,085] Trial 99 finished with value: 0.7696004272669688 and parameters: {'lambda': 1.0287673297496483e-06, 'alpha': 0.08114667429922329, 'eta': 0.04097495839675838, 'gamma': 3.6987813697185547e-07, 'max_depth': 9, 'min_child_weight': 0.002970749171821843, 'subsample': 0.7410164106365807, 'colsample_bytree': 0.5863524056409684, 'colsample_bylevel': 0.9977146350458725, 'colsample_bynode': 0.6038555412599594, 'scale_pos_weight': 8.451904322116986e-08}. Best is trial 98 with value: 0.7710582446359664.\n"
     ]
    },
    {
     "name": "stdout",
     "output_type": "stream",
     "text": [
      "Score: 0.7696004272669688\n",
      "Fold 1\n",
      "Memory usage of dataframe is 7.48 MB\n",
      "Memory usage after optimization is: 4.63 MB\n",
      "Decreased by 38.1%\n"
     ]
    },
    {
     "name": "stderr",
     "output_type": "stream",
     "text": [
      "100%|██████████| 36/36 [00:07<00:00,  4.95it/s]\n"
     ]
    },
    {
     "name": "stdout",
     "output_type": "stream",
     "text": [
      "Fold 2\n",
      "Memory usage of dataframe is 7.48 MB\n",
      "Memory usage after optimization is: 4.63 MB\n",
      "Decreased by 38.1%\n"
     ]
    },
    {
     "name": "stderr",
     "output_type": "stream",
     "text": [
      "100%|██████████| 36/36 [00:07<00:00,  5.02it/s]\n"
     ]
    },
    {
     "name": "stdout",
     "output_type": "stream",
     "text": [
      "Fold 3\n",
      "Memory usage of dataframe is 7.48 MB\n",
      "Memory usage after optimization is: 4.63 MB\n",
      "Decreased by 38.1%\n"
     ]
    },
    {
     "name": "stderr",
     "output_type": "stream",
     "text": [
      "100%|██████████| 36/36 [00:07<00:00,  5.07it/s]\n"
     ]
    },
    {
     "name": "stdout",
     "output_type": "stream",
     "text": [
      "Fold 4\n",
      "Memory usage of dataframe is 7.48 MB\n",
      "Memory usage after optimization is: 4.63 MB\n",
      "Decreased by 38.1%\n"
     ]
    },
    {
     "name": "stderr",
     "output_type": "stream",
     "text": [
      "100%|██████████| 36/36 [00:07<00:00,  5.04it/s]\n"
     ]
    },
    {
     "name": "stdout",
     "output_type": "stream",
     "text": [
      "Fold 5\n",
      "Memory usage of dataframe is 7.48 MB\n",
      "Memory usage after optimization is: 4.63 MB\n",
      "Decreased by 38.1%\n"
     ]
    },
    {
     "name": "stderr",
     "output_type": "stream",
     "text": [
      "100%|██████████| 36/36 [00:07<00:00,  5.02it/s]\n",
      "[I 2024-06-30 16:36:31,684] Trial 100 finished with value: 0.7697486409724346 and parameters: {'lambda': 3.910818941496533e-06, 'alpha': 0.24077910049785048, 'eta': 0.12571988436846665, 'gamma': 3.115502902537818e-07, 'max_depth': 9, 'min_child_weight': 0.015524259959485651, 'subsample': 0.7250311696729111, 'colsample_bytree': 0.6222138580265549, 'colsample_bylevel': 0.9877680694645018, 'colsample_bynode': 0.5949971555541602, 'scale_pos_weight': 2.639302695059167e-07}. Best is trial 98 with value: 0.7710582446359664.\n"
     ]
    },
    {
     "name": "stdout",
     "output_type": "stream",
     "text": [
      "Score: 0.7697486409724346\n",
      "Fold 1\n",
      "Memory usage of dataframe is 7.48 MB\n",
      "Memory usage after optimization is: 4.63 MB\n",
      "Decreased by 38.1%\n"
     ]
    },
    {
     "name": "stderr",
     "output_type": "stream",
     "text": [
      "100%|██████████| 36/36 [00:07<00:00,  5.00it/s]\n"
     ]
    },
    {
     "name": "stdout",
     "output_type": "stream",
     "text": [
      "Fold 2\n",
      "Memory usage of dataframe is 7.48 MB\n",
      "Memory usage after optimization is: 4.63 MB\n",
      "Decreased by 38.1%\n"
     ]
    },
    {
     "name": "stderr",
     "output_type": "stream",
     "text": [
      "100%|██████████| 36/36 [00:07<00:00,  5.02it/s]\n"
     ]
    },
    {
     "name": "stdout",
     "output_type": "stream",
     "text": [
      "Fold 3\n",
      "Memory usage of dataframe is 7.48 MB\n",
      "Memory usage after optimization is: 4.63 MB\n",
      "Decreased by 38.1%\n"
     ]
    },
    {
     "name": "stderr",
     "output_type": "stream",
     "text": [
      "100%|██████████| 36/36 [00:07<00:00,  5.01it/s]\n"
     ]
    },
    {
     "name": "stdout",
     "output_type": "stream",
     "text": [
      "Fold 4\n",
      "Memory usage of dataframe is 7.48 MB\n",
      "Memory usage after optimization is: 4.63 MB\n",
      "Decreased by 38.1%\n"
     ]
    },
    {
     "name": "stderr",
     "output_type": "stream",
     "text": [
      "100%|██████████| 36/36 [00:07<00:00,  5.00it/s]\n"
     ]
    },
    {
     "name": "stdout",
     "output_type": "stream",
     "text": [
      "Fold 5\n",
      "Memory usage of dataframe is 7.48 MB\n",
      "Memory usage after optimization is: 4.63 MB\n",
      "Decreased by 38.1%\n"
     ]
    },
    {
     "name": "stderr",
     "output_type": "stream",
     "text": [
      "100%|██████████| 36/36 [00:07<00:00,  5.02it/s]\n",
      "[I 2024-06-30 16:37:14,221] Trial 101 finished with value: 0.7702428601494977 and parameters: {'lambda': 2.2763341206393826e-06, 'alpha': 0.04431890566921536, 'eta': 0.07716555624634111, 'gamma': 2.978947805239357e-06, 'max_depth': 8, 'min_child_weight': 0.007057365722481866, 'subsample': 0.6988159390036174, 'colsample_bytree': 0.6417025814608206, 'colsample_bylevel': 0.9614209002631552, 'colsample_bynode': 0.6139556438567768, 'scale_pos_weight': 4.1383755705124104e-08}. Best is trial 98 with value: 0.7710582446359664.\n"
     ]
    },
    {
     "name": "stdout",
     "output_type": "stream",
     "text": [
      "Score: 0.7702428601494977\n",
      "Fold 1\n",
      "Memory usage of dataframe is 7.48 MB\n",
      "Memory usage after optimization is: 4.63 MB\n",
      "Decreased by 38.1%\n"
     ]
    },
    {
     "name": "stderr",
     "output_type": "stream",
     "text": [
      "100%|██████████| 36/36 [00:07<00:00,  5.02it/s]\n"
     ]
    },
    {
     "name": "stdout",
     "output_type": "stream",
     "text": [
      "Fold 2\n",
      "Memory usage of dataframe is 7.48 MB\n",
      "Memory usage after optimization is: 4.63 MB\n",
      "Decreased by 38.1%\n"
     ]
    },
    {
     "name": "stderr",
     "output_type": "stream",
     "text": [
      "100%|██████████| 36/36 [00:07<00:00,  4.99it/s]\n"
     ]
    },
    {
     "name": "stdout",
     "output_type": "stream",
     "text": [
      "Fold 3\n",
      "Memory usage of dataframe is 7.48 MB\n",
      "Memory usage after optimization is: 4.63 MB\n",
      "Decreased by 38.1%\n"
     ]
    },
    {
     "name": "stderr",
     "output_type": "stream",
     "text": [
      "100%|██████████| 36/36 [00:07<00:00,  5.06it/s]\n"
     ]
    },
    {
     "name": "stdout",
     "output_type": "stream",
     "text": [
      "Fold 4\n",
      "Memory usage of dataframe is 7.48 MB\n",
      "Memory usage after optimization is: 4.63 MB\n",
      "Decreased by 38.1%\n"
     ]
    },
    {
     "name": "stderr",
     "output_type": "stream",
     "text": [
      "100%|██████████| 36/36 [00:07<00:00,  5.02it/s]\n"
     ]
    },
    {
     "name": "stdout",
     "output_type": "stream",
     "text": [
      "Fold 5\n",
      "Memory usage of dataframe is 7.48 MB\n",
      "Memory usage after optimization is: 4.63 MB\n",
      "Decreased by 38.1%\n"
     ]
    },
    {
     "name": "stderr",
     "output_type": "stream",
     "text": [
      "100%|██████████| 36/36 [00:07<00:00,  5.05it/s]\n",
      "[I 2024-06-30 16:37:59,966] Trial 102 finished with value: 0.77009460523328 and parameters: {'lambda': 2.621991486295779e-06, 'alpha': 0.01768841863535708, 'eta': 0.08494583800326304, 'gamma': 2.009543363931363e-07, 'max_depth': 9, 'min_child_weight': 0.0017808974507932643, 'subsample': 0.7278668987837642, 'colsample_bytree': 0.5782837694099775, 'colsample_bylevel': 0.9762054354500375, 'colsample_bynode': 0.6640796011445131, 'scale_pos_weight': 1.0327226261469922e-07}. Best is trial 98 with value: 0.7710582446359664.\n"
     ]
    },
    {
     "name": "stdout",
     "output_type": "stream",
     "text": [
      "Score: 0.77009460523328\n",
      "Fold 1\n",
      "Memory usage of dataframe is 7.48 MB\n",
      "Memory usage after optimization is: 4.63 MB\n",
      "Decreased by 38.1%\n"
     ]
    },
    {
     "name": "stderr",
     "output_type": "stream",
     "text": [
      "100%|██████████| 36/36 [00:07<00:00,  4.86it/s]\n"
     ]
    },
    {
     "name": "stdout",
     "output_type": "stream",
     "text": [
      "Fold 2\n",
      "Memory usage of dataframe is 7.48 MB\n",
      "Memory usage after optimization is: 4.63 MB\n",
      "Decreased by 38.1%\n"
     ]
    },
    {
     "name": "stderr",
     "output_type": "stream",
     "text": [
      "100%|██████████| 36/36 [00:07<00:00,  4.88it/s]\n"
     ]
    },
    {
     "name": "stdout",
     "output_type": "stream",
     "text": [
      "Fold 3\n",
      "Memory usage of dataframe is 7.48 MB\n",
      "Memory usage after optimization is: 4.63 MB\n",
      "Decreased by 38.1%\n"
     ]
    },
    {
     "name": "stderr",
     "output_type": "stream",
     "text": [
      "100%|██████████| 36/36 [00:07<00:00,  5.00it/s]\n"
     ]
    },
    {
     "name": "stdout",
     "output_type": "stream",
     "text": [
      "Fold 4\n",
      "Memory usage of dataframe is 7.48 MB\n",
      "Memory usage after optimization is: 4.63 MB\n",
      "Decreased by 38.1%\n"
     ]
    },
    {
     "name": "stderr",
     "output_type": "stream",
     "text": [
      "100%|██████████| 36/36 [00:07<00:00,  4.93it/s]\n"
     ]
    },
    {
     "name": "stdout",
     "output_type": "stream",
     "text": [
      "Fold 5\n",
      "Memory usage of dataframe is 7.48 MB\n",
      "Memory usage after optimization is: 4.63 MB\n",
      "Decreased by 38.1%\n"
     ]
    },
    {
     "name": "stderr",
     "output_type": "stream",
     "text": [
      "100%|██████████| 36/36 [00:07<00:00,  5.01it/s]\n",
      "[I 2024-06-30 16:38:43,677] Trial 103 finished with value: 0.7706999430971099 and parameters: {'lambda': 1.3392807018301959e-06, 'alpha': 0.13296756059701434, 'eta': 0.09887559910672952, 'gamma': 6.221898442375005e-07, 'max_depth': 8, 'min_child_weight': 0.0034181093753895457, 'subsample': 0.763536907501041, 'colsample_bytree': 0.662728689648672, 'colsample_bylevel': 0.9922559171109813, 'colsample_bynode': 0.644345406835742, 'scale_pos_weight': 2.6844915934787793e-08}. Best is trial 98 with value: 0.7710582446359664.\n"
     ]
    },
    {
     "name": "stdout",
     "output_type": "stream",
     "text": [
      "Score: 0.7706999430971099\n",
      "Fold 1\n",
      "Memory usage of dataframe is 7.48 MB\n",
      "Memory usage after optimization is: 4.63 MB\n",
      "Decreased by 38.1%\n"
     ]
    },
    {
     "name": "stderr",
     "output_type": "stream",
     "text": [
      "100%|██████████| 36/36 [00:07<00:00,  4.92it/s]\n"
     ]
    },
    {
     "name": "stdout",
     "output_type": "stream",
     "text": [
      "Fold 2\n",
      "Memory usage of dataframe is 7.48 MB\n",
      "Memory usage after optimization is: 4.63 MB\n",
      "Decreased by 38.1%\n"
     ]
    },
    {
     "name": "stderr",
     "output_type": "stream",
     "text": [
      "100%|██████████| 36/36 [00:07<00:00,  4.80it/s]\n"
     ]
    },
    {
     "name": "stdout",
     "output_type": "stream",
     "text": [
      "Fold 3\n",
      "Memory usage of dataframe is 7.48 MB\n",
      "Memory usage after optimization is: 4.63 MB\n",
      "Decreased by 38.1%\n"
     ]
    },
    {
     "name": "stderr",
     "output_type": "stream",
     "text": [
      "100%|██████████| 36/36 [00:07<00:00,  4.89it/s]\n"
     ]
    },
    {
     "name": "stdout",
     "output_type": "stream",
     "text": [
      "Fold 4\n",
      "Memory usage of dataframe is 7.48 MB\n",
      "Memory usage after optimization is: 4.63 MB\n",
      "Decreased by 38.1%\n"
     ]
    },
    {
     "name": "stderr",
     "output_type": "stream",
     "text": [
      "100%|██████████| 36/36 [00:07<00:00,  4.74it/s]\n"
     ]
    },
    {
     "name": "stdout",
     "output_type": "stream",
     "text": [
      "Fold 5\n",
      "Memory usage of dataframe is 7.48 MB\n",
      "Memory usage after optimization is: 4.63 MB\n",
      "Decreased by 38.1%\n"
     ]
    },
    {
     "name": "stderr",
     "output_type": "stream",
     "text": [
      "100%|██████████| 36/36 [00:07<00:00,  4.97it/s]\n",
      "[I 2024-06-30 16:39:30,053] Trial 104 finished with value: 0.7707740804763256 and parameters: {'lambda': 1.2578733737716745e-06, 'alpha': 0.36196095981549115, 'eta': 0.09598384170593686, 'gamma': 7.68680015061048e-07, 'max_depth': 9, 'min_child_weight': 0.004001472057828183, 'subsample': 0.7776671461086441, 'colsample_bytree': 0.596553944358998, 'colsample_bylevel': 0.9996982051981157, 'colsample_bynode': 0.6234851220760594, 'scale_pos_weight': 3.121573873779373e-08}. Best is trial 98 with value: 0.7710582446359664.\n"
     ]
    },
    {
     "name": "stdout",
     "output_type": "stream",
     "text": [
      "Score: 0.7707740804763256\n",
      "Fold 1\n",
      "Memory usage of dataframe is 7.48 MB\n",
      "Memory usage after optimization is: 4.63 MB\n",
      "Decreased by 38.1%\n"
     ]
    },
    {
     "name": "stderr",
     "output_type": "stream",
     "text": [
      "100%|██████████| 36/36 [00:07<00:00,  5.04it/s]\n"
     ]
    },
    {
     "name": "stdout",
     "output_type": "stream",
     "text": [
      "Fold 2\n",
      "Memory usage of dataframe is 7.48 MB\n",
      "Memory usage after optimization is: 4.63 MB\n",
      "Decreased by 38.1%\n"
     ]
    },
    {
     "name": "stderr",
     "output_type": "stream",
     "text": [
      "100%|██████████| 36/36 [00:07<00:00,  5.00it/s]\n"
     ]
    },
    {
     "name": "stdout",
     "output_type": "stream",
     "text": [
      "Fold 3\n",
      "Memory usage of dataframe is 7.48 MB\n",
      "Memory usage after optimization is: 4.63 MB\n",
      "Decreased by 38.1%\n"
     ]
    },
    {
     "name": "stderr",
     "output_type": "stream",
     "text": [
      "100%|██████████| 36/36 [00:07<00:00,  4.98it/s]\n"
     ]
    },
    {
     "name": "stdout",
     "output_type": "stream",
     "text": [
      "Fold 4\n",
      "Memory usage of dataframe is 7.48 MB\n",
      "Memory usage after optimization is: 4.63 MB\n",
      "Decreased by 38.1%\n"
     ]
    },
    {
     "name": "stderr",
     "output_type": "stream",
     "text": [
      "100%|██████████| 36/36 [00:07<00:00,  5.02it/s]\n"
     ]
    },
    {
     "name": "stdout",
     "output_type": "stream",
     "text": [
      "Fold 5\n",
      "Memory usage of dataframe is 7.48 MB\n",
      "Memory usage after optimization is: 4.63 MB\n",
      "Decreased by 38.1%\n"
     ]
    },
    {
     "name": "stderr",
     "output_type": "stream",
     "text": [
      "100%|██████████| 36/36 [00:07<00:00,  4.97it/s]\n",
      "[I 2024-06-30 16:40:14,587] Trial 105 finished with value: 0.7702428670179563 and parameters: {'lambda': 1.3386740181324901e-06, 'alpha': 0.15385616924075787, 'eta': 0.09856927327381296, 'gamma': 1.1561395721872356e-06, 'max_depth': 9, 'min_child_weight': 0.0033303225480816124, 'subsample': 0.7739309351848236, 'colsample_bytree': 0.5965013156340547, 'colsample_bylevel': 0.9954654327115038, 'colsample_bynode': 0.6274687884632056, 'scale_pos_weight': 1.0789529053779377e-08}. Best is trial 98 with value: 0.7710582446359664.\n"
     ]
    },
    {
     "name": "stdout",
     "output_type": "stream",
     "text": [
      "Score: 0.7702428670179563\n",
      "Fold 1\n",
      "Memory usage of dataframe is 7.48 MB\n",
      "Memory usage after optimization is: 4.63 MB\n",
      "Decreased by 38.1%\n"
     ]
    },
    {
     "name": "stderr",
     "output_type": "stream",
     "text": [
      "100%|██████████| 36/36 [00:07<00:00,  5.09it/s]\n"
     ]
    },
    {
     "name": "stdout",
     "output_type": "stream",
     "text": [
      "Fold 2\n",
      "Memory usage of dataframe is 7.48 MB\n",
      "Memory usage after optimization is: 4.63 MB\n",
      "Decreased by 38.1%\n"
     ]
    },
    {
     "name": "stderr",
     "output_type": "stream",
     "text": [
      "100%|██████████| 36/36 [00:07<00:00,  4.97it/s]\n"
     ]
    },
    {
     "name": "stdout",
     "output_type": "stream",
     "text": [
      "Fold 3\n",
      "Memory usage of dataframe is 7.48 MB\n",
      "Memory usage after optimization is: 4.63 MB\n",
      "Decreased by 38.1%\n"
     ]
    },
    {
     "name": "stderr",
     "output_type": "stream",
     "text": [
      "100%|██████████| 36/36 [00:07<00:00,  4.68it/s]\n"
     ]
    },
    {
     "name": "stdout",
     "output_type": "stream",
     "text": [
      "Fold 4\n",
      "Memory usage of dataframe is 7.48 MB\n",
      "Memory usage after optimization is: 4.63 MB\n",
      "Decreased by 38.1%\n"
     ]
    },
    {
     "name": "stderr",
     "output_type": "stream",
     "text": [
      "100%|██████████| 36/36 [00:07<00:00,  5.02it/s]\n"
     ]
    },
    {
     "name": "stdout",
     "output_type": "stream",
     "text": [
      "Fold 5\n",
      "Memory usage of dataframe is 7.48 MB\n",
      "Memory usage after optimization is: 4.63 MB\n",
      "Decreased by 38.1%\n"
     ]
    },
    {
     "name": "stderr",
     "output_type": "stream",
     "text": [
      "100%|██████████| 36/36 [00:07<00:00,  4.96it/s]\n",
      "[I 2024-06-30 16:40:59,752] Trial 106 finished with value: 0.7677966731109598 and parameters: {'lambda': 1.2995283418290585e-06, 'alpha': 0.21570523294833827, 'eta': 0.15375621159583786, 'gamma': 8.051730418497225e-07, 'max_depth': 9, 'min_child_weight': 0.006416759677244161, 'subsample': 0.7522932168644367, 'colsample_bytree': 0.5521911383364979, 'colsample_bylevel': 0.9765228192410182, 'colsample_bynode': 0.6421053176637637, 'scale_pos_weight': 3.3268303680968205e-08}. Best is trial 98 with value: 0.7710582446359664.\n"
     ]
    },
    {
     "name": "stdout",
     "output_type": "stream",
     "text": [
      "Score: 0.7677966731109598\n",
      "Fold 1\n",
      "Memory usage of dataframe is 7.48 MB\n",
      "Memory usage after optimization is: 4.63 MB\n",
      "Decreased by 38.1%\n"
     ]
    },
    {
     "name": "stderr",
     "output_type": "stream",
     "text": [
      "100%|██████████| 36/36 [00:07<00:00,  5.04it/s]\n"
     ]
    },
    {
     "name": "stdout",
     "output_type": "stream",
     "text": [
      "Fold 2\n",
      "Memory usage of dataframe is 7.48 MB\n",
      "Memory usage after optimization is: 4.63 MB\n",
      "Decreased by 38.1%\n"
     ]
    },
    {
     "name": "stderr",
     "output_type": "stream",
     "text": [
      "100%|██████████| 36/36 [00:07<00:00,  5.01it/s]\n"
     ]
    },
    {
     "name": "stdout",
     "output_type": "stream",
     "text": [
      "Fold 3\n",
      "Memory usage of dataframe is 7.48 MB\n",
      "Memory usage after optimization is: 4.63 MB\n",
      "Decreased by 38.1%\n"
     ]
    },
    {
     "name": "stderr",
     "output_type": "stream",
     "text": [
      "100%|██████████| 36/36 [00:07<00:00,  5.01it/s]\n"
     ]
    },
    {
     "name": "stdout",
     "output_type": "stream",
     "text": [
      "Fold 4\n",
      "Memory usage of dataframe is 7.48 MB\n",
      "Memory usage after optimization is: 4.63 MB\n",
      "Decreased by 38.1%\n"
     ]
    },
    {
     "name": "stderr",
     "output_type": "stream",
     "text": [
      "100%|██████████| 36/36 [00:07<00:00,  5.03it/s]\n"
     ]
    },
    {
     "name": "stdout",
     "output_type": "stream",
     "text": [
      "Fold 5\n",
      "Memory usage of dataframe is 7.48 MB\n",
      "Memory usage after optimization is: 4.63 MB\n",
      "Decreased by 38.1%\n"
     ]
    },
    {
     "name": "stderr",
     "output_type": "stream",
     "text": [
      "100%|██████████| 36/36 [00:07<00:00,  5.04it/s]\n",
      "[I 2024-06-30 16:41:43,750] Trial 107 finished with value: 0.7695880541203403 and parameters: {'lambda': 6.545856994375961e-07, 'alpha': 0.33190665706988737, 'eta': 0.11562539278761748, 'gamma': 5.917832122882802e-07, 'max_depth': 9, 'min_child_weight': 0.011103680250342966, 'subsample': 0.7698058830647664, 'colsample_bytree': 0.608392095394753, 'colsample_bylevel': 0.9625271132037632, 'colsample_bynode': 0.5993416557660948, 'scale_pos_weight': 5.4846294689895916e-08}. Best is trial 98 with value: 0.7710582446359664.\n"
     ]
    },
    {
     "name": "stdout",
     "output_type": "stream",
     "text": [
      "Score: 0.7695880541203403\n",
      "Fold 1\n",
      "Memory usage of dataframe is 7.48 MB\n",
      "Memory usage after optimization is: 4.63 MB\n",
      "Decreased by 38.1%\n"
     ]
    },
    {
     "name": "stderr",
     "output_type": "stream",
     "text": [
      "100%|██████████| 36/36 [00:07<00:00,  5.05it/s]\n"
     ]
    },
    {
     "name": "stdout",
     "output_type": "stream",
     "text": [
      "Fold 2\n",
      "Memory usage of dataframe is 7.48 MB\n",
      "Memory usage after optimization is: 4.63 MB\n",
      "Decreased by 38.1%\n"
     ]
    },
    {
     "name": "stderr",
     "output_type": "stream",
     "text": [
      "100%|██████████| 36/36 [00:07<00:00,  4.86it/s]\n"
     ]
    },
    {
     "name": "stdout",
     "output_type": "stream",
     "text": [
      "Fold 3\n",
      "Memory usage of dataframe is 7.48 MB\n",
      "Memory usage after optimization is: 4.63 MB\n",
      "Decreased by 38.1%\n"
     ]
    },
    {
     "name": "stderr",
     "output_type": "stream",
     "text": [
      "100%|██████████| 36/36 [00:07<00:00,  4.93it/s]\n"
     ]
    },
    {
     "name": "stdout",
     "output_type": "stream",
     "text": [
      "Fold 4\n",
      "Memory usage of dataframe is 7.48 MB\n",
      "Memory usage after optimization is: 4.63 MB\n",
      "Decreased by 38.1%\n"
     ]
    },
    {
     "name": "stderr",
     "output_type": "stream",
     "text": [
      "100%|██████████| 36/36 [00:07<00:00,  5.00it/s]\n"
     ]
    },
    {
     "name": "stdout",
     "output_type": "stream",
     "text": [
      "Fold 5\n",
      "Memory usage of dataframe is 7.48 MB\n",
      "Memory usage after optimization is: 4.63 MB\n",
      "Decreased by 38.1%\n"
     ]
    },
    {
     "name": "stderr",
     "output_type": "stream",
     "text": [
      "100%|██████████| 36/36 [00:07<00:00,  5.09it/s]\n",
      "[I 2024-06-30 16:42:28,130] Trial 108 finished with value: 0.770650572616527 and parameters: {'lambda': 2.947129385021334e-06, 'alpha': 0.4041019916799585, 'eta': 0.10637470207760209, 'gamma': 4.12486080404589e-07, 'max_depth': 9, 'min_child_weight': 0.003783978069690934, 'subsample': 0.7866974515011952, 'colsample_bytree': 0.6175197501049644, 'colsample_bylevel': 0.998932758692421, 'colsample_bynode': 0.5668679562071045, 'scale_pos_weight': 7.521251491166852e-08}. Best is trial 98 with value: 0.7710582446359664.\n"
     ]
    },
    {
     "name": "stdout",
     "output_type": "stream",
     "text": [
      "Score: 0.770650572616527\n",
      "Fold 1\n",
      "Memory usage of dataframe is 7.48 MB\n",
      "Memory usage after optimization is: 4.63 MB\n",
      "Decreased by 38.1%\n"
     ]
    },
    {
     "name": "stderr",
     "output_type": "stream",
     "text": [
      "100%|██████████| 36/36 [00:07<00:00,  5.04it/s]\n"
     ]
    },
    {
     "name": "stdout",
     "output_type": "stream",
     "text": [
      "Fold 2\n",
      "Memory usage of dataframe is 7.48 MB\n",
      "Memory usage after optimization is: 4.63 MB\n",
      "Decreased by 38.1%\n"
     ]
    },
    {
     "name": "stderr",
     "output_type": "stream",
     "text": [
      "100%|██████████| 36/36 [00:07<00:00,  5.00it/s]\n"
     ]
    },
    {
     "name": "stdout",
     "output_type": "stream",
     "text": [
      "Fold 3\n",
      "Memory usage of dataframe is 7.48 MB\n",
      "Memory usage after optimization is: 4.63 MB\n",
      "Decreased by 38.1%\n"
     ]
    },
    {
     "name": "stderr",
     "output_type": "stream",
     "text": [
      "100%|██████████| 36/36 [00:07<00:00,  5.03it/s]\n"
     ]
    },
    {
     "name": "stdout",
     "output_type": "stream",
     "text": [
      "Fold 4\n",
      "Memory usage of dataframe is 7.48 MB\n",
      "Memory usage after optimization is: 4.63 MB\n",
      "Decreased by 38.1%\n"
     ]
    },
    {
     "name": "stderr",
     "output_type": "stream",
     "text": [
      "100%|██████████| 36/36 [00:07<00:00,  5.06it/s]\n"
     ]
    },
    {
     "name": "stdout",
     "output_type": "stream",
     "text": [
      "Fold 5\n",
      "Memory usage of dataframe is 7.48 MB\n",
      "Memory usage after optimization is: 4.63 MB\n",
      "Decreased by 38.1%\n"
     ]
    },
    {
     "name": "stderr",
     "output_type": "stream",
     "text": [
      "100%|██████████| 36/36 [00:07<00:00,  4.98it/s]\n",
      "[I 2024-06-30 16:43:12,127] Trial 109 finished with value: 0.7714412497310044 and parameters: {'lambda': 3.495038448701723e-07, 'alpha': 0.5393510616599133, 'eta': 0.07007571681523529, 'gamma': 3.5704327374418683e-07, 'max_depth': 9, 'min_child_weight': 0.004056858789971937, 'subsample': 0.7970464702361029, 'colsample_bytree': 0.6172666367628586, 'colsample_bylevel': 0.987608647681144, 'colsample_bynode': 0.672267620029627, 'scale_pos_weight': 7.818699374702075e-08}. Best is trial 109 with value: 0.7714412497310044.\n"
     ]
    },
    {
     "name": "stdout",
     "output_type": "stream",
     "text": [
      "Score: 0.7714412497310044\n",
      "Fold 1\n",
      "Memory usage of dataframe is 7.48 MB\n",
      "Memory usage after optimization is: 4.63 MB\n",
      "Decreased by 38.1%\n"
     ]
    },
    {
     "name": "stderr",
     "output_type": "stream",
     "text": [
      "100%|██████████| 36/36 [00:07<00:00,  5.05it/s]\n"
     ]
    },
    {
     "name": "stdout",
     "output_type": "stream",
     "text": [
      "Fold 2\n",
      "Memory usage of dataframe is 7.48 MB\n",
      "Memory usage after optimization is: 4.63 MB\n",
      "Decreased by 38.1%\n"
     ]
    },
    {
     "name": "stderr",
     "output_type": "stream",
     "text": [
      "100%|██████████| 36/36 [00:07<00:00,  5.00it/s]\n"
     ]
    },
    {
     "name": "stdout",
     "output_type": "stream",
     "text": [
      "Fold 3\n",
      "Memory usage of dataframe is 7.48 MB\n",
      "Memory usage after optimization is: 4.63 MB\n",
      "Decreased by 38.1%\n"
     ]
    },
    {
     "name": "stderr",
     "output_type": "stream",
     "text": [
      "100%|██████████| 36/36 [00:07<00:00,  5.02it/s]\n"
     ]
    },
    {
     "name": "stdout",
     "output_type": "stream",
     "text": [
      "Fold 4\n",
      "Memory usage of dataframe is 7.48 MB\n",
      "Memory usage after optimization is: 4.63 MB\n",
      "Decreased by 38.1%\n"
     ]
    },
    {
     "name": "stderr",
     "output_type": "stream",
     "text": [
      "100%|██████████| 36/36 [00:07<00:00,  5.04it/s]\n"
     ]
    },
    {
     "name": "stdout",
     "output_type": "stream",
     "text": [
      "Fold 5\n",
      "Memory usage of dataframe is 7.48 MB\n",
      "Memory usage after optimization is: 4.63 MB\n",
      "Decreased by 38.1%\n"
     ]
    },
    {
     "name": "stderr",
     "output_type": "stream",
     "text": [
      "100%|██████████| 36/36 [00:07<00:00,  5.06it/s]\n",
      "[I 2024-06-30 16:43:56,235] Trial 110 finished with value: 0.7702181314089682 and parameters: {'lambda': 4.2119982063039683e-07, 'alpha': 0.5846412614608659, 'eta': 0.052714450881715204, 'gamma': 4.2671348272355796e-07, 'max_depth': 9, 'min_child_weight': 0.004384863319618528, 'subsample': 0.7788634638466432, 'colsample_bytree': 0.5938094347507312, 'colsample_bylevel': 0.9981586754218811, 'colsample_bynode': 0.6234104974472452, 'scale_pos_weight': 1.7198359306875525e-08}. Best is trial 109 with value: 0.7714412497310044.\n"
     ]
    },
    {
     "name": "stdout",
     "output_type": "stream",
     "text": [
      "Score: 0.7702181314089682\n",
      "Fold 1\n",
      "Memory usage of dataframe is 7.48 MB\n",
      "Memory usage after optimization is: 4.63 MB\n",
      "Decreased by 38.1%\n"
     ]
    },
    {
     "name": "stderr",
     "output_type": "stream",
     "text": [
      "100%|██████████| 36/36 [00:07<00:00,  5.02it/s]\n"
     ]
    },
    {
     "name": "stdout",
     "output_type": "stream",
     "text": [
      "Fold 2\n",
      "Memory usage of dataframe is 7.48 MB\n",
      "Memory usage after optimization is: 4.63 MB\n",
      "Decreased by 38.1%\n"
     ]
    },
    {
     "name": "stderr",
     "output_type": "stream",
     "text": [
      "100%|██████████| 36/36 [00:07<00:00,  5.00it/s]\n"
     ]
    },
    {
     "name": "stdout",
     "output_type": "stream",
     "text": [
      "Fold 3\n",
      "Memory usage of dataframe is 7.48 MB\n",
      "Memory usage after optimization is: 4.63 MB\n",
      "Decreased by 38.1%\n"
     ]
    },
    {
     "name": "stderr",
     "output_type": "stream",
     "text": [
      "100%|██████████| 36/36 [00:07<00:00,  5.02it/s]\n"
     ]
    },
    {
     "name": "stdout",
     "output_type": "stream",
     "text": [
      "Fold 4\n",
      "Memory usage of dataframe is 7.48 MB\n",
      "Memory usage after optimization is: 4.63 MB\n",
      "Decreased by 38.1%\n"
     ]
    },
    {
     "name": "stderr",
     "output_type": "stream",
     "text": [
      "100%|██████████| 36/36 [00:07<00:00,  5.05it/s]\n"
     ]
    },
    {
     "name": "stdout",
     "output_type": "stream",
     "text": [
      "Fold 5\n",
      "Memory usage of dataframe is 7.48 MB\n",
      "Memory usage after optimization is: 4.63 MB\n",
      "Decreased by 38.1%\n"
     ]
    },
    {
     "name": "stderr",
     "output_type": "stream",
     "text": [
      "100%|██████████| 36/36 [00:07<00:00,  5.05it/s]\n",
      "[I 2024-06-30 16:44:40,430] Trial 111 finished with value: 0.7700945853910663 and parameters: {'lambda': 2.113925910708781e-06, 'alpha': 0.5880436927018992, 'eta': 0.09565071514025406, 'gamma': 6.587829119861466e-07, 'max_depth': 9, 'min_child_weight': 0.005750618085520186, 'subsample': 0.8148255962861464, 'colsample_bytree': 0.6332340159792639, 'colsample_bylevel': 0.9788184878176688, 'colsample_bynode': 0.6775453756106576, 'scale_pos_weight': 7.767339964170225e-08}. Best is trial 109 with value: 0.7714412497310044.\n"
     ]
    },
    {
     "name": "stdout",
     "output_type": "stream",
     "text": [
      "Score: 0.7700945853910663\n",
      "Fold 1\n",
      "Memory usage of dataframe is 7.48 MB\n",
      "Memory usage after optimization is: 4.63 MB\n",
      "Decreased by 38.1%\n"
     ]
    },
    {
     "name": "stderr",
     "output_type": "stream",
     "text": [
      "100%|██████████| 36/36 [00:07<00:00,  4.97it/s]\n"
     ]
    },
    {
     "name": "stdout",
     "output_type": "stream",
     "text": [
      "Fold 2\n",
      "Memory usage of dataframe is 7.48 MB\n",
      "Memory usage after optimization is: 4.63 MB\n",
      "Decreased by 38.1%\n"
     ]
    },
    {
     "name": "stderr",
     "output_type": "stream",
     "text": [
      "100%|██████████| 36/36 [00:07<00:00,  5.00it/s]\n"
     ]
    },
    {
     "name": "stdout",
     "output_type": "stream",
     "text": [
      "Fold 3\n",
      "Memory usage of dataframe is 7.48 MB\n",
      "Memory usage after optimization is: 4.63 MB\n",
      "Decreased by 38.1%\n"
     ]
    },
    {
     "name": "stderr",
     "output_type": "stream",
     "text": [
      "100%|██████████| 36/36 [00:07<00:00,  5.12it/s]\n"
     ]
    },
    {
     "name": "stdout",
     "output_type": "stream",
     "text": [
      "Fold 4\n",
      "Memory usage of dataframe is 7.48 MB\n",
      "Memory usage after optimization is: 4.63 MB\n",
      "Decreased by 38.1%\n"
     ]
    },
    {
     "name": "stderr",
     "output_type": "stream",
     "text": [
      "100%|██████████| 36/36 [00:07<00:00,  5.00it/s]\n"
     ]
    },
    {
     "name": "stdout",
     "output_type": "stream",
     "text": [
      "Fold 5\n",
      "Memory usage of dataframe is 7.48 MB\n",
      "Memory usage after optimization is: 4.63 MB\n",
      "Decreased by 38.1%\n"
     ]
    },
    {
     "name": "stderr",
     "output_type": "stream",
     "text": [
      "100%|██████████| 36/36 [00:07<00:00,  5.01it/s]\n",
      "[I 2024-06-30 16:45:24,717] Trial 112 finished with value: 0.7708358775248816 and parameters: {'lambda': 2.5458022901841315e-07, 'alpha': 0.3246799893834064, 'eta': 0.06924720833864047, 'gamma': 2.602314776880485e-07, 'max_depth': 9, 'min_child_weight': 0.0034910423546142782, 'subsample': 0.7891923107323526, 'colsample_bytree': 0.6141184158876147, 'colsample_bylevel': 0.9932181073222229, 'colsample_bynode': 0.6918265406558936, 'scale_pos_weight': 2.6290418468974826e-08}. Best is trial 109 with value: 0.7714412497310044.\n"
     ]
    },
    {
     "name": "stdout",
     "output_type": "stream",
     "text": [
      "Score: 0.7708358775248816\n",
      "Fold 1\n",
      "Memory usage of dataframe is 7.48 MB\n",
      "Memory usage after optimization is: 4.63 MB\n",
      "Decreased by 38.1%\n"
     ]
    },
    {
     "name": "stderr",
     "output_type": "stream",
     "text": [
      "100%|██████████| 36/36 [00:07<00:00,  4.95it/s]\n"
     ]
    },
    {
     "name": "stdout",
     "output_type": "stream",
     "text": [
      "Fold 2\n",
      "Memory usage of dataframe is 7.48 MB\n",
      "Memory usage after optimization is: 4.63 MB\n",
      "Decreased by 38.1%\n"
     ]
    },
    {
     "name": "stderr",
     "output_type": "stream",
     "text": [
      "100%|██████████| 36/36 [00:07<00:00,  5.05it/s]\n"
     ]
    },
    {
     "name": "stdout",
     "output_type": "stream",
     "text": [
      "Fold 3\n",
      "Memory usage of dataframe is 7.48 MB\n",
      "Memory usage after optimization is: 4.63 MB\n",
      "Decreased by 38.1%\n"
     ]
    },
    {
     "name": "stderr",
     "output_type": "stream",
     "text": [
      "100%|██████████| 36/36 [00:07<00:00,  5.07it/s]\n"
     ]
    },
    {
     "name": "stdout",
     "output_type": "stream",
     "text": [
      "Fold 4\n",
      "Memory usage of dataframe is 7.48 MB\n",
      "Memory usage after optimization is: 4.63 MB\n",
      "Decreased by 38.1%\n"
     ]
    },
    {
     "name": "stderr",
     "output_type": "stream",
     "text": [
      "100%|██████████| 36/36 [00:07<00:00,  5.01it/s]\n"
     ]
    },
    {
     "name": "stdout",
     "output_type": "stream",
     "text": [
      "Fold 5\n",
      "Memory usage of dataframe is 7.48 MB\n",
      "Memory usage after optimization is: 4.63 MB\n",
      "Decreased by 38.1%\n"
     ]
    },
    {
     "name": "stderr",
     "output_type": "stream",
     "text": [
      "100%|██████████| 36/36 [00:07<00:00,  5.02it/s]\n",
      "[I 2024-06-30 16:46:09,173] Trial 113 finished with value: 0.7708482430398894 and parameters: {'lambda': 1.6399661846844472e-07, 'alpha': 0.34585726429211694, 'eta': 0.06702392165014877, 'gamma': 1.1759288463867274e-06, 'max_depth': 9, 'min_child_weight': 0.003179842803850916, 'subsample': 0.7830386133330156, 'colsample_bytree': 0.6202109271899762, 'colsample_bylevel': 0.9892147088034188, 'colsample_bynode': 0.6941490314337369, 'scale_pos_weight': 3.141465075649382e-08}. Best is trial 109 with value: 0.7714412497310044.\n"
     ]
    },
    {
     "name": "stdout",
     "output_type": "stream",
     "text": [
      "Score: 0.7708482430398894\n",
      "Fold 1\n",
      "Memory usage of dataframe is 7.48 MB\n",
      "Memory usage after optimization is: 4.63 MB\n",
      "Decreased by 38.1%\n"
     ]
    },
    {
     "name": "stderr",
     "output_type": "stream",
     "text": [
      "100%|██████████| 36/36 [00:07<00:00,  5.01it/s]\n"
     ]
    },
    {
     "name": "stdout",
     "output_type": "stream",
     "text": [
      "Fold 2\n",
      "Memory usage of dataframe is 7.48 MB\n",
      "Memory usage after optimization is: 4.63 MB\n",
      "Decreased by 38.1%\n"
     ]
    },
    {
     "name": "stderr",
     "output_type": "stream",
     "text": [
      "100%|██████████| 36/36 [00:07<00:00,  5.05it/s]\n"
     ]
    },
    {
     "name": "stdout",
     "output_type": "stream",
     "text": [
      "Fold 3\n",
      "Memory usage of dataframe is 7.48 MB\n",
      "Memory usage after optimization is: 4.63 MB\n",
      "Decreased by 38.1%\n"
     ]
    },
    {
     "name": "stderr",
     "output_type": "stream",
     "text": [
      "100%|██████████| 36/36 [00:07<00:00,  4.92it/s]\n"
     ]
    },
    {
     "name": "stdout",
     "output_type": "stream",
     "text": [
      "Fold 4\n",
      "Memory usage of dataframe is 7.48 MB\n",
      "Memory usage after optimization is: 4.63 MB\n",
      "Decreased by 38.1%\n"
     ]
    },
    {
     "name": "stderr",
     "output_type": "stream",
     "text": [
      "100%|██████████| 36/36 [00:07<00:00,  4.93it/s]\n"
     ]
    },
    {
     "name": "stdout",
     "output_type": "stream",
     "text": [
      "Fold 5\n",
      "Memory usage of dataframe is 7.48 MB\n",
      "Memory usage after optimization is: 4.63 MB\n",
      "Decreased by 38.1%\n"
     ]
    },
    {
     "name": "stderr",
     "output_type": "stream",
     "text": [
      "100%|██████████| 36/36 [00:07<00:00,  4.97it/s]\n",
      "[I 2024-06-30 16:46:53,573] Trial 114 finished with value: 0.7707370320105124 and parameters: {'lambda': 2.1548120515919494e-07, 'alpha': 0.9663890570533802, 'eta': 0.07244074877889996, 'gamma': 2.9849300921117106e-07, 'max_depth': 9, 'min_child_weight': 0.002263873886670681, 'subsample': 0.7988901462787363, 'colsample_bytree': 0.6211259702175354, 'colsample_bylevel': 0.9897901620822337, 'colsample_bynode': 0.7000915293340659, 'scale_pos_weight': 3.1694959181470467e-08}. Best is trial 109 with value: 0.7714412497310044.\n"
     ]
    },
    {
     "name": "stdout",
     "output_type": "stream",
     "text": [
      "Score: 0.7707370320105124\n",
      "Fold 1\n",
      "Memory usage of dataframe is 7.48 MB\n",
      "Memory usage after optimization is: 4.63 MB\n",
      "Decreased by 38.1%\n"
     ]
    },
    {
     "name": "stderr",
     "output_type": "stream",
     "text": [
      "100%|██████████| 36/36 [00:07<00:00,  5.03it/s]\n"
     ]
    },
    {
     "name": "stdout",
     "output_type": "stream",
     "text": [
      "Fold 2\n",
      "Memory usage of dataframe is 7.48 MB\n",
      "Memory usage after optimization is: 4.63 MB\n",
      "Decreased by 38.1%\n"
     ]
    },
    {
     "name": "stderr",
     "output_type": "stream",
     "text": [
      "100%|██████████| 36/36 [00:07<00:00,  5.01it/s]\n"
     ]
    },
    {
     "name": "stdout",
     "output_type": "stream",
     "text": [
      "Fold 3\n",
      "Memory usage of dataframe is 7.48 MB\n",
      "Memory usage after optimization is: 4.63 MB\n",
      "Decreased by 38.1%\n"
     ]
    },
    {
     "name": "stderr",
     "output_type": "stream",
     "text": [
      "100%|██████████| 36/36 [00:07<00:00,  5.01it/s]\n"
     ]
    },
    {
     "name": "stdout",
     "output_type": "stream",
     "text": [
      "Fold 4\n",
      "Memory usage of dataframe is 7.48 MB\n",
      "Memory usage after optimization is: 4.63 MB\n",
      "Decreased by 38.1%\n"
     ]
    },
    {
     "name": "stderr",
     "output_type": "stream",
     "text": [
      "100%|██████████| 36/36 [00:07<00:00,  5.01it/s]\n"
     ]
    },
    {
     "name": "stdout",
     "output_type": "stream",
     "text": [
      "Fold 5\n",
      "Memory usage of dataframe is 7.48 MB\n",
      "Memory usage after optimization is: 4.63 MB\n",
      "Decreased by 38.1%\n"
     ]
    },
    {
     "name": "stderr",
     "output_type": "stream",
     "text": [
      "100%|██████████| 36/36 [00:07<00:00,  5.04it/s]\n",
      "[I 2024-06-30 16:47:37,800] Trial 115 finished with value: 0.7702057788677157 and parameters: {'lambda': 1.6614510007900936e-07, 'alpha': 0.7092254835112932, 'eta': 0.06961717732982507, 'gamma': 1.749128962113864e-06, 'max_depth': 9, 'min_child_weight': 0.0021921544535098625, 'subsample': 0.7865138630625801, 'colsample_bytree': 0.619028670389654, 'colsample_bylevel': 0.990305095313177, 'colsample_bynode': 0.6965732185480381, 'scale_pos_weight': 2.657190869513576e-08}. Best is trial 109 with value: 0.7714412497310044.\n"
     ]
    },
    {
     "name": "stdout",
     "output_type": "stream",
     "text": [
      "Score: 0.7702057788677157\n",
      "Fold 1\n",
      "Memory usage of dataframe is 7.48 MB\n",
      "Memory usage after optimization is: 4.63 MB\n",
      "Decreased by 38.1%\n"
     ]
    },
    {
     "name": "stderr",
     "output_type": "stream",
     "text": [
      "100%|██████████| 36/36 [00:07<00:00,  5.00it/s]\n"
     ]
    },
    {
     "name": "stdout",
     "output_type": "stream",
     "text": [
      "Fold 2\n",
      "Memory usage of dataframe is 7.48 MB\n",
      "Memory usage after optimization is: 4.63 MB\n",
      "Decreased by 38.1%\n"
     ]
    },
    {
     "name": "stderr",
     "output_type": "stream",
     "text": [
      "100%|██████████| 36/36 [00:07<00:00,  5.02it/s]\n"
     ]
    },
    {
     "name": "stdout",
     "output_type": "stream",
     "text": [
      "Fold 3\n",
      "Memory usage of dataframe is 7.48 MB\n",
      "Memory usage after optimization is: 4.63 MB\n",
      "Decreased by 38.1%\n"
     ]
    },
    {
     "name": "stderr",
     "output_type": "stream",
     "text": [
      "100%|██████████| 36/36 [00:07<00:00,  5.03it/s]\n"
     ]
    },
    {
     "name": "stdout",
     "output_type": "stream",
     "text": [
      "Fold 4\n",
      "Memory usage of dataframe is 7.48 MB\n",
      "Memory usage after optimization is: 4.63 MB\n",
      "Decreased by 38.1%\n"
     ]
    },
    {
     "name": "stderr",
     "output_type": "stream",
     "text": [
      "100%|██████████| 36/36 [00:07<00:00,  5.09it/s]\n"
     ]
    },
    {
     "name": "stdout",
     "output_type": "stream",
     "text": [
      "Fold 5\n",
      "Memory usage of dataframe is 7.48 MB\n",
      "Memory usage after optimization is: 4.63 MB\n",
      "Decreased by 38.1%\n"
     ]
    },
    {
     "name": "stderr",
     "output_type": "stream",
     "text": [
      "100%|██████████| 36/36 [00:07<00:00,  4.99it/s]\n",
      "[I 2024-06-30 16:48:22,474] Trial 116 finished with value: 0.7704405488887499 and parameters: {'lambda': 1.1140584787378917e-07, 'alpha': 0.4289060157637303, 'eta': 0.060875694938330706, 'gamma': 1.179161561122576e-06, 'max_depth': 9, 'min_child_weight': 0.008923108979725236, 'subsample': 0.7913607879060989, 'colsample_bytree': 0.6188541198437156, 'colsample_bylevel': 0.9918843217333181, 'colsample_bynode': 0.6930231397076125, 'scale_pos_weight': 1.4852668195431256e-08}. Best is trial 109 with value: 0.7714412497310044.\n"
     ]
    },
    {
     "name": "stdout",
     "output_type": "stream",
     "text": [
      "Score: 0.7704405488887499\n",
      "Fold 1\n",
      "Memory usage of dataframe is 7.48 MB\n",
      "Memory usage after optimization is: 4.63 MB\n",
      "Decreased by 38.1%\n"
     ]
    },
    {
     "name": "stderr",
     "output_type": "stream",
     "text": [
      "100%|██████████| 36/36 [00:07<00:00,  5.06it/s]\n"
     ]
    },
    {
     "name": "stdout",
     "output_type": "stream",
     "text": [
      "Fold 2\n",
      "Memory usage of dataframe is 7.48 MB\n",
      "Memory usage after optimization is: 4.63 MB\n",
      "Decreased by 38.1%\n"
     ]
    },
    {
     "name": "stderr",
     "output_type": "stream",
     "text": [
      "100%|██████████| 36/36 [00:07<00:00,  5.00it/s]\n"
     ]
    },
    {
     "name": "stdout",
     "output_type": "stream",
     "text": [
      "Fold 3\n",
      "Memory usage of dataframe is 7.48 MB\n",
      "Memory usage after optimization is: 4.63 MB\n",
      "Decreased by 38.1%\n"
     ]
    },
    {
     "name": "stderr",
     "output_type": "stream",
     "text": [
      "100%|██████████| 36/36 [00:07<00:00,  4.98it/s]\n"
     ]
    },
    {
     "name": "stdout",
     "output_type": "stream",
     "text": [
      "Fold 4\n",
      "Memory usage of dataframe is 7.48 MB\n",
      "Memory usage after optimization is: 4.63 MB\n",
      "Decreased by 38.1%\n"
     ]
    },
    {
     "name": "stderr",
     "output_type": "stream",
     "text": [
      "100%|██████████| 36/36 [00:07<00:00,  5.01it/s]\n"
     ]
    },
    {
     "name": "stdout",
     "output_type": "stream",
     "text": [
      "Fold 5\n",
      "Memory usage of dataframe is 7.48 MB\n",
      "Memory usage after optimization is: 4.63 MB\n",
      "Decreased by 38.1%\n"
     ]
    },
    {
     "name": "stderr",
     "output_type": "stream",
     "text": [
      "100%|██████████| 36/36 [00:07<00:00,  4.95it/s]\n",
      "[I 2024-06-30 16:49:06,835] Trial 117 finished with value: 0.7704158170955722 and parameters: {'lambda': 2.598790188914274e-07, 'alpha': 0.8502966737172192, 'eta': 0.07156137143837618, 'gamma': 2.4907876494460296e-07, 'max_depth': 9, 'min_child_weight': 0.016350671853508223, 'subsample': 0.7639178480690042, 'colsample_bytree': 0.6509869035415004, 'colsample_bylevel': 0.9862500004948213, 'colsample_bynode': 0.7111222457427306, 'scale_pos_weight': 4.196610426101645e-08}. Best is trial 109 with value: 0.7714412497310044.\n"
     ]
    },
    {
     "name": "stdout",
     "output_type": "stream",
     "text": [
      "Score: 0.7704158170955722\n",
      "Fold 1\n",
      "Memory usage of dataframe is 7.48 MB\n",
      "Memory usage after optimization is: 4.63 MB\n",
      "Decreased by 38.1%\n"
     ]
    },
    {
     "name": "stderr",
     "output_type": "stream",
     "text": [
      "100%|██████████| 36/36 [00:07<00:00,  5.05it/s]\n"
     ]
    },
    {
     "name": "stdout",
     "output_type": "stream",
     "text": [
      "Fold 2\n",
      "Memory usage of dataframe is 7.48 MB\n",
      "Memory usage after optimization is: 4.63 MB\n",
      "Decreased by 38.1%\n"
     ]
    },
    {
     "name": "stderr",
     "output_type": "stream",
     "text": [
      "100%|██████████| 36/36 [00:07<00:00,  5.04it/s]\n"
     ]
    },
    {
     "name": "stdout",
     "output_type": "stream",
     "text": [
      "Fold 3\n",
      "Memory usage of dataframe is 7.48 MB\n",
      "Memory usage after optimization is: 4.63 MB\n",
      "Decreased by 38.1%\n"
     ]
    },
    {
     "name": "stderr",
     "output_type": "stream",
     "text": [
      "100%|██████████| 36/36 [00:07<00:00,  5.11it/s]\n"
     ]
    },
    {
     "name": "stdout",
     "output_type": "stream",
     "text": [
      "Fold 4\n",
      "Memory usage of dataframe is 7.48 MB\n",
      "Memory usage after optimization is: 4.63 MB\n",
      "Decreased by 38.1%\n"
     ]
    },
    {
     "name": "stderr",
     "output_type": "stream",
     "text": [
      "100%|██████████| 36/36 [00:07<00:00,  5.02it/s]\n"
     ]
    },
    {
     "name": "stdout",
     "output_type": "stream",
     "text": [
      "Fold 5\n",
      "Memory usage of dataframe is 7.48 MB\n",
      "Memory usage after optimization is: 4.63 MB\n",
      "Decreased by 38.1%\n"
     ]
    },
    {
     "name": "stderr",
     "output_type": "stream",
     "text": [
      "100%|██████████| 36/36 [00:07<00:00,  5.01it/s]\n",
      "[I 2024-06-30 16:49:51,355] Trial 118 finished with value: 0.7703540452313643 and parameters: {'lambda': 1.1142822354231615e-07, 'alpha': 0.32303357540767536, 'eta': 0.049679275542004665, 'gamma': 7.052141724087814e-07, 'max_depth': 9, 'min_child_weight': 0.005554489317665949, 'subsample': 0.8329113335746776, 'colsample_bytree': 0.6317093432420552, 'colsample_bylevel': 0.9985657491982813, 'colsample_bynode': 0.6890206461578509, 'scale_pos_weight': 2.542991323857513e-08}. Best is trial 109 with value: 0.7714412497310044.\n"
     ]
    },
    {
     "name": "stdout",
     "output_type": "stream",
     "text": [
      "Score: 0.7703540452313643\n",
      "Fold 1\n",
      "Memory usage of dataframe is 7.48 MB\n",
      "Memory usage after optimization is: 4.63 MB\n",
      "Decreased by 38.1%\n"
     ]
    },
    {
     "name": "stderr",
     "output_type": "stream",
     "text": [
      "100%|██████████| 36/36 [00:07<00:00,  5.03it/s]\n"
     ]
    },
    {
     "name": "stdout",
     "output_type": "stream",
     "text": [
      "Fold 2\n",
      "Memory usage of dataframe is 7.48 MB\n",
      "Memory usage after optimization is: 4.63 MB\n",
      "Decreased by 38.1%\n"
     ]
    },
    {
     "name": "stderr",
     "output_type": "stream",
     "text": [
      "100%|██████████| 36/36 [00:07<00:00,  5.02it/s]\n"
     ]
    },
    {
     "name": "stdout",
     "output_type": "stream",
     "text": [
      "Fold 3\n",
      "Memory usage of dataframe is 7.48 MB\n",
      "Memory usage after optimization is: 4.63 MB\n",
      "Decreased by 38.1%\n"
     ]
    },
    {
     "name": "stderr",
     "output_type": "stream",
     "text": [
      "100%|██████████| 36/36 [00:07<00:00,  5.06it/s]\n"
     ]
    },
    {
     "name": "stdout",
     "output_type": "stream",
     "text": [
      "Fold 4\n",
      "Memory usage of dataframe is 7.48 MB\n",
      "Memory usage after optimization is: 4.63 MB\n",
      "Decreased by 38.1%\n"
     ]
    },
    {
     "name": "stderr",
     "output_type": "stream",
     "text": [
      "100%|██████████| 36/36 [00:07<00:00,  5.07it/s]\n"
     ]
    },
    {
     "name": "stdout",
     "output_type": "stream",
     "text": [
      "Fold 5\n",
      "Memory usage of dataframe is 7.48 MB\n",
      "Memory usage after optimization is: 4.63 MB\n",
      "Decreased by 38.1%\n"
     ]
    },
    {
     "name": "stderr",
     "output_type": "stream",
     "text": [
      "100%|██████████| 36/36 [00:07<00:00,  4.96it/s]\n",
      "[I 2024-06-30 16:50:35,170] Trial 119 finished with value: 0.7703416881111392 and parameters: {'lambda': 9.150938254319702e-07, 'alpha': 0.995456637820177, 'eta': 0.05926647482239542, 'gamma': 5.151508362195287e-07, 'max_depth': 9, 'min_child_weight': 0.001973020803845818, 'subsample': 0.7823787427525493, 'colsample_bytree': 0.6039168963241315, 'colsample_bylevel': 0.968062616759097, 'colsample_bynode': 0.7210920377491833, 'scale_pos_weight': 5.1544264486429687e-08}. Best is trial 109 with value: 0.7714412497310044.\n"
     ]
    },
    {
     "name": "stdout",
     "output_type": "stream",
     "text": [
      "Score: 0.7703416881111392\n",
      "Fold 1\n",
      "Memory usage of dataframe is 7.48 MB\n",
      "Memory usage after optimization is: 4.63 MB\n",
      "Decreased by 38.1%\n"
     ]
    },
    {
     "name": "stderr",
     "output_type": "stream",
     "text": [
      "100%|██████████| 36/36 [00:07<00:00,  5.07it/s]\n"
     ]
    },
    {
     "name": "stdout",
     "output_type": "stream",
     "text": [
      "Fold 2\n",
      "Memory usage of dataframe is 7.48 MB\n",
      "Memory usage after optimization is: 4.63 MB\n",
      "Decreased by 38.1%\n"
     ]
    },
    {
     "name": "stderr",
     "output_type": "stream",
     "text": [
      "100%|██████████| 36/36 [00:07<00:00,  5.07it/s]\n"
     ]
    },
    {
     "name": "stdout",
     "output_type": "stream",
     "text": [
      "Fold 3\n",
      "Memory usage of dataframe is 7.48 MB\n",
      "Memory usage after optimization is: 4.63 MB\n",
      "Decreased by 38.1%\n"
     ]
    },
    {
     "name": "stderr",
     "output_type": "stream",
     "text": [
      "100%|██████████| 36/36 [00:07<00:00,  5.03it/s]\n"
     ]
    },
    {
     "name": "stdout",
     "output_type": "stream",
     "text": [
      "Fold 4\n",
      "Memory usage of dataframe is 7.48 MB\n",
      "Memory usage after optimization is: 4.63 MB\n",
      "Decreased by 38.1%\n"
     ]
    },
    {
     "name": "stderr",
     "output_type": "stream",
     "text": [
      "100%|██████████| 36/36 [00:07<00:00,  5.03it/s]\n"
     ]
    },
    {
     "name": "stdout",
     "output_type": "stream",
     "text": [
      "Fold 5\n",
      "Memory usage of dataframe is 7.48 MB\n",
      "Memory usage after optimization is: 4.63 MB\n",
      "Decreased by 38.1%\n"
     ]
    },
    {
     "name": "stderr",
     "output_type": "stream",
     "text": [
      "100%|██████████| 36/36 [00:07<00:00,  5.01it/s]\n",
      "[I 2024-06-30 16:51:19,677] Trial 120 finished with value: 0.770106972274612 and parameters: {'lambda': 5.608461262047133e-07, 'alpha': 0.42126763014293744, 'eta': 0.0772201540337919, 'gamma': 1.322174617254886e-06, 'max_depth': 9, 'min_child_weight': 0.025553013502332734, 'subsample': 0.799449744359407, 'colsample_bytree': 0.614480236077452, 'colsample_bylevel': 0.9745847528970164, 'colsample_bynode': 0.6706457768364429, 'scale_pos_weight': 1.5949867075178996e-08}. Best is trial 109 with value: 0.7714412497310044.\n"
     ]
    },
    {
     "name": "stdout",
     "output_type": "stream",
     "text": [
      "Score: 0.770106972274612\n",
      "Fold 1\n",
      "Memory usage of dataframe is 7.48 MB\n",
      "Memory usage after optimization is: 4.63 MB\n",
      "Decreased by 38.1%\n"
     ]
    },
    {
     "name": "stderr",
     "output_type": "stream",
     "text": [
      "100%|██████████| 36/36 [00:07<00:00,  5.04it/s]\n"
     ]
    },
    {
     "name": "stdout",
     "output_type": "stream",
     "text": [
      "Fold 2\n",
      "Memory usage of dataframe is 7.48 MB\n",
      "Memory usage after optimization is: 4.63 MB\n",
      "Decreased by 38.1%\n"
     ]
    },
    {
     "name": "stderr",
     "output_type": "stream",
     "text": [
      "100%|██████████| 36/36 [00:07<00:00,  5.05it/s]\n"
     ]
    },
    {
     "name": "stdout",
     "output_type": "stream",
     "text": [
      "Fold 3\n",
      "Memory usage of dataframe is 7.48 MB\n",
      "Memory usage after optimization is: 4.63 MB\n",
      "Decreased by 38.1%\n"
     ]
    },
    {
     "name": "stderr",
     "output_type": "stream",
     "text": [
      "100%|██████████| 36/36 [00:07<00:00,  5.02it/s]\n"
     ]
    },
    {
     "name": "stdout",
     "output_type": "stream",
     "text": [
      "Fold 4\n",
      "Memory usage of dataframe is 7.48 MB\n",
      "Memory usage after optimization is: 4.63 MB\n",
      "Decreased by 38.1%\n"
     ]
    },
    {
     "name": "stderr",
     "output_type": "stream",
     "text": [
      "100%|██████████| 36/36 [00:07<00:00,  5.01it/s]\n"
     ]
    },
    {
     "name": "stdout",
     "output_type": "stream",
     "text": [
      "Fold 5\n",
      "Memory usage of dataframe is 7.48 MB\n",
      "Memory usage after optimization is: 4.63 MB\n",
      "Decreased by 38.1%\n"
     ]
    },
    {
     "name": "stderr",
     "output_type": "stream",
     "text": [
      "100%|██████████| 36/36 [00:07<00:00,  4.98it/s]\n",
      "[I 2024-06-30 16:52:03,929] Trial 121 finished with value: 0.7705887961733466 and parameters: {'lambda': 1.171326157295895e-07, 'alpha': 0.504998995797847, 'eta': 0.06432503608500557, 'gamma': 1.0585306063102124e-06, 'max_depth': 9, 'min_child_weight': 0.009632016248874713, 'subsample': 0.7984616222615382, 'colsample_bytree': 0.6225918273749723, 'colsample_bylevel': 0.9995239093172787, 'colsample_bynode': 0.6961827889467939, 'scale_pos_weight': 1.852194671896769e-08}. Best is trial 109 with value: 0.7714412497310044.\n"
     ]
    },
    {
     "name": "stdout",
     "output_type": "stream",
     "text": [
      "Score: 0.7705887961733466\n",
      "Fold 1\n",
      "Memory usage of dataframe is 7.48 MB\n",
      "Memory usage after optimization is: 4.63 MB\n",
      "Decreased by 38.1%\n"
     ]
    },
    {
     "name": "stderr",
     "output_type": "stream",
     "text": [
      "100%|██████████| 36/36 [00:07<00:00,  5.01it/s]\n"
     ]
    },
    {
     "name": "stdout",
     "output_type": "stream",
     "text": [
      "Fold 2\n",
      "Memory usage of dataframe is 7.48 MB\n",
      "Memory usage after optimization is: 4.63 MB\n",
      "Decreased by 38.1%\n"
     ]
    },
    {
     "name": "stderr",
     "output_type": "stream",
     "text": [
      "100%|██████████| 36/36 [00:07<00:00,  4.99it/s]\n"
     ]
    },
    {
     "name": "stdout",
     "output_type": "stream",
     "text": [
      "Fold 3\n",
      "Memory usage of dataframe is 7.48 MB\n",
      "Memory usage after optimization is: 4.63 MB\n",
      "Decreased by 38.1%\n"
     ]
    },
    {
     "name": "stderr",
     "output_type": "stream",
     "text": [
      "100%|██████████| 36/36 [00:07<00:00,  5.00it/s]\n"
     ]
    },
    {
     "name": "stdout",
     "output_type": "stream",
     "text": [
      "Fold 4\n",
      "Memory usage of dataframe is 7.48 MB\n",
      "Memory usage after optimization is: 4.63 MB\n",
      "Decreased by 38.1%\n"
     ]
    },
    {
     "name": "stderr",
     "output_type": "stream",
     "text": [
      "100%|██████████| 36/36 [00:07<00:00,  5.05it/s]\n"
     ]
    },
    {
     "name": "stdout",
     "output_type": "stream",
     "text": [
      "Fold 5\n",
      "Memory usage of dataframe is 7.48 MB\n",
      "Memory usage after optimization is: 4.63 MB\n",
      "Decreased by 38.1%\n"
     ]
    },
    {
     "name": "stderr",
     "output_type": "stream",
     "text": [
      "100%|██████████| 36/36 [00:07<00:00,  5.02it/s]\n",
      "[I 2024-06-30 16:52:49,091] Trial 122 finished with value: 0.7704281726894731 and parameters: {'lambda': 3.352519103130875e-07, 'alpha': 0.6559306737167307, 'eta': 0.05493771767688656, 'gamma': 8.82160168048461e-07, 'max_depth': 9, 'min_child_weight': 0.009560759766602582, 'subsample': 0.7643441752832583, 'colsample_bytree': 0.6447917132060107, 'colsample_bylevel': 0.9997845733131628, 'colsample_bynode': 0.7034345475068963, 'scale_pos_weight': 3.99830927216671e-08}. Best is trial 109 with value: 0.7714412497310044.\n"
     ]
    },
    {
     "name": "stdout",
     "output_type": "stream",
     "text": [
      "Score: 0.7704281726894731\n",
      "Fold 1\n",
      "Memory usage of dataframe is 7.48 MB\n",
      "Memory usage after optimization is: 4.63 MB\n",
      "Decreased by 38.1%\n"
     ]
    },
    {
     "name": "stderr",
     "output_type": "stream",
     "text": [
      "100%|██████████| 36/36 [00:07<00:00,  5.02it/s]\n"
     ]
    },
    {
     "name": "stdout",
     "output_type": "stream",
     "text": [
      "Fold 2\n",
      "Memory usage of dataframe is 7.48 MB\n",
      "Memory usage after optimization is: 4.63 MB\n",
      "Decreased by 38.1%\n"
     ]
    },
    {
     "name": "stderr",
     "output_type": "stream",
     "text": [
      "100%|██████████| 36/36 [00:07<00:00,  5.02it/s]\n"
     ]
    },
    {
     "name": "stdout",
     "output_type": "stream",
     "text": [
      "Fold 3\n",
      "Memory usage of dataframe is 7.48 MB\n",
      "Memory usage after optimization is: 4.63 MB\n",
      "Decreased by 38.1%\n"
     ]
    },
    {
     "name": "stderr",
     "output_type": "stream",
     "text": [
      "100%|██████████| 36/36 [00:07<00:00,  5.03it/s]\n"
     ]
    },
    {
     "name": "stdout",
     "output_type": "stream",
     "text": [
      "Fold 4\n",
      "Memory usage of dataframe is 7.48 MB\n",
      "Memory usage after optimization is: 4.63 MB\n",
      "Decreased by 38.1%\n"
     ]
    },
    {
     "name": "stderr",
     "output_type": "stream",
     "text": [
      "100%|██████████| 36/36 [00:07<00:00,  5.00it/s]\n"
     ]
    },
    {
     "name": "stdout",
     "output_type": "stream",
     "text": [
      "Fold 5\n",
      "Memory usage of dataframe is 7.48 MB\n",
      "Memory usage after optimization is: 4.63 MB\n",
      "Decreased by 38.1%\n"
     ]
    },
    {
     "name": "stderr",
     "output_type": "stream",
     "text": [
      "100%|██████████| 36/36 [00:07<00:00,  5.03it/s]\n",
      "[I 2024-06-30 16:53:33,512] Trial 123 finished with value: 0.7700698887033438 and parameters: {'lambda': 2.628609639439808e-07, 'alpha': 0.4018571786624071, 'eta': 0.06658615495404499, 'gamma': 1.9267903658902664e-06, 'max_depth': 9, 'min_child_weight': 0.0068509779461911145, 'subsample': 0.802451458831062, 'colsample_bytree': 0.6266308727438764, 'colsample_bylevel': 0.9842366903683608, 'colsample_bynode': 0.7178863167633861, 'scale_pos_weight': 1.1184693742594654e-08}. Best is trial 109 with value: 0.7714412497310044.\n"
     ]
    },
    {
     "name": "stdout",
     "output_type": "stream",
     "text": [
      "Score: 0.7700698887033438\n",
      "Fold 1\n",
      "Memory usage of dataframe is 7.48 MB\n",
      "Memory usage after optimization is: 4.63 MB\n",
      "Decreased by 38.1%\n"
     ]
    },
    {
     "name": "stderr",
     "output_type": "stream",
     "text": [
      "100%|██████████| 36/36 [00:07<00:00,  5.07it/s]\n"
     ]
    },
    {
     "name": "stdout",
     "output_type": "stream",
     "text": [
      "Fold 2\n",
      "Memory usage of dataframe is 7.48 MB\n",
      "Memory usage after optimization is: 4.63 MB\n",
      "Decreased by 38.1%\n"
     ]
    },
    {
     "name": "stderr",
     "output_type": "stream",
     "text": [
      "100%|██████████| 36/36 [00:07<00:00,  4.97it/s]\n"
     ]
    },
    {
     "name": "stdout",
     "output_type": "stream",
     "text": [
      "Fold 3\n",
      "Memory usage of dataframe is 7.48 MB\n",
      "Memory usage after optimization is: 4.63 MB\n",
      "Decreased by 38.1%\n"
     ]
    },
    {
     "name": "stderr",
     "output_type": "stream",
     "text": [
      "100%|██████████| 36/36 [00:07<00:00,  4.97it/s]\n"
     ]
    },
    {
     "name": "stdout",
     "output_type": "stream",
     "text": [
      "Fold 4\n",
      "Memory usage of dataframe is 7.48 MB\n",
      "Memory usage after optimization is: 4.63 MB\n",
      "Decreased by 38.1%\n"
     ]
    },
    {
     "name": "stderr",
     "output_type": "stream",
     "text": [
      "100%|██████████| 36/36 [00:07<00:00,  5.00it/s]\n"
     ]
    },
    {
     "name": "stdout",
     "output_type": "stream",
     "text": [
      "Fold 5\n",
      "Memory usage of dataframe is 7.48 MB\n",
      "Memory usage after optimization is: 4.63 MB\n",
      "Decreased by 38.1%\n"
     ]
    },
    {
     "name": "stderr",
     "output_type": "stream",
     "text": [
      "100%|██████████| 36/36 [00:07<00:00,  5.03it/s]\n",
      "[I 2024-06-30 16:54:18,254] Trial 124 finished with value: 0.7693039273556406 and parameters: {'lambda': 1.212349215858593e-07, 'alpha': 0.31346285483287895, 'eta': 0.0440901781871668, 'gamma': 2.5729923157644247e-06, 'max_depth': 9, 'min_child_weight': 0.003585968771677736, 'subsample': 0.7529091342049409, 'colsample_bytree': 0.5990483479804141, 'colsample_bylevel': 0.961679474995774, 'colsample_bynode': 0.6867018070403794, 'scale_pos_weight': 2.3588999583485776e-08}. Best is trial 109 with value: 0.7714412497310044.\n"
     ]
    },
    {
     "name": "stdout",
     "output_type": "stream",
     "text": [
      "Score: 0.7693039273556406\n",
      "Fold 1\n",
      "Memory usage of dataframe is 7.48 MB\n",
      "Memory usage after optimization is: 4.63 MB\n",
      "Decreased by 38.1%\n"
     ]
    },
    {
     "name": "stderr",
     "output_type": "stream",
     "text": [
      "100%|██████████| 36/36 [00:07<00:00,  5.00it/s]\n"
     ]
    },
    {
     "name": "stdout",
     "output_type": "stream",
     "text": [
      "Fold 2\n",
      "Memory usage of dataframe is 7.48 MB\n",
      "Memory usage after optimization is: 4.63 MB\n",
      "Decreased by 38.1%\n"
     ]
    },
    {
     "name": "stderr",
     "output_type": "stream",
     "text": [
      "100%|██████████| 36/36 [00:07<00:00,  4.97it/s]\n"
     ]
    },
    {
     "name": "stdout",
     "output_type": "stream",
     "text": [
      "Fold 3\n",
      "Memory usage of dataframe is 7.48 MB\n",
      "Memory usage after optimization is: 4.63 MB\n",
      "Decreased by 38.1%\n"
     ]
    },
    {
     "name": "stderr",
     "output_type": "stream",
     "text": [
      "100%|██████████| 36/36 [00:07<00:00,  5.05it/s]\n"
     ]
    },
    {
     "name": "stdout",
     "output_type": "stream",
     "text": [
      "Fold 4\n",
      "Memory usage of dataframe is 7.48 MB\n",
      "Memory usage after optimization is: 4.63 MB\n",
      "Decreased by 38.1%\n"
     ]
    },
    {
     "name": "stderr",
     "output_type": "stream",
     "text": [
      "100%|██████████| 36/36 [00:07<00:00,  5.07it/s]\n"
     ]
    },
    {
     "name": "stdout",
     "output_type": "stream",
     "text": [
      "Fold 5\n",
      "Memory usage of dataframe is 7.48 MB\n",
      "Memory usage after optimization is: 4.63 MB\n",
      "Decreased by 38.1%\n"
     ]
    },
    {
     "name": "stderr",
     "output_type": "stream",
     "text": [
      "100%|██████████| 36/36 [00:07<00:00,  4.91it/s]\n",
      "[I 2024-06-30 16:55:03,160] Trial 125 finished with value: 0.7705146244518378 and parameters: {'lambda': 7.112857774175013e-08, 'alpha': 0.6688074368280263, 'eta': 0.0732291290647218, 'gamma': 3.864734916707921e-07, 'max_depth': 9, 'min_child_weight': 0.0012299630172951193, 'subsample': 0.7852433135309337, 'colsample_bytree': 0.6373532551714589, 'colsample_bylevel': 0.9892828490565989, 'colsample_bynode': 0.736896994629421, 'scale_pos_weight': 6.321709028821924e-08}. Best is trial 109 with value: 0.7714412497310044.\n"
     ]
    },
    {
     "name": "stdout",
     "output_type": "stream",
     "text": [
      "Score: 0.7705146244518378\n",
      "Fold 1\n",
      "Memory usage of dataframe is 7.48 MB\n",
      "Memory usage after optimization is: 4.63 MB\n",
      "Decreased by 38.1%\n"
     ]
    },
    {
     "name": "stderr",
     "output_type": "stream",
     "text": [
      "100%|██████████| 36/36 [00:07<00:00,  4.94it/s]\n"
     ]
    },
    {
     "name": "stdout",
     "output_type": "stream",
     "text": [
      "Fold 2\n",
      "Memory usage of dataframe is 7.48 MB\n",
      "Memory usage after optimization is: 4.63 MB\n",
      "Decreased by 38.1%\n"
     ]
    },
    {
     "name": "stderr",
     "output_type": "stream",
     "text": [
      "100%|██████████| 36/36 [00:07<00:00,  5.06it/s]\n"
     ]
    },
    {
     "name": "stdout",
     "output_type": "stream",
     "text": [
      "Fold 3\n",
      "Memory usage of dataframe is 7.48 MB\n",
      "Memory usage after optimization is: 4.63 MB\n",
      "Decreased by 38.1%\n"
     ]
    },
    {
     "name": "stderr",
     "output_type": "stream",
     "text": [
      "100%|██████████| 36/36 [00:07<00:00,  4.99it/s]\n"
     ]
    },
    {
     "name": "stdout",
     "output_type": "stream",
     "text": [
      "Fold 4\n",
      "Memory usage of dataframe is 7.48 MB\n",
      "Memory usage after optimization is: 4.63 MB\n",
      "Decreased by 38.1%\n"
     ]
    },
    {
     "name": "stderr",
     "output_type": "stream",
     "text": [
      "100%|██████████| 36/36 [00:07<00:00,  4.99it/s]\n"
     ]
    },
    {
     "name": "stdout",
     "output_type": "stream",
     "text": [
      "Fold 5\n",
      "Memory usage of dataframe is 7.48 MB\n",
      "Memory usage after optimization is: 4.63 MB\n",
      "Decreased by 38.1%\n"
     ]
    },
    {
     "name": "stderr",
     "output_type": "stream",
     "text": [
      "100%|██████████| 36/36 [00:07<00:00,  4.91it/s]\n",
      "[I 2024-06-30 16:55:48,832] Trial 126 finished with value: 0.770403470659616 and parameters: {'lambda': 6.851563959833508e-08, 'alpha': 0.7664385561657124, 'eta': 0.07228245217542807, 'gamma': 2.8068898612603774e-07, 'max_depth': 9, 'min_child_weight': 0.0013752269111848374, 'subsample': 0.7835871603954918, 'colsample_bytree': 0.6637274769633007, 'colsample_bylevel': 0.9883550376738213, 'colsample_bynode': 0.7380584092184218, 'scale_pos_weight': 6.239577631432459e-08}. Best is trial 109 with value: 0.7714412497310044.\n"
     ]
    },
    {
     "name": "stdout",
     "output_type": "stream",
     "text": [
      "Score: 0.770403470659616\n",
      "Fold 1\n",
      "Memory usage of dataframe is 7.48 MB\n",
      "Memory usage after optimization is: 4.63 MB\n",
      "Decreased by 38.1%\n"
     ]
    },
    {
     "name": "stderr",
     "output_type": "stream",
     "text": [
      "100%|██████████| 36/36 [00:07<00:00,  4.93it/s]\n"
     ]
    },
    {
     "name": "stdout",
     "output_type": "stream",
     "text": [
      "Fold 2\n",
      "Memory usage of dataframe is 7.48 MB\n",
      "Memory usage after optimization is: 4.63 MB\n",
      "Decreased by 38.1%\n"
     ]
    },
    {
     "name": "stderr",
     "output_type": "stream",
     "text": [
      "100%|██████████| 36/36 [00:07<00:00,  5.05it/s]\n"
     ]
    },
    {
     "name": "stdout",
     "output_type": "stream",
     "text": [
      "Fold 3\n",
      "Memory usage of dataframe is 7.48 MB\n",
      "Memory usage after optimization is: 4.63 MB\n",
      "Decreased by 38.1%\n"
     ]
    },
    {
     "name": "stderr",
     "output_type": "stream",
     "text": [
      "100%|██████████| 36/36 [00:07<00:00,  5.00it/s]\n"
     ]
    },
    {
     "name": "stdout",
     "output_type": "stream",
     "text": [
      "Fold 4\n",
      "Memory usage of dataframe is 7.48 MB\n",
      "Memory usage after optimization is: 4.63 MB\n",
      "Decreased by 38.1%\n"
     ]
    },
    {
     "name": "stderr",
     "output_type": "stream",
     "text": [
      "100%|██████████| 36/36 [00:06<00:00,  5.23it/s]\n"
     ]
    },
    {
     "name": "stdout",
     "output_type": "stream",
     "text": [
      "Fold 5\n",
      "Memory usage of dataframe is 7.48 MB\n",
      "Memory usage after optimization is: 4.63 MB\n",
      "Decreased by 38.1%\n"
     ]
    },
    {
     "name": "stderr",
     "output_type": "stream",
     "text": [
      "100%|██████████| 36/36 [00:06<00:00,  5.19it/s]\n",
      "[I 2024-06-30 16:56:33,977] Trial 127 finished with value: 0.7708235265099532 and parameters: {'lambda': 6.272764375630057e-08, 'alpha': 0.20770045494047631, 'eta': 0.06307172288748385, 'gamma': 4.112365047336618e-07, 'max_depth': 9, 'min_child_weight': 0.002387434187352929, 'subsample': 0.8101753094398757, 'colsample_bytree': 0.6387197019618505, 'colsample_bylevel': 0.9790159728261681, 'colsample_bynode': 0.7116477765319473, 'scale_pos_weight': 3.3252658877785786e-08}. Best is trial 109 with value: 0.7714412497310044.\n"
     ]
    },
    {
     "name": "stdout",
     "output_type": "stream",
     "text": [
      "Score: 0.7708235265099532\n",
      "Fold 1\n",
      "Memory usage of dataframe is 7.48 MB\n",
      "Memory usage after optimization is: 4.63 MB\n",
      "Decreased by 38.1%\n"
     ]
    },
    {
     "name": "stderr",
     "output_type": "stream",
     "text": [
      "100%|██████████| 36/36 [00:06<00:00,  5.21it/s]\n"
     ]
    },
    {
     "name": "stdout",
     "output_type": "stream",
     "text": [
      "Fold 2\n",
      "Memory usage of dataframe is 7.48 MB\n",
      "Memory usage after optimization is: 4.63 MB\n",
      "Decreased by 38.1%\n"
     ]
    },
    {
     "name": "stderr",
     "output_type": "stream",
     "text": [
      "100%|██████████| 36/36 [00:06<00:00,  5.25it/s]\n"
     ]
    },
    {
     "name": "stdout",
     "output_type": "stream",
     "text": [
      "Fold 3\n",
      "Memory usage of dataframe is 7.48 MB\n",
      "Memory usage after optimization is: 4.63 MB\n",
      "Decreased by 38.1%\n"
     ]
    },
    {
     "name": "stderr",
     "output_type": "stream",
     "text": [
      "100%|██████████| 36/36 [00:06<00:00,  5.27it/s]\n"
     ]
    },
    {
     "name": "stdout",
     "output_type": "stream",
     "text": [
      "Fold 4\n",
      "Memory usage of dataframe is 7.48 MB\n",
      "Memory usage after optimization is: 4.63 MB\n",
      "Decreased by 38.1%\n"
     ]
    },
    {
     "name": "stderr",
     "output_type": "stream",
     "text": [
      "100%|██████████| 36/36 [00:06<00:00,  5.17it/s]\n"
     ]
    },
    {
     "name": "stdout",
     "output_type": "stream",
     "text": [
      "Fold 5\n",
      "Memory usage of dataframe is 7.48 MB\n",
      "Memory usage after optimization is: 4.63 MB\n",
      "Decreased by 38.1%\n"
     ]
    },
    {
     "name": "stderr",
     "output_type": "stream",
     "text": [
      "100%|██████████| 36/36 [00:06<00:00,  5.28it/s]\n",
      "[I 2024-06-30 16:57:16,917] Trial 128 finished with value: 0.7698475040395314 and parameters: {'lambda': 4.963676024826587e-07, 'alpha': 0.10954919047485945, 'eta': 0.049400012429935046, 'gamma': 5.691675292306514e-07, 'max_depth': 9, 'min_child_weight': 0.002345324315400149, 'subsample': 0.8001591136583598, 'colsample_bytree': 0.6491310645797186, 'colsample_bylevel': 0.9743351640233514, 'colsample_bynode': 0.6971217601496598, 'scale_pos_weight': 1.7135354721265956e-08}. Best is trial 109 with value: 0.7714412497310044.\n"
     ]
    },
    {
     "name": "stdout",
     "output_type": "stream",
     "text": [
      "Score: 0.7698475040395314\n",
      "Fold 1\n",
      "Memory usage of dataframe is 7.48 MB\n",
      "Memory usage after optimization is: 4.63 MB\n",
      "Decreased by 38.1%\n"
     ]
    },
    {
     "name": "stderr",
     "output_type": "stream",
     "text": [
      "100%|██████████| 36/36 [00:06<00:00,  5.28it/s]\n"
     ]
    },
    {
     "name": "stdout",
     "output_type": "stream",
     "text": [
      "Fold 2\n",
      "Memory usage of dataframe is 7.48 MB\n",
      "Memory usage after optimization is: 4.63 MB\n",
      "Decreased by 38.1%\n"
     ]
    },
    {
     "name": "stderr",
     "output_type": "stream",
     "text": [
      "100%|██████████| 36/36 [00:06<00:00,  5.26it/s]\n"
     ]
    },
    {
     "name": "stdout",
     "output_type": "stream",
     "text": [
      "Fold 3\n",
      "Memory usage of dataframe is 7.48 MB\n",
      "Memory usage after optimization is: 4.63 MB\n",
      "Decreased by 38.1%\n"
     ]
    },
    {
     "name": "stderr",
     "output_type": "stream",
     "text": [
      "100%|██████████| 36/36 [00:06<00:00,  5.30it/s]\n"
     ]
    },
    {
     "name": "stdout",
     "output_type": "stream",
     "text": [
      "Fold 4\n",
      "Memory usage of dataframe is 7.48 MB\n",
      "Memory usage after optimization is: 4.63 MB\n",
      "Decreased by 38.1%\n"
     ]
    },
    {
     "name": "stderr",
     "output_type": "stream",
     "text": [
      "100%|██████████| 36/36 [00:06<00:00,  5.27it/s]\n"
     ]
    },
    {
     "name": "stdout",
     "output_type": "stream",
     "text": [
      "Fold 5\n",
      "Memory usage of dataframe is 7.48 MB\n",
      "Memory usage after optimization is: 4.63 MB\n",
      "Decreased by 38.1%\n"
     ]
    },
    {
     "name": "stderr",
     "output_type": "stream",
     "text": [
      "100%|██████████| 36/36 [00:06<00:00,  5.31it/s]\n",
      "[I 2024-06-30 16:57:58,981] Trial 129 finished with value: 0.7700945998911457 and parameters: {'lambda': 7.400683559298943e-07, 'alpha': 0.22310870628094503, 'eta': 0.05989994875945686, 'gamma': 1.4300119198559982e-06, 'max_depth': 9, 'min_child_weight': 0.005216469633375034, 'subsample': 0.8249109654297511, 'colsample_bytree': 0.6143940821533871, 'colsample_bylevel': 0.9446748725240498, 'colsample_bynode': 0.7099775772668326, 'scale_pos_weight': 3.2676619208557865e-08}. Best is trial 109 with value: 0.7714412497310044.\n"
     ]
    },
    {
     "name": "stdout",
     "output_type": "stream",
     "text": [
      "Score: 0.7700945998911457\n",
      "Fold 1\n",
      "Memory usage of dataframe is 7.48 MB\n",
      "Memory usage after optimization is: 4.63 MB\n",
      "Decreased by 38.1%\n"
     ]
    },
    {
     "name": "stderr",
     "output_type": "stream",
     "text": [
      "100%|██████████| 36/36 [00:06<00:00,  5.35it/s]\n"
     ]
    },
    {
     "name": "stdout",
     "output_type": "stream",
     "text": [
      "Fold 2\n",
      "Memory usage of dataframe is 7.48 MB\n",
      "Memory usage after optimization is: 4.63 MB\n",
      "Decreased by 38.1%\n"
     ]
    },
    {
     "name": "stderr",
     "output_type": "stream",
     "text": [
      "100%|██████████| 36/36 [00:06<00:00,  5.30it/s]\n"
     ]
    },
    {
     "name": "stdout",
     "output_type": "stream",
     "text": [
      "Fold 3\n",
      "Memory usage of dataframe is 7.48 MB\n",
      "Memory usage after optimization is: 4.63 MB\n",
      "Decreased by 38.1%\n"
     ]
    },
    {
     "name": "stderr",
     "output_type": "stream",
     "text": [
      "100%|██████████| 36/36 [00:06<00:00,  5.30it/s]\n"
     ]
    },
    {
     "name": "stdout",
     "output_type": "stream",
     "text": [
      "Fold 4\n",
      "Memory usage of dataframe is 7.48 MB\n",
      "Memory usage after optimization is: 4.63 MB\n",
      "Decreased by 38.1%\n"
     ]
    },
    {
     "name": "stderr",
     "output_type": "stream",
     "text": [
      "100%|██████████| 36/36 [00:06<00:00,  5.27it/s]\n"
     ]
    },
    {
     "name": "stdout",
     "output_type": "stream",
     "text": [
      "Fold 5\n",
      "Memory usage of dataframe is 7.48 MB\n",
      "Memory usage after optimization is: 4.63 MB\n",
      "Decreased by 38.1%\n"
     ]
    },
    {
     "name": "stderr",
     "output_type": "stream",
     "text": [
      "100%|██████████| 36/36 [00:06<00:00,  5.17it/s]\n",
      "[I 2024-06-30 16:58:41,101] Trial 130 finished with value: 0.7705640689591414 and parameters: {'lambda': 2.9596872503157924e-07, 'alpha': 0.19272984084594133, 'eta': 0.10624030158805671, 'gamma': 3.45195108688015e-06, 'max_depth': 9, 'min_child_weight': 0.0008362818824810747, 'subsample': 0.809495917376188, 'colsample_bytree': 0.6598714710949117, 'colsample_bylevel': 0.9791704761633928, 'colsample_bynode': 0.6795875360571549, 'scale_pos_weight': 2.1733947265432304e-08}. Best is trial 109 with value: 0.7714412497310044.\n"
     ]
    },
    {
     "name": "stdout",
     "output_type": "stream",
     "text": [
      "Score: 0.7705640689591414\n",
      "Fold 1\n",
      "Memory usage of dataframe is 7.48 MB\n",
      "Memory usage after optimization is: 4.63 MB\n",
      "Decreased by 38.1%\n"
     ]
    },
    {
     "name": "stderr",
     "output_type": "stream",
     "text": [
      "100%|██████████| 36/36 [00:06<00:00,  5.19it/s]\n"
     ]
    },
    {
     "name": "stdout",
     "output_type": "stream",
     "text": [
      "Fold 2\n",
      "Memory usage of dataframe is 7.48 MB\n",
      "Memory usage after optimization is: 4.63 MB\n",
      "Decreased by 38.1%\n"
     ]
    },
    {
     "name": "stderr",
     "output_type": "stream",
     "text": [
      "100%|██████████| 36/36 [00:06<00:00,  5.27it/s]\n"
     ]
    },
    {
     "name": "stdout",
     "output_type": "stream",
     "text": [
      "Fold 3\n",
      "Memory usage of dataframe is 7.48 MB\n",
      "Memory usage after optimization is: 4.63 MB\n",
      "Decreased by 38.1%\n"
     ]
    },
    {
     "name": "stderr",
     "output_type": "stream",
     "text": [
      "100%|██████████| 36/36 [00:06<00:00,  5.25it/s]\n"
     ]
    },
    {
     "name": "stdout",
     "output_type": "stream",
     "text": [
      "Fold 4\n",
      "Memory usage of dataframe is 7.48 MB\n",
      "Memory usage after optimization is: 4.63 MB\n",
      "Decreased by 38.1%\n"
     ]
    },
    {
     "name": "stderr",
     "output_type": "stream",
     "text": [
      "100%|██████████| 36/36 [00:06<00:00,  5.25it/s]\n"
     ]
    },
    {
     "name": "stdout",
     "output_type": "stream",
     "text": [
      "Fold 5\n",
      "Memory usage of dataframe is 7.48 MB\n",
      "Memory usage after optimization is: 4.63 MB\n",
      "Decreased by 38.1%\n"
     ]
    },
    {
     "name": "stderr",
     "output_type": "stream",
     "text": [
      "100%|██████████| 36/36 [00:06<00:00,  5.28it/s]\n",
      "[I 2024-06-30 16:59:23,748] Trial 131 finished with value: 0.7696374772591059 and parameters: {'lambda': 2.6144506566447924e-07, 'alpha': 0.1709814784560922, 'eta': 0.11045602434109933, 'gamma': 9.167409222590082e-07, 'max_depth': 9, 'min_child_weight': 0.0009101903293948127, 'subsample': 0.8158284527858964, 'colsample_bytree': 0.6592916293403495, 'colsample_bylevel': 0.9787838641622677, 'colsample_bynode': 0.6811941846295273, 'scale_pos_weight': 4.859873982697399e-08}. Best is trial 109 with value: 0.7714412497310044.\n"
     ]
    },
    {
     "name": "stdout",
     "output_type": "stream",
     "text": [
      "Score: 0.7696374772591059\n",
      "Fold 1\n",
      "Memory usage of dataframe is 7.48 MB\n",
      "Memory usage after optimization is: 4.63 MB\n",
      "Decreased by 38.1%\n"
     ]
    },
    {
     "name": "stderr",
     "output_type": "stream",
     "text": [
      "100%|██████████| 36/36 [00:06<00:00,  5.27it/s]\n"
     ]
    },
    {
     "name": "stdout",
     "output_type": "stream",
     "text": [
      "Fold 2\n",
      "Memory usage of dataframe is 7.48 MB\n",
      "Memory usage after optimization is: 4.63 MB\n",
      "Decreased by 38.1%\n"
     ]
    },
    {
     "name": "stderr",
     "output_type": "stream",
     "text": [
      "100%|██████████| 36/36 [00:06<00:00,  5.25it/s]\n"
     ]
    },
    {
     "name": "stdout",
     "output_type": "stream",
     "text": [
      "Fold 3\n",
      "Memory usage of dataframe is 7.48 MB\n",
      "Memory usage after optimization is: 4.63 MB\n",
      "Decreased by 38.1%\n"
     ]
    },
    {
     "name": "stderr",
     "output_type": "stream",
     "text": [
      "100%|██████████| 36/36 [00:07<00:00,  5.12it/s]\n"
     ]
    },
    {
     "name": "stdout",
     "output_type": "stream",
     "text": [
      "Fold 4\n",
      "Memory usage of dataframe is 7.48 MB\n",
      "Memory usage after optimization is: 4.63 MB\n",
      "Decreased by 38.1%\n"
     ]
    },
    {
     "name": "stderr",
     "output_type": "stream",
     "text": [
      "100%|██████████| 36/36 [00:06<00:00,  5.28it/s]\n"
     ]
    },
    {
     "name": "stdout",
     "output_type": "stream",
     "text": [
      "Fold 5\n",
      "Memory usage of dataframe is 7.48 MB\n",
      "Memory usage after optimization is: 4.63 MB\n",
      "Decreased by 38.1%\n"
     ]
    },
    {
     "name": "stderr",
     "output_type": "stream",
     "text": [
      "100%|██████████| 36/36 [00:06<00:00,  5.30it/s]\n",
      "[I 2024-06-30 17:00:05,606] Trial 132 finished with value: 0.7701934362475701 and parameters: {'lambda': 1.8454795931262396e-07, 'alpha': 0.4218463626808523, 'eta': 0.08371461384500457, 'gamma': 4.141206022690868e-06, 'max_depth': 9, 'min_child_weight': 0.0028401087145982886, 'subsample': 0.8085390045767227, 'colsample_bytree': 0.6258063361184387, 'colsample_bylevel': 0.9987528887825154, 'colsample_bynode': 0.6645441672653428, 'scale_pos_weight': 2.1828842910631545e-08}. Best is trial 109 with value: 0.7714412497310044.\n"
     ]
    },
    {
     "name": "stdout",
     "output_type": "stream",
     "text": [
      "Score: 0.7701934362475701\n",
      "Fold 1\n",
      "Memory usage of dataframe is 7.48 MB\n",
      "Memory usage after optimization is: 4.63 MB\n",
      "Decreased by 38.1%\n"
     ]
    },
    {
     "name": "stderr",
     "output_type": "stream",
     "text": [
      "100%|██████████| 36/36 [00:06<00:00,  5.34it/s]\n"
     ]
    },
    {
     "name": "stdout",
     "output_type": "stream",
     "text": [
      "Fold 2\n",
      "Memory usage of dataframe is 7.48 MB\n",
      "Memory usage after optimization is: 4.63 MB\n",
      "Decreased by 38.1%\n"
     ]
    },
    {
     "name": "stderr",
     "output_type": "stream",
     "text": [
      "100%|██████████| 36/36 [00:06<00:00,  5.30it/s]\n"
     ]
    },
    {
     "name": "stdout",
     "output_type": "stream",
     "text": [
      "Fold 3\n",
      "Memory usage of dataframe is 7.48 MB\n",
      "Memory usage after optimization is: 4.63 MB\n",
      "Decreased by 38.1%\n"
     ]
    },
    {
     "name": "stderr",
     "output_type": "stream",
     "text": [
      "100%|██████████| 36/36 [00:06<00:00,  5.34it/s]\n"
     ]
    },
    {
     "name": "stdout",
     "output_type": "stream",
     "text": [
      "Fold 4\n",
      "Memory usage of dataframe is 7.48 MB\n",
      "Memory usage after optimization is: 4.63 MB\n",
      "Decreased by 38.1%\n"
     ]
    },
    {
     "name": "stderr",
     "output_type": "stream",
     "text": [
      "100%|██████████| 36/36 [00:06<00:00,  5.24it/s]\n"
     ]
    },
    {
     "name": "stdout",
     "output_type": "stream",
     "text": [
      "Fold 5\n",
      "Memory usage of dataframe is 7.48 MB\n",
      "Memory usage after optimization is: 4.63 MB\n",
      "Decreased by 38.1%\n"
     ]
    },
    {
     "name": "stderr",
     "output_type": "stream",
     "text": [
      "100%|██████████| 36/36 [00:06<00:00,  5.23it/s]\n",
      "[I 2024-06-30 17:00:47,755] Trial 133 finished with value: 0.771404174554519 and parameters: {'lambda': 8.529284744638614e-07, 'alpha': 0.30981583787387384, 'eta': 0.0647726310076985, 'gamma': 2.735751484424978e-07, 'max_depth': 9, 'min_child_weight': 0.0018219735370822454, 'subsample': 0.7914246015733932, 'colsample_bytree': 0.6341854472156989, 'colsample_bylevel': 0.9649366478868731, 'colsample_bynode': 0.7175346926145404, 'scale_pos_weight': 1.0752386283333685e-08}. Best is trial 109 with value: 0.7714412497310044.\n"
     ]
    },
    {
     "name": "stdout",
     "output_type": "stream",
     "text": [
      "Score: 0.771404174554519\n",
      "Fold 1\n",
      "Memory usage of dataframe is 7.48 MB\n",
      "Memory usage after optimization is: 4.63 MB\n",
      "Decreased by 38.1%\n"
     ]
    },
    {
     "name": "stderr",
     "output_type": "stream",
     "text": [
      "100%|██████████| 36/36 [00:06<00:00,  5.28it/s]\n"
     ]
    },
    {
     "name": "stdout",
     "output_type": "stream",
     "text": [
      "Fold 2\n",
      "Memory usage of dataframe is 7.48 MB\n",
      "Memory usage after optimization is: 4.63 MB\n",
      "Decreased by 38.1%\n"
     ]
    },
    {
     "name": "stderr",
     "output_type": "stream",
     "text": [
      "100%|██████████| 36/36 [00:06<00:00,  5.22it/s]\n"
     ]
    },
    {
     "name": "stdout",
     "output_type": "stream",
     "text": [
      "Fold 3\n",
      "Memory usage of dataframe is 7.48 MB\n",
      "Memory usage after optimization is: 4.63 MB\n",
      "Decreased by 38.1%\n"
     ]
    },
    {
     "name": "stderr",
     "output_type": "stream",
     "text": [
      "100%|██████████| 36/36 [00:06<00:00,  5.19it/s]\n"
     ]
    },
    {
     "name": "stdout",
     "output_type": "stream",
     "text": [
      "Fold 4\n",
      "Memory usage of dataframe is 7.48 MB\n",
      "Memory usage after optimization is: 4.63 MB\n",
      "Decreased by 38.1%\n"
     ]
    },
    {
     "name": "stderr",
     "output_type": "stream",
     "text": [
      "100%|██████████| 36/36 [00:06<00:00,  5.26it/s]\n"
     ]
    },
    {
     "name": "stdout",
     "output_type": "stream",
     "text": [
      "Fold 5\n",
      "Memory usage of dataframe is 7.48 MB\n",
      "Memory usage after optimization is: 4.63 MB\n",
      "Decreased by 38.1%\n"
     ]
    },
    {
     "name": "stderr",
     "output_type": "stream",
     "text": [
      "100%|██████████| 36/36 [00:06<00:00,  5.19it/s]\n",
      "[I 2024-06-30 17:01:30,059] Trial 134 finished with value: 0.7697610087769285 and parameters: {'lambda': 1.0474395054342223e-06, 'alpha': 0.30137102325719534, 'eta': 0.0658267944459726, 'gamma': 2.302246157118608e-07, 'max_depth': 9, 'min_child_weight': 0.004135706909219345, 'subsample': 0.7736270065430222, 'colsample_bytree': 0.6380920073481908, 'colsample_bylevel': 0.9675894640837938, 'colsample_bynode': 0.7279683255681416, 'scale_pos_weight': 1.0114764010054699e-08}. Best is trial 109 with value: 0.7714412497310044.\n"
     ]
    },
    {
     "name": "stdout",
     "output_type": "stream",
     "text": [
      "Score: 0.7697610087769285\n",
      "Fold 1\n",
      "Memory usage of dataframe is 7.48 MB\n",
      "Memory usage after optimization is: 4.63 MB\n",
      "Decreased by 38.1%\n"
     ]
    },
    {
     "name": "stderr",
     "output_type": "stream",
     "text": [
      "100%|██████████| 36/36 [00:06<00:00,  5.17it/s]\n"
     ]
    },
    {
     "name": "stdout",
     "output_type": "stream",
     "text": [
      "Fold 2\n",
      "Memory usage of dataframe is 7.48 MB\n",
      "Memory usage after optimization is: 4.63 MB\n",
      "Decreased by 38.1%\n"
     ]
    },
    {
     "name": "stderr",
     "output_type": "stream",
     "text": [
      "100%|██████████| 36/36 [00:06<00:00,  5.31it/s]\n"
     ]
    },
    {
     "name": "stdout",
     "output_type": "stream",
     "text": [
      "Fold 3\n",
      "Memory usage of dataframe is 7.48 MB\n",
      "Memory usage after optimization is: 4.63 MB\n",
      "Decreased by 38.1%\n"
     ]
    },
    {
     "name": "stderr",
     "output_type": "stream",
     "text": [
      "100%|██████████| 36/36 [00:06<00:00,  5.30it/s]\n"
     ]
    },
    {
     "name": "stdout",
     "output_type": "stream",
     "text": [
      "Fold 4\n",
      "Memory usage of dataframe is 7.48 MB\n",
      "Memory usage after optimization is: 4.63 MB\n",
      "Decreased by 38.1%\n"
     ]
    },
    {
     "name": "stderr",
     "output_type": "stream",
     "text": [
      "100%|██████████| 36/36 [00:06<00:00,  5.32it/s]\n"
     ]
    },
    {
     "name": "stdout",
     "output_type": "stream",
     "text": [
      "Fold 5\n",
      "Memory usage of dataframe is 7.48 MB\n",
      "Memory usage after optimization is: 4.63 MB\n",
      "Decreased by 38.1%\n"
     ]
    },
    {
     "name": "stderr",
     "output_type": "stream",
     "text": [
      "100%|██████████| 36/36 [00:06<00:00,  5.33it/s]\n",
      "[I 2024-06-30 17:02:12,081] Trial 135 finished with value: 0.7703911165920394 and parameters: {'lambda': 4.1911476399967815e-07, 'alpha': 0.49976826788993045, 'eta': 0.05609334542120902, 'gamma': 1.5854731548467466e-07, 'max_depth': 9, 'min_child_weight': 0.0016976785698428626, 'subsample': 0.7921828369300379, 'colsample_bytree': 0.6081301441079778, 'colsample_bylevel': 0.9610740255268354, 'colsample_bynode': 0.7204980320270616, 'scale_pos_weight': 1.4471114368058155e-08}. Best is trial 109 with value: 0.7714412497310044.\n"
     ]
    },
    {
     "name": "stdout",
     "output_type": "stream",
     "text": [
      "Score: 0.7703911165920394\n",
      "Fold 1\n",
      "Memory usage of dataframe is 7.48 MB\n",
      "Memory usage after optimization is: 4.63 MB\n",
      "Decreased by 38.1%\n"
     ]
    },
    {
     "name": "stderr",
     "output_type": "stream",
     "text": [
      "100%|██████████| 36/36 [00:06<00:00,  5.27it/s]\n"
     ]
    },
    {
     "name": "stdout",
     "output_type": "stream",
     "text": [
      "Fold 2\n",
      "Memory usage of dataframe is 7.48 MB\n",
      "Memory usage after optimization is: 4.63 MB\n",
      "Decreased by 38.1%\n"
     ]
    },
    {
     "name": "stderr",
     "output_type": "stream",
     "text": [
      "100%|██████████| 36/36 [00:06<00:00,  5.31it/s]\n"
     ]
    },
    {
     "name": "stdout",
     "output_type": "stream",
     "text": [
      "Fold 3\n",
      "Memory usage of dataframe is 7.48 MB\n",
      "Memory usage after optimization is: 4.63 MB\n",
      "Decreased by 38.1%\n"
     ]
    },
    {
     "name": "stderr",
     "output_type": "stream",
     "text": [
      "100%|██████████| 36/36 [00:06<00:00,  5.16it/s]\n"
     ]
    },
    {
     "name": "stdout",
     "output_type": "stream",
     "text": [
      "Fold 4\n",
      "Memory usage of dataframe is 7.48 MB\n",
      "Memory usage after optimization is: 4.63 MB\n",
      "Decreased by 38.1%\n"
     ]
    },
    {
     "name": "stderr",
     "output_type": "stream",
     "text": [
      "100%|██████████| 36/36 [00:06<00:00,  5.26it/s]\n"
     ]
    },
    {
     "name": "stdout",
     "output_type": "stream",
     "text": [
      "Fold 5\n",
      "Memory usage of dataframe is 7.48 MB\n",
      "Memory usage after optimization is: 4.63 MB\n",
      "Decreased by 38.1%\n"
     ]
    },
    {
     "name": "stderr",
     "output_type": "stream",
     "text": [
      "100%|██████████| 36/36 [00:07<00:00,  5.11it/s]\n",
      "[I 2024-06-30 17:02:54,766] Trial 136 finished with value: 0.7706011471882751 and parameters: {'lambda': 4.857212544422999e-07, 'alpha': 0.10016211984596823, 'eta': 0.0631000338006863, 'gamma': 3.964662807158544e-07, 'max_depth': 9, 'min_child_weight': 0.012297021673195895, 'subsample': 0.761191886336295, 'colsample_bytree': 0.6261760165897766, 'colsample_bylevel': 0.9509186048333433, 'colsample_bynode': 0.7021710884805488, 'scale_pos_weight': 3.426827765440104e-08}. Best is trial 109 with value: 0.7714412497310044.\n"
     ]
    },
    {
     "name": "stdout",
     "output_type": "stream",
     "text": [
      "Score: 0.7706011471882751\n",
      "Fold 1\n",
      "Memory usage of dataframe is 7.48 MB\n",
      "Memory usage after optimization is: 4.63 MB\n",
      "Decreased by 38.1%\n"
     ]
    },
    {
     "name": "stderr",
     "output_type": "stream",
     "text": [
      "100%|██████████| 36/36 [00:06<00:00,  5.19it/s]\n"
     ]
    },
    {
     "name": "stdout",
     "output_type": "stream",
     "text": [
      "Fold 2\n",
      "Memory usage of dataframe is 7.48 MB\n",
      "Memory usage after optimization is: 4.63 MB\n",
      "Decreased by 38.1%\n"
     ]
    },
    {
     "name": "stderr",
     "output_type": "stream",
     "text": [
      "100%|██████████| 36/36 [00:07<00:00,  5.03it/s]\n"
     ]
    },
    {
     "name": "stdout",
     "output_type": "stream",
     "text": [
      "Fold 3\n",
      "Memory usage of dataframe is 7.48 MB\n",
      "Memory usage after optimization is: 4.63 MB\n",
      "Decreased by 38.1%\n"
     ]
    },
    {
     "name": "stderr",
     "output_type": "stream",
     "text": [
      "100%|██████████| 36/36 [00:07<00:00,  5.08it/s]\n"
     ]
    },
    {
     "name": "stdout",
     "output_type": "stream",
     "text": [
      "Fold 4\n",
      "Memory usage of dataframe is 7.48 MB\n",
      "Memory usage after optimization is: 4.63 MB\n",
      "Decreased by 38.1%\n"
     ]
    },
    {
     "name": "stderr",
     "output_type": "stream",
     "text": [
      "100%|██████████| 36/36 [00:06<00:00,  5.22it/s]\n"
     ]
    },
    {
     "name": "stdout",
     "output_type": "stream",
     "text": [
      "Fold 5\n",
      "Memory usage of dataframe is 7.48 MB\n",
      "Memory usage after optimization is: 4.63 MB\n",
      "Decreased by 38.1%\n"
     ]
    },
    {
     "name": "stderr",
     "output_type": "stream",
     "text": [
      "100%|██████████| 36/36 [00:06<00:00,  5.25it/s]\n",
      "[I 2024-06-30 17:03:38,689] Trial 137 finished with value: 0.7694768774332563 and parameters: {'lambda': 6.714930117319376e-07, 'alpha': 0.09665324606950203, 'eta': 0.040518513650834115, 'gamma': 4.5233756958494005e-07, 'max_depth': 9, 'min_child_weight': 0.002535764949193108, 'subsample': 0.7704020214743262, 'colsample_bytree': 0.6312629778941788, 'colsample_bylevel': 0.9534515031399857, 'colsample_bynode': 0.711517396335275, 'scale_pos_weight': 9.359394914819548e-08}. Best is trial 109 with value: 0.7714412497310044.\n"
     ]
    },
    {
     "name": "stdout",
     "output_type": "stream",
     "text": [
      "Score: 0.7694768774332563\n",
      "Fold 1\n",
      "Memory usage of dataframe is 7.48 MB\n",
      "Memory usage after optimization is: 4.63 MB\n",
      "Decreased by 38.1%\n"
     ]
    },
    {
     "name": "stderr",
     "output_type": "stream",
     "text": [
      "100%|██████████| 36/36 [00:06<00:00,  5.25it/s]\n"
     ]
    },
    {
     "name": "stdout",
     "output_type": "stream",
     "text": [
      "Fold 2\n",
      "Memory usage of dataframe is 7.48 MB\n",
      "Memory usage after optimization is: 4.63 MB\n",
      "Decreased by 38.1%\n"
     ]
    },
    {
     "name": "stderr",
     "output_type": "stream",
     "text": [
      "100%|██████████| 36/36 [00:06<00:00,  5.26it/s]\n"
     ]
    },
    {
     "name": "stdout",
     "output_type": "stream",
     "text": [
      "Fold 3\n",
      "Memory usage of dataframe is 7.48 MB\n",
      "Memory usage after optimization is: 4.63 MB\n",
      "Decreased by 38.1%\n"
     ]
    },
    {
     "name": "stderr",
     "output_type": "stream",
     "text": [
      "100%|██████████| 36/36 [00:06<00:00,  5.31it/s]\n"
     ]
    },
    {
     "name": "stdout",
     "output_type": "stream",
     "text": [
      "Fold 4\n",
      "Memory usage of dataframe is 7.48 MB\n",
      "Memory usage after optimization is: 4.63 MB\n",
      "Decreased by 38.1%\n"
     ]
    },
    {
     "name": "stderr",
     "output_type": "stream",
     "text": [
      "100%|██████████| 36/36 [00:07<00:00,  5.14it/s]\n"
     ]
    },
    {
     "name": "stdout",
     "output_type": "stream",
     "text": [
      "Fold 5\n",
      "Memory usage of dataframe is 7.48 MB\n",
      "Memory usage after optimization is: 4.63 MB\n",
      "Decreased by 38.1%\n"
     ]
    },
    {
     "name": "stderr",
     "output_type": "stream",
     "text": [
      "100%|██████████| 36/36 [00:06<00:00,  5.18it/s]\n",
      "[I 2024-06-30 17:04:20,871] Trial 138 finished with value: 0.7704034752385885 and parameters: {'lambda': 8.974814861071177e-07, 'alpha': 0.10445191683858158, 'eta': 0.09173698996758019, 'gamma': 2.743257817960651e-07, 'max_depth': 9, 'min_child_weight': 0.006797561291272334, 'subsample': 0.7492908229173816, 'colsample_bytree': 0.5975888657355872, 'colsample_bylevel': 0.9456056883976102, 'colsample_bynode': 0.7035091221381405, 'scale_pos_weight': 3.8783582213815916e-08}. Best is trial 109 with value: 0.7714412497310044.\n"
     ]
    },
    {
     "name": "stdout",
     "output_type": "stream",
     "text": [
      "Score: 0.7704034752385885\n",
      "Fold 1\n",
      "Memory usage of dataframe is 7.48 MB\n",
      "Memory usage after optimization is: 4.63 MB\n",
      "Decreased by 38.1%\n"
     ]
    },
    {
     "name": "stderr",
     "output_type": "stream",
     "text": [
      "100%|██████████| 36/36 [00:06<00:00,  5.28it/s]\n"
     ]
    },
    {
     "name": "stdout",
     "output_type": "stream",
     "text": [
      "Fold 2\n",
      "Memory usage of dataframe is 7.48 MB\n",
      "Memory usage after optimization is: 4.63 MB\n",
      "Decreased by 38.1%\n"
     ]
    },
    {
     "name": "stderr",
     "output_type": "stream",
     "text": [
      "100%|██████████| 36/36 [00:06<00:00,  5.22it/s]\n"
     ]
    },
    {
     "name": "stdout",
     "output_type": "stream",
     "text": [
      "Fold 3\n",
      "Memory usage of dataframe is 7.48 MB\n",
      "Memory usage after optimization is: 4.63 MB\n",
      "Decreased by 38.1%\n"
     ]
    },
    {
     "name": "stderr",
     "output_type": "stream",
     "text": [
      "100%|██████████| 36/36 [00:06<00:00,  5.24it/s]\n"
     ]
    },
    {
     "name": "stdout",
     "output_type": "stream",
     "text": [
      "Fold 4\n",
      "Memory usage of dataframe is 7.48 MB\n",
      "Memory usage after optimization is: 4.63 MB\n",
      "Decreased by 38.1%\n"
     ]
    },
    {
     "name": "stderr",
     "output_type": "stream",
     "text": [
      "100%|██████████| 36/36 [00:06<00:00,  5.24it/s]\n"
     ]
    },
    {
     "name": "stdout",
     "output_type": "stream",
     "text": [
      "Fold 5\n",
      "Memory usage of dataframe is 7.48 MB\n",
      "Memory usage after optimization is: 4.63 MB\n",
      "Decreased by 38.1%\n"
     ]
    },
    {
     "name": "stderr",
     "output_type": "stream",
     "text": [
      "100%|██████████| 36/36 [00:06<00:00,  5.26it/s]\n",
      "[I 2024-06-30 17:05:03,133] Trial 139 finished with value: 0.7710953106545071 and parameters: {'lambda': 4.956494405304063e-07, 'alpha': 0.9842232368014401, 'eta': 0.08056966404717861, 'gamma': 1.892975378617263e-07, 'max_depth': 9, 'min_child_weight': 0.014543892036489524, 'subsample': 0.7638316595887147, 'colsample_bytree': 0.6475737763886644, 'colsample_bylevel': 0.9684696351570174, 'colsample_bynode': 0.65528004765104, 'scale_pos_weight': 1.756990494722061e-07}. Best is trial 109 with value: 0.7714412497310044.\n"
     ]
    },
    {
     "name": "stdout",
     "output_type": "stream",
     "text": [
      "Score: 0.7710953106545071\n",
      "Fold 1\n",
      "Memory usage of dataframe is 7.48 MB\n",
      "Memory usage after optimization is: 4.63 MB\n",
      "Decreased by 38.1%\n"
     ]
    },
    {
     "name": "stderr",
     "output_type": "stream",
     "text": [
      "100%|██████████| 36/36 [00:07<00:00,  5.04it/s]\n"
     ]
    },
    {
     "name": "stdout",
     "output_type": "stream",
     "text": [
      "Fold 2\n",
      "Memory usage of dataframe is 7.48 MB\n",
      "Memory usage after optimization is: 4.63 MB\n",
      "Decreased by 38.1%\n"
     ]
    },
    {
     "name": "stderr",
     "output_type": "stream",
     "text": [
      "100%|██████████| 36/36 [00:06<00:00,  5.17it/s]\n"
     ]
    },
    {
     "name": "stdout",
     "output_type": "stream",
     "text": [
      "Fold 3\n",
      "Memory usage of dataframe is 7.48 MB\n",
      "Memory usage after optimization is: 4.63 MB\n",
      "Decreased by 38.1%\n"
     ]
    },
    {
     "name": "stderr",
     "output_type": "stream",
     "text": [
      "100%|██████████| 36/36 [00:06<00:00,  5.19it/s]\n"
     ]
    },
    {
     "name": "stdout",
     "output_type": "stream",
     "text": [
      "Fold 4\n",
      "Memory usage of dataframe is 7.48 MB\n",
      "Memory usage after optimization is: 4.63 MB\n",
      "Decreased by 38.1%\n"
     ]
    },
    {
     "name": "stderr",
     "output_type": "stream",
     "text": [
      "100%|██████████| 36/36 [00:06<00:00,  5.30it/s]\n"
     ]
    },
    {
     "name": "stdout",
     "output_type": "stream",
     "text": [
      "Fold 5\n",
      "Memory usage of dataframe is 7.48 MB\n",
      "Memory usage after optimization is: 4.63 MB\n",
      "Decreased by 38.1%\n"
     ]
    },
    {
     "name": "stderr",
     "output_type": "stream",
     "text": [
      "100%|██████████| 36/36 [00:06<00:00,  5.30it/s]\n",
      "[I 2024-06-30 17:05:45,729] Trial 140 finished with value: 0.7696868828451439 and parameters: {'lambda': 9.120571571314604e-07, 'alpha': 0.29109839691990236, 'eta': 0.07883354096213381, 'gamma': 1.3064590094581472e-07, 'max_depth': 9, 'min_child_weight': 0.01889467508906674, 'subsample': 0.7818731750994078, 'colsample_bytree': 0.6483534654311703, 'colsample_bylevel': 0.986119765154691, 'colsample_bynode': 0.651183132858514, 'scale_pos_weight': 1.693617652388913e-07}. Best is trial 109 with value: 0.7714412497310044.\n"
     ]
    },
    {
     "name": "stdout",
     "output_type": "stream",
     "text": [
      "Score: 0.7696868828451439\n",
      "Fold 1\n",
      "Memory usage of dataframe is 7.48 MB\n",
      "Memory usage after optimization is: 4.63 MB\n",
      "Decreased by 38.1%\n"
     ]
    },
    {
     "name": "stderr",
     "output_type": "stream",
     "text": [
      "100%|██████████| 36/36 [00:06<00:00,  5.19it/s]\n"
     ]
    },
    {
     "name": "stdout",
     "output_type": "stream",
     "text": [
      "Fold 2\n",
      "Memory usage of dataframe is 7.48 MB\n",
      "Memory usage after optimization is: 4.63 MB\n",
      "Decreased by 38.1%\n"
     ]
    },
    {
     "name": "stderr",
     "output_type": "stream",
     "text": [
      "100%|██████████| 36/36 [00:07<00:00,  4.97it/s]\n"
     ]
    },
    {
     "name": "stdout",
     "output_type": "stream",
     "text": [
      "Fold 3\n",
      "Memory usage of dataframe is 7.48 MB\n",
      "Memory usage after optimization is: 4.63 MB\n",
      "Decreased by 38.1%\n"
     ]
    },
    {
     "name": "stderr",
     "output_type": "stream",
     "text": [
      "100%|██████████| 36/36 [00:07<00:00,  5.11it/s]\n"
     ]
    },
    {
     "name": "stdout",
     "output_type": "stream",
     "text": [
      "Fold 4\n",
      "Memory usage of dataframe is 7.48 MB\n",
      "Memory usage after optimization is: 4.63 MB\n",
      "Decreased by 38.1%\n"
     ]
    },
    {
     "name": "stderr",
     "output_type": "stream",
     "text": [
      "100%|██████████| 36/36 [00:06<00:00,  5.30it/s]\n"
     ]
    },
    {
     "name": "stdout",
     "output_type": "stream",
     "text": [
      "Fold 5\n",
      "Memory usage of dataframe is 7.48 MB\n",
      "Memory usage after optimization is: 4.63 MB\n",
      "Decreased by 38.1%\n"
     ]
    },
    {
     "name": "stderr",
     "output_type": "stream",
     "text": [
      "100%|██████████| 36/36 [00:06<00:00,  5.32it/s]\n",
      "[I 2024-06-30 17:06:28,633] Trial 141 finished with value: 0.7693409720056433 and parameters: {'lambda': 4.870336619764703e-07, 'alpha': 0.13711266387248383, 'eta': 0.08126619054281631, 'gamma': 3.537043798124896e-07, 'max_depth': 9, 'min_child_weight': 0.013158904679210482, 'subsample': 0.760724190369922, 'colsample_bytree': 0.613542737199976, 'colsample_bylevel': 0.9678836946924054, 'colsample_bynode': 0.6715660817751083, 'scale_pos_weight': 8.717337779419497e-08}. Best is trial 109 with value: 0.7714412497310044.\n"
     ]
    },
    {
     "name": "stdout",
     "output_type": "stream",
     "text": [
      "Score: 0.7693409720056433\n",
      "Fold 1\n",
      "Memory usage of dataframe is 7.48 MB\n",
      "Memory usage after optimization is: 4.63 MB\n",
      "Decreased by 38.1%\n"
     ]
    },
    {
     "name": "stderr",
     "output_type": "stream",
     "text": [
      "100%|██████████| 36/36 [00:06<00:00,  5.25it/s]\n"
     ]
    },
    {
     "name": "stdout",
     "output_type": "stream",
     "text": [
      "Fold 2\n",
      "Memory usage of dataframe is 7.48 MB\n",
      "Memory usage after optimization is: 4.63 MB\n",
      "Decreased by 38.1%\n"
     ]
    },
    {
     "name": "stderr",
     "output_type": "stream",
     "text": [
      "100%|██████████| 36/36 [00:06<00:00,  5.31it/s]\n"
     ]
    },
    {
     "name": "stdout",
     "output_type": "stream",
     "text": [
      "Fold 3\n",
      "Memory usage of dataframe is 7.48 MB\n",
      "Memory usage after optimization is: 4.63 MB\n",
      "Decreased by 38.1%\n"
     ]
    },
    {
     "name": "stderr",
     "output_type": "stream",
     "text": [
      "100%|██████████| 36/36 [00:06<00:00,  5.33it/s]\n"
     ]
    },
    {
     "name": "stdout",
     "output_type": "stream",
     "text": [
      "Fold 4\n",
      "Memory usage of dataframe is 7.48 MB\n",
      "Memory usage after optimization is: 4.63 MB\n",
      "Decreased by 38.1%\n"
     ]
    },
    {
     "name": "stderr",
     "output_type": "stream",
     "text": [
      "100%|██████████| 36/36 [00:06<00:00,  5.33it/s]\n"
     ]
    },
    {
     "name": "stdout",
     "output_type": "stream",
     "text": [
      "Fold 5\n",
      "Memory usage of dataframe is 7.48 MB\n",
      "Memory usage after optimization is: 4.63 MB\n",
      "Decreased by 38.1%\n"
     ]
    },
    {
     "name": "stderr",
     "output_type": "stream",
     "text": [
      "100%|██████████| 36/36 [00:06<00:00,  5.39it/s]\n",
      "[I 2024-06-30 17:07:10,382] Trial 142 finished with value: 0.7702058063415501 and parameters: {'lambda': 3.8006319665314364e-07, 'alpha': 0.8420431867534722, 'eta': 0.05426237901595815, 'gamma': 2.2026965912853273e-07, 'max_depth': 9, 'min_child_weight': 0.004935895045415985, 'subsample': 0.7630769374566151, 'colsample_bytree': 0.6695868409601231, 'colsample_bylevel': 0.957926198397235, 'colsample_bynode': 0.6609349602042452, 'scale_pos_weight': 2.709738080533605e-08}. Best is trial 109 with value: 0.7714412497310044.\n"
     ]
    },
    {
     "name": "stdout",
     "output_type": "stream",
     "text": [
      "Score: 0.7702058063415501\n",
      "Fold 1\n",
      "Memory usage of dataframe is 7.48 MB\n",
      "Memory usage after optimization is: 4.63 MB\n",
      "Decreased by 38.1%\n"
     ]
    },
    {
     "name": "stderr",
     "output_type": "stream",
     "text": [
      "100%|██████████| 36/36 [00:07<00:00,  4.85it/s]\n"
     ]
    },
    {
     "name": "stdout",
     "output_type": "stream",
     "text": [
      "Fold 2\n",
      "Memory usage of dataframe is 7.48 MB\n",
      "Memory usage after optimization is: 4.63 MB\n",
      "Decreased by 38.1%\n"
     ]
    },
    {
     "name": "stderr",
     "output_type": "stream",
     "text": [
      "100%|██████████| 36/36 [00:06<00:00,  5.27it/s]\n"
     ]
    },
    {
     "name": "stdout",
     "output_type": "stream",
     "text": [
      "Fold 3\n",
      "Memory usage of dataframe is 7.48 MB\n",
      "Memory usage after optimization is: 4.63 MB\n",
      "Decreased by 38.1%\n"
     ]
    },
    {
     "name": "stderr",
     "output_type": "stream",
     "text": [
      "100%|██████████| 36/36 [00:06<00:00,  5.22it/s]\n"
     ]
    },
    {
     "name": "stdout",
     "output_type": "stream",
     "text": [
      "Fold 4\n",
      "Memory usage of dataframe is 7.48 MB\n",
      "Memory usage after optimization is: 4.63 MB\n",
      "Decreased by 38.1%\n"
     ]
    },
    {
     "name": "stderr",
     "output_type": "stream",
     "text": [
      "100%|██████████| 36/36 [00:06<00:00,  5.24it/s]\n"
     ]
    },
    {
     "name": "stdout",
     "output_type": "stream",
     "text": [
      "Fold 5\n",
      "Memory usage of dataframe is 7.48 MB\n",
      "Memory usage after optimization is: 4.63 MB\n",
      "Decreased by 38.1%\n"
     ]
    },
    {
     "name": "stderr",
     "output_type": "stream",
     "text": [
      "100%|██████████| 36/36 [00:06<00:00,  5.30it/s]\n",
      "[I 2024-06-30 17:07:53,754] Trial 143 finished with value: 0.7697733887920156 and parameters: {'lambda': 1.4183030068466432e-06, 'alpha': 0.20858249141909482, 'eta': 0.08971816437621398, 'gamma': 6.464069093495691e-07, 'max_depth': 9, 'min_child_weight': 0.010503716036844727, 'subsample': 0.7931740512224795, 'colsample_bytree': 0.6461233358668724, 'colsample_bylevel': 0.9725662784651165, 'colsample_bynode': 0.6876816419334347, 'scale_pos_weight': 1.2371540433704654e-07}. Best is trial 109 with value: 0.7714412497310044.\n"
     ]
    },
    {
     "name": "stdout",
     "output_type": "stream",
     "text": [
      "Score: 0.7697733887920156\n",
      "Fold 1\n",
      "Memory usage of dataframe is 7.48 MB\n",
      "Memory usage after optimization is: 4.63 MB\n",
      "Decreased by 38.1%\n"
     ]
    },
    {
     "name": "stderr",
     "output_type": "stream",
     "text": [
      "100%|██████████| 36/36 [00:06<00:00,  5.35it/s]\n"
     ]
    },
    {
     "name": "stdout",
     "output_type": "stream",
     "text": [
      "Fold 2\n",
      "Memory usage of dataframe is 7.48 MB\n",
      "Memory usage after optimization is: 4.63 MB\n",
      "Decreased by 38.1%\n"
     ]
    },
    {
     "name": "stderr",
     "output_type": "stream",
     "text": [
      "100%|██████████| 36/36 [00:06<00:00,  5.36it/s]\n"
     ]
    },
    {
     "name": "stdout",
     "output_type": "stream",
     "text": [
      "Fold 3\n",
      "Memory usage of dataframe is 7.48 MB\n",
      "Memory usage after optimization is: 4.63 MB\n",
      "Decreased by 38.1%\n"
     ]
    },
    {
     "name": "stderr",
     "output_type": "stream",
     "text": [
      "100%|██████████| 36/36 [00:06<00:00,  5.31it/s]\n"
     ]
    },
    {
     "name": "stdout",
     "output_type": "stream",
     "text": [
      "Fold 4\n",
      "Memory usage of dataframe is 7.48 MB\n",
      "Memory usage after optimization is: 4.63 MB\n",
      "Decreased by 38.1%\n"
     ]
    },
    {
     "name": "stderr",
     "output_type": "stream",
     "text": [
      "100%|██████████| 36/36 [00:06<00:00,  5.29it/s]\n"
     ]
    },
    {
     "name": "stdout",
     "output_type": "stream",
     "text": [
      "Fold 5\n",
      "Memory usage of dataframe is 7.48 MB\n",
      "Memory usage after optimization is: 4.63 MB\n",
      "Decreased by 38.1%\n"
     ]
    },
    {
     "name": "stderr",
     "output_type": "stream",
     "text": [
      "100%|██████████| 36/36 [00:06<00:00,  5.31it/s]\n",
      "[I 2024-06-30 17:08:35,244] Trial 144 finished with value: 0.7701316681991723 and parameters: {'lambda': 6.109121338708817e-07, 'alpha': 0.0671306716021003, 'eta': 0.046948620149575356, 'gamma': 1.7558153624841724e-07, 'max_depth': 9, 'min_child_weight': 0.003044787072618965, 'subsample': 0.7750987983932409, 'colsample_bytree': 0.6222987615441921, 'colsample_bylevel': 0.9814587118989726, 'colsample_bynode': 0.7306918582006175, 'scale_pos_weight': 6.697508675155101e-08}. Best is trial 109 with value: 0.7714412497310044.\n"
     ]
    },
    {
     "name": "stdout",
     "output_type": "stream",
     "text": [
      "Score: 0.7701316681991723\n",
      "Fold 1\n",
      "Memory usage of dataframe is 7.48 MB\n",
      "Memory usage after optimization is: 4.63 MB\n",
      "Decreased by 38.1%\n"
     ]
    },
    {
     "name": "stderr",
     "output_type": "stream",
     "text": [
      "100%|██████████| 36/36 [00:06<00:00,  5.21it/s]\n"
     ]
    },
    {
     "name": "stdout",
     "output_type": "stream",
     "text": [
      "Fold 2\n",
      "Memory usage of dataframe is 7.48 MB\n",
      "Memory usage after optimization is: 4.63 MB\n",
      "Decreased by 38.1%\n"
     ]
    },
    {
     "name": "stderr",
     "output_type": "stream",
     "text": [
      "100%|██████████| 36/36 [00:06<00:00,  5.26it/s]\n"
     ]
    },
    {
     "name": "stdout",
     "output_type": "stream",
     "text": [
      "Fold 3\n",
      "Memory usage of dataframe is 7.48 MB\n",
      "Memory usage after optimization is: 4.63 MB\n",
      "Decreased by 38.1%\n"
     ]
    },
    {
     "name": "stderr",
     "output_type": "stream",
     "text": [
      "100%|██████████| 36/36 [00:06<00:00,  5.36it/s]\n"
     ]
    },
    {
     "name": "stdout",
     "output_type": "stream",
     "text": [
      "Fold 4\n",
      "Memory usage of dataframe is 7.48 MB\n",
      "Memory usage after optimization is: 4.63 MB\n",
      "Decreased by 38.1%\n"
     ]
    },
    {
     "name": "stderr",
     "output_type": "stream",
     "text": [
      "100%|██████████| 36/36 [00:06<00:00,  5.27it/s]\n"
     ]
    },
    {
     "name": "stdout",
     "output_type": "stream",
     "text": [
      "Fold 5\n",
      "Memory usage of dataframe is 7.48 MB\n",
      "Memory usage after optimization is: 4.63 MB\n",
      "Decreased by 38.1%\n"
     ]
    },
    {
     "name": "stderr",
     "output_type": "stream",
     "text": [
      "100%|██████████| 36/36 [00:06<00:00,  5.33it/s]\n",
      "[I 2024-06-30 17:09:16,467] Trial 145 finished with value: 0.7701440253193974 and parameters: {'lambda': 1.4867167716728413e-06, 'alpha': 0.9920142688622228, 'eta': 0.0679264912575416, 'gamma': 1.0464942563929258e-07, 'max_depth': 9, 'min_child_weight': 0.021781379895747487, 'subsample': 0.7418685275835856, 'colsample_bytree': 0.6362287911940872, 'colsample_bylevel': 0.9361001167250165, 'colsample_bynode': 0.7162858537460073, 'scale_pos_weight': 4.4967829817353804e-08}. Best is trial 109 with value: 0.7714412497310044.\n"
     ]
    },
    {
     "name": "stdout",
     "output_type": "stream",
     "text": [
      "Score: 0.7701440253193974\n",
      "Fold 1\n",
      "Memory usage of dataframe is 7.48 MB\n",
      "Memory usage after optimization is: 4.63 MB\n",
      "Decreased by 38.1%\n"
     ]
    },
    {
     "name": "stderr",
     "output_type": "stream",
     "text": [
      "100%|██████████| 36/36 [00:06<00:00,  5.35it/s]\n"
     ]
    },
    {
     "name": "stdout",
     "output_type": "stream",
     "text": [
      "Fold 2\n",
      "Memory usage of dataframe is 7.48 MB\n",
      "Memory usage after optimization is: 4.63 MB\n",
      "Decreased by 38.1%\n"
     ]
    },
    {
     "name": "stderr",
     "output_type": "stream",
     "text": [
      "100%|██████████| 36/36 [00:06<00:00,  5.37it/s]\n"
     ]
    },
    {
     "name": "stdout",
     "output_type": "stream",
     "text": [
      "Fold 3\n",
      "Memory usage of dataframe is 7.48 MB\n",
      "Memory usage after optimization is: 4.63 MB\n",
      "Decreased by 38.1%\n"
     ]
    },
    {
     "name": "stderr",
     "output_type": "stream",
     "text": [
      "100%|██████████| 36/36 [00:06<00:00,  5.39it/s]\n"
     ]
    },
    {
     "name": "stdout",
     "output_type": "stream",
     "text": [
      "Fold 4\n",
      "Memory usage of dataframe is 7.48 MB\n",
      "Memory usage after optimization is: 4.63 MB\n",
      "Decreased by 38.1%\n"
     ]
    },
    {
     "name": "stderr",
     "output_type": "stream",
     "text": [
      "100%|██████████| 36/36 [00:06<00:00,  5.27it/s]\n"
     ]
    },
    {
     "name": "stdout",
     "output_type": "stream",
     "text": [
      "Fold 5\n",
      "Memory usage of dataframe is 7.48 MB\n",
      "Memory usage after optimization is: 4.63 MB\n",
      "Decreased by 38.1%\n"
     ]
    },
    {
     "name": "stderr",
     "output_type": "stream",
     "text": [
      "100%|██████████| 36/36 [00:06<00:00,  5.34it/s]\n",
      "[I 2024-06-30 17:09:57,439] Trial 146 finished with value: 0.7685626428534459 and parameters: {'lambda': 2.6457840304253385e-07, 'alpha': 0.3000538225712606, 'eta': 0.13461285886562827, 'gamma': 4.858958566013656e-07, 'max_depth': 9, 'min_child_weight': 0.0017441973046472383, 'subsample': 0.7508814757148926, 'colsample_bytree': 0.6057565046744, 'colsample_bylevel': 0.9892348864168178, 'colsample_bynode': 0.7015284825487564, 'scale_pos_weight': 2.0872525838690514e-07}. Best is trial 109 with value: 0.7714412497310044.\n"
     ]
    },
    {
     "name": "stdout",
     "output_type": "stream",
     "text": [
      "Score: 0.7685626428534459\n",
      "Fold 1\n",
      "Memory usage of dataframe is 7.48 MB\n",
      "Memory usage after optimization is: 4.63 MB\n",
      "Decreased by 38.1%\n"
     ]
    },
    {
     "name": "stderr",
     "output_type": "stream",
     "text": [
      "100%|██████████| 36/36 [00:06<00:00,  5.31it/s]\n"
     ]
    },
    {
     "name": "stdout",
     "output_type": "stream",
     "text": [
      "Fold 2\n",
      "Memory usage of dataframe is 7.48 MB\n",
      "Memory usage after optimization is: 4.63 MB\n",
      "Decreased by 38.1%\n"
     ]
    },
    {
     "name": "stderr",
     "output_type": "stream",
     "text": [
      "100%|██████████| 36/36 [00:06<00:00,  5.33it/s]\n"
     ]
    },
    {
     "name": "stdout",
     "output_type": "stream",
     "text": [
      "Fold 3\n",
      "Memory usage of dataframe is 7.48 MB\n",
      "Memory usage after optimization is: 4.63 MB\n",
      "Decreased by 38.1%\n"
     ]
    },
    {
     "name": "stderr",
     "output_type": "stream",
     "text": [
      "100%|██████████| 36/36 [00:06<00:00,  5.30it/s]\n"
     ]
    },
    {
     "name": "stdout",
     "output_type": "stream",
     "text": [
      "Fold 4\n",
      "Memory usage of dataframe is 7.48 MB\n",
      "Memory usage after optimization is: 4.63 MB\n",
      "Decreased by 38.1%\n"
     ]
    },
    {
     "name": "stderr",
     "output_type": "stream",
     "text": [
      "100%|██████████| 36/36 [00:06<00:00,  5.27it/s]\n"
     ]
    },
    {
     "name": "stdout",
     "output_type": "stream",
     "text": [
      "Fold 5\n",
      "Memory usage of dataframe is 7.48 MB\n",
      "Memory usage after optimization is: 4.63 MB\n",
      "Decreased by 38.1%\n"
     ]
    },
    {
     "name": "stderr",
     "output_type": "stream",
     "text": [
      "100%|██████████| 36/36 [00:06<00:00,  5.23it/s]\n",
      "[I 2024-06-30 17:10:38,998] Trial 147 finished with value: 0.7706999797288893 and parameters: {'lambda': 1.9158703034672596e-07, 'alpha': 0.13217451391091342, 'eta': 0.0621562122538415, 'gamma': 3.2141169902153797e-07, 'max_depth': 9, 'min_child_weight': 0.0412296295031595, 'subsample': 0.7603728046183915, 'colsample_bytree': 0.5947100793961528, 'colsample_bylevel': 0.9472316580070155, 'colsample_bynode': 0.6785819747511015, 'scale_pos_weight': 3.156363634876052e-08}. Best is trial 109 with value: 0.7714412497310044.\n"
     ]
    },
    {
     "name": "stdout",
     "output_type": "stream",
     "text": [
      "Score: 0.7706999797288893\n",
      "Fold 1\n",
      "Memory usage of dataframe is 7.48 MB\n",
      "Memory usage after optimization is: 4.63 MB\n",
      "Decreased by 38.1%\n"
     ]
    },
    {
     "name": "stderr",
     "output_type": "stream",
     "text": [
      "100%|██████████| 36/36 [00:06<00:00,  5.30it/s]\n"
     ]
    },
    {
     "name": "stdout",
     "output_type": "stream",
     "text": [
      "Fold 2\n",
      "Memory usage of dataframe is 7.48 MB\n",
      "Memory usage after optimization is: 4.63 MB\n",
      "Decreased by 38.1%\n"
     ]
    },
    {
     "name": "stderr",
     "output_type": "stream",
     "text": [
      "100%|██████████| 36/36 [00:06<00:00,  5.34it/s]\n"
     ]
    },
    {
     "name": "stdout",
     "output_type": "stream",
     "text": [
      "Fold 3\n",
      "Memory usage of dataframe is 7.48 MB\n",
      "Memory usage after optimization is: 4.63 MB\n",
      "Decreased by 38.1%\n"
     ]
    },
    {
     "name": "stderr",
     "output_type": "stream",
     "text": [
      "100%|██████████| 36/36 [00:06<00:00,  5.35it/s]\n"
     ]
    },
    {
     "name": "stdout",
     "output_type": "stream",
     "text": [
      "Fold 4\n",
      "Memory usage of dataframe is 7.48 MB\n",
      "Memory usage after optimization is: 4.63 MB\n",
      "Decreased by 38.1%\n"
     ]
    },
    {
     "name": "stderr",
     "output_type": "stream",
     "text": [
      "100%|██████████| 36/36 [00:06<00:00,  5.28it/s]\n"
     ]
    },
    {
     "name": "stdout",
     "output_type": "stream",
     "text": [
      "Fold 5\n",
      "Memory usage of dataframe is 7.48 MB\n",
      "Memory usage after optimization is: 4.63 MB\n",
      "Decreased by 38.1%\n"
     ]
    },
    {
     "name": "stderr",
     "output_type": "stream",
     "text": [
      "100%|██████████| 36/36 [00:06<00:00,  5.22it/s]\n",
      "[I 2024-06-30 17:11:20,759] Trial 148 finished with value: 0.7712930138938386 and parameters: {'lambda': 2.11058083815686e-07, 'alpha': 0.39332503454605167, 'eta': 0.07565778165989193, 'gamma': 2.744679622767674e-07, 'max_depth': 9, 'min_child_weight': 0.0037820793936174267, 'subsample': 0.828359266401711, 'colsample_bytree': 0.5930951348179035, 'colsample_bylevel': 0.9679453536884891, 'colsample_bynode': 0.6446770627058893, 'scale_pos_weight': 1.0463628055181872e-07}. Best is trial 109 with value: 0.7714412497310044.\n"
     ]
    },
    {
     "name": "stdout",
     "output_type": "stream",
     "text": [
      "Score: 0.7712930138938386\n",
      "Fold 1\n",
      "Memory usage of dataframe is 7.48 MB\n",
      "Memory usage after optimization is: 4.63 MB\n",
      "Decreased by 38.1%\n"
     ]
    },
    {
     "name": "stderr",
     "output_type": "stream",
     "text": [
      "100%|██████████| 36/36 [00:06<00:00,  5.22it/s]\n"
     ]
    },
    {
     "name": "stdout",
     "output_type": "stream",
     "text": [
      "Fold 2\n",
      "Memory usage of dataframe is 7.48 MB\n",
      "Memory usage after optimization is: 4.63 MB\n",
      "Decreased by 38.1%\n"
     ]
    },
    {
     "name": "stderr",
     "output_type": "stream",
     "text": [
      "100%|██████████| 36/36 [00:06<00:00,  5.16it/s]\n"
     ]
    },
    {
     "name": "stdout",
     "output_type": "stream",
     "text": [
      "Fold 3\n",
      "Memory usage of dataframe is 7.48 MB\n",
      "Memory usage after optimization is: 4.63 MB\n",
      "Decreased by 38.1%\n"
     ]
    },
    {
     "name": "stderr",
     "output_type": "stream",
     "text": [
      "100%|██████████| 36/36 [00:06<00:00,  5.33it/s]\n"
     ]
    },
    {
     "name": "stdout",
     "output_type": "stream",
     "text": [
      "Fold 4\n",
      "Memory usage of dataframe is 7.48 MB\n",
      "Memory usage after optimization is: 4.63 MB\n",
      "Decreased by 38.1%\n"
     ]
    },
    {
     "name": "stderr",
     "output_type": "stream",
     "text": [
      "100%|██████████| 36/36 [00:06<00:00,  5.28it/s]\n"
     ]
    },
    {
     "name": "stdout",
     "output_type": "stream",
     "text": [
      "Fold 5\n",
      "Memory usage of dataframe is 7.48 MB\n",
      "Memory usage after optimization is: 4.63 MB\n",
      "Decreased by 38.1%\n"
     ]
    },
    {
     "name": "stderr",
     "output_type": "stream",
     "text": [
      "100%|██████████| 36/36 [00:06<00:00,  5.28it/s]\n",
      "[I 2024-06-30 17:12:04,159] Trial 149 finished with value: 0.7704281871895523 and parameters: {'lambda': 1.8298187966355653e-07, 'alpha': 0.18442103477992766, 'eta': 0.0741324030492138, 'gamma': 2.4331911220770354e-07, 'max_depth': 9, 'min_child_weight': 0.0005390196959930611, 'subsample': 0.8343905916370286, 'colsample_bytree': 0.5928521565102566, 'colsample_bylevel': 0.9672253217886261, 'colsample_bynode': 0.658609132183644, 'scale_pos_weight': 1.2022126837885276e-07}. Best is trial 109 with value: 0.7714412497310044.\n"
     ]
    },
    {
     "name": "stdout",
     "output_type": "stream",
     "text": [
      "Score: 0.7704281871895523\n",
      "Fold 1\n",
      "Memory usage of dataframe is 7.48 MB\n",
      "Memory usage after optimization is: 4.63 MB\n",
      "Decreased by 38.1%\n"
     ]
    },
    {
     "name": "stderr",
     "output_type": "stream",
     "text": [
      "100%|██████████| 36/36 [00:06<00:00,  5.27it/s]\n"
     ]
    },
    {
     "name": "stdout",
     "output_type": "stream",
     "text": [
      "Fold 2\n",
      "Memory usage of dataframe is 7.48 MB\n",
      "Memory usage after optimization is: 4.63 MB\n",
      "Decreased by 38.1%\n"
     ]
    },
    {
     "name": "stderr",
     "output_type": "stream",
     "text": [
      "100%|██████████| 36/36 [00:06<00:00,  5.24it/s]\n"
     ]
    },
    {
     "name": "stdout",
     "output_type": "stream",
     "text": [
      "Fold 3\n",
      "Memory usage of dataframe is 7.48 MB\n",
      "Memory usage after optimization is: 4.63 MB\n",
      "Decreased by 38.1%\n"
     ]
    },
    {
     "name": "stderr",
     "output_type": "stream",
     "text": [
      "100%|██████████| 36/36 [00:07<00:00,  5.02it/s]\n"
     ]
    },
    {
     "name": "stdout",
     "output_type": "stream",
     "text": [
      "Fold 4\n",
      "Memory usage of dataframe is 7.48 MB\n",
      "Memory usage after optimization is: 4.63 MB\n",
      "Decreased by 38.1%\n"
     ]
    },
    {
     "name": "stderr",
     "output_type": "stream",
     "text": [
      "100%|██████████| 36/36 [00:07<00:00,  4.95it/s]\n"
     ]
    },
    {
     "name": "stdout",
     "output_type": "stream",
     "text": [
      "Fold 5\n",
      "Memory usage of dataframe is 7.48 MB\n",
      "Memory usage after optimization is: 4.63 MB\n",
      "Decreased by 38.1%\n"
     ]
    },
    {
     "name": "stderr",
     "output_type": "stream",
     "text": [
      "100%|██████████| 36/36 [00:07<00:00,  4.99it/s]\n",
      "[I 2024-06-30 17:12:47,578] Trial 150 finished with value: 0.7688591565016913 and parameters: {'lambda': 6.360981149852213e-08, 'alpha': 0.5765323750886547, 'eta': 0.03368306901181778, 'gamma': 9.770393462647688e-08, 'max_depth': 9, 'min_child_weight': 0.03713884463136623, 'subsample': 0.8220586238099659, 'colsample_bytree': 0.5693838439174956, 'colsample_bylevel': 0.9415875822136341, 'colsample_bynode': 0.6432945438915911, 'scale_pos_weight': 2.986674154528237e-07}. Best is trial 109 with value: 0.7714412497310044.\n"
     ]
    },
    {
     "name": "stdout",
     "output_type": "stream",
     "text": [
      "Score: 0.7688591565016913\n",
      "Fold 1\n",
      "Memory usage of dataframe is 7.48 MB\n",
      "Memory usage after optimization is: 4.63 MB\n",
      "Decreased by 38.1%\n"
     ]
    },
    {
     "name": "stderr",
     "output_type": "stream",
     "text": [
      "100%|██████████| 36/36 [00:07<00:00,  5.06it/s]\n"
     ]
    },
    {
     "name": "stdout",
     "output_type": "stream",
     "text": [
      "Fold 2\n",
      "Memory usage of dataframe is 7.48 MB\n",
      "Memory usage after optimization is: 4.63 MB\n",
      "Decreased by 38.1%\n"
     ]
    },
    {
     "name": "stderr",
     "output_type": "stream",
     "text": [
      "100%|██████████| 36/36 [00:06<00:00,  5.33it/s]\n"
     ]
    },
    {
     "name": "stdout",
     "output_type": "stream",
     "text": [
      "Fold 3\n",
      "Memory usage of dataframe is 7.48 MB\n",
      "Memory usage after optimization is: 4.63 MB\n",
      "Decreased by 38.1%\n"
     ]
    },
    {
     "name": "stderr",
     "output_type": "stream",
     "text": [
      "100%|██████████| 36/36 [00:06<00:00,  5.38it/s]\n"
     ]
    },
    {
     "name": "stdout",
     "output_type": "stream",
     "text": [
      "Fold 4\n",
      "Memory usage of dataframe is 7.48 MB\n",
      "Memory usage after optimization is: 4.63 MB\n",
      "Decreased by 38.1%\n"
     ]
    },
    {
     "name": "stderr",
     "output_type": "stream",
     "text": [
      "100%|██████████| 36/36 [00:06<00:00,  5.29it/s]\n"
     ]
    },
    {
     "name": "stdout",
     "output_type": "stream",
     "text": [
      "Fold 5\n",
      "Memory usage of dataframe is 7.48 MB\n",
      "Memory usage after optimization is: 4.63 MB\n",
      "Decreased by 38.1%\n"
     ]
    },
    {
     "name": "stderr",
     "output_type": "stream",
     "text": [
      "100%|██████████| 36/36 [00:06<00:00,  5.28it/s]\n",
      "[I 2024-06-30 17:13:29,115] Trial 151 finished with value: 0.770724669548153 and parameters: {'lambda': 2.1928694318348221e-07, 'alpha': 0.4222222096554419, 'eta': 0.10080783659727899, 'gamma': 3.1962344719494713e-07, 'max_depth': 9, 'min_child_weight': 0.0047196735192165, 'subsample': 0.8053982504351094, 'colsample_bytree': 0.6052804990437107, 'colsample_bylevel': 0.9785939423097064, 'colsample_bynode': 0.6716890956073845, 'scale_pos_weight': 7.812898564982346e-08}. Best is trial 109 with value: 0.7714412497310044.\n"
     ]
    },
    {
     "name": "stdout",
     "output_type": "stream",
     "text": [
      "Score: 0.770724669548153\n",
      "Fold 1\n",
      "Memory usage of dataframe is 7.48 MB\n",
      "Memory usage after optimization is: 4.63 MB\n",
      "Decreased by 38.1%\n"
     ]
    },
    {
     "name": "stderr",
     "output_type": "stream",
     "text": [
      "100%|██████████| 36/36 [00:06<00:00,  5.31it/s]\n"
     ]
    },
    {
     "name": "stdout",
     "output_type": "stream",
     "text": [
      "Fold 2\n",
      "Memory usage of dataframe is 7.48 MB\n",
      "Memory usage after optimization is: 4.63 MB\n",
      "Decreased by 38.1%\n"
     ]
    },
    {
     "name": "stderr",
     "output_type": "stream",
     "text": [
      "100%|██████████| 36/36 [00:07<00:00,  5.13it/s]\n"
     ]
    },
    {
     "name": "stdout",
     "output_type": "stream",
     "text": [
      "Fold 3\n",
      "Memory usage of dataframe is 7.48 MB\n",
      "Memory usage after optimization is: 4.63 MB\n",
      "Decreased by 38.1%\n"
     ]
    },
    {
     "name": "stderr",
     "output_type": "stream",
     "text": [
      "100%|██████████| 36/36 [00:06<00:00,  5.18it/s]\n"
     ]
    },
    {
     "name": "stdout",
     "output_type": "stream",
     "text": [
      "Fold 4\n",
      "Memory usage of dataframe is 7.48 MB\n",
      "Memory usage after optimization is: 4.63 MB\n",
      "Decreased by 38.1%\n"
     ]
    },
    {
     "name": "stderr",
     "output_type": "stream",
     "text": [
      "100%|██████████| 36/36 [00:06<00:00,  5.32it/s]\n"
     ]
    },
    {
     "name": "stdout",
     "output_type": "stream",
     "text": [
      "Fold 5\n",
      "Memory usage of dataframe is 7.48 MB\n",
      "Memory usage after optimization is: 4.63 MB\n",
      "Decreased by 38.1%\n"
     ]
    },
    {
     "name": "stderr",
     "output_type": "stream",
     "text": [
      "100%|██████████| 36/36 [00:06<00:00,  5.28it/s]\n",
      "[I 2024-06-30 17:14:10,975] Trial 152 finished with value: 0.7699586944635325 and parameters: {'lambda': 1.905833043376745e-07, 'alpha': 0.2331083308283065, 'eta': 0.09186481650848373, 'gamma': 1.751149408290936e-07, 'max_depth': 9, 'min_child_weight': 0.007516823271973438, 'subsample': 0.8059256365858194, 'colsample_bytree': 0.583497489352097, 'colsample_bylevel': 0.9582243775301421, 'colsample_bynode': 0.6720156798223308, 'scale_pos_weight': 5.2947100667607754e-08}. Best is trial 109 with value: 0.7714412497310044.\n"
     ]
    },
    {
     "name": "stdout",
     "output_type": "stream",
     "text": [
      "Score: 0.7699586944635325\n",
      "Fold 1\n",
      "Memory usage of dataframe is 7.48 MB\n",
      "Memory usage after optimization is: 4.63 MB\n",
      "Decreased by 38.1%\n"
     ]
    },
    {
     "name": "stderr",
     "output_type": "stream",
     "text": [
      "100%|██████████| 36/36 [00:06<00:00,  5.33it/s]\n"
     ]
    },
    {
     "name": "stdout",
     "output_type": "stream",
     "text": [
      "Fold 2\n",
      "Memory usage of dataframe is 7.48 MB\n",
      "Memory usage after optimization is: 4.63 MB\n",
      "Decreased by 38.1%\n"
     ]
    },
    {
     "name": "stderr",
     "output_type": "stream",
     "text": [
      "100%|██████████| 36/36 [00:06<00:00,  5.36it/s]\n"
     ]
    },
    {
     "name": "stdout",
     "output_type": "stream",
     "text": [
      "Fold 3\n",
      "Memory usage of dataframe is 7.48 MB\n",
      "Memory usage after optimization is: 4.63 MB\n",
      "Decreased by 38.1%\n"
     ]
    },
    {
     "name": "stderr",
     "output_type": "stream",
     "text": [
      "100%|██████████| 36/36 [00:06<00:00,  5.36it/s]\n"
     ]
    },
    {
     "name": "stdout",
     "output_type": "stream",
     "text": [
      "Fold 4\n",
      "Memory usage of dataframe is 7.48 MB\n",
      "Memory usage after optimization is: 4.63 MB\n",
      "Decreased by 38.1%\n"
     ]
    },
    {
     "name": "stderr",
     "output_type": "stream",
     "text": [
      "100%|██████████| 36/36 [00:06<00:00,  5.33it/s]\n"
     ]
    },
    {
     "name": "stdout",
     "output_type": "stream",
     "text": [
      "Fold 5\n",
      "Memory usage of dataframe is 7.48 MB\n",
      "Memory usage after optimization is: 4.63 MB\n",
      "Decreased by 38.1%\n"
     ]
    },
    {
     "name": "stderr",
     "output_type": "stream",
     "text": [
      "100%|██████████| 36/36 [00:06<00:00,  5.35it/s]\n",
      "[I 2024-06-30 17:14:52,017] Trial 153 finished with value: 0.7715277282040417 and parameters: {'lambda': 2.1884548779830586e-07, 'alpha': 0.36490316337228057, 'eta': 0.0818951565869741, 'gamma': 2.9601504108588293e-07, 'max_depth': 9, 'min_child_weight': 0.002111237108041829, 'subsample': 0.7947606287695271, 'colsample_bytree': 0.602509874694741, 'colsample_bylevel': 0.9805668839212927, 'colsample_bynode': 0.6823289377572973, 'scale_pos_weight': 3.0449932189958265e-08}. Best is trial 153 with value: 0.7715277282040417.\n"
     ]
    },
    {
     "name": "stdout",
     "output_type": "stream",
     "text": [
      "Score: 0.7715277282040417\n",
      "Fold 1\n",
      "Memory usage of dataframe is 7.48 MB\n",
      "Memory usage after optimization is: 4.63 MB\n",
      "Decreased by 38.1%\n"
     ]
    },
    {
     "name": "stderr",
     "output_type": "stream",
     "text": [
      "100%|██████████| 36/36 [00:06<00:00,  5.29it/s]\n"
     ]
    },
    {
     "name": "stdout",
     "output_type": "stream",
     "text": [
      "Fold 2\n",
      "Memory usage of dataframe is 7.48 MB\n",
      "Memory usage after optimization is: 4.63 MB\n",
      "Decreased by 38.1%\n"
     ]
    },
    {
     "name": "stderr",
     "output_type": "stream",
     "text": [
      "100%|██████████| 36/36 [00:06<00:00,  5.35it/s]\n"
     ]
    },
    {
     "name": "stdout",
     "output_type": "stream",
     "text": [
      "Fold 3\n",
      "Memory usage of dataframe is 7.48 MB\n",
      "Memory usage after optimization is: 4.63 MB\n",
      "Decreased by 38.1%\n"
     ]
    },
    {
     "name": "stderr",
     "output_type": "stream",
     "text": [
      "100%|██████████| 36/36 [00:06<00:00,  5.29it/s]\n"
     ]
    },
    {
     "name": "stdout",
     "output_type": "stream",
     "text": [
      "Fold 4\n",
      "Memory usage of dataframe is 7.48 MB\n",
      "Memory usage after optimization is: 4.63 MB\n",
      "Decreased by 38.1%\n"
     ]
    },
    {
     "name": "stderr",
     "output_type": "stream",
     "text": [
      "100%|██████████| 36/36 [00:06<00:00,  5.31it/s]\n"
     ]
    },
    {
     "name": "stdout",
     "output_type": "stream",
     "text": [
      "Fold 5\n",
      "Memory usage of dataframe is 7.48 MB\n",
      "Memory usage after optimization is: 4.63 MB\n",
      "Decreased by 38.1%\n"
     ]
    },
    {
     "name": "stderr",
     "output_type": "stream",
     "text": [
      "100%|██████████| 36/36 [00:06<00:00,  5.32it/s]\n",
      "[I 2024-06-30 17:15:33,232] Trial 154 finished with value: 0.7706876073454227 and parameters: {'lambda': 2.0946280603372042e-07, 'alpha': 0.36634761651187275, 'eta': 0.08221090202125901, 'gamma': 2.939844806479528e-07, 'max_depth': 9, 'min_child_weight': 0.0012979141942832788, 'subsample': 0.812071888720016, 'colsample_bytree': 0.5927636924666374, 'colsample_bylevel': 0.977631360040042, 'colsample_bynode': 0.6841310517122602, 'scale_pos_weight': 1.785607486692147e-07}. Best is trial 153 with value: 0.7715277282040417.\n"
     ]
    },
    {
     "name": "stdout",
     "output_type": "stream",
     "text": [
      "Score: 0.7706876073454227\n",
      "Fold 1\n",
      "Memory usage of dataframe is 7.48 MB\n",
      "Memory usage after optimization is: 4.63 MB\n",
      "Decreased by 38.1%\n"
     ]
    },
    {
     "name": "stderr",
     "output_type": "stream",
     "text": [
      "100%|██████████| 36/36 [00:06<00:00,  5.29it/s]\n"
     ]
    },
    {
     "name": "stdout",
     "output_type": "stream",
     "text": [
      "Fold 2\n",
      "Memory usage of dataframe is 7.48 MB\n",
      "Memory usage after optimization is: 4.63 MB\n",
      "Decreased by 38.1%\n"
     ]
    },
    {
     "name": "stderr",
     "output_type": "stream",
     "text": [
      "100%|██████████| 36/36 [00:06<00:00,  5.30it/s]\n"
     ]
    },
    {
     "name": "stdout",
     "output_type": "stream",
     "text": [
      "Fold 3\n",
      "Memory usage of dataframe is 7.48 MB\n",
      "Memory usage after optimization is: 4.63 MB\n",
      "Decreased by 38.1%\n"
     ]
    },
    {
     "name": "stderr",
     "output_type": "stream",
     "text": [
      "100%|██████████| 36/36 [00:06<00:00,  5.28it/s]\n"
     ]
    },
    {
     "name": "stdout",
     "output_type": "stream",
     "text": [
      "Fold 4\n",
      "Memory usage of dataframe is 7.48 MB\n",
      "Memory usage after optimization is: 4.63 MB\n",
      "Decreased by 38.1%\n"
     ]
    },
    {
     "name": "stderr",
     "output_type": "stream",
     "text": [
      "100%|██████████| 36/36 [00:06<00:00,  5.29it/s]\n"
     ]
    },
    {
     "name": "stdout",
     "output_type": "stream",
     "text": [
      "Fold 5\n",
      "Memory usage of dataframe is 7.48 MB\n",
      "Memory usage after optimization is: 4.63 MB\n",
      "Decreased by 38.1%\n"
     ]
    },
    {
     "name": "stderr",
     "output_type": "stream",
     "text": [
      "100%|██████████| 36/36 [00:06<00:00,  5.25it/s]\n",
      "[I 2024-06-30 17:16:14,537] Trial 155 finished with value: 0.7704281665841763 and parameters: {'lambda': 3.1110163291212115e-07, 'alpha': 0.5760272541609542, 'eta': 0.07181048777798422, 'gamma': 1.3691744913326517e-07, 'max_depth': 9, 'min_child_weight': 0.0022731699798892984, 'subsample': 0.8359856018006211, 'colsample_bytree': 0.6033119724269299, 'colsample_bylevel': 0.9298918706896325, 'colsample_bynode': 0.6797893196478519, 'scale_pos_weight': 9.812702796322253e-08}. Best is trial 153 with value: 0.7715277282040417.\n"
     ]
    },
    {
     "name": "stdout",
     "output_type": "stream",
     "text": [
      "Score: 0.7704281665841763\n",
      "Fold 1\n",
      "Memory usage of dataframe is 7.48 MB\n",
      "Memory usage after optimization is: 4.63 MB\n",
      "Decreased by 38.1%\n"
     ]
    },
    {
     "name": "stderr",
     "output_type": "stream",
     "text": [
      "100%|██████████| 36/36 [00:06<00:00,  5.30it/s]\n"
     ]
    },
    {
     "name": "stdout",
     "output_type": "stream",
     "text": [
      "Fold 2\n",
      "Memory usage of dataframe is 7.48 MB\n",
      "Memory usage after optimization is: 4.63 MB\n",
      "Decreased by 38.1%\n"
     ]
    },
    {
     "name": "stderr",
     "output_type": "stream",
     "text": [
      "100%|██████████| 36/36 [00:06<00:00,  5.20it/s]\n"
     ]
    },
    {
     "name": "stdout",
     "output_type": "stream",
     "text": [
      "Fold 3\n",
      "Memory usage of dataframe is 7.48 MB\n",
      "Memory usage after optimization is: 4.63 MB\n",
      "Decreased by 38.1%\n"
     ]
    },
    {
     "name": "stderr",
     "output_type": "stream",
     "text": [
      "100%|██████████| 36/36 [00:06<00:00,  5.23it/s]\n"
     ]
    },
    {
     "name": "stdout",
     "output_type": "stream",
     "text": [
      "Fold 4\n",
      "Memory usage of dataframe is 7.48 MB\n",
      "Memory usage after optimization is: 4.63 MB\n",
      "Decreased by 38.1%\n"
     ]
    },
    {
     "name": "stderr",
     "output_type": "stream",
     "text": [
      "100%|██████████| 36/36 [00:06<00:00,  5.23it/s]\n"
     ]
    },
    {
     "name": "stdout",
     "output_type": "stream",
     "text": [
      "Fold 5\n",
      "Memory usage of dataframe is 7.48 MB\n",
      "Memory usage after optimization is: 4.63 MB\n",
      "Decreased by 38.1%\n"
     ]
    },
    {
     "name": "stderr",
     "output_type": "stream",
     "text": [
      "100%|██████████| 36/36 [00:06<00:00,  5.32it/s]\n",
      "[I 2024-06-30 17:16:57,257] Trial 156 finished with value: 0.7707246756534495 and parameters: {'lambda': 1.413928874448522e-07, 'alpha': 0.3566442579001771, 'eta': 0.05711915052994713, 'gamma': 2.0388167089366793e-07, 'max_depth': 9, 'min_child_weight': 0.005057852153053247, 'subsample': 0.7904587119339019, 'colsample_bytree': 0.5794454940846724, 'colsample_bylevel': 0.9495031572129473, 'colsample_bynode': 0.6659378129769811, 'scale_pos_weight': 3.043141788463408e-08}. Best is trial 153 with value: 0.7715277282040417.\n"
     ]
    },
    {
     "name": "stdout",
     "output_type": "stream",
     "text": [
      "Score: 0.7707246756534495\n",
      "Fold 1\n",
      "Memory usage of dataframe is 7.48 MB\n",
      "Memory usage after optimization is: 4.63 MB\n",
      "Decreased by 38.1%\n"
     ]
    },
    {
     "name": "stderr",
     "output_type": "stream",
     "text": [
      "100%|██████████| 36/36 [00:06<00:00,  5.24it/s]\n"
     ]
    },
    {
     "name": "stdout",
     "output_type": "stream",
     "text": [
      "Fold 2\n",
      "Memory usage of dataframe is 7.48 MB\n",
      "Memory usage after optimization is: 4.63 MB\n",
      "Decreased by 38.1%\n"
     ]
    },
    {
     "name": "stderr",
     "output_type": "stream",
     "text": [
      "100%|██████████| 36/36 [00:07<00:00,  4.88it/s]\n"
     ]
    },
    {
     "name": "stdout",
     "output_type": "stream",
     "text": [
      "Fold 3\n",
      "Memory usage of dataframe is 7.48 MB\n",
      "Memory usage after optimization is: 4.63 MB\n",
      "Decreased by 38.1%\n"
     ]
    },
    {
     "name": "stderr",
     "output_type": "stream",
     "text": [
      "100%|██████████| 36/36 [00:07<00:00,  5.01it/s]\n"
     ]
    },
    {
     "name": "stdout",
     "output_type": "stream",
     "text": [
      "Fold 4\n",
      "Memory usage of dataframe is 7.48 MB\n",
      "Memory usage after optimization is: 4.63 MB\n",
      "Decreased by 38.1%\n"
     ]
    },
    {
     "name": "stderr",
     "output_type": "stream",
     "text": [
      "100%|██████████| 36/36 [00:06<00:00,  5.18it/s]\n"
     ]
    },
    {
     "name": "stdout",
     "output_type": "stream",
     "text": [
      "Fold 5\n",
      "Memory usage of dataframe is 7.48 MB\n",
      "Memory usage after optimization is: 4.63 MB\n",
      "Decreased by 38.1%\n"
     ]
    },
    {
     "name": "stderr",
     "output_type": "stream",
     "text": [
      "100%|██████████| 36/36 [00:06<00:00,  5.15it/s]\n",
      "[I 2024-06-30 17:17:41,095] Trial 157 finished with value: 0.7702799307470106 and parameters: {'lambda': 1.298740318271105e-07, 'alpha': 0.7004589277965719, 'eta': 0.060338850317202486, 'gamma': 2.540159193213902e-07, 'max_depth': 9, 'min_child_weight': 0.006166683931599468, 'subsample': 0.7947888442559711, 'colsample_bytree': 0.5611773671122636, 'colsample_bylevel': 0.9471577051019199, 'colsample_bynode': 0.6629204508217482, 'scale_pos_weight': 1.6358611533770563e-08}. Best is trial 153 with value: 0.7715277282040417.\n"
     ]
    },
    {
     "name": "stdout",
     "output_type": "stream",
     "text": [
      "Score: 0.7702799307470106\n",
      "Fold 1\n",
      "Memory usage of dataframe is 7.48 MB\n",
      "Memory usage after optimization is: 4.63 MB\n",
      "Decreased by 38.1%\n"
     ]
    },
    {
     "name": "stderr",
     "output_type": "stream",
     "text": [
      "100%|██████████| 36/36 [00:06<00:00,  5.14it/s]\n"
     ]
    },
    {
     "name": "stdout",
     "output_type": "stream",
     "text": [
      "Fold 2\n",
      "Memory usage of dataframe is 7.48 MB\n",
      "Memory usage after optimization is: 4.63 MB\n",
      "Decreased by 38.1%\n"
     ]
    },
    {
     "name": "stderr",
     "output_type": "stream",
     "text": [
      "100%|██████████| 36/36 [00:06<00:00,  5.15it/s]\n"
     ]
    },
    {
     "name": "stdout",
     "output_type": "stream",
     "text": [
      "Fold 3\n",
      "Memory usage of dataframe is 7.48 MB\n",
      "Memory usage after optimization is: 4.63 MB\n",
      "Decreased by 38.1%\n"
     ]
    },
    {
     "name": "stderr",
     "output_type": "stream",
     "text": [
      "100%|██████████| 36/36 [00:07<00:00,  4.89it/s]\n"
     ]
    },
    {
     "name": "stdout",
     "output_type": "stream",
     "text": [
      "Fold 4\n",
      "Memory usage of dataframe is 7.48 MB\n",
      "Memory usage after optimization is: 4.63 MB\n",
      "Decreased by 38.1%\n"
     ]
    },
    {
     "name": "stderr",
     "output_type": "stream",
     "text": [
      "100%|██████████| 36/36 [00:07<00:00,  5.12it/s]\n"
     ]
    },
    {
     "name": "stdout",
     "output_type": "stream",
     "text": [
      "Fold 5\n",
      "Memory usage of dataframe is 7.48 MB\n",
      "Memory usage after optimization is: 4.63 MB\n",
      "Decreased by 38.1%\n"
     ]
    },
    {
     "name": "stderr",
     "output_type": "stream",
     "text": [
      "100%|██████████| 36/36 [00:06<00:00,  5.20it/s]\n",
      "[I 2024-06-30 17:18:25,017] Trial 158 finished with value: 0.7703540398892298 and parameters: {'lambda': 7.456257460509963e-08, 'alpha': 0.34234781102545986, 'eta': 0.055863136260796545, 'gamma': 1.840748595664416e-07, 'max_depth': 9, 'min_child_weight': 0.0017811456694878988, 'subsample': 0.8223219310535144, 'colsample_bytree': 0.5793779024665426, 'colsample_bylevel': 0.9693687545400518, 'colsample_bynode': 0.6538387519016411, 'scale_pos_weight': 2.8775584940968007e-08}. Best is trial 153 with value: 0.7715277282040417.\n"
     ]
    },
    {
     "name": "stdout",
     "output_type": "stream",
     "text": [
      "Score: 0.7703540398892298\n",
      "Fold 1\n",
      "Memory usage of dataframe is 7.48 MB\n",
      "Memory usage after optimization is: 4.63 MB\n",
      "Decreased by 38.1%\n"
     ]
    },
    {
     "name": "stderr",
     "output_type": "stream",
     "text": [
      "100%|██████████| 36/36 [00:07<00:00,  5.14it/s]\n"
     ]
    },
    {
     "name": "stdout",
     "output_type": "stream",
     "text": [
      "Fold 2\n",
      "Memory usage of dataframe is 7.48 MB\n",
      "Memory usage after optimization is: 4.63 MB\n",
      "Decreased by 38.1%\n"
     ]
    },
    {
     "name": "stderr",
     "output_type": "stream",
     "text": [
      "100%|██████████| 36/36 [00:06<00:00,  5.17it/s]\n"
     ]
    },
    {
     "name": "stdout",
     "output_type": "stream",
     "text": [
      "Fold 3\n",
      "Memory usage of dataframe is 7.48 MB\n",
      "Memory usage after optimization is: 4.63 MB\n",
      "Decreased by 38.1%\n"
     ]
    },
    {
     "name": "stderr",
     "output_type": "stream",
     "text": [
      "100%|██████████| 36/36 [00:07<00:00,  5.07it/s]\n"
     ]
    },
    {
     "name": "stdout",
     "output_type": "stream",
     "text": [
      "Fold 4\n",
      "Memory usage of dataframe is 7.48 MB\n",
      "Memory usage after optimization is: 4.63 MB\n",
      "Decreased by 38.1%\n"
     ]
    },
    {
     "name": "stderr",
     "output_type": "stream",
     "text": [
      "100%|██████████| 36/36 [00:07<00:00,  5.08it/s]\n"
     ]
    },
    {
     "name": "stdout",
     "output_type": "stream",
     "text": [
      "Fold 5\n",
      "Memory usage of dataframe is 7.48 MB\n",
      "Memory usage after optimization is: 4.63 MB\n",
      "Decreased by 38.1%\n"
     ]
    },
    {
     "name": "stderr",
     "output_type": "stream",
     "text": [
      "100%|██████████| 36/36 [00:06<00:00,  5.19it/s]\n",
      "[I 2024-06-30 17:19:08,485] Trial 159 finished with value: 0.7705640971961379 and parameters: {'lambda': 1.6061791835074725e-07, 'alpha': 0.9672395769624991, 'eta': 0.05009144187839931, 'gamma': 7.542389563096e-07, 'max_depth': 9, 'min_child_weight': 0.039854361874137406, 'subsample': 0.8054637543580861, 'colsample_bytree': 0.5906928045564321, 'colsample_bylevel': 0.9568138622450493, 'colsample_bynode': 0.668804395609282, 'scale_pos_weight': 3.597410481612221e-08}. Best is trial 153 with value: 0.7715277282040417.\n"
     ]
    },
    {
     "name": "stdout",
     "output_type": "stream",
     "text": [
      "Score: 0.7705640971961379\n",
      "Fold 1\n",
      "Memory usage of dataframe is 7.48 MB\n",
      "Memory usage after optimization is: 4.63 MB\n",
      "Decreased by 38.1%\n"
     ]
    },
    {
     "name": "stderr",
     "output_type": "stream",
     "text": [
      "100%|██████████| 36/36 [00:06<00:00,  5.22it/s]\n"
     ]
    },
    {
     "name": "stdout",
     "output_type": "stream",
     "text": [
      "Fold 2\n",
      "Memory usage of dataframe is 7.48 MB\n",
      "Memory usage after optimization is: 4.63 MB\n",
      "Decreased by 38.1%\n"
     ]
    },
    {
     "name": "stderr",
     "output_type": "stream",
     "text": [
      "100%|██████████| 36/36 [00:07<00:00,  4.98it/s]\n"
     ]
    },
    {
     "name": "stdout",
     "output_type": "stream",
     "text": [
      "Fold 3\n",
      "Memory usage of dataframe is 7.48 MB\n",
      "Memory usage after optimization is: 4.63 MB\n",
      "Decreased by 38.1%\n"
     ]
    },
    {
     "name": "stderr",
     "output_type": "stream",
     "text": [
      "100%|██████████| 36/36 [00:06<00:00,  5.20it/s]\n"
     ]
    },
    {
     "name": "stdout",
     "output_type": "stream",
     "text": [
      "Fold 4\n",
      "Memory usage of dataframe is 7.48 MB\n",
      "Memory usage after optimization is: 4.63 MB\n",
      "Decreased by 38.1%\n"
     ]
    },
    {
     "name": "stderr",
     "output_type": "stream",
     "text": [
      "100%|██████████| 36/36 [00:06<00:00,  5.16it/s]\n"
     ]
    },
    {
     "name": "stdout",
     "output_type": "stream",
     "text": [
      "Fold 5\n",
      "Memory usage of dataframe is 7.48 MB\n",
      "Memory usage after optimization is: 4.63 MB\n",
      "Decreased by 38.1%\n"
     ]
    },
    {
     "name": "stderr",
     "output_type": "stream",
     "text": [
      "100%|██████████| 36/36 [00:06<00:00,  5.24it/s]\n",
      "[I 2024-06-30 17:19:51,702] Trial 160 finished with value: 0.7716389277859876 and parameters: {'lambda': 3.734886738366808e-08, 'alpha': 0.23449226497585715, 'eta': 0.06543016095206454, 'gamma': 9.205817056121733e-08, 'max_depth': 9, 'min_child_weight': 0.004503075789285198, 'subsample': 0.8445748709335497, 'colsample_bytree': 0.5705190401636037, 'colsample_bylevel': 0.9807413667521441, 'colsample_bynode': 0.6899591837306497, 'scale_pos_weight': 1.0106896490147942e-08}. Best is trial 160 with value: 0.7716389277859876.\n"
     ]
    },
    {
     "name": "stdout",
     "output_type": "stream",
     "text": [
      "Score: 0.7716389277859876\n",
      "Fold 1\n",
      "Memory usage of dataframe is 7.48 MB\n",
      "Memory usage after optimization is: 4.63 MB\n",
      "Decreased by 38.1%\n"
     ]
    },
    {
     "name": "stderr",
     "output_type": "stream",
     "text": [
      "100%|██████████| 36/36 [00:07<00:00,  5.05it/s]\n"
     ]
    },
    {
     "name": "stdout",
     "output_type": "stream",
     "text": [
      "Fold 2\n",
      "Memory usage of dataframe is 7.48 MB\n",
      "Memory usage after optimization is: 4.63 MB\n",
      "Decreased by 38.1%\n"
     ]
    },
    {
     "name": "stderr",
     "output_type": "stream",
     "text": [
      "100%|██████████| 36/36 [00:06<00:00,  5.21it/s]\n"
     ]
    },
    {
     "name": "stdout",
     "output_type": "stream",
     "text": [
      "Fold 3\n",
      "Memory usage of dataframe is 7.48 MB\n",
      "Memory usage after optimization is: 4.63 MB\n",
      "Decreased by 38.1%\n"
     ]
    },
    {
     "name": "stderr",
     "output_type": "stream",
     "text": [
      "100%|██████████| 36/36 [00:06<00:00,  5.17it/s]\n"
     ]
    },
    {
     "name": "stdout",
     "output_type": "stream",
     "text": [
      "Fold 4\n",
      "Memory usage of dataframe is 7.48 MB\n",
      "Memory usage after optimization is: 4.63 MB\n",
      "Decreased by 38.1%\n"
     ]
    },
    {
     "name": "stderr",
     "output_type": "stream",
     "text": [
      "100%|██████████| 36/36 [00:06<00:00,  5.22it/s]\n"
     ]
    },
    {
     "name": "stdout",
     "output_type": "stream",
     "text": [
      "Fold 5\n",
      "Memory usage of dataframe is 7.48 MB\n",
      "Memory usage after optimization is: 4.63 MB\n",
      "Decreased by 38.1%\n"
     ]
    },
    {
     "name": "stderr",
     "output_type": "stream",
     "text": [
      "100%|██████████| 36/36 [00:07<00:00,  5.04it/s]\n",
      "[I 2024-06-30 17:20:35,131] Trial 161 finished with value: 0.7707493883675753 and parameters: {'lambda': 3.479383704746522e-08, 'alpha': 0.2385358378658141, 'eta': 0.06501488649983246, 'gamma': 9.991060418174788e-08, 'max_depth': 9, 'min_child_weight': 0.005368771255198906, 'subsample': 0.8430982974423484, 'colsample_bytree': 0.5712105709319076, 'colsample_bylevel': 0.9804179680144505, 'colsample_bynode': 0.6900514902564399, 'scale_pos_weight': 1.0431168421395058e-08}. Best is trial 160 with value: 0.7716389277859876.\n"
     ]
    },
    {
     "name": "stdout",
     "output_type": "stream",
     "text": [
      "Score: 0.7707493883675753\n",
      "Fold 1\n",
      "Memory usage of dataframe is 7.48 MB\n",
      "Memory usage after optimization is: 4.63 MB\n",
      "Decreased by 38.1%\n"
     ]
    },
    {
     "name": "stderr",
     "output_type": "stream",
     "text": [
      "100%|██████████| 36/36 [00:06<00:00,  5.16it/s]\n"
     ]
    },
    {
     "name": "stdout",
     "output_type": "stream",
     "text": [
      "Fold 2\n",
      "Memory usage of dataframe is 7.48 MB\n",
      "Memory usage after optimization is: 4.63 MB\n",
      "Decreased by 38.1%\n"
     ]
    },
    {
     "name": "stderr",
     "output_type": "stream",
     "text": [
      "100%|██████████| 36/36 [00:06<00:00,  5.21it/s]\n"
     ]
    },
    {
     "name": "stdout",
     "output_type": "stream",
     "text": [
      "Fold 3\n",
      "Memory usage of dataframe is 7.48 MB\n",
      "Memory usage after optimization is: 4.63 MB\n",
      "Decreased by 38.1%\n"
     ]
    },
    {
     "name": "stderr",
     "output_type": "stream",
     "text": [
      "100%|██████████| 36/36 [00:06<00:00,  5.20it/s]\n"
     ]
    },
    {
     "name": "stdout",
     "output_type": "stream",
     "text": [
      "Fold 4\n",
      "Memory usage of dataframe is 7.48 MB\n",
      "Memory usage after optimization is: 4.63 MB\n",
      "Decreased by 38.1%\n"
     ]
    },
    {
     "name": "stderr",
     "output_type": "stream",
     "text": [
      "100%|██████████| 36/36 [00:06<00:00,  5.18it/s]\n"
     ]
    },
    {
     "name": "stdout",
     "output_type": "stream",
     "text": [
      "Fold 5\n",
      "Memory usage of dataframe is 7.48 MB\n",
      "Memory usage after optimization is: 4.63 MB\n",
      "Decreased by 38.1%\n"
     ]
    },
    {
     "name": "stderr",
     "output_type": "stream",
     "text": [
      "100%|██████████| 36/36 [00:06<00:00,  5.21it/s]\n",
      "[I 2024-06-30 17:21:18,802] Trial 162 finished with value: 0.7704528922720576 and parameters: {'lambda': 3.606192965560825e-08, 'alpha': 0.28737178828124166, 'eta': 0.06944551374530619, 'gamma': 8.309054805265866e-08, 'max_depth': 9, 'min_child_weight': 0.004424841896359911, 'subsample': 0.8450486001146549, 'colsample_bytree': 0.5671613209051669, 'colsample_bylevel': 0.9813738551421533, 'colsample_bynode': 0.6921745777231909, 'scale_pos_weight': 1.126665043946758e-08}. Best is trial 160 with value: 0.7716389277859876.\n"
     ]
    },
    {
     "name": "stdout",
     "output_type": "stream",
     "text": [
      "Score: 0.7704528922720576\n",
      "Fold 1\n",
      "Memory usage of dataframe is 7.48 MB\n",
      "Memory usage after optimization is: 4.63 MB\n",
      "Decreased by 38.1%\n"
     ]
    },
    {
     "name": "stderr",
     "output_type": "stream",
     "text": [
      "100%|██████████| 36/36 [00:06<00:00,  5.23it/s]\n"
     ]
    },
    {
     "name": "stdout",
     "output_type": "stream",
     "text": [
      "Fold 2\n",
      "Memory usage of dataframe is 7.48 MB\n",
      "Memory usage after optimization is: 4.63 MB\n",
      "Decreased by 38.1%\n"
     ]
    },
    {
     "name": "stderr",
     "output_type": "stream",
     "text": [
      "100%|██████████| 36/36 [00:06<00:00,  5.18it/s]\n"
     ]
    },
    {
     "name": "stdout",
     "output_type": "stream",
     "text": [
      "Fold 3\n",
      "Memory usage of dataframe is 7.48 MB\n",
      "Memory usage after optimization is: 4.63 MB\n",
      "Decreased by 38.1%\n"
     ]
    },
    {
     "name": "stderr",
     "output_type": "stream",
     "text": [
      "100%|██████████| 36/36 [00:07<00:00,  5.07it/s]\n"
     ]
    },
    {
     "name": "stdout",
     "output_type": "stream",
     "text": [
      "Fold 4\n",
      "Memory usage of dataframe is 7.48 MB\n",
      "Memory usage after optimization is: 4.63 MB\n",
      "Decreased by 38.1%\n"
     ]
    },
    {
     "name": "stderr",
     "output_type": "stream",
     "text": [
      "100%|██████████| 36/36 [00:06<00:00,  5.16it/s]\n"
     ]
    },
    {
     "name": "stdout",
     "output_type": "stream",
     "text": [
      "Fold 5\n",
      "Memory usage of dataframe is 7.48 MB\n",
      "Memory usage after optimization is: 4.63 MB\n",
      "Decreased by 38.1%\n"
     ]
    },
    {
     "name": "stderr",
     "output_type": "stream",
     "text": [
      "100%|██████████| 36/36 [00:07<00:00,  5.03it/s]\n",
      "[I 2024-06-30 17:22:02,121] Trial 163 finished with value: 0.7710458936210381 and parameters: {'lambda': 4.371960492636532e-08, 'alpha': 0.5125145191829792, 'eta': 0.07751233198018509, 'gamma': 1.37231673113586e-07, 'max_depth': 9, 'min_child_weight': 0.003025554052405581, 'subsample': 0.8477860237983946, 'colsample_bytree': 0.5745593460867083, 'colsample_bylevel': 0.9881661173363316, 'colsample_bynode': 0.6922163192347208, 'scale_pos_weight': 1.0999853917488875e-08}. Best is trial 160 with value: 0.7716389277859876.\n"
     ]
    },
    {
     "name": "stdout",
     "output_type": "stream",
     "text": [
      "Score: 0.7710458936210381\n",
      "Fold 1\n",
      "Memory usage of dataframe is 7.48 MB\n",
      "Memory usage after optimization is: 4.63 MB\n",
      "Decreased by 38.1%\n"
     ]
    },
    {
     "name": "stderr",
     "output_type": "stream",
     "text": [
      "100%|██████████| 36/36 [00:07<00:00,  5.06it/s]\n"
     ]
    },
    {
     "name": "stdout",
     "output_type": "stream",
     "text": [
      "Fold 2\n",
      "Memory usage of dataframe is 7.48 MB\n",
      "Memory usage after optimization is: 4.63 MB\n",
      "Decreased by 38.1%\n"
     ]
    },
    {
     "name": "stderr",
     "output_type": "stream",
     "text": [
      "100%|██████████| 36/36 [00:07<00:00,  5.06it/s]\n"
     ]
    },
    {
     "name": "stdout",
     "output_type": "stream",
     "text": [
      "Fold 3\n",
      "Memory usage of dataframe is 7.48 MB\n",
      "Memory usage after optimization is: 4.63 MB\n",
      "Decreased by 38.1%\n"
     ]
    },
    {
     "name": "stderr",
     "output_type": "stream",
     "text": [
      "100%|██████████| 36/36 [00:06<00:00,  5.19it/s]\n"
     ]
    },
    {
     "name": "stdout",
     "output_type": "stream",
     "text": [
      "Fold 4\n",
      "Memory usage of dataframe is 7.48 MB\n",
      "Memory usage after optimization is: 4.63 MB\n",
      "Decreased by 38.1%\n"
     ]
    },
    {
     "name": "stderr",
     "output_type": "stream",
     "text": [
      "100%|██████████| 36/36 [00:06<00:00,  5.19it/s]\n"
     ]
    },
    {
     "name": "stdout",
     "output_type": "stream",
     "text": [
      "Fold 5\n",
      "Memory usage of dataframe is 7.48 MB\n",
      "Memory usage after optimization is: 4.63 MB\n",
      "Decreased by 38.1%\n"
     ]
    },
    {
     "name": "stderr",
     "output_type": "stream",
     "text": [
      "100%|██████████| 36/36 [00:07<00:00,  5.11it/s]\n",
      "[I 2024-06-30 17:22:45,373] Trial 164 finished with value: 0.7696992506496378 and parameters: {'lambda': 3.268510904563147e-08, 'alpha': 0.20606043983509814, 'eta': 0.0760215703273072, 'gamma': 1.0294126872597312e-07, 'max_depth': 9, 'min_child_weight': 0.0026098558728398554, 'subsample': 0.8450498171465569, 'colsample_bytree': 0.549886338324759, 'colsample_bylevel': 0.9879971139565883, 'colsample_bynode': 0.6909428399382106, 'scale_pos_weight': 1.0978176639093137e-08}. Best is trial 160 with value: 0.7716389277859876.\n"
     ]
    },
    {
     "name": "stdout",
     "output_type": "stream",
     "text": [
      "Score: 0.7696992506496378\n",
      "Fold 1\n",
      "Memory usage of dataframe is 7.48 MB\n",
      "Memory usage after optimization is: 4.63 MB\n",
      "Decreased by 38.1%\n"
     ]
    },
    {
     "name": "stderr",
     "output_type": "stream",
     "text": [
      "100%|██████████| 36/36 [00:06<00:00,  5.18it/s]\n"
     ]
    },
    {
     "name": "stdout",
     "output_type": "stream",
     "text": [
      "Fold 2\n",
      "Memory usage of dataframe is 7.48 MB\n",
      "Memory usage after optimization is: 4.63 MB\n",
      "Decreased by 38.1%\n"
     ]
    },
    {
     "name": "stderr",
     "output_type": "stream",
     "text": [
      "100%|██████████| 36/36 [00:06<00:00,  5.17it/s]\n"
     ]
    },
    {
     "name": "stdout",
     "output_type": "stream",
     "text": [
      "Fold 3\n",
      "Memory usage of dataframe is 7.48 MB\n",
      "Memory usage after optimization is: 4.63 MB\n",
      "Decreased by 38.1%\n"
     ]
    },
    {
     "name": "stderr",
     "output_type": "stream",
     "text": [
      "100%|██████████| 36/36 [00:06<00:00,  5.23it/s]\n"
     ]
    },
    {
     "name": "stdout",
     "output_type": "stream",
     "text": [
      "Fold 4\n",
      "Memory usage of dataframe is 7.48 MB\n",
      "Memory usage after optimization is: 4.63 MB\n",
      "Decreased by 38.1%\n"
     ]
    },
    {
     "name": "stderr",
     "output_type": "stream",
     "text": [
      "100%|██████████| 36/36 [00:06<00:00,  5.19it/s]\n"
     ]
    },
    {
     "name": "stdout",
     "output_type": "stream",
     "text": [
      "Fold 5\n",
      "Memory usage of dataframe is 7.48 MB\n",
      "Memory usage after optimization is: 4.63 MB\n",
      "Decreased by 38.1%\n"
     ]
    },
    {
     "name": "stderr",
     "output_type": "stream",
     "text": [
      "100%|██████████| 36/36 [00:06<00:00,  5.21it/s]\n",
      "[I 2024-06-30 17:23:28,435] Trial 165 finished with value: 0.7705146549783206 and parameters: {'lambda': 4.527639747661325e-08, 'alpha': 0.515300879147107, 'eta': 0.05475777589611642, 'gamma': 6.34033759160167e-08, 'max_depth': 9, 'min_child_weight': 0.0036491488247807654, 'subsample': 0.854748077384409, 'colsample_bytree': 0.5701603124506789, 'colsample_bylevel': 0.9665426626485846, 'colsample_bynode': 0.6923364952945318, 'scale_pos_weight': 1.5273959290217756e-08}. Best is trial 160 with value: 0.7716389277859876.\n"
     ]
    },
    {
     "name": "stdout",
     "output_type": "stream",
     "text": [
      "Score: 0.7705146549783206\n",
      "Fold 1\n",
      "Memory usage of dataframe is 7.48 MB\n",
      "Memory usage after optimization is: 4.63 MB\n",
      "Decreased by 38.1%\n"
     ]
    },
    {
     "name": "stderr",
     "output_type": "stream",
     "text": [
      "100%|██████████| 36/36 [00:06<00:00,  5.24it/s]\n"
     ]
    },
    {
     "name": "stdout",
     "output_type": "stream",
     "text": [
      "Fold 2\n",
      "Memory usage of dataframe is 7.48 MB\n",
      "Memory usage after optimization is: 4.63 MB\n",
      "Decreased by 38.1%\n"
     ]
    },
    {
     "name": "stderr",
     "output_type": "stream",
     "text": [
      "100%|██████████| 36/36 [00:07<00:00,  5.09it/s]\n"
     ]
    },
    {
     "name": "stdout",
     "output_type": "stream",
     "text": [
      "Fold 3\n",
      "Memory usage of dataframe is 7.48 MB\n",
      "Memory usage after optimization is: 4.63 MB\n",
      "Decreased by 38.1%\n"
     ]
    },
    {
     "name": "stderr",
     "output_type": "stream",
     "text": [
      "100%|██████████| 36/36 [00:07<00:00,  5.04it/s]\n"
     ]
    },
    {
     "name": "stdout",
     "output_type": "stream",
     "text": [
      "Fold 4\n",
      "Memory usage of dataframe is 7.48 MB\n",
      "Memory usage after optimization is: 4.63 MB\n",
      "Decreased by 38.1%\n"
     ]
    },
    {
     "name": "stderr",
     "output_type": "stream",
     "text": [
      "100%|██████████| 36/36 [00:07<00:00,  5.14it/s]\n"
     ]
    },
    {
     "name": "stdout",
     "output_type": "stream",
     "text": [
      "Fold 5\n",
      "Memory usage of dataframe is 7.48 MB\n",
      "Memory usage after optimization is: 4.63 MB\n",
      "Decreased by 38.1%\n"
     ]
    },
    {
     "name": "stderr",
     "output_type": "stream",
     "text": [
      "100%|██████████| 36/36 [00:07<00:00,  5.12it/s]\n",
      "[I 2024-06-30 17:24:11,501] Trial 166 finished with value: 0.7702057971836053 and parameters: {'lambda': 3.4428441230732616e-08, 'alpha': 0.6793408513913757, 'eta': 0.06826207623421177, 'gamma': 1.438208922792086e-07, 'max_depth': 9, 'min_child_weight': 0.008319147794845085, 'subsample': 0.865126778760526, 'colsample_bytree': 0.577140578499561, 'colsample_bylevel': 0.9881129727030892, 'colsample_bynode': 0.6352008441482438, 'scale_pos_weight': 1.6580654158117616e-08}. Best is trial 160 with value: 0.7716389277859876.\n"
     ]
    },
    {
     "name": "stdout",
     "output_type": "stream",
     "text": [
      "Score: 0.7702057971836053\n",
      "Fold 1\n",
      "Memory usage of dataframe is 7.48 MB\n",
      "Memory usage after optimization is: 4.63 MB\n",
      "Decreased by 38.1%\n"
     ]
    },
    {
     "name": "stderr",
     "output_type": "stream",
     "text": [
      "100%|██████████| 36/36 [00:07<00:00,  5.14it/s]\n"
     ]
    },
    {
     "name": "stdout",
     "output_type": "stream",
     "text": [
      "Fold 2\n",
      "Memory usage of dataframe is 7.48 MB\n",
      "Memory usage after optimization is: 4.63 MB\n",
      "Decreased by 38.1%\n"
     ]
    },
    {
     "name": "stderr",
     "output_type": "stream",
     "text": [
      "100%|██████████| 36/36 [00:06<00:00,  5.17it/s]\n"
     ]
    },
    {
     "name": "stdout",
     "output_type": "stream",
     "text": [
      "Fold 3\n",
      "Memory usage of dataframe is 7.48 MB\n",
      "Memory usage after optimization is: 4.63 MB\n",
      "Decreased by 38.1%\n"
     ]
    },
    {
     "name": "stderr",
     "output_type": "stream",
     "text": [
      "100%|██████████| 36/36 [00:06<00:00,  5.27it/s]\n"
     ]
    },
    {
     "name": "stdout",
     "output_type": "stream",
     "text": [
      "Fold 4\n",
      "Memory usage of dataframe is 7.48 MB\n",
      "Memory usage after optimization is: 4.63 MB\n",
      "Decreased by 38.1%\n"
     ]
    },
    {
     "name": "stderr",
     "output_type": "stream",
     "text": [
      "100%|██████████| 36/36 [00:06<00:00,  5.21it/s]\n"
     ]
    },
    {
     "name": "stdout",
     "output_type": "stream",
     "text": [
      "Fold 5\n",
      "Memory usage of dataframe is 7.48 MB\n",
      "Memory usage after optimization is: 4.63 MB\n",
      "Decreased by 38.1%\n"
     ]
    },
    {
     "name": "stderr",
     "output_type": "stream",
     "text": [
      "100%|██████████| 36/36 [00:06<00:00,  5.28it/s]\n",
      "[I 2024-06-30 17:24:53,971] Trial 167 finished with value: 0.7702922985515046 and parameters: {'lambda': 1.9665108286939673e-08, 'alpha': 0.23258889774921734, 'eta': 0.08106464045732084, 'gamma': 1.2858982986662048e-07, 'max_depth': 9, 'min_child_weight': 0.002102183687816419, 'subsample': 0.8224872250011622, 'colsample_bytree': 0.541419273863819, 'colsample_bylevel': 0.9750701690508526, 'colsample_bynode': 0.7120757626704701, 'scale_pos_weight': 2.3466127267381703e-08}. Best is trial 160 with value: 0.7716389277859876.\n"
     ]
    },
    {
     "name": "stdout",
     "output_type": "stream",
     "text": [
      "Score: 0.7702922985515046\n",
      "Fold 1\n",
      "Memory usage of dataframe is 7.48 MB\n",
      "Memory usage after optimization is: 4.63 MB\n",
      "Decreased by 38.1%\n"
     ]
    },
    {
     "name": "stderr",
     "output_type": "stream",
     "text": [
      "100%|██████████| 36/36 [00:06<00:00,  5.25it/s]\n"
     ]
    },
    {
     "name": "stdout",
     "output_type": "stream",
     "text": [
      "Fold 2\n",
      "Memory usage of dataframe is 7.48 MB\n",
      "Memory usage after optimization is: 4.63 MB\n",
      "Decreased by 38.1%\n"
     ]
    },
    {
     "name": "stderr",
     "output_type": "stream",
     "text": [
      "100%|██████████| 36/36 [00:06<00:00,  5.23it/s]\n"
     ]
    },
    {
     "name": "stdout",
     "output_type": "stream",
     "text": [
      "Fold 3\n",
      "Memory usage of dataframe is 7.48 MB\n",
      "Memory usage after optimization is: 4.63 MB\n",
      "Decreased by 38.1%\n"
     ]
    },
    {
     "name": "stderr",
     "output_type": "stream",
     "text": [
      "100%|██████████| 36/36 [00:06<00:00,  5.19it/s]\n"
     ]
    },
    {
     "name": "stdout",
     "output_type": "stream",
     "text": [
      "Fold 4\n",
      "Memory usage of dataframe is 7.48 MB\n",
      "Memory usage after optimization is: 4.63 MB\n",
      "Decreased by 38.1%\n"
     ]
    },
    {
     "name": "stderr",
     "output_type": "stream",
     "text": [
      "100%|██████████| 36/36 [00:06<00:00,  5.17it/s]\n"
     ]
    },
    {
     "name": "stdout",
     "output_type": "stream",
     "text": [
      "Fold 5\n",
      "Memory usage of dataframe is 7.48 MB\n",
      "Memory usage after optimization is: 4.63 MB\n",
      "Decreased by 38.1%\n"
     ]
    },
    {
     "name": "stderr",
     "output_type": "stream",
     "text": [
      "100%|██████████| 36/36 [00:07<00:00,  5.13it/s]\n",
      "[I 2024-06-30 17:25:36,290] Trial 168 finished with value: 0.7708852907425403 and parameters: {'lambda': 9.078816490922445e-08, 'alpha': 0.9971603490189898, 'eta': 0.061193139140166095, 'gamma': 4.78291684698094e-08, 'max_depth': 9, 'min_child_weight': 0.0010380618298827372, 'subsample': 0.7934912786031929, 'colsample_bytree': 0.5620981164991948, 'colsample_bylevel': 0.9908897790282247, 'colsample_bynode': 0.652636273195421, 'scale_pos_weight': 1.3068980206152066e-08}. Best is trial 160 with value: 0.7716389277859876.\n"
     ]
    },
    {
     "name": "stdout",
     "output_type": "stream",
     "text": [
      "Score: 0.7708852907425403\n",
      "Fold 1\n",
      "Memory usage of dataframe is 7.48 MB\n",
      "Memory usage after optimization is: 4.63 MB\n",
      "Decreased by 38.1%\n"
     ]
    },
    {
     "name": "stderr",
     "output_type": "stream",
     "text": [
      "100%|██████████| 36/36 [00:07<00:00,  5.13it/s]\n"
     ]
    },
    {
     "name": "stdout",
     "output_type": "stream",
     "text": [
      "Fold 2\n",
      "Memory usage of dataframe is 7.48 MB\n",
      "Memory usage after optimization is: 4.63 MB\n",
      "Decreased by 38.1%\n"
     ]
    },
    {
     "name": "stderr",
     "output_type": "stream",
     "text": [
      "100%|██████████| 36/36 [00:06<00:00,  5.17it/s]\n"
     ]
    },
    {
     "name": "stdout",
     "output_type": "stream",
     "text": [
      "Fold 3\n",
      "Memory usage of dataframe is 7.48 MB\n",
      "Memory usage after optimization is: 4.63 MB\n",
      "Decreased by 38.1%\n"
     ]
    },
    {
     "name": "stderr",
     "output_type": "stream",
     "text": [
      "100%|██████████| 36/36 [00:06<00:00,  5.24it/s]\n"
     ]
    },
    {
     "name": "stdout",
     "output_type": "stream",
     "text": [
      "Fold 4\n",
      "Memory usage of dataframe is 7.48 MB\n",
      "Memory usage after optimization is: 4.63 MB\n",
      "Decreased by 38.1%\n"
     ]
    },
    {
     "name": "stderr",
     "output_type": "stream",
     "text": [
      "100%|██████████| 36/36 [00:06<00:00,  5.25it/s]\n"
     ]
    },
    {
     "name": "stdout",
     "output_type": "stream",
     "text": [
      "Fold 5\n",
      "Memory usage of dataframe is 7.48 MB\n",
      "Memory usage after optimization is: 4.63 MB\n",
      "Decreased by 38.1%\n"
     ]
    },
    {
     "name": "stderr",
     "output_type": "stream",
     "text": [
      "100%|██████████| 36/36 [00:06<00:00,  5.22it/s]\n",
      "[I 2024-06-30 17:26:18,978] Trial 169 finished with value: 0.7710335563430268 and parameters: {'lambda': 4.909060029744506e-08, 'alpha': 0.9262080379104711, 'eta': 0.06413588634815202, 'gamma': 5.1429555209078064e-08, 'max_depth': 9, 'min_child_weight': 0.0012965316288327355, 'subsample': 0.8162101177613811, 'colsample_bytree': 0.5591196042236827, 'colsample_bylevel': 0.9992424832756529, 'colsample_bynode': 0.6539225619986716, 'scale_pos_weight': 1.0943460560394136e-08}. Best is trial 160 with value: 0.7716389277859876.\n"
     ]
    },
    {
     "name": "stdout",
     "output_type": "stream",
     "text": [
      "Score: 0.7710335563430268\n",
      "Fold 1\n",
      "Memory usage of dataframe is 7.48 MB\n",
      "Memory usage after optimization is: 4.63 MB\n",
      "Decreased by 38.1%\n"
     ]
    },
    {
     "name": "stderr",
     "output_type": "stream",
     "text": [
      "100%|██████████| 36/36 [00:06<00:00,  5.24it/s]\n"
     ]
    },
    {
     "name": "stdout",
     "output_type": "stream",
     "text": [
      "Fold 2\n",
      "Memory usage of dataframe is 7.48 MB\n",
      "Memory usage after optimization is: 4.63 MB\n",
      "Decreased by 38.1%\n"
     ]
    },
    {
     "name": "stderr",
     "output_type": "stream",
     "text": [
      "100%|██████████| 36/36 [00:06<00:00,  5.17it/s]\n"
     ]
    },
    {
     "name": "stdout",
     "output_type": "stream",
     "text": [
      "Fold 3\n",
      "Memory usage of dataframe is 7.48 MB\n",
      "Memory usage after optimization is: 4.63 MB\n",
      "Decreased by 38.1%\n"
     ]
    },
    {
     "name": "stderr",
     "output_type": "stream",
     "text": [
      "100%|██████████| 36/36 [00:06<00:00,  5.19it/s]\n"
     ]
    },
    {
     "name": "stdout",
     "output_type": "stream",
     "text": [
      "Fold 4\n",
      "Memory usage of dataframe is 7.48 MB\n",
      "Memory usage after optimization is: 4.63 MB\n",
      "Decreased by 38.1%\n"
     ]
    },
    {
     "name": "stderr",
     "output_type": "stream",
     "text": [
      "100%|██████████| 36/36 [00:06<00:00,  5.21it/s]\n"
     ]
    },
    {
     "name": "stdout",
     "output_type": "stream",
     "text": [
      "Fold 5\n",
      "Memory usage of dataframe is 7.48 MB\n",
      "Memory usage after optimization is: 4.63 MB\n",
      "Decreased by 38.1%\n"
     ]
    },
    {
     "name": "stderr",
     "output_type": "stream",
     "text": [
      "100%|██████████| 36/36 [00:06<00:00,  5.16it/s]\n",
      "[I 2024-06-30 17:27:02,159] Trial 170 finished with value: 0.7696251270073395 and parameters: {'lambda': 8.328185564402342e-08, 'alpha': 0.5238017693710081, 'eta': 0.04573299924254356, 'gamma': 3.467005135709633e-08, 'max_depth': 9, 'min_child_weight': 0.0009823380920520298, 'subsample': 0.8124188685358636, 'colsample_bytree': 0.5548196735078362, 'colsample_bylevel': 0.9965732512309027, 'colsample_bynode': 0.6510451303106809, 'scale_pos_weight': 1.0577141439252522e-08}. Best is trial 160 with value: 0.7716389277859876.\n"
     ]
    },
    {
     "name": "stdout",
     "output_type": "stream",
     "text": [
      "Score: 0.7696251270073395\n",
      "Fold 1\n",
      "Memory usage of dataframe is 7.48 MB\n",
      "Memory usage after optimization is: 4.63 MB\n",
      "Decreased by 38.1%\n"
     ]
    },
    {
     "name": "stderr",
     "output_type": "stream",
     "text": [
      "100%|██████████| 36/36 [00:06<00:00,  5.25it/s]\n"
     ]
    },
    {
     "name": "stdout",
     "output_type": "stream",
     "text": [
      "Fold 2\n",
      "Memory usage of dataframe is 7.48 MB\n",
      "Memory usage after optimization is: 4.63 MB\n",
      "Decreased by 38.1%\n"
     ]
    },
    {
     "name": "stderr",
     "output_type": "stream",
     "text": [
      "100%|██████████| 36/36 [00:06<00:00,  5.20it/s]\n"
     ]
    },
    {
     "name": "stdout",
     "output_type": "stream",
     "text": [
      "Fold 3\n",
      "Memory usage of dataframe is 7.48 MB\n",
      "Memory usage after optimization is: 4.63 MB\n",
      "Decreased by 38.1%\n"
     ]
    },
    {
     "name": "stderr",
     "output_type": "stream",
     "text": [
      "100%|██████████| 36/36 [00:06<00:00,  5.21it/s]\n"
     ]
    },
    {
     "name": "stdout",
     "output_type": "stream",
     "text": [
      "Fold 4\n",
      "Memory usage of dataframe is 7.48 MB\n",
      "Memory usage after optimization is: 4.63 MB\n",
      "Decreased by 38.1%\n"
     ]
    },
    {
     "name": "stderr",
     "output_type": "stream",
     "text": [
      "100%|██████████| 36/36 [00:06<00:00,  5.15it/s]\n"
     ]
    },
    {
     "name": "stdout",
     "output_type": "stream",
     "text": [
      "Fold 5\n",
      "Memory usage of dataframe is 7.48 MB\n",
      "Memory usage after optimization is: 4.63 MB\n",
      "Decreased by 38.1%\n"
     ]
    },
    {
     "name": "stderr",
     "output_type": "stream",
     "text": [
      "100%|██████████| 36/36 [00:07<00:00,  5.14it/s]\n",
      "[I 2024-06-30 17:27:44,287] Trial 171 finished with value: 0.7703169784496616 and parameters: {'lambda': 5.13664018153427e-08, 'alpha': 0.7671572569482733, 'eta': 0.06513472942757412, 'gamma': 4.8384438953216116e-08, 'max_depth': 9, 'min_child_weight': 0.0013615517937515746, 'subsample': 0.7774074962464431, 'colsample_bytree': 0.5311218895160406, 'colsample_bylevel': 0.9906642681739696, 'colsample_bynode': 0.6836844969040589, 'scale_pos_weight': 1.007599386464641e-08}. Best is trial 160 with value: 0.7716389277859876.\n"
     ]
    },
    {
     "name": "stdout",
     "output_type": "stream",
     "text": [
      "Score: 0.7703169784496616\n",
      "Fold 1\n",
      "Memory usage of dataframe is 7.48 MB\n",
      "Memory usage after optimization is: 4.63 MB\n",
      "Decreased by 38.1%\n"
     ]
    },
    {
     "name": "stderr",
     "output_type": "stream",
     "text": [
      "100%|██████████| 36/36 [00:06<00:00,  5.15it/s]\n"
     ]
    },
    {
     "name": "stdout",
     "output_type": "stream",
     "text": [
      "Fold 2\n",
      "Memory usage of dataframe is 7.48 MB\n",
      "Memory usage after optimization is: 4.63 MB\n",
      "Decreased by 38.1%\n"
     ]
    },
    {
     "name": "stderr",
     "output_type": "stream",
     "text": [
      "100%|██████████| 36/36 [00:06<00:00,  5.20it/s]\n"
     ]
    },
    {
     "name": "stdout",
     "output_type": "stream",
     "text": [
      "Fold 3\n",
      "Memory usage of dataframe is 7.48 MB\n",
      "Memory usage after optimization is: 4.63 MB\n",
      "Decreased by 38.1%\n"
     ]
    },
    {
     "name": "stderr",
     "output_type": "stream",
     "text": [
      "100%|██████████| 36/36 [00:06<00:00,  5.24it/s]\n"
     ]
    },
    {
     "name": "stdout",
     "output_type": "stream",
     "text": [
      "Fold 4\n",
      "Memory usage of dataframe is 7.48 MB\n",
      "Memory usage after optimization is: 4.63 MB\n",
      "Decreased by 38.1%\n"
     ]
    },
    {
     "name": "stderr",
     "output_type": "stream",
     "text": [
      "100%|██████████| 36/36 [00:07<00:00,  5.07it/s]\n"
     ]
    },
    {
     "name": "stdout",
     "output_type": "stream",
     "text": [
      "Fold 5\n",
      "Memory usage of dataframe is 7.48 MB\n",
      "Memory usage after optimization is: 4.63 MB\n",
      "Decreased by 38.1%\n"
     ]
    },
    {
     "name": "stderr",
     "output_type": "stream",
     "text": [
      "100%|██████████| 36/36 [00:06<00:00,  5.20it/s]\n",
      "[I 2024-06-30 17:28:26,463] Trial 172 finished with value: 0.770279935325983 and parameters: {'lambda': 4.016592959995089e-08, 'alpha': 0.8601216560201542, 'eta': 0.07638227749295368, 'gamma': 7.253177789154887e-08, 'max_depth': 9, 'min_child_weight': 0.0007393936765518419, 'subsample': 0.8007420754103212, 'colsample_bytree': 0.5612770321169314, 'colsample_bylevel': 0.9993746027775617, 'colsample_bynode': 0.6549682202503386, 'scale_pos_weight': 1.8627171555086346e-08}. Best is trial 160 with value: 0.7716389277859876.\n"
     ]
    },
    {
     "name": "stdout",
     "output_type": "stream",
     "text": [
      "Score: 0.770279935325983\n",
      "Fold 1\n",
      "Memory usage of dataframe is 7.48 MB\n",
      "Memory usage after optimization is: 4.63 MB\n",
      "Decreased by 38.1%\n"
     ]
    },
    {
     "name": "stderr",
     "output_type": "stream",
     "text": [
      "100%|██████████| 36/36 [00:06<00:00,  5.16it/s]\n"
     ]
    },
    {
     "name": "stdout",
     "output_type": "stream",
     "text": [
      "Fold 2\n",
      "Memory usage of dataframe is 7.48 MB\n",
      "Memory usage after optimization is: 4.63 MB\n",
      "Decreased by 38.1%\n"
     ]
    },
    {
     "name": "stderr",
     "output_type": "stream",
     "text": [
      "100%|██████████| 36/36 [00:06<00:00,  5.16it/s]\n"
     ]
    },
    {
     "name": "stdout",
     "output_type": "stream",
     "text": [
      "Fold 3\n",
      "Memory usage of dataframe is 7.48 MB\n",
      "Memory usage after optimization is: 4.63 MB\n",
      "Decreased by 38.1%\n"
     ]
    },
    {
     "name": "stderr",
     "output_type": "stream",
     "text": [
      "100%|██████████| 36/36 [00:06<00:00,  5.24it/s]\n"
     ]
    },
    {
     "name": "stdout",
     "output_type": "stream",
     "text": [
      "Fold 4\n",
      "Memory usage of dataframe is 7.48 MB\n",
      "Memory usage after optimization is: 4.63 MB\n",
      "Decreased by 38.1%\n"
     ]
    },
    {
     "name": "stderr",
     "output_type": "stream",
     "text": [
      "100%|██████████| 36/36 [00:06<00:00,  5.18it/s]\n"
     ]
    },
    {
     "name": "stdout",
     "output_type": "stream",
     "text": [
      "Fold 5\n",
      "Memory usage of dataframe is 7.48 MB\n",
      "Memory usage after optimization is: 4.63 MB\n",
      "Decreased by 38.1%\n"
     ]
    },
    {
     "name": "stderr",
     "output_type": "stream",
     "text": [
      "100%|██████████| 36/36 [00:06<00:00,  5.22it/s]\n",
      "[I 2024-06-30 17:29:08,970] Trial 173 finished with value: 0.770848237697755 and parameters: {'lambda': 2.166039842948375e-08, 'alpha': 0.9919680305166492, 'eta': 0.08795573162143476, 'gamma': 4.960508564733907e-08, 'max_depth': 9, 'min_child_weight': 0.0028759523685486068, 'subsample': 0.827619861580214, 'colsample_bytree': 0.5469617058626062, 'colsample_bylevel': 0.9801447702011611, 'colsample_bynode': 0.6424708381106846, 'scale_pos_weight': 1.3290947332813447e-08}. Best is trial 160 with value: 0.7716389277859876.\n"
     ]
    },
    {
     "name": "stdout",
     "output_type": "stream",
     "text": [
      "Score: 0.770848237697755\n",
      "Fold 1\n",
      "Memory usage of dataframe is 7.48 MB\n",
      "Memory usage after optimization is: 4.63 MB\n",
      "Decreased by 38.1%\n"
     ]
    },
    {
     "name": "stderr",
     "output_type": "stream",
     "text": [
      "100%|██████████| 36/36 [00:06<00:00,  5.18it/s]\n"
     ]
    },
    {
     "name": "stdout",
     "output_type": "stream",
     "text": [
      "Fold 2\n",
      "Memory usage of dataframe is 7.48 MB\n",
      "Memory usage after optimization is: 4.63 MB\n",
      "Decreased by 38.1%\n"
     ]
    },
    {
     "name": "stderr",
     "output_type": "stream",
     "text": [
      "100%|██████████| 36/36 [00:06<00:00,  5.16it/s]\n"
     ]
    },
    {
     "name": "stdout",
     "output_type": "stream",
     "text": [
      "Fold 3\n",
      "Memory usage of dataframe is 7.48 MB\n",
      "Memory usage after optimization is: 4.63 MB\n",
      "Decreased by 38.1%\n"
     ]
    },
    {
     "name": "stderr",
     "output_type": "stream",
     "text": [
      "100%|██████████| 36/36 [00:06<00:00,  5.15it/s]\n"
     ]
    },
    {
     "name": "stdout",
     "output_type": "stream",
     "text": [
      "Fold 4\n",
      "Memory usage of dataframe is 7.48 MB\n",
      "Memory usage after optimization is: 4.63 MB\n",
      "Decreased by 38.1%\n"
     ]
    },
    {
     "name": "stderr",
     "output_type": "stream",
     "text": [
      "100%|██████████| 36/36 [00:06<00:00,  5.16it/s]\n"
     ]
    },
    {
     "name": "stdout",
     "output_type": "stream",
     "text": [
      "Fold 5\n",
      "Memory usage of dataframe is 7.48 MB\n",
      "Memory usage after optimization is: 4.63 MB\n",
      "Decreased by 38.1%\n"
     ]
    },
    {
     "name": "stderr",
     "output_type": "stream",
     "text": [
      "100%|██████████| 36/36 [00:06<00:00,  5.17it/s]\n",
      "[I 2024-06-30 17:29:51,981] Trial 174 finished with value: 0.7698722175168193 and parameters: {'lambda': 2.27604321112936e-08, 'alpha': 0.4383216110315762, 'eta': 0.08908564272437397, 'gamma': 4.4232302263002075e-08, 'max_depth': 9, 'min_child_weight': 0.0032016030935998014, 'subsample': 0.8236218925448208, 'colsample_bytree': 0.5484366080458565, 'colsample_bylevel': 0.9825267221996589, 'colsample_bynode': 0.6379963077353064, 'scale_pos_weight': 1.416125204088234e-08}. Best is trial 160 with value: 0.7716389277859876.\n"
     ]
    },
    {
     "name": "stdout",
     "output_type": "stream",
     "text": [
      "Score: 0.7698722175168193\n",
      "Fold 1\n",
      "Memory usage of dataframe is 7.48 MB\n",
      "Memory usage after optimization is: 4.63 MB\n",
      "Decreased by 38.1%\n"
     ]
    },
    {
     "name": "stderr",
     "output_type": "stream",
     "text": [
      "100%|██████████| 36/36 [00:07<00:00,  5.11it/s]\n"
     ]
    },
    {
     "name": "stdout",
     "output_type": "stream",
     "text": [
      "Fold 2\n",
      "Memory usage of dataframe is 7.48 MB\n",
      "Memory usage after optimization is: 4.63 MB\n",
      "Decreased by 38.1%\n"
     ]
    },
    {
     "name": "stderr",
     "output_type": "stream",
     "text": [
      "100%|██████████| 36/36 [00:07<00:00,  5.13it/s]\n"
     ]
    },
    {
     "name": "stdout",
     "output_type": "stream",
     "text": [
      "Fold 3\n",
      "Memory usage of dataframe is 7.48 MB\n",
      "Memory usage after optimization is: 4.63 MB\n",
      "Decreased by 38.1%\n"
     ]
    },
    {
     "name": "stderr",
     "output_type": "stream",
     "text": [
      "100%|██████████| 36/36 [00:06<00:00,  5.21it/s]\n"
     ]
    },
    {
     "name": "stdout",
     "output_type": "stream",
     "text": [
      "Fold 4\n",
      "Memory usage of dataframe is 7.48 MB\n",
      "Memory usage after optimization is: 4.63 MB\n",
      "Decreased by 38.1%\n"
     ]
    },
    {
     "name": "stderr",
     "output_type": "stream",
     "text": [
      "100%|██████████| 36/36 [00:06<00:00,  5.20it/s]\n"
     ]
    },
    {
     "name": "stdout",
     "output_type": "stream",
     "text": [
      "Fold 5\n",
      "Memory usage of dataframe is 7.48 MB\n",
      "Memory usage after optimization is: 4.63 MB\n",
      "Decreased by 38.1%\n"
     ]
    },
    {
     "name": "stderr",
     "output_type": "stream",
     "text": [
      "100%|██████████| 36/36 [00:07<00:00,  5.11it/s]\n",
      "[I 2024-06-30 17:30:34,601] Trial 175 finished with value: 0.7698475154869623 and parameters: {'lambda': 8.131336190659617e-08, 'alpha': 0.5521344147104672, 'eta': 0.06119121341669301, 'gamma': 8.391795439720031e-08, 'max_depth': 9, 'min_child_weight': 0.0010791418348284822, 'subsample': 0.8633783794117496, 'colsample_bytree': 0.5338955202774992, 'colsample_bylevel': 0.9684565288523584, 'colsample_bynode': 0.6395360544908653, 'scale_pos_weight': 1.4456109721074128e-08}. Best is trial 160 with value: 0.7716389277859876.\n"
     ]
    },
    {
     "name": "stdout",
     "output_type": "stream",
     "text": [
      "Score: 0.7698475154869623\n",
      "Fold 1\n",
      "Memory usage of dataframe is 7.48 MB\n",
      "Memory usage after optimization is: 4.63 MB\n",
      "Decreased by 38.1%\n"
     ]
    },
    {
     "name": "stderr",
     "output_type": "stream",
     "text": [
      "100%|██████████| 36/36 [00:07<00:00,  5.14it/s]\n"
     ]
    },
    {
     "name": "stdout",
     "output_type": "stream",
     "text": [
      "Fold 2\n",
      "Memory usage of dataframe is 7.48 MB\n",
      "Memory usage after optimization is: 4.63 MB\n",
      "Decreased by 38.1%\n"
     ]
    },
    {
     "name": "stderr",
     "output_type": "stream",
     "text": [
      "100%|██████████| 36/36 [00:06<00:00,  5.16it/s]\n"
     ]
    },
    {
     "name": "stdout",
     "output_type": "stream",
     "text": [
      "Fold 3\n",
      "Memory usage of dataframe is 7.48 MB\n",
      "Memory usage after optimization is: 4.63 MB\n",
      "Decreased by 38.1%\n"
     ]
    },
    {
     "name": "stderr",
     "output_type": "stream",
     "text": [
      "100%|██████████| 36/36 [00:06<00:00,  5.20it/s]\n"
     ]
    },
    {
     "name": "stdout",
     "output_type": "stream",
     "text": [
      "Fold 4\n",
      "Memory usage of dataframe is 7.48 MB\n",
      "Memory usage after optimization is: 4.63 MB\n",
      "Decreased by 38.1%\n"
     ]
    },
    {
     "name": "stderr",
     "output_type": "stream",
     "text": [
      "100%|██████████| 36/36 [00:07<00:00,  5.08it/s]\n"
     ]
    },
    {
     "name": "stdout",
     "output_type": "stream",
     "text": [
      "Fold 5\n",
      "Memory usage of dataframe is 7.48 MB\n",
      "Memory usage after optimization is: 4.63 MB\n",
      "Decreased by 38.1%\n"
     ]
    },
    {
     "name": "stderr",
     "output_type": "stream",
     "text": [
      "100%|██████████| 36/36 [00:06<00:00,  5.18it/s]\n",
      "[I 2024-06-30 17:31:17,797] Trial 176 finished with value: 0.7713053504086878 and parameters: {'lambda': 5.3889138416251497e-08, 'alpha': 0.27643495480540553, 'eta': 0.0866709909718219, 'gamma': 1.0315880256316336e-07, 'max_depth': 9, 'min_child_weight': 0.0015498427539846539, 'subsample': 0.8326523673142884, 'colsample_bytree': 0.5650446584962963, 'colsample_bylevel': 0.9764953148141002, 'colsample_bynode': 0.6485543241114067, 'scale_pos_weight': 1.826294537414084e-08}. Best is trial 160 with value: 0.7716389277859876.\n"
     ]
    },
    {
     "name": "stdout",
     "output_type": "stream",
     "text": [
      "Score: 0.7713053504086878\n",
      "Fold 1\n",
      "Memory usage of dataframe is 7.48 MB\n",
      "Memory usage after optimization is: 4.63 MB\n",
      "Decreased by 38.1%\n"
     ]
    },
    {
     "name": "stderr",
     "output_type": "stream",
     "text": [
      "100%|██████████| 36/36 [00:06<00:00,  5.22it/s]\n"
     ]
    },
    {
     "name": "stdout",
     "output_type": "stream",
     "text": [
      "Fold 2\n",
      "Memory usage of dataframe is 7.48 MB\n",
      "Memory usage after optimization is: 4.63 MB\n",
      "Decreased by 38.1%\n"
     ]
    },
    {
     "name": "stderr",
     "output_type": "stream",
     "text": [
      "100%|██████████| 36/36 [00:06<00:00,  5.15it/s]\n"
     ]
    },
    {
     "name": "stdout",
     "output_type": "stream",
     "text": [
      "Fold 3\n",
      "Memory usage of dataframe is 7.48 MB\n",
      "Memory usage after optimization is: 4.63 MB\n",
      "Decreased by 38.1%\n"
     ]
    },
    {
     "name": "stderr",
     "output_type": "stream",
     "text": [
      "100%|██████████| 36/36 [00:06<00:00,  5.15it/s]\n"
     ]
    },
    {
     "name": "stdout",
     "output_type": "stream",
     "text": [
      "Fold 4\n",
      "Memory usage of dataframe is 7.48 MB\n",
      "Memory usage after optimization is: 4.63 MB\n",
      "Decreased by 38.1%\n"
     ]
    },
    {
     "name": "stderr",
     "output_type": "stream",
     "text": [
      "100%|██████████| 36/36 [00:06<00:00,  5.20it/s]\n"
     ]
    },
    {
     "name": "stdout",
     "output_type": "stream",
     "text": [
      "Fold 5\n",
      "Memory usage of dataframe is 7.48 MB\n",
      "Memory usage after optimization is: 4.63 MB\n",
      "Decreased by 38.1%\n"
     ]
    },
    {
     "name": "stderr",
     "output_type": "stream",
     "text": [
      "100%|██████████| 36/36 [00:07<00:00,  5.14it/s]\n",
      "[I 2024-06-30 17:32:00,880] Trial 177 finished with value: 0.7707123620334624 and parameters: {'lambda': 9.742706267555337e-08, 'alpha': 0.16292745115610946, 'eta': 0.08849009213792285, 'gamma': 5.064368806859934e-08, 'max_depth': 9, 'min_child_weight': 0.0015551098092308722, 'subsample': 0.8330987626588464, 'colsample_bytree': 0.5532598211067153, 'colsample_bylevel': 0.9628079244609413, 'colsample_bynode': 0.6450099558804054, 'scale_pos_weight': 2.029896100506608e-08}. Best is trial 160 with value: 0.7716389277859876.\n"
     ]
    },
    {
     "name": "stdout",
     "output_type": "stream",
     "text": [
      "Score: 0.7707123620334624\n",
      "Fold 1\n",
      "Memory usage of dataframe is 7.48 MB\n",
      "Memory usage after optimization is: 4.63 MB\n",
      "Decreased by 38.1%\n"
     ]
    },
    {
     "name": "stderr",
     "output_type": "stream",
     "text": [
      "100%|██████████| 36/36 [00:06<00:00,  5.15it/s]\n"
     ]
    },
    {
     "name": "stdout",
     "output_type": "stream",
     "text": [
      "Fold 2\n",
      "Memory usage of dataframe is 7.48 MB\n",
      "Memory usage after optimization is: 4.63 MB\n",
      "Decreased by 38.1%\n"
     ]
    },
    {
     "name": "stderr",
     "output_type": "stream",
     "text": [
      "100%|██████████| 36/36 [00:07<00:00,  5.10it/s]\n"
     ]
    },
    {
     "name": "stdout",
     "output_type": "stream",
     "text": [
      "Fold 3\n",
      "Memory usage of dataframe is 7.48 MB\n",
      "Memory usage after optimization is: 4.63 MB\n",
      "Decreased by 38.1%\n"
     ]
    },
    {
     "name": "stderr",
     "output_type": "stream",
     "text": [
      "100%|██████████| 36/36 [00:07<00:00,  5.12it/s]\n"
     ]
    },
    {
     "name": "stdout",
     "output_type": "stream",
     "text": [
      "Fold 4\n",
      "Memory usage of dataframe is 7.48 MB\n",
      "Memory usage after optimization is: 4.63 MB\n",
      "Decreased by 38.1%\n"
     ]
    },
    {
     "name": "stderr",
     "output_type": "stream",
     "text": [
      "100%|██████████| 36/36 [00:06<00:00,  5.17it/s]\n"
     ]
    },
    {
     "name": "stdout",
     "output_type": "stream",
     "text": [
      "Fold 5\n",
      "Memory usage of dataframe is 7.48 MB\n",
      "Memory usage after optimization is: 4.63 MB\n",
      "Decreased by 38.1%\n"
     ]
    },
    {
     "name": "stderr",
     "output_type": "stream",
     "text": [
      "100%|██████████| 36/36 [00:06<00:00,  5.18it/s]\n",
      "[I 2024-06-30 17:32:43,784] Trial 178 finished with value: 0.7703046281978951 and parameters: {'lambda': 1.9686263877168202e-08, 'alpha': 0.3495492538426834, 'eta': 0.11695700735753019, 'gamma': 5.8113008563449005e-08, 'max_depth': 9, 'min_child_weight': 0.0005389943255614731, 'subsample': 0.8211437955904085, 'colsample_bytree': 0.5425457068730392, 'colsample_bylevel': 0.9716058141720805, 'colsample_bynode': 0.630429114873104, 'scale_pos_weight': 2.0952344814792496e-08}. Best is trial 160 with value: 0.7716389277859876.\n"
     ]
    },
    {
     "name": "stdout",
     "output_type": "stream",
     "text": [
      "Score: 0.7703046281978951\n",
      "Fold 1\n",
      "Memory usage of dataframe is 7.48 MB\n",
      "Memory usage after optimization is: 4.63 MB\n",
      "Decreased by 38.1%\n"
     ]
    },
    {
     "name": "stderr",
     "output_type": "stream",
     "text": [
      "100%|██████████| 36/36 [00:06<00:00,  5.18it/s]\n"
     ]
    },
    {
     "name": "stdout",
     "output_type": "stream",
     "text": [
      "Fold 2\n",
      "Memory usage of dataframe is 7.48 MB\n",
      "Memory usage after optimization is: 4.63 MB\n",
      "Decreased by 38.1%\n"
     ]
    },
    {
     "name": "stderr",
     "output_type": "stream",
     "text": [
      "100%|██████████| 36/36 [00:06<00:00,  5.20it/s]\n"
     ]
    },
    {
     "name": "stdout",
     "output_type": "stream",
     "text": [
      "Fold 3\n",
      "Memory usage of dataframe is 7.48 MB\n",
      "Memory usage after optimization is: 4.63 MB\n",
      "Decreased by 38.1%\n"
     ]
    },
    {
     "name": "stderr",
     "output_type": "stream",
     "text": [
      "100%|██████████| 36/36 [00:06<00:00,  5.22it/s]\n"
     ]
    },
    {
     "name": "stdout",
     "output_type": "stream",
     "text": [
      "Fold 4\n",
      "Memory usage of dataframe is 7.48 MB\n",
      "Memory usage after optimization is: 4.63 MB\n",
      "Decreased by 38.1%\n"
     ]
    },
    {
     "name": "stderr",
     "output_type": "stream",
     "text": [
      "100%|██████████| 36/36 [00:06<00:00,  5.22it/s]\n"
     ]
    },
    {
     "name": "stdout",
     "output_type": "stream",
     "text": [
      "Fold 5\n",
      "Memory usage of dataframe is 7.48 MB\n",
      "Memory usage after optimization is: 4.63 MB\n",
      "Decreased by 38.1%\n"
     ]
    },
    {
     "name": "stderr",
     "output_type": "stream",
     "text": [
      "100%|██████████| 36/36 [00:07<00:00,  5.14it/s]\n",
      "[I 2024-06-30 17:33:26,480] Trial 179 finished with value: 0.7697116207436181 and parameters: {'lambda': 5.3084710035841295e-08, 'alpha': 0.6425533726509298, 'eta': 0.08017787930461548, 'gamma': 1.733380570329473e-07, 'max_depth': 9, 'min_child_weight': 0.0018931759799680093, 'subsample': 0.8112538829501413, 'colsample_bytree': 0.5680509646396539, 'colsample_bylevel': 0.9854691822845013, 'colsample_bynode': 0.6606752245562272, 'scale_pos_weight': 4.000120278057627e-05}. Best is trial 160 with value: 0.7716389277859876.\n"
     ]
    },
    {
     "name": "stdout",
     "output_type": "stream",
     "text": [
      "Score: 0.7697116207436181\n",
      "Fold 1\n",
      "Memory usage of dataframe is 7.48 MB\n",
      "Memory usage after optimization is: 4.63 MB\n",
      "Decreased by 38.1%\n"
     ]
    },
    {
     "name": "stderr",
     "output_type": "stream",
     "text": [
      "100%|██████████| 36/36 [00:07<00:00,  5.04it/s]\n"
     ]
    },
    {
     "name": "stdout",
     "output_type": "stream",
     "text": [
      "Fold 2\n",
      "Memory usage of dataframe is 7.48 MB\n",
      "Memory usage after optimization is: 4.63 MB\n",
      "Decreased by 38.1%\n"
     ]
    },
    {
     "name": "stderr",
     "output_type": "stream",
     "text": [
      "100%|██████████| 36/36 [00:07<00:00,  5.11it/s]\n"
     ]
    },
    {
     "name": "stdout",
     "output_type": "stream",
     "text": [
      "Fold 3\n",
      "Memory usage of dataframe is 7.48 MB\n",
      "Memory usage after optimization is: 4.63 MB\n",
      "Decreased by 38.1%\n"
     ]
    },
    {
     "name": "stderr",
     "output_type": "stream",
     "text": [
      "100%|██████████| 36/36 [00:06<00:00,  5.15it/s]\n"
     ]
    },
    {
     "name": "stdout",
     "output_type": "stream",
     "text": [
      "Fold 4\n",
      "Memory usage of dataframe is 7.48 MB\n",
      "Memory usage after optimization is: 4.63 MB\n",
      "Decreased by 38.1%\n"
     ]
    },
    {
     "name": "stderr",
     "output_type": "stream",
     "text": [
      "100%|██████████| 36/36 [00:06<00:00,  5.15it/s]\n"
     ]
    },
    {
     "name": "stdout",
     "output_type": "stream",
     "text": [
      "Fold 5\n",
      "Memory usage of dataframe is 7.48 MB\n",
      "Memory usage after optimization is: 4.63 MB\n",
      "Decreased by 38.1%\n"
     ]
    },
    {
     "name": "stderr",
     "output_type": "stream",
     "text": [
      "100%|██████████| 36/36 [00:07<00:00,  5.12it/s]\n",
      "[I 2024-06-30 17:34:09,865] Trial 180 finished with value: 0.7710829245341235 and parameters: {'lambda': 1.0746095892121225e-07, 'alpha': 0.3061369574118516, 'eta': 0.09270892216316666, 'gamma': 3.987364844436905e-08, 'max_depth': 9, 'min_child_weight': 0.000758068377305695, 'subsample': 0.7887575592955655, 'colsample_bytree': 0.5583950842233447, 'colsample_bylevel': 0.999810404140451, 'colsample_bynode': 0.6522262322848795, 'scale_pos_weight': 1.6440749383870793e-08}. Best is trial 160 with value: 0.7716389277859876.\n"
     ]
    },
    {
     "name": "stdout",
     "output_type": "stream",
     "text": [
      "Score: 0.7710829245341235\n",
      "Fold 1\n",
      "Memory usage of dataframe is 7.48 MB\n",
      "Memory usage after optimization is: 4.63 MB\n",
      "Decreased by 38.1%\n"
     ]
    },
    {
     "name": "stderr",
     "output_type": "stream",
     "text": [
      "100%|██████████| 36/36 [00:06<00:00,  5.20it/s]\n"
     ]
    },
    {
     "name": "stdout",
     "output_type": "stream",
     "text": [
      "Fold 2\n",
      "Memory usage of dataframe is 7.48 MB\n",
      "Memory usage after optimization is: 4.63 MB\n",
      "Decreased by 38.1%\n"
     ]
    },
    {
     "name": "stderr",
     "output_type": "stream",
     "text": [
      "100%|██████████| 36/36 [00:06<00:00,  5.20it/s]\n"
     ]
    },
    {
     "name": "stdout",
     "output_type": "stream",
     "text": [
      "Fold 3\n",
      "Memory usage of dataframe is 7.48 MB\n",
      "Memory usage after optimization is: 4.63 MB\n",
      "Decreased by 38.1%\n"
     ]
    },
    {
     "name": "stderr",
     "output_type": "stream",
     "text": [
      "100%|██████████| 36/36 [00:07<00:00,  5.14it/s]\n"
     ]
    },
    {
     "name": "stdout",
     "output_type": "stream",
     "text": [
      "Fold 4\n",
      "Memory usage of dataframe is 7.48 MB\n",
      "Memory usage after optimization is: 4.63 MB\n",
      "Decreased by 38.1%\n"
     ]
    },
    {
     "name": "stderr",
     "output_type": "stream",
     "text": [
      "100%|██████████| 36/36 [00:06<00:00,  5.18it/s]\n"
     ]
    },
    {
     "name": "stdout",
     "output_type": "stream",
     "text": [
      "Fold 5\n",
      "Memory usage of dataframe is 7.48 MB\n",
      "Memory usage after optimization is: 4.63 MB\n",
      "Decreased by 38.1%\n"
     ]
    },
    {
     "name": "stderr",
     "output_type": "stream",
     "text": [
      "100%|██████████| 36/36 [00:06<00:00,  5.23it/s]\n",
      "[I 2024-06-30 17:34:52,371] Trial 181 finished with value: 0.7701069654061534 and parameters: {'lambda': 6.10405949274321e-08, 'alpha': 0.2712003288660295, 'eta': 0.09561477896648486, 'gamma': 3.240589009399909e-08, 'max_depth': 9, 'min_child_weight': 0.0007547913355995635, 'subsample': 0.7929093912681776, 'colsample_bytree': 0.544791907975992, 'colsample_bylevel': 0.9903723280791172, 'colsample_bynode': 0.6504332602107806, 'scale_pos_weight': 1.4655018126183698e-08}. Best is trial 160 with value: 0.7716389277859876.\n"
     ]
    },
    {
     "name": "stdout",
     "output_type": "stream",
     "text": [
      "Score: 0.7701069654061534\n",
      "Fold 1\n",
      "Memory usage of dataframe is 7.48 MB\n",
      "Memory usage after optimization is: 4.63 MB\n",
      "Decreased by 38.1%\n"
     ]
    },
    {
     "name": "stderr",
     "output_type": "stream",
     "text": [
      "100%|██████████| 36/36 [00:06<00:00,  5.18it/s]\n"
     ]
    },
    {
     "name": "stdout",
     "output_type": "stream",
     "text": [
      "Fold 2\n",
      "Memory usage of dataframe is 7.48 MB\n",
      "Memory usage after optimization is: 4.63 MB\n",
      "Decreased by 38.1%\n"
     ]
    },
    {
     "name": "stderr",
     "output_type": "stream",
     "text": [
      "100%|██████████| 36/36 [00:06<00:00,  5.17it/s]\n"
     ]
    },
    {
     "name": "stdout",
     "output_type": "stream",
     "text": [
      "Fold 3\n",
      "Memory usage of dataframe is 7.48 MB\n",
      "Memory usage after optimization is: 4.63 MB\n",
      "Decreased by 38.1%\n"
     ]
    },
    {
     "name": "stderr",
     "output_type": "stream",
     "text": [
      "100%|██████████| 36/36 [00:06<00:00,  5.29it/s]\n"
     ]
    },
    {
     "name": "stdout",
     "output_type": "stream",
     "text": [
      "Fold 4\n",
      "Memory usage of dataframe is 7.48 MB\n",
      "Memory usage after optimization is: 4.63 MB\n",
      "Decreased by 38.1%\n"
     ]
    },
    {
     "name": "stderr",
     "output_type": "stream",
     "text": [
      "100%|██████████| 36/36 [00:06<00:00,  5.26it/s]\n"
     ]
    },
    {
     "name": "stdout",
     "output_type": "stream",
     "text": [
      "Fold 5\n",
      "Memory usage of dataframe is 7.48 MB\n",
      "Memory usage after optimization is: 4.63 MB\n",
      "Decreased by 38.1%\n"
     ]
    },
    {
     "name": "stderr",
     "output_type": "stream",
     "text": [
      "100%|██████████| 36/36 [00:06<00:00,  5.22it/s]\n",
      "[I 2024-06-30 17:35:34,437] Trial 182 finished with value: 0.7705640598011966 and parameters: {'lambda': 9.900318096092082e-08, 'alpha': 0.9765235953778324, 'eta': 0.10452697763386995, 'gamma': 4.193026172271796e-08, 'max_depth': 9, 'min_child_weight': 0.0028681166230087114, 'subsample': 0.7763782911274979, 'colsample_bytree': 0.5608658144265818, 'colsample_bylevel': 0.9776008114168208, 'colsample_bynode': 0.6176371271860296, 'scale_pos_weight': 1.961746708834743e-08}. Best is trial 160 with value: 0.7716389277859876.\n"
     ]
    },
    {
     "name": "stdout",
     "output_type": "stream",
     "text": [
      "Score: 0.7705640598011966\n",
      "Fold 1\n",
      "Memory usage of dataframe is 7.48 MB\n",
      "Memory usage after optimization is: 4.63 MB\n",
      "Decreased by 38.1%\n"
     ]
    },
    {
     "name": "stderr",
     "output_type": "stream",
     "text": [
      "100%|██████████| 36/36 [00:06<00:00,  5.21it/s]\n"
     ]
    },
    {
     "name": "stdout",
     "output_type": "stream",
     "text": [
      "Fold 2\n",
      "Memory usage of dataframe is 7.48 MB\n",
      "Memory usage after optimization is: 4.63 MB\n",
      "Decreased by 38.1%\n"
     ]
    },
    {
     "name": "stderr",
     "output_type": "stream",
     "text": [
      "100%|██████████| 36/36 [00:06<00:00,  5.21it/s]\n"
     ]
    },
    {
     "name": "stdout",
     "output_type": "stream",
     "text": [
      "Fold 3\n",
      "Memory usage of dataframe is 7.48 MB\n",
      "Memory usage after optimization is: 4.63 MB\n",
      "Decreased by 38.1%\n"
     ]
    },
    {
     "name": "stderr",
     "output_type": "stream",
     "text": [
      "100%|██████████| 36/36 [00:06<00:00,  5.23it/s]\n"
     ]
    },
    {
     "name": "stdout",
     "output_type": "stream",
     "text": [
      "Fold 4\n",
      "Memory usage of dataframe is 7.48 MB\n",
      "Memory usage after optimization is: 4.63 MB\n",
      "Decreased by 38.1%\n"
     ]
    },
    {
     "name": "stderr",
     "output_type": "stream",
     "text": [
      "100%|██████████| 36/36 [00:06<00:00,  5.14it/s]\n"
     ]
    },
    {
     "name": "stdout",
     "output_type": "stream",
     "text": [
      "Fold 5\n",
      "Memory usage of dataframe is 7.48 MB\n",
      "Memory usage after optimization is: 4.63 MB\n",
      "Decreased by 38.1%\n"
     ]
    },
    {
     "name": "stderr",
     "output_type": "stream",
     "text": [
      "100%|██████████| 36/36 [00:06<00:00,  5.25it/s]\n",
      "[I 2024-06-30 17:36:17,696] Trial 183 finished with value: 0.7706011181881165 and parameters: {'lambda': 1.4162955880297832e-08, 'alpha': 0.519686798138059, 'eta': 0.08343821291196622, 'gamma': 2.3846695867280003e-08, 'max_depth': 9, 'min_child_weight': 0.0009748694679581666, 'subsample': 0.7868999868629104, 'colsample_bytree': 0.5830580838933567, 'colsample_bylevel': 0.996980317864888, 'colsample_bynode': 0.6596187554940481, 'scale_pos_weight': 5.007458964620087e-08}. Best is trial 160 with value: 0.7716389277859876.\n"
     ]
    },
    {
     "name": "stdout",
     "output_type": "stream",
     "text": [
      "Score: 0.7706011181881165\n",
      "Fold 1\n",
      "Memory usage of dataframe is 7.48 MB\n",
      "Memory usage after optimization is: 4.63 MB\n",
      "Decreased by 38.1%\n"
     ]
    },
    {
     "name": "stderr",
     "output_type": "stream",
     "text": [
      "100%|██████████| 36/36 [00:06<00:00,  5.34it/s]\n"
     ]
    },
    {
     "name": "stdout",
     "output_type": "stream",
     "text": [
      "Fold 2\n",
      "Memory usage of dataframe is 7.48 MB\n",
      "Memory usage after optimization is: 4.63 MB\n",
      "Decreased by 38.1%\n"
     ]
    },
    {
     "name": "stderr",
     "output_type": "stream",
     "text": [
      "100%|██████████| 36/36 [00:06<00:00,  5.29it/s]\n"
     ]
    },
    {
     "name": "stdout",
     "output_type": "stream",
     "text": [
      "Fold 3\n",
      "Memory usage of dataframe is 7.48 MB\n",
      "Memory usage after optimization is: 4.63 MB\n",
      "Decreased by 38.1%\n"
     ]
    },
    {
     "name": "stderr",
     "output_type": "stream",
     "text": [
      "100%|██████████| 36/36 [00:06<00:00,  5.28it/s]\n"
     ]
    },
    {
     "name": "stdout",
     "output_type": "stream",
     "text": [
      "Fold 4\n",
      "Memory usage of dataframe is 7.48 MB\n",
      "Memory usage after optimization is: 4.63 MB\n",
      "Decreased by 38.1%\n"
     ]
    },
    {
     "name": "stderr",
     "output_type": "stream",
     "text": [
      "100%|██████████| 36/36 [00:06<00:00,  5.31it/s]\n"
     ]
    },
    {
     "name": "stdout",
     "output_type": "stream",
     "text": [
      "Fold 5\n",
      "Memory usage of dataframe is 7.48 MB\n",
      "Memory usage after optimization is: 4.63 MB\n",
      "Decreased by 38.1%\n"
     ]
    },
    {
     "name": "stderr",
     "output_type": "stream",
     "text": [
      "100%|██████████| 36/36 [00:06<00:00,  5.34it/s]\n",
      "[I 2024-06-30 17:36:58,568] Trial 184 finished with value: 0.7708976486259275 and parameters: {'lambda': 5.362177987870941e-08, 'alpha': 0.37901744512136115, 'eta': 0.07409529904441972, 'gamma': 8.167085020772172e-08, 'max_depth': 9, 'min_child_weight': 0.001414179638226605, 'subsample': 0.8160181900055181, 'colsample_bytree': 0.5250666153788873, 'colsample_bylevel': 0.990415916940528, 'colsample_bynode': 0.6347099894606731, 'scale_pos_weight': 2.223589185754294e-08}. Best is trial 160 with value: 0.7716389277859876.\n"
     ]
    },
    {
     "name": "stdout",
     "output_type": "stream",
     "text": [
      "Score: 0.7708976486259275\n",
      "Fold 1\n",
      "Memory usage of dataframe is 7.48 MB\n",
      "Memory usage after optimization is: 4.63 MB\n",
      "Decreased by 38.1%\n"
     ]
    },
    {
     "name": "stderr",
     "output_type": "stream",
     "text": [
      "100%|██████████| 36/36 [00:06<00:00,  5.29it/s]\n"
     ]
    },
    {
     "name": "stdout",
     "output_type": "stream",
     "text": [
      "Fold 2\n",
      "Memory usage of dataframe is 7.48 MB\n",
      "Memory usage after optimization is: 4.63 MB\n",
      "Decreased by 38.1%\n"
     ]
    },
    {
     "name": "stderr",
     "output_type": "stream",
     "text": [
      "100%|██████████| 36/36 [00:06<00:00,  5.28it/s]\n"
     ]
    },
    {
     "name": "stdout",
     "output_type": "stream",
     "text": [
      "Fold 3\n",
      "Memory usage of dataframe is 7.48 MB\n",
      "Memory usage after optimization is: 4.63 MB\n",
      "Decreased by 38.1%\n"
     ]
    },
    {
     "name": "stderr",
     "output_type": "stream",
     "text": [
      "100%|██████████| 36/36 [00:06<00:00,  5.22it/s]\n"
     ]
    },
    {
     "name": "stdout",
     "output_type": "stream",
     "text": [
      "Fold 4\n",
      "Memory usage of dataframe is 7.48 MB\n",
      "Memory usage after optimization is: 4.63 MB\n",
      "Decreased by 38.1%\n"
     ]
    },
    {
     "name": "stderr",
     "output_type": "stream",
     "text": [
      "100%|██████████| 36/36 [00:06<00:00,  5.29it/s]\n"
     ]
    },
    {
     "name": "stdout",
     "output_type": "stream",
     "text": [
      "Fold 5\n",
      "Memory usage of dataframe is 7.48 MB\n",
      "Memory usage after optimization is: 4.63 MB\n",
      "Decreased by 38.1%\n"
     ]
    },
    {
     "name": "stderr",
     "output_type": "stream",
     "text": [
      "100%|██████████| 36/36 [00:06<00:00,  5.29it/s]\n",
      "[I 2024-06-30 17:37:35,230] Trial 185 finished with value: 0.7614341146235544 and parameters: {'lambda': 2.5332413497297842e-08, 'alpha': 0.3831617935425312, 'eta': 0.0717278160710447, 'gamma': 5.921655789840992e-08, 'max_depth': 3, 'min_child_weight': 0.0013475030358708687, 'subsample': 0.8305464807527286, 'colsample_bytree': 0.5164431626869297, 'colsample_bylevel': 0.9986785518522899, 'colsample_bynode': 0.630866081529081, 'scale_pos_weight': 1.0139488760529475e-08}. Best is trial 160 with value: 0.7716389277859876.\n"
     ]
    },
    {
     "name": "stdout",
     "output_type": "stream",
     "text": [
      "Score: 0.7614341146235544\n",
      "Fold 1\n",
      "Memory usage of dataframe is 7.48 MB\n",
      "Memory usage after optimization is: 4.63 MB\n",
      "Decreased by 38.1%\n"
     ]
    },
    {
     "name": "stderr",
     "output_type": "stream",
     "text": [
      "100%|██████████| 36/36 [00:06<00:00,  5.25it/s]\n"
     ]
    },
    {
     "name": "stdout",
     "output_type": "stream",
     "text": [
      "Fold 2\n",
      "Memory usage of dataframe is 7.48 MB\n",
      "Memory usage after optimization is: 4.63 MB\n",
      "Decreased by 38.1%\n"
     ]
    },
    {
     "name": "stderr",
     "output_type": "stream",
     "text": [
      "100%|██████████| 36/36 [00:06<00:00,  5.33it/s]\n"
     ]
    },
    {
     "name": "stdout",
     "output_type": "stream",
     "text": [
      "Fold 3\n",
      "Memory usage of dataframe is 7.48 MB\n",
      "Memory usage after optimization is: 4.63 MB\n",
      "Decreased by 38.1%\n"
     ]
    },
    {
     "name": "stderr",
     "output_type": "stream",
     "text": [
      "100%|██████████| 36/36 [00:06<00:00,  5.21it/s]\n"
     ]
    },
    {
     "name": "stdout",
     "output_type": "stream",
     "text": [
      "Fold 4\n",
      "Memory usage of dataframe is 7.48 MB\n",
      "Memory usage after optimization is: 4.63 MB\n",
      "Decreased by 38.1%\n"
     ]
    },
    {
     "name": "stderr",
     "output_type": "stream",
     "text": [
      "100%|██████████| 36/36 [00:06<00:00,  5.33it/s]\n"
     ]
    },
    {
     "name": "stdout",
     "output_type": "stream",
     "text": [
      "Fold 5\n",
      "Memory usage of dataframe is 7.48 MB\n",
      "Memory usage after optimization is: 4.63 MB\n",
      "Decreased by 38.1%\n"
     ]
    },
    {
     "name": "stderr",
     "output_type": "stream",
     "text": [
      "100%|██████████| 36/36 [00:06<00:00,  5.29it/s]\n",
      "[I 2024-06-30 17:38:16,075] Trial 186 finished with value: 0.7689085765878086 and parameters: {'lambda': 5.2213742417779404e-08, 'alpha': 0.6300782226728344, 'eta': 0.051626345530450875, 'gamma': 8.412322974647712e-08, 'max_depth': 9, 'min_child_weight': 0.0006542468100268348, 'subsample': 0.8134945171850183, 'colsample_bytree': 0.5252901114653453, 'colsample_bylevel': 0.9831407638205978, 'colsample_bynode': 0.6493999762843574, 'scale_pos_weight': 1.8528862737255938e-08}. Best is trial 160 with value: 0.7716389277859876.\n"
     ]
    },
    {
     "name": "stdout",
     "output_type": "stream",
     "text": [
      "Score: 0.7689085765878086\n",
      "Fold 1\n",
      "Memory usage of dataframe is 7.48 MB\n",
      "Memory usage after optimization is: 4.63 MB\n",
      "Decreased by 38.1%\n"
     ]
    },
    {
     "name": "stderr",
     "output_type": "stream",
     "text": [
      "100%|██████████| 36/36 [00:06<00:00,  5.30it/s]\n"
     ]
    },
    {
     "name": "stdout",
     "output_type": "stream",
     "text": [
      "Fold 2\n",
      "Memory usage of dataframe is 7.48 MB\n",
      "Memory usage after optimization is: 4.63 MB\n",
      "Decreased by 38.1%\n"
     ]
    },
    {
     "name": "stderr",
     "output_type": "stream",
     "text": [
      "100%|██████████| 36/36 [00:06<00:00,  5.31it/s]\n"
     ]
    },
    {
     "name": "stdout",
     "output_type": "stream",
     "text": [
      "Fold 3\n",
      "Memory usage of dataframe is 7.48 MB\n",
      "Memory usage after optimization is: 4.63 MB\n",
      "Decreased by 38.1%\n"
     ]
    },
    {
     "name": "stderr",
     "output_type": "stream",
     "text": [
      "100%|██████████| 36/36 [00:06<00:00,  5.33it/s]\n"
     ]
    },
    {
     "name": "stdout",
     "output_type": "stream",
     "text": [
      "Fold 4\n",
      "Memory usage of dataframe is 7.48 MB\n",
      "Memory usage after optimization is: 4.63 MB\n",
      "Decreased by 38.1%\n"
     ]
    },
    {
     "name": "stderr",
     "output_type": "stream",
     "text": [
      "100%|██████████| 36/36 [00:06<00:00,  5.34it/s]\n"
     ]
    },
    {
     "name": "stdout",
     "output_type": "stream",
     "text": [
      "Fold 5\n",
      "Memory usage of dataframe is 7.48 MB\n",
      "Memory usage after optimization is: 4.63 MB\n",
      "Decreased by 38.1%\n"
     ]
    },
    {
     "name": "stderr",
     "output_type": "stream",
     "text": [
      "100%|██████████| 36/36 [00:06<00:00,  5.25it/s]\n",
      "[I 2024-06-30 17:38:57,576] Trial 187 finished with value: 0.7698228042991605 and parameters: {'lambda': 9.433488608306753e-08, 'alpha': 0.18138913855321065, 'eta': 0.07497293057311714, 'gamma': 1.038306188471447e-07, 'max_depth': 9, 'min_child_weight': 0.0003837163169654196, 'subsample': 0.8174093646255951, 'colsample_bytree': 0.5383423594582026, 'colsample_bylevel': 0.9739206115824426, 'colsample_bynode': 0.6720420805244546, 'scale_pos_weight': 2.4702914866869697e-08}. Best is trial 160 with value: 0.7716389277859876.\n"
     ]
    },
    {
     "name": "stdout",
     "output_type": "stream",
     "text": [
      "Score: 0.7698228042991605\n",
      "Fold 1\n",
      "Memory usage of dataframe is 7.48 MB\n",
      "Memory usage after optimization is: 4.63 MB\n",
      "Decreased by 38.1%\n"
     ]
    },
    {
     "name": "stderr",
     "output_type": "stream",
     "text": [
      "100%|██████████| 36/36 [00:06<00:00,  5.32it/s]\n"
     ]
    },
    {
     "name": "stdout",
     "output_type": "stream",
     "text": [
      "Fold 2\n",
      "Memory usage of dataframe is 7.48 MB\n",
      "Memory usage after optimization is: 4.63 MB\n",
      "Decreased by 38.1%\n"
     ]
    },
    {
     "name": "stderr",
     "output_type": "stream",
     "text": [
      "100%|██████████| 36/36 [00:06<00:00,  5.28it/s]\n"
     ]
    },
    {
     "name": "stdout",
     "output_type": "stream",
     "text": [
      "Fold 3\n",
      "Memory usage of dataframe is 7.48 MB\n",
      "Memory usage after optimization is: 4.63 MB\n",
      "Decreased by 38.1%\n"
     ]
    },
    {
     "name": "stderr",
     "output_type": "stream",
     "text": [
      "100%|██████████| 36/36 [00:06<00:00,  5.18it/s]\n"
     ]
    },
    {
     "name": "stdout",
     "output_type": "stream",
     "text": [
      "Fold 4\n",
      "Memory usage of dataframe is 7.48 MB\n",
      "Memory usage after optimization is: 4.63 MB\n",
      "Decreased by 38.1%\n"
     ]
    },
    {
     "name": "stderr",
     "output_type": "stream",
     "text": [
      "100%|██████████| 36/36 [00:06<00:00,  5.32it/s]\n"
     ]
    },
    {
     "name": "stdout",
     "output_type": "stream",
     "text": [
      "Fold 5\n",
      "Memory usage of dataframe is 7.48 MB\n",
      "Memory usage after optimization is: 4.63 MB\n",
      "Decreased by 38.1%\n"
     ]
    },
    {
     "name": "stderr",
     "output_type": "stream",
     "text": [
      "100%|██████████| 36/36 [00:06<00:00,  5.30it/s]\n",
      "[I 2024-06-30 17:39:38,558] Trial 188 finished with value: 0.7646709917503249 and parameters: {'lambda': 5.951823318314004e-08, 'alpha': 0.3904741776367232, 'eta': 0.017871421695936203, 'gamma': 1.8248651593161113e-05, 'max_depth': 9, 'min_child_weight': 0.0017736702196101924, 'subsample': 0.8006914236894467, 'colsample_bytree': 0.5080515465359574, 'colsample_bylevel': 0.9902678472754487, 'colsample_bynode': 0.6402340126580011, 'scale_pos_weight': 1.4559368594478908e-08}. Best is trial 160 with value: 0.7716389277859876.\n"
     ]
    },
    {
     "name": "stdout",
     "output_type": "stream",
     "text": [
      "Score: 0.7646709917503249\n",
      "Fold 1\n",
      "Memory usage of dataframe is 7.48 MB\n",
      "Memory usage after optimization is: 4.63 MB\n",
      "Decreased by 38.1%\n"
     ]
    },
    {
     "name": "stderr",
     "output_type": "stream",
     "text": [
      "100%|██████████| 36/36 [00:06<00:00,  5.24it/s]\n"
     ]
    },
    {
     "name": "stdout",
     "output_type": "stream",
     "text": [
      "Fold 2\n",
      "Memory usage of dataframe is 7.48 MB\n",
      "Memory usage after optimization is: 4.63 MB\n",
      "Decreased by 38.1%\n"
     ]
    },
    {
     "name": "stderr",
     "output_type": "stream",
     "text": [
      "100%|██████████| 36/36 [00:06<00:00,  5.17it/s]\n"
     ]
    },
    {
     "name": "stdout",
     "output_type": "stream",
     "text": [
      "Fold 3\n",
      "Memory usage of dataframe is 7.48 MB\n",
      "Memory usage after optimization is: 4.63 MB\n",
      "Decreased by 38.1%\n"
     ]
    },
    {
     "name": "stderr",
     "output_type": "stream",
     "text": [
      "100%|██████████| 36/36 [00:06<00:00,  5.21it/s]\n"
     ]
    },
    {
     "name": "stdout",
     "output_type": "stream",
     "text": [
      "Fold 4\n",
      "Memory usage of dataframe is 7.48 MB\n",
      "Memory usage after optimization is: 4.63 MB\n",
      "Decreased by 38.1%\n"
     ]
    },
    {
     "name": "stderr",
     "output_type": "stream",
     "text": [
      "100%|██████████| 36/36 [00:06<00:00,  5.29it/s]\n"
     ]
    },
    {
     "name": "stdout",
     "output_type": "stream",
     "text": [
      "Fold 5\n",
      "Memory usage of dataframe is 7.48 MB\n",
      "Memory usage after optimization is: 4.63 MB\n",
      "Decreased by 38.1%\n"
     ]
    },
    {
     "name": "stderr",
     "output_type": "stream",
     "text": [
      "100%|██████████| 36/36 [00:06<00:00,  5.29it/s]\n",
      "[I 2024-06-30 17:40:20,671] Trial 189 finished with value: 0.7706381964172502 and parameters: {'lambda': 1.3070388691023235e-08, 'alpha': 0.13642009749014725, 'eta': 0.06266145963793927, 'gamma': 3.711758449330224e-08, 'max_depth': 9, 'min_child_weight': 0.0011083962253022267, 'subsample': 0.840922082139699, 'colsample_bytree': 0.5486874459821371, 'colsample_bylevel': 0.999169437664094, 'colsample_bynode': 0.6578882947778164, 'scale_pos_weight': 4.389598533826982e-08}. Best is trial 160 with value: 0.7716389277859876.\n"
     ]
    },
    {
     "name": "stdout",
     "output_type": "stream",
     "text": [
      "Score: 0.7706381964172502\n",
      "Fold 1\n",
      "Memory usage of dataframe is 7.48 MB\n",
      "Memory usage after optimization is: 4.63 MB\n",
      "Decreased by 38.1%\n"
     ]
    },
    {
     "name": "stderr",
     "output_type": "stream",
     "text": [
      "100%|██████████| 36/36 [00:07<00:00,  5.02it/s]\n"
     ]
    },
    {
     "name": "stdout",
     "output_type": "stream",
     "text": [
      "Fold 2\n",
      "Memory usage of dataframe is 7.48 MB\n",
      "Memory usage after optimization is: 4.63 MB\n",
      "Decreased by 38.1%\n"
     ]
    },
    {
     "name": "stderr",
     "output_type": "stream",
     "text": [
      "100%|██████████| 36/36 [00:07<00:00,  5.02it/s]\n"
     ]
    },
    {
     "name": "stdout",
     "output_type": "stream",
     "text": [
      "Fold 3\n",
      "Memory usage of dataframe is 7.48 MB\n",
      "Memory usage after optimization is: 4.63 MB\n",
      "Decreased by 38.1%\n"
     ]
    },
    {
     "name": "stderr",
     "output_type": "stream",
     "text": [
      "100%|██████████| 36/36 [00:06<00:00,  5.29it/s]\n"
     ]
    },
    {
     "name": "stdout",
     "output_type": "stream",
     "text": [
      "Fold 4\n",
      "Memory usage of dataframe is 7.48 MB\n",
      "Memory usage after optimization is: 4.63 MB\n",
      "Decreased by 38.1%\n"
     ]
    },
    {
     "name": "stderr",
     "output_type": "stream",
     "text": [
      "100%|██████████| 36/36 [00:06<00:00,  5.28it/s]\n"
     ]
    },
    {
     "name": "stdout",
     "output_type": "stream",
     "text": [
      "Fold 5\n",
      "Memory usage of dataframe is 7.48 MB\n",
      "Memory usage after optimization is: 4.63 MB\n",
      "Decreased by 38.1%\n"
     ]
    },
    {
     "name": "stderr",
     "output_type": "stream",
     "text": [
      "100%|██████████| 36/36 [00:06<00:00,  5.32it/s]\n",
      "[I 2024-06-30 17:41:02,901] Trial 190 finished with value: 0.7702181191983751 and parameters: {'lambda': 1.1675325964724081e-07, 'alpha': 0.28669265787998854, 'eta': 0.0853242086741428, 'gamma': 4.675220437559636e-07, 'max_depth': 9, 'min_child_weight': 0.0025379099698653743, 'subsample': 0.8256833908000978, 'colsample_bytree': 0.528183794061177, 'colsample_bylevel': 0.9645469672377441, 'colsample_bynode': 0.6235033675785701, 'scale_pos_weight': 2.4905424670676383e-08}. Best is trial 160 with value: 0.7716389277859876.\n"
     ]
    },
    {
     "name": "stdout",
     "output_type": "stream",
     "text": [
      "Score: 0.7702181191983751\n",
      "Fold 1\n",
      "Memory usage of dataframe is 7.48 MB\n",
      "Memory usage after optimization is: 4.63 MB\n",
      "Decreased by 38.1%\n"
     ]
    },
    {
     "name": "stderr",
     "output_type": "stream",
     "text": [
      "100%|██████████| 36/36 [00:06<00:00,  5.26it/s]\n"
     ]
    },
    {
     "name": "stdout",
     "output_type": "stream",
     "text": [
      "Fold 2\n",
      "Memory usage of dataframe is 7.48 MB\n",
      "Memory usage after optimization is: 4.63 MB\n",
      "Decreased by 38.1%\n"
     ]
    },
    {
     "name": "stderr",
     "output_type": "stream",
     "text": [
      "100%|██████████| 36/36 [00:06<00:00,  5.24it/s]\n"
     ]
    },
    {
     "name": "stdout",
     "output_type": "stream",
     "text": [
      "Fold 3\n",
      "Memory usage of dataframe is 7.48 MB\n",
      "Memory usage after optimization is: 4.63 MB\n",
      "Decreased by 38.1%\n"
     ]
    },
    {
     "name": "stderr",
     "output_type": "stream",
     "text": [
      "100%|██████████| 36/36 [00:06<00:00,  5.25it/s]\n"
     ]
    },
    {
     "name": "stdout",
     "output_type": "stream",
     "text": [
      "Fold 4\n",
      "Memory usage of dataframe is 7.48 MB\n",
      "Memory usage after optimization is: 4.63 MB\n",
      "Decreased by 38.1%\n"
     ]
    },
    {
     "name": "stderr",
     "output_type": "stream",
     "text": [
      "100%|██████████| 36/36 [00:06<00:00,  5.30it/s]\n"
     ]
    },
    {
     "name": "stdout",
     "output_type": "stream",
     "text": [
      "Fold 5\n",
      "Memory usage of dataframe is 7.48 MB\n",
      "Memory usage after optimization is: 4.63 MB\n",
      "Decreased by 38.1%\n"
     ]
    },
    {
     "name": "stderr",
     "output_type": "stream",
     "text": [
      "100%|██████████| 36/36 [00:06<00:00,  5.27it/s]\n",
      "[I 2024-06-30 17:41:44,630] Trial 191 finished with value: 0.7701069455639397 and parameters: {'lambda': 3.087450336082798e-08, 'alpha': 0.08109949418150783, 'eta': 0.09437442362865378, 'gamma': 1.2716264387778372e-07, 'max_depth': 9, 'min_child_weight': 0.003718071261706775, 'subsample': 0.7822088553844714, 'colsample_bytree': 0.5577164450172727, 'colsample_bylevel': 0.9825342043376039, 'colsample_bynode': 0.6103265022982619, 'scale_pos_weight': 3.672595384414733e-08}. Best is trial 160 with value: 0.7716389277859876.\n"
     ]
    },
    {
     "name": "stdout",
     "output_type": "stream",
     "text": [
      "Score: 0.7701069455639397\n",
      "Fold 1\n",
      "Memory usage of dataframe is 7.48 MB\n",
      "Memory usage after optimization is: 4.63 MB\n",
      "Decreased by 38.1%\n"
     ]
    },
    {
     "name": "stderr",
     "output_type": "stream",
     "text": [
      "100%|██████████| 36/36 [00:06<00:00,  5.30it/s]\n"
     ]
    },
    {
     "name": "stdout",
     "output_type": "stream",
     "text": [
      "Fold 2\n",
      "Memory usage of dataframe is 7.48 MB\n",
      "Memory usage after optimization is: 4.63 MB\n",
      "Decreased by 38.1%\n"
     ]
    },
    {
     "name": "stderr",
     "output_type": "stream",
     "text": [
      "100%|██████████| 36/36 [00:06<00:00,  5.19it/s]\n"
     ]
    },
    {
     "name": "stdout",
     "output_type": "stream",
     "text": [
      "Fold 3\n",
      "Memory usage of dataframe is 7.48 MB\n",
      "Memory usage after optimization is: 4.63 MB\n",
      "Decreased by 38.1%\n"
     ]
    },
    {
     "name": "stderr",
     "output_type": "stream",
     "text": [
      "100%|██████████| 36/36 [00:06<00:00,  5.28it/s]\n"
     ]
    },
    {
     "name": "stdout",
     "output_type": "stream",
     "text": [
      "Fold 4\n",
      "Memory usage of dataframe is 7.48 MB\n",
      "Memory usage after optimization is: 4.63 MB\n",
      "Decreased by 38.1%\n"
     ]
    },
    {
     "name": "stderr",
     "output_type": "stream",
     "text": [
      "100%|██████████| 36/36 [00:06<00:00,  5.25it/s]\n"
     ]
    },
    {
     "name": "stdout",
     "output_type": "stream",
     "text": [
      "Fold 5\n",
      "Memory usage of dataframe is 7.48 MB\n",
      "Memory usage after optimization is: 4.63 MB\n",
      "Decreased by 38.1%\n"
     ]
    },
    {
     "name": "stderr",
     "output_type": "stream",
     "text": [
      "100%|██████████| 36/36 [00:06<00:00,  5.31it/s]\n",
      "[I 2024-06-30 17:42:26,341] Trial 192 finished with value: 0.7699710538732436 and parameters: {'lambda': 4.386835133580738e-08, 'alpha': 0.4614929180229806, 'eta': 0.07031563995178532, 'gamma': 1.72125522066756e-07, 'max_depth': 9, 'min_child_weight': 0.002186458457170753, 'subsample': 0.8528241889036398, 'colsample_bytree': 0.5378526539321457, 'colsample_bylevel': 0.9731974644720045, 'colsample_bynode': 0.6351991470471621, 'scale_pos_weight': 1.3899010710262434e-08}. Best is trial 160 with value: 0.7716389277859876.\n"
     ]
    },
    {
     "name": "stdout",
     "output_type": "stream",
     "text": [
      "Score: 0.7699710538732436\n",
      "Fold 1\n",
      "Memory usage of dataframe is 7.48 MB\n",
      "Memory usage after optimization is: 4.63 MB\n",
      "Decreased by 38.1%\n"
     ]
    },
    {
     "name": "stderr",
     "output_type": "stream",
     "text": [
      "100%|██████████| 36/36 [00:06<00:00,  5.31it/s]\n"
     ]
    },
    {
     "name": "stdout",
     "output_type": "stream",
     "text": [
      "Fold 2\n",
      "Memory usage of dataframe is 7.48 MB\n",
      "Memory usage after optimization is: 4.63 MB\n",
      "Decreased by 38.1%\n"
     ]
    },
    {
     "name": "stderr",
     "output_type": "stream",
     "text": [
      "100%|██████████| 36/36 [00:06<00:00,  5.34it/s]\n"
     ]
    },
    {
     "name": "stdout",
     "output_type": "stream",
     "text": [
      "Fold 3\n",
      "Memory usage of dataframe is 7.48 MB\n",
      "Memory usage after optimization is: 4.63 MB\n",
      "Decreased by 38.1%\n"
     ]
    },
    {
     "name": "stderr",
     "output_type": "stream",
     "text": [
      "100%|██████████| 36/36 [00:06<00:00,  5.31it/s]\n"
     ]
    },
    {
     "name": "stdout",
     "output_type": "stream",
     "text": [
      "Fold 4\n",
      "Memory usage of dataframe is 7.48 MB\n",
      "Memory usage after optimization is: 4.63 MB\n",
      "Decreased by 38.1%\n"
     ]
    },
    {
     "name": "stderr",
     "output_type": "stream",
     "text": [
      "100%|██████████| 36/36 [00:06<00:00,  5.30it/s]\n"
     ]
    },
    {
     "name": "stdout",
     "output_type": "stream",
     "text": [
      "Fold 5\n",
      "Memory usage of dataframe is 7.48 MB\n",
      "Memory usage after optimization is: 4.63 MB\n",
      "Decreased by 38.1%\n"
     ]
    },
    {
     "name": "stderr",
     "output_type": "stream",
     "text": [
      "100%|██████████| 36/36 [00:06<00:00,  5.30it/s]\n",
      "[I 2024-06-30 17:43:07,587] Trial 193 finished with value: 0.7701192912367335 and parameters: {'lambda': 3.303159708839123e-07, 'alpha': 0.2550169958169704, 'eta': 0.07931617027440893, 'gamma': 7.002930965755555e-08, 'max_depth': 9, 'min_child_weight': 0.0015249517874489696, 'subsample': 0.7904728870975597, 'colsample_bytree': 0.5638321629855279, 'colsample_bylevel': 0.9573291329536907, 'colsample_bynode': 0.6747823247412906, 'scale_pos_weight': 6.242064701973408e-08}. Best is trial 160 with value: 0.7716389277859876.\n"
     ]
    },
    {
     "name": "stdout",
     "output_type": "stream",
     "text": [
      "Score: 0.7701192912367335\n",
      "Fold 1\n",
      "Memory usage of dataframe is 7.48 MB\n",
      "Memory usage after optimization is: 4.63 MB\n",
      "Decreased by 38.1%\n"
     ]
    },
    {
     "name": "stderr",
     "output_type": "stream",
     "text": [
      "100%|██████████| 36/36 [00:06<00:00,  5.31it/s]\n"
     ]
    },
    {
     "name": "stdout",
     "output_type": "stream",
     "text": [
      "Fold 2\n",
      "Memory usage of dataframe is 7.48 MB\n",
      "Memory usage after optimization is: 4.63 MB\n",
      "Decreased by 38.1%\n"
     ]
    },
    {
     "name": "stderr",
     "output_type": "stream",
     "text": [
      "100%|██████████| 36/36 [00:07<00:00,  5.06it/s]\n"
     ]
    },
    {
     "name": "stdout",
     "output_type": "stream",
     "text": [
      "Fold 3\n",
      "Memory usage of dataframe is 7.48 MB\n",
      "Memory usage after optimization is: 4.63 MB\n",
      "Decreased by 38.1%\n"
     ]
    },
    {
     "name": "stderr",
     "output_type": "stream",
     "text": [
      "100%|██████████| 36/36 [00:06<00:00,  5.21it/s]\n"
     ]
    },
    {
     "name": "stdout",
     "output_type": "stream",
     "text": [
      "Fold 4\n",
      "Memory usage of dataframe is 7.48 MB\n",
      "Memory usage after optimization is: 4.63 MB\n",
      "Decreased by 38.1%\n"
     ]
    },
    {
     "name": "stderr",
     "output_type": "stream",
     "text": [
      "100%|██████████| 36/36 [00:06<00:00,  5.24it/s]\n"
     ]
    },
    {
     "name": "stdout",
     "output_type": "stream",
     "text": [
      "Fold 5\n",
      "Memory usage of dataframe is 7.48 MB\n",
      "Memory usage after optimization is: 4.63 MB\n",
      "Decreased by 38.1%\n"
     ]
    },
    {
     "name": "stderr",
     "output_type": "stream",
     "text": [
      "100%|██████████| 36/36 [00:06<00:00,  5.29it/s]\n",
      "[I 2024-06-30 17:43:49,782] Trial 194 finished with value: 0.7702181344616166 and parameters: {'lambda': 1.567215645756175e-07, 'alpha': 0.9911670546024363, 'eta': 0.10155838467598734, 'gamma': 2.1271624582619562e-07, 'max_depth': 9, 'min_child_weight': 0.003268118855508499, 'subsample': 0.830506414008171, 'colsample_bytree': 0.5758104660354498, 'colsample_bylevel': 0.9998921293609309, 'colsample_bynode': 0.6465619666724389, 'scale_pos_weight': 2.257677943290615e-08}. Best is trial 160 with value: 0.7716389277859876.\n"
     ]
    },
    {
     "name": "stdout",
     "output_type": "stream",
     "text": [
      "Score: 0.7702181344616166\n",
      "Fold 1\n",
      "Memory usage of dataframe is 7.48 MB\n",
      "Memory usage after optimization is: 4.63 MB\n",
      "Decreased by 38.1%\n"
     ]
    },
    {
     "name": "stderr",
     "output_type": "stream",
     "text": [
      "100%|██████████| 36/36 [00:06<00:00,  5.31it/s]\n"
     ]
    },
    {
     "name": "stdout",
     "output_type": "stream",
     "text": [
      "Fold 2\n",
      "Memory usage of dataframe is 7.48 MB\n",
      "Memory usage after optimization is: 4.63 MB\n",
      "Decreased by 38.1%\n"
     ]
    },
    {
     "name": "stderr",
     "output_type": "stream",
     "text": [
      "100%|██████████| 36/36 [00:06<00:00,  5.27it/s]\n"
     ]
    },
    {
     "name": "stdout",
     "output_type": "stream",
     "text": [
      "Fold 3\n",
      "Memory usage of dataframe is 7.48 MB\n",
      "Memory usage after optimization is: 4.63 MB\n",
      "Decreased by 38.1%\n"
     ]
    },
    {
     "name": "stderr",
     "output_type": "stream",
     "text": [
      "100%|██████████| 36/36 [00:06<00:00,  5.26it/s]\n"
     ]
    },
    {
     "name": "stdout",
     "output_type": "stream",
     "text": [
      "Fold 4\n",
      "Memory usage of dataframe is 7.48 MB\n",
      "Memory usage after optimization is: 4.63 MB\n",
      "Decreased by 38.1%\n"
     ]
    },
    {
     "name": "stderr",
     "output_type": "stream",
     "text": [
      "100%|██████████| 36/36 [00:06<00:00,  5.26it/s]\n"
     ]
    },
    {
     "name": "stdout",
     "output_type": "stream",
     "text": [
      "Fold 5\n",
      "Memory usage of dataframe is 7.48 MB\n",
      "Memory usage after optimization is: 4.63 MB\n",
      "Decreased by 38.1%\n"
     ]
    },
    {
     "name": "stderr",
     "output_type": "stream",
     "text": [
      "100%|██████████| 36/36 [00:06<00:00,  5.23it/s]\n",
      "[I 2024-06-30 17:44:31,576] Trial 195 finished with value: 0.7708111526001626 and parameters: {'lambda': 7.718372816415687e-08, 'alpha': 0.6717016001010665, 'eta': 0.05637447201983323, 'gamma': 0.00014451963267070488, 'max_depth': 9, 'min_child_weight': 0.00099670013364732, 'subsample': 0.8068219969349019, 'colsample_bytree': 0.5843232338006611, 'colsample_bylevel': 0.9832571222821602, 'colsample_bynode': 0.6629910694185508, 'scale_pos_weight': 3.991684368990634e-08}. Best is trial 160 with value: 0.7716389277859876.\n"
     ]
    },
    {
     "name": "stdout",
     "output_type": "stream",
     "text": [
      "Score: 0.7708111526001626\n",
      "Fold 1\n",
      "Memory usage of dataframe is 7.48 MB\n",
      "Memory usage after optimization is: 4.63 MB\n",
      "Decreased by 38.1%\n"
     ]
    },
    {
     "name": "stderr",
     "output_type": "stream",
     "text": [
      "100%|██████████| 36/36 [00:06<00:00,  5.32it/s]\n"
     ]
    },
    {
     "name": "stdout",
     "output_type": "stream",
     "text": [
      "Fold 2\n",
      "Memory usage of dataframe is 7.48 MB\n",
      "Memory usage after optimization is: 4.63 MB\n",
      "Decreased by 38.1%\n"
     ]
    },
    {
     "name": "stderr",
     "output_type": "stream",
     "text": [
      "100%|██████████| 36/36 [00:07<00:00,  5.13it/s]\n"
     ]
    },
    {
     "name": "stdout",
     "output_type": "stream",
     "text": [
      "Fold 3\n",
      "Memory usage of dataframe is 7.48 MB\n",
      "Memory usage after optimization is: 4.63 MB\n",
      "Decreased by 38.1%\n"
     ]
    },
    {
     "name": "stderr",
     "output_type": "stream",
     "text": [
      "100%|██████████| 36/36 [00:06<00:00,  5.20it/s]\n"
     ]
    },
    {
     "name": "stdout",
     "output_type": "stream",
     "text": [
      "Fold 4\n",
      "Memory usage of dataframe is 7.48 MB\n",
      "Memory usage after optimization is: 4.63 MB\n",
      "Decreased by 38.1%\n"
     ]
    },
    {
     "name": "stderr",
     "output_type": "stream",
     "text": [
      "100%|██████████| 36/36 [00:06<00:00,  5.30it/s]\n"
     ]
    },
    {
     "name": "stdout",
     "output_type": "stream",
     "text": [
      "Fold 5\n",
      "Memory usage of dataframe is 7.48 MB\n",
      "Memory usage after optimization is: 4.63 MB\n",
      "Decreased by 38.1%\n"
     ]
    },
    {
     "name": "stderr",
     "output_type": "stream",
     "text": [
      "100%|██████████| 36/36 [00:06<00:00,  5.26it/s]\n",
      "[I 2024-06-30 17:45:13,376] Trial 196 finished with value: 0.7701193042104888 and parameters: {'lambda': 7.346703851367912e-08, 'alpha': 0.6831998479952793, 'eta': 0.0543997435239048, 'gamma': 0.0002990150804364097, 'max_depth': 9, 'min_child_weight': 0.0007970048459418283, 'subsample': 0.8065108373330733, 'colsample_bytree': 0.5872316482485446, 'colsample_bylevel': 0.9905270440448302, 'colsample_bynode': 0.6645128152981609, 'scale_pos_weight': 3.73840527449881e-08}. Best is trial 160 with value: 0.7716389277859876.\n"
     ]
    },
    {
     "name": "stdout",
     "output_type": "stream",
     "text": [
      "Score: 0.7701193042104888\n",
      "Fold 1\n",
      "Memory usage of dataframe is 7.48 MB\n",
      "Memory usage after optimization is: 4.63 MB\n",
      "Decreased by 38.1%\n"
     ]
    },
    {
     "name": "stderr",
     "output_type": "stream",
     "text": [
      "100%|██████████| 36/36 [00:06<00:00,  5.15it/s]\n"
     ]
    },
    {
     "name": "stdout",
     "output_type": "stream",
     "text": [
      "Fold 2\n",
      "Memory usage of dataframe is 7.48 MB\n",
      "Memory usage after optimization is: 4.63 MB\n",
      "Decreased by 38.1%\n"
     ]
    },
    {
     "name": "stderr",
     "output_type": "stream",
     "text": [
      "100%|██████████| 36/36 [00:06<00:00,  5.28it/s]\n"
     ]
    },
    {
     "name": "stdout",
     "output_type": "stream",
     "text": [
      "Fold 3\n",
      "Memory usage of dataframe is 7.48 MB\n",
      "Memory usage after optimization is: 4.63 MB\n",
      "Decreased by 38.1%\n"
     ]
    },
    {
     "name": "stderr",
     "output_type": "stream",
     "text": [
      "100%|██████████| 36/36 [00:06<00:00,  5.26it/s]\n"
     ]
    },
    {
     "name": "stdout",
     "output_type": "stream",
     "text": [
      "Fold 4\n",
      "Memory usage of dataframe is 7.48 MB\n",
      "Memory usage after optimization is: 4.63 MB\n",
      "Decreased by 38.1%\n"
     ]
    },
    {
     "name": "stderr",
     "output_type": "stream",
     "text": [
      "100%|██████████| 36/36 [00:06<00:00,  5.34it/s]\n"
     ]
    },
    {
     "name": "stdout",
     "output_type": "stream",
     "text": [
      "Fold 5\n",
      "Memory usage of dataframe is 7.48 MB\n",
      "Memory usage after optimization is: 4.63 MB\n",
      "Decreased by 38.1%\n"
     ]
    },
    {
     "name": "stderr",
     "output_type": "stream",
     "text": [
      "100%|██████████| 36/36 [00:06<00:00,  5.26it/s]\n",
      "[I 2024-06-30 17:45:54,982] Trial 197 finished with value: 0.7700822534551894 and parameters: {'lambda': 2.519760828501624e-08, 'alpha': 0.4826109759133609, 'eta': 0.06067788731447158, 'gamma': 7.584577339008634e-06, 'max_depth': 9, 'min_child_weight': 0.00040194062467356563, 'subsample': 0.7708295537846869, 'colsample_bytree': 0.6081535425475462, 'colsample_bylevel': 0.9811109176260981, 'colsample_bynode': 0.6809800830315271, 'scale_pos_weight': 2.504990358516667e-08}. Best is trial 160 with value: 0.7716389277859876.\n"
     ]
    },
    {
     "name": "stdout",
     "output_type": "stream",
     "text": [
      "Score: 0.7700822534551894\n",
      "Fold 1\n",
      "Memory usage of dataframe is 7.48 MB\n",
      "Memory usage after optimization is: 4.63 MB\n",
      "Decreased by 38.1%\n"
     ]
    },
    {
     "name": "stderr",
     "output_type": "stream",
     "text": [
      "100%|██████████| 36/36 [00:06<00:00,  5.19it/s]\n"
     ]
    },
    {
     "name": "stdout",
     "output_type": "stream",
     "text": [
      "Fold 2\n",
      "Memory usage of dataframe is 7.48 MB\n",
      "Memory usage after optimization is: 4.63 MB\n",
      "Decreased by 38.1%\n"
     ]
    },
    {
     "name": "stderr",
     "output_type": "stream",
     "text": [
      "100%|██████████| 36/36 [00:06<00:00,  5.22it/s]\n"
     ]
    },
    {
     "name": "stdout",
     "output_type": "stream",
     "text": [
      "Fold 3\n",
      "Memory usage of dataframe is 7.48 MB\n",
      "Memory usage after optimization is: 4.63 MB\n",
      "Decreased by 38.1%\n"
     ]
    },
    {
     "name": "stderr",
     "output_type": "stream",
     "text": [
      "100%|██████████| 36/36 [00:06<00:00,  5.29it/s]\n"
     ]
    },
    {
     "name": "stdout",
     "output_type": "stream",
     "text": [
      "Fold 4\n",
      "Memory usage of dataframe is 7.48 MB\n",
      "Memory usage after optimization is: 4.63 MB\n",
      "Decreased by 38.1%\n"
     ]
    },
    {
     "name": "stderr",
     "output_type": "stream",
     "text": [
      "100%|██████████| 36/36 [00:06<00:00,  5.35it/s]\n"
     ]
    },
    {
     "name": "stdout",
     "output_type": "stream",
     "text": [
      "Fold 5\n",
      "Memory usage of dataframe is 7.48 MB\n",
      "Memory usage after optimization is: 4.63 MB\n",
      "Decreased by 38.1%\n"
     ]
    },
    {
     "name": "stderr",
     "output_type": "stream",
     "text": [
      "100%|██████████| 36/36 [00:06<00:00,  5.36it/s]\n",
      "[I 2024-06-30 17:46:36,402] Trial 198 finished with value: 0.7707617554089073 and parameters: {'lambda': 4.6156258037834384e-08, 'alpha': 0.6970150950988381, 'eta': 0.0674971455214674, 'gamma': 9.123802624968092e-05, 'max_depth': 9, 'min_child_weight': 0.0010784509679515662, 'subsample': 0.8162357927414055, 'colsample_bytree': 0.5959720129073881, 'colsample_bylevel': 0.988436474226621, 'colsample_bynode': 0.6549186051111555, 'scale_pos_weight': 1.477586872787735e-08}. Best is trial 160 with value: 0.7716389277859876.\n"
     ]
    },
    {
     "name": "stdout",
     "output_type": "stream",
     "text": [
      "Score: 0.7707617554089073\n",
      "Fold 1\n",
      "Memory usage of dataframe is 7.48 MB\n",
      "Memory usage after optimization is: 4.63 MB\n",
      "Decreased by 38.1%\n"
     ]
    },
    {
     "name": "stderr",
     "output_type": "stream",
     "text": [
      "100%|██████████| 36/36 [00:06<00:00,  5.31it/s]\n"
     ]
    },
    {
     "name": "stdout",
     "output_type": "stream",
     "text": [
      "Fold 2\n",
      "Memory usage of dataframe is 7.48 MB\n",
      "Memory usage after optimization is: 4.63 MB\n",
      "Decreased by 38.1%\n"
     ]
    },
    {
     "name": "stderr",
     "output_type": "stream",
     "text": [
      "100%|██████████| 36/36 [00:06<00:00,  5.27it/s]\n"
     ]
    },
    {
     "name": "stdout",
     "output_type": "stream",
     "text": [
      "Fold 3\n",
      "Memory usage of dataframe is 7.48 MB\n",
      "Memory usage after optimization is: 4.63 MB\n",
      "Decreased by 38.1%\n"
     ]
    },
    {
     "name": "stderr",
     "output_type": "stream",
     "text": [
      "100%|██████████| 36/36 [00:07<00:00,  5.11it/s]\n"
     ]
    },
    {
     "name": "stdout",
     "output_type": "stream",
     "text": [
      "Fold 4\n",
      "Memory usage of dataframe is 7.48 MB\n",
      "Memory usage after optimization is: 4.63 MB\n",
      "Decreased by 38.1%\n"
     ]
    },
    {
     "name": "stderr",
     "output_type": "stream",
     "text": [
      "100%|██████████| 36/36 [00:07<00:00,  5.10it/s]\n"
     ]
    },
    {
     "name": "stdout",
     "output_type": "stream",
     "text": [
      "Fold 5\n",
      "Memory usage of dataframe is 7.48 MB\n",
      "Memory usage after optimization is: 4.63 MB\n",
      "Decreased by 38.1%\n"
     ]
    },
    {
     "name": "stderr",
     "output_type": "stream",
     "text": [
      "100%|██████████| 36/36 [00:06<00:00,  5.19it/s]\n",
      "[I 2024-06-30 17:47:19,204] Trial 199 finished with value: 0.7708235196414945 and parameters: {'lambda': 1.405837056741571e-07, 'alpha': 0.3503836424421356, 'eta': 0.07533322941799461, 'gamma': 5.881868722826964e-07, 'max_depth': 9, 'min_child_weight': 0.0005336963223203788, 'subsample': 0.8017907492033485, 'colsample_bytree': 0.5741413194140484, 'colsample_bylevel': 0.9702532889795112, 'colsample_bynode': 0.6684457320018994, 'scale_pos_weight': 5.2941679178456493e-08}. Best is trial 160 with value: 0.7716389277859876.\n"
     ]
    },
    {
     "name": "stdout",
     "output_type": "stream",
     "text": [
      "Score: 0.7708235196414945\n",
      "Fold 1\n",
      "Memory usage of dataframe is 7.48 MB\n",
      "Memory usage after optimization is: 4.63 MB\n",
      "Decreased by 38.1%\n"
     ]
    },
    {
     "name": "stderr",
     "output_type": "stream",
     "text": [
      "100%|██████████| 36/36 [00:06<00:00,  5.34it/s]\n"
     ]
    },
    {
     "name": "stdout",
     "output_type": "stream",
     "text": [
      "Fold 2\n",
      "Memory usage of dataframe is 7.48 MB\n",
      "Memory usage after optimization is: 4.63 MB\n",
      "Decreased by 38.1%\n"
     ]
    },
    {
     "name": "stderr",
     "output_type": "stream",
     "text": [
      "100%|██████████| 36/36 [00:06<00:00,  5.29it/s]\n"
     ]
    },
    {
     "name": "stdout",
     "output_type": "stream",
     "text": [
      "Fold 3\n",
      "Memory usage of dataframe is 7.48 MB\n",
      "Memory usage after optimization is: 4.63 MB\n",
      "Decreased by 38.1%\n"
     ]
    },
    {
     "name": "stderr",
     "output_type": "stream",
     "text": [
      "100%|██████████| 36/36 [00:06<00:00,  5.28it/s]\n"
     ]
    },
    {
     "name": "stdout",
     "output_type": "stream",
     "text": [
      "Fold 4\n",
      "Memory usage of dataframe is 7.48 MB\n",
      "Memory usage after optimization is: 4.63 MB\n",
      "Decreased by 38.1%\n"
     ]
    },
    {
     "name": "stderr",
     "output_type": "stream",
     "text": [
      "100%|██████████| 36/36 [00:06<00:00,  5.36it/s]\n"
     ]
    },
    {
     "name": "stdout",
     "output_type": "stream",
     "text": [
      "Fold 5\n",
      "Memory usage of dataframe is 7.48 MB\n",
      "Memory usage after optimization is: 4.63 MB\n",
      "Decreased by 38.1%\n"
     ]
    },
    {
     "name": "stderr",
     "output_type": "stream",
     "text": [
      "100%|██████████| 36/36 [00:06<00:00,  5.35it/s]\n",
      "[I 2024-06-30 17:48:00,775] Trial 200 finished with value: 0.7706011319250337 and parameters: {'lambda': 1.325432333512537e-07, 'alpha': 0.15517517838435488, 'eta': 0.05795728347882349, 'gamma': 2.5161318708311475e-08, 'max_depth': 9, 'min_child_weight': 0.0006181436670561636, 'subsample': 0.798782207394337, 'colsample_bytree': 0.5719506353117879, 'colsample_bylevel': 0.9687018105303973, 'colsample_bynode': 0.6680882365485701, 'scale_pos_weight': 6.019928548170074e-08}. Best is trial 160 with value: 0.7716389277859876.\n"
     ]
    },
    {
     "name": "stdout",
     "output_type": "stream",
     "text": [
      "Score: 0.7706011319250337\n",
      "Fold 1\n",
      "Memory usage of dataframe is 7.48 MB\n",
      "Memory usage after optimization is: 4.63 MB\n",
      "Decreased by 38.1%\n"
     ]
    },
    {
     "name": "stderr",
     "output_type": "stream",
     "text": [
      "100%|██████████| 36/36 [00:06<00:00,  5.35it/s]\n"
     ]
    },
    {
     "name": "stdout",
     "output_type": "stream",
     "text": [
      "Fold 2\n",
      "Memory usage of dataframe is 7.48 MB\n",
      "Memory usage after optimization is: 4.63 MB\n",
      "Decreased by 38.1%\n"
     ]
    },
    {
     "name": "stderr",
     "output_type": "stream",
     "text": [
      "100%|██████████| 36/36 [00:06<00:00,  5.33it/s]\n"
     ]
    },
    {
     "name": "stdout",
     "output_type": "stream",
     "text": [
      "Fold 3\n",
      "Memory usage of dataframe is 7.48 MB\n",
      "Memory usage after optimization is: 4.63 MB\n",
      "Decreased by 38.1%\n"
     ]
    },
    {
     "name": "stderr",
     "output_type": "stream",
     "text": [
      "100%|██████████| 36/36 [00:06<00:00,  5.29it/s]\n"
     ]
    },
    {
     "name": "stdout",
     "output_type": "stream",
     "text": [
      "Fold 4\n",
      "Memory usage of dataframe is 7.48 MB\n",
      "Memory usage after optimization is: 4.63 MB\n",
      "Decreased by 38.1%\n"
     ]
    },
    {
     "name": "stderr",
     "output_type": "stream",
     "text": [
      "100%|██████████| 36/36 [00:06<00:00,  5.28it/s]\n"
     ]
    },
    {
     "name": "stdout",
     "output_type": "stream",
     "text": [
      "Fold 5\n",
      "Memory usage of dataframe is 7.48 MB\n",
      "Memory usage after optimization is: 4.63 MB\n",
      "Decreased by 38.1%\n"
     ]
    },
    {
     "name": "stderr",
     "output_type": "stream",
     "text": [
      "100%|██████████| 36/36 [00:06<00:00,  5.26it/s]\n",
      "[I 2024-06-30 17:48:42,366] Trial 201 finished with value: 0.7702922649723736 and parameters: {'lambda': 8.49762346431035e-08, 'alpha': 0.36136567007051645, 'eta': 0.07525919780867402, 'gamma': 0.00015682032411612815, 'max_depth': 9, 'min_child_weight': 0.00022819837784936121, 'subsample': 0.7882699676587553, 'colsample_bytree': 0.5850037293968944, 'colsample_bylevel': 0.9768357219640356, 'colsample_bynode': 0.6752654051301162, 'scale_pos_weight': 1.405112854811228e-06}. Best is trial 160 with value: 0.7716389277859876.\n"
     ]
    },
    {
     "name": "stdout",
     "output_type": "stream",
     "text": [
      "Score: 0.7702922649723736\n",
      "Fold 1\n",
      "Memory usage of dataframe is 7.48 MB\n",
      "Memory usage after optimization is: 4.63 MB\n",
      "Decreased by 38.1%\n"
     ]
    },
    {
     "name": "stderr",
     "output_type": "stream",
     "text": [
      "100%|██████████| 36/36 [00:06<00:00,  5.22it/s]\n"
     ]
    },
    {
     "name": "stdout",
     "output_type": "stream",
     "text": [
      "Fold 2\n",
      "Memory usage of dataframe is 7.48 MB\n",
      "Memory usage after optimization is: 4.63 MB\n",
      "Decreased by 38.1%\n"
     ]
    },
    {
     "name": "stderr",
     "output_type": "stream",
     "text": [
      "100%|██████████| 36/36 [00:06<00:00,  5.20it/s]\n"
     ]
    },
    {
     "name": "stdout",
     "output_type": "stream",
     "text": [
      "Fold 3\n",
      "Memory usage of dataframe is 7.48 MB\n",
      "Memory usage after optimization is: 4.63 MB\n",
      "Decreased by 38.1%\n"
     ]
    },
    {
     "name": "stderr",
     "output_type": "stream",
     "text": [
      "100%|██████████| 36/36 [00:06<00:00,  5.31it/s]\n"
     ]
    },
    {
     "name": "stdout",
     "output_type": "stream",
     "text": [
      "Fold 4\n",
      "Memory usage of dataframe is 7.48 MB\n",
      "Memory usage after optimization is: 4.63 MB\n",
      "Decreased by 38.1%\n"
     ]
    },
    {
     "name": "stderr",
     "output_type": "stream",
     "text": [
      "100%|██████████| 36/36 [00:06<00:00,  5.23it/s]\n"
     ]
    },
    {
     "name": "stdout",
     "output_type": "stream",
     "text": [
      "Fold 5\n",
      "Memory usage of dataframe is 7.48 MB\n",
      "Memory usage after optimization is: 4.63 MB\n",
      "Decreased by 38.1%\n"
     ]
    },
    {
     "name": "stderr",
     "output_type": "stream",
     "text": [
      "100%|██████████| 36/36 [00:06<00:00,  5.22it/s]\n",
      "[I 2024-06-30 17:49:24,378] Trial 202 finished with value: 0.7701440176877768 and parameters: {'lambda': 1.4104631240995187e-07, 'alpha': 0.32198761742934956, 'eta': 0.06764142105728721, 'gamma': 5.061458522817683e-07, 'max_depth': 9, 'min_child_weight': 0.0017681894754414023, 'subsample': 0.8048886214415918, 'colsample_bytree': 0.6013093854930684, 'colsample_bylevel': 0.9895272709035035, 'colsample_bynode': 0.6458703904362539, 'scale_pos_weight': 0.000641230979756037}. Best is trial 160 with value: 0.7716389277859876.\n"
     ]
    },
    {
     "name": "stdout",
     "output_type": "stream",
     "text": [
      "Score: 0.7701440176877768\n",
      "Fold 1\n",
      "Memory usage of dataframe is 7.48 MB\n",
      "Memory usage after optimization is: 4.63 MB\n",
      "Decreased by 38.1%\n"
     ]
    },
    {
     "name": "stderr",
     "output_type": "stream",
     "text": [
      "100%|██████████| 36/36 [00:06<00:00,  5.22it/s]\n"
     ]
    },
    {
     "name": "stdout",
     "output_type": "stream",
     "text": [
      "Fold 2\n",
      "Memory usage of dataframe is 7.48 MB\n",
      "Memory usage after optimization is: 4.63 MB\n",
      "Decreased by 38.1%\n"
     ]
    },
    {
     "name": "stderr",
     "output_type": "stream",
     "text": [
      "100%|██████████| 36/36 [00:06<00:00,  5.29it/s]\n"
     ]
    },
    {
     "name": "stdout",
     "output_type": "stream",
     "text": [
      "Fold 3\n",
      "Memory usage of dataframe is 7.48 MB\n",
      "Memory usage after optimization is: 4.63 MB\n",
      "Decreased by 38.1%\n"
     ]
    },
    {
     "name": "stderr",
     "output_type": "stream",
     "text": [
      "100%|██████████| 36/36 [00:06<00:00,  5.27it/s]\n"
     ]
    },
    {
     "name": "stdout",
     "output_type": "stream",
     "text": [
      "Fold 4\n",
      "Memory usage of dataframe is 7.48 MB\n",
      "Memory usage after optimization is: 4.63 MB\n",
      "Decreased by 38.1%\n"
     ]
    },
    {
     "name": "stderr",
     "output_type": "stream",
     "text": [
      "100%|██████████| 36/36 [00:06<00:00,  5.34it/s]\n"
     ]
    },
    {
     "name": "stdout",
     "output_type": "stream",
     "text": [
      "Fold 5\n",
      "Memory usage of dataframe is 7.48 MB\n",
      "Memory usage after optimization is: 4.63 MB\n",
      "Decreased by 38.1%\n"
     ]
    },
    {
     "name": "stderr",
     "output_type": "stream",
     "text": [
      "100%|██████████| 36/36 [00:06<00:00,  5.38it/s]\n",
      "[I 2024-06-30 17:50:05,776] Trial 203 finished with value: 0.7706381803908467 and parameters: {'lambda': 3.3507803360194044e-07, 'alpha': 0.5786719971421687, 'eta': 0.08376982492827727, 'gamma': 3.4639234669741517e-07, 'max_depth': 9, 'min_child_weight': 0.0003335397945508542, 'subsample': 0.779450785692139, 'colsample_bytree': 0.6128138301957782, 'colsample_bylevel': 0.9639059587675424, 'colsample_bynode': 0.6621140494323976, 'scale_pos_weight': 3.6749359959447625e-08}. Best is trial 160 with value: 0.7716389277859876.\n"
     ]
    },
    {
     "name": "stdout",
     "output_type": "stream",
     "text": [
      "Score: 0.7706381803908467\n",
      "Fold 1\n",
      "Memory usage of dataframe is 7.48 MB\n",
      "Memory usage after optimization is: 4.63 MB\n",
      "Decreased by 38.1%\n"
     ]
    },
    {
     "name": "stderr",
     "output_type": "stream",
     "text": [
      "100%|██████████| 36/36 [00:06<00:00,  5.35it/s]\n"
     ]
    },
    {
     "name": "stdout",
     "output_type": "stream",
     "text": [
      "Fold 2\n",
      "Memory usage of dataframe is 7.48 MB\n",
      "Memory usage after optimization is: 4.63 MB\n",
      "Decreased by 38.1%\n"
     ]
    },
    {
     "name": "stderr",
     "output_type": "stream",
     "text": [
      "100%|██████████| 36/36 [00:06<00:00,  5.29it/s]\n"
     ]
    },
    {
     "name": "stdout",
     "output_type": "stream",
     "text": [
      "Fold 3\n",
      "Memory usage of dataframe is 7.48 MB\n",
      "Memory usage after optimization is: 4.63 MB\n",
      "Decreased by 38.1%\n"
     ]
    },
    {
     "name": "stderr",
     "output_type": "stream",
     "text": [
      "100%|██████████| 36/36 [00:06<00:00,  5.31it/s]\n"
     ]
    },
    {
     "name": "stdout",
     "output_type": "stream",
     "text": [
      "Fold 4\n",
      "Memory usage of dataframe is 7.48 MB\n",
      "Memory usage after optimization is: 4.63 MB\n",
      "Decreased by 38.1%\n"
     ]
    },
    {
     "name": "stderr",
     "output_type": "stream",
     "text": [
      "100%|██████████| 36/36 [00:06<00:00,  5.25it/s]\n"
     ]
    },
    {
     "name": "stdout",
     "output_type": "stream",
     "text": [
      "Fold 5\n",
      "Memory usage of dataframe is 7.48 MB\n",
      "Memory usage after optimization is: 4.63 MB\n",
      "Decreased by 38.1%\n"
     ]
    },
    {
     "name": "stderr",
     "output_type": "stream",
     "text": [
      "100%|██████████| 36/36 [00:06<00:00,  5.20it/s]\n",
      "[I 2024-06-30 17:50:47,869] Trial 204 finished with value: 0.7707370136946229 and parameters: {'lambda': 6.66259905431733e-08, 'alpha': 0.21123313243890254, 'eta': 0.07592428627795028, 'gamma': 0.0008875009894394476, 'max_depth': 9, 'min_child_weight': 0.00048170375624661664, 'subsample': 0.8292304355391161, 'colsample_bytree': 0.5638683134982395, 'colsample_bylevel': 0.9999738358611805, 'colsample_bynode': 0.6831763439916425, 'scale_pos_weight': 2.00632168237493e-08}. Best is trial 160 with value: 0.7716389277859876.\n"
     ]
    },
    {
     "name": "stdout",
     "output_type": "stream",
     "text": [
      "Score: 0.7707370136946229\n",
      "Fold 1\n",
      "Memory usage of dataframe is 7.48 MB\n",
      "Memory usage after optimization is: 4.63 MB\n",
      "Decreased by 38.1%\n"
     ]
    },
    {
     "name": "stderr",
     "output_type": "stream",
     "text": [
      "100%|██████████| 36/36 [00:06<00:00,  5.26it/s]\n"
     ]
    },
    {
     "name": "stdout",
     "output_type": "stream",
     "text": [
      "Fold 2\n",
      "Memory usage of dataframe is 7.48 MB\n",
      "Memory usage after optimization is: 4.63 MB\n",
      "Decreased by 38.1%\n"
     ]
    },
    {
     "name": "stderr",
     "output_type": "stream",
     "text": [
      "100%|██████████| 36/36 [00:06<00:00,  5.30it/s]\n"
     ]
    },
    {
     "name": "stdout",
     "output_type": "stream",
     "text": [
      "Fold 3\n",
      "Memory usage of dataframe is 7.48 MB\n",
      "Memory usage after optimization is: 4.63 MB\n",
      "Decreased by 38.1%\n"
     ]
    },
    {
     "name": "stderr",
     "output_type": "stream",
     "text": [
      "100%|██████████| 36/36 [00:06<00:00,  5.27it/s]\n"
     ]
    },
    {
     "name": "stdout",
     "output_type": "stream",
     "text": [
      "Fold 4\n",
      "Memory usage of dataframe is 7.48 MB\n",
      "Memory usage after optimization is: 4.63 MB\n",
      "Decreased by 38.1%\n"
     ]
    },
    {
     "name": "stderr",
     "output_type": "stream",
     "text": [
      "100%|██████████| 36/36 [00:06<00:00,  5.24it/s]\n"
     ]
    },
    {
     "name": "stdout",
     "output_type": "stream",
     "text": [
      "Fold 5\n",
      "Memory usage of dataframe is 7.48 MB\n",
      "Memory usage after optimization is: 4.63 MB\n",
      "Decreased by 38.1%\n"
     ]
    },
    {
     "name": "stderr",
     "output_type": "stream",
     "text": [
      "100%|██████████| 36/36 [00:06<00:00,  5.30it/s]\n",
      "[I 2024-06-30 17:51:29,368] Trial 205 finished with value: 0.7690691893874133 and parameters: {'lambda': 4.926571853511599e-07, 'alpha': 0.9876729133920205, 'eta': 0.04921815930541013, 'gamma': 7.178559294265506e-07, 'max_depth': 9, 'min_child_weight': 0.0012288258442849794, 'subsample': 0.8159508445506102, 'colsample_bytree': 0.5763366943694092, 'colsample_bylevel': 0.9771748322333675, 'colsample_bynode': 0.6218907291355076, 'scale_pos_weight': 4.456724779325939e-08}. Best is trial 160 with value: 0.7716389277859876.\n"
     ]
    },
    {
     "name": "stdout",
     "output_type": "stream",
     "text": [
      "Score: 0.7690691893874133\n",
      "Fold 1\n",
      "Memory usage of dataframe is 7.48 MB\n",
      "Memory usage after optimization is: 4.63 MB\n",
      "Decreased by 38.1%\n"
     ]
    },
    {
     "name": "stderr",
     "output_type": "stream",
     "text": [
      "100%|██████████| 36/36 [00:06<00:00,  5.27it/s]\n"
     ]
    },
    {
     "name": "stdout",
     "output_type": "stream",
     "text": [
      "Fold 2\n",
      "Memory usage of dataframe is 7.48 MB\n",
      "Memory usage after optimization is: 4.63 MB\n",
      "Decreased by 38.1%\n"
     ]
    },
    {
     "name": "stderr",
     "output_type": "stream",
     "text": [
      "100%|██████████| 36/36 [00:06<00:00,  5.29it/s]\n"
     ]
    },
    {
     "name": "stdout",
     "output_type": "stream",
     "text": [
      "Fold 3\n",
      "Memory usage of dataframe is 7.48 MB\n",
      "Memory usage after optimization is: 4.63 MB\n",
      "Decreased by 38.1%\n"
     ]
    },
    {
     "name": "stderr",
     "output_type": "stream",
     "text": [
      "100%|██████████| 36/36 [00:06<00:00,  5.29it/s]\n"
     ]
    },
    {
     "name": "stdout",
     "output_type": "stream",
     "text": [
      "Fold 4\n",
      "Memory usage of dataframe is 7.48 MB\n",
      "Memory usage after optimization is: 4.63 MB\n",
      "Decreased by 38.1%\n"
     ]
    },
    {
     "name": "stderr",
     "output_type": "stream",
     "text": [
      "100%|██████████| 36/36 [00:06<00:00,  5.31it/s]\n"
     ]
    },
    {
     "name": "stdout",
     "output_type": "stream",
     "text": [
      "Fold 5\n",
      "Memory usage of dataframe is 7.48 MB\n",
      "Memory usage after optimization is: 4.63 MB\n",
      "Decreased by 38.1%\n"
     ]
    },
    {
     "name": "stderr",
     "output_type": "stream",
     "text": [
      "100%|██████████| 36/36 [00:06<00:00,  5.25it/s]\n",
      "[I 2024-06-30 17:52:11,009] Trial 206 finished with value: 0.7709470526856415 and parameters: {'lambda': 2.3350219328310335e-07, 'alpha': 0.4195136387748107, 'eta': 0.0883876118200009, 'gamma': 9.670639939014973e-07, 'max_depth': 9, 'min_child_weight': 0.004229744231686266, 'subsample': 0.7933734344854756, 'colsample_bytree': 0.5866584734299013, 'colsample_bylevel': 0.9844918727494479, 'colsample_bynode': 0.6353028394375806, 'scale_pos_weight': 1.0710249432295602e-08}. Best is trial 160 with value: 0.7716389277859876.\n"
     ]
    },
    {
     "name": "stdout",
     "output_type": "stream",
     "text": [
      "Score: 0.7709470526856415\n",
      "Fold 1\n",
      "Memory usage of dataframe is 7.48 MB\n",
      "Memory usage after optimization is: 4.63 MB\n",
      "Decreased by 38.1%\n"
     ]
    },
    {
     "name": "stderr",
     "output_type": "stream",
     "text": [
      "100%|██████████| 36/36 [00:06<00:00,  5.21it/s]\n"
     ]
    },
    {
     "name": "stdout",
     "output_type": "stream",
     "text": [
      "Fold 2\n",
      "Memory usage of dataframe is 7.48 MB\n",
      "Memory usage after optimization is: 4.63 MB\n",
      "Decreased by 38.1%\n"
     ]
    },
    {
     "name": "stderr",
     "output_type": "stream",
     "text": [
      "100%|██████████| 36/36 [00:06<00:00,  5.28it/s]\n"
     ]
    },
    {
     "name": "stdout",
     "output_type": "stream",
     "text": [
      "Fold 3\n",
      "Memory usage of dataframe is 7.48 MB\n",
      "Memory usage after optimization is: 4.63 MB\n",
      "Decreased by 38.1%\n"
     ]
    },
    {
     "name": "stderr",
     "output_type": "stream",
     "text": [
      "100%|██████████| 36/36 [00:06<00:00,  5.34it/s]\n"
     ]
    },
    {
     "name": "stdout",
     "output_type": "stream",
     "text": [
      "Fold 4\n",
      "Memory usage of dataframe is 7.48 MB\n",
      "Memory usage after optimization is: 4.63 MB\n",
      "Decreased by 38.1%\n"
     ]
    },
    {
     "name": "stderr",
     "output_type": "stream",
     "text": [
      "100%|██████████| 36/36 [00:06<00:00,  5.36it/s]\n"
     ]
    },
    {
     "name": "stdout",
     "output_type": "stream",
     "text": [
      "Fold 5\n",
      "Memory usage of dataframe is 7.48 MB\n",
      "Memory usage after optimization is: 4.63 MB\n",
      "Decreased by 38.1%\n"
     ]
    },
    {
     "name": "stderr",
     "output_type": "stream",
     "text": [
      "100%|██████████| 36/36 [00:06<00:00,  5.29it/s]\n",
      "[I 2024-06-30 17:52:52,426] Trial 207 finished with value: 0.7701563770974881 and parameters: {'lambda': 2.5817644294509497e-07, 'alpha': 0.47628402020223276, 'eta': 0.06579700934010478, 'gamma': 1.4412851041205343e-06, 'max_depth': 9, 'min_child_weight': 0.002160871294717013, 'subsample': 0.7992297378855499, 'colsample_bytree': 0.5537918308373382, 'colsample_bylevel': 0.9829258572677887, 'colsample_bynode': 0.6557903750705645, 'scale_pos_weight': 1.3157771595905747e-08}. Best is trial 160 with value: 0.7716389277859876.\n"
     ]
    },
    {
     "name": "stdout",
     "output_type": "stream",
     "text": [
      "Score: 0.7701563770974881\n",
      "Fold 1\n",
      "Memory usage of dataframe is 7.48 MB\n",
      "Memory usage after optimization is: 4.63 MB\n",
      "Decreased by 38.1%\n"
     ]
    },
    {
     "name": "stderr",
     "output_type": "stream",
     "text": [
      "100%|██████████| 36/36 [00:06<00:00,  5.25it/s]\n"
     ]
    },
    {
     "name": "stdout",
     "output_type": "stream",
     "text": [
      "Fold 2\n",
      "Memory usage of dataframe is 7.48 MB\n",
      "Memory usage after optimization is: 4.63 MB\n",
      "Decreased by 38.1%\n"
     ]
    },
    {
     "name": "stderr",
     "output_type": "stream",
     "text": [
      "100%|██████████| 36/36 [00:06<00:00,  5.22it/s]\n"
     ]
    },
    {
     "name": "stdout",
     "output_type": "stream",
     "text": [
      "Fold 3\n",
      "Memory usage of dataframe is 7.48 MB\n",
      "Memory usage after optimization is: 4.63 MB\n",
      "Decreased by 38.1%\n"
     ]
    },
    {
     "name": "stderr",
     "output_type": "stream",
     "text": [
      "100%|██████████| 36/36 [00:06<00:00,  5.29it/s]\n"
     ]
    },
    {
     "name": "stdout",
     "output_type": "stream",
     "text": [
      "Fold 4\n",
      "Memory usage of dataframe is 7.48 MB\n",
      "Memory usage after optimization is: 4.63 MB\n",
      "Decreased by 38.1%\n"
     ]
    },
    {
     "name": "stderr",
     "output_type": "stream",
     "text": [
      "100%|██████████| 36/36 [00:06<00:00,  5.30it/s]\n"
     ]
    },
    {
     "name": "stdout",
     "output_type": "stream",
     "text": [
      "Fold 5\n",
      "Memory usage of dataframe is 7.48 MB\n",
      "Memory usage after optimization is: 4.63 MB\n",
      "Decreased by 38.1%\n"
     ]
    },
    {
     "name": "stderr",
     "output_type": "stream",
     "text": [
      "100%|██████████| 36/36 [00:06<00:00,  5.31it/s]\n",
      "[I 2024-06-30 17:53:33,903] Trial 208 finished with value: 0.7704776004072111 and parameters: {'lambda': 1.0096611741195535e-07, 'alpha': 0.697309235169306, 'eta': 0.058223953961785445, 'gamma': 5.1288562108186174e-08, 'max_depth': 9, 'min_child_weight': 0.007016417852112376, 'subsample': 0.8383137352705077, 'colsample_bytree': 0.5901071304206601, 'colsample_bylevel': 0.9598186217404988, 'colsample_bynode': 0.6343953379553815, 'scale_pos_weight': 1.1008395111120572e-08}. Best is trial 160 with value: 0.7716389277859876.\n"
     ]
    },
    {
     "name": "stdout",
     "output_type": "stream",
     "text": [
      "Score: 0.7704776004072111\n",
      "Fold 1\n",
      "Memory usage of dataframe is 7.48 MB\n",
      "Memory usage after optimization is: 4.63 MB\n",
      "Decreased by 38.1%\n"
     ]
    },
    {
     "name": "stderr",
     "output_type": "stream",
     "text": [
      "100%|██████████| 36/36 [00:06<00:00,  5.26it/s]\n"
     ]
    },
    {
     "name": "stdout",
     "output_type": "stream",
     "text": [
      "Fold 2\n",
      "Memory usage of dataframe is 7.48 MB\n",
      "Memory usage after optimization is: 4.63 MB\n",
      "Decreased by 38.1%\n"
     ]
    },
    {
     "name": "stderr",
     "output_type": "stream",
     "text": [
      "100%|██████████| 36/36 [00:06<00:00,  5.31it/s]\n"
     ]
    },
    {
     "name": "stdout",
     "output_type": "stream",
     "text": [
      "Fold 3\n",
      "Memory usage of dataframe is 7.48 MB\n",
      "Memory usage after optimization is: 4.63 MB\n",
      "Decreased by 38.1%\n"
     ]
    },
    {
     "name": "stderr",
     "output_type": "stream",
     "text": [
      "100%|██████████| 36/36 [00:06<00:00,  5.29it/s]\n"
     ]
    },
    {
     "name": "stdout",
     "output_type": "stream",
     "text": [
      "Fold 4\n",
      "Memory usage of dataframe is 7.48 MB\n",
      "Memory usage after optimization is: 4.63 MB\n",
      "Decreased by 38.1%\n"
     ]
    },
    {
     "name": "stderr",
     "output_type": "stream",
     "text": [
      "100%|██████████| 36/36 [00:06<00:00,  5.30it/s]\n"
     ]
    },
    {
     "name": "stdout",
     "output_type": "stream",
     "text": [
      "Fold 5\n",
      "Memory usage of dataframe is 7.48 MB\n",
      "Memory usage after optimization is: 4.63 MB\n",
      "Decreased by 38.1%\n"
     ]
    },
    {
     "name": "stderr",
     "output_type": "stream",
     "text": [
      "100%|██████████| 36/36 [00:06<00:00,  5.29it/s]\n",
      "[I 2024-06-30 17:54:15,776] Trial 209 finished with value: 0.7700204922752507 and parameters: {'lambda': 1.80197935640682e-07, 'alpha': 0.2728458411443162, 'eta': 0.09004874878854219, 'gamma': 5.715958033232873e-05, 'max_depth': 9, 'min_child_weight': 0.0008323613392737894, 'subsample': 0.8078724575309841, 'colsample_bytree': 0.5690502274353457, 'colsample_bylevel': 0.9736902344781353, 'colsample_bynode': 0.6705031483408477, 'scale_pos_weight': 1.6998158290231113e-08}. Best is trial 160 with value: 0.7716389277859876.\n"
     ]
    },
    {
     "name": "stdout",
     "output_type": "stream",
     "text": [
      "Score: 0.7700204922752507\n",
      "Fold 1\n",
      "Memory usage of dataframe is 7.48 MB\n",
      "Memory usage after optimization is: 4.63 MB\n",
      "Decreased by 38.1%\n"
     ]
    },
    {
     "name": "stderr",
     "output_type": "stream",
     "text": [
      "100%|██████████| 36/36 [00:06<00:00,  5.30it/s]\n"
     ]
    },
    {
     "name": "stdout",
     "output_type": "stream",
     "text": [
      "Fold 2\n",
      "Memory usage of dataframe is 7.48 MB\n",
      "Memory usage after optimization is: 4.63 MB\n",
      "Decreased by 38.1%\n"
     ]
    },
    {
     "name": "stderr",
     "output_type": "stream",
     "text": [
      "100%|██████████| 36/36 [00:06<00:00,  5.27it/s]\n"
     ]
    },
    {
     "name": "stdout",
     "output_type": "stream",
     "text": [
      "Fold 3\n",
      "Memory usage of dataframe is 7.48 MB\n",
      "Memory usage after optimization is: 4.63 MB\n",
      "Decreased by 38.1%\n"
     ]
    },
    {
     "name": "stderr",
     "output_type": "stream",
     "text": [
      "100%|██████████| 36/36 [00:06<00:00,  5.22it/s]\n"
     ]
    },
    {
     "name": "stdout",
     "output_type": "stream",
     "text": [
      "Fold 4\n",
      "Memory usage of dataframe is 7.48 MB\n",
      "Memory usage after optimization is: 4.63 MB\n",
      "Decreased by 38.1%\n"
     ]
    },
    {
     "name": "stderr",
     "output_type": "stream",
     "text": [
      "100%|██████████| 36/36 [00:06<00:00,  5.22it/s]\n"
     ]
    },
    {
     "name": "stdout",
     "output_type": "stream",
     "text": [
      "Fold 5\n",
      "Memory usage of dataframe is 7.48 MB\n",
      "Memory usage after optimization is: 4.63 MB\n",
      "Decreased by 38.1%\n"
     ]
    },
    {
     "name": "stderr",
     "output_type": "stream",
     "text": [
      "100%|██████████| 36/36 [00:06<00:00,  5.27it/s]\n",
      "[I 2024-06-30 17:54:57,774] Trial 210 finished with value: 0.7702552371119366 and parameters: {'lambda': 4.828171310133454e-08, 'alpha': 0.1800288523457216, 'eta': 0.07325874381570387, 'gamma': 2.4768248573959764e-07, 'max_depth': 9, 'min_child_weight': 0.0047077363230538394, 'subsample': 0.7946096634455271, 'colsample_bytree': 0.5802683242009385, 'colsample_bylevel': 0.9892975939349945, 'colsample_bynode': 0.6462542372628531, 'scale_pos_weight': 1.0542250731528115e-08}. Best is trial 160 with value: 0.7716389277859876.\n"
     ]
    },
    {
     "name": "stdout",
     "output_type": "stream",
     "text": [
      "Score: 0.7702552371119366\n",
      "Fold 1\n",
      "Memory usage of dataframe is 7.48 MB\n",
      "Memory usage after optimization is: 4.63 MB\n",
      "Decreased by 38.1%\n"
     ]
    },
    {
     "name": "stderr",
     "output_type": "stream",
     "text": [
      "100%|██████████| 36/36 [00:06<00:00,  5.32it/s]\n"
     ]
    },
    {
     "name": "stdout",
     "output_type": "stream",
     "text": [
      "Fold 2\n",
      "Memory usage of dataframe is 7.48 MB\n",
      "Memory usage after optimization is: 4.63 MB\n",
      "Decreased by 38.1%\n"
     ]
    },
    {
     "name": "stderr",
     "output_type": "stream",
     "text": [
      "100%|██████████| 36/36 [00:06<00:00,  5.24it/s]\n"
     ]
    },
    {
     "name": "stdout",
     "output_type": "stream",
     "text": [
      "Fold 3\n",
      "Memory usage of dataframe is 7.48 MB\n",
      "Memory usage after optimization is: 4.63 MB\n",
      "Decreased by 38.1%\n"
     ]
    },
    {
     "name": "stderr",
     "output_type": "stream",
     "text": [
      "100%|██████████| 36/36 [00:06<00:00,  5.35it/s]\n"
     ]
    },
    {
     "name": "stdout",
     "output_type": "stream",
     "text": [
      "Fold 4\n",
      "Memory usage of dataframe is 7.48 MB\n",
      "Memory usage after optimization is: 4.63 MB\n",
      "Decreased by 38.1%\n"
     ]
    },
    {
     "name": "stderr",
     "output_type": "stream",
     "text": [
      "100%|██████████| 36/36 [00:06<00:00,  5.30it/s]\n"
     ]
    },
    {
     "name": "stdout",
     "output_type": "stream",
     "text": [
      "Fold 5\n",
      "Memory usage of dataframe is 7.48 MB\n",
      "Memory usage after optimization is: 4.63 MB\n",
      "Decreased by 38.1%\n"
     ]
    },
    {
     "name": "stderr",
     "output_type": "stream",
     "text": [
      "100%|██████████| 36/36 [00:06<00:00,  5.31it/s]\n",
      "[I 2024-06-30 17:55:39,176] Trial 211 finished with value: 0.7704899353957361 and parameters: {'lambda': 3.9484055968830143e-07, 'alpha': 0.42741395876511934, 'eta': 0.08507297906401468, 'gamma': 9.463572838128017e-07, 'max_depth': 9, 'min_child_weight': 0.003228492714210835, 'subsample': 0.7844369114942328, 'colsample_bytree': 0.5965545163271759, 'colsample_bylevel': 0.991424591437588, 'colsample_bynode': 0.6966282387678874, 'scale_pos_weight': 5.299659610627034e-06}. Best is trial 160 with value: 0.7716389277859876.\n"
     ]
    },
    {
     "name": "stdout",
     "output_type": "stream",
     "text": [
      "Score: 0.7704899353957361\n",
      "Fold 1\n",
      "Memory usage of dataframe is 7.48 MB\n",
      "Memory usage after optimization is: 4.63 MB\n",
      "Decreased by 38.1%\n"
     ]
    },
    {
     "name": "stderr",
     "output_type": "stream",
     "text": [
      "100%|██████████| 36/36 [00:06<00:00,  5.29it/s]\n"
     ]
    },
    {
     "name": "stdout",
     "output_type": "stream",
     "text": [
      "Fold 2\n",
      "Memory usage of dataframe is 7.48 MB\n",
      "Memory usage after optimization is: 4.63 MB\n",
      "Decreased by 38.1%\n"
     ]
    },
    {
     "name": "stderr",
     "output_type": "stream",
     "text": [
      "100%|██████████| 36/36 [00:06<00:00,  5.26it/s]\n"
     ]
    },
    {
     "name": "stdout",
     "output_type": "stream",
     "text": [
      "Fold 3\n",
      "Memory usage of dataframe is 7.48 MB\n",
      "Memory usage after optimization is: 4.63 MB\n",
      "Decreased by 38.1%\n"
     ]
    },
    {
     "name": "stderr",
     "output_type": "stream",
     "text": [
      "100%|██████████| 36/36 [00:06<00:00,  5.28it/s]\n"
     ]
    },
    {
     "name": "stdout",
     "output_type": "stream",
     "text": [
      "Fold 4\n",
      "Memory usage of dataframe is 7.48 MB\n",
      "Memory usage after optimization is: 4.63 MB\n",
      "Decreased by 38.1%\n"
     ]
    },
    {
     "name": "stderr",
     "output_type": "stream",
     "text": [
      "100%|██████████| 36/36 [00:06<00:00,  5.28it/s]\n"
     ]
    },
    {
     "name": "stdout",
     "output_type": "stream",
     "text": [
      "Fold 5\n",
      "Memory usage of dataframe is 7.48 MB\n",
      "Memory usage after optimization is: 4.63 MB\n",
      "Decreased by 38.1%\n"
     ]
    },
    {
     "name": "stderr",
     "output_type": "stream",
     "text": [
      "100%|██████████| 36/36 [00:06<00:00,  5.24it/s]\n",
      "[I 2024-06-30 17:56:21,056] Trial 212 finished with value: 0.7695757153160049 and parameters: {'lambda': 7.249587351011251e-07, 'alpha': 0.343518268824338, 'eta': 0.11273885686501282, 'gamma': 2.2562129180442636e-06, 'max_depth': 9, 'min_child_weight': 0.0039022569556777594, 'subsample': 0.770512017758345, 'colsample_bytree': 0.6122452581035316, 'colsample_bylevel': 0.981345233698706, 'colsample_bynode': 0.6362234827662477, 'scale_pos_weight': 2.624861803138234e-08}. Best is trial 160 with value: 0.7716389277859876.\n"
     ]
    },
    {
     "name": "stdout",
     "output_type": "stream",
     "text": [
      "Score: 0.7695757153160049\n",
      "Fold 1\n",
      "Memory usage of dataframe is 7.48 MB\n",
      "Memory usage after optimization is: 4.63 MB\n",
      "Decreased by 38.1%\n"
     ]
    },
    {
     "name": "stderr",
     "output_type": "stream",
     "text": [
      "100%|██████████| 36/36 [00:06<00:00,  5.28it/s]\n"
     ]
    },
    {
     "name": "stdout",
     "output_type": "stream",
     "text": [
      "Fold 2\n",
      "Memory usage of dataframe is 7.48 MB\n",
      "Memory usage after optimization is: 4.63 MB\n",
      "Decreased by 38.1%\n"
     ]
    },
    {
     "name": "stderr",
     "output_type": "stream",
     "text": [
      "100%|██████████| 36/36 [00:06<00:00,  5.31it/s]\n"
     ]
    },
    {
     "name": "stdout",
     "output_type": "stream",
     "text": [
      "Fold 3\n",
      "Memory usage of dataframe is 7.48 MB\n",
      "Memory usage after optimization is: 4.63 MB\n",
      "Decreased by 38.1%\n"
     ]
    },
    {
     "name": "stderr",
     "output_type": "stream",
     "text": [
      "100%|██████████| 36/36 [00:06<00:00,  5.21it/s]\n"
     ]
    },
    {
     "name": "stdout",
     "output_type": "stream",
     "text": [
      "Fold 4\n",
      "Memory usage of dataframe is 7.48 MB\n",
      "Memory usage after optimization is: 4.63 MB\n",
      "Decreased by 38.1%\n"
     ]
    },
    {
     "name": "stderr",
     "output_type": "stream",
     "text": [
      "100%|██████████| 36/36 [00:06<00:00,  5.23it/s]\n"
     ]
    },
    {
     "name": "stdout",
     "output_type": "stream",
     "text": [
      "Fold 5\n",
      "Memory usage of dataframe is 7.48 MB\n",
      "Memory usage after optimization is: 4.63 MB\n",
      "Decreased by 38.1%\n"
     ]
    },
    {
     "name": "stderr",
     "output_type": "stream",
     "text": [
      "100%|██████████| 36/36 [00:06<00:00,  5.19it/s]\n",
      "[I 2024-06-30 17:57:02,644] Trial 213 finished with value: 0.7704034660806436 and parameters: {'lambda': 2.2805340405357872e-07, 'alpha': 0.6897962782508068, 'eta': 0.0803838972936496, 'gamma': 5.455908955514411e-07, 'max_depth': 9, 'min_child_weight': 0.0023737604423429873, 'subsample': 0.820659338090193, 'colsample_bytree': 0.5453226090887956, 'colsample_bylevel': 0.8510343621358004, 'colsample_bynode': 0.709060015014188, 'scale_pos_weight': 8.033312561125293e-08}. Best is trial 160 with value: 0.7716389277859876.\n"
     ]
    },
    {
     "name": "stdout",
     "output_type": "stream",
     "text": [
      "Score: 0.7704034660806436\n",
      "Fold 1\n",
      "Memory usage of dataframe is 7.48 MB\n",
      "Memory usage after optimization is: 4.63 MB\n",
      "Decreased by 38.1%\n"
     ]
    },
    {
     "name": "stderr",
     "output_type": "stream",
     "text": [
      "100%|██████████| 36/36 [00:06<00:00,  5.25it/s]\n"
     ]
    },
    {
     "name": "stdout",
     "output_type": "stream",
     "text": [
      "Fold 2\n",
      "Memory usage of dataframe is 7.48 MB\n",
      "Memory usage after optimization is: 4.63 MB\n",
      "Decreased by 38.1%\n"
     ]
    },
    {
     "name": "stderr",
     "output_type": "stream",
     "text": [
      "100%|██████████| 36/36 [00:06<00:00,  5.20it/s]\n"
     ]
    },
    {
     "name": "stdout",
     "output_type": "stream",
     "text": [
      "Fold 3\n",
      "Memory usage of dataframe is 7.48 MB\n",
      "Memory usage after optimization is: 4.63 MB\n",
      "Decreased by 38.1%\n"
     ]
    },
    {
     "name": "stderr",
     "output_type": "stream",
     "text": [
      "100%|██████████| 36/36 [00:06<00:00,  5.33it/s]\n"
     ]
    },
    {
     "name": "stdout",
     "output_type": "stream",
     "text": [
      "Fold 4\n",
      "Memory usage of dataframe is 7.48 MB\n",
      "Memory usage after optimization is: 4.63 MB\n",
      "Decreased by 38.1%\n"
     ]
    },
    {
     "name": "stderr",
     "output_type": "stream",
     "text": [
      "100%|██████████| 36/36 [00:06<00:00,  5.30it/s]\n"
     ]
    },
    {
     "name": "stdout",
     "output_type": "stream",
     "text": [
      "Fold 5\n",
      "Memory usage of dataframe is 7.48 MB\n",
      "Memory usage after optimization is: 4.63 MB\n",
      "Decreased by 38.1%\n"
     ]
    },
    {
     "name": "stderr",
     "output_type": "stream",
     "text": [
      "100%|██████████| 36/36 [00:06<00:00,  5.32it/s]\n",
      "[I 2024-06-30 17:57:44,091] Trial 214 finished with value: 0.7700698986244507 and parameters: {'lambda': 9.046605418662863e-08, 'alpha': 0.46443371693127133, 'eta': 0.09679903125342057, 'gamma': 4.3816437290351705e-07, 'max_depth': 9, 'min_child_weight': 0.0014555195566519554, 'subsample': 0.7972542981674766, 'colsample_bytree': 0.628938422520922, 'colsample_bylevel': 0.9146303019067605, 'colsample_bynode': 0.654989681674171, 'scale_pos_weight': 2.8980964623579133e-08}. Best is trial 160 with value: 0.7716389277859876.\n"
     ]
    },
    {
     "name": "stdout",
     "output_type": "stream",
     "text": [
      "Score: 0.7700698986244507\n",
      "Fold 1\n",
      "Memory usage of dataframe is 7.48 MB\n",
      "Memory usage after optimization is: 4.63 MB\n",
      "Decreased by 38.1%\n"
     ]
    },
    {
     "name": "stderr",
     "output_type": "stream",
     "text": [
      "100%|██████████| 36/36 [00:06<00:00,  5.34it/s]\n"
     ]
    },
    {
     "name": "stdout",
     "output_type": "stream",
     "text": [
      "Fold 2\n",
      "Memory usage of dataframe is 7.48 MB\n",
      "Memory usage after optimization is: 4.63 MB\n",
      "Decreased by 38.1%\n"
     ]
    },
    {
     "name": "stderr",
     "output_type": "stream",
     "text": [
      "100%|██████████| 36/36 [00:06<00:00,  5.33it/s]\n"
     ]
    },
    {
     "name": "stdout",
     "output_type": "stream",
     "text": [
      "Fold 3\n",
      "Memory usage of dataframe is 7.48 MB\n",
      "Memory usage after optimization is: 4.63 MB\n",
      "Decreased by 38.1%\n"
     ]
    },
    {
     "name": "stderr",
     "output_type": "stream",
     "text": [
      "100%|██████████| 36/36 [00:06<00:00,  5.28it/s]\n"
     ]
    },
    {
     "name": "stdout",
     "output_type": "stream",
     "text": [
      "Fold 4\n",
      "Memory usage of dataframe is 7.48 MB\n",
      "Memory usage after optimization is: 4.63 MB\n",
      "Decreased by 38.1%\n"
     ]
    },
    {
     "name": "stderr",
     "output_type": "stream",
     "text": [
      "100%|██████████| 36/36 [00:06<00:00,  5.27it/s]\n"
     ]
    },
    {
     "name": "stdout",
     "output_type": "stream",
     "text": [
      "Fold 5\n",
      "Memory usage of dataframe is 7.48 MB\n",
      "Memory usage after optimization is: 4.63 MB\n",
      "Decreased by 38.1%\n"
     ]
    },
    {
     "name": "stderr",
     "output_type": "stream",
     "text": [
      "100%|██████████| 36/36 [00:06<00:00,  5.28it/s]\n",
      "[I 2024-06-30 17:58:25,777] Trial 215 finished with value: 0.770811167100242 and parameters: {'lambda': 1.5289090669223682e-07, 'alpha': 0.1238297095177451, 'eta': 0.06462663647790125, 'gamma': 1.143601776355571e-06, 'max_depth': 9, 'min_child_weight': 0.005908004010572923, 'subsample': 0.7795249436140999, 'colsample_bytree': 0.5904221540107988, 'colsample_bylevel': 0.9996701784972976, 'colsample_bynode': 0.6287860624245836, 'scale_pos_weight': 1.9417919448933682e-08}. Best is trial 160 with value: 0.7716389277859876.\n"
     ]
    },
    {
     "name": "stdout",
     "output_type": "stream",
     "text": [
      "Score: 0.770811167100242\n",
      "Fold 1\n",
      "Memory usage of dataframe is 7.48 MB\n",
      "Memory usage after optimization is: 4.63 MB\n",
      "Decreased by 38.1%\n"
     ]
    },
    {
     "name": "stderr",
     "output_type": "stream",
     "text": [
      "100%|██████████| 36/36 [00:06<00:00,  5.31it/s]\n"
     ]
    },
    {
     "name": "stdout",
     "output_type": "stream",
     "text": [
      "Fold 2\n",
      "Memory usage of dataframe is 7.48 MB\n",
      "Memory usage after optimization is: 4.63 MB\n",
      "Decreased by 38.1%\n"
     ]
    },
    {
     "name": "stderr",
     "output_type": "stream",
     "text": [
      "100%|██████████| 36/36 [00:06<00:00,  5.31it/s]\n"
     ]
    },
    {
     "name": "stdout",
     "output_type": "stream",
     "text": [
      "Fold 3\n",
      "Memory usage of dataframe is 7.48 MB\n",
      "Memory usage after optimization is: 4.63 MB\n",
      "Decreased by 38.1%\n"
     ]
    },
    {
     "name": "stderr",
     "output_type": "stream",
     "text": [
      "100%|██████████| 36/36 [00:06<00:00,  5.22it/s]\n"
     ]
    },
    {
     "name": "stdout",
     "output_type": "stream",
     "text": [
      "Fold 4\n",
      "Memory usage of dataframe is 7.48 MB\n",
      "Memory usage after optimization is: 4.63 MB\n",
      "Decreased by 38.1%\n"
     ]
    },
    {
     "name": "stderr",
     "output_type": "stream",
     "text": [
      "100%|██████████| 36/36 [00:06<00:00,  5.21it/s]\n"
     ]
    },
    {
     "name": "stdout",
     "output_type": "stream",
     "text": [
      "Fold 5\n",
      "Memory usage of dataframe is 7.48 MB\n",
      "Memory usage after optimization is: 4.63 MB\n",
      "Decreased by 38.1%\n"
     ]
    },
    {
     "name": "stderr",
     "output_type": "stream",
     "text": [
      "100%|██████████| 36/36 [00:06<00:00,  5.28it/s]\n",
      "[I 2024-06-30 17:59:07,698] Trial 216 finished with value: 0.7706381926014398 and parameters: {'lambda': 1.4235380465788137e-07, 'alpha': 0.09480413220399157, 'eta': 0.06797243059198711, 'gamma': 1.2225746700536254e-06, 'max_depth': 9, 'min_child_weight': 0.007879188004654272, 'subsample': 0.8098428754283753, 'colsample_bytree': 0.5821064308576356, 'colsample_bylevel': 0.9688693971938628, 'colsample_bynode': 0.6435222581097292, 'scale_pos_weight': 1.7242288883598416e-08}. Best is trial 160 with value: 0.7716389277859876.\n"
     ]
    },
    {
     "name": "stdout",
     "output_type": "stream",
     "text": [
      "Score: 0.7706381926014398\n",
      "Fold 1\n",
      "Memory usage of dataframe is 7.48 MB\n",
      "Memory usage after optimization is: 4.63 MB\n",
      "Decreased by 38.1%\n"
     ]
    },
    {
     "name": "stderr",
     "output_type": "stream",
     "text": [
      "100%|██████████| 36/36 [00:06<00:00,  5.32it/s]\n"
     ]
    },
    {
     "name": "stdout",
     "output_type": "stream",
     "text": [
      "Fold 2\n",
      "Memory usage of dataframe is 7.48 MB\n",
      "Memory usage after optimization is: 4.63 MB\n",
      "Decreased by 38.1%\n"
     ]
    },
    {
     "name": "stderr",
     "output_type": "stream",
     "text": [
      "100%|██████████| 36/36 [00:06<00:00,  5.29it/s]\n"
     ]
    },
    {
     "name": "stdout",
     "output_type": "stream",
     "text": [
      "Fold 3\n",
      "Memory usage of dataframe is 7.48 MB\n",
      "Memory usage after optimization is: 4.63 MB\n",
      "Decreased by 38.1%\n"
     ]
    },
    {
     "name": "stderr",
     "output_type": "stream",
     "text": [
      "100%|██████████| 36/36 [00:06<00:00,  5.26it/s]\n"
     ]
    },
    {
     "name": "stdout",
     "output_type": "stream",
     "text": [
      "Fold 4\n",
      "Memory usage of dataframe is 7.48 MB\n",
      "Memory usage after optimization is: 4.63 MB\n",
      "Decreased by 38.1%\n"
     ]
    },
    {
     "name": "stderr",
     "output_type": "stream",
     "text": [
      "100%|██████████| 36/36 [00:06<00:00,  5.26it/s]\n"
     ]
    },
    {
     "name": "stdout",
     "output_type": "stream",
     "text": [
      "Fold 5\n",
      "Memory usage of dataframe is 7.48 MB\n",
      "Memory usage after optimization is: 4.63 MB\n",
      "Decreased by 38.1%\n"
     ]
    },
    {
     "name": "stderr",
     "output_type": "stream",
     "text": [
      "100%|██████████| 36/36 [00:06<00:00,  5.31it/s]\n",
      "[I 2024-06-30 17:59:49,999] Trial 217 finished with value: 0.7704899582905982 and parameters: {'lambda': 2.4167836114971187e-07, 'alpha': 0.12176559002316636, 'eta': 0.061241604953862744, 'gamma': 1.0962129240275222e-07, 'max_depth': 9, 'min_child_weight': 0.005875901869542615, 'subsample': 0.787919340256206, 'colsample_bytree': 0.8063927751517482, 'colsample_bylevel': 0.9831993796733355, 'colsample_bynode': 0.6650405929503502, 'scale_pos_weight': 1.972330865902789e-08}. Best is trial 160 with value: 0.7716389277859876.\n"
     ]
    },
    {
     "name": "stdout",
     "output_type": "stream",
     "text": [
      "Score: 0.7704899582905982\n",
      "Fold 1\n",
      "Memory usage of dataframe is 7.48 MB\n",
      "Memory usage after optimization is: 4.63 MB\n",
      "Decreased by 38.1%\n"
     ]
    },
    {
     "name": "stderr",
     "output_type": "stream",
     "text": [
      "100%|██████████| 36/36 [00:06<00:00,  5.28it/s]\n"
     ]
    },
    {
     "name": "stdout",
     "output_type": "stream",
     "text": [
      "Fold 2\n",
      "Memory usage of dataframe is 7.48 MB\n",
      "Memory usage after optimization is: 4.63 MB\n",
      "Decreased by 38.1%\n"
     ]
    },
    {
     "name": "stderr",
     "output_type": "stream",
     "text": [
      "100%|██████████| 36/36 [00:06<00:00,  5.36it/s]\n"
     ]
    },
    {
     "name": "stdout",
     "output_type": "stream",
     "text": [
      "Fold 3\n",
      "Memory usage of dataframe is 7.48 MB\n",
      "Memory usage after optimization is: 4.63 MB\n",
      "Decreased by 38.1%\n"
     ]
    },
    {
     "name": "stderr",
     "output_type": "stream",
     "text": [
      "100%|██████████| 36/36 [00:06<00:00,  5.32it/s]\n"
     ]
    },
    {
     "name": "stdout",
     "output_type": "stream",
     "text": [
      "Fold 4\n",
      "Memory usage of dataframe is 7.48 MB\n",
      "Memory usage after optimization is: 4.63 MB\n",
      "Decreased by 38.1%\n"
     ]
    },
    {
     "name": "stderr",
     "output_type": "stream",
     "text": [
      "100%|██████████| 36/36 [00:06<00:00,  5.30it/s]\n"
     ]
    },
    {
     "name": "stdout",
     "output_type": "stream",
     "text": [
      "Fold 5\n",
      "Memory usage of dataframe is 7.48 MB\n",
      "Memory usage after optimization is: 4.63 MB\n",
      "Decreased by 38.1%\n"
     ]
    },
    {
     "name": "stderr",
     "output_type": "stream",
     "text": [
      "100%|██████████| 36/36 [00:06<00:00,  5.27it/s]\n",
      "[I 2024-06-30 18:00:31,948] Trial 218 finished with value: 0.769538613428847 and parameters: {'lambda': 3.1166801667642615e-08, 'alpha': 0.04600801643940188, 'eta': 0.05428261877894724, 'gamma': 3.1055953501793725e-07, 'max_depth': 9, 'min_child_weight': 0.012560944617856652, 'subsample': 0.8302323824124749, 'colsample_bytree': 0.5609786184235797, 'colsample_bylevel': 0.991077333746106, 'colsample_bynode': 0.6847290562005769, 'scale_pos_weight': 0.0019605200327459096}. Best is trial 160 with value: 0.7716389277859876.\n"
     ]
    },
    {
     "name": "stdout",
     "output_type": "stream",
     "text": [
      "Score: 0.769538613428847\n",
      "Fold 1\n",
      "Memory usage of dataframe is 7.48 MB\n",
      "Memory usage after optimization is: 4.63 MB\n",
      "Decreased by 38.1%\n"
     ]
    },
    {
     "name": "stderr",
     "output_type": "stream",
     "text": [
      "100%|██████████| 36/36 [00:06<00:00,  5.37it/s]\n"
     ]
    },
    {
     "name": "stdout",
     "output_type": "stream",
     "text": [
      "Fold 2\n",
      "Memory usage of dataframe is 7.48 MB\n",
      "Memory usage after optimization is: 4.63 MB\n",
      "Decreased by 38.1%\n"
     ]
    },
    {
     "name": "stderr",
     "output_type": "stream",
     "text": [
      "100%|██████████| 36/36 [00:06<00:00,  5.34it/s]\n"
     ]
    },
    {
     "name": "stdout",
     "output_type": "stream",
     "text": [
      "Fold 3\n",
      "Memory usage of dataframe is 7.48 MB\n",
      "Memory usage after optimization is: 4.63 MB\n",
      "Decreased by 38.1%\n"
     ]
    },
    {
     "name": "stderr",
     "output_type": "stream",
     "text": [
      "100%|██████████| 36/36 [00:06<00:00,  5.31it/s]\n"
     ]
    },
    {
     "name": "stdout",
     "output_type": "stream",
     "text": [
      "Fold 4\n",
      "Memory usage of dataframe is 7.48 MB\n",
      "Memory usage after optimization is: 4.63 MB\n",
      "Decreased by 38.1%\n"
     ]
    },
    {
     "name": "stderr",
     "output_type": "stream",
     "text": [
      "100%|██████████| 36/36 [00:06<00:00,  5.22it/s]\n"
     ]
    },
    {
     "name": "stdout",
     "output_type": "stream",
     "text": [
      "Fold 5\n",
      "Memory usage of dataframe is 7.48 MB\n",
      "Memory usage after optimization is: 4.63 MB\n",
      "Decreased by 38.1%\n"
     ]
    },
    {
     "name": "stderr",
     "output_type": "stream",
     "text": [
      "100%|██████████| 36/36 [00:06<00:00,  5.31it/s]\n",
      "[I 2024-06-30 18:01:13,979] Trial 219 finished with value: 0.7704776141441283 and parameters: {'lambda': 1.3984362538342676e-07, 'alpha': 0.23424029487670578, 'eta': 0.0722250651059332, 'gamma': 7.3062388841944e-08, 'max_depth': 9, 'min_child_weight': 0.002870070893518313, 'subsample': 0.8490487048783932, 'colsample_bytree': 0.5756422104195783, 'colsample_bylevel': 0.9735796031848752, 'colsample_bynode': 0.7463248027170362, 'scale_pos_weight': 5.3880511232551226e-08}. Best is trial 160 with value: 0.7716389277859876.\n"
     ]
    },
    {
     "name": "stdout",
     "output_type": "stream",
     "text": [
      "Score: 0.7704776141441283\n",
      "Fold 1\n",
      "Memory usage of dataframe is 7.48 MB\n",
      "Memory usage after optimization is: 4.63 MB\n",
      "Decreased by 38.1%\n"
     ]
    },
    {
     "name": "stderr",
     "output_type": "stream",
     "text": [
      "100%|██████████| 36/36 [00:06<00:00,  5.25it/s]\n"
     ]
    },
    {
     "name": "stdout",
     "output_type": "stream",
     "text": [
      "Fold 2\n",
      "Memory usage of dataframe is 7.48 MB\n",
      "Memory usage after optimization is: 4.63 MB\n",
      "Decreased by 38.1%\n"
     ]
    },
    {
     "name": "stderr",
     "output_type": "stream",
     "text": [
      "100%|██████████| 36/36 [00:06<00:00,  5.30it/s]\n"
     ]
    },
    {
     "name": "stdout",
     "output_type": "stream",
     "text": [
      "Fold 3\n",
      "Memory usage of dataframe is 7.48 MB\n",
      "Memory usage after optimization is: 4.63 MB\n",
      "Decreased by 38.1%\n"
     ]
    },
    {
     "name": "stderr",
     "output_type": "stream",
     "text": [
      "100%|██████████| 36/36 [00:06<00:00,  5.25it/s]\n"
     ]
    },
    {
     "name": "stdout",
     "output_type": "stream",
     "text": [
      "Fold 4\n",
      "Memory usage of dataframe is 7.48 MB\n",
      "Memory usage after optimization is: 4.63 MB\n",
      "Decreased by 38.1%\n"
     ]
    },
    {
     "name": "stderr",
     "output_type": "stream",
     "text": [
      "100%|██████████| 36/36 [00:06<00:00,  5.26it/s]\n"
     ]
    },
    {
     "name": "stdout",
     "output_type": "stream",
     "text": [
      "Fold 5\n",
      "Memory usage of dataframe is 7.48 MB\n",
      "Memory usage after optimization is: 4.63 MB\n",
      "Decreased by 38.1%\n"
     ]
    },
    {
     "name": "stderr",
     "output_type": "stream",
     "text": [
      "100%|██████████| 36/36 [00:06<00:00,  5.23it/s]\n",
      "[I 2024-06-30 18:01:55,865] Trial 220 finished with value: 0.7701316712518207 and parameters: {'lambda': 8.127194021994392e-08, 'alpha': 0.062064796610214, 'eta': 0.06259957000044807, 'gamma': 4.3543020954980515e-08, 'max_depth': 9, 'min_child_weight': 0.001709421421143895, 'subsample': 0.7676989942558545, 'colsample_bytree': 0.6407580213651415, 'colsample_bylevel': 0.9590929015301661, 'colsample_bynode': 0.6274174675786939, 'scale_pos_weight': 1.0511662322821728e-08}. Best is trial 160 with value: 0.7716389277859876.\n"
     ]
    },
    {
     "name": "stdout",
     "output_type": "stream",
     "text": [
      "Score: 0.7701316712518207\n",
      "Fold 1\n",
      "Memory usage of dataframe is 7.48 MB\n",
      "Memory usage after optimization is: 4.63 MB\n",
      "Decreased by 38.1%\n"
     ]
    },
    {
     "name": "stderr",
     "output_type": "stream",
     "text": [
      "100%|██████████| 36/36 [00:06<00:00,  5.32it/s]\n"
     ]
    },
    {
     "name": "stdout",
     "output_type": "stream",
     "text": [
      "Fold 2\n",
      "Memory usage of dataframe is 7.48 MB\n",
      "Memory usage after optimization is: 4.63 MB\n",
      "Decreased by 38.1%\n"
     ]
    },
    {
     "name": "stderr",
     "output_type": "stream",
     "text": [
      "100%|██████████| 36/36 [00:06<00:00,  5.26it/s]\n"
     ]
    },
    {
     "name": "stdout",
     "output_type": "stream",
     "text": [
      "Fold 3\n",
      "Memory usage of dataframe is 7.48 MB\n",
      "Memory usage after optimization is: 4.63 MB\n",
      "Decreased by 38.1%\n"
     ]
    },
    {
     "name": "stderr",
     "output_type": "stream",
     "text": [
      "100%|██████████| 36/36 [00:06<00:00,  5.24it/s]\n"
     ]
    },
    {
     "name": "stdout",
     "output_type": "stream",
     "text": [
      "Fold 4\n",
      "Memory usage of dataframe is 7.48 MB\n",
      "Memory usage after optimization is: 4.63 MB\n",
      "Decreased by 38.1%\n"
     ]
    },
    {
     "name": "stderr",
     "output_type": "stream",
     "text": [
      "100%|██████████| 36/36 [00:06<00:00,  5.26it/s]\n"
     ]
    },
    {
     "name": "stdout",
     "output_type": "stream",
     "text": [
      "Fold 5\n",
      "Memory usage of dataframe is 7.48 MB\n",
      "Memory usage after optimization is: 4.63 MB\n",
      "Decreased by 38.1%\n"
     ]
    },
    {
     "name": "stderr",
     "output_type": "stream",
     "text": [
      "100%|██████████| 36/36 [00:06<00:00,  5.26it/s]\n",
      "[I 2024-06-30 18:02:38,096] Trial 221 finished with value: 0.7641891518251868 and parameters: {'lambda': 3.729229356233941e-07, 'alpha': 0.0007626537822759383, 'eta': 0.007137525155209531, 'gamma': 6.724174644808951e-07, 'max_depth': 9, 'min_child_weight': 0.004666737227847957, 'subsample': 0.7807444617070022, 'colsample_bytree': 0.6012395981882076, 'colsample_bylevel': 0.9925039275638605, 'colsample_bynode': 0.6137736455429595, 'scale_pos_weight': 3.5197463479991965e-08}. Best is trial 160 with value: 0.7716389277859876.\n"
     ]
    },
    {
     "name": "stdout",
     "output_type": "stream",
     "text": [
      "Score: 0.7641891518251868\n",
      "Fold 1\n",
      "Memory usage of dataframe is 7.48 MB\n",
      "Memory usage after optimization is: 4.63 MB\n",
      "Decreased by 38.1%\n"
     ]
    },
    {
     "name": "stderr",
     "output_type": "stream",
     "text": [
      "100%|██████████| 36/36 [00:06<00:00,  5.28it/s]\n"
     ]
    },
    {
     "name": "stdout",
     "output_type": "stream",
     "text": [
      "Fold 2\n",
      "Memory usage of dataframe is 7.48 MB\n",
      "Memory usage after optimization is: 4.63 MB\n",
      "Decreased by 38.1%\n"
     ]
    },
    {
     "name": "stderr",
     "output_type": "stream",
     "text": [
      "100%|██████████| 36/36 [00:06<00:00,  5.23it/s]\n"
     ]
    },
    {
     "name": "stdout",
     "output_type": "stream",
     "text": [
      "Fold 3\n",
      "Memory usage of dataframe is 7.48 MB\n",
      "Memory usage after optimization is: 4.63 MB\n",
      "Decreased by 38.1%\n"
     ]
    },
    {
     "name": "stderr",
     "output_type": "stream",
     "text": [
      "100%|██████████| 36/36 [00:06<00:00,  5.31it/s]\n"
     ]
    },
    {
     "name": "stdout",
     "output_type": "stream",
     "text": [
      "Fold 4\n",
      "Memory usage of dataframe is 7.48 MB\n",
      "Memory usage after optimization is: 4.63 MB\n",
      "Decreased by 38.1%\n"
     ]
    },
    {
     "name": "stderr",
     "output_type": "stream",
     "text": [
      "100%|██████████| 36/36 [00:06<00:00,  5.34it/s]\n"
     ]
    },
    {
     "name": "stdout",
     "output_type": "stream",
     "text": [
      "Fold 5\n",
      "Memory usage of dataframe is 7.48 MB\n",
      "Memory usage after optimization is: 4.63 MB\n",
      "Decreased by 38.1%\n"
     ]
    },
    {
     "name": "stderr",
     "output_type": "stream",
     "text": [
      "100%|██████████| 36/36 [00:06<00:00,  5.27it/s]\n",
      "[I 2024-06-30 18:03:19,607] Trial 222 finished with value: 0.7704034668438057 and parameters: {'lambda': 5.320811583735236e-08, 'alpha': 0.3212972091440739, 'eta': 0.07965804483357732, 'gamma': 9.78007607806698e-07, 'max_depth': 9, 'min_child_weight': 0.003409878926939504, 'subsample': 0.7757776400722582, 'colsample_bytree': 0.6142973965227227, 'colsample_bylevel': 0.8319184358537839, 'colsample_bynode': 0.945726932194143, 'scale_pos_weight': 2.6138949479392008e-08}. Best is trial 160 with value: 0.7716389277859876.\n"
     ]
    },
    {
     "name": "stdout",
     "output_type": "stream",
     "text": [
      "Score: 0.7704034668438057\n",
      "Fold 1\n",
      "Memory usage of dataframe is 7.48 MB\n",
      "Memory usage after optimization is: 4.63 MB\n",
      "Decreased by 38.1%\n"
     ]
    },
    {
     "name": "stderr",
     "output_type": "stream",
     "text": [
      "100%|██████████| 36/36 [00:06<00:00,  5.29it/s]\n"
     ]
    },
    {
     "name": "stdout",
     "output_type": "stream",
     "text": [
      "Fold 2\n",
      "Memory usage of dataframe is 7.48 MB\n",
      "Memory usage after optimization is: 4.63 MB\n",
      "Decreased by 38.1%\n"
     ]
    },
    {
     "name": "stderr",
     "output_type": "stream",
     "text": [
      "100%|██████████| 36/36 [00:06<00:00,  5.34it/s]\n"
     ]
    },
    {
     "name": "stdout",
     "output_type": "stream",
     "text": [
      "Fold 3\n",
      "Memory usage of dataframe is 7.48 MB\n",
      "Memory usage after optimization is: 4.63 MB\n",
      "Decreased by 38.1%\n"
     ]
    },
    {
     "name": "stderr",
     "output_type": "stream",
     "text": [
      "100%|██████████| 36/36 [00:06<00:00,  5.28it/s]\n"
     ]
    },
    {
     "name": "stdout",
     "output_type": "stream",
     "text": [
      "Fold 4\n",
      "Memory usage of dataframe is 7.48 MB\n",
      "Memory usage after optimization is: 4.63 MB\n",
      "Decreased by 38.1%\n"
     ]
    },
    {
     "name": "stderr",
     "output_type": "stream",
     "text": [
      "100%|██████████| 36/36 [00:06<00:00,  5.27it/s]\n"
     ]
    },
    {
     "name": "stdout",
     "output_type": "stream",
     "text": [
      "Fold 5\n",
      "Memory usage of dataframe is 7.48 MB\n",
      "Memory usage after optimization is: 4.63 MB\n",
      "Decreased by 38.1%\n"
     ]
    },
    {
     "name": "stderr",
     "output_type": "stream",
     "text": [
      "100%|██████████| 36/36 [00:06<00:00,  5.34it/s]\n",
      "[I 2024-06-30 18:04:01,072] Trial 223 finished with value: 0.7706999469129201 and parameters: {'lambda': 1.8422248374672095e-07, 'alpha': 0.5985850307941343, 'eta': 0.09236688903939717, 'gamma': 1.8287268455143026e-06, 'max_depth': 9, 'min_child_weight': 0.005360644765678368, 'subsample': 0.7936779535718793, 'colsample_bytree': 0.5934972577601815, 'colsample_bylevel': 0.9980940442277645, 'colsample_bynode': 0.6268545964259187, 'scale_pos_weight': 2.7956215329325334e-06}. Best is trial 160 with value: 0.7716389277859876.\n"
     ]
    },
    {
     "name": "stdout",
     "output_type": "stream",
     "text": [
      "Score: 0.7706999469129201\n",
      "Fold 1\n",
      "Memory usage of dataframe is 7.48 MB\n",
      "Memory usage after optimization is: 4.63 MB\n",
      "Decreased by 38.1%\n"
     ]
    },
    {
     "name": "stderr",
     "output_type": "stream",
     "text": [
      "100%|██████████| 36/36 [00:06<00:00,  5.37it/s]\n"
     ]
    },
    {
     "name": "stdout",
     "output_type": "stream",
     "text": [
      "Fold 2\n",
      "Memory usage of dataframe is 7.48 MB\n",
      "Memory usage after optimization is: 4.63 MB\n",
      "Decreased by 38.1%\n"
     ]
    },
    {
     "name": "stderr",
     "output_type": "stream",
     "text": [
      "100%|██████████| 36/36 [00:06<00:00,  5.34it/s]\n"
     ]
    },
    {
     "name": "stdout",
     "output_type": "stream",
     "text": [
      "Fold 3\n",
      "Memory usage of dataframe is 7.48 MB\n",
      "Memory usage after optimization is: 4.63 MB\n",
      "Decreased by 38.1%\n"
     ]
    },
    {
     "name": "stderr",
     "output_type": "stream",
     "text": [
      "100%|██████████| 36/36 [00:06<00:00,  5.35it/s]\n"
     ]
    },
    {
     "name": "stdout",
     "output_type": "stream",
     "text": [
      "Fold 4\n",
      "Memory usage of dataframe is 7.48 MB\n",
      "Memory usage after optimization is: 4.63 MB\n",
      "Decreased by 38.1%\n"
     ]
    },
    {
     "name": "stderr",
     "output_type": "stream",
     "text": [
      "100%|██████████| 36/36 [00:06<00:00,  5.33it/s]\n"
     ]
    },
    {
     "name": "stdout",
     "output_type": "stream",
     "text": [
      "Fold 5\n",
      "Memory usage of dataframe is 7.48 MB\n",
      "Memory usage after optimization is: 4.63 MB\n",
      "Decreased by 38.1%\n"
     ]
    },
    {
     "name": "stderr",
     "output_type": "stream",
     "text": [
      "100%|██████████| 36/36 [00:06<00:00,  5.28it/s]\n",
      "[I 2024-06-30 18:04:43,411] Trial 224 finished with value: 0.7706505588796098 and parameters: {'lambda': 5.716556364461247e-07, 'alpha': 0.00026861774005452105, 'eta': 0.06880738480797315, 'gamma': 4.6687821815494815e-05, 'max_depth': 9, 'min_child_weight': 0.002413571232671689, 'subsample': 0.8090183883712226, 'colsample_bytree': 0.5909299458595113, 'colsample_bylevel': 0.9832123501949579, 'colsample_bynode': 0.6465277135448321, 'scale_pos_weight': 1.4097664488855095e-08}. Best is trial 160 with value: 0.7716389277859876.\n"
     ]
    },
    {
     "name": "stdout",
     "output_type": "stream",
     "text": [
      "Score: 0.7706505588796098\n",
      "Fold 1\n",
      "Memory usage of dataframe is 7.48 MB\n",
      "Memory usage after optimization is: 4.63 MB\n",
      "Decreased by 38.1%\n"
     ]
    },
    {
     "name": "stderr",
     "output_type": "stream",
     "text": [
      "100%|██████████| 36/36 [00:06<00:00,  5.31it/s]\n"
     ]
    },
    {
     "name": "stdout",
     "output_type": "stream",
     "text": [
      "Fold 2\n",
      "Memory usage of dataframe is 7.48 MB\n",
      "Memory usage after optimization is: 4.63 MB\n",
      "Decreased by 38.1%\n"
     ]
    },
    {
     "name": "stderr",
     "output_type": "stream",
     "text": [
      "100%|██████████| 36/36 [00:06<00:00,  5.27it/s]\n"
     ]
    },
    {
     "name": "stdout",
     "output_type": "stream",
     "text": [
      "Fold 3\n",
      "Memory usage of dataframe is 7.48 MB\n",
      "Memory usage after optimization is: 4.63 MB\n",
      "Decreased by 38.1%\n"
     ]
    },
    {
     "name": "stderr",
     "output_type": "stream",
     "text": [
      "100%|██████████| 36/36 [00:06<00:00,  5.34it/s]\n"
     ]
    },
    {
     "name": "stdout",
     "output_type": "stream",
     "text": [
      "Fold 4\n",
      "Memory usage of dataframe is 7.48 MB\n",
      "Memory usage after optimization is: 4.63 MB\n",
      "Decreased by 38.1%\n"
     ]
    },
    {
     "name": "stderr",
     "output_type": "stream",
     "text": [
      "100%|██████████| 36/36 [00:06<00:00,  5.29it/s]\n"
     ]
    },
    {
     "name": "stdout",
     "output_type": "stream",
     "text": [
      "Fold 5\n",
      "Memory usage of dataframe is 7.48 MB\n",
      "Memory usage after optimization is: 4.63 MB\n",
      "Decreased by 38.1%\n"
     ]
    },
    {
     "name": "stderr",
     "output_type": "stream",
     "text": [
      "100%|██████████| 36/36 [00:06<00:00,  5.22it/s]\n",
      "[I 2024-06-30 18:05:25,229] Trial 225 finished with value: 0.7638308243388197 and parameters: {'lambda': 8.832839431951724e-07, 'alpha': 0.18943570556485434, 'eta': 0.2411640788524749, 'gamma': 8.090516655085275e-07, 'max_depth': 9, 'min_child_weight': 0.0010699062649536042, 'subsample': 0.8609573705493145, 'colsample_bytree': 0.6066225371997856, 'colsample_bylevel': 0.9991371000669577, 'colsample_bynode': 0.6347626842016998, 'scale_pos_weight': 1.7932423636261574e-08}. Best is trial 160 with value: 0.7716389277859876.\n"
     ]
    },
    {
     "name": "stdout",
     "output_type": "stream",
     "text": [
      "Score: 0.7638308243388197\n",
      "Fold 1\n",
      "Memory usage of dataframe is 7.48 MB\n",
      "Memory usage after optimization is: 4.63 MB\n",
      "Decreased by 38.1%\n"
     ]
    },
    {
     "name": "stderr",
     "output_type": "stream",
     "text": [
      "100%|██████████| 36/36 [00:06<00:00,  5.30it/s]\n"
     ]
    },
    {
     "name": "stdout",
     "output_type": "stream",
     "text": [
      "Fold 2\n",
      "Memory usage of dataframe is 7.48 MB\n",
      "Memory usage after optimization is: 4.63 MB\n",
      "Decreased by 38.1%\n"
     ]
    },
    {
     "name": "stderr",
     "output_type": "stream",
     "text": [
      "100%|██████████| 36/36 [00:06<00:00,  5.31it/s]\n"
     ]
    },
    {
     "name": "stdout",
     "output_type": "stream",
     "text": [
      "Fold 3\n",
      "Memory usage of dataframe is 7.48 MB\n",
      "Memory usage after optimization is: 4.63 MB\n",
      "Decreased by 38.1%\n"
     ]
    },
    {
     "name": "stderr",
     "output_type": "stream",
     "text": [
      "100%|██████████| 36/36 [00:06<00:00,  5.27it/s]\n"
     ]
    },
    {
     "name": "stdout",
     "output_type": "stream",
     "text": [
      "Fold 4\n",
      "Memory usage of dataframe is 7.48 MB\n",
      "Memory usage after optimization is: 4.63 MB\n",
      "Decreased by 38.1%\n"
     ]
    },
    {
     "name": "stderr",
     "output_type": "stream",
     "text": [
      "100%|██████████| 36/36 [00:06<00:00,  5.25it/s]\n"
     ]
    },
    {
     "name": "stdout",
     "output_type": "stream",
     "text": [
      "Fold 5\n",
      "Memory usage of dataframe is 7.48 MB\n",
      "Memory usage after optimization is: 4.63 MB\n",
      "Decreased by 38.1%\n"
     ]
    },
    {
     "name": "stderr",
     "output_type": "stream",
     "text": [
      "100%|██████████| 36/36 [00:06<00:00,  5.34it/s]\n",
      "[I 2024-06-30 18:06:06,381] Trial 226 finished with value: 0.7712312382138204 and parameters: {'lambda': 1.9985160706753748e-08, 'alpha': 0.9904147929604726, 'eta': 0.07829327623894798, 'gamma': 2.353639368944839e-07, 'max_depth': 9, 'min_child_weight': 0.0006585629885321405, 'subsample': 0.8392650019105542, 'colsample_bytree': 0.5649509209943754, 'colsample_bylevel': 0.9746768639989781, 'colsample_bynode': 0.7228324146673948, 'scale_pos_weight': 9.872784712786045e-05}. Best is trial 160 with value: 0.7716389277859876.\n"
     ]
    },
    {
     "name": "stdout",
     "output_type": "stream",
     "text": [
      "Score: 0.7712312382138204\n",
      "Fold 1\n",
      "Memory usage of dataframe is 7.48 MB\n",
      "Memory usage after optimization is: 4.63 MB\n",
      "Decreased by 38.1%\n"
     ]
    },
    {
     "name": "stderr",
     "output_type": "stream",
     "text": [
      "100%|██████████| 36/36 [00:06<00:00,  5.30it/s]\n"
     ]
    },
    {
     "name": "stdout",
     "output_type": "stream",
     "text": [
      "Fold 2\n",
      "Memory usage of dataframe is 7.48 MB\n",
      "Memory usage after optimization is: 4.63 MB\n",
      "Decreased by 38.1%\n"
     ]
    },
    {
     "name": "stderr",
     "output_type": "stream",
     "text": [
      "100%|██████████| 36/36 [00:06<00:00,  5.21it/s]\n"
     ]
    },
    {
     "name": "stdout",
     "output_type": "stream",
     "text": [
      "Fold 3\n",
      "Memory usage of dataframe is 7.48 MB\n",
      "Memory usage after optimization is: 4.63 MB\n",
      "Decreased by 38.1%\n"
     ]
    },
    {
     "name": "stderr",
     "output_type": "stream",
     "text": [
      "100%|██████████| 36/36 [00:06<00:00,  5.23it/s]\n"
     ]
    },
    {
     "name": "stdout",
     "output_type": "stream",
     "text": [
      "Fold 4\n",
      "Memory usage of dataframe is 7.48 MB\n",
      "Memory usage after optimization is: 4.63 MB\n",
      "Decreased by 38.1%\n"
     ]
    },
    {
     "name": "stderr",
     "output_type": "stream",
     "text": [
      "100%|██████████| 36/36 [00:06<00:00,  5.31it/s]\n"
     ]
    },
    {
     "name": "stdout",
     "output_type": "stream",
     "text": [
      "Fold 5\n",
      "Memory usage of dataframe is 7.48 MB\n",
      "Memory usage after optimization is: 4.63 MB\n",
      "Decreased by 38.1%\n"
     ]
    },
    {
     "name": "stderr",
     "output_type": "stream",
     "text": [
      "100%|██████████| 36/36 [00:06<00:00,  5.35it/s]\n",
      "[I 2024-06-30 18:06:47,456] Trial 227 finished with value: 0.7706876210823399 and parameters: {'lambda': 3.4812439562657046e-08, 'alpha': 0.9368785379198928, 'eta': 0.07664175440041068, 'gamma': 2.1827360734831378e-07, 'max_depth': 9, 'min_child_weight': 0.0007557554589260059, 'subsample': 0.8396131445723197, 'colsample_bytree': 0.5667798439584885, 'colsample_bylevel': 0.8740509166275325, 'colsample_bynode': 0.703178481336134, 'scale_pos_weight': 5.846775890913887e-07}. Best is trial 160 with value: 0.7716389277859876.\n"
     ]
    },
    {
     "name": "stdout",
     "output_type": "stream",
     "text": [
      "Score: 0.7706876210823399\n",
      "Fold 1\n",
      "Memory usage of dataframe is 7.48 MB\n",
      "Memory usage after optimization is: 4.63 MB\n",
      "Decreased by 38.1%\n"
     ]
    },
    {
     "name": "stderr",
     "output_type": "stream",
     "text": [
      "100%|██████████| 36/36 [00:06<00:00,  5.17it/s]\n"
     ]
    },
    {
     "name": "stdout",
     "output_type": "stream",
     "text": [
      "Fold 2\n",
      "Memory usage of dataframe is 7.48 MB\n",
      "Memory usage after optimization is: 4.63 MB\n",
      "Decreased by 38.1%\n"
     ]
    },
    {
     "name": "stderr",
     "output_type": "stream",
     "text": [
      "100%|██████████| 36/36 [00:06<00:00,  5.21it/s]\n"
     ]
    },
    {
     "name": "stdout",
     "output_type": "stream",
     "text": [
      "Fold 3\n",
      "Memory usage of dataframe is 7.48 MB\n",
      "Memory usage after optimization is: 4.63 MB\n",
      "Decreased by 38.1%\n"
     ]
    },
    {
     "name": "stderr",
     "output_type": "stream",
     "text": [
      "100%|██████████| 36/36 [00:06<00:00,  5.29it/s]\n"
     ]
    },
    {
     "name": "stdout",
     "output_type": "stream",
     "text": [
      "Fold 4\n",
      "Memory usage of dataframe is 7.48 MB\n",
      "Memory usage after optimization is: 4.63 MB\n",
      "Decreased by 38.1%\n"
     ]
    },
    {
     "name": "stderr",
     "output_type": "stream",
     "text": [
      "100%|██████████| 36/36 [00:07<00:00,  5.12it/s]\n"
     ]
    },
    {
     "name": "stdout",
     "output_type": "stream",
     "text": [
      "Fold 5\n",
      "Memory usage of dataframe is 7.48 MB\n",
      "Memory usage after optimization is: 4.63 MB\n",
      "Decreased by 38.1%\n"
     ]
    },
    {
     "name": "stderr",
     "output_type": "stream",
     "text": [
      "100%|██████████| 36/36 [00:06<00:00,  5.32it/s]\n",
      "[I 2024-06-30 18:07:29,450] Trial 228 finished with value: 0.7696868889504404 and parameters: {'lambda': 2.262182905841462e-08, 'alpha': 0.7721189702394959, 'eta': 0.06548516007146372, 'gamma': 1.5210579764189653e-07, 'max_depth': 9, 'min_child_weight': 0.0005143450801704982, 'subsample': 0.8498651623108099, 'colsample_bytree': 0.5558121192077343, 'colsample_bylevel': 0.9694309968465492, 'colsample_bynode': 0.7250244697373672, 'scale_pos_weight': 4.232006899095461e-05}. Best is trial 160 with value: 0.7716389277859876.\n"
     ]
    },
    {
     "name": "stdout",
     "output_type": "stream",
     "text": [
      "Score: 0.7696868889504404\n",
      "Fold 1\n",
      "Memory usage of dataframe is 7.48 MB\n",
      "Memory usage after optimization is: 4.63 MB\n",
      "Decreased by 38.1%\n"
     ]
    },
    {
     "name": "stderr",
     "output_type": "stream",
     "text": [
      "100%|██████████| 36/36 [00:06<00:00,  5.32it/s]\n"
     ]
    },
    {
     "name": "stdout",
     "output_type": "stream",
     "text": [
      "Fold 2\n",
      "Memory usage of dataframe is 7.48 MB\n",
      "Memory usage after optimization is: 4.63 MB\n",
      "Decreased by 38.1%\n"
     ]
    },
    {
     "name": "stderr",
     "output_type": "stream",
     "text": [
      "100%|██████████| 36/36 [00:06<00:00,  5.29it/s]\n"
     ]
    },
    {
     "name": "stdout",
     "output_type": "stream",
     "text": [
      "Fold 3\n",
      "Memory usage of dataframe is 7.48 MB\n",
      "Memory usage after optimization is: 4.63 MB\n",
      "Decreased by 38.1%\n"
     ]
    },
    {
     "name": "stderr",
     "output_type": "stream",
     "text": [
      "100%|██████████| 36/36 [00:06<00:00,  5.29it/s]\n"
     ]
    },
    {
     "name": "stdout",
     "output_type": "stream",
     "text": [
      "Fold 4\n",
      "Memory usage of dataframe is 7.48 MB\n",
      "Memory usage after optimization is: 4.63 MB\n",
      "Decreased by 38.1%\n"
     ]
    },
    {
     "name": "stderr",
     "output_type": "stream",
     "text": [
      "100%|██████████| 36/36 [00:06<00:00,  5.32it/s]\n"
     ]
    },
    {
     "name": "stdout",
     "output_type": "stream",
     "text": [
      "Fold 5\n",
      "Memory usage of dataframe is 7.48 MB\n",
      "Memory usage after optimization is: 4.63 MB\n",
      "Decreased by 38.1%\n"
     ]
    },
    {
     "name": "stderr",
     "output_type": "stream",
     "text": [
      "100%|██████████| 36/36 [00:06<00:00,  5.30it/s]\n",
      "[I 2024-06-30 18:08:10,517] Trial 229 finished with value: 0.7715895214367876 and parameters: {'lambda': 1.1263242087786912e-08, 'alpha': 0.5059028024991182, 'eta': 0.08358290451138543, 'gamma': 3.748874271238028e-07, 'max_depth': 9, 'min_child_weight': 0.00016772062809298775, 'subsample': 0.8264328599530494, 'colsample_bytree': 0.5324105264224633, 'colsample_bylevel': 0.978016542839295, 'colsample_bynode': 0.6924074007909228, 'scale_pos_weight': 2.6145037724004258e-06}. Best is trial 160 with value: 0.7716389277859876.\n"
     ]
    },
    {
     "name": "stdout",
     "output_type": "stream",
     "text": [
      "Score: 0.7715895214367876\n",
      "Fold 1\n",
      "Memory usage of dataframe is 7.48 MB\n",
      "Memory usage after optimization is: 4.63 MB\n",
      "Decreased by 38.1%\n"
     ]
    },
    {
     "name": "stderr",
     "output_type": "stream",
     "text": [
      "100%|██████████| 36/36 [00:06<00:00,  5.28it/s]\n"
     ]
    },
    {
     "name": "stdout",
     "output_type": "stream",
     "text": [
      "Fold 2\n",
      "Memory usage of dataframe is 7.48 MB\n",
      "Memory usage after optimization is: 4.63 MB\n",
      "Decreased by 38.1%\n"
     ]
    },
    {
     "name": "stderr",
     "output_type": "stream",
     "text": [
      "100%|██████████| 36/36 [00:06<00:00,  5.29it/s]\n"
     ]
    },
    {
     "name": "stdout",
     "output_type": "stream",
     "text": [
      "Fold 3\n",
      "Memory usage of dataframe is 7.48 MB\n",
      "Memory usage after optimization is: 4.63 MB\n",
      "Decreased by 38.1%\n"
     ]
    },
    {
     "name": "stderr",
     "output_type": "stream",
     "text": [
      "100%|██████████| 36/36 [00:06<00:00,  5.30it/s]\n"
     ]
    },
    {
     "name": "stdout",
     "output_type": "stream",
     "text": [
      "Fold 4\n",
      "Memory usage of dataframe is 7.48 MB\n",
      "Memory usage after optimization is: 4.63 MB\n",
      "Decreased by 38.1%\n"
     ]
    },
    {
     "name": "stderr",
     "output_type": "stream",
     "text": [
      "100%|██████████| 36/36 [00:06<00:00,  5.33it/s]\n"
     ]
    },
    {
     "name": "stdout",
     "output_type": "stream",
     "text": [
      "Fold 5\n",
      "Memory usage of dataframe is 7.48 MB\n",
      "Memory usage after optimization is: 4.63 MB\n",
      "Decreased by 38.1%\n"
     ]
    },
    {
     "name": "stderr",
     "output_type": "stream",
     "text": [
      "100%|██████████| 36/36 [00:06<00:00,  5.19it/s]\n",
      "[I 2024-06-30 18:08:51,688] Trial 230 finished with value: 0.7701934202211664 and parameters: {'lambda': 1.58870730493862e-08, 'alpha': 0.4606861898079377, 'eta': 0.08590831085726204, 'gamma': 4.024925663702504e-07, 'max_depth': 9, 'min_child_weight': 0.00027350898796614444, 'subsample': 0.826907419656316, 'colsample_bytree': 0.5316195876748647, 'colsample_bylevel': 0.9749858514869615, 'colsample_bynode': 0.7202798997900413, 'scale_pos_weight': 2.3736723363915453e-05}. Best is trial 160 with value: 0.7716389277859876.\n"
     ]
    },
    {
     "name": "stdout",
     "output_type": "stream",
     "text": [
      "Score: 0.7701934202211664\n",
      "Fold 1\n",
      "Memory usage of dataframe is 7.48 MB\n",
      "Memory usage after optimization is: 4.63 MB\n",
      "Decreased by 38.1%\n"
     ]
    },
    {
     "name": "stderr",
     "output_type": "stream",
     "text": [
      "100%|██████████| 36/36 [00:06<00:00,  5.32it/s]\n"
     ]
    },
    {
     "name": "stdout",
     "output_type": "stream",
     "text": [
      "Fold 2\n",
      "Memory usage of dataframe is 7.48 MB\n",
      "Memory usage after optimization is: 4.63 MB\n",
      "Decreased by 38.1%\n"
     ]
    },
    {
     "name": "stderr",
     "output_type": "stream",
     "text": [
      "100%|██████████| 36/36 [00:06<00:00,  5.22it/s]\n"
     ]
    },
    {
     "name": "stdout",
     "output_type": "stream",
     "text": [
      "Fold 3\n",
      "Memory usage of dataframe is 7.48 MB\n",
      "Memory usage after optimization is: 4.63 MB\n",
      "Decreased by 38.1%\n"
     ]
    },
    {
     "name": "stderr",
     "output_type": "stream",
     "text": [
      "100%|██████████| 36/36 [00:06<00:00,  5.32it/s]\n"
     ]
    },
    {
     "name": "stdout",
     "output_type": "stream",
     "text": [
      "Fold 4\n",
      "Memory usage of dataframe is 7.48 MB\n",
      "Memory usage after optimization is: 4.63 MB\n",
      "Decreased by 38.1%\n"
     ]
    },
    {
     "name": "stderr",
     "output_type": "stream",
     "text": [
      "100%|██████████| 36/36 [00:06<00:00,  5.26it/s]\n"
     ]
    },
    {
     "name": "stdout",
     "output_type": "stream",
     "text": [
      "Fold 5\n",
      "Memory usage of dataframe is 7.48 MB\n",
      "Memory usage after optimization is: 4.63 MB\n",
      "Decreased by 38.1%\n"
     ]
    },
    {
     "name": "stderr",
     "output_type": "stream",
     "text": [
      "100%|██████████| 36/36 [00:06<00:00,  5.30it/s]\n",
      "[I 2024-06-30 18:09:32,302] Trial 231 finished with value: 0.7706999873605099 and parameters: {'lambda': 2.055694079249712e-08, 'alpha': 0.9797678606215143, 'eta': 0.07362552174716447, 'gamma': 2.6040576900398136e-07, 'max_depth': 9, 'min_child_weight': 0.00018490297342322064, 'subsample': 0.8359260429596681, 'colsample_bytree': 0.5436322039443662, 'colsample_bylevel': 0.9830888521069097, 'colsample_bynode': 0.6776662073873457, 'scale_pos_weight': 0.00013104186852873117}. Best is trial 160 with value: 0.7716389277859876.\n"
     ]
    },
    {
     "name": "stdout",
     "output_type": "stream",
     "text": [
      "Score: 0.7706999873605099\n",
      "Fold 1\n",
      "Memory usage of dataframe is 7.48 MB\n",
      "Memory usage after optimization is: 4.63 MB\n",
      "Decreased by 38.1%\n"
     ]
    },
    {
     "name": "stderr",
     "output_type": "stream",
     "text": [
      "100%|██████████| 36/36 [00:06<00:00,  5.26it/s]\n"
     ]
    },
    {
     "name": "stdout",
     "output_type": "stream",
     "text": [
      "Fold 2\n",
      "Memory usage of dataframe is 7.48 MB\n",
      "Memory usage after optimization is: 4.63 MB\n",
      "Decreased by 38.1%\n"
     ]
    },
    {
     "name": "stderr",
     "output_type": "stream",
     "text": [
      "100%|██████████| 36/36 [00:06<00:00,  5.30it/s]\n"
     ]
    },
    {
     "name": "stdout",
     "output_type": "stream",
     "text": [
      "Fold 3\n",
      "Memory usage of dataframe is 7.48 MB\n",
      "Memory usage after optimization is: 4.63 MB\n",
      "Decreased by 38.1%\n"
     ]
    },
    {
     "name": "stderr",
     "output_type": "stream",
     "text": [
      "100%|██████████| 36/36 [00:06<00:00,  5.26it/s]\n"
     ]
    },
    {
     "name": "stdout",
     "output_type": "stream",
     "text": [
      "Fold 4\n",
      "Memory usage of dataframe is 7.48 MB\n",
      "Memory usage after optimization is: 4.63 MB\n",
      "Decreased by 38.1%\n"
     ]
    },
    {
     "name": "stderr",
     "output_type": "stream",
     "text": [
      "100%|██████████| 36/36 [00:06<00:00,  5.34it/s]\n"
     ]
    },
    {
     "name": "stdout",
     "output_type": "stream",
     "text": [
      "Fold 5\n",
      "Memory usage of dataframe is 7.48 MB\n",
      "Memory usage after optimization is: 4.63 MB\n",
      "Decreased by 38.1%\n"
     ]
    },
    {
     "name": "stderr",
     "output_type": "stream",
     "text": [
      "100%|██████████| 36/36 [00:06<00:00,  5.29it/s]\n",
      "[I 2024-06-30 18:10:13,363] Trial 232 finished with value: 0.7650292505521058 and parameters: {'lambda': 1.0500819307649627e-08, 'alpha': 0.5854889078567074, 'eta': 0.29764322923871345, 'gamma': 3.5957639757540393e-07, 'max_depth': 9, 'min_child_weight': 0.00030303912987227207, 'subsample': 0.8186987149991719, 'colsample_bytree': 0.5208577780384728, 'colsample_bylevel': 0.9643813595843622, 'colsample_bynode': 0.6912525580739369, 'scale_pos_weight': 0.00024240698638703577}. Best is trial 160 with value: 0.7716389277859876.\n"
     ]
    },
    {
     "name": "stdout",
     "output_type": "stream",
     "text": [
      "Score: 0.7650292505521058\n",
      "Fold 1\n",
      "Memory usage of dataframe is 7.48 MB\n",
      "Memory usage after optimization is: 4.63 MB\n",
      "Decreased by 38.1%\n"
     ]
    },
    {
     "name": "stderr",
     "output_type": "stream",
     "text": [
      "100%|██████████| 36/36 [00:06<00:00,  5.33it/s]\n"
     ]
    },
    {
     "name": "stdout",
     "output_type": "stream",
     "text": [
      "Fold 2\n",
      "Memory usage of dataframe is 7.48 MB\n",
      "Memory usage after optimization is: 4.63 MB\n",
      "Decreased by 38.1%\n"
     ]
    },
    {
     "name": "stderr",
     "output_type": "stream",
     "text": [
      "100%|██████████| 36/36 [00:06<00:00,  5.30it/s]\n"
     ]
    },
    {
     "name": "stdout",
     "output_type": "stream",
     "text": [
      "Fold 3\n",
      "Memory usage of dataframe is 7.48 MB\n",
      "Memory usage after optimization is: 4.63 MB\n",
      "Decreased by 38.1%\n"
     ]
    },
    {
     "name": "stderr",
     "output_type": "stream",
     "text": [
      "100%|██████████| 36/36 [00:06<00:00,  5.32it/s]\n"
     ]
    },
    {
     "name": "stdout",
     "output_type": "stream",
     "text": [
      "Fold 4\n",
      "Memory usage of dataframe is 7.48 MB\n",
      "Memory usage after optimization is: 4.63 MB\n",
      "Decreased by 38.1%\n"
     ]
    },
    {
     "name": "stderr",
     "output_type": "stream",
     "text": [
      "100%|██████████| 36/36 [00:06<00:00,  5.27it/s]\n"
     ]
    },
    {
     "name": "stdout",
     "output_type": "stream",
     "text": [
      "Fold 5\n",
      "Memory usage of dataframe is 7.48 MB\n",
      "Memory usage after optimization is: 4.63 MB\n",
      "Decreased by 38.1%\n"
     ]
    },
    {
     "name": "stderr",
     "output_type": "stream",
     "text": [
      "100%|██████████| 36/36 [00:06<00:00,  5.23it/s]\n",
      "[I 2024-06-30 18:10:54,983] Trial 233 finished with value: 0.771503028463671 and parameters: {'lambda': 1.2358351228500324e-08, 'alpha': 0.30549576664737066, 'eta': 0.08129645677454152, 'gamma': 1.2908238134125475e-07, 'max_depth': 9, 'min_child_weight': 0.00016693430428078046, 'subsample': 0.8436603039206005, 'colsample_bytree': 0.5496869985252496, 'colsample_bylevel': 0.8903766354726288, 'colsample_bynode': 0.7165009461287504, 'scale_pos_weight': 3.217773112182411e-06}. Best is trial 160 with value: 0.7716389277859876.\n"
     ]
    },
    {
     "name": "stdout",
     "output_type": "stream",
     "text": [
      "Score: 0.771503028463671\n",
      "Fold 1\n",
      "Memory usage of dataframe is 7.48 MB\n",
      "Memory usage after optimization is: 4.63 MB\n",
      "Decreased by 38.1%\n"
     ]
    },
    {
     "name": "stderr",
     "output_type": "stream",
     "text": [
      "100%|██████████| 36/36 [00:06<00:00,  5.25it/s]\n"
     ]
    },
    {
     "name": "stdout",
     "output_type": "stream",
     "text": [
      "Fold 2\n",
      "Memory usage of dataframe is 7.48 MB\n",
      "Memory usage after optimization is: 4.63 MB\n",
      "Decreased by 38.1%\n"
     ]
    },
    {
     "name": "stderr",
     "output_type": "stream",
     "text": [
      "100%|██████████| 36/36 [00:06<00:00,  5.29it/s]\n"
     ]
    },
    {
     "name": "stdout",
     "output_type": "stream",
     "text": [
      "Fold 3\n",
      "Memory usage of dataframe is 7.48 MB\n",
      "Memory usage after optimization is: 4.63 MB\n",
      "Decreased by 38.1%\n"
     ]
    },
    {
     "name": "stderr",
     "output_type": "stream",
     "text": [
      "100%|██████████| 36/36 [00:06<00:00,  5.30it/s]\n"
     ]
    },
    {
     "name": "stdout",
     "output_type": "stream",
     "text": [
      "Fold 4\n",
      "Memory usage of dataframe is 7.48 MB\n",
      "Memory usage after optimization is: 4.63 MB\n",
      "Decreased by 38.1%\n"
     ]
    },
    {
     "name": "stderr",
     "output_type": "stream",
     "text": [
      "100%|██████████| 36/36 [00:06<00:00,  5.24it/s]\n"
     ]
    },
    {
     "name": "stdout",
     "output_type": "stream",
     "text": [
      "Fold 5\n",
      "Memory usage of dataframe is 7.48 MB\n",
      "Memory usage after optimization is: 4.63 MB\n",
      "Decreased by 38.1%\n"
     ]
    },
    {
     "name": "stderr",
     "output_type": "stream",
     "text": [
      "100%|██████████| 36/36 [00:06<00:00,  5.27it/s]\n",
      "[I 2024-06-30 18:11:36,231] Trial 234 finished with value: 0.7703416873479771 and parameters: {'lambda': 2.2481413873399426e-08, 'alpha': 0.2675794483072661, 'eta': 0.08639351848443752, 'gamma': 1.3044326802329242e-07, 'max_depth': 9, 'min_child_weight': 0.0001837667008021199, 'subsample': 0.8588601521548072, 'colsample_bytree': 0.5378480188293416, 'colsample_bylevel': 0.8901708470364516, 'colsample_bynode': 0.7134831729019185, 'scale_pos_weight': 2.536135577418606e-06}. Best is trial 160 with value: 0.7716389277859876.\n"
     ]
    },
    {
     "name": "stdout",
     "output_type": "stream",
     "text": [
      "Score: 0.7703416873479771\n",
      "Fold 1\n",
      "Memory usage of dataframe is 7.48 MB\n",
      "Memory usage after optimization is: 4.63 MB\n",
      "Decreased by 38.1%\n"
     ]
    },
    {
     "name": "stderr",
     "output_type": "stream",
     "text": [
      "100%|██████████| 36/36 [00:06<00:00,  5.33it/s]\n"
     ]
    },
    {
     "name": "stdout",
     "output_type": "stream",
     "text": [
      "Fold 2\n",
      "Memory usage of dataframe is 7.48 MB\n",
      "Memory usage after optimization is: 4.63 MB\n",
      "Decreased by 38.1%\n"
     ]
    },
    {
     "name": "stderr",
     "output_type": "stream",
     "text": [
      "100%|██████████| 36/36 [00:06<00:00,  5.26it/s]\n"
     ]
    },
    {
     "name": "stdout",
     "output_type": "stream",
     "text": [
      "Fold 3\n",
      "Memory usage of dataframe is 7.48 MB\n",
      "Memory usage after optimization is: 4.63 MB\n",
      "Decreased by 38.1%\n"
     ]
    },
    {
     "name": "stderr",
     "output_type": "stream",
     "text": [
      "100%|██████████| 36/36 [00:06<00:00,  5.24it/s]\n"
     ]
    },
    {
     "name": "stdout",
     "output_type": "stream",
     "text": [
      "Fold 4\n",
      "Memory usage of dataframe is 7.48 MB\n",
      "Memory usage after optimization is: 4.63 MB\n",
      "Decreased by 38.1%\n"
     ]
    },
    {
     "name": "stderr",
     "output_type": "stream",
     "text": [
      "100%|██████████| 36/36 [00:06<00:00,  5.23it/s]\n"
     ]
    },
    {
     "name": "stdout",
     "output_type": "stream",
     "text": [
      "Fold 5\n",
      "Memory usage of dataframe is 7.48 MB\n",
      "Memory usage after optimization is: 4.63 MB\n",
      "Decreased by 38.1%\n"
     ]
    },
    {
     "name": "stderr",
     "output_type": "stream",
     "text": [
      "100%|██████████| 36/36 [00:06<00:00,  5.18it/s]\n",
      "[I 2024-06-30 18:12:18,439] Trial 235 finished with value: 0.7702428586231735 and parameters: {'lambda': 1.0644362302394434e-08, 'alpha': 0.15497302583207437, 'eta': 0.10161165454956267, 'gamma': 9.050802757760058e-08, 'max_depth': 9, 'min_child_weight': 0.00014436071164252996, 'subsample': 0.8404792050745493, 'colsample_bytree': 0.5510286115606271, 'colsample_bylevel': 0.9303690353539825, 'colsample_bynode': 0.7340559068717296, 'scale_pos_weight': 2.020475257616493e-06}. Best is trial 160 with value: 0.7716389277859876.\n"
     ]
    },
    {
     "name": "stdout",
     "output_type": "stream",
     "text": [
      "Score: 0.7702428586231735\n",
      "Fold 1\n",
      "Memory usage of dataframe is 7.48 MB\n",
      "Memory usage after optimization is: 4.63 MB\n",
      "Decreased by 38.1%\n"
     ]
    },
    {
     "name": "stderr",
     "output_type": "stream",
     "text": [
      "100%|██████████| 36/36 [00:06<00:00,  5.26it/s]\n"
     ]
    },
    {
     "name": "stdout",
     "output_type": "stream",
     "text": [
      "Fold 2\n",
      "Memory usage of dataframe is 7.48 MB\n",
      "Memory usage after optimization is: 4.63 MB\n",
      "Decreased by 38.1%\n"
     ]
    },
    {
     "name": "stderr",
     "output_type": "stream",
     "text": [
      "100%|██████████| 36/36 [00:06<00:00,  5.17it/s]\n"
     ]
    },
    {
     "name": "stdout",
     "output_type": "stream",
     "text": [
      "Fold 3\n",
      "Memory usage of dataframe is 7.48 MB\n",
      "Memory usage after optimization is: 4.63 MB\n",
      "Decreased by 38.1%\n"
     ]
    },
    {
     "name": "stderr",
     "output_type": "stream",
     "text": [
      "100%|██████████| 36/36 [00:06<00:00,  5.26it/s]\n"
     ]
    },
    {
     "name": "stdout",
     "output_type": "stream",
     "text": [
      "Fold 4\n",
      "Memory usage of dataframe is 7.48 MB\n",
      "Memory usage after optimization is: 4.63 MB\n",
      "Decreased by 38.1%\n"
     ]
    },
    {
     "name": "stderr",
     "output_type": "stream",
     "text": [
      "100%|██████████| 36/36 [00:06<00:00,  5.22it/s]\n"
     ]
    },
    {
     "name": "stdout",
     "output_type": "stream",
     "text": [
      "Fold 5\n",
      "Memory usage of dataframe is 7.48 MB\n",
      "Memory usage after optimization is: 4.63 MB\n",
      "Decreased by 38.1%\n"
     ]
    },
    {
     "name": "stderr",
     "output_type": "stream",
     "text": [
      "100%|██████████| 36/36 [00:06<00:00,  5.26it/s]\n",
      "[I 2024-06-30 18:13:00,984] Trial 236 finished with value: 0.7710088573658183 and parameters: {'lambda': 1.9516109733324213e-08, 'alpha': 0.3795805479774394, 'eta': 0.07673980645232581, 'gamma': 1.9911198271131085e-07, 'max_depth': 9, 'min_child_weight': 0.0001229492767427277, 'subsample': 0.8688086820306792, 'colsample_bytree': 0.5629183824832268, 'colsample_bylevel': 0.9392102783890092, 'colsample_bynode': 0.7079455908438722, 'scale_pos_weight': 1.0539760207764849e-06}. Best is trial 160 with value: 0.7716389277859876.\n"
     ]
    },
    {
     "name": "stdout",
     "output_type": "stream",
     "text": [
      "Score: 0.7710088573658183\n",
      "Fold 1\n",
      "Memory usage of dataframe is 7.48 MB\n",
      "Memory usage after optimization is: 4.63 MB\n",
      "Decreased by 38.1%\n"
     ]
    },
    {
     "name": "stderr",
     "output_type": "stream",
     "text": [
      "100%|██████████| 36/36 [00:06<00:00,  5.31it/s]\n"
     ]
    },
    {
     "name": "stdout",
     "output_type": "stream",
     "text": [
      "Fold 2\n",
      "Memory usage of dataframe is 7.48 MB\n",
      "Memory usage after optimization is: 4.63 MB\n",
      "Decreased by 38.1%\n"
     ]
    },
    {
     "name": "stderr",
     "output_type": "stream",
     "text": [
      "100%|██████████| 36/36 [00:06<00:00,  5.29it/s]\n"
     ]
    },
    {
     "name": "stdout",
     "output_type": "stream",
     "text": [
      "Fold 3\n",
      "Memory usage of dataframe is 7.48 MB\n",
      "Memory usage after optimization is: 4.63 MB\n",
      "Decreased by 38.1%\n"
     ]
    },
    {
     "name": "stderr",
     "output_type": "stream",
     "text": [
      "100%|██████████| 36/36 [00:08<00:00,  4.13it/s]\n"
     ]
    },
    {
     "name": "stdout",
     "output_type": "stream",
     "text": [
      "Fold 4\n",
      "Memory usage of dataframe is 7.48 MB\n",
      "Memory usage after optimization is: 4.63 MB\n",
      "Decreased by 38.1%\n"
     ]
    },
    {
     "name": "stderr",
     "output_type": "stream",
     "text": [
      "100%|██████████| 36/36 [00:09<00:00,  3.66it/s]\n"
     ]
    },
    {
     "name": "stdout",
     "output_type": "stream",
     "text": [
      "Fold 5\n",
      "Memory usage of dataframe is 7.48 MB\n",
      "Memory usage after optimization is: 4.63 MB\n",
      "Decreased by 38.1%\n"
     ]
    },
    {
     "name": "stderr",
     "output_type": "stream",
     "text": [
      "100%|██████████| 36/36 [00:08<00:00,  4.25it/s]\n",
      "[I 2024-06-30 18:13:57,188] Trial 237 finished with value: 0.770613459281938 and parameters: {'lambda': 1.4859630091488536e-08, 'alpha': 0.005722533094930668, 'eta': 0.08004427797829111, 'gamma': 1.8944260332103266e-07, 'max_depth': 9, 'min_child_weight': 0.00010124844984913917, 'subsample': 0.8808802921960032, 'colsample_bytree': 0.5587624878221673, 'colsample_bylevel': 0.9489234291321694, 'colsample_bynode': 0.7080224129443947, 'scale_pos_weight': 1.1010402537361044e-06}. Best is trial 160 with value: 0.7716389277859876.\n"
     ]
    },
    {
     "name": "stdout",
     "output_type": "stream",
     "text": [
      "Score: 0.770613459281938\n",
      "Fold 1\n",
      "Memory usage of dataframe is 7.48 MB\n",
      "Memory usage after optimization is: 4.63 MB\n",
      "Decreased by 38.1%\n"
     ]
    },
    {
     "name": "stderr",
     "output_type": "stream",
     "text": [
      " 83%|████████▎ | 30/36 [00:06<00:01,  4.46it/s]\n",
      "[W 2024-06-30 18:14:04,191] Trial 238 failed with parameters: {'lambda': 1.490401725714851e-08, 'alpha': 0.39743016098963185, 'eta': 0.09257347515476255, 'gamma': 2.3532382065675833e-07, 'max_depth': 9, 'min_child_weight': 0.0002221583430299194, 'subsample': 0.8438776970073313, 'colsample_bytree': 0.5468430618149963, 'colsample_bylevel': 0.9221284561556777, 'colsample_bynode': 0.7193996956856874, 'scale_pos_weight': 8.726843490689613e-07} because of the following error: KeyboardInterrupt().\n",
      "Traceback (most recent call last):\n",
      "  File \"/home/rafael/anaconda3/envs/penidoEnv/lib/python3.9/site-packages/optuna/study/_optimize.py\", line 200, in _run_trial\n",
      "    value_or_values = func(trial)\n",
      "  File \"/tmp/ipykernel_293936/3520595897.py\", line 5, in <lambda>\n",
      "    study.optimize(lambda trial: objective(trial, X, y), n_trials=2000)\n",
      "  File \"/tmp/ipykernel_293936/3518528801.py\", line 48, in objective\n",
      "    scores,_ = cross_validation(xgb, X, y, le, std_threshold)\n",
      "  File \"/tmp/ipykernel_293936/3827929940.py\", line 19, in cross_validation\n",
      "    psod_outlier_class = iso_class.fit_predict(auto_preprocess(X_train), return_class=True)\n",
      "  File \"/home/rafael/anaconda3/envs/penidoEnv/lib/python3.9/site-packages/psod/outlier_detection/psod.py\", line 272, in fit_predict\n",
      "    corr_cols = self.correlation_feature_selection(temp_df, col)\n",
      "  File \"/home/rafael/anaconda3/envs/penidoEnv/lib/python3.9/site-packages/psod/outlier_detection/psod.py\", line 152, in correlation_feature_selection\n",
      "    corr = df[col].corr(df[target_col])\n",
      "  File \"/home/rafael/anaconda3/envs/penidoEnv/lib/python3.9/site-packages/pandas/core/series.py\", line 2977, in corr\n",
      "    return nanops.nancorr(\n",
      "  File \"/home/rafael/anaconda3/envs/penidoEnv/lib/python3.9/site-packages/pandas/core/nanops.py\", line 85, in _f\n",
      "    return f(*args, **kwargs)\n",
      "  File \"/home/rafael/anaconda3/envs/penidoEnv/lib/python3.9/site-packages/pandas/core/nanops.py\", line 1615, in nancorr\n",
      "    return f(a, b)\n",
      "  File \"/home/rafael/anaconda3/envs/penidoEnv/lib/python3.9/site-packages/pandas/core/nanops.py\", line 1638, in func\n",
      "    return np.corrcoef(a, b)[0, 1]\n",
      "  File \"<__array_function__ internals>\", line 180, in corrcoef\n",
      "  File \"/home/rafael/anaconda3/envs/penidoEnv/lib/python3.9/site-packages/numpy/lib/function_base.py\", line 2845, in corrcoef\n",
      "    c = cov(x, y, rowvar, dtype=dtype)\n",
      "  File \"<__array_function__ internals>\", line 180, in cov\n",
      "  File \"/home/rafael/anaconda3/envs/penidoEnv/lib/python3.9/site-packages/numpy/lib/function_base.py\", line 2639, in cov\n",
      "    X = np.concatenate((X, y), axis=0)\n",
      "  File \"<__array_function__ internals>\", line 180, in concatenate\n",
      "KeyboardInterrupt\n",
      "[W 2024-06-30 18:14:04,231] Trial 238 failed with value None.\n"
     ]
    },
    {
     "ename": "KeyboardInterrupt",
     "evalue": "",
     "output_type": "error",
     "traceback": [
      "\u001b[0;31m---------------------------------------------------------------------------\u001b[0m",
      "\u001b[0;31mKeyboardInterrupt\u001b[0m                         Traceback (most recent call last)",
      "\u001b[1;32m/home/rafael/Documentos/notebooks/classification_academic_success/playground-series-s4e6/models/xgb_3/model.ipynb Cell 8\u001b[0m line \u001b[0;36m5\n\u001b[1;32m      <a href='vscode-notebook-cell:/home/rafael/Documentos/notebooks/classification_academic_success/playground-series-s4e6/models/xgb_3/model.ipynb#X20sZmlsZQ%3D%3D?line=2'>3</a>\u001b[0m \u001b[39m# Configuração do estudo\u001b[39;00m\n\u001b[1;32m      <a href='vscode-notebook-cell:/home/rafael/Documentos/notebooks/classification_academic_success/playground-series-s4e6/models/xgb_3/model.ipynb#X20sZmlsZQ%3D%3D?line=3'>4</a>\u001b[0m study \u001b[39m=\u001b[39m optuna\u001b[39m.\u001b[39mcreate_study(direction\u001b[39m=\u001b[39m\u001b[39m'\u001b[39m\u001b[39mmaximize\u001b[39m\u001b[39m'\u001b[39m, sampler\u001b[39m=\u001b[39mTPESampler(), pruner\u001b[39m=\u001b[39mMedianPruner())\n\u001b[0;32m----> <a href='vscode-notebook-cell:/home/rafael/Documentos/notebooks/classification_academic_success/playground-series-s4e6/models/xgb_3/model.ipynb#X20sZmlsZQ%3D%3D?line=4'>5</a>\u001b[0m study\u001b[39m.\u001b[39;49moptimize(\u001b[39mlambda\u001b[39;49;00m trial: objective(trial, X, y), n_trials\u001b[39m=\u001b[39;49m\u001b[39m2000\u001b[39;49m)\n",
      "File \u001b[0;32m~/anaconda3/envs/penidoEnv/lib/python3.9/site-packages/optuna/study/study.py:442\u001b[0m, in \u001b[0;36mStudy.optimize\u001b[0;34m(self, func, n_trials, timeout, n_jobs, catch, callbacks, gc_after_trial, show_progress_bar)\u001b[0m\n\u001b[1;32m    339\u001b[0m \u001b[39mdef\u001b[39;00m \u001b[39moptimize\u001b[39m(\n\u001b[1;32m    340\u001b[0m     \u001b[39mself\u001b[39m,\n\u001b[1;32m    341\u001b[0m     func: ObjectiveFuncType,\n\u001b[0;32m   (...)\u001b[0m\n\u001b[1;32m    348\u001b[0m     show_progress_bar: \u001b[39mbool\u001b[39m \u001b[39m=\u001b[39m \u001b[39mFalse\u001b[39;00m,\n\u001b[1;32m    349\u001b[0m ) \u001b[39m-\u001b[39m\u001b[39m>\u001b[39m \u001b[39mNone\u001b[39;00m:\n\u001b[1;32m    350\u001b[0m \u001b[39m    \u001b[39m\u001b[39m\"\"\"Optimize an objective function.\u001b[39;00m\n\u001b[1;32m    351\u001b[0m \n\u001b[1;32m    352\u001b[0m \u001b[39m    Optimization is done by choosing a suitable set of hyperparameter values from a given\u001b[39;00m\n\u001b[0;32m   (...)\u001b[0m\n\u001b[1;32m    440\u001b[0m \u001b[39m            If nested invocation of this method occurs.\u001b[39;00m\n\u001b[1;32m    441\u001b[0m \u001b[39m    \"\"\"\u001b[39;00m\n\u001b[0;32m--> 442\u001b[0m     _optimize(\n\u001b[1;32m    443\u001b[0m         study\u001b[39m=\u001b[39;49m\u001b[39mself\u001b[39;49m,\n\u001b[1;32m    444\u001b[0m         func\u001b[39m=\u001b[39;49mfunc,\n\u001b[1;32m    445\u001b[0m         n_trials\u001b[39m=\u001b[39;49mn_trials,\n\u001b[1;32m    446\u001b[0m         timeout\u001b[39m=\u001b[39;49mtimeout,\n\u001b[1;32m    447\u001b[0m         n_jobs\u001b[39m=\u001b[39;49mn_jobs,\n\u001b[1;32m    448\u001b[0m         catch\u001b[39m=\u001b[39;49m\u001b[39mtuple\u001b[39;49m(catch) \u001b[39mif\u001b[39;49;00m \u001b[39misinstance\u001b[39;49m(catch, Iterable) \u001b[39melse\u001b[39;49;00m (catch,),\n\u001b[1;32m    449\u001b[0m         callbacks\u001b[39m=\u001b[39;49mcallbacks,\n\u001b[1;32m    450\u001b[0m         gc_after_trial\u001b[39m=\u001b[39;49mgc_after_trial,\n\u001b[1;32m    451\u001b[0m         show_progress_bar\u001b[39m=\u001b[39;49mshow_progress_bar,\n\u001b[1;32m    452\u001b[0m     )\n",
      "File \u001b[0;32m~/anaconda3/envs/penidoEnv/lib/python3.9/site-packages/optuna/study/_optimize.py:66\u001b[0m, in \u001b[0;36m_optimize\u001b[0;34m(study, func, n_trials, timeout, n_jobs, catch, callbacks, gc_after_trial, show_progress_bar)\u001b[0m\n\u001b[1;32m     64\u001b[0m \u001b[39mtry\u001b[39;00m:\n\u001b[1;32m     65\u001b[0m     \u001b[39mif\u001b[39;00m n_jobs \u001b[39m==\u001b[39m \u001b[39m1\u001b[39m:\n\u001b[0;32m---> 66\u001b[0m         _optimize_sequential(\n\u001b[1;32m     67\u001b[0m             study,\n\u001b[1;32m     68\u001b[0m             func,\n\u001b[1;32m     69\u001b[0m             n_trials,\n\u001b[1;32m     70\u001b[0m             timeout,\n\u001b[1;32m     71\u001b[0m             catch,\n\u001b[1;32m     72\u001b[0m             callbacks,\n\u001b[1;32m     73\u001b[0m             gc_after_trial,\n\u001b[1;32m     74\u001b[0m             reseed_sampler_rng\u001b[39m=\u001b[39;49m\u001b[39mFalse\u001b[39;49;00m,\n\u001b[1;32m     75\u001b[0m             time_start\u001b[39m=\u001b[39;49m\u001b[39mNone\u001b[39;49;00m,\n\u001b[1;32m     76\u001b[0m             progress_bar\u001b[39m=\u001b[39;49mprogress_bar,\n\u001b[1;32m     77\u001b[0m         )\n\u001b[1;32m     78\u001b[0m     \u001b[39melse\u001b[39;00m:\n\u001b[1;32m     79\u001b[0m         \u001b[39mif\u001b[39;00m n_jobs \u001b[39m==\u001b[39m \u001b[39m-\u001b[39m\u001b[39m1\u001b[39m:\n",
      "File \u001b[0;32m~/anaconda3/envs/penidoEnv/lib/python3.9/site-packages/optuna/study/_optimize.py:163\u001b[0m, in \u001b[0;36m_optimize_sequential\u001b[0;34m(study, func, n_trials, timeout, catch, callbacks, gc_after_trial, reseed_sampler_rng, time_start, progress_bar)\u001b[0m\n\u001b[1;32m    160\u001b[0m         \u001b[39mbreak\u001b[39;00m\n\u001b[1;32m    162\u001b[0m \u001b[39mtry\u001b[39;00m:\n\u001b[0;32m--> 163\u001b[0m     frozen_trial \u001b[39m=\u001b[39m _run_trial(study, func, catch)\n\u001b[1;32m    164\u001b[0m \u001b[39mfinally\u001b[39;00m:\n\u001b[1;32m    165\u001b[0m     \u001b[39m# The following line mitigates memory problems that can be occurred in some\u001b[39;00m\n\u001b[1;32m    166\u001b[0m     \u001b[39m# environments (e.g., services that use computing containers such as GitHub Actions).\u001b[39;00m\n\u001b[1;32m    167\u001b[0m     \u001b[39m# Please refer to the following PR for further details:\u001b[39;00m\n\u001b[1;32m    168\u001b[0m     \u001b[39m# https://github.com/optuna/optuna/pull/325.\u001b[39;00m\n\u001b[1;32m    169\u001b[0m     \u001b[39mif\u001b[39;00m gc_after_trial:\n",
      "File \u001b[0;32m~/anaconda3/envs/penidoEnv/lib/python3.9/site-packages/optuna/study/_optimize.py:251\u001b[0m, in \u001b[0;36m_run_trial\u001b[0;34m(study, func, catch)\u001b[0m\n\u001b[1;32m    244\u001b[0m         \u001b[39massert\u001b[39;00m \u001b[39mFalse\u001b[39;00m, \u001b[39m\"\u001b[39m\u001b[39mShould not reach.\u001b[39m\u001b[39m\"\u001b[39m\n\u001b[1;32m    246\u001b[0m \u001b[39mif\u001b[39;00m (\n\u001b[1;32m    247\u001b[0m     frozen_trial\u001b[39m.\u001b[39mstate \u001b[39m==\u001b[39m TrialState\u001b[39m.\u001b[39mFAIL\n\u001b[1;32m    248\u001b[0m     \u001b[39mand\u001b[39;00m func_err \u001b[39mis\u001b[39;00m \u001b[39mnot\u001b[39;00m \u001b[39mNone\u001b[39;00m\n\u001b[1;32m    249\u001b[0m     \u001b[39mand\u001b[39;00m \u001b[39mnot\u001b[39;00m \u001b[39misinstance\u001b[39m(func_err, catch)\n\u001b[1;32m    250\u001b[0m ):\n\u001b[0;32m--> 251\u001b[0m     \u001b[39mraise\u001b[39;00m func_err\n\u001b[1;32m    252\u001b[0m \u001b[39mreturn\u001b[39;00m frozen_trial\n",
      "File \u001b[0;32m~/anaconda3/envs/penidoEnv/lib/python3.9/site-packages/optuna/study/_optimize.py:200\u001b[0m, in \u001b[0;36m_run_trial\u001b[0;34m(study, func, catch)\u001b[0m\n\u001b[1;32m    198\u001b[0m \u001b[39mwith\u001b[39;00m get_heartbeat_thread(trial\u001b[39m.\u001b[39m_trial_id, study\u001b[39m.\u001b[39m_storage):\n\u001b[1;32m    199\u001b[0m     \u001b[39mtry\u001b[39;00m:\n\u001b[0;32m--> 200\u001b[0m         value_or_values \u001b[39m=\u001b[39m func(trial)\n\u001b[1;32m    201\u001b[0m     \u001b[39mexcept\u001b[39;00m exceptions\u001b[39m.\u001b[39mTrialPruned \u001b[39mas\u001b[39;00m e:\n\u001b[1;32m    202\u001b[0m         \u001b[39m# TODO(mamu): Handle multi-objective cases.\u001b[39;00m\n\u001b[1;32m    203\u001b[0m         state \u001b[39m=\u001b[39m TrialState\u001b[39m.\u001b[39mPRUNED\n",
      "\u001b[1;32m/home/rafael/Documentos/notebooks/classification_academic_success/playground-series-s4e6/models/xgb_3/model.ipynb Cell 8\u001b[0m line \u001b[0;36m5\n\u001b[1;32m      <a href='vscode-notebook-cell:/home/rafael/Documentos/notebooks/classification_academic_success/playground-series-s4e6/models/xgb_3/model.ipynb#X20sZmlsZQ%3D%3D?line=2'>3</a>\u001b[0m \u001b[39m# Configuração do estudo\u001b[39;00m\n\u001b[1;32m      <a href='vscode-notebook-cell:/home/rafael/Documentos/notebooks/classification_academic_success/playground-series-s4e6/models/xgb_3/model.ipynb#X20sZmlsZQ%3D%3D?line=3'>4</a>\u001b[0m study \u001b[39m=\u001b[39m optuna\u001b[39m.\u001b[39mcreate_study(direction\u001b[39m=\u001b[39m\u001b[39m'\u001b[39m\u001b[39mmaximize\u001b[39m\u001b[39m'\u001b[39m, sampler\u001b[39m=\u001b[39mTPESampler(), pruner\u001b[39m=\u001b[39mMedianPruner())\n\u001b[0;32m----> <a href='vscode-notebook-cell:/home/rafael/Documentos/notebooks/classification_academic_success/playground-series-s4e6/models/xgb_3/model.ipynb#X20sZmlsZQ%3D%3D?line=4'>5</a>\u001b[0m study\u001b[39m.\u001b[39moptimize(\u001b[39mlambda\u001b[39;00m trial: objective(trial, X, y), n_trials\u001b[39m=\u001b[39m\u001b[39m2000\u001b[39m)\n",
      "\u001b[1;32m/home/rafael/Documentos/notebooks/classification_academic_success/playground-series-s4e6/models/xgb_3/model.ipynb Cell 8\u001b[0m line \u001b[0;36m4\n\u001b[1;32m     <a href='vscode-notebook-cell:/home/rafael/Documentos/notebooks/classification_academic_success/playground-series-s4e6/models/xgb_3/model.ipynb#X20sZmlsZQ%3D%3D?line=37'>38</a>\u001b[0m preprocessor \u001b[39m=\u001b[39m ColumnTransformer(\n\u001b[1;32m     <a href='vscode-notebook-cell:/home/rafael/Documentos/notebooks/classification_academic_success/playground-series-s4e6/models/xgb_3/model.ipynb#X20sZmlsZQ%3D%3D?line=38'>39</a>\u001b[0m transformers\u001b[39m=\u001b[39m[\n\u001b[1;32m     <a href='vscode-notebook-cell:/home/rafael/Documentos/notebooks/classification_academic_success/playground-series-s4e6/models/xgb_3/model.ipynb#X20sZmlsZQ%3D%3D?line=39'>40</a>\u001b[0m     (\u001b[39m'\u001b[39m\u001b[39mnum\u001b[39m\u001b[39m'\u001b[39m, StandardScaler(), num_features),\n\u001b[1;32m     <a href='vscode-notebook-cell:/home/rafael/Documentos/notebooks/classification_academic_success/playground-series-s4e6/models/xgb_3/model.ipynb#X20sZmlsZQ%3D%3D?line=40'>41</a>\u001b[0m ])\n\u001b[1;32m     <a href='vscode-notebook-cell:/home/rafael/Documentos/notebooks/classification_academic_success/playground-series-s4e6/models/xgb_3/model.ipynb#X20sZmlsZQ%3D%3D?line=42'>43</a>\u001b[0m xgb \u001b[39m=\u001b[39m Pipeline(steps\u001b[39m=\u001b[39m[\n\u001b[1;32m     <a href='vscode-notebook-cell:/home/rafael/Documentos/notebooks/classification_academic_success/playground-series-s4e6/models/xgb_3/model.ipynb#X20sZmlsZQ%3D%3D?line=43'>44</a>\u001b[0m     (\u001b[39m'\u001b[39m\u001b[39mpreprocessor\u001b[39m\u001b[39m'\u001b[39m, preprocessor),\n\u001b[1;32m     <a href='vscode-notebook-cell:/home/rafael/Documentos/notebooks/classification_academic_success/playground-series-s4e6/models/xgb_3/model.ipynb#X20sZmlsZQ%3D%3D?line=44'>45</a>\u001b[0m     (\u001b[39m'\u001b[39m\u001b[39mclassifier\u001b[39m\u001b[39m'\u001b[39m, XGBClassifier(\u001b[39m*\u001b[39m\u001b[39m*\u001b[39mparam)),\n\u001b[1;32m     <a href='vscode-notebook-cell:/home/rafael/Documentos/notebooks/classification_academic_success/playground-series-s4e6/models/xgb_3/model.ipynb#X20sZmlsZQ%3D%3D?line=45'>46</a>\u001b[0m ])\n\u001b[0;32m---> <a href='vscode-notebook-cell:/home/rafael/Documentos/notebooks/classification_academic_success/playground-series-s4e6/models/xgb_3/model.ipynb#X20sZmlsZQ%3D%3D?line=47'>48</a>\u001b[0m scores,_ \u001b[39m=\u001b[39m cross_validation(xgb, X, y, le, std_threshold)\n\u001b[1;32m     <a href='vscode-notebook-cell:/home/rafael/Documentos/notebooks/classification_academic_success/playground-series-s4e6/models/xgb_3/model.ipynb#X20sZmlsZQ%3D%3D?line=48'>49</a>\u001b[0m accuracy \u001b[39m=\u001b[39m np\u001b[39m.\u001b[39mmean(scores)\n\u001b[1;32m     <a href='vscode-notebook-cell:/home/rafael/Documentos/notebooks/classification_academic_success/playground-series-s4e6/models/xgb_3/model.ipynb#X20sZmlsZQ%3D%3D?line=51'>52</a>\u001b[0m \u001b[39mreturn\u001b[39;00m accuracy\n",
      "\u001b[1;32m/home/rafael/Documentos/notebooks/classification_academic_success/playground-series-s4e6/models/xgb_3/model.ipynb Cell 8\u001b[0m line \u001b[0;36m1\n\u001b[1;32m     <a href='vscode-notebook-cell:/home/rafael/Documentos/notebooks/classification_academic_success/playground-series-s4e6/models/xgb_3/model.ipynb#X20sZmlsZQ%3D%3D?line=15'>16</a>\u001b[0m y_val \u001b[39m=\u001b[39m y\u001b[39m.\u001b[39miloc[val_index]\n\u001b[1;32m     <a href='vscode-notebook-cell:/home/rafael/Documentos/notebooks/classification_academic_success/playground-series-s4e6/models/xgb_3/model.ipynb#X20sZmlsZQ%3D%3D?line=17'>18</a>\u001b[0m iso_class \u001b[39m=\u001b[39m PSOD(stdevs_to_outlier\u001b[39m=\u001b[39mstdevs_to_outlier, flag_outlier_on\u001b[39m=\u001b[39m\u001b[39m\"\u001b[39m\u001b[39mboth ends\u001b[39m\u001b[39m\"\u001b[39m)\n\u001b[0;32m---> <a href='vscode-notebook-cell:/home/rafael/Documentos/notebooks/classification_academic_success/playground-series-s4e6/models/xgb_3/model.ipynb#X20sZmlsZQ%3D%3D?line=18'>19</a>\u001b[0m psod_outlier_class \u001b[39m=\u001b[39m iso_class\u001b[39m.\u001b[39;49mfit_predict(auto_preprocess(X_train), return_class\u001b[39m=\u001b[39;49m\u001b[39mTrue\u001b[39;49;00m)\n\u001b[1;32m     <a href='vscode-notebook-cell:/home/rafael/Documentos/notebooks/classification_academic_success/playground-series-s4e6/models/xgb_3/model.ipynb#X20sZmlsZQ%3D%3D?line=20'>21</a>\u001b[0m X_train[\u001b[39m\"\u001b[39m\u001b[39mpsod_outliers\u001b[39m\u001b[39m\"\u001b[39m] \u001b[39m=\u001b[39m psod_outlier_class\n\u001b[1;32m     <a href='vscode-notebook-cell:/home/rafael/Documentos/notebooks/classification_academic_success/playground-series-s4e6/models/xgb_3/model.ipynb#X20sZmlsZQ%3D%3D?line=21'>22</a>\u001b[0m X_train \u001b[39m=\u001b[39m X_train[X_train[\u001b[39m\"\u001b[39m\u001b[39mpsod_outliers\u001b[39m\u001b[39m\"\u001b[39m] \u001b[39m==\u001b[39m \u001b[39m0\u001b[39m]\n",
      "File \u001b[0;32m~/anaconda3/envs/penidoEnv/lib/python3.9/site-packages/psod/outlier_detection/psod.py:272\u001b[0m, in \u001b[0;36mPSOD.fit_predict\u001b[0;34m(self, df, return_class)\u001b[0m\n\u001b[1;32m    268\u001b[0m     corr_cols \u001b[39m=\u001b[39m \u001b[39mself\u001b[39m\u001b[39m.\u001b[39mcol_intersection(\n\u001b[1;32m    269\u001b[0m         corr_cols, \u001b[39mself\u001b[39m\u001b[39m.\u001b[39mchosen_columns[col]\n\u001b[1;32m    270\u001b[0m     )\n\u001b[1;32m    271\u001b[0m \u001b[39melse\u001b[39;00m:\n\u001b[0;32m--> 272\u001b[0m     corr_cols \u001b[39m=\u001b[39m \u001b[39mself\u001b[39;49m\u001b[39m.\u001b[39;49mcorrelation_feature_selection(temp_df, col)\n\u001b[1;32m    273\u001b[0m     corr_cols \u001b[39m=\u001b[39m \u001b[39mself\u001b[39m\u001b[39m.\u001b[39mcol_intersection(\n\u001b[1;32m    274\u001b[0m         corr_cols, \u001b[39mself\u001b[39m\u001b[39m.\u001b[39mchosen_columns[col]\n\u001b[1;32m    275\u001b[0m     )\n\u001b[1;32m    277\u001b[0m \u001b[39mif\u001b[39;00m \u001b[39mlen\u001b[39m(corr_cols) \u001b[39m>\u001b[39m \u001b[39m0\u001b[39m:\n",
      "File \u001b[0;32m~/anaconda3/envs/penidoEnv/lib/python3.9/site-packages/psod/outlier_detection/psod.py:152\u001b[0m, in \u001b[0;36mPSOD.correlation_feature_selection\u001b[0;34m(self, df, target_col)\u001b[0m\n\u001b[1;32m    150\u001b[0m cols \u001b[39m=\u001b[39m []\n\u001b[1;32m    151\u001b[0m \u001b[39mfor\u001b[39;00m col \u001b[39min\u001b[39;00m df\u001b[39m.\u001b[39mcolumns:\n\u001b[0;32m--> 152\u001b[0m     corr \u001b[39m=\u001b[39m df[col]\u001b[39m.\u001b[39;49mcorr(df[target_col])\n\u001b[1;32m    153\u001b[0m     \u001b[39mif\u001b[39;00m corr \u001b[39m>\u001b[39m \u001b[39mself\u001b[39m\u001b[39m.\u001b[39mcorrelation_threshold \u001b[39mor\u001b[39;00m corr \u001b[39m<\u001b[39m \u001b[39m-\u001b[39m\u001b[39mself\u001b[39m\u001b[39m.\u001b[39mcorrelation_threshold \u001b[39mand\u001b[39;00m col \u001b[39m!=\u001b[39m target_col:\n\u001b[1;32m    154\u001b[0m         cols\u001b[39m.\u001b[39mappend(col)\n",
      "File \u001b[0;32m~/anaconda3/envs/penidoEnv/lib/python3.9/site-packages/pandas/core/series.py:2977\u001b[0m, in \u001b[0;36mSeries.corr\u001b[0;34m(self, other, method, min_periods)\u001b[0m\n\u001b[1;32m   2974\u001b[0m other_values \u001b[39m=\u001b[39m other\u001b[39m.\u001b[39mto_numpy(dtype\u001b[39m=\u001b[39m\u001b[39mfloat\u001b[39m, na_value\u001b[39m=\u001b[39mnp\u001b[39m.\u001b[39mnan, copy\u001b[39m=\u001b[39m\u001b[39mFalse\u001b[39;00m)\n\u001b[1;32m   2976\u001b[0m \u001b[39mif\u001b[39;00m method \u001b[39min\u001b[39;00m [\u001b[39m\"\u001b[39m\u001b[39mpearson\u001b[39m\u001b[39m\"\u001b[39m, \u001b[39m\"\u001b[39m\u001b[39mspearman\u001b[39m\u001b[39m\"\u001b[39m, \u001b[39m\"\u001b[39m\u001b[39mkendall\u001b[39m\u001b[39m\"\u001b[39m] \u001b[39mor\u001b[39;00m callable(method):\n\u001b[0;32m-> 2977\u001b[0m     \u001b[39mreturn\u001b[39;00m nanops\u001b[39m.\u001b[39;49mnancorr(\n\u001b[1;32m   2978\u001b[0m         this_values, other_values, method\u001b[39m=\u001b[39;49mmethod, min_periods\u001b[39m=\u001b[39;49mmin_periods\n\u001b[1;32m   2979\u001b[0m     )\n\u001b[1;32m   2981\u001b[0m \u001b[39mraise\u001b[39;00m \u001b[39mValueError\u001b[39;00m(\n\u001b[1;32m   2982\u001b[0m     \u001b[39m\"\u001b[39m\u001b[39mmethod must be either \u001b[39m\u001b[39m'\u001b[39m\u001b[39mpearson\u001b[39m\u001b[39m'\u001b[39m\u001b[39m, \u001b[39m\u001b[39m\"\u001b[39m\n\u001b[1;32m   2983\u001b[0m     \u001b[39m\"\u001b[39m\u001b[39m'\u001b[39m\u001b[39mspearman\u001b[39m\u001b[39m'\u001b[39m\u001b[39m, \u001b[39m\u001b[39m'\u001b[39m\u001b[39mkendall\u001b[39m\u001b[39m'\u001b[39m\u001b[39m, or a callable, \u001b[39m\u001b[39m\"\u001b[39m\n\u001b[1;32m   2984\u001b[0m     \u001b[39mf\u001b[39m\u001b[39m\"\u001b[39m\u001b[39m'\u001b[39m\u001b[39m{\u001b[39;00mmethod\u001b[39m}\u001b[39;00m\u001b[39m'\u001b[39m\u001b[39m was supplied\u001b[39m\u001b[39m\"\u001b[39m\n\u001b[1;32m   2985\u001b[0m )\n",
      "File \u001b[0;32m~/anaconda3/envs/penidoEnv/lib/python3.9/site-packages/pandas/core/nanops.py:85\u001b[0m, in \u001b[0;36mdisallow.__call__.<locals>._f\u001b[0;34m(*args, **kwargs)\u001b[0m\n\u001b[1;32m     81\u001b[0m     \u001b[39mraise\u001b[39;00m \u001b[39mTypeError\u001b[39;00m(\n\u001b[1;32m     82\u001b[0m         \u001b[39mf\u001b[39m\u001b[39m\"\u001b[39m\u001b[39mreduction operation \u001b[39m\u001b[39m'\u001b[39m\u001b[39m{\u001b[39;00mf_name\u001b[39m}\u001b[39;00m\u001b[39m'\u001b[39m\u001b[39m not allowed for this dtype\u001b[39m\u001b[39m\"\u001b[39m\n\u001b[1;32m     83\u001b[0m     )\n\u001b[1;32m     84\u001b[0m \u001b[39mtry\u001b[39;00m:\n\u001b[0;32m---> 85\u001b[0m     \u001b[39mreturn\u001b[39;00m f(\u001b[39m*\u001b[39;49margs, \u001b[39m*\u001b[39;49m\u001b[39m*\u001b[39;49mkwargs)\n\u001b[1;32m     86\u001b[0m \u001b[39mexcept\u001b[39;00m \u001b[39mValueError\u001b[39;00m \u001b[39mas\u001b[39;00m e:\n\u001b[1;32m     87\u001b[0m     \u001b[39m# we want to transform an object array\u001b[39;00m\n\u001b[1;32m     88\u001b[0m     \u001b[39m# ValueError message to the more typical TypeError\u001b[39;00m\n\u001b[1;32m     89\u001b[0m     \u001b[39m# e.g. this is normally a disallowed function on\u001b[39;00m\n\u001b[1;32m     90\u001b[0m     \u001b[39m# object arrays that contain strings\u001b[39;00m\n\u001b[1;32m     91\u001b[0m     \u001b[39mif\u001b[39;00m is_object_dtype(args[\u001b[39m0\u001b[39m]):\n",
      "File \u001b[0;32m~/anaconda3/envs/penidoEnv/lib/python3.9/site-packages/pandas/core/nanops.py:1615\u001b[0m, in \u001b[0;36mnancorr\u001b[0;34m(a, b, method, min_periods)\u001b[0m\n\u001b[1;32m   1612\u001b[0m b \u001b[39m=\u001b[39m _ensure_numeric(b)\n\u001b[1;32m   1614\u001b[0m f \u001b[39m=\u001b[39m get_corr_func(method)\n\u001b[0;32m-> 1615\u001b[0m \u001b[39mreturn\u001b[39;00m f(a, b)\n",
      "File \u001b[0;32m~/anaconda3/envs/penidoEnv/lib/python3.9/site-packages/pandas/core/nanops.py:1638\u001b[0m, in \u001b[0;36mget_corr_func.<locals>.func\u001b[0;34m(a, b)\u001b[0m\n\u001b[1;32m   1637\u001b[0m \u001b[39mdef\u001b[39;00m \u001b[39mfunc\u001b[39m(a, b):\n\u001b[0;32m-> 1638\u001b[0m     \u001b[39mreturn\u001b[39;00m np\u001b[39m.\u001b[39;49mcorrcoef(a, b)[\u001b[39m0\u001b[39m, \u001b[39m1\u001b[39m]\n",
      "File \u001b[0;32m<__array_function__ internals>:180\u001b[0m, in \u001b[0;36mcorrcoef\u001b[0;34m(*args, **kwargs)\u001b[0m\n",
      "File \u001b[0;32m~/anaconda3/envs/penidoEnv/lib/python3.9/site-packages/numpy/lib/function_base.py:2845\u001b[0m, in \u001b[0;36mcorrcoef\u001b[0;34m(x, y, rowvar, bias, ddof, dtype)\u001b[0m\n\u001b[1;32m   2841\u001b[0m \u001b[39mif\u001b[39;00m bias \u001b[39mis\u001b[39;00m \u001b[39mnot\u001b[39;00m np\u001b[39m.\u001b[39m_NoValue \u001b[39mor\u001b[39;00m ddof \u001b[39mis\u001b[39;00m \u001b[39mnot\u001b[39;00m np\u001b[39m.\u001b[39m_NoValue:\n\u001b[1;32m   2842\u001b[0m     \u001b[39m# 2015-03-15, 1.10\u001b[39;00m\n\u001b[1;32m   2843\u001b[0m     warnings\u001b[39m.\u001b[39mwarn(\u001b[39m'\u001b[39m\u001b[39mbias and ddof have no effect and are deprecated\u001b[39m\u001b[39m'\u001b[39m,\n\u001b[1;32m   2844\u001b[0m                   \u001b[39mDeprecationWarning\u001b[39;00m, stacklevel\u001b[39m=\u001b[39m\u001b[39m3\u001b[39m)\n\u001b[0;32m-> 2845\u001b[0m c \u001b[39m=\u001b[39m cov(x, y, rowvar, dtype\u001b[39m=\u001b[39;49mdtype)\n\u001b[1;32m   2846\u001b[0m \u001b[39mtry\u001b[39;00m:\n\u001b[1;32m   2847\u001b[0m     d \u001b[39m=\u001b[39m diag(c)\n",
      "File \u001b[0;32m<__array_function__ internals>:180\u001b[0m, in \u001b[0;36mcov\u001b[0;34m(*args, **kwargs)\u001b[0m\n",
      "File \u001b[0;32m~/anaconda3/envs/penidoEnv/lib/python3.9/site-packages/numpy/lib/function_base.py:2639\u001b[0m, in \u001b[0;36mcov\u001b[0;34m(m, y, rowvar, bias, ddof, fweights, aweights, dtype)\u001b[0m\n\u001b[1;32m   2637\u001b[0m     \u001b[39mif\u001b[39;00m \u001b[39mnot\u001b[39;00m rowvar \u001b[39mand\u001b[39;00m y\u001b[39m.\u001b[39mshape[\u001b[39m0\u001b[39m] \u001b[39m!=\u001b[39m \u001b[39m1\u001b[39m:\n\u001b[1;32m   2638\u001b[0m         y \u001b[39m=\u001b[39m y\u001b[39m.\u001b[39mT\n\u001b[0;32m-> 2639\u001b[0m     X \u001b[39m=\u001b[39m np\u001b[39m.\u001b[39;49mconcatenate((X, y), axis\u001b[39m=\u001b[39;49m\u001b[39m0\u001b[39;49m)\n\u001b[1;32m   2641\u001b[0m \u001b[39mif\u001b[39;00m ddof \u001b[39mis\u001b[39;00m \u001b[39mNone\u001b[39;00m:\n\u001b[1;32m   2642\u001b[0m     \u001b[39mif\u001b[39;00m bias \u001b[39m==\u001b[39m \u001b[39m0\u001b[39m:\n",
      "File \u001b[0;32m<__array_function__ internals>:180\u001b[0m, in \u001b[0;36mconcatenate\u001b[0;34m(*args, **kwargs)\u001b[0m\n",
      "\u001b[0;31mKeyboardInterrupt\u001b[0m: "
     ]
    }
   ],
   "source": [
    "warnings.filterwarnings(\"ignore\")\n",
    "\n",
    "# Configuração do estudo\n",
    "study = optuna.create_study(direction='maximize', sampler=TPESampler(), pruner=MedianPruner())\n",
    "study.optimize(lambda trial: objective(trial, X, y), n_trials=2000)"
   ]
  },
  {
   "cell_type": "code",
   "execution_count": 85,
   "metadata": {},
   "outputs": [
    {
     "name": "stdout",
     "output_type": "stream",
     "text": [
      "Melhores hiperparâmetros:  {'lambda': 3.734886738366808e-08, 'alpha': 0.23449226497585715, 'eta': 0.06543016095206454, 'gamma': 9.205817056121733e-08, 'max_depth': 9, 'min_child_weight': 0.004503075789285198, 'subsample': 0.8445748709335497, 'colsample_bytree': 0.5705190401636037, 'colsample_bylevel': 0.9807413667521441, 'colsample_bynode': 0.6899591837306497, 'scale_pos_weight': 1.0106896490147942e-08}\n",
      "Melhor acurácia:  0.7716389277859876\n"
     ]
    }
   ],
   "source": [
    "# Imprimir os melhores hiperparâmetros encontrados\n",
    "print(\"Melhores hiperparâmetros: \", study.best_params)\n",
    "print(\"Melhor acurácia: \", study.best_value)"
   ]
  },
  {
   "cell_type": "code",
   "execution_count": 21,
   "metadata": {},
   "outputs": [],
   "source": [
    "xgb_params = {'lambda': 0.8420479533629325, 'alpha': 0.3032570019463072, 'eta': 0.12070324731278194, 'gamma': 2.8166311484864326e-06, 'max_depth': 6, 'min_child_weight': 0.01548641279823428, 'subsample': 0.7579361032269639, 'colsample_bytree': 0.7075974355298302, 'colsample_bylevel': 0.7355438749193131, 'colsample_bynode': 0.7901425486028625, 'scale_pos_weight': 1.1929478083989252e-05}\n",
    "\n",
    "threshold = 1\n",
    "std_threshold = 8.148381568597888\n",
    "\n",
    "num_features = []\n",
    "for col in initial_features:\n",
    "    unique_values = X[col].nunique()\n",
    "    \n",
    "    if unique_values <= threshold:\n",
    "        X[col] = X[col].astype('category').cat.as_ordered()\n",
    "    else:\n",
    "        num_features.append(col)\n",
    "\n",
    "preprocessor = ColumnTransformer(\n",
    "transformers=[\n",
    "    ('num', StandardScaler(), num_features),\n",
    "])\n",
    "\n",
    "xgb = Pipeline(steps=[\n",
    "    ('preprocessor', preprocessor),\n",
    "    ('classifier', XGBClassifier(**xgb_params)),\n",
    "])"
   ]
  },
  {
   "cell_type": "code",
   "execution_count": 76,
   "metadata": {},
   "outputs": [
    {
     "name": "stdout",
     "output_type": "stream",
     "text": [
      "Fold 1\n",
      "Memory usage of dataframe is 18.28 MB\n",
      "Memory usage after optimization is: 3.33 MB\n",
      "Decreased by 81.8%\n"
     ]
    },
    {
     "name": "stderr",
     "output_type": "stream",
     "text": [
      "  0%|          | 0/36 [00:00<?, ?it/s]"
     ]
    },
    {
     "name": "stderr",
     "output_type": "stream",
     "text": [
      "100%|██████████| 36/36 [00:10<00:00,  3.41it/s]\n"
     ]
    },
    {
     "name": "stdout",
     "output_type": "stream",
     "text": [
      "Fold 2\n",
      "Memory usage of dataframe is 18.28 MB\n",
      "Memory usage after optimization is: 3.33 MB\n",
      "Decreased by 81.8%\n"
     ]
    },
    {
     "name": "stderr",
     "output_type": "stream",
     "text": [
      "100%|██████████| 36/36 [00:10<00:00,  3.45it/s]\n"
     ]
    },
    {
     "name": "stdout",
     "output_type": "stream",
     "text": [
      "Fold 3\n",
      "Memory usage of dataframe is 18.28 MB\n",
      "Memory usage after optimization is: 3.33 MB\n",
      "Decreased by 81.8%\n"
     ]
    },
    {
     "name": "stderr",
     "output_type": "stream",
     "text": [
      "100%|██████████| 36/36 [00:10<00:00,  3.52it/s]\n"
     ]
    },
    {
     "name": "stdout",
     "output_type": "stream",
     "text": [
      "Fold 4\n",
      "Memory usage of dataframe is 18.28 MB\n",
      "Memory usage after optimization is: 3.33 MB\n",
      "Decreased by 81.8%\n"
     ]
    },
    {
     "name": "stderr",
     "output_type": "stream",
     "text": [
      "100%|██████████| 36/36 [00:10<00:00,  3.47it/s]\n"
     ]
    },
    {
     "name": "stdout",
     "output_type": "stream",
     "text": [
      "Fold 5\n",
      "Memory usage of dataframe is 18.28 MB\n",
      "Memory usage after optimization is: 3.33 MB\n",
      "Decreased by 81.8%\n"
     ]
    },
    {
     "name": "stderr",
     "output_type": "stream",
     "text": [
      "100%|██████████| 36/36 [00:10<00:00,  3.52it/s]\n"
     ]
    },
    {
     "name": "stdout",
     "output_type": "stream",
     "text": [
      "Score: 0.8240344339946697\n"
     ]
    }
   ],
   "source": [
    "scores,oof = cross_validation(xgb, X, y, le, std_threshold)"
   ]
  },
  {
   "cell_type": "code",
   "execution_count": 72,
   "metadata": {},
   "outputs": [],
   "source": [
    "for fold in oof:\n",
    "    fold['true'] = le.inverse_transform(fold['true'])\n",
    "\n",
    "save_oof(oof)"
   ]
  },
  {
   "cell_type": "code",
   "execution_count": 28,
   "metadata": {},
   "outputs": [
    {
     "name": "stdout",
     "output_type": "stream",
     "text": [
      "Memory usage of dataframe is 22.23 MB\n",
      "Memory usage after optimization is: 3.55 MB\n",
      "Decreased by 84.0%\n"
     ]
    },
    {
     "name": "stderr",
     "output_type": "stream",
     "text": [
      "100%|██████████| 36/36 [00:13<00:00,  2.73it/s]\n"
     ]
    },
    {
     "data": {
      "text/html": [
       "<div>\n",
       "<style scoped>\n",
       "    .dataframe tbody tr th:only-of-type {\n",
       "        vertical-align: middle;\n",
       "    }\n",
       "\n",
       "    .dataframe tbody tr th {\n",
       "        vertical-align: top;\n",
       "    }\n",
       "\n",
       "    .dataframe thead th {\n",
       "        text-align: right;\n",
       "    }\n",
       "</style>\n",
       "<table border=\"1\" class=\"dataframe\">\n",
       "  <thead>\n",
       "    <tr style=\"text-align: right;\">\n",
       "      <th></th>\n",
       "      <th>pred_Dropout</th>\n",
       "      <th>pred_Enrolled</th>\n",
       "      <th>pred_Graduate</th>\n",
       "    </tr>\n",
       "  </thead>\n",
       "  <tbody>\n",
       "    <tr>\n",
       "      <th>0</th>\n",
       "      <td>0.992321</td>\n",
       "      <td>0.004507</td>\n",
       "      <td>0.003172</td>\n",
       "    </tr>\n",
       "    <tr>\n",
       "      <th>1</th>\n",
       "      <td>0.009069</td>\n",
       "      <td>0.021329</td>\n",
       "      <td>0.969602</td>\n",
       "    </tr>\n",
       "    <tr>\n",
       "      <th>2</th>\n",
       "      <td>0.036337</td>\n",
       "      <td>0.271241</td>\n",
       "      <td>0.692423</td>\n",
       "    </tr>\n",
       "    <tr>\n",
       "      <th>3</th>\n",
       "      <td>0.264473</td>\n",
       "      <td>0.444803</td>\n",
       "      <td>0.290724</td>\n",
       "    </tr>\n",
       "    <tr>\n",
       "      <th>4</th>\n",
       "      <td>0.319181</td>\n",
       "      <td>0.631465</td>\n",
       "      <td>0.049355</td>\n",
       "    </tr>\n",
       "    <tr>\n",
       "      <th>...</th>\n",
       "      <td>...</td>\n",
       "      <td>...</td>\n",
       "      <td>...</td>\n",
       "    </tr>\n",
       "    <tr>\n",
       "      <th>51007</th>\n",
       "      <td>0.825931</td>\n",
       "      <td>0.067136</td>\n",
       "      <td>0.106933</td>\n",
       "    </tr>\n",
       "    <tr>\n",
       "      <th>51008</th>\n",
       "      <td>0.991588</td>\n",
       "      <td>0.007863</td>\n",
       "      <td>0.000548</td>\n",
       "    </tr>\n",
       "    <tr>\n",
       "      <th>51009</th>\n",
       "      <td>0.967134</td>\n",
       "      <td>0.017052</td>\n",
       "      <td>0.015814</td>\n",
       "    </tr>\n",
       "    <tr>\n",
       "      <th>51010</th>\n",
       "      <td>0.954300</td>\n",
       "      <td>0.037771</td>\n",
       "      <td>0.007928</td>\n",
       "    </tr>\n",
       "    <tr>\n",
       "      <th>51011</th>\n",
       "      <td>0.965276</td>\n",
       "      <td>0.017890</td>\n",
       "      <td>0.016833</td>\n",
       "    </tr>\n",
       "  </tbody>\n",
       "</table>\n",
       "<p>51012 rows × 3 columns</p>\n",
       "</div>"
      ],
      "text/plain": [
       "       pred_Dropout  pred_Enrolled  pred_Graduate\n",
       "0          0.992321       0.004507       0.003172\n",
       "1          0.009069       0.021329       0.969602\n",
       "2          0.036337       0.271241       0.692423\n",
       "3          0.264473       0.444803       0.290724\n",
       "4          0.319181       0.631465       0.049355\n",
       "...             ...            ...            ...\n",
       "51007      0.825931       0.067136       0.106933\n",
       "51008      0.991588       0.007863       0.000548\n",
       "51009      0.967134       0.017052       0.015814\n",
       "51010      0.954300       0.037771       0.007928\n",
       "51011      0.965276       0.017890       0.016833\n",
       "\n",
       "[51012 rows x 3 columns]"
      ]
     },
     "execution_count": 28,
     "metadata": {},
     "output_type": "execute_result"
    }
   ],
   "source": [
    "X_test = test[initial_features]\n",
    "\n",
    "predict_test(xgb, X, y, X_test, std_threshold, le.classes_)"
   ]
  },
  {
   "cell_type": "code",
   "execution_count": 73,
   "metadata": {},
   "outputs": [
    {
     "data": {
      "text/html": [
       "<div>\n",
       "<style scoped>\n",
       "    .dataframe tbody tr th:only-of-type {\n",
       "        vertical-align: middle;\n",
       "    }\n",
       "\n",
       "    .dataframe tbody tr th {\n",
       "        vertical-align: top;\n",
       "    }\n",
       "\n",
       "    .dataframe thead th {\n",
       "        text-align: right;\n",
       "    }\n",
       "</style>\n",
       "<table border=\"1\" class=\"dataframe\">\n",
       "  <thead>\n",
       "    <tr style=\"text-align: right;\">\n",
       "      <th></th>\n",
       "      <th>pred_Dropout</th>\n",
       "      <th>pred_Enrolled</th>\n",
       "      <th>pred_Graduate</th>\n",
       "      <th>true</th>\n",
       "    </tr>\n",
       "  </thead>\n",
       "  <tbody>\n",
       "    <tr>\n",
       "      <th>0</th>\n",
       "      <td>0.052560</td>\n",
       "      <td>0.713844</td>\n",
       "      <td>0.233596</td>\n",
       "      <td>Graduate</td>\n",
       "    </tr>\n",
       "    <tr>\n",
       "      <th>1</th>\n",
       "      <td>0.916694</td>\n",
       "      <td>0.035887</td>\n",
       "      <td>0.047419</td>\n",
       "      <td>Dropout</td>\n",
       "    </tr>\n",
       "    <tr>\n",
       "      <th>2</th>\n",
       "      <td>0.967374</td>\n",
       "      <td>0.026351</td>\n",
       "      <td>0.006275</td>\n",
       "      <td>Dropout</td>\n",
       "    </tr>\n",
       "    <tr>\n",
       "      <th>3</th>\n",
       "      <td>0.891579</td>\n",
       "      <td>0.104180</td>\n",
       "      <td>0.004241</td>\n",
       "      <td>Dropout</td>\n",
       "    </tr>\n",
       "    <tr>\n",
       "      <th>4</th>\n",
       "      <td>0.978959</td>\n",
       "      <td>0.020275</td>\n",
       "      <td>0.000767</td>\n",
       "      <td>Dropout</td>\n",
       "    </tr>\n",
       "    <tr>\n",
       "      <th>...</th>\n",
       "      <td>...</td>\n",
       "      <td>...</td>\n",
       "      <td>...</td>\n",
       "      <td>...</td>\n",
       "    </tr>\n",
       "    <tr>\n",
       "      <th>16184</th>\n",
       "      <td>0.013626</td>\n",
       "      <td>0.017764</td>\n",
       "      <td>0.968610</td>\n",
       "      <td>Graduate</td>\n",
       "    </tr>\n",
       "    <tr>\n",
       "      <th>16185</th>\n",
       "      <td>0.068566</td>\n",
       "      <td>0.123258</td>\n",
       "      <td>0.808176</td>\n",
       "      <td>Graduate</td>\n",
       "    </tr>\n",
       "    <tr>\n",
       "      <th>16186</th>\n",
       "      <td>0.359713</td>\n",
       "      <td>0.512065</td>\n",
       "      <td>0.128223</td>\n",
       "      <td>Dropout</td>\n",
       "    </tr>\n",
       "    <tr>\n",
       "      <th>16187</th>\n",
       "      <td>0.027374</td>\n",
       "      <td>0.043467</td>\n",
       "      <td>0.929158</td>\n",
       "      <td>Graduate</td>\n",
       "    </tr>\n",
       "    <tr>\n",
       "      <th>16188</th>\n",
       "      <td>0.033524</td>\n",
       "      <td>0.081344</td>\n",
       "      <td>0.885132</td>\n",
       "      <td>Graduate</td>\n",
       "    </tr>\n",
       "  </tbody>\n",
       "</table>\n",
       "<p>16189 rows × 4 columns</p>\n",
       "</div>"
      ],
      "text/plain": [
       "       pred_Dropout  pred_Enrolled  pred_Graduate      true\n",
       "0          0.052560       0.713844       0.233596  Graduate\n",
       "1          0.916694       0.035887       0.047419   Dropout\n",
       "2          0.967374       0.026351       0.006275   Dropout\n",
       "3          0.891579       0.104180       0.004241   Dropout\n",
       "4          0.978959       0.020275       0.000767   Dropout\n",
       "...             ...            ...            ...       ...\n",
       "16184      0.013626       0.017764       0.968610  Graduate\n",
       "16185      0.068566       0.123258       0.808176  Graduate\n",
       "16186      0.359713       0.512065       0.128223   Dropout\n",
       "16187      0.027374       0.043467       0.929158  Graduate\n",
       "16188      0.033524       0.081344       0.885132  Graduate\n",
       "\n",
       "[16189 rows x 4 columns]"
      ]
     },
     "execution_count": 73,
     "metadata": {},
     "output_type": "execute_result"
    }
   ],
   "source": [
    "oof[0]"
   ]
  },
  {
   "cell_type": "code",
   "execution_count": 74,
   "metadata": {},
   "outputs": [
    {
     "name": "stdout",
     "output_type": "stream",
     "text": [
      "0.825066403113225\n",
      "0.8278460683179937\n",
      "0.8240054361255251\n",
      "0.8256733382752657\n",
      "0.8175809241413393\n"
     ]
    }
   ],
   "source": [
    "scores = []\n",
    "for fold in oof:\n",
    "    model_cols = [col for col in fold.columns if col.startswith('pred')]\n",
    "    y_true = fold['true']\n",
    "    y_pred = fold[model_cols].idxmax(axis=1).apply(lambda x: x.split('_')[-1])\n",
    "\n",
    "    score = accuracy_score(y_true, y_pred)\n",
    "    print(score)\n",
    "\n",
    "    scores.append(score)"
   ]
  },
  {
   "cell_type": "code",
   "execution_count": 77,
   "metadata": {},
   "outputs": [
    {
     "data": {
      "text/plain": [
       "[0.825066403113225,\n",
       " 0.8278460683179937,\n",
       " 0.8240054361255251,\n",
       " 0.8256733382752657,\n",
       " 0.8175809241413393]"
      ]
     },
     "execution_count": 77,
     "metadata": {},
     "output_type": "execute_result"
    }
   ],
   "source": [
    "scores"
   ]
  },
  {
   "cell_type": "code",
   "execution_count": 75,
   "metadata": {},
   "outputs": [
    {
     "data": {
      "text/plain": [
       "0.8240344339946697"
      ]
     },
     "execution_count": 75,
     "metadata": {},
     "output_type": "execute_result"
    }
   ],
   "source": [
    "np.mean(scores)"
   ]
  },
  {
   "cell_type": "code",
   "execution_count": 37,
   "metadata": {},
   "outputs": [],
   "source": [
    "model_cols = [col for col in fold.columns if col.startswith('pred')]"
   ]
  },
  {
   "cell_type": "code",
   "execution_count": 38,
   "metadata": {},
   "outputs": [
    {
     "data": {
      "text/plain": [
       "['pred_Dropout', 'pred_Enrolled', 'pred_Graduate']"
      ]
     },
     "execution_count": 38,
     "metadata": {},
     "output_type": "execute_result"
    }
   ],
   "source": [
    "model_cols"
   ]
  },
  {
   "cell_type": "code",
   "execution_count": 63,
   "metadata": {},
   "outputs": [
    {
     "data": {
      "text/html": [
       "<div>\n",
       "<style scoped>\n",
       "    .dataframe tbody tr th:only-of-type {\n",
       "        vertical-align: middle;\n",
       "    }\n",
       "\n",
       "    .dataframe tbody tr th {\n",
       "        vertical-align: top;\n",
       "    }\n",
       "\n",
       "    .dataframe thead th {\n",
       "        text-align: right;\n",
       "    }\n",
       "</style>\n",
       "<table border=\"1\" class=\"dataframe\">\n",
       "  <thead>\n",
       "    <tr style=\"text-align: right;\">\n",
       "      <th></th>\n",
       "      <th>pred_Dropout</th>\n",
       "      <th>pred_Enrolled</th>\n",
       "      <th>pred_Graduate</th>\n",
       "      <th>true</th>\n",
       "    </tr>\n",
       "  </thead>\n",
       "  <tbody>\n",
       "    <tr>\n",
       "      <th>0</th>\n",
       "      <td>0.041509</td>\n",
       "      <td>0.502447</td>\n",
       "      <td>0.456044</td>\n",
       "      <td>Graduate</td>\n",
       "    </tr>\n",
       "    <tr>\n",
       "      <th>1</th>\n",
       "      <td>0.918601</td>\n",
       "      <td>0.035066</td>\n",
       "      <td>0.046334</td>\n",
       "      <td>Dropout</td>\n",
       "    </tr>\n",
       "    <tr>\n",
       "      <th>2</th>\n",
       "      <td>0.970203</td>\n",
       "      <td>0.024138</td>\n",
       "      <td>0.005658</td>\n",
       "      <td>Dropout</td>\n",
       "    </tr>\n",
       "    <tr>\n",
       "      <th>3</th>\n",
       "      <td>0.916458</td>\n",
       "      <td>0.080132</td>\n",
       "      <td>0.003411</td>\n",
       "      <td>Dropout</td>\n",
       "    </tr>\n",
       "    <tr>\n",
       "      <th>4</th>\n",
       "      <td>0.980102</td>\n",
       "      <td>0.019175</td>\n",
       "      <td>0.000723</td>\n",
       "      <td>Dropout</td>\n",
       "    </tr>\n",
       "    <tr>\n",
       "      <th>...</th>\n",
       "      <td>...</td>\n",
       "      <td>...</td>\n",
       "      <td>...</td>\n",
       "      <td>...</td>\n",
       "    </tr>\n",
       "    <tr>\n",
       "      <th>16184</th>\n",
       "      <td>0.014605</td>\n",
       "      <td>0.008770</td>\n",
       "      <td>0.976624</td>\n",
       "      <td>Graduate</td>\n",
       "    </tr>\n",
       "    <tr>\n",
       "      <th>16185</th>\n",
       "      <td>0.062404</td>\n",
       "      <td>0.057368</td>\n",
       "      <td>0.880228</td>\n",
       "      <td>Graduate</td>\n",
       "    </tr>\n",
       "    <tr>\n",
       "      <th>16186</th>\n",
       "      <td>0.423272</td>\n",
       "      <td>0.395291</td>\n",
       "      <td>0.181436</td>\n",
       "      <td>Dropout</td>\n",
       "    </tr>\n",
       "    <tr>\n",
       "      <th>16187</th>\n",
       "      <td>0.017502</td>\n",
       "      <td>0.029641</td>\n",
       "      <td>0.952857</td>\n",
       "      <td>Graduate</td>\n",
       "    </tr>\n",
       "    <tr>\n",
       "      <th>16188</th>\n",
       "      <td>0.027347</td>\n",
       "      <td>0.077302</td>\n",
       "      <td>0.895351</td>\n",
       "      <td>Graduate</td>\n",
       "    </tr>\n",
       "  </tbody>\n",
       "</table>\n",
       "<p>16189 rows × 4 columns</p>\n",
       "</div>"
      ],
      "text/plain": [
       "       pred_Dropout  pred_Enrolled  pred_Graduate      true\n",
       "0          0.041509       0.502447       0.456044  Graduate\n",
       "1          0.918601       0.035066       0.046334   Dropout\n",
       "2          0.970203       0.024138       0.005658   Dropout\n",
       "3          0.916458       0.080132       0.003411   Dropout\n",
       "4          0.980102       0.019175       0.000723   Dropout\n",
       "...             ...            ...            ...       ...\n",
       "16184      0.014605       0.008770       0.976624  Graduate\n",
       "16185      0.062404       0.057368       0.880228  Graduate\n",
       "16186      0.423272       0.395291       0.181436   Dropout\n",
       "16187      0.017502       0.029641       0.952857  Graduate\n",
       "16188      0.027347       0.077302       0.895351  Graduate\n",
       "\n",
       "[16189 rows x 4 columns]"
      ]
     },
     "execution_count": 63,
     "metadata": {},
     "output_type": "execute_result"
    }
   ],
   "source": [
    "fold"
   ]
  },
  {
   "cell_type": "code",
   "execution_count": 39,
   "metadata": {},
   "outputs": [],
   "source": [
    "y_pred = fold[model_cols].idxmax(axis=1).apply(lambda x: x.split('_')[-1])"
   ]
  },
  {
   "cell_type": "code",
   "execution_count": 40,
   "metadata": {},
   "outputs": [
    {
     "data": {
      "text/plain": [
       "0        Enrolled\n",
       "1         Dropout\n",
       "2         Dropout\n",
       "3         Dropout\n",
       "4         Dropout\n",
       "           ...   \n",
       "16184    Graduate\n",
       "16185    Graduate\n",
       "16186     Dropout\n",
       "16187    Graduate\n",
       "16188    Graduate\n",
       "Length: 16189, dtype: object"
      ]
     },
     "execution_count": 40,
     "metadata": {},
     "output_type": "execute_result"
    }
   ],
   "source": [
    "y_pred"
   ]
  },
  {
   "cell_type": "code",
   "execution_count": 67,
   "metadata": {},
   "outputs": [
    {
     "ename": "ValueError",
     "evalue": "y contains previously unseen labels: ['Dropout' 'Enrolled' 'Graduate']",
     "output_type": "error",
     "traceback": [
      "\u001b[0;31m---------------------------------------------------------------------------\u001b[0m",
      "\u001b[0;31mValueError\u001b[0m                                Traceback (most recent call last)",
      "\u001b[1;32m/home/rafael/Documentos/notebooks/classification_academic_success/playground-series-s4e6/models/xgb_3/model.ipynb Cell 21\u001b[0m line \u001b[0;36m1\n\u001b[0;32m----> <a href='vscode-notebook-cell:/home/rafael/Documentos/notebooks/classification_academic_success/playground-series-s4e6/models/xgb_3/model.ipynb#X44sZmlsZQ%3D%3D?line=0'>1</a>\u001b[0m le\u001b[39m.\u001b[39;49minverse_transform(np\u001b[39m.\u001b[39;49marray(fold[\u001b[39m'\u001b[39;49m\u001b[39mtrue\u001b[39;49m\u001b[39m'\u001b[39;49m]))\n",
      "File \u001b[0;32m~/anaconda3/envs/penidoEnv/lib/python3.9/site-packages/sklearn/preprocessing/_label.py:160\u001b[0m, in \u001b[0;36mLabelEncoder.inverse_transform\u001b[0;34m(self, y)\u001b[0m\n\u001b[1;32m    158\u001b[0m diff \u001b[39m=\u001b[39m np\u001b[39m.\u001b[39msetdiff1d(y, np\u001b[39m.\u001b[39marange(\u001b[39mlen\u001b[39m(\u001b[39mself\u001b[39m\u001b[39m.\u001b[39mclasses_)))\n\u001b[1;32m    159\u001b[0m \u001b[39mif\u001b[39;00m \u001b[39mlen\u001b[39m(diff):\n\u001b[0;32m--> 160\u001b[0m     \u001b[39mraise\u001b[39;00m \u001b[39mValueError\u001b[39;00m(\u001b[39m\"\u001b[39m\u001b[39my contains previously unseen labels: \u001b[39m\u001b[39m%s\u001b[39;00m\u001b[39m\"\u001b[39m \u001b[39m%\u001b[39m \u001b[39mstr\u001b[39m(diff))\n\u001b[1;32m    161\u001b[0m y \u001b[39m=\u001b[39m np\u001b[39m.\u001b[39masarray(y)\n\u001b[1;32m    162\u001b[0m \u001b[39mreturn\u001b[39;00m \u001b[39mself\u001b[39m\u001b[39m.\u001b[39mclasses_[y]\n",
      "\u001b[0;31mValueError\u001b[0m: y contains previously unseen labels: ['Dropout' 'Enrolled' 'Graduate']"
     ]
    }
   ],
   "source": [
    "le.inverse_transform(fold['true'])"
   ]
  },
  {
   "cell_type": "code",
   "execution_count": 65,
   "metadata": {},
   "outputs": [
    {
     "data": {
      "text/plain": [
       "array(['Dropout', 'Enrolled', 'Graduate'], dtype=object)"
      ]
     },
     "execution_count": 65,
     "metadata": {},
     "output_type": "execute_result"
    }
   ],
   "source": [
    "le.classes_"
   ]
  },
  {
   "cell_type": "code",
   "execution_count": 61,
   "metadata": {},
   "outputs": [
    {
     "data": {
      "text/plain": [
       "array(['Graduate', 'Dropout', 'Enrolled'], dtype=object)"
      ]
     },
     "execution_count": 61,
     "metadata": {},
     "output_type": "execute_result"
    }
   ],
   "source": [
    "fold['true'].unique()"
   ]
  },
  {
   "cell_type": "code",
   "execution_count": null,
   "metadata": {},
   "outputs": [],
   "source": []
  }
 ],
 "metadata": {
  "kernelspec": {
   "display_name": "penidoEnv",
   "language": "python",
   "name": "python3"
  },
  "language_info": {
   "codemirror_mode": {
    "name": "ipython",
    "version": 3
   },
   "file_extension": ".py",
   "mimetype": "text/x-python",
   "name": "python",
   "nbconvert_exporter": "python",
   "pygments_lexer": "ipython3",
   "version": "3.9.19"
  }
 },
 "nbformat": 4,
 "nbformat_minor": 2
}
