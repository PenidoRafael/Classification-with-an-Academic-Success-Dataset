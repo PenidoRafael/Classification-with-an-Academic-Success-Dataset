{
 "cells": [
  {
   "cell_type": "code",
   "execution_count": 15,
   "metadata": {},
   "outputs": [],
   "source": [
    "import os\n",
    "import warnings\n",
    "import pandas as pd\n",
    "import numpy as np\n",
    "from catboost import CatBoostClassifier\n",
    "from sklearn.model_selection import StratifiedKFold, train_test_split\n",
    "from sklearn.preprocessing import LabelEncoder\n",
    "\n",
    "from sklearn.metrics import accuracy_score\n",
    "from sklearn.compose import ColumnTransformer\n",
    "from sklearn.preprocessing import OneHotEncoder, StandardScaler\n",
    "from sklearn.pipeline import Pipeline\n",
    "from sklearn.pipeline import make_pipeline\n",
    "\n",
    "import optuna\n",
    "from optuna import Trial\n",
    "from optuna.samplers import TPESampler\n",
    "from optuna.pruners import MedianPruner\n",
    "\n",
    "SEED = 42 # Muito importante manter a SEED igual em todos os modelos para garantir a consistência dos dados no ensemble\n",
    "FOLDS = 5 # Muito importante manter o mesmo número de FOLDS em todos os modelos para garantir a consistência dos dados no ensemble"
   ]
  },
  {
   "cell_type": "code",
   "execution_count": 2,
   "metadata": {},
   "outputs": [],
   "source": [
    "sintetico = pd.read_csv('../../src/train/train.csv', index_col='id')\n",
    "original = pd.read_csv('../../src/train/original.csv')\n",
    "test = pd.read_csv('../../src/test/test.csv', index_col='id')\n",
    "\n",
    "train = pd.concat([sintetico, original], ignore_index=True)\n",
    "\n",
    "initial_features = list(test.columns)"
   ]
  },
  {
   "cell_type": "code",
   "execution_count": 3,
   "metadata": {},
   "outputs": [],
   "source": [
    "cat_features = ['Marital status', 'Application mode', 'Course',\n",
    "                'Previous qualification', 'Nacionality', \"Mother's qualification\", \n",
    "                \"Father's qualification\", \"Mother's occupation\",\n",
    "                \"Father's occupation\"]\n",
    "\n",
    "for feature in cat_features:\n",
    "    for df in [train, test]:\n",
    "        df[feature] = df[feature].astype('category')\n",
    "\n",
    "num_features = df.select_dtypes(include=['int64', 'float64']).columns"
   ]
  },
  {
   "cell_type": "code",
   "execution_count": 4,
   "metadata": {},
   "outputs": [],
   "source": [
    "def cross_validation(model, X, y, encoder, scoring=accuracy_score, k=FOLDS):\n",
    "\n",
    "    skf = StratifiedKFold(n_splits=k, shuffle=True, random_state=SEED)\n",
    "\n",
    "    scores = []\n",
    "    out_of_fold = []\n",
    "    \n",
    "    for i, (train_index, val_index) in enumerate(skf.split(X, y)):\n",
    "        print(f\"Fold {i + 1}\")\n",
    "        \n",
    "        X_train = X.iloc[train_index]\n",
    "        y_train = y.iloc[train_index]\n",
    "\n",
    "        X_val = X.iloc[val_index]\n",
    "        y_val = y.iloc[val_index]\n",
    "        \n",
    "        model.fit(X_train, y_train)\n",
    "        probabilidades = model.predict_proba(X_val)\n",
    "\n",
    "        # Recuperar a predição final a partir das probabilidades\n",
    "        indices_predicoes = np.argmax(probabilidades, axis=1)\n",
    "        classes_preditas = model.classes_[indices_predicoes]\n",
    "\n",
    "        score = scoring(y_val, classes_preditas)\n",
    "\n",
    "        scores.append(score)\n",
    "\n",
    "        true_label = pd.Series(y_val.values, name='true')\n",
    "\n",
    "        pred_label_df = pd.DataFrame(probabilidades)\n",
    "\n",
    "        oof_pred = pd.concat([pred_label_df, true_label], axis=1, ignore_index=True)\n",
    "        oof_pred.columns = [f'pred_{encoder[model.classes_[0]]}', f'pred_{encoder[model.classes_[1]]}', f'pred_{encoder[model.classes_[2]]}', 'true']\n",
    "\n",
    "        out_of_fold.append(oof_pred)\n",
    "\n",
    "    print(f\"Score: {np.mean(scores)}\")\n",
    "    \n",
    "    return scores, out_of_fold"
   ]
  },
  {
   "cell_type": "code",
   "execution_count": 5,
   "metadata": {},
   "outputs": [],
   "source": [
    "def save_oof(oof):\n",
    "\n",
    "    os.makedirs('oof', exist_ok=True)\n",
    "\n",
    "    for i, fold in enumerate(oof):\n",
    "        fold.to_csv(f'oof/fold_{i+1}.csv', index=False)"
   ]
  },
  {
   "cell_type": "code",
   "execution_count": 6,
   "metadata": {},
   "outputs": [],
   "source": [
    "y = train['Target'].replace({\"Enrolled\": 0, \"Graduate\": 1, \"Dropout\": 2})\n",
    "X = train[initial_features]"
   ]
  },
  {
   "cell_type": "code",
   "execution_count": 7,
   "metadata": {},
   "outputs": [],
   "source": [
    "encoder = {0: \"Enrolled\", 1: \"Graduate\", 2: \"Dropout\"}"
   ]
  },
  {
   "cell_type": "code",
   "execution_count": 8,
   "metadata": {},
   "outputs": [],
   "source": [
    "preprocessor = ColumnTransformer(\n",
    "    transformers=[\n",
    "        ('num', StandardScaler(), num_features),\n",
    "        ('cat', OneHotEncoder(handle_unknown='ignore'), cat_features),\n",
    "    ])\n",
    "\n",
    "cat = Pipeline(steps=[\n",
    "    ('preprocessor', preprocessor),\n",
    "    ('classifier', CatBoostClassifier()),\n",
    "])"
   ]
  },
  {
   "cell_type": "code",
   "execution_count": 9,
   "metadata": {},
   "outputs": [
    {
     "name": "stdout",
     "output_type": "stream",
     "text": [
      "Fold 1\n",
      "Learning rate set to 0.097881\n",
      "0:\tlearn: 0.9957865\ttotal: 61ms\tremaining: 1m\n",
      "1:\tlearn: 0.9172033\ttotal: 74.2ms\tremaining: 37s\n",
      "2:\tlearn: 0.8565766\ttotal: 89.1ms\tremaining: 29.6s\n",
      "3:\tlearn: 0.8053204\ttotal: 101ms\tremaining: 25.2s\n",
      "4:\tlearn: 0.7618755\ttotal: 114ms\tremaining: 22.6s\n",
      "5:\tlearn: 0.7257481\ttotal: 127ms\tremaining: 21s\n",
      "6:\tlearn: 0.6951589\ttotal: 139ms\tremaining: 19.8s\n",
      "7:\tlearn: 0.6687095\ttotal: 153ms\tremaining: 18.9s\n",
      "8:\tlearn: 0.6467005\ttotal: 165ms\tremaining: 18.2s\n",
      "9:\tlearn: 0.6275694\ttotal: 178ms\tremaining: 17.6s\n",
      "10:\tlearn: 0.6105136\ttotal: 193ms\tremaining: 17.3s\n",
      "11:\tlearn: 0.5958180\ttotal: 206ms\tremaining: 17s\n",
      "12:\tlearn: 0.5827742\ttotal: 219ms\tremaining: 16.6s\n",
      "13:\tlearn: 0.5707986\ttotal: 233ms\tremaining: 16.4s\n",
      "14:\tlearn: 0.5604127\ttotal: 246ms\tremaining: 16.1s\n",
      "15:\tlearn: 0.5514776\ttotal: 259ms\tremaining: 15.9s\n",
      "16:\tlearn: 0.5439288\ttotal: 272ms\tremaining: 15.7s\n",
      "17:\tlearn: 0.5364292\ttotal: 285ms\tremaining: 15.5s\n",
      "18:\tlearn: 0.5299926\ttotal: 298ms\tremaining: 15.4s\n",
      "19:\tlearn: 0.5245599\ttotal: 311ms\tremaining: 15.2s\n",
      "20:\tlearn: 0.5192170\ttotal: 325ms\tremaining: 15.2s\n",
      "21:\tlearn: 0.5146981\ttotal: 339ms\tremaining: 15.1s\n",
      "22:\tlearn: 0.5106673\ttotal: 353ms\tremaining: 15s\n",
      "23:\tlearn: 0.5066757\ttotal: 366ms\tremaining: 14.9s\n",
      "24:\tlearn: 0.5034111\ttotal: 381ms\tremaining: 14.8s\n",
      "25:\tlearn: 0.5003497\ttotal: 396ms\tremaining: 14.8s\n",
      "26:\tlearn: 0.4975058\ttotal: 412ms\tremaining: 14.8s\n",
      "27:\tlearn: 0.4945121\ttotal: 426ms\tremaining: 14.8s\n",
      "28:\tlearn: 0.4919656\ttotal: 439ms\tremaining: 14.7s\n",
      "29:\tlearn: 0.4893968\ttotal: 453ms\tremaining: 14.7s\n",
      "30:\tlearn: 0.4872724\ttotal: 468ms\tremaining: 14.6s\n",
      "31:\tlearn: 0.4850738\ttotal: 481ms\tremaining: 14.5s\n",
      "32:\tlearn: 0.4830387\ttotal: 494ms\tremaining: 14.5s\n",
      "33:\tlearn: 0.4815004\ttotal: 507ms\tremaining: 14.4s\n",
      "34:\tlearn: 0.4799173\ttotal: 520ms\tremaining: 14.3s\n",
      "35:\tlearn: 0.4783367\ttotal: 533ms\tremaining: 14.3s\n",
      "36:\tlearn: 0.4772715\ttotal: 547ms\tremaining: 14.2s\n",
      "37:\tlearn: 0.4760924\ttotal: 561ms\tremaining: 14.2s\n",
      "38:\tlearn: 0.4749746\ttotal: 572ms\tremaining: 14.1s\n",
      "39:\tlearn: 0.4738569\ttotal: 587ms\tremaining: 14.1s\n",
      "40:\tlearn: 0.4726966\ttotal: 598ms\tremaining: 14s\n",
      "41:\tlearn: 0.4717268\ttotal: 610ms\tremaining: 13.9s\n",
      "42:\tlearn: 0.4709156\ttotal: 623ms\tremaining: 13.9s\n",
      "43:\tlearn: 0.4702044\ttotal: 636ms\tremaining: 13.8s\n",
      "44:\tlearn: 0.4694635\ttotal: 647ms\tremaining: 13.7s\n",
      "45:\tlearn: 0.4686648\ttotal: 659ms\tremaining: 13.7s\n",
      "46:\tlearn: 0.4677657\ttotal: 673ms\tremaining: 13.6s\n",
      "47:\tlearn: 0.4671946\ttotal: 685ms\tremaining: 13.6s\n",
      "48:\tlearn: 0.4661139\ttotal: 697ms\tremaining: 13.5s\n",
      "49:\tlearn: 0.4657065\ttotal: 710ms\tremaining: 13.5s\n",
      "50:\tlearn: 0.4651366\ttotal: 723ms\tremaining: 13.5s\n",
      "51:\tlearn: 0.4644767\ttotal: 735ms\tremaining: 13.4s\n",
      "52:\tlearn: 0.4638778\ttotal: 749ms\tremaining: 13.4s\n",
      "53:\tlearn: 0.4632311\ttotal: 761ms\tremaining: 13.3s\n",
      "54:\tlearn: 0.4627977\ttotal: 772ms\tremaining: 13.3s\n",
      "55:\tlearn: 0.4623532\ttotal: 785ms\tremaining: 13.2s\n",
      "56:\tlearn: 0.4619297\ttotal: 796ms\tremaining: 13.2s\n",
      "57:\tlearn: 0.4615106\ttotal: 806ms\tremaining: 13.1s\n",
      "58:\tlearn: 0.4610174\ttotal: 818ms\tremaining: 13s\n",
      "59:\tlearn: 0.4606770\ttotal: 831ms\tremaining: 13s\n",
      "60:\tlearn: 0.4601333\ttotal: 842ms\tremaining: 13s\n",
      "61:\tlearn: 0.4597251\ttotal: 854ms\tremaining: 12.9s\n",
      "62:\tlearn: 0.4589890\ttotal: 866ms\tremaining: 12.9s\n",
      "63:\tlearn: 0.4585222\ttotal: 879ms\tremaining: 12.9s\n",
      "64:\tlearn: 0.4580298\ttotal: 891ms\tremaining: 12.8s\n",
      "65:\tlearn: 0.4578328\ttotal: 902ms\tremaining: 12.8s\n",
      "66:\tlearn: 0.4573893\ttotal: 915ms\tremaining: 12.7s\n",
      "67:\tlearn: 0.4570759\ttotal: 928ms\tremaining: 12.7s\n",
      "68:\tlearn: 0.4564951\ttotal: 941ms\tremaining: 12.7s\n",
      "69:\tlearn: 0.4559027\ttotal: 954ms\tremaining: 12.7s\n",
      "70:\tlearn: 0.4555711\ttotal: 964ms\tremaining: 12.6s\n",
      "71:\tlearn: 0.4553483\ttotal: 977ms\tremaining: 12.6s\n",
      "72:\tlearn: 0.4550182\ttotal: 988ms\tremaining: 12.5s\n",
      "73:\tlearn: 0.4546968\ttotal: 1000ms\tremaining: 12.5s\n",
      "74:\tlearn: 0.4544922\ttotal: 1.01s\tremaining: 12.5s\n",
      "75:\tlearn: 0.4542175\ttotal: 1.02s\tremaining: 12.4s\n",
      "76:\tlearn: 0.4538822\ttotal: 1.03s\tremaining: 12.4s\n",
      "77:\tlearn: 0.4536799\ttotal: 1.04s\tremaining: 12.3s\n",
      "78:\tlearn: 0.4532678\ttotal: 1.06s\tremaining: 12.3s\n",
      "79:\tlearn: 0.4529503\ttotal: 1.07s\tremaining: 12.3s\n",
      "80:\tlearn: 0.4527185\ttotal: 1.08s\tremaining: 12.3s\n",
      "81:\tlearn: 0.4524169\ttotal: 1.09s\tremaining: 12.2s\n",
      "82:\tlearn: 0.4521225\ttotal: 1.11s\tremaining: 12.2s\n",
      "83:\tlearn: 0.4518406\ttotal: 1.12s\tremaining: 12.2s\n",
      "84:\tlearn: 0.4515731\ttotal: 1.13s\tremaining: 12.2s\n",
      "85:\tlearn: 0.4513798\ttotal: 1.14s\tremaining: 12.1s\n",
      "86:\tlearn: 0.4511207\ttotal: 1.16s\tremaining: 12.1s\n",
      "87:\tlearn: 0.4508077\ttotal: 1.17s\tremaining: 12.1s\n",
      "88:\tlearn: 0.4506993\ttotal: 1.18s\tremaining: 12.1s\n",
      "89:\tlearn: 0.4504841\ttotal: 1.19s\tremaining: 12s\n",
      "90:\tlearn: 0.4501591\ttotal: 1.21s\tremaining: 12s\n",
      "91:\tlearn: 0.4499306\ttotal: 1.22s\tremaining: 12s\n",
      "92:\tlearn: 0.4496160\ttotal: 1.23s\tremaining: 12s\n",
      "93:\tlearn: 0.4493148\ttotal: 1.25s\tremaining: 12s\n",
      "94:\tlearn: 0.4491231\ttotal: 1.26s\tremaining: 12s\n",
      "95:\tlearn: 0.4488746\ttotal: 1.27s\tremaining: 12s\n",
      "96:\tlearn: 0.4485864\ttotal: 1.28s\tremaining: 11.9s\n",
      "97:\tlearn: 0.4482771\ttotal: 1.29s\tremaining: 11.9s\n",
      "98:\tlearn: 0.4480995\ttotal: 1.31s\tremaining: 11.9s\n",
      "99:\tlearn: 0.4479750\ttotal: 1.32s\tremaining: 11.9s\n",
      "100:\tlearn: 0.4477666\ttotal: 1.33s\tremaining: 11.8s\n",
      "101:\tlearn: 0.4475433\ttotal: 1.34s\tremaining: 11.8s\n",
      "102:\tlearn: 0.4473238\ttotal: 1.35s\tremaining: 11.8s\n",
      "103:\tlearn: 0.4471414\ttotal: 1.37s\tremaining: 11.8s\n",
      "104:\tlearn: 0.4469571\ttotal: 1.38s\tremaining: 11.8s\n",
      "105:\tlearn: 0.4468063\ttotal: 1.39s\tremaining: 11.8s\n",
      "106:\tlearn: 0.4466172\ttotal: 1.41s\tremaining: 11.7s\n",
      "107:\tlearn: 0.4465106\ttotal: 1.42s\tremaining: 11.7s\n",
      "108:\tlearn: 0.4462788\ttotal: 1.43s\tremaining: 11.7s\n",
      "109:\tlearn: 0.4461392\ttotal: 1.45s\tremaining: 11.7s\n",
      "110:\tlearn: 0.4460707\ttotal: 1.46s\tremaining: 11.7s\n",
      "111:\tlearn: 0.4458875\ttotal: 1.47s\tremaining: 11.7s\n",
      "112:\tlearn: 0.4456999\ttotal: 1.48s\tremaining: 11.6s\n",
      "113:\tlearn: 0.4454865\ttotal: 1.5s\tremaining: 11.6s\n",
      "114:\tlearn: 0.4452879\ttotal: 1.51s\tremaining: 11.6s\n",
      "115:\tlearn: 0.4451868\ttotal: 1.52s\tremaining: 11.6s\n",
      "116:\tlearn: 0.4449606\ttotal: 1.53s\tremaining: 11.5s\n",
      "117:\tlearn: 0.4447745\ttotal: 1.54s\tremaining: 11.5s\n",
      "118:\tlearn: 0.4446426\ttotal: 1.56s\tremaining: 11.5s\n",
      "119:\tlearn: 0.4445472\ttotal: 1.57s\tremaining: 11.5s\n",
      "120:\tlearn: 0.4444166\ttotal: 1.58s\tremaining: 11.5s\n",
      "121:\tlearn: 0.4441929\ttotal: 1.59s\tremaining: 11.5s\n",
      "122:\tlearn: 0.4440099\ttotal: 1.61s\tremaining: 11.5s\n",
      "123:\tlearn: 0.4438238\ttotal: 1.62s\tremaining: 11.5s\n",
      "124:\tlearn: 0.4436177\ttotal: 1.63s\tremaining: 11.4s\n",
      "125:\tlearn: 0.4433978\ttotal: 1.65s\tremaining: 11.4s\n",
      "126:\tlearn: 0.4430744\ttotal: 1.66s\tremaining: 11.4s\n",
      "127:\tlearn: 0.4428723\ttotal: 1.67s\tremaining: 11.4s\n",
      "128:\tlearn: 0.4426772\ttotal: 1.69s\tremaining: 11.4s\n",
      "129:\tlearn: 0.4425133\ttotal: 1.7s\tremaining: 11.4s\n",
      "130:\tlearn: 0.4423216\ttotal: 1.71s\tremaining: 11.3s\n",
      "131:\tlearn: 0.4420979\ttotal: 1.72s\tremaining: 11.3s\n",
      "132:\tlearn: 0.4420126\ttotal: 1.73s\tremaining: 11.3s\n",
      "133:\tlearn: 0.4418827\ttotal: 1.74s\tremaining: 11.3s\n",
      "134:\tlearn: 0.4415496\ttotal: 1.76s\tremaining: 11.3s\n",
      "135:\tlearn: 0.4414996\ttotal: 1.77s\tremaining: 11.2s\n",
      "136:\tlearn: 0.4413948\ttotal: 1.78s\tremaining: 11.2s\n",
      "137:\tlearn: 0.4411692\ttotal: 1.79s\tremaining: 11.2s\n",
      "138:\tlearn: 0.4411023\ttotal: 1.8s\tremaining: 11.2s\n",
      "139:\tlearn: 0.4409676\ttotal: 1.81s\tremaining: 11.1s\n",
      "140:\tlearn: 0.4406709\ttotal: 1.83s\tremaining: 11.1s\n",
      "141:\tlearn: 0.4405994\ttotal: 1.84s\tremaining: 11.1s\n",
      "142:\tlearn: 0.4405039\ttotal: 1.85s\tremaining: 11.1s\n",
      "143:\tlearn: 0.4403959\ttotal: 1.86s\tremaining: 11.1s\n",
      "144:\tlearn: 0.4403071\ttotal: 1.88s\tremaining: 11.1s\n",
      "145:\tlearn: 0.4401682\ttotal: 1.89s\tremaining: 11s\n",
      "146:\tlearn: 0.4398735\ttotal: 1.9s\tremaining: 11s\n",
      "147:\tlearn: 0.4397311\ttotal: 1.91s\tremaining: 11s\n",
      "148:\tlearn: 0.4395974\ttotal: 1.92s\tremaining: 11s\n",
      "149:\tlearn: 0.4393994\ttotal: 1.93s\tremaining: 11s\n",
      "150:\tlearn: 0.4393558\ttotal: 1.94s\tremaining: 10.9s\n",
      "151:\tlearn: 0.4391796\ttotal: 1.95s\tremaining: 10.9s\n",
      "152:\tlearn: 0.4389738\ttotal: 1.97s\tremaining: 10.9s\n",
      "153:\tlearn: 0.4387937\ttotal: 1.98s\tremaining: 10.9s\n",
      "154:\tlearn: 0.4385169\ttotal: 1.99s\tremaining: 10.8s\n",
      "155:\tlearn: 0.4382928\ttotal: 2s\tremaining: 10.8s\n",
      "156:\tlearn: 0.4381466\ttotal: 2.01s\tremaining: 10.8s\n",
      "157:\tlearn: 0.4380147\ttotal: 2.02s\tremaining: 10.8s\n",
      "158:\tlearn: 0.4377065\ttotal: 2.04s\tremaining: 10.8s\n",
      "159:\tlearn: 0.4375629\ttotal: 2.05s\tremaining: 10.8s\n",
      "160:\tlearn: 0.4374649\ttotal: 2.06s\tremaining: 10.7s\n",
      "161:\tlearn: 0.4372269\ttotal: 2.07s\tremaining: 10.7s\n",
      "162:\tlearn: 0.4371155\ttotal: 2.08s\tremaining: 10.7s\n",
      "163:\tlearn: 0.4370527\ttotal: 2.09s\tremaining: 10.7s\n",
      "164:\tlearn: 0.4369659\ttotal: 2.1s\tremaining: 10.7s\n",
      "165:\tlearn: 0.4369445\ttotal: 2.12s\tremaining: 10.6s\n",
      "166:\tlearn: 0.4368584\ttotal: 2.13s\tremaining: 10.6s\n",
      "167:\tlearn: 0.4367029\ttotal: 2.14s\tremaining: 10.6s\n",
      "168:\tlearn: 0.4365503\ttotal: 2.15s\tremaining: 10.6s\n",
      "169:\tlearn: 0.4363567\ttotal: 2.16s\tremaining: 10.6s\n",
      "170:\tlearn: 0.4360813\ttotal: 2.17s\tremaining: 10.5s\n",
      "171:\tlearn: 0.4359878\ttotal: 2.19s\tremaining: 10.5s\n",
      "172:\tlearn: 0.4359040\ttotal: 2.2s\tremaining: 10.5s\n",
      "173:\tlearn: 0.4357223\ttotal: 2.21s\tremaining: 10.5s\n",
      "174:\tlearn: 0.4356933\ttotal: 2.22s\tremaining: 10.5s\n",
      "175:\tlearn: 0.4356180\ttotal: 2.23s\tremaining: 10.5s\n",
      "176:\tlearn: 0.4354598\ttotal: 2.25s\tremaining: 10.4s\n",
      "177:\tlearn: 0.4352707\ttotal: 2.26s\tremaining: 10.4s\n",
      "178:\tlearn: 0.4351402\ttotal: 2.27s\tremaining: 10.4s\n",
      "179:\tlearn: 0.4350438\ttotal: 2.28s\tremaining: 10.4s\n",
      "180:\tlearn: 0.4349136\ttotal: 2.29s\tremaining: 10.4s\n",
      "181:\tlearn: 0.4347236\ttotal: 2.31s\tremaining: 10.4s\n",
      "182:\tlearn: 0.4346020\ttotal: 2.32s\tremaining: 10.4s\n",
      "183:\tlearn: 0.4345579\ttotal: 2.33s\tremaining: 10.3s\n",
      "184:\tlearn: 0.4344969\ttotal: 2.34s\tremaining: 10.3s\n",
      "185:\tlearn: 0.4342750\ttotal: 2.35s\tremaining: 10.3s\n",
      "186:\tlearn: 0.4342598\ttotal: 2.36s\tremaining: 10.3s\n",
      "187:\tlearn: 0.4341352\ttotal: 2.38s\tremaining: 10.3s\n",
      "188:\tlearn: 0.4340170\ttotal: 2.39s\tremaining: 10.3s\n",
      "189:\tlearn: 0.4339023\ttotal: 2.4s\tremaining: 10.2s\n",
      "190:\tlearn: 0.4338148\ttotal: 2.41s\tremaining: 10.2s\n",
      "191:\tlearn: 0.4337149\ttotal: 2.43s\tremaining: 10.2s\n",
      "192:\tlearn: 0.4335381\ttotal: 2.44s\tremaining: 10.2s\n",
      "193:\tlearn: 0.4334687\ttotal: 2.45s\tremaining: 10.2s\n",
      "194:\tlearn: 0.4331943\ttotal: 2.47s\tremaining: 10.2s\n",
      "195:\tlearn: 0.4330768\ttotal: 2.48s\tremaining: 10.2s\n",
      "196:\tlearn: 0.4330356\ttotal: 2.49s\tremaining: 10.1s\n",
      "197:\tlearn: 0.4329410\ttotal: 2.5s\tremaining: 10.1s\n",
      "198:\tlearn: 0.4328897\ttotal: 2.51s\tremaining: 10.1s\n",
      "199:\tlearn: 0.4328259\ttotal: 2.52s\tremaining: 10.1s\n",
      "200:\tlearn: 0.4326764\ttotal: 2.53s\tremaining: 10.1s\n",
      "201:\tlearn: 0.4325677\ttotal: 2.54s\tremaining: 10s\n",
      "202:\tlearn: 0.4324982\ttotal: 2.55s\tremaining: 10s\n",
      "203:\tlearn: 0.4323943\ttotal: 2.57s\tremaining: 10s\n",
      "204:\tlearn: 0.4322074\ttotal: 2.58s\tremaining: 9.99s\n",
      "205:\tlearn: 0.4321582\ttotal: 2.59s\tremaining: 9.98s\n",
      "206:\tlearn: 0.4321244\ttotal: 2.6s\tremaining: 9.96s\n",
      "207:\tlearn: 0.4319636\ttotal: 2.61s\tremaining: 9.94s\n",
      "208:\tlearn: 0.4318678\ttotal: 2.62s\tremaining: 9.93s\n",
      "209:\tlearn: 0.4318002\ttotal: 2.63s\tremaining: 9.91s\n",
      "210:\tlearn: 0.4317627\ttotal: 2.65s\tremaining: 9.89s\n",
      "211:\tlearn: 0.4316393\ttotal: 2.66s\tremaining: 9.89s\n",
      "212:\tlearn: 0.4315141\ttotal: 2.67s\tremaining: 9.88s\n",
      "213:\tlearn: 0.4313556\ttotal: 2.69s\tremaining: 9.86s\n",
      "214:\tlearn: 0.4312315\ttotal: 2.7s\tremaining: 9.85s\n",
      "215:\tlearn: 0.4311363\ttotal: 2.71s\tremaining: 9.83s\n",
      "216:\tlearn: 0.4310463\ttotal: 2.72s\tremaining: 9.81s\n",
      "217:\tlearn: 0.4309676\ttotal: 2.73s\tremaining: 9.79s\n",
      "218:\tlearn: 0.4308514\ttotal: 2.74s\tremaining: 9.78s\n",
      "219:\tlearn: 0.4307581\ttotal: 2.75s\tremaining: 9.76s\n",
      "220:\tlearn: 0.4306501\ttotal: 2.76s\tremaining: 9.74s\n",
      "221:\tlearn: 0.4305361\ttotal: 2.77s\tremaining: 9.72s\n",
      "222:\tlearn: 0.4304543\ttotal: 2.79s\tremaining: 9.71s\n",
      "223:\tlearn: 0.4304046\ttotal: 2.8s\tremaining: 9.69s\n",
      "224:\tlearn: 0.4303326\ttotal: 2.81s\tremaining: 9.66s\n",
      "225:\tlearn: 0.4302699\ttotal: 2.82s\tremaining: 9.65s\n",
      "226:\tlearn: 0.4302166\ttotal: 2.83s\tremaining: 9.63s\n",
      "227:\tlearn: 0.4300856\ttotal: 2.84s\tremaining: 9.61s\n",
      "228:\tlearn: 0.4299514\ttotal: 2.85s\tremaining: 9.6s\n",
      "229:\tlearn: 0.4298881\ttotal: 2.86s\tremaining: 9.57s\n",
      "230:\tlearn: 0.4297764\ttotal: 2.87s\tremaining: 9.56s\n",
      "231:\tlearn: 0.4296751\ttotal: 2.88s\tremaining: 9.55s\n",
      "232:\tlearn: 0.4295504\ttotal: 2.9s\tremaining: 9.54s\n",
      "233:\tlearn: 0.4295331\ttotal: 2.91s\tremaining: 9.51s\n",
      "234:\tlearn: 0.4294914\ttotal: 2.92s\tremaining: 9.5s\n",
      "235:\tlearn: 0.4294298\ttotal: 2.93s\tremaining: 9.49s\n",
      "236:\tlearn: 0.4293345\ttotal: 2.94s\tremaining: 9.47s\n",
      "237:\tlearn: 0.4293053\ttotal: 2.95s\tremaining: 9.45s\n",
      "238:\tlearn: 0.4292371\ttotal: 2.96s\tremaining: 9.43s\n",
      "239:\tlearn: 0.4291342\ttotal: 2.97s\tremaining: 9.42s\n",
      "240:\tlearn: 0.4290501\ttotal: 2.98s\tremaining: 9.4s\n",
      "241:\tlearn: 0.4289419\ttotal: 3s\tremaining: 9.38s\n",
      "242:\tlearn: 0.4289336\ttotal: 3s\tremaining: 9.36s\n",
      "243:\tlearn: 0.4287959\ttotal: 3.02s\tremaining: 9.35s\n",
      "244:\tlearn: 0.4287211\ttotal: 3.03s\tremaining: 9.33s\n",
      "245:\tlearn: 0.4285528\ttotal: 3.04s\tremaining: 9.32s\n",
      "246:\tlearn: 0.4284873\ttotal: 3.05s\tremaining: 9.3s\n",
      "247:\tlearn: 0.4284621\ttotal: 3.06s\tremaining: 9.28s\n",
      "248:\tlearn: 0.4284146\ttotal: 3.07s\tremaining: 9.27s\n",
      "249:\tlearn: 0.4283882\ttotal: 3.08s\tremaining: 9.25s\n",
      "250:\tlearn: 0.4283030\ttotal: 3.09s\tremaining: 9.23s\n",
      "251:\tlearn: 0.4282144\ttotal: 3.1s\tremaining: 9.21s\n",
      "252:\tlearn: 0.4281937\ttotal: 3.11s\tremaining: 9.19s\n",
      "253:\tlearn: 0.4280113\ttotal: 3.12s\tremaining: 9.18s\n",
      "254:\tlearn: 0.4279701\ttotal: 3.14s\tremaining: 9.16s\n",
      "255:\tlearn: 0.4279429\ttotal: 3.15s\tremaining: 9.14s\n",
      "256:\tlearn: 0.4279112\ttotal: 3.15s\tremaining: 9.12s\n",
      "257:\tlearn: 0.4278361\ttotal: 3.17s\tremaining: 9.11s\n",
      "258:\tlearn: 0.4277761\ttotal: 3.18s\tremaining: 9.09s\n",
      "259:\tlearn: 0.4276851\ttotal: 3.19s\tremaining: 9.08s\n",
      "260:\tlearn: 0.4276519\ttotal: 3.2s\tremaining: 9.06s\n",
      "261:\tlearn: 0.4276346\ttotal: 3.21s\tremaining: 9.04s\n",
      "262:\tlearn: 0.4275891\ttotal: 3.22s\tremaining: 9.02s\n",
      "263:\tlearn: 0.4275308\ttotal: 3.23s\tremaining: 9.01s\n",
      "264:\tlearn: 0.4274479\ttotal: 3.24s\tremaining: 8.99s\n",
      "265:\tlearn: 0.4273454\ttotal: 3.25s\tremaining: 8.97s\n",
      "266:\tlearn: 0.4272629\ttotal: 3.26s\tremaining: 8.96s\n",
      "267:\tlearn: 0.4271645\ttotal: 3.27s\tremaining: 8.94s\n",
      "268:\tlearn: 0.4270984\ttotal: 3.29s\tremaining: 8.93s\n",
      "269:\tlearn: 0.4270566\ttotal: 3.29s\tremaining: 8.91s\n",
      "270:\tlearn: 0.4269798\ttotal: 3.31s\tremaining: 8.9s\n",
      "271:\tlearn: 0.4269662\ttotal: 3.32s\tremaining: 8.88s\n",
      "272:\tlearn: 0.4268908\ttotal: 3.33s\tremaining: 8.86s\n",
      "273:\tlearn: 0.4268010\ttotal: 3.34s\tremaining: 8.84s\n",
      "274:\tlearn: 0.4267479\ttotal: 3.35s\tremaining: 8.83s\n",
      "275:\tlearn: 0.4265974\ttotal: 3.36s\tremaining: 8.82s\n",
      "276:\tlearn: 0.4265233\ttotal: 3.38s\tremaining: 8.81s\n",
      "277:\tlearn: 0.4264619\ttotal: 3.39s\tremaining: 8.8s\n",
      "278:\tlearn: 0.4263506\ttotal: 3.4s\tremaining: 8.78s\n",
      "279:\tlearn: 0.4262308\ttotal: 3.41s\tremaining: 8.77s\n",
      "280:\tlearn: 0.4261482\ttotal: 3.42s\tremaining: 8.76s\n",
      "281:\tlearn: 0.4260367\ttotal: 3.44s\tremaining: 8.75s\n",
      "282:\tlearn: 0.4260051\ttotal: 3.45s\tremaining: 8.74s\n",
      "283:\tlearn: 0.4258748\ttotal: 3.46s\tremaining: 8.72s\n",
      "284:\tlearn: 0.4258159\ttotal: 3.47s\tremaining: 8.71s\n",
      "285:\tlearn: 0.4257722\ttotal: 3.48s\tremaining: 8.69s\n",
      "286:\tlearn: 0.4256651\ttotal: 3.49s\tremaining: 8.68s\n",
      "287:\tlearn: 0.4255892\ttotal: 3.5s\tremaining: 8.66s\n",
      "288:\tlearn: 0.4255286\ttotal: 3.51s\tremaining: 8.65s\n",
      "289:\tlearn: 0.4255026\ttotal: 3.52s\tremaining: 8.63s\n",
      "290:\tlearn: 0.4253617\ttotal: 3.54s\tremaining: 8.62s\n",
      "291:\tlearn: 0.4253177\ttotal: 3.55s\tremaining: 8.6s\n",
      "292:\tlearn: 0.4252841\ttotal: 3.56s\tremaining: 8.59s\n",
      "293:\tlearn: 0.4252341\ttotal: 3.57s\tremaining: 8.57s\n",
      "294:\tlearn: 0.4251980\ttotal: 3.58s\tremaining: 8.55s\n",
      "295:\tlearn: 0.4250379\ttotal: 3.59s\tremaining: 8.54s\n",
      "296:\tlearn: 0.4249710\ttotal: 3.6s\tremaining: 8.53s\n",
      "297:\tlearn: 0.4248513\ttotal: 3.61s\tremaining: 8.51s\n",
      "298:\tlearn: 0.4247035\ttotal: 3.63s\tremaining: 8.5s\n",
      "299:\tlearn: 0.4246214\ttotal: 3.64s\tremaining: 8.49s\n",
      "300:\tlearn: 0.4245533\ttotal: 3.65s\tremaining: 8.48s\n",
      "301:\tlearn: 0.4245212\ttotal: 3.66s\tremaining: 8.46s\n",
      "302:\tlearn: 0.4244274\ttotal: 3.67s\tremaining: 8.45s\n",
      "303:\tlearn: 0.4242716\ttotal: 3.68s\tremaining: 8.43s\n",
      "304:\tlearn: 0.4241264\ttotal: 3.69s\tremaining: 8.42s\n",
      "305:\tlearn: 0.4240236\ttotal: 3.71s\tremaining: 8.41s\n",
      "306:\tlearn: 0.4239031\ttotal: 3.72s\tremaining: 8.39s\n",
      "307:\tlearn: 0.4238443\ttotal: 3.73s\tremaining: 8.38s\n",
      "308:\tlearn: 0.4237866\ttotal: 3.74s\tremaining: 8.36s\n",
      "309:\tlearn: 0.4237167\ttotal: 3.75s\tremaining: 8.35s\n",
      "310:\tlearn: 0.4235668\ttotal: 3.76s\tremaining: 8.33s\n",
      "311:\tlearn: 0.4235014\ttotal: 3.77s\tremaining: 8.32s\n",
      "312:\tlearn: 0.4233386\ttotal: 3.79s\tremaining: 8.31s\n",
      "313:\tlearn: 0.4233167\ttotal: 3.79s\tremaining: 8.29s\n",
      "314:\tlearn: 0.4232387\ttotal: 3.81s\tremaining: 8.28s\n",
      "315:\tlearn: 0.4231673\ttotal: 3.82s\tremaining: 8.26s\n",
      "316:\tlearn: 0.4230783\ttotal: 3.83s\tremaining: 8.25s\n",
      "317:\tlearn: 0.4230140\ttotal: 3.84s\tremaining: 8.24s\n",
      "318:\tlearn: 0.4229566\ttotal: 3.85s\tremaining: 8.23s\n",
      "319:\tlearn: 0.4228469\ttotal: 3.87s\tremaining: 8.22s\n",
      "320:\tlearn: 0.4227063\ttotal: 3.89s\tremaining: 8.23s\n",
      "321:\tlearn: 0.4226599\ttotal: 3.91s\tremaining: 8.23s\n",
      "322:\tlearn: 0.4225942\ttotal: 3.93s\tremaining: 8.23s\n",
      "323:\tlearn: 0.4224756\ttotal: 3.94s\tremaining: 8.23s\n",
      "324:\tlearn: 0.4224478\ttotal: 3.96s\tremaining: 8.23s\n",
      "325:\tlearn: 0.4223579\ttotal: 3.97s\tremaining: 8.21s\n",
      "326:\tlearn: 0.4222381\ttotal: 3.99s\tremaining: 8.21s\n",
      "327:\tlearn: 0.4221477\ttotal: 4s\tremaining: 8.21s\n",
      "328:\tlearn: 0.4220926\ttotal: 4.02s\tremaining: 8.19s\n",
      "329:\tlearn: 0.4220421\ttotal: 4.03s\tremaining: 8.18s\n",
      "330:\tlearn: 0.4220323\ttotal: 4.04s\tremaining: 8.16s\n",
      "331:\tlearn: 0.4218987\ttotal: 4.05s\tremaining: 8.15s\n",
      "332:\tlearn: 0.4218866\ttotal: 4.06s\tremaining: 8.13s\n",
      "333:\tlearn: 0.4218392\ttotal: 4.07s\tremaining: 8.12s\n",
      "334:\tlearn: 0.4216833\ttotal: 4.08s\tremaining: 8.11s\n",
      "335:\tlearn: 0.4216260\ttotal: 4.1s\tremaining: 8.1s\n",
      "336:\tlearn: 0.4216108\ttotal: 4.11s\tremaining: 8.08s\n",
      "337:\tlearn: 0.4215197\ttotal: 4.12s\tremaining: 8.07s\n",
      "338:\tlearn: 0.4213547\ttotal: 4.13s\tremaining: 8.06s\n",
      "339:\tlearn: 0.4212650\ttotal: 4.14s\tremaining: 8.04s\n",
      "340:\tlearn: 0.4212366\ttotal: 4.16s\tremaining: 8.03s\n",
      "341:\tlearn: 0.4211968\ttotal: 4.17s\tremaining: 8.02s\n",
      "342:\tlearn: 0.4210911\ttotal: 4.18s\tremaining: 8s\n",
      "343:\tlearn: 0.4210362\ttotal: 4.19s\tremaining: 7.99s\n",
      "344:\tlearn: 0.4209690\ttotal: 4.2s\tremaining: 7.98s\n",
      "345:\tlearn: 0.4209087\ttotal: 4.21s\tremaining: 7.96s\n",
      "346:\tlearn: 0.4208564\ttotal: 4.22s\tremaining: 7.95s\n",
      "347:\tlearn: 0.4208187\ttotal: 4.23s\tremaining: 7.93s\n",
      "348:\tlearn: 0.4207639\ttotal: 4.25s\tremaining: 7.92s\n",
      "349:\tlearn: 0.4206918\ttotal: 4.26s\tremaining: 7.91s\n",
      "350:\tlearn: 0.4206129\ttotal: 4.27s\tremaining: 7.9s\n",
      "351:\tlearn: 0.4205770\ttotal: 4.28s\tremaining: 7.88s\n",
      "352:\tlearn: 0.4204767\ttotal: 4.29s\tremaining: 7.87s\n",
      "353:\tlearn: 0.4204067\ttotal: 4.31s\tremaining: 7.86s\n",
      "354:\tlearn: 0.4203158\ttotal: 4.32s\tremaining: 7.86s\n",
      "355:\tlearn: 0.4202701\ttotal: 4.33s\tremaining: 7.84s\n",
      "356:\tlearn: 0.4202361\ttotal: 4.35s\tremaining: 7.83s\n",
      "357:\tlearn: 0.4201536\ttotal: 4.36s\tremaining: 7.82s\n",
      "358:\tlearn: 0.4200712\ttotal: 4.37s\tremaining: 7.8s\n",
      "359:\tlearn: 0.4199736\ttotal: 4.38s\tremaining: 7.79s\n",
      "360:\tlearn: 0.4199054\ttotal: 4.39s\tremaining: 7.78s\n",
      "361:\tlearn: 0.4198628\ttotal: 4.41s\tremaining: 7.77s\n",
      "362:\tlearn: 0.4197681\ttotal: 4.42s\tremaining: 7.76s\n",
      "363:\tlearn: 0.4196562\ttotal: 4.43s\tremaining: 7.74s\n",
      "364:\tlearn: 0.4196436\ttotal: 4.44s\tremaining: 7.73s\n",
      "365:\tlearn: 0.4196301\ttotal: 4.45s\tremaining: 7.71s\n",
      "366:\tlearn: 0.4195506\ttotal: 4.46s\tremaining: 7.7s\n",
      "367:\tlearn: 0.4194652\ttotal: 4.47s\tremaining: 7.69s\n",
      "368:\tlearn: 0.4193376\ttotal: 4.49s\tremaining: 7.67s\n",
      "369:\tlearn: 0.4192494\ttotal: 4.5s\tremaining: 7.66s\n",
      "370:\tlearn: 0.4192072\ttotal: 4.51s\tremaining: 7.65s\n",
      "371:\tlearn: 0.4191817\ttotal: 4.52s\tremaining: 7.63s\n",
      "372:\tlearn: 0.4190896\ttotal: 4.53s\tremaining: 7.62s\n",
      "373:\tlearn: 0.4190240\ttotal: 4.54s\tremaining: 7.6s\n",
      "374:\tlearn: 0.4189215\ttotal: 4.56s\tremaining: 7.59s\n",
      "375:\tlearn: 0.4188287\ttotal: 4.57s\tremaining: 7.58s\n",
      "376:\tlearn: 0.4187837\ttotal: 4.58s\tremaining: 7.57s\n",
      "377:\tlearn: 0.4187224\ttotal: 4.59s\tremaining: 7.55s\n",
      "378:\tlearn: 0.4186790\ttotal: 4.6s\tremaining: 7.54s\n",
      "379:\tlearn: 0.4186644\ttotal: 4.61s\tremaining: 7.52s\n",
      "380:\tlearn: 0.4185867\ttotal: 4.62s\tremaining: 7.51s\n",
      "381:\tlearn: 0.4185382\ttotal: 4.63s\tremaining: 7.49s\n",
      "382:\tlearn: 0.4184595\ttotal: 4.64s\tremaining: 7.48s\n",
      "383:\tlearn: 0.4184320\ttotal: 4.65s\tremaining: 7.46s\n",
      "384:\tlearn: 0.4183681\ttotal: 4.66s\tremaining: 7.45s\n",
      "385:\tlearn: 0.4183033\ttotal: 4.67s\tremaining: 7.43s\n",
      "386:\tlearn: 0.4182386\ttotal: 4.68s\tremaining: 7.42s\n",
      "387:\tlearn: 0.4181704\ttotal: 4.7s\tremaining: 7.41s\n",
      "388:\tlearn: 0.4180606\ttotal: 4.71s\tremaining: 7.4s\n",
      "389:\tlearn: 0.4180440\ttotal: 4.72s\tremaining: 7.38s\n",
      "390:\tlearn: 0.4178432\ttotal: 4.73s\tremaining: 7.37s\n",
      "391:\tlearn: 0.4178084\ttotal: 4.74s\tremaining: 7.35s\n",
      "392:\tlearn: 0.4177562\ttotal: 4.75s\tremaining: 7.34s\n",
      "393:\tlearn: 0.4177108\ttotal: 4.76s\tremaining: 7.33s\n",
      "394:\tlearn: 0.4176839\ttotal: 4.77s\tremaining: 7.31s\n",
      "395:\tlearn: 0.4176801\ttotal: 4.78s\tremaining: 7.29s\n",
      "396:\tlearn: 0.4175485\ttotal: 4.79s\tremaining: 7.28s\n",
      "397:\tlearn: 0.4175157\ttotal: 4.8s\tremaining: 7.27s\n",
      "398:\tlearn: 0.4174648\ttotal: 4.82s\tremaining: 7.25s\n",
      "399:\tlearn: 0.4174222\ttotal: 4.83s\tremaining: 7.24s\n",
      "400:\tlearn: 0.4173567\ttotal: 4.84s\tremaining: 7.23s\n",
      "401:\tlearn: 0.4172685\ttotal: 4.85s\tremaining: 7.21s\n",
      "402:\tlearn: 0.4171958\ttotal: 4.86s\tremaining: 7.2s\n",
      "403:\tlearn: 0.4171676\ttotal: 4.87s\tremaining: 7.19s\n",
      "404:\tlearn: 0.4171185\ttotal: 4.88s\tremaining: 7.17s\n",
      "405:\tlearn: 0.4171136\ttotal: 4.89s\tremaining: 7.16s\n",
      "406:\tlearn: 0.4169746\ttotal: 4.9s\tremaining: 7.14s\n",
      "407:\tlearn: 0.4168079\ttotal: 4.92s\tremaining: 7.13s\n",
      "408:\tlearn: 0.4167686\ttotal: 4.93s\tremaining: 7.12s\n",
      "409:\tlearn: 0.4166985\ttotal: 4.94s\tremaining: 7.11s\n",
      "410:\tlearn: 0.4166740\ttotal: 4.95s\tremaining: 7.09s\n",
      "411:\tlearn: 0.4166096\ttotal: 4.96s\tremaining: 7.08s\n",
      "412:\tlearn: 0.4165463\ttotal: 4.97s\tremaining: 7.06s\n",
      "413:\tlearn: 0.4164941\ttotal: 4.98s\tremaining: 7.05s\n",
      "414:\tlearn: 0.4164596\ttotal: 4.99s\tremaining: 7.04s\n",
      "415:\tlearn: 0.4163959\ttotal: 5s\tremaining: 7.03s\n",
      "416:\tlearn: 0.4163150\ttotal: 5.01s\tremaining: 7.01s\n",
      "417:\tlearn: 0.4162659\ttotal: 5.03s\tremaining: 7s\n",
      "418:\tlearn: 0.4162057\ttotal: 5.04s\tremaining: 6.99s\n",
      "419:\tlearn: 0.4160705\ttotal: 5.05s\tremaining: 6.98s\n",
      "420:\tlearn: 0.4159480\ttotal: 5.07s\tremaining: 6.97s\n",
      "421:\tlearn: 0.4158618\ttotal: 5.08s\tremaining: 6.96s\n",
      "422:\tlearn: 0.4158397\ttotal: 5.09s\tremaining: 6.94s\n",
      "423:\tlearn: 0.4157115\ttotal: 5.1s\tremaining: 6.93s\n",
      "424:\tlearn: 0.4156546\ttotal: 5.11s\tremaining: 6.92s\n",
      "425:\tlearn: 0.4156071\ttotal: 5.12s\tremaining: 6.9s\n",
      "426:\tlearn: 0.4155418\ttotal: 5.13s\tremaining: 6.89s\n",
      "427:\tlearn: 0.4154682\ttotal: 5.15s\tremaining: 6.88s\n",
      "428:\tlearn: 0.4153863\ttotal: 5.16s\tremaining: 6.87s\n",
      "429:\tlearn: 0.4153343\ttotal: 5.17s\tremaining: 6.85s\n",
      "430:\tlearn: 0.4153195\ttotal: 5.18s\tremaining: 6.83s\n",
      "431:\tlearn: 0.4153041\ttotal: 5.19s\tremaining: 6.82s\n",
      "432:\tlearn: 0.4152385\ttotal: 5.2s\tremaining: 6.81s\n",
      "433:\tlearn: 0.4152257\ttotal: 5.21s\tremaining: 6.79s\n",
      "434:\tlearn: 0.4152092\ttotal: 5.22s\tremaining: 6.77s\n",
      "435:\tlearn: 0.4151935\ttotal: 5.23s\tremaining: 6.76s\n",
      "436:\tlearn: 0.4151344\ttotal: 5.24s\tremaining: 6.75s\n",
      "437:\tlearn: 0.4151085\ttotal: 5.25s\tremaining: 6.73s\n",
      "438:\tlearn: 0.4150733\ttotal: 5.26s\tremaining: 6.72s\n",
      "439:\tlearn: 0.4149871\ttotal: 5.27s\tremaining: 6.71s\n",
      "440:\tlearn: 0.4148999\ttotal: 5.28s\tremaining: 6.7s\n",
      "441:\tlearn: 0.4147689\ttotal: 5.3s\tremaining: 6.69s\n",
      "442:\tlearn: 0.4147479\ttotal: 5.3s\tremaining: 6.67s\n",
      "443:\tlearn: 0.4147388\ttotal: 5.32s\tremaining: 6.66s\n",
      "444:\tlearn: 0.4146867\ttotal: 5.33s\tremaining: 6.64s\n",
      "445:\tlearn: 0.4146323\ttotal: 5.34s\tremaining: 6.63s\n",
      "446:\tlearn: 0.4146136\ttotal: 5.35s\tremaining: 6.62s\n",
      "447:\tlearn: 0.4145215\ttotal: 5.37s\tremaining: 6.61s\n",
      "448:\tlearn: 0.4144490\ttotal: 5.38s\tremaining: 6.6s\n",
      "449:\tlearn: 0.4144285\ttotal: 5.39s\tremaining: 6.59s\n",
      "450:\tlearn: 0.4144208\ttotal: 5.4s\tremaining: 6.57s\n",
      "451:\tlearn: 0.4143384\ttotal: 5.41s\tremaining: 6.56s\n",
      "452:\tlearn: 0.4142656\ttotal: 5.43s\tremaining: 6.55s\n",
      "453:\tlearn: 0.4142349\ttotal: 5.44s\tremaining: 6.54s\n",
      "454:\tlearn: 0.4141867\ttotal: 5.45s\tremaining: 6.53s\n",
      "455:\tlearn: 0.4141202\ttotal: 5.46s\tremaining: 6.52s\n",
      "456:\tlearn: 0.4140936\ttotal: 5.47s\tremaining: 6.5s\n",
      "457:\tlearn: 0.4140159\ttotal: 5.49s\tremaining: 6.49s\n",
      "458:\tlearn: 0.4140025\ttotal: 5.5s\tremaining: 6.48s\n",
      "459:\tlearn: 0.4139383\ttotal: 5.51s\tremaining: 6.47s\n",
      "460:\tlearn: 0.4138381\ttotal: 5.52s\tremaining: 6.46s\n",
      "461:\tlearn: 0.4137916\ttotal: 5.53s\tremaining: 6.44s\n",
      "462:\tlearn: 0.4137697\ttotal: 5.54s\tremaining: 6.43s\n",
      "463:\tlearn: 0.4137020\ttotal: 5.55s\tremaining: 6.42s\n",
      "464:\tlearn: 0.4136463\ttotal: 5.57s\tremaining: 6.41s\n",
      "465:\tlearn: 0.4135846\ttotal: 5.58s\tremaining: 6.39s\n",
      "466:\tlearn: 0.4135426\ttotal: 5.59s\tremaining: 6.38s\n",
      "467:\tlearn: 0.4134814\ttotal: 5.6s\tremaining: 6.37s\n",
      "468:\tlearn: 0.4134685\ttotal: 5.61s\tremaining: 6.35s\n",
      "469:\tlearn: 0.4134317\ttotal: 5.62s\tremaining: 6.34s\n",
      "470:\tlearn: 0.4133880\ttotal: 5.63s\tremaining: 6.33s\n",
      "471:\tlearn: 0.4133202\ttotal: 5.65s\tremaining: 6.32s\n",
      "472:\tlearn: 0.4132603\ttotal: 5.66s\tremaining: 6.3s\n",
      "473:\tlearn: 0.4131700\ttotal: 5.67s\tremaining: 6.29s\n",
      "474:\tlearn: 0.4130645\ttotal: 5.68s\tremaining: 6.28s\n",
      "475:\tlearn: 0.4129924\ttotal: 5.7s\tremaining: 6.27s\n",
      "476:\tlearn: 0.4129736\ttotal: 5.71s\tremaining: 6.25s\n",
      "477:\tlearn: 0.4129330\ttotal: 5.72s\tremaining: 6.24s\n",
      "478:\tlearn: 0.4128579\ttotal: 5.73s\tremaining: 6.23s\n",
      "479:\tlearn: 0.4128169\ttotal: 5.74s\tremaining: 6.21s\n",
      "480:\tlearn: 0.4127480\ttotal: 5.75s\tremaining: 6.2s\n",
      "481:\tlearn: 0.4126983\ttotal: 5.76s\tremaining: 6.19s\n",
      "482:\tlearn: 0.4126570\ttotal: 5.77s\tremaining: 6.18s\n",
      "483:\tlearn: 0.4126302\ttotal: 5.78s\tremaining: 6.16s\n",
      "484:\tlearn: 0.4126072\ttotal: 5.79s\tremaining: 6.15s\n",
      "485:\tlearn: 0.4125802\ttotal: 5.8s\tremaining: 6.14s\n",
      "486:\tlearn: 0.4125502\ttotal: 5.81s\tremaining: 6.12s\n",
      "487:\tlearn: 0.4125181\ttotal: 5.82s\tremaining: 6.11s\n",
      "488:\tlearn: 0.4124436\ttotal: 5.83s\tremaining: 6.1s\n",
      "489:\tlearn: 0.4123798\ttotal: 5.85s\tremaining: 6.08s\n",
      "490:\tlearn: 0.4123559\ttotal: 5.86s\tremaining: 6.07s\n",
      "491:\tlearn: 0.4123296\ttotal: 5.87s\tremaining: 6.06s\n",
      "492:\tlearn: 0.4122755\ttotal: 5.88s\tremaining: 6.04s\n",
      "493:\tlearn: 0.4122342\ttotal: 5.89s\tremaining: 6.03s\n",
      "494:\tlearn: 0.4122085\ttotal: 5.9s\tremaining: 6.02s\n",
      "495:\tlearn: 0.4121763\ttotal: 5.91s\tremaining: 6s\n",
      "496:\tlearn: 0.4120946\ttotal: 5.92s\tremaining: 5.99s\n",
      "497:\tlearn: 0.4119883\ttotal: 5.93s\tremaining: 5.98s\n",
      "498:\tlearn: 0.4119683\ttotal: 5.94s\tremaining: 5.96s\n",
      "499:\tlearn: 0.4119480\ttotal: 5.95s\tremaining: 5.95s\n",
      "500:\tlearn: 0.4118940\ttotal: 5.96s\tremaining: 5.94s\n",
      "501:\tlearn: 0.4118761\ttotal: 5.97s\tremaining: 5.93s\n",
      "502:\tlearn: 0.4118382\ttotal: 5.98s\tremaining: 5.91s\n",
      "503:\tlearn: 0.4117353\ttotal: 6s\tremaining: 5.9s\n",
      "504:\tlearn: 0.4116992\ttotal: 6.01s\tremaining: 5.89s\n",
      "505:\tlearn: 0.4116954\ttotal: 6.01s\tremaining: 5.87s\n",
      "506:\tlearn: 0.4115693\ttotal: 6.03s\tremaining: 5.86s\n",
      "507:\tlearn: 0.4115629\ttotal: 6.04s\tremaining: 5.85s\n",
      "508:\tlearn: 0.4115357\ttotal: 6.05s\tremaining: 5.83s\n",
      "509:\tlearn: 0.4114996\ttotal: 6.06s\tremaining: 5.82s\n",
      "510:\tlearn: 0.4114150\ttotal: 6.07s\tremaining: 5.81s\n",
      "511:\tlearn: 0.4113957\ttotal: 6.08s\tremaining: 5.79s\n",
      "512:\tlearn: 0.4113439\ttotal: 6.09s\tremaining: 5.78s\n",
      "513:\tlearn: 0.4112150\ttotal: 6.1s\tremaining: 5.77s\n",
      "514:\tlearn: 0.4111451\ttotal: 6.11s\tremaining: 5.76s\n",
      "515:\tlearn: 0.4111131\ttotal: 6.12s\tremaining: 5.74s\n",
      "516:\tlearn: 0.4110780\ttotal: 6.13s\tremaining: 5.73s\n",
      "517:\tlearn: 0.4110146\ttotal: 6.14s\tremaining: 5.72s\n",
      "518:\tlearn: 0.4109372\ttotal: 6.16s\tremaining: 5.71s\n",
      "519:\tlearn: 0.4108676\ttotal: 6.17s\tremaining: 5.69s\n",
      "520:\tlearn: 0.4108425\ttotal: 6.18s\tremaining: 5.68s\n",
      "521:\tlearn: 0.4108039\ttotal: 6.19s\tremaining: 5.67s\n",
      "522:\tlearn: 0.4107859\ttotal: 6.2s\tremaining: 5.65s\n",
      "523:\tlearn: 0.4107086\ttotal: 6.21s\tremaining: 5.64s\n",
      "524:\tlearn: 0.4106675\ttotal: 6.22s\tremaining: 5.63s\n",
      "525:\tlearn: 0.4105766\ttotal: 6.23s\tremaining: 5.62s\n",
      "526:\tlearn: 0.4105418\ttotal: 6.24s\tremaining: 5.6s\n",
      "527:\tlearn: 0.4104857\ttotal: 6.26s\tremaining: 5.59s\n",
      "528:\tlearn: 0.4104242\ttotal: 6.27s\tremaining: 5.58s\n",
      "529:\tlearn: 0.4103895\ttotal: 6.28s\tremaining: 5.57s\n",
      "530:\tlearn: 0.4103378\ttotal: 6.29s\tremaining: 5.56s\n",
      "531:\tlearn: 0.4102955\ttotal: 6.31s\tremaining: 5.55s\n",
      "532:\tlearn: 0.4102179\ttotal: 6.32s\tremaining: 5.54s\n",
      "533:\tlearn: 0.4101455\ttotal: 6.34s\tremaining: 5.53s\n",
      "534:\tlearn: 0.4101374\ttotal: 6.35s\tremaining: 5.52s\n",
      "535:\tlearn: 0.4100474\ttotal: 6.36s\tremaining: 5.51s\n",
      "536:\tlearn: 0.4100111\ttotal: 6.37s\tremaining: 5.5s\n",
      "537:\tlearn: 0.4099937\ttotal: 6.38s\tremaining: 5.48s\n",
      "538:\tlearn: 0.4099069\ttotal: 6.4s\tremaining: 5.47s\n",
      "539:\tlearn: 0.4098278\ttotal: 6.41s\tremaining: 5.46s\n",
      "540:\tlearn: 0.4097562\ttotal: 6.42s\tremaining: 5.45s\n",
      "541:\tlearn: 0.4097230\ttotal: 6.43s\tremaining: 5.43s\n",
      "542:\tlearn: 0.4096776\ttotal: 6.44s\tremaining: 5.42s\n",
      "543:\tlearn: 0.4096082\ttotal: 6.46s\tremaining: 5.41s\n",
      "544:\tlearn: 0.4095741\ttotal: 6.47s\tremaining: 5.4s\n",
      "545:\tlearn: 0.4095570\ttotal: 6.48s\tremaining: 5.39s\n",
      "546:\tlearn: 0.4095385\ttotal: 6.49s\tremaining: 5.37s\n",
      "547:\tlearn: 0.4094514\ttotal: 6.5s\tremaining: 5.36s\n",
      "548:\tlearn: 0.4093690\ttotal: 6.51s\tremaining: 5.35s\n",
      "549:\tlearn: 0.4092904\ttotal: 6.53s\tremaining: 5.34s\n",
      "550:\tlearn: 0.4091948\ttotal: 6.54s\tremaining: 5.33s\n",
      "551:\tlearn: 0.4091641\ttotal: 6.55s\tremaining: 5.32s\n",
      "552:\tlearn: 0.4091053\ttotal: 6.56s\tremaining: 5.3s\n",
      "553:\tlearn: 0.4090409\ttotal: 6.57s\tremaining: 5.29s\n",
      "554:\tlearn: 0.4089521\ttotal: 6.58s\tremaining: 5.28s\n",
      "555:\tlearn: 0.4088808\ttotal: 6.6s\tremaining: 5.27s\n",
      "556:\tlearn: 0.4088395\ttotal: 6.61s\tremaining: 5.26s\n",
      "557:\tlearn: 0.4087777\ttotal: 6.63s\tremaining: 5.25s\n",
      "558:\tlearn: 0.4087404\ttotal: 6.64s\tremaining: 5.24s\n",
      "559:\tlearn: 0.4086974\ttotal: 6.65s\tremaining: 5.22s\n",
      "560:\tlearn: 0.4086817\ttotal: 6.66s\tremaining: 5.21s\n",
      "561:\tlearn: 0.4086414\ttotal: 6.67s\tremaining: 5.2s\n",
      "562:\tlearn: 0.4086253\ttotal: 6.68s\tremaining: 5.19s\n",
      "563:\tlearn: 0.4085962\ttotal: 6.69s\tremaining: 5.17s\n",
      "564:\tlearn: 0.4085224\ttotal: 6.7s\tremaining: 5.16s\n",
      "565:\tlearn: 0.4084784\ttotal: 6.72s\tremaining: 5.15s\n",
      "566:\tlearn: 0.4084001\ttotal: 6.73s\tremaining: 5.14s\n",
      "567:\tlearn: 0.4083852\ttotal: 6.74s\tremaining: 5.13s\n",
      "568:\tlearn: 0.4083642\ttotal: 6.75s\tremaining: 5.11s\n",
      "569:\tlearn: 0.4083388\ttotal: 6.76s\tremaining: 5.1s\n",
      "570:\tlearn: 0.4083143\ttotal: 6.77s\tremaining: 5.09s\n",
      "571:\tlearn: 0.4082745\ttotal: 6.78s\tremaining: 5.08s\n",
      "572:\tlearn: 0.4082022\ttotal: 6.8s\tremaining: 5.07s\n",
      "573:\tlearn: 0.4081092\ttotal: 6.81s\tremaining: 5.05s\n",
      "574:\tlearn: 0.4080239\ttotal: 6.82s\tremaining: 5.04s\n",
      "575:\tlearn: 0.4079806\ttotal: 6.83s\tremaining: 5.03s\n",
      "576:\tlearn: 0.4079202\ttotal: 6.84s\tremaining: 5.02s\n",
      "577:\tlearn: 0.4078438\ttotal: 6.86s\tremaining: 5.01s\n",
      "578:\tlearn: 0.4078198\ttotal: 6.87s\tremaining: 4.99s\n",
      "579:\tlearn: 0.4078013\ttotal: 6.88s\tremaining: 4.98s\n",
      "580:\tlearn: 0.4077962\ttotal: 6.89s\tremaining: 4.97s\n",
      "581:\tlearn: 0.4077482\ttotal: 6.9s\tremaining: 4.96s\n",
      "582:\tlearn: 0.4076840\ttotal: 6.91s\tremaining: 4.94s\n",
      "583:\tlearn: 0.4075876\ttotal: 6.92s\tremaining: 4.93s\n",
      "584:\tlearn: 0.4075523\ttotal: 6.93s\tremaining: 4.92s\n",
      "585:\tlearn: 0.4075241\ttotal: 6.94s\tremaining: 4.91s\n",
      "586:\tlearn: 0.4074619\ttotal: 6.96s\tremaining: 4.89s\n",
      "587:\tlearn: 0.4073355\ttotal: 6.97s\tremaining: 4.88s\n",
      "588:\tlearn: 0.4073003\ttotal: 6.98s\tremaining: 4.87s\n",
      "589:\tlearn: 0.4072901\ttotal: 6.99s\tremaining: 4.86s\n",
      "590:\tlearn: 0.4072135\ttotal: 7s\tremaining: 4.85s\n",
      "591:\tlearn: 0.4071691\ttotal: 7.01s\tremaining: 4.83s\n",
      "592:\tlearn: 0.4071300\ttotal: 7.03s\tremaining: 4.82s\n",
      "593:\tlearn: 0.4071042\ttotal: 7.04s\tremaining: 4.81s\n",
      "594:\tlearn: 0.4070748\ttotal: 7.05s\tremaining: 4.8s\n",
      "595:\tlearn: 0.4069917\ttotal: 7.07s\tremaining: 4.79s\n",
      "596:\tlearn: 0.4069465\ttotal: 7.08s\tremaining: 4.78s\n",
      "597:\tlearn: 0.4069095\ttotal: 7.09s\tremaining: 4.76s\n",
      "598:\tlearn: 0.4068757\ttotal: 7.1s\tremaining: 4.75s\n",
      "599:\tlearn: 0.4068591\ttotal: 7.11s\tremaining: 4.74s\n",
      "600:\tlearn: 0.4068235\ttotal: 7.12s\tremaining: 4.73s\n",
      "601:\tlearn: 0.4067771\ttotal: 7.13s\tremaining: 4.72s\n",
      "602:\tlearn: 0.4067328\ttotal: 7.14s\tremaining: 4.7s\n",
      "603:\tlearn: 0.4067106\ttotal: 7.15s\tremaining: 4.69s\n",
      "604:\tlearn: 0.4066761\ttotal: 7.16s\tremaining: 4.68s\n",
      "605:\tlearn: 0.4066623\ttotal: 7.17s\tremaining: 4.66s\n",
      "606:\tlearn: 0.4066239\ttotal: 7.18s\tremaining: 4.65s\n",
      "607:\tlearn: 0.4066100\ttotal: 7.2s\tremaining: 4.64s\n",
      "608:\tlearn: 0.4065397\ttotal: 7.21s\tremaining: 4.63s\n",
      "609:\tlearn: 0.4064888\ttotal: 7.22s\tremaining: 4.62s\n",
      "610:\tlearn: 0.4064390\ttotal: 7.23s\tremaining: 4.6s\n",
      "611:\tlearn: 0.4063967\ttotal: 7.24s\tremaining: 4.59s\n",
      "612:\tlearn: 0.4063419\ttotal: 7.26s\tremaining: 4.58s\n",
      "613:\tlearn: 0.4063095\ttotal: 7.28s\tremaining: 4.57s\n",
      "614:\tlearn: 0.4062814\ttotal: 7.29s\tremaining: 4.56s\n",
      "615:\tlearn: 0.4062041\ttotal: 7.3s\tremaining: 4.55s\n",
      "616:\tlearn: 0.4061594\ttotal: 7.32s\tremaining: 4.54s\n",
      "617:\tlearn: 0.4061442\ttotal: 7.33s\tremaining: 4.53s\n",
      "618:\tlearn: 0.4061304\ttotal: 7.34s\tremaining: 4.52s\n",
      "619:\tlearn: 0.4061086\ttotal: 7.36s\tremaining: 4.51s\n",
      "620:\tlearn: 0.4060607\ttotal: 7.37s\tremaining: 4.5s\n",
      "621:\tlearn: 0.4060084\ttotal: 7.38s\tremaining: 4.49s\n",
      "622:\tlearn: 0.4059541\ttotal: 7.39s\tremaining: 4.47s\n",
      "623:\tlearn: 0.4059124\ttotal: 7.4s\tremaining: 4.46s\n",
      "624:\tlearn: 0.4058721\ttotal: 7.42s\tremaining: 4.45s\n",
      "625:\tlearn: 0.4058096\ttotal: 7.43s\tremaining: 4.44s\n",
      "626:\tlearn: 0.4057657\ttotal: 7.44s\tremaining: 4.42s\n",
      "627:\tlearn: 0.4057248\ttotal: 7.45s\tremaining: 4.41s\n",
      "628:\tlearn: 0.4057151\ttotal: 7.46s\tremaining: 4.4s\n",
      "629:\tlearn: 0.4056336\ttotal: 7.47s\tremaining: 4.39s\n",
      "630:\tlearn: 0.4055606\ttotal: 7.49s\tremaining: 4.38s\n",
      "631:\tlearn: 0.4054772\ttotal: 7.5s\tremaining: 4.37s\n",
      "632:\tlearn: 0.4054287\ttotal: 7.51s\tremaining: 4.36s\n",
      "633:\tlearn: 0.4053910\ttotal: 7.52s\tremaining: 4.34s\n",
      "634:\tlearn: 0.4053713\ttotal: 7.54s\tremaining: 4.33s\n",
      "635:\tlearn: 0.4053127\ttotal: 7.55s\tremaining: 4.32s\n",
      "636:\tlearn: 0.4053028\ttotal: 7.56s\tremaining: 4.31s\n",
      "637:\tlearn: 0.4052928\ttotal: 7.57s\tremaining: 4.29s\n",
      "638:\tlearn: 0.4052622\ttotal: 7.58s\tremaining: 4.28s\n",
      "639:\tlearn: 0.4052261\ttotal: 7.59s\tremaining: 4.27s\n",
      "640:\tlearn: 0.4051550\ttotal: 7.6s\tremaining: 4.26s\n",
      "641:\tlearn: 0.4051306\ttotal: 7.61s\tremaining: 4.24s\n",
      "642:\tlearn: 0.4051186\ttotal: 7.62s\tremaining: 4.23s\n",
      "643:\tlearn: 0.4050763\ttotal: 7.63s\tremaining: 4.22s\n",
      "644:\tlearn: 0.4050391\ttotal: 7.65s\tremaining: 4.21s\n",
      "645:\tlearn: 0.4050053\ttotal: 7.66s\tremaining: 4.2s\n",
      "646:\tlearn: 0.4049339\ttotal: 7.67s\tremaining: 4.18s\n",
      "647:\tlearn: 0.4048062\ttotal: 7.68s\tremaining: 4.17s\n",
      "648:\tlearn: 0.4047822\ttotal: 7.7s\tremaining: 4.16s\n",
      "649:\tlearn: 0.4047247\ttotal: 7.71s\tremaining: 4.15s\n",
      "650:\tlearn: 0.4046706\ttotal: 7.72s\tremaining: 4.14s\n",
      "651:\tlearn: 0.4046154\ttotal: 7.74s\tremaining: 4.13s\n",
      "652:\tlearn: 0.4045890\ttotal: 7.75s\tremaining: 4.12s\n",
      "653:\tlearn: 0.4045730\ttotal: 7.76s\tremaining: 4.11s\n",
      "654:\tlearn: 0.4045069\ttotal: 7.77s\tremaining: 4.09s\n",
      "655:\tlearn: 0.4043764\ttotal: 7.79s\tremaining: 4.08s\n",
      "656:\tlearn: 0.4043119\ttotal: 7.8s\tremaining: 4.07s\n",
      "657:\tlearn: 0.4042684\ttotal: 7.81s\tremaining: 4.06s\n",
      "658:\tlearn: 0.4042462\ttotal: 7.82s\tremaining: 4.05s\n",
      "659:\tlearn: 0.4041929\ttotal: 7.83s\tremaining: 4.04s\n",
      "660:\tlearn: 0.4041093\ttotal: 7.85s\tremaining: 4.02s\n",
      "661:\tlearn: 0.4040872\ttotal: 7.86s\tremaining: 4.01s\n",
      "662:\tlearn: 0.4040571\ttotal: 7.87s\tremaining: 4s\n",
      "663:\tlearn: 0.4040538\ttotal: 7.88s\tremaining: 3.99s\n",
      "664:\tlearn: 0.4040304\ttotal: 7.89s\tremaining: 3.97s\n",
      "665:\tlearn: 0.4039809\ttotal: 7.9s\tremaining: 3.96s\n",
      "666:\tlearn: 0.4039340\ttotal: 7.91s\tremaining: 3.95s\n",
      "667:\tlearn: 0.4039182\ttotal: 7.92s\tremaining: 3.94s\n",
      "668:\tlearn: 0.4038882\ttotal: 7.94s\tremaining: 3.93s\n",
      "669:\tlearn: 0.4038158\ttotal: 7.95s\tremaining: 3.91s\n",
      "670:\tlearn: 0.4038091\ttotal: 7.96s\tremaining: 3.9s\n",
      "671:\tlearn: 0.4037985\ttotal: 7.97s\tremaining: 3.89s\n",
      "672:\tlearn: 0.4037668\ttotal: 7.98s\tremaining: 3.88s\n",
      "673:\tlearn: 0.4037487\ttotal: 8s\tremaining: 3.87s\n",
      "674:\tlearn: 0.4036966\ttotal: 8.01s\tremaining: 3.86s\n",
      "675:\tlearn: 0.4036675\ttotal: 8.02s\tremaining: 3.85s\n",
      "676:\tlearn: 0.4035904\ttotal: 8.04s\tremaining: 3.83s\n",
      "677:\tlearn: 0.4035468\ttotal: 8.05s\tremaining: 3.82s\n",
      "678:\tlearn: 0.4035329\ttotal: 8.06s\tremaining: 3.81s\n",
      "679:\tlearn: 0.4034907\ttotal: 8.07s\tremaining: 3.8s\n",
      "680:\tlearn: 0.4034628\ttotal: 8.08s\tremaining: 3.78s\n",
      "681:\tlearn: 0.4034019\ttotal: 8.09s\tremaining: 3.77s\n",
      "682:\tlearn: 0.4033883\ttotal: 8.1s\tremaining: 3.76s\n",
      "683:\tlearn: 0.4033681\ttotal: 8.11s\tremaining: 3.75s\n",
      "684:\tlearn: 0.4033295\ttotal: 8.12s\tremaining: 3.73s\n",
      "685:\tlearn: 0.4032494\ttotal: 8.13s\tremaining: 3.72s\n",
      "686:\tlearn: 0.4032216\ttotal: 8.15s\tremaining: 3.71s\n",
      "687:\tlearn: 0.4032180\ttotal: 8.16s\tremaining: 3.7s\n",
      "688:\tlearn: 0.4031230\ttotal: 8.17s\tremaining: 3.69s\n",
      "689:\tlearn: 0.4031004\ttotal: 8.18s\tremaining: 3.68s\n",
      "690:\tlearn: 0.4030299\ttotal: 8.2s\tremaining: 3.67s\n",
      "691:\tlearn: 0.4029766\ttotal: 8.21s\tremaining: 3.65s\n",
      "692:\tlearn: 0.4029459\ttotal: 8.22s\tremaining: 3.64s\n",
      "693:\tlearn: 0.4028925\ttotal: 8.24s\tremaining: 3.63s\n",
      "694:\tlearn: 0.4028352\ttotal: 8.25s\tremaining: 3.62s\n",
      "695:\tlearn: 0.4028040\ttotal: 8.27s\tremaining: 3.61s\n",
      "696:\tlearn: 0.4027463\ttotal: 8.28s\tremaining: 3.6s\n",
      "697:\tlearn: 0.4027196\ttotal: 8.3s\tremaining: 3.59s\n",
      "698:\tlearn: 0.4027173\ttotal: 8.31s\tremaining: 3.58s\n",
      "699:\tlearn: 0.4026786\ttotal: 8.32s\tremaining: 3.56s\n",
      "700:\tlearn: 0.4026078\ttotal: 8.33s\tremaining: 3.56s\n",
      "701:\tlearn: 0.4025521\ttotal: 8.35s\tremaining: 3.54s\n",
      "702:\tlearn: 0.4025271\ttotal: 8.36s\tremaining: 3.53s\n",
      "703:\tlearn: 0.4025055\ttotal: 8.37s\tremaining: 3.52s\n",
      "704:\tlearn: 0.4025009\ttotal: 8.38s\tremaining: 3.51s\n",
      "705:\tlearn: 0.4024733\ttotal: 8.39s\tremaining: 3.5s\n",
      "706:\tlearn: 0.4024284\ttotal: 8.41s\tremaining: 3.48s\n",
      "707:\tlearn: 0.4023828\ttotal: 8.42s\tremaining: 3.47s\n",
      "708:\tlearn: 0.4023515\ttotal: 8.43s\tremaining: 3.46s\n",
      "709:\tlearn: 0.4023135\ttotal: 8.45s\tremaining: 3.45s\n",
      "710:\tlearn: 0.4022753\ttotal: 8.46s\tremaining: 3.44s\n",
      "711:\tlearn: 0.4022463\ttotal: 8.46s\tremaining: 3.42s\n",
      "712:\tlearn: 0.4021216\ttotal: 8.48s\tremaining: 3.41s\n",
      "713:\tlearn: 0.4020808\ttotal: 8.49s\tremaining: 3.4s\n",
      "714:\tlearn: 0.4020175\ttotal: 8.5s\tremaining: 3.39s\n",
      "715:\tlearn: 0.4019664\ttotal: 8.52s\tremaining: 3.38s\n",
      "716:\tlearn: 0.4018943\ttotal: 8.53s\tremaining: 3.37s\n",
      "717:\tlearn: 0.4017818\ttotal: 8.54s\tremaining: 3.35s\n",
      "718:\tlearn: 0.4017683\ttotal: 8.55s\tremaining: 3.34s\n",
      "719:\tlearn: 0.4017361\ttotal: 8.56s\tremaining: 3.33s\n",
      "720:\tlearn: 0.4016807\ttotal: 8.57s\tremaining: 3.32s\n",
      "721:\tlearn: 0.4016671\ttotal: 8.58s\tremaining: 3.3s\n",
      "722:\tlearn: 0.4016612\ttotal: 8.59s\tremaining: 3.29s\n",
      "723:\tlearn: 0.4016571\ttotal: 8.6s\tremaining: 3.28s\n",
      "724:\tlearn: 0.4016048\ttotal: 8.61s\tremaining: 3.27s\n",
      "725:\tlearn: 0.4015277\ttotal: 8.63s\tremaining: 3.26s\n",
      "726:\tlearn: 0.4015067\ttotal: 8.64s\tremaining: 3.24s\n",
      "727:\tlearn: 0.4014855\ttotal: 8.65s\tremaining: 3.23s\n",
      "728:\tlearn: 0.4014554\ttotal: 8.66s\tremaining: 3.22s\n",
      "729:\tlearn: 0.4014093\ttotal: 8.68s\tremaining: 3.21s\n",
      "730:\tlearn: 0.4014047\ttotal: 8.69s\tremaining: 3.2s\n",
      "731:\tlearn: 0.4013463\ttotal: 8.7s\tremaining: 3.19s\n",
      "732:\tlearn: 0.4013192\ttotal: 8.71s\tremaining: 3.17s\n",
      "733:\tlearn: 0.4012773\ttotal: 8.73s\tremaining: 3.16s\n",
      "734:\tlearn: 0.4012640\ttotal: 8.74s\tremaining: 3.15s\n",
      "735:\tlearn: 0.4012271\ttotal: 8.75s\tremaining: 3.14s\n",
      "736:\tlearn: 0.4011597\ttotal: 8.76s\tremaining: 3.13s\n",
      "737:\tlearn: 0.4011058\ttotal: 8.78s\tremaining: 3.12s\n",
      "738:\tlearn: 0.4010463\ttotal: 8.79s\tremaining: 3.1s\n",
      "739:\tlearn: 0.4009999\ttotal: 8.8s\tremaining: 3.09s\n",
      "740:\tlearn: 0.4009960\ttotal: 8.81s\tremaining: 3.08s\n",
      "741:\tlearn: 0.4009774\ttotal: 8.82s\tremaining: 3.07s\n",
      "742:\tlearn: 0.4009418\ttotal: 8.84s\tremaining: 3.06s\n",
      "743:\tlearn: 0.4008721\ttotal: 8.85s\tremaining: 3.04s\n",
      "744:\tlearn: 0.4008270\ttotal: 8.86s\tremaining: 3.03s\n",
      "745:\tlearn: 0.4007474\ttotal: 8.88s\tremaining: 3.02s\n",
      "746:\tlearn: 0.4006861\ttotal: 8.89s\tremaining: 3.01s\n",
      "747:\tlearn: 0.4006591\ttotal: 8.9s\tremaining: 3s\n",
      "748:\tlearn: 0.4006441\ttotal: 8.92s\tremaining: 2.99s\n",
      "749:\tlearn: 0.4005101\ttotal: 8.93s\tremaining: 2.98s\n",
      "750:\tlearn: 0.4004921\ttotal: 8.94s\tremaining: 2.96s\n",
      "751:\tlearn: 0.4004715\ttotal: 8.95s\tremaining: 2.95s\n",
      "752:\tlearn: 0.4003883\ttotal: 8.97s\tremaining: 2.94s\n",
      "753:\tlearn: 0.4003038\ttotal: 8.98s\tremaining: 2.93s\n",
      "754:\tlearn: 0.4001976\ttotal: 8.99s\tremaining: 2.92s\n",
      "755:\tlearn: 0.4001649\ttotal: 9.01s\tremaining: 2.91s\n",
      "756:\tlearn: 0.4001269\ttotal: 9.02s\tremaining: 2.9s\n",
      "757:\tlearn: 0.4000877\ttotal: 9.03s\tremaining: 2.88s\n",
      "758:\tlearn: 0.4000517\ttotal: 9.04s\tremaining: 2.87s\n",
      "759:\tlearn: 0.3999958\ttotal: 9.06s\tremaining: 2.86s\n",
      "760:\tlearn: 0.3999050\ttotal: 9.07s\tremaining: 2.85s\n",
      "761:\tlearn: 0.3998663\ttotal: 9.09s\tremaining: 2.84s\n",
      "762:\tlearn: 0.3998067\ttotal: 9.1s\tremaining: 2.83s\n",
      "763:\tlearn: 0.3997685\ttotal: 9.11s\tremaining: 2.81s\n",
      "764:\tlearn: 0.3996470\ttotal: 9.12s\tremaining: 2.8s\n",
      "765:\tlearn: 0.3995907\ttotal: 9.13s\tremaining: 2.79s\n",
      "766:\tlearn: 0.3994773\ttotal: 9.15s\tremaining: 2.78s\n",
      "767:\tlearn: 0.3994021\ttotal: 9.16s\tremaining: 2.77s\n",
      "768:\tlearn: 0.3993509\ttotal: 9.17s\tremaining: 2.75s\n",
      "769:\tlearn: 0.3993377\ttotal: 9.18s\tremaining: 2.74s\n",
      "770:\tlearn: 0.3993053\ttotal: 9.19s\tremaining: 2.73s\n",
      "771:\tlearn: 0.3992789\ttotal: 9.2s\tremaining: 2.72s\n",
      "772:\tlearn: 0.3992140\ttotal: 9.21s\tremaining: 2.71s\n",
      "773:\tlearn: 0.3991689\ttotal: 9.23s\tremaining: 2.69s\n",
      "774:\tlearn: 0.3991117\ttotal: 9.24s\tremaining: 2.68s\n",
      "775:\tlearn: 0.3990429\ttotal: 9.25s\tremaining: 2.67s\n",
      "776:\tlearn: 0.3990240\ttotal: 9.27s\tremaining: 2.66s\n",
      "777:\tlearn: 0.3989129\ttotal: 9.28s\tremaining: 2.65s\n",
      "778:\tlearn: 0.3988805\ttotal: 9.29s\tremaining: 2.64s\n",
      "779:\tlearn: 0.3988539\ttotal: 9.3s\tremaining: 2.62s\n",
      "780:\tlearn: 0.3988194\ttotal: 9.32s\tremaining: 2.61s\n",
      "781:\tlearn: 0.3988083\ttotal: 9.33s\tremaining: 2.6s\n",
      "782:\tlearn: 0.3987610\ttotal: 9.34s\tremaining: 2.59s\n",
      "783:\tlearn: 0.3987011\ttotal: 9.35s\tremaining: 2.58s\n",
      "784:\tlearn: 0.3986729\ttotal: 9.36s\tremaining: 2.56s\n",
      "785:\tlearn: 0.3986232\ttotal: 9.37s\tremaining: 2.55s\n",
      "786:\tlearn: 0.3985489\ttotal: 9.38s\tremaining: 2.54s\n",
      "787:\tlearn: 0.3985246\ttotal: 9.39s\tremaining: 2.53s\n",
      "788:\tlearn: 0.3984423\ttotal: 9.41s\tremaining: 2.52s\n",
      "789:\tlearn: 0.3983955\ttotal: 9.42s\tremaining: 2.5s\n",
      "790:\tlearn: 0.3983863\ttotal: 9.43s\tremaining: 2.49s\n",
      "791:\tlearn: 0.3982972\ttotal: 9.44s\tremaining: 2.48s\n",
      "792:\tlearn: 0.3982590\ttotal: 9.46s\tremaining: 2.47s\n",
      "793:\tlearn: 0.3982362\ttotal: 9.47s\tremaining: 2.46s\n",
      "794:\tlearn: 0.3982135\ttotal: 9.48s\tremaining: 2.44s\n",
      "795:\tlearn: 0.3981800\ttotal: 9.49s\tremaining: 2.43s\n",
      "796:\tlearn: 0.3981147\ttotal: 9.5s\tremaining: 2.42s\n",
      "797:\tlearn: 0.3981052\ttotal: 9.51s\tremaining: 2.41s\n",
      "798:\tlearn: 0.3979730\ttotal: 9.52s\tremaining: 2.4s\n",
      "799:\tlearn: 0.3978575\ttotal: 9.54s\tremaining: 2.38s\n",
      "800:\tlearn: 0.3977986\ttotal: 9.55s\tremaining: 2.37s\n",
      "801:\tlearn: 0.3977349\ttotal: 9.56s\tremaining: 2.36s\n",
      "802:\tlearn: 0.3977098\ttotal: 9.57s\tremaining: 2.35s\n",
      "803:\tlearn: 0.3976038\ttotal: 9.59s\tremaining: 2.34s\n",
      "804:\tlearn: 0.3975117\ttotal: 9.6s\tremaining: 2.32s\n",
      "805:\tlearn: 0.3974920\ttotal: 9.61s\tremaining: 2.31s\n",
      "806:\tlearn: 0.3974578\ttotal: 9.62s\tremaining: 2.3s\n",
      "807:\tlearn: 0.3973957\ttotal: 9.63s\tremaining: 2.29s\n",
      "808:\tlearn: 0.3973551\ttotal: 9.64s\tremaining: 2.28s\n",
      "809:\tlearn: 0.3973173\ttotal: 9.65s\tremaining: 2.26s\n",
      "810:\tlearn: 0.3972905\ttotal: 9.66s\tremaining: 2.25s\n",
      "811:\tlearn: 0.3972824\ttotal: 9.67s\tremaining: 2.24s\n",
      "812:\tlearn: 0.3972278\ttotal: 9.68s\tremaining: 2.23s\n",
      "813:\tlearn: 0.3971844\ttotal: 9.7s\tremaining: 2.21s\n",
      "814:\tlearn: 0.3971363\ttotal: 9.71s\tremaining: 2.2s\n",
      "815:\tlearn: 0.3970979\ttotal: 9.72s\tremaining: 2.19s\n",
      "816:\tlearn: 0.3970594\ttotal: 9.73s\tremaining: 2.18s\n",
      "817:\tlearn: 0.3970050\ttotal: 9.74s\tremaining: 2.17s\n",
      "818:\tlearn: 0.3969917\ttotal: 9.75s\tremaining: 2.15s\n",
      "819:\tlearn: 0.3969788\ttotal: 9.76s\tremaining: 2.14s\n",
      "820:\tlearn: 0.3968904\ttotal: 9.78s\tremaining: 2.13s\n",
      "821:\tlearn: 0.3967963\ttotal: 9.79s\tremaining: 2.12s\n",
      "822:\tlearn: 0.3967484\ttotal: 9.8s\tremaining: 2.11s\n",
      "823:\tlearn: 0.3967068\ttotal: 9.81s\tremaining: 2.1s\n",
      "824:\tlearn: 0.3966877\ttotal: 9.82s\tremaining: 2.08s\n",
      "825:\tlearn: 0.3966667\ttotal: 9.83s\tremaining: 2.07s\n",
      "826:\tlearn: 0.3965888\ttotal: 9.84s\tremaining: 2.06s\n",
      "827:\tlearn: 0.3965746\ttotal: 9.85s\tremaining: 2.05s\n",
      "828:\tlearn: 0.3965363\ttotal: 9.87s\tremaining: 2.04s\n",
      "829:\tlearn: 0.3965174\ttotal: 9.88s\tremaining: 2.02s\n",
      "830:\tlearn: 0.3964888\ttotal: 9.89s\tremaining: 2.01s\n",
      "831:\tlearn: 0.3964856\ttotal: 9.9s\tremaining: 2s\n",
      "832:\tlearn: 0.3964456\ttotal: 9.91s\tremaining: 1.99s\n",
      "833:\tlearn: 0.3963956\ttotal: 9.93s\tremaining: 1.98s\n",
      "834:\tlearn: 0.3963741\ttotal: 9.94s\tremaining: 1.96s\n",
      "835:\tlearn: 0.3963495\ttotal: 9.95s\tremaining: 1.95s\n",
      "836:\tlearn: 0.3962873\ttotal: 9.97s\tremaining: 1.94s\n",
      "837:\tlearn: 0.3962459\ttotal: 9.98s\tremaining: 1.93s\n",
      "838:\tlearn: 0.3961856\ttotal: 9.99s\tremaining: 1.92s\n",
      "839:\tlearn: 0.3961042\ttotal: 10s\tremaining: 1.91s\n",
      "840:\tlearn: 0.3960440\ttotal: 10s\tremaining: 1.89s\n",
      "841:\tlearn: 0.3960280\ttotal: 10s\tremaining: 1.88s\n",
      "842:\tlearn: 0.3960106\ttotal: 10s\tremaining: 1.87s\n",
      "843:\tlearn: 0.3959854\ttotal: 10s\tremaining: 1.86s\n",
      "844:\tlearn: 0.3958903\ttotal: 10.1s\tremaining: 1.84s\n",
      "845:\tlearn: 0.3958230\ttotal: 10.1s\tremaining: 1.83s\n",
      "846:\tlearn: 0.3957486\ttotal: 10.1s\tremaining: 1.82s\n",
      "847:\tlearn: 0.3957291\ttotal: 10.1s\tremaining: 1.81s\n",
      "848:\tlearn: 0.3957108\ttotal: 10.1s\tremaining: 1.8s\n",
      "849:\tlearn: 0.3956483\ttotal: 10.1s\tremaining: 1.78s\n",
      "850:\tlearn: 0.3956301\ttotal: 10.1s\tremaining: 1.77s\n",
      "851:\tlearn: 0.3956033\ttotal: 10.1s\tremaining: 1.76s\n",
      "852:\tlearn: 0.3955682\ttotal: 10.2s\tremaining: 1.75s\n",
      "853:\tlearn: 0.3955478\ttotal: 10.2s\tremaining: 1.74s\n",
      "854:\tlearn: 0.3955258\ttotal: 10.2s\tremaining: 1.73s\n",
      "855:\tlearn: 0.3955234\ttotal: 10.2s\tremaining: 1.71s\n",
      "856:\tlearn: 0.3954960\ttotal: 10.2s\tremaining: 1.7s\n",
      "857:\tlearn: 0.3954559\ttotal: 10.2s\tremaining: 1.69s\n",
      "858:\tlearn: 0.3954361\ttotal: 10.2s\tremaining: 1.68s\n",
      "859:\tlearn: 0.3954079\ttotal: 10.2s\tremaining: 1.67s\n",
      "860:\tlearn: 0.3953056\ttotal: 10.3s\tremaining: 1.66s\n",
      "861:\tlearn: 0.3952868\ttotal: 10.3s\tremaining: 1.64s\n",
      "862:\tlearn: 0.3952409\ttotal: 10.3s\tremaining: 1.63s\n",
      "863:\tlearn: 0.3952210\ttotal: 10.3s\tremaining: 1.62s\n",
      "864:\tlearn: 0.3951373\ttotal: 10.3s\tremaining: 1.61s\n",
      "865:\tlearn: 0.3950809\ttotal: 10.3s\tremaining: 1.59s\n",
      "866:\tlearn: 0.3950663\ttotal: 10.3s\tremaining: 1.58s\n",
      "867:\tlearn: 0.3950103\ttotal: 10.3s\tremaining: 1.57s\n",
      "868:\tlearn: 0.3949564\ttotal: 10.4s\tremaining: 1.56s\n",
      "869:\tlearn: 0.3949163\ttotal: 10.4s\tremaining: 1.55s\n",
      "870:\tlearn: 0.3948819\ttotal: 10.4s\tremaining: 1.54s\n",
      "871:\tlearn: 0.3948554\ttotal: 10.4s\tremaining: 1.52s\n",
      "872:\tlearn: 0.3948405\ttotal: 10.4s\tremaining: 1.51s\n",
      "873:\tlearn: 0.3948216\ttotal: 10.4s\tremaining: 1.5s\n",
      "874:\tlearn: 0.3947817\ttotal: 10.4s\tremaining: 1.49s\n",
      "875:\tlearn: 0.3947309\ttotal: 10.4s\tremaining: 1.48s\n",
      "876:\tlearn: 0.3946680\ttotal: 10.5s\tremaining: 1.47s\n",
      "877:\tlearn: 0.3946235\ttotal: 10.5s\tremaining: 1.46s\n",
      "878:\tlearn: 0.3945639\ttotal: 10.5s\tremaining: 1.44s\n",
      "879:\tlearn: 0.3945308\ttotal: 10.5s\tremaining: 1.43s\n",
      "880:\tlearn: 0.3944984\ttotal: 10.5s\tremaining: 1.42s\n",
      "881:\tlearn: 0.3943641\ttotal: 10.5s\tremaining: 1.41s\n",
      "882:\tlearn: 0.3943470\ttotal: 10.5s\tremaining: 1.4s\n",
      "883:\tlearn: 0.3943336\ttotal: 10.5s\tremaining: 1.38s\n",
      "884:\tlearn: 0.3942524\ttotal: 10.6s\tremaining: 1.37s\n",
      "885:\tlearn: 0.3942137\ttotal: 10.6s\tremaining: 1.36s\n",
      "886:\tlearn: 0.3941660\ttotal: 10.6s\tremaining: 1.35s\n",
      "887:\tlearn: 0.3941313\ttotal: 10.6s\tremaining: 1.34s\n",
      "888:\tlearn: 0.3941280\ttotal: 10.6s\tremaining: 1.32s\n",
      "889:\tlearn: 0.3940574\ttotal: 10.6s\tremaining: 1.31s\n",
      "890:\tlearn: 0.3939655\ttotal: 10.6s\tremaining: 1.3s\n",
      "891:\tlearn: 0.3939304\ttotal: 10.6s\tremaining: 1.29s\n",
      "892:\tlearn: 0.3939176\ttotal: 10.7s\tremaining: 1.28s\n",
      "893:\tlearn: 0.3938385\ttotal: 10.7s\tremaining: 1.26s\n",
      "894:\tlearn: 0.3937988\ttotal: 10.7s\tremaining: 1.25s\n",
      "895:\tlearn: 0.3937942\ttotal: 10.7s\tremaining: 1.24s\n",
      "896:\tlearn: 0.3937769\ttotal: 10.7s\tremaining: 1.23s\n",
      "897:\tlearn: 0.3937671\ttotal: 10.7s\tremaining: 1.22s\n",
      "898:\tlearn: 0.3937464\ttotal: 10.7s\tremaining: 1.2s\n",
      "899:\tlearn: 0.3937015\ttotal: 10.7s\tremaining: 1.19s\n",
      "900:\tlearn: 0.3936691\ttotal: 10.7s\tremaining: 1.18s\n",
      "901:\tlearn: 0.3936555\ttotal: 10.7s\tremaining: 1.17s\n",
      "902:\tlearn: 0.3936046\ttotal: 10.8s\tremaining: 1.16s\n",
      "903:\tlearn: 0.3935890\ttotal: 10.8s\tremaining: 1.14s\n",
      "904:\tlearn: 0.3935451\ttotal: 10.8s\tremaining: 1.13s\n",
      "905:\tlearn: 0.3934886\ttotal: 10.8s\tremaining: 1.12s\n",
      "906:\tlearn: 0.3934485\ttotal: 10.8s\tremaining: 1.11s\n",
      "907:\tlearn: 0.3934268\ttotal: 10.8s\tremaining: 1.09s\n",
      "908:\tlearn: 0.3934063\ttotal: 10.8s\tremaining: 1.08s\n",
      "909:\tlearn: 0.3933577\ttotal: 10.8s\tremaining: 1.07s\n",
      "910:\tlearn: 0.3933172\ttotal: 10.8s\tremaining: 1.06s\n",
      "911:\tlearn: 0.3932960\ttotal: 10.9s\tremaining: 1.05s\n",
      "912:\tlearn: 0.3932788\ttotal: 10.9s\tremaining: 1.03s\n",
      "913:\tlearn: 0.3932717\ttotal: 10.9s\tremaining: 1.02s\n",
      "914:\tlearn: 0.3931854\ttotal: 10.9s\tremaining: 1.01s\n",
      "915:\tlearn: 0.3931239\ttotal: 10.9s\tremaining: 1000ms\n",
      "916:\tlearn: 0.3930936\ttotal: 10.9s\tremaining: 988ms\n",
      "917:\tlearn: 0.3930640\ttotal: 10.9s\tremaining: 976ms\n",
      "918:\tlearn: 0.3930055\ttotal: 10.9s\tremaining: 964ms\n",
      "919:\tlearn: 0.3929866\ttotal: 10.9s\tremaining: 952ms\n",
      "920:\tlearn: 0.3929120\ttotal: 11s\tremaining: 940ms\n",
      "921:\tlearn: 0.3928543\ttotal: 11s\tremaining: 928ms\n",
      "922:\tlearn: 0.3927994\ttotal: 11s\tremaining: 916ms\n",
      "923:\tlearn: 0.3927852\ttotal: 11s\tremaining: 904ms\n",
      "924:\tlearn: 0.3927689\ttotal: 11s\tremaining: 892ms\n",
      "925:\tlearn: 0.3927401\ttotal: 11s\tremaining: 880ms\n",
      "926:\tlearn: 0.3927108\ttotal: 11s\tremaining: 868ms\n",
      "927:\tlearn: 0.3926923\ttotal: 11s\tremaining: 856ms\n",
      "928:\tlearn: 0.3926621\ttotal: 11s\tremaining: 844ms\n",
      "929:\tlearn: 0.3926490\ttotal: 11.1s\tremaining: 832ms\n",
      "930:\tlearn: 0.3926015\ttotal: 11.1s\tremaining: 820ms\n",
      "931:\tlearn: 0.3925323\ttotal: 11.1s\tremaining: 808ms\n",
      "932:\tlearn: 0.3925237\ttotal: 11.1s\tremaining: 796ms\n",
      "933:\tlearn: 0.3924947\ttotal: 11.1s\tremaining: 784ms\n",
      "934:\tlearn: 0.3924671\ttotal: 11.1s\tremaining: 773ms\n",
      "935:\tlearn: 0.3924580\ttotal: 11.1s\tremaining: 760ms\n",
      "936:\tlearn: 0.3924289\ttotal: 11.1s\tremaining: 749ms\n",
      "937:\tlearn: 0.3923541\ttotal: 11.1s\tremaining: 737ms\n",
      "938:\tlearn: 0.3922401\ttotal: 11.2s\tremaining: 725ms\n",
      "939:\tlearn: 0.3921890\ttotal: 11.2s\tremaining: 713ms\n",
      "940:\tlearn: 0.3921158\ttotal: 11.2s\tremaining: 701ms\n",
      "941:\tlearn: 0.3921001\ttotal: 11.2s\tremaining: 689ms\n",
      "942:\tlearn: 0.3920721\ttotal: 11.2s\tremaining: 677ms\n",
      "943:\tlearn: 0.3920493\ttotal: 11.2s\tremaining: 665ms\n",
      "944:\tlearn: 0.3919791\ttotal: 11.2s\tremaining: 654ms\n",
      "945:\tlearn: 0.3919616\ttotal: 11.2s\tremaining: 642ms\n",
      "946:\tlearn: 0.3919167\ttotal: 11.3s\tremaining: 630ms\n",
      "947:\tlearn: 0.3918712\ttotal: 11.3s\tremaining: 618ms\n",
      "948:\tlearn: 0.3918239\ttotal: 11.3s\tremaining: 606ms\n",
      "949:\tlearn: 0.3917679\ttotal: 11.3s\tremaining: 594ms\n",
      "950:\tlearn: 0.3917549\ttotal: 11.3s\tremaining: 582ms\n",
      "951:\tlearn: 0.3917067\ttotal: 11.3s\tremaining: 571ms\n",
      "952:\tlearn: 0.3917025\ttotal: 11.3s\tremaining: 559ms\n",
      "953:\tlearn: 0.3916798\ttotal: 11.3s\tremaining: 547ms\n",
      "954:\tlearn: 0.3915956\ttotal: 11.3s\tremaining: 535ms\n",
      "955:\tlearn: 0.3915374\ttotal: 11.4s\tremaining: 523ms\n",
      "956:\tlearn: 0.3915076\ttotal: 11.4s\tremaining: 511ms\n",
      "957:\tlearn: 0.3914413\ttotal: 11.4s\tremaining: 499ms\n",
      "958:\tlearn: 0.3914015\ttotal: 11.4s\tremaining: 487ms\n",
      "959:\tlearn: 0.3913838\ttotal: 11.4s\tremaining: 475ms\n",
      "960:\tlearn: 0.3913547\ttotal: 11.4s\tremaining: 464ms\n",
      "961:\tlearn: 0.3913420\ttotal: 11.4s\tremaining: 452ms\n",
      "962:\tlearn: 0.3913189\ttotal: 11.4s\tremaining: 440ms\n",
      "963:\tlearn: 0.3912159\ttotal: 11.5s\tremaining: 428ms\n",
      "964:\tlearn: 0.3911729\ttotal: 11.5s\tremaining: 416ms\n",
      "965:\tlearn: 0.3911351\ttotal: 11.5s\tremaining: 404ms\n",
      "966:\tlearn: 0.3910631\ttotal: 11.5s\tremaining: 392ms\n",
      "967:\tlearn: 0.3910586\ttotal: 11.5s\tremaining: 380ms\n",
      "968:\tlearn: 0.3910211\ttotal: 11.5s\tremaining: 368ms\n",
      "969:\tlearn: 0.3909965\ttotal: 11.5s\tremaining: 356ms\n",
      "970:\tlearn: 0.3909729\ttotal: 11.5s\tremaining: 345ms\n",
      "971:\tlearn: 0.3909335\ttotal: 11.5s\tremaining: 333ms\n",
      "972:\tlearn: 0.3908921\ttotal: 11.6s\tremaining: 321ms\n",
      "973:\tlearn: 0.3908736\ttotal: 11.6s\tremaining: 309ms\n",
      "974:\tlearn: 0.3908060\ttotal: 11.6s\tremaining: 297ms\n",
      "975:\tlearn: 0.3907835\ttotal: 11.6s\tremaining: 285ms\n",
      "976:\tlearn: 0.3907654\ttotal: 11.6s\tremaining: 273ms\n",
      "977:\tlearn: 0.3906905\ttotal: 11.6s\tremaining: 261ms\n",
      "978:\tlearn: 0.3906785\ttotal: 11.6s\tremaining: 249ms\n",
      "979:\tlearn: 0.3906293\ttotal: 11.6s\tremaining: 237ms\n",
      "980:\tlearn: 0.3906152\ttotal: 11.6s\tremaining: 226ms\n",
      "981:\tlearn: 0.3905586\ttotal: 11.7s\tremaining: 214ms\n",
      "982:\tlearn: 0.3905276\ttotal: 11.7s\tremaining: 202ms\n",
      "983:\tlearn: 0.3905070\ttotal: 11.7s\tremaining: 190ms\n",
      "984:\tlearn: 0.3904678\ttotal: 11.7s\tremaining: 178ms\n",
      "985:\tlearn: 0.3904375\ttotal: 11.7s\tremaining: 166ms\n",
      "986:\tlearn: 0.3903907\ttotal: 11.7s\tremaining: 154ms\n",
      "987:\tlearn: 0.3903497\ttotal: 11.7s\tremaining: 143ms\n",
      "988:\tlearn: 0.3902376\ttotal: 11.7s\tremaining: 131ms\n",
      "989:\tlearn: 0.3902200\ttotal: 11.8s\tremaining: 119ms\n",
      "990:\tlearn: 0.3901724\ttotal: 11.8s\tremaining: 107ms\n",
      "991:\tlearn: 0.3901569\ttotal: 11.8s\tremaining: 95ms\n",
      "992:\tlearn: 0.3900612\ttotal: 11.8s\tremaining: 83.2ms\n",
      "993:\tlearn: 0.3900513\ttotal: 11.8s\tremaining: 71.3ms\n",
      "994:\tlearn: 0.3900326\ttotal: 11.8s\tremaining: 59.4ms\n",
      "995:\tlearn: 0.3900113\ttotal: 11.8s\tremaining: 47.5ms\n",
      "996:\tlearn: 0.3899877\ttotal: 11.8s\tremaining: 35.6ms\n",
      "997:\tlearn: 0.3899736\ttotal: 11.8s\tremaining: 23.7ms\n",
      "998:\tlearn: 0.3898532\ttotal: 11.9s\tremaining: 11.9ms\n",
      "999:\tlearn: 0.3898213\ttotal: 11.9s\tremaining: 0us\n",
      "Fold 2\n",
      "Learning rate set to 0.097881\n",
      "0:\tlearn: 0.9957944\ttotal: 15.9ms\tremaining: 15.9s\n",
      "1:\tlearn: 0.9178232\ttotal: 29.4ms\tremaining: 14.7s\n",
      "2:\tlearn: 0.8559642\ttotal: 42.4ms\tremaining: 14.1s\n",
      "3:\tlearn: 0.8047698\ttotal: 57.2ms\tremaining: 14.2s\n",
      "4:\tlearn: 0.7618022\ttotal: 71ms\tremaining: 14.1s\n",
      "5:\tlearn: 0.7270992\ttotal: 85.8ms\tremaining: 14.2s\n",
      "6:\tlearn: 0.6969869\ttotal: 100ms\tremaining: 14.2s\n",
      "7:\tlearn: 0.6710280\ttotal: 115ms\tremaining: 14.2s\n",
      "8:\tlearn: 0.6483228\ttotal: 130ms\tremaining: 14.3s\n",
      "9:\tlearn: 0.6289615\ttotal: 144ms\tremaining: 14.2s\n",
      "10:\tlearn: 0.6120240\ttotal: 160ms\tremaining: 14.3s\n",
      "11:\tlearn: 0.5972333\ttotal: 175ms\tremaining: 14.4s\n",
      "12:\tlearn: 0.5841570\ttotal: 190ms\tremaining: 14.4s\n",
      "13:\tlearn: 0.5732524\ttotal: 208ms\tremaining: 14.6s\n",
      "14:\tlearn: 0.5624013\ttotal: 228ms\tremaining: 14.9s\n",
      "15:\tlearn: 0.5533376\ttotal: 252ms\tremaining: 15.5s\n",
      "16:\tlearn: 0.5449620\ttotal: 271ms\tremaining: 15.7s\n",
      "17:\tlearn: 0.5382242\ttotal: 289ms\tremaining: 15.7s\n",
      "18:\tlearn: 0.5320388\ttotal: 306ms\tremaining: 15.8s\n",
      "19:\tlearn: 0.5260183\ttotal: 322ms\tremaining: 15.8s\n",
      "20:\tlearn: 0.5208659\ttotal: 338ms\tremaining: 15.7s\n",
      "21:\tlearn: 0.5160483\ttotal: 355ms\tremaining: 15.8s\n",
      "22:\tlearn: 0.5118324\ttotal: 368ms\tremaining: 15.6s\n",
      "23:\tlearn: 0.5076963\ttotal: 383ms\tremaining: 15.6s\n",
      "24:\tlearn: 0.5045979\ttotal: 396ms\tremaining: 15.4s\n",
      "25:\tlearn: 0.5017665\ttotal: 411ms\tremaining: 15.4s\n",
      "26:\tlearn: 0.4987774\ttotal: 428ms\tremaining: 15.4s\n",
      "27:\tlearn: 0.4960338\ttotal: 445ms\tremaining: 15.5s\n",
      "28:\tlearn: 0.4933368\ttotal: 459ms\tremaining: 15.4s\n",
      "29:\tlearn: 0.4910358\ttotal: 477ms\tremaining: 15.4s\n",
      "30:\tlearn: 0.4888450\ttotal: 492ms\tremaining: 15.4s\n",
      "31:\tlearn: 0.4866454\ttotal: 504ms\tremaining: 15.3s\n",
      "32:\tlearn: 0.4849583\ttotal: 517ms\tremaining: 15.1s\n",
      "33:\tlearn: 0.4831129\ttotal: 530ms\tremaining: 15.1s\n",
      "34:\tlearn: 0.4814545\ttotal: 542ms\tremaining: 14.9s\n",
      "35:\tlearn: 0.4800261\ttotal: 555ms\tremaining: 14.8s\n",
      "36:\tlearn: 0.4787488\ttotal: 568ms\tremaining: 14.8s\n",
      "37:\tlearn: 0.4773194\ttotal: 582ms\tremaining: 14.7s\n",
      "38:\tlearn: 0.4761250\ttotal: 594ms\tremaining: 14.6s\n",
      "39:\tlearn: 0.4750871\ttotal: 608ms\tremaining: 14.6s\n",
      "40:\tlearn: 0.4741725\ttotal: 621ms\tremaining: 14.5s\n",
      "41:\tlearn: 0.4732842\ttotal: 633ms\tremaining: 14.4s\n",
      "42:\tlearn: 0.4723463\ttotal: 645ms\tremaining: 14.4s\n",
      "43:\tlearn: 0.4716319\ttotal: 658ms\tremaining: 14.3s\n",
      "44:\tlearn: 0.4707726\ttotal: 671ms\tremaining: 14.2s\n",
      "45:\tlearn: 0.4700103\ttotal: 684ms\tremaining: 14.2s\n",
      "46:\tlearn: 0.4692961\ttotal: 695ms\tremaining: 14.1s\n",
      "47:\tlearn: 0.4687654\ttotal: 708ms\tremaining: 14s\n",
      "48:\tlearn: 0.4678264\ttotal: 722ms\tremaining: 14s\n",
      "49:\tlearn: 0.4669729\ttotal: 734ms\tremaining: 13.9s\n",
      "50:\tlearn: 0.4665265\ttotal: 749ms\tremaining: 13.9s\n",
      "51:\tlearn: 0.4658345\ttotal: 762ms\tremaining: 13.9s\n",
      "52:\tlearn: 0.4651101\ttotal: 773ms\tremaining: 13.8s\n",
      "53:\tlearn: 0.4645495\ttotal: 785ms\tremaining: 13.8s\n",
      "54:\tlearn: 0.4639370\ttotal: 800ms\tremaining: 13.7s\n",
      "55:\tlearn: 0.4634777\ttotal: 812ms\tremaining: 13.7s\n",
      "56:\tlearn: 0.4628465\ttotal: 824ms\tremaining: 13.6s\n",
      "57:\tlearn: 0.4624660\ttotal: 835ms\tremaining: 13.6s\n",
      "58:\tlearn: 0.4618569\ttotal: 847ms\tremaining: 13.5s\n",
      "59:\tlearn: 0.4614227\ttotal: 863ms\tremaining: 13.5s\n",
      "60:\tlearn: 0.4608967\ttotal: 877ms\tremaining: 13.5s\n",
      "61:\tlearn: 0.4604958\ttotal: 892ms\tremaining: 13.5s\n",
      "62:\tlearn: 0.4600841\ttotal: 905ms\tremaining: 13.5s\n",
      "63:\tlearn: 0.4598315\ttotal: 916ms\tremaining: 13.4s\n",
      "64:\tlearn: 0.4595244\ttotal: 926ms\tremaining: 13.3s\n",
      "65:\tlearn: 0.4591824\ttotal: 938ms\tremaining: 13.3s\n",
      "66:\tlearn: 0.4588493\ttotal: 951ms\tremaining: 13.2s\n",
      "67:\tlearn: 0.4585309\ttotal: 964ms\tremaining: 13.2s\n",
      "68:\tlearn: 0.4582609\ttotal: 978ms\tremaining: 13.2s\n",
      "69:\tlearn: 0.4579023\ttotal: 992ms\tremaining: 13.2s\n",
      "70:\tlearn: 0.4574654\ttotal: 1s\tremaining: 13.2s\n",
      "71:\tlearn: 0.4571028\ttotal: 1.02s\tremaining: 13.1s\n",
      "72:\tlearn: 0.4567619\ttotal: 1.03s\tremaining: 13.1s\n",
      "73:\tlearn: 0.4563404\ttotal: 1.05s\tremaining: 13.1s\n",
      "74:\tlearn: 0.4559546\ttotal: 1.06s\tremaining: 13.1s\n",
      "75:\tlearn: 0.4555470\ttotal: 1.07s\tremaining: 13.1s\n",
      "76:\tlearn: 0.4552133\ttotal: 1.08s\tremaining: 13s\n",
      "77:\tlearn: 0.4548200\ttotal: 1.1s\tremaining: 13s\n",
      "78:\tlearn: 0.4546057\ttotal: 1.11s\tremaining: 12.9s\n",
      "79:\tlearn: 0.4543967\ttotal: 1.12s\tremaining: 12.9s\n",
      "80:\tlearn: 0.4540651\ttotal: 1.13s\tremaining: 12.9s\n",
      "81:\tlearn: 0.4538993\ttotal: 1.14s\tremaining: 12.8s\n",
      "82:\tlearn: 0.4534662\ttotal: 1.16s\tremaining: 12.8s\n",
      "83:\tlearn: 0.4531443\ttotal: 1.17s\tremaining: 12.8s\n",
      "84:\tlearn: 0.4528883\ttotal: 1.18s\tremaining: 12.7s\n",
      "85:\tlearn: 0.4525845\ttotal: 1.19s\tremaining: 12.7s\n",
      "86:\tlearn: 0.4523125\ttotal: 1.21s\tremaining: 12.7s\n",
      "87:\tlearn: 0.4518248\ttotal: 1.22s\tremaining: 12.6s\n",
      "88:\tlearn: 0.4515540\ttotal: 1.23s\tremaining: 12.6s\n",
      "89:\tlearn: 0.4513155\ttotal: 1.24s\tremaining: 12.6s\n",
      "90:\tlearn: 0.4510369\ttotal: 1.25s\tremaining: 12.5s\n",
      "91:\tlearn: 0.4506809\ttotal: 1.27s\tremaining: 12.5s\n",
      "92:\tlearn: 0.4504360\ttotal: 1.28s\tremaining: 12.5s\n",
      "93:\tlearn: 0.4502107\ttotal: 1.29s\tremaining: 12.5s\n",
      "94:\tlearn: 0.4500271\ttotal: 1.3s\tremaining: 12.4s\n",
      "95:\tlearn: 0.4497055\ttotal: 1.32s\tremaining: 12.4s\n",
      "96:\tlearn: 0.4492450\ttotal: 1.33s\tremaining: 12.4s\n",
      "97:\tlearn: 0.4490167\ttotal: 1.34s\tremaining: 12.4s\n",
      "98:\tlearn: 0.4488765\ttotal: 1.35s\tremaining: 12.3s\n",
      "99:\tlearn: 0.4487224\ttotal: 1.36s\tremaining: 12.3s\n",
      "100:\tlearn: 0.4485300\ttotal: 1.38s\tremaining: 12.2s\n",
      "101:\tlearn: 0.4483814\ttotal: 1.39s\tremaining: 12.2s\n",
      "102:\tlearn: 0.4482460\ttotal: 1.4s\tremaining: 12.2s\n",
      "103:\tlearn: 0.4480529\ttotal: 1.41s\tremaining: 12.1s\n",
      "104:\tlearn: 0.4477928\ttotal: 1.42s\tremaining: 12.1s\n",
      "105:\tlearn: 0.4475250\ttotal: 1.44s\tremaining: 12.1s\n",
      "106:\tlearn: 0.4472951\ttotal: 1.45s\tremaining: 12.1s\n",
      "107:\tlearn: 0.4471151\ttotal: 1.46s\tremaining: 12.1s\n",
      "108:\tlearn: 0.4469599\ttotal: 1.47s\tremaining: 12s\n",
      "109:\tlearn: 0.4468427\ttotal: 1.48s\tremaining: 12s\n",
      "110:\tlearn: 0.4466543\ttotal: 1.49s\tremaining: 12s\n",
      "111:\tlearn: 0.4465399\ttotal: 1.5s\tremaining: 11.9s\n",
      "112:\tlearn: 0.4464032\ttotal: 1.51s\tremaining: 11.9s\n",
      "113:\tlearn: 0.4462457\ttotal: 1.52s\tremaining: 11.8s\n",
      "114:\tlearn: 0.4460017\ttotal: 1.54s\tremaining: 11.8s\n",
      "115:\tlearn: 0.4457597\ttotal: 1.55s\tremaining: 11.8s\n",
      "116:\tlearn: 0.4455876\ttotal: 1.56s\tremaining: 11.8s\n",
      "117:\tlearn: 0.4454366\ttotal: 1.57s\tremaining: 11.7s\n",
      "118:\tlearn: 0.4452279\ttotal: 1.58s\tremaining: 11.7s\n",
      "119:\tlearn: 0.4449518\ttotal: 1.6s\tremaining: 11.7s\n",
      "120:\tlearn: 0.4445197\ttotal: 1.61s\tremaining: 11.7s\n",
      "121:\tlearn: 0.4443088\ttotal: 1.62s\tremaining: 11.7s\n",
      "122:\tlearn: 0.4442426\ttotal: 1.63s\tremaining: 11.6s\n",
      "123:\tlearn: 0.4440928\ttotal: 1.65s\tremaining: 11.6s\n",
      "124:\tlearn: 0.4438565\ttotal: 1.66s\tremaining: 11.6s\n",
      "125:\tlearn: 0.4437138\ttotal: 1.67s\tremaining: 11.6s\n",
      "126:\tlearn: 0.4434783\ttotal: 1.68s\tremaining: 11.5s\n",
      "127:\tlearn: 0.4433898\ttotal: 1.69s\tremaining: 11.5s\n",
      "128:\tlearn: 0.4432664\ttotal: 1.7s\tremaining: 11.5s\n",
      "129:\tlearn: 0.4428907\ttotal: 1.72s\tremaining: 11.5s\n",
      "130:\tlearn: 0.4428136\ttotal: 1.73s\tremaining: 11.5s\n",
      "131:\tlearn: 0.4426673\ttotal: 1.74s\tremaining: 11.4s\n",
      "132:\tlearn: 0.4425632\ttotal: 1.75s\tremaining: 11.4s\n",
      "133:\tlearn: 0.4424185\ttotal: 1.76s\tremaining: 11.4s\n",
      "134:\tlearn: 0.4420209\ttotal: 1.78s\tremaining: 11.4s\n",
      "135:\tlearn: 0.4417702\ttotal: 1.79s\tremaining: 11.4s\n",
      "136:\tlearn: 0.4417022\ttotal: 1.8s\tremaining: 11.3s\n",
      "137:\tlearn: 0.4415999\ttotal: 1.81s\tremaining: 11.3s\n",
      "138:\tlearn: 0.4412974\ttotal: 1.82s\tremaining: 11.3s\n",
      "139:\tlearn: 0.4411946\ttotal: 1.83s\tremaining: 11.3s\n",
      "140:\tlearn: 0.4409624\ttotal: 1.84s\tremaining: 11.2s\n",
      "141:\tlearn: 0.4408687\ttotal: 1.85s\tremaining: 11.2s\n",
      "142:\tlearn: 0.4406790\ttotal: 1.87s\tremaining: 11.2s\n",
      "143:\tlearn: 0.4405142\ttotal: 1.88s\tremaining: 11.2s\n",
      "144:\tlearn: 0.4402869\ttotal: 1.89s\tremaining: 11.1s\n",
      "145:\tlearn: 0.4401457\ttotal: 1.9s\tremaining: 11.1s\n",
      "146:\tlearn: 0.4399419\ttotal: 1.91s\tremaining: 11.1s\n",
      "147:\tlearn: 0.4397869\ttotal: 1.93s\tremaining: 11.1s\n",
      "148:\tlearn: 0.4397119\ttotal: 1.94s\tremaining: 11.1s\n",
      "149:\tlearn: 0.4395944\ttotal: 1.95s\tremaining: 11s\n",
      "150:\tlearn: 0.4394598\ttotal: 1.96s\tremaining: 11s\n",
      "151:\tlearn: 0.4393174\ttotal: 1.97s\tremaining: 11s\n",
      "152:\tlearn: 0.4391629\ttotal: 1.99s\tremaining: 11s\n",
      "153:\tlearn: 0.4389976\ttotal: 2s\tremaining: 11s\n",
      "154:\tlearn: 0.4388819\ttotal: 2.01s\tremaining: 10.9s\n",
      "155:\tlearn: 0.4387650\ttotal: 2.02s\tremaining: 10.9s\n",
      "156:\tlearn: 0.4386548\ttotal: 2.03s\tremaining: 10.9s\n",
      "157:\tlearn: 0.4384464\ttotal: 2.04s\tremaining: 10.9s\n",
      "158:\tlearn: 0.4383684\ttotal: 2.05s\tremaining: 10.9s\n",
      "159:\tlearn: 0.4382531\ttotal: 2.06s\tremaining: 10.8s\n",
      "160:\tlearn: 0.4381552\ttotal: 2.08s\tremaining: 10.8s\n",
      "161:\tlearn: 0.4379665\ttotal: 2.08s\tremaining: 10.8s\n",
      "162:\tlearn: 0.4379068\ttotal: 2.1s\tremaining: 10.8s\n",
      "163:\tlearn: 0.4377706\ttotal: 2.11s\tremaining: 10.7s\n",
      "164:\tlearn: 0.4376139\ttotal: 2.12s\tremaining: 10.7s\n",
      "165:\tlearn: 0.4374945\ttotal: 2.13s\tremaining: 10.7s\n",
      "166:\tlearn: 0.4373356\ttotal: 2.14s\tremaining: 10.7s\n",
      "167:\tlearn: 0.4371739\ttotal: 2.15s\tremaining: 10.7s\n",
      "168:\tlearn: 0.4370083\ttotal: 2.17s\tremaining: 10.6s\n",
      "169:\tlearn: 0.4368728\ttotal: 2.18s\tremaining: 10.6s\n",
      "170:\tlearn: 0.4367479\ttotal: 2.19s\tremaining: 10.6s\n",
      "171:\tlearn: 0.4365986\ttotal: 2.2s\tremaining: 10.6s\n",
      "172:\tlearn: 0.4365139\ttotal: 2.21s\tremaining: 10.6s\n",
      "173:\tlearn: 0.4364014\ttotal: 2.22s\tremaining: 10.5s\n",
      "174:\tlearn: 0.4363044\ttotal: 2.23s\tremaining: 10.5s\n",
      "175:\tlearn: 0.4362073\ttotal: 2.24s\tremaining: 10.5s\n",
      "176:\tlearn: 0.4361705\ttotal: 2.25s\tremaining: 10.5s\n",
      "177:\tlearn: 0.4361291\ttotal: 2.26s\tremaining: 10.5s\n",
      "178:\tlearn: 0.4358025\ttotal: 2.27s\tremaining: 10.4s\n",
      "179:\tlearn: 0.4356625\ttotal: 2.29s\tremaining: 10.4s\n",
      "180:\tlearn: 0.4355054\ttotal: 2.3s\tremaining: 10.4s\n",
      "181:\tlearn: 0.4353663\ttotal: 2.31s\tremaining: 10.4s\n",
      "182:\tlearn: 0.4351830\ttotal: 2.32s\tremaining: 10.4s\n",
      "183:\tlearn: 0.4350901\ttotal: 2.33s\tremaining: 10.4s\n",
      "184:\tlearn: 0.4349847\ttotal: 2.35s\tremaining: 10.3s\n",
      "185:\tlearn: 0.4348776\ttotal: 2.35s\tremaining: 10.3s\n",
      "186:\tlearn: 0.4347829\ttotal: 2.37s\tremaining: 10.3s\n",
      "187:\tlearn: 0.4346130\ttotal: 2.38s\tremaining: 10.3s\n",
      "188:\tlearn: 0.4344709\ttotal: 2.39s\tremaining: 10.3s\n",
      "189:\tlearn: 0.4344256\ttotal: 2.4s\tremaining: 10.2s\n",
      "190:\tlearn: 0.4343481\ttotal: 2.41s\tremaining: 10.2s\n",
      "191:\tlearn: 0.4341732\ttotal: 2.42s\tremaining: 10.2s\n",
      "192:\tlearn: 0.4339912\ttotal: 2.44s\tremaining: 10.2s\n",
      "193:\tlearn: 0.4338398\ttotal: 2.45s\tremaining: 10.2s\n",
      "194:\tlearn: 0.4337981\ttotal: 2.46s\tremaining: 10.2s\n",
      "195:\tlearn: 0.4337121\ttotal: 2.47s\tremaining: 10.1s\n",
      "196:\tlearn: 0.4335866\ttotal: 2.48s\tremaining: 10.1s\n",
      "197:\tlearn: 0.4333997\ttotal: 2.49s\tremaining: 10.1s\n",
      "198:\tlearn: 0.4333033\ttotal: 2.5s\tremaining: 10.1s\n",
      "199:\tlearn: 0.4332380\ttotal: 2.51s\tremaining: 10.1s\n",
      "200:\tlearn: 0.4331531\ttotal: 2.52s\tremaining: 10s\n",
      "201:\tlearn: 0.4330217\ttotal: 2.54s\tremaining: 10s\n",
      "202:\tlearn: 0.4329062\ttotal: 2.55s\tremaining: 10s\n",
      "203:\tlearn: 0.4328300\ttotal: 2.56s\tremaining: 9.99s\n",
      "204:\tlearn: 0.4327496\ttotal: 2.57s\tremaining: 9.98s\n",
      "205:\tlearn: 0.4325972\ttotal: 2.59s\tremaining: 9.97s\n",
      "206:\tlearn: 0.4324759\ttotal: 2.6s\tremaining: 9.95s\n",
      "207:\tlearn: 0.4324124\ttotal: 2.61s\tremaining: 9.93s\n",
      "208:\tlearn: 0.4322856\ttotal: 2.62s\tremaining: 9.92s\n",
      "209:\tlearn: 0.4322356\ttotal: 2.63s\tremaining: 9.91s\n",
      "210:\tlearn: 0.4320528\ttotal: 2.65s\tremaining: 9.89s\n",
      "211:\tlearn: 0.4319914\ttotal: 2.66s\tremaining: 9.87s\n",
      "212:\tlearn: 0.4319743\ttotal: 2.67s\tremaining: 9.85s\n",
      "213:\tlearn: 0.4318364\ttotal: 2.67s\tremaining: 9.83s\n",
      "214:\tlearn: 0.4317555\ttotal: 2.69s\tremaining: 9.8s\n",
      "215:\tlearn: 0.4315857\ttotal: 2.7s\tremaining: 9.79s\n",
      "216:\tlearn: 0.4314731\ttotal: 2.71s\tremaining: 9.77s\n",
      "217:\tlearn: 0.4313790\ttotal: 2.72s\tremaining: 9.75s\n",
      "218:\tlearn: 0.4313444\ttotal: 2.73s\tremaining: 9.73s\n",
      "219:\tlearn: 0.4311384\ttotal: 2.74s\tremaining: 9.72s\n",
      "220:\tlearn: 0.4310737\ttotal: 2.75s\tremaining: 9.7s\n",
      "221:\tlearn: 0.4309049\ttotal: 2.76s\tremaining: 9.69s\n",
      "222:\tlearn: 0.4308877\ttotal: 2.77s\tremaining: 9.66s\n",
      "223:\tlearn: 0.4307309\ttotal: 2.78s\tremaining: 9.65s\n",
      "224:\tlearn: 0.4306218\ttotal: 2.8s\tremaining: 9.63s\n",
      "225:\tlearn: 0.4305201\ttotal: 2.81s\tremaining: 9.61s\n",
      "226:\tlearn: 0.4304042\ttotal: 2.82s\tremaining: 9.6s\n",
      "227:\tlearn: 0.4302976\ttotal: 2.83s\tremaining: 9.59s\n",
      "228:\tlearn: 0.4302345\ttotal: 2.85s\tremaining: 9.58s\n",
      "229:\tlearn: 0.4300927\ttotal: 2.86s\tremaining: 9.57s\n",
      "230:\tlearn: 0.4300155\ttotal: 2.87s\tremaining: 9.55s\n",
      "231:\tlearn: 0.4298806\ttotal: 2.88s\tremaining: 9.53s\n",
      "232:\tlearn: 0.4298487\ttotal: 2.89s\tremaining: 9.51s\n",
      "233:\tlearn: 0.4296590\ttotal: 2.9s\tremaining: 9.5s\n",
      "234:\tlearn: 0.4295040\ttotal: 2.91s\tremaining: 9.48s\n",
      "235:\tlearn: 0.4294320\ttotal: 2.92s\tremaining: 9.47s\n",
      "236:\tlearn: 0.4293486\ttotal: 2.93s\tremaining: 9.45s\n",
      "237:\tlearn: 0.4292942\ttotal: 2.94s\tremaining: 9.43s\n",
      "238:\tlearn: 0.4291881\ttotal: 2.96s\tremaining: 9.41s\n",
      "239:\tlearn: 0.4290497\ttotal: 2.97s\tremaining: 9.4s\n",
      "240:\tlearn: 0.4290093\ttotal: 2.98s\tremaining: 9.38s\n",
      "241:\tlearn: 0.4289299\ttotal: 2.99s\tremaining: 9.37s\n",
      "242:\tlearn: 0.4288040\ttotal: 3s\tremaining: 9.36s\n",
      "243:\tlearn: 0.4287298\ttotal: 3.02s\tremaining: 9.34s\n",
      "244:\tlearn: 0.4286386\ttotal: 3.03s\tremaining: 9.33s\n",
      "245:\tlearn: 0.4285485\ttotal: 3.04s\tremaining: 9.31s\n",
      "246:\tlearn: 0.4285091\ttotal: 3.05s\tremaining: 9.29s\n",
      "247:\tlearn: 0.4284373\ttotal: 3.06s\tremaining: 9.28s\n",
      "248:\tlearn: 0.4283416\ttotal: 3.07s\tremaining: 9.26s\n",
      "249:\tlearn: 0.4282454\ttotal: 3.08s\tremaining: 9.25s\n",
      "250:\tlearn: 0.4281481\ttotal: 3.09s\tremaining: 9.22s\n",
      "251:\tlearn: 0.4280740\ttotal: 3.1s\tremaining: 9.21s\n",
      "252:\tlearn: 0.4279769\ttotal: 3.11s\tremaining: 9.19s\n",
      "253:\tlearn: 0.4278596\ttotal: 3.12s\tremaining: 9.17s\n",
      "254:\tlearn: 0.4277644\ttotal: 3.13s\tremaining: 9.15s\n",
      "255:\tlearn: 0.4277245\ttotal: 3.14s\tremaining: 9.13s\n",
      "256:\tlearn: 0.4275789\ttotal: 3.15s\tremaining: 9.12s\n",
      "257:\tlearn: 0.4275174\ttotal: 3.17s\tremaining: 9.11s\n",
      "258:\tlearn: 0.4275123\ttotal: 3.17s\tremaining: 9.08s\n",
      "259:\tlearn: 0.4274392\ttotal: 3.19s\tremaining: 9.07s\n",
      "260:\tlearn: 0.4274030\ttotal: 3.19s\tremaining: 9.05s\n",
      "261:\tlearn: 0.4272723\ttotal: 3.21s\tremaining: 9.03s\n",
      "262:\tlearn: 0.4272144\ttotal: 3.21s\tremaining: 9.01s\n",
      "263:\tlearn: 0.4270597\ttotal: 3.23s\tremaining: 9s\n",
      "264:\tlearn: 0.4269885\ttotal: 3.24s\tremaining: 8.99s\n",
      "265:\tlearn: 0.4269668\ttotal: 3.25s\tremaining: 8.96s\n",
      "266:\tlearn: 0.4268449\ttotal: 3.26s\tremaining: 8.95s\n",
      "267:\tlearn: 0.4267720\ttotal: 3.27s\tremaining: 8.94s\n",
      "268:\tlearn: 0.4266115\ttotal: 3.28s\tremaining: 8.92s\n",
      "269:\tlearn: 0.4265632\ttotal: 3.29s\tremaining: 8.9s\n",
      "270:\tlearn: 0.4264220\ttotal: 3.31s\tremaining: 8.89s\n",
      "271:\tlearn: 0.4263512\ttotal: 3.32s\tremaining: 8.88s\n",
      "272:\tlearn: 0.4262528\ttotal: 3.33s\tremaining: 8.86s\n",
      "273:\tlearn: 0.4262127\ttotal: 3.34s\tremaining: 8.84s\n",
      "274:\tlearn: 0.4260944\ttotal: 3.35s\tremaining: 8.83s\n",
      "275:\tlearn: 0.4259720\ttotal: 3.36s\tremaining: 8.82s\n",
      "276:\tlearn: 0.4258842\ttotal: 3.37s\tremaining: 8.8s\n",
      "277:\tlearn: 0.4258224\ttotal: 3.38s\tremaining: 8.79s\n",
      "278:\tlearn: 0.4257380\ttotal: 3.4s\tremaining: 8.78s\n",
      "279:\tlearn: 0.4256568\ttotal: 3.41s\tremaining: 8.77s\n",
      "280:\tlearn: 0.4256124\ttotal: 3.42s\tremaining: 8.75s\n",
      "281:\tlearn: 0.4255295\ttotal: 3.43s\tremaining: 8.73s\n",
      "282:\tlearn: 0.4254993\ttotal: 3.44s\tremaining: 8.72s\n",
      "283:\tlearn: 0.4254404\ttotal: 3.45s\tremaining: 8.7s\n",
      "284:\tlearn: 0.4253983\ttotal: 3.46s\tremaining: 8.69s\n",
      "285:\tlearn: 0.4253738\ttotal: 3.47s\tremaining: 8.67s\n",
      "286:\tlearn: 0.4253511\ttotal: 3.48s\tremaining: 8.65s\n",
      "287:\tlearn: 0.4252852\ttotal: 3.49s\tremaining: 8.63s\n",
      "288:\tlearn: 0.4252569\ttotal: 3.5s\tremaining: 8.62s\n",
      "289:\tlearn: 0.4252025\ttotal: 3.51s\tremaining: 8.6s\n",
      "290:\tlearn: 0.4251503\ttotal: 3.52s\tremaining: 8.59s\n",
      "291:\tlearn: 0.4250283\ttotal: 3.53s\tremaining: 8.57s\n",
      "292:\tlearn: 0.4248907\ttotal: 3.54s\tremaining: 8.55s\n",
      "293:\tlearn: 0.4248517\ttotal: 3.55s\tremaining: 8.54s\n",
      "294:\tlearn: 0.4247118\ttotal: 3.57s\tremaining: 8.52s\n",
      "295:\tlearn: 0.4245935\ttotal: 3.58s\tremaining: 8.51s\n",
      "296:\tlearn: 0.4243950\ttotal: 3.59s\tremaining: 8.5s\n",
      "297:\tlearn: 0.4243287\ttotal: 3.6s\tremaining: 8.48s\n",
      "298:\tlearn: 0.4242298\ttotal: 3.61s\tremaining: 8.47s\n",
      "299:\tlearn: 0.4241438\ttotal: 3.62s\tremaining: 8.45s\n",
      "300:\tlearn: 0.4241203\ttotal: 3.63s\tremaining: 8.44s\n",
      "301:\tlearn: 0.4240937\ttotal: 3.64s\tremaining: 8.42s\n",
      "302:\tlearn: 0.4239836\ttotal: 3.65s\tremaining: 8.4s\n",
      "303:\tlearn: 0.4239016\ttotal: 3.67s\tremaining: 8.39s\n",
      "304:\tlearn: 0.4238519\ttotal: 3.67s\tremaining: 8.37s\n",
      "305:\tlearn: 0.4238041\ttotal: 3.68s\tremaining: 8.36s\n",
      "306:\tlearn: 0.4237388\ttotal: 3.69s\tremaining: 8.34s\n",
      "307:\tlearn: 0.4235584\ttotal: 3.71s\tremaining: 8.33s\n",
      "308:\tlearn: 0.4235171\ttotal: 3.72s\tremaining: 8.31s\n",
      "309:\tlearn: 0.4234105\ttotal: 3.73s\tremaining: 8.3s\n",
      "310:\tlearn: 0.4233183\ttotal: 3.74s\tremaining: 8.29s\n",
      "311:\tlearn: 0.4232530\ttotal: 3.75s\tremaining: 8.27s\n",
      "312:\tlearn: 0.4231533\ttotal: 3.76s\tremaining: 8.25s\n",
      "313:\tlearn: 0.4230783\ttotal: 3.77s\tremaining: 8.24s\n",
      "314:\tlearn: 0.4229470\ttotal: 3.78s\tremaining: 8.23s\n",
      "315:\tlearn: 0.4228694\ttotal: 3.8s\tremaining: 8.22s\n",
      "316:\tlearn: 0.4227933\ttotal: 3.81s\tremaining: 8.21s\n",
      "317:\tlearn: 0.4227471\ttotal: 3.82s\tremaining: 8.2s\n",
      "318:\tlearn: 0.4227329\ttotal: 3.84s\tremaining: 8.19s\n",
      "319:\tlearn: 0.4226697\ttotal: 3.85s\tremaining: 8.18s\n",
      "320:\tlearn: 0.4226031\ttotal: 3.86s\tremaining: 8.16s\n",
      "321:\tlearn: 0.4225677\ttotal: 3.87s\tremaining: 8.15s\n",
      "322:\tlearn: 0.4225109\ttotal: 3.88s\tremaining: 8.13s\n",
      "323:\tlearn: 0.4224615\ttotal: 3.89s\tremaining: 8.13s\n",
      "324:\tlearn: 0.4224269\ttotal: 3.9s\tremaining: 8.11s\n",
      "325:\tlearn: 0.4223218\ttotal: 3.92s\tremaining: 8.1s\n",
      "326:\tlearn: 0.4222460\ttotal: 3.93s\tremaining: 8.09s\n",
      "327:\tlearn: 0.4221869\ttotal: 3.94s\tremaining: 8.07s\n",
      "328:\tlearn: 0.4220941\ttotal: 3.95s\tremaining: 8.05s\n",
      "329:\tlearn: 0.4220296\ttotal: 3.96s\tremaining: 8.04s\n",
      "330:\tlearn: 0.4219492\ttotal: 3.97s\tremaining: 8.03s\n",
      "331:\tlearn: 0.4219118\ttotal: 3.98s\tremaining: 8.01s\n",
      "332:\tlearn: 0.4218546\ttotal: 3.99s\tremaining: 8s\n",
      "333:\tlearn: 0.4217203\ttotal: 4s\tremaining: 7.99s\n",
      "334:\tlearn: 0.4215866\ttotal: 4.02s\tremaining: 7.97s\n",
      "335:\tlearn: 0.4214438\ttotal: 4.03s\tremaining: 7.96s\n",
      "336:\tlearn: 0.4214367\ttotal: 4.04s\tremaining: 7.95s\n",
      "337:\tlearn: 0.4213767\ttotal: 4.05s\tremaining: 7.93s\n",
      "338:\tlearn: 0.4213481\ttotal: 4.06s\tremaining: 7.92s\n",
      "339:\tlearn: 0.4212939\ttotal: 4.07s\tremaining: 7.91s\n",
      "340:\tlearn: 0.4212494\ttotal: 4.08s\tremaining: 7.89s\n",
      "341:\tlearn: 0.4211107\ttotal: 4.09s\tremaining: 7.88s\n",
      "342:\tlearn: 0.4210304\ttotal: 4.11s\tremaining: 7.86s\n",
      "343:\tlearn: 0.4209930\ttotal: 4.11s\tremaining: 7.85s\n",
      "344:\tlearn: 0.4208684\ttotal: 4.13s\tremaining: 7.83s\n",
      "345:\tlearn: 0.4208054\ttotal: 4.14s\tremaining: 7.82s\n",
      "346:\tlearn: 0.4207872\ttotal: 4.15s\tremaining: 7.81s\n",
      "347:\tlearn: 0.4207696\ttotal: 4.16s\tremaining: 7.79s\n",
      "348:\tlearn: 0.4207215\ttotal: 4.17s\tremaining: 7.78s\n",
      "349:\tlearn: 0.4206384\ttotal: 4.18s\tremaining: 7.76s\n",
      "350:\tlearn: 0.4205492\ttotal: 4.19s\tremaining: 7.75s\n",
      "351:\tlearn: 0.4204792\ttotal: 4.21s\tremaining: 7.74s\n",
      "352:\tlearn: 0.4204693\ttotal: 4.21s\tremaining: 7.73s\n",
      "353:\tlearn: 0.4203656\ttotal: 4.23s\tremaining: 7.71s\n",
      "354:\tlearn: 0.4202339\ttotal: 4.24s\tremaining: 7.7s\n",
      "355:\tlearn: 0.4201896\ttotal: 4.25s\tremaining: 7.69s\n",
      "356:\tlearn: 0.4201003\ttotal: 4.26s\tremaining: 7.68s\n",
      "357:\tlearn: 0.4199918\ttotal: 4.28s\tremaining: 7.67s\n",
      "358:\tlearn: 0.4198746\ttotal: 4.29s\tremaining: 7.66s\n",
      "359:\tlearn: 0.4198400\ttotal: 4.3s\tremaining: 7.64s\n",
      "360:\tlearn: 0.4197764\ttotal: 4.31s\tremaining: 7.63s\n",
      "361:\tlearn: 0.4197169\ttotal: 4.32s\tremaining: 7.62s\n",
      "362:\tlearn: 0.4196918\ttotal: 4.33s\tremaining: 7.61s\n",
      "363:\tlearn: 0.4196156\ttotal: 4.35s\tremaining: 7.59s\n",
      "364:\tlearn: 0.4195549\ttotal: 4.36s\tremaining: 7.58s\n",
      "365:\tlearn: 0.4194692\ttotal: 4.37s\tremaining: 7.57s\n",
      "366:\tlearn: 0.4193969\ttotal: 4.38s\tremaining: 7.55s\n",
      "367:\tlearn: 0.4193797\ttotal: 4.39s\tremaining: 7.54s\n",
      "368:\tlearn: 0.4193515\ttotal: 4.4s\tremaining: 7.52s\n",
      "369:\tlearn: 0.4193325\ttotal: 4.41s\tremaining: 7.5s\n",
      "370:\tlearn: 0.4192185\ttotal: 4.42s\tremaining: 7.49s\n",
      "371:\tlearn: 0.4192058\ttotal: 4.42s\tremaining: 7.47s\n",
      "372:\tlearn: 0.4191738\ttotal: 4.44s\tremaining: 7.46s\n",
      "373:\tlearn: 0.4190884\ttotal: 4.45s\tremaining: 7.44s\n",
      "374:\tlearn: 0.4190195\ttotal: 4.46s\tremaining: 7.43s\n",
      "375:\tlearn: 0.4189724\ttotal: 4.47s\tremaining: 7.42s\n",
      "376:\tlearn: 0.4188998\ttotal: 4.48s\tremaining: 7.4s\n",
      "377:\tlearn: 0.4188866\ttotal: 4.49s\tremaining: 7.39s\n",
      "378:\tlearn: 0.4187713\ttotal: 4.5s\tremaining: 7.37s\n",
      "379:\tlearn: 0.4187095\ttotal: 4.51s\tremaining: 7.36s\n",
      "380:\tlearn: 0.4186251\ttotal: 4.52s\tremaining: 7.35s\n",
      "381:\tlearn: 0.4185957\ttotal: 4.53s\tremaining: 7.33s\n",
      "382:\tlearn: 0.4185150\ttotal: 4.54s\tremaining: 7.32s\n",
      "383:\tlearn: 0.4184741\ttotal: 4.55s\tremaining: 7.3s\n",
      "384:\tlearn: 0.4184193\ttotal: 4.57s\tremaining: 7.29s\n",
      "385:\tlearn: 0.4183527\ttotal: 4.58s\tremaining: 7.28s\n",
      "386:\tlearn: 0.4182876\ttotal: 4.59s\tremaining: 7.27s\n",
      "387:\tlearn: 0.4182360\ttotal: 4.6s\tremaining: 7.25s\n",
      "388:\tlearn: 0.4181463\ttotal: 4.61s\tremaining: 7.24s\n",
      "389:\tlearn: 0.4181049\ttotal: 4.62s\tremaining: 7.23s\n",
      "390:\tlearn: 0.4180475\ttotal: 4.63s\tremaining: 7.22s\n",
      "391:\tlearn: 0.4180264\ttotal: 4.64s\tremaining: 7.2s\n",
      "392:\tlearn: 0.4179765\ttotal: 4.66s\tremaining: 7.19s\n",
      "393:\tlearn: 0.4179548\ttotal: 4.67s\tremaining: 7.18s\n",
      "394:\tlearn: 0.4179165\ttotal: 4.68s\tremaining: 7.17s\n",
      "395:\tlearn: 0.4178885\ttotal: 4.69s\tremaining: 7.15s\n",
      "396:\tlearn: 0.4178685\ttotal: 4.7s\tremaining: 7.14s\n",
      "397:\tlearn: 0.4177412\ttotal: 4.72s\tremaining: 7.13s\n",
      "398:\tlearn: 0.4175675\ttotal: 4.73s\tremaining: 7.12s\n",
      "399:\tlearn: 0.4175290\ttotal: 4.74s\tremaining: 7.11s\n",
      "400:\tlearn: 0.4175083\ttotal: 4.75s\tremaining: 7.1s\n",
      "401:\tlearn: 0.4174513\ttotal: 4.76s\tremaining: 7.09s\n",
      "402:\tlearn: 0.4174429\ttotal: 4.78s\tremaining: 7.08s\n",
      "403:\tlearn: 0.4174372\ttotal: 4.79s\tremaining: 7.06s\n",
      "404:\tlearn: 0.4173956\ttotal: 4.8s\tremaining: 7.05s\n",
      "405:\tlearn: 0.4173516\ttotal: 4.81s\tremaining: 7.04s\n",
      "406:\tlearn: 0.4173111\ttotal: 4.82s\tremaining: 7.03s\n",
      "407:\tlearn: 0.4171870\ttotal: 4.84s\tremaining: 7.02s\n",
      "408:\tlearn: 0.4171087\ttotal: 4.85s\tremaining: 7.01s\n",
      "409:\tlearn: 0.4170864\ttotal: 4.87s\tremaining: 7s\n",
      "410:\tlearn: 0.4170564\ttotal: 4.88s\tremaining: 6.99s\n",
      "411:\tlearn: 0.4170178\ttotal: 4.89s\tremaining: 6.98s\n",
      "412:\tlearn: 0.4169811\ttotal: 4.9s\tremaining: 6.97s\n",
      "413:\tlearn: 0.4169536\ttotal: 4.92s\tremaining: 6.96s\n",
      "414:\tlearn: 0.4169045\ttotal: 4.93s\tremaining: 6.95s\n",
      "415:\tlearn: 0.4168234\ttotal: 4.94s\tremaining: 6.93s\n",
      "416:\tlearn: 0.4167311\ttotal: 4.95s\tremaining: 6.92s\n",
      "417:\tlearn: 0.4167170\ttotal: 4.96s\tremaining: 6.91s\n",
      "418:\tlearn: 0.4166879\ttotal: 4.97s\tremaining: 6.9s\n",
      "419:\tlearn: 0.4166588\ttotal: 4.98s\tremaining: 6.88s\n",
      "420:\tlearn: 0.4165293\ttotal: 5s\tremaining: 6.87s\n",
      "421:\tlearn: 0.4164870\ttotal: 5.01s\tremaining: 6.86s\n",
      "422:\tlearn: 0.4164229\ttotal: 5.02s\tremaining: 6.85s\n",
      "423:\tlearn: 0.4163248\ttotal: 5.04s\tremaining: 6.84s\n",
      "424:\tlearn: 0.4163026\ttotal: 5.04s\tremaining: 6.83s\n",
      "425:\tlearn: 0.4162690\ttotal: 5.06s\tremaining: 6.81s\n",
      "426:\tlearn: 0.4162574\ttotal: 5.07s\tremaining: 6.8s\n",
      "427:\tlearn: 0.4162258\ttotal: 5.08s\tremaining: 6.79s\n",
      "428:\tlearn: 0.4161772\ttotal: 5.09s\tremaining: 6.78s\n",
      "429:\tlearn: 0.4161215\ttotal: 5.1s\tremaining: 6.77s\n",
      "430:\tlearn: 0.4160768\ttotal: 5.12s\tremaining: 6.75s\n",
      "431:\tlearn: 0.4160099\ttotal: 5.13s\tremaining: 6.75s\n",
      "432:\tlearn: 0.4159736\ttotal: 5.14s\tremaining: 6.73s\n",
      "433:\tlearn: 0.4159483\ttotal: 5.15s\tremaining: 6.72s\n",
      "434:\tlearn: 0.4159374\ttotal: 5.16s\tremaining: 6.71s\n",
      "435:\tlearn: 0.4159236\ttotal: 5.17s\tremaining: 6.69s\n",
      "436:\tlearn: 0.4158952\ttotal: 5.19s\tremaining: 6.68s\n",
      "437:\tlearn: 0.4157652\ttotal: 5.2s\tremaining: 6.67s\n",
      "438:\tlearn: 0.4157376\ttotal: 5.21s\tremaining: 6.66s\n",
      "439:\tlearn: 0.4157011\ttotal: 5.22s\tremaining: 6.64s\n",
      "440:\tlearn: 0.4155977\ttotal: 5.23s\tremaining: 6.63s\n",
      "441:\tlearn: 0.4155719\ttotal: 5.25s\tremaining: 6.62s\n",
      "442:\tlearn: 0.4155159\ttotal: 5.26s\tremaining: 6.61s\n",
      "443:\tlearn: 0.4153975\ttotal: 5.27s\tremaining: 6.6s\n",
      "444:\tlearn: 0.4153346\ttotal: 5.28s\tremaining: 6.59s\n",
      "445:\tlearn: 0.4153001\ttotal: 5.29s\tremaining: 6.58s\n",
      "446:\tlearn: 0.4152950\ttotal: 5.31s\tremaining: 6.57s\n",
      "447:\tlearn: 0.4152528\ttotal: 5.32s\tremaining: 6.55s\n",
      "448:\tlearn: 0.4151580\ttotal: 5.33s\tremaining: 6.54s\n",
      "449:\tlearn: 0.4151465\ttotal: 5.34s\tremaining: 6.53s\n",
      "450:\tlearn: 0.4151163\ttotal: 5.35s\tremaining: 6.51s\n",
      "451:\tlearn: 0.4150327\ttotal: 5.36s\tremaining: 6.5s\n",
      "452:\tlearn: 0.4149936\ttotal: 5.38s\tremaining: 6.49s\n",
      "453:\tlearn: 0.4149547\ttotal: 5.38s\tremaining: 6.48s\n",
      "454:\tlearn: 0.4148674\ttotal: 5.4s\tremaining: 6.46s\n",
      "455:\tlearn: 0.4148145\ttotal: 5.41s\tremaining: 6.45s\n",
      "456:\tlearn: 0.4147289\ttotal: 5.42s\tremaining: 6.44s\n",
      "457:\tlearn: 0.4146585\ttotal: 5.43s\tremaining: 6.43s\n",
      "458:\tlearn: 0.4145866\ttotal: 5.44s\tremaining: 6.42s\n",
      "459:\tlearn: 0.4144931\ttotal: 5.46s\tremaining: 6.41s\n",
      "460:\tlearn: 0.4144718\ttotal: 5.47s\tremaining: 6.39s\n",
      "461:\tlearn: 0.4144120\ttotal: 5.48s\tremaining: 6.38s\n",
      "462:\tlearn: 0.4142887\ttotal: 5.49s\tremaining: 6.37s\n",
      "463:\tlearn: 0.4142531\ttotal: 5.5s\tremaining: 6.36s\n",
      "464:\tlearn: 0.4141698\ttotal: 5.51s\tremaining: 6.34s\n",
      "465:\tlearn: 0.4141275\ttotal: 5.53s\tremaining: 6.33s\n",
      "466:\tlearn: 0.4140993\ttotal: 5.54s\tremaining: 6.32s\n",
      "467:\tlearn: 0.4140358\ttotal: 5.55s\tremaining: 6.31s\n",
      "468:\tlearn: 0.4139193\ttotal: 5.56s\tremaining: 6.3s\n",
      "469:\tlearn: 0.4138610\ttotal: 5.57s\tremaining: 6.29s\n",
      "470:\tlearn: 0.4137642\ttotal: 5.59s\tremaining: 6.28s\n",
      "471:\tlearn: 0.4137262\ttotal: 5.6s\tremaining: 6.26s\n",
      "472:\tlearn: 0.4136484\ttotal: 5.61s\tremaining: 6.25s\n",
      "473:\tlearn: 0.4136032\ttotal: 5.62s\tremaining: 6.24s\n",
      "474:\tlearn: 0.4135626\ttotal: 5.63s\tremaining: 6.23s\n",
      "475:\tlearn: 0.4135057\ttotal: 5.65s\tremaining: 6.22s\n",
      "476:\tlearn: 0.4134474\ttotal: 5.66s\tremaining: 6.21s\n",
      "477:\tlearn: 0.4134128\ttotal: 5.67s\tremaining: 6.19s\n",
      "478:\tlearn: 0.4133860\ttotal: 5.68s\tremaining: 6.18s\n",
      "479:\tlearn: 0.4132829\ttotal: 5.7s\tremaining: 6.17s\n",
      "480:\tlearn: 0.4132372\ttotal: 5.71s\tremaining: 6.16s\n",
      "481:\tlearn: 0.4132084\ttotal: 5.72s\tremaining: 6.15s\n",
      "482:\tlearn: 0.4131610\ttotal: 5.73s\tremaining: 6.14s\n",
      "483:\tlearn: 0.4130816\ttotal: 5.75s\tremaining: 6.13s\n",
      "484:\tlearn: 0.4130743\ttotal: 5.75s\tremaining: 6.11s\n",
      "485:\tlearn: 0.4129912\ttotal: 5.77s\tremaining: 6.1s\n",
      "486:\tlearn: 0.4129043\ttotal: 5.78s\tremaining: 6.09s\n",
      "487:\tlearn: 0.4128769\ttotal: 5.8s\tremaining: 6.08s\n",
      "488:\tlearn: 0.4128254\ttotal: 5.81s\tremaining: 6.07s\n",
      "489:\tlearn: 0.4128063\ttotal: 5.82s\tremaining: 6.06s\n",
      "490:\tlearn: 0.4127554\ttotal: 5.83s\tremaining: 6.05s\n",
      "491:\tlearn: 0.4126869\ttotal: 5.85s\tremaining: 6.04s\n",
      "492:\tlearn: 0.4126509\ttotal: 5.86s\tremaining: 6.03s\n",
      "493:\tlearn: 0.4125956\ttotal: 5.87s\tremaining: 6.01s\n",
      "494:\tlearn: 0.4125588\ttotal: 5.88s\tremaining: 6s\n",
      "495:\tlearn: 0.4125190\ttotal: 5.89s\tremaining: 5.99s\n",
      "496:\tlearn: 0.4124843\ttotal: 5.91s\tremaining: 5.98s\n",
      "497:\tlearn: 0.4123566\ttotal: 5.92s\tremaining: 5.97s\n",
      "498:\tlearn: 0.4122906\ttotal: 5.93s\tremaining: 5.95s\n",
      "499:\tlearn: 0.4122009\ttotal: 5.95s\tremaining: 5.95s\n",
      "500:\tlearn: 0.4121680\ttotal: 5.96s\tremaining: 5.93s\n",
      "501:\tlearn: 0.4121158\ttotal: 5.97s\tremaining: 5.92s\n",
      "502:\tlearn: 0.4120828\ttotal: 5.98s\tremaining: 5.91s\n",
      "503:\tlearn: 0.4120481\ttotal: 5.99s\tremaining: 5.9s\n",
      "504:\tlearn: 0.4120224\ttotal: 6s\tremaining: 5.88s\n",
      "505:\tlearn: 0.4119946\ttotal: 6.01s\tremaining: 5.87s\n",
      "506:\tlearn: 0.4119658\ttotal: 6.02s\tremaining: 5.86s\n",
      "507:\tlearn: 0.4118594\ttotal: 6.04s\tremaining: 5.84s\n",
      "508:\tlearn: 0.4117674\ttotal: 6.05s\tremaining: 5.83s\n",
      "509:\tlearn: 0.4117519\ttotal: 6.06s\tremaining: 5.82s\n",
      "510:\tlearn: 0.4117104\ttotal: 6.07s\tremaining: 5.81s\n",
      "511:\tlearn: 0.4116796\ttotal: 6.08s\tremaining: 5.79s\n",
      "512:\tlearn: 0.4115560\ttotal: 6.09s\tremaining: 5.78s\n",
      "513:\tlearn: 0.4115029\ttotal: 6.1s\tremaining: 5.77s\n",
      "514:\tlearn: 0.4114329\ttotal: 6.11s\tremaining: 5.76s\n",
      "515:\tlearn: 0.4113987\ttotal: 6.13s\tremaining: 5.75s\n",
      "516:\tlearn: 0.4113689\ttotal: 6.14s\tremaining: 5.73s\n",
      "517:\tlearn: 0.4112496\ttotal: 6.15s\tremaining: 5.72s\n",
      "518:\tlearn: 0.4112042\ttotal: 6.16s\tremaining: 5.71s\n",
      "519:\tlearn: 0.4111545\ttotal: 6.17s\tremaining: 5.69s\n",
      "520:\tlearn: 0.4110717\ttotal: 6.18s\tremaining: 5.68s\n",
      "521:\tlearn: 0.4110130\ttotal: 6.19s\tremaining: 5.67s\n",
      "522:\tlearn: 0.4109083\ttotal: 6.21s\tremaining: 5.66s\n",
      "523:\tlearn: 0.4108264\ttotal: 6.22s\tremaining: 5.65s\n",
      "524:\tlearn: 0.4107649\ttotal: 6.23s\tremaining: 5.63s\n",
      "525:\tlearn: 0.4107219\ttotal: 6.24s\tremaining: 5.62s\n",
      "526:\tlearn: 0.4106754\ttotal: 6.25s\tremaining: 5.61s\n",
      "527:\tlearn: 0.4106270\ttotal: 6.26s\tremaining: 5.6s\n",
      "528:\tlearn: 0.4106054\ttotal: 6.27s\tremaining: 5.59s\n",
      "529:\tlearn: 0.4105594\ttotal: 6.29s\tremaining: 5.58s\n",
      "530:\tlearn: 0.4105240\ttotal: 6.3s\tremaining: 5.56s\n",
      "531:\tlearn: 0.4104565\ttotal: 6.31s\tremaining: 5.55s\n",
      "532:\tlearn: 0.4103865\ttotal: 6.32s\tremaining: 5.54s\n",
      "533:\tlearn: 0.4103740\ttotal: 6.33s\tremaining: 5.53s\n",
      "534:\tlearn: 0.4103656\ttotal: 6.34s\tremaining: 5.51s\n",
      "535:\tlearn: 0.4102579\ttotal: 6.36s\tremaining: 5.5s\n",
      "536:\tlearn: 0.4102004\ttotal: 6.37s\tremaining: 5.49s\n",
      "537:\tlearn: 0.4101225\ttotal: 6.38s\tremaining: 5.48s\n",
      "538:\tlearn: 0.4100185\ttotal: 6.4s\tremaining: 5.47s\n",
      "539:\tlearn: 0.4099524\ttotal: 6.41s\tremaining: 5.46s\n",
      "540:\tlearn: 0.4098652\ttotal: 6.42s\tremaining: 5.45s\n",
      "541:\tlearn: 0.4097652\ttotal: 6.43s\tremaining: 5.44s\n",
      "542:\tlearn: 0.4097344\ttotal: 6.45s\tremaining: 5.42s\n",
      "543:\tlearn: 0.4096894\ttotal: 6.46s\tremaining: 5.41s\n",
      "544:\tlearn: 0.4096456\ttotal: 6.47s\tremaining: 5.4s\n",
      "545:\tlearn: 0.4095651\ttotal: 6.49s\tremaining: 5.39s\n",
      "546:\tlearn: 0.4095423\ttotal: 6.5s\tremaining: 5.38s\n",
      "547:\tlearn: 0.4094808\ttotal: 6.51s\tremaining: 5.37s\n",
      "548:\tlearn: 0.4094590\ttotal: 6.52s\tremaining: 5.36s\n",
      "549:\tlearn: 0.4094181\ttotal: 6.53s\tremaining: 5.34s\n",
      "550:\tlearn: 0.4093829\ttotal: 6.54s\tremaining: 5.33s\n",
      "551:\tlearn: 0.4093399\ttotal: 6.55s\tremaining: 5.32s\n",
      "552:\tlearn: 0.4092468\ttotal: 6.57s\tremaining: 5.31s\n",
      "553:\tlearn: 0.4092140\ttotal: 6.58s\tremaining: 5.29s\n",
      "554:\tlearn: 0.4091641\ttotal: 6.59s\tremaining: 5.28s\n",
      "555:\tlearn: 0.4090904\ttotal: 6.6s\tremaining: 5.27s\n",
      "556:\tlearn: 0.4090596\ttotal: 6.61s\tremaining: 5.26s\n",
      "557:\tlearn: 0.4090208\ttotal: 6.62s\tremaining: 5.25s\n",
      "558:\tlearn: 0.4089597\ttotal: 6.63s\tremaining: 5.23s\n",
      "559:\tlearn: 0.4088119\ttotal: 6.65s\tremaining: 5.22s\n",
      "560:\tlearn: 0.4087279\ttotal: 6.66s\tremaining: 5.21s\n",
      "561:\tlearn: 0.4086385\ttotal: 6.67s\tremaining: 5.2s\n",
      "562:\tlearn: 0.4085565\ttotal: 6.68s\tremaining: 5.19s\n",
      "563:\tlearn: 0.4085390\ttotal: 6.7s\tremaining: 5.18s\n",
      "564:\tlearn: 0.4084788\ttotal: 6.71s\tremaining: 5.17s\n",
      "565:\tlearn: 0.4084518\ttotal: 6.72s\tremaining: 5.15s\n",
      "566:\tlearn: 0.4084114\ttotal: 6.74s\tremaining: 5.14s\n",
      "567:\tlearn: 0.4083560\ttotal: 6.75s\tremaining: 5.13s\n",
      "568:\tlearn: 0.4083150\ttotal: 6.76s\tremaining: 5.12s\n",
      "569:\tlearn: 0.4082895\ttotal: 6.78s\tremaining: 5.11s\n",
      "570:\tlearn: 0.4082415\ttotal: 6.79s\tremaining: 5.1s\n",
      "571:\tlearn: 0.4082295\ttotal: 6.8s\tremaining: 5.09s\n",
      "572:\tlearn: 0.4081150\ttotal: 6.82s\tremaining: 5.08s\n",
      "573:\tlearn: 0.4080450\ttotal: 6.83s\tremaining: 5.07s\n",
      "574:\tlearn: 0.4079702\ttotal: 6.84s\tremaining: 5.06s\n",
      "575:\tlearn: 0.4079555\ttotal: 6.86s\tremaining: 5.05s\n",
      "576:\tlearn: 0.4078536\ttotal: 6.87s\tremaining: 5.04s\n",
      "577:\tlearn: 0.4078480\ttotal: 6.88s\tremaining: 5.02s\n",
      "578:\tlearn: 0.4077924\ttotal: 6.9s\tremaining: 5.01s\n",
      "579:\tlearn: 0.4077211\ttotal: 6.91s\tremaining: 5s\n",
      "580:\tlearn: 0.4077040\ttotal: 6.92s\tremaining: 4.99s\n",
      "581:\tlearn: 0.4076308\ttotal: 6.93s\tremaining: 4.98s\n",
      "582:\tlearn: 0.4075949\ttotal: 6.95s\tremaining: 4.97s\n",
      "583:\tlearn: 0.4075034\ttotal: 6.96s\tremaining: 4.96s\n",
      "584:\tlearn: 0.4074431\ttotal: 6.97s\tremaining: 4.94s\n",
      "585:\tlearn: 0.4073822\ttotal: 6.98s\tremaining: 4.93s\n",
      "586:\tlearn: 0.4073033\ttotal: 7s\tremaining: 4.92s\n",
      "587:\tlearn: 0.4072576\ttotal: 7s\tremaining: 4.91s\n",
      "588:\tlearn: 0.4072178\ttotal: 7.02s\tremaining: 4.9s\n",
      "589:\tlearn: 0.4071775\ttotal: 7.03s\tremaining: 4.88s\n",
      "590:\tlearn: 0.4071348\ttotal: 7.04s\tremaining: 4.87s\n",
      "591:\tlearn: 0.4071116\ttotal: 7.05s\tremaining: 4.86s\n",
      "592:\tlearn: 0.4070977\ttotal: 7.06s\tremaining: 4.84s\n",
      "593:\tlearn: 0.4070356\ttotal: 7.07s\tremaining: 4.83s\n",
      "594:\tlearn: 0.4069621\ttotal: 7.08s\tremaining: 4.82s\n",
      "595:\tlearn: 0.4069135\ttotal: 7.09s\tremaining: 4.81s\n",
      "596:\tlearn: 0.4068882\ttotal: 7.1s\tremaining: 4.79s\n",
      "597:\tlearn: 0.4068179\ttotal: 7.12s\tremaining: 4.78s\n",
      "598:\tlearn: 0.4067670\ttotal: 7.13s\tremaining: 4.77s\n",
      "599:\tlearn: 0.4067046\ttotal: 7.14s\tremaining: 4.76s\n",
      "600:\tlearn: 0.4066581\ttotal: 7.15s\tremaining: 4.75s\n",
      "601:\tlearn: 0.4066212\ttotal: 7.16s\tremaining: 4.73s\n",
      "602:\tlearn: 0.4065417\ttotal: 7.17s\tremaining: 4.72s\n",
      "603:\tlearn: 0.4065372\ttotal: 7.18s\tremaining: 4.71s\n",
      "604:\tlearn: 0.4064774\ttotal: 7.19s\tremaining: 4.7s\n",
      "605:\tlearn: 0.4064082\ttotal: 7.2s\tremaining: 4.68s\n",
      "606:\tlearn: 0.4064004\ttotal: 7.21s\tremaining: 4.67s\n",
      "607:\tlearn: 0.4063775\ttotal: 7.23s\tremaining: 4.66s\n",
      "608:\tlearn: 0.4063249\ttotal: 7.24s\tremaining: 4.65s\n",
      "609:\tlearn: 0.4063127\ttotal: 7.25s\tremaining: 4.63s\n",
      "610:\tlearn: 0.4062311\ttotal: 7.26s\tremaining: 4.62s\n",
      "611:\tlearn: 0.4061360\ttotal: 7.28s\tremaining: 4.61s\n",
      "612:\tlearn: 0.4060619\ttotal: 7.29s\tremaining: 4.6s\n",
      "613:\tlearn: 0.4060265\ttotal: 7.3s\tremaining: 4.59s\n",
      "614:\tlearn: 0.4059913\ttotal: 7.31s\tremaining: 4.58s\n",
      "615:\tlearn: 0.4059353\ttotal: 7.32s\tremaining: 4.57s\n",
      "616:\tlearn: 0.4059137\ttotal: 7.33s\tremaining: 4.55s\n",
      "617:\tlearn: 0.4058212\ttotal: 7.35s\tremaining: 4.54s\n",
      "618:\tlearn: 0.4057743\ttotal: 7.36s\tremaining: 4.53s\n",
      "619:\tlearn: 0.4057550\ttotal: 7.38s\tremaining: 4.52s\n",
      "620:\tlearn: 0.4057387\ttotal: 7.38s\tremaining: 4.51s\n",
      "621:\tlearn: 0.4057235\ttotal: 7.4s\tremaining: 4.49s\n",
      "622:\tlearn: 0.4056703\ttotal: 7.41s\tremaining: 4.48s\n",
      "623:\tlearn: 0.4056283\ttotal: 7.42s\tremaining: 4.47s\n",
      "624:\tlearn: 0.4055699\ttotal: 7.43s\tremaining: 4.46s\n",
      "625:\tlearn: 0.4055492\ttotal: 7.44s\tremaining: 4.45s\n",
      "626:\tlearn: 0.4055084\ttotal: 7.46s\tremaining: 4.43s\n",
      "627:\tlearn: 0.4054923\ttotal: 7.46s\tremaining: 4.42s\n",
      "628:\tlearn: 0.4054889\ttotal: 7.47s\tremaining: 4.41s\n",
      "629:\tlearn: 0.4053955\ttotal: 7.48s\tremaining: 4.39s\n",
      "630:\tlearn: 0.4053582\ttotal: 7.5s\tremaining: 4.38s\n",
      "631:\tlearn: 0.4053391\ttotal: 7.51s\tremaining: 4.38s\n",
      "632:\tlearn: 0.4052976\ttotal: 7.53s\tremaining: 4.37s\n",
      "633:\tlearn: 0.4052218\ttotal: 7.55s\tremaining: 4.36s\n",
      "634:\tlearn: 0.4052007\ttotal: 7.56s\tremaining: 4.35s\n",
      "635:\tlearn: 0.4051024\ttotal: 7.58s\tremaining: 4.34s\n",
      "636:\tlearn: 0.4050911\ttotal: 7.6s\tremaining: 4.33s\n",
      "637:\tlearn: 0.4050792\ttotal: 7.61s\tremaining: 4.32s\n",
      "638:\tlearn: 0.4050582\ttotal: 7.63s\tremaining: 4.31s\n",
      "639:\tlearn: 0.4050189\ttotal: 7.63s\tremaining: 4.29s\n",
      "640:\tlearn: 0.4049805\ttotal: 7.64s\tremaining: 4.28s\n",
      "641:\tlearn: 0.4049717\ttotal: 7.66s\tremaining: 4.27s\n",
      "642:\tlearn: 0.4049238\ttotal: 7.67s\tremaining: 4.26s\n",
      "643:\tlearn: 0.4048799\ttotal: 7.68s\tremaining: 4.25s\n",
      "644:\tlearn: 0.4047909\ttotal: 7.7s\tremaining: 4.24s\n",
      "645:\tlearn: 0.4047139\ttotal: 7.71s\tremaining: 4.22s\n",
      "646:\tlearn: 0.4046871\ttotal: 7.72s\tremaining: 4.21s\n",
      "647:\tlearn: 0.4046532\ttotal: 7.73s\tremaining: 4.2s\n",
      "648:\tlearn: 0.4045901\ttotal: 7.75s\tremaining: 4.19s\n",
      "649:\tlearn: 0.4045398\ttotal: 7.76s\tremaining: 4.18s\n",
      "650:\tlearn: 0.4044864\ttotal: 7.77s\tremaining: 4.16s\n",
      "651:\tlearn: 0.4043828\ttotal: 7.78s\tremaining: 4.15s\n",
      "652:\tlearn: 0.4043641\ttotal: 7.79s\tremaining: 4.14s\n",
      "653:\tlearn: 0.4043447\ttotal: 7.8s\tremaining: 4.13s\n",
      "654:\tlearn: 0.4042925\ttotal: 7.81s\tremaining: 4.11s\n",
      "655:\tlearn: 0.4042883\ttotal: 7.82s\tremaining: 4.1s\n",
      "656:\tlearn: 0.4042410\ttotal: 7.83s\tremaining: 4.09s\n",
      "657:\tlearn: 0.4042012\ttotal: 7.84s\tremaining: 4.08s\n",
      "658:\tlearn: 0.4041725\ttotal: 7.85s\tremaining: 4.06s\n",
      "659:\tlearn: 0.4041357\ttotal: 7.86s\tremaining: 4.05s\n",
      "660:\tlearn: 0.4040562\ttotal: 7.88s\tremaining: 4.04s\n",
      "661:\tlearn: 0.4040246\ttotal: 7.89s\tremaining: 4.03s\n",
      "662:\tlearn: 0.4040074\ttotal: 7.9s\tremaining: 4.01s\n",
      "663:\tlearn: 0.4039732\ttotal: 7.91s\tremaining: 4s\n",
      "664:\tlearn: 0.4039600\ttotal: 7.92s\tremaining: 3.99s\n",
      "665:\tlearn: 0.4039286\ttotal: 7.93s\tremaining: 3.98s\n",
      "666:\tlearn: 0.4039031\ttotal: 7.95s\tremaining: 3.97s\n",
      "667:\tlearn: 0.4038696\ttotal: 7.96s\tremaining: 3.96s\n",
      "668:\tlearn: 0.4038112\ttotal: 7.97s\tremaining: 3.94s\n",
      "669:\tlearn: 0.4037395\ttotal: 7.98s\tremaining: 3.93s\n",
      "670:\tlearn: 0.4036972\ttotal: 8s\tremaining: 3.92s\n",
      "671:\tlearn: 0.4036622\ttotal: 8.01s\tremaining: 3.91s\n",
      "672:\tlearn: 0.4036351\ttotal: 8.02s\tremaining: 3.9s\n",
      "673:\tlearn: 0.4036053\ttotal: 8.03s\tremaining: 3.88s\n",
      "674:\tlearn: 0.4035331\ttotal: 8.05s\tremaining: 3.87s\n",
      "675:\tlearn: 0.4035237\ttotal: 8.06s\tremaining: 3.86s\n",
      "676:\tlearn: 0.4034542\ttotal: 8.07s\tremaining: 3.85s\n",
      "677:\tlearn: 0.4034298\ttotal: 8.08s\tremaining: 3.84s\n",
      "678:\tlearn: 0.4034015\ttotal: 8.09s\tremaining: 3.82s\n",
      "679:\tlearn: 0.4032787\ttotal: 8.1s\tremaining: 3.81s\n",
      "680:\tlearn: 0.4032733\ttotal: 8.11s\tremaining: 3.8s\n",
      "681:\tlearn: 0.4032512\ttotal: 8.13s\tremaining: 3.79s\n",
      "682:\tlearn: 0.4032181\ttotal: 8.14s\tremaining: 3.78s\n",
      "683:\tlearn: 0.4031821\ttotal: 8.15s\tremaining: 3.76s\n",
      "684:\tlearn: 0.4030966\ttotal: 8.16s\tremaining: 3.75s\n",
      "685:\tlearn: 0.4030760\ttotal: 8.17s\tremaining: 3.74s\n",
      "686:\tlearn: 0.4030684\ttotal: 8.18s\tremaining: 3.73s\n",
      "687:\tlearn: 0.4030140\ttotal: 8.19s\tremaining: 3.71s\n",
      "688:\tlearn: 0.4030016\ttotal: 8.2s\tremaining: 3.7s\n",
      "689:\tlearn: 0.4029354\ttotal: 8.21s\tremaining: 3.69s\n",
      "690:\tlearn: 0.4028537\ttotal: 8.22s\tremaining: 3.68s\n",
      "691:\tlearn: 0.4028130\ttotal: 8.24s\tremaining: 3.67s\n",
      "692:\tlearn: 0.4027021\ttotal: 8.25s\tremaining: 3.65s\n",
      "693:\tlearn: 0.4026535\ttotal: 8.26s\tremaining: 3.64s\n",
      "694:\tlearn: 0.4026049\ttotal: 8.27s\tremaining: 3.63s\n",
      "695:\tlearn: 0.4025679\ttotal: 8.28s\tremaining: 3.62s\n",
      "696:\tlearn: 0.4025292\ttotal: 8.29s\tremaining: 3.61s\n",
      "697:\tlearn: 0.4024957\ttotal: 8.31s\tremaining: 3.59s\n",
      "698:\tlearn: 0.4024729\ttotal: 8.32s\tremaining: 3.58s\n",
      "699:\tlearn: 0.4024151\ttotal: 8.33s\tremaining: 3.57s\n",
      "700:\tlearn: 0.4023776\ttotal: 8.34s\tremaining: 3.56s\n",
      "701:\tlearn: 0.4023151\ttotal: 8.35s\tremaining: 3.54s\n",
      "702:\tlearn: 0.4022880\ttotal: 8.37s\tremaining: 3.53s\n",
      "703:\tlearn: 0.4022634\ttotal: 8.38s\tremaining: 3.52s\n",
      "704:\tlearn: 0.4022075\ttotal: 8.39s\tremaining: 3.51s\n",
      "705:\tlearn: 0.4021587\ttotal: 8.4s\tremaining: 3.5s\n",
      "706:\tlearn: 0.4021172\ttotal: 8.41s\tremaining: 3.48s\n",
      "707:\tlearn: 0.4020695\ttotal: 8.42s\tremaining: 3.47s\n",
      "708:\tlearn: 0.4020593\ttotal: 8.43s\tremaining: 3.46s\n",
      "709:\tlearn: 0.4019986\ttotal: 8.44s\tremaining: 3.45s\n",
      "710:\tlearn: 0.4019339\ttotal: 8.46s\tremaining: 3.44s\n",
      "711:\tlearn: 0.4018840\ttotal: 8.46s\tremaining: 3.42s\n",
      "712:\tlearn: 0.4018095\ttotal: 8.48s\tremaining: 3.41s\n",
      "713:\tlearn: 0.4017942\ttotal: 8.49s\tremaining: 3.4s\n",
      "714:\tlearn: 0.4017639\ttotal: 8.5s\tremaining: 3.39s\n",
      "715:\tlearn: 0.4017281\ttotal: 8.51s\tremaining: 3.38s\n",
      "716:\tlearn: 0.4016892\ttotal: 8.53s\tremaining: 3.36s\n",
      "717:\tlearn: 0.4016370\ttotal: 8.54s\tremaining: 3.35s\n",
      "718:\tlearn: 0.4016118\ttotal: 8.55s\tremaining: 3.34s\n",
      "719:\tlearn: 0.4015392\ttotal: 8.56s\tremaining: 3.33s\n",
      "720:\tlearn: 0.4015357\ttotal: 8.57s\tremaining: 3.32s\n",
      "721:\tlearn: 0.4014247\ttotal: 8.58s\tremaining: 3.31s\n",
      "722:\tlearn: 0.4013655\ttotal: 8.6s\tremaining: 3.29s\n",
      "723:\tlearn: 0.4013340\ttotal: 8.61s\tremaining: 3.28s\n",
      "724:\tlearn: 0.4013257\ttotal: 8.62s\tremaining: 3.27s\n",
      "725:\tlearn: 0.4013223\ttotal: 8.63s\tremaining: 3.26s\n",
      "726:\tlearn: 0.4012977\ttotal: 8.64s\tremaining: 3.25s\n",
      "727:\tlearn: 0.4012625\ttotal: 8.66s\tremaining: 3.23s\n",
      "728:\tlearn: 0.4012070\ttotal: 8.67s\tremaining: 3.22s\n",
      "729:\tlearn: 0.4011545\ttotal: 8.68s\tremaining: 3.21s\n",
      "730:\tlearn: 0.4011272\ttotal: 8.69s\tremaining: 3.2s\n",
      "731:\tlearn: 0.4010652\ttotal: 8.71s\tremaining: 3.19s\n",
      "732:\tlearn: 0.4010079\ttotal: 8.72s\tremaining: 3.18s\n",
      "733:\tlearn: 0.4009548\ttotal: 8.73s\tremaining: 3.17s\n",
      "734:\tlearn: 0.4008543\ttotal: 8.75s\tremaining: 3.15s\n",
      "735:\tlearn: 0.4008028\ttotal: 8.76s\tremaining: 3.14s\n",
      "736:\tlearn: 0.4007728\ttotal: 8.77s\tremaining: 3.13s\n",
      "737:\tlearn: 0.4007476\ttotal: 8.79s\tremaining: 3.12s\n",
      "738:\tlearn: 0.4006877\ttotal: 8.8s\tremaining: 3.11s\n",
      "739:\tlearn: 0.4006134\ttotal: 8.81s\tremaining: 3.1s\n",
      "740:\tlearn: 0.4005714\ttotal: 8.82s\tremaining: 3.08s\n",
      "741:\tlearn: 0.4005271\ttotal: 8.84s\tremaining: 3.07s\n",
      "742:\tlearn: 0.4004789\ttotal: 8.85s\tremaining: 3.06s\n",
      "743:\tlearn: 0.4003954\ttotal: 8.86s\tremaining: 3.05s\n",
      "744:\tlearn: 0.4003268\ttotal: 8.87s\tremaining: 3.04s\n",
      "745:\tlearn: 0.4003154\ttotal: 8.88s\tremaining: 3.02s\n",
      "746:\tlearn: 0.4002847\ttotal: 8.9s\tremaining: 3.01s\n",
      "747:\tlearn: 0.4002660\ttotal: 8.91s\tremaining: 3s\n",
      "748:\tlearn: 0.4002303\ttotal: 8.92s\tremaining: 2.99s\n",
      "749:\tlearn: 0.4002024\ttotal: 8.93s\tremaining: 2.98s\n",
      "750:\tlearn: 0.4001835\ttotal: 8.95s\tremaining: 2.97s\n",
      "751:\tlearn: 0.4001390\ttotal: 8.96s\tremaining: 2.95s\n",
      "752:\tlearn: 0.4000897\ttotal: 8.97s\tremaining: 2.94s\n",
      "753:\tlearn: 0.3999812\ttotal: 8.98s\tremaining: 2.93s\n",
      "754:\tlearn: 0.3999636\ttotal: 8.99s\tremaining: 2.92s\n",
      "755:\tlearn: 0.3999208\ttotal: 9.01s\tremaining: 2.91s\n",
      "756:\tlearn: 0.3998941\ttotal: 9.02s\tremaining: 2.89s\n",
      "757:\tlearn: 0.3997865\ttotal: 9.03s\tremaining: 2.88s\n",
      "758:\tlearn: 0.3997756\ttotal: 9.04s\tremaining: 2.87s\n",
      "759:\tlearn: 0.3997412\ttotal: 9.05s\tremaining: 2.86s\n",
      "760:\tlearn: 0.3996865\ttotal: 9.06s\tremaining: 2.85s\n",
      "761:\tlearn: 0.3996466\ttotal: 9.07s\tremaining: 2.83s\n",
      "762:\tlearn: 0.3996120\ttotal: 9.08s\tremaining: 2.82s\n",
      "763:\tlearn: 0.3995633\ttotal: 9.09s\tremaining: 2.81s\n",
      "764:\tlearn: 0.3994832\ttotal: 9.11s\tremaining: 2.8s\n",
      "765:\tlearn: 0.3994064\ttotal: 9.12s\tremaining: 2.79s\n",
      "766:\tlearn: 0.3993193\ttotal: 9.13s\tremaining: 2.77s\n",
      "767:\tlearn: 0.3992847\ttotal: 9.14s\tremaining: 2.76s\n",
      "768:\tlearn: 0.3992644\ttotal: 9.15s\tremaining: 2.75s\n",
      "769:\tlearn: 0.3991898\ttotal: 9.16s\tremaining: 2.74s\n",
      "770:\tlearn: 0.3991726\ttotal: 9.18s\tremaining: 2.73s\n",
      "771:\tlearn: 0.3991194\ttotal: 9.19s\tremaining: 2.71s\n",
      "772:\tlearn: 0.3990829\ttotal: 9.2s\tremaining: 2.7s\n",
      "773:\tlearn: 0.3990175\ttotal: 9.21s\tremaining: 2.69s\n",
      "774:\tlearn: 0.3989966\ttotal: 9.22s\tremaining: 2.68s\n",
      "775:\tlearn: 0.3989099\ttotal: 9.23s\tremaining: 2.67s\n",
      "776:\tlearn: 0.3988997\ttotal: 9.24s\tremaining: 2.65s\n",
      "777:\tlearn: 0.3988781\ttotal: 9.26s\tremaining: 2.64s\n",
      "778:\tlearn: 0.3988584\ttotal: 9.27s\tremaining: 2.63s\n",
      "779:\tlearn: 0.3988324\ttotal: 9.28s\tremaining: 2.62s\n",
      "780:\tlearn: 0.3987764\ttotal: 9.29s\tremaining: 2.6s\n",
      "781:\tlearn: 0.3987089\ttotal: 9.3s\tremaining: 2.59s\n",
      "782:\tlearn: 0.3986750\ttotal: 9.31s\tremaining: 2.58s\n",
      "783:\tlearn: 0.3986498\ttotal: 9.33s\tremaining: 2.57s\n",
      "784:\tlearn: 0.3986299\ttotal: 9.34s\tremaining: 2.56s\n",
      "785:\tlearn: 0.3985834\ttotal: 9.35s\tremaining: 2.54s\n",
      "786:\tlearn: 0.3984931\ttotal: 9.36s\tremaining: 2.53s\n",
      "787:\tlearn: 0.3984552\ttotal: 9.37s\tremaining: 2.52s\n",
      "788:\tlearn: 0.3984487\ttotal: 9.38s\tremaining: 2.51s\n",
      "789:\tlearn: 0.3984003\ttotal: 9.39s\tremaining: 2.5s\n",
      "790:\tlearn: 0.3983608\ttotal: 9.4s\tremaining: 2.48s\n",
      "791:\tlearn: 0.3983229\ttotal: 9.41s\tremaining: 2.47s\n",
      "792:\tlearn: 0.3982844\ttotal: 9.43s\tremaining: 2.46s\n",
      "793:\tlearn: 0.3982334\ttotal: 9.44s\tremaining: 2.45s\n",
      "794:\tlearn: 0.3981919\ttotal: 9.45s\tremaining: 2.44s\n",
      "795:\tlearn: 0.3981193\ttotal: 9.46s\tremaining: 2.42s\n",
      "796:\tlearn: 0.3980819\ttotal: 9.47s\tremaining: 2.41s\n",
      "797:\tlearn: 0.3980535\ttotal: 9.49s\tremaining: 2.4s\n",
      "798:\tlearn: 0.3979762\ttotal: 9.5s\tremaining: 2.39s\n",
      "799:\tlearn: 0.3979302\ttotal: 9.51s\tremaining: 2.38s\n",
      "800:\tlearn: 0.3979048\ttotal: 9.52s\tremaining: 2.36s\n",
      "801:\tlearn: 0.3978731\ttotal: 9.53s\tremaining: 2.35s\n",
      "802:\tlearn: 0.3978354\ttotal: 9.54s\tremaining: 2.34s\n",
      "803:\tlearn: 0.3978007\ttotal: 9.55s\tremaining: 2.33s\n",
      "804:\tlearn: 0.3977671\ttotal: 9.56s\tremaining: 2.32s\n",
      "805:\tlearn: 0.3977182\ttotal: 9.57s\tremaining: 2.3s\n",
      "806:\tlearn: 0.3976714\ttotal: 9.58s\tremaining: 2.29s\n",
      "807:\tlearn: 0.3976647\ttotal: 9.59s\tremaining: 2.28s\n",
      "808:\tlearn: 0.3975860\ttotal: 9.61s\tremaining: 2.27s\n",
      "809:\tlearn: 0.3975635\ttotal: 9.62s\tremaining: 2.25s\n",
      "810:\tlearn: 0.3974884\ttotal: 9.63s\tremaining: 2.24s\n",
      "811:\tlearn: 0.3974598\ttotal: 9.64s\tremaining: 2.23s\n",
      "812:\tlearn: 0.3974235\ttotal: 9.65s\tremaining: 2.22s\n",
      "813:\tlearn: 0.3973580\ttotal: 9.66s\tremaining: 2.21s\n",
      "814:\tlearn: 0.3973394\ttotal: 9.68s\tremaining: 2.2s\n",
      "815:\tlearn: 0.3973096\ttotal: 9.69s\tremaining: 2.18s\n",
      "816:\tlearn: 0.3972467\ttotal: 9.7s\tremaining: 2.17s\n",
      "817:\tlearn: 0.3972152\ttotal: 9.71s\tremaining: 2.16s\n",
      "818:\tlearn: 0.3972053\ttotal: 9.73s\tremaining: 2.15s\n",
      "819:\tlearn: 0.3971791\ttotal: 9.74s\tremaining: 2.14s\n",
      "820:\tlearn: 0.3971472\ttotal: 9.75s\tremaining: 2.13s\n",
      "821:\tlearn: 0.3970977\ttotal: 9.77s\tremaining: 2.11s\n",
      "822:\tlearn: 0.3970163\ttotal: 9.78s\tremaining: 2.1s\n",
      "823:\tlearn: 0.3970113\ttotal: 9.79s\tremaining: 2.09s\n",
      "824:\tlearn: 0.3969576\ttotal: 9.8s\tremaining: 2.08s\n",
      "825:\tlearn: 0.3969473\ttotal: 9.81s\tremaining: 2.07s\n",
      "826:\tlearn: 0.3968793\ttotal: 9.82s\tremaining: 2.06s\n",
      "827:\tlearn: 0.3968576\ttotal: 9.84s\tremaining: 2.04s\n",
      "828:\tlearn: 0.3967708\ttotal: 9.85s\tremaining: 2.03s\n",
      "829:\tlearn: 0.3966793\ttotal: 9.86s\tremaining: 2.02s\n",
      "830:\tlearn: 0.3966575\ttotal: 9.87s\tremaining: 2.01s\n",
      "831:\tlearn: 0.3965976\ttotal: 9.89s\tremaining: 2s\n",
      "832:\tlearn: 0.3965600\ttotal: 9.9s\tremaining: 1.98s\n",
      "833:\tlearn: 0.3964992\ttotal: 9.91s\tremaining: 1.97s\n",
      "834:\tlearn: 0.3964440\ttotal: 9.92s\tremaining: 1.96s\n",
      "835:\tlearn: 0.3963917\ttotal: 9.93s\tremaining: 1.95s\n",
      "836:\tlearn: 0.3963700\ttotal: 9.95s\tremaining: 1.94s\n",
      "837:\tlearn: 0.3963483\ttotal: 9.96s\tremaining: 1.92s\n",
      "838:\tlearn: 0.3962845\ttotal: 9.97s\tremaining: 1.91s\n",
      "839:\tlearn: 0.3962640\ttotal: 9.98s\tremaining: 1.9s\n",
      "840:\tlearn: 0.3962592\ttotal: 9.99s\tremaining: 1.89s\n",
      "841:\tlearn: 0.3962407\ttotal: 10s\tremaining: 1.88s\n",
      "842:\tlearn: 0.3961777\ttotal: 10s\tremaining: 1.86s\n",
      "843:\tlearn: 0.3961515\ttotal: 10s\tremaining: 1.85s\n",
      "844:\tlearn: 0.3961321\ttotal: 10s\tremaining: 1.84s\n",
      "845:\tlearn: 0.3960386\ttotal: 10s\tremaining: 1.83s\n",
      "846:\tlearn: 0.3960179\ttotal: 10.1s\tremaining: 1.82s\n",
      "847:\tlearn: 0.3960095\ttotal: 10.1s\tremaining: 1.8s\n",
      "848:\tlearn: 0.3959747\ttotal: 10.1s\tremaining: 1.79s\n",
      "849:\tlearn: 0.3959165\ttotal: 10.1s\tremaining: 1.78s\n",
      "850:\tlearn: 0.3959037\ttotal: 10.1s\tremaining: 1.77s\n",
      "851:\tlearn: 0.3958579\ttotal: 10.1s\tremaining: 1.76s\n",
      "852:\tlearn: 0.3958239\ttotal: 10.1s\tremaining: 1.74s\n",
      "853:\tlearn: 0.3957754\ttotal: 10.1s\tremaining: 1.73s\n",
      "854:\tlearn: 0.3957627\ttotal: 10.1s\tremaining: 1.72s\n",
      "855:\tlearn: 0.3957237\ttotal: 10.2s\tremaining: 1.71s\n",
      "856:\tlearn: 0.3956859\ttotal: 10.2s\tremaining: 1.7s\n",
      "857:\tlearn: 0.3956538\ttotal: 10.2s\tremaining: 1.68s\n",
      "858:\tlearn: 0.3956059\ttotal: 10.2s\tremaining: 1.67s\n",
      "859:\tlearn: 0.3955042\ttotal: 10.2s\tremaining: 1.66s\n",
      "860:\tlearn: 0.3954780\ttotal: 10.2s\tremaining: 1.65s\n",
      "861:\tlearn: 0.3954402\ttotal: 10.2s\tremaining: 1.64s\n",
      "862:\tlearn: 0.3953837\ttotal: 10.2s\tremaining: 1.62s\n",
      "863:\tlearn: 0.3953041\ttotal: 10.2s\tremaining: 1.61s\n",
      "864:\tlearn: 0.3951925\ttotal: 10.3s\tremaining: 1.6s\n",
      "865:\tlearn: 0.3951545\ttotal: 10.3s\tremaining: 1.59s\n",
      "866:\tlearn: 0.3951234\ttotal: 10.3s\tremaining: 1.58s\n",
      "867:\tlearn: 0.3950751\ttotal: 10.3s\tremaining: 1.57s\n",
      "868:\tlearn: 0.3950427\ttotal: 10.3s\tremaining: 1.55s\n",
      "869:\tlearn: 0.3949109\ttotal: 10.3s\tremaining: 1.54s\n",
      "870:\tlearn: 0.3948833\ttotal: 10.3s\tremaining: 1.53s\n",
      "871:\tlearn: 0.3948420\ttotal: 10.4s\tremaining: 1.52s\n",
      "872:\tlearn: 0.3947901\ttotal: 10.4s\tremaining: 1.51s\n",
      "873:\tlearn: 0.3947573\ttotal: 10.4s\tremaining: 1.5s\n",
      "874:\tlearn: 0.3947002\ttotal: 10.4s\tremaining: 1.48s\n",
      "875:\tlearn: 0.3945908\ttotal: 10.4s\tremaining: 1.47s\n",
      "876:\tlearn: 0.3945628\ttotal: 10.4s\tremaining: 1.46s\n",
      "877:\tlearn: 0.3945405\ttotal: 10.4s\tremaining: 1.45s\n",
      "878:\tlearn: 0.3944762\ttotal: 10.4s\tremaining: 1.44s\n",
      "879:\tlearn: 0.3943936\ttotal: 10.4s\tremaining: 1.42s\n",
      "880:\tlearn: 0.3943158\ttotal: 10.5s\tremaining: 1.41s\n",
      "881:\tlearn: 0.3943017\ttotal: 10.5s\tremaining: 1.4s\n",
      "882:\tlearn: 0.3942556\ttotal: 10.5s\tremaining: 1.39s\n",
      "883:\tlearn: 0.3942336\ttotal: 10.5s\tremaining: 1.38s\n",
      "884:\tlearn: 0.3942215\ttotal: 10.5s\tremaining: 1.36s\n",
      "885:\tlearn: 0.3941832\ttotal: 10.5s\tremaining: 1.35s\n",
      "886:\tlearn: 0.3941436\ttotal: 10.5s\tremaining: 1.34s\n",
      "887:\tlearn: 0.3940748\ttotal: 10.5s\tremaining: 1.33s\n",
      "888:\tlearn: 0.3940445\ttotal: 10.5s\tremaining: 1.32s\n",
      "889:\tlearn: 0.3939947\ttotal: 10.6s\tremaining: 1.3s\n",
      "890:\tlearn: 0.3939527\ttotal: 10.6s\tremaining: 1.29s\n",
      "891:\tlearn: 0.3938782\ttotal: 10.6s\tremaining: 1.28s\n",
      "892:\tlearn: 0.3938024\ttotal: 10.6s\tremaining: 1.27s\n",
      "893:\tlearn: 0.3937642\ttotal: 10.6s\tremaining: 1.26s\n",
      "894:\tlearn: 0.3937082\ttotal: 10.6s\tremaining: 1.25s\n",
      "895:\tlearn: 0.3936198\ttotal: 10.6s\tremaining: 1.24s\n",
      "896:\tlearn: 0.3935573\ttotal: 10.7s\tremaining: 1.22s\n",
      "897:\tlearn: 0.3934885\ttotal: 10.7s\tremaining: 1.21s\n",
      "898:\tlearn: 0.3934246\ttotal: 10.7s\tremaining: 1.2s\n",
      "899:\tlearn: 0.3933769\ttotal: 10.7s\tremaining: 1.19s\n",
      "900:\tlearn: 0.3933383\ttotal: 10.7s\tremaining: 1.18s\n",
      "901:\tlearn: 0.3933338\ttotal: 10.7s\tremaining: 1.16s\n",
      "902:\tlearn: 0.3933134\ttotal: 10.7s\tremaining: 1.15s\n",
      "903:\tlearn: 0.3932463\ttotal: 10.7s\tremaining: 1.14s\n",
      "904:\tlearn: 0.3931526\ttotal: 10.8s\tremaining: 1.13s\n",
      "905:\tlearn: 0.3931176\ttotal: 10.8s\tremaining: 1.12s\n",
      "906:\tlearn: 0.3930918\ttotal: 10.8s\tremaining: 1.1s\n",
      "907:\tlearn: 0.3930482\ttotal: 10.8s\tremaining: 1.09s\n",
      "908:\tlearn: 0.3929607\ttotal: 10.8s\tremaining: 1.08s\n",
      "909:\tlearn: 0.3929121\ttotal: 10.8s\tremaining: 1.07s\n",
      "910:\tlearn: 0.3928313\ttotal: 10.8s\tremaining: 1.06s\n",
      "911:\tlearn: 0.3927320\ttotal: 10.8s\tremaining: 1.04s\n",
      "912:\tlearn: 0.3927147\ttotal: 10.8s\tremaining: 1.03s\n",
      "913:\tlearn: 0.3926750\ttotal: 10.9s\tremaining: 1.02s\n",
      "914:\tlearn: 0.3926250\ttotal: 10.9s\tremaining: 1.01s\n",
      "915:\tlearn: 0.3925128\ttotal: 10.9s\tremaining: 998ms\n",
      "916:\tlearn: 0.3924481\ttotal: 10.9s\tremaining: 987ms\n",
      "917:\tlearn: 0.3923864\ttotal: 10.9s\tremaining: 975ms\n",
      "918:\tlearn: 0.3923502\ttotal: 10.9s\tremaining: 963ms\n",
      "919:\tlearn: 0.3923274\ttotal: 10.9s\tremaining: 951ms\n",
      "920:\tlearn: 0.3923169\ttotal: 10.9s\tremaining: 939ms\n",
      "921:\tlearn: 0.3922794\ttotal: 11s\tremaining: 927ms\n",
      "922:\tlearn: 0.3922621\ttotal: 11s\tremaining: 915ms\n",
      "923:\tlearn: 0.3922327\ttotal: 11s\tremaining: 903ms\n",
      "924:\tlearn: 0.3921777\ttotal: 11s\tremaining: 892ms\n",
      "925:\tlearn: 0.3921573\ttotal: 11s\tremaining: 879ms\n",
      "926:\tlearn: 0.3921537\ttotal: 11s\tremaining: 867ms\n",
      "927:\tlearn: 0.3921147\ttotal: 11s\tremaining: 855ms\n",
      "928:\tlearn: 0.3920789\ttotal: 11s\tremaining: 843ms\n",
      "929:\tlearn: 0.3920122\ttotal: 11.1s\tremaining: 832ms\n",
      "930:\tlearn: 0.3919326\ttotal: 11.1s\tremaining: 820ms\n",
      "931:\tlearn: 0.3918874\ttotal: 11.1s\tremaining: 809ms\n",
      "932:\tlearn: 0.3918713\ttotal: 11.1s\tremaining: 797ms\n",
      "933:\tlearn: 0.3918154\ttotal: 11.1s\tremaining: 785ms\n",
      "934:\tlearn: 0.3917776\ttotal: 11.1s\tremaining: 773ms\n",
      "935:\tlearn: 0.3917095\ttotal: 11.1s\tremaining: 762ms\n",
      "936:\tlearn: 0.3916869\ttotal: 11.2s\tremaining: 750ms\n",
      "937:\tlearn: 0.3916682\ttotal: 11.2s\tremaining: 739ms\n",
      "938:\tlearn: 0.3916411\ttotal: 11.2s\tremaining: 727ms\n",
      "939:\tlearn: 0.3916093\ttotal: 11.2s\tremaining: 715ms\n",
      "940:\tlearn: 0.3915786\ttotal: 11.2s\tremaining: 703ms\n",
      "941:\tlearn: 0.3915471\ttotal: 11.2s\tremaining: 691ms\n",
      "942:\tlearn: 0.3915274\ttotal: 11.2s\tremaining: 679ms\n",
      "943:\tlearn: 0.3915045\ttotal: 11.3s\tremaining: 667ms\n",
      "944:\tlearn: 0.3914476\ttotal: 11.3s\tremaining: 656ms\n",
      "945:\tlearn: 0.3913525\ttotal: 11.3s\tremaining: 644ms\n",
      "946:\tlearn: 0.3912931\ttotal: 11.3s\tremaining: 632ms\n",
      "947:\tlearn: 0.3912483\ttotal: 11.3s\tremaining: 620ms\n",
      "948:\tlearn: 0.3912055\ttotal: 11.3s\tremaining: 608ms\n",
      "949:\tlearn: 0.3911329\ttotal: 11.3s\tremaining: 597ms\n",
      "950:\tlearn: 0.3911200\ttotal: 11.3s\tremaining: 585ms\n",
      "951:\tlearn: 0.3910711\ttotal: 11.4s\tremaining: 573ms\n",
      "952:\tlearn: 0.3910576\ttotal: 11.4s\tremaining: 561ms\n",
      "953:\tlearn: 0.3910161\ttotal: 11.4s\tremaining: 549ms\n",
      "954:\tlearn: 0.3909556\ttotal: 11.4s\tremaining: 537ms\n",
      "955:\tlearn: 0.3908980\ttotal: 11.4s\tremaining: 525ms\n",
      "956:\tlearn: 0.3908861\ttotal: 11.4s\tremaining: 513ms\n",
      "957:\tlearn: 0.3908430\ttotal: 11.4s\tremaining: 501ms\n",
      "958:\tlearn: 0.3907850\ttotal: 11.4s\tremaining: 489ms\n",
      "959:\tlearn: 0.3907311\ttotal: 11.5s\tremaining: 477ms\n",
      "960:\tlearn: 0.3907162\ttotal: 11.5s\tremaining: 465ms\n",
      "961:\tlearn: 0.3906575\ttotal: 11.5s\tremaining: 453ms\n",
      "962:\tlearn: 0.3906273\ttotal: 11.5s\tremaining: 442ms\n",
      "963:\tlearn: 0.3905813\ttotal: 11.5s\tremaining: 430ms\n",
      "964:\tlearn: 0.3905704\ttotal: 11.5s\tremaining: 418ms\n",
      "965:\tlearn: 0.3905168\ttotal: 11.5s\tremaining: 406ms\n",
      "966:\tlearn: 0.3904572\ttotal: 11.5s\tremaining: 394ms\n",
      "967:\tlearn: 0.3904117\ttotal: 11.6s\tremaining: 382ms\n",
      "968:\tlearn: 0.3903870\ttotal: 11.6s\tremaining: 370ms\n",
      "969:\tlearn: 0.3903329\ttotal: 11.6s\tremaining: 358ms\n",
      "970:\tlearn: 0.3903047\ttotal: 11.6s\tremaining: 347ms\n",
      "971:\tlearn: 0.3902909\ttotal: 11.6s\tremaining: 335ms\n",
      "972:\tlearn: 0.3902724\ttotal: 11.6s\tremaining: 323ms\n",
      "973:\tlearn: 0.3902588\ttotal: 11.6s\tremaining: 311ms\n",
      "974:\tlearn: 0.3901988\ttotal: 11.7s\tremaining: 299ms\n",
      "975:\tlearn: 0.3901894\ttotal: 11.7s\tremaining: 287ms\n",
      "976:\tlearn: 0.3901186\ttotal: 11.7s\tremaining: 275ms\n",
      "977:\tlearn: 0.3900542\ttotal: 11.7s\tremaining: 263ms\n",
      "978:\tlearn: 0.3899834\ttotal: 11.7s\tremaining: 251ms\n",
      "979:\tlearn: 0.3899538\ttotal: 11.7s\tremaining: 239ms\n",
      "980:\tlearn: 0.3898552\ttotal: 11.7s\tremaining: 227ms\n",
      "981:\tlearn: 0.3898149\ttotal: 11.8s\tremaining: 216ms\n",
      "982:\tlearn: 0.3897349\ttotal: 11.8s\tremaining: 204ms\n",
      "983:\tlearn: 0.3896679\ttotal: 11.8s\tremaining: 192ms\n",
      "984:\tlearn: 0.3896438\ttotal: 11.8s\tremaining: 180ms\n",
      "985:\tlearn: 0.3896400\ttotal: 11.8s\tremaining: 168ms\n",
      "986:\tlearn: 0.3896086\ttotal: 11.8s\tremaining: 156ms\n",
      "987:\tlearn: 0.3895579\ttotal: 11.8s\tremaining: 144ms\n",
      "988:\tlearn: 0.3895341\ttotal: 11.9s\tremaining: 132ms\n",
      "989:\tlearn: 0.3895296\ttotal: 11.9s\tremaining: 120ms\n",
      "990:\tlearn: 0.3894805\ttotal: 11.9s\tremaining: 108ms\n",
      "991:\tlearn: 0.3894431\ttotal: 11.9s\tremaining: 95.9ms\n",
      "992:\tlearn: 0.3893260\ttotal: 11.9s\tremaining: 83.9ms\n",
      "993:\tlearn: 0.3892859\ttotal: 11.9s\tremaining: 71.9ms\n",
      "994:\tlearn: 0.3892285\ttotal: 11.9s\tremaining: 60ms\n",
      "995:\tlearn: 0.3891961\ttotal: 11.9s\tremaining: 48ms\n",
      "996:\tlearn: 0.3891377\ttotal: 12s\tremaining: 36ms\n",
      "997:\tlearn: 0.3890129\ttotal: 12s\tremaining: 24ms\n",
      "998:\tlearn: 0.3889992\ttotal: 12s\tremaining: 12ms\n",
      "999:\tlearn: 0.3889347\ttotal: 12s\tremaining: 0us\n",
      "Fold 3\n",
      "Learning rate set to 0.097881\n",
      "0:\tlearn: 0.9965878\ttotal: 14.6ms\tremaining: 14.5s\n",
      "1:\tlearn: 0.9165289\ttotal: 27.8ms\tremaining: 13.9s\n",
      "2:\tlearn: 0.8535385\ttotal: 41.4ms\tremaining: 13.8s\n",
      "3:\tlearn: 0.8015756\ttotal: 58.1ms\tremaining: 14.5s\n",
      "4:\tlearn: 0.7595521\ttotal: 73ms\tremaining: 14.5s\n",
      "5:\tlearn: 0.7232597\ttotal: 87.1ms\tremaining: 14.4s\n",
      "6:\tlearn: 0.6934466\ttotal: 99.8ms\tremaining: 14.2s\n",
      "7:\tlearn: 0.6675371\ttotal: 113ms\tremaining: 14s\n",
      "8:\tlearn: 0.6460867\ttotal: 125ms\tremaining: 13.8s\n",
      "9:\tlearn: 0.6266307\ttotal: 139ms\tremaining: 13.8s\n",
      "10:\tlearn: 0.6097507\ttotal: 154ms\tremaining: 13.8s\n",
      "11:\tlearn: 0.5947383\ttotal: 172ms\tremaining: 14.2s\n",
      "12:\tlearn: 0.5808520\ttotal: 189ms\tremaining: 14.3s\n",
      "13:\tlearn: 0.5692280\ttotal: 207ms\tremaining: 14.5s\n",
      "14:\tlearn: 0.5589085\ttotal: 224ms\tremaining: 14.7s\n",
      "15:\tlearn: 0.5498331\ttotal: 241ms\tremaining: 14.8s\n",
      "16:\tlearn: 0.5412721\ttotal: 261ms\tremaining: 15.1s\n",
      "17:\tlearn: 0.5343609\ttotal: 278ms\tremaining: 15.2s\n",
      "18:\tlearn: 0.5276556\ttotal: 299ms\tremaining: 15.4s\n",
      "19:\tlearn: 0.5216250\ttotal: 320ms\tremaining: 15.7s\n",
      "20:\tlearn: 0.5168468\ttotal: 340ms\tremaining: 15.9s\n",
      "21:\tlearn: 0.5120893\ttotal: 360ms\tremaining: 16s\n",
      "22:\tlearn: 0.5079530\ttotal: 377ms\tremaining: 16s\n",
      "23:\tlearn: 0.5039993\ttotal: 395ms\tremaining: 16.1s\n",
      "24:\tlearn: 0.5004703\ttotal: 413ms\tremaining: 16.1s\n",
      "25:\tlearn: 0.4971912\ttotal: 429ms\tremaining: 16.1s\n",
      "26:\tlearn: 0.4943733\ttotal: 442ms\tremaining: 15.9s\n",
      "27:\tlearn: 0.4918309\ttotal: 458ms\tremaining: 15.9s\n",
      "28:\tlearn: 0.4892626\ttotal: 471ms\tremaining: 15.8s\n",
      "29:\tlearn: 0.4871361\ttotal: 486ms\tremaining: 15.7s\n",
      "30:\tlearn: 0.4852059\ttotal: 499ms\tremaining: 15.6s\n",
      "31:\tlearn: 0.4832076\ttotal: 511ms\tremaining: 15.5s\n",
      "32:\tlearn: 0.4813981\ttotal: 524ms\tremaining: 15.3s\n",
      "33:\tlearn: 0.4801174\ttotal: 535ms\tremaining: 15.2s\n",
      "34:\tlearn: 0.4785896\ttotal: 546ms\tremaining: 15.1s\n",
      "35:\tlearn: 0.4771225\ttotal: 559ms\tremaining: 15s\n",
      "36:\tlearn: 0.4755479\ttotal: 571ms\tremaining: 14.9s\n",
      "37:\tlearn: 0.4743945\ttotal: 581ms\tremaining: 14.7s\n",
      "38:\tlearn: 0.4732260\ttotal: 594ms\tremaining: 14.6s\n",
      "39:\tlearn: 0.4721322\ttotal: 607ms\tremaining: 14.6s\n",
      "40:\tlearn: 0.4710163\ttotal: 620ms\tremaining: 14.5s\n",
      "41:\tlearn: 0.4699476\ttotal: 633ms\tremaining: 14.4s\n",
      "42:\tlearn: 0.4691310\ttotal: 646ms\tremaining: 14.4s\n",
      "43:\tlearn: 0.4682000\ttotal: 657ms\tremaining: 14.3s\n",
      "44:\tlearn: 0.4670425\ttotal: 670ms\tremaining: 14.2s\n",
      "45:\tlearn: 0.4660110\ttotal: 682ms\tremaining: 14.1s\n",
      "46:\tlearn: 0.4653409\ttotal: 693ms\tremaining: 14.1s\n",
      "47:\tlearn: 0.4648686\ttotal: 705ms\tremaining: 14s\n",
      "48:\tlearn: 0.4642925\ttotal: 716ms\tremaining: 13.9s\n",
      "49:\tlearn: 0.4637529\ttotal: 728ms\tremaining: 13.8s\n",
      "50:\tlearn: 0.4631372\ttotal: 739ms\tremaining: 13.7s\n",
      "51:\tlearn: 0.4626072\ttotal: 752ms\tremaining: 13.7s\n",
      "52:\tlearn: 0.4620587\ttotal: 764ms\tremaining: 13.6s\n",
      "53:\tlearn: 0.4616067\ttotal: 775ms\tremaining: 13.6s\n",
      "54:\tlearn: 0.4611265\ttotal: 785ms\tremaining: 13.5s\n",
      "55:\tlearn: 0.4606822\ttotal: 797ms\tremaining: 13.4s\n",
      "56:\tlearn: 0.4601169\ttotal: 810ms\tremaining: 13.4s\n",
      "57:\tlearn: 0.4597538\ttotal: 821ms\tremaining: 13.3s\n",
      "58:\tlearn: 0.4593842\ttotal: 834ms\tremaining: 13.3s\n",
      "59:\tlearn: 0.4589232\ttotal: 845ms\tremaining: 13.2s\n",
      "60:\tlearn: 0.4584534\ttotal: 857ms\tremaining: 13.2s\n",
      "61:\tlearn: 0.4577041\ttotal: 868ms\tremaining: 13.1s\n",
      "62:\tlearn: 0.4572594\ttotal: 880ms\tremaining: 13.1s\n",
      "63:\tlearn: 0.4569140\ttotal: 891ms\tremaining: 13s\n",
      "64:\tlearn: 0.4566921\ttotal: 901ms\tremaining: 13s\n",
      "65:\tlearn: 0.4561497\ttotal: 913ms\tremaining: 12.9s\n",
      "66:\tlearn: 0.4557788\ttotal: 925ms\tremaining: 12.9s\n",
      "67:\tlearn: 0.4554848\ttotal: 936ms\tremaining: 12.8s\n",
      "68:\tlearn: 0.4551728\ttotal: 948ms\tremaining: 12.8s\n",
      "69:\tlearn: 0.4547148\ttotal: 961ms\tremaining: 12.8s\n",
      "70:\tlearn: 0.4541519\ttotal: 974ms\tremaining: 12.7s\n",
      "71:\tlearn: 0.4538877\ttotal: 986ms\tremaining: 12.7s\n",
      "72:\tlearn: 0.4534440\ttotal: 1s\tremaining: 12.7s\n",
      "73:\tlearn: 0.4532132\ttotal: 1.01s\tremaining: 12.7s\n",
      "74:\tlearn: 0.4528262\ttotal: 1.02s\tremaining: 12.6s\n",
      "75:\tlearn: 0.4524621\ttotal: 1.04s\tremaining: 12.7s\n",
      "76:\tlearn: 0.4521758\ttotal: 1.05s\tremaining: 12.6s\n",
      "77:\tlearn: 0.4519108\ttotal: 1.07s\tremaining: 12.6s\n",
      "78:\tlearn: 0.4518220\ttotal: 1.08s\tremaining: 12.6s\n",
      "79:\tlearn: 0.4516284\ttotal: 1.09s\tremaining: 12.5s\n",
      "80:\tlearn: 0.4512940\ttotal: 1.1s\tremaining: 12.5s\n",
      "81:\tlearn: 0.4511740\ttotal: 1.11s\tremaining: 12.4s\n",
      "82:\tlearn: 0.4509261\ttotal: 1.12s\tremaining: 12.4s\n",
      "83:\tlearn: 0.4507285\ttotal: 1.14s\tremaining: 12.4s\n",
      "84:\tlearn: 0.4504495\ttotal: 1.15s\tremaining: 12.4s\n",
      "85:\tlearn: 0.4501671\ttotal: 1.16s\tremaining: 12.3s\n",
      "86:\tlearn: 0.4498776\ttotal: 1.17s\tremaining: 12.3s\n",
      "87:\tlearn: 0.4495254\ttotal: 1.19s\tremaining: 12.3s\n",
      "88:\tlearn: 0.4492318\ttotal: 1.2s\tremaining: 12.3s\n",
      "89:\tlearn: 0.4490743\ttotal: 1.22s\tremaining: 12.3s\n",
      "90:\tlearn: 0.4488462\ttotal: 1.23s\tremaining: 12.3s\n",
      "91:\tlearn: 0.4484699\ttotal: 1.25s\tremaining: 12.3s\n",
      "92:\tlearn: 0.4481488\ttotal: 1.26s\tremaining: 12.3s\n",
      "93:\tlearn: 0.4479968\ttotal: 1.27s\tremaining: 12.2s\n",
      "94:\tlearn: 0.4478800\ttotal: 1.28s\tremaining: 12.2s\n",
      "95:\tlearn: 0.4477077\ttotal: 1.29s\tremaining: 12.2s\n",
      "96:\tlearn: 0.4475954\ttotal: 1.3s\tremaining: 12.1s\n",
      "97:\tlearn: 0.4473777\ttotal: 1.31s\tremaining: 12.1s\n",
      "98:\tlearn: 0.4471628\ttotal: 1.32s\tremaining: 12s\n",
      "99:\tlearn: 0.4469723\ttotal: 1.33s\tremaining: 12s\n",
      "100:\tlearn: 0.4468770\ttotal: 1.34s\tremaining: 12s\n",
      "101:\tlearn: 0.4466362\ttotal: 1.36s\tremaining: 11.9s\n",
      "102:\tlearn: 0.4463854\ttotal: 1.37s\tremaining: 11.9s\n",
      "103:\tlearn: 0.4462086\ttotal: 1.38s\tremaining: 11.9s\n",
      "104:\tlearn: 0.4460187\ttotal: 1.39s\tremaining: 11.9s\n",
      "105:\tlearn: 0.4458199\ttotal: 1.4s\tremaining: 11.8s\n",
      "106:\tlearn: 0.4455747\ttotal: 1.41s\tremaining: 11.8s\n",
      "107:\tlearn: 0.4453397\ttotal: 1.43s\tremaining: 11.8s\n",
      "108:\tlearn: 0.4450651\ttotal: 1.44s\tremaining: 11.8s\n",
      "109:\tlearn: 0.4448665\ttotal: 1.45s\tremaining: 11.7s\n",
      "110:\tlearn: 0.4446713\ttotal: 1.46s\tremaining: 11.7s\n",
      "111:\tlearn: 0.4445004\ttotal: 1.47s\tremaining: 11.7s\n",
      "112:\tlearn: 0.4442920\ttotal: 1.48s\tremaining: 11.6s\n",
      "113:\tlearn: 0.4441827\ttotal: 1.49s\tremaining: 11.6s\n",
      "114:\tlearn: 0.4440654\ttotal: 1.5s\tremaining: 11.5s\n",
      "115:\tlearn: 0.4438642\ttotal: 1.51s\tremaining: 11.5s\n",
      "116:\tlearn: 0.4436381\ttotal: 1.52s\tremaining: 11.5s\n",
      "117:\tlearn: 0.4432645\ttotal: 1.53s\tremaining: 11.5s\n",
      "118:\tlearn: 0.4429526\ttotal: 1.54s\tremaining: 11.4s\n",
      "119:\tlearn: 0.4428095\ttotal: 1.55s\tremaining: 11.4s\n",
      "120:\tlearn: 0.4425627\ttotal: 1.57s\tremaining: 11.4s\n",
      "121:\tlearn: 0.4424712\ttotal: 1.58s\tremaining: 11.4s\n",
      "122:\tlearn: 0.4421868\ttotal: 1.59s\tremaining: 11.3s\n",
      "123:\tlearn: 0.4419429\ttotal: 1.6s\tremaining: 11.3s\n",
      "124:\tlearn: 0.4416017\ttotal: 1.61s\tremaining: 11.3s\n",
      "125:\tlearn: 0.4414523\ttotal: 1.62s\tremaining: 11.3s\n",
      "126:\tlearn: 0.4412908\ttotal: 1.63s\tremaining: 11.2s\n",
      "127:\tlearn: 0.4412103\ttotal: 1.64s\tremaining: 11.2s\n",
      "128:\tlearn: 0.4409661\ttotal: 1.66s\tremaining: 11.2s\n",
      "129:\tlearn: 0.4407825\ttotal: 1.67s\tremaining: 11.2s\n",
      "130:\tlearn: 0.4405517\ttotal: 1.68s\tremaining: 11.1s\n",
      "131:\tlearn: 0.4404030\ttotal: 1.69s\tremaining: 11.1s\n",
      "132:\tlearn: 0.4402168\ttotal: 1.71s\tremaining: 11.1s\n",
      "133:\tlearn: 0.4400709\ttotal: 1.72s\tremaining: 11.1s\n",
      "134:\tlearn: 0.4398238\ttotal: 1.73s\tremaining: 11.1s\n",
      "135:\tlearn: 0.4395319\ttotal: 1.74s\tremaining: 11.1s\n",
      "136:\tlearn: 0.4394645\ttotal: 1.75s\tremaining: 11s\n",
      "137:\tlearn: 0.4393683\ttotal: 1.76s\tremaining: 11s\n",
      "138:\tlearn: 0.4392674\ttotal: 1.77s\tremaining: 11s\n",
      "139:\tlearn: 0.4391770\ttotal: 1.78s\tremaining: 10.9s\n",
      "140:\tlearn: 0.4390082\ttotal: 1.79s\tremaining: 10.9s\n",
      "141:\tlearn: 0.4388495\ttotal: 1.8s\tremaining: 10.9s\n",
      "142:\tlearn: 0.4386305\ttotal: 1.81s\tremaining: 10.9s\n",
      "143:\tlearn: 0.4385053\ttotal: 1.83s\tremaining: 10.9s\n",
      "144:\tlearn: 0.4383504\ttotal: 1.84s\tremaining: 10.9s\n",
      "145:\tlearn: 0.4382421\ttotal: 1.86s\tremaining: 10.9s\n",
      "146:\tlearn: 0.4380417\ttotal: 1.87s\tremaining: 10.9s\n",
      "147:\tlearn: 0.4378197\ttotal: 1.89s\tremaining: 10.9s\n",
      "148:\tlearn: 0.4376463\ttotal: 1.9s\tremaining: 10.8s\n",
      "149:\tlearn: 0.4376106\ttotal: 1.91s\tremaining: 10.8s\n",
      "150:\tlearn: 0.4374227\ttotal: 1.92s\tremaining: 10.8s\n",
      "151:\tlearn: 0.4373366\ttotal: 1.93s\tremaining: 10.8s\n",
      "152:\tlearn: 0.4372412\ttotal: 1.94s\tremaining: 10.7s\n",
      "153:\tlearn: 0.4371769\ttotal: 1.95s\tremaining: 10.7s\n",
      "154:\tlearn: 0.4369449\ttotal: 1.96s\tremaining: 10.7s\n",
      "155:\tlearn: 0.4367646\ttotal: 1.97s\tremaining: 10.7s\n",
      "156:\tlearn: 0.4366050\ttotal: 1.98s\tremaining: 10.7s\n",
      "157:\tlearn: 0.4365224\ttotal: 1.99s\tremaining: 10.6s\n",
      "158:\tlearn: 0.4363357\ttotal: 2s\tremaining: 10.6s\n",
      "159:\tlearn: 0.4362395\ttotal: 2.01s\tremaining: 10.6s\n",
      "160:\tlearn: 0.4361314\ttotal: 2.02s\tremaining: 10.5s\n",
      "161:\tlearn: 0.4359737\ttotal: 2.04s\tremaining: 10.5s\n",
      "162:\tlearn: 0.4358747\ttotal: 2.05s\tremaining: 10.5s\n",
      "163:\tlearn: 0.4357573\ttotal: 2.06s\tremaining: 10.5s\n",
      "164:\tlearn: 0.4356160\ttotal: 2.07s\tremaining: 10.5s\n",
      "165:\tlearn: 0.4355232\ttotal: 2.08s\tremaining: 10.5s\n",
      "166:\tlearn: 0.4353428\ttotal: 2.09s\tremaining: 10.4s\n",
      "167:\tlearn: 0.4352385\ttotal: 2.1s\tremaining: 10.4s\n",
      "168:\tlearn: 0.4351180\ttotal: 2.11s\tremaining: 10.4s\n",
      "169:\tlearn: 0.4349246\ttotal: 2.12s\tremaining: 10.3s\n",
      "170:\tlearn: 0.4347073\ttotal: 2.13s\tremaining: 10.3s\n",
      "171:\tlearn: 0.4345948\ttotal: 2.15s\tremaining: 10.3s\n",
      "172:\tlearn: 0.4345018\ttotal: 2.16s\tremaining: 10.3s\n",
      "173:\tlearn: 0.4343441\ttotal: 2.17s\tremaining: 10.3s\n",
      "174:\tlearn: 0.4342932\ttotal: 2.19s\tremaining: 10.3s\n",
      "175:\tlearn: 0.4341962\ttotal: 2.2s\tremaining: 10.3s\n",
      "176:\tlearn: 0.4340350\ttotal: 2.21s\tremaining: 10.3s\n",
      "177:\tlearn: 0.4339296\ttotal: 2.23s\tremaining: 10.3s\n",
      "178:\tlearn: 0.4338699\ttotal: 2.24s\tremaining: 10.3s\n",
      "179:\tlearn: 0.4337976\ttotal: 2.26s\tremaining: 10.3s\n",
      "180:\tlearn: 0.4336909\ttotal: 2.27s\tremaining: 10.3s\n",
      "181:\tlearn: 0.4335941\ttotal: 2.29s\tremaining: 10.3s\n",
      "182:\tlearn: 0.4334518\ttotal: 2.3s\tremaining: 10.3s\n",
      "183:\tlearn: 0.4333930\ttotal: 2.31s\tremaining: 10.3s\n",
      "184:\tlearn: 0.4332216\ttotal: 2.33s\tremaining: 10.3s\n",
      "185:\tlearn: 0.4330979\ttotal: 2.34s\tremaining: 10.3s\n",
      "186:\tlearn: 0.4329385\ttotal: 2.36s\tremaining: 10.2s\n",
      "187:\tlearn: 0.4328316\ttotal: 2.37s\tremaining: 10.2s\n",
      "188:\tlearn: 0.4326501\ttotal: 2.38s\tremaining: 10.2s\n",
      "189:\tlearn: 0.4324984\ttotal: 2.4s\tremaining: 10.2s\n",
      "190:\tlearn: 0.4324367\ttotal: 2.41s\tremaining: 10.2s\n",
      "191:\tlearn: 0.4323487\ttotal: 2.42s\tremaining: 10.2s\n",
      "192:\tlearn: 0.4321979\ttotal: 2.43s\tremaining: 10.2s\n",
      "193:\tlearn: 0.4321342\ttotal: 2.45s\tremaining: 10.2s\n",
      "194:\tlearn: 0.4320915\ttotal: 2.46s\tremaining: 10.2s\n",
      "195:\tlearn: 0.4320327\ttotal: 2.47s\tremaining: 10.1s\n",
      "196:\tlearn: 0.4319328\ttotal: 2.48s\tremaining: 10.1s\n",
      "197:\tlearn: 0.4317106\ttotal: 2.5s\tremaining: 10.1s\n",
      "198:\tlearn: 0.4316887\ttotal: 2.51s\tremaining: 10.1s\n",
      "199:\tlearn: 0.4315421\ttotal: 2.52s\tremaining: 10.1s\n",
      "200:\tlearn: 0.4313266\ttotal: 2.54s\tremaining: 10.1s\n",
      "201:\tlearn: 0.4312675\ttotal: 2.55s\tremaining: 10.1s\n",
      "202:\tlearn: 0.4311543\ttotal: 2.56s\tremaining: 10.1s\n",
      "203:\tlearn: 0.4310374\ttotal: 2.58s\tremaining: 10.1s\n",
      "204:\tlearn: 0.4309333\ttotal: 2.59s\tremaining: 10.1s\n",
      "205:\tlearn: 0.4307535\ttotal: 2.6s\tremaining: 10s\n",
      "206:\tlearn: 0.4306261\ttotal: 2.62s\tremaining: 10s\n",
      "207:\tlearn: 0.4304761\ttotal: 2.63s\tremaining: 10s\n",
      "208:\tlearn: 0.4303282\ttotal: 2.64s\tremaining: 9.99s\n",
      "209:\tlearn: 0.4302551\ttotal: 2.65s\tremaining: 9.98s\n",
      "210:\tlearn: 0.4301452\ttotal: 2.66s\tremaining: 9.96s\n",
      "211:\tlearn: 0.4300750\ttotal: 2.67s\tremaining: 9.94s\n",
      "212:\tlearn: 0.4300261\ttotal: 2.69s\tremaining: 9.92s\n",
      "213:\tlearn: 0.4298394\ttotal: 2.7s\tremaining: 9.91s\n",
      "214:\tlearn: 0.4297105\ttotal: 2.71s\tremaining: 9.89s\n",
      "215:\tlearn: 0.4296167\ttotal: 2.72s\tremaining: 9.87s\n",
      "216:\tlearn: 0.4295163\ttotal: 2.73s\tremaining: 9.85s\n",
      "217:\tlearn: 0.4294015\ttotal: 2.74s\tremaining: 9.83s\n",
      "218:\tlearn: 0.4293212\ttotal: 2.75s\tremaining: 9.83s\n",
      "219:\tlearn: 0.4292783\ttotal: 2.77s\tremaining: 9.82s\n",
      "220:\tlearn: 0.4291594\ttotal: 2.78s\tremaining: 9.81s\n",
      "221:\tlearn: 0.4290356\ttotal: 2.79s\tremaining: 9.79s\n",
      "222:\tlearn: 0.4289543\ttotal: 2.81s\tremaining: 9.78s\n",
      "223:\tlearn: 0.4288282\ttotal: 2.82s\tremaining: 9.78s\n",
      "224:\tlearn: 0.4287641\ttotal: 2.83s\tremaining: 9.76s\n",
      "225:\tlearn: 0.4286637\ttotal: 2.85s\tremaining: 9.75s\n",
      "226:\tlearn: 0.4286361\ttotal: 2.86s\tremaining: 9.73s\n",
      "227:\tlearn: 0.4285240\ttotal: 2.87s\tremaining: 9.73s\n",
      "228:\tlearn: 0.4284952\ttotal: 2.88s\tremaining: 9.71s\n",
      "229:\tlearn: 0.4283796\ttotal: 2.9s\tremaining: 9.7s\n",
      "230:\tlearn: 0.4281792\ttotal: 2.91s\tremaining: 9.68s\n",
      "231:\tlearn: 0.4281278\ttotal: 2.92s\tremaining: 9.66s\n",
      "232:\tlearn: 0.4280646\ttotal: 2.93s\tremaining: 9.65s\n",
      "233:\tlearn: 0.4278546\ttotal: 2.94s\tremaining: 9.64s\n",
      "234:\tlearn: 0.4276961\ttotal: 2.96s\tremaining: 9.63s\n",
      "235:\tlearn: 0.4276298\ttotal: 2.97s\tremaining: 9.62s\n",
      "236:\tlearn: 0.4274907\ttotal: 2.99s\tremaining: 9.62s\n",
      "237:\tlearn: 0.4274472\ttotal: 3s\tremaining: 9.61s\n",
      "238:\tlearn: 0.4272662\ttotal: 3.01s\tremaining: 9.6s\n",
      "239:\tlearn: 0.4271769\ttotal: 3.03s\tremaining: 9.6s\n",
      "240:\tlearn: 0.4271169\ttotal: 3.04s\tremaining: 9.58s\n",
      "241:\tlearn: 0.4270522\ttotal: 3.06s\tremaining: 9.58s\n",
      "242:\tlearn: 0.4269277\ttotal: 3.07s\tremaining: 9.57s\n",
      "243:\tlearn: 0.4268777\ttotal: 3.09s\tremaining: 9.57s\n",
      "244:\tlearn: 0.4267719\ttotal: 3.1s\tremaining: 9.56s\n",
      "245:\tlearn: 0.4266826\ttotal: 3.12s\tremaining: 9.55s\n",
      "246:\tlearn: 0.4266090\ttotal: 3.13s\tremaining: 9.56s\n",
      "247:\tlearn: 0.4265030\ttotal: 3.16s\tremaining: 9.57s\n",
      "248:\tlearn: 0.4264935\ttotal: 3.17s\tremaining: 9.56s\n",
      "249:\tlearn: 0.4264135\ttotal: 3.19s\tremaining: 9.56s\n",
      "250:\tlearn: 0.4263111\ttotal: 3.2s\tremaining: 9.55s\n",
      "251:\tlearn: 0.4261930\ttotal: 3.22s\tremaining: 9.56s\n",
      "252:\tlearn: 0.4261304\ttotal: 3.23s\tremaining: 9.55s\n",
      "253:\tlearn: 0.4260843\ttotal: 3.25s\tremaining: 9.54s\n",
      "254:\tlearn: 0.4260046\ttotal: 3.27s\tremaining: 9.54s\n",
      "255:\tlearn: 0.4259236\ttotal: 3.28s\tremaining: 9.54s\n",
      "256:\tlearn: 0.4258200\ttotal: 3.29s\tremaining: 9.53s\n",
      "257:\tlearn: 0.4257470\ttotal: 3.31s\tremaining: 9.53s\n",
      "258:\tlearn: 0.4256842\ttotal: 3.33s\tremaining: 9.53s\n",
      "259:\tlearn: 0.4255795\ttotal: 3.35s\tremaining: 9.54s\n",
      "260:\tlearn: 0.4254766\ttotal: 3.36s\tremaining: 9.53s\n",
      "261:\tlearn: 0.4254396\ttotal: 3.38s\tremaining: 9.51s\n",
      "262:\tlearn: 0.4253589\ttotal: 3.39s\tremaining: 9.5s\n",
      "263:\tlearn: 0.4252815\ttotal: 3.4s\tremaining: 9.49s\n",
      "264:\tlearn: 0.4252165\ttotal: 3.42s\tremaining: 9.48s\n",
      "265:\tlearn: 0.4251175\ttotal: 3.43s\tremaining: 9.47s\n",
      "266:\tlearn: 0.4250717\ttotal: 3.45s\tremaining: 9.46s\n",
      "267:\tlearn: 0.4249057\ttotal: 3.46s\tremaining: 9.46s\n",
      "268:\tlearn: 0.4247520\ttotal: 3.48s\tremaining: 9.45s\n",
      "269:\tlearn: 0.4246374\ttotal: 3.49s\tremaining: 9.45s\n",
      "270:\tlearn: 0.4245743\ttotal: 3.5s\tremaining: 9.43s\n",
      "271:\tlearn: 0.4245439\ttotal: 3.52s\tremaining: 9.41s\n",
      "272:\tlearn: 0.4244571\ttotal: 3.53s\tremaining: 9.39s\n",
      "273:\tlearn: 0.4243932\ttotal: 3.54s\tremaining: 9.38s\n",
      "274:\tlearn: 0.4242781\ttotal: 3.55s\tremaining: 9.36s\n",
      "275:\tlearn: 0.4241896\ttotal: 3.56s\tremaining: 9.35s\n",
      "276:\tlearn: 0.4241458\ttotal: 3.57s\tremaining: 9.33s\n",
      "277:\tlearn: 0.4240704\ttotal: 3.59s\tremaining: 9.31s\n",
      "278:\tlearn: 0.4239519\ttotal: 3.6s\tremaining: 9.3s\n",
      "279:\tlearn: 0.4239330\ttotal: 3.61s\tremaining: 9.29s\n",
      "280:\tlearn: 0.4237513\ttotal: 3.63s\tremaining: 9.28s\n",
      "281:\tlearn: 0.4236494\ttotal: 3.64s\tremaining: 9.27s\n",
      "282:\tlearn: 0.4236023\ttotal: 3.65s\tremaining: 9.24s\n",
      "283:\tlearn: 0.4235149\ttotal: 3.66s\tremaining: 9.23s\n",
      "284:\tlearn: 0.4234057\ttotal: 3.67s\tremaining: 9.22s\n",
      "285:\tlearn: 0.4233777\ttotal: 3.68s\tremaining: 9.2s\n",
      "286:\tlearn: 0.4232875\ttotal: 3.69s\tremaining: 9.18s\n",
      "287:\tlearn: 0.4232144\ttotal: 3.71s\tremaining: 9.16s\n",
      "288:\tlearn: 0.4231696\ttotal: 3.72s\tremaining: 9.14s\n",
      "289:\tlearn: 0.4230654\ttotal: 3.73s\tremaining: 9.13s\n",
      "290:\tlearn: 0.4229443\ttotal: 3.74s\tremaining: 9.12s\n",
      "291:\tlearn: 0.4228637\ttotal: 3.75s\tremaining: 9.1s\n",
      "292:\tlearn: 0.4227588\ttotal: 3.76s\tremaining: 9.08s\n",
      "293:\tlearn: 0.4226641\ttotal: 3.78s\tremaining: 9.07s\n",
      "294:\tlearn: 0.4226411\ttotal: 3.79s\tremaining: 9.06s\n",
      "295:\tlearn: 0.4225558\ttotal: 3.81s\tremaining: 9.05s\n",
      "296:\tlearn: 0.4224302\ttotal: 3.82s\tremaining: 9.04s\n",
      "297:\tlearn: 0.4223738\ttotal: 3.84s\tremaining: 9.04s\n",
      "298:\tlearn: 0.4223338\ttotal: 3.85s\tremaining: 9.02s\n",
      "299:\tlearn: 0.4222590\ttotal: 3.86s\tremaining: 9.01s\n",
      "300:\tlearn: 0.4222296\ttotal: 3.87s\tremaining: 8.99s\n",
      "301:\tlearn: 0.4221739\ttotal: 3.88s\tremaining: 8.98s\n",
      "302:\tlearn: 0.4221370\ttotal: 3.9s\tremaining: 8.96s\n",
      "303:\tlearn: 0.4220646\ttotal: 3.91s\tremaining: 8.95s\n",
      "304:\tlearn: 0.4220600\ttotal: 3.92s\tremaining: 8.93s\n",
      "305:\tlearn: 0.4219918\ttotal: 3.93s\tremaining: 8.91s\n",
      "306:\tlearn: 0.4218259\ttotal: 3.94s\tremaining: 8.9s\n",
      "307:\tlearn: 0.4217602\ttotal: 3.95s\tremaining: 8.88s\n",
      "308:\tlearn: 0.4215994\ttotal: 3.97s\tremaining: 8.87s\n",
      "309:\tlearn: 0.4215141\ttotal: 3.98s\tremaining: 8.86s\n",
      "310:\tlearn: 0.4214745\ttotal: 3.99s\tremaining: 8.84s\n",
      "311:\tlearn: 0.4213968\ttotal: 4s\tremaining: 8.82s\n",
      "312:\tlearn: 0.4213458\ttotal: 4.01s\tremaining: 8.8s\n",
      "313:\tlearn: 0.4212902\ttotal: 4.02s\tremaining: 8.78s\n",
      "314:\tlearn: 0.4212673\ttotal: 4.03s\tremaining: 8.76s\n",
      "315:\tlearn: 0.4210275\ttotal: 4.04s\tremaining: 8.75s\n",
      "316:\tlearn: 0.4209715\ttotal: 4.05s\tremaining: 8.73s\n",
      "317:\tlearn: 0.4209173\ttotal: 4.07s\tremaining: 8.72s\n",
      "318:\tlearn: 0.4207007\ttotal: 4.08s\tremaining: 8.71s\n",
      "319:\tlearn: 0.4206435\ttotal: 4.09s\tremaining: 8.7s\n",
      "320:\tlearn: 0.4205596\ttotal: 4.1s\tremaining: 8.68s\n",
      "321:\tlearn: 0.4205209\ttotal: 4.12s\tremaining: 8.67s\n",
      "322:\tlearn: 0.4204239\ttotal: 4.13s\tremaining: 8.66s\n",
      "323:\tlearn: 0.4203808\ttotal: 4.15s\tremaining: 8.65s\n",
      "324:\tlearn: 0.4202621\ttotal: 4.16s\tremaining: 8.65s\n",
      "325:\tlearn: 0.4201943\ttotal: 4.18s\tremaining: 8.63s\n",
      "326:\tlearn: 0.4200986\ttotal: 4.19s\tremaining: 8.63s\n",
      "327:\tlearn: 0.4200105\ttotal: 4.21s\tremaining: 8.63s\n",
      "328:\tlearn: 0.4199589\ttotal: 4.23s\tremaining: 8.62s\n",
      "329:\tlearn: 0.4199086\ttotal: 4.24s\tremaining: 8.61s\n",
      "330:\tlearn: 0.4198678\ttotal: 4.26s\tremaining: 8.6s\n",
      "331:\tlearn: 0.4197794\ttotal: 4.27s\tremaining: 8.6s\n",
      "332:\tlearn: 0.4197067\ttotal: 4.29s\tremaining: 8.6s\n",
      "333:\tlearn: 0.4196248\ttotal: 4.3s\tremaining: 8.59s\n",
      "334:\tlearn: 0.4195793\ttotal: 4.32s\tremaining: 8.57s\n",
      "335:\tlearn: 0.4194710\ttotal: 4.33s\tremaining: 8.56s\n",
      "336:\tlearn: 0.4194136\ttotal: 4.35s\tremaining: 8.55s\n",
      "337:\tlearn: 0.4193638\ttotal: 4.36s\tremaining: 8.54s\n",
      "338:\tlearn: 0.4192885\ttotal: 4.38s\tremaining: 8.53s\n",
      "339:\tlearn: 0.4192119\ttotal: 4.39s\tremaining: 8.51s\n",
      "340:\tlearn: 0.4191203\ttotal: 4.4s\tremaining: 8.5s\n",
      "341:\tlearn: 0.4191058\ttotal: 4.41s\tremaining: 8.48s\n",
      "342:\tlearn: 0.4190161\ttotal: 4.42s\tremaining: 8.47s\n",
      "343:\tlearn: 0.4189953\ttotal: 4.43s\tremaining: 8.45s\n",
      "344:\tlearn: 0.4189301\ttotal: 4.44s\tremaining: 8.43s\n",
      "345:\tlearn: 0.4188859\ttotal: 4.45s\tremaining: 8.42s\n",
      "346:\tlearn: 0.4188612\ttotal: 4.46s\tremaining: 8.4s\n",
      "347:\tlearn: 0.4187918\ttotal: 4.47s\tremaining: 8.38s\n",
      "348:\tlearn: 0.4187560\ttotal: 4.48s\tremaining: 8.36s\n",
      "349:\tlearn: 0.4186945\ttotal: 4.5s\tremaining: 8.35s\n",
      "350:\tlearn: 0.4185893\ttotal: 4.51s\tremaining: 8.33s\n",
      "351:\tlearn: 0.4185712\ttotal: 4.52s\tremaining: 8.31s\n",
      "352:\tlearn: 0.4185203\ttotal: 4.53s\tremaining: 8.3s\n",
      "353:\tlearn: 0.4184751\ttotal: 4.54s\tremaining: 8.28s\n",
      "354:\tlearn: 0.4184678\ttotal: 4.54s\tremaining: 8.26s\n",
      "355:\tlearn: 0.4183828\ttotal: 4.56s\tremaining: 8.24s\n",
      "356:\tlearn: 0.4183219\ttotal: 4.57s\tremaining: 8.23s\n",
      "357:\tlearn: 0.4183143\ttotal: 4.58s\tremaining: 8.21s\n",
      "358:\tlearn: 0.4182854\ttotal: 4.58s\tremaining: 8.19s\n",
      "359:\tlearn: 0.4182117\ttotal: 4.6s\tremaining: 8.17s\n",
      "360:\tlearn: 0.4181034\ttotal: 4.61s\tremaining: 8.16s\n",
      "361:\tlearn: 0.4180375\ttotal: 4.62s\tremaining: 8.14s\n",
      "362:\tlearn: 0.4179774\ttotal: 4.63s\tremaining: 8.13s\n",
      "363:\tlearn: 0.4179480\ttotal: 4.64s\tremaining: 8.11s\n",
      "364:\tlearn: 0.4179021\ttotal: 4.65s\tremaining: 8.09s\n",
      "365:\tlearn: 0.4177973\ttotal: 4.66s\tremaining: 8.08s\n",
      "366:\tlearn: 0.4175921\ttotal: 4.68s\tremaining: 8.06s\n",
      "367:\tlearn: 0.4175771\ttotal: 4.69s\tremaining: 8.05s\n",
      "368:\tlearn: 0.4174995\ttotal: 4.7s\tremaining: 8.04s\n",
      "369:\tlearn: 0.4174076\ttotal: 4.71s\tremaining: 8.03s\n",
      "370:\tlearn: 0.4173404\ttotal: 4.73s\tremaining: 8.01s\n",
      "371:\tlearn: 0.4172688\ttotal: 4.74s\tremaining: 8s\n",
      "372:\tlearn: 0.4171549\ttotal: 4.75s\tremaining: 7.98s\n",
      "373:\tlearn: 0.4170557\ttotal: 4.76s\tremaining: 7.97s\n",
      "374:\tlearn: 0.4169466\ttotal: 4.78s\tremaining: 7.96s\n",
      "375:\tlearn: 0.4169234\ttotal: 4.78s\tremaining: 7.94s\n",
      "376:\tlearn: 0.4168949\ttotal: 4.79s\tremaining: 7.92s\n",
      "377:\tlearn: 0.4168573\ttotal: 4.8s\tremaining: 7.9s\n",
      "378:\tlearn: 0.4167561\ttotal: 4.81s\tremaining: 7.88s\n",
      "379:\tlearn: 0.4166407\ttotal: 4.82s\tremaining: 7.87s\n",
      "380:\tlearn: 0.4166254\ttotal: 4.83s\tremaining: 7.85s\n",
      "381:\tlearn: 0.4164998\ttotal: 4.84s\tremaining: 7.84s\n",
      "382:\tlearn: 0.4164349\ttotal: 4.85s\tremaining: 7.82s\n",
      "383:\tlearn: 0.4163161\ttotal: 4.86s\tremaining: 7.8s\n",
      "384:\tlearn: 0.4163016\ttotal: 4.87s\tremaining: 7.79s\n",
      "385:\tlearn: 0.4162395\ttotal: 4.88s\tremaining: 7.77s\n",
      "386:\tlearn: 0.4161804\ttotal: 4.9s\tremaining: 7.75s\n",
      "387:\tlearn: 0.4161248\ttotal: 4.91s\tremaining: 7.74s\n",
      "388:\tlearn: 0.4161060\ttotal: 4.92s\tremaining: 7.72s\n",
      "389:\tlearn: 0.4160791\ttotal: 4.92s\tremaining: 7.7s\n",
      "390:\tlearn: 0.4160582\ttotal: 4.93s\tremaining: 7.68s\n",
      "391:\tlearn: 0.4159615\ttotal: 4.94s\tremaining: 7.67s\n",
      "392:\tlearn: 0.4159056\ttotal: 4.95s\tremaining: 7.65s\n",
      "393:\tlearn: 0.4158781\ttotal: 4.96s\tremaining: 7.64s\n",
      "394:\tlearn: 0.4158044\ttotal: 4.97s\tremaining: 7.62s\n",
      "395:\tlearn: 0.4157610\ttotal: 4.99s\tremaining: 7.61s\n",
      "396:\tlearn: 0.4156975\ttotal: 5s\tremaining: 7.59s\n",
      "397:\tlearn: 0.4156072\ttotal: 5.01s\tremaining: 7.58s\n",
      "398:\tlearn: 0.4155903\ttotal: 5.02s\tremaining: 7.56s\n",
      "399:\tlearn: 0.4155105\ttotal: 5.03s\tremaining: 7.55s\n",
      "400:\tlearn: 0.4154711\ttotal: 5.04s\tremaining: 7.53s\n",
      "401:\tlearn: 0.4153770\ttotal: 5.05s\tremaining: 7.52s\n",
      "402:\tlearn: 0.4153667\ttotal: 5.07s\tremaining: 7.5s\n",
      "403:\tlearn: 0.4153368\ttotal: 5.07s\tremaining: 7.49s\n",
      "404:\tlearn: 0.4153090\ttotal: 5.09s\tremaining: 7.47s\n",
      "405:\tlearn: 0.4152567\ttotal: 5.11s\tremaining: 7.47s\n",
      "406:\tlearn: 0.4152154\ttotal: 5.12s\tremaining: 7.46s\n",
      "407:\tlearn: 0.4151154\ttotal: 5.13s\tremaining: 7.45s\n",
      "408:\tlearn: 0.4150384\ttotal: 5.15s\tremaining: 7.44s\n",
      "409:\tlearn: 0.4149801\ttotal: 5.16s\tremaining: 7.43s\n",
      "410:\tlearn: 0.4149018\ttotal: 5.18s\tremaining: 7.42s\n",
      "411:\tlearn: 0.4148763\ttotal: 5.19s\tremaining: 7.41s\n",
      "412:\tlearn: 0.4147873\ttotal: 5.2s\tremaining: 7.39s\n",
      "413:\tlearn: 0.4147395\ttotal: 5.22s\tremaining: 7.38s\n",
      "414:\tlearn: 0.4147159\ttotal: 5.23s\tremaining: 7.37s\n",
      "415:\tlearn: 0.4146363\ttotal: 5.24s\tremaining: 7.36s\n",
      "416:\tlearn: 0.4146107\ttotal: 5.25s\tremaining: 7.34s\n",
      "417:\tlearn: 0.4145900\ttotal: 5.26s\tremaining: 7.33s\n",
      "418:\tlearn: 0.4144975\ttotal: 5.27s\tremaining: 7.31s\n",
      "419:\tlearn: 0.4144298\ttotal: 5.29s\tremaining: 7.3s\n",
      "420:\tlearn: 0.4144014\ttotal: 5.3s\tremaining: 7.29s\n",
      "421:\tlearn: 0.4143627\ttotal: 5.32s\tremaining: 7.28s\n",
      "422:\tlearn: 0.4142405\ttotal: 5.33s\tremaining: 7.28s\n",
      "423:\tlearn: 0.4141570\ttotal: 5.35s\tremaining: 7.27s\n",
      "424:\tlearn: 0.4140807\ttotal: 5.37s\tremaining: 7.26s\n",
      "425:\tlearn: 0.4139752\ttotal: 5.38s\tremaining: 7.25s\n",
      "426:\tlearn: 0.4138880\ttotal: 5.4s\tremaining: 7.24s\n",
      "427:\tlearn: 0.4138254\ttotal: 5.41s\tremaining: 7.23s\n",
      "428:\tlearn: 0.4138049\ttotal: 5.43s\tremaining: 7.22s\n",
      "429:\tlearn: 0.4137141\ttotal: 5.44s\tremaining: 7.21s\n",
      "430:\tlearn: 0.4137070\ttotal: 5.45s\tremaining: 7.2s\n",
      "431:\tlearn: 0.4136638\ttotal: 5.46s\tremaining: 7.18s\n",
      "432:\tlearn: 0.4135593\ttotal: 5.48s\tremaining: 7.17s\n",
      "433:\tlearn: 0.4134854\ttotal: 5.49s\tremaining: 7.16s\n",
      "434:\tlearn: 0.4134433\ttotal: 5.51s\tremaining: 7.15s\n",
      "435:\tlearn: 0.4133660\ttotal: 5.52s\tremaining: 7.14s\n",
      "436:\tlearn: 0.4133417\ttotal: 5.53s\tremaining: 7.13s\n",
      "437:\tlearn: 0.4132978\ttotal: 5.54s\tremaining: 7.11s\n",
      "438:\tlearn: 0.4132160\ttotal: 5.55s\tremaining: 7.1s\n",
      "439:\tlearn: 0.4131881\ttotal: 5.56s\tremaining: 7.08s\n",
      "440:\tlearn: 0.4131460\ttotal: 5.58s\tremaining: 7.07s\n",
      "441:\tlearn: 0.4131335\ttotal: 5.59s\tremaining: 7.05s\n",
      "442:\tlearn: 0.4130974\ttotal: 5.6s\tremaining: 7.04s\n",
      "443:\tlearn: 0.4130378\ttotal: 5.61s\tremaining: 7.02s\n",
      "444:\tlearn: 0.4129727\ttotal: 5.62s\tremaining: 7.01s\n",
      "445:\tlearn: 0.4129299\ttotal: 5.63s\tremaining: 6.99s\n",
      "446:\tlearn: 0.4128628\ttotal: 5.64s\tremaining: 6.98s\n",
      "447:\tlearn: 0.4128105\ttotal: 5.65s\tremaining: 6.96s\n",
      "448:\tlearn: 0.4126966\ttotal: 5.66s\tremaining: 6.95s\n",
      "449:\tlearn: 0.4126419\ttotal: 5.67s\tremaining: 6.93s\n",
      "450:\tlearn: 0.4125906\ttotal: 5.68s\tremaining: 6.92s\n",
      "451:\tlearn: 0.4125206\ttotal: 5.69s\tremaining: 6.9s\n",
      "452:\tlearn: 0.4124027\ttotal: 5.71s\tremaining: 6.89s\n",
      "453:\tlearn: 0.4123134\ttotal: 5.72s\tremaining: 6.88s\n",
      "454:\tlearn: 0.4122598\ttotal: 5.73s\tremaining: 6.86s\n",
      "455:\tlearn: 0.4122325\ttotal: 5.74s\tremaining: 6.84s\n",
      "456:\tlearn: 0.4122132\ttotal: 5.75s\tremaining: 6.83s\n",
      "457:\tlearn: 0.4120997\ttotal: 5.76s\tremaining: 6.81s\n",
      "458:\tlearn: 0.4119262\ttotal: 5.77s\tremaining: 6.8s\n",
      "459:\tlearn: 0.4118788\ttotal: 5.78s\tremaining: 6.79s\n",
      "460:\tlearn: 0.4117840\ttotal: 5.79s\tremaining: 6.77s\n",
      "461:\tlearn: 0.4117381\ttotal: 5.8s\tremaining: 6.76s\n",
      "462:\tlearn: 0.4116912\ttotal: 5.81s\tremaining: 6.74s\n",
      "463:\tlearn: 0.4115724\ttotal: 5.83s\tremaining: 6.73s\n",
      "464:\tlearn: 0.4115570\ttotal: 5.83s\tremaining: 6.71s\n",
      "465:\tlearn: 0.4115221\ttotal: 5.84s\tremaining: 6.69s\n",
      "466:\tlearn: 0.4114644\ttotal: 5.85s\tremaining: 6.68s\n",
      "467:\tlearn: 0.4113981\ttotal: 5.87s\tremaining: 6.67s\n",
      "468:\tlearn: 0.4112630\ttotal: 5.88s\tremaining: 6.65s\n",
      "469:\tlearn: 0.4112302\ttotal: 5.89s\tremaining: 6.64s\n",
      "470:\tlearn: 0.4111688\ttotal: 5.9s\tremaining: 6.62s\n",
      "471:\tlearn: 0.4111592\ttotal: 5.91s\tremaining: 6.61s\n",
      "472:\tlearn: 0.4110736\ttotal: 5.92s\tremaining: 6.59s\n",
      "473:\tlearn: 0.4110317\ttotal: 5.93s\tremaining: 6.58s\n",
      "474:\tlearn: 0.4110035\ttotal: 5.94s\tremaining: 6.56s\n",
      "475:\tlearn: 0.4109571\ttotal: 5.95s\tremaining: 6.55s\n",
      "476:\tlearn: 0.4108828\ttotal: 5.96s\tremaining: 6.54s\n",
      "477:\tlearn: 0.4108463\ttotal: 5.97s\tremaining: 6.52s\n",
      "478:\tlearn: 0.4107741\ttotal: 5.98s\tremaining: 6.5s\n",
      "479:\tlearn: 0.4107188\ttotal: 5.99s\tremaining: 6.49s\n",
      "480:\tlearn: 0.4106770\ttotal: 6s\tremaining: 6.47s\n",
      "481:\tlearn: 0.4105076\ttotal: 6.01s\tremaining: 6.46s\n",
      "482:\tlearn: 0.4104092\ttotal: 6.02s\tremaining: 6.45s\n",
      "483:\tlearn: 0.4103951\ttotal: 6.03s\tremaining: 6.43s\n",
      "484:\tlearn: 0.4103294\ttotal: 6.04s\tremaining: 6.41s\n",
      "485:\tlearn: 0.4102549\ttotal: 6.05s\tremaining: 6.4s\n",
      "486:\tlearn: 0.4102183\ttotal: 6.06s\tremaining: 6.39s\n",
      "487:\tlearn: 0.4101823\ttotal: 6.07s\tremaining: 6.37s\n",
      "488:\tlearn: 0.4101203\ttotal: 6.08s\tremaining: 6.36s\n",
      "489:\tlearn: 0.4101127\ttotal: 6.09s\tremaining: 6.34s\n",
      "490:\tlearn: 0.4100634\ttotal: 6.11s\tremaining: 6.33s\n",
      "491:\tlearn: 0.4100366\ttotal: 6.12s\tremaining: 6.32s\n",
      "492:\tlearn: 0.4100337\ttotal: 6.13s\tremaining: 6.3s\n",
      "493:\tlearn: 0.4100116\ttotal: 6.14s\tremaining: 6.29s\n",
      "494:\tlearn: 0.4099754\ttotal: 6.15s\tremaining: 6.27s\n",
      "495:\tlearn: 0.4099724\ttotal: 6.16s\tremaining: 6.25s\n",
      "496:\tlearn: 0.4099174\ttotal: 6.17s\tremaining: 6.24s\n",
      "497:\tlearn: 0.4098589\ttotal: 6.18s\tremaining: 6.23s\n",
      "498:\tlearn: 0.4098411\ttotal: 6.19s\tremaining: 6.21s\n",
      "499:\tlearn: 0.4097328\ttotal: 6.2s\tremaining: 6.2s\n",
      "500:\tlearn: 0.4097227\ttotal: 6.21s\tremaining: 6.18s\n",
      "501:\tlearn: 0.4096961\ttotal: 6.21s\tremaining: 6.16s\n",
      "502:\tlearn: 0.4096472\ttotal: 6.22s\tremaining: 6.15s\n",
      "503:\tlearn: 0.4095597\ttotal: 6.23s\tremaining: 6.13s\n",
      "504:\tlearn: 0.4094808\ttotal: 6.24s\tremaining: 6.12s\n",
      "505:\tlearn: 0.4094224\ttotal: 6.25s\tremaining: 6.11s\n",
      "506:\tlearn: 0.4093864\ttotal: 6.26s\tremaining: 6.09s\n",
      "507:\tlearn: 0.4092629\ttotal: 6.28s\tremaining: 6.08s\n",
      "508:\tlearn: 0.4092108\ttotal: 6.29s\tremaining: 6.06s\n",
      "509:\tlearn: 0.4091552\ttotal: 6.3s\tremaining: 6.05s\n",
      "510:\tlearn: 0.4091298\ttotal: 6.31s\tremaining: 6.04s\n",
      "511:\tlearn: 0.4090623\ttotal: 6.32s\tremaining: 6.02s\n",
      "512:\tlearn: 0.4089698\ttotal: 6.33s\tremaining: 6.01s\n",
      "513:\tlearn: 0.4088612\ttotal: 6.34s\tremaining: 6s\n",
      "514:\tlearn: 0.4088172\ttotal: 6.35s\tremaining: 5.98s\n",
      "515:\tlearn: 0.4087792\ttotal: 6.36s\tremaining: 5.97s\n",
      "516:\tlearn: 0.4086985\ttotal: 6.37s\tremaining: 5.95s\n",
      "517:\tlearn: 0.4086652\ttotal: 6.38s\tremaining: 5.94s\n",
      "518:\tlearn: 0.4086298\ttotal: 6.39s\tremaining: 5.93s\n",
      "519:\tlearn: 0.4085483\ttotal: 6.4s\tremaining: 5.91s\n",
      "520:\tlearn: 0.4085056\ttotal: 6.41s\tremaining: 5.9s\n",
      "521:\tlearn: 0.4083952\ttotal: 6.42s\tremaining: 5.88s\n",
      "522:\tlearn: 0.4083592\ttotal: 6.43s\tremaining: 5.87s\n",
      "523:\tlearn: 0.4082947\ttotal: 6.44s\tremaining: 5.85s\n",
      "524:\tlearn: 0.4082296\ttotal: 6.45s\tremaining: 5.84s\n",
      "525:\tlearn: 0.4081995\ttotal: 6.46s\tremaining: 5.82s\n",
      "526:\tlearn: 0.4081552\ttotal: 6.47s\tremaining: 5.81s\n",
      "527:\tlearn: 0.4080915\ttotal: 6.48s\tremaining: 5.79s\n",
      "528:\tlearn: 0.4080496\ttotal: 6.49s\tremaining: 5.78s\n",
      "529:\tlearn: 0.4079916\ttotal: 6.5s\tremaining: 5.77s\n",
      "530:\tlearn: 0.4079042\ttotal: 6.51s\tremaining: 5.75s\n",
      "531:\tlearn: 0.4078639\ttotal: 6.53s\tremaining: 5.74s\n",
      "532:\tlearn: 0.4078354\ttotal: 6.54s\tremaining: 5.72s\n",
      "533:\tlearn: 0.4078155\ttotal: 6.54s\tremaining: 5.71s\n",
      "534:\tlearn: 0.4078024\ttotal: 6.55s\tremaining: 5.7s\n",
      "535:\tlearn: 0.4077847\ttotal: 6.56s\tremaining: 5.68s\n",
      "536:\tlearn: 0.4077168\ttotal: 6.57s\tremaining: 5.67s\n",
      "537:\tlearn: 0.4076744\ttotal: 6.58s\tremaining: 5.65s\n",
      "538:\tlearn: 0.4076706\ttotal: 6.59s\tremaining: 5.64s\n",
      "539:\tlearn: 0.4076466\ttotal: 6.6s\tremaining: 5.62s\n",
      "540:\tlearn: 0.4076206\ttotal: 6.61s\tremaining: 5.61s\n",
      "541:\tlearn: 0.4075581\ttotal: 6.62s\tremaining: 5.59s\n",
      "542:\tlearn: 0.4074377\ttotal: 6.63s\tremaining: 5.58s\n",
      "543:\tlearn: 0.4073608\ttotal: 6.64s\tremaining: 5.57s\n",
      "544:\tlearn: 0.4073316\ttotal: 6.65s\tremaining: 5.55s\n",
      "545:\tlearn: 0.4072324\ttotal: 6.66s\tremaining: 5.54s\n",
      "546:\tlearn: 0.4071436\ttotal: 6.67s\tremaining: 5.52s\n",
      "547:\tlearn: 0.4071206\ttotal: 6.68s\tremaining: 5.51s\n",
      "548:\tlearn: 0.4070563\ttotal: 6.69s\tremaining: 5.5s\n",
      "549:\tlearn: 0.4070311\ttotal: 6.7s\tremaining: 5.49s\n",
      "550:\tlearn: 0.4070268\ttotal: 6.71s\tremaining: 5.47s\n",
      "551:\tlearn: 0.4069915\ttotal: 6.72s\tremaining: 5.46s\n",
      "552:\tlearn: 0.4069394\ttotal: 6.73s\tremaining: 5.44s\n",
      "553:\tlearn: 0.4069171\ttotal: 6.74s\tremaining: 5.43s\n",
      "554:\tlearn: 0.4068460\ttotal: 6.75s\tremaining: 5.41s\n",
      "555:\tlearn: 0.4068247\ttotal: 6.76s\tremaining: 5.4s\n",
      "556:\tlearn: 0.4067533\ttotal: 6.77s\tremaining: 5.38s\n",
      "557:\tlearn: 0.4066981\ttotal: 6.78s\tremaining: 5.37s\n",
      "558:\tlearn: 0.4066677\ttotal: 6.79s\tremaining: 5.36s\n",
      "559:\tlearn: 0.4066102\ttotal: 6.8s\tremaining: 5.34s\n",
      "560:\tlearn: 0.4065561\ttotal: 6.81s\tremaining: 5.33s\n",
      "561:\tlearn: 0.4065217\ttotal: 6.82s\tremaining: 5.32s\n",
      "562:\tlearn: 0.4065092\ttotal: 6.83s\tremaining: 5.3s\n",
      "563:\tlearn: 0.4064678\ttotal: 6.84s\tremaining: 5.29s\n",
      "564:\tlearn: 0.4064370\ttotal: 6.85s\tremaining: 5.27s\n",
      "565:\tlearn: 0.4063369\ttotal: 6.86s\tremaining: 5.26s\n",
      "566:\tlearn: 0.4062751\ttotal: 6.87s\tremaining: 5.25s\n",
      "567:\tlearn: 0.4061741\ttotal: 6.88s\tremaining: 5.23s\n",
      "568:\tlearn: 0.4060796\ttotal: 6.89s\tremaining: 5.22s\n",
      "569:\tlearn: 0.4060590\ttotal: 6.9s\tremaining: 5.21s\n",
      "570:\tlearn: 0.4060101\ttotal: 6.91s\tremaining: 5.19s\n",
      "571:\tlearn: 0.4059971\ttotal: 6.92s\tremaining: 5.18s\n",
      "572:\tlearn: 0.4059849\ttotal: 6.93s\tremaining: 5.17s\n",
      "573:\tlearn: 0.4059225\ttotal: 6.94s\tremaining: 5.15s\n",
      "574:\tlearn: 0.4058386\ttotal: 6.96s\tremaining: 5.14s\n",
      "575:\tlearn: 0.4058091\ttotal: 6.96s\tremaining: 5.13s\n",
      "576:\tlearn: 0.4057893\ttotal: 6.97s\tremaining: 5.11s\n",
      "577:\tlearn: 0.4057429\ttotal: 6.98s\tremaining: 5.1s\n",
      "578:\tlearn: 0.4056756\ttotal: 6.99s\tremaining: 5.08s\n",
      "579:\tlearn: 0.4056483\ttotal: 7s\tremaining: 5.07s\n",
      "580:\tlearn: 0.4055814\ttotal: 7.01s\tremaining: 5.05s\n",
      "581:\tlearn: 0.4054427\ttotal: 7.02s\tremaining: 5.04s\n",
      "582:\tlearn: 0.4054052\ttotal: 7.03s\tremaining: 5.03s\n",
      "583:\tlearn: 0.4053642\ttotal: 7.04s\tremaining: 5.02s\n",
      "584:\tlearn: 0.4053432\ttotal: 7.05s\tremaining: 5s\n",
      "585:\tlearn: 0.4052547\ttotal: 7.06s\tremaining: 4.99s\n",
      "586:\tlearn: 0.4051997\ttotal: 7.08s\tremaining: 4.98s\n",
      "587:\tlearn: 0.4051792\ttotal: 7.09s\tremaining: 4.97s\n",
      "588:\tlearn: 0.4051409\ttotal: 7.1s\tremaining: 4.95s\n",
      "589:\tlearn: 0.4050619\ttotal: 7.11s\tremaining: 4.94s\n",
      "590:\tlearn: 0.4050509\ttotal: 7.12s\tremaining: 4.93s\n",
      "591:\tlearn: 0.4050179\ttotal: 7.13s\tremaining: 4.92s\n",
      "592:\tlearn: 0.4049872\ttotal: 7.14s\tremaining: 4.9s\n",
      "593:\tlearn: 0.4049374\ttotal: 7.15s\tremaining: 4.89s\n",
      "594:\tlearn: 0.4048974\ttotal: 7.16s\tremaining: 4.88s\n",
      "595:\tlearn: 0.4048039\ttotal: 7.17s\tremaining: 4.86s\n",
      "596:\tlearn: 0.4047952\ttotal: 7.18s\tremaining: 4.85s\n",
      "597:\tlearn: 0.4046873\ttotal: 7.2s\tremaining: 4.84s\n",
      "598:\tlearn: 0.4046121\ttotal: 7.2s\tremaining: 4.82s\n",
      "599:\tlearn: 0.4045519\ttotal: 7.21s\tremaining: 4.81s\n",
      "600:\tlearn: 0.4044677\ttotal: 7.23s\tremaining: 4.8s\n",
      "601:\tlearn: 0.4044066\ttotal: 7.24s\tremaining: 4.79s\n",
      "602:\tlearn: 0.4043765\ttotal: 7.25s\tremaining: 4.77s\n",
      "603:\tlearn: 0.4043118\ttotal: 7.26s\tremaining: 4.76s\n",
      "604:\tlearn: 0.4042212\ttotal: 7.27s\tremaining: 4.75s\n",
      "605:\tlearn: 0.4042057\ttotal: 7.28s\tremaining: 4.73s\n",
      "606:\tlearn: 0.4041135\ttotal: 7.29s\tremaining: 4.72s\n",
      "607:\tlearn: 0.4040764\ttotal: 7.3s\tremaining: 4.71s\n",
      "608:\tlearn: 0.4040464\ttotal: 7.31s\tremaining: 4.7s\n",
      "609:\tlearn: 0.4040168\ttotal: 7.32s\tremaining: 4.68s\n",
      "610:\tlearn: 0.4039718\ttotal: 7.33s\tremaining: 4.67s\n",
      "611:\tlearn: 0.4039201\ttotal: 7.34s\tremaining: 4.66s\n",
      "612:\tlearn: 0.4038942\ttotal: 7.35s\tremaining: 4.64s\n",
      "613:\tlearn: 0.4037923\ttotal: 7.36s\tremaining: 4.63s\n",
      "614:\tlearn: 0.4037409\ttotal: 7.37s\tremaining: 4.62s\n",
      "615:\tlearn: 0.4036860\ttotal: 7.38s\tremaining: 4.6s\n",
      "616:\tlearn: 0.4036419\ttotal: 7.39s\tremaining: 4.59s\n",
      "617:\tlearn: 0.4035948\ttotal: 7.4s\tremaining: 4.58s\n",
      "618:\tlearn: 0.4035827\ttotal: 7.41s\tremaining: 4.56s\n",
      "619:\tlearn: 0.4035597\ttotal: 7.42s\tremaining: 4.55s\n",
      "620:\tlearn: 0.4035068\ttotal: 7.43s\tremaining: 4.54s\n",
      "621:\tlearn: 0.4034804\ttotal: 7.44s\tremaining: 4.52s\n",
      "622:\tlearn: 0.4034493\ttotal: 7.45s\tremaining: 4.51s\n",
      "623:\tlearn: 0.4034160\ttotal: 7.46s\tremaining: 4.5s\n",
      "624:\tlearn: 0.4033787\ttotal: 7.47s\tremaining: 4.48s\n",
      "625:\tlearn: 0.4032986\ttotal: 7.49s\tremaining: 4.47s\n",
      "626:\tlearn: 0.4032674\ttotal: 7.5s\tremaining: 4.46s\n",
      "627:\tlearn: 0.4032317\ttotal: 7.51s\tremaining: 4.45s\n",
      "628:\tlearn: 0.4031420\ttotal: 7.52s\tremaining: 4.44s\n",
      "629:\tlearn: 0.4031144\ttotal: 7.53s\tremaining: 4.42s\n",
      "630:\tlearn: 0.4030742\ttotal: 7.54s\tremaining: 4.41s\n",
      "631:\tlearn: 0.4029760\ttotal: 7.55s\tremaining: 4.4s\n",
      "632:\tlearn: 0.4029542\ttotal: 7.56s\tremaining: 4.38s\n",
      "633:\tlearn: 0.4029100\ttotal: 7.57s\tremaining: 4.37s\n",
      "634:\tlearn: 0.4028189\ttotal: 7.58s\tremaining: 4.36s\n",
      "635:\tlearn: 0.4027702\ttotal: 7.59s\tremaining: 4.34s\n",
      "636:\tlearn: 0.4027217\ttotal: 7.6s\tremaining: 4.33s\n",
      "637:\tlearn: 0.4027045\ttotal: 7.61s\tremaining: 4.32s\n",
      "638:\tlearn: 0.4026620\ttotal: 7.63s\tremaining: 4.31s\n",
      "639:\tlearn: 0.4025792\ttotal: 7.63s\tremaining: 4.29s\n",
      "640:\tlearn: 0.4025514\ttotal: 7.64s\tremaining: 4.28s\n",
      "641:\tlearn: 0.4025089\ttotal: 7.65s\tremaining: 4.27s\n",
      "642:\tlearn: 0.4024309\ttotal: 7.66s\tremaining: 4.25s\n",
      "643:\tlearn: 0.4024193\ttotal: 7.67s\tremaining: 4.24s\n",
      "644:\tlearn: 0.4023767\ttotal: 7.68s\tremaining: 4.23s\n",
      "645:\tlearn: 0.4023530\ttotal: 7.69s\tremaining: 4.22s\n",
      "646:\tlearn: 0.4023104\ttotal: 7.71s\tremaining: 4.2s\n",
      "647:\tlearn: 0.4022788\ttotal: 7.72s\tremaining: 4.2s\n",
      "648:\tlearn: 0.4022509\ttotal: 7.74s\tremaining: 4.18s\n",
      "649:\tlearn: 0.4021832\ttotal: 7.75s\tremaining: 4.17s\n",
      "650:\tlearn: 0.4021159\ttotal: 7.76s\tremaining: 4.16s\n",
      "651:\tlearn: 0.4020423\ttotal: 7.77s\tremaining: 4.15s\n",
      "652:\tlearn: 0.4020176\ttotal: 7.78s\tremaining: 4.13s\n",
      "653:\tlearn: 0.4020006\ttotal: 7.79s\tremaining: 4.12s\n",
      "654:\tlearn: 0.4019660\ttotal: 7.8s\tremaining: 4.11s\n",
      "655:\tlearn: 0.4019539\ttotal: 7.81s\tremaining: 4.09s\n",
      "656:\tlearn: 0.4019290\ttotal: 7.82s\tremaining: 4.08s\n",
      "657:\tlearn: 0.4018842\ttotal: 7.83s\tremaining: 4.07s\n",
      "658:\tlearn: 0.4018566\ttotal: 7.83s\tremaining: 4.05s\n",
      "659:\tlearn: 0.4017832\ttotal: 7.85s\tremaining: 4.04s\n",
      "660:\tlearn: 0.4017516\ttotal: 7.86s\tremaining: 4.03s\n",
      "661:\tlearn: 0.4017295\ttotal: 7.87s\tremaining: 4.02s\n",
      "662:\tlearn: 0.4016677\ttotal: 7.88s\tremaining: 4s\n",
      "663:\tlearn: 0.4016141\ttotal: 7.89s\tremaining: 3.99s\n",
      "664:\tlearn: 0.4016026\ttotal: 7.9s\tremaining: 3.98s\n",
      "665:\tlearn: 0.4015772\ttotal: 7.91s\tremaining: 3.96s\n",
      "666:\tlearn: 0.4015210\ttotal: 7.92s\tremaining: 3.95s\n",
      "667:\tlearn: 0.4014923\ttotal: 7.93s\tremaining: 3.94s\n",
      "668:\tlearn: 0.4014296\ttotal: 7.94s\tremaining: 3.93s\n",
      "669:\tlearn: 0.4013731\ttotal: 7.95s\tremaining: 3.91s\n",
      "670:\tlearn: 0.4013238\ttotal: 7.96s\tremaining: 3.9s\n",
      "671:\tlearn: 0.4012673\ttotal: 7.97s\tremaining: 3.89s\n",
      "672:\tlearn: 0.4011802\ttotal: 7.98s\tremaining: 3.88s\n",
      "673:\tlearn: 0.4011740\ttotal: 7.99s\tremaining: 3.86s\n",
      "674:\tlearn: 0.4011636\ttotal: 8s\tremaining: 3.85s\n",
      "675:\tlearn: 0.4011175\ttotal: 8.01s\tremaining: 3.84s\n",
      "676:\tlearn: 0.4010541\ttotal: 8.02s\tremaining: 3.82s\n",
      "677:\tlearn: 0.4010497\ttotal: 8.03s\tremaining: 3.81s\n",
      "678:\tlearn: 0.4010064\ttotal: 8.04s\tremaining: 3.8s\n",
      "679:\tlearn: 0.4009205\ttotal: 8.05s\tremaining: 3.79s\n",
      "680:\tlearn: 0.4009061\ttotal: 8.06s\tremaining: 3.78s\n",
      "681:\tlearn: 0.4008008\ttotal: 8.07s\tremaining: 3.76s\n",
      "682:\tlearn: 0.4006898\ttotal: 8.09s\tremaining: 3.75s\n",
      "683:\tlearn: 0.4006713\ttotal: 8.1s\tremaining: 3.74s\n",
      "684:\tlearn: 0.4006331\ttotal: 8.11s\tremaining: 3.73s\n",
      "685:\tlearn: 0.4006223\ttotal: 8.13s\tremaining: 3.72s\n",
      "686:\tlearn: 0.4005720\ttotal: 8.14s\tremaining: 3.71s\n",
      "687:\tlearn: 0.4005434\ttotal: 8.15s\tremaining: 3.7s\n",
      "688:\tlearn: 0.4004982\ttotal: 8.16s\tremaining: 3.69s\n",
      "689:\tlearn: 0.4004604\ttotal: 8.18s\tremaining: 3.67s\n",
      "690:\tlearn: 0.4003392\ttotal: 8.19s\tremaining: 3.66s\n",
      "691:\tlearn: 0.4003040\ttotal: 8.2s\tremaining: 3.65s\n",
      "692:\tlearn: 0.4002559\ttotal: 8.21s\tremaining: 3.64s\n",
      "693:\tlearn: 0.4002294\ttotal: 8.23s\tremaining: 3.63s\n",
      "694:\tlearn: 0.4001820\ttotal: 8.24s\tremaining: 3.62s\n",
      "695:\tlearn: 0.4001408\ttotal: 8.26s\tremaining: 3.61s\n",
      "696:\tlearn: 0.4000581\ttotal: 8.27s\tremaining: 3.6s\n",
      "697:\tlearn: 0.4000488\ttotal: 8.29s\tremaining: 3.58s\n",
      "698:\tlearn: 0.3999528\ttotal: 8.3s\tremaining: 3.57s\n",
      "699:\tlearn: 0.3998964\ttotal: 8.31s\tremaining: 3.56s\n",
      "700:\tlearn: 0.3998672\ttotal: 8.32s\tremaining: 3.55s\n",
      "701:\tlearn: 0.3998087\ttotal: 8.34s\tremaining: 3.54s\n",
      "702:\tlearn: 0.3996956\ttotal: 8.35s\tremaining: 3.53s\n",
      "703:\tlearn: 0.3996797\ttotal: 8.37s\tremaining: 3.52s\n",
      "704:\tlearn: 0.3996436\ttotal: 8.38s\tremaining: 3.5s\n",
      "705:\tlearn: 0.3995454\ttotal: 8.39s\tremaining: 3.49s\n",
      "706:\tlearn: 0.3995226\ttotal: 8.4s\tremaining: 3.48s\n",
      "707:\tlearn: 0.3995025\ttotal: 8.41s\tremaining: 3.47s\n",
      "708:\tlearn: 0.3994767\ttotal: 8.42s\tremaining: 3.46s\n",
      "709:\tlearn: 0.3994575\ttotal: 8.43s\tremaining: 3.44s\n",
      "710:\tlearn: 0.3993784\ttotal: 8.45s\tremaining: 3.43s\n",
      "711:\tlearn: 0.3993676\ttotal: 8.45s\tremaining: 3.42s\n",
      "712:\tlearn: 0.3993074\ttotal: 8.47s\tremaining: 3.41s\n",
      "713:\tlearn: 0.3992675\ttotal: 8.48s\tremaining: 3.4s\n",
      "714:\tlearn: 0.3992589\ttotal: 8.49s\tremaining: 3.38s\n",
      "715:\tlearn: 0.3991168\ttotal: 8.5s\tremaining: 3.37s\n",
      "716:\tlearn: 0.3990922\ttotal: 8.51s\tremaining: 3.36s\n",
      "717:\tlearn: 0.3990693\ttotal: 8.52s\tremaining: 3.35s\n",
      "718:\tlearn: 0.3990245\ttotal: 8.53s\tremaining: 3.33s\n",
      "719:\tlearn: 0.3989639\ttotal: 8.54s\tremaining: 3.32s\n",
      "720:\tlearn: 0.3989423\ttotal: 8.55s\tremaining: 3.31s\n",
      "721:\tlearn: 0.3988854\ttotal: 8.56s\tremaining: 3.3s\n",
      "722:\tlearn: 0.3988051\ttotal: 8.58s\tremaining: 3.29s\n",
      "723:\tlearn: 0.3987460\ttotal: 8.59s\tremaining: 3.27s\n",
      "724:\tlearn: 0.3987205\ttotal: 8.6s\tremaining: 3.26s\n",
      "725:\tlearn: 0.3986177\ttotal: 8.61s\tremaining: 3.25s\n",
      "726:\tlearn: 0.3985882\ttotal: 8.62s\tremaining: 3.24s\n",
      "727:\tlearn: 0.3985841\ttotal: 8.63s\tremaining: 3.23s\n",
      "728:\tlearn: 0.3985129\ttotal: 8.64s\tremaining: 3.21s\n",
      "729:\tlearn: 0.3984880\ttotal: 8.66s\tremaining: 3.2s\n",
      "730:\tlearn: 0.3984542\ttotal: 8.67s\tremaining: 3.19s\n",
      "731:\tlearn: 0.3983496\ttotal: 8.68s\tremaining: 3.18s\n",
      "732:\tlearn: 0.3983350\ttotal: 8.69s\tremaining: 3.17s\n",
      "733:\tlearn: 0.3983053\ttotal: 8.7s\tremaining: 3.15s\n",
      "734:\tlearn: 0.3982576\ttotal: 8.71s\tremaining: 3.14s\n",
      "735:\tlearn: 0.3982054\ttotal: 8.72s\tremaining: 3.13s\n",
      "736:\tlearn: 0.3981855\ttotal: 8.73s\tremaining: 3.12s\n",
      "737:\tlearn: 0.3981479\ttotal: 8.74s\tremaining: 3.1s\n",
      "738:\tlearn: 0.3981343\ttotal: 8.75s\tremaining: 3.09s\n",
      "739:\tlearn: 0.3980967\ttotal: 8.76s\tremaining: 3.08s\n",
      "740:\tlearn: 0.3980781\ttotal: 8.77s\tremaining: 3.07s\n",
      "741:\tlearn: 0.3980630\ttotal: 8.78s\tremaining: 3.05s\n",
      "742:\tlearn: 0.3980500\ttotal: 8.79s\tremaining: 3.04s\n",
      "743:\tlearn: 0.3979373\ttotal: 8.8s\tremaining: 3.03s\n",
      "744:\tlearn: 0.3978999\ttotal: 8.81s\tremaining: 3.02s\n",
      "745:\tlearn: 0.3978624\ttotal: 8.82s\tremaining: 3s\n",
      "746:\tlearn: 0.3978492\ttotal: 8.83s\tremaining: 2.99s\n",
      "747:\tlearn: 0.3977985\ttotal: 8.84s\tremaining: 2.98s\n",
      "748:\tlearn: 0.3977352\ttotal: 8.85s\tremaining: 2.97s\n",
      "749:\tlearn: 0.3976324\ttotal: 8.86s\tremaining: 2.95s\n",
      "750:\tlearn: 0.3975924\ttotal: 8.87s\tremaining: 2.94s\n",
      "751:\tlearn: 0.3975439\ttotal: 8.88s\tremaining: 2.93s\n",
      "752:\tlearn: 0.3974763\ttotal: 8.89s\tremaining: 2.92s\n",
      "753:\tlearn: 0.3974308\ttotal: 8.91s\tremaining: 2.91s\n",
      "754:\tlearn: 0.3973833\ttotal: 8.92s\tremaining: 2.89s\n",
      "755:\tlearn: 0.3973758\ttotal: 8.93s\tremaining: 2.88s\n",
      "756:\tlearn: 0.3973581\ttotal: 8.94s\tremaining: 2.87s\n",
      "757:\tlearn: 0.3973352\ttotal: 8.94s\tremaining: 2.85s\n",
      "758:\tlearn: 0.3973190\ttotal: 8.95s\tremaining: 2.84s\n",
      "759:\tlearn: 0.3972898\ttotal: 8.96s\tremaining: 2.83s\n",
      "760:\tlearn: 0.3972749\ttotal: 8.97s\tremaining: 2.82s\n",
      "761:\tlearn: 0.3972364\ttotal: 8.98s\tremaining: 2.81s\n",
      "762:\tlearn: 0.3971490\ttotal: 8.99s\tremaining: 2.79s\n",
      "763:\tlearn: 0.3971012\ttotal: 9.01s\tremaining: 2.78s\n",
      "764:\tlearn: 0.3970904\ttotal: 9.02s\tremaining: 2.77s\n",
      "765:\tlearn: 0.3969713\ttotal: 9.03s\tremaining: 2.76s\n",
      "766:\tlearn: 0.3969293\ttotal: 9.04s\tremaining: 2.75s\n",
      "767:\tlearn: 0.3968593\ttotal: 9.05s\tremaining: 2.73s\n",
      "768:\tlearn: 0.3968471\ttotal: 9.06s\tremaining: 2.72s\n",
      "769:\tlearn: 0.3967855\ttotal: 9.07s\tremaining: 2.71s\n",
      "770:\tlearn: 0.3967711\ttotal: 9.09s\tremaining: 2.7s\n",
      "771:\tlearn: 0.3967433\ttotal: 9.1s\tremaining: 2.69s\n",
      "772:\tlearn: 0.3967092\ttotal: 9.11s\tremaining: 2.67s\n",
      "773:\tlearn: 0.3966649\ttotal: 9.12s\tremaining: 2.66s\n",
      "774:\tlearn: 0.3966230\ttotal: 9.13s\tremaining: 2.65s\n",
      "775:\tlearn: 0.3965674\ttotal: 9.14s\tremaining: 2.64s\n",
      "776:\tlearn: 0.3965322\ttotal: 9.15s\tremaining: 2.63s\n",
      "777:\tlearn: 0.3964883\ttotal: 9.16s\tremaining: 2.62s\n",
      "778:\tlearn: 0.3964557\ttotal: 9.17s\tremaining: 2.6s\n",
      "779:\tlearn: 0.3964202\ttotal: 9.19s\tremaining: 2.59s\n",
      "780:\tlearn: 0.3963677\ttotal: 9.2s\tremaining: 2.58s\n",
      "781:\tlearn: 0.3963195\ttotal: 9.21s\tremaining: 2.57s\n",
      "782:\tlearn: 0.3962990\ttotal: 9.21s\tremaining: 2.55s\n",
      "783:\tlearn: 0.3961884\ttotal: 9.23s\tremaining: 2.54s\n",
      "784:\tlearn: 0.3961677\ttotal: 9.24s\tremaining: 2.53s\n",
      "785:\tlearn: 0.3961380\ttotal: 9.25s\tremaining: 2.52s\n",
      "786:\tlearn: 0.3960995\ttotal: 9.26s\tremaining: 2.5s\n",
      "787:\tlearn: 0.3960149\ttotal: 9.27s\tremaining: 2.49s\n",
      "788:\tlearn: 0.3959435\ttotal: 9.28s\tremaining: 2.48s\n",
      "789:\tlearn: 0.3959216\ttotal: 9.29s\tremaining: 2.47s\n",
      "790:\tlearn: 0.3958879\ttotal: 9.3s\tremaining: 2.46s\n",
      "791:\tlearn: 0.3958201\ttotal: 9.31s\tremaining: 2.44s\n",
      "792:\tlearn: 0.3958043\ttotal: 9.32s\tremaining: 2.43s\n",
      "793:\tlearn: 0.3957754\ttotal: 9.33s\tremaining: 2.42s\n",
      "794:\tlearn: 0.3956981\ttotal: 9.34s\tremaining: 2.41s\n",
      "795:\tlearn: 0.3956731\ttotal: 9.35s\tremaining: 2.4s\n",
      "796:\tlearn: 0.3956595\ttotal: 9.36s\tremaining: 2.38s\n",
      "797:\tlearn: 0.3955882\ttotal: 9.37s\tremaining: 2.37s\n",
      "798:\tlearn: 0.3955075\ttotal: 9.38s\tremaining: 2.36s\n",
      "799:\tlearn: 0.3954802\ttotal: 9.39s\tremaining: 2.35s\n",
      "800:\tlearn: 0.3953615\ttotal: 9.4s\tremaining: 2.34s\n",
      "801:\tlearn: 0.3952845\ttotal: 9.41s\tremaining: 2.32s\n",
      "802:\tlearn: 0.3952135\ttotal: 9.43s\tremaining: 2.31s\n",
      "803:\tlearn: 0.3951964\ttotal: 9.44s\tremaining: 2.3s\n",
      "804:\tlearn: 0.3951721\ttotal: 9.45s\tremaining: 2.29s\n",
      "805:\tlearn: 0.3951478\ttotal: 9.46s\tremaining: 2.28s\n",
      "806:\tlearn: 0.3950880\ttotal: 9.47s\tremaining: 2.26s\n",
      "807:\tlearn: 0.3950136\ttotal: 9.48s\tremaining: 2.25s\n",
      "808:\tlearn: 0.3949223\ttotal: 9.49s\tremaining: 2.24s\n",
      "809:\tlearn: 0.3948969\ttotal: 9.5s\tremaining: 2.23s\n",
      "810:\tlearn: 0.3948606\ttotal: 9.51s\tremaining: 2.22s\n",
      "811:\tlearn: 0.3947651\ttotal: 9.52s\tremaining: 2.21s\n",
      "812:\tlearn: 0.3946897\ttotal: 9.54s\tremaining: 2.19s\n",
      "813:\tlearn: 0.3946569\ttotal: 9.55s\tremaining: 2.18s\n",
      "814:\tlearn: 0.3945930\ttotal: 9.56s\tremaining: 2.17s\n",
      "815:\tlearn: 0.3945661\ttotal: 9.57s\tremaining: 2.16s\n",
      "816:\tlearn: 0.3945444\ttotal: 9.58s\tremaining: 2.15s\n",
      "817:\tlearn: 0.3945396\ttotal: 9.59s\tremaining: 2.13s\n",
      "818:\tlearn: 0.3945012\ttotal: 9.59s\tremaining: 2.12s\n",
      "819:\tlearn: 0.3944905\ttotal: 9.6s\tremaining: 2.11s\n",
      "820:\tlearn: 0.3944619\ttotal: 9.61s\tremaining: 2.1s\n",
      "821:\tlearn: 0.3943457\ttotal: 9.62s\tremaining: 2.08s\n",
      "822:\tlearn: 0.3943172\ttotal: 9.64s\tremaining: 2.07s\n",
      "823:\tlearn: 0.3942190\ttotal: 9.65s\tremaining: 2.06s\n",
      "824:\tlearn: 0.3941379\ttotal: 9.66s\tremaining: 2.05s\n",
      "825:\tlearn: 0.3940785\ttotal: 9.67s\tremaining: 2.04s\n",
      "826:\tlearn: 0.3940099\ttotal: 9.69s\tremaining: 2.03s\n",
      "827:\tlearn: 0.3939784\ttotal: 9.69s\tremaining: 2.01s\n",
      "828:\tlearn: 0.3939543\ttotal: 9.71s\tremaining: 2s\n",
      "829:\tlearn: 0.3939245\ttotal: 9.71s\tremaining: 1.99s\n",
      "830:\tlearn: 0.3938917\ttotal: 9.72s\tremaining: 1.98s\n",
      "831:\tlearn: 0.3938636\ttotal: 9.74s\tremaining: 1.97s\n",
      "832:\tlearn: 0.3938384\ttotal: 9.74s\tremaining: 1.95s\n",
      "833:\tlearn: 0.3938211\ttotal: 9.75s\tremaining: 1.94s\n",
      "834:\tlearn: 0.3937635\ttotal: 9.76s\tremaining: 1.93s\n",
      "835:\tlearn: 0.3937360\ttotal: 9.78s\tremaining: 1.92s\n",
      "836:\tlearn: 0.3936883\ttotal: 9.79s\tremaining: 1.91s\n",
      "837:\tlearn: 0.3936601\ttotal: 9.79s\tremaining: 1.89s\n",
      "838:\tlearn: 0.3936192\ttotal: 9.8s\tremaining: 1.88s\n",
      "839:\tlearn: 0.3935804\ttotal: 9.81s\tremaining: 1.87s\n",
      "840:\tlearn: 0.3935561\ttotal: 9.82s\tremaining: 1.86s\n",
      "841:\tlearn: 0.3934346\ttotal: 9.84s\tremaining: 1.84s\n",
      "842:\tlearn: 0.3933293\ttotal: 9.85s\tremaining: 1.83s\n",
      "843:\tlearn: 0.3932578\ttotal: 9.86s\tremaining: 1.82s\n",
      "844:\tlearn: 0.3932198\ttotal: 9.87s\tremaining: 1.81s\n",
      "845:\tlearn: 0.3931333\ttotal: 9.88s\tremaining: 1.8s\n",
      "846:\tlearn: 0.3930907\ttotal: 9.89s\tremaining: 1.79s\n",
      "847:\tlearn: 0.3930579\ttotal: 9.9s\tremaining: 1.77s\n",
      "848:\tlearn: 0.3930006\ttotal: 9.91s\tremaining: 1.76s\n",
      "849:\tlearn: 0.3929447\ttotal: 9.92s\tremaining: 1.75s\n",
      "850:\tlearn: 0.3929205\ttotal: 9.93s\tremaining: 1.74s\n",
      "851:\tlearn: 0.3929116\ttotal: 9.94s\tremaining: 1.73s\n",
      "852:\tlearn: 0.3928389\ttotal: 9.95s\tremaining: 1.72s\n",
      "853:\tlearn: 0.3927245\ttotal: 9.97s\tremaining: 1.7s\n",
      "854:\tlearn: 0.3926214\ttotal: 9.99s\tremaining: 1.69s\n",
      "855:\tlearn: 0.3925820\ttotal: 10s\tremaining: 1.68s\n",
      "856:\tlearn: 0.3925150\ttotal: 10s\tremaining: 1.67s\n",
      "857:\tlearn: 0.3924993\ttotal: 10s\tremaining: 1.66s\n",
      "858:\tlearn: 0.3924222\ttotal: 10s\tremaining: 1.65s\n",
      "859:\tlearn: 0.3924005\ttotal: 10.1s\tremaining: 1.64s\n",
      "860:\tlearn: 0.3923601\ttotal: 10.1s\tremaining: 1.63s\n",
      "861:\tlearn: 0.3923538\ttotal: 10.1s\tremaining: 1.61s\n",
      "862:\tlearn: 0.3922994\ttotal: 10.1s\tremaining: 1.6s\n",
      "863:\tlearn: 0.3922606\ttotal: 10.1s\tremaining: 1.59s\n",
      "864:\tlearn: 0.3922327\ttotal: 10.1s\tremaining: 1.58s\n",
      "865:\tlearn: 0.3922073\ttotal: 10.2s\tremaining: 1.57s\n",
      "866:\tlearn: 0.3921437\ttotal: 10.2s\tremaining: 1.56s\n",
      "867:\tlearn: 0.3920965\ttotal: 10.2s\tremaining: 1.55s\n",
      "868:\tlearn: 0.3920602\ttotal: 10.2s\tremaining: 1.54s\n",
      "869:\tlearn: 0.3920236\ttotal: 10.2s\tremaining: 1.53s\n",
      "870:\tlearn: 0.3919872\ttotal: 10.2s\tremaining: 1.51s\n",
      "871:\tlearn: 0.3918971\ttotal: 10.3s\tremaining: 1.5s\n",
      "872:\tlearn: 0.3918747\ttotal: 10.3s\tremaining: 1.49s\n",
      "873:\tlearn: 0.3918078\ttotal: 10.3s\tremaining: 1.48s\n",
      "874:\tlearn: 0.3917552\ttotal: 10.3s\tremaining: 1.47s\n",
      "875:\tlearn: 0.3917229\ttotal: 10.3s\tremaining: 1.46s\n",
      "876:\tlearn: 0.3916864\ttotal: 10.3s\tremaining: 1.45s\n",
      "877:\tlearn: 0.3916660\ttotal: 10.3s\tremaining: 1.44s\n",
      "878:\tlearn: 0.3916313\ttotal: 10.3s\tremaining: 1.42s\n",
      "879:\tlearn: 0.3915377\ttotal: 10.4s\tremaining: 1.41s\n",
      "880:\tlearn: 0.3915235\ttotal: 10.4s\tremaining: 1.4s\n",
      "881:\tlearn: 0.3914745\ttotal: 10.4s\tremaining: 1.39s\n",
      "882:\tlearn: 0.3914485\ttotal: 10.4s\tremaining: 1.38s\n",
      "883:\tlearn: 0.3914259\ttotal: 10.4s\tremaining: 1.36s\n",
      "884:\tlearn: 0.3913858\ttotal: 10.4s\tremaining: 1.35s\n",
      "885:\tlearn: 0.3913507\ttotal: 10.4s\tremaining: 1.34s\n",
      "886:\tlearn: 0.3913249\ttotal: 10.4s\tremaining: 1.33s\n",
      "887:\tlearn: 0.3912994\ttotal: 10.4s\tremaining: 1.32s\n",
      "888:\tlearn: 0.3912814\ttotal: 10.5s\tremaining: 1.3s\n",
      "889:\tlearn: 0.3912165\ttotal: 10.5s\tremaining: 1.29s\n",
      "890:\tlearn: 0.3911757\ttotal: 10.5s\tremaining: 1.28s\n",
      "891:\tlearn: 0.3911418\ttotal: 10.5s\tremaining: 1.27s\n",
      "892:\tlearn: 0.3911297\ttotal: 10.5s\tremaining: 1.26s\n",
      "893:\tlearn: 0.3910926\ttotal: 10.5s\tremaining: 1.25s\n",
      "894:\tlearn: 0.3910350\ttotal: 10.5s\tremaining: 1.23s\n",
      "895:\tlearn: 0.3910009\ttotal: 10.5s\tremaining: 1.22s\n",
      "896:\tlearn: 0.3909479\ttotal: 10.5s\tremaining: 1.21s\n",
      "897:\tlearn: 0.3909049\ttotal: 10.6s\tremaining: 1.2s\n",
      "898:\tlearn: 0.3908813\ttotal: 10.6s\tremaining: 1.19s\n",
      "899:\tlearn: 0.3908547\ttotal: 10.6s\tremaining: 1.18s\n",
      "900:\tlearn: 0.3907862\ttotal: 10.6s\tremaining: 1.16s\n",
      "901:\tlearn: 0.3907471\ttotal: 10.6s\tremaining: 1.15s\n",
      "902:\tlearn: 0.3906726\ttotal: 10.6s\tremaining: 1.14s\n",
      "903:\tlearn: 0.3905221\ttotal: 10.6s\tremaining: 1.13s\n",
      "904:\tlearn: 0.3904491\ttotal: 10.7s\tremaining: 1.12s\n",
      "905:\tlearn: 0.3904040\ttotal: 10.7s\tremaining: 1.11s\n",
      "906:\tlearn: 0.3903818\ttotal: 10.7s\tremaining: 1.09s\n",
      "907:\tlearn: 0.3903324\ttotal: 10.7s\tremaining: 1.08s\n",
      "908:\tlearn: 0.3903171\ttotal: 10.7s\tremaining: 1.07s\n",
      "909:\tlearn: 0.3902186\ttotal: 10.7s\tremaining: 1.06s\n",
      "910:\tlearn: 0.3901538\ttotal: 10.7s\tremaining: 1.05s\n",
      "911:\tlearn: 0.3901452\ttotal: 10.7s\tremaining: 1.03s\n",
      "912:\tlearn: 0.3900970\ttotal: 10.7s\tremaining: 1.02s\n",
      "913:\tlearn: 0.3900585\ttotal: 10.8s\tremaining: 1.01s\n",
      "914:\tlearn: 0.3900235\ttotal: 10.8s\tremaining: 1s\n",
      "915:\tlearn: 0.3899842\ttotal: 10.8s\tremaining: 988ms\n",
      "916:\tlearn: 0.3899567\ttotal: 10.8s\tremaining: 976ms\n",
      "917:\tlearn: 0.3899301\ttotal: 10.8s\tremaining: 965ms\n",
      "918:\tlearn: 0.3899114\ttotal: 10.8s\tremaining: 953ms\n",
      "919:\tlearn: 0.3898650\ttotal: 10.8s\tremaining: 941ms\n",
      "920:\tlearn: 0.3898349\ttotal: 10.8s\tremaining: 929ms\n",
      "921:\tlearn: 0.3898315\ttotal: 10.8s\tremaining: 917ms\n",
      "922:\tlearn: 0.3897641\ttotal: 10.8s\tremaining: 905ms\n",
      "923:\tlearn: 0.3897205\ttotal: 10.9s\tremaining: 893ms\n",
      "924:\tlearn: 0.3896573\ttotal: 10.9s\tremaining: 882ms\n",
      "925:\tlearn: 0.3896418\ttotal: 10.9s\tremaining: 870ms\n",
      "926:\tlearn: 0.3896197\ttotal: 10.9s\tremaining: 858ms\n",
      "927:\tlearn: 0.3895829\ttotal: 10.9s\tremaining: 846ms\n",
      "928:\tlearn: 0.3894728\ttotal: 10.9s\tremaining: 834ms\n",
      "929:\tlearn: 0.3894083\ttotal: 10.9s\tremaining: 823ms\n",
      "930:\tlearn: 0.3893355\ttotal: 10.9s\tremaining: 811ms\n",
      "931:\tlearn: 0.3892859\ttotal: 11s\tremaining: 799ms\n",
      "932:\tlearn: 0.3892648\ttotal: 11s\tremaining: 788ms\n",
      "933:\tlearn: 0.3892141\ttotal: 11s\tremaining: 776ms\n",
      "934:\tlearn: 0.3891765\ttotal: 11s\tremaining: 764ms\n",
      "935:\tlearn: 0.3891282\ttotal: 11s\tremaining: 753ms\n",
      "936:\tlearn: 0.3890709\ttotal: 11s\tremaining: 741ms\n",
      "937:\tlearn: 0.3890659\ttotal: 11s\tremaining: 729ms\n",
      "938:\tlearn: 0.3890068\ttotal: 11s\tremaining: 717ms\n",
      "939:\tlearn: 0.3889751\ttotal: 11.1s\tremaining: 706ms\n",
      "940:\tlearn: 0.3889671\ttotal: 11.1s\tremaining: 694ms\n",
      "941:\tlearn: 0.3889564\ttotal: 11.1s\tremaining: 682ms\n",
      "942:\tlearn: 0.3889198\ttotal: 11.1s\tremaining: 670ms\n",
      "943:\tlearn: 0.3888955\ttotal: 11.1s\tremaining: 658ms\n",
      "944:\tlearn: 0.3888063\ttotal: 11.1s\tremaining: 647ms\n",
      "945:\tlearn: 0.3887604\ttotal: 11.1s\tremaining: 635ms\n",
      "946:\tlearn: 0.3887312\ttotal: 11.1s\tremaining: 623ms\n",
      "947:\tlearn: 0.3886859\ttotal: 11.2s\tremaining: 612ms\n",
      "948:\tlearn: 0.3886331\ttotal: 11.2s\tremaining: 600ms\n",
      "949:\tlearn: 0.3885802\ttotal: 11.2s\tremaining: 588ms\n",
      "950:\tlearn: 0.3885700\ttotal: 11.2s\tremaining: 577ms\n",
      "951:\tlearn: 0.3885213\ttotal: 11.2s\tremaining: 565ms\n",
      "952:\tlearn: 0.3884962\ttotal: 11.2s\tremaining: 553ms\n",
      "953:\tlearn: 0.3884438\ttotal: 11.2s\tremaining: 541ms\n",
      "954:\tlearn: 0.3884178\ttotal: 11.2s\tremaining: 530ms\n",
      "955:\tlearn: 0.3883628\ttotal: 11.3s\tremaining: 518ms\n",
      "956:\tlearn: 0.3883180\ttotal: 11.3s\tremaining: 506ms\n",
      "957:\tlearn: 0.3882759\ttotal: 11.3s\tremaining: 494ms\n",
      "958:\tlearn: 0.3882319\ttotal: 11.3s\tremaining: 483ms\n",
      "959:\tlearn: 0.3882099\ttotal: 11.3s\tremaining: 471ms\n",
      "960:\tlearn: 0.3881185\ttotal: 11.3s\tremaining: 459ms\n",
      "961:\tlearn: 0.3880767\ttotal: 11.3s\tremaining: 447ms\n",
      "962:\tlearn: 0.3879931\ttotal: 11.3s\tremaining: 436ms\n",
      "963:\tlearn: 0.3879495\ttotal: 11.3s\tremaining: 424ms\n",
      "964:\tlearn: 0.3879167\ttotal: 11.4s\tremaining: 412ms\n",
      "965:\tlearn: 0.3879092\ttotal: 11.4s\tremaining: 400ms\n",
      "966:\tlearn: 0.3878424\ttotal: 11.4s\tremaining: 389ms\n",
      "967:\tlearn: 0.3877863\ttotal: 11.4s\tremaining: 377ms\n",
      "968:\tlearn: 0.3877458\ttotal: 11.4s\tremaining: 365ms\n",
      "969:\tlearn: 0.3877025\ttotal: 11.4s\tremaining: 353ms\n",
      "970:\tlearn: 0.3876839\ttotal: 11.4s\tremaining: 342ms\n",
      "971:\tlearn: 0.3876133\ttotal: 11.4s\tremaining: 330ms\n",
      "972:\tlearn: 0.3875733\ttotal: 11.5s\tremaining: 318ms\n",
      "973:\tlearn: 0.3875590\ttotal: 11.5s\tremaining: 306ms\n",
      "974:\tlearn: 0.3875315\ttotal: 11.5s\tremaining: 294ms\n",
      "975:\tlearn: 0.3875004\ttotal: 11.5s\tremaining: 283ms\n",
      "976:\tlearn: 0.3874278\ttotal: 11.5s\tremaining: 271ms\n",
      "977:\tlearn: 0.3873295\ttotal: 11.5s\tremaining: 259ms\n",
      "978:\tlearn: 0.3873068\ttotal: 11.5s\tremaining: 247ms\n",
      "979:\tlearn: 0.3872832\ttotal: 11.5s\tremaining: 236ms\n",
      "980:\tlearn: 0.3872528\ttotal: 11.6s\tremaining: 224ms\n",
      "981:\tlearn: 0.3872293\ttotal: 11.6s\tremaining: 212ms\n",
      "982:\tlearn: 0.3872086\ttotal: 11.6s\tremaining: 200ms\n",
      "983:\tlearn: 0.3871525\ttotal: 11.6s\tremaining: 189ms\n",
      "984:\tlearn: 0.3871354\ttotal: 11.6s\tremaining: 177ms\n",
      "985:\tlearn: 0.3871035\ttotal: 11.6s\tremaining: 165ms\n",
      "986:\tlearn: 0.3870734\ttotal: 11.6s\tremaining: 153ms\n",
      "987:\tlearn: 0.3870100\ttotal: 11.7s\tremaining: 142ms\n",
      "988:\tlearn: 0.3869852\ttotal: 11.7s\tremaining: 130ms\n",
      "989:\tlearn: 0.3869419\ttotal: 11.7s\tremaining: 118ms\n",
      "990:\tlearn: 0.3869088\ttotal: 11.7s\tremaining: 106ms\n",
      "991:\tlearn: 0.3868821\ttotal: 11.7s\tremaining: 94.3ms\n",
      "992:\tlearn: 0.3868376\ttotal: 11.7s\tremaining: 82.5ms\n",
      "993:\tlearn: 0.3867634\ttotal: 11.7s\tremaining: 70.7ms\n",
      "994:\tlearn: 0.3867387\ttotal: 11.7s\tremaining: 58.9ms\n",
      "995:\tlearn: 0.3866568\ttotal: 11.7s\tremaining: 47.2ms\n",
      "996:\tlearn: 0.3866247\ttotal: 11.8s\tremaining: 35.4ms\n",
      "997:\tlearn: 0.3865809\ttotal: 11.8s\tremaining: 23.6ms\n",
      "998:\tlearn: 0.3865687\ttotal: 11.8s\tremaining: 11.8ms\n",
      "999:\tlearn: 0.3865550\ttotal: 11.8s\tremaining: 0us\n",
      "Fold 4\n",
      "Learning rate set to 0.097881\n",
      "0:\tlearn: 0.9961989\ttotal: 13.7ms\tremaining: 13.7s\n",
      "1:\tlearn: 0.9159608\ttotal: 27.9ms\tremaining: 13.9s\n",
      "2:\tlearn: 0.8522084\ttotal: 42.2ms\tremaining: 14s\n",
      "3:\tlearn: 0.8005771\ttotal: 55.4ms\tremaining: 13.8s\n",
      "4:\tlearn: 0.7589634\ttotal: 70.4ms\tremaining: 14s\n",
      "5:\tlearn: 0.7242407\ttotal: 82.8ms\tremaining: 13.7s\n",
      "6:\tlearn: 0.6947913\ttotal: 96.3ms\tremaining: 13.7s\n",
      "7:\tlearn: 0.6685295\ttotal: 110ms\tremaining: 13.7s\n",
      "8:\tlearn: 0.6459592\ttotal: 124ms\tremaining: 13.6s\n",
      "9:\tlearn: 0.6272082\ttotal: 137ms\tremaining: 13.6s\n",
      "10:\tlearn: 0.6106449\ttotal: 152ms\tremaining: 13.6s\n",
      "11:\tlearn: 0.5958530\ttotal: 165ms\tremaining: 13.6s\n",
      "12:\tlearn: 0.5824717\ttotal: 179ms\tremaining: 13.6s\n",
      "13:\tlearn: 0.5715453\ttotal: 192ms\tremaining: 13.6s\n",
      "14:\tlearn: 0.5612329\ttotal: 208ms\tremaining: 13.7s\n",
      "15:\tlearn: 0.5525998\ttotal: 224ms\tremaining: 13.8s\n",
      "16:\tlearn: 0.5440489\ttotal: 239ms\tremaining: 13.8s\n",
      "17:\tlearn: 0.5373073\ttotal: 252ms\tremaining: 13.7s\n",
      "18:\tlearn: 0.5304929\ttotal: 265ms\tremaining: 13.7s\n",
      "19:\tlearn: 0.5245172\ttotal: 278ms\tremaining: 13.6s\n",
      "20:\tlearn: 0.5192201\ttotal: 291ms\tremaining: 13.6s\n",
      "21:\tlearn: 0.5141049\ttotal: 305ms\tremaining: 13.6s\n",
      "22:\tlearn: 0.5101580\ttotal: 319ms\tremaining: 13.5s\n",
      "23:\tlearn: 0.5063806\ttotal: 333ms\tremaining: 13.6s\n",
      "24:\tlearn: 0.5031085\ttotal: 349ms\tremaining: 13.6s\n",
      "25:\tlearn: 0.4996331\ttotal: 363ms\tremaining: 13.6s\n",
      "26:\tlearn: 0.4966801\ttotal: 377ms\tremaining: 13.6s\n",
      "27:\tlearn: 0.4938268\ttotal: 392ms\tremaining: 13.6s\n",
      "28:\tlearn: 0.4913412\ttotal: 407ms\tremaining: 13.6s\n",
      "29:\tlearn: 0.4892010\ttotal: 423ms\tremaining: 13.7s\n",
      "30:\tlearn: 0.4871968\ttotal: 438ms\tremaining: 13.7s\n",
      "31:\tlearn: 0.4855385\ttotal: 452ms\tremaining: 13.7s\n",
      "32:\tlearn: 0.4836880\ttotal: 467ms\tremaining: 13.7s\n",
      "33:\tlearn: 0.4820094\ttotal: 481ms\tremaining: 13.7s\n",
      "34:\tlearn: 0.4808171\ttotal: 494ms\tremaining: 13.6s\n",
      "35:\tlearn: 0.4796086\ttotal: 508ms\tremaining: 13.6s\n",
      "36:\tlearn: 0.4780742\ttotal: 522ms\tremaining: 13.6s\n",
      "37:\tlearn: 0.4766243\ttotal: 535ms\tremaining: 13.5s\n",
      "38:\tlearn: 0.4753949\ttotal: 550ms\tremaining: 13.6s\n",
      "39:\tlearn: 0.4741887\ttotal: 564ms\tremaining: 13.5s\n",
      "40:\tlearn: 0.4732186\ttotal: 579ms\tremaining: 13.5s\n",
      "41:\tlearn: 0.4721894\ttotal: 594ms\tremaining: 13.6s\n",
      "42:\tlearn: 0.4708395\ttotal: 609ms\tremaining: 13.6s\n",
      "43:\tlearn: 0.4701088\ttotal: 625ms\tremaining: 13.6s\n",
      "44:\tlearn: 0.4695315\ttotal: 638ms\tremaining: 13.5s\n",
      "45:\tlearn: 0.4687801\ttotal: 652ms\tremaining: 13.5s\n",
      "46:\tlearn: 0.4679378\ttotal: 667ms\tremaining: 13.5s\n",
      "47:\tlearn: 0.4672768\ttotal: 679ms\tremaining: 13.5s\n",
      "48:\tlearn: 0.4664368\ttotal: 692ms\tremaining: 13.4s\n",
      "49:\tlearn: 0.4655826\ttotal: 706ms\tremaining: 13.4s\n",
      "50:\tlearn: 0.4650122\ttotal: 717ms\tremaining: 13.3s\n",
      "51:\tlearn: 0.4643953\ttotal: 730ms\tremaining: 13.3s\n",
      "52:\tlearn: 0.4639642\ttotal: 743ms\tremaining: 13.3s\n",
      "53:\tlearn: 0.4633926\ttotal: 757ms\tremaining: 13.3s\n",
      "54:\tlearn: 0.4627529\ttotal: 769ms\tremaining: 13.2s\n",
      "55:\tlearn: 0.4623095\ttotal: 783ms\tremaining: 13.2s\n",
      "56:\tlearn: 0.4619133\ttotal: 799ms\tremaining: 13.2s\n",
      "57:\tlearn: 0.4611775\ttotal: 814ms\tremaining: 13.2s\n",
      "58:\tlearn: 0.4608806\ttotal: 837ms\tremaining: 13.4s\n",
      "59:\tlearn: 0.4603463\ttotal: 858ms\tremaining: 13.4s\n",
      "60:\tlearn: 0.4599393\ttotal: 875ms\tremaining: 13.5s\n",
      "61:\tlearn: 0.4593850\ttotal: 889ms\tremaining: 13.5s\n",
      "62:\tlearn: 0.4590437\ttotal: 903ms\tremaining: 13.4s\n",
      "63:\tlearn: 0.4585159\ttotal: 917ms\tremaining: 13.4s\n",
      "64:\tlearn: 0.4582654\ttotal: 935ms\tremaining: 13.4s\n",
      "65:\tlearn: 0.4579202\ttotal: 955ms\tremaining: 13.5s\n",
      "66:\tlearn: 0.4574657\ttotal: 984ms\tremaining: 13.7s\n",
      "67:\tlearn: 0.4572127\ttotal: 1.01s\tremaining: 13.8s\n",
      "68:\tlearn: 0.4568009\ttotal: 1.04s\tremaining: 14s\n",
      "69:\tlearn: 0.4564699\ttotal: 1.06s\tremaining: 14.1s\n",
      "70:\tlearn: 0.4561467\ttotal: 1.08s\tremaining: 14.2s\n",
      "71:\tlearn: 0.4558224\ttotal: 1.11s\tremaining: 14.3s\n",
      "72:\tlearn: 0.4555928\ttotal: 1.13s\tremaining: 14.3s\n",
      "73:\tlearn: 0.4551881\ttotal: 1.14s\tremaining: 14.3s\n",
      "74:\tlearn: 0.4550270\ttotal: 1.16s\tremaining: 14.3s\n",
      "75:\tlearn: 0.4547025\ttotal: 1.17s\tremaining: 14.2s\n",
      "76:\tlearn: 0.4544312\ttotal: 1.19s\tremaining: 14.2s\n",
      "77:\tlearn: 0.4539063\ttotal: 1.21s\tremaining: 14.3s\n",
      "78:\tlearn: 0.4534567\ttotal: 1.22s\tremaining: 14.3s\n",
      "79:\tlearn: 0.4532467\ttotal: 1.24s\tremaining: 14.2s\n",
      "80:\tlearn: 0.4528224\ttotal: 1.25s\tremaining: 14.2s\n",
      "81:\tlearn: 0.4525221\ttotal: 1.26s\tremaining: 14.1s\n",
      "82:\tlearn: 0.4521734\ttotal: 1.27s\tremaining: 14.1s\n",
      "83:\tlearn: 0.4519239\ttotal: 1.29s\tremaining: 14.1s\n",
      "84:\tlearn: 0.4516776\ttotal: 1.3s\tremaining: 14s\n",
      "85:\tlearn: 0.4515273\ttotal: 1.31s\tremaining: 14s\n",
      "86:\tlearn: 0.4513139\ttotal: 1.33s\tremaining: 14s\n",
      "87:\tlearn: 0.4510024\ttotal: 1.35s\tremaining: 14s\n",
      "88:\tlearn: 0.4507222\ttotal: 1.36s\tremaining: 13.9s\n",
      "89:\tlearn: 0.4505559\ttotal: 1.37s\tremaining: 13.9s\n",
      "90:\tlearn: 0.4503550\ttotal: 1.38s\tremaining: 13.8s\n",
      "91:\tlearn: 0.4501519\ttotal: 1.4s\tremaining: 13.8s\n",
      "92:\tlearn: 0.4499376\ttotal: 1.41s\tremaining: 13.7s\n",
      "93:\tlearn: 0.4495970\ttotal: 1.43s\tremaining: 13.8s\n",
      "94:\tlearn: 0.4494600\ttotal: 1.45s\tremaining: 13.8s\n",
      "95:\tlearn: 0.4491980\ttotal: 1.47s\tremaining: 13.8s\n",
      "96:\tlearn: 0.4491079\ttotal: 1.49s\tremaining: 13.9s\n",
      "97:\tlearn: 0.4489006\ttotal: 1.5s\tremaining: 13.9s\n",
      "98:\tlearn: 0.4484983\ttotal: 1.52s\tremaining: 13.8s\n",
      "99:\tlearn: 0.4482501\ttotal: 1.53s\tremaining: 13.8s\n",
      "100:\tlearn: 0.4480351\ttotal: 1.55s\tremaining: 13.8s\n",
      "101:\tlearn: 0.4476750\ttotal: 1.56s\tremaining: 13.8s\n",
      "102:\tlearn: 0.4475062\ttotal: 1.58s\tremaining: 13.7s\n",
      "103:\tlearn: 0.4472032\ttotal: 1.59s\tremaining: 13.7s\n",
      "104:\tlearn: 0.4470331\ttotal: 1.61s\tremaining: 13.7s\n",
      "105:\tlearn: 0.4468151\ttotal: 1.62s\tremaining: 13.7s\n",
      "106:\tlearn: 0.4466535\ttotal: 1.64s\tremaining: 13.7s\n",
      "107:\tlearn: 0.4464856\ttotal: 1.65s\tremaining: 13.6s\n",
      "108:\tlearn: 0.4463039\ttotal: 1.66s\tremaining: 13.6s\n",
      "109:\tlearn: 0.4461455\ttotal: 1.67s\tremaining: 13.5s\n",
      "110:\tlearn: 0.4458517\ttotal: 1.69s\tremaining: 13.5s\n",
      "111:\tlearn: 0.4454642\ttotal: 1.7s\tremaining: 13.5s\n",
      "112:\tlearn: 0.4451078\ttotal: 1.71s\tremaining: 13.4s\n",
      "113:\tlearn: 0.4448917\ttotal: 1.73s\tremaining: 13.4s\n",
      "114:\tlearn: 0.4446372\ttotal: 1.74s\tremaining: 13.4s\n",
      "115:\tlearn: 0.4444670\ttotal: 1.75s\tremaining: 13.3s\n",
      "116:\tlearn: 0.4443377\ttotal: 1.76s\tremaining: 13.3s\n",
      "117:\tlearn: 0.4440321\ttotal: 1.77s\tremaining: 13.3s\n",
      "118:\tlearn: 0.4439154\ttotal: 1.78s\tremaining: 13.2s\n",
      "119:\tlearn: 0.4438197\ttotal: 1.79s\tremaining: 13.2s\n",
      "120:\tlearn: 0.4434741\ttotal: 1.81s\tremaining: 13.1s\n",
      "121:\tlearn: 0.4432572\ttotal: 1.82s\tremaining: 13.1s\n",
      "122:\tlearn: 0.4431141\ttotal: 1.83s\tremaining: 13.1s\n",
      "123:\tlearn: 0.4428461\ttotal: 1.85s\tremaining: 13s\n",
      "124:\tlearn: 0.4426203\ttotal: 1.86s\tremaining: 13s\n",
      "125:\tlearn: 0.4423186\ttotal: 1.87s\tremaining: 13s\n",
      "126:\tlearn: 0.4421391\ttotal: 1.88s\tremaining: 12.9s\n",
      "127:\tlearn: 0.4419423\ttotal: 1.89s\tremaining: 12.9s\n",
      "128:\tlearn: 0.4417802\ttotal: 1.9s\tremaining: 12.8s\n",
      "129:\tlearn: 0.4415586\ttotal: 1.92s\tremaining: 12.8s\n",
      "130:\tlearn: 0.4414629\ttotal: 1.93s\tremaining: 12.8s\n",
      "131:\tlearn: 0.4412598\ttotal: 1.94s\tremaining: 12.8s\n",
      "132:\tlearn: 0.4410412\ttotal: 1.95s\tremaining: 12.7s\n",
      "133:\tlearn: 0.4408919\ttotal: 1.96s\tremaining: 12.7s\n",
      "134:\tlearn: 0.4407622\ttotal: 1.97s\tremaining: 12.7s\n",
      "135:\tlearn: 0.4406175\ttotal: 1.99s\tremaining: 12.6s\n",
      "136:\tlearn: 0.4403893\ttotal: 2s\tremaining: 12.6s\n",
      "137:\tlearn: 0.4402073\ttotal: 2.01s\tremaining: 12.5s\n",
      "138:\tlearn: 0.4400201\ttotal: 2.02s\tremaining: 12.5s\n",
      "139:\tlearn: 0.4398528\ttotal: 2.03s\tremaining: 12.5s\n",
      "140:\tlearn: 0.4396854\ttotal: 2.05s\tremaining: 12.5s\n",
      "141:\tlearn: 0.4395064\ttotal: 2.06s\tremaining: 12.4s\n",
      "142:\tlearn: 0.4393046\ttotal: 2.07s\tremaining: 12.4s\n",
      "143:\tlearn: 0.4390962\ttotal: 2.08s\tremaining: 12.4s\n",
      "144:\tlearn: 0.4388601\ttotal: 2.1s\tremaining: 12.4s\n",
      "145:\tlearn: 0.4386894\ttotal: 2.11s\tremaining: 12.4s\n",
      "146:\tlearn: 0.4384155\ttotal: 2.12s\tremaining: 12.3s\n",
      "147:\tlearn: 0.4383500\ttotal: 2.14s\tremaining: 12.3s\n",
      "148:\tlearn: 0.4382503\ttotal: 2.15s\tremaining: 12.3s\n",
      "149:\tlearn: 0.4380789\ttotal: 2.16s\tremaining: 12.3s\n",
      "150:\tlearn: 0.4379753\ttotal: 2.17s\tremaining: 12.2s\n",
      "151:\tlearn: 0.4377835\ttotal: 2.18s\tremaining: 12.2s\n",
      "152:\tlearn: 0.4376843\ttotal: 2.19s\tremaining: 12.1s\n",
      "153:\tlearn: 0.4374794\ttotal: 2.21s\tremaining: 12.1s\n",
      "154:\tlearn: 0.4373794\ttotal: 2.22s\tremaining: 12.1s\n",
      "155:\tlearn: 0.4372060\ttotal: 2.23s\tremaining: 12.1s\n",
      "156:\tlearn: 0.4370613\ttotal: 2.24s\tremaining: 12s\n",
      "157:\tlearn: 0.4369432\ttotal: 2.25s\tremaining: 12s\n",
      "158:\tlearn: 0.4367982\ttotal: 2.27s\tremaining: 12s\n",
      "159:\tlearn: 0.4366798\ttotal: 2.28s\tremaining: 12s\n",
      "160:\tlearn: 0.4365610\ttotal: 2.29s\tremaining: 11.9s\n",
      "161:\tlearn: 0.4363756\ttotal: 2.3s\tremaining: 11.9s\n",
      "162:\tlearn: 0.4362179\ttotal: 2.31s\tremaining: 11.9s\n",
      "163:\tlearn: 0.4360959\ttotal: 2.32s\tremaining: 11.8s\n",
      "164:\tlearn: 0.4359875\ttotal: 2.33s\tremaining: 11.8s\n",
      "165:\tlearn: 0.4357478\ttotal: 2.34s\tremaining: 11.8s\n",
      "166:\tlearn: 0.4355882\ttotal: 2.36s\tremaining: 11.8s\n",
      "167:\tlearn: 0.4354833\ttotal: 2.37s\tremaining: 11.7s\n",
      "168:\tlearn: 0.4353913\ttotal: 2.38s\tremaining: 11.7s\n",
      "169:\tlearn: 0.4352075\ttotal: 2.39s\tremaining: 11.7s\n",
      "170:\tlearn: 0.4350872\ttotal: 2.4s\tremaining: 11.7s\n",
      "171:\tlearn: 0.4350543\ttotal: 2.42s\tremaining: 11.6s\n",
      "172:\tlearn: 0.4349835\ttotal: 2.43s\tremaining: 11.6s\n",
      "173:\tlearn: 0.4348980\ttotal: 2.44s\tremaining: 11.6s\n",
      "174:\tlearn: 0.4348087\ttotal: 2.45s\tremaining: 11.6s\n",
      "175:\tlearn: 0.4345845\ttotal: 2.47s\tremaining: 11.5s\n",
      "176:\tlearn: 0.4345078\ttotal: 2.48s\tremaining: 11.5s\n",
      "177:\tlearn: 0.4344576\ttotal: 2.49s\tremaining: 11.5s\n",
      "178:\tlearn: 0.4342892\ttotal: 2.5s\tremaining: 11.5s\n",
      "179:\tlearn: 0.4342054\ttotal: 2.52s\tremaining: 11.5s\n",
      "180:\tlearn: 0.4340531\ttotal: 2.53s\tremaining: 11.5s\n",
      "181:\tlearn: 0.4339098\ttotal: 2.55s\tremaining: 11.5s\n",
      "182:\tlearn: 0.4337564\ttotal: 2.57s\tremaining: 11.5s\n",
      "183:\tlearn: 0.4336330\ttotal: 2.58s\tremaining: 11.4s\n",
      "184:\tlearn: 0.4335579\ttotal: 2.59s\tremaining: 11.4s\n",
      "185:\tlearn: 0.4334699\ttotal: 2.6s\tremaining: 11.4s\n",
      "186:\tlearn: 0.4334285\ttotal: 2.62s\tremaining: 11.4s\n",
      "187:\tlearn: 0.4333381\ttotal: 2.63s\tremaining: 11.4s\n",
      "188:\tlearn: 0.4332087\ttotal: 2.64s\tremaining: 11.3s\n",
      "189:\tlearn: 0.4331143\ttotal: 2.65s\tremaining: 11.3s\n",
      "190:\tlearn: 0.4330606\ttotal: 2.67s\tremaining: 11.3s\n",
      "191:\tlearn: 0.4329819\ttotal: 2.69s\tremaining: 11.3s\n",
      "192:\tlearn: 0.4328966\ttotal: 2.7s\tremaining: 11.3s\n",
      "193:\tlearn: 0.4328236\ttotal: 2.71s\tremaining: 11.3s\n",
      "194:\tlearn: 0.4326647\ttotal: 2.73s\tremaining: 11.3s\n",
      "195:\tlearn: 0.4325468\ttotal: 2.74s\tremaining: 11.2s\n",
      "196:\tlearn: 0.4323472\ttotal: 2.76s\tremaining: 11.2s\n",
      "197:\tlearn: 0.4322264\ttotal: 2.77s\tremaining: 11.2s\n",
      "198:\tlearn: 0.4320428\ttotal: 2.78s\tremaining: 11.2s\n",
      "199:\tlearn: 0.4319017\ttotal: 2.8s\tremaining: 11.2s\n",
      "200:\tlearn: 0.4317746\ttotal: 2.81s\tremaining: 11.2s\n",
      "201:\tlearn: 0.4315513\ttotal: 2.83s\tremaining: 11.2s\n",
      "202:\tlearn: 0.4314609\ttotal: 2.85s\tremaining: 11.2s\n",
      "203:\tlearn: 0.4313249\ttotal: 2.87s\tremaining: 11.2s\n",
      "204:\tlearn: 0.4311593\ttotal: 2.88s\tremaining: 11.2s\n",
      "205:\tlearn: 0.4310245\ttotal: 2.9s\tremaining: 11.2s\n",
      "206:\tlearn: 0.4308507\ttotal: 2.91s\tremaining: 11.2s\n",
      "207:\tlearn: 0.4306257\ttotal: 2.93s\tremaining: 11.1s\n",
      "208:\tlearn: 0.4305851\ttotal: 2.94s\tremaining: 11.1s\n",
      "209:\tlearn: 0.4304851\ttotal: 2.95s\tremaining: 11.1s\n",
      "210:\tlearn: 0.4303629\ttotal: 2.97s\tremaining: 11.1s\n",
      "211:\tlearn: 0.4302486\ttotal: 2.98s\tremaining: 11.1s\n",
      "212:\tlearn: 0.4301431\ttotal: 3s\tremaining: 11.1s\n",
      "213:\tlearn: 0.4299839\ttotal: 3.01s\tremaining: 11.1s\n",
      "214:\tlearn: 0.4299469\ttotal: 3.02s\tremaining: 11s\n",
      "215:\tlearn: 0.4298395\ttotal: 3.03s\tremaining: 11s\n",
      "216:\tlearn: 0.4297838\ttotal: 3.05s\tremaining: 11s\n",
      "217:\tlearn: 0.4296571\ttotal: 3.06s\tremaining: 11s\n",
      "218:\tlearn: 0.4295385\ttotal: 3.07s\tremaining: 10.9s\n",
      "219:\tlearn: 0.4294939\ttotal: 3.08s\tremaining: 10.9s\n",
      "220:\tlearn: 0.4293489\ttotal: 3.1s\tremaining: 10.9s\n",
      "221:\tlearn: 0.4292430\ttotal: 3.11s\tremaining: 10.9s\n",
      "222:\tlearn: 0.4291710\ttotal: 3.12s\tremaining: 10.9s\n",
      "223:\tlearn: 0.4290604\ttotal: 3.14s\tremaining: 10.9s\n",
      "224:\tlearn: 0.4289504\ttotal: 3.15s\tremaining: 10.8s\n",
      "225:\tlearn: 0.4288690\ttotal: 3.16s\tremaining: 10.8s\n",
      "226:\tlearn: 0.4288231\ttotal: 3.17s\tremaining: 10.8s\n",
      "227:\tlearn: 0.4286904\ttotal: 3.19s\tremaining: 10.8s\n",
      "228:\tlearn: 0.4285401\ttotal: 3.2s\tremaining: 10.8s\n",
      "229:\tlearn: 0.4284845\ttotal: 3.21s\tremaining: 10.8s\n",
      "230:\tlearn: 0.4283417\ttotal: 3.23s\tremaining: 10.7s\n",
      "231:\tlearn: 0.4283067\ttotal: 3.24s\tremaining: 10.7s\n",
      "232:\tlearn: 0.4281644\ttotal: 3.25s\tremaining: 10.7s\n",
      "233:\tlearn: 0.4280028\ttotal: 3.27s\tremaining: 10.7s\n",
      "234:\tlearn: 0.4279400\ttotal: 3.28s\tremaining: 10.7s\n",
      "235:\tlearn: 0.4278667\ttotal: 3.29s\tremaining: 10.6s\n",
      "236:\tlearn: 0.4277518\ttotal: 3.3s\tremaining: 10.6s\n",
      "237:\tlearn: 0.4276578\ttotal: 3.31s\tremaining: 10.6s\n",
      "238:\tlearn: 0.4275750\ttotal: 3.32s\tremaining: 10.6s\n",
      "239:\tlearn: 0.4274527\ttotal: 3.33s\tremaining: 10.6s\n",
      "240:\tlearn: 0.4273340\ttotal: 3.35s\tremaining: 10.5s\n",
      "241:\tlearn: 0.4272791\ttotal: 3.36s\tremaining: 10.5s\n",
      "242:\tlearn: 0.4271354\ttotal: 3.38s\tremaining: 10.5s\n",
      "243:\tlearn: 0.4270570\ttotal: 3.39s\tremaining: 10.5s\n",
      "244:\tlearn: 0.4269767\ttotal: 3.4s\tremaining: 10.5s\n",
      "245:\tlearn: 0.4268779\ttotal: 3.42s\tremaining: 10.5s\n",
      "246:\tlearn: 0.4268130\ttotal: 3.43s\tremaining: 10.4s\n",
      "247:\tlearn: 0.4267168\ttotal: 3.44s\tremaining: 10.4s\n",
      "248:\tlearn: 0.4265962\ttotal: 3.45s\tremaining: 10.4s\n",
      "249:\tlearn: 0.4263374\ttotal: 3.47s\tremaining: 10.4s\n",
      "250:\tlearn: 0.4261960\ttotal: 3.48s\tremaining: 10.4s\n",
      "251:\tlearn: 0.4260588\ttotal: 3.49s\tremaining: 10.4s\n",
      "252:\tlearn: 0.4259208\ttotal: 3.5s\tremaining: 10.3s\n",
      "253:\tlearn: 0.4258705\ttotal: 3.51s\tremaining: 10.3s\n",
      "254:\tlearn: 0.4257750\ttotal: 3.53s\tremaining: 10.3s\n",
      "255:\tlearn: 0.4256664\ttotal: 3.54s\tremaining: 10.3s\n",
      "256:\tlearn: 0.4255198\ttotal: 3.55s\tremaining: 10.3s\n",
      "257:\tlearn: 0.4254102\ttotal: 3.56s\tremaining: 10.3s\n",
      "258:\tlearn: 0.4252715\ttotal: 3.58s\tremaining: 10.2s\n",
      "259:\tlearn: 0.4250768\ttotal: 3.59s\tremaining: 10.2s\n",
      "260:\tlearn: 0.4249933\ttotal: 3.6s\tremaining: 10.2s\n",
      "261:\tlearn: 0.4248877\ttotal: 3.62s\tremaining: 10.2s\n",
      "262:\tlearn: 0.4248184\ttotal: 3.63s\tremaining: 10.2s\n",
      "263:\tlearn: 0.4246177\ttotal: 3.64s\tremaining: 10.2s\n",
      "264:\tlearn: 0.4244995\ttotal: 3.65s\tremaining: 10.1s\n",
      "265:\tlearn: 0.4244343\ttotal: 3.67s\tremaining: 10.1s\n",
      "266:\tlearn: 0.4243145\ttotal: 3.68s\tremaining: 10.1s\n",
      "267:\tlearn: 0.4242149\ttotal: 3.69s\tremaining: 10.1s\n",
      "268:\tlearn: 0.4241462\ttotal: 3.71s\tremaining: 10.1s\n",
      "269:\tlearn: 0.4240423\ttotal: 3.72s\tremaining: 10.1s\n",
      "270:\tlearn: 0.4239759\ttotal: 3.74s\tremaining: 10.1s\n",
      "271:\tlearn: 0.4238438\ttotal: 3.75s\tremaining: 10s\n",
      "272:\tlearn: 0.4237704\ttotal: 3.77s\tremaining: 10s\n",
      "273:\tlearn: 0.4236382\ttotal: 3.78s\tremaining: 10s\n",
      "274:\tlearn: 0.4235560\ttotal: 3.79s\tremaining: 10s\n",
      "275:\tlearn: 0.4234897\ttotal: 3.81s\tremaining: 9.99s\n",
      "276:\tlearn: 0.4234096\ttotal: 3.82s\tremaining: 9.97s\n",
      "277:\tlearn: 0.4233720\ttotal: 3.83s\tremaining: 9.96s\n",
      "278:\tlearn: 0.4232769\ttotal: 3.85s\tremaining: 9.95s\n",
      "279:\tlearn: 0.4232334\ttotal: 3.86s\tremaining: 9.93s\n",
      "280:\tlearn: 0.4231721\ttotal: 3.88s\tremaining: 9.92s\n",
      "281:\tlearn: 0.4231019\ttotal: 3.89s\tremaining: 9.9s\n",
      "282:\tlearn: 0.4230403\ttotal: 3.9s\tremaining: 9.89s\n",
      "283:\tlearn: 0.4229639\ttotal: 3.92s\tremaining: 9.87s\n",
      "284:\tlearn: 0.4228434\ttotal: 3.93s\tremaining: 9.86s\n",
      "285:\tlearn: 0.4227471\ttotal: 3.94s\tremaining: 9.84s\n",
      "286:\tlearn: 0.4227092\ttotal: 3.95s\tremaining: 9.82s\n",
      "287:\tlearn: 0.4225765\ttotal: 3.97s\tremaining: 9.81s\n",
      "288:\tlearn: 0.4224725\ttotal: 3.98s\tremaining: 9.79s\n",
      "289:\tlearn: 0.4223560\ttotal: 3.99s\tremaining: 9.78s\n",
      "290:\tlearn: 0.4222686\ttotal: 4s\tremaining: 9.76s\n",
      "291:\tlearn: 0.4221096\ttotal: 4.02s\tremaining: 9.74s\n",
      "292:\tlearn: 0.4219780\ttotal: 4.03s\tremaining: 9.73s\n",
      "293:\tlearn: 0.4218950\ttotal: 4.04s\tremaining: 9.71s\n",
      "294:\tlearn: 0.4218762\ttotal: 4.06s\tremaining: 9.7s\n",
      "295:\tlearn: 0.4218112\ttotal: 4.07s\tremaining: 9.69s\n",
      "296:\tlearn: 0.4217577\ttotal: 4.08s\tremaining: 9.67s\n",
      "297:\tlearn: 0.4216653\ttotal: 4.1s\tremaining: 9.65s\n",
      "298:\tlearn: 0.4216232\ttotal: 4.11s\tremaining: 9.63s\n",
      "299:\tlearn: 0.4215657\ttotal: 4.12s\tremaining: 9.61s\n",
      "300:\tlearn: 0.4214878\ttotal: 4.13s\tremaining: 9.6s\n",
      "301:\tlearn: 0.4214694\ttotal: 4.14s\tremaining: 9.57s\n",
      "302:\tlearn: 0.4213768\ttotal: 4.16s\tremaining: 9.56s\n",
      "303:\tlearn: 0.4212625\ttotal: 4.17s\tremaining: 9.55s\n",
      "304:\tlearn: 0.4212096\ttotal: 4.18s\tremaining: 9.53s\n",
      "305:\tlearn: 0.4211498\ttotal: 4.2s\tremaining: 9.52s\n",
      "306:\tlearn: 0.4210930\ttotal: 4.21s\tremaining: 9.51s\n",
      "307:\tlearn: 0.4210495\ttotal: 4.22s\tremaining: 9.49s\n",
      "308:\tlearn: 0.4209746\ttotal: 4.24s\tremaining: 9.47s\n",
      "309:\tlearn: 0.4208869\ttotal: 4.25s\tremaining: 9.46s\n",
      "310:\tlearn: 0.4207927\ttotal: 4.26s\tremaining: 9.44s\n",
      "311:\tlearn: 0.4207434\ttotal: 4.28s\tremaining: 9.43s\n",
      "312:\tlearn: 0.4206852\ttotal: 4.29s\tremaining: 9.41s\n",
      "313:\tlearn: 0.4206338\ttotal: 4.3s\tremaining: 9.39s\n",
      "314:\tlearn: 0.4206053\ttotal: 4.31s\tremaining: 9.38s\n",
      "315:\tlearn: 0.4204683\ttotal: 4.32s\tremaining: 9.36s\n",
      "316:\tlearn: 0.4203413\ttotal: 4.34s\tremaining: 9.35s\n",
      "317:\tlearn: 0.4202580\ttotal: 4.35s\tremaining: 9.33s\n",
      "318:\tlearn: 0.4201370\ttotal: 4.36s\tremaining: 9.32s\n",
      "319:\tlearn: 0.4200004\ttotal: 4.38s\tremaining: 9.31s\n",
      "320:\tlearn: 0.4198896\ttotal: 4.39s\tremaining: 9.29s\n",
      "321:\tlearn: 0.4197524\ttotal: 4.41s\tremaining: 9.28s\n",
      "322:\tlearn: 0.4196268\ttotal: 4.42s\tremaining: 9.27s\n",
      "323:\tlearn: 0.4195836\ttotal: 4.44s\tremaining: 9.26s\n",
      "324:\tlearn: 0.4195002\ttotal: 4.45s\tremaining: 9.24s\n",
      "325:\tlearn: 0.4193463\ttotal: 4.46s\tremaining: 9.23s\n",
      "326:\tlearn: 0.4193124\ttotal: 4.48s\tremaining: 9.21s\n",
      "327:\tlearn: 0.4191988\ttotal: 4.49s\tremaining: 9.2s\n",
      "328:\tlearn: 0.4191640\ttotal: 4.5s\tremaining: 9.18s\n",
      "329:\tlearn: 0.4190549\ttotal: 4.51s\tremaining: 9.17s\n",
      "330:\tlearn: 0.4189050\ttotal: 4.53s\tremaining: 9.15s\n",
      "331:\tlearn: 0.4188375\ttotal: 4.54s\tremaining: 9.14s\n",
      "332:\tlearn: 0.4187871\ttotal: 4.55s\tremaining: 9.12s\n",
      "333:\tlearn: 0.4187166\ttotal: 4.57s\tremaining: 9.1s\n",
      "334:\tlearn: 0.4186600\ttotal: 4.58s\tremaining: 9.09s\n",
      "335:\tlearn: 0.4184892\ttotal: 4.59s\tremaining: 9.07s\n",
      "336:\tlearn: 0.4184255\ttotal: 4.6s\tremaining: 9.05s\n",
      "337:\tlearn: 0.4183845\ttotal: 4.61s\tremaining: 9.03s\n",
      "338:\tlearn: 0.4183262\ttotal: 4.62s\tremaining: 9.02s\n",
      "339:\tlearn: 0.4182387\ttotal: 4.64s\tremaining: 9s\n",
      "340:\tlearn: 0.4181970\ttotal: 4.65s\tremaining: 8.98s\n",
      "341:\tlearn: 0.4181692\ttotal: 4.66s\tremaining: 8.97s\n",
      "342:\tlearn: 0.4179897\ttotal: 4.68s\tremaining: 8.96s\n",
      "343:\tlearn: 0.4179088\ttotal: 4.69s\tremaining: 8.95s\n",
      "344:\tlearn: 0.4178350\ttotal: 4.71s\tremaining: 8.94s\n",
      "345:\tlearn: 0.4178178\ttotal: 4.72s\tremaining: 8.92s\n",
      "346:\tlearn: 0.4177945\ttotal: 4.73s\tremaining: 8.91s\n",
      "347:\tlearn: 0.4177193\ttotal: 4.75s\tremaining: 8.89s\n",
      "348:\tlearn: 0.4176672\ttotal: 4.76s\tremaining: 8.88s\n",
      "349:\tlearn: 0.4175350\ttotal: 4.78s\tremaining: 8.87s\n",
      "350:\tlearn: 0.4174411\ttotal: 4.79s\tremaining: 8.86s\n",
      "351:\tlearn: 0.4173973\ttotal: 4.8s\tremaining: 8.84s\n",
      "352:\tlearn: 0.4173446\ttotal: 4.82s\tremaining: 8.83s\n",
      "353:\tlearn: 0.4172948\ttotal: 4.83s\tremaining: 8.81s\n",
      "354:\tlearn: 0.4172349\ttotal: 4.84s\tremaining: 8.79s\n",
      "355:\tlearn: 0.4171213\ttotal: 4.85s\tremaining: 8.78s\n",
      "356:\tlearn: 0.4170424\ttotal: 4.87s\tremaining: 8.77s\n",
      "357:\tlearn: 0.4169297\ttotal: 4.88s\tremaining: 8.76s\n",
      "358:\tlearn: 0.4168757\ttotal: 4.9s\tremaining: 8.75s\n",
      "359:\tlearn: 0.4168008\ttotal: 4.92s\tremaining: 8.74s\n",
      "360:\tlearn: 0.4167834\ttotal: 4.93s\tremaining: 8.72s\n",
      "361:\tlearn: 0.4167085\ttotal: 4.94s\tremaining: 8.71s\n",
      "362:\tlearn: 0.4166315\ttotal: 4.96s\tremaining: 8.7s\n",
      "363:\tlearn: 0.4165966\ttotal: 4.97s\tremaining: 8.68s\n",
      "364:\tlearn: 0.4164967\ttotal: 4.98s\tremaining: 8.67s\n",
      "365:\tlearn: 0.4164059\ttotal: 5s\tremaining: 8.66s\n",
      "366:\tlearn: 0.4163395\ttotal: 5.01s\tremaining: 8.64s\n",
      "367:\tlearn: 0.4162004\ttotal: 5.02s\tremaining: 8.63s\n",
      "368:\tlearn: 0.4161568\ttotal: 5.04s\tremaining: 8.62s\n",
      "369:\tlearn: 0.4160858\ttotal: 5.05s\tremaining: 8.6s\n",
      "370:\tlearn: 0.4160425\ttotal: 5.07s\tremaining: 8.59s\n",
      "371:\tlearn: 0.4159611\ttotal: 5.08s\tremaining: 8.57s\n",
      "372:\tlearn: 0.4159455\ttotal: 5.09s\tremaining: 8.55s\n",
      "373:\tlearn: 0.4159335\ttotal: 5.1s\tremaining: 8.54s\n",
      "374:\tlearn: 0.4159007\ttotal: 5.11s\tremaining: 8.52s\n",
      "375:\tlearn: 0.4158778\ttotal: 5.12s\tremaining: 8.5s\n",
      "376:\tlearn: 0.4158589\ttotal: 5.13s\tremaining: 8.48s\n",
      "377:\tlearn: 0.4157183\ttotal: 5.14s\tremaining: 8.47s\n",
      "378:\tlearn: 0.4157075\ttotal: 5.15s\tremaining: 8.45s\n",
      "379:\tlearn: 0.4155939\ttotal: 5.17s\tremaining: 8.43s\n",
      "380:\tlearn: 0.4154463\ttotal: 5.18s\tremaining: 8.42s\n",
      "381:\tlearn: 0.4153663\ttotal: 5.2s\tremaining: 8.4s\n",
      "382:\tlearn: 0.4153061\ttotal: 5.21s\tremaining: 8.39s\n",
      "383:\tlearn: 0.4152243\ttotal: 5.22s\tremaining: 8.37s\n",
      "384:\tlearn: 0.4151715\ttotal: 5.23s\tremaining: 8.36s\n",
      "385:\tlearn: 0.4150971\ttotal: 5.24s\tremaining: 8.34s\n",
      "386:\tlearn: 0.4150483\ttotal: 5.26s\tremaining: 8.33s\n",
      "387:\tlearn: 0.4149953\ttotal: 5.27s\tremaining: 8.31s\n",
      "388:\tlearn: 0.4149481\ttotal: 5.28s\tremaining: 8.3s\n",
      "389:\tlearn: 0.4149023\ttotal: 5.29s\tremaining: 8.28s\n",
      "390:\tlearn: 0.4148098\ttotal: 5.31s\tremaining: 8.27s\n",
      "391:\tlearn: 0.4147463\ttotal: 5.32s\tremaining: 8.25s\n",
      "392:\tlearn: 0.4146708\ttotal: 5.33s\tremaining: 8.23s\n",
      "393:\tlearn: 0.4146530\ttotal: 5.34s\tremaining: 8.22s\n",
      "394:\tlearn: 0.4145356\ttotal: 5.35s\tremaining: 8.2s\n",
      "395:\tlearn: 0.4144464\ttotal: 5.37s\tremaining: 8.19s\n",
      "396:\tlearn: 0.4143601\ttotal: 5.38s\tremaining: 8.18s\n",
      "397:\tlearn: 0.4143057\ttotal: 5.39s\tremaining: 8.16s\n",
      "398:\tlearn: 0.4142513\ttotal: 5.41s\tremaining: 8.14s\n",
      "399:\tlearn: 0.4141163\ttotal: 5.42s\tremaining: 8.13s\n",
      "400:\tlearn: 0.4140573\ttotal: 5.43s\tremaining: 8.11s\n",
      "401:\tlearn: 0.4140369\ttotal: 5.45s\tremaining: 8.1s\n",
      "402:\tlearn: 0.4139917\ttotal: 5.46s\tremaining: 8.08s\n",
      "403:\tlearn: 0.4139467\ttotal: 5.47s\tremaining: 8.07s\n",
      "404:\tlearn: 0.4139152\ttotal: 5.48s\tremaining: 8.05s\n",
      "405:\tlearn: 0.4138926\ttotal: 5.5s\tremaining: 8.04s\n",
      "406:\tlearn: 0.4138200\ttotal: 5.51s\tremaining: 8.02s\n",
      "407:\tlearn: 0.4137571\ttotal: 5.52s\tremaining: 8.01s\n",
      "408:\tlearn: 0.4136467\ttotal: 5.54s\tremaining: 8s\n",
      "409:\tlearn: 0.4136264\ttotal: 5.55s\tremaining: 7.98s\n",
      "410:\tlearn: 0.4136107\ttotal: 5.56s\tremaining: 7.97s\n",
      "411:\tlearn: 0.4135529\ttotal: 5.57s\tremaining: 7.95s\n",
      "412:\tlearn: 0.4134422\ttotal: 5.59s\tremaining: 7.94s\n",
      "413:\tlearn: 0.4134159\ttotal: 5.6s\tremaining: 7.92s\n",
      "414:\tlearn: 0.4133420\ttotal: 5.61s\tremaining: 7.91s\n",
      "415:\tlearn: 0.4132960\ttotal: 5.63s\tremaining: 7.9s\n",
      "416:\tlearn: 0.4132226\ttotal: 5.64s\tremaining: 7.88s\n",
      "417:\tlearn: 0.4131513\ttotal: 5.65s\tremaining: 7.87s\n",
      "418:\tlearn: 0.4130782\ttotal: 5.67s\tremaining: 7.86s\n",
      "419:\tlearn: 0.4130276\ttotal: 5.68s\tremaining: 7.84s\n",
      "420:\tlearn: 0.4129874\ttotal: 5.69s\tremaining: 7.83s\n",
      "421:\tlearn: 0.4129538\ttotal: 5.71s\tremaining: 7.82s\n",
      "422:\tlearn: 0.4128967\ttotal: 5.72s\tremaining: 7.8s\n",
      "423:\tlearn: 0.4128059\ttotal: 5.73s\tremaining: 7.79s\n",
      "424:\tlearn: 0.4127660\ttotal: 5.74s\tremaining: 7.77s\n",
      "425:\tlearn: 0.4127016\ttotal: 5.76s\tremaining: 7.76s\n",
      "426:\tlearn: 0.4126721\ttotal: 5.77s\tremaining: 7.74s\n",
      "427:\tlearn: 0.4126481\ttotal: 5.78s\tremaining: 7.72s\n",
      "428:\tlearn: 0.4126189\ttotal: 5.79s\tremaining: 7.71s\n",
      "429:\tlearn: 0.4125517\ttotal: 5.81s\tremaining: 7.7s\n",
      "430:\tlearn: 0.4124988\ttotal: 5.82s\tremaining: 7.68s\n",
      "431:\tlearn: 0.4124064\ttotal: 5.83s\tremaining: 7.67s\n",
      "432:\tlearn: 0.4123650\ttotal: 5.84s\tremaining: 7.65s\n",
      "433:\tlearn: 0.4123400\ttotal: 5.86s\tremaining: 7.64s\n",
      "434:\tlearn: 0.4123354\ttotal: 5.87s\tremaining: 7.62s\n",
      "435:\tlearn: 0.4122600\ttotal: 5.88s\tremaining: 7.61s\n",
      "436:\tlearn: 0.4122029\ttotal: 5.89s\tremaining: 7.59s\n",
      "437:\tlearn: 0.4121148\ttotal: 5.91s\tremaining: 7.58s\n",
      "438:\tlearn: 0.4120527\ttotal: 5.92s\tremaining: 7.57s\n",
      "439:\tlearn: 0.4120116\ttotal: 5.93s\tremaining: 7.55s\n",
      "440:\tlearn: 0.4119277\ttotal: 5.95s\tremaining: 7.54s\n",
      "441:\tlearn: 0.4118827\ttotal: 5.96s\tremaining: 7.52s\n",
      "442:\tlearn: 0.4118021\ttotal: 5.97s\tremaining: 7.51s\n",
      "443:\tlearn: 0.4117762\ttotal: 5.98s\tremaining: 7.49s\n",
      "444:\tlearn: 0.4117236\ttotal: 6s\tremaining: 7.48s\n",
      "445:\tlearn: 0.4116599\ttotal: 6.01s\tremaining: 7.46s\n",
      "446:\tlearn: 0.4115998\ttotal: 6.02s\tremaining: 7.45s\n",
      "447:\tlearn: 0.4114969\ttotal: 6.03s\tremaining: 7.43s\n",
      "448:\tlearn: 0.4114509\ttotal: 6.04s\tremaining: 7.42s\n",
      "449:\tlearn: 0.4114336\ttotal: 6.06s\tremaining: 7.4s\n",
      "450:\tlearn: 0.4113943\ttotal: 6.07s\tremaining: 7.38s\n",
      "451:\tlearn: 0.4112787\ttotal: 6.08s\tremaining: 7.37s\n",
      "452:\tlearn: 0.4112081\ttotal: 6.09s\tremaining: 7.36s\n",
      "453:\tlearn: 0.4111497\ttotal: 6.11s\tremaining: 7.34s\n",
      "454:\tlearn: 0.4111148\ttotal: 6.12s\tremaining: 7.33s\n",
      "455:\tlearn: 0.4110706\ttotal: 6.13s\tremaining: 7.31s\n",
      "456:\tlearn: 0.4109999\ttotal: 6.14s\tremaining: 7.3s\n",
      "457:\tlearn: 0.4109203\ttotal: 6.15s\tremaining: 7.28s\n",
      "458:\tlearn: 0.4108533\ttotal: 6.17s\tremaining: 7.27s\n",
      "459:\tlearn: 0.4107972\ttotal: 6.18s\tremaining: 7.25s\n",
      "460:\tlearn: 0.4106932\ttotal: 6.19s\tremaining: 7.24s\n",
      "461:\tlearn: 0.4106289\ttotal: 6.2s\tremaining: 7.22s\n",
      "462:\tlearn: 0.4105695\ttotal: 6.21s\tremaining: 7.21s\n",
      "463:\tlearn: 0.4104802\ttotal: 6.22s\tremaining: 7.19s\n",
      "464:\tlearn: 0.4103702\ttotal: 6.24s\tremaining: 7.18s\n",
      "465:\tlearn: 0.4102845\ttotal: 6.25s\tremaining: 7.16s\n",
      "466:\tlearn: 0.4102130\ttotal: 6.26s\tremaining: 7.15s\n",
      "467:\tlearn: 0.4101604\ttotal: 6.27s\tremaining: 7.13s\n",
      "468:\tlearn: 0.4101126\ttotal: 6.29s\tremaining: 7.12s\n",
      "469:\tlearn: 0.4100320\ttotal: 6.3s\tremaining: 7.1s\n",
      "470:\tlearn: 0.4100178\ttotal: 6.31s\tremaining: 7.09s\n",
      "471:\tlearn: 0.4099958\ttotal: 6.32s\tremaining: 7.07s\n",
      "472:\tlearn: 0.4099418\ttotal: 6.34s\tremaining: 7.06s\n",
      "473:\tlearn: 0.4098454\ttotal: 6.35s\tremaining: 7.05s\n",
      "474:\tlearn: 0.4098040\ttotal: 6.36s\tremaining: 7.03s\n",
      "475:\tlearn: 0.4097705\ttotal: 6.37s\tremaining: 7.02s\n",
      "476:\tlearn: 0.4097213\ttotal: 6.39s\tremaining: 7s\n",
      "477:\tlearn: 0.4096856\ttotal: 6.4s\tremaining: 6.99s\n",
      "478:\tlearn: 0.4096360\ttotal: 6.41s\tremaining: 6.97s\n",
      "479:\tlearn: 0.4096014\ttotal: 6.42s\tremaining: 6.96s\n",
      "480:\tlearn: 0.4095779\ttotal: 6.43s\tremaining: 6.94s\n",
      "481:\tlearn: 0.4095446\ttotal: 6.45s\tremaining: 6.93s\n",
      "482:\tlearn: 0.4095005\ttotal: 6.46s\tremaining: 6.91s\n",
      "483:\tlearn: 0.4093996\ttotal: 6.47s\tremaining: 6.9s\n",
      "484:\tlearn: 0.4093719\ttotal: 6.48s\tremaining: 6.88s\n",
      "485:\tlearn: 0.4093296\ttotal: 6.49s\tremaining: 6.87s\n",
      "486:\tlearn: 0.4092727\ttotal: 6.5s\tremaining: 6.85s\n",
      "487:\tlearn: 0.4092307\ttotal: 6.51s\tremaining: 6.83s\n",
      "488:\tlearn: 0.4092149\ttotal: 6.53s\tremaining: 6.82s\n",
      "489:\tlearn: 0.4091781\ttotal: 6.54s\tremaining: 6.8s\n",
      "490:\tlearn: 0.4091051\ttotal: 6.55s\tremaining: 6.79s\n",
      "491:\tlearn: 0.4090533\ttotal: 6.56s\tremaining: 6.77s\n",
      "492:\tlearn: 0.4090187\ttotal: 6.57s\tremaining: 6.76s\n",
      "493:\tlearn: 0.4090104\ttotal: 6.58s\tremaining: 6.74s\n",
      "494:\tlearn: 0.4089184\ttotal: 6.59s\tremaining: 6.73s\n",
      "495:\tlearn: 0.4088958\ttotal: 6.6s\tremaining: 6.71s\n",
      "496:\tlearn: 0.4087960\ttotal: 6.62s\tremaining: 6.7s\n",
      "497:\tlearn: 0.4087117\ttotal: 6.63s\tremaining: 6.68s\n",
      "498:\tlearn: 0.4086504\ttotal: 6.64s\tremaining: 6.67s\n",
      "499:\tlearn: 0.4086289\ttotal: 6.65s\tremaining: 6.65s\n",
      "500:\tlearn: 0.4085618\ttotal: 6.67s\tremaining: 6.64s\n",
      "501:\tlearn: 0.4085069\ttotal: 6.68s\tremaining: 6.63s\n",
      "502:\tlearn: 0.4084724\ttotal: 6.69s\tremaining: 6.61s\n",
      "503:\tlearn: 0.4084260\ttotal: 6.71s\tremaining: 6.6s\n",
      "504:\tlearn: 0.4083038\ttotal: 6.72s\tremaining: 6.59s\n",
      "505:\tlearn: 0.4082925\ttotal: 6.73s\tremaining: 6.57s\n",
      "506:\tlearn: 0.4082174\ttotal: 6.75s\tremaining: 6.56s\n",
      "507:\tlearn: 0.4081045\ttotal: 6.76s\tremaining: 6.55s\n",
      "508:\tlearn: 0.4080874\ttotal: 6.77s\tremaining: 6.53s\n",
      "509:\tlearn: 0.4080175\ttotal: 6.79s\tremaining: 6.52s\n",
      "510:\tlearn: 0.4079687\ttotal: 6.8s\tremaining: 6.5s\n",
      "511:\tlearn: 0.4079294\ttotal: 6.81s\tremaining: 6.49s\n",
      "512:\tlearn: 0.4079172\ttotal: 6.82s\tremaining: 6.47s\n",
      "513:\tlearn: 0.4078718\ttotal: 6.83s\tremaining: 6.46s\n",
      "514:\tlearn: 0.4077386\ttotal: 6.85s\tremaining: 6.45s\n",
      "515:\tlearn: 0.4077264\ttotal: 6.86s\tremaining: 6.44s\n",
      "516:\tlearn: 0.4076500\ttotal: 6.87s\tremaining: 6.42s\n",
      "517:\tlearn: 0.4075946\ttotal: 6.88s\tremaining: 6.41s\n",
      "518:\tlearn: 0.4075448\ttotal: 6.9s\tremaining: 6.39s\n",
      "519:\tlearn: 0.4074972\ttotal: 6.91s\tremaining: 6.38s\n",
      "520:\tlearn: 0.4074047\ttotal: 6.92s\tremaining: 6.37s\n",
      "521:\tlearn: 0.4073467\ttotal: 6.94s\tremaining: 6.35s\n",
      "522:\tlearn: 0.4072785\ttotal: 6.95s\tremaining: 6.34s\n",
      "523:\tlearn: 0.4071957\ttotal: 6.96s\tremaining: 6.33s\n",
      "524:\tlearn: 0.4071704\ttotal: 6.97s\tremaining: 6.31s\n",
      "525:\tlearn: 0.4071516\ttotal: 6.99s\tremaining: 6.3s\n",
      "526:\tlearn: 0.4071053\ttotal: 7s\tremaining: 6.28s\n",
      "527:\tlearn: 0.4070971\ttotal: 7.01s\tremaining: 6.27s\n",
      "528:\tlearn: 0.4070649\ttotal: 7.02s\tremaining: 6.25s\n",
      "529:\tlearn: 0.4070122\ttotal: 7.03s\tremaining: 6.24s\n",
      "530:\tlearn: 0.4069871\ttotal: 7.04s\tremaining: 6.22s\n",
      "531:\tlearn: 0.4069474\ttotal: 7.05s\tremaining: 6.21s\n",
      "532:\tlearn: 0.4068551\ttotal: 7.07s\tremaining: 6.19s\n",
      "533:\tlearn: 0.4068044\ttotal: 7.08s\tremaining: 6.18s\n",
      "534:\tlearn: 0.4067103\ttotal: 7.09s\tremaining: 6.17s\n",
      "535:\tlearn: 0.4066598\ttotal: 7.11s\tremaining: 6.15s\n",
      "536:\tlearn: 0.4066071\ttotal: 7.12s\tremaining: 6.13s\n",
      "537:\tlearn: 0.4065905\ttotal: 7.13s\tremaining: 6.12s\n",
      "538:\tlearn: 0.4064626\ttotal: 7.14s\tremaining: 6.11s\n",
      "539:\tlearn: 0.4063875\ttotal: 7.15s\tremaining: 6.09s\n",
      "540:\tlearn: 0.4063393\ttotal: 7.16s\tremaining: 6.08s\n",
      "541:\tlearn: 0.4063224\ttotal: 7.17s\tremaining: 6.06s\n",
      "542:\tlearn: 0.4062287\ttotal: 7.19s\tremaining: 6.05s\n",
      "543:\tlearn: 0.4062043\ttotal: 7.2s\tremaining: 6.03s\n",
      "544:\tlearn: 0.4061767\ttotal: 7.22s\tremaining: 6.03s\n",
      "545:\tlearn: 0.4061389\ttotal: 7.24s\tremaining: 6.02s\n",
      "546:\tlearn: 0.4060765\ttotal: 7.26s\tremaining: 6.01s\n",
      "547:\tlearn: 0.4060356\ttotal: 7.28s\tremaining: 6s\n",
      "548:\tlearn: 0.4059722\ttotal: 7.29s\tremaining: 5.99s\n",
      "549:\tlearn: 0.4059608\ttotal: 7.31s\tremaining: 5.98s\n",
      "550:\tlearn: 0.4058820\ttotal: 7.32s\tremaining: 5.97s\n",
      "551:\tlearn: 0.4058530\ttotal: 7.34s\tremaining: 5.96s\n",
      "552:\tlearn: 0.4057852\ttotal: 7.35s\tremaining: 5.94s\n",
      "553:\tlearn: 0.4056989\ttotal: 7.37s\tremaining: 5.93s\n",
      "554:\tlearn: 0.4056127\ttotal: 7.38s\tremaining: 5.92s\n",
      "555:\tlearn: 0.4055737\ttotal: 7.39s\tremaining: 5.9s\n",
      "556:\tlearn: 0.4054914\ttotal: 7.41s\tremaining: 5.89s\n",
      "557:\tlearn: 0.4054554\ttotal: 7.42s\tremaining: 5.88s\n",
      "558:\tlearn: 0.4053687\ttotal: 7.43s\tremaining: 5.86s\n",
      "559:\tlearn: 0.4053069\ttotal: 7.44s\tremaining: 5.85s\n",
      "560:\tlearn: 0.4051216\ttotal: 7.46s\tremaining: 5.84s\n",
      "561:\tlearn: 0.4050254\ttotal: 7.47s\tremaining: 5.82s\n",
      "562:\tlearn: 0.4049809\ttotal: 7.48s\tremaining: 5.81s\n",
      "563:\tlearn: 0.4049677\ttotal: 7.49s\tremaining: 5.79s\n",
      "564:\tlearn: 0.4049150\ttotal: 7.5s\tremaining: 5.78s\n",
      "565:\tlearn: 0.4048653\ttotal: 7.52s\tremaining: 5.76s\n",
      "566:\tlearn: 0.4048348\ttotal: 7.53s\tremaining: 5.75s\n",
      "567:\tlearn: 0.4048096\ttotal: 7.54s\tremaining: 5.73s\n",
      "568:\tlearn: 0.4047747\ttotal: 7.55s\tremaining: 5.72s\n",
      "569:\tlearn: 0.4046768\ttotal: 7.56s\tremaining: 5.71s\n",
      "570:\tlearn: 0.4046498\ttotal: 7.58s\tremaining: 5.69s\n",
      "571:\tlearn: 0.4045966\ttotal: 7.59s\tremaining: 5.68s\n",
      "572:\tlearn: 0.4045613\ttotal: 7.6s\tremaining: 5.66s\n",
      "573:\tlearn: 0.4044309\ttotal: 7.61s\tremaining: 5.65s\n",
      "574:\tlearn: 0.4043600\ttotal: 7.62s\tremaining: 5.63s\n",
      "575:\tlearn: 0.4042873\ttotal: 7.64s\tremaining: 5.62s\n",
      "576:\tlearn: 0.4042358\ttotal: 7.65s\tremaining: 5.61s\n",
      "577:\tlearn: 0.4042192\ttotal: 7.67s\tremaining: 5.6s\n",
      "578:\tlearn: 0.4041661\ttotal: 7.68s\tremaining: 5.58s\n",
      "579:\tlearn: 0.4041337\ttotal: 7.69s\tremaining: 5.57s\n",
      "580:\tlearn: 0.4040969\ttotal: 7.7s\tremaining: 5.55s\n",
      "581:\tlearn: 0.4040466\ttotal: 7.72s\tremaining: 5.54s\n",
      "582:\tlearn: 0.4039684\ttotal: 7.73s\tremaining: 5.53s\n",
      "583:\tlearn: 0.4038937\ttotal: 7.75s\tremaining: 5.52s\n",
      "584:\tlearn: 0.4038366\ttotal: 7.76s\tremaining: 5.5s\n",
      "585:\tlearn: 0.4036881\ttotal: 7.77s\tremaining: 5.49s\n",
      "586:\tlearn: 0.4036550\ttotal: 7.78s\tremaining: 5.48s\n",
      "587:\tlearn: 0.4036194\ttotal: 7.79s\tremaining: 5.46s\n",
      "588:\tlearn: 0.4035350\ttotal: 7.81s\tremaining: 5.45s\n",
      "589:\tlearn: 0.4034728\ttotal: 7.82s\tremaining: 5.43s\n",
      "590:\tlearn: 0.4034362\ttotal: 7.83s\tremaining: 5.42s\n",
      "591:\tlearn: 0.4034107\ttotal: 7.84s\tremaining: 5.41s\n",
      "592:\tlearn: 0.4033842\ttotal: 7.86s\tremaining: 5.39s\n",
      "593:\tlearn: 0.4032896\ttotal: 7.87s\tremaining: 5.38s\n",
      "594:\tlearn: 0.4032197\ttotal: 7.88s\tremaining: 5.37s\n",
      "595:\tlearn: 0.4031469\ttotal: 7.9s\tremaining: 5.35s\n",
      "596:\tlearn: 0.4030888\ttotal: 7.91s\tremaining: 5.34s\n",
      "597:\tlearn: 0.4029499\ttotal: 7.92s\tremaining: 5.33s\n",
      "598:\tlearn: 0.4029331\ttotal: 7.93s\tremaining: 5.31s\n",
      "599:\tlearn: 0.4029100\ttotal: 7.95s\tremaining: 5.3s\n",
      "600:\tlearn: 0.4028060\ttotal: 7.96s\tremaining: 5.28s\n",
      "601:\tlearn: 0.4027641\ttotal: 7.97s\tremaining: 5.27s\n",
      "602:\tlearn: 0.4026860\ttotal: 7.98s\tremaining: 5.25s\n",
      "603:\tlearn: 0.4026346\ttotal: 8s\tremaining: 5.24s\n",
      "604:\tlearn: 0.4025809\ttotal: 8.01s\tremaining: 5.23s\n",
      "605:\tlearn: 0.4025519\ttotal: 8.02s\tremaining: 5.21s\n",
      "606:\tlearn: 0.4025288\ttotal: 8.03s\tremaining: 5.2s\n",
      "607:\tlearn: 0.4025092\ttotal: 8.04s\tremaining: 5.18s\n",
      "608:\tlearn: 0.4024968\ttotal: 8.05s\tremaining: 5.17s\n",
      "609:\tlearn: 0.4024660\ttotal: 8.06s\tremaining: 5.16s\n",
      "610:\tlearn: 0.4023190\ttotal: 8.08s\tremaining: 5.14s\n",
      "611:\tlearn: 0.4022705\ttotal: 8.09s\tremaining: 5.13s\n",
      "612:\tlearn: 0.4022487\ttotal: 8.1s\tremaining: 5.11s\n",
      "613:\tlearn: 0.4022236\ttotal: 8.11s\tremaining: 5.1s\n",
      "614:\tlearn: 0.4021767\ttotal: 8.13s\tremaining: 5.09s\n",
      "615:\tlearn: 0.4021524\ttotal: 8.14s\tremaining: 5.07s\n",
      "616:\tlearn: 0.4021013\ttotal: 8.15s\tremaining: 5.06s\n",
      "617:\tlearn: 0.4020435\ttotal: 8.16s\tremaining: 5.04s\n",
      "618:\tlearn: 0.4020064\ttotal: 8.17s\tremaining: 5.03s\n",
      "619:\tlearn: 0.4019685\ttotal: 8.18s\tremaining: 5.01s\n",
      "620:\tlearn: 0.4019307\ttotal: 8.19s\tremaining: 5s\n",
      "621:\tlearn: 0.4018807\ttotal: 8.21s\tremaining: 4.99s\n",
      "622:\tlearn: 0.4018391\ttotal: 8.22s\tremaining: 4.97s\n",
      "623:\tlearn: 0.4017689\ttotal: 8.23s\tremaining: 4.96s\n",
      "624:\tlearn: 0.4017537\ttotal: 8.24s\tremaining: 4.94s\n",
      "625:\tlearn: 0.4016762\ttotal: 8.25s\tremaining: 4.93s\n",
      "626:\tlearn: 0.4016325\ttotal: 8.26s\tremaining: 4.92s\n",
      "627:\tlearn: 0.4015566\ttotal: 8.28s\tremaining: 4.9s\n",
      "628:\tlearn: 0.4014948\ttotal: 8.29s\tremaining: 4.89s\n",
      "629:\tlearn: 0.4014474\ttotal: 8.3s\tremaining: 4.87s\n",
      "630:\tlearn: 0.4013887\ttotal: 8.31s\tremaining: 4.86s\n",
      "631:\tlearn: 0.4013252\ttotal: 8.32s\tremaining: 4.85s\n",
      "632:\tlearn: 0.4013136\ttotal: 8.34s\tremaining: 4.83s\n",
      "633:\tlearn: 0.4013076\ttotal: 8.35s\tremaining: 4.82s\n",
      "634:\tlearn: 0.4012298\ttotal: 8.36s\tremaining: 4.8s\n",
      "635:\tlearn: 0.4012111\ttotal: 8.37s\tremaining: 4.79s\n",
      "636:\tlearn: 0.4011194\ttotal: 8.38s\tremaining: 4.78s\n",
      "637:\tlearn: 0.4010435\ttotal: 8.39s\tremaining: 4.76s\n",
      "638:\tlearn: 0.4009995\ttotal: 8.41s\tremaining: 4.75s\n",
      "639:\tlearn: 0.4008580\ttotal: 8.42s\tremaining: 4.74s\n",
      "640:\tlearn: 0.4007697\ttotal: 8.44s\tremaining: 4.72s\n",
      "641:\tlearn: 0.4007529\ttotal: 8.45s\tremaining: 4.71s\n",
      "642:\tlearn: 0.4007008\ttotal: 8.46s\tremaining: 4.7s\n",
      "643:\tlearn: 0.4006599\ttotal: 8.47s\tremaining: 4.68s\n",
      "644:\tlearn: 0.4005823\ttotal: 8.48s\tremaining: 4.67s\n",
      "645:\tlearn: 0.4005492\ttotal: 8.5s\tremaining: 4.66s\n",
      "646:\tlearn: 0.4004887\ttotal: 8.51s\tremaining: 4.64s\n",
      "647:\tlearn: 0.4003942\ttotal: 8.52s\tremaining: 4.63s\n",
      "648:\tlearn: 0.4003182\ttotal: 8.53s\tremaining: 4.62s\n",
      "649:\tlearn: 0.4002017\ttotal: 8.55s\tremaining: 4.6s\n",
      "650:\tlearn: 0.4001751\ttotal: 8.56s\tremaining: 4.59s\n",
      "651:\tlearn: 0.4001064\ttotal: 8.57s\tremaining: 4.57s\n",
      "652:\tlearn: 0.4000487\ttotal: 8.58s\tremaining: 4.56s\n",
      "653:\tlearn: 0.4000053\ttotal: 8.6s\tremaining: 4.55s\n",
      "654:\tlearn: 0.3999524\ttotal: 8.61s\tremaining: 4.53s\n",
      "655:\tlearn: 0.3999232\ttotal: 8.62s\tremaining: 4.52s\n",
      "656:\tlearn: 0.3998137\ttotal: 8.64s\tremaining: 4.51s\n",
      "657:\tlearn: 0.3997989\ttotal: 8.65s\tremaining: 4.5s\n",
      "658:\tlearn: 0.3997488\ttotal: 8.66s\tremaining: 4.48s\n",
      "659:\tlearn: 0.3997287\ttotal: 8.68s\tremaining: 4.47s\n",
      "660:\tlearn: 0.3996837\ttotal: 8.69s\tremaining: 4.46s\n",
      "661:\tlearn: 0.3995998\ttotal: 8.7s\tremaining: 4.44s\n",
      "662:\tlearn: 0.3995390\ttotal: 8.72s\tremaining: 4.43s\n",
      "663:\tlearn: 0.3995192\ttotal: 8.73s\tremaining: 4.42s\n",
      "664:\tlearn: 0.3994915\ttotal: 8.74s\tremaining: 4.4s\n",
      "665:\tlearn: 0.3994740\ttotal: 8.76s\tremaining: 4.39s\n",
      "666:\tlearn: 0.3994419\ttotal: 8.77s\tremaining: 4.38s\n",
      "667:\tlearn: 0.3994184\ttotal: 8.78s\tremaining: 4.36s\n",
      "668:\tlearn: 0.3993808\ttotal: 8.79s\tremaining: 4.35s\n",
      "669:\tlearn: 0.3993688\ttotal: 8.8s\tremaining: 4.33s\n",
      "670:\tlearn: 0.3993284\ttotal: 8.81s\tremaining: 4.32s\n",
      "671:\tlearn: 0.3992499\ttotal: 8.83s\tremaining: 4.31s\n",
      "672:\tlearn: 0.3992229\ttotal: 8.84s\tremaining: 4.29s\n",
      "673:\tlearn: 0.3991939\ttotal: 8.85s\tremaining: 4.28s\n",
      "674:\tlearn: 0.3991534\ttotal: 8.87s\tremaining: 4.27s\n",
      "675:\tlearn: 0.3991119\ttotal: 8.88s\tremaining: 4.25s\n",
      "676:\tlearn: 0.3990857\ttotal: 8.89s\tremaining: 4.24s\n",
      "677:\tlearn: 0.3990445\ttotal: 8.9s\tremaining: 4.23s\n",
      "678:\tlearn: 0.3989700\ttotal: 8.91s\tremaining: 4.21s\n",
      "679:\tlearn: 0.3989258\ttotal: 8.93s\tremaining: 4.2s\n",
      "680:\tlearn: 0.3988902\ttotal: 8.94s\tremaining: 4.18s\n",
      "681:\tlearn: 0.3988802\ttotal: 8.95s\tremaining: 4.17s\n",
      "682:\tlearn: 0.3988429\ttotal: 8.96s\tremaining: 4.16s\n",
      "683:\tlearn: 0.3988324\ttotal: 8.97s\tremaining: 4.14s\n",
      "684:\tlearn: 0.3988176\ttotal: 8.98s\tremaining: 4.13s\n",
      "685:\tlearn: 0.3988130\ttotal: 8.99s\tremaining: 4.12s\n",
      "686:\tlearn: 0.3987617\ttotal: 9s\tremaining: 4.1s\n",
      "687:\tlearn: 0.3987384\ttotal: 9.01s\tremaining: 4.09s\n",
      "688:\tlearn: 0.3986989\ttotal: 9.03s\tremaining: 4.07s\n",
      "689:\tlearn: 0.3986256\ttotal: 9.04s\tremaining: 4.06s\n",
      "690:\tlearn: 0.3985655\ttotal: 9.05s\tremaining: 4.05s\n",
      "691:\tlearn: 0.3984626\ttotal: 9.07s\tremaining: 4.04s\n",
      "692:\tlearn: 0.3984280\ttotal: 9.08s\tremaining: 4.02s\n",
      "693:\tlearn: 0.3984145\ttotal: 9.09s\tremaining: 4.01s\n",
      "694:\tlearn: 0.3983447\ttotal: 9.1s\tremaining: 3.99s\n",
      "695:\tlearn: 0.3983155\ttotal: 9.11s\tremaining: 3.98s\n",
      "696:\tlearn: 0.3982993\ttotal: 9.13s\tremaining: 3.97s\n",
      "697:\tlearn: 0.3982349\ttotal: 9.14s\tremaining: 3.95s\n",
      "698:\tlearn: 0.3981532\ttotal: 9.15s\tremaining: 3.94s\n",
      "699:\tlearn: 0.3981374\ttotal: 9.16s\tremaining: 3.93s\n",
      "700:\tlearn: 0.3981216\ttotal: 9.18s\tremaining: 3.91s\n",
      "701:\tlearn: 0.3980579\ttotal: 9.19s\tremaining: 3.9s\n",
      "702:\tlearn: 0.3979968\ttotal: 9.2s\tremaining: 3.89s\n",
      "703:\tlearn: 0.3979737\ttotal: 9.21s\tremaining: 3.87s\n",
      "704:\tlearn: 0.3979187\ttotal: 9.22s\tremaining: 3.86s\n",
      "705:\tlearn: 0.3978027\ttotal: 9.24s\tremaining: 3.85s\n",
      "706:\tlearn: 0.3977017\ttotal: 9.25s\tremaining: 3.83s\n",
      "707:\tlearn: 0.3976817\ttotal: 9.26s\tremaining: 3.82s\n",
      "708:\tlearn: 0.3976315\ttotal: 9.28s\tremaining: 3.81s\n",
      "709:\tlearn: 0.3976021\ttotal: 9.29s\tremaining: 3.79s\n",
      "710:\tlearn: 0.3975288\ttotal: 9.3s\tremaining: 3.78s\n",
      "711:\tlearn: 0.3975001\ttotal: 9.31s\tremaining: 3.77s\n",
      "712:\tlearn: 0.3974394\ttotal: 9.32s\tremaining: 3.75s\n",
      "713:\tlearn: 0.3973736\ttotal: 9.34s\tremaining: 3.74s\n",
      "714:\tlearn: 0.3973448\ttotal: 9.35s\tremaining: 3.73s\n",
      "715:\tlearn: 0.3972422\ttotal: 9.36s\tremaining: 3.71s\n",
      "716:\tlearn: 0.3971799\ttotal: 9.38s\tremaining: 3.7s\n",
      "717:\tlearn: 0.3971561\ttotal: 9.39s\tremaining: 3.69s\n",
      "718:\tlearn: 0.3971178\ttotal: 9.4s\tremaining: 3.67s\n",
      "719:\tlearn: 0.3970764\ttotal: 9.41s\tremaining: 3.66s\n",
      "720:\tlearn: 0.3970363\ttotal: 9.43s\tremaining: 3.65s\n",
      "721:\tlearn: 0.3969718\ttotal: 9.44s\tremaining: 3.63s\n",
      "722:\tlearn: 0.3969450\ttotal: 9.45s\tremaining: 3.62s\n",
      "723:\tlearn: 0.3969160\ttotal: 9.46s\tremaining: 3.61s\n",
      "724:\tlearn: 0.3968743\ttotal: 9.48s\tremaining: 3.59s\n",
      "725:\tlearn: 0.3968686\ttotal: 9.49s\tremaining: 3.58s\n",
      "726:\tlearn: 0.3968473\ttotal: 9.5s\tremaining: 3.57s\n",
      "727:\tlearn: 0.3968034\ttotal: 9.51s\tremaining: 3.55s\n",
      "728:\tlearn: 0.3967497\ttotal: 9.52s\tremaining: 3.54s\n",
      "729:\tlearn: 0.3966584\ttotal: 9.53s\tremaining: 3.53s\n",
      "730:\tlearn: 0.3966211\ttotal: 9.55s\tremaining: 3.51s\n",
      "731:\tlearn: 0.3965051\ttotal: 9.56s\tremaining: 3.5s\n",
      "732:\tlearn: 0.3964433\ttotal: 9.58s\tremaining: 3.49s\n",
      "733:\tlearn: 0.3964008\ttotal: 9.59s\tremaining: 3.48s\n",
      "734:\tlearn: 0.3963776\ttotal: 9.6s\tremaining: 3.46s\n",
      "735:\tlearn: 0.3963079\ttotal: 9.62s\tremaining: 3.45s\n",
      "736:\tlearn: 0.3962579\ttotal: 9.63s\tremaining: 3.44s\n",
      "737:\tlearn: 0.3962415\ttotal: 9.64s\tremaining: 3.42s\n",
      "738:\tlearn: 0.3960921\ttotal: 9.66s\tremaining: 3.41s\n",
      "739:\tlearn: 0.3960549\ttotal: 9.67s\tremaining: 3.4s\n",
      "740:\tlearn: 0.3960491\ttotal: 9.69s\tremaining: 3.38s\n",
      "741:\tlearn: 0.3960397\ttotal: 9.7s\tremaining: 3.37s\n",
      "742:\tlearn: 0.3959821\ttotal: 9.71s\tremaining: 3.36s\n",
      "743:\tlearn: 0.3959540\ttotal: 9.73s\tremaining: 3.35s\n",
      "744:\tlearn: 0.3959360\ttotal: 9.74s\tremaining: 3.33s\n",
      "745:\tlearn: 0.3959082\ttotal: 9.75s\tremaining: 3.32s\n",
      "746:\tlearn: 0.3958655\ttotal: 9.77s\tremaining: 3.31s\n",
      "747:\tlearn: 0.3958589\ttotal: 9.78s\tremaining: 3.29s\n",
      "748:\tlearn: 0.3958069\ttotal: 9.79s\tremaining: 3.28s\n",
      "749:\tlearn: 0.3957629\ttotal: 9.8s\tremaining: 3.27s\n",
      "750:\tlearn: 0.3957197\ttotal: 9.81s\tremaining: 3.25s\n",
      "751:\tlearn: 0.3957059\ttotal: 9.83s\tremaining: 3.24s\n",
      "752:\tlearn: 0.3955873\ttotal: 9.84s\tremaining: 3.23s\n",
      "753:\tlearn: 0.3955626\ttotal: 9.85s\tremaining: 3.21s\n",
      "754:\tlearn: 0.3955034\ttotal: 9.87s\tremaining: 3.2s\n",
      "755:\tlearn: 0.3954310\ttotal: 9.88s\tremaining: 3.19s\n",
      "756:\tlearn: 0.3954051\ttotal: 9.89s\tremaining: 3.18s\n",
      "757:\tlearn: 0.3953669\ttotal: 9.91s\tremaining: 3.16s\n",
      "758:\tlearn: 0.3953495\ttotal: 9.92s\tremaining: 3.15s\n",
      "759:\tlearn: 0.3952630\ttotal: 9.93s\tremaining: 3.14s\n",
      "760:\tlearn: 0.3952363\ttotal: 9.94s\tremaining: 3.12s\n",
      "761:\tlearn: 0.3950921\ttotal: 9.96s\tremaining: 3.11s\n",
      "762:\tlearn: 0.3950468\ttotal: 9.97s\tremaining: 3.1s\n",
      "763:\tlearn: 0.3949702\ttotal: 9.98s\tremaining: 3.08s\n",
      "764:\tlearn: 0.3949572\ttotal: 9.99s\tremaining: 3.07s\n",
      "765:\tlearn: 0.3949390\ttotal: 10s\tremaining: 3.06s\n",
      "766:\tlearn: 0.3949097\ttotal: 10s\tremaining: 3.04s\n",
      "767:\tlearn: 0.3948159\ttotal: 10s\tremaining: 3.03s\n",
      "768:\tlearn: 0.3947959\ttotal: 10s\tremaining: 3.02s\n",
      "769:\tlearn: 0.3947457\ttotal: 10.1s\tremaining: 3s\n",
      "770:\tlearn: 0.3947211\ttotal: 10.1s\tremaining: 2.99s\n",
      "771:\tlearn: 0.3946732\ttotal: 10.1s\tremaining: 2.98s\n",
      "772:\tlearn: 0.3945600\ttotal: 10.1s\tremaining: 2.96s\n",
      "773:\tlearn: 0.3945066\ttotal: 10.1s\tremaining: 2.95s\n",
      "774:\tlearn: 0.3944699\ttotal: 10.1s\tremaining: 2.94s\n",
      "775:\tlearn: 0.3944609\ttotal: 10.1s\tremaining: 2.92s\n",
      "776:\tlearn: 0.3944590\ttotal: 10.1s\tremaining: 2.91s\n",
      "777:\tlearn: 0.3944175\ttotal: 10.1s\tremaining: 2.9s\n",
      "778:\tlearn: 0.3943289\ttotal: 10.2s\tremaining: 2.88s\n",
      "779:\tlearn: 0.3943083\ttotal: 10.2s\tremaining: 2.87s\n",
      "780:\tlearn: 0.3942785\ttotal: 10.2s\tremaining: 2.86s\n",
      "781:\tlearn: 0.3942430\ttotal: 10.2s\tremaining: 2.84s\n",
      "782:\tlearn: 0.3941506\ttotal: 10.2s\tremaining: 2.83s\n",
      "783:\tlearn: 0.3940733\ttotal: 10.2s\tremaining: 2.82s\n",
      "784:\tlearn: 0.3940407\ttotal: 10.2s\tremaining: 2.8s\n",
      "785:\tlearn: 0.3940126\ttotal: 10.2s\tremaining: 2.79s\n",
      "786:\tlearn: 0.3939831\ttotal: 10.3s\tremaining: 2.78s\n",
      "787:\tlearn: 0.3939415\ttotal: 10.3s\tremaining: 2.76s\n",
      "788:\tlearn: 0.3939323\ttotal: 10.3s\tremaining: 2.75s\n",
      "789:\tlearn: 0.3938752\ttotal: 10.3s\tremaining: 2.74s\n",
      "790:\tlearn: 0.3938284\ttotal: 10.3s\tremaining: 2.72s\n",
      "791:\tlearn: 0.3937930\ttotal: 10.3s\tremaining: 2.71s\n",
      "792:\tlearn: 0.3937552\ttotal: 10.3s\tremaining: 2.7s\n",
      "793:\tlearn: 0.3937266\ttotal: 10.3s\tremaining: 2.68s\n",
      "794:\tlearn: 0.3936347\ttotal: 10.4s\tremaining: 2.67s\n",
      "795:\tlearn: 0.3936089\ttotal: 10.4s\tremaining: 2.66s\n",
      "796:\tlearn: 0.3935748\ttotal: 10.4s\tremaining: 2.64s\n",
      "797:\tlearn: 0.3935494\ttotal: 10.4s\tremaining: 2.63s\n",
      "798:\tlearn: 0.3935342\ttotal: 10.4s\tremaining: 2.62s\n",
      "799:\tlearn: 0.3935053\ttotal: 10.4s\tremaining: 2.6s\n",
      "800:\tlearn: 0.3934912\ttotal: 10.4s\tremaining: 2.59s\n",
      "801:\tlearn: 0.3934281\ttotal: 10.4s\tremaining: 2.58s\n",
      "802:\tlearn: 0.3933786\ttotal: 10.5s\tremaining: 2.56s\n",
      "803:\tlearn: 0.3933504\ttotal: 10.5s\tremaining: 2.55s\n",
      "804:\tlearn: 0.3932762\ttotal: 10.5s\tremaining: 2.54s\n",
      "805:\tlearn: 0.3932521\ttotal: 10.5s\tremaining: 2.52s\n",
      "806:\tlearn: 0.3931905\ttotal: 10.5s\tremaining: 2.51s\n",
      "807:\tlearn: 0.3931533\ttotal: 10.5s\tremaining: 2.5s\n",
      "808:\tlearn: 0.3931385\ttotal: 10.5s\tremaining: 2.48s\n",
      "809:\tlearn: 0.3930832\ttotal: 10.5s\tremaining: 2.47s\n",
      "810:\tlearn: 0.3930104\ttotal: 10.5s\tremaining: 2.46s\n",
      "811:\tlearn: 0.3929977\ttotal: 10.6s\tremaining: 2.44s\n",
      "812:\tlearn: 0.3929829\ttotal: 10.6s\tremaining: 2.43s\n",
      "813:\tlearn: 0.3929703\ttotal: 10.6s\tremaining: 2.42s\n",
      "814:\tlearn: 0.3929573\ttotal: 10.6s\tremaining: 2.4s\n",
      "815:\tlearn: 0.3929249\ttotal: 10.6s\tremaining: 2.39s\n",
      "816:\tlearn: 0.3928515\ttotal: 10.6s\tremaining: 2.38s\n",
      "817:\tlearn: 0.3928034\ttotal: 10.6s\tremaining: 2.37s\n",
      "818:\tlearn: 0.3927777\ttotal: 10.6s\tremaining: 2.35s\n",
      "819:\tlearn: 0.3927560\ttotal: 10.7s\tremaining: 2.34s\n",
      "820:\tlearn: 0.3927370\ttotal: 10.7s\tremaining: 2.33s\n",
      "821:\tlearn: 0.3926825\ttotal: 10.7s\tremaining: 2.31s\n",
      "822:\tlearn: 0.3926614\ttotal: 10.7s\tremaining: 2.3s\n",
      "823:\tlearn: 0.3926218\ttotal: 10.7s\tremaining: 2.29s\n",
      "824:\tlearn: 0.3925908\ttotal: 10.7s\tremaining: 2.27s\n",
      "825:\tlearn: 0.3925691\ttotal: 10.7s\tremaining: 2.26s\n",
      "826:\tlearn: 0.3925464\ttotal: 10.7s\tremaining: 2.25s\n",
      "827:\tlearn: 0.3925274\ttotal: 10.8s\tremaining: 2.23s\n",
      "828:\tlearn: 0.3923764\ttotal: 10.8s\tremaining: 2.22s\n",
      "829:\tlearn: 0.3923221\ttotal: 10.8s\tremaining: 2.21s\n",
      "830:\tlearn: 0.3922794\ttotal: 10.8s\tremaining: 2.19s\n",
      "831:\tlearn: 0.3922567\ttotal: 10.8s\tremaining: 2.18s\n",
      "832:\tlearn: 0.3922371\ttotal: 10.8s\tremaining: 2.17s\n",
      "833:\tlearn: 0.3922101\ttotal: 10.8s\tremaining: 2.16s\n",
      "834:\tlearn: 0.3921658\ttotal: 10.8s\tremaining: 2.14s\n",
      "835:\tlearn: 0.3921323\ttotal: 10.9s\tremaining: 2.13s\n",
      "836:\tlearn: 0.3920640\ttotal: 10.9s\tremaining: 2.12s\n",
      "837:\tlearn: 0.3920111\ttotal: 10.9s\tremaining: 2.1s\n",
      "838:\tlearn: 0.3920015\ttotal: 10.9s\tremaining: 2.09s\n",
      "839:\tlearn: 0.3919691\ttotal: 10.9s\tremaining: 2.08s\n",
      "840:\tlearn: 0.3919269\ttotal: 10.9s\tremaining: 2.06s\n",
      "841:\tlearn: 0.3918915\ttotal: 10.9s\tremaining: 2.05s\n",
      "842:\tlearn: 0.3918524\ttotal: 10.9s\tremaining: 2.04s\n",
      "843:\tlearn: 0.3918282\ttotal: 11s\tremaining: 2.02s\n",
      "844:\tlearn: 0.3917465\ttotal: 11s\tremaining: 2.01s\n",
      "845:\tlearn: 0.3916794\ttotal: 11s\tremaining: 2s\n",
      "846:\tlearn: 0.3916333\ttotal: 11s\tremaining: 1.98s\n",
      "847:\tlearn: 0.3915903\ttotal: 11s\tremaining: 1.97s\n",
      "848:\tlearn: 0.3915124\ttotal: 11s\tremaining: 1.96s\n",
      "849:\tlearn: 0.3914272\ttotal: 11s\tremaining: 1.95s\n",
      "850:\tlearn: 0.3913762\ttotal: 11s\tremaining: 1.93s\n",
      "851:\tlearn: 0.3913342\ttotal: 11.1s\tremaining: 1.92s\n",
      "852:\tlearn: 0.3913216\ttotal: 11.1s\tremaining: 1.91s\n",
      "853:\tlearn: 0.3912973\ttotal: 11.1s\tremaining: 1.89s\n",
      "854:\tlearn: 0.3912589\ttotal: 11.1s\tremaining: 1.88s\n",
      "855:\tlearn: 0.3911714\ttotal: 11.1s\tremaining: 1.87s\n",
      "856:\tlearn: 0.3911523\ttotal: 11.1s\tremaining: 1.85s\n",
      "857:\tlearn: 0.3911275\ttotal: 11.1s\tremaining: 1.84s\n",
      "858:\tlearn: 0.3910717\ttotal: 11.1s\tremaining: 1.83s\n",
      "859:\tlearn: 0.3910264\ttotal: 11.1s\tremaining: 1.81s\n",
      "860:\tlearn: 0.3909676\ttotal: 11.2s\tremaining: 1.8s\n",
      "861:\tlearn: 0.3908605\ttotal: 11.2s\tremaining: 1.79s\n",
      "862:\tlearn: 0.3908050\ttotal: 11.2s\tremaining: 1.77s\n",
      "863:\tlearn: 0.3907661\ttotal: 11.2s\tremaining: 1.76s\n",
      "864:\tlearn: 0.3907236\ttotal: 11.2s\tremaining: 1.75s\n",
      "865:\tlearn: 0.3906738\ttotal: 11.2s\tremaining: 1.74s\n",
      "866:\tlearn: 0.3906517\ttotal: 11.2s\tremaining: 1.72s\n",
      "867:\tlearn: 0.3906248\ttotal: 11.2s\tremaining: 1.71s\n",
      "868:\tlearn: 0.3906058\ttotal: 11.3s\tremaining: 1.7s\n",
      "869:\tlearn: 0.3905421\ttotal: 11.3s\tremaining: 1.68s\n",
      "870:\tlearn: 0.3905280\ttotal: 11.3s\tremaining: 1.67s\n",
      "871:\tlearn: 0.3904659\ttotal: 11.3s\tremaining: 1.66s\n",
      "872:\tlearn: 0.3904149\ttotal: 11.3s\tremaining: 1.64s\n",
      "873:\tlearn: 0.3903871\ttotal: 11.3s\tremaining: 1.63s\n",
      "874:\tlearn: 0.3903694\ttotal: 11.3s\tremaining: 1.62s\n",
      "875:\tlearn: 0.3903438\ttotal: 11.3s\tremaining: 1.6s\n",
      "876:\tlearn: 0.3902798\ttotal: 11.4s\tremaining: 1.59s\n",
      "877:\tlearn: 0.3902709\ttotal: 11.4s\tremaining: 1.58s\n",
      "878:\tlearn: 0.3902229\ttotal: 11.4s\tremaining: 1.56s\n",
      "879:\tlearn: 0.3901992\ttotal: 11.4s\tremaining: 1.55s\n",
      "880:\tlearn: 0.3901285\ttotal: 11.4s\tremaining: 1.54s\n",
      "881:\tlearn: 0.3900950\ttotal: 11.4s\tremaining: 1.53s\n",
      "882:\tlearn: 0.3900253\ttotal: 11.4s\tremaining: 1.51s\n",
      "883:\tlearn: 0.3899485\ttotal: 11.4s\tremaining: 1.5s\n",
      "884:\tlearn: 0.3899270\ttotal: 11.4s\tremaining: 1.49s\n",
      "885:\tlearn: 0.3899053\ttotal: 11.5s\tremaining: 1.47s\n",
      "886:\tlearn: 0.3898644\ttotal: 11.5s\tremaining: 1.46s\n",
      "887:\tlearn: 0.3898109\ttotal: 11.5s\tremaining: 1.45s\n",
      "888:\tlearn: 0.3897527\ttotal: 11.5s\tremaining: 1.44s\n",
      "889:\tlearn: 0.3897167\ttotal: 11.5s\tremaining: 1.42s\n",
      "890:\tlearn: 0.3896011\ttotal: 11.5s\tremaining: 1.41s\n",
      "891:\tlearn: 0.3895824\ttotal: 11.5s\tremaining: 1.4s\n",
      "892:\tlearn: 0.3895093\ttotal: 11.5s\tremaining: 1.38s\n",
      "893:\tlearn: 0.3894857\ttotal: 11.5s\tremaining: 1.37s\n",
      "894:\tlearn: 0.3894222\ttotal: 11.6s\tremaining: 1.36s\n",
      "895:\tlearn: 0.3893723\ttotal: 11.6s\tremaining: 1.34s\n",
      "896:\tlearn: 0.3893161\ttotal: 11.6s\tremaining: 1.33s\n",
      "897:\tlearn: 0.3893006\ttotal: 11.6s\tremaining: 1.32s\n",
      "898:\tlearn: 0.3892781\ttotal: 11.6s\tremaining: 1.3s\n",
      "899:\tlearn: 0.3891981\ttotal: 11.6s\tremaining: 1.29s\n",
      "900:\tlearn: 0.3891393\ttotal: 11.6s\tremaining: 1.28s\n",
      "901:\tlearn: 0.3891106\ttotal: 11.6s\tremaining: 1.26s\n",
      "902:\tlearn: 0.3890819\ttotal: 11.7s\tremaining: 1.25s\n",
      "903:\tlearn: 0.3890212\ttotal: 11.7s\tremaining: 1.24s\n",
      "904:\tlearn: 0.3889897\ttotal: 11.7s\tremaining: 1.23s\n",
      "905:\tlearn: 0.3889321\ttotal: 11.7s\tremaining: 1.21s\n",
      "906:\tlearn: 0.3889025\ttotal: 11.7s\tremaining: 1.2s\n",
      "907:\tlearn: 0.3888650\ttotal: 11.7s\tremaining: 1.19s\n",
      "908:\tlearn: 0.3888511\ttotal: 11.7s\tremaining: 1.17s\n",
      "909:\tlearn: 0.3888135\ttotal: 11.7s\tremaining: 1.16s\n",
      "910:\tlearn: 0.3887999\ttotal: 11.8s\tremaining: 1.15s\n",
      "911:\tlearn: 0.3887601\ttotal: 11.8s\tremaining: 1.14s\n",
      "912:\tlearn: 0.3886998\ttotal: 11.8s\tremaining: 1.12s\n",
      "913:\tlearn: 0.3886152\ttotal: 11.8s\tremaining: 1.11s\n",
      "914:\tlearn: 0.3885105\ttotal: 11.8s\tremaining: 1.1s\n",
      "915:\tlearn: 0.3884367\ttotal: 11.8s\tremaining: 1.08s\n",
      "916:\tlearn: 0.3883824\ttotal: 11.8s\tremaining: 1.07s\n",
      "917:\tlearn: 0.3883205\ttotal: 11.9s\tremaining: 1.06s\n",
      "918:\tlearn: 0.3883036\ttotal: 11.9s\tremaining: 1.05s\n",
      "919:\tlearn: 0.3882483\ttotal: 11.9s\tremaining: 1.03s\n",
      "920:\tlearn: 0.3881704\ttotal: 11.9s\tremaining: 1.02s\n",
      "921:\tlearn: 0.3881261\ttotal: 11.9s\tremaining: 1.01s\n",
      "922:\tlearn: 0.3880506\ttotal: 11.9s\tremaining: 995ms\n",
      "923:\tlearn: 0.3880410\ttotal: 11.9s\tremaining: 982ms\n",
      "924:\tlearn: 0.3880209\ttotal: 11.9s\tremaining: 969ms\n",
      "925:\tlearn: 0.3880077\ttotal: 12s\tremaining: 956ms\n",
      "926:\tlearn: 0.3879729\ttotal: 12s\tremaining: 943ms\n",
      "927:\tlearn: 0.3878995\ttotal: 12s\tremaining: 930ms\n",
      "928:\tlearn: 0.3878804\ttotal: 12s\tremaining: 917ms\n",
      "929:\tlearn: 0.3878544\ttotal: 12s\tremaining: 904ms\n",
      "930:\tlearn: 0.3878145\ttotal: 12s\tremaining: 891ms\n",
      "931:\tlearn: 0.3877920\ttotal: 12s\tremaining: 878ms\n",
      "932:\tlearn: 0.3877498\ttotal: 12s\tremaining: 865ms\n",
      "933:\tlearn: 0.3876919\ttotal: 12.1s\tremaining: 852ms\n",
      "934:\tlearn: 0.3876631\ttotal: 12.1s\tremaining: 839ms\n",
      "935:\tlearn: 0.3876388\ttotal: 12.1s\tremaining: 826ms\n",
      "936:\tlearn: 0.3876205\ttotal: 12.1s\tremaining: 813ms\n",
      "937:\tlearn: 0.3876012\ttotal: 12.1s\tremaining: 800ms\n",
      "938:\tlearn: 0.3875781\ttotal: 12.1s\tremaining: 787ms\n",
      "939:\tlearn: 0.3874869\ttotal: 12.1s\tremaining: 774ms\n",
      "940:\tlearn: 0.3874616\ttotal: 12.1s\tremaining: 761ms\n",
      "941:\tlearn: 0.3874327\ttotal: 12.2s\tremaining: 748ms\n",
      "942:\tlearn: 0.3874043\ttotal: 12.2s\tremaining: 735ms\n",
      "943:\tlearn: 0.3873478\ttotal: 12.2s\tremaining: 723ms\n",
      "944:\tlearn: 0.3873140\ttotal: 12.2s\tremaining: 710ms\n",
      "945:\tlearn: 0.3872950\ttotal: 12.2s\tremaining: 697ms\n",
      "946:\tlearn: 0.3872406\ttotal: 12.2s\tremaining: 684ms\n",
      "947:\tlearn: 0.3871712\ttotal: 12.2s\tremaining: 671ms\n",
      "948:\tlearn: 0.3871380\ttotal: 12.2s\tremaining: 658ms\n",
      "949:\tlearn: 0.3870959\ttotal: 12.3s\tremaining: 645ms\n",
      "950:\tlearn: 0.3870667\ttotal: 12.3s\tremaining: 632ms\n",
      "951:\tlearn: 0.3870447\ttotal: 12.3s\tremaining: 619ms\n",
      "952:\tlearn: 0.3870171\ttotal: 12.3s\tremaining: 606ms\n",
      "953:\tlearn: 0.3869843\ttotal: 12.3s\tremaining: 593ms\n",
      "954:\tlearn: 0.3868983\ttotal: 12.3s\tremaining: 580ms\n",
      "955:\tlearn: 0.3868810\ttotal: 12.3s\tremaining: 567ms\n",
      "956:\tlearn: 0.3868512\ttotal: 12.3s\tremaining: 554ms\n",
      "957:\tlearn: 0.3868138\ttotal: 12.4s\tremaining: 542ms\n",
      "958:\tlearn: 0.3867848\ttotal: 12.4s\tremaining: 529ms\n",
      "959:\tlearn: 0.3867366\ttotal: 12.4s\tremaining: 516ms\n",
      "960:\tlearn: 0.3867184\ttotal: 12.4s\tremaining: 503ms\n",
      "961:\tlearn: 0.3866567\ttotal: 12.4s\tremaining: 490ms\n",
      "962:\tlearn: 0.3866122\ttotal: 12.4s\tremaining: 477ms\n",
      "963:\tlearn: 0.3865172\ttotal: 12.4s\tremaining: 464ms\n",
      "964:\tlearn: 0.3864909\ttotal: 12.4s\tremaining: 451ms\n",
      "965:\tlearn: 0.3864217\ttotal: 12.5s\tremaining: 438ms\n",
      "966:\tlearn: 0.3863743\ttotal: 12.5s\tremaining: 425ms\n",
      "967:\tlearn: 0.3863557\ttotal: 12.5s\tremaining: 412ms\n",
      "968:\tlearn: 0.3863507\ttotal: 12.5s\tremaining: 399ms\n",
      "969:\tlearn: 0.3862569\ttotal: 12.5s\tremaining: 387ms\n",
      "970:\tlearn: 0.3862324\ttotal: 12.5s\tremaining: 374ms\n",
      "971:\tlearn: 0.3861843\ttotal: 12.5s\tremaining: 361ms\n",
      "972:\tlearn: 0.3861324\ttotal: 12.5s\tremaining: 348ms\n",
      "973:\tlearn: 0.3861082\ttotal: 12.6s\tremaining: 335ms\n",
      "974:\tlearn: 0.3860815\ttotal: 12.6s\tremaining: 322ms\n",
      "975:\tlearn: 0.3860490\ttotal: 12.6s\tremaining: 309ms\n",
      "976:\tlearn: 0.3860410\ttotal: 12.6s\tremaining: 296ms\n",
      "977:\tlearn: 0.3859844\ttotal: 12.6s\tremaining: 284ms\n",
      "978:\tlearn: 0.3859673\ttotal: 12.6s\tremaining: 271ms\n",
      "979:\tlearn: 0.3859622\ttotal: 12.6s\tremaining: 258ms\n",
      "980:\tlearn: 0.3859310\ttotal: 12.7s\tremaining: 245ms\n",
      "981:\tlearn: 0.3858684\ttotal: 12.7s\tremaining: 232ms\n",
      "982:\tlearn: 0.3857953\ttotal: 12.7s\tremaining: 219ms\n",
      "983:\tlearn: 0.3857495\ttotal: 12.7s\tremaining: 206ms\n",
      "984:\tlearn: 0.3857401\ttotal: 12.7s\tremaining: 193ms\n",
      "985:\tlearn: 0.3857280\ttotal: 12.7s\tremaining: 181ms\n",
      "986:\tlearn: 0.3856694\ttotal: 12.7s\tremaining: 168ms\n",
      "987:\tlearn: 0.3855536\ttotal: 12.7s\tremaining: 155ms\n",
      "988:\tlearn: 0.3855321\ttotal: 12.8s\tremaining: 142ms\n",
      "989:\tlearn: 0.3854611\ttotal: 12.8s\tremaining: 129ms\n",
      "990:\tlearn: 0.3853995\ttotal: 12.8s\tremaining: 116ms\n",
      "991:\tlearn: 0.3853734\ttotal: 12.8s\tremaining: 103ms\n",
      "992:\tlearn: 0.3853152\ttotal: 12.8s\tremaining: 90.3ms\n",
      "993:\tlearn: 0.3852658\ttotal: 12.8s\tremaining: 77.4ms\n",
      "994:\tlearn: 0.3851501\ttotal: 12.8s\tremaining: 64.5ms\n",
      "995:\tlearn: 0.3851016\ttotal: 12.8s\tremaining: 51.6ms\n",
      "996:\tlearn: 0.3850930\ttotal: 12.9s\tremaining: 38.7ms\n",
      "997:\tlearn: 0.3849990\ttotal: 12.9s\tremaining: 25.8ms\n",
      "998:\tlearn: 0.3849275\ttotal: 12.9s\tremaining: 12.9ms\n",
      "999:\tlearn: 0.3849016\ttotal: 12.9s\tremaining: 0us\n",
      "Fold 5\n",
      "Learning rate set to 0.097881\n",
      "0:\tlearn: 0.9940465\ttotal: 14.2ms\tremaining: 14.2s\n",
      "1:\tlearn: 0.9155137\ttotal: 27.4ms\tremaining: 13.7s\n",
      "2:\tlearn: 0.8533506\ttotal: 40.9ms\tremaining: 13.6s\n",
      "3:\tlearn: 0.8029411\ttotal: 53.1ms\tremaining: 13.2s\n",
      "4:\tlearn: 0.7611594\ttotal: 66.1ms\tremaining: 13.2s\n",
      "5:\tlearn: 0.7250367\ttotal: 79.9ms\tremaining: 13.2s\n",
      "6:\tlearn: 0.6957675\ttotal: 92.9ms\tremaining: 13.2s\n",
      "7:\tlearn: 0.6690560\ttotal: 108ms\tremaining: 13.4s\n",
      "8:\tlearn: 0.6460484\ttotal: 122ms\tremaining: 13.4s\n",
      "9:\tlearn: 0.6270529\ttotal: 136ms\tremaining: 13.5s\n",
      "10:\tlearn: 0.6098203\ttotal: 152ms\tremaining: 13.6s\n",
      "11:\tlearn: 0.5954168\ttotal: 165ms\tremaining: 13.6s\n",
      "12:\tlearn: 0.5827412\ttotal: 180ms\tremaining: 13.7s\n",
      "13:\tlearn: 0.5716122\ttotal: 195ms\tremaining: 13.7s\n",
      "14:\tlearn: 0.5619549\ttotal: 211ms\tremaining: 13.9s\n",
      "15:\tlearn: 0.5525559\ttotal: 229ms\tremaining: 14.1s\n",
      "16:\tlearn: 0.5443287\ttotal: 246ms\tremaining: 14.2s\n",
      "17:\tlearn: 0.5371702\ttotal: 263ms\tremaining: 14.3s\n",
      "18:\tlearn: 0.5302710\ttotal: 279ms\tremaining: 14.4s\n",
      "19:\tlearn: 0.5246968\ttotal: 295ms\tremaining: 14.4s\n",
      "20:\tlearn: 0.5194346\ttotal: 311ms\tremaining: 14.5s\n",
      "21:\tlearn: 0.5146734\ttotal: 327ms\tremaining: 14.5s\n",
      "22:\tlearn: 0.5109266\ttotal: 343ms\tremaining: 14.6s\n",
      "23:\tlearn: 0.5077106\ttotal: 359ms\tremaining: 14.6s\n",
      "24:\tlearn: 0.5042300\ttotal: 373ms\tremaining: 14.6s\n",
      "25:\tlearn: 0.5013875\ttotal: 388ms\tremaining: 14.5s\n",
      "26:\tlearn: 0.4981789\ttotal: 404ms\tremaining: 14.6s\n",
      "27:\tlearn: 0.4951378\ttotal: 421ms\tremaining: 14.6s\n",
      "28:\tlearn: 0.4922437\ttotal: 437ms\tremaining: 14.6s\n",
      "29:\tlearn: 0.4899056\ttotal: 451ms\tremaining: 14.6s\n",
      "30:\tlearn: 0.4877453\ttotal: 466ms\tremaining: 14.6s\n",
      "31:\tlearn: 0.4853705\ttotal: 481ms\tremaining: 14.5s\n",
      "32:\tlearn: 0.4834995\ttotal: 496ms\tremaining: 14.5s\n",
      "33:\tlearn: 0.4820182\ttotal: 509ms\tremaining: 14.5s\n",
      "34:\tlearn: 0.4805359\ttotal: 522ms\tremaining: 14.4s\n",
      "35:\tlearn: 0.4790888\ttotal: 535ms\tremaining: 14.3s\n",
      "36:\tlearn: 0.4777417\ttotal: 549ms\tremaining: 14.3s\n",
      "37:\tlearn: 0.4762221\ttotal: 562ms\tremaining: 14.2s\n",
      "38:\tlearn: 0.4750626\ttotal: 576ms\tremaining: 14.2s\n",
      "39:\tlearn: 0.4739945\ttotal: 590ms\tremaining: 14.2s\n",
      "40:\tlearn: 0.4729073\ttotal: 604ms\tremaining: 14.1s\n",
      "41:\tlearn: 0.4717756\ttotal: 617ms\tremaining: 14.1s\n",
      "42:\tlearn: 0.4707052\ttotal: 632ms\tremaining: 14.1s\n",
      "43:\tlearn: 0.4695552\ttotal: 645ms\tremaining: 14s\n",
      "44:\tlearn: 0.4688944\ttotal: 659ms\tremaining: 14s\n",
      "45:\tlearn: 0.4677718\ttotal: 672ms\tremaining: 13.9s\n",
      "46:\tlearn: 0.4671214\ttotal: 685ms\tremaining: 13.9s\n",
      "47:\tlearn: 0.4663181\ttotal: 699ms\tremaining: 13.9s\n",
      "48:\tlearn: 0.4655771\ttotal: 713ms\tremaining: 13.8s\n",
      "49:\tlearn: 0.4650206\ttotal: 726ms\tremaining: 13.8s\n",
      "50:\tlearn: 0.4645422\ttotal: 740ms\tremaining: 13.8s\n",
      "51:\tlearn: 0.4639231\ttotal: 755ms\tremaining: 13.8s\n",
      "52:\tlearn: 0.4634688\ttotal: 768ms\tremaining: 13.7s\n",
      "53:\tlearn: 0.4628723\ttotal: 781ms\tremaining: 13.7s\n",
      "54:\tlearn: 0.4624606\ttotal: 794ms\tremaining: 13.6s\n",
      "55:\tlearn: 0.4621940\ttotal: 806ms\tremaining: 13.6s\n",
      "56:\tlearn: 0.4617689\ttotal: 820ms\tremaining: 13.6s\n",
      "57:\tlearn: 0.4613668\ttotal: 833ms\tremaining: 13.5s\n",
      "58:\tlearn: 0.4609070\ttotal: 845ms\tremaining: 13.5s\n",
      "59:\tlearn: 0.4605376\ttotal: 860ms\tremaining: 13.5s\n",
      "60:\tlearn: 0.4600873\ttotal: 872ms\tremaining: 13.4s\n",
      "61:\tlearn: 0.4597157\ttotal: 887ms\tremaining: 13.4s\n",
      "62:\tlearn: 0.4591082\ttotal: 904ms\tremaining: 13.4s\n",
      "63:\tlearn: 0.4587822\ttotal: 918ms\tremaining: 13.4s\n",
      "64:\tlearn: 0.4585188\ttotal: 930ms\tremaining: 13.4s\n",
      "65:\tlearn: 0.4581585\ttotal: 944ms\tremaining: 13.4s\n",
      "66:\tlearn: 0.4578871\ttotal: 957ms\tremaining: 13.3s\n",
      "67:\tlearn: 0.4573278\ttotal: 972ms\tremaining: 13.3s\n",
      "68:\tlearn: 0.4569024\ttotal: 986ms\tremaining: 13.3s\n",
      "69:\tlearn: 0.4563826\ttotal: 1s\tremaining: 13.3s\n",
      "70:\tlearn: 0.4558281\ttotal: 1.01s\tremaining: 13.3s\n",
      "71:\tlearn: 0.4555888\ttotal: 1.03s\tremaining: 13.3s\n",
      "72:\tlearn: 0.4554253\ttotal: 1.04s\tremaining: 13.2s\n",
      "73:\tlearn: 0.4550985\ttotal: 1.05s\tremaining: 13.2s\n",
      "74:\tlearn: 0.4544273\ttotal: 1.06s\tremaining: 13.1s\n",
      "75:\tlearn: 0.4541839\ttotal: 1.08s\tremaining: 13.1s\n",
      "76:\tlearn: 0.4538957\ttotal: 1.09s\tremaining: 13.1s\n",
      "77:\tlearn: 0.4536381\ttotal: 1.1s\tremaining: 13s\n",
      "78:\tlearn: 0.4533744\ttotal: 1.12s\tremaining: 13s\n",
      "79:\tlearn: 0.4531108\ttotal: 1.13s\tremaining: 13s\n",
      "80:\tlearn: 0.4528759\ttotal: 1.14s\tremaining: 12.9s\n",
      "81:\tlearn: 0.4527195\ttotal: 1.15s\tremaining: 12.9s\n",
      "82:\tlearn: 0.4524871\ttotal: 1.17s\tremaining: 12.9s\n",
      "83:\tlearn: 0.4522415\ttotal: 1.18s\tremaining: 12.8s\n",
      "84:\tlearn: 0.4519408\ttotal: 1.19s\tremaining: 12.8s\n",
      "85:\tlearn: 0.4516186\ttotal: 1.21s\tremaining: 12.8s\n",
      "86:\tlearn: 0.4513600\ttotal: 1.22s\tremaining: 12.8s\n",
      "87:\tlearn: 0.4510960\ttotal: 1.24s\tremaining: 12.8s\n",
      "88:\tlearn: 0.4509253\ttotal: 1.25s\tremaining: 12.8s\n",
      "89:\tlearn: 0.4506633\ttotal: 1.26s\tremaining: 12.8s\n",
      "90:\tlearn: 0.4503120\ttotal: 1.28s\tremaining: 12.8s\n",
      "91:\tlearn: 0.4501041\ttotal: 1.29s\tremaining: 12.8s\n",
      "92:\tlearn: 0.4498666\ttotal: 1.31s\tremaining: 12.8s\n",
      "93:\tlearn: 0.4496425\ttotal: 1.32s\tremaining: 12.8s\n",
      "94:\tlearn: 0.4493613\ttotal: 1.34s\tremaining: 12.7s\n",
      "95:\tlearn: 0.4490895\ttotal: 1.35s\tremaining: 12.7s\n",
      "96:\tlearn: 0.4487793\ttotal: 1.36s\tremaining: 12.7s\n",
      "97:\tlearn: 0.4484219\ttotal: 1.38s\tremaining: 12.7s\n",
      "98:\tlearn: 0.4482934\ttotal: 1.39s\tremaining: 12.6s\n",
      "99:\tlearn: 0.4481087\ttotal: 1.4s\tremaining: 12.6s\n",
      "100:\tlearn: 0.4478420\ttotal: 1.42s\tremaining: 12.6s\n",
      "101:\tlearn: 0.4475623\ttotal: 1.43s\tremaining: 12.6s\n",
      "102:\tlearn: 0.4473869\ttotal: 1.44s\tremaining: 12.6s\n",
      "103:\tlearn: 0.4472141\ttotal: 1.46s\tremaining: 12.5s\n",
      "104:\tlearn: 0.4470129\ttotal: 1.47s\tremaining: 12.5s\n",
      "105:\tlearn: 0.4469803\ttotal: 1.48s\tremaining: 12.5s\n",
      "106:\tlearn: 0.4468904\ttotal: 1.49s\tremaining: 12.4s\n",
      "107:\tlearn: 0.4467833\ttotal: 1.5s\tremaining: 12.4s\n",
      "108:\tlearn: 0.4466895\ttotal: 1.51s\tremaining: 12.4s\n",
      "109:\tlearn: 0.4463253\ttotal: 1.53s\tremaining: 12.4s\n",
      "110:\tlearn: 0.4460595\ttotal: 1.54s\tremaining: 12.3s\n",
      "111:\tlearn: 0.4457502\ttotal: 1.56s\tremaining: 12.3s\n",
      "112:\tlearn: 0.4455312\ttotal: 1.57s\tremaining: 12.3s\n",
      "113:\tlearn: 0.4453021\ttotal: 1.58s\tremaining: 12.3s\n",
      "114:\tlearn: 0.4450476\ttotal: 1.6s\tremaining: 12.3s\n",
      "115:\tlearn: 0.4447705\ttotal: 1.61s\tremaining: 12.3s\n",
      "116:\tlearn: 0.4445460\ttotal: 1.62s\tremaining: 12.3s\n",
      "117:\tlearn: 0.4443160\ttotal: 1.64s\tremaining: 12.3s\n",
      "118:\tlearn: 0.4441163\ttotal: 1.65s\tremaining: 12.2s\n",
      "119:\tlearn: 0.4439816\ttotal: 1.67s\tremaining: 12.2s\n",
      "120:\tlearn: 0.4437701\ttotal: 1.68s\tremaining: 12.2s\n",
      "121:\tlearn: 0.4435772\ttotal: 1.69s\tremaining: 12.2s\n",
      "122:\tlearn: 0.4433862\ttotal: 1.7s\tremaining: 12.2s\n",
      "123:\tlearn: 0.4432009\ttotal: 1.72s\tremaining: 12.1s\n",
      "124:\tlearn: 0.4431227\ttotal: 1.73s\tremaining: 12.1s\n",
      "125:\tlearn: 0.4428981\ttotal: 1.74s\tremaining: 12.1s\n",
      "126:\tlearn: 0.4427143\ttotal: 1.75s\tremaining: 12.1s\n",
      "127:\tlearn: 0.4426202\ttotal: 1.77s\tremaining: 12s\n",
      "128:\tlearn: 0.4423857\ttotal: 1.78s\tremaining: 12s\n",
      "129:\tlearn: 0.4421549\ttotal: 1.8s\tremaining: 12.1s\n",
      "130:\tlearn: 0.4420901\ttotal: 1.82s\tremaining: 12.1s\n",
      "131:\tlearn: 0.4419148\ttotal: 1.84s\tremaining: 12.1s\n",
      "132:\tlearn: 0.4417836\ttotal: 1.86s\tremaining: 12.1s\n",
      "133:\tlearn: 0.4416275\ttotal: 1.88s\tremaining: 12.2s\n",
      "134:\tlearn: 0.4414719\ttotal: 1.9s\tremaining: 12.2s\n",
      "135:\tlearn: 0.4412939\ttotal: 1.92s\tremaining: 12.2s\n",
      "136:\tlearn: 0.4410982\ttotal: 1.94s\tremaining: 12.2s\n",
      "137:\tlearn: 0.4409059\ttotal: 1.95s\tremaining: 12.2s\n",
      "138:\tlearn: 0.4407168\ttotal: 1.97s\tremaining: 12.2s\n",
      "139:\tlearn: 0.4406064\ttotal: 1.98s\tremaining: 12.1s\n",
      "140:\tlearn: 0.4403165\ttotal: 1.99s\tremaining: 12.1s\n",
      "141:\tlearn: 0.4402256\ttotal: 2s\tremaining: 12.1s\n",
      "142:\tlearn: 0.4399827\ttotal: 2.02s\tremaining: 12.1s\n",
      "143:\tlearn: 0.4399231\ttotal: 2.03s\tremaining: 12s\n",
      "144:\tlearn: 0.4397833\ttotal: 2.04s\tremaining: 12s\n",
      "145:\tlearn: 0.4396463\ttotal: 2.05s\tremaining: 12s\n",
      "146:\tlearn: 0.4394126\ttotal: 2.06s\tremaining: 12s\n",
      "147:\tlearn: 0.4391935\ttotal: 2.08s\tremaining: 12s\n",
      "148:\tlearn: 0.4389906\ttotal: 2.09s\tremaining: 11.9s\n",
      "149:\tlearn: 0.4389056\ttotal: 2.1s\tremaining: 11.9s\n",
      "150:\tlearn: 0.4387220\ttotal: 2.12s\tremaining: 11.9s\n",
      "151:\tlearn: 0.4385437\ttotal: 2.13s\tremaining: 11.9s\n",
      "152:\tlearn: 0.4383119\ttotal: 2.14s\tremaining: 11.9s\n",
      "153:\tlearn: 0.4382143\ttotal: 2.15s\tremaining: 11.8s\n",
      "154:\tlearn: 0.4380168\ttotal: 2.17s\tremaining: 11.8s\n",
      "155:\tlearn: 0.4378776\ttotal: 2.18s\tremaining: 11.8s\n",
      "156:\tlearn: 0.4376756\ttotal: 2.2s\tremaining: 11.8s\n",
      "157:\tlearn: 0.4375196\ttotal: 2.21s\tremaining: 11.8s\n",
      "158:\tlearn: 0.4373769\ttotal: 2.23s\tremaining: 11.8s\n",
      "159:\tlearn: 0.4372769\ttotal: 2.24s\tremaining: 11.8s\n",
      "160:\tlearn: 0.4371500\ttotal: 2.25s\tremaining: 11.7s\n",
      "161:\tlearn: 0.4370264\ttotal: 2.27s\tremaining: 11.7s\n",
      "162:\tlearn: 0.4369027\ttotal: 2.28s\tremaining: 11.7s\n",
      "163:\tlearn: 0.4367710\ttotal: 2.29s\tremaining: 11.7s\n",
      "164:\tlearn: 0.4367398\ttotal: 2.3s\tremaining: 11.6s\n",
      "165:\tlearn: 0.4366441\ttotal: 2.31s\tremaining: 11.6s\n",
      "166:\tlearn: 0.4365452\ttotal: 2.32s\tremaining: 11.6s\n",
      "167:\tlearn: 0.4363688\ttotal: 2.33s\tremaining: 11.5s\n",
      "168:\tlearn: 0.4362191\ttotal: 2.34s\tremaining: 11.5s\n",
      "169:\tlearn: 0.4361130\ttotal: 2.35s\tremaining: 11.5s\n",
      "170:\tlearn: 0.4359920\ttotal: 2.36s\tremaining: 11.5s\n",
      "171:\tlearn: 0.4358513\ttotal: 2.38s\tremaining: 11.4s\n",
      "172:\tlearn: 0.4357761\ttotal: 2.38s\tremaining: 11.4s\n",
      "173:\tlearn: 0.4355680\ttotal: 2.4s\tremaining: 11.4s\n",
      "174:\tlearn: 0.4354577\ttotal: 2.41s\tremaining: 11.3s\n",
      "175:\tlearn: 0.4353009\ttotal: 2.42s\tremaining: 11.3s\n",
      "176:\tlearn: 0.4352478\ttotal: 2.43s\tremaining: 11.3s\n",
      "177:\tlearn: 0.4351186\ttotal: 2.44s\tremaining: 11.3s\n",
      "178:\tlearn: 0.4349104\ttotal: 2.45s\tremaining: 11.2s\n",
      "179:\tlearn: 0.4348067\ttotal: 2.46s\tremaining: 11.2s\n",
      "180:\tlearn: 0.4347534\ttotal: 2.47s\tremaining: 11.2s\n",
      "181:\tlearn: 0.4347188\ttotal: 2.48s\tremaining: 11.2s\n",
      "182:\tlearn: 0.4346436\ttotal: 2.49s\tremaining: 11.1s\n",
      "183:\tlearn: 0.4344597\ttotal: 2.5s\tremaining: 11.1s\n",
      "184:\tlearn: 0.4344094\ttotal: 2.51s\tremaining: 11.1s\n",
      "185:\tlearn: 0.4342995\ttotal: 2.52s\tremaining: 11s\n",
      "186:\tlearn: 0.4341818\ttotal: 2.53s\tremaining: 11s\n",
      "187:\tlearn: 0.4340819\ttotal: 2.55s\tremaining: 11s\n",
      "188:\tlearn: 0.4339921\ttotal: 2.56s\tremaining: 11s\n",
      "189:\tlearn: 0.4339335\ttotal: 2.57s\tremaining: 10.9s\n",
      "190:\tlearn: 0.4337818\ttotal: 2.58s\tremaining: 10.9s\n",
      "191:\tlearn: 0.4337448\ttotal: 2.59s\tremaining: 10.9s\n",
      "192:\tlearn: 0.4336020\ttotal: 2.6s\tremaining: 10.9s\n",
      "193:\tlearn: 0.4335635\ttotal: 2.61s\tremaining: 10.8s\n",
      "194:\tlearn: 0.4333765\ttotal: 2.62s\tremaining: 10.8s\n",
      "195:\tlearn: 0.4332028\ttotal: 2.63s\tremaining: 10.8s\n",
      "196:\tlearn: 0.4331506\ttotal: 2.64s\tremaining: 10.8s\n",
      "197:\tlearn: 0.4329375\ttotal: 2.65s\tremaining: 10.7s\n",
      "198:\tlearn: 0.4328435\ttotal: 2.66s\tremaining: 10.7s\n",
      "199:\tlearn: 0.4327916\ttotal: 2.67s\tremaining: 10.7s\n",
      "200:\tlearn: 0.4327333\ttotal: 2.68s\tremaining: 10.6s\n",
      "201:\tlearn: 0.4326298\ttotal: 2.69s\tremaining: 10.6s\n",
      "202:\tlearn: 0.4324561\ttotal: 2.7s\tremaining: 10.6s\n",
      "203:\tlearn: 0.4323777\ttotal: 2.71s\tremaining: 10.6s\n",
      "204:\tlearn: 0.4323126\ttotal: 2.72s\tremaining: 10.5s\n",
      "205:\tlearn: 0.4321382\ttotal: 2.73s\tremaining: 10.5s\n",
      "206:\tlearn: 0.4320849\ttotal: 2.74s\tremaining: 10.5s\n",
      "207:\tlearn: 0.4320543\ttotal: 2.75s\tremaining: 10.5s\n",
      "208:\tlearn: 0.4319402\ttotal: 2.76s\tremaining: 10.4s\n",
      "209:\tlearn: 0.4318186\ttotal: 2.77s\tremaining: 10.4s\n",
      "210:\tlearn: 0.4317146\ttotal: 2.78s\tremaining: 10.4s\n",
      "211:\tlearn: 0.4316187\ttotal: 2.79s\tremaining: 10.4s\n",
      "212:\tlearn: 0.4314908\ttotal: 2.8s\tremaining: 10.4s\n",
      "213:\tlearn: 0.4313537\ttotal: 2.81s\tremaining: 10.3s\n",
      "214:\tlearn: 0.4311785\ttotal: 2.82s\tremaining: 10.3s\n",
      "215:\tlearn: 0.4310544\ttotal: 2.83s\tremaining: 10.3s\n",
      "216:\tlearn: 0.4309944\ttotal: 2.84s\tremaining: 10.3s\n",
      "217:\tlearn: 0.4308959\ttotal: 2.86s\tremaining: 10.2s\n",
      "218:\tlearn: 0.4307716\ttotal: 2.87s\tremaining: 10.2s\n",
      "219:\tlearn: 0.4306036\ttotal: 2.88s\tremaining: 10.2s\n",
      "220:\tlearn: 0.4305619\ttotal: 2.89s\tremaining: 10.2s\n",
      "221:\tlearn: 0.4304107\ttotal: 2.9s\tremaining: 10.2s\n",
      "222:\tlearn: 0.4303281\ttotal: 2.91s\tremaining: 10.1s\n",
      "223:\tlearn: 0.4303151\ttotal: 2.92s\tremaining: 10.1s\n",
      "224:\tlearn: 0.4301648\ttotal: 2.93s\tremaining: 10.1s\n",
      "225:\tlearn: 0.4300119\ttotal: 2.94s\tremaining: 10.1s\n",
      "226:\tlearn: 0.4299417\ttotal: 2.95s\tremaining: 10s\n",
      "227:\tlearn: 0.4298055\ttotal: 2.96s\tremaining: 10s\n",
      "228:\tlearn: 0.4297701\ttotal: 2.97s\tremaining: 10s\n",
      "229:\tlearn: 0.4297389\ttotal: 2.98s\tremaining: 9.97s\n",
      "230:\tlearn: 0.4296933\ttotal: 2.99s\tremaining: 9.95s\n",
      "231:\tlearn: 0.4295988\ttotal: 3s\tremaining: 9.92s\n",
      "232:\tlearn: 0.4295166\ttotal: 3.01s\tremaining: 9.9s\n",
      "233:\tlearn: 0.4294102\ttotal: 3.02s\tremaining: 9.88s\n",
      "234:\tlearn: 0.4292941\ttotal: 3.03s\tremaining: 9.86s\n",
      "235:\tlearn: 0.4292070\ttotal: 3.04s\tremaining: 9.84s\n",
      "236:\tlearn: 0.4291305\ttotal: 3.05s\tremaining: 9.82s\n",
      "237:\tlearn: 0.4289612\ttotal: 3.06s\tremaining: 9.8s\n",
      "238:\tlearn: 0.4288051\ttotal: 3.07s\tremaining: 9.79s\n",
      "239:\tlearn: 0.4287102\ttotal: 3.08s\tremaining: 9.76s\n",
      "240:\tlearn: 0.4285750\ttotal: 3.09s\tremaining: 9.74s\n",
      "241:\tlearn: 0.4284070\ttotal: 3.1s\tremaining: 9.72s\n",
      "242:\tlearn: 0.4283472\ttotal: 3.12s\tremaining: 9.71s\n",
      "243:\tlearn: 0.4282871\ttotal: 3.12s\tremaining: 9.68s\n",
      "244:\tlearn: 0.4282079\ttotal: 3.13s\tremaining: 9.66s\n",
      "245:\tlearn: 0.4281320\ttotal: 3.15s\tremaining: 9.64s\n",
      "246:\tlearn: 0.4279468\ttotal: 3.16s\tremaining: 9.63s\n",
      "247:\tlearn: 0.4278885\ttotal: 3.17s\tremaining: 9.61s\n",
      "248:\tlearn: 0.4278134\ttotal: 3.18s\tremaining: 9.59s\n",
      "249:\tlearn: 0.4277853\ttotal: 3.19s\tremaining: 9.57s\n",
      "250:\tlearn: 0.4277303\ttotal: 3.2s\tremaining: 9.55s\n",
      "251:\tlearn: 0.4276949\ttotal: 3.21s\tremaining: 9.52s\n",
      "252:\tlearn: 0.4276399\ttotal: 3.22s\tremaining: 9.51s\n",
      "253:\tlearn: 0.4275840\ttotal: 3.23s\tremaining: 9.49s\n",
      "254:\tlearn: 0.4274524\ttotal: 3.25s\tremaining: 9.48s\n",
      "255:\tlearn: 0.4273552\ttotal: 3.26s\tremaining: 9.47s\n",
      "256:\tlearn: 0.4272624\ttotal: 3.27s\tremaining: 9.45s\n",
      "257:\tlearn: 0.4272483\ttotal: 3.27s\tremaining: 9.42s\n",
      "258:\tlearn: 0.4271080\ttotal: 3.29s\tremaining: 9.4s\n",
      "259:\tlearn: 0.4270669\ttotal: 3.3s\tremaining: 9.38s\n",
      "260:\tlearn: 0.4269293\ttotal: 3.31s\tremaining: 9.37s\n",
      "261:\tlearn: 0.4268862\ttotal: 3.32s\tremaining: 9.35s\n",
      "262:\tlearn: 0.4267786\ttotal: 3.33s\tremaining: 9.33s\n",
      "263:\tlearn: 0.4267056\ttotal: 3.34s\tremaining: 9.31s\n",
      "264:\tlearn: 0.4266683\ttotal: 3.35s\tremaining: 9.29s\n",
      "265:\tlearn: 0.4266281\ttotal: 3.36s\tremaining: 9.27s\n",
      "266:\tlearn: 0.4265352\ttotal: 3.37s\tremaining: 9.25s\n",
      "267:\tlearn: 0.4264625\ttotal: 3.38s\tremaining: 9.23s\n",
      "268:\tlearn: 0.4264035\ttotal: 3.39s\tremaining: 9.21s\n",
      "269:\tlearn: 0.4262979\ttotal: 3.4s\tremaining: 9.19s\n",
      "270:\tlearn: 0.4261366\ttotal: 3.41s\tremaining: 9.17s\n",
      "271:\tlearn: 0.4260210\ttotal: 3.42s\tremaining: 9.15s\n",
      "272:\tlearn: 0.4259772\ttotal: 3.43s\tremaining: 9.13s\n",
      "273:\tlearn: 0.4259113\ttotal: 3.44s\tremaining: 9.12s\n",
      "274:\tlearn: 0.4257926\ttotal: 3.45s\tremaining: 9.1s\n",
      "275:\tlearn: 0.4256973\ttotal: 3.46s\tremaining: 9.08s\n",
      "276:\tlearn: 0.4256437\ttotal: 3.47s\tremaining: 9.06s\n",
      "277:\tlearn: 0.4255686\ttotal: 3.48s\tremaining: 9.04s\n",
      "278:\tlearn: 0.4254980\ttotal: 3.49s\tremaining: 9.03s\n",
      "279:\tlearn: 0.4254132\ttotal: 3.5s\tremaining: 9s\n",
      "280:\tlearn: 0.4253743\ttotal: 3.51s\tremaining: 8.98s\n",
      "281:\tlearn: 0.4253432\ttotal: 3.52s\tremaining: 8.96s\n",
      "282:\tlearn: 0.4252697\ttotal: 3.53s\tremaining: 8.95s\n",
      "283:\tlearn: 0.4251963\ttotal: 3.54s\tremaining: 8.93s\n",
      "284:\tlearn: 0.4251281\ttotal: 3.55s\tremaining: 8.91s\n",
      "285:\tlearn: 0.4250871\ttotal: 3.56s\tremaining: 8.89s\n",
      "286:\tlearn: 0.4250679\ttotal: 3.57s\tremaining: 8.87s\n",
      "287:\tlearn: 0.4250213\ttotal: 3.58s\tremaining: 8.85s\n",
      "288:\tlearn: 0.4249680\ttotal: 3.59s\tremaining: 8.83s\n",
      "289:\tlearn: 0.4249384\ttotal: 3.6s\tremaining: 8.81s\n",
      "290:\tlearn: 0.4248979\ttotal: 3.61s\tremaining: 8.79s\n",
      "291:\tlearn: 0.4248348\ttotal: 3.62s\tremaining: 8.77s\n",
      "292:\tlearn: 0.4247187\ttotal: 3.63s\tremaining: 8.76s\n",
      "293:\tlearn: 0.4246540\ttotal: 3.64s\tremaining: 8.74s\n",
      "294:\tlearn: 0.4245791\ttotal: 3.65s\tremaining: 8.72s\n",
      "295:\tlearn: 0.4244736\ttotal: 3.66s\tremaining: 8.71s\n",
      "296:\tlearn: 0.4244258\ttotal: 3.67s\tremaining: 8.69s\n",
      "297:\tlearn: 0.4243340\ttotal: 3.68s\tremaining: 8.67s\n",
      "298:\tlearn: 0.4242865\ttotal: 3.69s\tremaining: 8.65s\n",
      "299:\tlearn: 0.4242560\ttotal: 3.7s\tremaining: 8.63s\n",
      "300:\tlearn: 0.4241700\ttotal: 3.71s\tremaining: 8.61s\n",
      "301:\tlearn: 0.4240848\ttotal: 3.72s\tremaining: 8.6s\n",
      "302:\tlearn: 0.4239571\ttotal: 3.73s\tremaining: 8.58s\n",
      "303:\tlearn: 0.4238578\ttotal: 3.74s\tremaining: 8.56s\n",
      "304:\tlearn: 0.4238249\ttotal: 3.75s\tremaining: 8.54s\n",
      "305:\tlearn: 0.4238031\ttotal: 3.76s\tremaining: 8.52s\n",
      "306:\tlearn: 0.4236545\ttotal: 3.77s\tremaining: 8.51s\n",
      "307:\tlearn: 0.4236058\ttotal: 3.78s\tremaining: 8.49s\n",
      "308:\tlearn: 0.4235477\ttotal: 3.79s\tremaining: 8.47s\n",
      "309:\tlearn: 0.4234003\ttotal: 3.8s\tremaining: 8.46s\n",
      "310:\tlearn: 0.4233111\ttotal: 3.81s\tremaining: 8.44s\n",
      "311:\tlearn: 0.4231759\ttotal: 3.82s\tremaining: 8.42s\n",
      "312:\tlearn: 0.4231331\ttotal: 3.83s\tremaining: 8.4s\n",
      "313:\tlearn: 0.4230544\ttotal: 3.84s\tremaining: 8.39s\n",
      "314:\tlearn: 0.4230074\ttotal: 3.85s\tremaining: 8.37s\n",
      "315:\tlearn: 0.4228909\ttotal: 3.86s\tremaining: 8.36s\n",
      "316:\tlearn: 0.4227840\ttotal: 3.87s\tremaining: 8.34s\n",
      "317:\tlearn: 0.4227129\ttotal: 3.88s\tremaining: 8.32s\n",
      "318:\tlearn: 0.4225635\ttotal: 3.89s\tremaining: 8.31s\n",
      "319:\tlearn: 0.4224824\ttotal: 3.9s\tremaining: 8.29s\n",
      "320:\tlearn: 0.4223003\ttotal: 3.91s\tremaining: 8.28s\n",
      "321:\tlearn: 0.4221956\ttotal: 3.92s\tremaining: 8.26s\n",
      "322:\tlearn: 0.4221085\ttotal: 3.93s\tremaining: 8.24s\n",
      "323:\tlearn: 0.4220437\ttotal: 3.94s\tremaining: 8.22s\n",
      "324:\tlearn: 0.4219437\ttotal: 3.95s\tremaining: 8.21s\n",
      "325:\tlearn: 0.4219083\ttotal: 3.96s\tremaining: 8.19s\n",
      "326:\tlearn: 0.4218274\ttotal: 3.97s\tremaining: 8.17s\n",
      "327:\tlearn: 0.4217716\ttotal: 3.98s\tremaining: 8.15s\n",
      "328:\tlearn: 0.4216842\ttotal: 3.99s\tremaining: 8.14s\n",
      "329:\tlearn: 0.4216626\ttotal: 4s\tremaining: 8.12s\n",
      "330:\tlearn: 0.4216151\ttotal: 4.01s\tremaining: 8.11s\n",
      "331:\tlearn: 0.4214989\ttotal: 4.02s\tremaining: 8.09s\n",
      "332:\tlearn: 0.4214012\ttotal: 4.03s\tremaining: 8.08s\n",
      "333:\tlearn: 0.4213803\ttotal: 4.04s\tremaining: 8.06s\n",
      "334:\tlearn: 0.4213284\ttotal: 4.05s\tremaining: 8.04s\n",
      "335:\tlearn: 0.4212612\ttotal: 4.06s\tremaining: 8.03s\n",
      "336:\tlearn: 0.4212177\ttotal: 4.07s\tremaining: 8.01s\n",
      "337:\tlearn: 0.4211905\ttotal: 4.08s\tremaining: 7.99s\n",
      "338:\tlearn: 0.4211620\ttotal: 4.09s\tremaining: 7.98s\n",
      "339:\tlearn: 0.4210536\ttotal: 4.1s\tremaining: 7.96s\n",
      "340:\tlearn: 0.4209901\ttotal: 4.11s\tremaining: 7.95s\n",
      "341:\tlearn: 0.4209722\ttotal: 4.12s\tremaining: 7.93s\n",
      "342:\tlearn: 0.4208916\ttotal: 4.13s\tremaining: 7.92s\n",
      "343:\tlearn: 0.4208400\ttotal: 4.14s\tremaining: 7.9s\n",
      "344:\tlearn: 0.4207394\ttotal: 4.16s\tremaining: 7.89s\n",
      "345:\tlearn: 0.4207137\ttotal: 4.17s\tremaining: 7.88s\n",
      "346:\tlearn: 0.4205808\ttotal: 4.18s\tremaining: 7.87s\n",
      "347:\tlearn: 0.4205291\ttotal: 4.19s\tremaining: 7.86s\n",
      "348:\tlearn: 0.4204954\ttotal: 4.2s\tremaining: 7.84s\n",
      "349:\tlearn: 0.4204150\ttotal: 4.21s\tremaining: 7.83s\n",
      "350:\tlearn: 0.4203487\ttotal: 4.23s\tremaining: 7.81s\n",
      "351:\tlearn: 0.4202701\ttotal: 4.24s\tremaining: 7.8s\n",
      "352:\tlearn: 0.4202036\ttotal: 4.25s\tremaining: 7.79s\n",
      "353:\tlearn: 0.4201508\ttotal: 4.26s\tremaining: 7.77s\n",
      "354:\tlearn: 0.4200559\ttotal: 4.27s\tremaining: 7.75s\n",
      "355:\tlearn: 0.4200140\ttotal: 4.28s\tremaining: 7.74s\n",
      "356:\tlearn: 0.4199845\ttotal: 4.29s\tremaining: 7.72s\n",
      "357:\tlearn: 0.4198927\ttotal: 4.3s\tremaining: 7.71s\n",
      "358:\tlearn: 0.4198299\ttotal: 4.31s\tremaining: 7.7s\n",
      "359:\tlearn: 0.4198116\ttotal: 4.32s\tremaining: 7.68s\n",
      "360:\tlearn: 0.4197439\ttotal: 4.33s\tremaining: 7.67s\n",
      "361:\tlearn: 0.4196712\ttotal: 4.34s\tremaining: 7.65s\n",
      "362:\tlearn: 0.4196444\ttotal: 4.35s\tremaining: 7.63s\n",
      "363:\tlearn: 0.4196223\ttotal: 4.36s\tremaining: 7.62s\n",
      "364:\tlearn: 0.4195746\ttotal: 4.37s\tremaining: 7.6s\n",
      "365:\tlearn: 0.4195306\ttotal: 4.38s\tremaining: 7.59s\n",
      "366:\tlearn: 0.4193702\ttotal: 4.39s\tremaining: 7.58s\n",
      "367:\tlearn: 0.4193237\ttotal: 4.4s\tremaining: 7.56s\n",
      "368:\tlearn: 0.4191591\ttotal: 4.41s\tremaining: 7.55s\n",
      "369:\tlearn: 0.4191392\ttotal: 4.42s\tremaining: 7.53s\n",
      "370:\tlearn: 0.4190631\ttotal: 4.43s\tremaining: 7.51s\n",
      "371:\tlearn: 0.4190345\ttotal: 4.44s\tremaining: 7.5s\n",
      "372:\tlearn: 0.4190020\ttotal: 4.45s\tremaining: 7.48s\n",
      "373:\tlearn: 0.4189368\ttotal: 4.46s\tremaining: 7.46s\n",
      "374:\tlearn: 0.4188574\ttotal: 4.47s\tremaining: 7.45s\n",
      "375:\tlearn: 0.4187028\ttotal: 4.48s\tremaining: 7.43s\n",
      "376:\tlearn: 0.4186250\ttotal: 4.49s\tremaining: 7.42s\n",
      "377:\tlearn: 0.4185834\ttotal: 4.5s\tremaining: 7.4s\n",
      "378:\tlearn: 0.4185005\ttotal: 4.51s\tremaining: 7.39s\n",
      "379:\tlearn: 0.4184379\ttotal: 4.52s\tremaining: 7.37s\n",
      "380:\tlearn: 0.4183700\ttotal: 4.53s\tremaining: 7.36s\n",
      "381:\tlearn: 0.4183637\ttotal: 4.54s\tremaining: 7.34s\n",
      "382:\tlearn: 0.4182764\ttotal: 4.55s\tremaining: 7.33s\n",
      "383:\tlearn: 0.4182150\ttotal: 4.56s\tremaining: 7.31s\n",
      "384:\tlearn: 0.4181114\ttotal: 4.57s\tremaining: 7.3s\n",
      "385:\tlearn: 0.4180332\ttotal: 4.58s\tremaining: 7.28s\n",
      "386:\tlearn: 0.4179391\ttotal: 4.59s\tremaining: 7.27s\n",
      "387:\tlearn: 0.4179020\ttotal: 4.6s\tremaining: 7.26s\n",
      "388:\tlearn: 0.4178925\ttotal: 4.61s\tremaining: 7.24s\n",
      "389:\tlearn: 0.4178307\ttotal: 4.62s\tremaining: 7.23s\n",
      "390:\tlearn: 0.4176957\ttotal: 4.63s\tremaining: 7.21s\n",
      "391:\tlearn: 0.4176298\ttotal: 4.64s\tremaining: 7.2s\n",
      "392:\tlearn: 0.4175754\ttotal: 4.65s\tremaining: 7.19s\n",
      "393:\tlearn: 0.4174940\ttotal: 4.66s\tremaining: 7.17s\n",
      "394:\tlearn: 0.4174104\ttotal: 4.67s\tremaining: 7.16s\n",
      "395:\tlearn: 0.4172995\ttotal: 4.68s\tremaining: 7.14s\n",
      "396:\tlearn: 0.4172131\ttotal: 4.69s\tremaining: 7.13s\n",
      "397:\tlearn: 0.4171519\ttotal: 4.7s\tremaining: 7.12s\n",
      "398:\tlearn: 0.4170459\ttotal: 4.71s\tremaining: 7.1s\n",
      "399:\tlearn: 0.4169950\ttotal: 4.72s\tremaining: 7.08s\n",
      "400:\tlearn: 0.4169387\ttotal: 4.73s\tremaining: 7.07s\n",
      "401:\tlearn: 0.4167635\ttotal: 4.74s\tremaining: 7.05s\n",
      "402:\tlearn: 0.4166462\ttotal: 4.75s\tremaining: 7.04s\n",
      "403:\tlearn: 0.4165872\ttotal: 4.76s\tremaining: 7.03s\n",
      "404:\tlearn: 0.4165015\ttotal: 4.77s\tremaining: 7.01s\n",
      "405:\tlearn: 0.4164507\ttotal: 4.78s\tremaining: 7s\n",
      "406:\tlearn: 0.4164185\ttotal: 4.79s\tremaining: 6.98s\n",
      "407:\tlearn: 0.4163567\ttotal: 4.8s\tremaining: 6.97s\n",
      "408:\tlearn: 0.4163027\ttotal: 4.81s\tremaining: 6.96s\n",
      "409:\tlearn: 0.4162444\ttotal: 4.82s\tremaining: 6.94s\n",
      "410:\tlearn: 0.4161605\ttotal: 4.83s\tremaining: 6.93s\n",
      "411:\tlearn: 0.4160522\ttotal: 4.84s\tremaining: 6.91s\n",
      "412:\tlearn: 0.4160007\ttotal: 4.85s\tremaining: 6.9s\n",
      "413:\tlearn: 0.4158450\ttotal: 4.86s\tremaining: 6.88s\n",
      "414:\tlearn: 0.4157861\ttotal: 4.87s\tremaining: 6.87s\n",
      "415:\tlearn: 0.4157364\ttotal: 4.88s\tremaining: 6.85s\n",
      "416:\tlearn: 0.4156602\ttotal: 4.89s\tremaining: 6.84s\n",
      "417:\tlearn: 0.4156159\ttotal: 4.9s\tremaining: 6.83s\n",
      "418:\tlearn: 0.4155516\ttotal: 4.91s\tremaining: 6.82s\n",
      "419:\tlearn: 0.4154970\ttotal: 4.92s\tremaining: 6.8s\n",
      "420:\tlearn: 0.4154457\ttotal: 4.93s\tremaining: 6.78s\n",
      "421:\tlearn: 0.4154257\ttotal: 4.94s\tremaining: 6.77s\n",
      "422:\tlearn: 0.4153948\ttotal: 4.95s\tremaining: 6.75s\n",
      "423:\tlearn: 0.4153545\ttotal: 4.96s\tremaining: 6.74s\n",
      "424:\tlearn: 0.4153097\ttotal: 4.97s\tremaining: 6.72s\n",
      "425:\tlearn: 0.4152809\ttotal: 4.98s\tremaining: 6.71s\n",
      "426:\tlearn: 0.4152293\ttotal: 4.99s\tremaining: 6.7s\n",
      "427:\tlearn: 0.4151707\ttotal: 5s\tremaining: 6.68s\n",
      "428:\tlearn: 0.4151422\ttotal: 5.01s\tremaining: 6.67s\n",
      "429:\tlearn: 0.4150869\ttotal: 5.02s\tremaining: 6.65s\n",
      "430:\tlearn: 0.4149537\ttotal: 5.03s\tremaining: 6.64s\n",
      "431:\tlearn: 0.4149016\ttotal: 5.04s\tremaining: 6.63s\n",
      "432:\tlearn: 0.4148787\ttotal: 5.05s\tremaining: 6.62s\n",
      "433:\tlearn: 0.4148666\ttotal: 5.06s\tremaining: 6.6s\n",
      "434:\tlearn: 0.4147988\ttotal: 5.07s\tremaining: 6.59s\n",
      "435:\tlearn: 0.4147775\ttotal: 5.08s\tremaining: 6.57s\n",
      "436:\tlearn: 0.4146996\ttotal: 5.09s\tremaining: 6.56s\n",
      "437:\tlearn: 0.4146537\ttotal: 5.1s\tremaining: 6.55s\n",
      "438:\tlearn: 0.4145625\ttotal: 5.11s\tremaining: 6.53s\n",
      "439:\tlearn: 0.4144993\ttotal: 5.12s\tremaining: 6.52s\n",
      "440:\tlearn: 0.4144290\ttotal: 5.13s\tremaining: 6.51s\n",
      "441:\tlearn: 0.4143943\ttotal: 5.15s\tremaining: 6.5s\n",
      "442:\tlearn: 0.4142973\ttotal: 5.16s\tremaining: 6.48s\n",
      "443:\tlearn: 0.4142639\ttotal: 5.17s\tremaining: 6.47s\n",
      "444:\tlearn: 0.4141680\ttotal: 5.18s\tremaining: 6.46s\n",
      "445:\tlearn: 0.4141347\ttotal: 5.19s\tremaining: 6.45s\n",
      "446:\tlearn: 0.4140970\ttotal: 5.2s\tremaining: 6.43s\n",
      "447:\tlearn: 0.4140070\ttotal: 5.21s\tremaining: 6.42s\n",
      "448:\tlearn: 0.4139420\ttotal: 5.22s\tremaining: 6.41s\n",
      "449:\tlearn: 0.4138025\ttotal: 5.24s\tremaining: 6.4s\n",
      "450:\tlearn: 0.4137781\ttotal: 5.25s\tremaining: 6.39s\n",
      "451:\tlearn: 0.4136989\ttotal: 5.26s\tremaining: 6.38s\n",
      "452:\tlearn: 0.4136487\ttotal: 5.27s\tremaining: 6.36s\n",
      "453:\tlearn: 0.4135843\ttotal: 5.28s\tremaining: 6.35s\n",
      "454:\tlearn: 0.4135190\ttotal: 5.29s\tremaining: 6.34s\n",
      "455:\tlearn: 0.4134122\ttotal: 5.3s\tremaining: 6.33s\n",
      "456:\tlearn: 0.4133521\ttotal: 5.31s\tremaining: 6.31s\n",
      "457:\tlearn: 0.4133464\ttotal: 5.32s\tremaining: 6.3s\n",
      "458:\tlearn: 0.4132933\ttotal: 5.33s\tremaining: 6.29s\n",
      "459:\tlearn: 0.4132715\ttotal: 5.34s\tremaining: 6.27s\n",
      "460:\tlearn: 0.4132550\ttotal: 5.35s\tremaining: 6.26s\n",
      "461:\tlearn: 0.4132041\ttotal: 5.36s\tremaining: 6.25s\n",
      "462:\tlearn: 0.4131515\ttotal: 5.38s\tremaining: 6.23s\n",
      "463:\tlearn: 0.4130686\ttotal: 5.39s\tremaining: 6.22s\n",
      "464:\tlearn: 0.4129911\ttotal: 5.4s\tremaining: 6.21s\n",
      "465:\tlearn: 0.4128958\ttotal: 5.41s\tremaining: 6.2s\n",
      "466:\tlearn: 0.4128385\ttotal: 5.42s\tremaining: 6.18s\n",
      "467:\tlearn: 0.4126791\ttotal: 5.43s\tremaining: 6.17s\n",
      "468:\tlearn: 0.4125640\ttotal: 5.44s\tremaining: 6.16s\n",
      "469:\tlearn: 0.4125079\ttotal: 5.45s\tremaining: 6.14s\n",
      "470:\tlearn: 0.4124947\ttotal: 5.46s\tremaining: 6.13s\n",
      "471:\tlearn: 0.4124763\ttotal: 5.47s\tremaining: 6.12s\n",
      "472:\tlearn: 0.4124257\ttotal: 5.47s\tremaining: 6.1s\n",
      "473:\tlearn: 0.4123749\ttotal: 5.49s\tremaining: 6.09s\n",
      "474:\tlearn: 0.4123635\ttotal: 5.49s\tremaining: 6.07s\n",
      "475:\tlearn: 0.4123111\ttotal: 5.5s\tremaining: 6.06s\n",
      "476:\tlearn: 0.4121910\ttotal: 5.51s\tremaining: 6.04s\n",
      "477:\tlearn: 0.4121298\ttotal: 5.52s\tremaining: 6.03s\n",
      "478:\tlearn: 0.4120982\ttotal: 5.53s\tremaining: 6.02s\n",
      "479:\tlearn: 0.4120540\ttotal: 5.54s\tremaining: 6.01s\n",
      "480:\tlearn: 0.4119519\ttotal: 5.56s\tremaining: 6s\n",
      "481:\tlearn: 0.4119187\ttotal: 5.57s\tremaining: 5.98s\n",
      "482:\tlearn: 0.4118407\ttotal: 5.58s\tremaining: 5.97s\n",
      "483:\tlearn: 0.4118159\ttotal: 5.59s\tremaining: 5.96s\n",
      "484:\tlearn: 0.4117681\ttotal: 5.6s\tremaining: 5.95s\n",
      "485:\tlearn: 0.4116856\ttotal: 5.61s\tremaining: 5.93s\n",
      "486:\tlearn: 0.4116411\ttotal: 5.62s\tremaining: 5.92s\n",
      "487:\tlearn: 0.4115320\ttotal: 5.63s\tremaining: 5.91s\n",
      "488:\tlearn: 0.4115004\ttotal: 5.64s\tremaining: 5.9s\n",
      "489:\tlearn: 0.4113516\ttotal: 5.65s\tremaining: 5.88s\n",
      "490:\tlearn: 0.4113081\ttotal: 5.66s\tremaining: 5.87s\n",
      "491:\tlearn: 0.4112680\ttotal: 5.67s\tremaining: 5.86s\n",
      "492:\tlearn: 0.4111614\ttotal: 5.69s\tremaining: 5.85s\n",
      "493:\tlearn: 0.4111250\ttotal: 5.7s\tremaining: 5.83s\n",
      "494:\tlearn: 0.4110692\ttotal: 5.71s\tremaining: 5.82s\n",
      "495:\tlearn: 0.4110604\ttotal: 5.72s\tremaining: 5.81s\n",
      "496:\tlearn: 0.4109729\ttotal: 5.73s\tremaining: 5.8s\n",
      "497:\tlearn: 0.4109324\ttotal: 5.74s\tremaining: 5.79s\n",
      "498:\tlearn: 0.4108393\ttotal: 5.75s\tremaining: 5.78s\n",
      "499:\tlearn: 0.4108191\ttotal: 5.76s\tremaining: 5.76s\n",
      "500:\tlearn: 0.4107549\ttotal: 5.77s\tremaining: 5.75s\n",
      "501:\tlearn: 0.4106782\ttotal: 5.78s\tremaining: 5.74s\n",
      "502:\tlearn: 0.4105319\ttotal: 5.79s\tremaining: 5.73s\n",
      "503:\tlearn: 0.4104948\ttotal: 5.8s\tremaining: 5.71s\n",
      "504:\tlearn: 0.4104452\ttotal: 5.81s\tremaining: 5.7s\n",
      "505:\tlearn: 0.4104112\ttotal: 5.82s\tremaining: 5.69s\n",
      "506:\tlearn: 0.4103811\ttotal: 5.83s\tremaining: 5.67s\n",
      "507:\tlearn: 0.4103273\ttotal: 5.84s\tremaining: 5.66s\n",
      "508:\tlearn: 0.4102219\ttotal: 5.85s\tremaining: 5.64s\n",
      "509:\tlearn: 0.4101863\ttotal: 5.86s\tremaining: 5.63s\n",
      "510:\tlearn: 0.4101616\ttotal: 5.87s\tremaining: 5.62s\n",
      "511:\tlearn: 0.4100513\ttotal: 5.88s\tremaining: 5.61s\n",
      "512:\tlearn: 0.4100244\ttotal: 5.89s\tremaining: 5.59s\n",
      "513:\tlearn: 0.4099889\ttotal: 5.9s\tremaining: 5.58s\n",
      "514:\tlearn: 0.4099177\ttotal: 5.91s\tremaining: 5.57s\n",
      "515:\tlearn: 0.4098971\ttotal: 5.92s\tremaining: 5.55s\n",
      "516:\tlearn: 0.4098152\ttotal: 5.93s\tremaining: 5.54s\n",
      "517:\tlearn: 0.4097397\ttotal: 5.94s\tremaining: 5.53s\n",
      "518:\tlearn: 0.4097290\ttotal: 5.95s\tremaining: 5.52s\n",
      "519:\tlearn: 0.4096656\ttotal: 5.96s\tremaining: 5.5s\n",
      "520:\tlearn: 0.4096092\ttotal: 5.97s\tremaining: 5.49s\n",
      "521:\tlearn: 0.4095289\ttotal: 5.98s\tremaining: 5.48s\n",
      "522:\tlearn: 0.4094695\ttotal: 5.99s\tremaining: 5.47s\n",
      "523:\tlearn: 0.4094631\ttotal: 6s\tremaining: 5.45s\n",
      "524:\tlearn: 0.4094315\ttotal: 6.01s\tremaining: 5.44s\n",
      "525:\tlearn: 0.4094229\ttotal: 6.02s\tremaining: 5.42s\n",
      "526:\tlearn: 0.4093684\ttotal: 6.03s\tremaining: 5.41s\n",
      "527:\tlearn: 0.4093621\ttotal: 6.04s\tremaining: 5.4s\n",
      "528:\tlearn: 0.4092939\ttotal: 6.05s\tremaining: 5.39s\n",
      "529:\tlearn: 0.4092318\ttotal: 6.06s\tremaining: 5.38s\n",
      "530:\tlearn: 0.4091901\ttotal: 6.07s\tremaining: 5.36s\n",
      "531:\tlearn: 0.4091167\ttotal: 6.08s\tremaining: 5.35s\n",
      "532:\tlearn: 0.4090828\ttotal: 6.09s\tremaining: 5.34s\n",
      "533:\tlearn: 0.4090730\ttotal: 6.1s\tremaining: 5.33s\n",
      "534:\tlearn: 0.4090171\ttotal: 6.11s\tremaining: 5.31s\n",
      "535:\tlearn: 0.4089847\ttotal: 6.12s\tremaining: 5.3s\n",
      "536:\tlearn: 0.4089780\ttotal: 6.13s\tremaining: 5.29s\n",
      "537:\tlearn: 0.4089211\ttotal: 6.14s\tremaining: 5.28s\n",
      "538:\tlearn: 0.4088767\ttotal: 6.16s\tremaining: 5.26s\n",
      "539:\tlearn: 0.4088418\ttotal: 6.17s\tremaining: 5.25s\n",
      "540:\tlearn: 0.4088063\ttotal: 6.18s\tremaining: 5.24s\n",
      "541:\tlearn: 0.4087782\ttotal: 6.19s\tremaining: 5.23s\n",
      "542:\tlearn: 0.4087058\ttotal: 6.2s\tremaining: 5.22s\n",
      "543:\tlearn: 0.4086850\ttotal: 6.21s\tremaining: 5.2s\n",
      "544:\tlearn: 0.4086024\ttotal: 6.22s\tremaining: 5.19s\n",
      "545:\tlearn: 0.4084928\ttotal: 6.23s\tremaining: 5.18s\n",
      "546:\tlearn: 0.4084698\ttotal: 6.24s\tremaining: 5.17s\n",
      "547:\tlearn: 0.4084197\ttotal: 6.25s\tremaining: 5.15s\n",
      "548:\tlearn: 0.4083759\ttotal: 6.26s\tremaining: 5.14s\n",
      "549:\tlearn: 0.4083555\ttotal: 6.27s\tremaining: 5.13s\n",
      "550:\tlearn: 0.4083316\ttotal: 6.28s\tremaining: 5.12s\n",
      "551:\tlearn: 0.4083036\ttotal: 6.29s\tremaining: 5.1s\n",
      "552:\tlearn: 0.4082764\ttotal: 6.3s\tremaining: 5.09s\n",
      "553:\tlearn: 0.4081904\ttotal: 6.31s\tremaining: 5.08s\n",
      "554:\tlearn: 0.4081643\ttotal: 6.32s\tremaining: 5.07s\n",
      "555:\tlearn: 0.4081272\ttotal: 6.33s\tremaining: 5.05s\n",
      "556:\tlearn: 0.4080614\ttotal: 6.34s\tremaining: 5.04s\n",
      "557:\tlearn: 0.4080113\ttotal: 6.35s\tremaining: 5.03s\n",
      "558:\tlearn: 0.4079746\ttotal: 6.36s\tremaining: 5.02s\n",
      "559:\tlearn: 0.4078800\ttotal: 6.38s\tremaining: 5.01s\n",
      "560:\tlearn: 0.4078374\ttotal: 6.39s\tremaining: 5s\n",
      "561:\tlearn: 0.4078183\ttotal: 6.4s\tremaining: 4.99s\n",
      "562:\tlearn: 0.4077828\ttotal: 6.41s\tremaining: 4.97s\n",
      "563:\tlearn: 0.4076503\ttotal: 6.42s\tremaining: 4.96s\n",
      "564:\tlearn: 0.4076216\ttotal: 6.43s\tremaining: 4.95s\n",
      "565:\tlearn: 0.4075740\ttotal: 6.44s\tremaining: 4.94s\n",
      "566:\tlearn: 0.4075470\ttotal: 6.45s\tremaining: 4.92s\n",
      "567:\tlearn: 0.4075116\ttotal: 6.46s\tremaining: 4.91s\n",
      "568:\tlearn: 0.4074797\ttotal: 6.47s\tremaining: 4.9s\n",
      "569:\tlearn: 0.4073420\ttotal: 6.48s\tremaining: 4.89s\n",
      "570:\tlearn: 0.4072941\ttotal: 6.49s\tremaining: 4.88s\n",
      "571:\tlearn: 0.4072692\ttotal: 6.5s\tremaining: 4.86s\n",
      "572:\tlearn: 0.4072597\ttotal: 6.51s\tremaining: 4.85s\n",
      "573:\tlearn: 0.4071965\ttotal: 6.52s\tremaining: 4.84s\n",
      "574:\tlearn: 0.4071684\ttotal: 6.53s\tremaining: 4.83s\n",
      "575:\tlearn: 0.4071523\ttotal: 6.54s\tremaining: 4.81s\n",
      "576:\tlearn: 0.4070811\ttotal: 6.55s\tremaining: 4.8s\n",
      "577:\tlearn: 0.4070657\ttotal: 6.56s\tremaining: 4.79s\n",
      "578:\tlearn: 0.4070061\ttotal: 6.57s\tremaining: 4.78s\n",
      "579:\tlearn: 0.4069892\ttotal: 6.58s\tremaining: 4.76s\n",
      "580:\tlearn: 0.4069781\ttotal: 6.59s\tremaining: 4.75s\n",
      "581:\tlearn: 0.4068847\ttotal: 6.6s\tremaining: 4.74s\n",
      "582:\tlearn: 0.4067779\ttotal: 6.61s\tremaining: 4.73s\n",
      "583:\tlearn: 0.4067158\ttotal: 6.62s\tremaining: 4.71s\n",
      "584:\tlearn: 0.4066818\ttotal: 6.63s\tremaining: 4.7s\n",
      "585:\tlearn: 0.4066347\ttotal: 6.64s\tremaining: 4.69s\n",
      "586:\tlearn: 0.4065798\ttotal: 6.65s\tremaining: 4.68s\n",
      "587:\tlearn: 0.4064884\ttotal: 6.66s\tremaining: 4.67s\n",
      "588:\tlearn: 0.4064539\ttotal: 6.67s\tremaining: 4.65s\n",
      "589:\tlearn: 0.4064048\ttotal: 6.68s\tremaining: 4.64s\n",
      "590:\tlearn: 0.4063824\ttotal: 6.69s\tremaining: 4.63s\n",
      "591:\tlearn: 0.4062581\ttotal: 6.7s\tremaining: 4.62s\n",
      "592:\tlearn: 0.4062254\ttotal: 6.71s\tremaining: 4.6s\n",
      "593:\tlearn: 0.4061466\ttotal: 6.72s\tremaining: 4.59s\n",
      "594:\tlearn: 0.4061191\ttotal: 6.73s\tremaining: 4.58s\n",
      "595:\tlearn: 0.4061098\ttotal: 6.74s\tremaining: 4.57s\n",
      "596:\tlearn: 0.4060598\ttotal: 6.75s\tremaining: 4.55s\n",
      "597:\tlearn: 0.4060307\ttotal: 6.76s\tremaining: 4.54s\n",
      "598:\tlearn: 0.4059758\ttotal: 6.76s\tremaining: 4.53s\n",
      "599:\tlearn: 0.4059650\ttotal: 6.78s\tremaining: 4.52s\n",
      "600:\tlearn: 0.4059263\ttotal: 6.78s\tremaining: 4.5s\n",
      "601:\tlearn: 0.4058496\ttotal: 6.79s\tremaining: 4.49s\n",
      "602:\tlearn: 0.4058249\ttotal: 6.8s\tremaining: 4.48s\n",
      "603:\tlearn: 0.4057702\ttotal: 6.82s\tremaining: 4.47s\n",
      "604:\tlearn: 0.4057329\ttotal: 6.83s\tremaining: 4.46s\n",
      "605:\tlearn: 0.4057251\ttotal: 6.83s\tremaining: 4.44s\n",
      "606:\tlearn: 0.4056569\ttotal: 6.84s\tremaining: 4.43s\n",
      "607:\tlearn: 0.4056061\ttotal: 6.86s\tremaining: 4.42s\n",
      "608:\tlearn: 0.4055587\ttotal: 6.87s\tremaining: 4.41s\n",
      "609:\tlearn: 0.4055125\ttotal: 6.88s\tremaining: 4.39s\n",
      "610:\tlearn: 0.4054748\ttotal: 6.89s\tremaining: 4.38s\n",
      "611:\tlearn: 0.4054534\ttotal: 6.89s\tremaining: 4.37s\n",
      "612:\tlearn: 0.4053527\ttotal: 6.91s\tremaining: 4.36s\n",
      "613:\tlearn: 0.4053448\ttotal: 6.92s\tremaining: 4.35s\n",
      "614:\tlearn: 0.4053344\ttotal: 6.92s\tremaining: 4.33s\n",
      "615:\tlearn: 0.4053016\ttotal: 6.93s\tremaining: 4.32s\n",
      "616:\tlearn: 0.4052316\ttotal: 6.94s\tremaining: 4.31s\n",
      "617:\tlearn: 0.4051796\ttotal: 6.96s\tremaining: 4.3s\n",
      "618:\tlearn: 0.4051361\ttotal: 6.96s\tremaining: 4.29s\n",
      "619:\tlearn: 0.4050440\ttotal: 6.98s\tremaining: 4.28s\n",
      "620:\tlearn: 0.4050120\ttotal: 6.99s\tremaining: 4.26s\n",
      "621:\tlearn: 0.4049350\ttotal: 7s\tremaining: 4.25s\n",
      "622:\tlearn: 0.4049158\ttotal: 7s\tremaining: 4.24s\n",
      "623:\tlearn: 0.4048623\ttotal: 7.01s\tremaining: 4.23s\n",
      "624:\tlearn: 0.4048272\ttotal: 7.02s\tremaining: 4.21s\n",
      "625:\tlearn: 0.4047461\ttotal: 7.03s\tremaining: 4.2s\n",
      "626:\tlearn: 0.4046767\ttotal: 7.04s\tremaining: 4.19s\n",
      "627:\tlearn: 0.4046332\ttotal: 7.05s\tremaining: 4.18s\n",
      "628:\tlearn: 0.4045753\ttotal: 7.07s\tremaining: 4.17s\n",
      "629:\tlearn: 0.4045205\ttotal: 7.08s\tremaining: 4.16s\n",
      "630:\tlearn: 0.4044877\ttotal: 7.09s\tremaining: 4.14s\n",
      "631:\tlearn: 0.4044646\ttotal: 7.1s\tremaining: 4.13s\n",
      "632:\tlearn: 0.4044320\ttotal: 7.11s\tremaining: 4.12s\n",
      "633:\tlearn: 0.4043745\ttotal: 7.12s\tremaining: 4.11s\n",
      "634:\tlearn: 0.4043564\ttotal: 7.13s\tremaining: 4.1s\n",
      "635:\tlearn: 0.4043171\ttotal: 7.15s\tremaining: 4.09s\n",
      "636:\tlearn: 0.4042716\ttotal: 7.16s\tremaining: 4.08s\n",
      "637:\tlearn: 0.4042392\ttotal: 7.17s\tremaining: 4.07s\n",
      "638:\tlearn: 0.4042060\ttotal: 7.18s\tremaining: 4.06s\n",
      "639:\tlearn: 0.4041633\ttotal: 7.19s\tremaining: 4.04s\n",
      "640:\tlearn: 0.4040643\ttotal: 7.2s\tremaining: 4.03s\n",
      "641:\tlearn: 0.4040290\ttotal: 7.21s\tremaining: 4.02s\n",
      "642:\tlearn: 0.4040042\ttotal: 7.22s\tremaining: 4.01s\n",
      "643:\tlearn: 0.4039772\ttotal: 7.23s\tremaining: 4s\n",
      "644:\tlearn: 0.4039273\ttotal: 7.24s\tremaining: 3.99s\n",
      "645:\tlearn: 0.4039186\ttotal: 7.25s\tremaining: 3.98s\n",
      "646:\tlearn: 0.4038963\ttotal: 7.26s\tremaining: 3.96s\n",
      "647:\tlearn: 0.4038772\ttotal: 7.27s\tremaining: 3.95s\n",
      "648:\tlearn: 0.4038101\ttotal: 7.28s\tremaining: 3.94s\n",
      "649:\tlearn: 0.4037077\ttotal: 7.3s\tremaining: 3.93s\n",
      "650:\tlearn: 0.4036272\ttotal: 7.31s\tremaining: 3.92s\n",
      "651:\tlearn: 0.4035988\ttotal: 7.32s\tremaining: 3.91s\n",
      "652:\tlearn: 0.4035746\ttotal: 7.33s\tremaining: 3.9s\n",
      "653:\tlearn: 0.4035486\ttotal: 7.34s\tremaining: 3.88s\n",
      "654:\tlearn: 0.4035210\ttotal: 7.35s\tremaining: 3.87s\n",
      "655:\tlearn: 0.4034860\ttotal: 7.36s\tremaining: 3.86s\n",
      "656:\tlearn: 0.4034640\ttotal: 7.37s\tremaining: 3.85s\n",
      "657:\tlearn: 0.4033944\ttotal: 7.38s\tremaining: 3.84s\n",
      "658:\tlearn: 0.4033396\ttotal: 7.39s\tremaining: 3.83s\n",
      "659:\tlearn: 0.4032843\ttotal: 7.41s\tremaining: 3.81s\n",
      "660:\tlearn: 0.4032376\ttotal: 7.42s\tremaining: 3.8s\n",
      "661:\tlearn: 0.4031807\ttotal: 7.43s\tremaining: 3.79s\n",
      "662:\tlearn: 0.4031360\ttotal: 7.44s\tremaining: 3.78s\n",
      "663:\tlearn: 0.4031141\ttotal: 7.45s\tremaining: 3.77s\n",
      "664:\tlearn: 0.4029854\ttotal: 7.46s\tremaining: 3.76s\n",
      "665:\tlearn: 0.4029519\ttotal: 7.47s\tremaining: 3.74s\n",
      "666:\tlearn: 0.4029102\ttotal: 7.48s\tremaining: 3.73s\n",
      "667:\tlearn: 0.4028927\ttotal: 7.49s\tremaining: 3.72s\n",
      "668:\tlearn: 0.4028442\ttotal: 7.5s\tremaining: 3.71s\n",
      "669:\tlearn: 0.4027731\ttotal: 7.51s\tremaining: 3.7s\n",
      "670:\tlearn: 0.4027076\ttotal: 7.52s\tremaining: 3.69s\n",
      "671:\tlearn: 0.4026358\ttotal: 7.53s\tremaining: 3.67s\n",
      "672:\tlearn: 0.4025526\ttotal: 7.54s\tremaining: 3.66s\n",
      "673:\tlearn: 0.4025072\ttotal: 7.55s\tremaining: 3.65s\n",
      "674:\tlearn: 0.4024062\ttotal: 7.56s\tremaining: 3.64s\n",
      "675:\tlearn: 0.4023863\ttotal: 7.57s\tremaining: 3.63s\n",
      "676:\tlearn: 0.4023775\ttotal: 7.58s\tremaining: 3.62s\n",
      "677:\tlearn: 0.4022330\ttotal: 7.59s\tremaining: 3.61s\n",
      "678:\tlearn: 0.4022056\ttotal: 7.6s\tremaining: 3.59s\n",
      "679:\tlearn: 0.4021278\ttotal: 7.62s\tremaining: 3.58s\n",
      "680:\tlearn: 0.4020447\ttotal: 7.63s\tremaining: 3.57s\n",
      "681:\tlearn: 0.4019971\ttotal: 7.63s\tremaining: 3.56s\n",
      "682:\tlearn: 0.4019865\ttotal: 7.64s\tremaining: 3.55s\n",
      "683:\tlearn: 0.4019313\ttotal: 7.65s\tremaining: 3.54s\n",
      "684:\tlearn: 0.4018870\ttotal: 7.67s\tremaining: 3.52s\n",
      "685:\tlearn: 0.4018691\ttotal: 7.68s\tremaining: 3.51s\n",
      "686:\tlearn: 0.4018532\ttotal: 7.69s\tremaining: 3.5s\n",
      "687:\tlearn: 0.4018156\ttotal: 7.7s\tremaining: 3.49s\n",
      "688:\tlearn: 0.4018084\ttotal: 7.7s\tremaining: 3.48s\n",
      "689:\tlearn: 0.4017545\ttotal: 7.71s\tremaining: 3.47s\n",
      "690:\tlearn: 0.4017224\ttotal: 7.72s\tremaining: 3.45s\n",
      "691:\tlearn: 0.4016687\ttotal: 7.74s\tremaining: 3.44s\n",
      "692:\tlearn: 0.4016456\ttotal: 7.75s\tremaining: 3.43s\n",
      "693:\tlearn: 0.4016186\ttotal: 7.75s\tremaining: 3.42s\n",
      "694:\tlearn: 0.4015810\ttotal: 7.76s\tremaining: 3.41s\n",
      "695:\tlearn: 0.4015378\ttotal: 7.78s\tremaining: 3.4s\n",
      "696:\tlearn: 0.4015145\ttotal: 7.79s\tremaining: 3.38s\n",
      "697:\tlearn: 0.4014650\ttotal: 7.8s\tremaining: 3.37s\n",
      "698:\tlearn: 0.4014501\ttotal: 7.81s\tremaining: 3.36s\n",
      "699:\tlearn: 0.4013977\ttotal: 7.82s\tremaining: 3.35s\n",
      "700:\tlearn: 0.4012966\ttotal: 7.83s\tremaining: 3.34s\n",
      "701:\tlearn: 0.4012745\ttotal: 7.84s\tremaining: 3.33s\n",
      "702:\tlearn: 0.4012541\ttotal: 7.85s\tremaining: 3.31s\n",
      "703:\tlearn: 0.4011990\ttotal: 7.86s\tremaining: 3.3s\n",
      "704:\tlearn: 0.4011464\ttotal: 7.87s\tremaining: 3.29s\n",
      "705:\tlearn: 0.4010859\ttotal: 7.88s\tremaining: 3.28s\n",
      "706:\tlearn: 0.4010711\ttotal: 7.89s\tremaining: 3.27s\n",
      "707:\tlearn: 0.4010096\ttotal: 7.9s\tremaining: 3.26s\n",
      "708:\tlearn: 0.4009758\ttotal: 7.91s\tremaining: 3.25s\n",
      "709:\tlearn: 0.4009633\ttotal: 7.92s\tremaining: 3.23s\n",
      "710:\tlearn: 0.4009185\ttotal: 7.92s\tremaining: 3.22s\n",
      "711:\tlearn: 0.4007749\ttotal: 7.93s\tremaining: 3.21s\n",
      "712:\tlearn: 0.4007430\ttotal: 7.95s\tremaining: 3.2s\n",
      "713:\tlearn: 0.4006885\ttotal: 7.96s\tremaining: 3.19s\n",
      "714:\tlearn: 0.4006262\ttotal: 7.97s\tremaining: 3.17s\n",
      "715:\tlearn: 0.4005594\ttotal: 7.98s\tremaining: 3.16s\n",
      "716:\tlearn: 0.4005177\ttotal: 7.99s\tremaining: 3.15s\n",
      "717:\tlearn: 0.4005143\ttotal: 7.99s\tremaining: 3.14s\n",
      "718:\tlearn: 0.4004720\ttotal: 8s\tremaining: 3.13s\n",
      "719:\tlearn: 0.4004628\ttotal: 8.01s\tremaining: 3.12s\n",
      "720:\tlearn: 0.4004373\ttotal: 8.02s\tremaining: 3.1s\n",
      "721:\tlearn: 0.4004078\ttotal: 8.03s\tremaining: 3.09s\n",
      "722:\tlearn: 0.4003798\ttotal: 8.04s\tremaining: 3.08s\n",
      "723:\tlearn: 0.4003534\ttotal: 8.05s\tremaining: 3.07s\n",
      "724:\tlearn: 0.4003379\ttotal: 8.06s\tremaining: 3.06s\n",
      "725:\tlearn: 0.4002781\ttotal: 8.07s\tremaining: 3.05s\n",
      "726:\tlearn: 0.4002642\ttotal: 8.08s\tremaining: 3.04s\n",
      "727:\tlearn: 0.4002411\ttotal: 8.09s\tremaining: 3.02s\n",
      "728:\tlearn: 0.4002355\ttotal: 8.1s\tremaining: 3.01s\n",
      "729:\tlearn: 0.4002280\ttotal: 8.11s\tremaining: 3s\n",
      "730:\tlearn: 0.4001699\ttotal: 8.12s\tremaining: 2.99s\n",
      "731:\tlearn: 0.4001468\ttotal: 8.13s\tremaining: 2.98s\n",
      "732:\tlearn: 0.4000855\ttotal: 8.14s\tremaining: 2.97s\n",
      "733:\tlearn: 0.3999722\ttotal: 8.16s\tremaining: 2.96s\n",
      "734:\tlearn: 0.3999203\ttotal: 8.17s\tremaining: 2.94s\n",
      "735:\tlearn: 0.3998366\ttotal: 8.18s\tremaining: 2.93s\n",
      "736:\tlearn: 0.3997855\ttotal: 8.19s\tremaining: 2.92s\n",
      "737:\tlearn: 0.3997166\ttotal: 8.2s\tremaining: 2.91s\n",
      "738:\tlearn: 0.3997035\ttotal: 8.21s\tremaining: 2.9s\n",
      "739:\tlearn: 0.3996821\ttotal: 8.21s\tremaining: 2.89s\n",
      "740:\tlearn: 0.3996643\ttotal: 8.22s\tremaining: 2.88s\n",
      "741:\tlearn: 0.3996207\ttotal: 8.24s\tremaining: 2.86s\n",
      "742:\tlearn: 0.3996064\ttotal: 8.24s\tremaining: 2.85s\n",
      "743:\tlearn: 0.3995870\ttotal: 8.26s\tremaining: 2.84s\n",
      "744:\tlearn: 0.3995426\ttotal: 8.27s\tremaining: 2.83s\n",
      "745:\tlearn: 0.3994482\ttotal: 8.28s\tremaining: 2.82s\n",
      "746:\tlearn: 0.3993134\ttotal: 8.29s\tremaining: 2.81s\n",
      "747:\tlearn: 0.3992622\ttotal: 8.3s\tremaining: 2.8s\n",
      "748:\tlearn: 0.3992456\ttotal: 8.31s\tremaining: 2.78s\n",
      "749:\tlearn: 0.3991514\ttotal: 8.32s\tremaining: 2.77s\n",
      "750:\tlearn: 0.3991017\ttotal: 8.33s\tremaining: 2.76s\n",
      "751:\tlearn: 0.3990626\ttotal: 8.34s\tremaining: 2.75s\n",
      "752:\tlearn: 0.3990176\ttotal: 8.35s\tremaining: 2.74s\n",
      "753:\tlearn: 0.3989844\ttotal: 8.36s\tremaining: 2.73s\n",
      "754:\tlearn: 0.3989319\ttotal: 8.37s\tremaining: 2.72s\n",
      "755:\tlearn: 0.3989096\ttotal: 8.38s\tremaining: 2.7s\n",
      "756:\tlearn: 0.3988497\ttotal: 8.39s\tremaining: 2.69s\n",
      "757:\tlearn: 0.3988153\ttotal: 8.4s\tremaining: 2.68s\n",
      "758:\tlearn: 0.3987283\ttotal: 8.41s\tremaining: 2.67s\n",
      "759:\tlearn: 0.3986921\ttotal: 8.42s\tremaining: 2.66s\n",
      "760:\tlearn: 0.3986509\ttotal: 8.43s\tremaining: 2.65s\n",
      "761:\tlearn: 0.3985613\ttotal: 8.44s\tremaining: 2.63s\n",
      "762:\tlearn: 0.3985290\ttotal: 8.45s\tremaining: 2.62s\n",
      "763:\tlearn: 0.3984167\ttotal: 8.46s\tremaining: 2.61s\n",
      "764:\tlearn: 0.3983955\ttotal: 8.47s\tremaining: 2.6s\n",
      "765:\tlearn: 0.3983242\ttotal: 8.48s\tremaining: 2.59s\n",
      "766:\tlearn: 0.3982935\ttotal: 8.49s\tremaining: 2.58s\n",
      "767:\tlearn: 0.3982874\ttotal: 8.5s\tremaining: 2.57s\n",
      "768:\tlearn: 0.3982198\ttotal: 8.51s\tremaining: 2.56s\n",
      "769:\tlearn: 0.3981740\ttotal: 8.52s\tremaining: 2.54s\n",
      "770:\tlearn: 0.3981525\ttotal: 8.53s\tremaining: 2.53s\n",
      "771:\tlearn: 0.3981286\ttotal: 8.54s\tremaining: 2.52s\n",
      "772:\tlearn: 0.3980931\ttotal: 8.55s\tremaining: 2.51s\n",
      "773:\tlearn: 0.3980388\ttotal: 8.56s\tremaining: 2.5s\n",
      "774:\tlearn: 0.3979260\ttotal: 8.57s\tremaining: 2.49s\n",
      "775:\tlearn: 0.3979040\ttotal: 8.58s\tremaining: 2.48s\n",
      "776:\tlearn: 0.3978866\ttotal: 8.59s\tremaining: 2.46s\n",
      "777:\tlearn: 0.3978532\ttotal: 8.6s\tremaining: 2.45s\n",
      "778:\tlearn: 0.3978320\ttotal: 8.61s\tremaining: 2.44s\n",
      "779:\tlearn: 0.3977963\ttotal: 8.62s\tremaining: 2.43s\n",
      "780:\tlearn: 0.3977792\ttotal: 8.63s\tremaining: 2.42s\n",
      "781:\tlearn: 0.3977331\ttotal: 8.64s\tremaining: 2.41s\n",
      "782:\tlearn: 0.3976943\ttotal: 8.65s\tremaining: 2.4s\n",
      "783:\tlearn: 0.3976868\ttotal: 8.65s\tremaining: 2.38s\n",
      "784:\tlearn: 0.3976793\ttotal: 8.66s\tremaining: 2.37s\n",
      "785:\tlearn: 0.3976407\ttotal: 8.67s\tremaining: 2.36s\n",
      "786:\tlearn: 0.3975788\ttotal: 8.68s\tremaining: 2.35s\n",
      "787:\tlearn: 0.3975574\ttotal: 8.69s\tremaining: 2.34s\n",
      "788:\tlearn: 0.3975403\ttotal: 8.7s\tremaining: 2.33s\n",
      "789:\tlearn: 0.3974950\ttotal: 8.71s\tremaining: 2.32s\n",
      "790:\tlearn: 0.3974453\ttotal: 8.72s\tremaining: 2.31s\n",
      "791:\tlearn: 0.3974039\ttotal: 8.73s\tremaining: 2.29s\n",
      "792:\tlearn: 0.3973405\ttotal: 8.75s\tremaining: 2.28s\n",
      "793:\tlearn: 0.3972886\ttotal: 8.76s\tremaining: 2.27s\n",
      "794:\tlearn: 0.3972476\ttotal: 8.77s\tremaining: 2.26s\n",
      "795:\tlearn: 0.3971741\ttotal: 8.78s\tremaining: 2.25s\n",
      "796:\tlearn: 0.3971402\ttotal: 8.79s\tremaining: 2.24s\n",
      "797:\tlearn: 0.3970718\ttotal: 8.8s\tremaining: 2.23s\n",
      "798:\tlearn: 0.3970581\ttotal: 8.81s\tremaining: 2.21s\n",
      "799:\tlearn: 0.3970115\ttotal: 8.82s\tremaining: 2.21s\n",
      "800:\tlearn: 0.3969517\ttotal: 8.83s\tremaining: 2.19s\n",
      "801:\tlearn: 0.3969214\ttotal: 8.84s\tremaining: 2.18s\n",
      "802:\tlearn: 0.3968365\ttotal: 8.85s\tremaining: 2.17s\n",
      "803:\tlearn: 0.3967907\ttotal: 8.86s\tremaining: 2.16s\n",
      "804:\tlearn: 0.3967559\ttotal: 8.87s\tremaining: 2.15s\n",
      "805:\tlearn: 0.3966847\ttotal: 8.88s\tremaining: 2.14s\n",
      "806:\tlearn: 0.3966627\ttotal: 8.89s\tremaining: 2.13s\n",
      "807:\tlearn: 0.3966061\ttotal: 8.9s\tremaining: 2.12s\n",
      "808:\tlearn: 0.3965862\ttotal: 8.91s\tremaining: 2.1s\n",
      "809:\tlearn: 0.3965515\ttotal: 8.92s\tremaining: 2.09s\n",
      "810:\tlearn: 0.3965449\ttotal: 8.93s\tremaining: 2.08s\n",
      "811:\tlearn: 0.3964807\ttotal: 8.94s\tremaining: 2.07s\n",
      "812:\tlearn: 0.3964408\ttotal: 8.95s\tremaining: 2.06s\n",
      "813:\tlearn: 0.3964010\ttotal: 8.96s\tremaining: 2.05s\n",
      "814:\tlearn: 0.3963096\ttotal: 8.97s\tremaining: 2.04s\n",
      "815:\tlearn: 0.3962702\ttotal: 8.98s\tremaining: 2.02s\n",
      "816:\tlearn: 0.3962302\ttotal: 8.99s\tremaining: 2.01s\n",
      "817:\tlearn: 0.3962101\ttotal: 9s\tremaining: 2s\n",
      "818:\tlearn: 0.3961817\ttotal: 9.01s\tremaining: 1.99s\n",
      "819:\tlearn: 0.3961561\ttotal: 9.02s\tremaining: 1.98s\n",
      "820:\tlearn: 0.3960821\ttotal: 9.03s\tremaining: 1.97s\n",
      "821:\tlearn: 0.3960696\ttotal: 9.04s\tremaining: 1.96s\n",
      "822:\tlearn: 0.3960184\ttotal: 9.05s\tremaining: 1.95s\n",
      "823:\tlearn: 0.3959669\ttotal: 9.06s\tremaining: 1.94s\n",
      "824:\tlearn: 0.3959358\ttotal: 9.07s\tremaining: 1.92s\n",
      "825:\tlearn: 0.3958964\ttotal: 9.09s\tremaining: 1.91s\n",
      "826:\tlearn: 0.3958255\ttotal: 9.1s\tremaining: 1.9s\n",
      "827:\tlearn: 0.3957820\ttotal: 9.11s\tremaining: 1.89s\n",
      "828:\tlearn: 0.3957537\ttotal: 9.12s\tremaining: 1.88s\n",
      "829:\tlearn: 0.3956628\ttotal: 9.13s\tremaining: 1.87s\n",
      "830:\tlearn: 0.3955611\ttotal: 9.14s\tremaining: 1.86s\n",
      "831:\tlearn: 0.3955347\ttotal: 9.15s\tremaining: 1.85s\n",
      "832:\tlearn: 0.3954979\ttotal: 9.16s\tremaining: 1.84s\n",
      "833:\tlearn: 0.3954910\ttotal: 9.17s\tremaining: 1.82s\n",
      "834:\tlearn: 0.3954706\ttotal: 9.18s\tremaining: 1.81s\n",
      "835:\tlearn: 0.3954138\ttotal: 9.2s\tremaining: 1.8s\n",
      "836:\tlearn: 0.3953870\ttotal: 9.21s\tremaining: 1.79s\n",
      "837:\tlearn: 0.3953347\ttotal: 9.23s\tremaining: 1.78s\n",
      "838:\tlearn: 0.3953082\ttotal: 9.25s\tremaining: 1.77s\n",
      "839:\tlearn: 0.3952832\ttotal: 9.26s\tremaining: 1.76s\n",
      "840:\tlearn: 0.3952496\ttotal: 9.27s\tremaining: 1.75s\n",
      "841:\tlearn: 0.3952150\ttotal: 9.28s\tremaining: 1.74s\n",
      "842:\tlearn: 0.3951758\ttotal: 9.3s\tremaining: 1.73s\n",
      "843:\tlearn: 0.3951105\ttotal: 9.31s\tremaining: 1.72s\n",
      "844:\tlearn: 0.3951010\ttotal: 9.32s\tremaining: 1.71s\n",
      "845:\tlearn: 0.3950041\ttotal: 9.33s\tremaining: 1.7s\n",
      "846:\tlearn: 0.3948775\ttotal: 9.34s\tremaining: 1.69s\n",
      "847:\tlearn: 0.3948225\ttotal: 9.35s\tremaining: 1.68s\n",
      "848:\tlearn: 0.3947155\ttotal: 9.36s\tremaining: 1.67s\n",
      "849:\tlearn: 0.3946941\ttotal: 9.37s\tremaining: 1.65s\n",
      "850:\tlearn: 0.3946426\ttotal: 9.38s\tremaining: 1.64s\n",
      "851:\tlearn: 0.3946012\ttotal: 9.39s\tremaining: 1.63s\n",
      "852:\tlearn: 0.3945893\ttotal: 9.4s\tremaining: 1.62s\n",
      "853:\tlearn: 0.3945583\ttotal: 9.41s\tremaining: 1.61s\n",
      "854:\tlearn: 0.3944826\ttotal: 9.42s\tremaining: 1.6s\n",
      "855:\tlearn: 0.3944535\ttotal: 9.43s\tremaining: 1.59s\n",
      "856:\tlearn: 0.3944062\ttotal: 9.44s\tremaining: 1.57s\n",
      "857:\tlearn: 0.3943752\ttotal: 9.45s\tremaining: 1.56s\n",
      "858:\tlearn: 0.3943224\ttotal: 9.46s\tremaining: 1.55s\n",
      "859:\tlearn: 0.3942906\ttotal: 9.47s\tremaining: 1.54s\n",
      "860:\tlearn: 0.3942225\ttotal: 9.48s\tremaining: 1.53s\n",
      "861:\tlearn: 0.3942184\ttotal: 9.49s\tremaining: 1.52s\n",
      "862:\tlearn: 0.3941954\ttotal: 9.5s\tremaining: 1.51s\n",
      "863:\tlearn: 0.3941847\ttotal: 9.51s\tremaining: 1.5s\n",
      "864:\tlearn: 0.3941144\ttotal: 9.52s\tremaining: 1.49s\n",
      "865:\tlearn: 0.3940103\ttotal: 9.53s\tremaining: 1.47s\n",
      "866:\tlearn: 0.3939582\ttotal: 9.54s\tremaining: 1.46s\n",
      "867:\tlearn: 0.3939360\ttotal: 9.55s\tremaining: 1.45s\n",
      "868:\tlearn: 0.3938690\ttotal: 9.56s\tremaining: 1.44s\n",
      "869:\tlearn: 0.3938595\ttotal: 9.57s\tremaining: 1.43s\n",
      "870:\tlearn: 0.3938171\ttotal: 9.58s\tremaining: 1.42s\n",
      "871:\tlearn: 0.3938148\ttotal: 9.59s\tremaining: 1.41s\n",
      "872:\tlearn: 0.3937618\ttotal: 9.6s\tremaining: 1.4s\n",
      "873:\tlearn: 0.3937157\ttotal: 9.61s\tremaining: 1.39s\n",
      "874:\tlearn: 0.3936916\ttotal: 9.62s\tremaining: 1.37s\n",
      "875:\tlearn: 0.3936483\ttotal: 9.63s\tremaining: 1.36s\n",
      "876:\tlearn: 0.3936105\ttotal: 9.64s\tremaining: 1.35s\n",
      "877:\tlearn: 0.3936020\ttotal: 9.65s\tremaining: 1.34s\n",
      "878:\tlearn: 0.3935221\ttotal: 9.66s\tremaining: 1.33s\n",
      "879:\tlearn: 0.3934761\ttotal: 9.67s\tremaining: 1.32s\n",
      "880:\tlearn: 0.3934374\ttotal: 9.68s\tremaining: 1.31s\n",
      "881:\tlearn: 0.3934299\ttotal: 9.69s\tremaining: 1.29s\n",
      "882:\tlearn: 0.3934084\ttotal: 9.7s\tremaining: 1.28s\n",
      "883:\tlearn: 0.3933940\ttotal: 9.71s\tremaining: 1.27s\n",
      "884:\tlearn: 0.3933801\ttotal: 9.71s\tremaining: 1.26s\n",
      "885:\tlearn: 0.3933405\ttotal: 9.73s\tremaining: 1.25s\n",
      "886:\tlearn: 0.3932991\ttotal: 9.74s\tremaining: 1.24s\n",
      "887:\tlearn: 0.3932462\ttotal: 9.75s\tremaining: 1.23s\n",
      "888:\tlearn: 0.3931981\ttotal: 9.76s\tremaining: 1.22s\n",
      "889:\tlearn: 0.3931818\ttotal: 9.77s\tremaining: 1.21s\n",
      "890:\tlearn: 0.3931721\ttotal: 9.78s\tremaining: 1.2s\n",
      "891:\tlearn: 0.3930943\ttotal: 9.79s\tremaining: 1.19s\n",
      "892:\tlearn: 0.3930588\ttotal: 9.8s\tremaining: 1.17s\n",
      "893:\tlearn: 0.3930255\ttotal: 9.81s\tremaining: 1.16s\n",
      "894:\tlearn: 0.3929899\ttotal: 9.82s\tremaining: 1.15s\n",
      "895:\tlearn: 0.3929461\ttotal: 9.83s\tremaining: 1.14s\n",
      "896:\tlearn: 0.3928997\ttotal: 9.84s\tremaining: 1.13s\n",
      "897:\tlearn: 0.3928939\ttotal: 9.85s\tremaining: 1.12s\n",
      "898:\tlearn: 0.3928353\ttotal: 9.86s\tremaining: 1.11s\n",
      "899:\tlearn: 0.3928004\ttotal: 9.87s\tremaining: 1.1s\n",
      "900:\tlearn: 0.3927699\ttotal: 9.88s\tremaining: 1.08s\n",
      "901:\tlearn: 0.3926943\ttotal: 9.89s\tremaining: 1.07s\n",
      "902:\tlearn: 0.3926578\ttotal: 9.9s\tremaining: 1.06s\n",
      "903:\tlearn: 0.3926271\ttotal: 9.91s\tremaining: 1.05s\n",
      "904:\tlearn: 0.3925585\ttotal: 9.92s\tremaining: 1.04s\n",
      "905:\tlearn: 0.3925316\ttotal: 9.93s\tremaining: 1.03s\n",
      "906:\tlearn: 0.3924358\ttotal: 9.94s\tremaining: 1.02s\n",
      "907:\tlearn: 0.3924202\ttotal: 9.95s\tremaining: 1.01s\n",
      "908:\tlearn: 0.3923273\ttotal: 9.96s\tremaining: 998ms\n",
      "909:\tlearn: 0.3922806\ttotal: 9.97s\tremaining: 986ms\n",
      "910:\tlearn: 0.3921971\ttotal: 9.98s\tremaining: 975ms\n",
      "911:\tlearn: 0.3921254\ttotal: 10s\tremaining: 965ms\n",
      "912:\tlearn: 0.3921217\ttotal: 10s\tremaining: 953ms\n",
      "913:\tlearn: 0.3920756\ttotal: 10s\tremaining: 942ms\n",
      "914:\tlearn: 0.3920301\ttotal: 10s\tremaining: 932ms\n",
      "915:\tlearn: 0.3919804\ttotal: 10s\tremaining: 921ms\n",
      "916:\tlearn: 0.3919084\ttotal: 10.1s\tremaining: 910ms\n",
      "917:\tlearn: 0.3918903\ttotal: 10.1s\tremaining: 899ms\n",
      "918:\tlearn: 0.3918487\ttotal: 10.1s\tremaining: 888ms\n",
      "919:\tlearn: 0.3918337\ttotal: 10.1s\tremaining: 877ms\n",
      "920:\tlearn: 0.3917567\ttotal: 10.1s\tremaining: 866ms\n",
      "921:\tlearn: 0.3916960\ttotal: 10.1s\tremaining: 855ms\n",
      "922:\tlearn: 0.3916888\ttotal: 10.1s\tremaining: 844ms\n",
      "923:\tlearn: 0.3916378\ttotal: 10.1s\tremaining: 833ms\n",
      "924:\tlearn: 0.3915829\ttotal: 10.1s\tremaining: 822ms\n",
      "925:\tlearn: 0.3915018\ttotal: 10.1s\tremaining: 811ms\n",
      "926:\tlearn: 0.3914088\ttotal: 10.2s\tremaining: 800ms\n",
      "927:\tlearn: 0.3913789\ttotal: 10.2s\tremaining: 789ms\n",
      "928:\tlearn: 0.3913690\ttotal: 10.2s\tremaining: 778ms\n",
      "929:\tlearn: 0.3913628\ttotal: 10.2s\tremaining: 767ms\n",
      "930:\tlearn: 0.3912963\ttotal: 10.2s\tremaining: 756ms\n",
      "931:\tlearn: 0.3912800\ttotal: 10.2s\tremaining: 745ms\n",
      "932:\tlearn: 0.3912238\ttotal: 10.2s\tremaining: 734ms\n",
      "933:\tlearn: 0.3912011\ttotal: 10.2s\tremaining: 723ms\n",
      "934:\tlearn: 0.3911224\ttotal: 10.2s\tremaining: 712ms\n",
      "935:\tlearn: 0.3910775\ttotal: 10.2s\tremaining: 701ms\n",
      "936:\tlearn: 0.3910574\ttotal: 10.3s\tremaining: 690ms\n",
      "937:\tlearn: 0.3910088\ttotal: 10.3s\tremaining: 679ms\n",
      "938:\tlearn: 0.3909787\ttotal: 10.3s\tremaining: 668ms\n",
      "939:\tlearn: 0.3909358\ttotal: 10.3s\tremaining: 657ms\n",
      "940:\tlearn: 0.3908793\ttotal: 10.3s\tremaining: 646ms\n",
      "941:\tlearn: 0.3908368\ttotal: 10.3s\tremaining: 635ms\n",
      "942:\tlearn: 0.3908120\ttotal: 10.3s\tremaining: 624ms\n",
      "943:\tlearn: 0.3907840\ttotal: 10.3s\tremaining: 613ms\n",
      "944:\tlearn: 0.3907591\ttotal: 10.3s\tremaining: 602ms\n",
      "945:\tlearn: 0.3907174\ttotal: 10.4s\tremaining: 591ms\n",
      "946:\tlearn: 0.3906544\ttotal: 10.4s\tremaining: 580ms\n",
      "947:\tlearn: 0.3906403\ttotal: 10.4s\tremaining: 569ms\n",
      "948:\tlearn: 0.3905068\ttotal: 10.4s\tremaining: 558ms\n",
      "949:\tlearn: 0.3904084\ttotal: 10.4s\tremaining: 547ms\n",
      "950:\tlearn: 0.3903285\ttotal: 10.4s\tremaining: 536ms\n",
      "951:\tlearn: 0.3903143\ttotal: 10.4s\tremaining: 525ms\n",
      "952:\tlearn: 0.3902532\ttotal: 10.4s\tremaining: 515ms\n",
      "953:\tlearn: 0.3902248\ttotal: 10.4s\tremaining: 504ms\n",
      "954:\tlearn: 0.3902126\ttotal: 10.5s\tremaining: 493ms\n",
      "955:\tlearn: 0.3901748\ttotal: 10.5s\tremaining: 481ms\n",
      "956:\tlearn: 0.3901268\ttotal: 10.5s\tremaining: 471ms\n",
      "957:\tlearn: 0.3900902\ttotal: 10.5s\tremaining: 460ms\n",
      "958:\tlearn: 0.3900840\ttotal: 10.5s\tremaining: 448ms\n",
      "959:\tlearn: 0.3900544\ttotal: 10.5s\tremaining: 437ms\n",
      "960:\tlearn: 0.3900177\ttotal: 10.5s\tremaining: 427ms\n",
      "961:\tlearn: 0.3899169\ttotal: 10.5s\tremaining: 416ms\n",
      "962:\tlearn: 0.3898734\ttotal: 10.5s\tremaining: 405ms\n",
      "963:\tlearn: 0.3898432\ttotal: 10.5s\tremaining: 394ms\n",
      "964:\tlearn: 0.3898147\ttotal: 10.6s\tremaining: 383ms\n",
      "965:\tlearn: 0.3897935\ttotal: 10.6s\tremaining: 372ms\n",
      "966:\tlearn: 0.3897716\ttotal: 10.6s\tremaining: 361ms\n",
      "967:\tlearn: 0.3897238\ttotal: 10.6s\tremaining: 350ms\n",
      "968:\tlearn: 0.3896930\ttotal: 10.6s\tremaining: 339ms\n",
      "969:\tlearn: 0.3896725\ttotal: 10.6s\tremaining: 328ms\n",
      "970:\tlearn: 0.3895975\ttotal: 10.6s\tremaining: 317ms\n",
      "971:\tlearn: 0.3895320\ttotal: 10.6s\tremaining: 306ms\n",
      "972:\tlearn: 0.3894645\ttotal: 10.6s\tremaining: 295ms\n",
      "973:\tlearn: 0.3894169\ttotal: 10.6s\tremaining: 284ms\n",
      "974:\tlearn: 0.3893974\ttotal: 10.7s\tremaining: 273ms\n",
      "975:\tlearn: 0.3893708\ttotal: 10.7s\tremaining: 262ms\n",
      "976:\tlearn: 0.3893215\ttotal: 10.7s\tremaining: 251ms\n",
      "977:\tlearn: 0.3892963\ttotal: 10.7s\tremaining: 240ms\n",
      "978:\tlearn: 0.3892367\ttotal: 10.7s\tremaining: 229ms\n",
      "979:\tlearn: 0.3892239\ttotal: 10.7s\tremaining: 219ms\n",
      "980:\tlearn: 0.3891944\ttotal: 10.7s\tremaining: 208ms\n",
      "981:\tlearn: 0.3891886\ttotal: 10.7s\tremaining: 197ms\n",
      "982:\tlearn: 0.3891484\ttotal: 10.7s\tremaining: 186ms\n",
      "983:\tlearn: 0.3891271\ttotal: 10.7s\tremaining: 175ms\n",
      "984:\tlearn: 0.3890067\ttotal: 10.8s\tremaining: 164ms\n",
      "985:\tlearn: 0.3890016\ttotal: 10.8s\tremaining: 153ms\n",
      "986:\tlearn: 0.3889824\ttotal: 10.8s\tremaining: 142ms\n",
      "987:\tlearn: 0.3889192\ttotal: 10.8s\tremaining: 131ms\n",
      "988:\tlearn: 0.3889140\ttotal: 10.8s\tremaining: 120ms\n",
      "989:\tlearn: 0.3888822\ttotal: 10.8s\tremaining: 109ms\n",
      "990:\tlearn: 0.3888559\ttotal: 10.8s\tremaining: 98.2ms\n",
      "991:\tlearn: 0.3887950\ttotal: 10.8s\tremaining: 87.3ms\n",
      "992:\tlearn: 0.3887753\ttotal: 10.8s\tremaining: 76.4ms\n",
      "993:\tlearn: 0.3887455\ttotal: 10.8s\tremaining: 65.5ms\n",
      "994:\tlearn: 0.3886668\ttotal: 10.9s\tremaining: 54.6ms\n",
      "995:\tlearn: 0.3886287\ttotal: 10.9s\tremaining: 43.6ms\n",
      "996:\tlearn: 0.3886057\ttotal: 10.9s\tremaining: 32.7ms\n",
      "997:\tlearn: 0.3885825\ttotal: 10.9s\tremaining: 21.8ms\n",
      "998:\tlearn: 0.3885437\ttotal: 10.9s\tremaining: 10.9ms\n",
      "999:\tlearn: 0.3885355\ttotal: 10.9s\tremaining: 0us\n",
      "Score: 0.8314719276251283\n"
     ]
    }
   ],
   "source": [
    "scores,oof = cross_validation(cat, X, y, encoder)"
   ]
  },
  {
   "cell_type": "code",
   "execution_count": 10,
   "metadata": {},
   "outputs": [],
   "source": [
    "for fold in oof:\n",
    "    fold['true'] = fold['true'].replace(encoder)\n",
    "\n",
    "save_oof(oof)"
   ]
  },
  {
   "cell_type": "code",
   "execution_count": 27,
   "metadata": {},
   "outputs": [],
   "source": [
    "# Função objetivo para a otimização\n",
    "def objective(trial: Trial, X, y):\n",
    "    params = {\n",
    "        'iterations': trial.suggest_int('iterations', 100, 2000),\n",
    "        'learning_rate': trial.suggest_loguniform('learning_rate', 1e-5, 0.1),\n",
    "        'depth': trial.suggest_int('depth', 4, 12),\n",
    "        'l2_leaf_reg': trial.suggest_loguniform('l2_leaf_reg', 1e-5, 100),\n",
    "        'bootstrap_type': trial.suggest_categorical('bootstrap_type', ['Bayesian', 'Bernoulli', 'MVS']),\n",
    "        'od_type': trial.suggest_categorical('od_type', ['IncToDec', 'Iter']),\n",
    "        'random_strength': trial.suggest_int('random_strength', 0, 100),\n",
    "        'border_count': trial.suggest_int('border_count', 1, 255),\n",
    "        'boosting_type': trial.suggest_categorical('boosting_type', ['Plain']),\n",
    "        'task_type': 'CPU',\n",
    "        'loss_function': 'MultiClass'\n",
    "    }\n",
    "\n",
    "    # O CatBoost não suporta bootstrap_type='Bayesian' com boosting_type='Plain'\n",
    "    if params['bootstrap_type'] == 'Bayesian' and params['boosting_type'] == 'Plain':\n",
    "        params['bootstrap_type'] = 'Bernoulli'\n",
    "\n",
    "    cat = Pipeline(steps=[\n",
    "    ('preprocessor', preprocessor),\n",
    "    ('classifier', CatBoostClassifier(**params, verbose=0)),\n",
    "                    ])\n",
    "    \n",
    "    # # Split dos dados\n",
    "    # X_train, X_valid, y_train, y_valid = train_test_split(X, y, test_size=0.3, random_state=42)\n",
    "\n",
    "    # cat.fit(X_train, y_train, classifier__verbose=0)\n",
    "\n",
    "    # # Predição e avaliação\n",
    "    # preds = cat.predict(X_valid)\n",
    "    # accuracy = accuracy_score(y_valid, preds)\n",
    "    # return accuracy\n",
    "\n",
    "    scores,_ = cross_validation(cat, X, y, encoder, k=3)\n",
    "    accuracy = np.mean(scores)\n",
    "\n",
    "\n",
    "    return accuracy"
   ]
  },
  {
   "cell_type": "code",
   "execution_count": 28,
   "metadata": {},
   "outputs": [
    {
     "name": "stderr",
     "output_type": "stream",
     "text": [
      "[I 2024-06-12 13:50:36,871] A new study created in memory with name: no-name-143cc7e9-83ef-4e4c-9c98-f0386c9cd088\n"
     ]
    },
    {
     "name": "stdout",
     "output_type": "stream",
     "text": [
      "Fold 1\n",
      "Fold 2\n",
      "Fold 3\n"
     ]
    },
    {
     "name": "stderr",
     "output_type": "stream",
     "text": [
      "[I 2024-06-12 13:56:15,839] Trial 0 finished with value: 0.7870326771879217 and parameters: {'iterations': 1916, 'learning_rate': 3.17336115255792e-05, 'depth': 10, 'l2_leaf_reg': 0.014461547077601224, 'bootstrap_type': 'Bayesian', 'od_type': 'Iter', 'random_strength': 12, 'border_count': 129, 'boosting_type': 'Plain'}. Best is trial 0 with value: 0.7870326771879217.\n"
     ]
    },
    {
     "name": "stdout",
     "output_type": "stream",
     "text": [
      "Score: 0.7870326771879217\n",
      "Fold 1\n",
      "Fold 2\n",
      "Fold 3\n"
     ]
    },
    {
     "name": "stderr",
     "output_type": "stream",
     "text": [
      "[I 2024-06-12 13:57:11,852] Trial 1 finished with value: 0.8286427406332585 and parameters: {'iterations': 415, 'learning_rate': 0.061555032009411044, 'depth': 9, 'l2_leaf_reg': 0.00269355763891032, 'bootstrap_type': 'MVS', 'od_type': 'IncToDec', 'random_strength': 96, 'border_count': 60, 'boosting_type': 'Plain'}. Best is trial 1 with value: 0.8286427406332585.\n"
     ]
    },
    {
     "name": "stdout",
     "output_type": "stream",
     "text": [
      "Score: 0.8286427406332585\n",
      "Fold 1\n",
      "Fold 2\n",
      "Fold 3\n"
     ]
    },
    {
     "name": "stderr",
     "output_type": "stream",
     "text": [
      "[I 2024-06-12 14:00:07,472] Trial 2 finished with value: 0.7935929123521722 and parameters: {'iterations': 1021, 'learning_rate': 0.0034804735297199836, 'depth': 10, 'l2_leaf_reg': 3.2222614719748666e-05, 'bootstrap_type': 'MVS', 'od_type': 'IncToDec', 'random_strength': 97, 'border_count': 106, 'boosting_type': 'Plain'}. Best is trial 1 with value: 0.8286427406332585.\n"
     ]
    },
    {
     "name": "stdout",
     "output_type": "stream",
     "text": [
      "Score: 0.7935929123521722\n",
      "Fold 1\n",
      "Fold 2\n",
      "Fold 3\n"
     ]
    },
    {
     "name": "stderr",
     "output_type": "stream",
     "text": [
      "[I 2024-06-12 14:00:25,947] Trial 3 finished with value: 0.7359837739920158 and parameters: {'iterations': 335, 'learning_rate': 0.0005312080244211922, 'depth': 8, 'l2_leaf_reg': 1.3443458160865334, 'bootstrap_type': 'MVS', 'od_type': 'Iter', 'random_strength': 65, 'border_count': 34, 'boosting_type': 'Plain'}. Best is trial 1 with value: 0.8286427406332585.\n"
     ]
    },
    {
     "name": "stdout",
     "output_type": "stream",
     "text": [
      "Score: 0.7359837739920158\n",
      "Fold 1\n",
      "Fold 2\n",
      "Fold 3\n"
     ]
    },
    {
     "name": "stderr",
     "output_type": "stream",
     "text": [
      "[I 2024-06-12 14:06:16,489] Trial 4 finished with value: 0.8282597591966973 and parameters: {'iterations': 1990, 'learning_rate': 0.048311297507905124, 'depth': 10, 'l2_leaf_reg': 2.5995620412212182e-05, 'bootstrap_type': 'MVS', 'od_type': 'Iter', 'random_strength': 10, 'border_count': 222, 'boosting_type': 'Plain'}. Best is trial 1 with value: 0.8286427406332585.\n"
     ]
    },
    {
     "name": "stdout",
     "output_type": "stream",
     "text": [
      "Score: 0.8282597591966973\n",
      "Fold 1\n",
      "Fold 2\n",
      "Fold 3\n"
     ]
    },
    {
     "name": "stderr",
     "output_type": "stream",
     "text": [
      "[I 2024-06-12 14:13:18,975] Trial 5 finished with value: 0.737367507250318 and parameters: {'iterations': 819, 'learning_rate': 6.557795467403096e-05, 'depth': 12, 'l2_leaf_reg': 0.014047940690776937, 'bootstrap_type': 'Bernoulli', 'od_type': 'IncToDec', 'random_strength': 88, 'border_count': 85, 'boosting_type': 'Plain'}. Best is trial 1 with value: 0.8286427406332585.\n"
     ]
    },
    {
     "name": "stdout",
     "output_type": "stream",
     "text": [
      "Score: 0.737367507250318\n",
      "Fold 1\n",
      "Fold 2\n",
      "Fold 3\n"
     ]
    },
    {
     "name": "stderr",
     "output_type": "stream",
     "text": [
      "[I 2024-06-12 14:13:46,164] Trial 6 finished with value: 0.7571470985535612 and parameters: {'iterations': 795, 'learning_rate': 0.001259805475302069, 'depth': 7, 'l2_leaf_reg': 59.37202985485291, 'bootstrap_type': 'Bernoulli', 'od_type': 'Iter', 'random_strength': 37, 'border_count': 216, 'boosting_type': 'Plain'}. Best is trial 1 with value: 0.8286427406332585.\n"
     ]
    },
    {
     "name": "stdout",
     "output_type": "stream",
     "text": [
      "Score: 0.7571470985535612\n",
      "Fold 1\n",
      "Fold 2\n",
      "Fold 3\n"
     ]
    },
    {
     "name": "stderr",
     "output_type": "stream",
     "text": [
      "[I 2024-06-12 14:16:47,526] Trial 7 finished with value: 0.7401472544164753 and parameters: {'iterations': 1790, 'learning_rate': 1.1364644458124488e-05, 'depth': 9, 'l2_leaf_reg': 0.02059660217918841, 'bootstrap_type': 'Bayesian', 'od_type': 'Iter', 'random_strength': 41, 'border_count': 83, 'boosting_type': 'Plain'}. Best is trial 1 with value: 0.8286427406332585.\n"
     ]
    },
    {
     "name": "stdout",
     "output_type": "stream",
     "text": [
      "Score: 0.7401472544164753\n",
      "Fold 1\n",
      "Fold 2\n",
      "Fold 3\n"
     ]
    },
    {
     "name": "stderr",
     "output_type": "stream",
     "text": [
      "[I 2024-06-12 14:18:13,232] Trial 8 finished with value: 0.7889105739117205 and parameters: {'iterations': 1927, 'learning_rate': 0.0003964222680536951, 'depth': 6, 'l2_leaf_reg': 69.8030901162289, 'bootstrap_type': 'MVS', 'od_type': 'Iter', 'random_strength': 12, 'border_count': 88, 'boosting_type': 'Plain'}. Best is trial 1 with value: 0.8286427406332585.\n"
     ]
    },
    {
     "name": "stdout",
     "output_type": "stream",
     "text": [
      "Score: 0.7889105739117205\n",
      "Fold 1\n",
      "Fold 2\n",
      "Fold 3\n"
     ]
    },
    {
     "name": "stderr",
     "output_type": "stream",
     "text": [
      "[I 2024-06-12 14:18:46,644] Trial 9 finished with value: 0.734303571044746 and parameters: {'iterations': 887, 'learning_rate': 1.5781118622846013e-05, 'depth': 5, 'l2_leaf_reg': 8.621486803466129e-05, 'bootstrap_type': 'Bernoulli', 'od_type': 'IncToDec', 'random_strength': 67, 'border_count': 233, 'boosting_type': 'Plain'}. Best is trial 1 with value: 0.8286427406332585.\n"
     ]
    },
    {
     "name": "stdout",
     "output_type": "stream",
     "text": [
      "Score: 0.734303571044746\n",
      "Fold 1\n",
      "Fold 2\n",
      "Fold 3\n"
     ]
    },
    {
     "name": "stderr",
     "output_type": "stream",
     "text": [
      "[I 2024-06-12 14:18:52,944] Trial 10 finished with value: 0.8118035033429659 and parameters: {'iterations': 141, 'learning_rate': 0.0956083926719702, 'depth': 4, 'l2_leaf_reg': 0.0008086836173924132, 'bootstrap_type': 'MVS', 'od_type': 'IncToDec', 'random_strength': 76, 'border_count': 7, 'boosting_type': 'Plain'}. Best is trial 1 with value: 0.8286427406332585.\n"
     ]
    },
    {
     "name": "stdout",
     "output_type": "stream",
     "text": [
      "Score: 0.8118035033429659\n",
      "Fold 1\n",
      "Fold 2\n",
      "Fold 3\n"
     ]
    },
    {
     "name": "stderr",
     "output_type": "stream",
     "text": [
      "[I 2024-06-12 14:27:19,406] Trial 11 finished with value: 0.8287909986021242 and parameters: {'iterations': 1465, 'learning_rate': 0.04639575901664374, 'depth': 11, 'l2_leaf_reg': 1.0231729092501043e-05, 'bootstrap_type': 'MVS', 'od_type': 'IncToDec', 'random_strength': 32, 'border_count': 169, 'boosting_type': 'Plain'}. Best is trial 11 with value: 0.8287909986021242.\n"
     ]
    },
    {
     "name": "stdout",
     "output_type": "stream",
     "text": [
      "Score: 0.8287909986021242\n",
      "Fold 1\n",
      "Fold 2\n",
      "Fold 3\n"
     ]
    },
    {
     "name": "stderr",
     "output_type": "stream",
     "text": [
      "[I 2024-06-12 14:42:39,972] Trial 12 finished with value: 0.8292481168075637 and parameters: {'iterations': 1419, 'learning_rate': 0.021015989105259425, 'depth': 12, 'l2_leaf_reg': 0.0007342064305910033, 'bootstrap_type': 'MVS', 'od_type': 'IncToDec', 'random_strength': 32, 'border_count': 158, 'boosting_type': 'Plain'}. Best is trial 12 with value: 0.8292481168075637.\n"
     ]
    },
    {
     "name": "stdout",
     "output_type": "stream",
     "text": [
      "Score: 0.8292481168075637\n",
      "Fold 1\n",
      "Fold 2\n",
      "Fold 3\n"
     ]
    },
    {
     "name": "stderr",
     "output_type": "stream",
     "text": [
      "[I 2024-06-12 14:57:58,321] Trial 13 finished with value: 0.8287415815687117 and parameters: {'iterations': 1428, 'learning_rate': 0.01420081236860783, 'depth': 12, 'l2_leaf_reg': 0.0002914615461217587, 'bootstrap_type': 'MVS', 'od_type': 'IncToDec', 'random_strength': 25, 'border_count': 160, 'boosting_type': 'Plain'}. Best is trial 12 with value: 0.8292481168075637.\n"
     ]
    },
    {
     "name": "stdout",
     "output_type": "stream",
     "text": [
      "Score: 0.8287415815687117\n",
      "Fold 1\n",
      "Fold 2\n",
      "Fold 3\n"
     ]
    },
    {
     "name": "stderr",
     "output_type": "stream",
     "text": [
      "[I 2024-06-12 15:13:08,513] Trial 14 finished with value: 0.8276049696522478 and parameters: {'iterations': 1405, 'learning_rate': 0.014458554112384121, 'depth': 12, 'l2_leaf_reg': 1.1147944908731287e-05, 'bootstrap_type': 'MVS', 'od_type': 'IncToDec', 'random_strength': 52, 'border_count': 178, 'boosting_type': 'Plain'}. Best is trial 12 with value: 0.8292481168075637.\n"
     ]
    },
    {
     "name": "stdout",
     "output_type": "stream",
     "text": [
      "Score: 0.8276049696522478\n",
      "Fold 1\n",
      "Fold 2\n",
      "Fold 3\n"
     ]
    },
    {
     "name": "stderr",
     "output_type": "stream",
     "text": [
      "[I 2024-06-12 15:21:16,424] Trial 15 finished with value: 0.828655089511186 and parameters: {'iterations': 1415, 'learning_rate': 0.016913750835381044, 'depth': 11, 'l2_leaf_reg': 0.00019190752480374428, 'bootstrap_type': 'Bayesian', 'od_type': 'IncToDec', 'random_strength': 27, 'border_count': 174, 'boosting_type': 'Plain'}. Best is trial 12 with value: 0.8292481168075637.\n"
     ]
    },
    {
     "name": "stdout",
     "output_type": "stream",
     "text": [
      "Score: 0.828655089511186\n",
      "Fold 1\n",
      "Fold 2\n",
      "Fold 3\n"
     ]
    },
    {
     "name": "stderr",
     "output_type": "stream",
     "text": [
      "[I 2024-06-12 15:29:53,729] Trial 16 finished with value: 0.8137925967487741 and parameters: {'iterations': 1672, 'learning_rate': 0.004754500081162609, 'depth': 11, 'l2_leaf_reg': 0.0018040174638107621, 'bootstrap_type': 'MVS', 'od_type': 'IncToDec', 'random_strength': 50, 'border_count': 139, 'boosting_type': 'Plain'}. Best is trial 12 with value: 0.8292481168075637.\n"
     ]
    },
    {
     "name": "stdout",
     "output_type": "stream",
     "text": [
      "Score: 0.8137925967487741\n",
      "Fold 1\n",
      "Fold 2\n",
      "Fold 3\n"
     ]
    },
    {
     "name": "stderr",
     "output_type": "stream",
     "text": [
      "[I 2024-06-12 15:36:31,099] Trial 17 finished with value: 0.8292233920351038 and parameters: {'iterations': 1194, 'learning_rate': 0.03225720170027198, 'depth': 11, 'l2_leaf_reg': 1.2319607191490604e-05, 'bootstrap_type': 'MVS', 'od_type': 'IncToDec', 'random_strength': 25, 'border_count': 194, 'boosting_type': 'Plain'}. Best is trial 12 with value: 0.8292481168075637.\n"
     ]
    },
    {
     "name": "stdout",
     "output_type": "stream",
     "text": [
      "Score: 0.8292233920351038\n",
      "Fold 1\n",
      "Fold 2\n",
      "Fold 3\n"
     ]
    },
    {
     "name": "stderr",
     "output_type": "stream",
     "text": [
      "[I 2024-06-12 15:37:36,123] Trial 18 finished with value: 0.8305082687890618 and parameters: {'iterations': 1178, 'learning_rate': 0.027794706972665787, 'depth': 8, 'l2_leaf_reg': 0.00013504186963718355, 'bootstrap_type': 'Bernoulli', 'od_type': 'IncToDec', 'random_strength': 2, 'border_count': 252, 'boosting_type': 'Plain'}. Best is trial 18 with value: 0.8305082687890618.\n"
     ]
    },
    {
     "name": "stdout",
     "output_type": "stream",
     "text": [
      "Score: 0.8305082687890618\n",
      "Fold 1\n",
      "Fold 2\n",
      "Fold 3\n"
     ]
    },
    {
     "name": "stderr",
     "output_type": "stream",
     "text": [
      "[I 2024-06-12 15:38:19,401] Trial 19 finished with value: 0.8225519620204782 and parameters: {'iterations': 1211, 'learning_rate': 0.007769645986694594, 'depth': 7, 'l2_leaf_reg': 0.0004094681636391405, 'bootstrap_type': 'Bernoulli', 'od_type': 'IncToDec', 'random_strength': 2, 'border_count': 252, 'boosting_type': 'Plain'}. Best is trial 18 with value: 0.8305082687890618.\n"
     ]
    },
    {
     "name": "stdout",
     "output_type": "stream",
     "text": [
      "Score: 0.8225519620204782\n",
      "Fold 1\n",
      "Fold 2\n",
      "Fold 3\n"
     ]
    },
    {
     "name": "stderr",
     "output_type": "stream",
     "text": [
      "[I 2024-06-12 15:38:54,012] Trial 20 finished with value: 0.8263448085125785 and parameters: {'iterations': 609, 'learning_rate': 0.02417948009537812, 'depth': 8, 'l2_leaf_reg': 0.00012490362329978848, 'bootstrap_type': 'Bernoulli', 'od_type': 'IncToDec', 'random_strength': 2, 'border_count': 250, 'boosting_type': 'Plain'}. Best is trial 18 with value: 0.8305082687890618.\n"
     ]
    },
    {
     "name": "stdout",
     "output_type": "stream",
     "text": [
      "Score: 0.8263448085125785\n",
      "Fold 1\n",
      "Fold 2\n",
      "Fold 3\n"
     ]
    },
    {
     "name": "stderr",
     "output_type": "stream",
     "text": [
      "[I 2024-06-12 15:40:51,905] Trial 21 finished with value: 0.8301129343533962 and parameters: {'iterations': 1163, 'learning_rate': 0.03173178217536283, 'depth': 9, 'l2_leaf_reg': 7.259411655507022e-05, 'bootstrap_type': 'Bernoulli', 'od_type': 'IncToDec', 'random_strength': 19, 'border_count': 202, 'boosting_type': 'Plain'}. Best is trial 18 with value: 0.8305082687890618.\n"
     ]
    },
    {
     "name": "stdout",
     "output_type": "stream",
     "text": [
      "Score: 0.8301129343533962\n",
      "Fold 1\n",
      "Fold 2\n",
      "Fold 3\n"
     ]
    },
    {
     "name": "stderr",
     "output_type": "stream",
     "text": [
      "[I 2024-06-12 15:42:38,894] Trial 22 finished with value: 0.8276296655764689 and parameters: {'iterations': 1143, 'learning_rate': 0.08135741620495891, 'depth': 8, 'l2_leaf_reg': 6.868459056778818e-05, 'bootstrap_type': 'Bernoulli', 'od_type': 'IncToDec', 'random_strength': 18, 'border_count': 204, 'boosting_type': 'Plain'}. Best is trial 18 with value: 0.8305082687890618.\n"
     ]
    },
    {
     "name": "stdout",
     "output_type": "stream",
     "text": [
      "Score: 0.8276296655764689\n",
      "Fold 1\n",
      "Fold 2\n",
      "Fold 3\n"
     ]
    },
    {
     "name": "stderr",
     "output_type": "stream",
     "text": [
      "[I 2024-06-12 15:45:39,761] Trial 23 finished with value: 0.820254017078359 and parameters: {'iterations': 1609, 'learning_rate': 0.0077456687708877345, 'depth': 9, 'l2_leaf_reg': 0.002266952135780156, 'bootstrap_type': 'Bernoulli', 'od_type': 'IncToDec', 'random_strength': 18, 'border_count': 193, 'boosting_type': 'Plain'}. Best is trial 18 with value: 0.8305082687890618.\n"
     ]
    },
    {
     "name": "stdout",
     "output_type": "stream",
     "text": [
      "Score: 0.820254017078359\n",
      "Fold 1\n",
      "Fold 2\n",
      "Fold 3\n"
     ]
    },
    {
     "name": "stderr",
     "output_type": "stream",
     "text": [
      "[I 2024-06-12 15:46:15,433] Trial 24 finished with value: 0.8274319960690931 and parameters: {'iterations': 1023, 'learning_rate': 0.023816579690502427, 'depth': 7, 'l2_leaf_reg': 0.0005642437551408463, 'bootstrap_type': 'Bernoulli', 'od_type': 'IncToDec', 'random_strength': 45, 'border_count': 147, 'boosting_type': 'Plain'}. Best is trial 18 with value: 0.8305082687890618.\n"
     ]
    },
    {
     "name": "stdout",
     "output_type": "stream",
     "text": [
      "Score: 0.8274319960690931\n",
      "Fold 1\n",
      "Fold 2\n",
      "Fold 3\n"
     ]
    },
    {
     "name": "stderr",
     "output_type": "stream",
     "text": [
      "[I 2024-06-12 15:46:49,584] Trial 25 finished with value: 0.830743011031008 and parameters: {'iterations': 1263, 'learning_rate': 0.038523069096542364, 'depth': 6, 'l2_leaf_reg': 7.128510410738438e-05, 'bootstrap_type': 'Bernoulli', 'od_type': 'IncToDec', 'random_strength': 2, 'border_count': 243, 'boosting_type': 'Plain'}. Best is trial 25 with value: 0.830743011031008.\n"
     ]
    },
    {
     "name": "stdout",
     "output_type": "stream",
     "text": [
      "Score: 0.830743011031008\n",
      "Fold 1\n",
      "Fold 2\n",
      "Fold 3\n"
     ]
    },
    {
     "name": "stderr",
     "output_type": "stream",
     "text": [
      "[I 2024-06-12 15:47:23,874] Trial 26 finished with value: 0.8307059437913402 and parameters: {'iterations': 1277, 'learning_rate': 0.04357090894342303, 'depth': 6, 'l2_leaf_reg': 4.660863118382081e-05, 'bootstrap_type': 'Bernoulli', 'od_type': 'IncToDec', 'random_strength': 1, 'border_count': 237, 'boosting_type': 'Plain'}. Best is trial 25 with value: 0.830743011031008.\n"
     ]
    },
    {
     "name": "stdout",
     "output_type": "stream",
     "text": [
      "Score: 0.8307059437913402\n",
      "Fold 1\n",
      "Fold 2\n",
      "Fold 3\n"
     ]
    },
    {
     "name": "stderr",
     "output_type": "stream",
     "text": [
      "[I 2024-06-12 15:47:57,829] Trial 27 finished with value: 0.8311259920096604 and parameters: {'iterations': 1251, 'learning_rate': 0.07689493254534673, 'depth': 6, 'l2_leaf_reg': 4.511088629225708e-05, 'bootstrap_type': 'Bernoulli', 'od_type': 'IncToDec', 'random_strength': 0, 'border_count': 234, 'boosting_type': 'Plain'}. Best is trial 27 with value: 0.8311259920096604.\n"
     ]
    },
    {
     "name": "stdout",
     "output_type": "stream",
     "text": [
      "Score: 0.8311259920096604\n",
      "Fold 1\n",
      "Fold 2\n",
      "Fold 3\n"
     ]
    },
    {
     "name": "stderr",
     "output_type": "stream",
     "text": [
      "[I 2024-06-12 15:48:31,755] Trial 28 finished with value: 0.829680512530086 and parameters: {'iterations': 1573, 'learning_rate': 0.09862714229829511, 'depth': 5, 'l2_leaf_reg': 3.153957492584428e-05, 'bootstrap_type': 'Bernoulli', 'od_type': 'IncToDec', 'random_strength': 8, 'border_count': 237, 'boosting_type': 'Plain'}. Best is trial 27 with value: 0.8311259920096604.\n"
     ]
    },
    {
     "name": "stdout",
     "output_type": "stream",
     "text": [
      "Score: 0.829680512530086\n",
      "Fold 1\n",
      "Fold 2\n",
      "Fold 3\n"
     ]
    },
    {
     "name": "stderr",
     "output_type": "stream",
     "text": [
      "[I 2024-06-12 15:49:06,480] Trial 29 finished with value: 0.8315089995470094 and parameters: {'iterations': 1298, 'learning_rate': 0.05302937280433334, 'depth': 6, 'l2_leaf_reg': 3.344863165749017e-05, 'bootstrap_type': 'Bayesian', 'od_type': 'Iter', 'random_strength': 10, 'border_count': 234, 'boosting_type': 'Plain'}. Best is trial 29 with value: 0.8315089995470094.\n"
     ]
    },
    {
     "name": "stdout",
     "output_type": "stream",
     "text": [
      "Score: 0.8315089995470094\n",
      "Fold 1\n",
      "Fold 2\n",
      "Fold 3\n"
     ]
    },
    {
     "name": "stderr",
     "output_type": "stream",
     "text": [
      "[I 2024-06-12 15:49:38,620] Trial 30 finished with value: 0.8309530381165738 and parameters: {'iterations': 1768, 'learning_rate': 0.05378933899192013, 'depth': 4, 'l2_leaf_reg': 0.00021580090022440757, 'bootstrap_type': 'Bayesian', 'od_type': 'Iter', 'random_strength': 12, 'border_count': 124, 'boosting_type': 'Plain'}. Best is trial 29 with value: 0.8315089995470094.\n"
     ]
    },
    {
     "name": "stdout",
     "output_type": "stream",
     "text": [
      "Score: 0.8309530381165738\n",
      "Fold 1\n",
      "Fold 2\n",
      "Fold 3\n"
     ]
    },
    {
     "name": "stderr",
     "output_type": "stream",
     "text": [
      "[I 2024-06-12 15:50:11,849] Trial 31 finished with value: 0.8307059524916026 and parameters: {'iterations': 1822, 'learning_rate': 0.06270457858082908, 'depth': 4, 'l2_leaf_reg': 0.00020314153533081134, 'bootstrap_type': 'Bayesian', 'od_type': 'Iter', 'random_strength': 10, 'border_count': 115, 'boosting_type': 'Plain'}. Best is trial 29 with value: 0.8315089995470094.\n"
     ]
    },
    {
     "name": "stdout",
     "output_type": "stream",
     "text": [
      "Score: 0.8307059524916026\n",
      "Fold 1\n",
      "Fold 2\n",
      "Fold 3\n"
     ]
    },
    {
     "name": "stderr",
     "output_type": "stream",
     "text": [
      "[I 2024-06-12 15:50:48,698] Trial 32 finished with value: 0.8304341475890745 and parameters: {'iterations': 1758, 'learning_rate': 0.09604669130748389, 'depth': 5, 'l2_leaf_reg': 2.9826142277716896e-05, 'bootstrap_type': 'Bayesian', 'od_type': 'Iter', 'random_strength': 16, 'border_count': 120, 'boosting_type': 'Plain'}. Best is trial 29 with value: 0.8315089995470094.\n"
     ]
    },
    {
     "name": "stdout",
     "output_type": "stream",
     "text": [
      "Score: 0.8304341475890745\n",
      "Fold 1\n",
      "Fold 2\n",
      "Fold 3\n"
     ]
    },
    {
     "name": "stderr",
     "output_type": "stream",
     "text": [
      "[I 2024-06-12 15:51:23,578] Trial 33 finished with value: 0.8309283339499988 and parameters: {'iterations': 1324, 'learning_rate': 0.04487691501605593, 'depth': 6, 'l2_leaf_reg': 0.00018389238251104729, 'bootstrap_type': 'Bayesian', 'od_type': 'Iter', 'random_strength': 8, 'border_count': 220, 'boosting_type': 'Plain'}. Best is trial 29 with value: 0.8315089995470094.\n"
     ]
    },
    {
     "name": "stdout",
     "output_type": "stream",
     "text": [
      "Score: 0.8309283339499988\n",
      "Fold 1\n",
      "Fold 2\n",
      "Fold 3\n"
     ]
    },
    {
     "name": "stderr",
     "output_type": "stream",
     "text": [
      "[I 2024-06-12 15:51:41,530] Trial 34 finished with value: 0.8291492795353789 and parameters: {'iterations': 973, 'learning_rate': 0.055757828841165334, 'depth': 4, 'l2_leaf_reg': 0.005504125168352284, 'bootstrap_type': 'Bayesian', 'od_type': 'Iter', 'random_strength': 7, 'border_count': 208, 'boosting_type': 'Plain'}. Best is trial 29 with value: 0.8315089995470094.\n"
     ]
    },
    {
     "name": "stdout",
     "output_type": "stream",
     "text": [
      "Score: 0.8291492795353789\n",
      "Fold 1\n",
      "Fold 2\n",
      "Fold 3\n"
     ]
    },
    {
     "name": "stderr",
     "output_type": "stream",
     "text": [
      "[I 2024-06-12 15:52:14,275] Trial 35 finished with value: 0.8315336986765902 and parameters: {'iterations': 1549, 'learning_rate': 0.05740557236496205, 'depth': 5, 'l2_leaf_reg': 0.001140882967037096, 'bootstrap_type': 'Bayesian', 'od_type': 'Iter', 'random_strength': 13, 'border_count': 227, 'boosting_type': 'Plain'}. Best is trial 35 with value: 0.8315336986765902.\n"
     ]
    },
    {
     "name": "stdout",
     "output_type": "stream",
     "text": [
      "Score: 0.8315336986765902\n",
      "Fold 1\n",
      "Fold 2\n",
      "Fold 3\n"
     ]
    },
    {
     "name": "stderr",
     "output_type": "stream",
     "text": [
      "[I 2024-06-12 15:52:47,547] Trial 36 finished with value: 0.8310889407967922 and parameters: {'iterations': 1581, 'learning_rate': 0.060731328943507426, 'depth': 5, 'l2_leaf_reg': 0.0013380629530659854, 'bootstrap_type': 'Bayesian', 'od_type': 'Iter', 'random_strength': 15, 'border_count': 133, 'boosting_type': 'Plain'}. Best is trial 35 with value: 0.8315336986765902.\n"
     ]
    },
    {
     "name": "stdout",
     "output_type": "stream",
     "text": [
      "Score: 0.8310889407967922\n",
      "Fold 1\n",
      "Fold 2\n",
      "Fold 3\n"
     ]
    },
    {
     "name": "stderr",
     "output_type": "stream",
     "text": [
      "[I 2024-06-12 15:53:20,174] Trial 37 finished with value: 0.8215018151449353 and parameters: {'iterations': 1608, 'learning_rate': 0.009709516292386297, 'depth': 5, 'l2_leaf_reg': 0.056931208924662524, 'bootstrap_type': 'Bayesian', 'od_type': 'Iter', 'random_strength': 22, 'border_count': 61, 'boosting_type': 'Plain'}. Best is trial 35 with value: 0.8315336986765902.\n"
     ]
    },
    {
     "name": "stdout",
     "output_type": "stream",
     "text": [
      "Score: 0.8215018151449353\n",
      "Fold 1\n",
      "Fold 2\n",
      "Fold 3\n"
     ]
    },
    {
     "name": "stderr",
     "output_type": "stream",
     "text": [
      "[I 2024-06-12 15:53:52,460] Trial 38 finished with value: 0.8315089931362896 and parameters: {'iterations': 1511, 'learning_rate': 0.06483571337478, 'depth': 5, 'l2_leaf_reg': 0.0012024856082994853, 'bootstrap_type': 'Bayesian', 'od_type': 'Iter', 'random_strength': 33, 'border_count': 226, 'boosting_type': 'Plain'}. Best is trial 35 with value: 0.8315336986765902.\n"
     ]
    },
    {
     "name": "stdout",
     "output_type": "stream",
     "text": [
      "Score: 0.8315089931362896\n",
      "Fold 1\n",
      "Fold 2\n",
      "Fold 3\n"
     ]
    },
    {
     "name": "stderr",
     "output_type": "stream",
     "text": [
      "[I 2024-06-12 15:54:43,631] Trial 39 finished with value: 0.8066640357072696 and parameters: {'iterations': 1515, 'learning_rate': 0.0033916934058326456, 'depth': 7, 'l2_leaf_reg': 0.006214676522356425, 'bootstrap_type': 'Bayesian', 'od_type': 'Iter', 'random_strength': 32, 'border_count': 226, 'boosting_type': 'Plain'}. Best is trial 35 with value: 0.8315336986765902.\n"
     ]
    },
    {
     "name": "stdout",
     "output_type": "stream",
     "text": [
      "Score: 0.8066640357072696\n",
      "Fold 1\n",
      "Fold 2\n",
      "Fold 3\n"
     ]
    },
    {
     "name": "stderr",
     "output_type": "stream",
     "text": [
      "[I 2024-06-12 15:55:01,075] Trial 40 finished with value: 0.8094685030668014 and parameters: {'iterations': 686, 'learning_rate': 0.01645636666162754, 'depth': 6, 'l2_leaf_reg': 0.00046045639071881286, 'bootstrap_type': 'Bayesian', 'od_type': 'Iter', 'random_strength': 59, 'border_count': 187, 'boosting_type': 'Plain'}. Best is trial 35 with value: 0.8315336986765902.\n"
     ]
    },
    {
     "name": "stdout",
     "output_type": "stream",
     "text": [
      "Score: 0.8094685030668014\n",
      "Fold 1\n",
      "Fold 2\n",
      "Fold 3\n"
     ]
    },
    {
     "name": "stderr",
     "output_type": "stream",
     "text": [
      "[I 2024-06-12 15:55:29,624] Trial 41 finished with value: 0.8309653897419528 and parameters: {'iterations': 1333, 'learning_rate': 0.05984817005716795, 'depth': 5, 'l2_leaf_reg': 0.0010226967422485756, 'bootstrap_type': 'Bayesian', 'od_type': 'Iter', 'random_strength': 15, 'border_count': 217, 'boosting_type': 'Plain'}. Best is trial 35 with value: 0.8315336986765902.\n"
     ]
    },
    {
     "name": "stdout",
     "output_type": "stream",
     "text": [
      "Score: 0.8309653897419528\n",
      "Fold 1\n",
      "Fold 2\n",
      "Fold 3\n"
     ]
    },
    {
     "name": "stderr",
     "output_type": "stream",
     "text": [
      "[I 2024-06-12 15:56:01,838] Trial 42 finished with value: 0.831200132899716 and parameters: {'iterations': 1504, 'learning_rate': 0.07087995721497961, 'depth': 5, 'l2_leaf_reg': 0.0014590115780391977, 'bootstrap_type': 'Bayesian', 'od_type': 'Iter', 'random_strength': 36, 'border_count': 224, 'boosting_type': 'Plain'}. Best is trial 35 with value: 0.8315336986765902.\n"
     ]
    },
    {
     "name": "stdout",
     "output_type": "stream",
     "text": [
      "Score: 0.831200132899716\n",
      "Fold 1\n",
      "Fold 2\n",
      "Fold 3\n"
     ]
    },
    {
     "name": "stderr",
     "output_type": "stream",
     "text": [
      "[I 2024-06-12 15:56:46,633] Trial 43 finished with value: 0.827629682976994 and parameters: {'iterations': 1698, 'learning_rate': 0.09942763321499377, 'depth': 6, 'l2_leaf_reg': 2.0810262076613604e-05, 'bootstrap_type': 'Bayesian', 'od_type': 'Iter', 'random_strength': 41, 'border_count': 227, 'boosting_type': 'Plain'}. Best is trial 35 with value: 0.8315336986765902.\n"
     ]
    },
    {
     "name": "stdout",
     "output_type": "stream",
     "text": [
      "Score: 0.827629682976994\n",
      "Fold 1\n",
      "Fold 2\n",
      "Fold 3\n"
     ]
    },
    {
     "name": "stderr",
     "output_type": "stream",
     "text": [
      "[I 2024-06-12 15:57:14,192] Trial 44 finished with value: 0.8283956582136472 and parameters: {'iterations': 1511, 'learning_rate': 0.031266110865494176, 'depth': 4, 'l2_leaf_reg': 0.003061533237867977, 'bootstrap_type': 'Bayesian', 'od_type': 'Iter', 'random_strength': 37, 'border_count': 236, 'boosting_type': 'Plain'}. Best is trial 35 with value: 0.8315336986765902.\n"
     ]
    },
    {
     "name": "stdout",
     "output_type": "stream",
     "text": [
      "Score: 0.8283956582136472\n",
      "Fold 1\n",
      "Fold 2\n",
      "Fold 3\n"
     ]
    },
    {
     "name": "stderr",
     "output_type": "stream",
     "text": [
      "[I 2024-06-12 15:57:37,039] Trial 45 finished with value: 0.8304217932162441 and parameters: {'iterations': 1088, 'learning_rate': 0.0671719853575262, 'depth': 5, 'l2_leaf_reg': 0.05527961114834033, 'bootstrap_type': 'Bayesian', 'od_type': 'Iter', 'random_strength': 85, 'border_count': 213, 'boosting_type': 'Plain'}. Best is trial 35 with value: 0.8315336986765902.\n"
     ]
    },
    {
     "name": "stdout",
     "output_type": "stream",
     "text": [
      "Score: 0.8304217932162441\n",
      "Fold 1\n",
      "Fold 2\n",
      "Fold 3\n"
     ]
    },
    {
     "name": "stderr",
     "output_type": "stream",
     "text": [
      "[I 2024-06-12 15:58:11,647] Trial 46 finished with value: 0.830570047063933 and parameters: {'iterations': 1315, 'learning_rate': 0.03658718328558607, 'depth': 6, 'l2_leaf_reg': 0.0006696846446813477, 'bootstrap_type': 'Bayesian', 'od_type': 'Iter', 'random_strength': 28, 'border_count': 255, 'boosting_type': 'Plain'}. Best is trial 35 with value: 0.8315336986765902.\n"
     ]
    },
    {
     "name": "stdout",
     "output_type": "stream",
     "text": [
      "Score: 0.830570047063933\n",
      "Fold 1\n",
      "Fold 2\n",
      "Fold 3\n"
     ]
    },
    {
     "name": "stderr",
     "output_type": "stream",
     "text": [
      "[I 2024-06-12 15:59:16,909] Trial 47 finished with value: 0.8303600277628126 and parameters: {'iterations': 1864, 'learning_rate': 0.0209939390963545, 'depth': 7, 'l2_leaf_reg': 0.00037781519323716925, 'bootstrap_type': 'Bayesian', 'od_type': 'Iter', 'random_strength': 38, 'border_count': 229, 'boosting_type': 'Plain'}. Best is trial 35 with value: 0.8315336986765902.\n"
     ]
    },
    {
     "name": "stdout",
     "output_type": "stream",
     "text": [
      "Score: 0.8303600277628126\n",
      "Fold 1\n",
      "Fold 2\n",
      "Fold 3\n"
     ]
    },
    {
     "name": "stderr",
     "output_type": "stream",
     "text": [
      "[I 2024-06-12 15:59:57,917] Trial 48 finished with value: 0.8313854384181817 and parameters: {'iterations': 1950, 'learning_rate': 0.06702802531389945, 'depth': 5, 'l2_leaf_reg': 4.485583477603681e-05, 'bootstrap_type': 'Bayesian', 'od_type': 'Iter', 'random_strength': 55, 'border_count': 183, 'boosting_type': 'Plain'}. Best is trial 35 with value: 0.8315336986765902.\n"
     ]
    },
    {
     "name": "stdout",
     "output_type": "stream",
     "text": [
      "Score: 0.8313854384181817\n",
      "Fold 1\n",
      "Fold 2\n",
      "Fold 3\n"
     ]
    },
    {
     "name": "stderr",
     "output_type": "stream",
     "text": [
      "[I 2024-06-12 16:00:38,344] Trial 49 finished with value: 0.830903622456887 and parameters: {'iterations': 1947, 'learning_rate': 0.03995726672182486, 'depth': 5, 'l2_leaf_reg': 0.001515837312477667, 'bootstrap_type': 'Bayesian', 'od_type': 'Iter', 'random_strength': 60, 'border_count': 197, 'boosting_type': 'Plain'}. Best is trial 35 with value: 0.8315336986765902.\n"
     ]
    },
    {
     "name": "stdout",
     "output_type": "stream",
     "text": [
      "Score: 0.830903622456887\n",
      "Fold 1\n",
      "Fold 2\n",
      "Fold 3\n"
     ]
    },
    {
     "name": "stderr",
     "output_type": "stream",
     "text": [
      "[I 2024-06-12 16:01:09,132] Trial 50 finished with value: 0.8221071913192407 and parameters: {'iterations': 1697, 'learning_rate': 0.011737295966831759, 'depth': 4, 'l2_leaf_reg': 1.9817501374393656e-05, 'bootstrap_type': 'Bayesian', 'od_type': 'Iter', 'random_strength': 48, 'border_count': 188, 'boosting_type': 'Plain'}. Best is trial 35 with value: 0.8315336986765902.\n"
     ]
    },
    {
     "name": "stdout",
     "output_type": "stream",
     "text": [
      "Score: 0.8221071913192407\n",
      "Fold 1\n",
      "Fold 2\n",
      "Fold 3\n"
     ]
    },
    {
     "name": "stderr",
     "output_type": "stream",
     "text": [
      "[I 2024-06-12 16:01:55,963] Trial 51 finished with value: 0.8312495595492081 and parameters: {'iterations': 1387, 'learning_rate': 0.0683892320153228, 'depth': 5, 'l2_leaf_reg': 0.00011437488237257133, 'bootstrap_type': 'Bayesian', 'od_type': 'Iter', 'random_strength': 56, 'border_count': 214, 'boosting_type': 'Plain'}. Best is trial 35 with value: 0.8315336986765902.\n"
     ]
    },
    {
     "name": "stdout",
     "output_type": "stream",
     "text": [
      "Score: 0.8312495595492081\n",
      "Fold 1\n",
      "Fold 2\n",
      "Fold 3\n"
     ]
    },
    {
     "name": "stderr",
     "output_type": "stream",
     "text": [
      "[I 2024-06-12 16:02:52,369] Trial 52 finished with value: 0.830854201760206 and parameters: {'iterations': 1481, 'learning_rate': 0.0686268145317043, 'depth': 5, 'l2_leaf_reg': 0.00010450227922708187, 'bootstrap_type': 'Bayesian', 'od_type': 'Iter', 'random_strength': 56, 'border_count': 213, 'boosting_type': 'Plain'}. Best is trial 35 with value: 0.8315336986765902.\n"
     ]
    },
    {
     "name": "stdout",
     "output_type": "stream",
     "text": [
      "Score: 0.830854201760206\n",
      "Fold 1\n",
      "Fold 2\n",
      "Fold 3\n"
     ]
    },
    {
     "name": "stderr",
     "output_type": "stream",
     "text": [
      "[I 2024-06-12 16:03:41,774] Trial 53 finished with value: 0.8266660148796285 and parameters: {'iterations': 1418, 'learning_rate': 0.025087967186281264, 'depth': 4, 'l2_leaf_reg': 0.00031338857847070195, 'bootstrap_type': 'Bayesian', 'od_type': 'Iter', 'random_strength': 70, 'border_count': 180, 'boosting_type': 'Plain'}. Best is trial 35 with value: 0.8315336986765902.\n"
     ]
    },
    {
     "name": "stdout",
     "output_type": "stream",
     "text": [
      "Score: 0.8266660148796285\n",
      "Fold 1\n",
      "Fold 2\n",
      "Fold 3\n"
     ]
    },
    {
     "name": "stderr",
     "output_type": "stream",
     "text": [
      "[I 2024-06-12 16:05:05,168] Trial 54 finished with value: 0.8315337050873101 and parameters: {'iterations': 1979, 'learning_rate': 0.04814171630293892, 'depth': 5, 'l2_leaf_reg': 4.714535888739008e-05, 'bootstrap_type': 'Bayesian', 'od_type': 'Iter', 'random_strength': 55, 'border_count': 222, 'boosting_type': 'Plain'}. Best is trial 54 with value: 0.8315337050873101.\n"
     ]
    },
    {
     "name": "stdout",
     "output_type": "stream",
     "text": [
      "Score: 0.8315337050873101\n",
      "Fold 1\n",
      "Fold 2\n",
      "Fold 3\n"
     ]
    },
    {
     "name": "stderr",
     "output_type": "stream",
     "text": [
      "[I 2024-06-12 16:06:29,889] Trial 55 finished with value: 0.831632535032958 and parameters: {'iterations': 1979, 'learning_rate': 0.046507599896059654, 'depth': 5, 'l2_leaf_reg': 4.826819006302639e-05, 'bootstrap_type': 'Bayesian', 'od_type': 'Iter', 'random_strength': 66, 'border_count': 244, 'boosting_type': 'Plain'}. Best is trial 55 with value: 0.831632535032958.\n"
     ]
    },
    {
     "name": "stdout",
     "output_type": "stream",
     "text": [
      "Score: 0.831632535032958\n",
      "Fold 1\n",
      "Fold 2\n",
      "Fold 3\n"
     ]
    },
    {
     "name": "stderr",
     "output_type": "stream",
     "text": [
      "[I 2024-06-12 16:07:06,410] Trial 56 finished with value: 0.8277285147542761 and parameters: {'iterations': 1993, 'learning_rate': 0.020100924411978284, 'depth': 4, 'l2_leaf_reg': 1.685710279343772e-05, 'bootstrap_type': 'Bayesian', 'od_type': 'Iter', 'random_strength': 75, 'border_count': 247, 'boosting_type': 'Plain'}. Best is trial 55 with value: 0.831632535032958.\n"
     ]
    },
    {
     "name": "stdout",
     "output_type": "stream",
     "text": [
      "Score: 0.8277285147542761\n",
      "Fold 1\n",
      "Fold 2\n",
      "Fold 3\n"
     ]
    },
    {
     "name": "stderr",
     "output_type": "stream",
     "text": [
      "[I 2024-06-12 16:07:54,807] Trial 57 finished with value: 0.831471927728256 and parameters: {'iterations': 1887, 'learning_rate': 0.04400452341643849, 'depth': 6, 'l2_leaf_reg': 1.0563413348360882e-05, 'bootstrap_type': 'Bayesian', 'od_type': 'Iter', 'random_strength': 65, 'border_count': 166, 'boosting_type': 'Plain'}. Best is trial 55 with value: 0.831632535032958.\n"
     ]
    },
    {
     "name": "stdout",
     "output_type": "stream",
     "text": [
      "Score: 0.831471927728256\n",
      "Fold 1\n",
      "Fold 2\n",
      "Fold 3\n"
     ]
    },
    {
     "name": "stderr",
     "output_type": "stream",
     "text": [
      "[I 2024-06-12 16:09:00,509] Trial 58 finished with value: 0.8310518776783015 and parameters: {'iterations': 1885, 'learning_rate': 0.03359732266697855, 'depth': 7, 'l2_leaf_reg': 1.1361194839042895e-05, 'bootstrap_type': 'Bayesian', 'od_type': 'Iter', 'random_strength': 65, 'border_count': 168, 'boosting_type': 'Plain'}. Best is trial 55 with value: 0.831632535032958.\n"
     ]
    },
    {
     "name": "stdout",
     "output_type": "stream",
     "text": [
      "Score: 0.8310518776783015\n",
      "Fold 1\n",
      "Fold 2\n",
      "Fold 3\n"
     ]
    },
    {
     "name": "stderr",
     "output_type": "stream",
     "text": [
      "[I 2024-06-12 16:09:47,962] Trial 59 finished with value: 0.8286180364666835 and parameters: {'iterations': 1835, 'learning_rate': 0.01755280552681499, 'depth': 6, 'l2_leaf_reg': 2.8520970050055752e-05, 'bootstrap_type': 'Bayesian', 'od_type': 'Iter', 'random_strength': 72, 'border_count': 243, 'boosting_type': 'Plain'}. Best is trial 55 with value: 0.831632535032958.\n"
     ]
    },
    {
     "name": "stdout",
     "output_type": "stream",
     "text": [
      "Score: 0.8286180364666835\n",
      "Fold 1\n",
      "Fold 2\n",
      "Fold 3\n"
     ]
    },
    {
     "name": "stderr",
     "output_type": "stream",
     "text": [
      "[I 2024-06-12 16:10:32,425] Trial 60 finished with value: 0.8313854530712553 and parameters: {'iterations': 1758, 'learning_rate': 0.04562716448773535, 'depth': 6, 'l2_leaf_reg': 5.339705810873347e-05, 'bootstrap_type': 'Bayesian', 'od_type': 'Iter', 'random_strength': 67, 'border_count': 97, 'boosting_type': 'Plain'}. Best is trial 55 with value: 0.831632535032958.\n"
     ]
    },
    {
     "name": "stdout",
     "output_type": "stream",
     "text": [
      "Score: 0.8313854530712553\n",
      "Fold 1\n",
      "Fold 2\n",
      "Fold 3\n"
     ]
    },
    {
     "name": "stderr",
     "output_type": "stream",
     "text": [
      "[I 2024-06-12 16:11:16,901] Trial 61 finished with value: 0.8318549142018113 and parameters: {'iterations': 1748, 'learning_rate': 0.04574515321226327, 'depth': 6, 'l2_leaf_reg': 6.026175949260926e-05, 'bootstrap_type': 'Bayesian', 'od_type': 'Iter', 'random_strength': 79, 'border_count': 103, 'boosting_type': 'Plain'}. Best is trial 61 with value: 0.8318549142018113.\n"
     ]
    },
    {
     "name": "stdout",
     "output_type": "stream",
     "text": [
      "Score: 0.8318549142018113\n",
      "Fold 1\n",
      "Fold 2\n",
      "Fold 3\n"
     ]
    },
    {
     "name": "stderr",
     "output_type": "stream",
     "text": [
      "[I 2024-06-12 16:12:04,541] Trial 62 finished with value: 0.8309530417798422 and parameters: {'iterations': 1906, 'learning_rate': 0.026617841171762052, 'depth': 6, 'l2_leaf_reg': 1.0132023087034555e-05, 'bootstrap_type': 'Bayesian', 'od_type': 'Iter', 'random_strength': 80, 'border_count': 88, 'boosting_type': 'Plain'}. Best is trial 61 with value: 0.8318549142018113.\n"
     ]
    },
    {
     "name": "stdout",
     "output_type": "stream",
     "text": [
      "Score: 0.8309530417798422\n",
      "Fold 1\n",
      "Fold 2\n",
      "Fold 3\n"
     ]
    },
    {
     "name": "stderr",
     "output_type": "stream",
     "text": [
      "[I 2024-06-12 16:13:00,449] Trial 63 finished with value: 0.8313730904560712 and parameters: {'iterations': 1685, 'learning_rate': 0.044236395116348005, 'depth': 7, 'l2_leaf_reg': 8.423714157434646e-05, 'bootstrap_type': 'Bayesian', 'od_type': 'Iter', 'random_strength': 92, 'border_count': 68, 'boosting_type': 'Plain'}. Best is trial 61 with value: 0.8318549142018113.\n"
     ]
    },
    {
     "name": "stdout",
     "output_type": "stream",
     "text": [
      "Score: 0.8313730904560712\n",
      "Fold 1\n",
      "Fold 2\n",
      "Fold 3\n"
     ]
    },
    {
     "name": "stderr",
     "output_type": "stream",
     "text": [
      "[I 2024-06-12 16:13:37,846] Trial 64 finished with value: 0.8303723848830943 and parameters: {'iterations': 1819, 'learning_rate': 0.03407430927848656, 'depth': 5, 'l2_leaf_reg': 2.0150408549179593e-05, 'bootstrap_type': 'Bayesian', 'od_type': 'Iter', 'random_strength': 80, 'border_count': 103, 'boosting_type': 'Plain'}. Best is trial 61 with value: 0.8318549142018113.\n"
     ]
    },
    {
     "name": "stdout",
     "output_type": "stream",
     "text": [
      "Score: 0.8303723848830943\n",
      "Fold 1\n",
      "Fold 2\n",
      "Fold 3\n"
     ]
    },
    {
     "name": "stderr",
     "output_type": "stream",
     "text": [
      "[I 2024-06-12 16:14:30,839] Trial 65 finished with value: 0.8307059488283342 and parameters: {'iterations': 1980, 'learning_rate': 0.026160763767626202, 'depth': 6, 'l2_leaf_reg': 3.98089537248116e-05, 'bootstrap_type': 'MVS', 'od_type': 'Iter', 'random_strength': 62, 'border_count': 73, 'boosting_type': 'Plain'}. Best is trial 61 with value: 0.8318549142018113.\n"
     ]
    },
    {
     "name": "stdout",
     "output_type": "stream",
     "text": [
      "Score: 0.8307059488283342\n",
      "Fold 1\n",
      "Fold 2\n",
      "Fold 3\n"
     ]
    },
    {
     "name": "stderr",
     "output_type": "stream",
     "text": [
      "[I 2024-06-12 16:15:10,735] Trial 66 finished with value: 0.830705963481408 and parameters: {'iterations': 1627, 'learning_rate': 0.05002453868943543, 'depth': 6, 'l2_leaf_reg': 0.00015449284424659472, 'bootstrap_type': 'Bayesian', 'od_type': 'Iter', 'random_strength': 47, 'border_count': 9, 'boosting_type': 'Plain'}. Best is trial 61 with value: 0.8318549142018113.\n"
     ]
    },
    {
     "name": "stdout",
     "output_type": "stream",
     "text": [
      "Score: 0.830705963481408\n",
      "Fold 1\n",
      "Fold 2\n",
      "Fold 3\n"
     ]
    },
    {
     "name": "stderr",
     "output_type": "stream",
     "text": [
      "[I 2024-06-12 16:16:09,078] Trial 67 finished with value: 0.8278891202273438 and parameters: {'iterations': 1746, 'learning_rate': 0.014533510955916687, 'depth': 7, 'l2_leaf_reg': 8.87232744928271e-05, 'bootstrap_type': 'Bayesian', 'od_type': 'Iter', 'random_strength': 52, 'border_count': 142, 'boosting_type': 'Plain'}. Best is trial 61 with value: 0.8318549142018113.\n"
     ]
    },
    {
     "name": "stdout",
     "output_type": "stream",
     "text": [
      "Score: 0.8278891202273438\n",
      "Fold 1\n",
      "Fold 2\n",
      "Fold 3\n"
     ]
    },
    {
     "name": "stderr",
     "output_type": "stream",
     "text": [
      "[I 2024-06-12 16:16:48,347] Trial 68 finished with value: 0.8305329953931561 and parameters: {'iterations': 1888, 'learning_rate': 0.07889808280520864, 'depth': 5, 'l2_leaf_reg': 5.9377526123231317e-05, 'bootstrap_type': 'Bayesian', 'od_type': 'Iter', 'random_strength': 69, 'border_count': 204, 'boosting_type': 'Plain'}. Best is trial 61 with value: 0.8318549142018113.\n"
     ]
    },
    {
     "name": "stdout",
     "output_type": "stream",
     "text": [
      "Score: 0.8305329953931561\n",
      "Fold 1\n",
      "Fold 2\n",
      "Fold 3\n"
     ]
    },
    {
     "name": "stderr",
     "output_type": "stream",
     "text": [
      "[I 2024-06-12 16:17:18,810] Trial 69 finished with value: 0.8302241269142283 and parameters: {'iterations': 1658, 'learning_rate': 0.050333570875531676, 'depth': 4, 'l2_leaf_reg': 0.00028783912379910077, 'bootstrap_type': 'Bayesian', 'od_type': 'Iter', 'random_strength': 62, 'border_count': 243, 'boosting_type': 'Plain'}. Best is trial 61 with value: 0.8318549142018113.\n"
     ]
    },
    {
     "name": "stdout",
     "output_type": "stream",
     "text": [
      "Score: 0.8302241269142283\n",
      "Fold 1\n",
      "Fold 2\n",
      "Fold 3\n"
     ]
    },
    {
     "name": "stderr",
     "output_type": "stream",
     "text": [
      "[I 2024-06-12 16:17:59,014] Trial 70 finished with value: 0.8288527590185617 and parameters: {'iterations': 1545, 'learning_rate': 0.0951033887747859, 'depth': 6, 'l2_leaf_reg': 1.63663332938548e-05, 'bootstrap_type': 'Bayesian', 'od_type': 'Iter', 'random_strength': 74, 'border_count': 156, 'boosting_type': 'Plain'}. Best is trial 61 with value: 0.8318549142018113.\n"
     ]
    },
    {
     "name": "stdout",
     "output_type": "stream",
     "text": [
      "Score: 0.8288527590185617\n",
      "Fold 1\n",
      "Fold 2\n",
      "Fold 3\n"
     ]
    },
    {
     "name": "stderr",
     "output_type": "stream",
     "text": [
      "[I 2024-06-12 16:18:43,062] Trial 71 finished with value: 0.8310518749308501 and parameters: {'iterations': 1735, 'learning_rate': 0.040019617696023795, 'depth': 6, 'l2_leaf_reg': 3.90586134707751e-05, 'bootstrap_type': 'Bayesian', 'od_type': 'Iter', 'random_strength': 67, 'border_count': 98, 'boosting_type': 'Plain'}. Best is trial 61 with value: 0.8318549142018113.\n"
     ]
    },
    {
     "name": "stdout",
     "output_type": "stream",
     "text": [
      "Score: 0.8310518749308501\n",
      "Fold 1\n",
      "Fold 2\n",
      "Fold 3\n"
     ]
    },
    {
     "name": "stderr",
     "output_type": "stream",
     "text": [
      "[I 2024-06-12 16:19:22,490] Trial 72 finished with value: 0.8305206382728745 and parameters: {'iterations': 1916, 'learning_rate': 0.029178286182739575, 'depth': 5, 'l2_leaf_reg': 5.939692803439309e-05, 'bootstrap_type': 'Bayesian', 'od_type': 'Iter', 'random_strength': 79, 'border_count': 113, 'boosting_type': 'Plain'}. Best is trial 61 with value: 0.8318549142018113.\n"
     ]
    },
    {
     "name": "stdout",
     "output_type": "stream",
     "text": [
      "Score: 0.8305206382728745\n",
      "Fold 1\n",
      "Fold 2\n",
      "Fold 3\n"
     ]
    },
    {
     "name": "stderr",
     "output_type": "stream",
     "text": [
      "[I 2024-06-12 16:20:25,389] Trial 73 finished with value: 0.8309036132987159 and parameters: {'iterations': 1788, 'learning_rate': 0.05022211641453243, 'depth': 7, 'l2_leaf_reg': 2.9959724297106123e-05, 'bootstrap_type': 'MVS', 'od_type': 'Iter', 'random_strength': 64, 'border_count': 97, 'boosting_type': 'Plain'}. Best is trial 61 with value: 0.8318549142018113.\n"
     ]
    },
    {
     "name": "stdout",
     "output_type": "stream",
     "text": [
      "Score: 0.8309036132987159\n",
      "Fold 1\n",
      "Fold 2\n",
      "Fold 3\n"
     ]
    },
    {
     "name": "stderr",
     "output_type": "stream",
     "text": [
      "[I 2024-06-12 16:21:14,674] Trial 74 finished with value: 0.8300264583226697 and parameters: {'iterations': 1999, 'learning_rate': 0.02118466071113731, 'depth': 6, 'l2_leaf_reg': 0.00013544045268739234, 'bootstrap_type': 'Bayesian', 'od_type': 'Iter', 'random_strength': 84, 'border_count': 80, 'boosting_type': 'Plain'}. Best is trial 61 with value: 0.8318549142018113.\n"
     ]
    },
    {
     "name": "stdout",
     "output_type": "stream",
     "text": [
      "Score: 0.8300264583226697\n",
      "Fold 1\n",
      "Fold 2\n",
      "Fold 3\n"
     ]
    },
    {
     "name": "stderr",
     "output_type": "stream",
     "text": [
      "[I 2024-06-12 16:21:19,051] Trial 75 finished with value: 0.7945442251608901 and parameters: {'iterations': 167, 'learning_rate': 0.03835530440813096, 'depth': 5, 'l2_leaf_reg': 5.882146483278206e-05, 'bootstrap_type': 'Bayesian', 'od_type': 'Iter', 'random_strength': 68, 'border_count': 232, 'boosting_type': 'Plain'}. Best is trial 61 with value: 0.8318549142018113.\n"
     ]
    },
    {
     "name": "stdout",
     "output_type": "stream",
     "text": [
      "Score: 0.7945442251608901\n",
      "Fold 1\n",
      "Fold 2\n",
      "Fold 3\n"
     ]
    },
    {
     "name": "stderr",
     "output_type": "stream",
     "text": [
      "[I 2024-06-12 16:23:52,033] Trial 76 finished with value: 0.8275308250989241 and parameters: {'iterations': 1834, 'learning_rate': 0.05232741107503166, 'depth': 9, 'l2_leaf_reg': 1.3757723841347674e-05, 'bootstrap_type': 'Bayesian', 'od_type': 'Iter', 'random_strength': 6, 'border_count': 112, 'boosting_type': 'Plain'}. Best is trial 61 with value: 0.8318549142018113.\n"
     ]
    },
    {
     "name": "stdout",
     "output_type": "stream",
     "text": [
      "Score: 0.8275308250989241\n",
      "Fold 1\n",
      "Fold 2\n",
      "Fold 3\n"
     ]
    },
    {
     "name": "stderr",
     "output_type": "stream",
     "text": [
      "[I 2024-06-12 16:24:31,449] Trial 77 finished with value: 0.8308047948007817 and parameters: {'iterations': 1722, 'learning_rate': 0.07542911979975365, 'depth': 6, 'l2_leaf_reg': 2.230676417641225e-05, 'bootstrap_type': 'Bayesian', 'od_type': 'Iter', 'random_strength': 52, 'border_count': 129, 'boosting_type': 'Plain'}. Best is trial 61 with value: 0.8318549142018113.\n"
     ]
    },
    {
     "name": "stdout",
     "output_type": "stream",
     "text": [
      "Score: 0.8308047948007817\n",
      "Fold 1\n",
      "Fold 2\n",
      "Fold 3\n"
     ]
    },
    {
     "name": "stderr",
     "output_type": "stream",
     "text": [
      "[I 2024-06-12 16:29:13,528] Trial 78 finished with value: 0.8299152515666722 and parameters: {'iterations': 1656, 'learning_rate': 0.028141013872057547, 'depth': 10, 'l2_leaf_reg': 0.0001718446987401077, 'bootstrap_type': 'Bayesian', 'od_type': 'Iter', 'random_strength': 71, 'border_count': 220, 'boosting_type': 'Plain'}. Best is trial 61 with value: 0.8318549142018113.\n"
     ]
    },
    {
     "name": "stdout",
     "output_type": "stream",
     "text": [
      "Score: 0.8299152515666722\n",
      "Fold 1\n",
      "Fold 2\n",
      "Fold 3\n"
     ]
    },
    {
     "name": "stderr",
     "output_type": "stream",
     "text": [
      "[I 2024-06-12 16:29:46,467] Trial 79 finished with value: 0.828099141818007 and parameters: {'iterations': 1786, 'learning_rate': 0.01856958594941623, 'depth': 5, 'l2_leaf_reg': 2.8203913671972774e-05, 'bootstrap_type': 'Bayesian', 'od_type': 'Iter', 'random_strength': 22, 'border_count': 240, 'boosting_type': 'Plain'}. Best is trial 61 with value: 0.8318549142018113.\n"
     ]
    },
    {
     "name": "stdout",
     "output_type": "stream",
     "text": [
      "Score: 0.828099141818007\n",
      "Fold 1\n",
      "Fold 2\n",
      "Fold 3\n"
     ]
    },
    {
     "name": "stderr",
     "output_type": "stream",
     "text": [
      "[I 2024-06-12 16:30:28,338] Trial 80 finished with value: 0.8290875053816847 and parameters: {'iterations': 1865, 'learning_rate': 0.08303797321031856, 'depth': 6, 'l2_leaf_reg': 8.059953174403164e-05, 'bootstrap_type': 'Bayesian', 'od_type': 'Iter', 'random_strength': 98, 'border_count': 51, 'boosting_type': 'Plain'}. Best is trial 61 with value: 0.8318549142018113.\n"
     ]
    },
    {
     "name": "stdout",
     "output_type": "stream",
     "text": [
      "Score: 0.8290875053816847\n",
      "Fold 1\n",
      "Fold 2\n",
      "Fold 3\n"
     ]
    },
    {
     "name": "stderr",
     "output_type": "stream",
     "text": [
      "[I 2024-06-12 16:31:04,382] Trial 81 finished with value: 0.8309530486484705 and parameters: {'iterations': 1941, 'learning_rate': 0.05779641137232784, 'depth': 5, 'l2_leaf_reg': 4.876896972060751e-05, 'bootstrap_type': 'Bayesian', 'od_type': 'Iter', 'random_strength': 55, 'border_count': 154, 'boosting_type': 'Plain'}. Best is trial 61 with value: 0.8318549142018113.\n"
     ]
    },
    {
     "name": "stdout",
     "output_type": "stream",
     "text": [
      "Score: 0.8309530486484705\n",
      "Fold 1\n",
      "Fold 2\n",
      "Fold 3\n"
     ]
    },
    {
     "name": "stderr",
     "output_type": "stream",
     "text": [
      "[I 2024-06-12 16:31:38,355] Trial 82 finished with value: 0.8309901113090529 and parameters: {'iterations': 1811, 'learning_rate': 0.043665863209085345, 'depth': 5, 'l2_leaf_reg': 3.1581676596302085e-05, 'bootstrap_type': 'Bayesian', 'od_type': 'Iter', 'random_strength': 43, 'border_count': 167, 'boosting_type': 'Plain'}. Best is trial 61 with value: 0.8318549142018113.\n"
     ]
    },
    {
     "name": "stdout",
     "output_type": "stream",
     "text": [
      "Score: 0.8309901113090529\n",
      "Fold 1\n",
      "Fold 2\n",
      "Fold 3\n"
     ]
    },
    {
     "name": "stderr",
     "output_type": "stream",
     "text": [
      "[I 2024-06-12 16:32:09,446] Trial 83 finished with value: 0.8307553713566493 and parameters: {'iterations': 1918, 'learning_rate': 0.06199294891566329, 'depth': 4, 'l2_leaf_reg': 0.0005368783074034902, 'bootstrap_type': 'Bayesian', 'od_type': 'Iter', 'random_strength': 59, 'border_count': 201, 'boosting_type': 'Plain'}. Best is trial 61 with value: 0.8318549142018113.\n"
     ]
    },
    {
     "name": "stdout",
     "output_type": "stream",
     "text": [
      "Score: 0.8307553713566493\n",
      "Fold 1\n",
      "Fold 2\n",
      "Fold 3\n"
     ]
    },
    {
     "name": "stderr",
     "output_type": "stream",
     "text": [
      "[I 2024-06-12 16:32:46,773] Trial 84 finished with value: 0.8305947590149533 and parameters: {'iterations': 1948, 'learning_rate': 0.08253262328460792, 'depth': 5, 'l2_leaf_reg': 0.00012442104263914945, 'bootstrap_type': 'Bayesian', 'od_type': 'Iter', 'random_strength': 54, 'border_count': 248, 'boosting_type': 'Plain'}. Best is trial 61 with value: 0.8318549142018113.\n"
     ]
    },
    {
     "name": "stdout",
     "output_type": "stream",
     "text": [
      "Score: 0.8305947590149533\n",
      "Fold 1\n",
      "Fold 2\n",
      "Fold 3\n"
     ]
    },
    {
     "name": "stderr",
     "output_type": "stream",
     "text": [
      "[I 2024-06-12 16:33:25,345] Trial 85 finished with value: 0.8306565400372757 and parameters: {'iterations': 1571, 'learning_rate': 0.03470374737482406, 'depth': 6, 'l2_leaf_reg': 0.00024474838589116715, 'bootstrap_type': 'MVS', 'od_type': 'Iter', 'random_strength': 49, 'border_count': 225, 'boosting_type': 'Plain'}. Best is trial 61 with value: 0.8318549142018113.\n"
     ]
    },
    {
     "name": "stdout",
     "output_type": "stream",
     "text": [
      "Score: 0.8306565400372757\n",
      "Fold 1\n",
      "Fold 2\n",
      "Fold 3\n"
     ]
    },
    {
     "name": "stderr",
     "output_type": "stream",
     "text": [
      "[I 2024-06-12 16:33:51,415] Trial 86 finished with value: 0.8301994190843849 and parameters: {'iterations': 1372, 'learning_rate': 0.048868741253352256, 'depth': 5, 'l2_leaf_reg': 4.2626883757577185e-05, 'bootstrap_type': 'Bayesian', 'od_type': 'Iter', 'random_strength': 63, 'border_count': 208, 'boosting_type': 'Plain'}. Best is trial 61 with value: 0.8318549142018113.\n"
     ]
    },
    {
     "name": "stdout",
     "output_type": "stream",
     "text": [
      "Score: 0.8301994190843849\n",
      "Fold 1\n",
      "Fold 2\n",
      "Fold 3\n"
     ]
    },
    {
     "name": "stderr",
     "output_type": "stream",
     "text": [
      "[I 2024-06-12 16:34:15,098] Trial 87 finished with value: 0.8306318180122672 and parameters: {'iterations': 1445, 'learning_rate': 0.09991188383955522, 'depth': 4, 'l2_leaf_reg': 1.5076213761522246e-05, 'bootstrap_type': 'Bayesian', 'od_type': 'Iter', 'random_strength': 60, 'border_count': 183, 'boosting_type': 'Plain'}. Best is trial 61 with value: 0.8318549142018113.\n"
     ]
    },
    {
     "name": "stdout",
     "output_type": "stream",
     "text": [
      "Score: 0.8306318180122672\n",
      "Fold 1\n",
      "Fold 2\n",
      "Fold 3\n"
     ]
    },
    {
     "name": "stderr",
     "output_type": "stream",
     "text": [
      "[I 2024-06-12 16:34:24,425] Trial 88 finished with value: 0.8267030903616504 and parameters: {'iterations': 445, 'learning_rate': 0.06129025916388689, 'depth': 5, 'l2_leaf_reg': 6.312024547648576e-05, 'bootstrap_type': 'Bayesian', 'od_type': 'Iter', 'random_strength': 5, 'border_count': 232, 'boosting_type': 'Plain'}. Best is trial 61 with value: 0.8318549142018113.\n"
     ]
    },
    {
     "name": "stdout",
     "output_type": "stream",
     "text": [
      "Score: 0.8267030903616504\n",
      "Fold 1\n",
      "Fold 2\n",
      "Fold 3\n"
     ]
    },
    {
     "name": "stderr",
     "output_type": "stream",
     "text": [
      "[I 2024-06-12 16:34:45,834] Trial 89 finished with value: 0.8256652941956694 and parameters: {'iterations': 941, 'learning_rate': 0.023861562022333253, 'depth': 6, 'l2_leaf_reg': 2.2933037702974093e-05, 'bootstrap_type': 'Bayesian', 'od_type': 'Iter', 'random_strength': 77, 'border_count': 174, 'boosting_type': 'Plain'}. Best is trial 61 with value: 0.8318549142018113.\n"
     ]
    },
    {
     "name": "stdout",
     "output_type": "stream",
     "text": [
      "Score: 0.8256652941956694\n",
      "Fold 1\n",
      "Fold 2\n",
      "Fold 3\n"
     ]
    },
    {
     "name": "stderr",
     "output_type": "stream",
     "text": [
      "[I 2024-06-12 16:35:19,940] Trial 90 finished with value: 0.8300758593292829 and parameters: {'iterations': 1115, 'learning_rate': 0.032563111907280055, 'depth': 7, 'l2_leaf_reg': 0.0003822699948903632, 'bootstrap_type': 'Bayesian', 'od_type': 'Iter', 'random_strength': 66, 'border_count': 192, 'boosting_type': 'Plain'}. Best is trial 61 with value: 0.8318549142018113.\n"
     ]
    },
    {
     "name": "stdout",
     "output_type": "stream",
     "text": [
      "Score: 0.8300758593292829\n",
      "Fold 1\n",
      "Fold 2\n",
      "Fold 3\n"
     ]
    },
    {
     "name": "stderr",
     "output_type": "stream",
     "text": [
      "[I 2024-06-12 16:36:46,982] Trial 91 finished with value: 0.8308665547593105 and parameters: {'iterations': 1699, 'learning_rate': 0.042542467640847376, 'depth': 8, 'l2_leaf_reg': 4.515419416703739e-05, 'bootstrap_type': 'Bayesian', 'od_type': 'Iter', 'random_strength': 90, 'border_count': 57, 'boosting_type': 'Plain'}. Best is trial 61 with value: 0.8318549142018113.\n"
     ]
    },
    {
     "name": "stdout",
     "output_type": "stream",
     "text": [
      "Score: 0.8308665547593105\n",
      "Fold 1\n",
      "Fold 2\n",
      "Fold 3\n"
     ]
    },
    {
     "name": "stderr",
     "output_type": "stream",
     "text": [
      "[I 2024-06-12 16:37:35,435] Trial 92 finished with value: 0.8311136541215381 and parameters: {'iterations': 1627, 'learning_rate': 0.04446791680005014, 'depth': 7, 'l2_leaf_reg': 8.805307717683058e-05, 'bootstrap_type': 'Bayesian', 'od_type': 'Iter', 'random_strength': 93, 'border_count': 74, 'boosting_type': 'Plain'}. Best is trial 61 with value: 0.8318549142018113.\n"
     ]
    },
    {
     "name": "stdout",
     "output_type": "stream",
     "text": [
      "Score: 0.8311136541215381\n",
      "Fold 1\n",
      "Fold 2\n",
      "Fold 3\n"
     ]
    },
    {
     "name": "stderr",
     "output_type": "stream",
     "text": [
      "[I 2024-06-12 16:38:30,336] Trial 93 finished with value: 0.8283956394393965 and parameters: {'iterations': 1860, 'learning_rate': 0.07185361463655911, 'depth': 7, 'l2_leaf_reg': 0.0002311333357565981, 'bootstrap_type': 'Bayesian', 'od_type': 'Iter', 'random_strength': 84, 'border_count': 39, 'boosting_type': 'Plain'}. Best is trial 61 with value: 0.8318549142018113.\n"
     ]
    },
    {
     "name": "stdout",
     "output_type": "stream",
     "text": [
      "Score: 0.8283956394393965\n",
      "Fold 1\n",
      "Fold 2\n",
      "Fold 3\n"
     ]
    },
    {
     "name": "stderr",
     "output_type": "stream",
     "text": [
      "[I 2024-06-12 16:39:14,546] Trial 94 finished with value: 0.8311507076239494 and parameters: {'iterations': 1956, 'learning_rate': 0.057040536826441474, 'depth': 6, 'l2_leaf_reg': 9.306845601068144e-05, 'bootstrap_type': 'Bayesian', 'od_type': 'Iter', 'random_strength': 93, 'border_count': 89, 'boosting_type': 'Plain'}. Best is trial 61 with value: 0.8318549142018113.\n"
     ]
    },
    {
     "name": "stdout",
     "output_type": "stream",
     "text": [
      "Score: 0.8311507076239494\n",
      "Fold 1\n",
      "Fold 2\n",
      "Fold 3\n"
     ]
    },
    {
     "name": "stderr",
     "output_type": "stream",
     "text": [
      "[I 2024-06-12 16:39:45,746] Trial 95 finished with value: 0.8305700562221041 and parameters: {'iterations': 1664, 'learning_rate': 0.0372475180829914, 'depth': 5, 'l2_leaf_reg': 0.0009496822314914978, 'bootstrap_type': 'Bayesian', 'od_type': 'Iter', 'random_strength': 13, 'border_count': 122, 'boosting_type': 'Plain'}. Best is trial 61 with value: 0.8318549142018113.\n"
     ]
    },
    {
     "name": "stdout",
     "output_type": "stream",
     "text": [
      "Score: 0.8305700562221041\n",
      "Fold 1\n",
      "Fold 2\n",
      "Fold 3\n"
     ]
    },
    {
     "name": "stderr",
     "output_type": "stream",
     "text": [
      "[I 2024-06-12 16:40:26,465] Trial 96 finished with value: 0.8296064014040868 and parameters: {'iterations': 1761, 'learning_rate': 0.07839308932391534, 'depth': 6, 'l2_leaf_reg': 1.3855688020075283e-05, 'bootstrap_type': 'Bayesian', 'od_type': 'Iter', 'random_strength': 88, 'border_count': 135, 'boosting_type': 'Plain'}. Best is trial 61 with value: 0.8318549142018113.\n"
     ]
    },
    {
     "name": "stdout",
     "output_type": "stream",
     "text": [
      "Score: 0.8296064014040868\n",
      "Fold 1\n",
      "Fold 2\n",
      "Fold 3\n"
     ]
    },
    {
     "name": "stderr",
     "output_type": "stream",
     "text": [
      "[I 2024-06-12 16:41:32,882] Trial 97 finished with value: 0.8301994117578481 and parameters: {'iterations': 1226, 'learning_rate': 0.02917393954900344, 'depth': 8, 'l2_leaf_reg': 1.0030113332733452e-05, 'bootstrap_type': 'Bernoulli', 'od_type': 'Iter', 'random_strength': 57, 'border_count': 218, 'boosting_type': 'Plain'}. Best is trial 61 with value: 0.8318549142018113.\n"
     ]
    },
    {
     "name": "stdout",
     "output_type": "stream",
     "text": [
      "Score: 0.8301994117578481\n",
      "Fold 1\n",
      "Fold 2\n",
      "Fold 3\n"
     ]
    },
    {
     "name": "stderr",
     "output_type": "stream",
     "text": [
      "[I 2024-06-12 16:42:07,422] Trial 98 finished with value: 0.8292728273848585 and parameters: {'iterations': 1551, 'learning_rate': 0.022843542008522292, 'depth': 6, 'l2_leaf_reg': 0.00016127125778212824, 'bootstrap_type': 'Bayesian', 'od_type': 'Iter', 'random_strength': 34, 'border_count': 69, 'boosting_type': 'Plain'}. Best is trial 61 with value: 0.8318549142018113.\n"
     ]
    },
    {
     "name": "stdout",
     "output_type": "stream",
     "text": [
      "Score: 0.8292728273848585\n",
      "Fold 1\n",
      "Fold 2\n",
      "Fold 3\n"
     ]
    },
    {
     "name": "stderr",
     "output_type": "stream",
     "text": [
      "[I 2024-06-12 16:43:06,567] Trial 99 finished with value: 0.8307059520336941 and parameters: {'iterations': 1862, 'learning_rate': 0.0435004437883953, 'depth': 7, 'l2_leaf_reg': 3.7315406718861326e-05, 'bootstrap_type': 'Bayesian', 'od_type': 'Iter', 'random_strength': 21, 'border_count': 209, 'boosting_type': 'Plain'}. Best is trial 61 with value: 0.8318549142018113.\n"
     ]
    },
    {
     "name": "stdout",
     "output_type": "stream",
     "text": [
      "Score: 0.8307059520336941\n",
      "Fold 1\n",
      "Fold 2\n",
      "Fold 3\n"
     ]
    },
    {
     "name": "stderr",
     "output_type": "stream",
     "text": [
      "[I 2024-06-12 16:43:39,290] Trial 100 finished with value: 0.8312371955602981 and parameters: {'iterations': 1599, 'learning_rate': 0.05674148536409072, 'depth': 5, 'l2_leaf_reg': 2.305887266857788e-05, 'bootstrap_type': 'MVS', 'od_type': 'Iter', 'random_strength': 45, 'border_count': 237, 'boosting_type': 'Plain'}. Best is trial 61 with value: 0.8318549142018113.\n"
     ]
    },
    {
     "name": "stdout",
     "output_type": "stream",
     "text": [
      "Score: 0.8312371955602981\n",
      "Fold 1\n",
      "Fold 2\n",
      "Fold 3\n"
     ]
    },
    {
     "name": "stderr",
     "output_type": "stream",
     "text": [
      "[I 2024-06-12 16:44:05,621] Trial 101 finished with value: 0.8304465069988988 and parameters: {'iterations': 1379, 'learning_rate': 0.07193149136013233, 'depth': 5, 'l2_leaf_reg': 0.00011867269476741727, 'bootstrap_type': 'Bayesian', 'od_type': 'Iter', 'random_strength': 58, 'border_count': 213, 'boosting_type': 'Plain'}. Best is trial 61 with value: 0.8318549142018113.\n"
     ]
    },
    {
     "name": "stdout",
     "output_type": "stream",
     "text": [
      "Score: 0.8304465069988988\n",
      "Fold 1\n",
      "Fold 2\n",
      "Fold 3\n"
     ]
    },
    {
     "name": "stderr",
     "output_type": "stream",
     "text": [
      "[I 2024-06-12 16:44:34,296] Trial 102 finished with value: 0.8310148099807252 and parameters: {'iterations': 1510, 'learning_rate': 0.06685541666090848, 'depth': 5, 'l2_leaf_reg': 7.1219759559636e-05, 'bootstrap_type': 'Bayesian', 'od_type': 'Iter', 'random_strength': 54, 'border_count': 229, 'boosting_type': 'Plain'}. Best is trial 61 with value: 0.8318549142018113.\n"
     ]
    },
    {
     "name": "stdout",
     "output_type": "stream",
     "text": [
      "Score: 0.8310148099807252\n",
      "Fold 1\n",
      "Fold 2\n",
      "Fold 3\n"
     ]
    },
    {
     "name": "stderr",
     "output_type": "stream",
     "text": [
      "[I 2024-06-12 16:45:01,911] Trial 103 finished with value: 0.8308665630016646 and parameters: {'iterations': 1455, 'learning_rate': 0.04823336864868202, 'depth': 5, 'l2_leaf_reg': 0.00010931178932759531, 'bootstrap_type': 'Bayesian', 'od_type': 'Iter', 'random_strength': 51, 'border_count': 222, 'boosting_type': 'Plain'}. Best is trial 61 with value: 0.8318549142018113.\n"
     ]
    },
    {
     "name": "stdout",
     "output_type": "stream",
     "text": [
      "Score: 0.8308665630016646\n",
      "Fold 1\n",
      "Fold 2\n",
      "Fold 3\n"
     ]
    },
    {
     "name": "stderr",
     "output_type": "stream",
     "text": [
      "[I 2024-06-12 16:45:24,309] Trial 104 finished with value: 0.8288898377059434 and parameters: {'iterations': 1364, 'learning_rate': 0.038171975620666196, 'depth': 4, 'l2_leaf_reg': 3.482674300637932e-05, 'bootstrap_type': 'Bayesian', 'od_type': 'Iter', 'random_strength': 28, 'border_count': 246, 'boosting_type': 'Plain'}. Best is trial 61 with value: 0.8318549142018113.\n"
     ]
    },
    {
     "name": "stdout",
     "output_type": "stream",
     "text": [
      "Score: 0.8288898377059434\n",
      "Fold 1\n",
      "Fold 2\n",
      "Fold 3\n"
     ]
    },
    {
     "name": "stderr",
     "output_type": "stream",
     "text": [
      "[I 2024-06-12 16:45:54,486] Trial 105 finished with value: 0.8296928810980816 and parameters: {'iterations': 1305, 'learning_rate': 0.09049167806355246, 'depth': 6, 'l2_leaf_reg': 5.0193312007168384e-05, 'bootstrap_type': 'Bayesian', 'od_type': 'Iter', 'random_strength': 72, 'border_count': 149, 'boosting_type': 'Plain'}. Best is trial 61 with value: 0.8318549142018113.\n"
     ]
    },
    {
     "name": "stdout",
     "output_type": "stream",
     "text": [
      "Score: 0.8296928810980816\n",
      "Fold 1\n",
      "Fold 2\n",
      "Fold 3\n"
     ]
    },
    {
     "name": "stderr",
     "output_type": "stream",
     "text": [
      "[I 2024-06-12 16:46:39,764] Trial 106 finished with value: 0.8311507167821205 and parameters: {'iterations': 1966, 'learning_rate': 0.03035944968157547, 'depth': 6, 'l2_leaf_reg': 1.841576575851154e-05, 'bootstrap_type': 'Bayesian', 'od_type': 'Iter', 'random_strength': 9, 'border_count': 197, 'boosting_type': 'Plain'}. Best is trial 61 with value: 0.8318549142018113.\n"
     ]
    },
    {
     "name": "stdout",
     "output_type": "stream",
     "text": [
      "Score: 0.8311507167821205\n",
      "Fold 1\n",
      "Fold 2\n",
      "Fold 3\n"
     ]
    },
    {
     "name": "stderr",
     "output_type": "stream",
     "text": [
      "[I 2024-06-12 16:47:11,815] Trial 107 finished with value: 0.8304588558768263 and parameters: {'iterations': 1714, 'learning_rate': 0.06533302661726331, 'depth': 5, 'l2_leaf_reg': 0.00020624260667826834, 'bootstrap_type': 'Bayesian', 'od_type': 'IncToDec', 'random_strength': 65, 'border_count': 95, 'boosting_type': 'Plain'}. Best is trial 61 with value: 0.8318549142018113.\n"
     ]
    },
    {
     "name": "stdout",
     "output_type": "stream",
     "text": [
      "Score: 0.8304588558768263\n",
      "Fold 1\n",
      "Fold 2\n",
      "Fold 3\n"
     ]
    },
    {
     "name": "stderr",
     "output_type": "stream",
     "text": [
      "[I 2024-06-12 16:47:45,211] Trial 108 finished with value: 0.8315584193278731 and parameters: {'iterations': 1787, 'learning_rate': 0.050441828009835266, 'depth': 5, 'l2_leaf_reg': 8.335604848519557e-05, 'bootstrap_type': 'Bayesian', 'od_type': 'Iter', 'random_strength': 73, 'border_count': 105, 'boosting_type': 'Plain'}. Best is trial 61 with value: 0.8318549142018113.\n"
     ]
    },
    {
     "name": "stdout",
     "output_type": "stream",
     "text": [
      "Score: 0.8315584193278731\n",
      "Fold 1\n",
      "Fold 2\n",
      "Fold 3\n"
     ]
    },
    {
     "name": "stderr",
     "output_type": "stream",
     "text": [
      "[I 2024-06-12 16:48:14,307] Trial 109 finished with value: 0.8301376385199711 and parameters: {'iterations': 1805, 'learning_rate': 0.04962848723588197, 'depth': 4, 'l2_leaf_reg': 6.539232903437878e-05, 'bootstrap_type': 'Bayesian', 'od_type': 'Iter', 'random_strength': 75, 'border_count': 109, 'boosting_type': 'Plain'}. Best is trial 61 with value: 0.8318549142018113.\n"
     ]
    },
    {
     "name": "stdout",
     "output_type": "stream",
     "text": [
      "Score: 0.8301376385199711\n",
      "Fold 1\n",
      "Fold 2\n",
      "Fold 3\n"
     ]
    },
    {
     "name": "stderr",
     "output_type": "stream",
     "text": [
      "[I 2024-06-12 16:48:49,578] Trial 110 finished with value: 0.8297546547938671 and parameters: {'iterations': 1906, 'learning_rate': 0.02608828610544104, 'depth': 5, 'l2_leaf_reg': 2.6913008421939772e-05, 'bootstrap_type': 'Bayesian', 'od_type': 'Iter', 'random_strength': 100, 'border_count': 117, 'boosting_type': 'Plain'}. Best is trial 61 with value: 0.8318549142018113.\n"
     ]
    },
    {
     "name": "stdout",
     "output_type": "stream",
     "text": [
      "Score: 0.8297546547938671\n",
      "Fold 1\n",
      "Fold 2\n",
      "Fold 3\n"
     ]
    },
    {
     "name": "stderr",
     "output_type": "stream",
     "text": [
      "[I 2024-06-12 16:49:22,777] Trial 111 finished with value: 0.8310518799678442 and parameters: {'iterations': 1764, 'learning_rate': 0.0851227420509753, 'depth': 5, 'l2_leaf_reg': 9.029941809087434e-05, 'bootstrap_type': 'Bayesian', 'od_type': 'Iter', 'random_strength': 69, 'border_count': 106, 'boosting_type': 'Plain'}. Best is trial 61 with value: 0.8318549142018113.\n"
     ]
    },
    {
     "name": "stdout",
     "output_type": "stream",
     "text": [
      "Score: 0.8310518799678442\n",
      "Fold 1\n",
      "Fold 2\n",
      "Fold 3\n"
     ]
    },
    {
     "name": "stderr",
     "output_type": "stream",
     "text": [
      "[I 2024-06-12 16:49:50,416] Trial 112 finished with value: 0.8306071197985033 and parameters: {'iterations': 1476, 'learning_rate': 0.0365636845225501, 'depth': 5, 'l2_leaf_reg': 4.9681418287352374e-05, 'bootstrap_type': 'Bayesian', 'od_type': 'Iter', 'random_strength': 62, 'border_count': 102, 'boosting_type': 'Plain'}. Best is trial 61 with value: 0.8318549142018113.\n"
     ]
    },
    {
     "name": "stdout",
     "output_type": "stream",
     "text": [
      "Score: 0.8306071197985033\n",
      "Fold 1\n",
      "Fold 2\n",
      "Fold 3\n"
     ]
    },
    {
     "name": "stderr",
     "output_type": "stream",
     "text": [
      "[I 2024-06-12 16:50:25,219] Trial 113 finished with value: 0.8312866176307048 and parameters: {'iterations': 1838, 'learning_rate': 0.05585034490937348, 'depth': 5, 'l2_leaf_reg': 0.00014998819061252824, 'bootstrap_type': 'Bayesian', 'od_type': 'Iter', 'random_strength': 73, 'border_count': 93, 'boosting_type': 'Plain'}. Best is trial 61 with value: 0.8318549142018113.\n"
     ]
    },
    {
     "name": "stdout",
     "output_type": "stream",
     "text": [
      "Score: 0.8312866176307048\n",
      "Fold 1\n",
      "Fold 2\n",
      "Fold 3\n"
     ]
    },
    {
     "name": "stderr",
     "output_type": "stream",
     "text": [
      "[I 2024-06-12 16:51:10,423] Trial 114 finished with value: 0.8312495526805798 and parameters: {'iterations': 2000, 'learning_rate': 0.05544290475218613, 'depth': 6, 'l2_leaf_reg': 0.0001582573133685589, 'bootstrap_type': 'Bayesian', 'od_type': 'Iter', 'random_strength': 73, 'border_count': 82, 'boosting_type': 'Plain'}. Best is trial 61 with value: 0.8318549142018113.\n"
     ]
    },
    {
     "name": "stdout",
     "output_type": "stream",
     "text": [
      "Score: 0.8312495526805798\n",
      "Fold 1\n",
      "Fold 2\n",
      "Fold 3\n"
     ]
    },
    {
     "name": "stderr",
     "output_type": "stream",
     "text": [
      "[I 2024-06-12 16:51:45,519] Trial 115 finished with value: 0.8310642357144 and parameters: {'iterations': 1887, 'learning_rate': 0.041542295553125316, 'depth': 5, 'l2_leaf_reg': 0.0003379114125010759, 'bootstrap_type': 'Bayesian', 'od_type': 'Iter', 'random_strength': 78, 'border_count': 90, 'boosting_type': 'Plain'}. Best is trial 61 with value: 0.8318549142018113.\n"
     ]
    },
    {
     "name": "stdout",
     "output_type": "stream",
     "text": [
      "Score: 0.8310642357144\n",
      "Fold 1\n",
      "Fold 2\n",
      "Fold 3\n"
     ]
    },
    {
     "name": "stderr",
     "output_type": "stream",
     "text": [
      "[I 2024-06-12 16:52:26,751] Trial 116 finished with value: 0.8289516068226432 and parameters: {'iterations': 1834, 'learning_rate': 0.017629933972968522, 'depth': 6, 'l2_leaf_reg': 7.627069017937298e-05, 'bootstrap_type': 'Bernoulli', 'od_type': 'Iter', 'random_strength': 82, 'border_count': 163, 'boosting_type': 'Plain'}. Best is trial 61 with value: 0.8318549142018113.\n"
     ]
    },
    {
     "name": "stdout",
     "output_type": "stream",
     "text": [
      "Score: 0.8289516068226432\n",
      "Fold 1\n",
      "Fold 2\n",
      "Fold 3\n"
     ]
    },
    {
     "name": "stderr",
     "output_type": "stream",
     "text": [
      "[I 2024-06-12 16:52:58,716] Trial 117 finished with value: 0.8301994236634704 and parameters: {'iterations': 1684, 'learning_rate': 0.031879209666686496, 'depth': 5, 'l2_leaf_reg': 3.7936981541007886e-05, 'bootstrap_type': 'Bayesian', 'od_type': 'Iter', 'random_strength': 76, 'border_count': 253, 'boosting_type': 'Plain'}. Best is trial 61 with value: 0.8318549142018113.\n"
     ]
    },
    {
     "name": "stdout",
     "output_type": "stream",
     "text": [
      "Score: 0.8301994236634704\n",
      "Fold 1\n",
      "Fold 2\n",
      "Fold 3\n"
     ]
    },
    {
     "name": "stderr",
     "output_type": "stream",
     "text": [
      "[I 2024-06-12 16:54:30,436] Trial 118 finished with value: 0.8266289622930346 and parameters: {'iterations': 1757, 'learning_rate': 0.0828547223908866, 'depth': 8, 'l2_leaf_reg': 0.0007510687224887001, 'bootstrap_type': 'Bayesian', 'od_type': 'Iter', 'random_strength': 68, 'border_count': 94, 'boosting_type': 'Plain'}. Best is trial 61 with value: 0.8318549142018113.\n"
     ]
    },
    {
     "name": "stdout",
     "output_type": "stream",
     "text": [
      "Score: 0.8266289622930346\n",
      "Fold 1\n",
      "Fold 2\n",
      "Fold 3\n"
     ]
    },
    {
     "name": "stderr",
     "output_type": "stream",
     "text": [
      "[I 2024-06-12 16:55:01,200] Trial 119 finished with value: 0.8305576885699256 and parameters: {'iterations': 1927, 'learning_rate': 0.05485735013839851, 'depth': 4, 'l2_leaf_reg': 0.0002825578400787575, 'bootstrap_type': 'Bayesian', 'od_type': 'Iter', 'random_strength': 70, 'border_count': 77, 'boosting_type': 'Plain'}. Best is trial 61 with value: 0.8318549142018113.\n"
     ]
    },
    {
     "name": "stdout",
     "output_type": "stream",
     "text": [
      "Score: 0.8305576885699256\n",
      "Fold 1\n",
      "Fold 2\n",
      "Fold 3\n"
     ]
    },
    {
     "name": "stderr",
     "output_type": "stream",
     "text": [
      "[I 2024-06-12 16:55:38,719] Trial 120 finished with value: 0.8281856334176242 and parameters: {'iterations': 1641, 'learning_rate': 0.09978819222580941, 'depth': 6, 'l2_leaf_reg': 1.794478962849396e-05, 'bootstrap_type': 'Bayesian', 'od_type': 'IncToDec', 'random_strength': 82, 'border_count': 100, 'boosting_type': 'Plain'}. Best is trial 61 with value: 0.8318549142018113.\n"
     ]
    },
    {
     "name": "stdout",
     "output_type": "stream",
     "text": [
      "Score: 0.8281856334176242\n",
      "Fold 1\n",
      "Fold 2\n",
      "Fold 3\n"
     ]
    },
    {
     "name": "stderr",
     "output_type": "stream",
     "text": [
      "[I 2024-06-12 16:56:13,203] Trial 121 finished with value: 0.8317931487483797 and parameters: {'iterations': 1846, 'learning_rate': 0.06535230533447503, 'depth': 5, 'l2_leaf_reg': 0.0001243149177347767, 'bootstrap_type': 'Bayesian', 'od_type': 'Iter', 'random_strength': 66, 'border_count': 68, 'boosting_type': 'Plain'}. Best is trial 61 with value: 0.8318549142018113.\n"
     ]
    },
    {
     "name": "stdout",
     "output_type": "stream",
     "text": [
      "Score: 0.8317931487483797\n",
      "Fold 1\n",
      "Fold 2\n",
      "Fold 3\n"
     ]
    },
    {
     "name": "stderr",
     "output_type": "stream",
     "text": [
      "[I 2024-06-12 16:56:47,682] Trial 122 finished with value: 0.8313483734680567 and parameters: {'iterations': 1843, 'learning_rate': 0.06637854746587808, 'depth': 5, 'l2_leaf_reg': 0.00012448551670193563, 'bootstrap_type': 'Bayesian', 'od_type': 'Iter', 'random_strength': 66, 'border_count': 107, 'boosting_type': 'Plain'}. Best is trial 61 with value: 0.8318549142018113.\n"
     ]
    },
    {
     "name": "stdout",
     "output_type": "stream",
     "text": [
      "Score: 0.8313483734680567\n",
      "Fold 1\n",
      "Fold 2\n",
      "Fold 3\n"
     ]
    },
    {
     "name": "stderr",
     "output_type": "stream",
     "text": [
      "[I 2024-06-12 16:57:21,360] Trial 123 finished with value: 0.8308912813634048 and parameters: {'iterations': 1807, 'learning_rate': 0.07418392866185643, 'depth': 5, 'l2_leaf_reg': 0.0004686929804736858, 'bootstrap_type': 'Bayesian', 'od_type': 'Iter', 'random_strength': 66, 'border_count': 41, 'boosting_type': 'Plain'}. Best is trial 61 with value: 0.8318549142018113.\n"
     ]
    },
    {
     "name": "stdout",
     "output_type": "stream",
     "text": [
      "Score: 0.8308912813634048\n",
      "Fold 1\n",
      "Fold 2\n",
      "Fold 3\n"
     ]
    },
    {
     "name": "stderr",
     "output_type": "stream",
     "text": [
      "[I 2024-06-12 16:57:53,835] Trial 124 finished with value: 0.8310518868364726 and parameters: {'iterations': 1733, 'learning_rate': 0.04664631784600216, 'depth': 5, 'l2_leaf_reg': 5.775243846781209e-05, 'bootstrap_type': 'Bayesian', 'od_type': 'Iter', 'random_strength': 61, 'border_count': 66, 'boosting_type': 'Plain'}. Best is trial 61 with value: 0.8318549142018113.\n"
     ]
    },
    {
     "name": "stdout",
     "output_type": "stream",
     "text": [
      "Score: 0.8310518868364726\n",
      "Fold 1\n",
      "Fold 2\n",
      "Fold 3\n"
     ]
    },
    {
     "name": "stderr",
     "output_type": "stream",
     "text": [
      "[I 2024-06-12 16:58:29,147] Trial 125 finished with value: 0.8316201870708476 and parameters: {'iterations': 1879, 'learning_rate': 0.0686333237103628, 'depth': 5, 'l2_leaf_reg': 0.0001104126051859128, 'bootstrap_type': 'Bayesian', 'od_type': 'Iter', 'random_strength': 64, 'border_count': 126, 'boosting_type': 'Plain'}. Best is trial 61 with value: 0.8318549142018113.\n"
     ]
    },
    {
     "name": "stdout",
     "output_type": "stream",
     "text": [
      "Score: 0.8316201870708476\n",
      "Fold 1\n",
      "Fold 2\n",
      "Fold 3\n"
     ]
    },
    {
     "name": "stderr",
     "output_type": "stream",
     "text": [
      "[I 2024-06-12 16:59:02,590] Trial 126 finished with value: 0.8301376504255935 and parameters: {'iterations': 1896, 'learning_rate': 0.03924078580139537, 'depth': 4, 'l2_leaf_reg': 2.6197034911738333e-05, 'bootstrap_type': 'MVS', 'od_type': 'Iter', 'random_strength': 64, 'border_count': 126, 'boosting_type': 'Plain'}. Best is trial 61 with value: 0.8318549142018113.\n"
     ]
    },
    {
     "name": "stdout",
     "output_type": "stream",
     "text": [
      "Score: 0.8301376504255935\n",
      "Fold 1\n",
      "Fold 2\n",
      "Fold 3\n"
     ]
    },
    {
     "name": "stderr",
     "output_type": "stream",
     "text": [
      "[I 2024-06-12 16:59:45,603] Trial 127 finished with value: 0.830953044985202 and parameters: {'iterations': 1961, 'learning_rate': 0.033384626417419724, 'depth': 6, 'l2_leaf_reg': 0.00010681485179463238, 'bootstrap_type': 'Bayesian', 'od_type': 'Iter', 'random_strength': 59, 'border_count': 15, 'boosting_type': 'Plain'}. Best is trial 61 with value: 0.8318549142018113.\n"
     ]
    },
    {
     "name": "stdout",
     "output_type": "stream",
     "text": [
      "Score: 0.830953044985202\n",
      "Fold 1\n",
      "Fold 2\n",
      "Fold 3\n"
     ]
    },
    {
     "name": "stderr",
     "output_type": "stream",
     "text": [
      "[I 2024-06-12 17:00:19,049] Trial 128 finished with value: 0.8288157123847789 and parameters: {'iterations': 1785, 'learning_rate': 0.022320964035059856, 'depth': 5, 'l2_leaf_reg': 0.0002051374397873087, 'bootstrap_type': 'Bayesian', 'od_type': 'Iter', 'random_strength': 71, 'border_count': 240, 'boosting_type': 'Plain'}. Best is trial 61 with value: 0.8318549142018113.\n"
     ]
    },
    {
     "name": "stdout",
     "output_type": "stream",
     "text": [
      "Score: 0.8288157123847789\n",
      "Fold 1\n",
      "Fold 2\n",
      "Fold 3\n"
     ]
    },
    {
     "name": "stderr",
     "output_type": "stream",
     "text": [
      "[I 2024-06-12 17:01:16,575] Trial 129 finished with value: 0.8286056743094078 and parameters: {'iterations': 1938, 'learning_rate': 0.06474973183454527, 'depth': 7, 'l2_leaf_reg': 3.4228618711441094e-05, 'bootstrap_type': 'Bayesian', 'od_type': 'Iter', 'random_strength': 68, 'border_count': 52, 'boosting_type': 'Plain'}. Best is trial 61 with value: 0.8318549142018113.\n"
     ]
    },
    {
     "name": "stdout",
     "output_type": "stream",
     "text": [
      "Score: 0.8286056743094078\n",
      "Fold 1\n",
      "Fold 2\n",
      "Fold 3\n"
     ]
    },
    {
     "name": "stderr",
     "output_type": "stream",
     "text": [
      "[I 2024-06-12 17:01:59,467] Trial 130 finished with value: 0.8313360200110435 and parameters: {'iterations': 1891, 'learning_rate': 0.04878587288105089, 'depth': 6, 'l2_leaf_reg': 8.101370701278209e-05, 'bootstrap_type': 'Bayesian', 'od_type': 'Iter', 'random_strength': 39, 'border_count': 135, 'boosting_type': 'Plain'}. Best is trial 61 with value: 0.8318549142018113.\n"
     ]
    },
    {
     "name": "stdout",
     "output_type": "stream",
     "text": [
      "Score: 0.8313360200110435\n",
      "Fold 1\n",
      "Fold 2\n",
      "Fold 3\n"
     ]
    },
    {
     "name": "stderr",
     "output_type": "stream",
     "text": [
      "[I 2024-06-12 17:02:34,209] Trial 131 finished with value: 0.8309406842016521 and parameters: {'iterations': 1860, 'learning_rate': 0.06604731214598732, 'depth': 5, 'l2_leaf_reg': 4.959332111426027e-05, 'bootstrap_type': 'Bayesian', 'od_type': 'Iter', 'random_strength': 63, 'border_count': 114, 'boosting_type': 'Plain'}. Best is trial 61 with value: 0.8318549142018113.\n"
     ]
    },
    {
     "name": "stdout",
     "output_type": "stream",
     "text": [
      "Score: 0.8309406842016521\n",
      "Fold 1\n",
      "Fold 2\n",
      "Fold 3\n"
     ]
    },
    {
     "name": "stderr",
     "output_type": "stream",
     "text": [
      "[I 2024-06-12 17:03:09,128] Trial 132 finished with value: 0.830891266710331 and parameters: {'iterations': 1853, 'learning_rate': 0.08414030178210426, 'depth': 5, 'l2_leaf_reg': 0.0001243649262446497, 'bootstrap_type': 'Bayesian', 'od_type': 'Iter', 'random_strength': 66, 'border_count': 106, 'boosting_type': 'Plain'}. Best is trial 61 with value: 0.8318549142018113.\n"
     ]
    },
    {
     "name": "stdout",
     "output_type": "stream",
     "text": [
      "Score: 0.830891266710331\n",
      "Fold 1\n",
      "Fold 2\n",
      "Fold 3\n"
     ]
    },
    {
     "name": "stderr",
     "output_type": "stream",
     "text": [
      "[I 2024-06-12 17:03:42,585] Trial 133 finished with value: 0.8311383559985704 and parameters: {'iterations': 1796, 'learning_rate': 0.04509139669081988, 'depth': 5, 'l2_leaf_reg': 7.235783432765847e-05, 'bootstrap_type': 'Bayesian', 'od_type': 'Iter', 'random_strength': 13, 'border_count': 109, 'boosting_type': 'Plain'}. Best is trial 61 with value: 0.8318549142018113.\n"
     ]
    },
    {
     "name": "stdout",
     "output_type": "stream",
     "text": [
      "Score: 0.8311383559985704\n",
      "Fold 1\n",
      "Fold 2\n",
      "Fold 3\n"
     ]
    },
    {
     "name": "stderr",
     "output_type": "stream",
     "text": [
      "[I 2024-06-12 17:04:14,943] Trial 134 finished with value: 0.831027165727281 and parameters: {'iterations': 1714, 'learning_rate': 0.06067315638253709, 'depth': 5, 'l2_leaf_reg': 0.0002494146862906422, 'bootstrap_type': 'Bayesian', 'od_type': 'Iter', 'random_strength': 4, 'border_count': 142, 'boosting_type': 'Plain'}. Best is trial 61 with value: 0.8318549142018113.\n"
     ]
    },
    {
     "name": "stdout",
     "output_type": "stream",
     "text": [
      "Score: 0.831027165727281\n",
      "Fold 1\n",
      "Fold 2\n",
      "Fold 3\n"
     ]
    },
    {
     "name": "stderr",
     "output_type": "stream",
     "text": [
      "[I 2024-06-12 17:04:51,800] Trial 135 finished with value: 0.8308294916408198 and parameters: {'iterations': 1973, 'learning_rate': 0.07375211567805298, 'depth': 5, 'l2_leaf_reg': 0.0006384070719023305, 'bootstrap_type': 'Bayesian', 'od_type': 'Iter', 'random_strength': 61, 'border_count': 117, 'boosting_type': 'Plain'}. Best is trial 61 with value: 0.8318549142018113.\n"
     ]
    },
    {
     "name": "stdout",
     "output_type": "stream",
     "text": [
      "Score: 0.8308294916408198\n",
      "Fold 1\n",
      "Fold 2\n",
      "Fold 3\n"
     ]
    },
    {
     "name": "stderr",
     "output_type": "stream",
     "text": [
      "[I 2024-06-12 17:05:33,802] Trial 136 finished with value: 0.8301376440148737 and parameters: {'iterations': 1912, 'learning_rate': 0.027616531176089913, 'depth': 5, 'l2_leaf_reg': 1.2985953514771355e-05, 'bootstrap_type': 'Bayesian', 'od_type': 'Iter', 'random_strength': 57, 'border_count': 84, 'boosting_type': 'Plain'}. Best is trial 61 with value: 0.8318549142018113.\n"
     ]
    },
    {
     "name": "stdout",
     "output_type": "stream",
     "text": [
      "Score: 0.8301376440148737\n",
      "Fold 1\n",
      "Fold 2\n",
      "Fold 3\n"
     ]
    },
    {
     "name": "stderr",
     "output_type": "stream",
     "text": [
      "[I 2024-06-12 17:06:44,929] Trial 137 finished with value: 0.8285191941575044 and parameters: {'iterations': 1825, 'learning_rate': 0.09980304745681802, 'depth': 6, 'l2_leaf_reg': 0.00010013685147289629, 'bootstrap_type': 'Bayesian', 'od_type': 'Iter', 'random_strength': 64, 'border_count': 128, 'boosting_type': 'Plain'}. Best is trial 61 with value: 0.8318549142018113.\n"
     ]
    },
    {
     "name": "stdout",
     "output_type": "stream",
     "text": [
      "Score: 0.8285191941575044\n",
      "Fold 1\n",
      "Fold 2\n",
      "Fold 3\n"
     ]
    },
    {
     "name": "stderr",
     "output_type": "stream",
     "text": [
      "[I 2024-06-12 17:07:08,296] Trial 138 finished with value: 0.8255170403479805 and parameters: {'iterations': 773, 'learning_rate': 0.04011013176054321, 'depth': 4, 'l2_leaf_reg': 0.0001638880728348817, 'bootstrap_type': 'Bernoulli', 'od_type': 'Iter', 'random_strength': 67, 'border_count': 231, 'boosting_type': 'Plain'}. Best is trial 61 with value: 0.8318549142018113.\n"
     ]
    },
    {
     "name": "stdout",
     "output_type": "stream",
     "text": [
      "Score: 0.8255170403479805\n",
      "Fold 1\n",
      "Fold 2\n",
      "Fold 3\n"
     ]
    },
    {
     "name": "stderr",
     "output_type": "stream",
     "text": [
      "[I 2024-06-12 17:08:14,929] Trial 139 finished with value: 0.8310024578974375 and parameters: {'iterations': 1676, 'learning_rate': 0.05370475209696857, 'depth': 6, 'l2_leaf_reg': 4.08289301409656e-05, 'bootstrap_type': 'Bayesian', 'od_type': 'Iter', 'random_strength': 53, 'border_count': 120, 'boosting_type': 'Plain'}. Best is trial 61 with value: 0.8318549142018113.\n"
     ]
    },
    {
     "name": "stdout",
     "output_type": "stream",
     "text": [
      "Score: 0.8310024578974375\n",
      "Fold 1\n",
      "Fold 2\n",
      "Fold 3\n"
     ]
    },
    {
     "name": "stderr",
     "output_type": "stream",
     "text": [
      "[I 2024-06-12 17:09:12,993] Trial 140 finished with value: 0.8310518685201304 and parameters: {'iterations': 1744, 'learning_rate': 0.07062937352149048, 'depth': 5, 'l2_leaf_reg': 2.213943100265363e-05, 'bootstrap_type': 'Bayesian', 'od_type': 'Iter', 'random_strength': 16, 'border_count': 226, 'boosting_type': 'Plain'}. Best is trial 61 with value: 0.8318549142018113.\n"
     ]
    },
    {
     "name": "stdout",
     "output_type": "stream",
     "text": [
      "Score: 0.8310518685201304\n",
      "Fold 1\n",
      "Fold 2\n",
      "Fold 3\n"
     ]
    },
    {
     "name": "stderr",
     "output_type": "stream",
     "text": [
      "[I 2024-06-12 17:10:31,228] Trial 141 finished with value: 0.8316695954039974 and parameters: {'iterations': 1886, 'learning_rate': 0.048020504101468235, 'depth': 6, 'l2_leaf_reg': 6.731364476353222e-05, 'bootstrap_type': 'Bayesian', 'od_type': 'Iter', 'random_strength': 46, 'border_count': 136, 'boosting_type': 'Plain'}. Best is trial 61 with value: 0.8318549142018113.\n"
     ]
    },
    {
     "name": "stdout",
     "output_type": "stream",
     "text": [
      "Score: 0.8316695954039974\n",
      "Fold 1\n",
      "Fold 2\n",
      "Fold 3\n"
     ]
    },
    {
     "name": "stderr",
     "output_type": "stream",
     "text": [
      "[I 2024-06-12 17:11:52,453] Trial 142 finished with value: 0.8317313800895884 and parameters: {'iterations': 1937, 'learning_rate': 0.034349169433501046, 'depth': 6, 'l2_leaf_reg': 5.7918565794859366e-05, 'bootstrap_type': 'Bayesian', 'od_type': 'Iter', 'random_strength': 47, 'border_count': 64, 'boosting_type': 'Plain'}. Best is trial 61 with value: 0.8318549142018113.\n"
     ]
    },
    {
     "name": "stdout",
     "output_type": "stream",
     "text": [
      "Score: 0.8317313800895884\n",
      "Fold 1\n",
      "Fold 2\n",
      "Fold 3\n"
     ]
    },
    {
     "name": "stderr",
     "output_type": "stream",
     "text": [
      "[I 2024-06-12 17:13:11,526] Trial 143 finished with value: 0.8314101554061962 and parameters: {'iterations': 1936, 'learning_rate': 0.03675010868502784, 'depth': 6, 'l2_leaf_reg': 5.715993588355068e-05, 'bootstrap_type': 'Bayesian', 'od_type': 'Iter', 'random_strength': 46, 'border_count': 60, 'boosting_type': 'Plain'}. Best is trial 61 with value: 0.8318549142018113.\n"
     ]
    },
    {
     "name": "stdout",
     "output_type": "stream",
     "text": [
      "Score: 0.8314101554061962\n",
      "Fold 1\n",
      "Fold 2\n",
      "Fold 3\n"
     ]
    },
    {
     "name": "stderr",
     "output_type": "stream",
     "text": [
      "[I 2024-06-12 17:13:57,282] Trial 144 finished with value: 0.8318919873942904 and parameters: {'iterations': 1993, 'learning_rate': 0.03367718063816936, 'depth': 6, 'l2_leaf_reg': 4.994596100257843e-05, 'bootstrap_type': 'Bayesian', 'od_type': 'Iter', 'random_strength': 45, 'border_count': 58, 'boosting_type': 'Plain'}. Best is trial 144 with value: 0.8318919873942904.\n"
     ]
    },
    {
     "name": "stdout",
     "output_type": "stream",
     "text": [
      "Score: 0.8318919873942904\n",
      "Fold 1\n",
      "Fold 2\n",
      "Fold 3\n"
     ]
    },
    {
     "name": "stderr",
     "output_type": "stream",
     "text": [
      "[I 2024-06-12 17:14:42,512] Trial 145 finished with value: 0.8314719254387133 and parameters: {'iterations': 1994, 'learning_rate': 0.03249449128245937, 'depth': 6, 'l2_leaf_reg': 5.8331093893770025e-05, 'bootstrap_type': 'Bayesian', 'od_type': 'Iter', 'random_strength': 45, 'border_count': 56, 'boosting_type': 'Plain'}. Best is trial 144 with value: 0.8318919873942904.\n"
     ]
    },
    {
     "name": "stdout",
     "output_type": "stream",
     "text": [
      "Score: 0.8314719254387133\n",
      "Fold 1\n",
      "Fold 2\n",
      "Fold 3\n"
     ]
    },
    {
     "name": "stderr",
     "output_type": "stream",
     "text": [
      "[I 2024-06-12 17:15:27,232] Trial 146 finished with value: 0.8314101540324704 and parameters: {'iterations': 1995, 'learning_rate': 0.03174255845868822, 'depth': 6, 'l2_leaf_reg': 6.445648619782437e-05, 'bootstrap_type': 'Bayesian', 'od_type': 'Iter', 'random_strength': 45, 'border_count': 57, 'boosting_type': 'Plain'}. Best is trial 144 with value: 0.8318919873942904.\n"
     ]
    },
    {
     "name": "stdout",
     "output_type": "stream",
     "text": [
      "Score: 0.8314101540324704\n",
      "Fold 1\n",
      "Fold 2\n",
      "Fold 3\n"
     ]
    },
    {
     "name": "stderr",
     "output_type": "stream",
     "text": [
      "[I 2024-06-12 17:16:10,829] Trial 147 finished with value: 0.8298782017275296 and parameters: {'iterations': 1951, 'learning_rate': 0.020996397241482025, 'depth': 6, 'l2_leaf_reg': 3.2368064496781375e-05, 'bootstrap_type': 'Bayesian', 'od_type': 'IncToDec', 'random_strength': 42, 'border_count': 47, 'boosting_type': 'Plain'}. Best is trial 144 with value: 0.8318919873942904.\n"
     ]
    },
    {
     "name": "stdout",
     "output_type": "stream",
     "text": [
      "Score: 0.8298782017275296\n",
      "Fold 1\n",
      "Fold 2\n",
      "Fold 3\n"
     ]
    },
    {
     "name": "stderr",
     "output_type": "stream",
     "text": [
      "[I 2024-06-12 17:16:53,760] Trial 148 finished with value: 0.8316572359941731 and parameters: {'iterations': 1924, 'learning_rate': 0.03617128667163668, 'depth': 6, 'l2_leaf_reg': 1.6580705742492374e-05, 'bootstrap_type': 'Bayesian', 'od_type': 'Iter', 'random_strength': 47, 'border_count': 30, 'boosting_type': 'Plain'}. Best is trial 144 with value: 0.8318919873942904.\n"
     ]
    },
    {
     "name": "stdout",
     "output_type": "stream",
     "text": [
      "Score: 0.8316572359941731\n",
      "Fold 1\n",
      "Fold 2\n",
      "Fold 3\n"
     ]
    },
    {
     "name": "stderr",
     "output_type": "stream",
     "text": [
      "[I 2024-06-12 17:17:35,437] Trial 149 finished with value: 0.8305206391886916 and parameters: {'iterations': 1883, 'learning_rate': 0.026299202938455724, 'depth': 6, 'l2_leaf_reg': 1.4677845690839262e-05, 'bootstrap_type': 'Bayesian', 'od_type': 'Iter', 'random_strength': 49, 'border_count': 25, 'boosting_type': 'Plain'}. Best is trial 144 with value: 0.8318919873942904.\n"
     ]
    },
    {
     "name": "stdout",
     "output_type": "stream",
     "text": [
      "Score: 0.8305206391886916\n",
      "Fold 1\n",
      "Fold 2\n",
      "Fold 3\n"
     ]
    },
    {
     "name": "stderr",
     "output_type": "stream",
     "text": [
      "[I 2024-06-12 17:23:11,732] Trial 150 finished with value: 0.8293840199456909 and parameters: {'iterations': 1991, 'learning_rate': 0.012720119015524058, 'depth': 10, 'l2_leaf_reg': 2.4563423921546435e-05, 'bootstrap_type': 'MVS', 'od_type': 'Iter', 'random_strength': 48, 'border_count': 24, 'boosting_type': 'Plain'}. Best is trial 144 with value: 0.8318919873942904.\n"
     ]
    },
    {
     "name": "stdout",
     "output_type": "stream",
     "text": [
      "Score: 0.8293840199456909\n",
      "Fold 1\n",
      "Fold 2\n",
      "Fold 3\n"
     ]
    },
    {
     "name": "stderr",
     "output_type": "stream",
     "text": [
      "[I 2024-06-12 17:23:53,353] Trial 151 finished with value: 0.8316819667194443 and parameters: {'iterations': 1925, 'learning_rate': 0.03317207966524464, 'depth': 6, 'l2_leaf_reg': 4.208181066253002e-05, 'bootstrap_type': 'Bayesian', 'od_type': 'Iter', 'random_strength': 44, 'border_count': 62, 'boosting_type': 'Plain'}. Best is trial 144 with value: 0.8318919873942904.\n"
     ]
    },
    {
     "name": "stdout",
     "output_type": "stream",
     "text": [
      "Score: 0.8316819667194443\n",
      "Fold 1\n",
      "Fold 2\n",
      "Fold 3\n"
     ]
    },
    {
     "name": "stderr",
     "output_type": "stream",
     "text": [
      "[I 2024-06-12 17:24:35,593] Trial 152 finished with value: 0.8316325441911291 and parameters: {'iterations': 1919, 'learning_rate': 0.034920940048014625, 'depth': 6, 'l2_leaf_reg': 3.405041918733172e-05, 'bootstrap_type': 'Bayesian', 'od_type': 'Iter', 'random_strength': 42, 'border_count': 65, 'boosting_type': 'Plain'}. Best is trial 144 with value: 0.8318919873942904.\n"
     ]
    },
    {
     "name": "stdout",
     "output_type": "stream",
     "text": [
      "Score: 0.8316325441911291\n",
      "Fold 1\n",
      "Fold 2\n",
      "Fold 3\n"
     ]
    },
    {
     "name": "stderr",
     "output_type": "stream",
     "text": [
      "[I 2024-06-12 17:25:17,545] Trial 153 finished with value: 0.8322873254932245 and parameters: {'iterations': 1899, 'learning_rate': 0.03889731362792722, 'depth': 6, 'l2_leaf_reg': 1.8551235678575928e-05, 'bootstrap_type': 'Bayesian', 'od_type': 'Iter', 'random_strength': 39, 'border_count': 66, 'boosting_type': 'Plain'}. Best is trial 153 with value: 0.8322873254932245.\n"
     ]
    },
    {
     "name": "stdout",
     "output_type": "stream",
     "text": [
      "Score: 0.8322873254932245\n",
      "Fold 1\n",
      "Fold 2\n",
      "Fold 3\n"
     ]
    },
    {
     "name": "stderr",
     "output_type": "stream",
     "text": [
      "[I 2024-06-12 17:25:59,697] Trial 154 finished with value: 0.8307059543232369 and parameters: {'iterations': 1918, 'learning_rate': 0.026273263342428774, 'depth': 6, 'l2_leaf_reg': 3.3614657257359236e-05, 'bootstrap_type': 'Bayesian', 'od_type': 'Iter', 'random_strength': 39, 'border_count': 65, 'boosting_type': 'Plain'}. Best is trial 153 with value: 0.8322873254932245.\n"
     ]
    },
    {
     "name": "stdout",
     "output_type": "stream",
     "text": [
      "Score: 0.8307059543232369\n",
      "Fold 1\n",
      "Fold 2\n",
      "Fold 3\n"
     ]
    },
    {
     "name": "stderr",
     "output_type": "stream",
     "text": [
      "[I 2024-06-12 17:26:42,611] Trial 155 finished with value: 0.8315707672899837 and parameters: {'iterations': 1924, 'learning_rate': 0.038643032816340434, 'depth': 6, 'l2_leaf_reg': 0.0022201388688808444, 'bootstrap_type': 'Bayesian', 'od_type': 'Iter', 'random_strength': 36, 'border_count': 72, 'boosting_type': 'Plain'}. Best is trial 153 with value: 0.8322873254932245.\n"
     ]
    },
    {
     "name": "stdout",
     "output_type": "stream",
     "text": [
      "Score: 0.8315707672899837\n",
      "Fold 1\n",
      "Fold 2\n",
      "Fold 3\n"
     ]
    },
    {
     "name": "stderr",
     "output_type": "stream",
     "text": [
      "[I 2024-06-12 17:27:25,347] Trial 156 finished with value: 0.82860568942039 and parameters: {'iterations': 1930, 'learning_rate': 0.01562925702420326, 'depth': 6, 'l2_leaf_reg': 1.8089651705614688e-05, 'bootstrap_type': 'Bayesian', 'od_type': 'Iter', 'random_strength': 43, 'border_count': 70, 'boosting_type': 'Plain'}. Best is trial 153 with value: 0.8322873254932245.\n"
     ]
    },
    {
     "name": "stdout",
     "output_type": "stream",
     "text": [
      "Score: 0.82860568942039\n",
      "Fold 1\n",
      "Fold 2\n",
      "Fold 3\n"
     ]
    },
    {
     "name": "stderr",
     "output_type": "stream",
     "text": [
      "[I 2024-06-12 17:28:07,049] Trial 157 finished with value: 0.8294828521808815 and parameters: {'iterations': 1879, 'learning_rate': 0.018907897137786626, 'depth': 6, 'l2_leaf_reg': 0.00197030016576034, 'bootstrap_type': 'Bayesian', 'od_type': 'Iter', 'random_strength': 35, 'border_count': 76, 'boosting_type': 'Plain'}. Best is trial 153 with value: 0.8322873254932245.\n"
     ]
    },
    {
     "name": "stdout",
     "output_type": "stream",
     "text": [
      "Score: 0.8294828521808815\n",
      "Fold 1\n",
      "Fold 2\n",
      "Fold 3\n"
     ]
    },
    {
     "name": "stderr",
     "output_type": "stream",
     "text": [
      "[I 2024-06-12 17:29:04,191] Trial 158 finished with value: 0.8310148095228165 and parameters: {'iterations': 1951, 'learning_rate': 0.03660897623835155, 'depth': 7, 'l2_leaf_reg': 3.956819371456876e-05, 'bootstrap_type': 'Bayesian', 'od_type': 'Iter', 'random_strength': 42, 'border_count': 64, 'boosting_type': 'Plain'}. Best is trial 153 with value: 0.8322873254932245.\n"
     ]
    },
    {
     "name": "stdout",
     "output_type": "stream",
     "text": [
      "Score: 0.8310148095228165\n",
      "Fold 1\n",
      "Fold 2\n",
      "Fold 3\n"
     ]
    },
    {
     "name": "stderr",
     "output_type": "stream",
     "text": [
      "[I 2024-06-12 17:29:46,221] Trial 159 finished with value: 0.8303476720162566 and parameters: {'iterations': 1905, 'learning_rate': 0.023462316825490517, 'depth': 6, 'l2_leaf_reg': 0.0013018345484934325, 'bootstrap_type': 'Bayesian', 'od_type': 'Iter', 'random_strength': 30, 'border_count': 46, 'boosting_type': 'Plain'}. Best is trial 153 with value: 0.8322873254932245.\n"
     ]
    },
    {
     "name": "stdout",
     "output_type": "stream",
     "text": [
      "Score: 0.8303476720162566\n",
      "Fold 1\n",
      "Fold 2\n",
      "Fold 3\n"
     ]
    },
    {
     "name": "stderr",
     "output_type": "stream",
     "text": [
      "[I 2024-06-12 17:30:27,607] Trial 160 finished with value: 0.8313113121812 and parameters: {'iterations': 1851, 'learning_rate': 0.05081109168238278, 'depth': 6, 'l2_leaf_reg': 2.6346600682066717e-05, 'bootstrap_type': 'Bayesian', 'od_type': 'Iter', 'random_strength': 40, 'border_count': 50, 'boosting_type': 'Plain'}. Best is trial 153 with value: 0.8322873254932245.\n"
     ]
    },
    {
     "name": "stdout",
     "output_type": "stream",
     "text": [
      "Score: 0.8313113121812\n",
      "Fold 1\n",
      "Fold 2\n",
      "Fold 3\n"
     ]
    },
    {
     "name": "stderr",
     "output_type": "stream",
     "text": [
      "[I 2024-06-12 17:31:11,580] Trial 161 finished with value: 0.8317560705189067 and parameters: {'iterations': 1964, 'learning_rate': 0.04392627500651928, 'depth': 6, 'l2_leaf_reg': 0.002646855094917068, 'bootstrap_type': 'Bayesian', 'od_type': 'Iter', 'random_strength': 50, 'border_count': 62, 'boosting_type': 'Plain'}. Best is trial 153 with value: 0.8322873254932245.\n"
     ]
    },
    {
     "name": "stdout",
     "output_type": "stream",
     "text": [
      "Score: 0.8317560705189067\n",
      "Fold 1\n",
      "Fold 2\n",
      "Fold 3\n"
     ]
    },
    {
     "name": "stderr",
     "output_type": "stream",
     "text": [
      "[I 2024-06-12 17:31:55,686] Trial 162 finished with value: 0.8309159722506316 and parameters: {'iterations': 1962, 'learning_rate': 0.04371389463512405, 'depth': 6, 'l2_leaf_reg': 0.0043030769331195845, 'bootstrap_type': 'Bayesian', 'od_type': 'Iter', 'random_strength': 50, 'border_count': 72, 'boosting_type': 'Plain'}. Best is trial 153 with value: 0.8322873254932245.\n"
     ]
    },
    {
     "name": "stdout",
     "output_type": "stream",
     "text": [
      "Score: 0.8309159722506316\n",
      "Fold 1\n",
      "Fold 2\n",
      "Fold 3\n"
     ]
    },
    {
     "name": "stderr",
     "output_type": "stream",
     "text": [
      "[I 2024-06-12 17:32:38,401] Trial 163 finished with value: 0.8313730918297968 and parameters: {'iterations': 1916, 'learning_rate': 0.0305497770971143, 'depth': 6, 'l2_leaf_reg': 0.003009010119230593, 'bootstrap_type': 'Bayesian', 'od_type': 'Iter', 'random_strength': 37, 'border_count': 65, 'boosting_type': 'Plain'}. Best is trial 153 with value: 0.8322873254932245.\n"
     ]
    },
    {
     "name": "stdout",
     "output_type": "stream",
     "text": [
      "Score: 0.8313730918297968\n",
      "Fold 1\n",
      "Fold 2\n",
      "Fold 3\n"
     ]
    },
    {
     "name": "stderr",
     "output_type": "stream",
     "text": [
      "[I 2024-06-12 17:33:23,334] Trial 164 finished with value: 0.8321020071533193 and parameters: {'iterations': 1997, 'learning_rate': 0.03868557985639064, 'depth': 6, 'l2_leaf_reg': 0.012902796694998683, 'bootstrap_type': 'Bayesian', 'od_type': 'Iter', 'random_strength': 47, 'border_count': 60, 'boosting_type': 'Plain'}. Best is trial 153 with value: 0.8322873254932245.\n"
     ]
    },
    {
     "name": "stdout",
     "output_type": "stream",
     "text": [
      "Score: 0.8321020071533193\n",
      "Fold 1\n",
      "Fold 2\n",
      "Fold 3\n"
     ]
    },
    {
     "name": "stderr",
     "output_type": "stream",
     "text": [
      "[I 2024-06-12 17:34:06,777] Trial 165 finished with value: 0.8312619056796843 and parameters: {'iterations': 1962, 'learning_rate': 0.040285334212980556, 'depth': 6, 'l2_leaf_reg': 0.009137541709657217, 'bootstrap_type': 'Bayesian', 'od_type': 'Iter', 'random_strength': 46, 'border_count': 36, 'boosting_type': 'Plain'}. Best is trial 153 with value: 0.8322873254932245.\n"
     ]
    },
    {
     "name": "stdout",
     "output_type": "stream",
     "text": [
      "Score: 0.8312619056796843\n",
      "Fold 1\n",
      "Fold 2\n",
      "Fold 3\n"
     ]
    },
    {
     "name": "stderr",
     "output_type": "stream",
     "text": [
      "[I 2024-06-12 17:34:49,790] Trial 166 finished with value: 0.7969780906416615 and parameters: {'iterations': 1998, 'learning_rate': 0.0021978808505810554, 'depth': 6, 'l2_leaf_reg': 0.002573261080621434, 'bootstrap_type': 'Bayesian', 'od_type': 'Iter', 'random_strength': 43, 'border_count': 79, 'boosting_type': 'Plain'}. Best is trial 153 with value: 0.8322873254932245.\n"
     ]
    },
    {
     "name": "stdout",
     "output_type": "stream",
     "text": [
      "Score: 0.7969780906416615\n",
      "Fold 1\n",
      "Fold 2\n",
      "Fold 3\n"
     ]
    },
    {
     "name": "stderr",
     "output_type": "stream",
     "text": [
      "[I 2024-06-12 17:35:44,790] Trial 167 finished with value: 0.8312001342734416 and parameters: {'iterations': 1878, 'learning_rate': 0.03369661889287215, 'depth': 7, 'l2_leaf_reg': 0.014923900516172957, 'bootstrap_type': 'Bayesian', 'od_type': 'Iter', 'random_strength': 47, 'border_count': 60, 'boosting_type': 'Plain'}. Best is trial 153 with value: 0.8322873254932245.\n"
     ]
    },
    {
     "name": "stdout",
     "output_type": "stream",
     "text": [
      "Score: 0.8312001342734416\n",
      "Fold 1\n",
      "Fold 2\n",
      "Fold 3\n"
     ]
    },
    {
     "name": "stderr",
     "output_type": "stream",
     "text": [
      "[I 2024-06-12 17:36:26,110] Trial 168 finished with value: 0.8157940298743388 and parameters: {'iterations': 1931, 'learning_rate': 0.007139247160183657, 'depth': 6, 'l2_leaf_reg': 0.0015178907150716586, 'bootstrap_type': 'Bayesian', 'od_type': 'Iter', 'random_strength': 50, 'border_count': 44, 'boosting_type': 'Plain'}. Best is trial 153 with value: 0.8322873254932245.\n"
     ]
    },
    {
     "name": "stdout",
     "output_type": "stream",
     "text": [
      "Score: 0.8157940298743388\n",
      "Fold 1\n",
      "Fold 2\n",
      "Fold 3\n"
     ]
    },
    {
     "name": "stderr",
     "output_type": "stream",
     "text": [
      "[I 2024-06-12 17:37:06,544] Trial 169 finished with value: 0.8306441737588232 and parameters: {'iterations': 1818, 'learning_rate': 0.028321333863604584, 'depth': 6, 'l2_leaf_reg': 0.0009073592926393863, 'bootstrap_type': 'Bernoulli', 'od_type': 'Iter', 'random_strength': 41, 'border_count': 55, 'boosting_type': 'Plain'}. Best is trial 153 with value: 0.8322873254932245.\n"
     ]
    },
    {
     "name": "stdout",
     "output_type": "stream",
     "text": [
      "Score: 0.8306441737588232\n",
      "Fold 1\n",
      "Fold 2\n",
      "Fold 3\n"
     ]
    },
    {
     "name": "stderr",
     "output_type": "stream",
     "text": [
      "[I 2024-06-12 17:37:48,344] Trial 170 finished with value: 0.8310024569816205 and parameters: {'iterations': 1877, 'learning_rate': 0.05359873667388578, 'depth': 6, 'l2_leaf_reg': 0.0017912645275177596, 'bootstrap_type': 'Bayesian', 'od_type': 'Iter', 'random_strength': 52, 'border_count': 31, 'boosting_type': 'Plain'}. Best is trial 153 with value: 0.8322873254932245.\n"
     ]
    },
    {
     "name": "stdout",
     "output_type": "stream",
     "text": [
      "Score: 0.8310024569816205\n",
      "Fold 1\n",
      "Fold 2\n",
      "Fold 3\n"
     ]
    },
    {
     "name": "stderr",
     "output_type": "stream",
     "text": [
      "[I 2024-06-12 17:38:32,046] Trial 171 finished with value: 0.8319537501002706 and parameters: {'iterations': 1954, 'learning_rate': 0.04469770068765839, 'depth': 6, 'l2_leaf_reg': 4.296313923752783e-05, 'bootstrap_type': 'Bayesian', 'od_type': 'Iter', 'random_strength': 44, 'border_count': 61, 'boosting_type': 'Plain'}. Best is trial 153 with value: 0.8322873254932245.\n"
     ]
    },
    {
     "name": "stdout",
     "output_type": "stream",
     "text": [
      "Score: 0.8319537501002706\n",
      "Fold 1\n",
      "Fold 2\n",
      "Fold 3\n"
     ]
    },
    {
     "name": "stderr",
     "output_type": "stream",
     "text": [
      "[I 2024-06-12 17:39:15,681] Trial 172 finished with value: 0.8315337005082245 and parameters: {'iterations': 1958, 'learning_rate': 0.036600750418395646, 'depth': 6, 'l2_leaf_reg': 0.004499384605108576, 'bootstrap_type': 'Bayesian', 'od_type': 'Iter', 'random_strength': 48, 'border_count': 60, 'boosting_type': 'Plain'}. Best is trial 153 with value: 0.8322873254932245.\n"
     ]
    },
    {
     "name": "stdout",
     "output_type": "stream",
     "text": [
      "Score: 0.8315337005082245\n",
      "Fold 1\n",
      "Fold 2\n",
      "Fold 3\n"
     ]
    },
    {
     "name": "stderr",
     "output_type": "stream",
     "text": [
      "[I 2024-06-12 17:39:59,278] Trial 173 finished with value: 0.8317313796316798 and parameters: {'iterations': 1959, 'learning_rate': 0.03611733680436563, 'depth': 6, 'l2_leaf_reg': 0.0051919478492147165, 'bootstrap_type': 'Bayesian', 'od_type': 'Iter', 'random_strength': 44, 'border_count': 61, 'boosting_type': 'Plain'}. Best is trial 153 with value: 0.8322873254932245.\n"
     ]
    },
    {
     "name": "stdout",
     "output_type": "stream",
     "text": [
      "Score: 0.8317313796316798\n",
      "Fold 1\n",
      "Fold 2\n",
      "Fold 3\n"
     ]
    },
    {
     "name": "stderr",
     "output_type": "stream",
     "text": [
      "[I 2024-06-12 17:40:42,269] Trial 174 finished with value: 0.8316325327434152 and parameters: {'iterations': 1913, 'learning_rate': 0.044139950208339024, 'depth': 6, 'l2_leaf_reg': 0.007357258852495007, 'bootstrap_type': 'Bayesian', 'od_type': 'Iter', 'random_strength': 44, 'border_count': 70, 'boosting_type': 'Plain'}. Best is trial 153 with value: 0.8322873254932245.\n"
     ]
    },
    {
     "name": "stdout",
     "output_type": "stream",
     "text": [
      "Score: 0.8316325327434152\n",
      "Fold 1\n",
      "Fold 2\n",
      "Fold 3\n"
     ]
    },
    {
     "name": "stderr",
     "output_type": "stream",
     "text": [
      "[I 2024-06-12 17:41:25,025] Trial 175 finished with value: 0.831533706003127 and parameters: {'iterations': 1910, 'learning_rate': 0.04126471852216133, 'depth': 6, 'l2_leaf_reg': 0.007656984971764963, 'bootstrap_type': 'Bayesian', 'od_type': 'Iter', 'random_strength': 45, 'border_count': 71, 'boosting_type': 'Plain'}. Best is trial 153 with value: 0.8322873254932245.\n"
     ]
    },
    {
     "name": "stdout",
     "output_type": "stream",
     "text": [
      "Score: 0.831533706003127\n",
      "Fold 1\n",
      "Fold 2\n",
      "Fold 3\n"
     ]
    },
    {
     "name": "stderr",
     "output_type": "stream",
     "text": [
      "[I 2024-06-12 17:42:07,003] Trial 176 finished with value: 0.7593709149691561 and parameters: {'iterations': 1934, 'learning_rate': 0.0007237154643724796, 'depth': 6, 'l2_leaf_reg': 0.011231643869567593, 'bootstrap_type': 'Bayesian', 'od_type': 'Iter', 'random_strength': 44, 'border_count': 66, 'boosting_type': 'Plain'}. Best is trial 153 with value: 0.8322873254932245.\n"
     ]
    },
    {
     "name": "stdout",
     "output_type": "stream",
     "text": [
      "Score: 0.7593709149691561\n",
      "Fold 1\n",
      "Fold 2\n",
      "Fold 3\n"
     ]
    },
    {
     "name": "stderr",
     "output_type": "stream",
     "text": [
      "[I 2024-06-12 17:43:00,755] Trial 177 finished with value: 0.83023648082915 and parameters: {'iterations': 1856, 'learning_rate': 0.021182867371216003, 'depth': 7, 'l2_leaf_reg': 0.022465409604657604, 'bootstrap_type': 'Bayesian', 'od_type': 'IncToDec', 'random_strength': 41, 'border_count': 53, 'boosting_type': 'Plain'}. Best is trial 153 with value: 0.8322873254932245.\n"
     ]
    },
    {
     "name": "stdout",
     "output_type": "stream",
     "text": [
      "Score: 0.83023648082915\n",
      "Fold 1\n",
      "Fold 2\n",
      "Fold 3\n"
     ]
    },
    {
     "name": "stderr",
     "output_type": "stream",
     "text": [
      "[I 2024-06-12 17:44:03,628] Trial 178 finished with value: 0.8312124836092778 and parameters: {'iterations': 1968, 'learning_rate': 0.028262272014083434, 'depth': 6, 'l2_leaf_reg': 0.008834933014731683, 'bootstrap_type': 'Bayesian', 'od_type': 'Iter', 'random_strength': 36, 'border_count': 61, 'boosting_type': 'Plain'}. Best is trial 153 with value: 0.8322873254932245.\n"
     ]
    },
    {
     "name": "stdout",
     "output_type": "stream",
     "text": [
      "Score: 0.8312124836092778\n",
      "Fold 1\n",
      "Fold 2\n",
      "Fold 3\n"
     ]
    },
    {
     "name": "stderr",
     "output_type": "stream",
     "text": [
      "[I 2024-06-12 17:45:14,136] Trial 179 finished with value: 0.8317066676806594 and parameters: {'iterations': 1890, 'learning_rate': 0.036315873951961106, 'depth': 6, 'l2_leaf_reg': 0.005944841309422607, 'bootstrap_type': 'Bayesian', 'od_type': 'Iter', 'random_strength': 38, 'border_count': 74, 'boosting_type': 'Plain'}. Best is trial 153 with value: 0.8322873254932245.\n"
     ]
    },
    {
     "name": "stdout",
     "output_type": "stream",
     "text": [
      "Score: 0.8317066676806594\n",
      "Fold 1\n",
      "Fold 2\n",
      "Fold 3\n"
     ]
    },
    {
     "name": "stderr",
     "output_type": "stream",
     "text": [
      "[I 2024-06-12 17:46:26,866] Trial 180 finished with value: 0.8304959318167566 and parameters: {'iterations': 1902, 'learning_rate': 0.024338035195524414, 'depth': 6, 'l2_leaf_reg': 0.0042878652417109265, 'bootstrap_type': 'Bayesian', 'od_type': 'Iter', 'random_strength': 40, 'border_count': 75, 'boosting_type': 'Plain'}. Best is trial 153 with value: 0.8322873254932245.\n"
     ]
    },
    {
     "name": "stdout",
     "output_type": "stream",
     "text": [
      "Score: 0.8304959318167566\n",
      "Fold 1\n",
      "Fold 2\n",
      "Fold 3\n"
     ]
    },
    {
     "name": "stderr",
     "output_type": "stream",
     "text": [
      "[I 2024-06-12 17:47:39,441] Trial 181 finished with value: 0.8317313819212225 and parameters: {'iterations': 1836, 'learning_rate': 0.033735777577376135, 'depth': 6, 'l2_leaf_reg': 0.007181704934526004, 'bootstrap_type': 'Bayesian', 'od_type': 'Iter', 'random_strength': 38, 'border_count': 69, 'boosting_type': 'Plain'}. Best is trial 153 with value: 0.8322873254932245.\n"
     ]
    },
    {
     "name": "stdout",
     "output_type": "stream",
     "text": [
      "Score: 0.8317313819212225\n",
      "Fold 1\n",
      "Fold 2\n",
      "Fold 3\n"
     ]
    },
    {
     "name": "stderr",
     "output_type": "stream",
     "text": [
      "[I 2024-06-12 17:48:40,788] Trial 182 finished with value: 0.8317684464134389 and parameters: {'iterations': 1999, 'learning_rate': 0.03426957201195684, 'depth': 6, 'l2_leaf_reg': 0.004537790662499984, 'bootstrap_type': 'Bayesian', 'od_type': 'Iter', 'random_strength': 37, 'border_count': 69, 'boosting_type': 'Plain'}. Best is trial 153 with value: 0.8322873254932245.\n"
     ]
    },
    {
     "name": "stdout",
     "output_type": "stream",
     "text": [
      "Score: 0.8317684464134389\n",
      "Fold 1\n",
      "Fold 2\n",
      "Fold 3\n"
     ]
    },
    {
     "name": "stderr",
     "output_type": "stream",
     "text": [
      "[I 2024-06-12 17:49:25,373] Trial 183 finished with value: 0.8312866112199849 and parameters: {'iterations': 1971, 'learning_rate': 0.03413254250941867, 'depth': 6, 'l2_leaf_reg': 0.006593086797235941, 'bootstrap_type': 'Bayesian', 'od_type': 'Iter', 'random_strength': 38, 'border_count': 81, 'boosting_type': 'Plain'}. Best is trial 153 with value: 0.8322873254932245.\n"
     ]
    },
    {
     "name": "stdout",
     "output_type": "stream",
     "text": [
      "Score: 0.8312866112199849\n",
      "Fold 1\n",
      "Fold 2\n",
      "Fold 3\n"
     ]
    },
    {
     "name": "stderr",
     "output_type": "stream",
     "text": [
      "[I 2024-06-12 17:50:10,165] Trial 184 finished with value: 0.8309159763718087 and parameters: {'iterations': 1996, 'learning_rate': 0.02972186763298042, 'depth': 6, 'l2_leaf_reg': 0.006026407388081848, 'bootstrap_type': 'Bayesian', 'od_type': 'Iter', 'random_strength': 31, 'border_count': 63, 'boosting_type': 'Plain'}. Best is trial 153 with value: 0.8322873254932245.\n"
     ]
    },
    {
     "name": "stdout",
     "output_type": "stream",
     "text": [
      "Score: 0.8309159763718087\n",
      "Fold 1\n",
      "Fold 2\n",
      "Fold 3\n"
     ]
    },
    {
     "name": "stderr",
     "output_type": "stream",
     "text": [
      "[I 2024-06-12 17:50:52,101] Trial 185 finished with value: 0.8319661095100949 and parameters: {'iterations': 1858, 'learning_rate': 0.043130826138873674, 'depth': 6, 'l2_leaf_reg': 0.0034708922605622763, 'bootstrap_type': 'Bayesian', 'od_type': 'Iter', 'random_strength': 43, 'border_count': 68, 'boosting_type': 'Plain'}. Best is trial 153 with value: 0.8322873254932245.\n"
     ]
    },
    {
     "name": "stdout",
     "output_type": "stream",
     "text": [
      "Score: 0.8319661095100949\n",
      "Fold 1\n",
      "Fold 2\n",
      "Fold 3\n"
     ]
    },
    {
     "name": "stderr",
     "output_type": "stream",
     "text": [
      "[I 2024-06-12 17:51:33,313] Trial 186 finished with value: 0.8316572511051555 and parameters: {'iterations': 1830, 'learning_rate': 0.044437223429654664, 'depth': 6, 'l2_leaf_reg': 0.003530337740008916, 'bootstrap_type': 'Bayesian', 'od_type': 'Iter', 'random_strength': 43, 'border_count': 68, 'boosting_type': 'Plain'}. Best is trial 153 with value: 0.8322873254932245.\n"
     ]
    },
    {
     "name": "stdout",
     "output_type": "stream",
     "text": [
      "Score: 0.8316572511051555\n",
      "Fold 1\n",
      "Fold 2\n",
      "Fold 3\n"
     ]
    },
    {
     "name": "stderr",
     "output_type": "stream",
     "text": [
      "[I 2024-06-12 17:52:12,734] Trial 187 finished with value: 0.8094561628891364 and parameters: {'iterations': 1837, 'learning_rate': 0.018798124861210987, 'depth': 6, 'l2_leaf_reg': 0.0032939291696853805, 'bootstrap_type': 'Bayesian', 'od_type': 'Iter', 'random_strength': 38, 'border_count': 1, 'boosting_type': 'Plain'}. Best is trial 153 with value: 0.8322873254932245.\n"
     ]
    },
    {
     "name": "stdout",
     "output_type": "stream",
     "text": [
      "Score: 0.8094561628891364\n",
      "Fold 1\n",
      "Fold 2\n",
      "Fold 3\n"
     ]
    },
    {
     "name": "stderr",
     "output_type": "stream",
     "text": [
      "[I 2024-06-12 17:52:53,437] Trial 188 finished with value: 0.8311630665758653 and parameters: {'iterations': 1811, 'learning_rate': 0.03159370742521012, 'depth': 6, 'l2_leaf_reg': 0.0036480270832381706, 'bootstrap_type': 'Bayesian', 'od_type': 'Iter', 'random_strength': 42, 'border_count': 57, 'boosting_type': 'Plain'}. Best is trial 153 with value: 0.8322873254932245.\n"
     ]
    },
    {
     "name": "stdout",
     "output_type": "stream",
     "text": [
      "Score: 0.8311630665758653\n",
      "Fold 1\n",
      "Fold 2\n",
      "Fold 3\n"
     ]
    },
    {
     "name": "stderr",
     "output_type": "stream",
     "text": [
      "[I 2024-06-12 17:53:40,940] Trial 189 finished with value: 0.8309777573941312 and parameters: {'iterations': 1997, 'learning_rate': 0.025676622063092926, 'depth': 6, 'l2_leaf_reg': 0.012748287128646287, 'bootstrap_type': 'MVS', 'od_type': 'Iter', 'random_strength': 34, 'border_count': 66, 'boosting_type': 'Plain'}. Best is trial 153 with value: 0.8322873254932245.\n"
     ]
    },
    {
     "name": "stdout",
     "output_type": "stream",
     "text": [
      "Score: 0.8309777573941312\n",
      "Fold 1\n",
      "Fold 2\n",
      "Fold 3\n"
     ]
    },
    {
     "name": "stderr",
     "output_type": "stream",
     "text": [
      "[I 2024-06-12 17:54:21,764] Trial 190 finished with value: 0.73881297161891 and parameters: {'iterations': 1868, 'learning_rate': 0.0002605606999328079, 'depth': 6, 'l2_leaf_reg': 0.002868651513701224, 'bootstrap_type': 'Bayesian', 'od_type': 'Iter', 'random_strength': 47, 'border_count': 76, 'boosting_type': 'Plain'}. Best is trial 153 with value: 0.8322873254932245.\n"
     ]
    },
    {
     "name": "stdout",
     "output_type": "stream",
     "text": [
      "Score: 0.73881297161891\n",
      "Fold 1\n",
      "Fold 2\n",
      "Fold 3\n"
     ]
    },
    {
     "name": "stderr",
     "output_type": "stream",
     "text": [
      "[I 2024-06-12 17:55:05,175] Trial 191 finished with value: 0.8311507117451264 and parameters: {'iterations': 1940, 'learning_rate': 0.04206887690347472, 'depth': 6, 'l2_leaf_reg': 0.00578333617368511, 'bootstrap_type': 'Bayesian', 'od_type': 'Iter', 'random_strength': 44, 'border_count': 70, 'boosting_type': 'Plain'}. Best is trial 153 with value: 0.8322873254932245.\n"
     ]
    },
    {
     "name": "stdout",
     "output_type": "stream",
     "text": [
      "Score: 0.8311507117451264\n",
      "Fold 1\n",
      "Fold 2\n",
      "Fold 3\n"
     ]
    },
    {
     "name": "stderr",
     "output_type": "stream",
     "text": [
      "[I 2024-06-12 17:55:47,744] Trial 192 finished with value: 0.8316695990672659 and parameters: {'iterations': 1903, 'learning_rate': 0.047191723828442625, 'depth': 6, 'l2_leaf_reg': 0.005080512472818079, 'bootstrap_type': 'Bayesian', 'od_type': 'Iter', 'random_strength': 43, 'border_count': 51, 'boosting_type': 'Plain'}. Best is trial 153 with value: 0.8322873254932245.\n"
     ]
    },
    {
     "name": "stdout",
     "output_type": "stream",
     "text": [
      "Score: 0.8316695990672659\n",
      "Fold 1\n",
      "Fold 2\n",
      "Fold 3\n"
     ]
    },
    {
     "name": "stderr",
     "output_type": "stream",
     "text": [
      "[I 2024-06-12 17:56:29,850] Trial 193 finished with value: 0.8311012937958968 and parameters: {'iterations': 1893, 'learning_rate': 0.03610730051087531, 'depth': 6, 'l2_leaf_reg': 0.004201155560368141, 'bootstrap_type': 'Bayesian', 'od_type': 'Iter', 'random_strength': 40, 'border_count': 50, 'boosting_type': 'Plain'}. Best is trial 153 with value: 0.8322873254932245.\n"
     ]
    },
    {
     "name": "stdout",
     "output_type": "stream",
     "text": [
      "Score: 0.8311012937958968\n",
      "Fold 1\n",
      "Fold 2\n",
      "Fold 3\n"
     ]
    },
    {
     "name": "stderr",
     "output_type": "stream",
     "text": [
      "[I 2024-06-12 17:57:27,736] Trial 194 finished with value: 0.8310642247245948 and parameters: {'iterations': 1957, 'learning_rate': 0.04815673807930726, 'depth': 7, 'l2_leaf_reg': 0.010025314774672897, 'bootstrap_type': 'Bayesian', 'od_type': 'Iter', 'random_strength': 47, 'border_count': 59, 'boosting_type': 'Plain'}. Best is trial 153 with value: 0.8322873254932245.\n"
     ]
    },
    {
     "name": "stdout",
     "output_type": "stream",
     "text": [
      "Score: 0.8310642247245948\n",
      "Fold 1\n",
      "Fold 2\n",
      "Fold 3\n"
     ]
    },
    {
     "name": "stderr",
     "output_type": "stream",
     "text": [
      "[I 2024-06-12 17:58:09,357] Trial 195 finished with value: 0.8313483908685818 and parameters: {'iterations': 1843, 'learning_rate': 0.05420705230073456, 'depth': 6, 'l2_leaf_reg': 0.005697323673624529, 'bootstrap_type': 'Bayesian', 'od_type': 'Iter', 'random_strength': 42, 'border_count': 63, 'boosting_type': 'Plain'}. Best is trial 153 with value: 0.8322873254932245.\n"
     ]
    },
    {
     "name": "stdout",
     "output_type": "stream",
     "text": [
      "Score: 0.8313483908685818\n",
      "Fold 1\n",
      "Fold 2\n",
      "Fold 3\n"
     ]
    },
    {
     "name": "stderr",
     "output_type": "stream",
     "text": [
      "[I 2024-06-12 17:58:21,443] Trial 196 finished with value: 0.8234908984767553 and parameters: {'iterations': 512, 'learning_rate': 0.03529840021582074, 'depth': 6, 'l2_leaf_reg': 0.005143696918064879, 'bootstrap_type': 'Bayesian', 'od_type': 'Iter', 'random_strength': 50, 'border_count': 54, 'boosting_type': 'Plain'}. Best is trial 153 with value: 0.8322873254932245.\n"
     ]
    },
    {
     "name": "stdout",
     "output_type": "stream",
     "text": [
      "Score: 0.8234908984767553\n",
      "Fold 1\n",
      "Fold 2\n",
      "Fold 3\n"
     ]
    },
    {
     "name": "stderr",
     "output_type": "stream",
     "text": [
      "[I 2024-06-12 17:59:04,370] Trial 197 finished with value: 0.8319537468949108 and parameters: {'iterations': 1913, 'learning_rate': 0.044950823834172156, 'depth': 6, 'l2_leaf_reg': 0.015924587014171907, 'bootstrap_type': 'Bayesian', 'od_type': 'Iter', 'random_strength': 39, 'border_count': 67, 'boosting_type': 'Plain'}. Best is trial 153 with value: 0.8322873254932245.\n"
     ]
    },
    {
     "name": "stdout",
     "output_type": "stream",
     "text": [
      "Score: 0.8319537468949108\n",
      "Fold 1\n",
      "Fold 2\n",
      "Fold 3\n"
     ]
    },
    {
     "name": "stderr",
     "output_type": "stream",
     "text": [
      "[I 2024-06-12 17:59:46,562] Trial 198 finished with value: 0.8312124913937232 and parameters: {'iterations': 1884, 'learning_rate': 0.031103496410424817, 'depth': 6, 'l2_leaf_reg': 0.021909610304845083, 'bootstrap_type': 'Bayesian', 'od_type': 'Iter', 'random_strength': 38, 'border_count': 66, 'boosting_type': 'Plain'}. Best is trial 153 with value: 0.8322873254932245.\n"
     ]
    },
    {
     "name": "stdout",
     "output_type": "stream",
     "text": [
      "Score: 0.8312124913937232\n",
      "Fold 1\n",
      "Fold 2\n",
      "Fold 3\n"
     ]
    },
    {
     "name": "stderr",
     "output_type": "stream",
     "text": [
      "[I 2024-06-12 18:00:26,496] Trial 199 finished with value: 0.8301376444727823 and parameters: {'iterations': 1792, 'learning_rate': 0.02402216582662972, 'depth': 6, 'l2_leaf_reg': 0.017255684862436647, 'bootstrap_type': 'Bayesian', 'od_type': 'Iter', 'random_strength': 43, 'border_count': 84, 'boosting_type': 'Plain'}. Best is trial 153 with value: 0.8322873254932245.\n"
     ]
    },
    {
     "name": "stdout",
     "output_type": "stream",
     "text": [
      "Score: 0.8301376444727823\n",
      "Fold 1\n",
      "Fold 2\n",
      "Fold 3\n"
     ]
    },
    {
     "name": "stderr",
     "output_type": "stream",
     "text": [
      "[I 2024-06-12 18:01:10,045] Trial 200 finished with value: 0.8313730954930653 and parameters: {'iterations': 1936, 'learning_rate': 0.05792053972164357, 'depth': 6, 'l2_leaf_reg': 0.011222934854291168, 'bootstrap_type': 'Bayesian', 'od_type': 'Iter', 'random_strength': 40, 'border_count': 48, 'boosting_type': 'Plain'}. Best is trial 153 with value: 0.8322873254932245.\n"
     ]
    },
    {
     "name": "stdout",
     "output_type": "stream",
     "text": [
      "Score: 0.8313730954930653\n",
      "Fold 1\n",
      "Fold 2\n",
      "Fold 3\n"
     ]
    },
    {
     "name": "stderr",
     "output_type": "stream",
     "text": [
      "[I 2024-06-12 18:02:01,361] Trial 201 finished with value: 0.8313977982859146 and parameters: {'iterations': 1969, 'learning_rate': 0.04553249660643151, 'depth': 6, 'l2_leaf_reg': 0.002464706766985053, 'bootstrap_type': 'Bayesian', 'od_type': 'Iter', 'random_strength': 46, 'border_count': 61, 'boosting_type': 'Plain'}. Best is trial 153 with value: 0.8322873254932245.\n"
     ]
    },
    {
     "name": "stdout",
     "output_type": "stream",
     "text": [
      "Score: 0.8313977982859146\n",
      "Fold 1\n",
      "Fold 2\n",
      "Fold 3\n"
     ]
    },
    {
     "name": "stderr",
     "output_type": "stream",
     "text": [
      "[I 2024-06-12 18:02:53,034] Trial 202 finished with value: 0.8317190234272154 and parameters: {'iterations': 1915, 'learning_rate': 0.04050745692705541, 'depth': 6, 'l2_leaf_reg': 0.008390200820822228, 'bootstrap_type': 'Bayesian', 'od_type': 'Iter', 'random_strength': 48, 'border_count': 68, 'boosting_type': 'Plain'}. Best is trial 153 with value: 0.8322873254932245.\n"
     ]
    },
    {
     "name": "stdout",
     "output_type": "stream",
     "text": [
      "Score: 0.8317190234272154\n",
      "Fold 1\n",
      "Fold 2\n",
      "Fold 3\n"
     ]
    },
    {
     "name": "stderr",
     "output_type": "stream",
     "text": [
      "[I 2024-06-12 18:03:43,800] Trial 203 finished with value: 0.8318302187354988 and parameters: {'iterations': 1851, 'learning_rate': 0.038630694510122625, 'depth': 6, 'l2_leaf_reg': 0.009583215143492215, 'bootstrap_type': 'Bayesian', 'od_type': 'Iter', 'random_strength': 44, 'border_count': 68, 'boosting_type': 'Plain'}. Best is trial 153 with value: 0.8322873254932245.\n"
     ]
    },
    {
     "name": "stdout",
     "output_type": "stream",
     "text": [
      "Score: 0.8318302187354988\n",
      "Fold 1\n",
      "Fold 2\n",
      "Fold 3\n"
     ]
    },
    {
     "name": "stderr",
     "output_type": "stream",
     "text": [
      "[I 2024-06-12 18:04:34,852] Trial 204 finished with value: 0.8311877785268856 and parameters: {'iterations': 1845, 'learning_rate': 0.039875054467528044, 'depth': 6, 'l2_leaf_reg': 0.006929646226988004, 'bootstrap_type': 'Bayesian', 'od_type': 'Iter', 'random_strength': 48, 'border_count': 77, 'boosting_type': 'Plain'}. Best is trial 153 with value: 0.8322873254932245.\n"
     ]
    },
    {
     "name": "stdout",
     "output_type": "stream",
     "text": [
      "Score: 0.8311877785268856\n",
      "Fold 1\n",
      "Fold 2\n",
      "Fold 3\n"
     ]
    },
    {
     "name": "stderr",
     "output_type": "stream",
     "text": [
      "[I 2024-06-12 18:05:26,130] Trial 205 finished with value: 0.8315954787830955 and parameters: {'iterations': 1877, 'learning_rate': 0.04906763497578334, 'depth': 6, 'l2_leaf_reg': 0.008336091153305426, 'bootstrap_type': 'Bayesian', 'od_type': 'Iter', 'random_strength': 44, 'border_count': 70, 'boosting_type': 'Plain'}. Best is trial 153 with value: 0.8322873254932245.\n"
     ]
    },
    {
     "name": "stdout",
     "output_type": "stream",
     "text": [
      "Score: 0.8315954787830955\n",
      "Fold 1\n",
      "Fold 2\n",
      "Fold 3\n"
     ]
    },
    {
     "name": "stderr",
     "output_type": "stream",
     "text": [
      "[I 2024-06-12 18:06:18,120] Trial 206 finished with value: 0.8312371941865725 and parameters: {'iterations': 1819, 'learning_rate': 0.029569703690516033, 'depth': 6, 'l2_leaf_reg': 0.014617336212454299, 'bootstrap_type': 'Bayesian', 'od_type': 'Iter', 'random_strength': 39, 'border_count': 57, 'boosting_type': 'Plain'}. Best is trial 153 with value: 0.8322873254932245.\n"
     ]
    },
    {
     "name": "stdout",
     "output_type": "stream",
     "text": [
      "Score: 0.8312371941865725\n",
      "Fold 1\n",
      "Fold 2\n",
      "Fold 3\n"
     ]
    },
    {
     "name": "stderr",
     "output_type": "stream",
     "text": [
      "[I 2024-06-12 18:07:11,865] Trial 207 finished with value: 0.8317560819666205 and parameters: {'iterations': 1907, 'learning_rate': 0.04086726869585255, 'depth': 6, 'l2_leaf_reg': 0.031203704403710158, 'bootstrap_type': 'Bayesian', 'od_type': 'Iter', 'random_strength': 33, 'border_count': 73, 'boosting_type': 'Plain'}. Best is trial 153 with value: 0.8322873254932245.\n"
     ]
    },
    {
     "name": "stdout",
     "output_type": "stream",
     "text": [
      "Score: 0.8317560819666205\n",
      "Fold 1\n",
      "Fold 2\n",
      "Fold 3\n"
     ]
    },
    {
     "name": "stderr",
     "output_type": "stream",
     "text": [
      "[I 2024-06-12 18:08:01,247] Trial 208 finished with value: 0.8307430050781967 and parameters: {'iterations': 1858, 'learning_rate': 0.05820271538943302, 'depth': 6, 'l2_leaf_reg': 0.024702724660388732, 'bootstrap_type': 'Bayesian', 'od_type': 'Iter', 'random_strength': 34, 'border_count': 74, 'boosting_type': 'Plain'}. Best is trial 153 with value: 0.8322873254932245.\n"
     ]
    },
    {
     "name": "stdout",
     "output_type": "stream",
     "text": [
      "Score: 0.8307430050781967\n",
      "Fold 1\n",
      "Fold 2\n",
      "Fold 3\n"
     ]
    },
    {
     "name": "stderr",
     "output_type": "stream",
     "text": [
      "[I 2024-06-12 18:08:08,483] Trial 209 finished with value: 0.8099256377569489 and parameters: {'iterations': 210, 'learning_rate': 0.04474628031465292, 'depth': 6, 'l2_leaf_reg': 0.029536030266376412, 'bootstrap_type': 'Bayesian', 'od_type': 'IncToDec', 'random_strength': 36, 'border_count': 69, 'boosting_type': 'Plain'}. Best is trial 153 with value: 0.8322873254932245.\n"
     ]
    },
    {
     "name": "stdout",
     "output_type": "stream",
     "text": [
      "Score: 0.8099256377569489\n",
      "Fold 1\n",
      "Fold 2\n",
      "Fold 3\n"
     ]
    },
    {
     "name": "stderr",
     "output_type": "stream",
     "text": [
      "[I 2024-06-12 18:09:01,910] Trial 210 finished with value: 0.8319537610900758 and parameters: {'iterations': 1784, 'learning_rate': 0.04024089480241271, 'depth': 6, 'l2_leaf_reg': 0.013306496329814012, 'bootstrap_type': 'Bernoulli', 'od_type': 'Iter', 'random_strength': 45, 'border_count': 53, 'boosting_type': 'Plain'}. Best is trial 153 with value: 0.8322873254932245.\n"
     ]
    },
    {
     "name": "stdout",
     "output_type": "stream",
     "text": [
      "Score: 0.8319537610900758\n",
      "Fold 1\n",
      "Fold 2\n",
      "Fold 3\n"
     ]
    },
    {
     "name": "stderr",
     "output_type": "stream",
     "text": [
      "[I 2024-06-12 18:09:47,443] Trial 211 finished with value: 0.8313360264217632 and parameters: {'iterations': 1778, 'learning_rate': 0.040763531337749494, 'depth': 6, 'l2_leaf_reg': 0.01790419759908316, 'bootstrap_type': 'Bernoulli', 'od_type': 'Iter', 'random_strength': 45, 'border_count': 54, 'boosting_type': 'Plain'}. Best is trial 153 with value: 0.8322873254932245.\n"
     ]
    },
    {
     "name": "stdout",
     "output_type": "stream",
     "text": [
      "Score: 0.8313360264217632\n",
      "Fold 1\n",
      "Fold 2\n",
      "Fold 3\n"
     ]
    },
    {
     "name": "stderr",
     "output_type": "stream",
     "text": [
      "[I 2024-06-12 18:10:36,869] Trial 212 finished with value: 0.8314472057032473 and parameters: {'iterations': 1910, 'learning_rate': 0.05088351090668461, 'depth': 6, 'l2_leaf_reg': 0.011988057555420933, 'bootstrap_type': 'Bernoulli', 'od_type': 'Iter', 'random_strength': 41, 'border_count': 61, 'boosting_type': 'Plain'}. Best is trial 153 with value: 0.8322873254932245.\n"
     ]
    },
    {
     "name": "stdout",
     "output_type": "stream",
     "text": [
      "Score: 0.8314472057032473\n",
      "Fold 1\n",
      "Fold 2\n",
      "Fold 3\n"
     ]
    },
    {
     "name": "stderr",
     "output_type": "stream",
     "text": [
      "[I 2024-06-12 18:11:22,596] Trial 213 finished with value: 0.8319661140891804 and parameters: {'iterations': 1818, 'learning_rate': 0.03863879770567589, 'depth': 6, 'l2_leaf_reg': 0.03714668071526976, 'bootstrap_type': 'Bernoulli', 'od_type': 'Iter', 'random_strength': 32, 'border_count': 42, 'boosting_type': 'Plain'}. Best is trial 153 with value: 0.8322873254932245.\n"
     ]
    },
    {
     "name": "stdout",
     "output_type": "stream",
     "text": [
      "Score: 0.8319661140891804\n",
      "Fold 1\n",
      "Fold 2\n",
      "Fold 3\n"
     ]
    },
    {
     "name": "stderr",
     "output_type": "stream",
     "text": [
      "[I 2024-06-12 18:12:08,775] Trial 214 finished with value: 0.8310271735117265 and parameters: {'iterations': 1885, 'learning_rate': 0.029054115711674815, 'depth': 6, 'l2_leaf_reg': 0.03007707238527227, 'bootstrap_type': 'Bernoulli', 'od_type': 'Iter', 'random_strength': 25, 'border_count': 41, 'boosting_type': 'Plain'}. Best is trial 153 with value: 0.8322873254932245.\n"
     ]
    },
    {
     "name": "stdout",
     "output_type": "stream",
     "text": [
      "Score: 0.8310271735117265\n",
      "Fold 1\n",
      "Fold 2\n",
      "Fold 3\n"
     ]
    },
    {
     "name": "stderr",
     "output_type": "stream",
     "text": [
      "[I 2024-06-12 18:12:49,846] Trial 215 finished with value: 0.8315337014240415 and parameters: {'iterations': 1963, 'learning_rate': 0.03582183382503182, 'depth': 6, 'l2_leaf_reg': 0.05310377368431756, 'bootstrap_type': 'Bernoulli', 'od_type': 'Iter', 'random_strength': 34, 'border_count': 44, 'boosting_type': 'Plain'}. Best is trial 153 with value: 0.8322873254932245.\n"
     ]
    },
    {
     "name": "stdout",
     "output_type": "stream",
     "text": [
      "Score: 0.8315337014240415\n",
      "Fold 1\n",
      "Fold 2\n",
      "Fold 3\n"
     ]
    },
    {
     "name": "stderr",
     "output_type": "stream",
     "text": [
      "[I 2024-06-12 18:13:32,181] Trial 216 finished with value: 0.8310148008225539 and parameters: {'iterations': 1999, 'learning_rate': 0.06130763498506561, 'depth': 6, 'l2_leaf_reg': 0.014885648904848529, 'bootstrap_type': 'Bernoulli', 'od_type': 'Iter', 'random_strength': 32, 'border_count': 51, 'boosting_type': 'Plain'}. Best is trial 153 with value: 0.8322873254932245.\n"
     ]
    },
    {
     "name": "stdout",
     "output_type": "stream",
     "text": [
      "Score: 0.8310148008225539\n",
      "Fold 1\n",
      "Fold 2\n",
      "Fold 3\n"
     ]
    },
    {
     "name": "stderr",
     "output_type": "stream",
     "text": [
      "[I 2024-06-12 18:14:09,844] Trial 217 finished with value: 0.8301252887262264 and parameters: {'iterations': 1806, 'learning_rate': 0.02280727358661533, 'depth': 6, 'l2_leaf_reg': 0.007971165493882939, 'bootstrap_type': 'Bernoulli', 'od_type': 'Iter', 'random_strength': 37, 'border_count': 57, 'boosting_type': 'Plain'}. Best is trial 153 with value: 0.8322873254932245.\n"
     ]
    },
    {
     "name": "stdout",
     "output_type": "stream",
     "text": [
      "Score: 0.8301252887262264\n",
      "Fold 1\n",
      "Fold 2\n",
      "Fold 3\n"
     ]
    },
    {
     "name": "stderr",
     "output_type": "stream",
     "text": [
      "[I 2024-06-12 18:15:14,614] Trial 218 finished with value: 0.8315584023852566 and parameters: {'iterations': 1939, 'learning_rate': 0.03588737823408935, 'depth': 7, 'l2_leaf_reg': 0.03675732674647431, 'bootstrap_type': 'Bernoulli', 'od_type': 'Iter', 'random_strength': 49, 'border_count': 64, 'boosting_type': 'Plain'}. Best is trial 153 with value: 0.8322873254932245.\n"
     ]
    },
    {
     "name": "stdout",
     "output_type": "stream",
     "text": [
      "Score: 0.8315584023852566\n",
      "Fold 1\n",
      "Fold 2\n",
      "Fold 3\n"
     ]
    },
    {
     "name": "stderr",
     "output_type": "stream",
     "text": [
      "[I 2024-06-12 18:16:03,183] Trial 219 finished with value: 0.830953039948208 and parameters: {'iterations': 1895, 'learning_rate': 0.02882032151885218, 'depth': 6, 'l2_leaf_reg': 0.005333614564125332, 'bootstrap_type': 'Bernoulli', 'od_type': 'Iter', 'random_strength': 31, 'border_count': 78, 'boosting_type': 'Plain'}. Best is trial 153 with value: 0.8322873254932245.\n"
     ]
    },
    {
     "name": "stdout",
     "output_type": "stream",
     "text": [
      "Score: 0.830953039948208\n",
      "Fold 1\n",
      "Fold 2\n",
      "Fold 3\n"
     ]
    },
    {
     "name": "stderr",
     "output_type": "stream",
     "text": [
      "[I 2024-06-12 18:16:49,981] Trial 220 finished with value: 0.8281856251752702 and parameters: {'iterations': 1835, 'learning_rate': 0.015803208283448077, 'depth': 6, 'l2_leaf_reg': 0.009733495744449107, 'bootstrap_type': 'Bernoulli', 'od_type': 'Iter', 'random_strength': 46, 'border_count': 73, 'boosting_type': 'Plain'}. Best is trial 153 with value: 0.8322873254932245.\n"
     ]
    },
    {
     "name": "stdout",
     "output_type": "stream",
     "text": [
      "Score: 0.8281856251752702\n",
      "Fold 1\n",
      "Fold 2\n",
      "Fold 3\n"
     ]
    },
    {
     "name": "stderr",
     "output_type": "stream",
     "text": [
      "[I 2024-06-12 18:17:36,609] Trial 221 finished with value: 0.8312618928582447 and parameters: {'iterations': 1773, 'learning_rate': 0.04365783564399269, 'depth': 6, 'l2_leaf_reg': 0.003335056076699653, 'bootstrap_type': 'Bayesian', 'od_type': 'Iter', 'random_strength': 43, 'border_count': 68, 'boosting_type': 'Plain'}. Best is trial 153 with value: 0.8322873254932245.\n"
     ]
    },
    {
     "name": "stdout",
     "output_type": "stream",
     "text": [
      "Score: 0.8312618928582447\n",
      "Fold 1\n",
      "Fold 2\n",
      "Fold 3\n"
     ]
    },
    {
     "name": "stderr",
     "output_type": "stream",
     "text": [
      "[I 2024-06-12 18:18:25,867] Trial 222 finished with value: 0.8311507176979376 and parameters: {'iterations': 1861, 'learning_rate': 0.048548258893482465, 'depth': 6, 'l2_leaf_reg': 0.003883977732498517, 'bootstrap_type': 'Bayesian', 'od_type': 'Iter', 'random_strength': 40, 'border_count': 62, 'boosting_type': 'Plain'}. Best is trial 153 with value: 0.8322873254932245.\n"
     ]
    },
    {
     "name": "stdout",
     "output_type": "stream",
     "text": [
      "Score: 0.8311507176979376\n",
      "Fold 1\n",
      "Fold 2\n",
      "Fold 3\n"
     ]
    },
    {
     "name": "stderr",
     "output_type": "stream",
     "text": [
      "[I 2024-06-12 18:19:14,644] Trial 223 finished with value: 0.8314719345968844 and parameters: {'iterations': 1821, 'learning_rate': 0.04040409252748888, 'depth': 6, 'l2_leaf_reg': 0.017500096947422567, 'bootstrap_type': 'Bayesian', 'od_type': 'Iter', 'random_strength': 45, 'border_count': 68, 'boosting_type': 'Plain'}. Best is trial 153 with value: 0.8322873254932245.\n"
     ]
    },
    {
     "name": "stdout",
     "output_type": "stream",
     "text": [
      "Score: 0.8314719345968844\n",
      "Fold 1\n",
      "Fold 2\n",
      "Fold 3\n"
     ]
    },
    {
     "name": "stderr",
     "output_type": "stream",
     "text": [
      "[I 2024-06-12 18:20:04,203] Trial 224 finished with value: 0.8107533940159245 and parameters: {'iterations': 1931, 'learning_rate': 0.004173949287558523, 'depth': 6, 'l2_leaf_reg': 0.005489048570543081, 'bootstrap_type': 'Bayesian', 'od_type': 'Iter', 'random_strength': 28, 'border_count': 53, 'boosting_type': 'Plain'}. Best is trial 153 with value: 0.8322873254932245.\n"
     ]
    },
    {
     "name": "stdout",
     "output_type": "stream",
     "text": [
      "Score: 0.8107533940159245\n",
      "Fold 1\n",
      "Fold 2\n",
      "Fold 3\n"
     ]
    },
    {
     "name": "stderr",
     "output_type": "stream",
     "text": [
      "[I 2024-06-12 18:20:53,640] Trial 225 finished with value: 0.8315831138783686 and parameters: {'iterations': 1892, 'learning_rate': 0.05481074581721454, 'depth': 6, 'l2_leaf_reg': 0.010558680494276117, 'bootstrap_type': 'Bayesian', 'od_type': 'Iter', 'random_strength': 43, 'border_count': 61, 'boosting_type': 'Plain'}. Best is trial 153 with value: 0.8322873254932245.\n"
     ]
    },
    {
     "name": "stdout",
     "output_type": "stream",
     "text": [
      "Score: 0.8315831138783686\n",
      "Fold 1\n",
      "Fold 2\n",
      "Fold 3\n"
     ]
    },
    {
     "name": "stderr",
     "output_type": "stream",
     "text": [
      "[I 2024-06-12 18:21:32,878] Trial 226 finished with value: 0.8312001324418073 and parameters: {'iterations': 1852, 'learning_rate': 0.03490671218154917, 'depth': 6, 'l2_leaf_reg': 0.007400938268116718, 'bootstrap_type': 'Bernoulli', 'od_type': 'Iter', 'random_strength': 37, 'border_count': 87, 'boosting_type': 'Plain'}. Best is trial 153 with value: 0.8322873254932245.\n"
     ]
    },
    {
     "name": "stdout",
     "output_type": "stream",
     "text": [
      "Score: 0.8312001324418073\n",
      "Fold 1\n",
      "Fold 2\n",
      "Fold 3\n"
     ]
    },
    {
     "name": "stderr",
     "output_type": "stream",
     "text": [
      "[I 2024-06-12 18:22:15,007] Trial 227 finished with value: 0.8319290537181411 and parameters: {'iterations': 2000, 'learning_rate': 0.04261438830638645, 'depth': 6, 'l2_leaf_reg': 0.012856684544870937, 'bootstrap_type': 'Bayesian', 'od_type': 'Iter', 'random_strength': 41, 'border_count': 81, 'boosting_type': 'Plain'}. Best is trial 153 with value: 0.8322873254932245.\n"
     ]
    },
    {
     "name": "stdout",
     "output_type": "stream",
     "text": [
      "Score: 0.8319290537181411\n",
      "Fold 1\n",
      "Fold 2\n",
      "Fold 3\n"
     ]
    },
    {
     "name": "stderr",
     "output_type": "stream",
     "text": [
      "[I 2024-06-12 18:22:57,284] Trial 228 finished with value: 0.8308047828951594 and parameters: {'iterations': 1997, 'learning_rate': 0.026223951620369404, 'depth': 6, 'l2_leaf_reg': 0.01323251858954778, 'bootstrap_type': 'Bayesian', 'od_type': 'Iter', 'random_strength': 40, 'border_count': 83, 'boosting_type': 'Plain'}. Best is trial 153 with value: 0.8322873254932245.\n"
     ]
    },
    {
     "name": "stdout",
     "output_type": "stream",
     "text": [
      "Score: 0.8308047828951594\n",
      "Fold 1\n",
      "Fold 2\n",
      "Fold 3\n"
     ]
    },
    {
     "name": "stderr",
     "output_type": "stream",
     "text": [
      "[I 2024-06-12 18:23:40,618] Trial 229 finished with value: 0.8226384353037534 and parameters: {'iterations': 1951, 'learning_rate': 0.008327699945754276, 'depth': 6, 'l2_leaf_reg': 0.021381931540928035, 'bootstrap_type': 'MVS', 'od_type': 'Iter', 'random_strength': 33, 'border_count': 75, 'boosting_type': 'Plain'}. Best is trial 153 with value: 0.8322873254932245.\n"
     ]
    },
    {
     "name": "stdout",
     "output_type": "stream",
     "text": [
      "Score: 0.8226384353037534\n",
      "Fold 1\n",
      "Fold 2\n",
      "Fold 3\n"
     ]
    },
    {
     "name": "stderr",
     "output_type": "stream",
     "text": [
      "[I 2024-06-12 18:24:21,702] Trial 230 finished with value: 0.8316078317822001 and parameters: {'iterations': 1964, 'learning_rate': 0.03225196584372567, 'depth': 6, 'l2_leaf_reg': 0.04562633373295306, 'bootstrap_type': 'Bayesian', 'od_type': 'Iter', 'random_strength': 38, 'border_count': 57, 'boosting_type': 'Plain'}. Best is trial 153 with value: 0.8322873254932245.\n"
     ]
    },
    {
     "name": "stdout",
     "output_type": "stream",
     "text": [
      "Score: 0.8316078317822001\n",
      "Fold 1\n",
      "Fold 2\n",
      "Fold 3\n"
     ]
    },
    {
     "name": "stderr",
     "output_type": "stream",
     "text": [
      "[I 2024-06-12 18:25:01,946] Trial 231 finished with value: 0.8312989674244494 and parameters: {'iterations': 1917, 'learning_rate': 0.04243753658612788, 'depth': 6, 'l2_leaf_reg': 0.03749745527608961, 'bootstrap_type': 'Bayesian', 'od_type': 'Iter', 'random_strength': 42, 'border_count': 67, 'boosting_type': 'Plain'}. Best is trial 153 with value: 0.8322873254932245.\n"
     ]
    },
    {
     "name": "stdout",
     "output_type": "stream",
     "text": [
      "Score: 0.8312989674244494\n",
      "Fold 1\n",
      "Fold 2\n",
      "Fold 3\n"
     ]
    },
    {
     "name": "stderr",
     "output_type": "stream",
     "text": [
      "[I 2024-06-12 18:25:42,314] Trial 232 finished with value: 0.8319414053435198 and parameters: {'iterations': 1907, 'learning_rate': 0.049092091944221476, 'depth': 6, 'l2_leaf_reg': 0.004573663682058149, 'bootstrap_type': 'Bayesian', 'od_type': 'Iter', 'random_strength': 44, 'border_count': 72, 'boosting_type': 'Plain'}. Best is trial 153 with value: 0.8322873254932245.\n"
     ]
    },
    {
     "name": "stdout",
     "output_type": "stream",
     "text": [
      "Score: 0.8319414053435198\n",
      "Fold 1\n",
      "Fold 2\n",
      "Fold 3\n"
     ]
    },
    {
     "name": "stderr",
     "output_type": "stream",
     "text": [
      "[I 2024-06-12 18:26:23,634] Trial 233 finished with value: 0.8309283330341817 and parameters: {'iterations': 1950, 'learning_rate': 0.05816701196776079, 'depth': 6, 'l2_leaf_reg': 0.009161068983734207, 'bootstrap_type': 'Bayesian', 'od_type': 'Iter', 'random_strength': 47, 'border_count': 80, 'boosting_type': 'Plain'}. Best is trial 153 with value: 0.8322873254932245.\n"
     ]
    },
    {
     "name": "stdout",
     "output_type": "stream",
     "text": [
      "Score: 0.8309283330341817\n",
      "Fold 1\n",
      "Fold 2\n",
      "Fold 3\n"
     ]
    },
    {
     "name": "stderr",
     "output_type": "stream",
     "text": [
      "[I 2024-06-12 18:27:03,725] Trial 234 finished with value: 0.8315460544231462 and parameters: {'iterations': 1901, 'learning_rate': 0.03854835014196244, 'depth': 6, 'l2_leaf_reg': 0.09183115334127565, 'bootstrap_type': 'Bayesian', 'od_type': 'Iter', 'random_strength': 49, 'border_count': 72, 'boosting_type': 'Plain'}. Best is trial 153 with value: 0.8322873254932245.\n"
     ]
    },
    {
     "name": "stdout",
     "output_type": "stream",
     "text": [
      "Score: 0.8315460544231462\n",
      "Fold 1\n",
      "Fold 2\n",
      "Fold 3\n"
     ]
    },
    {
     "name": "stderr",
     "output_type": "stream",
     "text": [
      "[I 2024-06-12 18:27:45,963] Trial 235 finished with value: 0.8313483913264902 and parameters: {'iterations': 1995, 'learning_rate': 0.05108277961620205, 'depth': 6, 'l2_leaf_reg': 0.005124507938019669, 'bootstrap_type': 'Bayesian', 'od_type': 'Iter', 'random_strength': 45, 'border_count': 63, 'boosting_type': 'Plain'}. Best is trial 153 with value: 0.8322873254932245.\n"
     ]
    },
    {
     "name": "stdout",
     "output_type": "stream",
     "text": [
      "Score: 0.8313483913264902\n",
      "Fold 1\n",
      "Fold 2\n",
      "Fold 3\n"
     ]
    },
    {
     "name": "stderr",
     "output_type": "stream",
     "text": [
      "[I 2024-06-12 18:43:56,294] Trial 236 finished with value: 0.8188579573796484 and parameters: {'iterations': 1933, 'learning_rate': 0.006135581191984322, 'depth': 12, 'l2_leaf_reg': 0.007126104929655339, 'bootstrap_type': 'Bayesian', 'od_type': 'Iter', 'random_strength': 41, 'border_count': 46, 'boosting_type': 'Plain'}. Best is trial 153 with value: 0.8322873254932245.\n"
     ]
    },
    {
     "name": "stdout",
     "output_type": "stream",
     "text": [
      "Score: 0.8188579573796484\n",
      "Fold 1\n",
      "Fold 2\n",
      "Fold 3\n"
     ]
    },
    {
     "name": "stderr",
     "output_type": "stream",
     "text": [
      "[I 2024-06-12 18:44:32,324] Trial 237 finished with value: 0.8232438123938758 and parameters: {'iterations': 1872, 'learning_rate': 0.009512599573765239, 'depth': 6, 'l2_leaf_reg': 0.013114389590447799, 'bootstrap_type': 'Bayesian', 'od_type': 'Iter', 'random_strength': 45, 'border_count': 74, 'boosting_type': 'Plain'}. Best is trial 153 with value: 0.8322873254932245.\n"
     ]
    },
    {
     "name": "stdout",
     "output_type": "stream",
     "text": [
      "Score: 0.8232438123938758\n",
      "Fold 1\n",
      "Fold 2\n",
      "Fold 3\n"
     ]
    },
    {
     "name": "stderr",
     "output_type": "stream",
     "text": [
      "[I 2024-06-12 18:45:11,235] Trial 238 finished with value: 0.8315337101243041 and parameters: {'iterations': 1956, 'learning_rate': 0.031900972645824574, 'depth': 6, 'l2_leaf_reg': 0.0021543961090987503, 'bootstrap_type': 'Bayesian', 'od_type': 'Iter', 'random_strength': 51, 'border_count': 59, 'boosting_type': 'Plain'}. Best is trial 153 with value: 0.8322873254932245.\n"
     ]
    },
    {
     "name": "stdout",
     "output_type": "stream",
     "text": [
      "Score: 0.8315337101243041\n",
      "Fold 1\n",
      "Fold 2\n",
      "Fold 3\n"
     ]
    },
    {
     "name": "stderr",
     "output_type": "stream",
     "text": [
      "[I 2024-06-12 18:45:48,610] Trial 239 finished with value: 0.8041931208452641 and parameters: {'iterations': 1900, 'learning_rate': 0.0028174718315044983, 'depth': 6, 'l2_leaf_reg': 0.0047084911762986905, 'bootstrap_type': 'Bayesian', 'od_type': 'Iter', 'random_strength': 35, 'border_count': 66, 'boosting_type': 'Plain'}. Best is trial 153 with value: 0.8322873254932245.\n"
     ]
    },
    {
     "name": "stdout",
     "output_type": "stream",
     "text": [
      "Score: 0.8041931208452641\n",
      "Fold 1\n",
      "Fold 2\n",
      "Fold 3\n"
     ]
    },
    {
     "name": "stderr",
     "output_type": "stream",
     "text": [
      "[I 2024-06-12 18:46:30,168] Trial 240 finished with value: 0.8311754232382382 and parameters: {'iterations': 1999, 'learning_rate': 0.046953230952880065, 'depth': 6, 'l2_leaf_reg': 0.017613318177181102, 'bootstrap_type': 'Bayesian', 'od_type': 'Iter', 'random_strength': 39, 'border_count': 79, 'boosting_type': 'Plain'}. Best is trial 153 with value: 0.8322873254932245.\n"
     ]
    },
    {
     "name": "stdout",
     "output_type": "stream",
     "text": [
      "Score: 0.8311754232382382\n",
      "Fold 1\n",
      "Fold 2\n",
      "Fold 3\n"
     ]
    },
    {
     "name": "stderr",
     "output_type": "stream",
     "text": [
      "[I 2024-06-12 18:47:08,418] Trial 241 finished with value: 0.8314472203563211 and parameters: {'iterations': 1836, 'learning_rate': 0.04019896825301208, 'depth': 6, 'l2_leaf_reg': 0.0035004426833496346, 'bootstrap_type': 'Bayesian', 'od_type': 'Iter', 'random_strength': 43, 'border_count': 68, 'boosting_type': 'Plain'}. Best is trial 153 with value: 0.8322873254932245.\n"
     ]
    },
    {
     "name": "stdout",
     "output_type": "stream",
     "text": [
      "Score: 0.8314472203563211\n",
      "Fold 1\n",
      "Fold 2\n",
      "Fold 3\n"
     ]
    },
    {
     "name": "stderr",
     "output_type": "stream",
     "text": [
      "[I 2024-06-12 18:47:46,302] Trial 242 finished with value: 0.8317313791737712 and parameters: {'iterations': 1808, 'learning_rate': 0.04603862878804708, 'depth': 6, 'l2_leaf_reg': 0.0031705339806557377, 'bootstrap_type': 'Bayesian', 'od_type': 'Iter', 'random_strength': 44, 'border_count': 68, 'boosting_type': 'Plain'}. Best is trial 153 with value: 0.8322873254932245.\n"
     ]
    },
    {
     "name": "stdout",
     "output_type": "stream",
     "text": [
      "Score: 0.8317313791737712\n",
      "Fold 1\n",
      "Fold 2\n",
      "Fold 3\n"
     ]
    },
    {
     "name": "stderr",
     "output_type": "stream",
     "text": [
      "[I 2024-06-12 18:48:24,106] Trial 243 finished with value: 0.8310271606902869 and parameters: {'iterations': 1779, 'learning_rate': 0.05869945030837717, 'depth': 6, 'l2_leaf_reg': 0.006555999211860493, 'bootstrap_type': 'Bayesian', 'od_type': 'Iter', 'random_strength': 48, 'border_count': 71, 'boosting_type': 'Plain'}. Best is trial 153 with value: 0.8322873254932245.\n"
     ]
    },
    {
     "name": "stdout",
     "output_type": "stream",
     "text": [
      "Score: 0.8310271606902869\n",
      "Fold 1\n",
      "Fold 2\n",
      "Fold 3\n"
     ]
    },
    {
     "name": "stderr",
     "output_type": "stream",
     "text": [
      "[I 2024-06-12 18:49:04,157] Trial 244 finished with value: 0.83150898352021 and parameters: {'iterations': 1919, 'learning_rate': 0.03810822879604142, 'depth': 6, 'l2_leaf_reg': 0.002499222756978435, 'bootstrap_type': 'Bayesian', 'od_type': 'Iter', 'random_strength': 46, 'border_count': 54, 'boosting_type': 'Plain'}. Best is trial 153 with value: 0.8322873254932245.\n"
     ]
    },
    {
     "name": "stdout",
     "output_type": "stream",
     "text": [
      "Score: 0.83150898352021\n",
      "Fold 1\n",
      "Fold 2\n",
      "Fold 3\n"
     ]
    },
    {
     "name": "stderr",
     "output_type": "stream",
     "text": [
      "[I 2024-06-12 18:49:43,629] Trial 245 finished with value: 0.8310765855081449 and parameters: {'iterations': 1870, 'learning_rate': 0.048874186446378746, 'depth': 6, 'l2_leaf_reg': 0.00955885860427146, 'bootstrap_type': 'Bayesian', 'od_type': 'Iter', 'random_strength': 44, 'border_count': 63, 'boosting_type': 'Plain'}. Best is trial 153 with value: 0.8322873254932245.\n"
     ]
    },
    {
     "name": "stdout",
     "output_type": "stream",
     "text": [
      "Score: 0.8310765855081449\n",
      "Fold 1\n",
      "Fold 2\n",
      "Fold 3\n"
     ]
    },
    {
     "name": "stderr",
     "output_type": "stream",
     "text": [
      "[I 2024-06-12 18:50:21,081] Trial 246 finished with value: 0.8304341425520803 and parameters: {'iterations': 1748, 'learning_rate': 0.07096221765341995, 'depth': 6, 'l2_leaf_reg': 0.005417301871676835, 'bootstrap_type': 'Bayesian', 'od_type': 'Iter', 'random_strength': 41, 'border_count': 74, 'boosting_type': 'Plain'}. Best is trial 153 with value: 0.8322873254932245.\n"
     ]
    },
    {
     "name": "stdout",
     "output_type": "stream",
     "text": [
      "Score: 0.8304341425520803\n",
      "Fold 1\n",
      "Fold 2\n",
      "Fold 3\n"
     ]
    },
    {
     "name": "stderr",
     "output_type": "stream",
     "text": [
      "[I 2024-06-12 18:51:01,796] Trial 247 finished with value: 0.825615887236245 and parameters: {'iterations': 1961, 'learning_rate': 0.011305636187425578, 'depth': 6, 'l2_leaf_reg': 0.025905322369149244, 'bootstrap_type': 'Bayesian', 'od_type': 'Iter', 'random_strength': 47, 'border_count': 58, 'boosting_type': 'Plain'}. Best is trial 153 with value: 0.8322873254932245.\n"
     ]
    },
    {
     "name": "stdout",
     "output_type": "stream",
     "text": [
      "Score: 0.825615887236245\n",
      "Fold 1\n",
      "Fold 2\n",
      "Fold 3\n"
     ]
    },
    {
     "name": "stderr",
     "output_type": "stream",
     "text": [
      "[I 2024-06-12 18:51:40,089] Trial 248 finished with value: 0.8310518799678442 and parameters: {'iterations': 1816, 'learning_rate': 0.03315304806043448, 'depth': 6, 'l2_leaf_reg': 0.0041014455788196905, 'bootstrap_type': 'Bayesian', 'od_type': 'IncToDec', 'random_strength': 44, 'border_count': 49, 'boosting_type': 'Plain'}. Best is trial 153 with value: 0.8322873254932245.\n"
     ]
    },
    {
     "name": "stdout",
     "output_type": "stream",
     "text": [
      "Score: 0.8310518799678442\n",
      "Fold 1\n",
      "Fold 2\n",
      "Fold 3\n"
     ]
    },
    {
     "name": "stderr",
     "output_type": "stream",
     "text": [
      "[I 2024-06-12 18:52:30,396] Trial 249 finished with value: 0.7379604988298284 and parameters: {'iterations': 1904, 'learning_rate': 1.9639108328369136e-05, 'depth': 7, 'l2_leaf_reg': 0.0027383353129521518, 'bootstrap_type': 'Bayesian', 'od_type': 'Iter', 'random_strength': 39, 'border_count': 64, 'boosting_type': 'Plain'}. Best is trial 153 with value: 0.8322873254932245.\n"
     ]
    },
    {
     "name": "stdout",
     "output_type": "stream",
     "text": [
      "Score: 0.7379604988298284\n",
      "Fold 1\n",
      "Fold 2\n",
      "Fold 3\n"
     ]
    },
    {
     "name": "stderr",
     "output_type": "stream",
     "text": [
      "[I 2024-06-12 18:53:10,302] Trial 250 finished with value: 0.831484276148275 and parameters: {'iterations': 1863, 'learning_rate': 0.04201963300576606, 'depth': 6, 'l2_leaf_reg': 4.792952123667522e-05, 'bootstrap_type': 'Bernoulli', 'od_type': 'Iter', 'random_strength': 42, 'border_count': 70, 'boosting_type': 'Plain'}. Best is trial 153 with value: 0.8322873254932245.\n"
     ]
    },
    {
     "name": "stdout",
     "output_type": "stream",
     "text": [
      "Score: 0.831484276148275\n",
      "Fold 1\n",
      "Fold 2\n",
      "Fold 3\n"
     ]
    },
    {
     "name": "stderr",
     "output_type": "stream",
     "text": [
      "[I 2024-06-12 18:53:51,451] Trial 251 finished with value: 0.83078008010231 and parameters: {'iterations': 1929, 'learning_rate': 0.059607880785131566, 'depth': 6, 'l2_leaf_reg': 0.0005289690031467825, 'bootstrap_type': 'Bayesian', 'od_type': 'Iter', 'random_strength': 37, 'border_count': 59, 'boosting_type': 'Plain'}. Best is trial 153 with value: 0.8322873254932245.\n"
     ]
    },
    {
     "name": "stdout",
     "output_type": "stream",
     "text": [
      "Score: 0.83078008010231\n",
      "Fold 1\n",
      "Fold 2\n",
      "Fold 3\n"
     ]
    },
    {
     "name": "stderr",
     "output_type": "stream",
     "text": [
      "[I 2024-06-12 18:54:33,536] Trial 252 finished with value: 0.8308541994706632 and parameters: {'iterations': 1968, 'learning_rate': 0.027046860775734212, 'depth': 6, 'l2_leaf_reg': 0.0018599945942722655, 'bootstrap_type': 'Bayesian', 'od_type': 'Iter', 'random_strength': 46, 'border_count': 141, 'boosting_type': 'Plain'}. Best is trial 153 with value: 0.8322873254932245.\n"
     ]
    },
    {
     "name": "stdout",
     "output_type": "stream",
     "text": [
      "Score: 0.8308541994706632\n",
      "Fold 1\n",
      "Fold 2\n",
      "Fold 3\n"
     ]
    },
    {
     "name": "stderr",
     "output_type": "stream",
     "text": [
      "[I 2024-06-12 18:55:11,667] Trial 253 finished with value: 0.8324479314242009 and parameters: {'iterations': 1788, 'learning_rate': 0.04839909492838784, 'depth': 6, 'l2_leaf_reg': 0.0011289147913961007, 'bootstrap_type': 'Bayesian', 'od_type': 'Iter', 'random_strength': 30, 'border_count': 77, 'boosting_type': 'Plain'}. Best is trial 253 with value: 0.8324479314242009.\n"
     ]
    },
    {
     "name": "stdout",
     "output_type": "stream",
     "text": [
      "Score: 0.8324479314242009\n",
      "Fold 1\n",
      "Fold 2\n",
      "Fold 3\n"
     ]
    },
    {
     "name": "stderr",
     "output_type": "stream",
     "text": [
      "[I 2024-06-12 18:55:49,760] Trial 254 finished with value: 0.8313236693014817 and parameters: {'iterations': 1795, 'learning_rate': 0.03529891101486869, 'depth': 6, 'l2_leaf_reg': 0.0031855472014893065, 'bootstrap_type': 'Bayesian', 'od_type': 'Iter', 'random_strength': 30, 'border_count': 76, 'boosting_type': 'Plain'}. Best is trial 253 with value: 0.8324479314242009.\n"
     ]
    },
    {
     "name": "stdout",
     "output_type": "stream",
     "text": [
      "Score: 0.8313236693014817\n",
      "Fold 1\n",
      "Fold 2\n",
      "Fold 3\n"
     ]
    },
    {
     "name": "stderr",
     "output_type": "stream",
     "text": [
      "[I 2024-06-12 18:56:27,258] Trial 255 finished with value: 0.8319167002611279 and parameters: {'iterations': 1750, 'learning_rate': 0.05114770419122607, 'depth': 6, 'l2_leaf_reg': 0.008003894622057138, 'bootstrap_type': 'Bayesian', 'od_type': 'Iter', 'random_strength': 29, 'border_count': 84, 'boosting_type': 'Plain'}. Best is trial 253 with value: 0.8324479314242009.\n"
     ]
    },
    {
     "name": "stdout",
     "output_type": "stream",
     "text": [
      "Score: 0.8319167002611279\n",
      "Fold 1\n",
      "Fold 2\n",
      "Fold 3\n"
     ]
    },
    {
     "name": "stderr",
     "output_type": "stream",
     "text": [
      "[I 2024-06-12 18:57:05,448] Trial 256 finished with value: 0.8297299492535665 and parameters: {'iterations': 1761, 'learning_rate': 0.07807637022949002, 'depth': 6, 'l2_leaf_reg': 0.0016062444679878147, 'bootstrap_type': 'Bayesian', 'od_type': 'Iter', 'random_strength': 32, 'border_count': 87, 'boosting_type': 'Plain'}. Best is trial 253 with value: 0.8324479314242009.\n"
     ]
    },
    {
     "name": "stdout",
     "output_type": "stream",
     "text": [
      "Score: 0.8297299492535665\n",
      "Fold 1\n",
      "Fold 2\n",
      "Fold 3\n"
     ]
    },
    {
     "name": "stderr",
     "output_type": "stream",
     "text": [
      "[I 2024-06-12 18:57:43,108] Trial 257 finished with value: 0.8316572501893383 and parameters: {'iterations': 1756, 'learning_rate': 0.062145245288524116, 'depth': 6, 'l2_leaf_reg': 0.011315480598794257, 'bootstrap_type': 'Bayesian', 'od_type': 'Iter', 'random_strength': 29, 'border_count': 77, 'boosting_type': 'Plain'}. Best is trial 253 with value: 0.8324479314242009.\n"
     ]
    },
    {
     "name": "stdout",
     "output_type": "stream",
     "text": [
      "Score: 0.8316572501893383\n",
      "Fold 1\n",
      "Fold 2\n",
      "Fold 3\n"
     ]
    },
    {
     "name": "stderr",
     "output_type": "stream",
     "text": [
      "[I 2024-06-12 18:58:19,944] Trial 258 finished with value: 0.8307677257294798 and parameters: {'iterations': 1718, 'learning_rate': 0.03037478602229847, 'depth': 6, 'l2_leaf_reg': 0.0013079452676673178, 'bootstrap_type': 'Bayesian', 'od_type': 'Iter', 'random_strength': 27, 'border_count': 80, 'boosting_type': 'Plain'}. Best is trial 253 with value: 0.8324479314242009.\n"
     ]
    },
    {
     "name": "stdout",
     "output_type": "stream",
     "text": [
      "Score: 0.8307677257294798\n",
      "Fold 1\n",
      "Fold 2\n",
      "Fold 3\n"
     ]
    },
    {
     "name": "stderr",
     "output_type": "stream",
     "text": [
      "[I 2024-06-12 18:58:57,591] Trial 259 finished with value: 0.7952484445601916 and parameters: {'iterations': 1789, 'learning_rate': 0.0013895634406988293, 'depth': 6, 'l2_leaf_reg': 0.006846868267354227, 'bootstrap_type': 'Bayesian', 'od_type': 'Iter', 'random_strength': 23, 'border_count': 84, 'boosting_type': 'Plain'}. Best is trial 253 with value: 0.8324479314242009.\n"
     ]
    },
    {
     "name": "stdout",
     "output_type": "stream",
     "text": [
      "Score: 0.7952484445601916\n",
      "Fold 1\n",
      "Fold 2\n",
      "Fold 3\n"
     ]
    },
    {
     "name": "stderr",
     "output_type": "stream",
     "text": [
      "[I 2024-06-12 18:59:47,294] Trial 260 finished with value: 0.8302982522353929 and parameters: {'iterations': 1811, 'learning_rate': 0.02025703529108723, 'depth': 7, 'l2_leaf_reg': 0.014922884753062185, 'bootstrap_type': 'Bernoulli', 'od_type': 'Iter', 'random_strength': 33, 'border_count': 71, 'boosting_type': 'Plain'}. Best is trial 253 with value: 0.8324479314242009.\n"
     ]
    },
    {
     "name": "stdout",
     "output_type": "stream",
     "text": [
      "Score: 0.8302982522353929\n",
      "Fold 1\n",
      "Fold 2\n",
      "Fold 3\n"
     ]
    },
    {
     "name": "stderr",
     "output_type": "stream",
     "text": [
      "[I 2024-06-12 19:00:26,529] Trial 261 finished with value: 0.831793125852952 and parameters: {'iterations': 1845, 'learning_rate': 0.04058453271758325, 'depth': 6, 'l2_leaf_reg': 0.0010282224351278444, 'bootstrap_type': 'Bayesian', 'od_type': 'Iter', 'random_strength': 35, 'border_count': 66, 'boosting_type': 'Plain'}. Best is trial 253 with value: 0.8324479314242009.\n"
     ]
    },
    {
     "name": "stdout",
     "output_type": "stream",
     "text": [
      "Score: 0.831793125852952\n",
      "Fold 1\n",
      "Fold 2\n",
      "Fold 3\n"
     ]
    },
    {
     "name": "stderr",
     "output_type": "stream",
     "text": [
      "[I 2024-06-12 19:09:15,444] Trial 262 finished with value: 0.8275308470785347 and parameters: {'iterations': 1725, 'learning_rate': 0.0538062531618576, 'depth': 11, 'l2_leaf_reg': 0.00042256247239684747, 'bootstrap_type': 'MVS', 'od_type': 'Iter', 'random_strength': 35, 'border_count': 92, 'boosting_type': 'Plain'}. Best is trial 253 with value: 0.8324479314242009.\n"
     ]
    },
    {
     "name": "stdout",
     "output_type": "stream",
     "text": [
      "Score: 0.8275308470785347\n",
      "Fold 1\n",
      "Fold 2\n",
      "Fold 3\n"
     ]
    },
    {
     "name": "stderr",
     "output_type": "stream",
     "text": [
      "[I 2024-06-12 19:09:51,481] Trial 263 finished with value: 0.8130389740533168 and parameters: {'iterations': 1843, 'learning_rate': 0.005298965810736156, 'depth': 6, 'l2_leaf_reg': 0.00934195977263487, 'bootstrap_type': 'Bayesian', 'od_type': 'Iter', 'random_strength': 25, 'border_count': 67, 'boosting_type': 'Plain'}. Best is trial 253 with value: 0.8324479314242009.\n"
     ]
    },
    {
     "name": "stdout",
     "output_type": "stream",
     "text": [
      "Score: 0.8130389740533168\n",
      "Fold 1\n",
      "Fold 2\n",
      "Fold 3\n"
     ]
    },
    {
     "name": "stderr",
     "output_type": "stream",
     "text": [
      "[I 2024-06-12 19:10:28,587] Trial 264 finished with value: 0.8324726552808438 and parameters: {'iterations': 1786, 'learning_rate': 0.04068373089726925, 'depth': 6, 'l2_leaf_reg': 0.001938482230458562, 'bootstrap_type': 'Bayesian', 'od_type': 'Iter', 'random_strength': 34, 'border_count': 73, 'boosting_type': 'Plain'}. Best is trial 264 with value: 0.8324726552808438.\n"
     ]
    },
    {
     "name": "stdout",
     "output_type": "stream",
     "text": [
      "Score: 0.8324726552808438\n",
      "Fold 1\n",
      "Fold 2\n",
      "Fold 3\n"
     ]
    },
    {
     "name": "stderr",
     "output_type": "stream",
     "text": [
      "[I 2024-06-12 19:11:05,131] Trial 265 finished with value: 0.8315213502565711 and parameters: {'iterations': 1736, 'learning_rate': 0.04217948367944799, 'depth': 6, 'l2_leaf_reg': 0.0010683775351758066, 'bootstrap_type': 'Bayesian', 'od_type': 'Iter', 'random_strength': 31, 'border_count': 80, 'boosting_type': 'Plain'}. Best is trial 264 with value: 0.8324726552808438.\n"
     ]
    },
    {
     "name": "stdout",
     "output_type": "stream",
     "text": [
      "Score: 0.8315213502565711\n",
      "Fold 1\n",
      "Fold 2\n",
      "Fold 3\n"
     ]
    },
    {
     "name": "stderr",
     "output_type": "stream",
     "text": [
      "[I 2024-06-12 19:11:42,730] Trial 266 finished with value: 0.8315336950133219 and parameters: {'iterations': 1781, 'learning_rate': 0.05113220268739784, 'depth': 6, 'l2_leaf_reg': 0.000743072582491184, 'bootstrap_type': 'Bayesian', 'od_type': 'Iter', 'random_strength': 35, 'border_count': 67, 'boosting_type': 'Plain'}. Best is trial 264 with value: 0.8324726552808438.\n"
     ]
    },
    {
     "name": "stdout",
     "output_type": "stream",
     "text": [
      "Score: 0.8315336950133219\n",
      "Fold 1\n",
      "Fold 2\n",
      "Fold 3\n"
     ]
    },
    {
     "name": "stderr",
     "output_type": "stream",
     "text": [
      "[I 2024-06-12 19:12:20,091] Trial 267 finished with value: 0.7536013390601575 and parameters: {'iterations': 1805, 'learning_rate': 0.0004242852420634996, 'depth': 6, 'l2_leaf_reg': 0.0010228251427007835, 'bootstrap_type': 'Bayesian', 'od_type': 'IncToDec', 'random_strength': 33, 'border_count': 73, 'boosting_type': 'Plain'}. Best is trial 264 with value: 0.8324726552808438.\n"
     ]
    },
    {
     "name": "stdout",
     "output_type": "stream",
     "text": [
      "Score: 0.7536013390601575\n",
      "Fold 1\n",
      "Fold 2\n",
      "Fold 3\n"
     ]
    },
    {
     "name": "stderr",
     "output_type": "stream",
     "text": [
      "[I 2024-06-12 19:16:55,057] Trial 268 finished with value: 0.8256282342825383 and parameters: {'iterations': 1828, 'learning_rate': 0.06839646136404484, 'depth': 10, 'l2_leaf_reg': 0.00145278337656362, 'bootstrap_type': 'Bayesian', 'od_type': 'Iter', 'random_strength': 28, 'border_count': 63, 'boosting_type': 'Plain'}. Best is trial 264 with value: 0.8324726552808438.\n"
     ]
    },
    {
     "name": "stdout",
     "output_type": "stream",
     "text": [
      "Score: 0.8256282342825383\n",
      "Fold 1\n",
      "Fold 2\n",
      "Fold 3\n"
     ]
    },
    {
     "name": "stderr",
     "output_type": "stream",
     "text": [
      "[I 2024-06-12 19:17:33,226] Trial 269 finished with value: 0.8319290413546101 and parameters: {'iterations': 1688, 'learning_rate': 0.044856411534277815, 'depth': 6, 'l2_leaf_reg': 0.0018801179906589721, 'bootstrap_type': 'Bernoulli', 'od_type': 'Iter', 'random_strength': 30, 'border_count': 70, 'boosting_type': 'Plain'}. Best is trial 264 with value: 0.8324726552808438.\n"
     ]
    },
    {
     "name": "stdout",
     "output_type": "stream",
     "text": [
      "Score: 0.8319290413546101\n",
      "Fold 1\n",
      "Fold 2\n",
      "Fold 3\n"
     ]
    },
    {
     "name": "stderr",
     "output_type": "stream",
     "text": [
      "[I 2024-06-12 19:18:12,619] Trial 270 finished with value: 0.8317066521117685 and parameters: {'iterations': 1712, 'learning_rate': 0.04721720185770249, 'depth': 6, 'l2_leaf_reg': 0.001987665118829002, 'bootstrap_type': 'Bernoulli', 'od_type': 'Iter', 'random_strength': 26, 'border_count': 82, 'boosting_type': 'Plain'}. Best is trial 264 with value: 0.8324726552808438.\n"
     ]
    },
    {
     "name": "stdout",
     "output_type": "stream",
     "text": [
      "Score: 0.8317066521117685\n",
      "Fold 1\n",
      "Fold 2\n",
      "Fold 3\n"
     ]
    },
    {
     "name": "stderr",
     "output_type": "stream",
     "text": [
      "[I 2024-06-12 19:18:50,275] Trial 271 finished with value: 0.7412838823597386 and parameters: {'iterations': 1686, 'learning_rate': 0.00013854223309860665, 'depth': 6, 'l2_leaf_reg': 0.0021421902496627796, 'bootstrap_type': 'Bernoulli', 'od_type': 'Iter', 'random_strength': 30, 'border_count': 72, 'boosting_type': 'Plain'}. Best is trial 264 with value: 0.8324726552808438.\n"
     ]
    },
    {
     "name": "stdout",
     "output_type": "stream",
     "text": [
      "Score: 0.7412838823597386\n",
      "Fold 1\n",
      "Fold 2\n",
      "Fold 3\n"
     ]
    },
    {
     "name": "stderr",
     "output_type": "stream",
     "text": [
      "[I 2024-06-12 19:19:31,083] Trial 272 finished with value: 0.8307924266906946 and parameters: {'iterations': 1753, 'learning_rate': 0.05742598348798276, 'depth': 6, 'l2_leaf_reg': 0.0009923326350912058, 'bootstrap_type': 'Bernoulli', 'od_type': 'Iter', 'random_strength': 32, 'border_count': 78, 'boosting_type': 'Plain'}. Best is trial 264 with value: 0.8324726552808438.\n"
     ]
    },
    {
     "name": "stdout",
     "output_type": "stream",
     "text": [
      "Score: 0.8307924266906946\n",
      "Fold 1\n",
      "Fold 2\n",
      "Fold 3\n"
     ]
    },
    {
     "name": "stderr",
     "output_type": "stream",
     "text": [
      "[I 2024-06-12 19:19:57,491] Trial 273 finished with value: 0.8301005557114123 and parameters: {'iterations': 858, 'learning_rate': 0.08169072480654166, 'depth': 7, 'l2_leaf_reg': 0.0027944326102264153, 'bootstrap_type': 'Bernoulli', 'od_type': 'Iter', 'random_strength': 30, 'border_count': 87, 'boosting_type': 'Plain'}. Best is trial 264 with value: 0.8324726552808438.\n"
     ]
    },
    {
     "name": "stdout",
     "output_type": "stream",
     "text": [
      "Score: 0.8301005557114123\n",
      "Fold 1\n",
      "Fold 2\n",
      "Fold 3\n"
     ]
    },
    {
     "name": "stderr",
     "output_type": "stream",
     "text": [
      "[I 2024-06-12 19:20:38,275] Trial 274 finished with value: 0.8302982526933014 and parameters: {'iterations': 1776, 'learning_rate': 0.025484060903031958, 'depth': 6, 'l2_leaf_reg': 0.0006558959279469967, 'bootstrap_type': 'Bernoulli', 'od_type': 'Iter', 'random_strength': 35, 'border_count': 57, 'boosting_type': 'Plain'}. Best is trial 264 with value: 0.8324726552808438.\n"
     ]
    },
    {
     "name": "stdout",
     "output_type": "stream",
     "text": [
      "Score: 0.8302982526933014\n",
      "Fold 1\n",
      "Fold 2\n",
      "Fold 3\n"
     ]
    },
    {
     "name": "stderr",
     "output_type": "stream",
     "text": [
      "[I 2024-06-12 19:21:19,742] Trial 275 finished with value: 0.8316943114761949 and parameters: {'iterations': 1805, 'learning_rate': 0.040729858217532736, 'depth': 6, 'l2_leaf_reg': 0.0013005964845635935, 'bootstrap_type': 'Bernoulli', 'od_type': 'Iter', 'random_strength': 36, 'border_count': 65, 'boosting_type': 'Plain'}. Best is trial 264 with value: 0.8324726552808438.\n"
     ]
    },
    {
     "name": "stdout",
     "output_type": "stream",
     "text": [
      "Score: 0.8316943114761949\n",
      "Fold 1\n",
      "Fold 2\n",
      "Fold 3\n"
     ]
    },
    {
     "name": "stderr",
     "output_type": "stream",
     "text": [
      "[I 2024-06-12 19:22:00,282] Trial 276 finished with value: 0.7326974741864812 and parameters: {'iterations': 1851, 'learning_rate': 6.28140979400502e-05, 'depth': 6, 'l2_leaf_reg': 0.0018602119279324026, 'bootstrap_type': 'Bayesian', 'od_type': 'Iter', 'random_strength': 87, 'border_count': 71, 'boosting_type': 'Plain'}. Best is trial 264 with value: 0.8324726552808438.\n"
     ]
    },
    {
     "name": "stdout",
     "output_type": "stream",
     "text": [
      "Score: 0.7326974741864812\n",
      "Fold 1\n",
      "Fold 2\n",
      "Fold 3\n"
     ]
    },
    {
     "name": "stderr",
     "output_type": "stream",
     "text": [
      "[I 2024-06-12 19:22:40,713] Trial 277 finished with value: 0.8315831207469969 and parameters: {'iterations': 1748, 'learning_rate': 0.051367480268370444, 'depth': 6, 'l2_leaf_reg': 0.003330805963954896, 'bootstrap_type': 'Bayesian', 'od_type': 'Iter', 'random_strength': 33, 'border_count': 59, 'boosting_type': 'Plain'}. Best is trial 264 with value: 0.8324726552808438.\n"
     ]
    },
    {
     "name": "stdout",
     "output_type": "stream",
     "text": [
      "Score: 0.8315831207469969\n",
      "Fold 1\n",
      "Fold 2\n",
      "Fold 3\n"
     ]
    },
    {
     "name": "stderr",
     "output_type": "stream",
     "text": [
      "[I 2024-06-12 19:23:26,664] Trial 278 finished with value: 0.83180550632657 and parameters: {'iterations': 1979, 'learning_rate': 0.032236124878326694, 'depth': 6, 'l2_leaf_reg': 0.018438467220576012, 'bootstrap_type': 'Bayesian', 'od_type': 'Iter', 'random_strength': 38, 'border_count': 76, 'boosting_type': 'Plain'}. Best is trial 264 with value: 0.8324726552808438.\n"
     ]
    },
    {
     "name": "stdout",
     "output_type": "stream",
     "text": [
      "Score: 0.83180550632657\n",
      "Fold 1\n",
      "Fold 2\n",
      "Fold 3\n"
     ]
    },
    {
     "name": "stderr",
     "output_type": "stream",
     "text": [
      "[I 2024-06-12 19:24:12,247] Trial 279 finished with value: 0.8313607397465094 and parameters: {'iterations': 1991, 'learning_rate': 0.030728440643883102, 'depth': 6, 'l2_leaf_reg': 0.02208677883717493, 'bootstrap_type': 'Bernoulli', 'od_type': 'Iter', 'random_strength': 38, 'border_count': 76, 'boosting_type': 'Plain'}. Best is trial 264 with value: 0.8324726552808438.\n"
     ]
    },
    {
     "name": "stdout",
     "output_type": "stream",
     "text": [
      "Score: 0.8313607397465094\n",
      "Fold 1\n",
      "Fold 2\n",
      "Fold 3\n"
     ]
    },
    {
     "name": "stderr",
     "output_type": "stream",
     "text": [
      "[I 2024-06-12 19:24:58,305] Trial 280 finished with value: 0.8311012919642625 and parameters: {'iterations': 2000, 'learning_rate': 0.037036991465191356, 'depth': 6, 'l2_leaf_reg': 0.02095164790421231, 'bootstrap_type': 'Bayesian', 'od_type': 'Iter', 'random_strength': 29, 'border_count': 81, 'boosting_type': 'Plain'}. Best is trial 264 with value: 0.8324726552808438.\n"
     ]
    },
    {
     "name": "stdout",
     "output_type": "stream",
     "text": [
      "Score: 0.8311012919642625\n",
      "Fold 1\n",
      "Fold 2\n",
      "Fold 3\n"
     ]
    },
    {
     "name": "stderr",
     "output_type": "stream",
     "text": [
      "[I 2024-06-12 19:25:43,896] Trial 281 finished with value: 0.8305576977280967 and parameters: {'iterations': 1961, 'learning_rate': 0.02320159756474162, 'depth': 6, 'l2_leaf_reg': 0.027604678632631698, 'bootstrap_type': 'Bayesian', 'od_type': 'Iter', 'random_strength': 36, 'border_count': 64, 'boosting_type': 'Plain'}. Best is trial 264 with value: 0.8324726552808438.\n"
     ]
    },
    {
     "name": "stdout",
     "output_type": "stream",
     "text": [
      "Score: 0.8305576977280967\n",
      "Fold 1\n",
      "Fold 2\n",
      "Fold 3\n"
     ]
    },
    {
     "name": "stderr",
     "output_type": "stream",
     "text": [
      "[I 2024-06-12 19:26:29,008] Trial 282 finished with value: 0.8286798129099203 and parameters: {'iterations': 1956, 'learning_rate': 0.015525839939570147, 'depth': 6, 'l2_leaf_reg': 0.015580507262544235, 'bootstrap_type': 'Bayesian', 'od_type': 'Iter', 'random_strength': 40, 'border_count': 75, 'boosting_type': 'Plain'}. Best is trial 264 with value: 0.8324726552808438.\n"
     ]
    },
    {
     "name": "stdout",
     "output_type": "stream",
     "text": [
      "Score: 0.8286798129099203\n",
      "Fold 1\n",
      "Fold 2\n",
      "Fold 3\n"
     ]
    },
    {
     "name": "stderr",
     "output_type": "stream",
     "text": [
      "[I 2024-06-12 19:27:14,334] Trial 283 finished with value: 0.8307553731882836 and parameters: {'iterations': 1953, 'learning_rate': 0.02945194697415439, 'depth': 6, 'l2_leaf_reg': 0.0007639309513832418, 'bootstrap_type': 'Bayesian', 'od_type': 'Iter', 'random_strength': 34, 'border_count': 54, 'boosting_type': 'Plain'}. Best is trial 264 with value: 0.8324726552808438.\n"
     ]
    },
    {
     "name": "stdout",
     "output_type": "stream",
     "text": [
      "Score: 0.8307553731882836\n",
      "Fold 1\n",
      "Fold 2\n",
      "Fold 3\n"
     ]
    },
    {
     "name": "stderr",
     "output_type": "stream",
     "text": [
      "[I 2024-06-12 19:28:11,611] Trial 284 finished with value: 0.8305082724523304 and parameters: {'iterations': 1864, 'learning_rate': 0.036956144323723246, 'depth': 7, 'l2_leaf_reg': 0.00035816397413006355, 'bootstrap_type': 'Bayesian', 'od_type': 'Iter', 'random_strength': 31, 'border_count': 72, 'boosting_type': 'Plain'}. Best is trial 264 with value: 0.8324726552808438.\n"
     ]
    },
    {
     "name": "stdout",
     "output_type": "stream",
     "text": [
      "Score: 0.8305082724523304\n",
      "Fold 1\n",
      "Fold 2\n",
      "Fold 3\n"
     ]
    },
    {
     "name": "stderr",
     "output_type": "stream",
     "text": [
      "[I 2024-06-12 19:30:44,277] Trial 285 finished with value: 0.8269872299469411 and parameters: {'iterations': 1971, 'learning_rate': 0.0646696740755985, 'depth': 9, 'l2_leaf_reg': 0.07796534580868617, 'bootstrap_type': 'Bayesian', 'od_type': 'Iter', 'random_strength': 37, 'border_count': 86, 'boosting_type': 'Plain'}. Best is trial 264 with value: 0.8324726552808438.\n"
     ]
    },
    {
     "name": "stdout",
     "output_type": "stream",
     "text": [
      "Score: 0.8269872299469411\n",
      "Fold 1\n",
      "Fold 2\n",
      "Fold 3\n"
     ]
    },
    {
     "name": "stderr",
     "output_type": "stream",
     "text": [
      "[I 2024-06-12 19:31:28,568] Trial 286 finished with value: 0.8318302095773277 and parameters: {'iterations': 1931, 'learning_rate': 0.04143723028656994, 'depth': 6, 'l2_leaf_reg': 0.03772145765201606, 'bootstrap_type': 'Bernoulli', 'od_type': 'Iter', 'random_strength': 38, 'border_count': 61, 'boosting_type': 'Plain'}. Best is trial 264 with value: 0.8324726552808438.\n"
     ]
    },
    {
     "name": "stdout",
     "output_type": "stream",
     "text": [
      "Score: 0.8318302095773277\n",
      "Fold 1\n",
      "Fold 2\n",
      "Fold 3\n"
     ]
    },
    {
     "name": "stderr",
     "output_type": "stream",
     "text": [
      "[I 2024-06-12 19:32:11,608] Trial 287 finished with value: 0.831657251563064 and parameters: {'iterations': 1868, 'learning_rate': 0.04399786396727339, 'depth': 6, 'l2_leaf_reg': 9.300508467734891e-05, 'bootstrap_type': 'Bernoulli', 'od_type': 'IncToDec', 'random_strength': 39, 'border_count': 67, 'boosting_type': 'Plain'}. Best is trial 264 with value: 0.8324726552808438.\n"
     ]
    },
    {
     "name": "stdout",
     "output_type": "stream",
     "text": [
      "Score: 0.831657251563064\n",
      "Fold 1\n",
      "Fold 2\n",
      "Fold 3\n"
     ]
    },
    {
     "name": "stderr",
     "output_type": "stream",
     "text": [
      "[I 2024-06-12 19:32:54,991] Trial 288 finished with value: 0.7771984929276985 and parameters: {'iterations': 1926, 'learning_rate': 0.0009646171456899141, 'depth': 6, 'l2_leaf_reg': 0.02789064238482788, 'bootstrap_type': 'Bernoulli', 'od_type': 'Iter', 'random_strength': 36, 'border_count': 61, 'boosting_type': 'Plain'}. Best is trial 264 with value: 0.8324726552808438.\n"
     ]
    },
    {
     "name": "stdout",
     "output_type": "stream",
     "text": [
      "Score: 0.7771984929276985\n",
      "Fold 1\n",
      "Fold 2\n",
      "Fold 3\n"
     ]
    },
    {
     "name": "stderr",
     "output_type": "stream",
     "text": [
      "[I 2024-06-12 19:33:40,684] Trial 289 finished with value: 0.8249116742476633 and parameters: {'iterations': 1998, 'learning_rate': 0.010343197686657644, 'depth': 6, 'l2_leaf_reg': 0.05498517379062087, 'bootstrap_type': 'Bernoulli', 'od_type': 'Iter', 'random_strength': 33, 'border_count': 70, 'boosting_type': 'Plain'}. Best is trial 264 with value: 0.8324726552808438.\n"
     ]
    },
    {
     "name": "stdout",
     "output_type": "stream",
     "text": [
      "Score: 0.8249116742476633\n",
      "Fold 1\n",
      "Fold 2\n",
      "Fold 3\n"
     ]
    },
    {
     "name": "stderr",
     "output_type": "stream",
     "text": [
      "[I 2024-06-12 19:33:56,207] Trial 290 finished with value: 0.8289763151103954 and parameters: {'iterations': 653, 'learning_rate': 0.05198589871616441, 'depth': 6, 'l2_leaf_reg': 0.03460955938095414, 'bootstrap_type': 'Bernoulli', 'od_type': 'Iter', 'random_strength': 41, 'border_count': 75, 'boosting_type': 'Plain'}. Best is trial 264 with value: 0.8324726552808438.\n"
     ]
    },
    {
     "name": "stdout",
     "output_type": "stream",
     "text": [
      "Score: 0.8289763151103954\n",
      "Fold 1\n",
      "Fold 2\n",
      "Fold 3\n"
     ]
    },
    {
     "name": "stderr",
     "output_type": "stream",
     "text": [
      "[I 2024-06-12 19:34:38,797] Trial 291 finished with value: 0.8311754108747073 and parameters: {'iterations': 1828, 'learning_rate': 0.03195299125916963, 'depth': 6, 'l2_leaf_reg': 0.03805163425354386, 'bootstrap_type': 'Bernoulli', 'od_type': 'Iter', 'random_strength': 39, 'border_count': 80, 'boosting_type': 'Plain'}. Best is trial 264 with value: 0.8324726552808438.\n"
     ]
    },
    {
     "name": "stdout",
     "output_type": "stream",
     "text": [
      "Score: 0.8311754108747073\n",
      "Fold 1\n",
      "Fold 2\n",
      "Fold 3\n"
     ]
    },
    {
     "name": "stderr",
     "output_type": "stream",
     "text": [
      "[I 2024-06-12 19:35:24,134] Trial 292 finished with value: 0.8082454270252336 and parameters: {'iterations': 1889, 'learning_rate': 0.0034786449300988733, 'depth': 6, 'l2_leaf_reg': 0.01679351866749889, 'bootstrap_type': 'MVS', 'od_type': 'Iter', 'random_strength': 37, 'border_count': 41, 'boosting_type': 'Plain'}. Best is trial 264 with value: 0.8324726552808438.\n"
     ]
    },
    {
     "name": "stdout",
     "output_type": "stream",
     "text": [
      "Score: 0.8082454270252336\n",
      "Fold 1\n",
      "Fold 2\n",
      "Fold 3\n"
     ]
    },
    {
     "name": "stderr",
     "output_type": "stream",
     "text": [
      "[I 2024-06-12 19:36:07,623] Trial 293 finished with value: 0.8322132129934996 and parameters: {'iterations': 1926, 'learning_rate': 0.06897897104633385, 'depth': 6, 'l2_leaf_reg': 8.071477415240468, 'bootstrap_type': 'Bernoulli', 'od_type': 'Iter', 'random_strength': 34, 'border_count': 56, 'boosting_type': 'Plain'}. Best is trial 264 with value: 0.8324726552808438.\n"
     ]
    },
    {
     "name": "stdout",
     "output_type": "stream",
     "text": [
      "Score: 0.8322132129934996\n",
      "Fold 1\n",
      "Fold 2\n",
      "Fold 3\n"
     ]
    },
    {
     "name": "stderr",
     "output_type": "stream",
     "text": [
      "[I 2024-06-12 19:36:45,747] Trial 294 finished with value: 0.8312371996814751 and parameters: {'iterations': 1708, 'learning_rate': 0.06737582504045952, 'depth': 6, 'l2_leaf_reg': 33.288223596006674, 'bootstrap_type': 'Bernoulli', 'od_type': 'Iter', 'random_strength': 34, 'border_count': 53, 'boosting_type': 'Plain'}. Best is trial 264 with value: 0.8324726552808438.\n"
     ]
    },
    {
     "name": "stdout",
     "output_type": "stream",
     "text": [
      "Score: 0.8312371996814751\n",
      "Fold 1\n",
      "Fold 2\n",
      "Fold 3\n"
     ]
    },
    {
     "name": "stderr",
     "output_type": "stream",
     "text": [
      "[I 2024-06-12 19:37:24,551] Trial 295 finished with value: 0.8312495430645 and parameters: {'iterations': 1659, 'learning_rate': 0.07680081560745539, 'depth': 6, 'l2_leaf_reg': 0.15924807186058942, 'bootstrap_type': 'Bernoulli', 'od_type': 'Iter', 'random_strength': 28, 'border_count': 56, 'boosting_type': 'Plain'}. Best is trial 264 with value: 0.8324726552808438.\n"
     ]
    },
    {
     "name": "stdout",
     "output_type": "stream",
     "text": [
      "Score: 0.8312495430645\n",
      "Fold 1\n",
      "Fold 2\n",
      "Fold 3\n"
     ]
    },
    {
     "name": "stderr",
     "output_type": "stream",
     "text": [
      "[I 2024-06-12 19:38:20,408] Trial 296 finished with value: 0.8315336991344987 and parameters: {'iterations': 1857, 'learning_rate': 0.06212510421048472, 'depth': 7, 'l2_leaf_reg': 0.8012182622983074, 'bootstrap_type': 'Bernoulli', 'od_type': 'Iter', 'random_strength': 31, 'border_count': 47, 'boosting_type': 'Plain'}. Best is trial 264 with value: 0.8324726552808438.\n"
     ]
    },
    {
     "name": "stdout",
     "output_type": "stream",
     "text": [
      "Score: 0.8315336991344987\n",
      "Fold 1\n",
      "Fold 2\n",
      "Fold 3\n"
     ]
    },
    {
     "name": "stderr",
     "output_type": "stream",
     "text": [
      "[I 2024-06-12 19:39:00,410] Trial 297 finished with value: 0.8314348682730337 and parameters: {'iterations': 1772, 'learning_rate': 0.05352608164240368, 'depth': 6, 'l2_leaf_reg': 5.73998605724931, 'bootstrap_type': 'Bernoulli', 'od_type': 'Iter', 'random_strength': 35, 'border_count': 90, 'boosting_type': 'Plain'}. Best is trial 264 with value: 0.8324726552808438.\n"
     ]
    },
    {
     "name": "stdout",
     "output_type": "stream",
     "text": [
      "Score: 0.8314348682730337\n",
      "Fold 1\n",
      "Fold 2\n",
      "Fold 3\n"
     ]
    },
    {
     "name": "stderr",
     "output_type": "stream",
     "text": [
      "[I 2024-06-12 19:39:45,925] Trial 298 finished with value: 0.8294457858570308 and parameters: {'iterations': 1928, 'learning_rate': 0.08891149747776306, 'depth': 6, 'l2_leaf_reg': 0.012105497273183809, 'bootstrap_type': 'Bernoulli', 'od_type': 'Iter', 'random_strength': 32, 'border_count': 61, 'boosting_type': 'Plain'}. Best is trial 264 with value: 0.8324726552808438.\n"
     ]
    },
    {
     "name": "stdout",
     "output_type": "stream",
     "text": [
      "Score: 0.8294457858570308\n",
      "Fold 1\n",
      "Fold 2\n",
      "Fold 3\n"
     ]
    },
    {
     "name": "stderr",
     "output_type": "stream",
     "text": [
      "[I 2024-06-12 19:40:29,322] Trial 299 finished with value: 0.8317931395902086 and parameters: {'iterations': 1886, 'learning_rate': 0.04267986189947359, 'depth': 6, 'l2_leaf_reg': 0.25726221879009376, 'bootstrap_type': 'Bernoulli', 'od_type': 'Iter', 'random_strength': 38, 'border_count': 67, 'boosting_type': 'Plain'}. Best is trial 264 with value: 0.8324726552808438.\n"
     ]
    },
    {
     "name": "stdout",
     "output_type": "stream",
     "text": [
      "Score: 0.8317931395902086\n",
      "Fold 1\n",
      "Fold 2\n",
      "Fold 3\n"
     ]
    },
    {
     "name": "stderr",
     "output_type": "stream",
     "text": [
      "[I 2024-06-12 19:40:52,331] Trial 300 finished with value: 0.8296064059831725 and parameters: {'iterations': 995, 'learning_rate': 0.04165830542425237, 'depth': 6, 'l2_leaf_reg': 0.4729672856494072, 'bootstrap_type': 'Bernoulli', 'od_type': 'Iter', 'random_strength': 26, 'border_count': 50, 'boosting_type': 'Plain'}. Best is trial 264 with value: 0.8324726552808438.\n"
     ]
    },
    {
     "name": "stdout",
     "output_type": "stream",
     "text": [
      "Score: 0.8296064059831725\n",
      "Fold 1\n",
      "Fold 2\n",
      "Fold 3\n"
     ]
    },
    {
     "name": "stderr",
     "output_type": "stream",
     "text": [
      "[I 2024-06-12 19:41:34,511] Trial 301 finished with value: 0.8194262562402977 and parameters: {'iterations': 1906, 'learning_rate': 0.008396768304818114, 'depth': 6, 'l2_leaf_reg': 0.10755222066837763, 'bootstrap_type': 'Bernoulli', 'od_type': 'Iter', 'random_strength': 95, 'border_count': 65, 'boosting_type': 'Plain'}. Best is trial 264 with value: 0.8324726552808438.\n"
     ]
    },
    {
     "name": "stdout",
     "output_type": "stream",
     "text": [
      "Score: 0.8194262562402977\n",
      "Fold 1\n",
      "Fold 2\n",
      "Fold 3\n"
     ]
    },
    {
     "name": "stderr",
     "output_type": "stream",
     "text": [
      "[I 2024-06-12 19:42:20,029] Trial 302 finished with value: 0.8316078207923948 and parameters: {'iterations': 1963, 'learning_rate': 0.06008412633903861, 'depth': 6, 'l2_leaf_reg': 0.019936298511742112, 'bootstrap_type': 'Bernoulli', 'od_type': 'Iter', 'random_strength': 41, 'border_count': 36, 'boosting_type': 'Plain'}. Best is trial 264 with value: 0.8324726552808438.\n"
     ]
    },
    {
     "name": "stdout",
     "output_type": "stream",
     "text": [
      "Score: 0.8316078207923948\n",
      "Fold 1\n",
      "Fold 2\n",
      "Fold 3\n"
     ]
    },
    {
     "name": "stderr",
     "output_type": "stream",
     "text": [
      "[I 2024-06-12 19:43:17,050] Trial 303 finished with value: 0.827827356147638 and parameters: {'iterations': 1888, 'learning_rate': 0.013196260497365104, 'depth': 7, 'l2_leaf_reg': 0.22693006748991887, 'bootstrap_type': 'Bernoulli', 'od_type': 'Iter', 'random_strength': 29, 'border_count': 83, 'boosting_type': 'Plain'}. Best is trial 264 with value: 0.8324726552808438.\n"
     ]
    },
    {
     "name": "stdout",
     "output_type": "stream",
     "text": [
      "Score: 0.827827356147638\n",
      "Fold 1\n",
      "Fold 2\n",
      "Fold 3\n"
     ]
    },
    {
     "name": "stderr",
     "output_type": "stream",
     "text": [
      "[I 2024-06-12 19:43:59,688] Trial 304 finished with value: 0.8014257133988631 and parameters: {'iterations': 1922, 'learning_rate': 0.002444351288242226, 'depth': 6, 'l2_leaf_reg': 0.06219536098925121, 'bootstrap_type': 'Bernoulli', 'od_type': 'Iter', 'random_strength': 36, 'border_count': 56, 'boosting_type': 'Plain'}. Best is trial 264 with value: 0.8324726552808438.\n"
     ]
    },
    {
     "name": "stdout",
     "output_type": "stream",
     "text": [
      "Score: 0.8014257133988631\n",
      "Fold 1\n",
      "Fold 2\n",
      "Fold 3\n"
     ]
    },
    {
     "name": "stderr",
     "output_type": "stream",
     "text": [
      "[I 2024-06-12 19:44:43,481] Trial 305 finished with value: 0.8319413961853487 and parameters: {'iterations': 1857, 'learning_rate': 0.045722978840915654, 'depth': 6, 'l2_leaf_reg': 0.036574408712192495, 'bootstrap_type': 'Bernoulli', 'od_type': 'Iter', 'random_strength': 38, 'border_count': 77, 'boosting_type': 'Plain'}. Best is trial 264 with value: 0.8324726552808438.\n"
     ]
    },
    {
     "name": "stdout",
     "output_type": "stream",
     "text": [
      "Score: 0.8319413961853487\n",
      "Fold 1\n",
      "Fold 2\n",
      "Fold 3\n"
     ]
    },
    {
     "name": "stderr",
     "output_type": "stream",
     "text": [
      "[I 2024-06-12 19:45:26,430] Trial 306 finished with value: 0.8300017344660269 and parameters: {'iterations': 1833, 'learning_rate': 0.07870110810878006, 'depth': 6, 'l2_leaf_reg': 0.03510365478679029, 'bootstrap_type': 'Bernoulli', 'od_type': 'Iter', 'random_strength': 37, 'border_count': 75, 'boosting_type': 'Plain'}. Best is trial 264 with value: 0.8324726552808438.\n"
     ]
    },
    {
     "name": "stdout",
     "output_type": "stream",
     "text": [
      "Score: 0.8300017344660269\n",
      "Fold 1\n",
      "Fold 2\n",
      "Fold 3\n"
     ]
    },
    {
     "name": "stderr",
     "output_type": "stream",
     "text": [
      "[I 2024-06-12 19:46:08,828] Trial 307 finished with value: 0.8315954746619186 and parameters: {'iterations': 1800, 'learning_rate': 0.05069992633163266, 'depth': 6, 'l2_leaf_reg': 0.048454379645089904, 'bootstrap_type': 'Bernoulli', 'od_type': 'Iter', 'random_strength': 39, 'border_count': 83, 'boosting_type': 'Plain'}. Best is trial 264 with value: 0.8324726552808438.\n"
     ]
    },
    {
     "name": "stdout",
     "output_type": "stream",
     "text": [
      "Score: 0.8315954746619186\n",
      "Fold 1\n",
      "Fold 2\n",
      "Fold 3\n"
     ]
    },
    {
     "name": "stderr",
     "output_type": "stream",
     "text": [
      "[I 2024-06-12 19:46:52,857] Trial 308 finished with value: 0.831595469167016 and parameters: {'iterations': 1863, 'learning_rate': 0.06604552311126881, 'depth': 6, 'l2_leaf_reg': 0.04273918252249895, 'bootstrap_type': 'Bernoulli', 'od_type': 'Iter', 'random_strength': 34, 'border_count': 79, 'boosting_type': 'Plain'}. Best is trial 264 with value: 0.8324726552808438.\n"
     ]
    },
    {
     "name": "stdout",
     "output_type": "stream",
     "text": [
      "Score: 0.831595469167016\n",
      "Fold 1\n",
      "Fold 2\n",
      "Fold 3\n"
     ]
    },
    {
     "name": "stderr",
     "output_type": "stream",
     "text": [
      "[I 2024-06-12 19:47:33,142] Trial 309 finished with value: 0.8325344175289153 and parameters: {'iterations': 1740, 'learning_rate': 0.04505281135910402, 'depth': 6, 'l2_leaf_reg': 0.07065084253966697, 'bootstrap_type': 'Bernoulli', 'od_type': 'IncToDec', 'random_strength': 40, 'border_count': 95, 'boosting_type': 'Plain'}. Best is trial 309 with value: 0.8325344175289153.\n"
     ]
    },
    {
     "name": "stdout",
     "output_type": "stream",
     "text": [
      "Score: 0.8325344175289153\n",
      "Fold 1\n",
      "Fold 2\n",
      "Fold 3\n"
     ]
    },
    {
     "name": "stderr",
     "output_type": "stream",
     "text": [
      "[I 2024-06-12 19:48:11,519] Trial 310 finished with value: 0.8107410291111976 and parameters: {'iterations': 1726, 'learning_rate': 0.006100596420856465, 'depth': 6, 'l2_leaf_reg': 2.195600822908568, 'bootstrap_type': 'Bernoulli', 'od_type': 'Iter', 'random_strength': 41, 'border_count': 97, 'boosting_type': 'Plain'}. Best is trial 309 with value: 0.8325344175289153.\n"
     ]
    },
    {
     "name": "stdout",
     "output_type": "stream",
     "text": [
      "Score: 0.8107410291111976\n",
      "Fold 1\n",
      "Fold 2\n",
      "Fold 3\n"
     ]
    },
    {
     "name": "stderr",
     "output_type": "stream",
     "text": [
      "[I 2024-06-12 19:48:52,802] Trial 311 finished with value: 0.8320155302067759 and parameters: {'iterations': 1756, 'learning_rate': 0.05517133472106483, 'depth': 6, 'l2_leaf_reg': 0.06909615440623225, 'bootstrap_type': 'Bernoulli', 'od_type': 'IncToDec', 'random_strength': 39, 'border_count': 93, 'boosting_type': 'Plain'}. Best is trial 309 with value: 0.8325344175289153.\n"
     ]
    },
    {
     "name": "stdout",
     "output_type": "stream",
     "text": [
      "Score: 0.8320155302067759\n",
      "Fold 1\n",
      "Fold 2\n",
      "Fold 3\n"
     ]
    },
    {
     "name": "stderr",
     "output_type": "stream",
     "text": [
      "[I 2024-06-12 19:49:33,702] Trial 312 finished with value: 0.8317807925439152 and parameters: {'iterations': 1753, 'learning_rate': 0.05797101537238452, 'depth': 6, 'l2_leaf_reg': 0.05512880713488712, 'bootstrap_type': 'Bernoulli', 'od_type': 'IncToDec', 'random_strength': 40, 'border_count': 92, 'boosting_type': 'Plain'}. Best is trial 309 with value: 0.8325344175289153.\n"
     ]
    },
    {
     "name": "stdout",
     "output_type": "stream",
     "text": [
      "Score: 0.8317807925439152\n",
      "Fold 1\n",
      "Fold 2\n",
      "Fold 3\n"
     ]
    },
    {
     "name": "stderr",
     "output_type": "stream",
     "text": [
      "[I 2024-06-12 19:50:13,480] Trial 313 finished with value: 0.8298164202472987 and parameters: {'iterations': 1690, 'learning_rate': 0.08825296207785446, 'depth': 6, 'l2_leaf_reg': 0.09828762602592364, 'bootstrap_type': 'Bernoulli', 'od_type': 'IncToDec', 'random_strength': 41, 'border_count': 102, 'boosting_type': 'Plain'}. Best is trial 309 with value: 0.8325344175289153.\n"
     ]
    },
    {
     "name": "stdout",
     "output_type": "stream",
     "text": [
      "Score: 0.8298164202472987\n",
      "Fold 1\n",
      "Fold 2\n",
      "Fold 3\n"
     ]
    },
    {
     "name": "stderr",
     "output_type": "stream",
     "text": [
      "[I 2024-06-12 19:50:51,049] Trial 314 finished with value: 0.8312248439349194 and parameters: {'iterations': 1621, 'learning_rate': 0.04704765660784567, 'depth': 6, 'l2_leaf_reg': 0.06306153599429842, 'bootstrap_type': 'Bernoulli', 'od_type': 'IncToDec', 'random_strength': 39, 'border_count': 98, 'boosting_type': 'Plain'}. Best is trial 309 with value: 0.8325344175289153.\n"
     ]
    },
    {
     "name": "stdout",
     "output_type": "stream",
     "text": [
      "Score: 0.8312248439349194\n",
      "Fold 1\n",
      "Fold 2\n",
      "Fold 3\n"
     ]
    },
    {
     "name": "stderr",
     "output_type": "stream",
     "text": [
      "[I 2024-06-12 19:51:47,527] Trial 315 finished with value: 0.8284574300777986 and parameters: {'iterations': 1774, 'learning_rate': 0.06956400949614028, 'depth': 7, 'l2_leaf_reg': 0.022294002321974555, 'bootstrap_type': 'Bernoulli', 'od_type': 'IncToDec', 'random_strength': 42, 'border_count': 90, 'boosting_type': 'Plain'}. Best is trial 309 with value: 0.8325344175289153.\n"
     ]
    },
    {
     "name": "stdout",
     "output_type": "stream",
     "text": [
      "Score: 0.8284574300777986\n",
      "Fold 1\n",
      "Fold 2\n",
      "Fold 3\n"
     ]
    },
    {
     "name": "stderr",
     "output_type": "stream",
     "text": [
      "[I 2024-06-12 19:52:27,905] Trial 316 finished with value: 0.8314348591148626 and parameters: {'iterations': 1729, 'learning_rate': 0.05582179143452027, 'depth': 6, 'l2_leaf_reg': 0.08197576699039175, 'bootstrap_type': 'Bernoulli', 'od_type': 'IncToDec', 'random_strength': 38, 'border_count': 94, 'boosting_type': 'Plain'}. Best is trial 309 with value: 0.8325344175289153.\n"
     ]
    },
    {
     "name": "stdout",
     "output_type": "stream",
     "text": [
      "Score: 0.8314348591148626\n",
      "Fold 1\n",
      "Fold 2\n",
      "Fold 3\n"
     ]
    },
    {
     "name": "stderr",
     "output_type": "stream",
     "text": [
      "[I 2024-06-12 19:53:07,054] Trial 317 finished with value: 0.8320402325417167 and parameters: {'iterations': 1681, 'learning_rate': 0.04671365125332389, 'depth': 6, 'l2_leaf_reg': 0.04205650987638074, 'bootstrap_type': 'Bernoulli', 'od_type': 'IncToDec', 'random_strength': 42, 'border_count': 86, 'boosting_type': 'Plain'}. Best is trial 309 with value: 0.8325344175289153.\n"
     ]
    },
    {
     "name": "stdout",
     "output_type": "stream",
     "text": [
      "Score: 0.8320402325417167\n",
      "Fold 1\n",
      "Fold 2\n",
      "Fold 3\n"
     ]
    },
    {
     "name": "stderr",
     "output_type": "stream",
     "text": [
      "[I 2024-06-12 19:53:46,675] Trial 318 finished with value: 0.8316325460227634 and parameters: {'iterations': 1703, 'learning_rate': 0.050146221305016725, 'depth': 6, 'l2_leaf_reg': 0.03849047119782974, 'bootstrap_type': 'Bernoulli', 'od_type': 'IncToDec', 'random_strength': 42, 'border_count': 87, 'boosting_type': 'Plain'}. Best is trial 309 with value: 0.8325344175289153.\n"
     ]
    },
    {
     "name": "stdout",
     "output_type": "stream",
     "text": [
      "Score: 0.8316325460227634\n",
      "Fold 1\n",
      "Fold 2\n",
      "Fold 3\n"
     ]
    },
    {
     "name": "stderr",
     "output_type": "stream",
     "text": [
      "[I 2024-06-12 19:54:27,654] Trial 319 finished with value: 0.8312371941865725 and parameters: {'iterations': 1758, 'learning_rate': 0.06268864013939014, 'depth': 6, 'l2_leaf_reg': 0.028347009046330994, 'bootstrap_type': 'Bernoulli', 'od_type': 'IncToDec', 'random_strength': 43, 'border_count': 88, 'boosting_type': 'Plain'}. Best is trial 309 with value: 0.8325344175289153.\n"
     ]
    },
    {
     "name": "stdout",
     "output_type": "stream",
     "text": [
      "Score: 0.8312371941865725\n",
      "Fold 1\n",
      "Fold 2\n",
      "Fold 3\n"
     ]
    },
    {
     "name": "stderr",
     "output_type": "stream",
     "text": [
      "[I 2024-06-12 19:55:52,455] Trial 320 finished with value: 0.8302735412001896 and parameters: {'iterations': 1667, 'learning_rate': 0.045389478356911234, 'depth': 8, 'l2_leaf_reg': 0.046458798258066134, 'bootstrap_type': 'Bernoulli', 'od_type': 'IncToDec', 'random_strength': 40, 'border_count': 96, 'boosting_type': 'Plain'}. Best is trial 309 with value: 0.8325344175289153.\n"
     ]
    },
    {
     "name": "stdout",
     "output_type": "stream",
     "text": [
      "Score: 0.8302735412001896\n",
      "Fold 1\n",
      "Fold 2\n",
      "Fold 3\n"
     ]
    },
    {
     "name": "stderr",
     "output_type": "stream",
     "text": [
      "[I 2024-06-12 19:56:30,863] Trial 321 finished with value: 0.830619465471071 and parameters: {'iterations': 1645, 'learning_rate': 0.07704476852851147, 'depth': 6, 'l2_leaf_reg': 0.059664666571247076, 'bootstrap_type': 'Bernoulli', 'od_type': 'IncToDec', 'random_strength': 42, 'border_count': 85, 'boosting_type': 'Plain'}. Best is trial 309 with value: 0.8325344175289153.\n"
     ]
    },
    {
     "name": "stdout",
     "output_type": "stream",
     "text": [
      "Score: 0.830619465471071\n",
      "Fold 1\n",
      "Fold 2\n",
      "Fold 3\n"
     ]
    },
    {
     "name": "stderr",
     "output_type": "stream",
     "text": [
      "[I 2024-06-12 19:57:08,218] Trial 322 finished with value: 0.8060957180723695 and parameters: {'iterations': 1691, 'learning_rate': 0.003921229254605824, 'depth': 6, 'l2_leaf_reg': 0.2305874432881734, 'bootstrap_type': 'Bernoulli', 'od_type': 'IncToDec', 'random_strength': 39, 'border_count': 92, 'boosting_type': 'Plain'}. Best is trial 309 with value: 0.8325344175289153.\n"
     ]
    },
    {
     "name": "stdout",
     "output_type": "stream",
     "text": [
      "Score: 0.8060957180723695\n",
      "Fold 1\n",
      "Fold 2\n",
      "Fold 3\n"
     ]
    },
    {
     "name": "stderr",
     "output_type": "stream",
     "text": [
      "[I 2024-06-12 19:57:48,505] Trial 323 finished with value: 0.8305824009788546 and parameters: {'iterations': 1727, 'learning_rate': 0.05679955102377442, 'depth': 6, 'l2_leaf_reg': 0.030435958184528624, 'bootstrap_type': 'Bernoulli', 'od_type': 'IncToDec', 'random_strength': 45, 'border_count': 102, 'boosting_type': 'Plain'}. Best is trial 309 with value: 0.8325344175289153.\n"
     ]
    },
    {
     "name": "stdout",
     "output_type": "stream",
     "text": [
      "Score: 0.8305824009788546\n",
      "Fold 1\n",
      "Fold 2\n",
      "Fold 3\n"
     ]
    },
    {
     "name": "stderr",
     "output_type": "stream",
     "text": [
      "[I 2024-06-12 19:58:31,580] Trial 324 finished with value: 0.8291739924022163 and parameters: {'iterations': 1801, 'learning_rate': 0.09484380349594043, 'depth': 6, 'l2_leaf_reg': 0.017431454779455527, 'bootstrap_type': 'Bernoulli', 'od_type': 'IncToDec', 'random_strength': 43, 'border_count': 83, 'boosting_type': 'Plain'}. Best is trial 309 with value: 0.8325344175289153.\n"
     ]
    },
    {
     "name": "stdout",
     "output_type": "stream",
     "text": [
      "Score: 0.8291739924022163\n",
      "Fold 1\n",
      "Fold 2\n",
      "Fold 3\n"
     ]
    },
    {
     "name": "stderr",
     "output_type": "stream",
     "text": [
      "[I 2024-06-12 19:59:13,149] Trial 325 finished with value: 0.8291616403189289 and parameters: {'iterations': 1780, 'learning_rate': 0.01934431406375055, 'depth': 6, 'l2_leaf_reg': 0.08734734438042004, 'bootstrap_type': 'Bernoulli', 'od_type': 'IncToDec', 'random_strength': 37, 'border_count': 88, 'boosting_type': 'Plain'}. Best is trial 309 with value: 0.8325344175289153.\n"
     ]
    },
    {
     "name": "stdout",
     "output_type": "stream",
     "text": [
      "Score: 0.8291616403189289\n",
      "Fold 1\n",
      "Fold 2\n",
      "Fold 3\n"
     ]
    },
    {
     "name": "stderr",
     "output_type": "stream",
     "text": [
      "[I 2024-06-12 19:59:53,693] Trial 326 finished with value: 0.8315213452195772 and parameters: {'iterations': 1735, 'learning_rate': 0.04419597114862622, 'depth': 6, 'l2_leaf_reg': 0.14504613263722616, 'bootstrap_type': 'Bernoulli', 'od_type': 'IncToDec', 'random_strength': 40, 'border_count': 78, 'boosting_type': 'Plain'}. Best is trial 309 with value: 0.8325344175289153.\n"
     ]
    },
    {
     "name": "stdout",
     "output_type": "stream",
     "text": [
      "Score: 0.8315213452195772\n",
      "Fold 1\n",
      "Fold 2\n",
      "Fold 3\n"
     ]
    },
    {
     "name": "stderr",
     "output_type": "stream",
     "text": [
      "[I 2024-06-12 20:00:49,244] Trial 327 finished with value: 0.8313236784596527 and parameters: {'iterations': 1817, 'learning_rate': 0.026731541867493793, 'depth': 7, 'l2_leaf_reg': 0.06874220660921741, 'bootstrap_type': 'Bernoulli', 'od_type': 'IncToDec', 'random_strength': 38, 'border_count': 79, 'boosting_type': 'Plain'}. Best is trial 309 with value: 0.8325344175289153.\n"
     ]
    },
    {
     "name": "stdout",
     "output_type": "stream",
     "text": [
      "Score: 0.8313236784596527\n",
      "Fold 1\n",
      "Fold 2\n",
      "Fold 3\n"
     ]
    },
    {
     "name": "stderr",
     "output_type": "stream",
     "text": [
      "[I 2024-06-12 20:01:26,145] Trial 328 finished with value: 0.8310642215192349 and parameters: {'iterations': 1598, 'learning_rate': 0.038549524717181836, 'depth': 6, 'l2_leaf_reg': 0.00023227942651342625, 'bootstrap_type': 'Bernoulli', 'od_type': 'IncToDec', 'random_strength': 41, 'border_count': 43, 'boosting_type': 'Plain'}. Best is trial 309 with value: 0.8325344175289153.\n"
     ]
    },
    {
     "name": "stdout",
     "output_type": "stream",
     "text": [
      "Score: 0.8310642215192349\n",
      "Fold 1\n",
      "Fold 2\n",
      "Fold 3\n"
     ]
    },
    {
     "name": "stderr",
     "output_type": "stream",
     "text": [
      "[I 2024-06-12 20:01:52,168] Trial 329 finished with value: 0.831002458355346 and parameters: {'iterations': 1097, 'learning_rate': 0.050824907665273096, 'depth': 6, 'l2_leaf_reg': 0.04006314268541148, 'bootstrap_type': 'Bernoulli', 'od_type': 'IncToDec', 'random_strength': 45, 'border_count': 85, 'boosting_type': 'Plain'}. Best is trial 309 with value: 0.8325344175289153.\n"
     ]
    },
    {
     "name": "stdout",
     "output_type": "stream",
     "text": [
      "Score: 0.831002458355346\n",
      "Fold 1\n",
      "Fold 2\n",
      "Fold 3\n"
     ]
    },
    {
     "name": "stderr",
     "output_type": "stream",
     "text": [
      "[I 2024-06-12 20:02:33,554] Trial 330 finished with value: 0.8311630583335113 and parameters: {'iterations': 1776, 'learning_rate': 0.06401848187254673, 'depth': 6, 'l2_leaf_reg': 0.013472082078948833, 'bootstrap_type': 'Bernoulli', 'od_type': 'IncToDec', 'random_strength': 43, 'border_count': 76, 'boosting_type': 'Plain'}. Best is trial 309 with value: 0.8325344175289153.\n"
     ]
    },
    {
     "name": "stdout",
     "output_type": "stream",
     "text": [
      "Score: 0.8311630583335113\n",
      "Fold 1\n",
      "Fold 2\n",
      "Fold 3\n"
     ]
    },
    {
     "name": "stderr",
     "output_type": "stream",
     "text": [
      "[I 2024-06-12 20:03:11,184] Trial 331 finished with value: 0.8025499700266797 and parameters: {'iterations': 1665, 'learning_rate': 0.0028993484573170522, 'depth': 6, 'l2_leaf_reg': 0.0242474574474678, 'bootstrap_type': 'Bernoulli', 'od_type': 'IncToDec', 'random_strength': 36, 'border_count': 94, 'boosting_type': 'Plain'}. Best is trial 309 with value: 0.8325344175289153.\n"
     ]
    },
    {
     "name": "stdout",
     "output_type": "stream",
     "text": [
      "Score: 0.8025499700266797\n",
      "Fold 1\n",
      "Fold 2\n",
      "Fold 3\n"
     ]
    },
    {
     "name": "stderr",
     "output_type": "stream",
     "text": [
      "[I 2024-06-12 20:03:53,189] Trial 332 finished with value: 0.8316695986093574 and parameters: {'iterations': 1830, 'learning_rate': 0.037637478532673116, 'depth': 6, 'l2_leaf_reg': 0.1259060702533472, 'bootstrap_type': 'Bernoulli', 'od_type': 'IncToDec', 'random_strength': 32, 'border_count': 72, 'boosting_type': 'Plain'}. Best is trial 309 with value: 0.8325344175289153.\n"
     ]
    },
    {
     "name": "stdout",
     "output_type": "stream",
     "text": [
      "Score: 0.8316695986093574\n",
      "Fold 1\n",
      "Fold 2\n",
      "Fold 3\n"
     ]
    },
    {
     "name": "stderr",
     "output_type": "stream",
     "text": [
      "[I 2024-06-12 20:04:39,451] Trial 333 finished with value: 0.8277779226295175 and parameters: {'iterations': 1867, 'learning_rate': 0.014110288820753011, 'depth': 6, 'l2_leaf_reg': 0.07385484639130244, 'bootstrap_type': 'MVS', 'od_type': 'Iter', 'random_strength': 39, 'border_count': 51, 'boosting_type': 'Plain'}. Best is trial 309 with value: 0.8325344175289153.\n"
     ]
    },
    {
     "name": "stdout",
     "output_type": "stream",
     "text": [
      "Score: 0.8277779226295175\n",
      "Fold 1\n",
      "Fold 2\n",
      "Fold 3\n"
     ]
    },
    {
     "name": "stderr",
     "output_type": "stream",
     "text": [
      "[I 2024-06-12 20:04:56,785] Trial 334 finished with value: 0.7982258887082377 and parameters: {'iterations': 767, 'learning_rate': 0.005582436880337056, 'depth': 6, 'l2_leaf_reg': 2.6058942498022536e-05, 'bootstrap_type': 'Bernoulli', 'od_type': 'Iter', 'random_strength': 41, 'border_count': 58, 'boosting_type': 'Plain'}. Best is trial 309 with value: 0.8325344175289153.\n"
     ]
    },
    {
     "name": "stdout",
     "output_type": "stream",
     "text": [
      "Score: 0.7982258887082377\n",
      "Fold 1\n",
      "Fold 2\n",
      "Fold 3\n"
     ]
    },
    {
     "name": "stderr",
     "output_type": "stream",
     "text": [
      "[I 2024-06-12 20:05:37,363] Trial 335 finished with value: 0.8314348687309422 and parameters: {'iterations': 1743, 'learning_rate': 0.0705944991773851, 'depth': 6, 'l2_leaf_reg': 0.04824226242069107, 'bootstrap_type': 'Bernoulli', 'od_type': 'Iter', 'random_strength': 30, 'border_count': 82, 'boosting_type': 'Plain'}. Best is trial 309 with value: 0.8325344175289153.\n"
     ]
    },
    {
     "name": "stdout",
     "output_type": "stream",
     "text": [
      "Score: 0.8314348687309422\n",
      "Fold 1\n",
      "Fold 2\n",
      "Fold 3\n"
     ]
    },
    {
     "name": "stderr",
     "output_type": "stream",
     "text": [
      "[I 2024-06-12 20:06:16,623] Trial 336 finished with value: 0.8078130084072835 and parameters: {'iterations': 1798, 'learning_rate': 0.004689714476307419, 'depth': 6, 'l2_leaf_reg': 2.6276691101624823, 'bootstrap_type': 'Bernoulli', 'od_type': 'Iter', 'random_strength': 44, 'border_count': 71, 'boosting_type': 'Plain'}. Best is trial 309 with value: 0.8325344175289153.\n"
     ]
    },
    {
     "name": "stdout",
     "output_type": "stream",
     "text": [
      "Score: 0.8078130084072835\n",
      "Fold 1\n",
      "Fold 2\n",
      "Fold 3\n"
     ]
    },
    {
     "name": "stderr",
     "output_type": "stream",
     "text": [
      "[I 2024-06-12 20:07:11,984] Trial 337 finished with value: 0.8252452500985258 and parameters: {'iterations': 1883, 'learning_rate': 0.011783429979498992, 'depth': 7, 'l2_leaf_reg': 11.21989389029915, 'bootstrap_type': 'Bernoulli', 'od_type': 'Iter', 'random_strength': 47, 'border_count': 63, 'boosting_type': 'Plain'}. Best is trial 309 with value: 0.8325344175289153.\n"
     ]
    },
    {
     "name": "stdout",
     "output_type": "stream",
     "text": [
      "Score: 0.8252452500985258\n",
      "Fold 1\n",
      "Fold 2\n",
      "Fold 3\n"
     ]
    },
    {
     "name": "stderr",
     "output_type": "stream",
     "text": [
      "[I 2024-06-12 20:07:46,385] Trial 338 finished with value: 0.7452249469826606 and parameters: {'iterations': 1843, 'learning_rate': 0.00030484450302446537, 'depth': 5, 'l2_leaf_reg': 1.028344243497486e-05, 'bootstrap_type': 'Bernoulli', 'od_type': 'Iter', 'random_strength': 28, 'border_count': 77, 'boosting_type': 'Plain'}. Best is trial 309 with value: 0.8325344175289153.\n"
     ]
    },
    {
     "name": "stdout",
     "output_type": "stream",
     "text": [
      "Score: 0.7452249469826606\n",
      "Fold 1\n",
      "Fold 2\n",
      "Fold 3\n"
     ]
    },
    {
     "name": "stderr",
     "output_type": "stream",
     "text": [
      "[I 2024-06-12 20:08:25,908] Trial 339 finished with value: 0.831014809064908 and parameters: {'iterations': 1719, 'learning_rate': 0.05165698085495773, 'depth': 6, 'l2_leaf_reg': 0.010591310883526304, 'bootstrap_type': 'Bernoulli', 'od_type': 'IncToDec', 'random_strength': 38, 'border_count': 90, 'boosting_type': 'Plain'}. Best is trial 309 with value: 0.8325344175289153.\n"
     ]
    },
    {
     "name": "stdout",
     "output_type": "stream",
     "text": [
      "Score: 0.831014809064908\n",
      "Fold 1\n",
      "Fold 2\n",
      "Fold 3\n"
     ]
    },
    {
     "name": "stderr",
     "output_type": "stream",
     "text": [
      "[I 2024-06-12 20:09:06,024] Trial 340 finished with value: 0.8278520648932984 and parameters: {'iterations': 1775, 'learning_rate': 0.03077102566450492, 'depth': 6, 'l2_leaf_reg': 71.01359049618542, 'bootstrap_type': 'Bernoulli', 'od_type': 'Iter', 'random_strength': 90, 'border_count': 67, 'boosting_type': 'Plain'}. Best is trial 309 with value: 0.8325344175289153.\n"
     ]
    },
    {
     "name": "stdout",
     "output_type": "stream",
     "text": [
      "Score: 0.8278520648932984\n",
      "Fold 1\n",
      "Fold 2\n",
      "Fold 3\n"
     ]
    },
    {
     "name": "stderr",
     "output_type": "stream",
     "text": [
      "[I 2024-06-12 20:09:49,713] Trial 341 finished with value: 0.8317807925439152 and parameters: {'iterations': 1921, 'learning_rate': 0.04285032555074806, 'depth': 6, 'l2_leaf_reg': 0.5971372059981593, 'bootstrap_type': 'Bernoulli', 'od_type': 'Iter', 'random_strength': 35, 'border_count': 55, 'boosting_type': 'Plain'}. Best is trial 309 with value: 0.8325344175289153.\n"
     ]
    },
    {
     "name": "stdout",
     "output_type": "stream",
     "text": [
      "Score: 0.8317807925439152\n",
      "Fold 1\n",
      "Fold 2\n",
      "Fold 3\n"
     ]
    },
    {
     "name": "stderr",
     "output_type": "stream",
     "text": [
      "[I 2024-06-12 20:10:36,815] Trial 342 finished with value: 0.8313483949897588 and parameters: {'iterations': 1889, 'learning_rate': 0.04636143891721629, 'depth': 6, 'l2_leaf_reg': 0.00014906043705625375, 'bootstrap_type': 'MVS', 'od_type': 'Iter', 'random_strength': 80, 'border_count': 61, 'boosting_type': 'Plain'}. Best is trial 309 with value: 0.8325344175289153.\n"
     ]
    },
    {
     "name": "stdout",
     "output_type": "stream",
     "text": [
      "Score: 0.8313483949897588\n",
      "Fold 1\n",
      "Fold 2\n",
      "Fold 3\n"
     ]
    },
    {
     "name": "stderr",
     "output_type": "stream",
     "text": [
      "[I 2024-06-12 20:11:14,269] Trial 343 finished with value: 0.8291739905705823 and parameters: {'iterations': 1681, 'learning_rate': 0.03604004861501218, 'depth': 6, 'l2_leaf_reg': 45.746051301612425, 'bootstrap_type': 'Bernoulli', 'od_type': 'Iter', 'random_strength': 43, 'border_count': 81, 'boosting_type': 'Plain'}. Best is trial 309 with value: 0.8325344175289153.\n"
     ]
    },
    {
     "name": "stdout",
     "output_type": "stream",
     "text": [
      "Score: 0.8291739905705823\n",
      "Fold 1\n",
      "Fold 2\n",
      "Fold 3\n"
     ]
    },
    {
     "name": "stderr",
     "output_type": "stream",
     "text": [
      "[I 2024-06-12 20:11:56,140] Trial 344 finished with value: 0.8303847387980158 and parameters: {'iterations': 1821, 'learning_rate': 0.024053398597573362, 'depth': 6, 'l2_leaf_reg': 0.019311022101545484, 'bootstrap_type': 'Bernoulli', 'od_type': 'Iter', 'random_strength': 46, 'border_count': 72, 'boosting_type': 'Plain'}. Best is trial 309 with value: 0.8325344175289153.\n"
     ]
    },
    {
     "name": "stdout",
     "output_type": "stream",
     "text": [
      "Score: 0.8303847387980158\n",
      "Fold 1\n",
      "Fold 2\n",
      "Fold 3\n"
     ]
    },
    {
     "name": "stderr",
     "output_type": "stream",
     "text": [
      "[I 2024-06-12 20:12:41,516] Trial 345 finished with value: 0.8313360227584948 and parameters: {'iterations': 1948, 'learning_rate': 0.055879388478140606, 'depth': 6, 'l2_leaf_reg': 0.1921967931322862, 'bootstrap_type': 'Bernoulli', 'od_type': 'Iter', 'random_strength': 40, 'border_count': 99, 'boosting_type': 'Plain'}. Best is trial 309 with value: 0.8325344175289153.\n"
     ]
    },
    {
     "name": "stdout",
     "output_type": "stream",
     "text": [
      "Score: 0.8313360227584948\n",
      "Fold 1\n",
      "Fold 2\n",
      "Fold 3\n"
     ]
    },
    {
     "name": "stderr",
     "output_type": "stream",
     "text": [
      "[I 2024-06-12 20:13:22,123] Trial 346 finished with value: 0.7794470304524849 and parameters: {'iterations': 1861, 'learning_rate': 0.0016510131763670742, 'depth': 6, 'l2_leaf_reg': 89.6001817785628, 'bootstrap_type': 'Bernoulli', 'od_type': 'Iter', 'random_strength': 49, 'border_count': 48, 'boosting_type': 'Plain'}. Best is trial 309 with value: 0.8325344175289153.\n"
     ]
    },
    {
     "name": "stdout",
     "output_type": "stream",
     "text": [
      "Score: 0.7794470304524849\n",
      "Fold 1\n",
      "Fold 2\n",
      "Fold 3\n"
     ]
    },
    {
     "name": "stderr",
     "output_type": "stream",
     "text": [
      "[I 2024-06-12 20:13:55,101] Trial 347 finished with value: 0.8275061186428063 and parameters: {'iterations': 1753, 'learning_rate': 0.017293402162194653, 'depth': 5, 'l2_leaf_reg': 0.10489946472120532, 'bootstrap_type': 'Bernoulli', 'od_type': 'Iter', 'random_strength': 33, 'border_count': 32, 'boosting_type': 'Plain'}. Best is trial 309 with value: 0.8325344175289153.\n"
     ]
    },
    {
     "name": "stdout",
     "output_type": "stream",
     "text": [
      "Score: 0.8275061186428063\n",
      "Fold 1\n",
      "Fold 2\n",
      "Fold 3\n"
     ]
    },
    {
     "name": "stderr",
     "output_type": "stream",
     "text": [
      "[I 2024-06-12 20:15:24,877] Trial 348 finished with value: 0.8287045138711354 and parameters: {'iterations': 1811, 'learning_rate': 0.07522716799746103, 'depth': 8, 'l2_leaf_reg': 1.0664225197857249, 'bootstrap_type': 'Bernoulli', 'od_type': 'IncToDec', 'random_strength': 37, 'border_count': 68, 'boosting_type': 'Plain'}. Best is trial 309 with value: 0.8325344175289153.\n"
     ]
    },
    {
     "name": "stdout",
     "output_type": "stream",
     "text": [
      "Score: 0.8287045138711354\n",
      "Fold 1\n",
      "Fold 2\n",
      "Fold 3\n"
     ]
    },
    {
     "name": "stderr",
     "output_type": "stream",
     "text": [
      "[I 2024-06-12 20:15:52,475] Trial 349 finished with value: 0.8298164211631157 and parameters: {'iterations': 1189, 'learning_rate': 0.032002358051676935, 'depth': 6, 'l2_leaf_reg': 1.883792094444097e-05, 'bootstrap_type': 'Bayesian', 'od_type': 'Iter', 'random_strength': 42, 'border_count': 76, 'boosting_type': 'Plain'}. Best is trial 309 with value: 0.8325344175289153.\n"
     ]
    },
    {
     "name": "stdout",
     "output_type": "stream",
     "text": [
      "Score: 0.8298164211631157\n",
      "Fold 1\n",
      "Fold 2\n",
      "Fold 3\n"
     ]
    },
    {
     "name": "stderr",
     "output_type": "stream",
     "text": [
      "[I 2024-06-12 20:16:01,396] Trial 350 finished with value: 0.7464974693637884 and parameters: {'iterations': 359, 'learning_rate': 0.0008780462268627975, 'depth': 6, 'l2_leaf_reg': 0.3739980983949938, 'bootstrap_type': 'Bernoulli', 'od_type': 'Iter', 'random_strength': 27, 'border_count': 38, 'boosting_type': 'Plain'}. Best is trial 309 with value: 0.8325344175289153.\n"
     ]
    },
    {
     "name": "stdout",
     "output_type": "stream",
     "text": [
      "Score: 0.7464974693637884\n",
      "Fold 1\n",
      "Fold 2\n",
      "Fold 3\n"
     ]
    },
    {
     "name": "stderr",
     "output_type": "stream",
     "text": [
      "[I 2024-06-12 20:16:46,179] Trial 351 finished with value: 0.7657334934474704 and parameters: {'iterations': 1998, 'learning_rate': 0.0005546306950442551, 'depth': 6, 'l2_leaf_reg': 0.030510603017125524, 'bootstrap_type': 'Bayesian', 'od_type': 'Iter', 'random_strength': 31, 'border_count': 60, 'boosting_type': 'Plain'}. Best is trial 309 with value: 0.8325344175289153.\n"
     ]
    },
    {
     "name": "stdout",
     "output_type": "stream",
     "text": [
      "Score: 0.7657334934474704\n",
      "Fold 1\n",
      "Fold 2\n",
      "Fold 3\n"
     ]
    },
    {
     "name": "stderr",
     "output_type": "stream",
     "text": [
      "[I 2024-06-12 20:17:30,895] Trial 352 finished with value: 0.8317931368427574 and parameters: {'iterations': 1934, 'learning_rate': 0.04215240177327507, 'depth': 6, 'l2_leaf_reg': 0.1233062336894465, 'bootstrap_type': 'Bayesian', 'od_type': 'Iter', 'random_strength': 25, 'border_count': 88, 'boosting_type': 'Plain'}. Best is trial 309 with value: 0.8325344175289153.\n"
     ]
    },
    {
     "name": "stdout",
     "output_type": "stream",
     "text": [
      "Score: 0.8317931368427574\n",
      "Fold 1\n",
      "Fold 2\n",
      "Fold 3\n"
     ]
    },
    {
     "name": "stderr",
     "output_type": "stream",
     "text": [
      "[I 2024-06-12 20:18:15,042] Trial 353 finished with value: 0.8317190225113982 and parameters: {'iterations': 1901, 'learning_rate': 0.0589053293234769, 'depth': 6, 'l2_leaf_reg': 0.015151081092767402, 'bootstrap_type': 'Bernoulli', 'od_type': 'Iter', 'random_strength': 40, 'border_count': 65, 'boosting_type': 'Plain'}. Best is trial 309 with value: 0.8325344175289153.\n"
     ]
    },
    {
     "name": "stdout",
     "output_type": "stream",
     "text": [
      "Score: 0.8317190225113982\n",
      "Fold 1\n",
      "Fold 2\n",
      "Fold 3\n"
     ]
    },
    {
     "name": "stderr",
     "output_type": "stream",
     "text": [
      "[I 2024-06-12 20:18:54,440] Trial 354 finished with value: 0.8300635113671723 and parameters: {'iterations': 1710, 'learning_rate': 0.027098043712377375, 'depth': 6, 'l2_leaf_reg': 0.07202633906733338, 'bootstrap_type': 'Bayesian', 'od_type': 'Iter', 'random_strength': 45, 'border_count': 81, 'boosting_type': 'Plain'}. Best is trial 309 with value: 0.8325344175289153.\n"
     ]
    },
    {
     "name": "stdout",
     "output_type": "stream",
     "text": [
      "Score: 0.8300635113671723\n",
      "Fold 1\n",
      "Fold 2\n",
      "Fold 3\n"
     ]
    },
    {
     "name": "stderr",
     "output_type": "stream",
     "text": [
      "[I 2024-06-12 20:19:53,273] Trial 355 finished with value: 0.8275308383782721 and parameters: {'iterations': 1781, 'learning_rate': 0.0995329205381695, 'depth': 7, 'l2_leaf_reg': 0.000302670318685629, 'bootstrap_type': 'MVS', 'od_type': 'IncToDec', 'random_strength': 36, 'border_count': 72, 'boosting_type': 'Plain'}. Best is trial 309 with value: 0.8325344175289153.\n"
     ]
    },
    {
     "name": "stdout",
     "output_type": "stream",
     "text": [
      "Score: 0.8275308383782721\n",
      "Fold 1\n",
      "Fold 2\n",
      "Fold 3\n"
     ]
    },
    {
     "name": "stderr",
     "output_type": "stream",
     "text": [
      "[I 2024-06-12 20:20:35,870] Trial 356 finished with value: 0.8309406704643955 and parameters: {'iterations': 1865, 'learning_rate': 0.048335711271133674, 'depth': 6, 'l2_leaf_reg': 0.048464986992875145, 'bootstrap_type': 'Bayesian', 'od_type': 'Iter', 'random_strength': 38, 'border_count': 54, 'boosting_type': 'Plain'}. Best is trial 309 with value: 0.8325344175289153.\n"
     ]
    },
    {
     "name": "stdout",
     "output_type": "stream",
     "text": [
      "Score: 0.8309406704643955\n",
      "Fold 1\n",
      "Fold 2\n",
      "Fold 3\n"
     ]
    },
    {
     "name": "stderr",
     "output_type": "stream",
     "text": [
      "[I 2024-06-12 20:21:13,571] Trial 357 finished with value: 0.8310889449179691 and parameters: {'iterations': 1624, 'learning_rate': 0.03814044779985164, 'depth': 6, 'l2_leaf_reg': 7.26915402924149e-05, 'bootstrap_type': 'Bernoulli', 'od_type': 'Iter', 'random_strength': 34, 'border_count': 69, 'boosting_type': 'Plain'}. Best is trial 309 with value: 0.8325344175289153.\n"
     ]
    },
    {
     "name": "stdout",
     "output_type": "stream",
     "text": [
      "Score: 0.8310889449179691\n",
      "Fold 1\n",
      "Fold 2\n",
      "Fold 3\n"
     ]
    },
    {
     "name": "stderr",
     "output_type": "stream",
     "text": [
      "[I 2024-06-12 20:21:56,914] Trial 358 finished with value: 0.7757777006720824 and parameters: {'iterations': 1946, 'learning_rate': 0.0011408732180274758, 'depth': 6, 'l2_leaf_reg': 26.410220671057964, 'bootstrap_type': 'Bayesian', 'od_type': 'Iter', 'random_strength': 42, 'border_count': 85, 'boosting_type': 'Plain'}. Best is trial 309 with value: 0.8325344175289153.\n"
     ]
    },
    {
     "name": "stdout",
     "output_type": "stream",
     "text": [
      "Score: 0.7757777006720824\n",
      "Fold 1\n",
      "Fold 2\n",
      "Fold 3\n"
     ]
    },
    {
     "name": "stderr",
     "output_type": "stream",
     "text": [
      "[I 2024-06-12 20:22:30,746] Trial 359 finished with value: 0.8205505197367424 and parameters: {'iterations': 1837, 'learning_rate': 0.008692359195380306, 'depth': 5, 'l2_leaf_reg': 0.30098240525562964, 'bootstrap_type': 'Bernoulli', 'od_type': 'Iter', 'random_strength': 44, 'border_count': 77, 'boosting_type': 'Plain'}. Best is trial 309 with value: 0.8325344175289153.\n"
     ]
    },
    {
     "name": "stdout",
     "output_type": "stream",
     "text": [
      "Score: 0.8205505197367424\n",
      "Fold 1\n",
      "Fold 2\n",
      "Fold 3\n"
     ]
    },
    {
     "name": "stderr",
     "output_type": "stream",
     "text": [
      "[I 2024-06-12 20:22:55,037] Trial 360 finished with value: 0.8308294957619968 and parameters: {'iterations': 1061, 'learning_rate': 0.06883488121159728, 'depth': 6, 'l2_leaf_reg': 6.358722860220491, 'bootstrap_type': 'Bayesian', 'od_type': 'Iter', 'random_strength': 39, 'border_count': 58, 'boosting_type': 'Plain'}. Best is trial 309 with value: 0.8325344175289153.\n"
     ]
    },
    {
     "name": "stdout",
     "output_type": "stream",
     "text": [
      "Score: 0.8308294957619968\n",
      "Fold 1\n",
      "Fold 2\n",
      "Fold 3\n"
     ]
    },
    {
     "name": "stderr",
     "output_type": "stream",
     "text": [
      "[I 2024-06-12 20:23:36,811] Trial 361 finished with value: 0.8152257291820552 and parameters: {'iterations': 1895, 'learning_rate': 0.0068740730195665746, 'depth': 6, 'l2_leaf_reg': 0.012254190466707516, 'bootstrap_type': 'Bayesian', 'od_type': 'IncToDec', 'random_strength': 41, 'border_count': 94, 'boosting_type': 'Plain'}. Best is trial 309 with value: 0.8325344175289153.\n"
     ]
    },
    {
     "name": "stdout",
     "output_type": "stream",
     "text": [
      "Score: 0.8152257291820552\n",
      "Fold 1\n",
      "Fold 2\n",
      "Fold 3\n"
     ]
    },
    {
     "name": "stderr",
     "output_type": "stream",
     "text": [
      "[I 2024-06-12 20:23:58,153] Trial 362 finished with value: 0.8301994172527508 and parameters: {'iterations': 931, 'learning_rate': 0.0481431901341179, 'depth': 6, 'l2_leaf_reg': 0.19530756654922016, 'bootstrap_type': 'Bernoulli', 'od_type': 'Iter', 'random_strength': 29, 'border_count': 45, 'boosting_type': 'Plain'}. Best is trial 309 with value: 0.8325344175289153.\n"
     ]
    },
    {
     "name": "stdout",
     "output_type": "stream",
     "text": [
      "Score: 0.8301994172527508\n",
      "Fold 1\n",
      "Fold 2\n",
      "Fold 3\n"
     ]
    },
    {
     "name": "stderr",
     "output_type": "stream",
     "text": [
      "[I 2024-06-12 20:24:42,272] Trial 363 finished with value: 0.7363667838189073 and parameters: {'iterations': 2000, 'learning_rate': 4.266823805268425e-05, 'depth': 6, 'l2_leaf_reg': 1.6456673866454918, 'bootstrap_type': 'Bayesian', 'od_type': 'Iter', 'random_strength': 47, 'border_count': 65, 'boosting_type': 'Plain'}. Best is trial 309 with value: 0.8325344175289153.\n"
     ]
    },
    {
     "name": "stdout",
     "output_type": "stream",
     "text": [
      "Score: 0.7363667838189073\n",
      "Fold 1\n",
      "Fold 2\n",
      "Fold 3\n"
     ]
    },
    {
     "name": "stderr",
     "output_type": "stream",
     "text": [
      "[I 2024-06-12 20:25:11,179] Trial 364 finished with value: 0.8108769345388674 and parameters: {'iterations': 1791, 'learning_rate': 0.006637602013016911, 'depth': 4, 'l2_leaf_reg': 0.5642943084880376, 'bootstrap_type': 'Bayesian', 'od_type': 'Iter', 'random_strength': 35, 'border_count': 108, 'boosting_type': 'Plain'}. Best is trial 309 with value: 0.8325344175289153.\n"
     ]
    },
    {
     "name": "stdout",
     "output_type": "stream",
     "text": [
      "Score: 0.8108769345388674\n",
      "Fold 1\n",
      "Fold 2\n",
      "Fold 3\n"
     ]
    },
    {
     "name": "stderr",
     "output_type": "stream",
     "text": [
      "[I 2024-06-12 20:25:40,060] Trial 365 finished with value: 0.7849571466736144 and parameters: {'iterations': 1270, 'learning_rate': 0.0016401584309356596, 'depth': 6, 'l2_leaf_reg': 0.8773408369125099, 'bootstrap_type': 'Bernoulli', 'od_type': 'Iter', 'random_strength': 32, 'border_count': 74, 'boosting_type': 'Plain'}. Best is trial 309 with value: 0.8325344175289153.\n"
     ]
    },
    {
     "name": "stdout",
     "output_type": "stream",
     "text": [
      "Score: 0.7849571466736144\n",
      "Fold 1\n",
      "Fold 2\n",
      "Fold 3\n"
     ]
    },
    {
     "name": "stderr",
     "output_type": "stream",
     "text": [
      "[I 2024-06-12 20:26:33,369] Trial 366 finished with value: 0.8319537601742587 and parameters: {'iterations': 1747, 'learning_rate': 0.03520380501708155, 'depth': 7, 'l2_leaf_reg': 0.02471566515413971, 'bootstrap_type': 'Bayesian', 'od_type': 'Iter', 'random_strength': 44, 'border_count': 63, 'boosting_type': 'Plain'}. Best is trial 309 with value: 0.8325344175289153.\n"
     ]
    },
    {
     "name": "stdout",
     "output_type": "stream",
     "text": [
      "Score: 0.8319537601742587\n",
      "Fold 1\n",
      "Fold 2\n",
      "Fold 3\n"
     ]
    },
    {
     "name": "stderr",
     "output_type": "stream",
     "text": [
      "[I 2024-06-12 20:27:23,539] Trial 367 finished with value: 0.829717589843742 and parameters: {'iterations': 1704, 'learning_rate': 0.020542491542286528, 'depth': 7, 'l2_leaf_reg': 0.0001894570946158763, 'bootstrap_type': 'Bayesian', 'od_type': 'Iter', 'random_strength': 52, 'border_count': 52, 'boosting_type': 'Plain'}. Best is trial 309 with value: 0.8325344175289153.\n"
     ]
    },
    {
     "name": "stdout",
     "output_type": "stream",
     "text": [
      "Score: 0.829717589843742\n",
      "Fold 1\n",
      "Fold 2\n",
      "Fold 3\n"
     ]
    },
    {
     "name": "stderr",
     "output_type": "stream",
     "text": [
      "[I 2024-06-12 20:28:14,700] Trial 368 finished with value: 0.738046989971537 and parameters: {'iterations': 1745, 'learning_rate': 0.0001253689372762802, 'depth': 7, 'l2_leaf_reg': 0.018187958806230784, 'bootstrap_type': 'Bayesian', 'od_type': 'IncToDec', 'random_strength': 45, 'border_count': 60, 'boosting_type': 'Plain'}. Best is trial 309 with value: 0.8325344175289153.\n"
     ]
    },
    {
     "name": "stdout",
     "output_type": "stream",
     "text": [
      "Score: 0.738046989971537\n",
      "Fold 1\n",
      "Fold 2\n",
      "Fold 3\n"
     ]
    },
    {
     "name": "stderr",
     "output_type": "stream",
     "text": [
      "[I 2024-06-12 20:29:05,302] Trial 369 finished with value: 0.830977745946417 and parameters: {'iterations': 1679, 'learning_rate': 0.029894341146120048, 'depth': 7, 'l2_leaf_reg': 0.033667556048161955, 'bootstrap_type': 'Bayesian', 'od_type': 'Iter', 'random_strength': 49, 'border_count': 62, 'boosting_type': 'Plain'}. Best is trial 309 with value: 0.8325344175289153.\n"
     ]
    },
    {
     "name": "stdout",
     "output_type": "stream",
     "text": [
      "Score: 0.830977745946417\n",
      "Fold 1\n",
      "Fold 2\n",
      "Fold 3\n"
     ]
    },
    {
     "name": "stderr",
     "output_type": "stream",
     "text": [
      "[I 2024-06-12 20:29:59,556] Trial 370 finished with value: 0.8314472290565837 and parameters: {'iterations': 1768, 'learning_rate': 0.035448368641369604, 'depth': 7, 'l2_leaf_reg': 0.0016586289855668288, 'bootstrap_type': 'Bayesian', 'od_type': 'Iter', 'random_strength': 23, 'border_count': 84, 'boosting_type': 'Plain'}. Best is trial 309 with value: 0.8325344175289153.\n"
     ]
    },
    {
     "name": "stdout",
     "output_type": "stream",
     "text": [
      "Score: 0.8314472290565837\n",
      "Fold 1\n",
      "Fold 2\n",
      "Fold 3\n"
     ]
    },
    {
     "name": "stderr",
     "output_type": "stream",
     "text": [
      "[I 2024-06-12 20:30:30,573] Trial 371 finished with value: 0.8311630652021395 and parameters: {'iterations': 1639, 'learning_rate': 0.05562959684747045, 'depth': 5, 'l2_leaf_reg': 0.026356510091826928, 'bootstrap_type': 'Bayesian', 'od_type': 'Iter', 'random_strength': 43, 'border_count': 26, 'boosting_type': 'Plain'}. Best is trial 309 with value: 0.8325344175289153.\n"
     ]
    },
    {
     "name": "stdout",
     "output_type": "stream",
     "text": [
      "Score: 0.8311630652021395\n",
      "Fold 1\n",
      "Fold 2\n",
      "Fold 3\n"
     ]
    },
    {
     "name": "stderr",
     "output_type": "stream",
     "text": [
      "[I 2024-06-12 20:31:10,164] Trial 372 finished with value: 0.8298411289929591 and parameters: {'iterations': 1736, 'learning_rate': 0.022542538906295605, 'depth': 6, 'l2_leaf_reg': 4.6624466623854986e-05, 'bootstrap_type': 'Bayesian', 'od_type': 'Iter', 'random_strength': 46, 'border_count': 79, 'boosting_type': 'Plain'}. Best is trial 309 with value: 0.8325344175289153.\n"
     ]
    },
    {
     "name": "stdout",
     "output_type": "stream",
     "text": [
      "Score: 0.8298411289929591\n",
      "Fold 1\n",
      "Fold 2\n",
      "Fold 3\n"
     ]
    },
    {
     "name": "stderr",
     "output_type": "stream",
     "text": [
      "[I 2024-06-12 20:31:51,822] Trial 373 finished with value: 0.8309653970684896 and parameters: {'iterations': 1807, 'learning_rate': 0.03430681930730367, 'depth': 6, 'l2_leaf_reg': 0.009964444206694468, 'bootstrap_type': 'Bayesian', 'od_type': 'Iter', 'random_strength': 43, 'border_count': 56, 'boosting_type': 'Plain'}. Best is trial 309 with value: 0.8325344175289153.\n"
     ]
    },
    {
     "name": "stdout",
     "output_type": "stream",
     "text": [
      "Score: 0.8309653970684896\n",
      "Fold 1\n",
      "Fold 2\n",
      "Fold 3\n"
     ]
    },
    {
     "name": "stderr",
     "output_type": "stream",
     "text": [
      "[I 2024-06-12 20:32:28,021] Trial 374 finished with value: 0.7353660480239657 and parameters: {'iterations': 1963, 'learning_rate': 1.0071246813343452e-05, 'depth': 5, 'l2_leaf_reg': 3.3573119423039686e-05, 'bootstrap_type': 'Bayesian', 'od_type': 'IncToDec', 'random_strength': 48, 'border_count': 71, 'boosting_type': 'Plain'}. Best is trial 309 with value: 0.8325344175289153.\n"
     ]
    },
    {
     "name": "stdout",
     "output_type": "stream",
     "text": [
      "Score: 0.7353660480239657\n",
      "Fold 1\n",
      "Fold 2\n",
      "Fold 3\n"
     ]
    },
    {
     "name": "stderr",
     "output_type": "stream",
     "text": [
      "[I 2024-06-12 20:33:56,434] Trial 375 finished with value: 0.8305700498113843 and parameters: {'iterations': 1748, 'learning_rate': 0.04034220285741358, 'depth': 8, 'l2_leaf_reg': 0.0005926012306607633, 'bootstrap_type': 'Bayesian', 'od_type': 'Iter', 'random_strength': 45, 'border_count': 101, 'boosting_type': 'Plain'}. Best is trial 309 with value: 0.8325344175289153.\n"
     ]
    },
    {
     "name": "stdout",
     "output_type": "stream",
     "text": [
      "Score: 0.8305700498113843\n",
      "Fold 1\n",
      "Fold 2\n",
      "Fold 3\n"
     ]
    },
    {
     "name": "stderr",
     "output_type": "stream",
     "text": [
      "[I 2024-06-12 20:34:34,710] Trial 376 finished with value: 0.830112933437579 and parameters: {'iterations': 1699, 'learning_rate': 0.026846042823962996, 'depth': 6, 'l2_leaf_reg': 0.022870847487498402, 'bootstrap_type': 'Bayesian', 'od_type': 'Iter', 'random_strength': 83, 'border_count': 51, 'boosting_type': 'Plain'}. Best is trial 309 with value: 0.8325344175289153.\n"
     ]
    },
    {
     "name": "stdout",
     "output_type": "stream",
     "text": [
      "Score: 0.830112933437579\n",
      "Fold 1\n",
      "Fold 2\n",
      "Fold 3\n"
     ]
    },
    {
     "name": "stderr",
     "output_type": "stream",
     "text": [
      "[I 2024-06-12 20:35:17,423] Trial 377 finished with value: 0.8295446144289533 and parameters: {'iterations': 1838, 'learning_rate': 0.08475313167996758, 'depth': 6, 'l2_leaf_reg': 0.00011769110236227506, 'bootstrap_type': 'Bayesian', 'od_type': 'Iter', 'random_strength': 41, 'border_count': 64, 'boosting_type': 'Plain'}. Best is trial 309 with value: 0.8325344175289153.\n"
     ]
    },
    {
     "name": "stdout",
     "output_type": "stream",
     "text": [
      "Score: 0.8295446144289533\n",
      "Fold 1\n",
      "Fold 2\n",
      "Fold 3\n"
     ]
    },
    {
     "name": "stderr",
     "output_type": "stream",
     "text": [
      "[I 2024-06-12 20:36:02,324] Trial 378 finished with value: 0.8309283266234618 and parameters: {'iterations': 1937, 'learning_rate': 0.06393031609214615, 'depth': 6, 'l2_leaf_reg': 0.008303311254117995, 'bootstrap_type': 'Bayesian', 'od_type': 'Iter', 'random_strength': 44, 'border_count': 88, 'boosting_type': 'Plain'}. Best is trial 309 with value: 0.8325344175289153.\n"
     ]
    },
    {
     "name": "stdout",
     "output_type": "stream",
     "text": [
      "Score: 0.8309283266234618\n",
      "Fold 1\n",
      "Fold 2\n",
      "Fold 3\n"
     ]
    },
    {
     "name": "stderr",
     "output_type": "stream",
     "text": [
      "[I 2024-06-12 20:36:57,287] Trial 379 finished with value: 0.8310395191842942 and parameters: {'iterations': 1784, 'learning_rate': 0.05019133645403001, 'depth': 7, 'l2_leaf_reg': 0.013492262813600733, 'bootstrap_type': 'Bayesian', 'od_type': 'Iter', 'random_strength': 30, 'border_count': 71, 'boosting_type': 'Plain'}. Best is trial 309 with value: 0.8325344175289153.\n"
     ]
    },
    {
     "name": "stdout",
     "output_type": "stream",
     "text": [
      "Score: 0.8310395191842942\n",
      "Fold 1\n",
      "Fold 2\n",
      "Fold 3\n"
     ]
    },
    {
     "name": "stderr",
     "output_type": "stream",
     "text": [
      "[I 2024-06-12 20:37:39,145] Trial 380 finished with value: 0.8314225175634719 and parameters: {'iterations': 1809, 'learning_rate': 0.03191170059916151, 'depth': 6, 'l2_leaf_reg': 0.001365459091393754, 'bootstrap_type': 'Bayesian', 'od_type': 'IncToDec', 'random_strength': 41, 'border_count': 92, 'boosting_type': 'Plain'}. Best is trial 309 with value: 0.8325344175289153.\n"
     ]
    },
    {
     "name": "stdout",
     "output_type": "stream",
     "text": [
      "Score: 0.8314225175634719\n",
      "Fold 1\n",
      "Fold 2\n",
      "Fold 3\n"
     ]
    },
    {
     "name": "stderr",
     "output_type": "stream",
     "text": [
      "[I 2024-06-12 20:38:22,947] Trial 381 finished with value: 0.8256035259947865 and parameters: {'iterations': 1920, 'learning_rate': 0.011296011608056048, 'depth': 6, 'l2_leaf_reg': 0.002415289830523495, 'bootstrap_type': 'Bayesian', 'od_type': 'Iter', 'random_strength': 47, 'border_count': 76, 'boosting_type': 'Plain'}. Best is trial 309 with value: 0.8325344175289153.\n"
     ]
    },
    {
     "name": "stdout",
     "output_type": "stream",
     "text": [
      "Score: 0.8256035259947865\n",
      "Fold 1\n",
      "Fold 2\n",
      "Fold 3\n"
     ]
    },
    {
     "name": "stderr",
     "output_type": "stream",
     "text": [
      "[I 2024-06-12 20:39:08,443] Trial 382 finished with value: 0.8320649458664627 and parameters: {'iterations': 1971, 'learning_rate': 0.04264473894318429, 'depth': 6, 'l2_leaf_reg': 2.5800186718996876e-05, 'bootstrap_type': 'Bayesian', 'od_type': 'Iter', 'random_strength': 77, 'border_count': 56, 'boosting_type': 'Plain'}. Best is trial 309 with value: 0.8325344175289153.\n"
     ]
    },
    {
     "name": "stdout",
     "output_type": "stream",
     "text": [
      "Score: 0.8320649458664627\n",
      "Fold 1\n",
      "Fold 2\n",
      "Fold 3\n"
     ]
    },
    {
     "name": "stderr",
     "output_type": "stream",
     "text": [
      "[I 2024-06-12 20:39:56,626] Trial 383 finished with value: 0.7392824295441062 and parameters: {'iterations': 1977, 'learning_rate': 2.0443738072098034e-05, 'depth': 6, 'l2_leaf_reg': 2.2872035726263735e-05, 'bootstrap_type': 'MVS', 'od_type': 'Iter', 'random_strength': 37, 'border_count': 46, 'boosting_type': 'Plain'}. Best is trial 309 with value: 0.8325344175289153.\n"
     ]
    },
    {
     "name": "stdout",
     "output_type": "stream",
     "text": [
      "Score: 0.7392824295441062\n",
      "Fold 1\n",
      "Fold 2\n",
      "Fold 3\n"
     ]
    },
    {
     "name": "stderr",
     "output_type": "stream",
     "text": [
      "[I 2024-06-12 20:40:41,318] Trial 384 finished with value: 0.8315337014240415 and parameters: {'iterations': 1962, 'learning_rate': 0.039674051233120115, 'depth': 6, 'l2_leaf_reg': 1.5723902713938358e-05, 'bootstrap_type': 'Bayesian', 'od_type': 'Iter', 'random_strength': 81, 'border_count': 57, 'boosting_type': 'Plain'}. Best is trial 309 with value: 0.8325344175289153.\n"
     ]
    },
    {
     "name": "stdout",
     "output_type": "stream",
     "text": [
      "Score: 0.8315337014240415\n",
      "Fold 1\n",
      "Fold 2\n",
      "Fold 3\n"
     ]
    },
    {
     "name": "stderr",
     "output_type": "stream",
     "text": [
      "[I 2024-06-12 20:41:26,405] Trial 385 finished with value: 0.8314842816431778 and parameters: {'iterations': 1948, 'learning_rate': 0.04674628386289129, 'depth': 6, 'l2_leaf_reg': 2.7950273924351296e-05, 'bootstrap_type': 'Bayesian', 'od_type': 'Iter', 'random_strength': 85, 'border_count': 54, 'boosting_type': 'Plain'}. Best is trial 309 with value: 0.8325344175289153.\n"
     ]
    },
    {
     "name": "stdout",
     "output_type": "stream",
     "text": [
      "Score: 0.8314842816431778\n",
      "Fold 1\n",
      "Fold 2\n",
      "Fold 3\n"
     ]
    },
    {
     "name": "stderr",
     "output_type": "stream",
     "text": [
      "[I 2024-06-12 20:42:11,946] Trial 386 finished with value: 0.8309901090195101 and parameters: {'iterations': 2000, 'learning_rate': 0.027270608134948478, 'depth': 6, 'l2_leaf_reg': 1.615198898930798e-05, 'bootstrap_type': 'Bayesian', 'od_type': 'Iter', 'random_strength': 39, 'border_count': 40, 'boosting_type': 'Plain'}. Best is trial 309 with value: 0.8325344175289153.\n"
     ]
    },
    {
     "name": "stdout",
     "output_type": "stream",
     "text": [
      "Score: 0.8309901090195101\n",
      "Fold 1\n",
      "Fold 2\n",
      "Fold 3\n"
     ]
    },
    {
     "name": "stderr",
     "output_type": "stream",
     "text": [
      "[I 2024-06-12 20:42:52,724] Trial 387 finished with value: 0.8048973297126687 and parameters: {'iterations': 1912, 'learning_rate': 0.004992582829758518, 'depth': 6, 'l2_leaf_reg': 1.1756164175254726e-05, 'bootstrap_type': 'Bayesian', 'od_type': 'IncToDec', 'random_strength': 76, 'border_count': 47, 'boosting_type': 'Plain'}. Best is trial 309 with value: 0.8325344175289153.\n"
     ]
    },
    {
     "name": "stdout",
     "output_type": "stream",
     "text": [
      "Score: 0.8048973297126687\n",
      "Fold 1\n",
      "Fold 2\n",
      "Fold 3\n"
     ]
    },
    {
     "name": "stderr",
     "output_type": "stream",
     "text": [
      "[I 2024-06-12 20:43:37,615] Trial 388 finished with value: 0.8315584124592449 and parameters: {'iterations': 1967, 'learning_rate': 0.035856990748443375, 'depth': 6, 'l2_leaf_reg': 0.03832053809953055, 'bootstrap_type': 'Bernoulli', 'od_type': 'Iter', 'random_strength': 43, 'border_count': 60, 'boosting_type': 'Plain'}. Best is trial 309 with value: 0.8325344175289153.\n"
     ]
    },
    {
     "name": "stdout",
     "output_type": "stream",
     "text": [
      "Score: 0.8315584124592449\n",
      "Fold 1\n",
      "Fold 2\n",
      "Fold 3\n"
     ]
    },
    {
     "name": "stderr",
     "output_type": "stream",
     "text": [
      "[I 2024-06-12 20:44:14,555] Trial 389 finished with value: 0.7786686719947623 and parameters: {'iterations': 1718, 'learning_rate': 0.0021102835653859834, 'depth': 6, 'l2_leaf_reg': 0.022060199976831493, 'bootstrap_type': 'Bayesian', 'od_type': 'Iter', 'random_strength': 78, 'border_count': 51, 'boosting_type': 'Plain'}. Best is trial 309 with value: 0.8325344175289153.\n"
     ]
    },
    {
     "name": "stdout",
     "output_type": "stream",
     "text": [
      "Score: 0.7786686719947623\n",
      "Fold 1\n",
      "Fold 2\n",
      "Fold 3\n"
     ]
    },
    {
     "name": "stderr",
     "output_type": "stream",
     "text": [
      "[I 2024-06-12 20:45:01,094] Trial 390 finished with value: 0.8315336977607731 and parameters: {'iterations': 1999, 'learning_rate': 0.04373175826970248, 'depth': 6, 'l2_leaf_reg': 0.06077851690122316, 'bootstrap_type': 'Bernoulli', 'od_type': 'Iter', 'random_strength': 33, 'border_count': 64, 'boosting_type': 'Plain'}. Best is trial 309 with value: 0.8325344175289153.\n"
     ]
    },
    {
     "name": "stdout",
     "output_type": "stream",
     "text": [
      "Score: 0.8315336977607731\n",
      "Fold 1\n",
      "Fold 2\n",
      "Fold 3\n"
     ]
    },
    {
     "name": "stderr",
     "output_type": "stream",
     "text": [
      "[I 2024-06-12 20:45:46,303] Trial 391 finished with value: 0.8307182926692677 and parameters: {'iterations': 1927, 'learning_rate': 0.05514268072203885, 'depth': 6, 'l2_leaf_reg': 0.00039518094832299383, 'bootstrap_type': 'Bayesian', 'od_type': 'Iter', 'random_strength': 40, 'border_count': 85, 'boosting_type': 'Plain'}. Best is trial 309 with value: 0.8325344175289153.\n"
     ]
    },
    {
     "name": "stdout",
     "output_type": "stream",
     "text": [
      "Score: 0.8307182926692677\n",
      "Fold 1\n",
      "Fold 2\n",
      "Fold 3\n"
     ]
    },
    {
     "name": "stderr",
     "output_type": "stream",
     "text": [
      "[I 2024-06-12 20:46:29,435] Trial 392 finished with value: 0.8314348746837533 and parameters: {'iterations': 1874, 'learning_rate': 0.031268528307578654, 'depth': 6, 'l2_leaf_reg': 0.0005200540793090885, 'bootstrap_type': 'Bayesian', 'od_type': 'Iter', 'random_strength': 79, 'border_count': 97, 'boosting_type': 'Plain'}. Best is trial 309 with value: 0.8325344175289153.\n"
     ]
    },
    {
     "name": "stdout",
     "output_type": "stream",
     "text": [
      "Score: 0.8314348746837533\n",
      "Fold 1\n",
      "Fold 2\n",
      "Fold 3\n"
     ]
    },
    {
     "name": "stderr",
     "output_type": "stream",
     "text": [
      "[I 2024-06-12 20:47:06,470] Trial 393 finished with value: 0.8310642283878633 and parameters: {'iterations': 1588, 'learning_rate': 0.03813829918696929, 'depth': 6, 'l2_leaf_reg': 0.0002726196808504842, 'bootstrap_type': 'Bernoulli', 'od_type': 'IncToDec', 'random_strength': 35, 'border_count': 80, 'boosting_type': 'Plain'}. Best is trial 309 with value: 0.8325344175289153.\n"
     ]
    },
    {
     "name": "stdout",
     "output_type": "stream",
     "text": [
      "Score: 0.8310642283878633\n",
      "Fold 1\n",
      "Fold 2\n",
      "Fold 3\n"
     ]
    },
    {
     "name": "stderr",
     "output_type": "stream",
     "text": [
      "[I 2024-06-12 20:47:43,459] Trial 394 finished with value: 0.8220577710804683 and parameters: {'iterations': 1654, 'learning_rate': 0.010211622662433879, 'depth': 6, 'l2_leaf_reg': 0.000789990959165815, 'bootstrap_type': 'Bayesian', 'od_type': 'Iter', 'random_strength': 50, 'border_count': 58, 'boosting_type': 'Plain'}. Best is trial 309 with value: 0.8325344175289153.\n"
     ]
    },
    {
     "name": "stdout",
     "output_type": "stream",
     "text": [
      "Score: 0.8220577710804683\n",
      "Fold 1\n",
      "Fold 2\n",
      "Fold 3\n"
     ]
    },
    {
     "name": "stderr",
     "output_type": "stream",
     "text": [
      "[I 2024-06-12 20:48:22,555] Trial 395 finished with value: 0.753403670468599 and parameters: {'iterations': 1759, 'learning_rate': 0.0007034147115859508, 'depth': 6, 'l2_leaf_reg': 0.0039589338781851, 'bootstrap_type': 'Bernoulli', 'od_type': 'Iter', 'random_strength': 45, 'border_count': 68, 'boosting_type': 'Plain'}. Best is trial 309 with value: 0.8325344175289153.\n"
     ]
    },
    {
     "name": "stdout",
     "output_type": "stream",
     "text": [
      "Score: 0.753403670468599\n",
      "Fold 1\n",
      "Fold 2\n",
      "Fold 3\n"
     ]
    },
    {
     "name": "stderr",
     "output_type": "stream",
     "text": [
      "[I 2024-06-12 20:49:07,875] Trial 396 finished with value: 0.8318302027086993 and parameters: {'iterations': 1964, 'learning_rate': 0.05091322275766473, 'depth': 6, 'l2_leaf_reg': 0.15851335196703775, 'bootstrap_type': 'Bayesian', 'od_type': 'Iter', 'random_strength': 41, 'border_count': 74, 'boosting_type': 'Plain'}. Best is trial 309 with value: 0.8325344175289153.\n"
     ]
    },
    {
     "name": "stdout",
     "output_type": "stream",
     "text": [
      "Score: 0.8318302027086993\n",
      "Fold 1\n",
      "Fold 2\n",
      "Fold 3\n"
     ]
    },
    {
     "name": "stderr",
     "output_type": "stream",
     "text": [
      "[I 2024-06-12 20:49:52,232] Trial 397 finished with value: 0.8315707640846238 and parameters: {'iterations': 1906, 'learning_rate': 0.055834437675203706, 'depth': 6, 'l2_leaf_reg': 0.09260572835836635, 'bootstrap_type': 'Bayesian', 'od_type': 'Iter', 'random_strength': 42, 'border_count': 64, 'boosting_type': 'Plain'}. Best is trial 309 with value: 0.8325344175289153.\n"
     ]
    },
    {
     "name": "stdout",
     "output_type": "stream",
     "text": [
      "Score: 0.8315707640846238\n",
      "Fold 1\n",
      "Fold 2\n",
      "Fold 3\n"
     ]
    },
    {
     "name": "stderr",
     "output_type": "stream",
     "text": [
      "[I 2024-06-12 20:50:34,827] Trial 398 finished with value: 0.8315707663741666 and parameters: {'iterations': 1857, 'learning_rate': 0.048071171423228934, 'depth': 6, 'l2_leaf_reg': 0.31910770405289685, 'bootstrap_type': 'Bernoulli', 'od_type': 'Iter', 'random_strength': 27, 'border_count': 54, 'boosting_type': 'Plain'}. Best is trial 309 with value: 0.8325344175289153.\n"
     ]
    },
    {
     "name": "stdout",
     "output_type": "stream",
     "text": [
      "Score: 0.8315707663741666\n",
      "Fold 1\n",
      "Fold 2\n",
      "Fold 3\n"
     ]
    },
    {
     "name": "stderr",
     "output_type": "stream",
     "text": [
      "[I 2024-06-12 20:51:17,629] Trial 399 finished with value: 0.8054409294437371 and parameters: {'iterations': 1944, 'learning_rate': 0.0037000095503205363, 'depth': 6, 'l2_leaf_reg': 0.05849040189979944, 'bootstrap_type': 'Bayesian', 'od_type': 'Iter', 'random_strength': 46, 'border_count': 72, 'boosting_type': 'Plain'}. Best is trial 309 with value: 0.8325344175289153.\n"
     ]
    },
    {
     "name": "stdout",
     "output_type": "stream",
     "text": [
      "Score: 0.8054409294437371\n",
      "Fold 1\n",
      "Fold 2\n",
      "Fold 3\n"
     ]
    },
    {
     "name": "stderr",
     "output_type": "stream",
     "text": [
      "[I 2024-06-12 20:51:59,818] Trial 400 finished with value: 0.8313483844578619 and parameters: {'iterations': 1887, 'learning_rate': 0.07252427781511922, 'depth': 6, 'l2_leaf_reg': 17.61104443116288, 'bootstrap_type': 'Bayesian', 'od_type': 'IncToDec', 'random_strength': 43, 'border_count': 60, 'boosting_type': 'Plain'}. Best is trial 309 with value: 0.8325344175289153.\n"
     ]
    },
    {
     "name": "stdout",
     "output_type": "stream",
     "text": [
      "Score: 0.8313483844578619\n",
      "Fold 1\n",
      "Fold 2\n",
      "Fold 3\n"
     ]
    },
    {
     "name": "stderr",
     "output_type": "stream",
     "text": [
      "[I 2024-06-12 20:52:43,449] Trial 401 finished with value: 0.8058486351948497 and parameters: {'iterations': 1826, 'learning_rate': 0.0031637881370438765, 'depth': 6, 'l2_leaf_reg': 0.13205041016159333, 'bootstrap_type': 'MVS', 'od_type': 'Iter', 'random_strength': 41, 'border_count': 67, 'boosting_type': 'Plain'}. Best is trial 309 with value: 0.8325344175289153.\n"
     ]
    },
    {
     "name": "stdout",
     "output_type": "stream",
     "text": [
      "Score: 0.8058486351948497\n",
      "Fold 1\n",
      "Fold 2\n",
      "Fold 3\n"
     ]
    },
    {
     "name": "stderr",
     "output_type": "stream",
     "text": [
      "[I 2024-06-12 20:53:23,252] Trial 402 finished with value: 0.8317066594383054 and parameters: {'iterations': 1730, 'learning_rate': 0.05876926512711231, 'depth': 6, 'l2_leaf_reg': 0.15907613137789894, 'bootstrap_type': 'Bernoulli', 'od_type': 'Iter', 'random_strength': 31, 'border_count': 91, 'boosting_type': 'Plain'}. Best is trial 309 with value: 0.8325344175289153.\n"
     ]
    },
    {
     "name": "stdout",
     "output_type": "stream",
     "text": [
      "Score: 0.8317066594383054\n",
      "Fold 1\n",
      "Fold 2\n",
      "Fold 3\n"
     ]
    },
    {
     "name": "stderr",
     "output_type": "stream",
     "text": [
      "[I 2024-06-12 20:54:04,247] Trial 403 finished with value: 0.8312989573504611 and parameters: {'iterations': 1789, 'learning_rate': 0.04359982868836832, 'depth': 6, 'l2_leaf_reg': 0.04250555434046922, 'bootstrap_type': 'Bayesian', 'od_type': 'Iter', 'random_strength': 44, 'border_count': 82, 'boosting_type': 'Plain'}. Best is trial 309 with value: 0.8325344175289153.\n"
     ]
    },
    {
     "name": "stdout",
     "output_type": "stream",
     "text": [
      "Score: 0.8312989573504611\n",
      "Fold 1\n",
      "Fold 2\n",
      "Fold 3\n"
     ]
    },
    {
     "name": "stderr",
     "output_type": "stream",
     "text": [
      "[I 2024-06-12 20:54:42,601] Trial 404 finished with value: 0.8316695986093574 and parameters: {'iterations': 1674, 'learning_rate': 0.05150310769300076, 'depth': 6, 'l2_leaf_reg': 0.07724864185888317, 'bootstrap_type': 'Bayesian', 'od_type': 'Iter', 'random_strength': 47, 'border_count': 50, 'boosting_type': 'Plain'}. Best is trial 309 with value: 0.8325344175289153.\n"
     ]
    },
    {
     "name": "stdout",
     "output_type": "stream",
     "text": [
      "Score: 0.8316695986093574\n",
      "Fold 1\n",
      "Fold 2\n",
      "Fold 3\n"
     ]
    },
    {
     "name": "stderr",
     "output_type": "stream",
     "text": [
      "[I 2024-06-12 20:55:28,001] Trial 405 finished with value: 0.8301252923894947 and parameters: {'iterations': 1951, 'learning_rate': 0.06590066804546499, 'depth': 6, 'l2_leaf_reg': 0.0074108716424064495, 'bootstrap_type': 'Bernoulli', 'od_type': 'Iter', 'random_strength': 42, 'border_count': 75, 'boosting_type': 'Plain'}. Best is trial 309 with value: 0.8325344175289153.\n"
     ]
    },
    {
     "name": "stdout",
     "output_type": "stream",
     "text": [
      "Score: 0.8301252923894947\n",
      "Fold 1\n",
      "Fold 2\n",
      "Fold 3\n"
     ]
    },
    {
     "name": "stderr",
     "output_type": "stream",
     "text": [
      "[I 2024-06-12 20:56:12,261] Trial 406 finished with value: 0.8312618988110559 and parameters: {'iterations': 1918, 'learning_rate': 0.04074698841226535, 'depth': 6, 'l2_leaf_reg': 4.031066158193175e-05, 'bootstrap_type': 'Bayesian', 'od_type': 'IncToDec', 'random_strength': 29, 'border_count': 61, 'boosting_type': 'Plain'}. Best is trial 309 with value: 0.8325344175289153.\n"
     ]
    },
    {
     "name": "stdout",
     "output_type": "stream",
     "text": [
      "Score: 0.8312618988110559\n",
      "Fold 1\n",
      "Fold 2\n",
      "Fold 3\n"
     ]
    },
    {
     "name": "stderr",
     "output_type": "stream",
     "text": [
      "[I 2024-06-12 20:56:55,340] Trial 407 finished with value: 0.8289021902471395 and parameters: {'iterations': 1859, 'learning_rate': 0.01759604774198884, 'depth': 6, 'l2_leaf_reg': 0.031736051955030986, 'bootstrap_type': 'Bernoulli', 'od_type': 'Iter', 'random_strength': 39, 'border_count': 69, 'boosting_type': 'Plain'}. Best is trial 309 with value: 0.8325344175289153.\n"
     ]
    },
    {
     "name": "stdout",
     "output_type": "stream",
     "text": [
      "Score: 0.8289021902471395\n",
      "Fold 1\n",
      "Fold 2\n",
      "Fold 3\n"
     ]
    },
    {
     "name": "stderr",
     "output_type": "stream",
     "text": [
      "[I 2024-06-12 20:57:34,118] Trial 408 finished with value: 0.814756247903523 and parameters: {'iterations': 1759, 'learning_rate': 0.007390517333879414, 'depth': 6, 'l2_leaf_reg': 1.504590758974729, 'bootstrap_type': 'Bayesian', 'od_type': 'Iter', 'random_strength': 45, 'border_count': 113, 'boosting_type': 'Plain'}. Best is trial 309 with value: 0.8325344175289153.\n"
     ]
    },
    {
     "name": "stdout",
     "output_type": "stream",
     "text": [
      "Score: 0.814756247903523\n",
      "Fold 1\n",
      "Fold 2\n",
      "Fold 3\n"
     ]
    },
    {
     "name": "stderr",
     "output_type": "stream",
     "text": [
      "[I 2024-06-12 20:57:47,728] Trial 409 finished with value: 0.7368486006960192 and parameters: {'iterations': 581, 'learning_rate': 1.3892259803528714e-05, 'depth': 6, 'l2_leaf_reg': 0.0011228001301069428, 'bootstrap_type': 'Bayesian', 'od_type': 'Iter', 'random_strength': 41, 'border_count': 104, 'boosting_type': 'Plain'}. Best is trial 309 with value: 0.8325344175289153.\n"
     ]
    },
    {
     "name": "stdout",
     "output_type": "stream",
     "text": [
      "Score: 0.7368486006960192\n",
      "Fold 1\n",
      "Fold 2\n",
      "Fold 3\n"
     ]
    },
    {
     "name": "stderr",
     "output_type": "stream",
     "text": [
      "[I 2024-06-12 20:58:34,041] Trial 410 finished with value: 0.8289021980315848 and parameters: {'iterations': 2000, 'learning_rate': 0.08478645518553832, 'depth': 6, 'l2_leaf_reg': 0.002177051672754172, 'bootstrap_type': 'Bernoulli', 'od_type': 'Iter', 'random_strength': 36, 'border_count': 43, 'boosting_type': 'Plain'}. Best is trial 309 with value: 0.8325344175289153.\n"
     ]
    },
    {
     "name": "stdout",
     "output_type": "stream",
     "text": [
      "Score: 0.8289021980315848\n",
      "Fold 1\n",
      "Fold 2\n",
      "Fold 3\n"
     ]
    },
    {
     "name": "stderr",
     "output_type": "stream",
     "text": [
      "[I 2024-06-12 20:59:27,494] Trial 411 finished with value: 0.82782734286829 and parameters: {'iterations': 1814, 'learning_rate': 0.014056278844357804, 'depth': 7, 'l2_leaf_reg': 0.013471679776590816, 'bootstrap_type': 'Bayesian', 'od_type': 'Iter', 'random_strength': 100, 'border_count': 55, 'boosting_type': 'Plain'}. Best is trial 309 with value: 0.8325344175289153.\n"
     ]
    },
    {
     "name": "stdout",
     "output_type": "stream",
     "text": [
      "Score: 0.82782734286829\n",
      "Fold 1\n",
      "Fold 2\n",
      "Fold 3\n"
     ]
    },
    {
     "name": "stderr",
     "output_type": "stream",
     "text": [
      "[I 2024-06-12 21:00:11,120] Trial 412 finished with value: 0.8316448903216055 and parameters: {'iterations': 1908, 'learning_rate': 0.04759144294462765, 'depth': 6, 'l2_leaf_reg': 0.43947431767314804, 'bootstrap_type': 'Bernoulli', 'od_type': 'Iter', 'random_strength': 49, 'border_count': 79, 'boosting_type': 'Plain'}. Best is trial 309 with value: 0.8325344175289153.\n"
     ]
    },
    {
     "name": "stdout",
     "output_type": "stream",
     "text": [
      "Score: 0.8316448903216055\n",
      "Fold 1\n",
      "Fold 2\n",
      "Fold 3\n"
     ]
    },
    {
     "name": "stderr",
     "output_type": "stream",
     "text": [
      "[I 2024-06-12 21:00:49,467] Trial 413 finished with value: 0.8291369283679084 and parameters: {'iterations': 1699, 'learning_rate': 0.024826055938252593, 'depth': 6, 'l2_leaf_reg': 4.503191243544163, 'bootstrap_type': 'Bayesian', 'od_type': 'IncToDec', 'random_strength': 34, 'border_count': 64, 'boosting_type': 'Plain'}. Best is trial 309 with value: 0.8325344175289153.\n"
     ]
    },
    {
     "name": "stdout",
     "output_type": "stream",
     "text": [
      "Score: 0.8291369283679084\n",
      "Fold 1\n",
      "Fold 2\n",
      "Fold 3\n"
     ]
    },
    {
     "name": "stderr",
     "output_type": "stream",
     "text": [
      "[I 2024-06-12 21:01:31,844] Trial 414 finished with value: 0.8313730954930653 and parameters: {'iterations': 1883, 'learning_rate': 0.036330576635749165, 'depth': 6, 'l2_leaf_reg': 3.234292771166241, 'bootstrap_type': 'Bayesian', 'od_type': 'Iter', 'random_strength': 39, 'border_count': 72, 'boosting_type': 'Plain'}. Best is trial 309 with value: 0.8325344175289153.\n"
     ]
    },
    {
     "name": "stdout",
     "output_type": "stream",
     "text": [
      "Score: 0.8313730954930653\n",
      "Fold 1\n",
      "Fold 2\n",
      "Fold 3\n"
     ]
    },
    {
     "name": "stderr",
     "output_type": "stream",
     "text": [
      "[I 2024-06-12 21:02:17,522] Trial 415 finished with value: 0.831929046391604 and parameters: {'iterations': 1966, 'learning_rate': 0.05560181743172044, 'depth': 6, 'l2_leaf_reg': 2.3290962318901668e-05, 'bootstrap_type': 'Bernoulli', 'od_type': 'Iter', 'random_strength': 44, 'border_count': 85, 'boosting_type': 'Plain'}. Best is trial 309 with value: 0.8325344175289153.\n"
     ]
    },
    {
     "name": "stdout",
     "output_type": "stream",
     "text": [
      "Score: 0.831929046391604\n",
      "Fold 1\n",
      "Fold 2\n",
      "Fold 3\n"
     ]
    },
    {
     "name": "stderr",
     "output_type": "stream",
     "text": [
      "[I 2024-06-12 21:02:56,775] Trial 416 finished with value: 0.7888858738663226 and parameters: {'iterations': 1780, 'learning_rate': 0.0018937308472040866, 'depth': 6, 'l2_leaf_reg': 2.0978069899059063e-05, 'bootstrap_type': 'Bernoulli', 'od_type': 'Iter', 'random_strength': 47, 'border_count': 94, 'boosting_type': 'Plain'}. Best is trial 309 with value: 0.8325344175289153.\n"
     ]
    },
    {
     "name": "stdout",
     "output_type": "stream",
     "text": [
      "Score: 0.7888858738663226\n",
      "Fold 1\n",
      "Fold 2\n",
      "Fold 3\n"
     ]
    },
    {
     "name": "stderr",
     "output_type": "stream",
     "text": [
      "[I 2024-06-12 21:03:38,118] Trial 417 finished with value: 0.8309036320729666 and parameters: {'iterations': 1838, 'learning_rate': 0.064807759746491, 'depth': 6, 'l2_leaf_reg': 58.90731731684154, 'bootstrap_type': 'Bernoulli', 'od_type': 'Iter', 'random_strength': 51, 'border_count': 87, 'boosting_type': 'Plain'}. Best is trial 309 with value: 0.8325344175289153.\n"
     ]
    },
    {
     "name": "stdout",
     "output_type": "stream",
     "text": [
      "Score: 0.8309036320729666\n",
      "Fold 1\n",
      "Fold 2\n",
      "Fold 3\n"
     ]
    },
    {
     "name": "stderr",
     "output_type": "stream",
     "text": [
      "[I 2024-06-12 21:04:21,226] Trial 418 finished with value: 0.7977934838275443 and parameters: {'iterations': 1939, 'learning_rate': 0.002298711349272737, 'depth': 6, 'l2_leaf_reg': 2.9000233886194032e-05, 'bootstrap_type': 'Bernoulli', 'od_type': 'Iter', 'random_strength': 44, 'border_count': 99, 'boosting_type': 'Plain'}. Best is trial 309 with value: 0.8325344175289153.\n"
     ]
    },
    {
     "name": "stdout",
     "output_type": "stream",
     "text": [
      "Score: 0.7977934838275443\n",
      "Fold 1\n",
      "Fold 2\n",
      "Fold 3\n"
     ]
    },
    {
     "name": "stderr",
     "output_type": "stream",
     "text": [
      "[I 2024-06-12 21:05:01,078] Trial 419 finished with value: 0.8314472295144922 and parameters: {'iterations': 1739, 'learning_rate': 0.07680949554333054, 'depth': 6, 'l2_leaf_reg': 1.5382388626087966, 'bootstrap_type': 'Bernoulli', 'od_type': 'IncToDec', 'random_strength': 46, 'border_count': 85, 'boosting_type': 'Plain'}. Best is trial 309 with value: 0.8325344175289153.\n"
     ]
    },
    {
     "name": "stdout",
     "output_type": "stream",
     "text": [
      "Score: 0.8314472295144922\n",
      "Fold 1\n",
      "Fold 2\n",
      "Fold 3\n"
     ]
    },
    {
     "name": "stderr",
     "output_type": "stream",
     "text": [
      "[I 2024-06-12 21:05:44,027] Trial 420 finished with value: 0.790961435060503 and parameters: {'iterations': 1967, 'learning_rate': 0.002545359925214284, 'depth': 6, 'l2_leaf_reg': 1.4768657396510038e-05, 'bootstrap_type': 'Bernoulli', 'od_type': 'Iter', 'random_strength': 77, 'border_count': 81, 'boosting_type': 'Plain'}. Best is trial 309 with value: 0.8325344175289153.\n"
     ]
    },
    {
     "name": "stdout",
     "output_type": "stream",
     "text": [
      "Score: 0.790961435060503\n",
      "Fold 1\n",
      "Fold 2\n",
      "Fold 3\n"
     ]
    },
    {
     "name": "stderr",
     "output_type": "stream",
     "text": [
      "[I 2024-06-12 21:06:43,152] Trial 421 finished with value: 0.8309530339953968 and parameters: {'iterations': 1887, 'learning_rate': 0.04262375118696315, 'depth': 7, 'l2_leaf_reg': 2.205264423642583e-05, 'bootstrap_type': 'Bernoulli', 'od_type': 'Iter', 'random_strength': 43, 'border_count': 90, 'boosting_type': 'Plain'}. Best is trial 309 with value: 0.8325344175289153.\n"
     ]
    },
    {
     "name": "stdout",
     "output_type": "stream",
     "text": [
      "Score: 0.8309530339953968\n",
      "Fold 1\n",
      "Fold 2\n",
      "Fold 3\n"
     ]
    },
    {
     "name": "stderr",
     "output_type": "stream",
     "text": [
      "[I 2024-06-12 21:07:24,680] Trial 422 finished with value: 0.8306071147615093 and parameters: {'iterations': 1798, 'learning_rate': 0.0292216472754626, 'depth': 6, 'l2_leaf_reg': 3.2712805686724044e-05, 'bootstrap_type': 'Bernoulli', 'od_type': 'Iter', 'random_strength': 26, 'border_count': 58, 'boosting_type': 'Plain'}. Best is trial 309 with value: 0.8325344175289153.\n"
     ]
    },
    {
     "name": "stdout",
     "output_type": "stream",
     "text": [
      "Score: 0.8306071147615093\n",
      "Fold 1\n",
      "Fold 2\n",
      "Fold 3\n"
     ]
    },
    {
     "name": "stderr",
     "output_type": "stream",
     "text": [
      "[I 2024-06-12 21:08:05,836] Trial 423 finished with value: 0.7443972296459122 and parameters: {'iterations': 1853, 'learning_rate': 0.0002515547279277976, 'depth': 6, 'l2_leaf_reg': 7.831277906122377, 'bootstrap_type': 'Bernoulli', 'od_type': 'Iter', 'random_strength': 32, 'border_count': 48, 'boosting_type': 'Plain'}. Best is trial 309 with value: 0.8325344175289153.\n"
     ]
    },
    {
     "name": "stdout",
     "output_type": "stream",
     "text": [
      "Score: 0.7443972296459122\n",
      "Fold 1\n",
      "Fold 2\n",
      "Fold 3\n"
     ]
    },
    {
     "name": "stderr",
     "output_type": "stream",
     "text": [
      "[I 2024-06-12 21:08:47,982] Trial 424 finished with value: 0.7508833532262548 and parameters: {'iterations': 1933, 'learning_rate': 0.000994452449735634, 'depth': 6, 'l2_leaf_reg': 6.863202113302174e-05, 'bootstrap_type': 'Bernoulli', 'od_type': 'Iter', 'random_strength': 74, 'border_count': 35, 'boosting_type': 'Plain'}. Best is trial 309 with value: 0.8325344175289153.\n"
     ]
    },
    {
     "name": "stdout",
     "output_type": "stream",
     "text": [
      "Score: 0.7508833532262548\n",
      "Fold 1\n",
      "Fold 2\n",
      "Fold 3\n"
     ]
    },
    {
     "name": "stderr",
     "output_type": "stream",
     "text": [
      "[I 2024-06-12 21:09:25,016] Trial 425 finished with value: 0.8078253586589367 and parameters: {'iterations': 1691, 'learning_rate': 0.004771592861508831, 'depth': 6, 'l2_leaf_reg': 19.443199179829943, 'bootstrap_type': 'Bernoulli', 'od_type': 'IncToDec', 'random_strength': 37, 'border_count': 95, 'boosting_type': 'Plain'}. Best is trial 309 with value: 0.8325344175289153.\n"
     ]
    },
    {
     "name": "stdout",
     "output_type": "stream",
     "text": [
      "Score: 0.8078253586589367\n",
      "Fold 1\n",
      "Fold 2\n",
      "Fold 3\n"
     ]
    },
    {
     "name": "stderr",
     "output_type": "stream",
     "text": [
      "[I 2024-06-12 21:10:04,686] Trial 426 finished with value: 0.8318178574940402 and parameters: {'iterations': 1749, 'learning_rate': 0.06097366888882782, 'depth': 6, 'l2_leaf_reg': 0.8963040444284869, 'bootstrap_type': 'Bernoulli', 'od_type': 'Iter', 'random_strength': 45, 'border_count': 66, 'boosting_type': 'Plain'}. Best is trial 309 with value: 0.8325344175289153.\n"
     ]
    },
    {
     "name": "stdout",
     "output_type": "stream",
     "text": [
      "Score: 0.8318178574940402\n",
      "Fold 1\n",
      "Fold 2\n",
      "Fold 3\n"
     ]
    },
    {
     "name": "stderr",
     "output_type": "stream",
     "text": [
      "[I 2024-06-12 21:10:49,320] Trial 427 finished with value: 0.8308665588804875 and parameters: {'iterations': 1966, 'learning_rate': 0.035447317205942, 'depth': 6, 'l2_leaf_reg': 9.695619083393892, 'bootstrap_type': 'Bernoulli', 'od_type': 'Iter', 'random_strength': 30, 'border_count': 85, 'boosting_type': 'Plain'}. Best is trial 309 with value: 0.8325344175289153.\n"
     ]
    },
    {
     "name": "stdout",
     "output_type": "stream",
     "text": [
      "Score: 0.8308665588804875\n",
      "Fold 1\n",
      "Fold 2\n",
      "Fold 3\n"
     ]
    },
    {
     "name": "stderr",
     "output_type": "stream",
     "text": [
      "[I 2024-06-12 21:11:34,303] Trial 428 finished with value: 0.8300017472874665 and parameters: {'iterations': 1823, 'learning_rate': 0.02109295563782867, 'depth': 6, 'l2_leaf_reg': 1.0048322362599579e-05, 'bootstrap_type': 'MVS', 'od_type': 'Iter', 'random_strength': 48, 'border_count': 55, 'boosting_type': 'Plain'}. Best is trial 309 with value: 0.8325344175289153.\n"
     ]
    },
    {
     "name": "stdout",
     "output_type": "stream",
     "text": [
      "Score: 0.8300017472874665\n",
      "Fold 1\n",
      "Fold 2\n",
      "Fold 3\n"
     ]
    },
    {
     "name": "stderr",
     "output_type": "stream",
     "text": [
      "[I 2024-06-12 21:12:18,531] Trial 429 finished with value: 0.8314101590694646 and parameters: {'iterations': 1912, 'learning_rate': 0.05385706289111785, 'depth': 6, 'l2_leaf_reg': 0.0096776688866965, 'bootstrap_type': 'Bernoulli', 'od_type': 'Iter', 'random_strength': 43, 'border_count': 63, 'boosting_type': 'Plain'}. Best is trial 309 with value: 0.8325344175289153.\n"
     ]
    },
    {
     "name": "stdout",
     "output_type": "stream",
     "text": [
      "Score: 0.8314101590694646\n",
      "Fold 1\n",
      "Fold 2\n",
      "Fold 3\n"
     ]
    },
    {
     "name": "stderr",
     "output_type": "stream",
     "text": [
      "[I 2024-06-12 21:13:00,833] Trial 430 finished with value: 0.8317437303412415 and parameters: {'iterations': 1874, 'learning_rate': 0.043622377153560266, 'depth': 6, 'l2_leaf_reg': 3.595845373011272, 'bootstrap_type': 'Bayesian', 'od_type': 'Iter', 'random_strength': 40, 'border_count': 76, 'boosting_type': 'Plain'}. Best is trial 309 with value: 0.8325344175289153.\n"
     ]
    },
    {
     "name": "stdout",
     "output_type": "stream",
     "text": [
      "Score: 0.8317437303412415\n",
      "Fold 1\n",
      "Fold 2\n",
      "Fold 3\n"
     ]
    },
    {
     "name": "stderr",
     "output_type": "stream",
     "text": [
      "[I 2024-06-12 21:13:52,309] Trial 431 finished with value: 0.8303353171855178 and parameters: {'iterations': 1721, 'learning_rate': 0.03329637616242836, 'depth': 7, 'l2_leaf_reg': 14.611911049672626, 'bootstrap_type': 'Bernoulli', 'od_type': 'IncToDec', 'random_strength': 34, 'border_count': 90, 'boosting_type': 'Plain'}. Best is trial 309 with value: 0.8325344175289153.\n"
     ]
    },
    {
     "name": "stdout",
     "output_type": "stream",
     "text": [
      "Score: 0.8303353171855178\n",
      "Fold 1\n",
      "Fold 2\n",
      "Fold 3\n"
     ]
    },
    {
     "name": "stderr",
     "output_type": "stream",
     "text": [
      "[I 2024-06-12 21:14:00,585] Trial 432 finished with value: 0.7489066210619052 and parameters: {'iterations': 100, 'learning_rate': 0.004290173330290642, 'depth': 9, 'l2_leaf_reg': 37.375293250205615, 'bootstrap_type': 'Bayesian', 'od_type': 'Iter', 'random_strength': 42, 'border_count': 68, 'boosting_type': 'Plain'}. Best is trial 309 with value: 0.8325344175289153.\n"
     ]
    },
    {
     "name": "stdout",
     "output_type": "stream",
     "text": [
      "Score: 0.7489066210619052\n",
      "Fold 1\n",
      "Fold 2\n",
      "Fold 3\n"
     ]
    },
    {
     "name": "stderr",
     "output_type": "stream",
     "text": [
      "[I 2024-06-12 21:14:40,112] Trial 433 finished with value: 0.7456944470354436 and parameters: {'iterations': 1772, 'learning_rate': 0.0005520340797737374, 'depth': 6, 'l2_leaf_reg': 0.005729571806246295, 'bootstrap_type': 'Bayesian', 'od_type': 'Iter', 'random_strength': 45, 'border_count': 80, 'boosting_type': 'Plain'}. Best is trial 309 with value: 0.8325344175289153.\n"
     ]
    },
    {
     "name": "stdout",
     "output_type": "stream",
     "text": [
      "Score: 0.7456944470354436\n",
      "Fold 1\n",
      "Fold 2\n",
      "Fold 3\n"
     ]
    },
    {
     "name": "stderr",
     "output_type": "stream",
     "text": [
      "[I 2024-06-12 21:15:16,184] Trial 434 finished with value: 0.8311012850956342 and parameters: {'iterations': 1542, 'learning_rate': 0.05603587013710717, 'depth': 6, 'l2_leaf_reg': 0.0014780940616555068, 'bootstrap_type': 'Bernoulli', 'od_type': 'Iter', 'random_strength': 28, 'border_count': 50, 'boosting_type': 'Plain'}. Best is trial 309 with value: 0.8325344175289153.\n"
     ]
    },
    {
     "name": "stdout",
     "output_type": "stream",
     "text": [
      "Score: 0.8311012850956342\n",
      "Fold 1\n",
      "Fold 2\n",
      "Fold 3\n"
     ]
    },
    {
     "name": "stderr",
     "output_type": "stream",
     "text": [
      "[I 2024-06-12 21:15:54,339] Trial 435 finished with value: 0.8316325382383178 and parameters: {'iterations': 1657, 'learning_rate': 0.04045539342454561, 'depth': 6, 'l2_leaf_reg': 5.113546414521465e-05, 'bootstrap_type': 'Bayesian', 'od_type': 'Iter', 'random_strength': 37, 'border_count': 62, 'boosting_type': 'Plain'}. Best is trial 309 with value: 0.8325344175289153.\n"
     ]
    },
    {
     "name": "stdout",
     "output_type": "stream",
     "text": [
      "Score: 0.8316325382383178\n",
      "Fold 1\n",
      "Fold 2\n",
      "Fold 3\n"
     ]
    },
    {
     "name": "stderr",
     "output_type": "stream",
     "text": [
      "[I 2024-06-12 21:16:39,353] Trial 436 finished with value: 0.8295816958637863 and parameters: {'iterations': 1930, 'learning_rate': 0.09827425928689569, 'depth': 6, 'l2_leaf_reg': 0.3551754444249111, 'bootstrap_type': 'Bernoulli', 'od_type': 'Iter', 'random_strength': 39, 'border_count': 57, 'boosting_type': 'Plain'}. Best is trial 309 with value: 0.8325344175289153.\n"
     ]
    },
    {
     "name": "stdout",
     "output_type": "stream",
     "text": [
      "Score: 0.8295816958637863\n",
      "Fold 1\n",
      "Fold 2\n",
      "Fold 3\n"
     ]
    },
    {
     "name": "stderr",
     "output_type": "stream",
     "text": [
      "[I 2024-06-12 21:17:40,043] Trial 437 finished with value: 0.8278273488211011 and parameters: {'iterations': 1969, 'learning_rate': 0.0755487613763123, 'depth': 7, 'l2_leaf_reg': 0.0008386225135208001, 'bootstrap_type': 'Bayesian', 'od_type': 'Iter', 'random_strength': 48, 'border_count': 70, 'boosting_type': 'Plain'}. Best is trial 309 with value: 0.8325344175289153.\n"
     ]
    },
    {
     "name": "stdout",
     "output_type": "stream",
     "text": [
      "Score: 0.8278273488211011\n",
      "Fold 1\n",
      "Fold 2\n",
      "Fold 3\n"
     ]
    },
    {
     "name": "stderr",
     "output_type": "stream",
     "text": [
      "[I 2024-06-12 21:18:14,693] Trial 438 finished with value: 0.8298534934397778 and parameters: {'iterations': 1844, 'learning_rate': 0.026563088516593534, 'depth': 5, 'l2_leaf_reg': 0.00021994431943663688, 'bootstrap_type': 'Bayesian', 'od_type': 'IncToDec', 'random_strength': 33, 'border_count': 78, 'boosting_type': 'Plain'}. Best is trial 309 with value: 0.8325344175289153.\n"
     ]
    },
    {
     "name": "stdout",
     "output_type": "stream",
     "text": [
      "Score: 0.8298534934397778\n",
      "Fold 1\n",
      "Fold 2\n",
      "Fold 3\n"
     ]
    },
    {
     "name": "stderr",
     "output_type": "stream",
     "text": [
      "[I 2024-06-12 21:18:54,195] Trial 439 finished with value: 0.7386647113605015 and parameters: {'iterations': 1802, 'learning_rate': 0.0008311481032114434, 'depth': 6, 'l2_leaf_reg': 0.0037478180772326686, 'bootstrap_type': 'Bernoulli', 'od_type': 'Iter', 'random_strength': 82, 'border_count': 85, 'boosting_type': 'Plain'}. Best is trial 309 with value: 0.8325344175289153.\n"
     ]
    },
    {
     "name": "stdout",
     "output_type": "stream",
     "text": [
      "Score: 0.7386647113605015\n",
      "Fold 1\n",
      "Fold 2\n",
      "Fold 3\n"
     ]
    },
    {
     "name": "stderr",
     "output_type": "stream",
     "text": [
      "[I 2024-06-12 21:19:38,174] Trial 440 finished with value: 0.8047614366485298 and parameters: {'iterations': 1999, 'learning_rate': 0.0033557113237896647, 'depth': 6, 'l2_leaf_reg': 10.658675025633329, 'bootstrap_type': 'Bayesian', 'od_type': 'Iter', 'random_strength': 43, 'border_count': 60, 'boosting_type': 'Plain'}. Best is trial 309 with value: 0.8325344175289153.\n"
     ]
    },
    {
     "name": "stdout",
     "output_type": "stream",
     "text": [
      "Score: 0.8047614366485298\n",
      "Fold 1\n",
      "Fold 2\n",
      "Fold 3\n"
     ]
    },
    {
     "name": "stderr",
     "output_type": "stream",
     "text": [
      "[I 2024-06-12 21:20:20,882] Trial 441 finished with value: 0.8262212547102878 and parameters: {'iterations': 1891, 'learning_rate': 0.012182908181167984, 'depth': 6, 'l2_leaf_reg': 0.002790734484342009, 'bootstrap_type': 'Bernoulli', 'od_type': 'Iter', 'random_strength': 36, 'border_count': 42, 'boosting_type': 'Plain'}. Best is trial 309 with value: 0.8325344175289153.\n"
     ]
    },
    {
     "name": "stdout",
     "output_type": "stream",
     "text": [
      "Score: 0.8262212547102878\n",
      "Fold 1\n",
      "Fold 2\n",
      "Fold 3\n"
     ]
    },
    {
     "name": "stderr",
     "output_type": "stream",
     "text": [
      "[I 2024-06-12 21:21:01,977] Trial 442 finished with value: 0.8317560892931574 and parameters: {'iterations': 1784, 'learning_rate': 0.04978287464209127, 'depth': 6, 'l2_leaf_reg': 0.636746250575415, 'bootstrap_type': 'Bayesian', 'od_type': 'Iter', 'random_strength': 54, 'border_count': 72, 'boosting_type': 'Plain'}. Best is trial 309 with value: 0.8325344175289153.\n"
     ]
    },
    {
     "name": "stdout",
     "output_type": "stream",
     "text": [
      "Score: 0.8317560892931574\n",
      "Fold 1\n",
      "Fold 2\n",
      "Fold 3\n"
     ]
    },
    {
     "name": "stderr",
     "output_type": "stream",
     "text": [
      "[I 2024-06-12 21:21:46,345] Trial 443 finished with value: 0.8314719286440732 and parameters: {'iterations': 1930, 'learning_rate': 0.03805114886853741, 'depth': 6, 'l2_leaf_reg': 0.00042322944416324753, 'bootstrap_type': 'Bayesian', 'od_type': 'Iter', 'random_strength': 31, 'border_count': 66, 'boosting_type': 'Plain'}. Best is trial 309 with value: 0.8325344175289153.\n"
     ]
    },
    {
     "name": "stdout",
     "output_type": "stream",
     "text": [
      "Score: 0.8314719286440732\n",
      "Fold 1\n",
      "Fold 2\n",
      "Fold 3\n"
     ]
    },
    {
     "name": "stderr",
     "output_type": "stream",
     "text": [
      "[I 2024-06-12 21:22:29,448] Trial 444 finished with value: 0.8319908242085665 and parameters: {'iterations': 1858, 'learning_rate': 0.06520726194824902, 'depth': 6, 'l2_leaf_reg': 0.02323383329794624, 'bootstrap_type': 'Bernoulli', 'od_type': 'IncToDec', 'random_strength': 45, 'border_count': 51, 'boosting_type': 'Plain'}. Best is trial 309 with value: 0.8325344175289153.\n"
     ]
    },
    {
     "name": "stdout",
     "output_type": "stream",
     "text": [
      "Score: 0.8319908242085665\n",
      "Fold 1\n",
      "Fold 2\n",
      "Fold 3\n"
     ]
    },
    {
     "name": "stderr",
     "output_type": "stream",
     "text": [
      "[I 2024-06-12 21:23:10,915] Trial 445 finished with value: 0.8303106066082231 and parameters: {'iterations': 1846, 'learning_rate': 0.059038770525097234, 'depth': 6, 'l2_leaf_reg': 93.04273263978622, 'bootstrap_type': 'Bayesian', 'od_type': 'IncToDec', 'random_strength': 24, 'border_count': 44, 'boosting_type': 'Plain'}. Best is trial 309 with value: 0.8325344175289153.\n"
     ]
    },
    {
     "name": "stdout",
     "output_type": "stream",
     "text": [
      "Score: 0.8303106066082231\n",
      "Fold 1\n",
      "Fold 2\n",
      "Fold 3\n"
     ]
    },
    {
     "name": "stderr",
     "output_type": "stream",
     "text": [
      "[I 2024-06-12 21:23:56,096] Trial 446 finished with value: 0.8303723697721118 and parameters: {'iterations': 1810, 'learning_rate': 0.07352761794427808, 'depth': 6, 'l2_leaf_reg': 0.01628133892555163, 'bootstrap_type': 'MVS', 'od_type': 'IncToDec', 'random_strength': 21, 'border_count': 51, 'boosting_type': 'Plain'}. Best is trial 309 with value: 0.8325344175289153.\n"
     ]
    },
    {
     "name": "stdout",
     "output_type": "stream",
     "text": [
      "Score: 0.8303723697721118\n",
      "Fold 1\n",
      "Fold 2\n",
      "Fold 3\n"
     ]
    },
    {
     "name": "stderr",
     "output_type": "stream",
     "text": [
      "[I 2024-06-12 21:24:33,746] Trial 447 finished with value: 0.7955573075442165 and parameters: {'iterations': 1729, 'learning_rate': 0.002743120502269012, 'depth': 6, 'l2_leaf_reg': 5.215389924226058, 'bootstrap_type': 'Bernoulli', 'od_type': 'IncToDec', 'random_strength': 51, 'border_count': 53, 'boosting_type': 'Plain'}. Best is trial 309 with value: 0.8325344175289153.\n"
     ]
    },
    {
     "name": "stdout",
     "output_type": "stream",
     "text": [
      "Score: 0.7955573075442165\n",
      "Fold 1\n",
      "Fold 2\n",
      "Fold 3\n"
     ]
    },
    {
     "name": "stderr",
     "output_type": "stream",
     "text": [
      "[I 2024-06-12 21:25:08,940] Trial 448 finished with value: 0.8316325299959639 and parameters: {'iterations': 1864, 'learning_rate': 0.06643617011256038, 'depth': 5, 'l2_leaf_reg': 0.0261108538768396, 'bootstrap_type': 'Bayesian', 'od_type': 'IncToDec', 'random_strength': 47, 'border_count': 45, 'boosting_type': 'Plain'}. Best is trial 309 with value: 0.8325344175289153.\n"
     ]
    },
    {
     "name": "stdout",
     "output_type": "stream",
     "text": [
      "Score: 0.8316325299959639\n",
      "Fold 1\n",
      "Fold 2\n",
      "Fold 3\n"
     ]
    },
    {
     "name": "stderr",
     "output_type": "stream",
     "text": [
      "[I 2024-06-12 21:25:50,403] Trial 449 finished with value: 0.8297299497114751 and parameters: {'iterations': 1765, 'learning_rate': 0.0835492156395365, 'depth': 6, 'l2_leaf_reg': 0.006618500912275401, 'bootstrap_type': 'Bernoulli', 'od_type': 'IncToDec', 'random_strength': 45, 'border_count': 97, 'boosting_type': 'Plain'}. Best is trial 309 with value: 0.8325344175289153.\n"
     ]
    },
    {
     "name": "stdout",
     "output_type": "stream",
     "text": [
      "Score: 0.8297299497114751\n",
      "Fold 1\n",
      "Fold 2\n",
      "Fold 3\n"
     ]
    },
    {
     "name": "stderr",
     "output_type": "stream",
     "text": [
      "[I 2024-06-12 21:26:30,978] Trial 450 finished with value: 0.7879098596384809 and parameters: {'iterations': 1821, 'learning_rate': 0.001875768195655387, 'depth': 6, 'l2_leaf_reg': 26.827330485940735, 'bootstrap_type': 'Bayesian', 'od_type': 'IncToDec', 'random_strength': 46, 'border_count': 105, 'boosting_type': 'Plain'}. Best is trial 309 with value: 0.8325344175289153.\n"
     ]
    },
    {
     "name": "stdout",
     "output_type": "stream",
     "text": [
      "Score: 0.7879098596384809\n",
      "Fold 1\n",
      "Fold 2\n",
      "Fold 3\n"
     ]
    },
    {
     "name": "stderr",
     "output_type": "stream",
     "text": [
      "[I 2024-06-12 21:27:07,236] Trial 451 finished with value: 0.8221936673499669 and parameters: {'iterations': 1628, 'learning_rate': 0.010235058592303616, 'depth': 6, 'l2_leaf_reg': 0.00196512122156252, 'bootstrap_type': 'Bayesian', 'od_type': 'IncToDec', 'random_strength': 44, 'border_count': 39, 'boosting_type': 'Plain'}. Best is trial 309 with value: 0.8325344175289153.\n"
     ]
    },
    {
     "name": "stdout",
     "output_type": "stream",
     "text": [
      "Score: 0.8221936673499669\n",
      "Fold 1\n",
      "Fold 2\n",
      "Fold 3\n"
     ]
    },
    {
     "name": "stderr",
     "output_type": "stream",
     "text": [
      "[I 2024-06-12 21:27:50,351] Trial 452 finished with value: 0.8321390789720726 and parameters: {'iterations': 1881, 'learning_rate': 0.04930548145851093, 'depth': 6, 'l2_leaf_reg': 2.1052458111069337, 'bootstrap_type': 'Bernoulli', 'od_type': 'IncToDec', 'random_strength': 49, 'border_count': 91, 'boosting_type': 'Plain'}. Best is trial 309 with value: 0.8325344175289153.\n"
     ]
    },
    {
     "name": "stdout",
     "output_type": "stream",
     "text": [
      "Score: 0.8321390789720726\n",
      "Fold 1\n",
      "Fold 2\n",
      "Fold 3\n"
     ]
    },
    {
     "name": "stderr",
     "output_type": "stream",
     "text": [
      "[I 2024-06-12 21:28:47,731] Trial 453 finished with value: 0.8313978074440858 and parameters: {'iterations': 1892, 'learning_rate': 0.060983711226838794, 'depth': 7, 'l2_leaf_reg': 7.035749059813523, 'bootstrap_type': 'Bernoulli', 'od_type': 'IncToDec', 'random_strength': 49, 'border_count': 92, 'boosting_type': 'Plain'}. Best is trial 309 with value: 0.8325344175289153.\n"
     ]
    },
    {
     "name": "stdout",
     "output_type": "stream",
     "text": [
      "Score: 0.8313978074440858\n",
      "Fold 1\n",
      "Fold 2\n",
      "Fold 3\n"
     ]
    },
    {
     "name": "stderr",
     "output_type": "stream",
     "text": [
      "[I 2024-06-12 21:29:26,112] Trial 454 finished with value: 0.8307059479125173 and parameters: {'iterations': 1704, 'learning_rate': 0.049384417050553485, 'depth': 6, 'l2_leaf_reg': 3.574063687743339, 'bootstrap_type': 'Bernoulli', 'od_type': 'IncToDec', 'random_strength': 52, 'border_count': 88, 'boosting_type': 'Plain'}. Best is trial 309 with value: 0.8325344175289153.\n"
     ]
    },
    {
     "name": "stdout",
     "output_type": "stream",
     "text": [
      "Score: 0.8307059479125173\n",
      "Fold 1\n",
      "Fold 2\n",
      "Fold 3\n"
     ]
    },
    {
     "name": "stderr",
     "output_type": "stream",
     "text": [
      "[I 2024-06-12 21:30:12,253] Trial 455 finished with value: 0.8321390707297186 and parameters: {'iterations': 1968, 'learning_rate': 0.04821748873511564, 'depth': 6, 'l2_leaf_reg': 2.3092649624905157e-05, 'bootstrap_type': 'Bernoulli', 'od_type': 'IncToDec', 'random_strength': 29, 'border_count': 94, 'boosting_type': 'Plain'}. Best is trial 309 with value: 0.8325344175289153.\n"
     ]
    },
    {
     "name": "stdout",
     "output_type": "stream",
     "text": [
      "Score: 0.8321390707297186\n",
      "Fold 1\n",
      "Fold 2\n",
      "Fold 3\n"
     ]
    },
    {
     "name": "stderr",
     "output_type": "stream",
     "text": [
      "[I 2024-06-12 21:30:59,503] Trial 456 finished with value: 0.8299152556878493 and parameters: {'iterations': 1998, 'learning_rate': 0.06880486422705565, 'depth': 6, 'l2_leaf_reg': 2.2343957887428315e-05, 'bootstrap_type': 'Bernoulli', 'od_type': 'IncToDec', 'random_strength': 27, 'border_count': 96, 'boosting_type': 'Plain'}. Best is trial 309 with value: 0.8325344175289153.\n"
     ]
    },
    {
     "name": "stdout",
     "output_type": "stream",
     "text": [
      "Score: 0.8299152556878493\n",
      "Fold 1\n",
      "Fold 2\n",
      "Fold 3\n"
     ]
    },
    {
     "name": "stderr",
     "output_type": "stream",
     "text": [
      "[I 2024-06-12 21:32:38,686] Trial 457 finished with value: 0.8287662848194696 and parameters: {'iterations': 1972, 'learning_rate': 0.05351059437828385, 'depth': 8, 'l2_leaf_reg': 1.5027720675952568e-05, 'bootstrap_type': 'Bernoulli', 'od_type': 'IncToDec', 'random_strength': 28, 'border_count': 88, 'boosting_type': 'Plain'}. Best is trial 309 with value: 0.8325344175289153.\n"
     ]
    },
    {
     "name": "stdout",
     "output_type": "stream",
     "text": [
      "Score: 0.8287662848194696\n",
      "Fold 1\n",
      "Fold 2\n",
      "Fold 3\n"
     ]
    },
    {
     "name": "stderr",
     "output_type": "stream",
     "text": [
      "[I 2024-06-12 21:33:22,985] Trial 458 finished with value: 0.7749870386693792 and parameters: {'iterations': 1950, 'learning_rate': 0.0007273874178089475, 'depth': 6, 'l2_leaf_reg': 2.9990169365980668e-05, 'bootstrap_type': 'Bernoulli', 'od_type': 'IncToDec', 'random_strength': 30, 'border_count': 82, 'boosting_type': 'Plain'}. Best is trial 309 with value: 0.8325344175289153.\n"
     ]
    },
    {
     "name": "stdout",
     "output_type": "stream",
     "text": [
      "Score: 0.7749870386693792\n",
      "Fold 1\n",
      "Fold 2\n",
      "Fold 3\n"
     ]
    },
    {
     "name": "stderr",
     "output_type": "stream",
     "text": [
      "[I 2024-06-12 21:34:05,976] Trial 459 finished with value: 0.735983779944827 and parameters: {'iterations': 1916, 'learning_rate': 3.504246011833944e-05, 'depth': 6, 'l2_leaf_reg': 2.3584647869527866, 'bootstrap_type': 'Bernoulli', 'od_type': 'IncToDec', 'random_strength': 50, 'border_count': 99, 'boosting_type': 'Plain'}. Best is trial 309 with value: 0.8325344175289153.\n"
     ]
    },
    {
     "name": "stdout",
     "output_type": "stream",
     "text": [
      "Score: 0.735983779944827\n",
      "Fold 1\n",
      "Fold 2\n",
      "Fold 3\n"
     ]
    },
    {
     "name": "stderr",
     "output_type": "stream",
     "text": [
      "[I 2024-06-12 21:34:49,846] Trial 460 finished with value: 0.7397766168208477 and parameters: {'iterations': 1965, 'learning_rate': 0.0003744382597208664, 'depth': 6, 'l2_leaf_reg': 1.4283523307491506e-05, 'bootstrap_type': 'Bernoulli', 'od_type': 'IncToDec', 'random_strength': 49, 'border_count': 90, 'boosting_type': 'Plain'}. Best is trial 309 with value: 0.8325344175289153.\n"
     ]
    },
    {
     "name": "stdout",
     "output_type": "stream",
     "text": [
      "Score: 0.7397766168208477\n",
      "Fold 1\n",
      "Fold 2\n",
      "Fold 3\n"
     ]
    },
    {
     "name": "stderr",
     "output_type": "stream",
     "text": [
      "[I 2024-06-12 21:35:34,252] Trial 461 finished with value: 0.8297670018401605 and parameters: {'iterations': 1888, 'learning_rate': 0.08318543088142881, 'depth': 6, 'l2_leaf_reg': 2.033181786969416e-05, 'bootstrap_type': 'Bernoulli', 'od_type': 'IncToDec', 'random_strength': 25, 'border_count': 83, 'boosting_type': 'Plain'}. Best is trial 309 with value: 0.8325344175289153.\n"
     ]
    },
    {
     "name": "stdout",
     "output_type": "stream",
     "text": [
      "Score: 0.8297670018401605\n",
      "Fold 1\n",
      "Fold 2\n",
      "Fold 3\n"
     ]
    },
    {
     "name": "stderr",
     "output_type": "stream",
     "text": [
      "[I 2024-06-12 21:36:19,475] Trial 462 finished with value: 0.831595479241004 and parameters: {'iterations': 2000, 'learning_rate': 0.04672761056607198, 'depth': 6, 'l2_leaf_reg': 1.210613611308808, 'bootstrap_type': 'Bernoulli', 'od_type': 'IncToDec', 'random_strength': 29, 'border_count': 47, 'boosting_type': 'Plain'}. Best is trial 309 with value: 0.8325344175289153.\n"
     ]
    },
    {
     "name": "stdout",
     "output_type": "stream",
     "text": [
      "Score: 0.831595479241004\n",
      "Fold 1\n",
      "Fold 2\n",
      "Fold 3\n"
     ]
    },
    {
     "name": "stderr",
     "output_type": "stream",
     "text": [
      "[I 2024-06-12 21:37:02,745] Trial 463 finished with value: 0.7385658864518477 and parameters: {'iterations': 1916, 'learning_rate': 7.123977978415724e-05, 'depth': 6, 'l2_leaf_reg': 2.3934976502019127, 'bootstrap_type': 'Bernoulli', 'od_type': 'IncToDec', 'random_strength': 32, 'border_count': 55, 'boosting_type': 'Plain'}. Best is trial 309 with value: 0.8325344175289153.\n"
     ]
    },
    {
     "name": "stdout",
     "output_type": "stream",
     "text": [
      "Score: 0.7385658864518477\n",
      "Fold 1\n",
      "Fold 2\n",
      "Fold 3\n"
     ]
    },
    {
     "name": "stderr",
     "output_type": "stream",
     "text": [
      "[I 2024-06-12 21:46:05,426] Trial 464 finished with value: 0.7929628649807078 and parameters: {'iterations': 1942, 'learning_rate': 0.0011421031182562102, 'depth': 11, 'l2_leaf_reg': 0.019063921593464588, 'bootstrap_type': 'Bernoulli', 'od_type': 'IncToDec', 'random_strength': 47, 'border_count': 78, 'boosting_type': 'Plain'}. Best is trial 309 with value: 0.8325344175289153.\n"
     ]
    },
    {
     "name": "stdout",
     "output_type": "stream",
     "text": [
      "Score: 0.7929628649807078\n",
      "Fold 1\n",
      "Fold 2\n",
      "Fold 3\n"
     ]
    },
    {
     "name": "stderr",
     "output_type": "stream",
     "text": [
      "[I 2024-06-12 21:46:42,263] Trial 465 finished with value: 0.8154357461936329 and parameters: {'iterations': 1861, 'learning_rate': 0.0072744552317785035, 'depth': 6, 'l2_leaf_reg': 14.079782610579102, 'bootstrap_type': 'Bernoulli', 'od_type': 'IncToDec', 'random_strength': 42, 'border_count': 94, 'boosting_type': 'Plain'}. Best is trial 309 with value: 0.8325344175289153.\n"
     ]
    },
    {
     "name": "stdout",
     "output_type": "stream",
     "text": [
      "Score: 0.8154357461936329\n",
      "Fold 1\n",
      "Fold 2\n",
      "Fold 3\n"
     ]
    },
    {
     "name": "stderr",
     "output_type": "stream",
     "text": [
      "[I 2024-06-12 21:47:21,043] Trial 466 finished with value: 0.806552835361992 and parameters: {'iterations': 1905, 'learning_rate': 0.004167195839307341, 'depth': 6, 'l2_leaf_reg': 1.2365771728214994, 'bootstrap_type': 'Bernoulli', 'od_type': 'IncToDec', 'random_strength': 48, 'border_count': 85, 'boosting_type': 'Plain'}. Best is trial 309 with value: 0.8325344175289153.\n"
     ]
    },
    {
     "name": "stdout",
     "output_type": "stream",
     "text": [
      "Score: 0.806552835361992\n",
      "Fold 1\n",
      "Fold 2\n",
      "Fold 3\n"
     ]
    },
    {
     "name": "stderr",
     "output_type": "stream",
     "text": [
      "[I 2024-06-12 21:47:54,229] Trial 467 finished with value: 0.8107780890243284 and parameters: {'iterations': 1961, 'learning_rate': 0.005335350289467978, 'depth': 5, 'l2_leaf_reg': 5.198485384633196, 'bootstrap_type': 'Bernoulli', 'od_type': 'IncToDec', 'random_strength': 31, 'border_count': 77, 'boosting_type': 'Plain'}. Best is trial 309 with value: 0.8325344175289153.\n"
     ]
    },
    {
     "name": "stdout",
     "output_type": "stream",
     "text": [
      "Score: 0.8107780890243284\n",
      "Fold 1\n",
      "Fold 2\n",
      "Fold 3\n"
     ]
    },
    {
     "name": "stderr",
     "output_type": "stream",
     "text": [
      "[I 2024-06-12 21:48:33,466] Trial 468 finished with value: 0.8287539373152676 and parameters: {'iterations': 1875, 'learning_rate': 0.0174983283585961, 'depth': 6, 'l2_leaf_reg': 0.0121484718939712, 'bootstrap_type': 'Bernoulli', 'od_type': 'IncToDec', 'random_strength': 46, 'border_count': 51, 'boosting_type': 'Plain'}. Best is trial 309 with value: 0.8325344175289153.\n"
     ]
    },
    {
     "name": "stdout",
     "output_type": "stream",
     "text": [
      "Score: 0.8287539373152676\n",
      "Fold 1\n",
      "Fold 2\n",
      "Fold 3\n"
     ]
    },
    {
     "name": "stderr",
     "output_type": "stream",
     "text": [
      "[I 2024-06-12 21:49:27,792] Trial 469 finished with value: 0.8316078203344862 and parameters: {'iterations': 1950, 'learning_rate': 0.060435852351141794, 'depth': 7, 'l2_leaf_reg': 9.07065683497373, 'bootstrap_type': 'Bernoulli', 'od_type': 'IncToDec', 'random_strength': 27, 'border_count': 102, 'boosting_type': 'Plain'}. Best is trial 309 with value: 0.8325344175289153.\n"
     ]
    },
    {
     "name": "stdout",
     "output_type": "stream",
     "text": [
      "Score: 0.8316078203344862\n",
      "Fold 1\n",
      "Fold 2\n",
      "Fold 3\n"
     ]
    },
    {
     "name": "stderr",
     "output_type": "stream",
     "text": [
      "[I 2024-06-12 21:50:07,355] Trial 470 finished with value: 0.8312248425611936 and parameters: {'iterations': 1831, 'learning_rate': 0.03263282217790509, 'depth': 6, 'l2_leaf_reg': 3.857852093244445e-05, 'bootstrap_type': 'Bernoulli', 'od_type': 'IncToDec', 'random_strength': 53, 'border_count': 90, 'boosting_type': 'Plain'}. Best is trial 309 with value: 0.8325344175289153.\n"
     ]
    },
    {
     "name": "stdout",
     "output_type": "stream",
     "text": [
      "Score: 0.8312248425611936\n",
      "Fold 1\n",
      "Fold 2\n",
      "Fold 3\n"
     ]
    },
    {
     "name": "stderr",
     "output_type": "stream",
     "text": [
      "[I 2024-06-12 21:50:59,516] Trial 471 finished with value: 0.8316078221661205 and parameters: {'iterations': 1906, 'learning_rate': 0.045656988513244616, 'depth': 6, 'l2_leaf_reg': 0.026592739534728665, 'bootstrap_type': 'Bernoulli', 'od_type': 'IncToDec', 'random_strength': 34, 'border_count': 57, 'boosting_type': 'Plain'}. Best is trial 309 with value: 0.8325344175289153.\n"
     ]
    },
    {
     "name": "stdout",
     "output_type": "stream",
     "text": [
      "Score: 0.8316078221661205\n",
      "Fold 1\n",
      "Fold 2\n",
      "Fold 3\n"
     ]
    },
    {
     "name": "stderr",
     "output_type": "stream",
     "text": [
      "[I 2024-06-12 21:51:53,983] Trial 472 finished with value: 0.7872797669340698 and parameters: {'iterations': 2000, 'learning_rate': 0.0014272857642918912, 'depth': 6, 'l2_leaf_reg': 0.0508831864150888, 'bootstrap_type': 'Bernoulli', 'od_type': 'IncToDec', 'random_strength': 41, 'border_count': 73, 'boosting_type': 'Plain'}. Best is trial 309 with value: 0.8325344175289153.\n"
     ]
    },
    {
     "name": "stdout",
     "output_type": "stream",
     "text": [
      "Score: 0.7872797669340698\n",
      "Fold 1\n",
      "Fold 2\n",
      "Fold 3\n"
     ]
    },
    {
     "name": "stderr",
     "output_type": "stream",
     "text": [
      "[I 2024-06-12 21:53:48,376] Trial 473 finished with value: 0.8285068320002288 and parameters: {'iterations': 1930, 'learning_rate': 0.055103113853704824, 'depth': 8, 'l2_leaf_reg': 0.004511908960254334, 'bootstrap_type': 'Bernoulli', 'od_type': 'IncToDec', 'random_strength': 44, 'border_count': 82, 'boosting_type': 'Plain'}. Best is trial 309 with value: 0.8325344175289153.\n"
     ]
    },
    {
     "name": "stdout",
     "output_type": "stream",
     "text": [
      "Score: 0.8285068320002288\n",
      "Fold 1\n",
      "Fold 2\n",
      "Fold 3\n"
     ]
    },
    {
     "name": "stderr",
     "output_type": "stream",
     "text": [
      "[I 2024-06-12 21:54:23,603] Trial 474 finished with value: 0.8314842962962515 and parameters: {'iterations': 1340, 'learning_rate': 0.09943554579072576, 'depth': 6, 'l2_leaf_reg': 2.090253149984479, 'bootstrap_type': 'Bernoulli', 'od_type': 'IncToDec', 'random_strength': 29, 'border_count': 48, 'boosting_type': 'Plain'}. Best is trial 309 with value: 0.8325344175289153.\n"
     ]
    },
    {
     "name": "stdout",
     "output_type": "stream",
     "text": [
      "Score: 0.8314842962962515\n",
      "Fold 1\n",
      "Fold 2\n",
      "Fold 3\n"
     ]
    },
    {
     "name": "stderr",
     "output_type": "stream",
     "text": [
      "[I 2024-06-12 21:55:11,495] Trial 475 finished with value: 0.8298040754905479 and parameters: {'iterations': 1867, 'learning_rate': 0.023379780598307205, 'depth': 6, 'l2_leaf_reg': 4.060472266123535, 'bootstrap_type': 'Bernoulli', 'od_type': 'IncToDec', 'random_strength': 40, 'border_count': 58, 'boosting_type': 'Plain'}. Best is trial 309 with value: 0.8325344175289153.\n"
     ]
    },
    {
     "name": "stdout",
     "output_type": "stream",
     "text": [
      "Score: 0.8298040754905479\n",
      "Fold 1\n",
      "Fold 2\n",
      "Fold 3\n"
     ]
    },
    {
     "name": "stderr",
     "output_type": "stream",
     "text": [
      "[I 2024-06-12 21:56:02,664] Trial 476 finished with value: 0.8314225106948435 and parameters: {'iterations': 1964, 'learning_rate': 0.03816546409848755, 'depth': 6, 'l2_leaf_reg': 0.0016621666678323535, 'bootstrap_type': 'Bernoulli', 'od_type': 'IncToDec', 'random_strength': 50, 'border_count': 75, 'boosting_type': 'Plain'}. Best is trial 309 with value: 0.8325344175289153.\n"
     ]
    },
    {
     "name": "stdout",
     "output_type": "stream",
     "text": [
      "Score: 0.8314225106948435\n",
      "Fold 1\n",
      "Fold 2\n",
      "Fold 3\n"
     ]
    },
    {
     "name": "stderr",
     "output_type": "stream",
     "text": [
      "[I 2024-06-12 21:56:49,612] Trial 477 finished with value: 0.8312619139220384 and parameters: {'iterations': 1789, 'learning_rate': 0.06807274044173778, 'depth': 6, 'l2_leaf_reg': 7.627143426094499, 'bootstrap_type': 'MVS', 'od_type': 'IncToDec', 'random_strength': 46, 'border_count': 63, 'boosting_type': 'Plain'}. Best is trial 309 with value: 0.8325344175289153.\n"
     ]
    },
    {
     "name": "stdout",
     "output_type": "stream",
     "text": [
      "Score: 0.8312619139220384\n",
      "Fold 1\n",
      "Fold 2\n",
      "Fold 3\n"
     ]
    },
    {
     "name": "stderr",
     "output_type": "stream",
     "text": [
      "[I 2024-06-12 21:56:57,047] Trial 478 finished with value: 0.8136814060195761 and parameters: {'iterations': 263, 'learning_rate': 0.045059983207209144, 'depth': 6, 'l2_leaf_reg': 0.6699487844556676, 'bootstrap_type': 'Bernoulli', 'od_type': 'IncToDec', 'random_strength': 32, 'border_count': 39, 'boosting_type': 'Plain'}. Best is trial 309 with value: 0.8325344175289153.\n"
     ]
    },
    {
     "name": "stdout",
     "output_type": "stream",
     "text": [
      "Score: 0.8136814060195761\n",
      "Fold 1\n",
      "Fold 2\n",
      "Fold 3\n"
     ]
    },
    {
     "name": "stderr",
     "output_type": "stream",
     "text": [
      "[I 2024-06-12 21:57:41,475] Trial 479 finished with value: 0.8114823061340871 and parameters: {'iterations': 1827, 'learning_rate': 0.005863392520653809, 'depth': 6, 'l2_leaf_reg': 0.0006127385418940971, 'bootstrap_type': 'Bernoulli', 'od_type': 'Iter', 'random_strength': 43, 'border_count': 83, 'boosting_type': 'Plain'}. Best is trial 309 with value: 0.8325344175289153.\n"
     ]
    },
    {
     "name": "stdout",
     "output_type": "stream",
     "text": [
      "Score: 0.8114823061340871\n",
      "Fold 1\n",
      "Fold 2\n",
      "Fold 3\n"
     ]
    },
    {
     "name": "stderr",
     "output_type": "stream",
     "text": [
      "[I 2024-06-12 21:58:22,226] Trial 480 finished with value: 0.8307553663196554 and parameters: {'iterations': 1909, 'learning_rate': 0.030995254980745717, 'depth': 5, 'l2_leaf_reg': 9.359213949366462e-05, 'bootstrap_type': 'Bernoulli', 'od_type': 'Iter', 'random_strength': 35, 'border_count': 30, 'boosting_type': 'Plain'}. Best is trial 309 with value: 0.8325344175289153.\n"
     ]
    },
    {
     "name": "stdout",
     "output_type": "stream",
     "text": [
      "Score: 0.8307553663196554\n",
      "Fold 1\n",
      "Fold 2\n",
      "Fold 3\n"
     ]
    },
    {
     "name": "stderr",
     "output_type": "stream",
     "text": [
      "[I 2024-06-12 21:59:23,530] Trial 481 finished with value: 0.8072817598436854 and parameters: {'iterations': 2000, 'learning_rate': 0.003324816392857846, 'depth': 7, 'l2_leaf_reg': 2.741193671291745e-05, 'bootstrap_type': 'Bernoulli', 'od_type': 'Iter', 'random_strength': 41, 'border_count': 95, 'boosting_type': 'Plain'}. Best is trial 309 with value: 0.8325344175289153.\n"
     ]
    },
    {
     "name": "stdout",
     "output_type": "stream",
     "text": [
      "Score: 0.8072817598436854\n",
      "Fold 1\n",
      "Fold 2\n",
      "Fold 3\n"
     ]
    },
    {
     "name": "stderr",
     "output_type": "stream",
     "text": [
      "[I 2024-06-12 21:59:54,033] Trial 482 finished with value: 0.8312001356471672 and parameters: {'iterations': 1418, 'learning_rate': 0.05101709477025111, 'depth': 6, 'l2_leaf_reg': 1.9303632020782177e-05, 'bootstrap_type': 'Bernoulli', 'od_type': 'IncToDec', 'random_strength': 38, 'border_count': 69, 'boosting_type': 'Plain'}. Best is trial 309 with value: 0.8325344175289153.\n"
     ]
    },
    {
     "name": "stdout",
     "output_type": "stream",
     "text": [
      "Score: 0.8312001356471672\n",
      "Fold 1\n",
      "Fold 2\n",
      "Fold 3\n"
     ]
    },
    {
     "name": "stderr",
     "output_type": "stream",
     "text": [
      "[I 2024-06-12 22:00:20,282] Trial 483 finished with value: 0.8307059579865054 and parameters: {'iterations': 1223, 'learning_rate': 0.03755119413671315, 'depth': 6, 'l2_leaf_reg': 0.03430137184334265, 'bootstrap_type': 'Bernoulli', 'od_type': 'Iter', 'random_strength': 48, 'border_count': 52, 'boosting_type': 'Plain'}. Best is trial 309 with value: 0.8325344175289153.\n"
     ]
    },
    {
     "name": "stdout",
     "output_type": "stream",
     "text": [
      "Score: 0.8307059579865054\n",
      "Fold 1\n",
      "Fold 2\n",
      "Fold 3\n"
     ]
    },
    {
     "name": "stderr",
     "output_type": "stream",
     "text": [
      "[I 2024-06-12 22:00:57,677] Trial 484 finished with value: 0.8282473997868728 and parameters: {'iterations': 1761, 'learning_rate': 0.015625589309132597, 'depth': 6, 'l2_leaf_reg': 0.0011000763245057246, 'bootstrap_type': 'Bernoulli', 'od_type': 'Iter', 'random_strength': 44, 'border_count': 89, 'boosting_type': 'Plain'}. Best is trial 309 with value: 0.8325344175289153.\n"
     ]
    },
    {
     "name": "stdout",
     "output_type": "stream",
     "text": [
      "Score: 0.8282473997868728\n",
      "Fold 1\n",
      "Fold 2\n",
      "Fold 3\n"
     ]
    },
    {
     "name": "stderr",
     "output_type": "stream",
     "text": [
      "[I 2024-06-12 22:01:37,544] Trial 485 finished with value: 0.8312248398137422 and parameters: {'iterations': 1873, 'learning_rate': 0.06140580604238663, 'depth': 6, 'l2_leaf_reg': 0.9042798165042574, 'bootstrap_type': 'Bayesian', 'od_type': 'Iter', 'random_strength': 30, 'border_count': 79, 'boosting_type': 'Plain'}. Best is trial 309 with value: 0.8325344175289153.\n"
     ]
    },
    {
     "name": "stdout",
     "output_type": "stream",
     "text": [
      "Score: 0.8312248398137422\n",
      "Fold 1\n",
      "Fold 2\n",
      "Fold 3\n"
     ]
    },
    {
     "name": "stderr",
     "output_type": "stream",
     "text": [
      "[I 2024-06-12 22:02:02,481] Trial 486 finished with value: 0.8307306543686348 and parameters: {'iterations': 1152, 'learning_rate': 0.07420704004605477, 'depth': 6, 'l2_leaf_reg': 0.10755609194874781, 'bootstrap_type': 'Bernoulli', 'od_type': 'Iter', 'random_strength': 40, 'border_count': 61, 'boosting_type': 'Plain'}. Best is trial 309 with value: 0.8325344175289153.\n"
     ]
    },
    {
     "name": "stdout",
     "output_type": "stream",
     "text": [
      "Score: 0.8307306543686348\n",
      "Fold 1\n",
      "Fold 2\n",
      "Fold 3\n"
     ]
    },
    {
     "name": "stderr",
     "output_type": "stream",
     "text": [
      "[I 2024-06-12 22:07:15,046] Trial 487 finished with value: 0.8293469508743888 and parameters: {'iterations': 1944, 'learning_rate': 0.028863203535372285, 'depth': 10, 'l2_leaf_reg': 0.013661630724235093, 'bootstrap_type': 'Bayesian', 'od_type': 'IncToDec', 'random_strength': 42, 'border_count': 67, 'boosting_type': 'Plain'}. Best is trial 309 with value: 0.8325344175289153.\n"
     ]
    },
    {
     "name": "stdout",
     "output_type": "stream",
     "text": [
      "Score: 0.8293469508743888\n",
      "Fold 1\n",
      "Fold 2\n",
      "Fold 3\n"
     ]
    },
    {
     "name": "stderr",
     "output_type": "stream",
     "text": [
      "[I 2024-06-12 22:24:52,945] Trial 488 finished with value: 0.8249240244993166 and parameters: {'iterations': 1825, 'learning_rate': 0.046978544546796126, 'depth': 12, 'l2_leaf_reg': 0.0211437420886848, 'bootstrap_type': 'Bernoulli', 'od_type': 'Iter', 'random_strength': 45, 'border_count': 57, 'boosting_type': 'Plain'}. Best is trial 309 with value: 0.8325344175289153.\n"
     ]
    },
    {
     "name": "stdout",
     "output_type": "stream",
     "text": [
      "Score: 0.8249240244993166\n",
      "Fold 1\n",
      "Fold 2\n",
      "Fold 3\n"
     ]
    },
    {
     "name": "stderr",
     "output_type": "stream",
     "text": [
      "[I 2024-06-12 22:25:28,046] Trial 489 finished with value: 0.7901583834260109 and parameters: {'iterations': 1902, 'learning_rate': 0.001400451087932917, 'depth': 6, 'l2_leaf_reg': 0.2104525131995281, 'bootstrap_type': 'Bayesian', 'od_type': 'Iter', 'random_strength': 33, 'border_count': 74, 'boosting_type': 'Plain'}. Best is trial 309 with value: 0.8325344175289153.\n"
     ]
    },
    {
     "name": "stdout",
     "output_type": "stream",
     "text": [
      "Score: 0.7901583834260109\n",
      "Fold 1\n",
      "Fold 2\n",
      "Fold 3\n"
     ]
    },
    {
     "name": "stderr",
     "output_type": "stream",
     "text": [
      "[I 2024-06-12 22:26:01,625] Trial 490 finished with value: 0.761137595320878 and parameters: {'iterations': 1798, 'learning_rate': 0.0006472869109790129, 'depth': 6, 'l2_leaf_reg': 0.0027862158720903954, 'bootstrap_type': 'Bernoulli', 'od_type': 'Iter', 'random_strength': 37, 'border_count': 46, 'boosting_type': 'Plain'}. Best is trial 309 with value: 0.8325344175289153.\n"
     ]
    },
    {
     "name": "stdout",
     "output_type": "stream",
     "text": [
      "Score: 0.761137595320878\n",
      "Fold 1\n",
      "Fold 2\n",
      "Fold 3\n"
     ]
    },
    {
     "name": "stderr",
     "output_type": "stream",
     "text": [
      "[I 2024-06-12 22:26:39,490] Trial 491 finished with value: 0.8313483867474049 and parameters: {'iterations': 1952, 'learning_rate': 0.040461134988575356, 'depth': 6, 'l2_leaf_reg': 0.5364016642054223, 'bootstrap_type': 'Bayesian', 'od_type': 'IncToDec', 'random_strength': 46, 'border_count': 86, 'boosting_type': 'Plain'}. Best is trial 309 with value: 0.8325344175289153.\n"
     ]
    },
    {
     "name": "stdout",
     "output_type": "stream",
     "text": [
      "Score: 0.8313483867474049\n",
      "Fold 1\n",
      "Fold 2\n",
      "Fold 3\n"
     ]
    },
    {
     "name": "stderr",
     "output_type": "stream",
     "text": [
      "[I 2024-06-12 22:27:26,190] Trial 492 finished with value: 0.8312495407749573 and parameters: {'iterations': 1684, 'learning_rate': 0.055449248744680206, 'depth': 7, 'l2_leaf_reg': 1.2003556969901455e-05, 'bootstrap_type': 'MVS', 'od_type': 'Iter', 'random_strength': 42, 'border_count': 93, 'boosting_type': 'Plain'}. Best is trial 309 with value: 0.8325344175289153.\n"
     ]
    },
    {
     "name": "stdout",
     "output_type": "stream",
     "text": [
      "Score: 0.8312495407749573\n",
      "Fold 1\n",
      "Fold 2\n",
      "Fold 3\n"
     ]
    },
    {
     "name": "stderr",
     "output_type": "stream",
     "text": [
      "[I 2024-06-12 22:28:03,024] Trial 493 finished with value: 0.8268636843870043 and parameters: {'iterations': 1866, 'learning_rate': 0.012909149754739955, 'depth': 6, 'l2_leaf_reg': 0.009000350786746287, 'bootstrap_type': 'Bayesian', 'od_type': 'Iter', 'random_strength': 26, 'border_count': 71, 'boosting_type': 'Plain'}. Best is trial 309 with value: 0.8325344175289153.\n"
     ]
    },
    {
     "name": "stdout",
     "output_type": "stream",
     "text": [
      "Score: 0.8268636843870043\n",
      "Fold 1\n",
      "Fold 2\n",
      "Fold 3\n"
     ]
    },
    {
     "name": "stderr",
     "output_type": "stream",
     "text": [
      "[I 2024-06-12 22:28:37,884] Trial 494 finished with value: 0.8307306649005316 and parameters: {'iterations': 1737, 'learning_rate': 0.03415205189138559, 'depth': 6, 'l2_leaf_reg': 0.0046215668782422685, 'bootstrap_type': 'Bernoulli', 'od_type': 'Iter', 'random_strength': 35, 'border_count': 53, 'boosting_type': 'Plain'}. Best is trial 309 with value: 0.8325344175289153.\n"
     ]
    },
    {
     "name": "stdout",
     "output_type": "stream",
     "text": [
      "Score: 0.8307306649005316\n",
      "Fold 1\n",
      "Fold 2\n",
      "Fold 3\n"
     ]
    },
    {
     "name": "stderr",
     "output_type": "stream",
     "text": [
      "[I 2024-06-12 22:29:15,414] Trial 495 finished with value: 0.7383434976669146 and parameters: {'iterations': 1931, 'learning_rate': 0.0001537286014889103, 'depth': 6, 'l2_leaf_reg': 0.04466788871824064, 'bootstrap_type': 'Bayesian', 'od_type': 'IncToDec', 'random_strength': 39, 'border_count': 64, 'boosting_type': 'Plain'}. Best is trial 309 with value: 0.8325344175289153.\n"
     ]
    },
    {
     "name": "stdout",
     "output_type": "stream",
     "text": [
      "Score: 0.7383434976669146\n",
      "Fold 1\n",
      "Fold 2\n",
      "Fold 3\n"
     ]
    },
    {
     "name": "stderr",
     "output_type": "stream",
     "text": [
      "[I 2024-06-12 22:29:53,942] Trial 496 finished with value: 0.7363791217070297 and parameters: {'iterations': 1967, 'learning_rate': 2.0005125369495647e-05, 'depth': 6, 'l2_leaf_reg': 0.08064930503584382, 'bootstrap_type': 'Bernoulli', 'od_type': 'Iter', 'random_strength': 48, 'border_count': 80, 'boosting_type': 'Plain'}. Best is trial 309 with value: 0.8325344175289153.\n"
     ]
    },
    {
     "name": "stdout",
     "output_type": "stream",
     "text": [
      "Score: 0.7363791217070297\n",
      "Fold 1\n",
      "Fold 2\n",
      "Fold 3\n"
     ]
    },
    {
     "name": "stderr",
     "output_type": "stream",
     "text": [
      "[I 2024-06-12 22:30:32,223] Trial 497 finished with value: 0.8309901035246073 and parameters: {'iterations': 1843, 'learning_rate': 0.07865255782317802, 'depth': 5, 'l2_leaf_reg': 5.1223332924715906e-05, 'bootstrap_type': 'Bayesian', 'od_type': 'Iter', 'random_strength': 51, 'border_count': 109, 'boosting_type': 'Plain'}. Best is trial 309 with value: 0.8325344175289153.\n"
     ]
    },
    {
     "name": "stdout",
     "output_type": "stream",
     "text": [
      "Score: 0.8309901035246073\n",
      "Fold 1\n",
      "Fold 2\n",
      "Fold 3\n"
     ]
    },
    {
     "name": "stderr",
     "output_type": "stream",
     "text": [
      "[I 2024-06-12 22:31:20,745] Trial 498 finished with value: 0.7946677862897178 and parameters: {'iterations': 1785, 'learning_rate': 0.001937544828076235, 'depth': 6, 'l2_leaf_reg': 54.98233855053642, 'bootstrap_type': 'Bernoulli', 'od_type': 'Iter', 'random_strength': 31, 'border_count': 77, 'boosting_type': 'Plain'}. Best is trial 309 with value: 0.8325344175289153.\n"
     ]
    },
    {
     "name": "stdout",
     "output_type": "stream",
     "text": [
      "Score: 0.7946677862897178\n",
      "Fold 1\n",
      "Fold 2\n",
      "Fold 3\n"
     ]
    },
    {
     "name": "stderr",
     "output_type": "stream",
     "text": [
      "[I 2024-06-12 22:32:12,319] Trial 499 finished with value: 0.8220207075040689 and parameters: {'iterations': 1902, 'learning_rate': 0.008596615456420202, 'depth': 6, 'l2_leaf_reg': 0.01669109215419582, 'bootstrap_type': 'Bayesian', 'od_type': 'IncToDec', 'random_strength': 43, 'border_count': 60, 'boosting_type': 'Plain'}. Best is trial 309 with value: 0.8325344175289153.\n"
     ]
    },
    {
     "name": "stdout",
     "output_type": "stream",
     "text": [
      "Score: 0.8220207075040689\n",
      "Fold 1\n",
      "Fold 2\n",
      "Fold 3\n"
     ]
    },
    {
     "name": "stderr",
     "output_type": "stream",
     "text": [
      "[I 2024-06-12 22:33:08,383] Trial 500 finished with value: 0.7805959843782482 and parameters: {'iterations': 1970, 'learning_rate': 0.0008317472837971827, 'depth': 6, 'l2_leaf_reg': 0.0070393640818096495, 'bootstrap_type': 'Bernoulli', 'od_type': 'Iter', 'random_strength': 28, 'border_count': 174, 'boosting_type': 'Plain'}. Best is trial 309 with value: 0.8325344175289153.\n"
     ]
    },
    {
     "name": "stdout",
     "output_type": "stream",
     "text": [
      "Score: 0.7805959843782482\n",
      "Fold 1\n",
      "Fold 2\n",
      "Fold 3\n"
     ]
    },
    {
     "name": "stderr",
     "output_type": "stream",
     "text": [
      "[I 2024-06-12 22:33:57,581] Trial 501 finished with value: 0.8296434691016632 and parameters: {'iterations': 1764, 'learning_rate': 0.021290814926589584, 'depth': 6, 'l2_leaf_reg': 0.0003201251914838142, 'bootstrap_type': 'Bayesian', 'od_type': 'Iter', 'random_strength': 45, 'border_count': 99, 'boosting_type': 'Plain'}. Best is trial 309 with value: 0.8325344175289153.\n"
     ]
    },
    {
     "name": "stdout",
     "output_type": "stream",
     "text": [
      "Score: 0.8296434691016632\n",
      "Fold 1\n",
      "Fold 2\n",
      "Fold 3\n"
     ]
    },
    {
     "name": "stderr",
     "output_type": "stream",
     "text": [
      "[W 2024-06-12 22:34:28,893] Trial 502 failed with parameters: {'iterations': 1714, 'learning_rate': 0.04204947838729431, 'depth': 5, 'l2_leaf_reg': 0.002214293491983608, 'bootstrap_type': 'Bernoulli', 'od_type': 'IncToDec', 'random_strength': 40, 'border_count': 68, 'boosting_type': 'Plain'} because of the following error: KeyboardInterrupt('').\n",
      "Traceback (most recent call last):\n",
      "  File \"/home/rafael/anaconda3/envs/penidoEnv/lib/python3.9/site-packages/optuna/study/_optimize.py\", line 200, in _run_trial\n",
      "    value_or_values = func(trial)\n",
      "  File \"/tmp/ipykernel_506260/2713703381.py\", line 5, in <lambda>\n",
      "    study.optimize(lambda trial: objective(trial, X, y), n_trials=1000)\n",
      "  File \"/tmp/ipykernel_506260/3577745131.py\", line 36, in objective\n",
      "    scores,_ = cross_validation(cat, X, y, encoder, k=3)\n",
      "  File \"/tmp/ipykernel_506260/1156578783.py\", line 17, in cross_validation\n",
      "    model.fit(X_train, y_train)\n",
      "  File \"/home/rafael/anaconda3/envs/penidoEnv/lib/python3.9/site-packages/sklearn/pipeline.py\", line 405, in fit\n",
      "    self._final_estimator.fit(Xt, y, **fit_params_last_step)\n",
      "  File \"/home/rafael/anaconda3/envs/penidoEnv/lib/python3.9/site-packages/catboost/core.py\", line 5100, in fit\n",
      "    self._fit(X, y, cat_features, text_features, embedding_features, None, sample_weight, None, None, None, None, baseline, use_best_model,\n",
      "  File \"/home/rafael/anaconda3/envs/penidoEnv/lib/python3.9/site-packages/catboost/core.py\", line 2319, in _fit\n",
      "    self._train(\n",
      "  File \"/home/rafael/anaconda3/envs/penidoEnv/lib/python3.9/site-packages/catboost/core.py\", line 1723, in _train\n",
      "    self._object._train(train_pool, test_pool, params, allow_clear_pool, init_model._object if init_model else None)\n",
      "  File \"_catboost.pyx\", line 4645, in _catboost._CatBoost._train\n",
      "  File \"_catboost.pyx\", line 4694, in _catboost._CatBoost._train\n",
      "KeyboardInterrupt\n",
      "[W 2024-06-12 22:34:28,896] Trial 502 failed with value None.\n"
     ]
    },
    {
     "ename": "KeyboardInterrupt",
     "evalue": "",
     "output_type": "error",
     "traceback": [
      "\u001b[0;31m---------------------------------------------------------------------------\u001b[0m",
      "\u001b[0;31mKeyboardInterrupt\u001b[0m                         Traceback (most recent call last)",
      "\u001b[1;32m/home/rafael/Documentos/notebooks/classification_academic_success/playground-series-s4e6/models/cat_1/model.ipynb Cell 12\u001b[0m line \u001b[0;36m5\n\u001b[1;32m      <a href='vscode-notebook-cell:/home/rafael/Documentos/notebooks/classification_academic_success/playground-series-s4e6/models/cat_1/model.ipynb#X16sZmlsZQ%3D%3D?line=2'>3</a>\u001b[0m \u001b[39m# Configuração do estudo\u001b[39;00m\n\u001b[1;32m      <a href='vscode-notebook-cell:/home/rafael/Documentos/notebooks/classification_academic_success/playground-series-s4e6/models/cat_1/model.ipynb#X16sZmlsZQ%3D%3D?line=3'>4</a>\u001b[0m study \u001b[39m=\u001b[39m optuna\u001b[39m.\u001b[39mcreate_study(direction\u001b[39m=\u001b[39m\u001b[39m'\u001b[39m\u001b[39mmaximize\u001b[39m\u001b[39m'\u001b[39m, sampler\u001b[39m=\u001b[39mTPESampler(), pruner\u001b[39m=\u001b[39mMedianPruner())\n\u001b[0;32m----> <a href='vscode-notebook-cell:/home/rafael/Documentos/notebooks/classification_academic_success/playground-series-s4e6/models/cat_1/model.ipynb#X16sZmlsZQ%3D%3D?line=4'>5</a>\u001b[0m study\u001b[39m.\u001b[39;49moptimize(\u001b[39mlambda\u001b[39;49;00m trial: objective(trial, X, y), n_trials\u001b[39m=\u001b[39;49m\u001b[39m1000\u001b[39;49m)\n",
      "File \u001b[0;32m~/anaconda3/envs/penidoEnv/lib/python3.9/site-packages/optuna/study/study.py:442\u001b[0m, in \u001b[0;36mStudy.optimize\u001b[0;34m(self, func, n_trials, timeout, n_jobs, catch, callbacks, gc_after_trial, show_progress_bar)\u001b[0m\n\u001b[1;32m    339\u001b[0m \u001b[39mdef\u001b[39;00m \u001b[39moptimize\u001b[39m(\n\u001b[1;32m    340\u001b[0m     \u001b[39mself\u001b[39m,\n\u001b[1;32m    341\u001b[0m     func: ObjectiveFuncType,\n\u001b[0;32m   (...)\u001b[0m\n\u001b[1;32m    348\u001b[0m     show_progress_bar: \u001b[39mbool\u001b[39m \u001b[39m=\u001b[39m \u001b[39mFalse\u001b[39;00m,\n\u001b[1;32m    349\u001b[0m ) \u001b[39m-\u001b[39m\u001b[39m>\u001b[39m \u001b[39mNone\u001b[39;00m:\n\u001b[1;32m    350\u001b[0m \u001b[39m    \u001b[39m\u001b[39m\"\"\"Optimize an objective function.\u001b[39;00m\n\u001b[1;32m    351\u001b[0m \n\u001b[1;32m    352\u001b[0m \u001b[39m    Optimization is done by choosing a suitable set of hyperparameter values from a given\u001b[39;00m\n\u001b[0;32m   (...)\u001b[0m\n\u001b[1;32m    440\u001b[0m \u001b[39m            If nested invocation of this method occurs.\u001b[39;00m\n\u001b[1;32m    441\u001b[0m \u001b[39m    \"\"\"\u001b[39;00m\n\u001b[0;32m--> 442\u001b[0m     _optimize(\n\u001b[1;32m    443\u001b[0m         study\u001b[39m=\u001b[39;49m\u001b[39mself\u001b[39;49m,\n\u001b[1;32m    444\u001b[0m         func\u001b[39m=\u001b[39;49mfunc,\n\u001b[1;32m    445\u001b[0m         n_trials\u001b[39m=\u001b[39;49mn_trials,\n\u001b[1;32m    446\u001b[0m         timeout\u001b[39m=\u001b[39;49mtimeout,\n\u001b[1;32m    447\u001b[0m         n_jobs\u001b[39m=\u001b[39;49mn_jobs,\n\u001b[1;32m    448\u001b[0m         catch\u001b[39m=\u001b[39;49m\u001b[39mtuple\u001b[39;49m(catch) \u001b[39mif\u001b[39;49;00m \u001b[39misinstance\u001b[39;49m(catch, Iterable) \u001b[39melse\u001b[39;49;00m (catch,),\n\u001b[1;32m    449\u001b[0m         callbacks\u001b[39m=\u001b[39;49mcallbacks,\n\u001b[1;32m    450\u001b[0m         gc_after_trial\u001b[39m=\u001b[39;49mgc_after_trial,\n\u001b[1;32m    451\u001b[0m         show_progress_bar\u001b[39m=\u001b[39;49mshow_progress_bar,\n\u001b[1;32m    452\u001b[0m     )\n",
      "File \u001b[0;32m~/anaconda3/envs/penidoEnv/lib/python3.9/site-packages/optuna/study/_optimize.py:66\u001b[0m, in \u001b[0;36m_optimize\u001b[0;34m(study, func, n_trials, timeout, n_jobs, catch, callbacks, gc_after_trial, show_progress_bar)\u001b[0m\n\u001b[1;32m     64\u001b[0m \u001b[39mtry\u001b[39;00m:\n\u001b[1;32m     65\u001b[0m     \u001b[39mif\u001b[39;00m n_jobs \u001b[39m==\u001b[39m \u001b[39m1\u001b[39m:\n\u001b[0;32m---> 66\u001b[0m         _optimize_sequential(\n\u001b[1;32m     67\u001b[0m             study,\n\u001b[1;32m     68\u001b[0m             func,\n\u001b[1;32m     69\u001b[0m             n_trials,\n\u001b[1;32m     70\u001b[0m             timeout,\n\u001b[1;32m     71\u001b[0m             catch,\n\u001b[1;32m     72\u001b[0m             callbacks,\n\u001b[1;32m     73\u001b[0m             gc_after_trial,\n\u001b[1;32m     74\u001b[0m             reseed_sampler_rng\u001b[39m=\u001b[39;49m\u001b[39mFalse\u001b[39;49;00m,\n\u001b[1;32m     75\u001b[0m             time_start\u001b[39m=\u001b[39;49m\u001b[39mNone\u001b[39;49;00m,\n\u001b[1;32m     76\u001b[0m             progress_bar\u001b[39m=\u001b[39;49mprogress_bar,\n\u001b[1;32m     77\u001b[0m         )\n\u001b[1;32m     78\u001b[0m     \u001b[39melse\u001b[39;00m:\n\u001b[1;32m     79\u001b[0m         \u001b[39mif\u001b[39;00m n_jobs \u001b[39m==\u001b[39m \u001b[39m-\u001b[39m\u001b[39m1\u001b[39m:\n",
      "File \u001b[0;32m~/anaconda3/envs/penidoEnv/lib/python3.9/site-packages/optuna/study/_optimize.py:163\u001b[0m, in \u001b[0;36m_optimize_sequential\u001b[0;34m(study, func, n_trials, timeout, catch, callbacks, gc_after_trial, reseed_sampler_rng, time_start, progress_bar)\u001b[0m\n\u001b[1;32m    160\u001b[0m         \u001b[39mbreak\u001b[39;00m\n\u001b[1;32m    162\u001b[0m \u001b[39mtry\u001b[39;00m:\n\u001b[0;32m--> 163\u001b[0m     frozen_trial \u001b[39m=\u001b[39m _run_trial(study, func, catch)\n\u001b[1;32m    164\u001b[0m \u001b[39mfinally\u001b[39;00m:\n\u001b[1;32m    165\u001b[0m     \u001b[39m# The following line mitigates memory problems that can be occurred in some\u001b[39;00m\n\u001b[1;32m    166\u001b[0m     \u001b[39m# environments (e.g., services that use computing containers such as GitHub Actions).\u001b[39;00m\n\u001b[1;32m    167\u001b[0m     \u001b[39m# Please refer to the following PR for further details:\u001b[39;00m\n\u001b[1;32m    168\u001b[0m     \u001b[39m# https://github.com/optuna/optuna/pull/325.\u001b[39;00m\n\u001b[1;32m    169\u001b[0m     \u001b[39mif\u001b[39;00m gc_after_trial:\n",
      "File \u001b[0;32m~/anaconda3/envs/penidoEnv/lib/python3.9/site-packages/optuna/study/_optimize.py:251\u001b[0m, in \u001b[0;36m_run_trial\u001b[0;34m(study, func, catch)\u001b[0m\n\u001b[1;32m    244\u001b[0m         \u001b[39massert\u001b[39;00m \u001b[39mFalse\u001b[39;00m, \u001b[39m\"\u001b[39m\u001b[39mShould not reach.\u001b[39m\u001b[39m\"\u001b[39m\n\u001b[1;32m    246\u001b[0m \u001b[39mif\u001b[39;00m (\n\u001b[1;32m    247\u001b[0m     frozen_trial\u001b[39m.\u001b[39mstate \u001b[39m==\u001b[39m TrialState\u001b[39m.\u001b[39mFAIL\n\u001b[1;32m    248\u001b[0m     \u001b[39mand\u001b[39;00m func_err \u001b[39mis\u001b[39;00m \u001b[39mnot\u001b[39;00m \u001b[39mNone\u001b[39;00m\n\u001b[1;32m    249\u001b[0m     \u001b[39mand\u001b[39;00m \u001b[39mnot\u001b[39;00m \u001b[39misinstance\u001b[39m(func_err, catch)\n\u001b[1;32m    250\u001b[0m ):\n\u001b[0;32m--> 251\u001b[0m     \u001b[39mraise\u001b[39;00m func_err\n\u001b[1;32m    252\u001b[0m \u001b[39mreturn\u001b[39;00m frozen_trial\n",
      "File \u001b[0;32m~/anaconda3/envs/penidoEnv/lib/python3.9/site-packages/optuna/study/_optimize.py:200\u001b[0m, in \u001b[0;36m_run_trial\u001b[0;34m(study, func, catch)\u001b[0m\n\u001b[1;32m    198\u001b[0m \u001b[39mwith\u001b[39;00m get_heartbeat_thread(trial\u001b[39m.\u001b[39m_trial_id, study\u001b[39m.\u001b[39m_storage):\n\u001b[1;32m    199\u001b[0m     \u001b[39mtry\u001b[39;00m:\n\u001b[0;32m--> 200\u001b[0m         value_or_values \u001b[39m=\u001b[39m func(trial)\n\u001b[1;32m    201\u001b[0m     \u001b[39mexcept\u001b[39;00m exceptions\u001b[39m.\u001b[39mTrialPruned \u001b[39mas\u001b[39;00m e:\n\u001b[1;32m    202\u001b[0m         \u001b[39m# TODO(mamu): Handle multi-objective cases.\u001b[39;00m\n\u001b[1;32m    203\u001b[0m         state \u001b[39m=\u001b[39m TrialState\u001b[39m.\u001b[39mPRUNED\n",
      "\u001b[1;32m/home/rafael/Documentos/notebooks/classification_academic_success/playground-series-s4e6/models/cat_1/model.ipynb Cell 12\u001b[0m line \u001b[0;36m5\n\u001b[1;32m      <a href='vscode-notebook-cell:/home/rafael/Documentos/notebooks/classification_academic_success/playground-series-s4e6/models/cat_1/model.ipynb#X16sZmlsZQ%3D%3D?line=2'>3</a>\u001b[0m \u001b[39m# Configuração do estudo\u001b[39;00m\n\u001b[1;32m      <a href='vscode-notebook-cell:/home/rafael/Documentos/notebooks/classification_academic_success/playground-series-s4e6/models/cat_1/model.ipynb#X16sZmlsZQ%3D%3D?line=3'>4</a>\u001b[0m study \u001b[39m=\u001b[39m optuna\u001b[39m.\u001b[39mcreate_study(direction\u001b[39m=\u001b[39m\u001b[39m'\u001b[39m\u001b[39mmaximize\u001b[39m\u001b[39m'\u001b[39m, sampler\u001b[39m=\u001b[39mTPESampler(), pruner\u001b[39m=\u001b[39mMedianPruner())\n\u001b[0;32m----> <a href='vscode-notebook-cell:/home/rafael/Documentos/notebooks/classification_academic_success/playground-series-s4e6/models/cat_1/model.ipynb#X16sZmlsZQ%3D%3D?line=4'>5</a>\u001b[0m study\u001b[39m.\u001b[39moptimize(\u001b[39mlambda\u001b[39;00m trial: objective(trial, X, y), n_trials\u001b[39m=\u001b[39m\u001b[39m1000\u001b[39m)\n",
      "\u001b[1;32m/home/rafael/Documentos/notebooks/classification_academic_success/playground-series-s4e6/models/cat_1/model.ipynb Cell 12\u001b[0m line \u001b[0;36m3\n\u001b[1;32m     <a href='vscode-notebook-cell:/home/rafael/Documentos/notebooks/classification_academic_success/playground-series-s4e6/models/cat_1/model.ipynb#X16sZmlsZQ%3D%3D?line=20'>21</a>\u001b[0m cat \u001b[39m=\u001b[39m Pipeline(steps\u001b[39m=\u001b[39m[\n\u001b[1;32m     <a href='vscode-notebook-cell:/home/rafael/Documentos/notebooks/classification_academic_success/playground-series-s4e6/models/cat_1/model.ipynb#X16sZmlsZQ%3D%3D?line=21'>22</a>\u001b[0m (\u001b[39m'\u001b[39m\u001b[39mpreprocessor\u001b[39m\u001b[39m'\u001b[39m, preprocessor),\n\u001b[1;32m     <a href='vscode-notebook-cell:/home/rafael/Documentos/notebooks/classification_academic_success/playground-series-s4e6/models/cat_1/model.ipynb#X16sZmlsZQ%3D%3D?line=22'>23</a>\u001b[0m (\u001b[39m'\u001b[39m\u001b[39mclassifier\u001b[39m\u001b[39m'\u001b[39m, CatBoostClassifier(\u001b[39m*\u001b[39m\u001b[39m*\u001b[39mparams, verbose\u001b[39m=\u001b[39m\u001b[39m0\u001b[39m)),\n\u001b[1;32m     <a href='vscode-notebook-cell:/home/rafael/Documentos/notebooks/classification_academic_success/playground-series-s4e6/models/cat_1/model.ipynb#X16sZmlsZQ%3D%3D?line=23'>24</a>\u001b[0m                 ])\n\u001b[1;32m     <a href='vscode-notebook-cell:/home/rafael/Documentos/notebooks/classification_academic_success/playground-series-s4e6/models/cat_1/model.ipynb#X16sZmlsZQ%3D%3D?line=25'>26</a>\u001b[0m \u001b[39m# # Split dos dados\u001b[39;00m\n\u001b[1;32m     <a href='vscode-notebook-cell:/home/rafael/Documentos/notebooks/classification_academic_success/playground-series-s4e6/models/cat_1/model.ipynb#X16sZmlsZQ%3D%3D?line=26'>27</a>\u001b[0m \u001b[39m# X_train, X_valid, y_train, y_valid = train_test_split(X, y, test_size=0.3, random_state=42)\u001b[39;00m\n\u001b[1;32m     <a href='vscode-notebook-cell:/home/rafael/Documentos/notebooks/classification_academic_success/playground-series-s4e6/models/cat_1/model.ipynb#X16sZmlsZQ%3D%3D?line=27'>28</a>\u001b[0m \n\u001b[0;32m   (...)\u001b[0m\n\u001b[1;32m     <a href='vscode-notebook-cell:/home/rafael/Documentos/notebooks/classification_academic_success/playground-series-s4e6/models/cat_1/model.ipynb#X16sZmlsZQ%3D%3D?line=32'>33</a>\u001b[0m \u001b[39m# accuracy = accuracy_score(y_valid, preds)\u001b[39;00m\n\u001b[1;32m     <a href='vscode-notebook-cell:/home/rafael/Documentos/notebooks/classification_academic_success/playground-series-s4e6/models/cat_1/model.ipynb#X16sZmlsZQ%3D%3D?line=33'>34</a>\u001b[0m \u001b[39m# return accuracy\u001b[39;00m\n\u001b[0;32m---> <a href='vscode-notebook-cell:/home/rafael/Documentos/notebooks/classification_academic_success/playground-series-s4e6/models/cat_1/model.ipynb#X16sZmlsZQ%3D%3D?line=35'>36</a>\u001b[0m scores,_ \u001b[39m=\u001b[39m cross_validation(cat, X, y, encoder, k\u001b[39m=\u001b[39;49m\u001b[39m3\u001b[39;49m)\n\u001b[1;32m     <a href='vscode-notebook-cell:/home/rafael/Documentos/notebooks/classification_academic_success/playground-series-s4e6/models/cat_1/model.ipynb#X16sZmlsZQ%3D%3D?line=36'>37</a>\u001b[0m accuracy \u001b[39m=\u001b[39m np\u001b[39m.\u001b[39mmean(scores)\n\u001b[1;32m     <a href='vscode-notebook-cell:/home/rafael/Documentos/notebooks/classification_academic_success/playground-series-s4e6/models/cat_1/model.ipynb#X16sZmlsZQ%3D%3D?line=39'>40</a>\u001b[0m \u001b[39mreturn\u001b[39;00m accuracy\n",
      "\u001b[1;32m/home/rafael/Documentos/notebooks/classification_academic_success/playground-series-s4e6/models/cat_1/model.ipynb Cell 12\u001b[0m line \u001b[0;36m1\n\u001b[1;32m     <a href='vscode-notebook-cell:/home/rafael/Documentos/notebooks/classification_academic_success/playground-series-s4e6/models/cat_1/model.ipynb#X16sZmlsZQ%3D%3D?line=13'>14</a>\u001b[0m X_val \u001b[39m=\u001b[39m X\u001b[39m.\u001b[39miloc[val_index]\n\u001b[1;32m     <a href='vscode-notebook-cell:/home/rafael/Documentos/notebooks/classification_academic_success/playground-series-s4e6/models/cat_1/model.ipynb#X16sZmlsZQ%3D%3D?line=14'>15</a>\u001b[0m y_val \u001b[39m=\u001b[39m y\u001b[39m.\u001b[39miloc[val_index]\n\u001b[0;32m---> <a href='vscode-notebook-cell:/home/rafael/Documentos/notebooks/classification_academic_success/playground-series-s4e6/models/cat_1/model.ipynb#X16sZmlsZQ%3D%3D?line=16'>17</a>\u001b[0m model\u001b[39m.\u001b[39;49mfit(X_train, y_train)\n\u001b[1;32m     <a href='vscode-notebook-cell:/home/rafael/Documentos/notebooks/classification_academic_success/playground-series-s4e6/models/cat_1/model.ipynb#X16sZmlsZQ%3D%3D?line=17'>18</a>\u001b[0m probabilidades \u001b[39m=\u001b[39m model\u001b[39m.\u001b[39mpredict_proba(X_val)\n\u001b[1;32m     <a href='vscode-notebook-cell:/home/rafael/Documentos/notebooks/classification_academic_success/playground-series-s4e6/models/cat_1/model.ipynb#X16sZmlsZQ%3D%3D?line=19'>20</a>\u001b[0m \u001b[39m# Recuperar a predição final a partir das probabilidades\u001b[39;00m\n",
      "File \u001b[0;32m~/anaconda3/envs/penidoEnv/lib/python3.9/site-packages/sklearn/pipeline.py:405\u001b[0m, in \u001b[0;36mPipeline.fit\u001b[0;34m(self, X, y, **fit_params)\u001b[0m\n\u001b[1;32m    403\u001b[0m     \u001b[39mif\u001b[39;00m \u001b[39mself\u001b[39m\u001b[39m.\u001b[39m_final_estimator \u001b[39m!=\u001b[39m \u001b[39m\"\u001b[39m\u001b[39mpassthrough\u001b[39m\u001b[39m\"\u001b[39m:\n\u001b[1;32m    404\u001b[0m         fit_params_last_step \u001b[39m=\u001b[39m fit_params_steps[\u001b[39mself\u001b[39m\u001b[39m.\u001b[39msteps[\u001b[39m-\u001b[39m\u001b[39m1\u001b[39m][\u001b[39m0\u001b[39m]]\n\u001b[0;32m--> 405\u001b[0m         \u001b[39mself\u001b[39;49m\u001b[39m.\u001b[39;49m_final_estimator\u001b[39m.\u001b[39;49mfit(Xt, y, \u001b[39m*\u001b[39;49m\u001b[39m*\u001b[39;49mfit_params_last_step)\n\u001b[1;32m    407\u001b[0m \u001b[39mreturn\u001b[39;00m \u001b[39mself\u001b[39m\n",
      "File \u001b[0;32m~/anaconda3/envs/penidoEnv/lib/python3.9/site-packages/catboost/core.py:5100\u001b[0m, in \u001b[0;36mCatBoostClassifier.fit\u001b[0;34m(self, X, y, cat_features, text_features, embedding_features, sample_weight, baseline, use_best_model, eval_set, verbose, logging_level, plot, plot_file, column_description, verbose_eval, metric_period, silent, early_stopping_rounds, save_snapshot, snapshot_file, snapshot_interval, init_model, callbacks, log_cout, log_cerr)\u001b[0m\n\u001b[1;32m   5097\u001b[0m \u001b[39mif\u001b[39;00m \u001b[39m'\u001b[39m\u001b[39mloss_function\u001b[39m\u001b[39m'\u001b[39m \u001b[39min\u001b[39;00m params:\n\u001b[1;32m   5098\u001b[0m     CatBoostClassifier\u001b[39m.\u001b[39m_check_is_compatible_loss(params[\u001b[39m'\u001b[39m\u001b[39mloss_function\u001b[39m\u001b[39m'\u001b[39m])\n\u001b[0;32m-> 5100\u001b[0m \u001b[39mself\u001b[39;49m\u001b[39m.\u001b[39;49m_fit(X, y, cat_features, text_features, embedding_features, \u001b[39mNone\u001b[39;49;00m, sample_weight, \u001b[39mNone\u001b[39;49;00m, \u001b[39mNone\u001b[39;49;00m, \u001b[39mNone\u001b[39;49;00m, \u001b[39mNone\u001b[39;49;00m, baseline, use_best_model,\n\u001b[1;32m   5101\u001b[0m           eval_set, verbose, logging_level, plot, plot_file, column_description, verbose_eval, metric_period,\n\u001b[1;32m   5102\u001b[0m           silent, early_stopping_rounds, save_snapshot, snapshot_file, snapshot_interval, init_model, callbacks, log_cout, log_cerr)\n\u001b[1;32m   5103\u001b[0m \u001b[39mreturn\u001b[39;00m \u001b[39mself\u001b[39m\n",
      "File \u001b[0;32m~/anaconda3/envs/penidoEnv/lib/python3.9/site-packages/catboost/core.py:2319\u001b[0m, in \u001b[0;36mCatBoost._fit\u001b[0;34m(self, X, y, cat_features, text_features, embedding_features, pairs, sample_weight, group_id, group_weight, subgroup_id, pairs_weight, baseline, use_best_model, eval_set, verbose, logging_level, plot, plot_file, column_description, verbose_eval, metric_period, silent, early_stopping_rounds, save_snapshot, snapshot_file, snapshot_interval, init_model, callbacks, log_cout, log_cerr)\u001b[0m\n\u001b[1;32m   2315\u001b[0m allow_clear_pool \u001b[39m=\u001b[39m train_params[\u001b[39m\"\u001b[39m\u001b[39mallow_clear_pool\u001b[39m\u001b[39m\"\u001b[39m]\n\u001b[1;32m   2317\u001b[0m \u001b[39mwith\u001b[39;00m log_fixup(log_cout, log_cerr), \\\n\u001b[1;32m   2318\u001b[0m     plot_wrapper(plot, plot_file, \u001b[39m'\u001b[39m\u001b[39mTraining plots\u001b[39m\u001b[39m'\u001b[39m, [_get_train_dir(\u001b[39mself\u001b[39m\u001b[39m.\u001b[39mget_params())]):\n\u001b[0;32m-> 2319\u001b[0m     \u001b[39mself\u001b[39;49m\u001b[39m.\u001b[39;49m_train(\n\u001b[1;32m   2320\u001b[0m         train_pool,\n\u001b[1;32m   2321\u001b[0m         train_params[\u001b[39m\"\u001b[39;49m\u001b[39meval_sets\u001b[39;49m\u001b[39m\"\u001b[39;49m],\n\u001b[1;32m   2322\u001b[0m         params,\n\u001b[1;32m   2323\u001b[0m         allow_clear_pool,\n\u001b[1;32m   2324\u001b[0m         train_params[\u001b[39m\"\u001b[39;49m\u001b[39minit_model\u001b[39;49m\u001b[39m\"\u001b[39;49m]\n\u001b[1;32m   2325\u001b[0m     )\n\u001b[1;32m   2327\u001b[0m \u001b[39m# Have property feature_importance possibly set\u001b[39;00m\n\u001b[1;32m   2328\u001b[0m loss \u001b[39m=\u001b[39m \u001b[39mself\u001b[39m\u001b[39m.\u001b[39m_object\u001b[39m.\u001b[39m_get_loss_function_name()\n",
      "File \u001b[0;32m~/anaconda3/envs/penidoEnv/lib/python3.9/site-packages/catboost/core.py:1723\u001b[0m, in \u001b[0;36m_CatBoostBase._train\u001b[0;34m(self, train_pool, test_pool, params, allow_clear_pool, init_model)\u001b[0m\n\u001b[1;32m   1722\u001b[0m \u001b[39mdef\u001b[39;00m \u001b[39m_train\u001b[39m(\u001b[39mself\u001b[39m, train_pool, test_pool, params, allow_clear_pool, init_model):\n\u001b[0;32m-> 1723\u001b[0m     \u001b[39mself\u001b[39;49m\u001b[39m.\u001b[39;49m_object\u001b[39m.\u001b[39;49m_train(train_pool, test_pool, params, allow_clear_pool, init_model\u001b[39m.\u001b[39;49m_object \u001b[39mif\u001b[39;49;00m init_model \u001b[39melse\u001b[39;49;00m \u001b[39mNone\u001b[39;49;00m)\n\u001b[1;32m   1724\u001b[0m     \u001b[39mself\u001b[39m\u001b[39m.\u001b[39m_set_trained_model_attributes()\n",
      "File \u001b[0;32m_catboost.pyx:4645\u001b[0m, in \u001b[0;36m_catboost._CatBoost._train\u001b[0;34m()\u001b[0m\n",
      "File \u001b[0;32m_catboost.pyx:4694\u001b[0m, in \u001b[0;36m_catboost._CatBoost._train\u001b[0;34m()\u001b[0m\n",
      "\u001b[0;31mKeyboardInterrupt\u001b[0m: "
     ]
    }
   ],
   "source": [
    "warnings.filterwarnings(\"ignore\")\n",
    "\n",
    "# Configuração do estudo\n",
    "study = optuna.create_study(direction='maximize', sampler=TPESampler(), pruner=MedianPruner())\n",
    "study.optimize(lambda trial: objective(trial, X, y), n_trials=1000)"
   ]
  },
  {
   "cell_type": "code",
   "execution_count": 29,
   "metadata": {},
   "outputs": [
    {
     "name": "stdout",
     "output_type": "stream",
     "text": [
      "Best trial: 309\n",
      "Best value: 0.8325344175289153\n",
      "Best params: {'iterations': 1740, 'learning_rate': 0.04505281135910402, 'depth': 6, 'l2_leaf_reg': 0.07065084253966697, 'bootstrap_type': 'Bernoulli', 'od_type': 'IncToDec', 'random_strength': 40, 'border_count': 95, 'boosting_type': 'Plain'}\n"
     ]
    }
   ],
   "source": [
    "# Melhor conjunto de hiperparâmetros\n",
    "print(f\"Best trial: {study.best_trial.number}\")\n",
    "print(f\"Best value: {study.best_value}\")\n",
    "print(f\"Best params: {study.best_trial.params}\")"
   ]
  },
  {
   "cell_type": "code",
   "execution_count": 42,
   "metadata": {},
   "outputs": [],
   "source": [
    "cat_best_params = {'iterations': 1740, 'learning_rate': 0.04505281135910402, 'depth': 6, 'l2_leaf_reg': 0.07065084253966697, 'bootstrap_type': 'Bernoulli', 'od_type': 'IncToDec', 'random_strength': 40, 'border_count': 95, 'boosting_type': 'Plain'}\n",
    "# cat_best_params = {'iterations': 956, 'learning_rate': 0.0450347941806318, 'depth': 7, 'l2_leaf_reg': 2.419872461609025e-05, 'bootstrap_type': 'MVS', 'od_type': 'IncToDec', 'random_strength': 6, 'border_count': 132, 'boosting_type': 'Plain'}"
   ]
  },
  {
   "cell_type": "code",
   "execution_count": 43,
   "metadata": {},
   "outputs": [],
   "source": [
    "cat = Pipeline(steps=[\n",
    "    ('preprocessor', preprocessor),\n",
    "    ('classifier', CatBoostClassifier(**cat_best_params, verbose=0)),\n",
    "])"
   ]
  },
  {
   "cell_type": "code",
   "execution_count": 44,
   "metadata": {},
   "outputs": [
    {
     "name": "stdout",
     "output_type": "stream",
     "text": [
      "Fold 1\n",
      "Fold 2\n",
      "Fold 3\n",
      "Fold 4\n",
      "Fold 5\n",
      "Score: 0.8321761308455409\n"
     ]
    }
   ],
   "source": [
    "scores,oof = cross_validation(cat, X, y, encoder)"
   ]
  },
  {
   "cell_type": "code",
   "execution_count": 41,
   "metadata": {},
   "outputs": [
    {
     "data": {
      "text/plain": [
       "[0.8307492741985298,\n",
       " 0.8321699919698561,\n",
       " 0.8302446256486287,\n",
       " 0.82981220657277,\n",
       " 0.8335186557944156]"
      ]
     },
     "execution_count": 41,
     "metadata": {},
     "output_type": "execute_result"
    }
   ],
   "source": [
    "scores"
   ]
  },
  {
   "cell_type": "code",
   "execution_count": 45,
   "metadata": {},
   "outputs": [
    {
     "data": {
      "text/plain": [
       "[0.8322935326456236,\n",
       " 0.8316758292667861,\n",
       " 0.8320360761057574,\n",
       " 0.830491722263405,\n",
       " 0.834383493946133]"
      ]
     },
     "execution_count": 45,
     "metadata": {},
     "output_type": "execute_result"
    }
   ],
   "source": [
    "scores"
   ]
  },
  {
   "cell_type": "code",
   "execution_count": 46,
   "metadata": {},
   "outputs": [],
   "source": [
    "for fold in oof:\n",
    "    fold['true'] = fold['true'].replace(encoder)\n",
    "\n",
    "save_oof(oof)"
   ]
  },
  {
   "cell_type": "code",
   "execution_count": null,
   "metadata": {},
   "outputs": [],
   "source": []
  }
 ],
 "metadata": {
  "kernelspec": {
   "display_name": "penidoEnv",
   "language": "python",
   "name": "python3"
  },
  "language_info": {
   "codemirror_mode": {
    "name": "ipython",
    "version": 3
   },
   "file_extension": ".py",
   "mimetype": "text/x-python",
   "name": "python",
   "nbconvert_exporter": "python",
   "pygments_lexer": "ipython3",
   "version": "3.9.16"
  }
 },
 "nbformat": 4,
 "nbformat_minor": 2
}
